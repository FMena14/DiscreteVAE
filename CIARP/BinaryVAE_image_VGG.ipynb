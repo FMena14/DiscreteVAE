{
 "cells": [
  {
   "cell_type": "markdown",
   "metadata": {},
   "source": [
    "<img src=\"http://www.exalumnos.usm.cl/wp-content/uploads/2015/06/Isotipo-Negro.gif\" title=\"Title text\" width=\"20%\" height=\"20%\" />\n",
    "\n",
    "\n",
    "<hr style=\"height:2px;border:none\"/>\n",
    "<h1 align='center'> Binary Variational Semantic Hashing </h1>\n",
    "\n",
    "<H3 align='center'> Extensión trabajo CIARP </H3>\n",
    "<hr style=\"height:2px;border:none\"/>"
   ]
  },
  {
   "cell_type": "code",
   "execution_count": 7,
   "metadata": {
    "collapsed": false,
    "scrolled": true
   },
   "outputs": [],
   "source": [
    "import numpy as np\n",
    "import keras,gc, os, time, sys\n",
    "from keras.layers import *\n",
    "from keras.models import Sequential,Model\n",
    "from keras import backend as K\n",
    "from astropy.table import Table\n",
    "import matplotlib.pyplot as plt\n",
    "import seaborn as sns\n",
    "import pandas as pd\n",
    "from PIL import Image\n",
    "from scipy.special import expit\n",
    "\n",
    "from base_networks import *\n",
    "from utils import check_availability, load_imgs_mask\n",
    "\n",
    "from utils import get_topK_labels,set_newlabel_list, enmask_data\n",
    "\n",
    "np.random.seed(20)"
   ]
  },
  {
   "cell_type": "code",
   "execution_count": 2,
   "metadata": {
    "collapsed": false
   },
   "outputs": [
    {
     "name": "stdout",
     "output_type": "stream",
     "text": [
      "celeba_VGG_avg.npy   cifar10_VGG.npy\tmnist_VGG.npy\t     nuswide_VGG.npy\r\n",
      "cifar10_VGG_avg.npy  mnist_VGG_avg.npy\tnuswide_VGG_avg.npy\r\n"
     ]
    }
   ],
   "source": [
    "!ls Data/VGG_128"
   ]
  },
  {
   "cell_type": "markdown",
   "metadata": {},
   "source": [
    "## Load Data\n",
    "\n",
    "### MNIST\n",
    "---\n",
    "\n",
    "Imágenes en blanco y negro de 28x28 píxeles, de números del 0 al 9, que dan orígen a las 10 clases del problema.\n",
    "\n",
    "|Tipo set|Datos|Label|\n",
    "|---|---|---|\n",
    "|Entrenamiento|60000|10|\n",
    "|Pruebas|10000|10|"
   ]
  },
  {
   "cell_type": "code",
   "execution_count": 33,
   "metadata": {
    "collapsed": false
   },
   "outputs": [
    {
     "data": {
      "text/plain": [
       "(70000, 512)"
      ]
     },
     "execution_count": 33,
     "metadata": {},
     "output_type": "execute_result"
    }
   ],
   "source": [
    "name_dat = \"MNIST\"\n",
    "\n",
    "(_, aux_t), (_, aux_test) = keras.datasets.mnist.load_data()\n",
    "labels = [\"0\", \"1\", \"2\", \"3\", \"4\", \"5\", \"6\", \"7\", \"8\", \"9\"]\n",
    "labels_t = np.asarray([labels[value] for value in aux_t])\n",
    "labels_test = np.asarray([labels[value] for value in aux_test])\n",
    "labels_t = np.concatenate((labels_t,labels_test),axis=0)\n",
    "\n",
    "#X_t = np.load(\"./Data/VGG_CNN/mnist_VGG_avg.npy\")\n",
    "#X_t = np.load(\"./Data/VGG_64/mnist_VGG_avg.npy\")\n",
    "X_t = np.load(\"./Data/VGG_128/mnist_VGG_avg.npy\")\n",
    "\n",
    "X_t.shape"
   ]
  },
  {
   "cell_type": "code",
   "execution_count": 34,
   "metadata": {
    "collapsed": false
   },
   "outputs": [
    {
     "name": "stdout",
     "output_type": "stream",
     "text": [
      "Cantidad de datos Entrenamiento:  69000\n",
      "Cantidad de datos Pruebas:  1000\n"
     ]
    }
   ],
   "source": [
    "##### 1000 imagenes de prueba... \n",
    "from utils import sample_test_mask\n",
    "mask_train = sample_test_mask(labels_t, N=100, multi_label=False)\n",
    "\n",
    "## creat test como dicen...\n",
    "X_test = X_t[~mask_train]\n",
    "X_t = X_t[mask_train]\n",
    "labels_test = enmask_data(labels_t, ~mask_train)\n",
    "labels_t = enmask_data(labels_t, mask_train)\n",
    "\n",
    "gc.collect()\n",
    "print(\"Cantidad de datos Entrenamiento: \",len(X_t))\n",
    "print(\"Cantidad de datos Pruebas: \",len(X_test))"
   ]
  },
  {
   "cell_type": "markdown",
   "metadata": {
    "collapsed": true
   },
   "source": [
    "### CIFAR-10\n",
    "---\n",
    "Imágenes RGB pequeñas de  32x32 píxeles, de fotos naturales de distintos objetos.\n",
    "\n",
    "|Tipo set|Datos|Label|\n",
    "|---|---|---|\n",
    "|Entrenamiento|50000|10|\n",
    "|Pruebas|10000|10|"
   ]
  },
  {
   "cell_type": "code",
   "execution_count": 35,
   "metadata": {
    "collapsed": false,
    "scrolled": false
   },
   "outputs": [
    {
     "data": {
      "text/plain": [
       "(60000, 512)"
      ]
     },
     "execution_count": 35,
     "metadata": {},
     "output_type": "execute_result"
    }
   ],
   "source": [
    "name_dat = \"CIFAR-10\"\n",
    "\n",
    "(_, aux_t), (_, aux_test) = keras.datasets.cifar10.load_data()\n",
    "\n",
    "labels = [\"airplane\", \"automobile\",\"bird\", \"cat\",\"deer\",\"dog\",\"frog\",\"horse\",\"ship\",\"truck\"]\n",
    "labels_t = np.asarray([labels[value[0]] for value in aux_t])\n",
    "labels_test = np.asarray([labels[value[0]] for value in aux_test])\n",
    "labels_t = np.concatenate((labels_t,labels_test),axis=0)\n",
    "\n",
    "#X_t = np.load(\"./Data/VGG_CNN/cifar10_VGG_avg.npy\")\n",
    "#X_t = np.load(\"./Data/VGG_64/cifar10_VGG_avg.npy\") #mejora\n",
    "\n",
    "X_t = np.load(\"./Data/VGG_128/cifar10_VGG_avg.npy\") #mejora\n",
    "#X_t = np.load(\"./Data/VGG_224/cifar10_VGG_avg.npy\") #mejora\n",
    "\n",
    "X_t.shape"
   ]
  },
  {
   "cell_type": "code",
   "execution_count": 36,
   "metadata": {
    "collapsed": false
   },
   "outputs": [
    {
     "name": "stdout",
     "output_type": "stream",
     "text": [
      "Cantidad de datos Entrenamiento:  59000\n",
      "Cantidad de datos Pruebas:  1000\n"
     ]
    }
   ],
   "source": [
    "##### 1000 imagenes de prueba... \n",
    "from utils import sample_test_mask\n",
    "mask_train = sample_test_mask(labels_t, N=100, multi_label=False)\n",
    "\n",
    "## creat test como dicen...\n",
    "X_test = X_t[~mask_train]\n",
    "X_t = X_t[mask_train]\n",
    "labels_test = enmask_data(labels_t, ~mask_train)\n",
    "labels_t = enmask_data(labels_t, mask_train)\n",
    "\n",
    "gc.collect()\n",
    "print(\"Cantidad de datos Entrenamiento: \",len(X_t))\n",
    "print(\"Cantidad de datos Pruebas: \",len(X_test))"
   ]
  },
  {
   "cell_type": "markdown",
   "metadata": {},
   "source": [
    "### NUSWIDE\n",
    "---\n",
    "* Cantidad de datos totales: 269648\n",
    "* Datos utlizados (con imagenes disponibles a descargar): 169500\n",
    "* Datos top-21 clases: 158383\n",
    "\n",
    "Imágenes de eventos con 81 tópicos asociados, re-dimensionadas a 64x64.\n",
    "\n",
    "|Tipo set|Datos|Label|\n",
    "|---|---|---|\n",
    "|Entrenamiento|xxx|81|\n",
    "|Validación|xxx|81|\n",
    "|Pruebas|xxx|81|"
   ]
  },
  {
   "cell_type": "code",
   "execution_count": 62,
   "metadata": {
    "collapsed": false,
    "scrolled": true
   },
   "outputs": [
    {
     "name": "stdout",
     "output_type": "stream",
     "text": [
      "Cantidad de labels:  81\n",
      "Cantidad de objetos:  169500\n"
     ]
    },
    {
     "data": {
      "text/plain": [
       "[['person'], ['person'], ['person'], ['person'], ['person']]"
      ]
     },
     "execution_count": 62,
     "metadata": {},
     "output_type": "execute_result"
    }
   ],
   "source": [
    "name_dat = \"Nus-Wide\"\n",
    "\n",
    "folder = \"../Dataset_NUSWIDE/\"\n",
    "folder_imgs_name = folder+\"small_images/\"\n",
    "\n",
    "mask_av = np.loadtxt(\"./Data/\"+name_dat+\"_mask_avail.txt\").astype(bool)\n",
    "\n",
    "labels = pd.read_csv(folder+'Concepts81.txt',header=None).values.reshape(1,-1)[0]\n",
    "print(\"Cantidad de labels: \",len(labels) )\n",
    "\n",
    "labels_t = [[] for _ in range(269648)]\n",
    "for concept in labels:\n",
    "    aux = pd.read_csv(folder+\"Groundtruth/AllLabels/Labels_\"+concept+\".txt\",header=None)\n",
    "    indexs_true = aux.loc[(aux==1).values[:,0]].index\n",
    "    \n",
    "    for value in indexs_true:\n",
    "        labels_t[value].append(concept)\n",
    "        \n",
    "labels_t = enmask_data(labels_t, mask_av)\n",
    "N_total = len(labels_t)\n",
    "print(\"Cantidad de objetos: \",N_total )\n",
    "\n",
    "labels_t[:5]"
   ]
  },
  {
   "cell_type": "markdown",
   "metadata": {},
   "source": [
    "#### get top-K labels data"
   ]
  },
  {
   "cell_type": "code",
   "execution_count": 63,
   "metadata": {
    "collapsed": false
   },
   "outputs": [
    {
     "name": "stdout",
     "output_type": "stream",
     "text": [
      "category with most data (sky) has = 61066, the top-K category (mountain) has = 4232\n",
      "Cantidad de objetos:  158383\n"
     ]
    }
   ],
   "source": [
    "new_labels = get_topK_labels(labels_t, labels, K=21)\n",
    "\n",
    "labels_t = set_newlabel_list(new_labels, labels_t)\n",
    "labels = new_labels\n",
    "# y si quedan datos sin clase?\n",
    "mask_used_t = np.asarray(list(map(len,labels_t))) != 0\n",
    "\n",
    "labels_t = enmask_data(labels_t, mask_used_t)\n",
    "print(\"Cantidad de objetos: \", len(labels_t) )"
   ]
  },
  {
   "cell_type": "markdown",
   "metadata": {},
   "source": [
    "N_used = 80*1000 #o 150k??\n",
    "idx_all = np.arange(0, N_total)\n",
    "mask_used = np.zeros(N_total, dtype=bool)\n",
    "mask_used[np.random.choice(np.arange(0, N_total), size=N_used, replace=False)] = 1\n",
    "mask_used"
   ]
  },
  {
   "cell_type": "code",
   "execution_count": 64,
   "metadata": {
    "collapsed": false,
    "scrolled": true
   },
   "outputs": [
    {
     "data": {
      "text/plain": [
       "(158383, 512)"
      ]
     },
     "execution_count": 64,
     "metadata": {},
     "output_type": "execute_result"
    }
   ],
   "source": [
    "#X_t = np.load(\"./Data/VGG_CNN/nuswide_VGG.npy\")\n",
    "#X_t = np.load(\"./Data/VGG_CNN/nuswide_VGG_avg.npy\")\n",
    "X_t = np.load(\"./Data/VGG_128/nuswide_VGG_avg.npy\")\n",
    "X_t.shape"
   ]
  },
  {
   "cell_type": "code",
   "execution_count": 65,
   "metadata": {
    "collapsed": false
   },
   "outputs": [
    {
     "name": "stdout",
     "output_type": "stream",
     "text": [
      "Cantidad de datos Entrenamiento:  156283\n",
      "Cantidad de datos Pruebas:  2100\n"
     ]
    }
   ],
   "source": [
    "from utils import sample_test_mask\n",
    "mask_train = sample_test_mask(labels_t, N=100)\n",
    "\n",
    "## creat test como dicen...\n",
    "X_test = X_t[~mask_train]\n",
    "X_t = X_t[mask_train]\n",
    "labels_test = enmask_data(labels_t, ~mask_train)\n",
    "labels_t = enmask_data(labels_t, mask_train)\n",
    "\n",
    "gc.collect()\n",
    "print(\"Cantidad de datos Entrenamiento: \",len(X_t))\n",
    "print(\"Cantidad de datos Pruebas: \",len(X_test))"
   ]
  },
  {
   "cell_type": "markdown",
   "metadata": {
    "collapsed": true
   },
   "source": [
    "### CelebA\n",
    "---\n",
    "* Cantidad de datos totales: 202599\n",
    "* Datos en plataforma Kaggle:https://www.kaggle.com/jessicali9530/celeba-dataset \n",
    "\n",
    "Imágenes RGB re-dimensionadas a 64x64 píxeles, de fotos naturales de rostros de celebridades. Una muestra es utilizada\n",
    "\n",
    "|Tipo set|Datos|Label|\n",
    "|---|---|---|\n",
    "|Entrenamiento|xxx|40|\n",
    "|Validación|xxx|40|\n",
    "|Pruebas|xxx|40|"
   ]
  },
  {
   "cell_type": "markdown",
   "metadata": {},
   "source": [
    "mask_av = check_availability(folder+\"small_images/\", labels_t)\n",
    "np.savetxt(\"./Data/+\"name_dat+\"_mask_avail.txt\", mask_av, fmt=\"%1i\")"
   ]
  },
  {
   "cell_type": "code",
   "execution_count": 3,
   "metadata": {
    "collapsed": false
   },
   "outputs": [
    {
     "data": {
      "image/png": "[encoded data removed]",
      "text/plain": [
       "<matplotlib.figure.Figure at 0x7f3c7d4d74a8>"
      ]
     },
     "metadata": {},
     "output_type": "display_data"
    }
   ],
   "source": [
    "sns.boxplot(list(map(len,labels_t)))\n",
    "plt.title(\"Boxplot de cantidad de topics por imagen\")\n",
    "plt.show()"
   ]
  },
  {
   "cell_type": "code",
   "execution_count": 92,
   "metadata": {
    "collapsed": false,
    "scrolled": true
   },
   "outputs": [
    {
     "name": "stdout",
     "output_type": "stream",
     "text": [
      "Cantidad de labels:  40\n",
      "Cantidad de objetos:  202599\n"
     ]
    },
    {
     "data": {
      "text/plain": [
       "['5_o_Clock_Shadow',\n",
       " 'Arched_Eyebrows',\n",
       " 'Attractive',\n",
       " 'Bags_Under_Eyes',\n",
       " 'Bald']"
      ]
     },
     "execution_count": 92,
     "metadata": {},
     "output_type": "execute_result"
    }
   ],
   "source": [
    "name_dat = \"CelebA\"\n",
    "mask_av = np.loadtxt(\"./Data/\"+name_dat+\"_mask_avail.txt\").astype(bool)\n",
    "\n",
    "folder = \"../CelebA/\"\n",
    "\n",
    "part = pd.read_csv(folder+\"list_eval_partition.csv\")\n",
    "mask_train = (part[\"partition\"].values == 0)[mask_av]\n",
    "mask_val = (part[\"partition\"].values == 1)[mask_av]\n",
    "mask_test = (part[\"partition\"].values == 2)[mask_av]\n",
    "\n",
    "df_atrr = pd.read_csv(folder+\"list_attr_celeba.csv\")[mask_av]\n",
    "img_names = df_atrr[\"image_id\"].values\n",
    "labels = list(df_atrr.columns[1:])\n",
    "print(\"Cantidad de labels: \",len(labels) )\n",
    "\n",
    "N_total = len(df_atrr)\n",
    "print(\"Cantidad de objetos: \",N_total )\n",
    "aux = (df_atrr == 1).values\n",
    "labels_t = np.asarray([list(df_atrr.columns[aux[value]]) for value in range(N_total)])\n",
    "labels[:5]"
   ]
  },
  {
   "cell_type": "code",
   "execution_count": 93,
   "metadata": {
    "collapsed": false
   },
   "outputs": [
    {
     "data": {
      "text/plain": [
       "(202599, 512)"
      ]
     },
     "execution_count": 93,
     "metadata": {},
     "output_type": "execute_result"
    }
   ],
   "source": [
    "X_t = np.load(\"./Data/VGG_128/celeba_VGG_avg.npy\")\n",
    "X_t.shape"
   ]
  },
  {
   "cell_type": "code",
   "execution_count": 94,
   "metadata": {
    "collapsed": false
   },
   "outputs": [
    {
     "name": "stdout",
     "output_type": "stream",
     "text": [
      "Cantidad de datos Entrenamiento:  198599\n",
      "Cantidad de datos Pruebas:  4000\n"
     ]
    }
   ],
   "source": [
    "from utils import sample_test_mask\n",
    "mask_train = sample_test_mask(labels_t, N=100)\n",
    "\n",
    "## creat test como dicen...\n",
    "X_test = X_t[~mask_train]\n",
    "X_t = X_t[mask_train]\n",
    "labels_test = enmask_data(labels_t, ~mask_train)\n",
    "labels_t = enmask_data(labels_t, mask_train)\n",
    "\n",
    "gc.collect()\n",
    "print(\"Cantidad de datos Entrenamiento: \",len(X_t))\n",
    "print(\"Cantidad de datos Pruebas: \",len(X_test))"
   ]
  },
  {
   "cell_type": "markdown",
   "metadata": {},
   "source": [
    "### Validation creation\n",
    "\n",
    "Pre-process: División por 255"
   ]
  },
  {
   "cell_type": "code",
   "execution_count": 35,
   "metadata": {
    "collapsed": false,
    "scrolled": false
   },
   "outputs": [
    {
     "data": {
      "text/plain": [
       "array([[-0.01111989, -0.11184615, -0.1498022 , ..., -0.31169224,\n",
       "         0.69140774, -0.5642056 ],\n",
       "       [-0.01111989, -0.11184615, -0.1498022 , ..., -0.31169224,\n",
       "        -1.256413  , -0.5642056 ],\n",
       "       [-0.01111989, -0.11184615, -0.1498022 , ..., -0.31169224,\n",
       "         0.19021511,  0.39075068],\n",
       "       ...,\n",
       "       [-0.01111989, -0.11184615,  0.50946474, ..., -0.31169224,\n",
       "        -0.3174135 ,  1.3644001 ],\n",
       "       [-0.01111989, -0.11184615, -0.1498022 , ..., -0.31169224,\n",
       "        -0.4524642 , -0.5642056 ],\n",
       "       [-0.01111989, -0.11184615, -0.1498022 , ..., -0.31169224,\n",
       "         2.0684183 ,  0.22856563]], dtype=float32)"
      ]
     },
     "execution_count": 35,
     "metadata": {},
     "output_type": "execute_result"
    }
   ],
   "source": [
    "from sklearn.preprocessing import StandardScaler\n",
    "std = StandardScaler(with_mean=True, with_std=True)\n",
    "std.fit(X_t)\n",
    "\n",
    "X_t = std.transform(X_t)\n",
    "X_test = std.transform(X_test)\n",
    "X_t"
   ]
  },
  {
   "cell_type": "code",
   "execution_count": 36,
   "metadata": {
    "collapsed": false,
    "scrolled": true
   },
   "outputs": [
    {
     "name": "stdout",
     "output_type": "stream",
     "text": [
      "Cantidad de datos Entrenamiento:  68000\n",
      "Cantidad de datos Validación:  1000\n",
      "Cantidad de datos Pruebas:  1000\n"
     ]
    },
    {
     "data": {
      "text/plain": [
       "10"
      ]
     },
     "execution_count": 36,
     "metadata": {},
     "output_type": "execute_result"
    }
   ],
   "source": [
    "from sklearn.model_selection import train_test_split\n",
    "X_train, X_val, labels_train, labels_val  = train_test_split(X_t, labels_t, random_state=20,test_size=len(X_test))\n",
    "\n",
    "print(\"Cantidad de datos Entrenamiento: \",len(X_train))\n",
    "print(\"Cantidad de datos Validación: \",len(X_val))\n",
    "print(\"Cantidad de datos Pruebas: \",len(X_test))\n",
    "del X_t, labels_t\n",
    "gc.collect()"
   ]
  },
  {
   "cell_type": "markdown",
   "metadata": {},
   "source": [
    "### Model Architecture\n",
    "---\n",
    "CNN\n",
    "https://github.com/rtflynn/Cifar-Autoencoder"
   ]
  },
  {
   "cell_type": "code",
   "execution_count": 14,
   "metadata": {
    "collapsed": false
   },
   "outputs": [],
   "source": [
    "def REC_loss(x_true, x_pred):\n",
    "    return K.mean( (x_true- x_pred)**2 ,axis=-1) "
   ]
  },
  {
   "cell_type": "code",
   "execution_count": 15,
   "metadata": {
    "collapsed": false,
    "scrolled": true
   },
   "outputs": [
    {
     "name": "stdout",
     "output_type": "stream",
     "text": [
      "pre-encoder network:\n",
      "_________________________________________________________________\n",
      "Layer (type)                 Output Shape              Param #   \n",
      "=================================================================\n",
      "input_1 (InputLayer)         (None, 512)               0         \n",
      "_________________________________________________________________\n",
      "dense_1 (Dense)              (None, 500)               256500    \n",
      "_________________________________________________________________\n",
      "batch_normalization_1 (Batch (None, 500)               2000      \n",
      "_________________________________________________________________\n",
      "dense_2 (Dense)              (None, 500)               250500    \n",
      "_________________________________________________________________\n",
      "batch_normalization_2 (Batch (None, 500)               2000      \n",
      "=================================================================\n",
      "Total params: 511,000\n",
      "Trainable params: 509,000\n",
      "Non-trainable params: 2,000\n",
      "_________________________________________________________________\n",
      "generator network:\n",
      "_________________________________________________________________\n",
      "Layer (type)                 Output Shape              Param #   \n",
      "=================================================================\n",
      "input_2 (InputLayer)         (None, 32)                0         \n",
      "_________________________________________________________________\n",
      "dense_3 (Dense)              (None, 512)               16896     \n",
      "=================================================================\n",
      "Total params: 16,896\n",
      "Trainable params: 16,896\n",
      "Non-trainable params: 0\n",
      "_________________________________________________________________\n",
      "____________________________________________________________________________________________________\n",
      "Layer (type)                     Output Shape          Param #     Connected to                     \n",
      "====================================================================================================\n",
      "input_3 (InputLayer)             (None, 512)           0                                            \n",
      "____________________________________________________________________________________________________\n",
      "pre-encoder (Sequential)         (None, 500)           511000      input_3[0][0]                    \n",
      "____________________________________________________________________________________________________\n",
      "z-mean (Dense)                   (None, 32)            16032       pre-encoder[1][0]                \n",
      "____________________________________________________________________________________________________\n",
      "z-log_var (Dense)                (None, 32)            16032       pre-encoder[1][0]                \n",
      "____________________________________________________________________________________________________\n",
      "sampled (Lambda)                 (None, 32)            0           z-mean[0][0]                     \n",
      "                                                                   z-log_var[0][0]                  \n",
      "____________________________________________________________________________________________________\n",
      "generator/decoder (Sequential)   (None, 512)           16896       sampled[0][0]                    \n",
      "====================================================================================================\n",
      "Total params: 559,960\n",
      "Trainable params: 557,960\n",
      "Non-trainable params: 2,000\n",
      "____________________________________________________________________________________________________\n"
     ]
    }
   ],
   "source": [
    "def traditional_VAE(data_dim,Nb,units,layers_e,layers_d,opt='adam',BN=True, beta_ann=False):\n",
    "    pre_encoder = define_pre_encoder(data_dim, layers=layers_e,units=units,BN=BN)\n",
    "    print(\"pre-encoder network:\")\n",
    "    pre_encoder.summary()\n",
    "    generator = define_generator(Nb,data_dim,layers=layers_d,units=units,BN=BN, out_type='linear')\n",
    "    print(\"generator network:\")\n",
    "    generator.summary()\n",
    "    \n",
    "    ## Encoder\n",
    "    x = Input(shape=(data_dim,))\n",
    "    hidden = pre_encoder(x)\n",
    "    z_mean = Dense(Nb,activation='linear', name='z-mean')(hidden)\n",
    "    z_log_var = Dense(Nb,activation='linear',name = 'z-log_var')(hidden)\n",
    "    encoder = Model(x, z_mean) # build a model to project inputs on the latent space\n",
    "\n",
    "    def sampling(args):\n",
    "        epsilon_std = 1.0\n",
    "        z_mean, z_log_var = args\n",
    "        epsilon = K.random_normal(shape=(K.shape(z_mean)[0], Nb),mean=0., stddev=epsilon_std)\n",
    "        return z_mean + K.exp(0.5*z_log_var) * epsilon #+sigma (desvest)\n",
    "    \n",
    "    ## Decoder\n",
    "    z_sampled = Lambda(sampling, output_shape=(Nb,), name='sampled')([z_mean, z_log_var])\n",
    "    output = generator(z_sampled)\n",
    "    \n",
    "    if beta_ann:\n",
    "        beta = K.variable(0., name=\"kl_weight\")\n",
    "    else:\n",
    "        beta = 1./10 #value is not tested\n",
    "    \n",
    "    Recon_loss = REC_loss\n",
    "    kl_loss = KL_loss(z_mean,z_log_var)\n",
    "    def VAE_loss(y_true, y_pred): \n",
    "        return Recon_loss(y_true, y_pred) + beta*kl_loss(y_true, y_pred)\n",
    "\n",
    "    traditional_vae = Model(x, output)\n",
    "    traditional_vae.compile(optimizer=opt, loss=VAE_loss, metrics = [Recon_loss,kl_loss])\n",
    "    \n",
    "    if beta_ann:\n",
    "        return traditional_vae, encoder,generator ,beta\n",
    "    else:\n",
    "        return traditional_vae, encoder,generator\n",
    "\n",
    "#traditional_vae,encoder_Tvae,generator_Tvae = traditional_VAE(X_train.shape[1],Nb=32,units=500,layers_e=2,layers_d=0)\n",
    "traditional_vae,encoder_Tvae,generator_Tvae,beta_T = traditional_VAE(X_train.shape[1],Nb=32,units=500,layers_e=2,layers_d=0,beta_ann=True)\n",
    "traditional_vae.summary()"
   ]
  },
  {
   "cell_type": "code",
   "execution_count": 16,
   "metadata": {
    "collapsed": false,
    "scrolled": true
   },
   "outputs": [
    {
     "name": "stdout",
     "output_type": "stream",
     "text": [
      "pre-encoder network:\n",
      "_________________________________________________________________\n",
      "Layer (type)                 Output Shape              Param #   \n",
      "=================================================================\n",
      "input_4 (InputLayer)         (None, 512)               0         \n",
      "_________________________________________________________________\n",
      "dense_4 (Dense)              (None, 500)               256500    \n",
      "_________________________________________________________________\n",
      "batch_normalization_3 (Batch (None, 500)               2000      \n",
      "_________________________________________________________________\n",
      "dense_5 (Dense)              (None, 500)               250500    \n",
      "_________________________________________________________________\n",
      "batch_normalization_4 (Batch (None, 500)               2000      \n",
      "=================================================================\n",
      "Total params: 511,000\n",
      "Trainable params: 509,000\n",
      "Non-trainable params: 2,000\n",
      "_________________________________________________________________\n",
      "generator network:\n",
      "_________________________________________________________________\n",
      "Layer (type)                 Output Shape              Param #   \n",
      "=================================================================\n",
      "input_5 (InputLayer)         (None, 32)                0         \n",
      "_________________________________________________________________\n",
      "dense_6 (Dense)              (None, 512)               16896     \n",
      "=================================================================\n",
      "Total params: 16,896\n",
      "Trainable params: 16,896\n",
      "Non-trainable params: 0\n",
      "_________________________________________________________________\n",
      "_________________________________________________________________\n",
      "Layer (type)                 Output Shape              Param #   \n",
      "=================================================================\n",
      "input_6 (InputLayer)         (None, 512)               0         \n",
      "_________________________________________________________________\n",
      "pre-encoder (Sequential)     (None, 500)               511000    \n",
      "_________________________________________________________________\n",
      "logits-b (Dense)             (None, 32)                16032     \n",
      "_________________________________________________________________\n",
      "sampled (Lambda)             (None, 32)                0         \n",
      "_________________________________________________________________\n",
      "generator/decoder (Sequentia (None, 512)               16896     \n",
      "=================================================================\n",
      "Total params: 543,928\n",
      "Trainable params: 541,928\n",
      "Non-trainable params: 2,000\n",
      "_________________________________________________________________\n"
     ]
    }
   ],
   "source": [
    "import keras.backend as K\n",
    "def sample_gumbel(shape,eps=K.epsilon()):\n",
    "    \"\"\"Inverse Sample function from Gumbel(0, 1)\"\"\"\n",
    "    U = K.random_uniform(shape, 0, 1)\n",
    "    return K.log(U + eps)- K.log(1-U + eps)\n",
    "\n",
    "def binary_VAE(data_dim,Nb,units,layers_e,layers_d,opt='adam',BN=True,beta_ann=False):\n",
    "    tau = K.variable(0.67, name=\"temperature\") #o tau fijo en 0.67=2/3\n",
    "    \n",
    "    pre_encoder = define_pre_encoder(data_dim, layers=layers_e,units=units,BN=BN)\n",
    "    print(\"pre-encoder network:\")\n",
    "    pre_encoder.summary()\n",
    "    generator = define_generator(Nb,data_dim,layers=layers_d,units=units,BN=BN, out_type='linear')\n",
    "    print(\"generator network:\")\n",
    "    generator.summary()\n",
    "\n",
    "    x = Input(shape=(data_dim,))\n",
    "    hidden = pre_encoder(x)\n",
    "    logits_b  = Dense(Nb, activation='linear', name='logits-b')(hidden) #log(B_j/1-B_j)\n",
    "    #proba = np.exp(logits_b)/(1+np.exp(logits_b)) = sigmoidal(logits_b) <<<<<<<<<< recupera probabilidad\n",
    "    #dist = Dense(Nb, activation='sigmoid')(hidden) #p(b) #otra forma de modelarlo\n",
    "    encoder = Model(x, logits_b)\n",
    "\n",
    "    def sampling(logits_b):\n",
    "        #logits_b = K.log(aux/(1-aux) + K.epsilon() )\n",
    "        b = logits_b + sample_gumbel(K.shape(logits_b)) # logits + gumbel noise\n",
    "        return keras.activations.sigmoid( b/tau )\n",
    "\n",
    "    b_sampled = Lambda(sampling, output_shape=(Nb,), name='sampled')(logits_b)\n",
    "    output = generator(b_sampled)\n",
    "\n",
    "    if beta_ann:\n",
    "        beta = K.variable(0., name=\"kl_weight\")\n",
    "    else:\n",
    "        beta = 1./100 #value not tested..\n",
    "        \n",
    "    Recon_loss = REC_loss\n",
    "    kl_loss = BKL_loss(logits_b)\n",
    "    def BVAE_loss(y_true, y_pred): \n",
    "        return Recon_loss(y_true, y_pred) + beta*kl_loss(y_true, y_pred)\n",
    "\n",
    "    binary_vae = Model(x, output)\n",
    "    binary_vae.compile(optimizer=opt, loss=BVAE_loss, metrics = [Recon_loss,kl_loss])\n",
    "    if beta_ann:\n",
    "        return binary_vae, encoder,generator ,beta\n",
    "    else:\n",
    "        return binary_vae, encoder,generator\n",
    "    \n",
    "#binary_vae,encoder_Bvae,generator_Bvae = binary_VAE(X_train.shape[1],Nb=32,units=500,layers_e=2,layers_d=0)\n",
    "binary_vae,encoder_Bvae,generator_Bvae, beta_B= binary_VAE(X_train.shape[1],Nb=32,units=500,layers_e=2,layers_d=0,beta_ann=True)\n",
    "binary_vae.summary()"
   ]
  },
  {
   "cell_type": "markdown",
   "metadata": {},
   "source": [
    "### Train details\n",
    "---\n",
    "\n",
    "* 30* epochs* \n",
    "* *batch size* de 200\n",
    "* optimizador Adam\n",
    "* Inicializador de Glorot (para los pesos)"
   ]
  },
  {
   "cell_type": "code",
   "execution_count": 17,
   "metadata": {
    "collapsed": true
   },
   "outputs": [],
   "source": [
    "from utils import  compare_hist_train, add_hist_plot\n",
    "\n",
    "batch_size = 100*2 #ya que son datasets mas grandes\n",
    "epochs = 30 "
   ]
  },
  {
   "cell_type": "code",
   "execution_count": 102,
   "metadata": {
    "collapsed": false,
    "scrolled": true
   },
   "outputs": [
    {
     "name": "stdout",
     "output_type": "stream",
     "text": [
      "Train on 194599 samples, validate on 4000 samples\n",
      "Epoch 1/30\n",
      "191600/194599 [============================>.] - ETA: 0s - loss: 0.7055 - REC_loss: 0.7055 - KL: 186.3958Epoch 0 the KL weight is 2e-05\n",
      "194599/194599 [==============================] - 3s - loss: 0.7046 - REC_loss: 0.7046 - KL: 187.3230 - val_loss: 0.6189 - val_REC_loss: 0.6189 - val_KL: 268.1130\n",
      "Epoch 2/30\n",
      "193400/194599 [============================>.] - ETA: 0s - loss: 0.6260 - REC_loss: 0.6220 - KL: 199.9371Epoch 1 the KL weight is 6e-05\n",
      "194599/194599 [==============================] - 2s - loss: 0.6261 - REC_loss: 0.6221 - KL: 199.7685 - val_loss: 0.6130 - val_REC_loss: 0.6094 - val_KL: 181.9387\n",
      "Epoch 3/30\n",
      "193200/194599 [============================>.] - ETA: 0s - loss: 0.6261 - REC_loss: 0.6179 - KL: 136.4710Epoch 2 the KL weight is 0.00012\n",
      "194599/194599 [==============================] - 2s - loss: 0.6260 - REC_loss: 0.6178 - KL: 136.3596 - val_loss: 0.6144 - val_REC_loss: 0.6069 - val_KL: 126.1433\n",
      "Epoch 4/30\n",
      "191400/194599 [============================>.] - ETA: 0s - loss: 0.6287 - REC_loss: 0.6166 - KL: 100.8667Epoch 3 the KL weight is 0.0002\n",
      "194599/194599 [==============================] - 2s - loss: 0.6288 - REC_loss: 0.6167 - KL: 100.7695 - val_loss: 0.6180 - val_REC_loss: 0.6062 - val_KL: 97.9266\n",
      "Epoch 5/30\n",
      "192400/194599 [============================>.] - ETA: 0s - loss: 0.6340 - REC_loss: 0.6175 - KL: 82.4583Epoch 4 the KL weight is 0.00029999999\n",
      "194599/194599 [==============================] - 2s - loss: 0.6336 - REC_loss: 0.6171 - KL: 82.4103 - val_loss: 0.6235 - val_REC_loss: 0.6072 - val_KL: 81.4676\n",
      "Epoch 6/30\n",
      "192200/194599 [============================>.] - ETA: 0s - loss: 0.6394 - REC_loss: 0.6180 - KL: 71.4644Epoch 5 the KL weight is 0.00042\n",
      "194599/194599 [==============================] - 2s - loss: 0.6394 - REC_loss: 0.6180 - KL: 71.4347 - val_loss: 0.6309 - val_REC_loss: 0.6094 - val_KL: 71.6132\n",
      "Epoch 7/30\n",
      "191400/194599 [============================>.] - ETA: 0s - loss: 0.6463 - REC_loss: 0.6194 - KL: 64.1846Epoch 6 the KL weight is 0.00056\n",
      "194599/194599 [==============================] - 2s - loss: 0.6466 - REC_loss: 0.6196 - KL: 64.1761 - val_loss: 0.6372 - val_REC_loss: 0.6103 - val_KL: 64.0784\n",
      "Epoch 8/30\n",
      "192400/194599 [============================>.] - ETA: 0s - loss: 0.6545 - REC_loss: 0.6216 - KL: 58.8480Epoch 7 the KL weight is 0.00072\n",
      "194599/194599 [==============================] - 3s - loss: 0.6545 - REC_loss: 0.6216 - KL: 58.8387 - val_loss: 0.6455 - val_REC_loss: 0.6121 - val_KL: 59.6669\n",
      "Epoch 9/30\n",
      "191800/194599 [============================>.] - ETA: 0s - loss: 0.6632 - REC_loss: 0.6239 - KL: 54.4929Epoch 8 the KL weight is 0.0009\n",
      "194599/194599 [==============================] - 3s - loss: 0.6631 - REC_loss: 0.6238 - KL: 54.4908 - val_loss: 0.6540 - val_REC_loss: 0.6146 - val_KL: 54.6759\n",
      "Epoch 10/30\n",
      "194200/194599 [============================>.] - ETA: 0s - loss: 0.6724 - REC_loss: 0.6267 - KL: 50.8321Epoch 9 the KL weight is 0.0011\n",
      "194599/194599 [==============================] - 3s - loss: 0.6724 - REC_loss: 0.6266 - KL: 50.8317 - val_loss: 0.6641 - val_REC_loss: 0.6182 - val_KL: 50.9736\n",
      "Epoch 11/30\n",
      "192000/194599 [============================>.] - ETA: 0s - loss: 0.6817 - REC_loss: 0.6293 - KL: 47.5855Epoch 10 the KL weight is 0.00132\n",
      "194599/194599 [==============================] - 3s - loss: 0.6820 - REC_loss: 0.6297 - KL: 47.5914 - val_loss: 0.6739 - val_REC_loss: 0.6205 - val_KL: 48.5392\n",
      "Epoch 12/30\n",
      "191800/194599 [============================>.] - ETA: 0s - loss: 0.6920 - REC_loss: 0.6331 - KL: 44.6331Epoch 11 the KL weight is 0.00156\n",
      "194599/194599 [==============================] - 3s - loss: 0.6919 - REC_loss: 0.6330 - KL: 44.6289 - val_loss: 0.6833 - val_REC_loss: 0.6233 - val_KL: 45.4401\n",
      "Epoch 13/30\n",
      "193000/194599 [============================>.] - ETA: 0s - loss: 0.7022 - REC_loss: 0.6369 - KL: 41.8974Epoch 12 the KL weight is 0.00182\n",
      "194599/194599 [==============================] - 2s - loss: 0.7022 - REC_loss: 0.6369 - KL: 41.8957 - val_loss: 0.6934 - val_REC_loss: 0.6266 - val_KL: 42.8579\n",
      "Epoch 14/30\n",
      "192400/194599 [============================>.] - ETA: 0s - loss: 0.7128 - REC_loss: 0.6411 - KL: 39.3855Epoch 13 the KL weight is 0.0021\n",
      "194599/194599 [==============================] - 2s - loss: 0.7126 - REC_loss: 0.6409 - KL: 39.3797 - val_loss: 0.7039 - val_REC_loss: 0.6319 - val_KL: 39.5495\n",
      "Epoch 15/30\n",
      "192000/194599 [============================>.] - ETA: 0s - loss: 0.7229 - REC_loss: 0.6451 - KL: 37.0113Epoch 14 the KL weight is 0.0023999999\n",
      "194599/194599 [==============================] - 2s - loss: 0.7230 - REC_loss: 0.6453 - KL: 37.0115 - val_loss: 0.7142 - val_REC_loss: 0.6357 - val_KL: 37.3691\n",
      "Epoch 16/30\n",
      "194200/194599 [============================>.] - ETA: 0s - loss: 0.7333 - REC_loss: 0.6499 - KL: 34.7776Epoch 15 the KL weight is 0.00272\n",
      "194599/194599 [==============================] - 2s - loss: 0.7334 - REC_loss: 0.6499 - KL: 34.7771 - val_loss: 0.7244 - val_REC_loss: 0.6399 - val_KL: 35.1832\n",
      "Epoch 17/30\n",
      "191600/194599 [============================>.] - ETA: 0s - loss: 0.7434 - REC_loss: 0.6546 - KL: 32.6493Epoch 16 the KL weight is 0.00306\n",
      "194599/194599 [==============================] - 2s - loss: 0.7437 - REC_loss: 0.6549 - KL: 32.6506 - val_loss: 0.7352 - val_REC_loss: 0.6462 - val_KL: 32.6996\n",
      "Epoch 18/30\n",
      "194400/194599 [============================>.] - ETA: 0s - loss: 0.7541 - REC_loss: 0.6603 - KL: 30.6658Epoch 17 the KL weight is 0.00342\n",
      "194599/194599 [==============================] - 2s - loss: 0.7541 - REC_loss: 0.6603 - KL: 30.6648 - val_loss: 0.7447 - val_REC_loss: 0.6511 - val_KL: 30.5852\n",
      "Epoch 19/30\n",
      "193200/194599 [============================>.] - ETA: 0s - loss: 0.7644 - REC_loss: 0.6661 - KL: 28.7541Epoch 18 the KL weight is 0.0038\n",
      "194599/194599 [==============================] - 2s - loss: 0.7644 - REC_loss: 0.6661 - KL: 28.7557 - val_loss: 0.7559 - val_REC_loss: 0.6560 - val_KL: 29.2168\n",
      "Epoch 20/30\n",
      "192200/194599 [============================>.] - ETA: 0s - loss: 0.7744 - REC_loss: 0.6719 - KL: 26.9764Epoch 19 the KL weight is 0.0042\n",
      "194599/194599 [==============================] - 2s - loss: 0.7745 - REC_loss: 0.6720 - KL: 26.9771 - val_loss: 0.7654 - val_REC_loss: 0.6620 - val_KL: 27.2142\n",
      "Epoch 21/30\n",
      "193400/194599 [============================>.] - ETA: 0s - loss: 0.7846 - REC_loss: 0.6786 - KL: 25.2504Epoch 20 the KL weight is 0.00462\n",
      "194599/194599 [==============================] - 3s - loss: 0.7845 - REC_loss: 0.6784 - KL: 25.2483 - val_loss: 0.7760 - val_REC_loss: 0.6699 - val_KL: 25.2686\n",
      "Epoch 22/30\n",
      "193400/194599 [============================>.] - ETA: 0s - loss: 0.7941 - REC_loss: 0.6849 - KL: 23.6502Epoch 21 the KL weight is 0.00506\n",
      "194599/194599 [==============================] - 3s - loss: 0.7943 - REC_loss: 0.6851 - KL: 23.6507 - val_loss: 0.7856 - val_REC_loss: 0.6748 - val_KL: 23.9822\n",
      "Epoch 23/30\n",
      "193400/194599 [============================>.] - ETA: 0s - loss: 0.8038 - REC_loss: 0.6918 - KL: 22.1288Epoch 22 the KL weight is 0.0055199997\n",
      "194599/194599 [==============================] - 3s - loss: 0.8039 - REC_loss: 0.6919 - KL: 22.1314 - val_loss: 0.7951 - val_REC_loss: 0.6824 - val_KL: 22.2736\n",
      "Epoch 24/30\n",
      "193200/194599 [============================>.] - ETA: 0s - loss: 0.8134 - REC_loss: 0.6995 - KL: 20.6450Epoch 23 the KL weight is 0.0059999996\n",
      "194599/194599 [==============================] - 3s - loss: 0.8134 - REC_loss: 0.6994 - KL: 20.6441 - val_loss: 0.8047 - val_REC_loss: 0.6907 - val_KL: 20.6437\n",
      "Epoch 25/30\n",
      "193400/194599 [============================>.] - ETA: 0s - loss: 0.8222 - REC_loss: 0.7068 - KL: 19.2375Epoch 24 the KL weight is 0.0064999997\n",
      "194599/194599 [==============================] - 3s - loss: 0.8223 - REC_loss: 0.7069 - KL: 19.2390 - val_loss: 0.8135 - val_REC_loss: 0.6977 - val_KL: 19.2918\n",
      "Epoch 26/30\n",
      "193400/194599 [============================>.] - ETA: 0s - loss: 0.8313 - REC_loss: 0.7146 - KL: 17.9467Epoch 25 the KL weight is 0.0070199994\n",
      "194599/194599 [==============================] - 3s - loss: 0.8313 - REC_loss: 0.7147 - KL: 17.9474 - val_loss: 0.8227 - val_REC_loss: 0.7046 - val_KL: 18.1609\n",
      "Epoch 27/30\n",
      "193600/194599 [============================>.] - ETA: 0s - loss: 0.8402 - REC_loss: 0.7231 - KL: 16.6786Epoch 26 the KL weight is 0.0075599994\n",
      "194599/194599 [==============================] - 3s - loss: 0.8401 - REC_loss: 0.7231 - KL: 16.6777 - val_loss: 0.8312 - val_REC_loss: 0.7148 - val_KL: 16.5779\n",
      "Epoch 28/30\n",
      "192600/194599 [============================>.] - ETA: 0s - loss: 0.8484 - REC_loss: 0.7314 - KL: 15.4833Epoch 27 the KL weight is 0.008119999\n",
      "194599/194599 [==============================] - 3s - loss: 0.8485 - REC_loss: 0.7315 - KL: 15.4787 - val_loss: 0.8390 - val_REC_loss: 0.7226 - val_KL: 15.3913\n",
      "Epoch 29/30\n",
      "192600/194599 [============================>.] - ETA: 0s - loss: 0.8565 - REC_loss: 0.7403 - KL: 14.3006Epoch 28 the KL weight is 0.008699999\n",
      "194599/194599 [==============================] - 3s - loss: 0.8565 - REC_loss: 0.7404 - KL: 14.2994 - val_loss: 0.8486 - val_REC_loss: 0.7323 - val_KL: 14.3313\n",
      "Epoch 30/30\n",
      "193800/194599 [============================>.] - ETA: 0s - loss: 0.8641 - REC_loss: 0.7494 - KL: 13.1841Epoch 29 the KL weight is 0.009299999\n",
      "194599/194599 [==============================] - 3s - loss: 0.8643 - REC_loss: 0.7496 - KL: 13.1845 - val_loss: 0.8556 - val_REC_loss: 0.7415 - val_KL: 13.1232\n"
     ]
    }
   ],
   "source": [
    "hist1 = traditional_vae.fit(X_train, X_train, epochs=epochs, batch_size=batch_size\n",
    "                           ,validation_data=(X_val,X_val) #) \n",
    "                        ,callbacks=[Beta_Call(beta_T,kl_inc=(1./50000),max_KL=0.01, verbose=1)] )"
   ]
  },
  {
   "cell_type": "code",
   "execution_count": 103,
   "metadata": {
    "collapsed": false,
    "scrolled": true
   },
   "outputs": [
    {
     "name": "stdout",
     "output_type": "stream",
     "text": [
      "Train on 194599 samples, validate on 4000 samples\n",
      "Epoch 1/30\n",
      "191000/194599 [============================>.] - ETA: 0s - loss: 0.8067 - REC_loss: 0.8067 - KL: 16.8119Epoch 0 the KL weight is 2e-05\n",
      "194599/194599 [==============================] - 2s - loss: 0.8063 - REC_loss: 0.8063 - KL: 16.8315 - val_loss: 0.7512 - val_REC_loss: 0.7512 - val_KL: 18.0863\n",
      "Epoch 2/30\n",
      "194200/194599 [============================>.] - ETA: 0s - loss: 0.7552 - REC_loss: 0.7548 - KL: 17.9973Epoch 1 the KL weight is 6e-05\n",
      "194599/194599 [==============================] - 2s - loss: 0.7551 - REC_loss: 0.7547 - KL: 17.9975 - val_loss: 0.7401 - val_REC_loss: 0.7397 - val_KL: 18.1589\n",
      "Epoch 3/30\n",
      "194200/194599 [============================>.] - ETA: 0s - loss: 0.7492 - REC_loss: 0.7481 - KL: 18.1253Epoch 2 the KL weight is 0.00012\n",
      "194599/194599 [==============================] - 2s - loss: 0.7493 - REC_loss: 0.7482 - KL: 18.1252 - val_loss: 0.7372 - val_REC_loss: 0.7361 - val_KL: 18.1804\n",
      "Epoch 4/30\n",
      "191000/194599 [============================>.] - ETA: 0s - loss: 0.7470 - REC_loss: 0.7449 - KL: 18.1601Epoch 3 the KL weight is 0.0002\n",
      "194599/194599 [==============================] - 2s - loss: 0.7473 - REC_loss: 0.7451 - KL: 18.1605 - val_loss: 0.7357 - val_REC_loss: 0.7336 - val_KL: 18.1863\n",
      "Epoch 5/30\n",
      "194000/194599 [============================>.] - ETA: 0s - loss: 0.7467 - REC_loss: 0.7431 - KL: 18.1662Epoch 4 the KL weight is 0.00029999999\n",
      "194599/194599 [==============================] - 2s - loss: 0.7468 - REC_loss: 0.7431 - KL: 18.1663 - val_loss: 0.7358 - val_REC_loss: 0.7321 - val_KL: 18.1626\n",
      "Epoch 6/30\n",
      "194200/194599 [============================>.] - ETA: 0s - loss: 0.7469 - REC_loss: 0.7414 - KL: 18.1449Epoch 5 the KL weight is 0.00042\n",
      "194599/194599 [==============================] - 2s - loss: 0.7468 - REC_loss: 0.7414 - KL: 18.1448 - val_loss: 0.7367 - val_REC_loss: 0.7312 - val_KL: 18.0965\n",
      "Epoch 7/30\n",
      "194400/194599 [============================>.] - ETA: 0s - loss: 0.7477 - REC_loss: 0.7401 - KL: 18.1293Epoch 6 the KL weight is 0.00056\n",
      "194599/194599 [==============================] - 2s - loss: 0.7476 - REC_loss: 0.7400 - KL: 18.1293 - val_loss: 0.7376 - val_REC_loss: 0.7300 - val_KL: 18.1044\n",
      "Epoch 8/30\n",
      "192400/194599 [============================>.] - ETA: 0s - loss: 0.7489 - REC_loss: 0.7388 - KL: 18.0851Epoch 7 the KL weight is 0.00072\n",
      "194599/194599 [==============================] - 2s - loss: 0.7489 - REC_loss: 0.7388 - KL: 18.0852 - val_loss: 0.7389 - val_REC_loss: 0.7288 - val_KL: 18.0516\n",
      "Epoch 9/30\n",
      "194400/194599 [============================>.] - ETA: 0s - loss: 0.7507 - REC_loss: 0.7377 - KL: 18.0221Epoch 8 the KL weight is 0.0009\n",
      "194599/194599 [==============================] - 2s - loss: 0.7507 - REC_loss: 0.7377 - KL: 18.0220 - val_loss: 0.7407 - val_REC_loss: 0.7277 - val_KL: 17.9671\n",
      "Epoch 10/30\n",
      "194400/194599 [============================>.] - ETA: 0s - loss: 0.7532 - REC_loss: 0.7370 - KL: 17.9484Epoch 9 the KL weight is 0.0011\n",
      "194599/194599 [==============================] - 2s - loss: 0.7530 - REC_loss: 0.7369 - KL: 17.9485 - val_loss: 0.7429 - val_REC_loss: 0.7268 - val_KL: 17.9312\n",
      "Epoch 11/30\n",
      "194200/194599 [============================>.] - ETA: 0s - loss: 0.7557 - REC_loss: 0.7360 - KL: 17.8829Epoch 10 the KL weight is 0.00132\n",
      "194599/194599 [==============================] - 2s - loss: 0.7557 - REC_loss: 0.7361 - KL: 17.8829 - val_loss: 0.7461 - val_REC_loss: 0.7264 - val_KL: 17.8492\n",
      "Epoch 12/30\n",
      "194200/194599 [============================>.] - ETA: 0s - loss: 0.7589 - REC_loss: 0.7355 - KL: 17.7729Epoch 11 the KL weight is 0.00156\n",
      "194599/194599 [==============================] - 2s - loss: 0.7589 - REC_loss: 0.7354 - KL: 17.7730 - val_loss: 0.7496 - val_REC_loss: 0.7261 - val_KL: 17.7699\n",
      "Epoch 13/30\n",
      "194400/194599 [============================>.] - ETA: 0s - loss: 0.7625 - REC_loss: 0.7349 - KL: 17.6689Epoch 12 the KL weight is 0.00182\n",
      "194599/194599 [==============================] - 2s - loss: 0.7624 - REC_loss: 0.7348 - KL: 17.6688 - val_loss: 0.7529 - val_REC_loss: 0.7256 - val_KL: 17.5533\n",
      "Epoch 14/30\n",
      "193800/194599 [============================>.] - ETA: 0s - loss: 0.7664 - REC_loss: 0.7345 - KL: 17.5101Epoch 13 the KL weight is 0.0021\n",
      "194599/194599 [==============================] - 2s - loss: 0.7664 - REC_loss: 0.7346 - KL: 17.5100 - val_loss: 0.7576 - val_REC_loss: 0.7259 - val_KL: 17.4162\n",
      "Epoch 15/30\n",
      "193800/194599 [============================>.] - ETA: 0s - loss: 0.7707 - REC_loss: 0.7342 - KL: 17.3515Epoch 14 the KL weight is 0.0023999999\n",
      "194599/194599 [==============================] - 2s - loss: 0.7708 - REC_loss: 0.7343 - KL: 17.3516 - val_loss: 0.7612 - val_REC_loss: 0.7249 - val_KL: 17.2950\n",
      "Epoch 16/30\n",
      "194400/194599 [============================>.] - ETA: 0s - loss: 0.7757 - REC_loss: 0.7345 - KL: 17.1505Epoch 15 the KL weight is 0.00272\n",
      "194599/194599 [==============================] - 2s - loss: 0.7756 - REC_loss: 0.7344 - KL: 17.1506 - val_loss: 0.7660 - val_REC_loss: 0.7250 - val_KL: 17.1014\n",
      "Epoch 17/30\n",
      "194200/194599 [============================>.] - ETA: 0s - loss: 0.7804 - REC_loss: 0.7343 - KL: 16.9569Epoch 16 the KL weight is 0.00306\n",
      "194599/194599 [==============================] - 2s - loss: 0.7805 - REC_loss: 0.7344 - KL: 16.9570 - val_loss: 0.7707 - val_REC_loss: 0.7248 - val_KL: 16.8663\n",
      "Epoch 18/30\n",
      "194200/194599 [============================>.] - ETA: 0s - loss: 0.7859 - REC_loss: 0.7348 - KL: 16.6904Epoch 17 the KL weight is 0.00342\n",
      "194599/194599 [==============================] - 2s - loss: 0.7859 - REC_loss: 0.7349 - KL: 16.6904 - val_loss: 0.7765 - val_REC_loss: 0.7259 - val_KL: 16.5502\n",
      "Epoch 19/30\n",
      "194000/194599 [============================>.] - ETA: 0s - loss: 0.7914 - REC_loss: 0.7353 - KL: 16.3817Epoch 18 the KL weight is 0.0038\n",
      "194599/194599 [==============================] - 2s - loss: 0.7915 - REC_loss: 0.7355 - KL: 16.3811 - val_loss: 0.7820 - val_REC_loss: 0.7264 - val_KL: 16.2644\n",
      "Epoch 20/30\n",
      "194400/194599 [============================>.] - ETA: 0s - loss: 0.7973 - REC_loss: 0.7364 - KL: 16.0340Epoch 19 the KL weight is 0.0042\n",
      "194599/194599 [==============================] - 2s - loss: 0.7974 - REC_loss: 0.7364 - KL: 16.0338 - val_loss: 0.7878 - val_REC_loss: 0.7273 - val_KL: 15.9214\n",
      "Epoch 21/30\n",
      "193800/194599 [============================>.] - ETA: 0s - loss: 0.8033 - REC_loss: 0.7375 - KL: 15.6576Epoch 20 the KL weight is 0.00462\n",
      "194599/194599 [==============================] - 2s - loss: 0.8034 - REC_loss: 0.7376 - KL: 15.6570 - val_loss: 0.7937 - val_REC_loss: 0.7286 - val_KL: 15.4944\n",
      "Epoch 22/30\n",
      "194000/194599 [============================>.] - ETA: 0s - loss: 0.8093 - REC_loss: 0.7389 - KL: 15.2380Epoch 21 the KL weight is 0.00506\n",
      "194599/194599 [==============================] - 2s - loss: 0.8095 - REC_loss: 0.7391 - KL: 15.2373 - val_loss: 0.8003 - val_REC_loss: 0.7311 - val_KL: 14.9828\n",
      "Epoch 23/30\n",
      "193800/194599 [============================>.] - ETA: 0s - loss: 0.8158 - REC_loss: 0.7412 - KL: 14.7456Epoch 22 the KL weight is 0.0055199997\n",
      "194599/194599 [==============================] - 2s - loss: 0.8158 - REC_loss: 0.7412 - KL: 14.7451 - val_loss: 0.8054 - val_REC_loss: 0.7320 - val_KL: 14.5122\n",
      "Epoch 24/30\n",
      "194400/194599 [============================>.] - ETA: 0s - loss: 0.8219 - REC_loss: 0.7435 - KL: 14.1969Epoch 23 the KL weight is 0.0059999996\n",
      "194599/194599 [==============================] - 2s - loss: 0.8219 - REC_loss: 0.7435 - KL: 14.1969 - val_loss: 0.8121 - val_REC_loss: 0.7347 - val_KL: 14.0336\n",
      "Epoch 25/30\n",
      "193600/194599 [============================>.] - ETA: 0s - loss: 0.8282 - REC_loss: 0.7464 - KL: 13.6308Epoch 24 the KL weight is 0.0064999997\n",
      "194599/194599 [==============================] - 2s - loss: 0.8281 - REC_loss: 0.7463 - KL: 13.6297 - val_loss: 0.8185 - val_REC_loss: 0.7382 - val_KL: 13.3860\n",
      "Epoch 26/30\n",
      "194000/194599 [============================>.] - ETA: 0s - loss: 0.8342 - REC_loss: 0.7495 - KL: 13.0354Epoch 25 the KL weight is 0.0070199994\n",
      "194599/194599 [==============================] - 2s - loss: 0.8342 - REC_loss: 0.7495 - KL: 13.0351 - val_loss: 0.8247 - val_REC_loss: 0.7416 - val_KL: 12.7867\n",
      "Epoch 27/30\n",
      "193800/194599 [============================>.] - ETA: 0s - loss: 0.8406 - REC_loss: 0.7532 - KL: 12.4599Epoch 26 the KL weight is 0.0075599994\n",
      "194599/194599 [==============================] - 2s - loss: 0.8403 - REC_loss: 0.7529 - KL: 12.4598 - val_loss: 0.8305 - val_REC_loss: 0.7443 - val_KL: 12.2768\n",
      "Epoch 28/30\n",
      "191000/194599 [============================>.] - ETA: 0s - loss: 0.8469 - REC_loss: 0.7569 - KL: 11.9080Epoch 27 the KL weight is 0.008119999\n",
      "194599/194599 [==============================] - 2s - loss: 0.8464 - REC_loss: 0.7564 - KL: 11.9062 - val_loss: 0.8357 - val_REC_loss: 0.7475 - val_KL: 11.6607\n",
      "Epoch 29/30\n",
      "194200/194599 [============================>.] - ETA: 0s - loss: 0.8524 - REC_loss: 0.7605 - KL: 11.3219Epoch 28 the KL weight is 0.008699999\n",
      "194599/194599 [==============================] - 2s - loss: 0.8523 - REC_loss: 0.7603 - KL: 11.3215 - val_loss: 0.8416 - val_REC_loss: 0.7515 - val_KL: 11.0957\n",
      "Epoch 30/30\n",
      "194000/194599 [============================>.] - ETA: 0s - loss: 0.8585 - REC_loss: 0.7648 - KL: 10.7784Epoch 29 the KL weight is 0.009299999\n",
      "194599/194599 [==============================] - 2s - loss: 0.8583 - REC_loss: 0.7645 - KL: 10.7782 - val_loss: 0.8482 - val_REC_loss: 0.7566 - val_KL: 10.5368\n"
     ]
    }
   ],
   "source": [
    "hist2 = binary_vae.fit(X_train, X_train, epochs=epochs, batch_size=batch_size\n",
    "                           ,validation_data=(X_val,X_val) #)\n",
    "                        ,callbacks=[Beta_Call(beta_B,kl_inc=(1./50000),max_KL=0.01, verbose=1)] )"
   ]
  },
  {
   "cell_type": "code",
   "execution_count": null,
   "metadata": {
    "collapsed": true
   },
   "outputs": [],
   "source": []
  },
  {
   "cell_type": "code",
   "execution_count": null,
   "metadata": {
    "collapsed": true
   },
   "outputs": [],
   "source": []
  },
  {
   "cell_type": "code",
   "execution_count": 65,
   "metadata": {
    "collapsed": false,
    "scrolled": true
   },
   "outputs": [
    {
     "name": "stdout",
     "output_type": "stream",
     "text": [
      "Train on 58000 samples, validate on 1000 samples\n",
      "Epoch 1/30\n",
      "58000/58000 [==============================] - 1s - loss: 1.0473 - REC_loss: 1.0165 - KL: 3.0786 - val_loss: 0.9716 - val_REC_loss: 0.9163 - val_KL: 5.5361\n",
      "Epoch 2/30\n",
      "58000/58000 [==============================] - 0s - loss: 0.9047 - REC_loss: 0.8476 - KL: 5.7121 - val_loss: 0.8983 - val_REC_loss: 0.8211 - val_KL: 7.7175\n",
      "Epoch 3/30\n",
      "58000/58000 [==============================] - 0s - loss: 0.8592 - REC_loss: 0.7836 - KL: 7.5525 - val_loss: 0.8636 - val_REC_loss: 0.7739 - val_KL: 8.9738\n",
      "Epoch 4/30\n",
      "58000/58000 [==============================] - 0s - loss: 0.8360 - REC_loss: 0.7499 - KL: 8.6068 - val_loss: 0.8487 - val_REC_loss: 0.7531 - val_KL: 9.5645\n",
      "Epoch 5/30\n",
      "58000/58000 [==============================] - 0s - loss: 0.8232 - REC_loss: 0.7295 - KL: 9.3681 - val_loss: 0.8369 - val_REC_loss: 0.7340 - val_KL: 10.2847\n",
      "Epoch 6/30\n",
      "58000/58000 [==============================] - 0s - loss: 0.8156 - REC_loss: 0.7171 - KL: 9.8462 - val_loss: 0.8311 - val_REC_loss: 0.7263 - val_KL: 10.4735\n",
      "Epoch 7/30\n",
      "58000/58000 [==============================] - 0s - loss: 0.8107 - REC_loss: 0.7088 - KL: 10.1880 - val_loss: 0.8265 - val_REC_loss: 0.7193 - val_KL: 10.7174\n",
      "Epoch 8/30\n",
      "58000/58000 [==============================] - 0s - loss: 0.8076 - REC_loss: 0.7032 - KL: 10.4337 - val_loss: 0.8235 - val_REC_loss: 0.7157 - val_KL: 10.7816\n",
      "Epoch 9/30\n",
      "58000/58000 [==============================] - 0s - loss: 0.8050 - REC_loss: 0.6988 - KL: 10.6147 - val_loss: 0.8220 - val_REC_loss: 0.7118 - val_KL: 11.0116\n",
      "Epoch 10/30\n",
      "58000/58000 [==============================] - 0s - loss: 0.8034 - REC_loss: 0.6956 - KL: 10.7850 - val_loss: 0.8206 - val_REC_loss: 0.7099 - val_KL: 11.0738\n",
      "Epoch 11/30\n",
      "58000/58000 [==============================] - 0s - loss: 0.8023 - REC_loss: 0.6938 - KL: 10.8450 - val_loss: 0.8164 - val_REC_loss: 0.7053 - val_KL: 11.1048\n",
      "Epoch 12/30\n",
      "58000/58000 [==============================] - 0s - loss: 0.8013 - REC_loss: 0.6923 - KL: 10.8942 - val_loss: 0.8178 - val_REC_loss: 0.7070 - val_KL: 11.0865\n",
      "Epoch 13/30\n",
      "58000/58000 [==============================] - 0s - loss: 0.8005 - REC_loss: 0.6911 - KL: 10.9458 - val_loss: 0.8163 - val_REC_loss: 0.7049 - val_KL: 11.1328\n",
      "Epoch 14/30\n",
      "58000/58000 [==============================] - 0s - loss: 0.8000 - REC_loss: 0.6902 - KL: 10.9805 - val_loss: 0.8169 - val_REC_loss: 0.7055 - val_KL: 11.1428\n",
      "Epoch 15/30\n",
      "58000/58000 [==============================] - 0s - loss: 0.7992 - REC_loss: 0.6893 - KL: 10.9917 - val_loss: 0.8157 - val_REC_loss: 0.7034 - val_KL: 11.2268\n",
      "Epoch 16/30\n",
      "58000/58000 [==============================] - 0s - loss: 0.7986 - REC_loss: 0.6887 - KL: 10.9922 - val_loss: 0.8162 - val_REC_loss: 0.7053 - val_KL: 11.0886\n",
      "Epoch 17/30\n",
      "58000/58000 [==============================] - 0s - loss: 0.7983 - REC_loss: 0.6882 - KL: 11.0061 - val_loss: 0.8144 - val_REC_loss: 0.7028 - val_KL: 11.1578\n",
      "Epoch 18/30\n",
      "58000/58000 [==============================] - 0s - loss: 0.7979 - REC_loss: 0.6878 - KL: 11.0057 - val_loss: 0.8144 - val_REC_loss: 0.7034 - val_KL: 11.0971\n",
      "Epoch 19/30\n",
      "58000/58000 [==============================] - 0s - loss: 0.7975 - REC_loss: 0.6873 - KL: 11.0179 - val_loss: 0.8137 - val_REC_loss: 0.7025 - val_KL: 11.1198\n",
      "Epoch 20/30\n",
      "58000/58000 [==============================] - 0s - loss: 0.7971 - REC_loss: 0.6871 - KL: 11.0033 - val_loss: 0.8137 - val_REC_loss: 0.7028 - val_KL: 11.0975\n",
      "Epoch 21/30\n",
      "58000/58000 [==============================] - 0s - loss: 0.7968 - REC_loss: 0.6865 - KL: 11.0276 - val_loss: 0.8132 - val_REC_loss: 0.7019 - val_KL: 11.1303\n",
      "Epoch 22/30\n",
      "58000/58000 [==============================] - 0s - loss: 0.7964 - REC_loss: 0.6861 - KL: 11.0316 - val_loss: 0.8121 - val_REC_loss: 0.7012 - val_KL: 11.0899\n",
      "Epoch 23/30\n",
      "58000/58000 [==============================] - 0s - loss: 0.7964 - REC_loss: 0.6860 - KL: 11.0391 - val_loss: 0.8118 - val_REC_loss: 0.7002 - val_KL: 11.1607\n",
      "Epoch 24/30\n",
      "58000/58000 [==============================] - 0s - loss: 0.7958 - REC_loss: 0.6856 - KL: 11.0269 - val_loss: 0.8139 - val_REC_loss: 0.7035 - val_KL: 11.0434\n",
      "Epoch 25/30\n",
      "58000/58000 [==============================] - 0s - loss: 0.7956 - REC_loss: 0.6853 - KL: 11.0267 - val_loss: 0.8120 - val_REC_loss: 0.7002 - val_KL: 11.1827\n",
      "Epoch 26/30\n",
      "58000/58000 [==============================] - 0s - loss: 0.7956 - REC_loss: 0.6852 - KL: 11.0369 - val_loss: 0.8119 - val_REC_loss: 0.7009 - val_KL: 11.1027\n",
      "Epoch 27/30\n",
      "58000/58000 [==============================] - 0s - loss: 0.7952 - REC_loss: 0.6848 - KL: 11.0382 - val_loss: 0.8124 - val_REC_loss: 0.7018 - val_KL: 11.0582\n",
      "Epoch 28/30\n",
      "58000/58000 [==============================] - 0s - loss: 0.7952 - REC_loss: 0.6847 - KL: 11.0504 - val_loss: 0.8118 - val_REC_loss: 0.7011 - val_KL: 11.0701\n",
      "Epoch 29/30\n",
      "58000/58000 [==============================] - 0s - loss: 0.7950 - REC_loss: 0.6847 - KL: 11.0289 - val_loss: 0.8117 - val_REC_loss: 0.7003 - val_KL: 11.1339\n",
      "Epoch 30/30\n",
      "58000/58000 [==============================] - 0s - loss: 0.7947 - REC_loss: 0.6842 - KL: 11.0487 - val_loss: 0.8127 - val_REC_loss: 0.7016 - val_KL: 11.1106\n"
     ]
    }
   ],
   "source": [
    "hist2 = binary_vae.fit(X_train, X_train, epochs=epochs, batch_size=batch_size\n",
    "                           ,validation_data=(X_val,X_val) )"
   ]
  },
  {
   "cell_type": "code",
   "execution_count": 66,
   "metadata": {
    "collapsed": false,
    "scrolled": true
   },
   "outputs": [
    {
     "name": "stdout",
     "output_type": "stream",
     "text": [
      "MAP on CIFAR-10 dataset\n",
      "Binary VAE =  0.26078252060154106\n",
      "Binary VAE con precision y recall para B-VAE 0.29790560000000016 0.25684758476811426\n",
      "CIFAR-10\n"
     ]
    },
    {
     "data": {
      "image/png": "[encoded data removed]",
      "text/plain": [
       "<matplotlib.figure.Figure at 0x7f35ce7e0898>"
      ]
     },
     "metadata": {},
     "output_type": "display_data"
    },
    {
     "data": {
      "image/png": "[encoded data removed]",
      "text/plain": [
       "<matplotlib.figure.Figure at 0x7f35c3a56390>"
      ]
     },
     "metadata": {},
     "output_type": "display_data"
    }
   ],
   "source": [
    "total_hash_BVAE, test_hash_BVAE = hash_data(encoder_Bvae,X_train,X_test)\n",
    "\n",
    "print(\"MAP on %s dataset\"%name_dat)\n",
    "map_b= evaluate_hashing_DE(total_hash_BVAE, test_hash_BVAE,labels_train,labels_test,eval_tipo=\"MAP\",K=9999999)\n",
    "print(\"Binary VAE = \",map_b)\n",
    "\n",
    "p_b,r_b = evaluate_hashing_DE(total_hash_BVAE,test_hash_BVAE,labels_train,labels_test,eval_tipo=\"PRatk\",K=5000)\n",
    "print(\"Binary VAE con precision y recall para B-VAE\",p_b,r_b)\n",
    "\n",
    "X_train_logits = encoder_Bvae.predict(X_train)\n",
    "X_train_Bcode = expit(X_train_logits)\n",
    "print(name_dat)\n",
    "visualize_probas(X_train_logits, X_train_Bcode)"
   ]
  },
  {
   "cell_type": "code",
   "execution_count": 55,
   "metadata": {
    "collapsed": false,
    "scrolled": true
   },
   "outputs": [
    {
     "name": "stdout",
     "output_type": "stream",
     "text": [
      "pre-encoder network:\n",
      "_________________________________________________________________\n",
      "Layer (type)                 Output Shape              Param #   \n",
      "=================================================================\n",
      "input_43 (InputLayer)        (None, 512)               0         \n",
      "_________________________________________________________________\n",
      "dense_43 (Dense)             (None, 500)               256500    \n",
      "_________________________________________________________________\n",
      "batch_normalization_29 (Batc (None, 500)               2000      \n",
      "_________________________________________________________________\n",
      "dense_44 (Dense)             (None, 500)               250500    \n",
      "_________________________________________________________________\n",
      "batch_normalization_30 (Batc (None, 500)               2000      \n",
      "=================================================================\n",
      "Total params: 511,000\n",
      "Trainable params: 509,000\n",
      "Non-trainable params: 2,000\n",
      "_________________________________________________________________\n",
      "generator network:\n",
      "_________________________________________________________________\n",
      "Layer (type)                 Output Shape              Param #   \n",
      "=================================================================\n",
      "input_44 (InputLayer)        (None, 32)                0         \n",
      "_________________________________________________________________\n",
      "dense_45 (Dense)             (None, 512)               16896     \n",
      "=================================================================\n",
      "Total params: 16,896\n",
      "Trainable params: 16,896\n",
      "Non-trainable params: 0\n",
      "_________________________________________________________________\n",
      "Train on 58000 samples, validate on 1000 samples\n",
      "Epoch 1/40\n",
      "57400/58000 [============================>.] - ETA: 0s - loss: 0.9314 - REC_loss: 0.9314 - KL: 15.7515Epoch 0 the KL weight is 2e-05\n",
      "58000/58000 [==============================] - 1s - loss: 0.9301 - REC_loss: 0.9301 - KL: 15.7681 - val_loss: 0.8169 - val_REC_loss: 0.8169 - val_KL: 18.2367\n",
      "Epoch 2/40\n",
      "57200/58000 [============================>.] - ETA: 0s - loss: 0.7497 - REC_loss: 0.7493 - KL: 17.6715Epoch 1 the KL weight is 6e-05\n",
      "58000/58000 [==============================] - 0s - loss: 0.7494 - REC_loss: 0.7490 - KL: 17.6729 - val_loss: 0.7441 - val_REC_loss: 0.7437 - val_KL: 18.3663\n",
      "Epoch 3/40\n",
      "57000/58000 [============================>.] - ETA: 0s - loss: 0.7078 - REC_loss: 0.7067 - KL: 17.8448Epoch 2 the KL weight is 0.00012\n",
      "58000/58000 [==============================] - 0s - loss: 0.7078 - REC_loss: 0.7067 - KL: 17.8452 - val_loss: 0.7156 - val_REC_loss: 0.7145 - val_KL: 18.3122\n",
      "Epoch 4/40\n",
      "57200/58000 [============================>.] - ETA: 0s - loss: 0.6897 - REC_loss: 0.6876 - KL: 17.8184Epoch 3 the KL weight is 0.0002\n",
      "58000/58000 [==============================] - 0s - loss: 0.6895 - REC_loss: 0.6874 - KL: 17.8171 - val_loss: 0.7015 - val_REC_loss: 0.6993 - val_KL: 18.0663\n",
      "Epoch 5/40\n",
      "57000/58000 [============================>.] - ETA: 0s - loss: 0.6804 - REC_loss: 0.6769 - KL: 17.7359Epoch 4 the KL weight is 0.00029999999\n",
      "58000/58000 [==============================] - 0s - loss: 0.6806 - REC_loss: 0.6771 - KL: 17.7345 - val_loss: 0.6950 - val_REC_loss: 0.6914 - val_KL: 17.8721\n",
      "Epoch 6/40\n",
      "56800/58000 [============================>.] - ETA: 0s - loss: 0.6760 - REC_loss: 0.6707 - KL: 17.6180Epoch 5 the KL weight is 0.00042\n",
      "58000/58000 [==============================] - 0s - loss: 0.6761 - REC_loss: 0.6708 - KL: 17.6183 - val_loss: 0.6916 - val_REC_loss: 0.6863 - val_KL: 17.8155\n",
      "Epoch 7/40\n",
      "56400/58000 [============================>.] - ETA: 0s - loss: 0.6741 - REC_loss: 0.6667 - KL: 17.5369Epoch 6 the KL weight is 0.00056\n",
      "58000/58000 [==============================] - 0s - loss: 0.6741 - REC_loss: 0.6668 - KL: 17.5329 - val_loss: 0.6904 - val_REC_loss: 0.6830 - val_KL: 17.5832\n",
      "Epoch 8/40\n",
      "56800/58000 [============================>.] - ETA: 0s - loss: 0.6741 - REC_loss: 0.6643 - KL: 17.4388Epoch 7 the KL weight is 0.00072\n",
      "58000/58000 [==============================] - 0s - loss: 0.6739 - REC_loss: 0.6641 - KL: 17.4377 - val_loss: 0.6896 - val_REC_loss: 0.6798 - val_KL: 17.5392\n",
      "Epoch 9/40\n",
      "56800/58000 [============================>.] - ETA: 0s - loss: 0.6744 - REC_loss: 0.6619 - KL: 17.3174Epoch 8 the KL weight is 0.0009\n",
      "58000/58000 [==============================] - 0s - loss: 0.6743 - REC_loss: 0.6618 - KL: 17.3160 - val_loss: 0.6901 - val_REC_loss: 0.6776 - val_KL: 17.3497\n",
      "Epoch 10/40\n",
      "56800/58000 [============================>.] - ETA: 0s - loss: 0.6756 - REC_loss: 0.6601 - KL: 17.1762Epoch 9 the KL weight is 0.0011\n",
      "58000/58000 [==============================] - 0s - loss: 0.6760 - REC_loss: 0.6605 - KL: 17.1737 - val_loss: 0.6917 - val_REC_loss: 0.6762 - val_KL: 17.2123\n",
      "Epoch 11/40\n",
      "57000/58000 [============================>.] - ETA: 0s - loss: 0.6784 - REC_loss: 0.6597 - KL: 17.0570Epoch 10 the KL weight is 0.00132\n",
      "58000/58000 [==============================] - 0s - loss: 0.6784 - REC_loss: 0.6597 - KL: 17.0560 - val_loss: 0.6942 - val_REC_loss: 0.6754 - val_KL: 17.1413\n",
      "Epoch 12/40\n",
      "57200/58000 [============================>.] - ETA: 0s - loss: 0.6808 - REC_loss: 0.6584 - KL: 16.9555Epoch 11 the KL weight is 0.00156\n",
      "58000/58000 [==============================] - 0s - loss: 0.6811 - REC_loss: 0.6587 - KL: 16.9546 - val_loss: 0.6967 - val_REC_loss: 0.6742 - val_KL: 17.0180\n",
      "Epoch 13/40\n",
      "56800/58000 [============================>.] - ETA: 0s - loss: 0.6846 - REC_loss: 0.6584 - KL: 16.8315Epoch 12 the KL weight is 0.00182\n",
      "58000/58000 [==============================] - 0s - loss: 0.6844 - REC_loss: 0.6581 - KL: 16.8293 - val_loss: 0.7012 - val_REC_loss: 0.6749 - val_KL: 16.8560\n",
      "Epoch 14/40\n",
      "57000/58000 [============================>.] - ETA: 0s - loss: 0.6879 - REC_loss: 0.6576 - KL: 16.6471Epoch 13 the KL weight is 0.0021\n",
      "58000/58000 [==============================] - 0s - loss: 0.6879 - REC_loss: 0.6576 - KL: 16.6457 - val_loss: 0.7046 - val_REC_loss: 0.6743 - val_KL: 16.6669\n",
      "Epoch 15/40\n",
      "57200/58000 [============================>.] - ETA: 0s - loss: 0.6916 - REC_loss: 0.6570 - KL: 16.4892Epoch 14 the KL weight is 0.0023999999\n",
      "58000/58000 [==============================] - 0s - loss: 0.6920 - REC_loss: 0.6573 - KL: 16.4881 - val_loss: 0.7080 - val_REC_loss: 0.6733 - val_KL: 16.5482\n",
      "Epoch 16/40\n",
      "56400/58000 [============================>.] - ETA: 0s - loss: 0.6961 - REC_loss: 0.6569 - KL: 16.3177Epoch 15 the KL weight is 0.00272\n",
      "58000/58000 [==============================] - 0s - loss: 0.6964 - REC_loss: 0.6572 - KL: 16.3166 - val_loss: 0.7137 - val_REC_loss: 0.6744 - val_KL: 16.3482\n",
      "Epoch 17/40\n",
      "56600/58000 [============================>.] - ETA: 0s - loss: 0.7008 - REC_loss: 0.6569 - KL: 16.1409Epoch 16 the KL weight is 0.00306\n",
      "58000/58000 [==============================] - 0s - loss: 0.7008 - REC_loss: 0.6569 - KL: 16.1370 - val_loss: 0.7183 - val_REC_loss: 0.6744 - val_KL: 16.1460\n",
      "Epoch 18/40\n",
      "56400/58000 [============================>.] - ETA: 0s - loss: 0.7059 - REC_loss: 0.6572 - KL: 15.9159Epoch 17 the KL weight is 0.00342\n",
      "58000/58000 [==============================] - 0s - loss: 0.7060 - REC_loss: 0.6573 - KL: 15.9133 - val_loss: 0.7217 - val_REC_loss: 0.6729 - val_KL: 15.9545\n",
      "Epoch 19/40\n",
      "56200/58000 [============================>.] - ETA: 0s - loss: 0.7111 - REC_loss: 0.6572 - KL: 15.7435Epoch 18 the KL weight is 0.0038\n",
      "58000/58000 [==============================] - 0s - loss: 0.7113 - REC_loss: 0.6574 - KL: 15.7405 - val_loss: 0.7274 - val_REC_loss: 0.6736 - val_KL: 15.7452\n",
      "Epoch 20/40\n",
      "57200/58000 [============================>.] - ETA: 0s - loss: 0.7166 - REC_loss: 0.6576 - KL: 15.5280Epoch 19 the KL weight is 0.0042\n",
      "58000/58000 [==============================] - 0s - loss: 0.7166 - REC_loss: 0.6576 - KL: 15.5271 - val_loss: 0.7325 - val_REC_loss: 0.6734 - val_KL: 15.5386\n",
      "Epoch 21/40\n",
      "56400/58000 [============================>.] - ETA: 0s - loss: 0.7221 - REC_loss: 0.6580 - KL: 15.2609Epoch 20 the KL weight is 0.00462\n",
      "58000/58000 [==============================] - 0s - loss: 0.7223 - REC_loss: 0.6583 - KL: 15.2583 - val_loss: 0.7376 - val_REC_loss: 0.6736 - val_KL: 15.2213\n",
      "Epoch 22/40\n",
      "55400/58000 [===========================>..] - ETA: 0s - loss: 0.7284 - REC_loss: 0.6590 - KL: 15.0180Epoch 21 the KL weight is 0.00506\n",
      "58000/58000 [==============================] - 0s - loss: 0.7284 - REC_loss: 0.6591 - KL: 15.0130 - val_loss: 0.7447 - val_REC_loss: 0.6753 - val_KL: 15.0239\n",
      "Epoch 23/40\n",
      "56800/58000 [============================>.] - ETA: 0s - loss: 0.7339 - REC_loss: 0.6593 - KL: 14.7381Epoch 22 the KL weight is 0.0055199997\n",
      "58000/58000 [==============================] - 0s - loss: 0.7342 - REC_loss: 0.6597 - KL: 14.7353 - val_loss: 0.7505 - val_REC_loss: 0.6761 - val_KL: 14.7135\n",
      "Epoch 24/40\n",
      "56600/58000 [============================>.] - ETA: 0s - loss: 0.7409 - REC_loss: 0.6610 - KL: 14.4750Epoch 23 the KL weight is 0.0059999996\n",
      "58000/58000 [==============================] - 0s - loss: 0.7407 - REC_loss: 0.6609 - KL: 14.4723 - val_loss: 0.7561 - val_REC_loss: 0.6764 - val_KL: 14.4429\n",
      "Epoch 25/40\n",
      "56800/58000 [============================>.] - ETA: 0s - loss: 0.7469 - REC_loss: 0.6620 - KL: 14.1561Epoch 24 the KL weight is 0.0064999997\n",
      "58000/58000 [==============================] - 0s - loss: 0.7471 - REC_loss: 0.6622 - KL: 14.1563 - val_loss: 0.7637 - val_REC_loss: 0.6786 - val_KL: 14.1835\n",
      "Epoch 26/40\n",
      "57400/58000 [============================>.] - ETA: 0s - loss: 0.7534 - REC_loss: 0.6636 - KL: 13.8286Epoch 25 the KL weight is 0.0070199994\n",
      "58000/58000 [==============================] - 0s - loss: 0.7536 - REC_loss: 0.6637 - KL: 13.8282 - val_loss: 0.7713 - val_REC_loss: 0.6812 - val_KL: 13.8584\n",
      "Epoch 27/40\n",
      "56800/58000 [============================>.] - ETA: 0s - loss: 0.7603 - REC_loss: 0.6655 - KL: 13.5101Epoch 26 the KL weight is 0.0075599994\n",
      "58000/58000 [==============================] - 0s - loss: 0.7605 - REC_loss: 0.6657 - KL: 13.5088 - val_loss: 0.7766 - val_REC_loss: 0.6817 - val_KL: 13.5251\n",
      "Epoch 28/40\n",
      "56600/58000 [============================>.] - ETA: 0s - loss: 0.7675 - REC_loss: 0.6677 - KL: 13.1976Epoch 27 the KL weight is 0.008119999\n",
      "58000/58000 [==============================] - 0s - loss: 0.7676 - REC_loss: 0.6678 - KL: 13.1944 - val_loss: 0.7845 - val_REC_loss: 0.6853 - val_KL: 13.1210\n",
      "Epoch 29/40\n",
      "56800/58000 [============================>.] - ETA: 0s - loss: 0.7741 - REC_loss: 0.6700 - KL: 12.8214Epoch 28 the KL weight is 0.008699999\n",
      "58000/58000 [==============================] - 0s - loss: 0.7741 - REC_loss: 0.6700 - KL: 12.8202 - val_loss: 0.7900 - val_REC_loss: 0.6865 - val_KL: 12.7444\n",
      "Epoch 30/40\n",
      "57600/58000 [============================>.] - ETA: 0s - loss: 0.7812 - REC_loss: 0.6728 - KL: 12.4526Epoch 29 the KL weight is 0.009299999\n",
      "58000/58000 [==============================] - 0s - loss: 0.7812 - REC_loss: 0.6728 - KL: 12.4526 - val_loss: 0.7964 - val_REC_loss: 0.6884 - val_KL: 12.4117\n",
      "Epoch 31/40\n",
      "56800/58000 [============================>.] - ETA: 0s - loss: 0.7884 - REC_loss: 0.6760 - KL: 12.0866Epoch 30 the KL weight is 0.009919999\n",
      "58000/58000 [==============================] - 0s - loss: 0.7882 - REC_loss: 0.6759 - KL: 12.0847 - val_loss: 0.8035 - val_REC_loss: 0.6918 - val_KL: 12.0106\n",
      "Epoch 32/40\n",
      "56400/58000 [============================>.] - ETA: 0s - loss: 0.7950 - REC_loss: 0.6786 - KL: 11.7325Epoch 31 the KL weight is 0.01\n",
      "58000/58000 [==============================] - 0s - loss: 0.7953 - REC_loss: 0.6790 - KL: 11.7292 - val_loss: 0.8112 - val_REC_loss: 0.6957 - val_KL: 11.6358\n",
      "Epoch 33/40\n",
      "56600/58000 [============================>.] - ETA: 0s - loss: 0.7952 - REC_loss: 0.6796 - KL: 11.5585Epoch 32 the KL weight is 0.01\n",
      "58000/58000 [==============================] - 0s - loss: 0.7956 - REC_loss: 0.6800 - KL: 11.5570 - val_loss: 0.8118 - val_REC_loss: 0.6964 - val_KL: 11.5403\n",
      "Epoch 34/40\n",
      "56800/58000 [============================>.] - ETA: 0s - loss: 0.7954 - REC_loss: 0.6803 - KL: 11.5075Epoch 33 the KL weight is 0.01\n",
      "58000/58000 [==============================] - 0s - loss: 0.7953 - REC_loss: 0.6802 - KL: 11.5079 - val_loss: 0.8103 - val_REC_loss: 0.6950 - val_KL: 11.5334\n",
      "Epoch 35/40\n",
      "56800/58000 [============================>.] - ETA: 0s - loss: 0.7956 - REC_loss: 0.6811 - KL: 11.4485Epoch 34 the KL weight is 0.01\n",
      "58000/58000 [==============================] - 0s - loss: 0.7952 - REC_loss: 0.6807 - KL: 11.4491 - val_loss: 0.8126 - val_REC_loss: 0.6986 - val_KL: 11.3973\n",
      "Epoch 36/40\n",
      "57200/58000 [============================>.] - ETA: 0s - loss: 0.7944 - REC_loss: 0.6807 - KL: 11.3676Epoch 35 the KL weight is 0.01\n",
      "58000/58000 [==============================] - 0s - loss: 0.7945 - REC_loss: 0.6808 - KL: 11.3683 - val_loss: 0.8096 - val_REC_loss: 0.6961 - val_KL: 11.3588\n",
      "Epoch 37/40\n",
      "56600/58000 [============================>.] - ETA: 0s - loss: 0.7945 - REC_loss: 0.6808 - KL: 11.3664Epoch 36 the KL weight is 0.01\n",
      "58000/58000 [==============================] - 0s - loss: 0.7947 - REC_loss: 0.6811 - KL: 11.3647 - val_loss: 0.8097 - val_REC_loss: 0.6969 - val_KL: 11.2779\n",
      "Epoch 38/40\n",
      "57000/58000 [============================>.] - ETA: 0s - loss: 0.7943 - REC_loss: 0.6812 - KL: 11.3084Epoch 37 the KL weight is 0.01\n",
      "58000/58000 [==============================] - 0s - loss: 0.7941 - REC_loss: 0.6810 - KL: 11.3086 - val_loss: 0.8115 - val_REC_loss: 0.6979 - val_KL: 11.3566\n",
      "Epoch 39/40\n",
      "57200/58000 [============================>.] - ETA: 0s - loss: 0.7941 - REC_loss: 0.6808 - KL: 11.3282Epoch 38 the KL weight is 0.01\n",
      "58000/58000 [==============================] - 0s - loss: 0.7942 - REC_loss: 0.6809 - KL: 11.3266 - val_loss: 0.8093 - val_REC_loss: 0.6961 - val_KL: 11.3209\n",
      "Epoch 40/40\n",
      "57200/58000 [============================>.] - ETA: 0s - loss: 0.7942 - REC_loss: 0.6810 - KL: 11.3172Epoch 39 the KL weight is 0.01\n",
      "58000/58000 [==============================] - 0s - loss: 0.7941 - REC_loss: 0.6809 - KL: 11.3184 - val_loss: 0.8099 - val_REC_loss: 0.6965 - val_KL: 11.3414\n"
     ]
    }
   ],
   "source": [
    "binary_vae,encoder_Bvae,generator_Bvae, beta_B= binary_VAE(X_train.shape[1],Nb=32,units=500,layers_e=2,layers_d=0,beta_ann=True)\n",
    "\n",
    "hist2 = binary_vae.fit(X_train, X_train, epochs=40, batch_size=batch_size\n",
    "                           ,validation_data=(X_val,X_val) #)\n",
    "                        ,callbacks=[Beta_Call(beta_B,kl_inc=1*(1./5000)/10,max_KL=1*(0.1)/10, verbose=1)] )"
   ]
  },
  {
   "cell_type": "code",
   "execution_count": 56,
   "metadata": {
    "collapsed": false,
    "scrolled": true
   },
   "outputs": [
    {
     "name": "stdout",
     "output_type": "stream",
     "text": [
      "MAP on CIFAR-10 dataset\n",
      "Binary VAE =  0.26695753400649314\n",
      "Binary VAE con precision y recall para B-VAE 0.30544999999999967 0.2633436109193072\n",
      "CIFAR-10\n"
     ]
    },
    {
     "data": {
      "image/png": "[encoded data removed]",
      "text/plain": [
       "<matplotlib.figure.Figure at 0x7f3687c239b0>"
      ]
     },
     "metadata": {},
     "output_type": "display_data"
    },
    {
     "data": {
      "image/png": "[encoded data removed]",
      "text/plain": [
       "<matplotlib.figure.Figure at 0x7f3552427eb8>"
      ]
     },
     "metadata": {},
     "output_type": "display_data"
    }
   ],
   "source": [
    "total_hash_BVAE, test_hash_BVAE = hash_data(encoder_Bvae,X_train,X_test)\n",
    "\n",
    "print(\"MAP on %s dataset\"%name_dat)\n",
    "map_b= evaluate_hashing_DE(total_hash_BVAE, test_hash_BVAE,labels_train,labels_test,eval_tipo=\"MAP\",K=9999999)\n",
    "print(\"Binary VAE = \",map_b)\n",
    "\n",
    "p_b,r_b = evaluate_hashing_DE(total_hash_BVAE,test_hash_BVAE,labels_train,labels_test,eval_tipo=\"PRatk\",K=5000)\n",
    "print(\"Binary VAE con precision y recall para B-VAE\",p_b,r_b)\n",
    "\n",
    "X_train_logits = encoder_Bvae.predict(X_train)\n",
    "X_train_Bcode = expit(X_train_logits)\n",
    "print(name_dat)\n",
    "visualize_probas(X_train_logits, X_train_Bcode)"
   ]
  },
  {
   "cell_type": "code",
   "execution_count": 57,
   "metadata": {
    "collapsed": false,
    "scrolled": true
   },
   "outputs": [
    {
     "name": "stdout",
     "output_type": "stream",
     "text": [
      "pre-encoder network:\n",
      "_________________________________________________________________\n",
      "Layer (type)                 Output Shape              Param #   \n",
      "=================================================================\n",
      "input_46 (InputLayer)        (None, 512)               0         \n",
      "_________________________________________________________________\n",
      "dense_46 (Dense)             (None, 500)               256500    \n",
      "_________________________________________________________________\n",
      "batch_normalization_31 (Batc (None, 500)               2000      \n",
      "_________________________________________________________________\n",
      "dense_47 (Dense)             (None, 500)               250500    \n",
      "_________________________________________________________________\n",
      "batch_normalization_32 (Batc (None, 500)               2000      \n",
      "=================================================================\n",
      "Total params: 511,000\n",
      "Trainable params: 509,000\n",
      "Non-trainable params: 2,000\n",
      "_________________________________________________________________\n",
      "generator network:\n",
      "_________________________________________________________________\n",
      "Layer (type)                 Output Shape              Param #   \n",
      "=================================================================\n",
      "input_47 (InputLayer)        (None, 32)                0         \n",
      "_________________________________________________________________\n",
      "dense_48 (Dense)             (None, 512)               16896     \n",
      "=================================================================\n",
      "Total params: 16,896\n",
      "Trainable params: 16,896\n",
      "Non-trainable params: 0\n",
      "_________________________________________________________________\n",
      "Train on 58000 samples, validate on 1000 samples\n",
      "Epoch 1/50\n",
      "56000/58000 [===========================>..] - ETA: 0s - loss: 0.9381 - REC_loss: 0.9381 - KL: 15.5588Epoch 0 the KL weight is 4e-05\n",
      "58000/58000 [==============================] - 1s - loss: 0.9330 - REC_loss: 0.9330 - KL: 15.6194 - val_loss: 0.8211 - val_REC_loss: 0.8211 - val_KL: 18.1093\n",
      "Epoch 2/50\n",
      "56600/58000 [============================>.] - ETA: 0s - loss: 0.7539 - REC_loss: 0.7532 - KL: 17.5786Epoch 1 the KL weight is 0.00012\n",
      "58000/58000 [==============================] - 0s - loss: 0.7531 - REC_loss: 0.7524 - KL: 17.5815 - val_loss: 0.7488 - val_REC_loss: 0.7481 - val_KL: 18.3450\n",
      "Epoch 3/50\n",
      "57000/58000 [============================>.] - ETA: 0s - loss: 0.7099 - REC_loss: 0.7078 - KL: 17.7299Epoch 2 the KL weight is 0.00024\n",
      "58000/58000 [==============================] - 0s - loss: 0.7100 - REC_loss: 0.7079 - KL: 17.7297 - val_loss: 0.7194 - val_REC_loss: 0.7173 - val_KL: 18.0969\n",
      "Epoch 4/50\n",
      "56800/58000 [============================>.] - ETA: 0s - loss: 0.6913 - REC_loss: 0.6871 - KL: 17.6827Epoch 3 the KL weight is 0.0004\n",
      "58000/58000 [==============================] - 0s - loss: 0.6913 - REC_loss: 0.6870 - KL: 17.6805 - val_loss: 0.7052 - val_REC_loss: 0.7009 - val_KL: 17.8658\n",
      "Epoch 5/50\n",
      "57000/58000 [============================>.] - ETA: 0s - loss: 0.6831 - REC_loss: 0.6760 - KL: 17.5816Epoch 4 the KL weight is 0.00059999997\n",
      "58000/58000 [==============================] - 0s - loss: 0.6829 - REC_loss: 0.6759 - KL: 17.5801 - val_loss: 0.6995 - val_REC_loss: 0.6924 - val_KL: 17.6975\n",
      "Epoch 6/50\n",
      "57000/58000 [============================>.] - ETA: 0s - loss: 0.6802 - REC_loss: 0.6697 - KL: 17.4551Epoch 5 the KL weight is 0.00084\n",
      "58000/58000 [==============================] - 0s - loss: 0.6801 - REC_loss: 0.6697 - KL: 17.4532 - val_loss: 0.6976 - val_REC_loss: 0.6871 - val_KL: 17.5241\n",
      "Epoch 7/50\n",
      "57000/58000 [============================>.] - ETA: 0s - loss: 0.6806 - REC_loss: 0.6661 - KL: 17.2860Epoch 6 the KL weight is 0.00112\n",
      "58000/58000 [==============================] - 0s - loss: 0.6806 - REC_loss: 0.6660 - KL: 17.2845 - val_loss: 0.6982 - val_REC_loss: 0.6837 - val_KL: 17.3067\n",
      "Epoch 8/50\n",
      "56000/58000 [===========================>..] - ETA: 0s - loss: 0.6827 - REC_loss: 0.6636 - KL: 17.1003Epoch 7 the KL weight is 0.00144\n",
      "58000/58000 [==============================] - 0s - loss: 0.6827 - REC_loss: 0.6636 - KL: 17.0972 - val_loss: 0.6993 - val_REC_loss: 0.6802 - val_KL: 17.0854\n",
      "Epoch 9/50\n",
      "56800/58000 [============================>.] - ETA: 0s - loss: 0.6865 - REC_loss: 0.6622 - KL: 16.8593Epoch 8 the KL weight is 0.0018\n",
      "58000/58000 [==============================] - 0s - loss: 0.6863 - REC_loss: 0.6620 - KL: 16.8571 - val_loss: 0.7038 - val_REC_loss: 0.6795 - val_KL: 16.8133\n",
      "Epoch 10/50\n",
      "57200/58000 [============================>.] - ETA: 0s - loss: 0.6910 - REC_loss: 0.6610 - KL: 16.6373Epoch 9 the KL weight is 0.0022\n",
      "58000/58000 [==============================] - 0s - loss: 0.6909 - REC_loss: 0.6609 - KL: 16.6366 - val_loss: 0.7094 - val_REC_loss: 0.6796 - val_KL: 16.5528\n",
      "Epoch 11/50\n",
      "56200/58000 [============================>.] - ETA: 0s - loss: 0.6961 - REC_loss: 0.6600 - KL: 16.3805Epoch 10 the KL weight is 0.00264\n",
      "58000/58000 [==============================] - 0s - loss: 0.6964 - REC_loss: 0.6604 - KL: 16.3763 - val_loss: 0.7132 - val_REC_loss: 0.6772 - val_KL: 16.3317\n",
      "Epoch 12/50\n",
      "56800/58000 [============================>.] - ETA: 0s - loss: 0.7026 - REC_loss: 0.6601 - KL: 16.1027Epoch 11 the KL weight is 0.00312\n",
      "58000/58000 [==============================] - 0s - loss: 0.7027 - REC_loss: 0.6602 - KL: 16.0999 - val_loss: 0.7203 - val_REC_loss: 0.6779 - val_KL: 16.0755\n",
      "Epoch 13/50\n",
      "56800/58000 [============================>.] - ETA: 0s - loss: 0.7093 - REC_loss: 0.6599 - KL: 15.8272Epoch 12 the KL weight is 0.00364\n",
      "58000/58000 [==============================] - 0s - loss: 0.7093 - REC_loss: 0.6599 - KL: 15.8247 - val_loss: 0.7254 - val_REC_loss: 0.6762 - val_KL: 15.7843\n",
      "Epoch 14/50\n",
      "56600/58000 [============================>.] - ETA: 0s - loss: 0.7170 - REC_loss: 0.6605 - KL: 15.5106Epoch 13 the KL weight is 0.0042\n",
      "58000/58000 [==============================] - 0s - loss: 0.7166 - REC_loss: 0.6602 - KL: 15.5079 - val_loss: 0.7321 - val_REC_loss: 0.6758 - val_KL: 15.4687\n",
      "Epoch 15/50\n",
      "56600/58000 [============================>.] - ETA: 0s - loss: 0.7242 - REC_loss: 0.6605 - KL: 15.1571Epoch 14 the KL weight is 0.0047999998\n",
      "58000/58000 [==============================] - 0s - loss: 0.7244 - REC_loss: 0.6608 - KL: 15.1536 - val_loss: 0.7413 - val_REC_loss: 0.6780 - val_KL: 15.0572\n",
      "Epoch 16/50\n",
      "56600/58000 [============================>.] - ETA: 0s - loss: 0.7329 - REC_loss: 0.6620 - KL: 14.7787Epoch 15 the KL weight is 0.00544\n",
      "58000/58000 [==============================] - 0s - loss: 0.7327 - REC_loss: 0.6617 - KL: 14.7770 - val_loss: 0.7502 - val_REC_loss: 0.6797 - val_KL: 14.6989\n",
      "Epoch 17/50\n",
      "56600/58000 [============================>.] - ETA: 0s - loss: 0.7409 - REC_loss: 0.6628 - KL: 14.3654Epoch 16 the KL weight is 0.00612\n",
      "58000/58000 [==============================] - 0s - loss: 0.7412 - REC_loss: 0.6631 - KL: 14.3639 - val_loss: 0.7573 - val_REC_loss: 0.6793 - val_KL: 14.3369\n",
      "Epoch 18/50\n",
      "56200/58000 [============================>.] - ETA: 0s - loss: 0.7505 - REC_loss: 0.6650 - KL: 13.9745Epoch 17 the KL weight is 0.00684\n",
      "58000/58000 [==============================] - 0s - loss: 0.7501 - REC_loss: 0.6646 - KL: 13.9686 - val_loss: 0.7661 - val_REC_loss: 0.6811 - val_KL: 13.8911\n",
      "Epoch 19/50\n",
      "56800/58000 [============================>.] - ETA: 0s - loss: 0.7593 - REC_loss: 0.6669 - KL: 13.5032Epoch 18 the KL weight is 0.0076\n",
      "58000/58000 [==============================] - 0s - loss: 0.7596 - REC_loss: 0.6673 - KL: 13.5024 - val_loss: 0.7755 - val_REC_loss: 0.6832 - val_KL: 13.5062\n",
      "Epoch 20/50\n",
      "56400/58000 [============================>.] - ETA: 0s - loss: 0.7690 - REC_loss: 0.6698 - KL: 13.0556Epoch 19 the KL weight is 0.0084\n",
      "58000/58000 [==============================] - 0s - loss: 0.7691 - REC_loss: 0.6699 - KL: 13.0512 - val_loss: 0.7861 - val_REC_loss: 0.6871 - val_KL: 13.0309\n",
      "Epoch 21/50\n",
      "56600/58000 [============================>.] - ETA: 0s - loss: 0.7786 - REC_loss: 0.6731 - KL: 12.5558Epoch 20 the KL weight is 0.00924\n",
      "58000/58000 [==============================] - 0s - loss: 0.7787 - REC_loss: 0.6732 - KL: 12.5530 - val_loss: 0.7951 - val_REC_loss: 0.6900 - val_KL: 12.5157\n",
      "Epoch 22/50\n",
      "56800/58000 [============================>.] - ETA: 0s - loss: 0.7887 - REC_loss: 0.6775 - KL: 12.0370Epoch 21 the KL weight is 0.01012\n",
      "58000/58000 [==============================] - 0s - loss: 0.7883 - REC_loss: 0.6771 - KL: 12.0367 - val_loss: 0.8056 - val_REC_loss: 0.6949 - val_KL: 11.9899\n",
      "Epoch 23/50\n",
      "56200/58000 [============================>.] - ETA: 0s - loss: 0.7986 - REC_loss: 0.6820 - KL: 11.5241Epoch 22 the KL weight is 0.011039999\n",
      "58000/58000 [==============================] - 0s - loss: 0.7983 - REC_loss: 0.6817 - KL: 11.5189 - val_loss: 0.8143 - val_REC_loss: 0.6986 - val_KL: 11.4264\n",
      "Epoch 24/50\n",
      "57600/58000 [============================>.] - ETA: 0s - loss: 0.8081 - REC_loss: 0.6867 - KL: 10.9949Epoch 23 the KL weight is 0.011999999\n",
      "58000/58000 [==============================] - 0s - loss: 0.8081 - REC_loss: 0.6868 - KL: 10.9939 - val_loss: 0.8240 - val_REC_loss: 0.7025 - val_KL: 11.0070\n",
      "Epoch 25/50\n",
      "56600/58000 [============================>.] - ETA: 0s - loss: 0.8177 - REC_loss: 0.6922 - KL: 10.4597Epoch 24 the KL weight is 0.012999999\n",
      "58000/58000 [==============================] - 0s - loss: 0.8175 - REC_loss: 0.6920 - KL: 10.4562 - val_loss: 0.8340 - val_REC_loss: 0.7094 - val_KL: 10.3804\n",
      "Epoch 26/50\n",
      "56800/58000 [============================>.] - ETA: 0s - loss: 0.8277 - REC_loss: 0.6992 - KL: 9.8861Epoch 25 the KL weight is 0.014039999\n",
      "58000/58000 [==============================] - 0s - loss: 0.8273 - REC_loss: 0.6988 - KL: 9.8852 - val_loss: 0.8438 - val_REC_loss: 0.7156 - val_KL: 9.8631\n",
      "Epoch 27/50\n",
      "57000/58000 [============================>.] - ETA: 0s - loss: 0.8368 - REC_loss: 0.7057 - KL: 9.3422Epoch 26 the KL weight is 0.015119999\n",
      "58000/58000 [==============================] - 0s - loss: 0.8367 - REC_loss: 0.7056 - KL: 9.3406 - val_loss: 0.8516 - val_REC_loss: 0.7211 - val_KL: 9.2943\n",
      "Epoch 28/50\n",
      "57000/58000 [============================>.] - ETA: 0s - loss: 0.8456 - REC_loss: 0.7129 - KL: 8.7768Epoch 27 the KL weight is 0.016239999\n",
      "58000/58000 [==============================] - 0s - loss: 0.8456 - REC_loss: 0.7130 - KL: 8.7748 - val_loss: 0.8606 - val_REC_loss: 0.7289 - val_KL: 8.7103\n",
      "Epoch 29/50\n",
      "56600/58000 [============================>.] - ETA: 0s - loss: 0.8545 - REC_loss: 0.7208 - KL: 8.2324Epoch 28 the KL weight is 0.017399998\n",
      "58000/58000 [==============================] - 0s - loss: 0.8545 - REC_loss: 0.7209 - KL: 8.2290 - val_loss: 0.8698 - val_REC_loss: 0.7369 - val_KL: 8.1829\n",
      "Epoch 30/50\n",
      "56200/58000 [============================>.] - ETA: 0s - loss: 0.8633 - REC_loss: 0.7293 - KL: 7.6975Epoch 29 the KL weight is 0.018599998\n",
      "58000/58000 [==============================] - 0s - loss: 0.8632 - REC_loss: 0.7293 - KL: 7.6948 - val_loss: 0.8803 - val_REC_loss: 0.7474 - val_KL: 7.6387\n",
      "Epoch 31/50\n",
      "57200/58000 [============================>.] - ETA: 0s - loss: 0.8712 - REC_loss: 0.7379 - KL: 7.1627Epoch 30 the KL weight is 0.019839998\n",
      "58000/58000 [==============================] - 0s - loss: 0.8712 - REC_loss: 0.7381 - KL: 7.1603 - val_loss: 0.8876 - val_REC_loss: 0.7547 - val_KL: 7.1482\n",
      "Epoch 32/50\n",
      "56400/58000 [============================>.] - ETA: 0s - loss: 0.8787 - REC_loss: 0.7481 - KL: 6.5813Epoch 31 the KL weight is 0.02\n",
      "58000/58000 [==============================] - 0s - loss: 0.8786 - REC_loss: 0.7481 - KL: 6.5765 - val_loss: 0.8939 - val_REC_loss: 0.7654 - val_KL: 6.4746\n",
      "Epoch 33/50\n",
      "57000/58000 [============================>.] - ETA: 0s - loss: 0.8790 - REC_loss: 0.7515 - KL: 6.3717Epoch 32 the KL weight is 0.02\n",
      "58000/58000 [==============================] - 0s - loss: 0.8790 - REC_loss: 0.7516 - KL: 6.3710 - val_loss: 0.8918 - val_REC_loss: 0.7643 - val_KL: 6.3765\n",
      "Epoch 34/50\n",
      "56600/58000 [============================>.] - ETA: 0s - loss: 0.8783 - REC_loss: 0.7532 - KL: 6.2543Epoch 33 the KL weight is 0.02\n",
      "58000/58000 [==============================] - 0s - loss: 0.8782 - REC_loss: 0.7532 - KL: 6.2513 - val_loss: 0.8943 - val_REC_loss: 0.7707 - val_KL: 6.1837\n",
      "Epoch 35/50\n",
      "56400/58000 [============================>.] - ETA: 0s - loss: 0.8777 - REC_loss: 0.7538 - KL: 6.1954Epoch 34 the KL weight is 0.02\n",
      "58000/58000 [==============================] - 0s - loss: 0.8776 - REC_loss: 0.7537 - KL: 6.1943 - val_loss: 0.8950 - val_REC_loss: 0.7718 - val_KL: 6.1608\n",
      "Epoch 36/50\n",
      "56600/58000 [============================>.] - ETA: 0s - loss: 0.8772 - REC_loss: 0.7550 - KL: 6.1124Epoch 35 the KL weight is 0.02\n",
      "58000/58000 [==============================] - 0s - loss: 0.8773 - REC_loss: 0.7550 - KL: 6.1117 - val_loss: 0.8941 - val_REC_loss: 0.7703 - val_KL: 6.1887\n",
      "Epoch 37/50\n",
      "57000/58000 [============================>.] - ETA: 0s - loss: 0.8766 - REC_loss: 0.7557 - KL: 6.0455Epoch 36 the KL weight is 0.02\n",
      "58000/58000 [==============================] - 0s - loss: 0.8765 - REC_loss: 0.7556 - KL: 6.0443 - val_loss: 0.8922 - val_REC_loss: 0.7702 - val_KL: 6.0995\n",
      "Epoch 38/50\n",
      "57000/58000 [============================>.] - ETA: 0s - loss: 0.8760 - REC_loss: 0.7563 - KL: 5.9857Epoch 37 the KL weight is 0.02\n",
      "58000/58000 [==============================] - 0s - loss: 0.8760 - REC_loss: 0.7563 - KL: 5.9848 - val_loss: 0.8943 - val_REC_loss: 0.7735 - val_KL: 6.0395\n",
      "Epoch 39/50\n",
      "56800/58000 [============================>.] - ETA: 0s - loss: 0.8753 - REC_loss: 0.7566 - KL: 5.9343Epoch 38 the KL weight is 0.02\n",
      "58000/58000 [==============================] - 0s - loss: 0.8754 - REC_loss: 0.7567 - KL: 5.9341 - val_loss: 0.8933 - val_REC_loss: 0.7725 - val_KL: 6.0359\n",
      "Epoch 40/50\n",
      "57000/58000 [============================>.] - ETA: 0s - loss: 0.8748 - REC_loss: 0.7567 - KL: 5.9032Epoch 39 the KL weight is 0.02\n",
      "58000/58000 [==============================] - 0s - loss: 0.8748 - REC_loss: 0.7568 - KL: 5.9029 - val_loss: 0.8932 - val_REC_loss: 0.7741 - val_KL: 5.9573\n",
      "Epoch 41/50\n",
      "56800/58000 [============================>.] - ETA: 0s - loss: 0.8740 - REC_loss: 0.7574 - KL: 5.8327Epoch 40 the KL weight is 0.02\n",
      "58000/58000 [==============================] - 0s - loss: 0.8741 - REC_loss: 0.7574 - KL: 5.8323 - val_loss: 0.8914 - val_REC_loss: 0.7739 - val_KL: 5.8725\n",
      "Epoch 42/50\n",
      "56600/58000 [============================>.] - ETA: 0s - loss: 0.8737 - REC_loss: 0.7580 - KL: 5.7848Epoch 41 the KL weight is 0.02\n",
      "58000/58000 [==============================] - 0s - loss: 0.8737 - REC_loss: 0.7580 - KL: 5.7850 - val_loss: 0.8903 - val_REC_loss: 0.7735 - val_KL: 5.8421\n",
      "Epoch 43/50\n",
      "57000/58000 [============================>.] - ETA: 0s - loss: 0.8731 - REC_loss: 0.7586 - KL: 5.7258Epoch 42 the KL weight is 0.02\n",
      "58000/58000 [==============================] - 0s - loss: 0.8731 - REC_loss: 0.7586 - KL: 5.7251 - val_loss: 0.8895 - val_REC_loss: 0.7744 - val_KL: 5.7528\n",
      "Epoch 44/50\n",
      "57000/58000 [============================>.] - ETA: 0s - loss: 0.8728 - REC_loss: 0.7590 - KL: 5.6921Epoch 43 the KL weight is 0.02\n",
      "58000/58000 [==============================] - 0s - loss: 0.8729 - REC_loss: 0.7591 - KL: 5.6918 - val_loss: 0.8901 - val_REC_loss: 0.7743 - val_KL: 5.7906\n",
      "Epoch 45/50\n",
      "56600/58000 [============================>.] - ETA: 0s - loss: 0.8724 - REC_loss: 0.7594 - KL: 5.6515Epoch 44 the KL weight is 0.02\n",
      "58000/58000 [==============================] - 0s - loss: 0.8726 - REC_loss: 0.7595 - KL: 5.6505 - val_loss: 0.8882 - val_REC_loss: 0.7754 - val_KL: 5.6378\n",
      "Epoch 46/50\n",
      "56000/58000 [===========================>..] - ETA: 0s - loss: 0.8714 - REC_loss: 0.7592 - KL: 5.6082Epoch 45 the KL weight is 0.02\n",
      "58000/58000 [==============================] - 0s - loss: 0.8715 - REC_loss: 0.7594 - KL: 5.6079 - val_loss: 0.8908 - val_REC_loss: 0.7769 - val_KL: 5.6963\n",
      "Epoch 47/50\n",
      "56400/58000 [============================>.] - ETA: 0s - loss: 0.8717 - REC_loss: 0.7596 - KL: 5.6024Epoch 46 the KL weight is 0.02\n",
      "58000/58000 [==============================] - 0s - loss: 0.8718 - REC_loss: 0.7598 - KL: 5.6015 - val_loss: 0.8909 - val_REC_loss: 0.7781 - val_KL: 5.6426\n",
      "Epoch 48/50\n",
      "56400/58000 [============================>.] - ETA: 0s - loss: 0.8712 - REC_loss: 0.7598 - KL: 5.5665Epoch 47 the KL weight is 0.02\n",
      "58000/58000 [==============================] - 0s - loss: 0.8711 - REC_loss: 0.7598 - KL: 5.5661 - val_loss: 0.8893 - val_REC_loss: 0.7779 - val_KL: 5.5676\n",
      "Epoch 49/50\n",
      "56800/58000 [============================>.] - ETA: 0s - loss: 0.8707 - REC_loss: 0.7605 - KL: 5.5095Epoch 48 the KL weight is 0.02\n",
      "58000/58000 [==============================] - 0s - loss: 0.8706 - REC_loss: 0.7604 - KL: 5.5094 - val_loss: 0.8880 - val_REC_loss: 0.7772 - val_KL: 5.5412\n",
      "Epoch 50/50\n",
      "56400/58000 [============================>.] - ETA: 0s - loss: 0.8707 - REC_loss: 0.7609 - KL: 5.4911Epoch 49 the KL weight is 0.02\n",
      "58000/58000 [==============================] - 0s - loss: 0.8704 - REC_loss: 0.7606 - KL: 5.4913 - val_loss: 0.8871 - val_REC_loss: 0.7768 - val_KL: 5.5168\n"
     ]
    }
   ],
   "source": [
    "binary_vae,encoder_Bvae,generator_Bvae, beta_B= binary_VAE(X_train.shape[1],Nb=32,units=500,layers_e=2,layers_d=0,beta_ann=True)\n",
    "\n",
    "hist2 = binary_vae.fit(X_train, X_train, epochs=50, batch_size=batch_size\n",
    "                           ,validation_data=(X_val,X_val) #)\n",
    "                        ,callbacks=[Beta_Call(beta_B,kl_inc=2*(1./5000)/10,max_KL=2*(0.1)/10, verbose=1)] )"
   ]
  },
  {
   "cell_type": "code",
   "execution_count": 58,
   "metadata": {
    "collapsed": false
   },
   "outputs": [
    {
     "name": "stdout",
     "output_type": "stream",
     "text": [
      "MAP on CIFAR-10 dataset\n",
      "Traditional VAE =  0.1300238920315121\n",
      "Binary VAE =  0.23215855195559734\n"
     ]
    },
    {
     "ename": "NameError",
     "evalue": "name 'evaluate_hashing' is not defined",
     "output_type": "error",
     "traceback": [
      "\u001b[0;31m---------------------------------------------------------------------------\u001b[0m",
      "\u001b[0;31mNameError\u001b[0m                                 Traceback (most recent call last)",
      "\u001b[0;32m<ipython-input-58-c4044d74831f>\u001b[0m in \u001b[0;36m<module>\u001b[0;34m()\u001b[0m\n\u001b[1;32m      9\u001b[0m \u001b[0;34m\u001b[0m\u001b[0m\n\u001b[1;32m     10\u001b[0m \u001b[0;34m\u001b[0m\u001b[0m\n\u001b[0;32m---> 11\u001b[0;31m \u001b[0mp_t\u001b[0m\u001b[0;34m,\u001b[0m\u001b[0mr_t\u001b[0m \u001b[0;34m=\u001b[0m \u001b[0mevaluate_hashing\u001b[0m\u001b[0;34m(\u001b[0m\u001b[0mtotal_hash_VAE\u001b[0m\u001b[0;34m,\u001b[0m\u001b[0mtest_hash_VAE\u001b[0m\u001b[0;34m,\u001b[0m\u001b[0mlabels_train\u001b[0m\u001b[0;34m,\u001b[0m\u001b[0mlabels_test\u001b[0m\u001b[0;34m,\u001b[0m\u001b[0meval_tipo\u001b[0m\u001b[0;34m=\u001b[0m\u001b[0;34m\"PRatk\"\u001b[0m\u001b[0;34m,\u001b[0m\u001b[0mK\u001b[0m\u001b[0;34m=\u001b[0m\u001b[0;36m5000\u001b[0m\u001b[0;34m)\u001b[0m\u001b[0;34m\u001b[0m\u001b[0m\n\u001b[0m\u001b[1;32m     12\u001b[0m \u001b[0mprint\u001b[0m\u001b[0;34m(\u001b[0m\u001b[0;34m\"Traditional VAE con precision y recall para VAE\"\u001b[0m\u001b[0;34m,\u001b[0m\u001b[0mp_t\u001b[0m\u001b[0;34m,\u001b[0m\u001b[0mr_t\u001b[0m\u001b[0;34m)\u001b[0m\u001b[0;34m\u001b[0m\u001b[0m\n\u001b[1;32m     13\u001b[0m \u001b[0;34m\u001b[0m\u001b[0m\n",
      "\u001b[0;31mNameError\u001b[0m: name 'evaluate_hashing' is not defined"
     ]
    }
   ],
   "source": [
    "total_hash_VAE, test_hash_VAE = hash_data(encoder_Tvae,X_train,X_test, binary=False)\n",
    "total_hash_BVAE, test_hash_BVAE = hash_data(encoder_Bvae,X_train,X_test)\n",
    "\n",
    "print(\"MAP on %s dataset\"%name_dat)\n",
    "map_t= evaluate_hashing_DE(total_hash_VAE,test_hash_VAE,labels_train,labels_test,eval_tipo=\"MAP\",K=9999999)\n",
    "print(\"Traditional VAE = \",map_t)\n",
    "map_b= evaluate_hashing_DE(total_hash_BVAE, test_hash_BVAE,labels_train,labels_test,eval_tipo=\"MAP\",K=9999999)\n",
    "print(\"Binary VAE = \",map_b)\n",
    "\n",
    "\n",
    "p_t,r_t = evaluate_hashing(total_hash_VAE,test_hash_VAE,labels_train,labels_test,eval_tipo=\"PRatk\",K=5000)\n",
    "print(\"Traditional VAE con precision y recall para VAE\",p_t,r_t)\n",
    "\n",
    "p_b,r_b = evaluate_hashing(total_hash_BVAE,test_hash_BVAE,labels_train,labels_test,eval_tipo=\"PRatk\",K=5000)\n",
    "print(\"Binary VAE con precision y recall para B-VAE\",p_b,r_b)"
   ]
  },
  {
   "cell_type": "code",
   "execution_count": null,
   "metadata": {
    "collapsed": false,
    "scrolled": true
   },
   "outputs": [],
   "source": [
    "X_train_logits = encoder_Bvae.predict(X_train)\n",
    "X_train_Bcode = expit(X_train_logits)\n",
    "X_train_Tcode = encoder_Tvae.predict(X_train)\n",
    "\n",
    "print(name_dat)\n",
    "visualize_probas(X_train_logits, X_train_Bcode)\n",
    "\n",
    "visualize_mean(X_train_Tcode)"
   ]
  },
  {
   "cell_type": "code",
   "execution_count": 59,
   "metadata": {
    "collapsed": false,
    "scrolled": true
   },
   "outputs": [
    {
     "name": "stdout",
     "output_type": "stream",
     "text": [
      "pre-encoder network:\n",
      "_________________________________________________________________\n",
      "Layer (type)                 Output Shape              Param #   \n",
      "=================================================================\n",
      "input_49 (InputLayer)        (None, 512)               0         \n",
      "_________________________________________________________________\n",
      "dense_49 (Dense)             (None, 500)               256500    \n",
      "_________________________________________________________________\n",
      "batch_normalization_33 (Batc (None, 500)               2000      \n",
      "_________________________________________________________________\n",
      "dense_50 (Dense)             (None, 500)               250500    \n",
      "_________________________________________________________________\n",
      "batch_normalization_34 (Batc (None, 500)               2000      \n",
      "=================================================================\n",
      "Total params: 511,000\n",
      "Trainable params: 509,000\n",
      "Non-trainable params: 2,000\n",
      "_________________________________________________________________\n",
      "generator network:\n",
      "_________________________________________________________________\n",
      "Layer (type)                 Output Shape              Param #   \n",
      "=================================================================\n",
      "input_50 (InputLayer)        (None, 32)                0         \n",
      "_________________________________________________________________\n",
      "dense_51 (Dense)             (None, 512)               16896     \n",
      "=================================================================\n",
      "Total params: 16,896\n",
      "Trainable params: 16,896\n",
      "Non-trainable params: 0\n",
      "_________________________________________________________________\n",
      "Train on 58000 samples, validate on 1000 samples\n",
      "Epoch 1/50\n",
      "55800/58000 [===========================>..] - ETA: 0s - loss: 0.9397 - REC_loss: 0.9397 - KL: 15.7742Epoch 0 the KL weight is 6e-05\n",
      "58000/58000 [==============================] - 1s - loss: 0.9342 - REC_loss: 0.9342 - KL: 15.8374 - val_loss: 0.8207 - val_REC_loss: 0.8207 - val_KL: 18.3058\n",
      "Epoch 2/50\n",
      "56400/58000 [============================>.] - ETA: 0s - loss: 0.7511 - REC_loss: 0.7501 - KL: 17.7042Epoch 1 the KL weight is 0.00018\n",
      "58000/58000 [==============================] - 0s - loss: 0.7508 - REC_loss: 0.7498 - KL: 17.7068 - val_loss: 0.7432 - val_REC_loss: 0.7421 - val_KL: 18.3091\n",
      "Epoch 3/50\n",
      "56000/58000 [===========================>..] - ETA: 0s - loss: 0.7096 - REC_loss: 0.7064 - KL: 17.8159Epoch 2 the KL weight is 0.00036\n",
      "58000/58000 [==============================] - 0s - loss: 0.7096 - REC_loss: 0.7064 - KL: 17.8157 - val_loss: 0.7158 - val_REC_loss: 0.7125 - val_KL: 18.2503\n",
      "Epoch 4/50\n",
      "56200/58000 [============================>.] - ETA: 0s - loss: 0.6935 - REC_loss: 0.6871 - KL: 17.7279Epoch 3 the KL weight is 0.0006\n",
      "58000/58000 [==============================] - 0s - loss: 0.6929 - REC_loss: 0.6865 - KL: 17.7261 - val_loss: 0.7053 - val_REC_loss: 0.6988 - val_KL: 18.0032\n",
      "Epoch 5/50\n",
      "57000/58000 [============================>.] - ETA: 0s - loss: 0.6863 - REC_loss: 0.6757 - KL: 17.5703Epoch 4 the KL weight is 0.00090000004\n",
      "58000/58000 [==============================] - 0s - loss: 0.6863 - REC_loss: 0.6757 - KL: 17.5675 - val_loss: 0.7000 - val_REC_loss: 0.6894 - val_KL: 17.6708\n",
      "Epoch 6/50\n",
      "57400/58000 [============================>.] - ETA: 0s - loss: 0.6851 - REC_loss: 0.6695 - KL: 17.3439Epoch 5 the KL weight is 0.00126\n",
      "58000/58000 [==============================] - 0s - loss: 0.6851 - REC_loss: 0.6695 - KL: 17.3425 - val_loss: 0.7001 - val_REC_loss: 0.6845 - val_KL: 17.3278\n",
      "Epoch 7/50\n",
      "56000/58000 [===========================>..] - ETA: 0s - loss: 0.6875 - REC_loss: 0.6660 - KL: 17.0856Epoch 6 the KL weight is 0.0016800001\n",
      "58000/58000 [==============================] - 0s - loss: 0.6873 - REC_loss: 0.6658 - KL: 17.0817 - val_loss: 0.7024 - val_REC_loss: 0.6809 - val_KL: 17.0859\n",
      "Epoch 8/50\n",
      "57000/58000 [============================>.] - ETA: 0s - loss: 0.6916 - REC_loss: 0.6634 - KL: 16.7830Epoch 7 the KL weight is 0.0021600001\n",
      "58000/58000 [==============================] - 0s - loss: 0.6913 - REC_loss: 0.6631 - KL: 16.7808 - val_loss: 0.7076 - val_REC_loss: 0.6795 - val_KL: 16.7553\n",
      "Epoch 9/50\n",
      "57200/58000 [============================>.] - ETA: 0s - loss: 0.6976 - REC_loss: 0.6620 - KL: 16.4747Epoch 8 the KL weight is 0.0027\n",
      "58000/58000 [==============================] - 0s - loss: 0.6973 - REC_loss: 0.6618 - KL: 16.4727 - val_loss: 0.7130 - val_REC_loss: 0.6774 - val_KL: 16.4820\n",
      "Epoch 10/50\n",
      "56400/58000 [============================>.] - ETA: 0s - loss: 0.7047 - REC_loss: 0.6612 - KL: 16.1204Epoch 9 the KL weight is 0.0033\n",
      "58000/58000 [==============================] - 0s - loss: 0.7047 - REC_loss: 0.6611 - KL: 16.1168 - val_loss: 0.7204 - val_REC_loss: 0.6770 - val_KL: 16.0870\n",
      "Epoch 11/50\n",
      "56600/58000 [============================>.] - ETA: 0s - loss: 0.7129 - REC_loss: 0.6610 - KL: 15.7289Epoch 10 the KL weight is 0.00396\n",
      "58000/58000 [==============================] - 0s - loss: 0.7127 - REC_loss: 0.6608 - KL: 15.7254 - val_loss: 0.7287 - val_REC_loss: 0.6769 - val_KL: 15.6967\n",
      "Epoch 12/50\n",
      "56600/58000 [============================>.] - ETA: 0s - loss: 0.7225 - REC_loss: 0.6618 - KL: 15.3341Epoch 11 the KL weight is 0.00468\n",
      "58000/58000 [==============================] - 0s - loss: 0.7220 - REC_loss: 0.6613 - KL: 15.3296 - val_loss: 0.7389 - val_REC_loss: 0.6783 - val_KL: 15.2986\n",
      "Epoch 13/50\n",
      "56200/58000 [============================>.] - ETA: 0s - loss: 0.7315 - REC_loss: 0.6618 - KL: 14.8849Epoch 12 the KL weight is 0.0054599997\n",
      "58000/58000 [==============================] - 0s - loss: 0.7317 - REC_loss: 0.6621 - KL: 14.8797 - val_loss: 0.7503 - val_REC_loss: 0.6807 - val_KL: 14.8776\n",
      "Epoch 14/50\n",
      "54600/58000 [===========================>..] - ETA: 0s - loss: 0.7430 - REC_loss: 0.6645 - KL: 14.3835Epoch 13 the KL weight is 0.0062999995\n",
      "58000/58000 [==============================] - 0s - loss: 0.7424 - REC_loss: 0.6639 - KL: 14.3689 - val_loss: 0.7587 - val_REC_loss: 0.6810 - val_KL: 14.2170\n",
      "Epoch 15/50\n",
      "57200/58000 [============================>.] - ETA: 0s - loss: 0.7533 - REC_loss: 0.6662 - KL: 13.8253Epoch 14 the KL weight is 0.0071999994\n",
      "58000/58000 [==============================] - 0s - loss: 0.7532 - REC_loss: 0.6661 - KL: 13.8227 - val_loss: 0.7681 - val_REC_loss: 0.6813 - val_KL: 13.7773\n",
      "Epoch 16/50\n",
      "57200/58000 [============================>.] - ETA: 0s - loss: 0.7644 - REC_loss: 0.6688 - KL: 13.2858Epoch 15 the KL weight is 0.00816\n",
      "58000/58000 [==============================] - 0s - loss: 0.7647 - REC_loss: 0.6691 - KL: 13.2830 - val_loss: 0.7804 - val_REC_loss: 0.6852 - val_KL: 13.2125\n",
      "Epoch 17/50\n",
      "56600/58000 [============================>.] - ETA: 0s - loss: 0.7764 - REC_loss: 0.6727 - KL: 12.7071Epoch 16 the KL weight is 0.00918\n",
      "58000/58000 [==============================] - 0s - loss: 0.7765 - REC_loss: 0.6728 - KL: 12.7009 - val_loss: 0.7923 - val_REC_loss: 0.6894 - val_KL: 12.6080\n",
      "Epoch 18/50\n",
      "55600/58000 [===========================>..] - ETA: 0s - loss: 0.7877 - REC_loss: 0.6768 - KL: 12.0830Epoch 17 the KL weight is 0.01026\n",
      "58000/58000 [==============================] - 0s - loss: 0.7883 - REC_loss: 0.6775 - KL: 12.0784 - val_loss: 0.8047 - val_REC_loss: 0.6945 - val_KL: 11.9959\n",
      "Epoch 19/50\n",
      "56800/58000 [============================>.] - ETA: 0s - loss: 0.8003 - REC_loss: 0.6826 - KL: 11.4713Epoch 18 the KL weight is 0.0114\n",
      "58000/58000 [==============================] - 0s - loss: 0.8005 - REC_loss: 0.6829 - KL: 11.4660 - val_loss: 0.8171 - val_REC_loss: 0.7000 - val_KL: 11.4060\n",
      "Epoch 20/50\n",
      "56000/58000 [===========================>..] - ETA: 0s - loss: 0.8123 - REC_loss: 0.6892 - KL: 10.8061Epoch 19 the KL weight is 0.0126\n",
      "58000/58000 [==============================] - 0s - loss: 0.8123 - REC_loss: 0.6892 - KL: 10.8015 - val_loss: 0.8288 - val_REC_loss: 0.7070 - val_KL: 10.6863\n",
      "Epoch 21/50\n",
      "55800/58000 [===========================>..] - ETA: 0s - loss: 0.8243 - REC_loss: 0.6966 - KL: 10.1321Epoch 20 the KL weight is 0.01386\n",
      "58000/58000 [==============================] - 0s - loss: 0.8241 - REC_loss: 0.6965 - KL: 10.1272 - val_loss: 0.8404 - val_REC_loss: 0.7134 - val_KL: 10.0783\n",
      "Epoch 22/50\n",
      "56000/58000 [===========================>..] - ETA: 0s - loss: 0.8358 - REC_loss: 0.7043 - KL: 9.4863Epoch 21 the KL weight is 0.01518\n",
      "58000/58000 [==============================] - 0s - loss: 0.8358 - REC_loss: 0.7044 - KL: 9.4792 - val_loss: 0.8517 - val_REC_loss: 0.7209 - val_KL: 9.4389\n",
      "Epoch 23/50\n",
      "56600/58000 [============================>.] - ETA: 0s - loss: 0.8467 - REC_loss: 0.7134 - KL: 8.7837Epoch 22 the KL weight is 0.01656\n",
      "58000/58000 [==============================] - 0s - loss: 0.8466 - REC_loss: 0.7134 - KL: 8.7785 - val_loss: 0.8630 - val_REC_loss: 0.7300 - val_KL: 8.7640\n",
      "Epoch 24/50\n",
      "56600/58000 [============================>.] - ETA: 0s - loss: 0.8572 - REC_loss: 0.7229 - KL: 8.1104Epoch 23 the KL weight is 0.018\n",
      "58000/58000 [==============================] - 0s - loss: 0.8577 - REC_loss: 0.7234 - KL: 8.1076 - val_loss: 0.8746 - val_REC_loss: 0.7400 - val_KL: 8.1274\n",
      "Epoch 25/50\n",
      "56200/58000 [============================>.] - ETA: 0s - loss: 0.8680 - REC_loss: 0.7335 - KL: 7.4746Epoch 24 the KL weight is 0.019499999\n",
      "58000/58000 [==============================] - 0s - loss: 0.8677 - REC_loss: 0.7333 - KL: 7.4711 - val_loss: 0.8875 - val_REC_loss: 0.7531 - val_KL: 7.4690\n",
      "Epoch 26/50\n",
      "57000/58000 [============================>.] - ETA: 0s - loss: 0.8767 - REC_loss: 0.7441 - KL: 6.7990Epoch 25 the KL weight is 0.02106\n",
      "58000/58000 [==============================] - 0s - loss: 0.8769 - REC_loss: 0.7443 - KL: 6.7962 - val_loss: 0.8957 - val_REC_loss: 0.7649 - val_KL: 6.7105\n",
      "Epoch 27/50\n",
      "56600/58000 [============================>.] - ETA: 0s - loss: 0.8856 - REC_loss: 0.7558 - KL: 6.1668Epoch 26 the KL weight is 0.02268\n",
      "58000/58000 [==============================] - 0s - loss: 0.8858 - REC_loss: 0.7560 - KL: 6.1648 - val_loss: 0.9024 - val_REC_loss: 0.7727 - val_KL: 6.1608\n",
      "Epoch 28/50\n",
      "56000/58000 [===========================>..] - ETA: 0s - loss: 0.8943 - REC_loss: 0.7678 - KL: 5.5764Epoch 27 the KL weight is 0.02436\n",
      "58000/58000 [==============================] - 0s - loss: 0.8943 - REC_loss: 0.7679 - KL: 5.5696 - val_loss: 0.9106 - val_REC_loss: 0.7860 - val_KL: 5.4978\n",
      "Epoch 29/50\n",
      "57000/58000 [============================>.] - ETA: 0s - loss: 0.9012 - REC_loss: 0.7795 - KL: 4.9938Epoch 28 the KL weight is 0.026099999\n",
      "58000/58000 [==============================] - 0s - loss: 0.9009 - REC_loss: 0.7794 - KL: 4.9908 - val_loss: 0.9181 - val_REC_loss: 0.7965 - val_KL: 4.9884\n",
      "Epoch 30/50\n",
      "56400/58000 [============================>.] - ETA: 0s - loss: 0.9072 - REC_loss: 0.7905 - KL: 4.4729Epoch 29 the KL weight is 0.0279\n",
      "58000/58000 [==============================] - 0s - loss: 0.9074 - REC_loss: 0.7908 - KL: 4.4701 - val_loss: 0.9257 - val_REC_loss: 0.8097 - val_KL: 4.4464\n",
      "Epoch 31/50\n",
      "57000/58000 [============================>.] - ETA: 0s - loss: 0.9132 - REC_loss: 0.8008 - KL: 4.0260Epoch 30 the KL weight is 0.02976\n",
      "58000/58000 [==============================] - 0s - loss: 0.9131 - REC_loss: 0.8009 - KL: 4.0235 - val_loss: 0.9290 - val_REC_loss: 0.8167 - val_KL: 4.0254\n",
      "Epoch 32/50\n",
      "56200/58000 [============================>.] - ETA: 0s - loss: 0.9181 - REC_loss: 0.8108 - KL: 3.6045Epoch 31 the KL weight is 0.03\n",
      "58000/58000 [==============================] - 0s - loss: 0.9181 - REC_loss: 0.8109 - KL: 3.6022 - val_loss: 0.9344 - val_REC_loss: 0.8270 - val_KL: 3.6111\n",
      "Epoch 33/50\n",
      "55800/58000 [===========================>..] - ETA: 0s - loss: 0.9166 - REC_loss: 0.8143 - KL: 3.4076Epoch 32 the KL weight is 0.03\n",
      "58000/58000 [==============================] - 0s - loss: 0.9165 - REC_loss: 0.8143 - KL: 3.4043 - val_loss: 0.9314 - val_REC_loss: 0.8294 - val_KL: 3.4006\n",
      "Epoch 34/50\n",
      "57200/58000 [============================>.] - ETA: 0s - loss: 0.9145 - REC_loss: 0.8156 - KL: 3.2975Epoch 33 the KL weight is 0.03\n",
      "58000/58000 [==============================] - 0s - loss: 0.9145 - REC_loss: 0.8156 - KL: 3.2976 - val_loss: 0.9358 - val_REC_loss: 0.8351 - val_KL: 3.3579\n",
      "Epoch 35/50\n",
      "54800/58000 [===========================>..] - ETA: 0s - loss: 0.9137 - REC_loss: 0.8165 - KL: 3.2405Epoch 34 the KL weight is 0.03\n",
      "58000/58000 [==============================] - 0s - loss: 0.9134 - REC_loss: 0.8163 - KL: 3.2379 - val_loss: 0.9325 - val_REC_loss: 0.8354 - val_KL: 3.2358\n",
      "Epoch 36/50\n",
      "56800/58000 [============================>.] - ETA: 0s - loss: 0.9119 - REC_loss: 0.8168 - KL: 3.1692Epoch 35 the KL weight is 0.03\n",
      "58000/58000 [==============================] - 0s - loss: 0.9122 - REC_loss: 0.8171 - KL: 3.1690 - val_loss: 0.9318 - val_REC_loss: 0.8357 - val_KL: 3.2045\n",
      "Epoch 37/50\n",
      "56000/58000 [===========================>..] - ETA: 0s - loss: 0.9107 - REC_loss: 0.8163 - KL: 3.1463Epoch 36 the KL weight is 0.03\n",
      "58000/58000 [==============================] - 0s - loss: 0.9110 - REC_loss: 0.8167 - KL: 3.1458 - val_loss: 0.9295 - val_REC_loss: 0.8349 - val_KL: 3.1529\n",
      "Epoch 38/50\n",
      "56400/58000 [============================>.] - ETA: 0s - loss: 0.9105 - REC_loss: 0.8168 - KL: 3.1237Epoch 37 the KL weight is 0.03\n",
      "58000/58000 [==============================] - 0s - loss: 0.9106 - REC_loss: 0.8169 - KL: 3.1234 - val_loss: 0.9297 - val_REC_loss: 0.8346 - val_KL: 3.1697\n",
      "Epoch 39/50\n",
      "57200/58000 [============================>.] - ETA: 0s - loss: 0.9102 - REC_loss: 0.8172 - KL: 3.0998Epoch 38 the KL weight is 0.03\n",
      "58000/58000 [==============================] - 0s - loss: 0.9101 - REC_loss: 0.8172 - KL: 3.0989 - val_loss: 0.9297 - val_REC_loss: 0.8364 - val_KL: 3.1093\n",
      "Epoch 40/50\n",
      "56200/58000 [============================>.] - ETA: 0s - loss: 0.9091 - REC_loss: 0.8170 - KL: 3.0687Epoch 39 the KL weight is 0.03\n",
      "58000/58000 [==============================] - 0s - loss: 0.9091 - REC_loss: 0.8170 - KL: 3.0696 - val_loss: 0.9301 - val_REC_loss: 0.8346 - val_KL: 3.1840\n",
      "Epoch 41/50\n",
      "56400/58000 [============================>.] - ETA: 0s - loss: 0.9083 - REC_loss: 0.8164 - KL: 3.0636Epoch 40 the KL weight is 0.03\n",
      "58000/58000 [==============================] - 0s - loss: 0.9085 - REC_loss: 0.8166 - KL: 3.0628 - val_loss: 0.9274 - val_REC_loss: 0.8349 - val_KL: 3.0839\n",
      "Epoch 42/50\n",
      "55800/58000 [===========================>..] - ETA: 0s - loss: 0.9085 - REC_loss: 0.8170 - KL: 3.0477Epoch 41 the KL weight is 0.03\n",
      "58000/58000 [==============================] - 0s - loss: 0.9083 - REC_loss: 0.8169 - KL: 3.0466 - val_loss: 0.9279 - val_REC_loss: 0.8348 - val_KL: 3.1019\n",
      "Epoch 43/50\n",
      "56200/58000 [============================>.] - ETA: 0s - loss: 0.9075 - REC_loss: 0.8161 - KL: 3.0469Epoch 42 the KL weight is 0.03\n",
      "58000/58000 [==============================] - 0s - loss: 0.9078 - REC_loss: 0.8164 - KL: 3.0468 - val_loss: 0.9286 - val_REC_loss: 0.8357 - val_KL: 3.0963\n",
      "Epoch 44/50\n",
      "56800/58000 [============================>.] - ETA: 0s - loss: 0.9071 - REC_loss: 0.8160 - KL: 3.0369Epoch 43 the KL weight is 0.03\n",
      "58000/58000 [==============================] - 0s - loss: 0.9073 - REC_loss: 0.8162 - KL: 3.0364 - val_loss: 0.9256 - val_REC_loss: 0.8331 - val_KL: 3.0834\n",
      "Epoch 45/50\n",
      "56200/58000 [============================>.] - ETA: 0s - loss: 0.9063 - REC_loss: 0.8151 - KL: 3.0392Epoch 44 the KL weight is 0.03\n",
      "58000/58000 [==============================] - 0s - loss: 0.9070 - REC_loss: 0.8159 - KL: 3.0384 - val_loss: 0.9277 - val_REC_loss: 0.8355 - val_KL: 3.0717\n",
      "Epoch 46/50\n",
      "56400/58000 [============================>.] - ETA: 0s - loss: 0.9074 - REC_loss: 0.8162 - KL: 3.0407Epoch 45 the KL weight is 0.03\n",
      "58000/58000 [==============================] - 0s - loss: 0.9070 - REC_loss: 0.8158 - KL: 3.0401 - val_loss: 0.9287 - val_REC_loss: 0.8360 - val_KL: 3.0882\n",
      "Epoch 47/50\n",
      "56400/58000 [============================>.] - ETA: 0s - loss: 0.9065 - REC_loss: 0.8157 - KL: 3.0283Epoch 46 the KL weight is 0.03\n",
      "58000/58000 [==============================] - 0s - loss: 0.9065 - REC_loss: 0.8157 - KL: 3.0280 - val_loss: 0.9267 - val_REC_loss: 0.8353 - val_KL: 3.0472\n",
      "Epoch 48/50\n",
      "56600/58000 [============================>.] - ETA: 0s - loss: 0.9062 - REC_loss: 0.8153 - KL: 3.0315Epoch 47 the KL weight is 0.03\n",
      "58000/58000 [==============================] - 0s - loss: 0.9067 - REC_loss: 0.8157 - KL: 3.0329 - val_loss: 0.9261 - val_REC_loss: 0.8320 - val_KL: 3.1345\n",
      "Epoch 49/50\n",
      "55600/58000 [===========================>..] - ETA: 0s - loss: 0.9058 - REC_loss: 0.8152 - KL: 3.0219Epoch 48 the KL weight is 0.03\n",
      "58000/58000 [==============================] - 0s - loss: 0.9061 - REC_loss: 0.8155 - KL: 3.0218 - val_loss: 0.9240 - val_REC_loss: 0.8307 - val_KL: 3.1108\n",
      "Epoch 50/50\n",
      "56600/58000 [============================>.] - ETA: 0s - loss: 0.9057 - REC_loss: 0.8148 - KL: 3.0290Epoch 49 the KL weight is 0.03\n",
      "58000/58000 [==============================] - 0s - loss: 0.9056 - REC_loss: 0.8148 - KL: 3.0288 - val_loss: 0.9278 - val_REC_loss: 0.8372 - val_KL: 3.0201\n"
     ]
    }
   ],
   "source": [
    "binary_vae,encoder_Bvae,generator_Bvae, beta_B= binary_VAE(X_train.shape[1],Nb=32,units=500,layers_e=2,layers_d=0,beta_ann=True)\n",
    "\n",
    "hist2 = binary_vae.fit(X_train, X_train, epochs=50, batch_size=batch_size\n",
    "                           ,validation_data=(X_val,X_val) #)\n",
    "                        ,callbacks=[Beta_Call(beta_B,kl_inc=3*(1./5000)/10,max_KL=3*(0.1)/10, verbose=1)] )"
   ]
  },
  {
   "cell_type": "code",
   "execution_count": 60,
   "metadata": {
    "collapsed": false,
    "scrolled": true
   },
   "outputs": [
    {
     "name": "stdout",
     "output_type": "stream",
     "text": [
      "MAP on CIFAR-10 dataset\n",
      "Binary VAE =  0.19117537461894313\n",
      "Binary VAE con precision y recall para B-VAE 0.22423019999999996 0.19331749174259377\n",
      "CIFAR-10\n"
     ]
    },
    {
     "data": {
      "image/png": "[encoded data removed]",
      "text/plain": [
       "<matplotlib.figure.Figure at 0x7f3686f11438>"
      ]
     },
     "metadata": {},
     "output_type": "display_data"
    },
    {
     "data": {
      "image/png": "[encoded data removed]",
      "text/plain": [
       "<matplotlib.figure.Figure at 0x7f35402a8c18>"
      ]
     },
     "metadata": {},
     "output_type": "display_data"
    }
   ],
   "source": [
    "total_hash_BVAE, test_hash_BVAE = hash_data(encoder_Bvae,X_train,X_test)\n",
    "\n",
    "print(\"MAP on %s dataset\"%name_dat)\n",
    "map_b= evaluate_hashing_DE(total_hash_BVAE, test_hash_BVAE,labels_train,labels_test,eval_tipo=\"MAP\",K=9999999)\n",
    "print(\"Binary VAE = \",map_b)\n",
    "\n",
    "p_b,r_b = evaluate_hashing_DE(total_hash_BVAE,test_hash_BVAE,labels_train,labels_test,eval_tipo=\"PRatk\",K=5000)\n",
    "print(\"Binary VAE con precision y recall para B-VAE\",p_b,r_b)\n",
    "\n",
    "X_train_logits = encoder_Bvae.predict(X_train)\n",
    "X_train_Bcode = expit(X_train_logits)\n",
    "print(name_dat)\n",
    "visualize_probas(X_train_logits, X_train_Bcode) ##"
   ]
  },
  {
   "cell_type": "code",
   "execution_count": 61,
   "metadata": {
    "collapsed": false,
    "scrolled": true
   },
   "outputs": [
    {
     "name": "stdout",
     "output_type": "stream",
     "text": [
      "pre-encoder network:\n",
      "_________________________________________________________________\n",
      "Layer (type)                 Output Shape              Param #   \n",
      "=================================================================\n",
      "input_52 (InputLayer)        (None, 512)               0         \n",
      "_________________________________________________________________\n",
      "dense_52 (Dense)             (None, 500)               256500    \n",
      "_________________________________________________________________\n",
      "batch_normalization_35 (Batc (None, 500)               2000      \n",
      "_________________________________________________________________\n",
      "dense_53 (Dense)             (None, 500)               250500    \n",
      "_________________________________________________________________\n",
      "batch_normalization_36 (Batc (None, 500)               2000      \n",
      "=================================================================\n",
      "Total params: 511,000\n",
      "Trainable params: 509,000\n",
      "Non-trainable params: 2,000\n",
      "_________________________________________________________________\n",
      "generator network:\n",
      "_________________________________________________________________\n",
      "Layer (type)                 Output Shape              Param #   \n",
      "=================================================================\n",
      "input_53 (InputLayer)        (None, 32)                0         \n",
      "_________________________________________________________________\n",
      "dense_54 (Dense)             (None, 512)               16896     \n",
      "=================================================================\n",
      "Total params: 16,896\n",
      "Trainable params: 16,896\n",
      "Non-trainable params: 0\n",
      "_________________________________________________________________\n",
      "Train on 58000 samples, validate on 1000 samples\n",
      "Epoch 1/50\n",
      "55000/58000 [===========================>..] - ETA: 0s - loss: 0.9433 - REC_loss: 0.9433 - KL: 15.6518Epoch 0 the KL weight is 1e-04\n",
      "58000/58000 [==============================] - 1s - loss: 0.9356 - REC_loss: 0.9356 - KL: 15.7370 - val_loss: 0.8211 - val_REC_loss: 0.8211 - val_KL: 18.1823\n",
      "Epoch 2/50\n",
      "55200/58000 [===========================>..] - ETA: 0s - loss: 0.7559 - REC_loss: 0.7542 - KL: 17.5587Epoch 1 the KL weight is 0.00029999999\n",
      "58000/58000 [==============================] - 0s - loss: 0.7550 - REC_loss: 0.7533 - KL: 17.5643 - val_loss: 0.7477 - val_REC_loss: 0.7458 - val_KL: 18.3352\n",
      "Epoch 3/50\n",
      "54800/58000 [===========================>..] - ETA: 0s - loss: 0.7146 - REC_loss: 0.7093 - KL: 17.6722Epoch 2 the KL weight is 0.00059999997\n",
      "58000/58000 [==============================] - 0s - loss: 0.7137 - REC_loss: 0.7084 - KL: 17.6717 - val_loss: 0.7221 - val_REC_loss: 0.7167 - val_KL: 18.0706\n",
      "Epoch 4/50\n",
      "55000/58000 [===========================>..] - ETA: 0s - loss: 0.6987 - REC_loss: 0.6882 - KL: 17.5611Epoch 3 the KL weight is 0.0009999999\n",
      "58000/58000 [==============================] - 0s - loss: 0.6981 - REC_loss: 0.6876 - KL: 17.5578 - val_loss: 0.7096 - val_REC_loss: 0.6989 - val_KL: 17.8494\n",
      "Epoch 5/50\n",
      "55200/58000 [===========================>..] - ETA: 0s - loss: 0.6946 - REC_loss: 0.6773 - KL: 17.3060Epoch 4 the KL weight is 0.0014999999\n",
      "58000/58000 [==============================] - 0s - loss: 0.6941 - REC_loss: 0.6769 - KL: 17.2988 - val_loss: 0.7085 - val_REC_loss: 0.6910 - val_KL: 17.4817\n",
      "Epoch 6/50\n",
      "55000/58000 [===========================>..] - ETA: 0s - loss: 0.6967 - REC_loss: 0.6712 - KL: 16.9635Epoch 5 the KL weight is 0.0021\n",
      "58000/58000 [==============================] - 0s - loss: 0.6962 - REC_loss: 0.6708 - KL: 16.9552 - val_loss: 0.7109 - val_REC_loss: 0.6854 - val_KL: 16.9714\n",
      "Epoch 7/50\n",
      "55000/58000 [===========================>..] - ETA: 0s - loss: 0.7024 - REC_loss: 0.6677 - KL: 16.5519Epoch 6 the KL weight is 0.0028\n",
      "58000/58000 [==============================] - 0s - loss: 0.7020 - REC_loss: 0.6673 - KL: 16.5434 - val_loss: 0.7178 - val_REC_loss: 0.6830 - val_KL: 16.5412\n",
      "Epoch 8/50\n",
      "54800/58000 [===========================>..] - ETA: 0s - loss: 0.7104 - REC_loss: 0.6653 - KL: 16.0900Epoch 7 the KL weight is 0.0036\n",
      "58000/58000 [==============================] - 0s - loss: 0.7106 - REC_loss: 0.6656 - KL: 16.0805 - val_loss: 0.7265 - val_REC_loss: 0.6815 - val_KL: 16.0848\n",
      "Epoch 9/50\n",
      "55200/58000 [===========================>..] - ETA: 0s - loss: 0.7206 - REC_loss: 0.6646 - KL: 15.5554Epoch 8 the KL weight is 0.0045\n",
      "58000/58000 [==============================] - 0s - loss: 0.7210 - REC_loss: 0.6650 - KL: 15.5473 - val_loss: 0.7377 - val_REC_loss: 0.6816 - val_KL: 15.5678\n",
      "Epoch 10/50\n",
      "54800/58000 [===========================>..] - ETA: 0s - loss: 0.7332 - REC_loss: 0.6658 - KL: 14.9755Epoch 9 the KL weight is 0.0055\n",
      "58000/58000 [==============================] - 0s - loss: 0.7330 - REC_loss: 0.6657 - KL: 14.9646 - val_loss: 0.7501 - val_REC_loss: 0.6829 - val_KL: 14.9384\n",
      "Epoch 11/50\n",
      "55200/58000 [===========================>..] - ETA: 0s - loss: 0.7462 - REC_loss: 0.6674 - KL: 14.3319Epoch 10 the KL weight is 0.0066\n",
      "58000/58000 [==============================] - 0s - loss: 0.7464 - REC_loss: 0.6676 - KL: 14.3286 - val_loss: 0.7633 - val_REC_loss: 0.6847 - val_KL: 14.2888\n",
      "Epoch 12/50\n",
      "54800/58000 [===========================>..] - ETA: 0s - loss: 0.7605 - REC_loss: 0.6703 - KL: 13.6677Epoch 11 the KL weight is 0.0078\n",
      "58000/58000 [==============================] - 0s - loss: 0.7606 - REC_loss: 0.6704 - KL: 13.6580 - val_loss: 0.7775 - val_REC_loss: 0.6872 - val_KL: 13.6797\n",
      "Epoch 13/50\n",
      "55000/58000 [===========================>..] - ETA: 0s - loss: 0.7753 - REC_loss: 0.6745 - KL: 12.9308Epoch 12 the KL weight is 0.009099999\n",
      "58000/58000 [==============================] - 0s - loss: 0.7752 - REC_loss: 0.6744 - KL: 12.9237 - val_loss: 0.7925 - val_REC_loss: 0.6924 - val_KL: 12.8345\n",
      "Epoch 14/50\n",
      "55000/58000 [===========================>..] - ETA: 0s - loss: 0.7904 - REC_loss: 0.6799 - KL: 12.1434Epoch 13 the KL weight is 0.0105\n",
      "58000/58000 [==============================] - 0s - loss: 0.7905 - REC_loss: 0.6800 - KL: 12.1358 - val_loss: 0.8084 - val_REC_loss: 0.6979 - val_KL: 12.1356\n",
      "Epoch 15/50\n",
      "54800/58000 [===========================>..] - ETA: 0s - loss: 0.8054 - REC_loss: 0.6862 - KL: 11.3482Epoch 14 the KL weight is 0.012\n",
      "58000/58000 [==============================] - 0s - loss: 0.8057 - REC_loss: 0.6866 - KL: 11.3376 - val_loss: 0.8242 - val_REC_loss: 0.7054 - val_KL: 11.3135\n",
      "Epoch 16/50\n",
      "55600/58000 [===========================>..] - ETA: 0s - loss: 0.8210 - REC_loss: 0.6951 - KL: 10.4894Epoch 15 the KL weight is 0.0136\n",
      "58000/58000 [==============================] - 0s - loss: 0.8210 - REC_loss: 0.6952 - KL: 10.4842 - val_loss: 0.8388 - val_REC_loss: 0.7128 - val_KL: 10.5046\n",
      "Epoch 17/50\n",
      "54800/58000 [===========================>..] - ETA: 0s - loss: 0.8365 - REC_loss: 0.7054 - KL: 9.6401Epoch 16 the KL weight is 0.0153\n",
      "58000/58000 [==============================] - 0s - loss: 0.8361 - REC_loss: 0.7052 - KL: 9.6298 - val_loss: 0.8523 - val_REC_loss: 0.7221 - val_KL: 9.5763\n",
      "Epoch 18/50\n",
      "55000/58000 [===========================>..] - ETA: 0s - loss: 0.8514 - REC_loss: 0.7169 - KL: 8.7926Epoch 17 the KL weight is 0.0171\n",
      "58000/58000 [==============================] - 0s - loss: 0.8508 - REC_loss: 0.7165 - KL: 8.7808 - val_loss: 0.8694 - val_REC_loss: 0.7357 - val_KL: 8.7352\n",
      "Epoch 19/50\n",
      "54800/58000 [===========================>..] - ETA: 0s - loss: 0.8643 - REC_loss: 0.7286 - KL: 7.9360Epoch 18 the KL weight is 0.019000001\n",
      "58000/58000 [==============================] - 0s - loss: 0.8644 - REC_loss: 0.7288 - KL: 7.9291 - val_loss: 0.8806 - val_REC_loss: 0.7434 - val_KL: 8.0251\n",
      "Epoch 20/50\n",
      "55200/58000 [===========================>..] - ETA: 0s - loss: 0.8774 - REC_loss: 0.7421 - KL: 7.1183Epoch 19 the KL weight is 0.021000002\n",
      "58000/58000 [==============================] - 0s - loss: 0.8774 - REC_loss: 0.7423 - KL: 7.1104 - val_loss: 0.8954 - val_REC_loss: 0.7609 - val_KL: 7.0795\n",
      "Epoch 21/50\n",
      "54800/58000 [===========================>..] - ETA: 0s - loss: 0.8893 - REC_loss: 0.7565 - KL: 6.3246Epoch 20 the KL weight is 0.023100002\n",
      "58000/58000 [==============================] - 0s - loss: 0.8889 - REC_loss: 0.7563 - KL: 6.3143 - val_loss: 0.9047 - val_REC_loss: 0.7746 - val_KL: 6.1978\n",
      "Epoch 22/50\n",
      "54800/58000 [===========================>..] - ETA: 0s - loss: 0.8990 - REC_loss: 0.7716 - KL: 5.5135Epoch 21 the KL weight is 0.025300002\n",
      "58000/58000 [==============================] - 0s - loss: 0.8993 - REC_loss: 0.7721 - KL: 5.5051 - val_loss: 0.9140 - val_REC_loss: 0.7860 - val_KL: 5.5427\n",
      "Epoch 23/50\n",
      "54800/58000 [===========================>..] - ETA: 0s - loss: 0.9088 - REC_loss: 0.7866 - KL: 4.8271Epoch 22 the KL weight is 0.027600002\n",
      "58000/58000 [==============================] - 0s - loss: 0.9082 - REC_loss: 0.7864 - KL: 4.8166 - val_loss: 0.9239 - val_REC_loss: 0.8026 - val_KL: 4.7941\n",
      "Epoch 24/50\n",
      "54600/58000 [===========================>..] - ETA: 0s - loss: 0.9154 - REC_loss: 0.8002 - KL: 4.1760Epoch 23 the KL weight is 0.030000001\n",
      "58000/58000 [==============================] - 0s - loss: 0.9151 - REC_loss: 0.8001 - KL: 4.1688 - val_loss: 0.9318 - val_REC_loss: 0.8167 - val_KL: 4.1680\n",
      "Epoch 25/50\n",
      "54800/58000 [===========================>..] - ETA: 0s - loss: 0.9207 - REC_loss: 0.8128 - KL: 3.5951Epoch 24 the KL weight is 0.032500003\n",
      "58000/58000 [==============================] - 0s - loss: 0.9209 - REC_loss: 0.8133 - KL: 3.5858 - val_loss: 0.9389 - val_REC_loss: 0.8312 - val_KL: 3.5911\n",
      "Epoch 26/50\n",
      "55200/58000 [===========================>..] - ETA: 0s - loss: 0.9268 - REC_loss: 0.8257 - KL: 3.1101Epoch 25 the KL weight is 0.0351\n",
      "58000/58000 [==============================] - 0s - loss: 0.9262 - REC_loss: 0.8253 - KL: 3.1038 - val_loss: 0.9458 - val_REC_loss: 0.8451 - val_KL: 3.0970\n",
      "Epoch 27/50\n",
      "54600/58000 [===========================>..] - ETA: 0s - loss: 0.9303 - REC_loss: 0.8351 - KL: 2.7141Epoch 26 the KL weight is 0.037800003\n",
      "58000/58000 [==============================] - 0s - loss: 0.9306 - REC_loss: 0.8355 - KL: 2.7092 - val_loss: 0.9459 - val_REC_loss: 0.8497 - val_KL: 2.7393\n",
      "Epoch 28/50\n",
      "55200/58000 [===========================>..] - ETA: 0s - loss: 0.9344 - REC_loss: 0.8442 - KL: 2.3862Epoch 27 the KL weight is 0.0406\n",
      "58000/58000 [==============================] - 0s - loss: 0.9342 - REC_loss: 0.8441 - KL: 2.3828 - val_loss: 0.9544 - val_REC_loss: 0.8644 - val_KL: 2.3789\n",
      "Epoch 29/50\n",
      "54600/58000 [===========================>..] - ETA: 0s - loss: 0.9383 - REC_loss: 0.8523 - KL: 2.1180Epoch 28 the KL weight is 0.043500002\n",
      "58000/58000 [==============================] - 0s - loss: 0.9384 - REC_loss: 0.8526 - KL: 2.1152 - val_loss: 0.9547 - val_REC_loss: 0.8678 - val_KL: 2.1404\n",
      "Epoch 30/50\n",
      "55200/58000 [===========================>..] - ETA: 0s - loss: 0.9421 - REC_loss: 0.8589 - KL: 1.9124Epoch 29 the KL weight is 0.0465\n",
      "58000/58000 [==============================] - 0s - loss: 0.9421 - REC_loss: 0.8589 - KL: 1.9109 - val_loss: 0.9610 - val_REC_loss: 0.8774 - val_KL: 1.9204\n",
      "Epoch 31/50\n",
      "54800/58000 [===========================>..] - ETA: 0s - loss: 0.9450 - REC_loss: 0.8642 - KL: 1.7366Epoch 30 the KL weight is 0.0496\n",
      "58000/58000 [==============================] - 0s - loss: 0.9457 - REC_loss: 0.8650 - KL: 1.7335 - val_loss: 0.9648 - val_REC_loss: 0.8836 - val_KL: 1.7476\n",
      "Epoch 32/50\n",
      "54800/58000 [===========================>..] - ETA: 0s - loss: 0.9488 - REC_loss: 0.8712 - KL: 1.5650Epoch 31 the KL weight is 0.05\n",
      "58000/58000 [==============================] - 0s - loss: 0.9493 - REC_loss: 0.8716 - KL: 1.5651 - val_loss: 0.9676 - val_REC_loss: 0.8884 - val_KL: 1.5962\n",
      "Epoch 33/50\n",
      "54600/58000 [===========================>..] - ETA: 0s - loss: 0.9481 - REC_loss: 0.8719 - KL: 1.5229Epoch 32 the KL weight is 0.05\n",
      "58000/58000 [==============================] - 0s - loss: 0.9482 - REC_loss: 0.8721 - KL: 1.5227 - val_loss: 0.9663 - val_REC_loss: 0.8889 - val_KL: 1.5480\n",
      "Epoch 34/50\n",
      "54800/58000 [===========================>..] - ETA: 0s - loss: 0.9471 - REC_loss: 0.8725 - KL: 1.4932Epoch 33 the KL weight is 0.05\n",
      "58000/58000 [==============================] - 0s - loss: 0.9478 - REC_loss: 0.8732 - KL: 1.4926 - val_loss: 0.9659 - val_REC_loss: 0.8905 - val_KL: 1.5068\n",
      "Epoch 35/50\n",
      "54800/58000 [===========================>..] - ETA: 0s - loss: 0.9474 - REC_loss: 0.8740 - KL: 1.4673Epoch 34 the KL weight is 0.05\n",
      "58000/58000 [==============================] - 0s - loss: 0.9472 - REC_loss: 0.8739 - KL: 1.4666 - val_loss: 0.9689 - val_REC_loss: 0.8954 - val_KL: 1.4712\n",
      "Epoch 36/50\n",
      "55000/58000 [===========================>..] - ETA: 0s - loss: 0.9476 - REC_loss: 0.8752 - KL: 1.4478Epoch 35 the KL weight is 0.05\n",
      "58000/58000 [==============================] - 0s - loss: 0.9465 - REC_loss: 0.8741 - KL: 1.4479 - val_loss: 0.9686 - val_REC_loss: 0.8952 - val_KL: 1.4671\n",
      "Epoch 37/50\n",
      "55000/58000 [===========================>..] - ETA: 0s - loss: 0.9465 - REC_loss: 0.8745 - KL: 1.4393Epoch 36 the KL weight is 0.05\n",
      "58000/58000 [==============================] - 0s - loss: 0.9461 - REC_loss: 0.8742 - KL: 1.4378 - val_loss: 0.9671 - val_REC_loss: 0.8962 - val_KL: 1.4173\n",
      "Epoch 38/50\n",
      "55000/58000 [===========================>..] - ETA: 0s - loss: 0.9460 - REC_loss: 0.8745 - KL: 1.4296Epoch 37 the KL weight is 0.05\n",
      "58000/58000 [==============================] - 0s - loss: 0.9464 - REC_loss: 0.8749 - KL: 1.4299 - val_loss: 0.9640 - val_REC_loss: 0.8894 - val_KL: 1.4914\n",
      "Epoch 39/50\n",
      "54600/58000 [===========================>..] - ETA: 0s - loss: 0.9453 - REC_loss: 0.8736 - KL: 1.4328Epoch 38 the KL weight is 0.05\n",
      "58000/58000 [==============================] - 0s - loss: 0.9457 - REC_loss: 0.8741 - KL: 1.4318 - val_loss: 0.9653 - val_REC_loss: 0.8932 - val_KL: 1.4405\n",
      "Epoch 40/50\n",
      "55200/58000 [===========================>..] - ETA: 0s - loss: 0.9460 - REC_loss: 0.8750 - KL: 1.4201Epoch 39 the KL weight is 0.05\n",
      "58000/58000 [==============================] - 0s - loss: 0.9456 - REC_loss: 0.8746 - KL: 1.4197 - val_loss: 0.9671 - val_REC_loss: 0.8950 - val_KL: 1.4423\n",
      "Epoch 41/50\n",
      "54600/58000 [===========================>..] - ETA: 0s - loss: 0.9459 - REC_loss: 0.8744 - KL: 1.4294Epoch 40 the KL weight is 0.05\n",
      "58000/58000 [==============================] - 0s - loss: 0.9454 - REC_loss: 0.8739 - KL: 1.4296 - val_loss: 0.9656 - val_REC_loss: 0.8935 - val_KL: 1.4410\n",
      "Epoch 42/50\n",
      "54800/58000 [===========================>..] - ETA: 0s - loss: 0.9448 - REC_loss: 0.8743 - KL: 1.4107Epoch 41 the KL weight is 0.05\n",
      "58000/58000 [==============================] - 0s - loss: 0.9452 - REC_loss: 0.8746 - KL: 1.4117 - val_loss: 0.9673 - val_REC_loss: 0.8950 - val_KL: 1.4469\n",
      "Epoch 43/50\n",
      "55400/58000 [===========================>..] - ETA: 0s - loss: 0.9444 - REC_loss: 0.8738 - KL: 1.4116Epoch 42 the KL weight is 0.05\n",
      "58000/58000 [==============================] - 0s - loss: 0.9452 - REC_loss: 0.8746 - KL: 1.4117 - val_loss: 0.9644 - val_REC_loss: 0.8919 - val_KL: 1.4503\n",
      "Epoch 44/50\n",
      "56400/58000 [============================>.] - ETA: 0s - loss: 0.9453 - REC_loss: 0.8751 - KL: 1.4031Epoch 43 the KL weight is 0.05\n",
      "58000/58000 [==============================] - 0s - loss: 0.9449 - REC_loss: 0.8747 - KL: 1.4032 - val_loss: 0.9637 - val_REC_loss: 0.8921 - val_KL: 1.4314\n",
      "Epoch 45/50\n",
      "54800/58000 [===========================>..] - ETA: 0s - loss: 0.9447 - REC_loss: 0.8745 - KL: 1.4043Epoch 44 the KL weight is 0.05\n",
      "58000/58000 [==============================] - 0s - loss: 0.9444 - REC_loss: 0.8742 - KL: 1.4048 - val_loss: 0.9637 - val_REC_loss: 0.8930 - val_KL: 1.4137\n",
      "Epoch 46/50\n",
      "55000/58000 [===========================>..] - ETA: 0s - loss: 0.9447 - REC_loss: 0.8749 - KL: 1.3948Epoch 45 the KL weight is 0.05\n",
      "58000/58000 [==============================] - 0s - loss: 0.9444 - REC_loss: 0.8746 - KL: 1.3961 - val_loss: 0.9628 - val_REC_loss: 0.8919 - val_KL: 1.4166\n",
      "Epoch 47/50\n",
      "55200/58000 [===========================>..] - ETA: 0s - loss: 0.9451 - REC_loss: 0.8751 - KL: 1.3991Epoch 46 the KL weight is 0.05\n",
      "58000/58000 [==============================] - 0s - loss: 0.9446 - REC_loss: 0.8745 - KL: 1.4003 - val_loss: 0.9681 - val_REC_loss: 0.8967 - val_KL: 1.4278\n",
      "Epoch 48/50\n",
      "55400/58000 [===========================>..] - ETA: 0s - loss: 0.9447 - REC_loss: 0.8753 - KL: 1.3883Epoch 47 the KL weight is 0.05\n",
      "58000/58000 [==============================] - 0s - loss: 0.9443 - REC_loss: 0.8749 - KL: 1.3874 - val_loss: 0.9620 - val_REC_loss: 0.8926 - val_KL: 1.3870\n",
      "Epoch 49/50\n",
      "55200/58000 [===========================>..] - ETA: 0s - loss: 0.9443 - REC_loss: 0.8746 - KL: 1.3928Epoch 48 the KL weight is 0.05\n",
      "58000/58000 [==============================] - 0s - loss: 0.9440 - REC_loss: 0.8744 - KL: 1.3917 - val_loss: 0.9644 - val_REC_loss: 0.8946 - val_KL: 1.3949\n",
      "Epoch 50/50\n",
      "55400/58000 [===========================>..] - ETA: 0s - loss: 0.9437 - REC_loss: 0.8742 - KL: 1.3881Epoch 49 the KL weight is 0.05\n",
      "58000/58000 [==============================] - 0s - loss: 0.9440 - REC_loss: 0.8746 - KL: 1.3886 - val_loss: 0.9659 - val_REC_loss: 0.8955 - val_KL: 1.4089\n"
     ]
    }
   ],
   "source": [
    "binary_vae,encoder_Bvae,generator_Bvae, beta_B= binary_VAE(X_train.shape[1],Nb=32,units=500,layers_e=2,layers_d=0,beta_ann=True)\n",
    "\n",
    "hist2 = binary_vae.fit(X_train, X_train, epochs=50, batch_size=batch_size\n",
    "                           ,validation_data=(X_val,X_val) #)\n",
    "                        ,callbacks=[Beta_Call(beta_B,kl_inc=5*(1./5000)/10,max_KL=5*(0.1)/10, verbose=1)] )"
   ]
  },
  {
   "cell_type": "code",
   "execution_count": 62,
   "metadata": {
    "collapsed": false,
    "scrolled": true
   },
   "outputs": [
    {
     "name": "stdout",
     "output_type": "stream",
     "text": [
      "MAP on CIFAR-10 dataset\n",
      "Binary VAE =  0.16982325497060946\n",
      "Binary VAE con precision y recall para B-VAE 0.20372339999999994 0.17563077594402104\n",
      "CIFAR-10\n"
     ]
    },
    {
     "data": {
      "image/png": "[encoded data removed]",
      "text/plain": [
       "<matplotlib.figure.Figure at 0x7f35d12609b0>"
      ]
     },
     "metadata": {},
     "output_type": "display_data"
    },
    {
     "data": {
      "image/png": "[encoded data removed]",
      "text/plain": [
       "<matplotlib.figure.Figure at 0x7f35cfe23550>"
      ]
     },
     "metadata": {},
     "output_type": "display_data"
    }
   ],
   "source": [
    "total_hash_BVAE, test_hash_BVAE = hash_data(encoder_Bvae,X_train,X_test)\n",
    "\n",
    "print(\"MAP on %s dataset\"%name_dat)\n",
    "map_b= evaluate_hashing_DE(total_hash_BVAE, test_hash_BVAE,labels_train,labels_test,eval_tipo=\"MAP\",K=9999999)\n",
    "print(\"Binary VAE = \",map_b)\n",
    "\n",
    "p_b,r_b = evaluate_hashing_DE(total_hash_BVAE,test_hash_BVAE,labels_train,labels_test,eval_tipo=\"PRatk\",K=5000)\n",
    "print(\"Binary VAE con precision y recall para B-VAE\",p_b,r_b)\n",
    "\n",
    "X_train_logits = encoder_Bvae.predict(X_train)\n",
    "X_train_Bcode = expit(X_train_logits)\n",
    "print(name_dat)\n",
    "visualize_probas(X_train_logits, X_train_Bcode) ##"
   ]
  },
  {
   "cell_type": "code",
   "execution_count": null,
   "metadata": {
    "collapsed": true
   },
   "outputs": [],
   "source": []
  },
  {
   "cell_type": "code",
   "execution_count": 13,
   "metadata": {
    "collapsed": false,
    "scrolled": true
   },
   "outputs": [
    {
     "data": {
      "text/plain": [
       "<matplotlib.figure.Figure at 0x7f3c90568d68>"
      ]
     },
     "metadata": {},
     "output_type": "display_data"
    },
    {
     "data": {
      "image/png": "[encoded data removed]",
      "text/plain": [
       "<matplotlib.figure.Figure at 0x7f3c2febd208>"
      ]
     },
     "metadata": {},
     "output_type": "display_data"
    }
   ],
   "source": [
    "compare_hist_train(hist1,hist2, name_dat)"
   ]
  },
  {
   "cell_type": "code",
   "execution_count": 16,
   "metadata": {
    "collapsed": false,
    "scrolled": true
   },
   "outputs": [
    {
     "data": {
      "text/plain": [
       "<matplotlib.figure.Figure at 0x7f3c2eab2780>"
      ]
     },
     "metadata": {},
     "output_type": "display_data"
    },
    {
     "data": {
      "image/png": "[encoded data removed]",
      "text/plain": [
       "<matplotlib.figure.Figure at 0x7f3c2706d400>"
      ]
     },
     "metadata": {},
     "output_type": "display_data"
    }
   ],
   "source": [
    "plt.figure(figsize=(15,6))\n",
    "add_hist_plot(hist2, c='g', model_n = \"B-VAE\")\n",
    "plt.xlabel('Epochs')\n",
    "plt.ylabel('Value')\n",
    "plt.legend(loc=\"upper right\", fancybox= True)\n",
    "plt.title(\"VAE loss \"+name_dat)\n",
    "plt.show()"
   ]
  },
  {
   "cell_type": "code",
   "execution_count": 43,
   "metadata": {
    "collapsed": false
   },
   "outputs": [
    {
     "data": {
      "text/plain": [
       "<matplotlib.figure.Figure at 0x7eff188aadd8>"
      ]
     },
     "metadata": {},
     "output_type": "display_data"
    },
    {
     "data": {
      "image/png": "[encoded data removed]",
      "text/plain": [
       "<matplotlib.figure.Figure at 0x7eff179a8a20>"
      ]
     },
     "metadata": {},
     "output_type": "display_data"
    }
   ],
   "source": [
    "compare_hist_train(hist1,hist2, name_dat)"
   ]
  },
  {
   "cell_type": "code",
   "execution_count": 72,
   "metadata": {
    "collapsed": false
   },
   "outputs": [
    {
     "data": {
      "text/plain": [
       "<matplotlib.figure.Figure at 0x7efe4ebe4080>"
      ]
     },
     "metadata": {},
     "output_type": "display_data"
    },
    {
     "data": {
      "image/png": "[encoded data removed]",
      "text/plain": [
       "<matplotlib.figure.Figure at 0x7efe4421d240>"
      ]
     },
     "metadata": {},
     "output_type": "display_data"
    }
   ],
   "source": [
    "compare_hist_train(hist1,hist2, name_dat) #--64 dim"
   ]
  },
  {
   "cell_type": "code",
   "execution_count": 104,
   "metadata": {
    "collapsed": false
   },
   "outputs": [
    {
     "data": {
      "text/plain": [
       "<matplotlib.figure.Figure at 0x7efe43938160>"
      ]
     },
     "metadata": {},
     "output_type": "display_data"
    },
    {
     "data": {
      "image/png": "[encoded data removed]",
      "text/plain": [
       "<matplotlib.figure.Figure at 0x7efe3da439b0>"
      ]
     },
     "metadata": {},
     "output_type": "display_data"
    }
   ],
   "source": [
    "compare_hist_train(hist1,hist2, name_dat) #--64 dim"
   ]
  },
  {
   "cell_type": "markdown",
   "metadata": {},
   "source": [
    "### Another intrinsic measure: *Classification*\n"
   ]
  },
  {
   "cell_type": "code",
   "execution_count": 13,
   "metadata": {
    "collapsed": true,
    "scrolled": true
   },
   "outputs": [],
   "source": [
    "#function to define and train model\n",
    "from sklearn.metrics import jaccard_score\n",
    "from utils import define_fit, MedianHashing, visualize_probas, visualize_mean, calculate_hash\n",
    "\n",
    "results = []\n",
    "results_S = []\n",
    "results_B = []\n",
    "results_O_B = [] #original testing on tresholded"
   ]
  },
  {
   "cell_type": "code",
   "execution_count": 105,
   "metadata": {
    "collapsed": false,
    "scrolled": true
   },
   "outputs": [
    {
     "data": {
      "text/plain": [
       "array([[1., 0., 1., ..., 0., 1., 1.],\n",
       "       [0., 0., 1., ..., 0., 0., 1.],\n",
       "       [0., 0., 1., ..., 0., 0., 1.],\n",
       "       ...,\n",
       "       [0., 1., 1., ..., 1., 0., 1.],\n",
       "       [0., 0., 1., ..., 0., 0., 1.],\n",
       "       [0., 1., 1., ..., 0., 0., 1.]])"
      ]
     },
     "execution_count": 105,
     "metadata": {},
     "output_type": "execute_result"
    }
   ],
   "source": [
    "#codify input data (binarize -- or aprox)\n",
    "X_train_logits = encoder_Bvae.predict(X_train)\n",
    "X_val_logits = encoder_Bvae.predict(X_test)\n",
    "\n",
    "#probabilities\n",
    "X_train_Bcode = expit(X_train_logits)\n",
    "X_val_Bcode = expit(X_val_logits)\n",
    "\n",
    "#Z-mean\n",
    "X_train_Tcode = encoder_Tvae.predict(X_train)\n",
    "X_val_Tcode = encoder_Tvae.predict(X_test)\n",
    "\n",
    "##codify labels\n",
    "labels_aux = np.asarray(labels)\n",
    "def codify_labels(inputs):\n",
    "    inputs = np.asarray(inputs)\n",
    "    matrix_labels = np.zeros((inputs.shape[0],labels_aux.shape[0]))\n",
    "    for i,aux_labels in enumerate(inputs):\n",
    "        if type(aux_labels) == list or type(aux_labels) == np.ndarray :\n",
    "            for aux_label in aux_labels:\n",
    "                idx = np.where(aux_label==labels_aux)[0]\n",
    "                matrix_labels[i,idx] = 1 #various-multiple\n",
    "        else:\n",
    "            idx = np.where(aux_labels==labels_aux)[0]\n",
    "            matrix_labels[i,idx] = 1 #only one\n",
    "    return matrix_labels\n",
    "\n",
    "C_train = codify_labels(labels_train)\n",
    "#C_val = codify_labels(labels_val)\n",
    "C_val = codify_labels(labels_test)\n",
    "C_train"
   ]
  },
  {
   "cell_type": "code",
   "execution_count": 15,
   "metadata": {
    "collapsed": false,
    "scrolled": true
   },
   "outputs": [
    {
     "name": "stdout",
     "output_type": "stream",
     "text": [
      "MNIST\n"
     ]
    },
    {
     "data": {
      "image/png": "[encoded data removed]",
      "text/plain": [
       "<matplotlib.figure.Figure at 0x7eff142a0f28>"
      ]
     },
     "metadata": {},
     "output_type": "display_data"
    },
    {
     "data": {
      "image/png": "[encoded data removed]",
      "text/plain": [
       "<matplotlib.figure.Figure at 0x7efe944fcda0>"
      ]
     },
     "metadata": {},
     "output_type": "display_data"
    },
    {
     "data": {
      "image/png": "[encoded data removed]",
      "text/plain": [
       "<matplotlib.figure.Figure at 0x7efec85689e8>"
      ]
     },
     "metadata": {},
     "output_type": "display_data"
    }
   ],
   "source": [
    "print(name_dat)\n",
    "visualize_probas(X_train_logits, X_train_Bcode)\n",
    "\n",
    "visualize_mean(X_train_Tcode)"
   ]
  },
  {
   "cell_type": "code",
   "execution_count": 45,
   "metadata": {
    "collapsed": false,
    "scrolled": true
   },
   "outputs": [
    {
     "name": "stdout",
     "output_type": "stream",
     "text": [
      "CIFAR-10\n"
     ]
    },
    {
     "data": {
      "image/png": "[encoded data removed]",
      "text/plain": [
       "<matplotlib.figure.Figure at 0x7efe94413e10>"
      ]
     },
     "metadata": {},
     "output_type": "display_data"
    },
    {
     "data": {
      "image/png": "[encoded data removed]",
      "text/plain": [
       "<matplotlib.figure.Figure at 0x7eff17837710>"
      ]
     },
     "metadata": {},
     "output_type": "display_data"
    },
    {
     "data": {
      "image/png": "[encoded data removed]",
      "text/plain": [
       "<matplotlib.figure.Figure at 0x7eff1794dcf8>"
      ]
     },
     "metadata": {},
     "output_type": "display_data"
    }
   ],
   "source": [
    "print(name_dat)\n",
    "visualize_probas(X_train_logits, X_train_Bcode)\n",
    "\n",
    "visualize_mean(X_train_Tcode)"
   ]
  },
  {
   "cell_type": "code",
   "execution_count": 74,
   "metadata": {
    "collapsed": false,
    "scrolled": true
   },
   "outputs": [
    {
     "name": "stdout",
     "output_type": "stream",
     "text": [
      "Nus-Wide\n"
     ]
    },
    {
     "data": {
      "image/png": "[encoded data removed]",
      "text/plain": [
       "<matplotlib.figure.Figure at 0x7eff1ba409e8>"
      ]
     },
     "metadata": {},
     "output_type": "display_data"
    },
    {
     "data": {
      "image/png": "[encoded data removed]",
      "text/plain": [
       "<matplotlib.figure.Figure at 0x7efe440a1a20>"
      ]
     },
     "metadata": {},
     "output_type": "display_data"
    },
    {
     "data": {
      "image/png": "[encoded data removed]",
      "text/plain": [
       "<matplotlib.figure.Figure at 0x7effbf92e8d0>"
      ]
     },
     "metadata": {},
     "output_type": "display_data"
    }
   ],
   "source": [
    "print(name_dat)\n",
    "visualize_probas(X_train_logits, X_train_Bcode)\n",
    "\n",
    "visualize_mean(X_train_Tcode)"
   ]
  },
  {
   "cell_type": "code",
   "execution_count": 106,
   "metadata": {
    "collapsed": false,
    "scrolled": true
   },
   "outputs": [
    {
     "name": "stdout",
     "output_type": "stream",
     "text": [
      "CelebA\n"
     ]
    },
    {
     "data": {
      "image/png": "[encoded data removed]",
      "text/plain": [
       "<matplotlib.figure.Figure at 0x7efe4417d128>"
      ]
     },
     "metadata": {},
     "output_type": "display_data"
    },
    {
     "data": {
      "image/png": "[encoded data removed]",
      "text/plain": [
       "<matplotlib.figure.Figure at 0x7efe3da2a780>"
      ]
     },
     "metadata": {},
     "output_type": "display_data"
    },
    {
     "data": {
      "image/png": "[encoded data removed]",
      "text/plain": [
       "<matplotlib.figure.Figure at 0x7efe3d7ed3c8>"
      ]
     },
     "metadata": {},
     "output_type": "display_data"
    }
   ],
   "source": [
    "print(name_dat)\n",
    "visualize_probas(X_train_logits, X_train_Bcode)\n",
    "\n",
    "visualize_mean(X_train_Tcode)"
   ]
  },
  {
   "cell_type": "code",
   "execution_count": 107,
   "metadata": {
    "collapsed": false,
    "scrolled": true
   },
   "outputs": [
    {
     "name": "stdout",
     "output_type": "stream",
     "text": [
      "Done\n"
     ]
    }
   ],
   "source": [
    "aux = [name_dat.lower()]\n",
    "multi_label = \"celeba\" in aux or \"nus-wide\" in aux\n",
    "\n",
    "model1_O = define_fit(multi_label,X_train_Bcode,C_train)\n",
    "model2_O = define_fit(multi_label,X_train_Tcode,C_train)\n",
    "\n",
    "if not multi_label:\n",
    "    aux.append(model2_O.evaluate(X_train_Tcode,C_train,verbose=0)[1])\n",
    "    aux.append(model2_O.evaluate(X_val_Tcode,C_val,verbose=0)[1])\n",
    "\n",
    "    aux.append(model1_O.evaluate(X_train_Bcode,C_train,verbose=0)[1])\n",
    "    aux.append(model1_O.evaluate(X_val_Bcode,C_val,verbose=0)[1])\n",
    "else:\n",
    "    aux.append(jaccard_score(C_train, (model2_O.predict(X_train_Tcode)>=0.5)*1, average='micro'))\n",
    "    aux.append(jaccard_score(C_val, (model2_O.predict(X_val_Tcode)>=0.5)*1, average='micro'))\n",
    "\n",
    "    aux.append(jaccard_score(C_train, (model1_O.predict(X_train_Bcode)>=0.5)*1, average='micro'))\n",
    "    aux.append(jaccard_score(C_val, (model1_O.predict(X_val_Bcode)>=0.5)*1, average='micro'))\n",
    "    \n",
    "results.append(aux)\n",
    "print(\"Done\")"
   ]
  },
  {
   "cell_type": "code",
   "execution_count": 108,
   "metadata": {
    "collapsed": false
   },
   "outputs": [
    {
     "name": "stdout",
     "output_type": "stream",
     "text": [
      "\n",
      "Accuracy on dataset:  mnist\n",
      "Traditional VAE (train-val): 0.966882 - 0.956000\n",
      "Binary VAE (train-val): 0.954941 - 0.943000\n",
      "\n",
      "Accuracy on dataset:  cifar-10\n",
      "Traditional VAE (train-val): 0.871724 - 0.843000\n",
      "Binary VAE (train-val): 0.824190 - 0.815000\n",
      "\n",
      "Accuracy on dataset:  nus-wide\n",
      "Traditional VAE (train-val): 0.505285 - 0.447885\n",
      "Binary VAE (train-val): 0.493766 - 0.445415\n",
      "\n",
      "Accuracy on dataset:  celeba\n",
      "Traditional VAE (train-val): 0.452790 - 0.424564\n",
      "Binary VAE (train-val): 0.436319 - 0.407941\n"
     ]
    }
   ],
   "source": [
    "for valores in results:\n",
    "    print(\"\\nAccuracy on dataset: \",valores[0])\n",
    "    print(\"Traditional VAE (train-val): %f - %f\"%(valores[1],valores[2]))\n",
    "    print(\"Binary VAE (train-val): %f - %f\"%(valores[3],valores[4]))"
   ]
  },
  {
   "cell_type": "code",
   "execution_count": 109,
   "metadata": {
    "collapsed": false
   },
   "outputs": [
    {
     "data": {
      "text/plain": [
       "array([[0, 1, 1, ..., 0, 1, 0],\n",
       "       [0, 1, 1, ..., 0, 1, 1],\n",
       "       [0, 1, 1, ..., 1, 1, 1],\n",
       "       ...,\n",
       "       [1, 1, 1, ..., 1, 1, 0],\n",
       "       [1, 0, 1, ..., 0, 1, 1],\n",
       "       [1, 1, 0, ..., 0, 0, 1]], dtype=int32)"
      ]
     },
     "execution_count": 109,
     "metadata": {},
     "output_type": "execute_result"
    }
   ],
   "source": [
    "## binary // treshold it\n",
    "\n",
    "X_train_Tcode_B = calculate_hash(X_train_Tcode, from_probas=False)\n",
    "X_val_Tcode_B = calculate_hash(X_val_Tcode, from_probas=False)\n",
    "\n",
    "X_train_Bcode_B = calculate_hash(X_train_Bcode, from_probas=True, from_logits=False)\n",
    "X_val_Bcode_B = calculate_hash(X_val_Bcode, from_probas=True, from_logits=False)\n",
    "\n",
    "X_train_Tcode_B"
   ]
  },
  {
   "cell_type": "code",
   "execution_count": 110,
   "metadata": {
    "collapsed": false
   },
   "outputs": [
    {
     "name": "stdout",
     "output_type": "stream",
     "text": [
      "Done\n"
     ]
    }
   ],
   "source": [
    "### trained models over encoder representation testing on tresholded representation (see how decrease)\n",
    "aux = [name_dat.lower()]\n",
    "multi_label = \"celeba\" in aux or \"nus-wide\" in aux\n",
    "\n",
    "if not multi_label:\n",
    "    aux.append(model2_O.evaluate(X_train_Tcode_B,C_train,verbose=0)[1])\n",
    "    aux.append(model2_O.evaluate(X_val_Tcode_B,C_val,verbose=0)[1])\n",
    "\n",
    "    aux.append(model1_O.evaluate(X_train_Bcode_B,C_train,verbose=0)[1])\n",
    "    aux.append(model1_O.evaluate(X_val_Bcode_B,C_val,verbose=0)[1])\n",
    "else:\n",
    "    aux.append(jaccard_score(C_train, (model2_O.predict(X_train_Tcode_B)>=0.5)*1, average='micro'))\n",
    "    aux.append(jaccard_score(C_val, (model2_O.predict(X_val_Tcode_B)>=0.5)*1, average='micro'))\n",
    "\n",
    "    aux.append(jaccard_score(C_train, (model1_O.predict(X_train_Bcode_B)>=0.5)*1, average='micro'))\n",
    "    aux.append(jaccard_score(C_val, (model1_O.predict(X_val_Bcode_B)>=0.5)*1, average='micro'))\n",
    "    \n",
    "results_O_B.append(aux)\n",
    "print(\"Done\")"
   ]
  },
  {
   "cell_type": "code",
   "execution_count": 111,
   "metadata": {
    "collapsed": false
   },
   "outputs": [
    {
     "name": "stdout",
     "output_type": "stream",
     "text": [
      "Classification on Binary (thresholded) representation\n",
      "\n",
      "Accuracy on dataset:  mnist\n",
      "Traditional VAE (train-val): 0.288765 - 0.272000\n",
      "Binary VAE (train-val): 0.891941 - 0.886000\n",
      "\n",
      "Accuracy on dataset:  cifar-10\n",
      "Traditional VAE (train-val): 0.448000 - 0.419000\n",
      "Binary VAE (train-val): 0.723845 - 0.709000\n",
      "\n",
      "Accuracy on dataset:  nus-wide\n",
      "Traditional VAE (train-val): 0.314612 - 0.263097\n",
      "Binary VAE (train-val): 0.402046 - 0.365614\n",
      "\n",
      "Accuracy on dataset:  celeba\n",
      "Traditional VAE (train-val): 0.352294 - 0.345801\n",
      "Binary VAE (train-val): 0.406070 - 0.389705\n"
     ]
    }
   ],
   "source": [
    "print(\"Classification on Binary (thresholded) representation\")\n",
    "for valores in results_O_B:\n",
    "    print(\"\\nAccuracy on dataset: \",valores[0])\n",
    "    print(\"Traditional VAE (train-val): %f - %f\"%(valores[1],valores[2]))\n",
    "    print(\"Binary VAE (train-val): %f - %f\"%(valores[3],valores[4]))"
   ]
  },
  {
   "cell_type": "code",
   "execution_count": 112,
   "metadata": {
    "collapsed": false
   },
   "outputs": [
    {
     "name": "stdout",
     "output_type": "stream",
     "text": [
      "Done\n"
     ]
    }
   ],
   "source": [
    "aux = [name_dat.lower()]\n",
    "multi_label = \"celeba\" in aux or \"nus-wide\" in aux\n",
    "\n",
    "model1 = define_fit(multi_label,X_train_Bcode_B,C_train)\n",
    "model2 = define_fit(multi_label,X_train_Tcode_B,C_train)\n",
    "\n",
    "if not multi_label:\n",
    "    aux.append(model2.evaluate(X_train_Tcode_B,C_train,verbose=0)[1])\n",
    "    aux.append(model2.evaluate(X_val_Tcode_B,C_val,verbose=0)[1])\n",
    "\n",
    "    aux.append(model1.evaluate(X_train_Bcode_B,C_train,verbose=0)[1])\n",
    "    aux.append(model1.evaluate(X_val_Bcode_B,C_val,verbose=0)[1])\n",
    "else:\n",
    "    aux.append(jaccard_score(C_train, (model2.predict(X_train_Tcode_B)>=0.5)*1, average='micro')) \n",
    "    aux.append(jaccard_score(C_val, (model2.predict(X_val_Tcode_B)>=0.5)*1, average='micro'))\n",
    "\n",
    "    aux.append(jaccard_score(C_train, (model1.predict(X_train_Bcode_B)>=0.5)*1, average='micro'))\n",
    "    aux.append(jaccard_score(C_val, (model1.predict(X_val_Bcode_B)>=0.5)*1, average='micro'))\n",
    "    \n",
    "results_B.append(aux)\n",
    "print(\"Done\")"
   ]
  },
  {
   "cell_type": "code",
   "execution_count": 113,
   "metadata": {
    "collapsed": false
   },
   "outputs": [
    {
     "name": "stdout",
     "output_type": "stream",
     "text": [
      "Classification on Binary representation\n",
      "\n",
      "Accuracy on dataset:  mnist\n",
      "Traditional VAE (train-val): 0.896515 - 0.878000\n",
      "Binary VAE (train-val): 0.920147 - 0.908000\n",
      "\n",
      "Accuracy on dataset:  cifar-10\n",
      "Traditional VAE (train-val): 0.745224 - 0.708000\n",
      "Binary VAE (train-val): 0.756259 - 0.721000\n",
      "\n",
      "Accuracy on dataset:  nus-wide\n",
      "Traditional VAE (train-val): 0.424745 - 0.366612\n",
      "Binary VAE (train-val): 0.431372 - 0.376573\n",
      "\n",
      "Accuracy on dataset:  celeba\n",
      "Traditional VAE (train-val): 0.408293 - 0.373377\n",
      "Binary VAE (train-val): 0.407063 - 0.373759\n"
     ]
    }
   ],
   "source": [
    "print(\"Classification on Binary representation\")\n",
    "for valores in results_B:\n",
    "    print(\"\\nAccuracy on dataset: \",valores[0])\n",
    "    print(\"Traditional VAE (train-val): %f - %f\"%(valores[1],valores[2]))\n",
    "    print(\"Binary VAE (train-val): %f - %f\"%(valores[3],valores[4]))"
   ]
  },
  {
   "cell_type": "markdown",
   "metadata": {},
   "source": [
    "\n",
    "\n",
    "### Results\n",
    "---"
   ]
  },
  {
   "cell_type": "code",
   "execution_count": 18,
   "metadata": {
    "collapsed": false,
    "scrolled": true
   },
   "outputs": [],
   "source": [
    "from utils import MedianHashing, get_similar, measure_metrics, calculate_hash\n",
    "from utils import MAP_atk, M_P_atk, AP_atk"
   ]
  },
  {
   "cell_type": "markdown",
   "metadata": {},
   "source": [
    "### Experimentación\n",
    "---\n",
    "A continación se realizan las experimentaciones correspondientes para encontrar la mejor arquitectura y mejor configuración del modelo propuesto en base a las métricas *precision* y *recall* del conjunto de validación en el **top 100** de elementos recuperados."
   ]
  },
  {
   "cell_type": "code",
   "execution_count": 24,
   "metadata": {
    "collapsed": true
   },
   "outputs": [],
   "source": [
    "def evaluate_hashingB(encoder,train,val,labels_train,labels_val,traditional=True,tipo=\"topK\",K=100):\n",
    "    encode_train = encoder.predict(train)\n",
    "    encode_val = encoder.predict(val)\n",
    "    \n",
    "    train_hash = calculate_hash(encode_train, from_probas=~traditional )\n",
    "    val_hash = calculate_hash(encode_val, from_probas=~traditional)\n",
    "\n",
    "    val_similares_train =  get_similar(val_hash, train_hash, tipo=tipo,K=K) \n",
    "\n",
    "    return measure_metrics(labels,val_similares_train,labels_query=labels_val,labels_source=labels_train)"
   ]
  },
  {
   "cell_type": "markdown",
   "metadata": {},
   "source": [
    "\n",
    "### Experimentando variando el #Bits"
   ]
  },
  {
   "cell_type": "code",
   "execution_count": 29,
   "metadata": {
    "collapsed": false
   },
   "outputs": [],
   "source": [
    "traditional_dat = {\"mnist\":{\"p\":[],\"r\":[]},\"cifar-10\":{\"p\":[],\"r\":[]},\"celeba\":{\"p\":[],\"r\":[]},'nus-wide':{\"p\":[],\"r\":[]}}\n",
    "binary_dat = {\"mnist\":{\"p\":[],\"r\":[]},\"cifar-10\":{\"p\":[],\"r\":[]},\"celeba\":{\"p\":[],\"r\":[]},'nus-wide':{\"p\":[],\"r\":[]}}"
   ]
  },
  {
   "cell_type": "code",
   "execution_count": 33,
   "metadata": {
    "collapsed": false,
    "scrolled": true
   },
   "outputs": [
    {
     "name": "stdout",
     "output_type": "stream",
     "text": [
      "pre-encoder network:\n",
      "_________________________________________________________________\n",
      "Layer (type)                 Output Shape              Param #   \n",
      "=================================================================\n",
      "input_20 (InputLayer)        (None, 512)               0         \n",
      "_________________________________________________________________\n",
      "dense_24 (Dense)             (None, 500)               256500    \n",
      "_________________________________________________________________\n",
      "batch_normalization_11 (Batc (None, 500)               2000      \n",
      "_________________________________________________________________\n",
      "dense_25 (Dense)             (None, 500)               250500    \n",
      "_________________________________________________________________\n",
      "batch_normalization_12 (Batc (None, 500)               2000      \n",
      "=================================================================\n",
      "Total params: 511,000\n",
      "Trainable params: 509,000\n",
      "Non-trainable params: 2,000\n",
      "_________________________________________________________________\n",
      "generator network:\n",
      "_________________________________________________________________\n",
      "Layer (type)                 Output Shape              Param #   \n",
      "=================================================================\n",
      "input_21 (InputLayer)        (None, 4)                 0         \n",
      "_________________________________________________________________\n",
      "dense_26 (Dense)             (None, 512)               2560      \n",
      "=================================================================\n",
      "Total params: 2,560\n",
      "Trainable params: 2,560\n",
      "Non-trainable params: 0\n",
      "_________________________________________________________________\n",
      "pre-encoder network:\n",
      "_________________________________________________________________\n",
      "Layer (type)                 Output Shape              Param #   \n",
      "=================================================================\n",
      "input_1 (InputLayer)         (None, 512)               0         \n",
      "_________________________________________________________________\n",
      "dense_1 (Dense)              (None, 500)               256500    \n",
      "_________________________________________________________________\n",
      "batch_normalization_1 (Batch (None, 500)               2000      \n",
      "_________________________________________________________________\n",
      "dense_2 (Dense)              (None, 500)               250500    \n",
      "_________________________________________________________________\n",
      "batch_normalization_2 (Batch (None, 500)               2000      \n",
      "=================================================================\n",
      "Total params: 511,000\n",
      "Trainable params: 509,000\n",
      "Non-trainable params: 2,000\n",
      "_________________________________________________________________\n",
      "generator network:\n",
      "_________________________________________________________________\n",
      "Layer (type)                 Output Shape              Param #   \n",
      "=================================================================\n",
      "input_2 (InputLayer)         (None, 4)                 0         \n",
      "_________________________________________________________________\n",
      "dense_3 (Dense)              (None, 512)               2560      \n",
      "=================================================================\n",
      "Total params: 2,560\n",
      "Trainable params: 2,560\n",
      "Non-trainable params: 0\n",
      "_________________________________________________________________\n",
      "pre-encoder network:\n",
      "_________________________________________________________________\n",
      "Layer (type)                 Output Shape              Param #   \n",
      "=================================================================\n",
      "input_1 (InputLayer)         (None, 512)               0         \n",
      "_________________________________________________________________\n",
      "dense_1 (Dense)              (None, 500)               256500    \n",
      "_________________________________________________________________\n",
      "batch_normalization_1 (Batch (None, 500)               2000      \n",
      "_________________________________________________________________\n",
      "dense_2 (Dense)              (None, 500)               250500    \n",
      "_________________________________________________________________\n",
      "batch_normalization_2 (Batch (None, 500)               2000      \n",
      "=================================================================\n",
      "Total params: 511,000\n",
      "Trainable params: 509,000\n",
      "Non-trainable params: 2,000\n",
      "_________________________________________________________________\n",
      "generator network:\n",
      "_________________________________________________________________\n",
      "Layer (type)                 Output Shape              Param #   \n",
      "=================================================================\n",
      "input_2 (InputLayer)         (None, 8)                 0         \n",
      "_________________________________________________________________\n",
      "dense_3 (Dense)              (None, 512)               4608      \n",
      "=================================================================\n",
      "Total params: 4,608\n",
      "Trainable params: 4,608\n",
      "Non-trainable params: 0\n",
      "_________________________________________________________________\n",
      "pre-encoder network:\n",
      "_________________________________________________________________\n",
      "Layer (type)                 Output Shape              Param #   \n",
      "=================================================================\n",
      "input_1 (InputLayer)         (None, 512)               0         \n",
      "_________________________________________________________________\n",
      "dense_1 (Dense)              (None, 500)               256500    \n",
      "_________________________________________________________________\n",
      "batch_normalization_1 (Batch (None, 500)               2000      \n",
      "_________________________________________________________________\n",
      "dense_2 (Dense)              (None, 500)               250500    \n",
      "_________________________________________________________________\n",
      "batch_normalization_2 (Batch (None, 500)               2000      \n",
      "=================================================================\n",
      "Total params: 511,000\n",
      "Trainable params: 509,000\n",
      "Non-trainable params: 2,000\n",
      "_________________________________________________________________\n",
      "generator network:\n",
      "_________________________________________________________________\n",
      "Layer (type)                 Output Shape              Param #   \n",
      "=================================================================\n",
      "input_2 (InputLayer)         (None, 8)                 0         \n",
      "_________________________________________________________________\n",
      "dense_3 (Dense)              (None, 512)               4608      \n",
      "=================================================================\n",
      "Total params: 4,608\n",
      "Trainable params: 4,608\n",
      "Non-trainable params: 0\n",
      "_________________________________________________________________\n"
     ]
    },
    {
     "ename": "KeyboardInterrupt",
     "evalue": "",
     "output_type": "error",
     "traceback": [
      "\u001b[0;31m---------------------------------------------------------------------------\u001b[0m",
      "\u001b[0;31mKeyboardInterrupt\u001b[0m                         Traceback (most recent call last)",
      "\u001b[0;32m<ipython-input-33-de028b42adab>\u001b[0m in \u001b[0;36m<module>\u001b[0;34m()\u001b[0m\n\u001b[1;32m     16\u001b[0m     \u001b[0mbinary_vae\u001b[0m\u001b[0;34m,\u001b[0m \u001b[0mencoder_Bvae\u001b[0m\u001b[0;34m,\u001b[0m \u001b[0mgenerator_Bvae\u001b[0m\u001b[0;34m,\u001b[0m\u001b[0mbeta_U\u001b[0m \u001b[0;34m=\u001b[0m \u001b[0mbinary_VAE\u001b[0m\u001b[0;34m(\u001b[0m\u001b[0mX_train\u001b[0m\u001b[0;34m.\u001b[0m\u001b[0mshape\u001b[0m\u001b[0;34m[\u001b[0m\u001b[0;36m1\u001b[0m\u001b[0;34m]\u001b[0m\u001b[0;34m,\u001b[0m\u001b[0mNb\u001b[0m\u001b[0;34m=\u001b[0m\u001b[0mNbit\u001b[0m\u001b[0;34m,\u001b[0m\u001b[0munits\u001b[0m\u001b[0;34m=\u001b[0m\u001b[0;36m500\u001b[0m\u001b[0;34m,\u001b[0m\u001b[0mlayers_e\u001b[0m\u001b[0;34m=\u001b[0m\u001b[0;36m2\u001b[0m\u001b[0;34m,\u001b[0m\u001b[0mlayers_d\u001b[0m\u001b[0;34m=\u001b[0m\u001b[0;36m0\u001b[0m\u001b[0;34m,\u001b[0m \u001b[0mbeta_ann\u001b[0m\u001b[0;34m=\u001b[0m\u001b[0;32mTrue\u001b[0m\u001b[0;34m)\u001b[0m\u001b[0;34m\u001b[0m\u001b[0m\n\u001b[1;32m     17\u001b[0m     binary_vae.fit(X_train, X_train, epochs=epochs, batch_size=batch_size,verbose=0,\n\u001b[0;32m---> 18\u001b[0;31m                    callbacks=[Beta_Call(beta_U, verbose=0)] )\n\u001b[0m\u001b[1;32m     19\u001b[0m     \u001b[0mp_b\u001b[0m\u001b[0;34m,\u001b[0m\u001b[0mr_b\u001b[0m \u001b[0;34m=\u001b[0m \u001b[0mevaluate_hashingB\u001b[0m\u001b[0;34m(\u001b[0m\u001b[0mencoder_Bvae\u001b[0m\u001b[0;34m,\u001b[0m\u001b[0mX_train\u001b[0m\u001b[0;34m,\u001b[0m\u001b[0mX_val\u001b[0m\u001b[0;34m,\u001b[0m\u001b[0mlabels_train\u001b[0m\u001b[0;34m,\u001b[0m\u001b[0mlabels_val\u001b[0m\u001b[0;34m,\u001b[0m\u001b[0mtraditional\u001b[0m\u001b[0;34m=\u001b[0m\u001b[0;32mFalse\u001b[0m\u001b[0;34m,\u001b[0m\u001b[0mtipo\u001b[0m\u001b[0;34m=\u001b[0m\u001b[0;34m\"topK\"\u001b[0m\u001b[0;34m)\u001b[0m\u001b[0;34m\u001b[0m\u001b[0m\n\u001b[1;32m     20\u001b[0m     \u001b[0mbinary_dat\u001b[0m\u001b[0;34m[\u001b[0m\u001b[0mdataset\u001b[0m\u001b[0;34m]\u001b[0m\u001b[0;34m[\u001b[0m\u001b[0;34m\"p\"\u001b[0m\u001b[0;34m]\u001b[0m\u001b[0;34m.\u001b[0m\u001b[0mappend\u001b[0m\u001b[0;34m(\u001b[0m\u001b[0mp_b\u001b[0m\u001b[0;34m)\u001b[0m\u001b[0;34m\u001b[0m\u001b[0m\n",
      "\u001b[0;32m/home/fmena/.local/lib/python3.5/site-packages/keras/engine/training.py\u001b[0m in \u001b[0;36mfit\u001b[0;34m(self, x, y, batch_size, epochs, verbose, callbacks, validation_split, validation_data, shuffle, class_weight, sample_weight, initial_epoch, steps_per_epoch, validation_steps, **kwargs)\u001b[0m\n\u001b[1;32m   1596\u001b[0m                               \u001b[0minitial_epoch\u001b[0m\u001b[0;34m=\u001b[0m\u001b[0minitial_epoch\u001b[0m\u001b[0;34m,\u001b[0m\u001b[0;34m\u001b[0m\u001b[0m\n\u001b[1;32m   1597\u001b[0m                               \u001b[0msteps_per_epoch\u001b[0m\u001b[0;34m=\u001b[0m\u001b[0msteps_per_epoch\u001b[0m\u001b[0;34m,\u001b[0m\u001b[0;34m\u001b[0m\u001b[0m\n\u001b[0;32m-> 1598\u001b[0;31m                               validation_steps=validation_steps)\n\u001b[0m\u001b[1;32m   1599\u001b[0m \u001b[0;34m\u001b[0m\u001b[0m\n\u001b[1;32m   1600\u001b[0m     def evaluate(self, x, y,\n",
      "\u001b[0;32m/home/fmena/.local/lib/python3.5/site-packages/keras/engine/training.py\u001b[0m in \u001b[0;36m_fit_loop\u001b[0;34m(self, f, ins, out_labels, batch_size, epochs, verbose, callbacks, val_f, val_ins, shuffle, callback_metrics, initial_epoch, steps_per_epoch, validation_steps)\u001b[0m\n\u001b[1;32m   1181\u001b[0m                     \u001b[0mbatch_logs\u001b[0m\u001b[0;34m[\u001b[0m\u001b[0;34m'size'\u001b[0m\u001b[0;34m]\u001b[0m \u001b[0;34m=\u001b[0m \u001b[0mlen\u001b[0m\u001b[0;34m(\u001b[0m\u001b[0mbatch_ids\u001b[0m\u001b[0;34m)\u001b[0m\u001b[0;34m\u001b[0m\u001b[0m\n\u001b[1;32m   1182\u001b[0m                     \u001b[0mcallbacks\u001b[0m\u001b[0;34m.\u001b[0m\u001b[0mon_batch_begin\u001b[0m\u001b[0;34m(\u001b[0m\u001b[0mbatch_index\u001b[0m\u001b[0;34m,\u001b[0m \u001b[0mbatch_logs\u001b[0m\u001b[0;34m)\u001b[0m\u001b[0;34m\u001b[0m\u001b[0m\n\u001b[0;32m-> 1183\u001b[0;31m                     \u001b[0mouts\u001b[0m \u001b[0;34m=\u001b[0m \u001b[0mf\u001b[0m\u001b[0;34m(\u001b[0m\u001b[0mins_batch\u001b[0m\u001b[0;34m)\u001b[0m\u001b[0;34m\u001b[0m\u001b[0m\n\u001b[0m\u001b[1;32m   1184\u001b[0m                     \u001b[0;32mif\u001b[0m \u001b[0;32mnot\u001b[0m \u001b[0misinstance\u001b[0m\u001b[0;34m(\u001b[0m\u001b[0mouts\u001b[0m\u001b[0;34m,\u001b[0m \u001b[0mlist\u001b[0m\u001b[0;34m)\u001b[0m\u001b[0;34m:\u001b[0m\u001b[0;34m\u001b[0m\u001b[0m\n\u001b[1;32m   1185\u001b[0m                         \u001b[0mouts\u001b[0m \u001b[0;34m=\u001b[0m \u001b[0;34m[\u001b[0m\u001b[0mouts\u001b[0m\u001b[0;34m]\u001b[0m\u001b[0;34m\u001b[0m\u001b[0m\n",
      "\u001b[0;32m/home/fmena/.local/lib/python3.5/site-packages/keras/backend/tensorflow_backend.py\u001b[0m in \u001b[0;36m__call__\u001b[0;34m(self, inputs)\u001b[0m\n\u001b[1;32m   2271\u001b[0m         updated = session.run(self.outputs + [self.updates_op],\n\u001b[1;32m   2272\u001b[0m                               \u001b[0mfeed_dict\u001b[0m\u001b[0;34m=\u001b[0m\u001b[0mfeed_dict\u001b[0m\u001b[0;34m,\u001b[0m\u001b[0;34m\u001b[0m\u001b[0m\n\u001b[0;32m-> 2273\u001b[0;31m                               **self.session_kwargs)\n\u001b[0m\u001b[1;32m   2274\u001b[0m         \u001b[0;32mreturn\u001b[0m \u001b[0mupdated\u001b[0m\u001b[0;34m[\u001b[0m\u001b[0;34m:\u001b[0m\u001b[0mlen\u001b[0m\u001b[0;34m(\u001b[0m\u001b[0mself\u001b[0m\u001b[0;34m.\u001b[0m\u001b[0moutputs\u001b[0m\u001b[0;34m)\u001b[0m\u001b[0;34m]\u001b[0m\u001b[0;34m\u001b[0m\u001b[0m\n\u001b[1;32m   2275\u001b[0m \u001b[0;34m\u001b[0m\u001b[0m\n",
      "\u001b[0;32m/home/fmena/.local/lib/python3.5/site-packages/tensorflow/python/client/session.py\u001b[0m in \u001b[0;36mrun\u001b[0;34m(self, fetches, feed_dict, options, run_metadata)\u001b[0m\n\u001b[1;32m    887\u001b[0m     \u001b[0;32mtry\u001b[0m\u001b[0;34m:\u001b[0m\u001b[0;34m\u001b[0m\u001b[0m\n\u001b[1;32m    888\u001b[0m       result = self._run(None, fetches, feed_dict, options_ptr,\n\u001b[0;32m--> 889\u001b[0;31m                          run_metadata_ptr)\n\u001b[0m\u001b[1;32m    890\u001b[0m       \u001b[0;32mif\u001b[0m \u001b[0mrun_metadata\u001b[0m\u001b[0;34m:\u001b[0m\u001b[0;34m\u001b[0m\u001b[0m\n\u001b[1;32m    891\u001b[0m         \u001b[0mproto_data\u001b[0m \u001b[0;34m=\u001b[0m \u001b[0mtf_session\u001b[0m\u001b[0;34m.\u001b[0m\u001b[0mTF_GetBuffer\u001b[0m\u001b[0;34m(\u001b[0m\u001b[0mrun_metadata_ptr\u001b[0m\u001b[0;34m)\u001b[0m\u001b[0;34m\u001b[0m\u001b[0m\n",
      "\u001b[0;32m/home/fmena/.local/lib/python3.5/site-packages/tensorflow/python/client/session.py\u001b[0m in \u001b[0;36m_run\u001b[0;34m(self, handle, fetches, feed_dict, options, run_metadata)\u001b[0m\n\u001b[1;32m   1118\u001b[0m     \u001b[0;32mif\u001b[0m \u001b[0mfinal_fetches\u001b[0m \u001b[0;32mor\u001b[0m \u001b[0mfinal_targets\u001b[0m \u001b[0;32mor\u001b[0m \u001b[0;34m(\u001b[0m\u001b[0mhandle\u001b[0m \u001b[0;32mand\u001b[0m \u001b[0mfeed_dict_tensor\u001b[0m\u001b[0;34m)\u001b[0m\u001b[0;34m:\u001b[0m\u001b[0;34m\u001b[0m\u001b[0m\n\u001b[1;32m   1119\u001b[0m       results = self._do_run(handle, final_targets, final_fetches,\n\u001b[0;32m-> 1120\u001b[0;31m                              feed_dict_tensor, options, run_metadata)\n\u001b[0m\u001b[1;32m   1121\u001b[0m     \u001b[0;32melse\u001b[0m\u001b[0;34m:\u001b[0m\u001b[0;34m\u001b[0m\u001b[0m\n\u001b[1;32m   1122\u001b[0m       \u001b[0mresults\u001b[0m \u001b[0;34m=\u001b[0m \u001b[0;34m[\u001b[0m\u001b[0;34m]\u001b[0m\u001b[0;34m\u001b[0m\u001b[0m\n",
      "\u001b[0;32m/home/fmena/.local/lib/python3.5/site-packages/tensorflow/python/client/session.py\u001b[0m in \u001b[0;36m_do_run\u001b[0;34m(self, handle, target_list, fetch_list, feed_dict, options, run_metadata)\u001b[0m\n\u001b[1;32m   1315\u001b[0m     \u001b[0;32mif\u001b[0m \u001b[0mhandle\u001b[0m \u001b[0;32mis\u001b[0m \u001b[0;32mNone\u001b[0m\u001b[0;34m:\u001b[0m\u001b[0;34m\u001b[0m\u001b[0m\n\u001b[1;32m   1316\u001b[0m       return self._do_call(_run_fn, self._session, feeds, fetches, targets,\n\u001b[0;32m-> 1317\u001b[0;31m                            options, run_metadata)\n\u001b[0m\u001b[1;32m   1318\u001b[0m     \u001b[0;32melse\u001b[0m\u001b[0;34m:\u001b[0m\u001b[0;34m\u001b[0m\u001b[0m\n\u001b[1;32m   1319\u001b[0m       \u001b[0;32mreturn\u001b[0m \u001b[0mself\u001b[0m\u001b[0;34m.\u001b[0m\u001b[0m_do_call\u001b[0m\u001b[0;34m(\u001b[0m\u001b[0m_prun_fn\u001b[0m\u001b[0;34m,\u001b[0m \u001b[0mself\u001b[0m\u001b[0;34m.\u001b[0m\u001b[0m_session\u001b[0m\u001b[0;34m,\u001b[0m \u001b[0mhandle\u001b[0m\u001b[0;34m,\u001b[0m \u001b[0mfeeds\u001b[0m\u001b[0;34m,\u001b[0m \u001b[0mfetches\u001b[0m\u001b[0;34m)\u001b[0m\u001b[0;34m\u001b[0m\u001b[0m\n",
      "\u001b[0;32m/home/fmena/.local/lib/python3.5/site-packages/tensorflow/python/client/session.py\u001b[0m in \u001b[0;36m_do_call\u001b[0;34m(self, fn, *args)\u001b[0m\n\u001b[1;32m   1321\u001b[0m   \u001b[0;32mdef\u001b[0m \u001b[0m_do_call\u001b[0m\u001b[0;34m(\u001b[0m\u001b[0mself\u001b[0m\u001b[0;34m,\u001b[0m \u001b[0mfn\u001b[0m\u001b[0;34m,\u001b[0m \u001b[0;34m*\u001b[0m\u001b[0margs\u001b[0m\u001b[0;34m)\u001b[0m\u001b[0;34m:\u001b[0m\u001b[0;34m\u001b[0m\u001b[0m\n\u001b[1;32m   1322\u001b[0m     \u001b[0;32mtry\u001b[0m\u001b[0;34m:\u001b[0m\u001b[0;34m\u001b[0m\u001b[0m\n\u001b[0;32m-> 1323\u001b[0;31m       \u001b[0;32mreturn\u001b[0m \u001b[0mfn\u001b[0m\u001b[0;34m(\u001b[0m\u001b[0;34m*\u001b[0m\u001b[0margs\u001b[0m\u001b[0;34m)\u001b[0m\u001b[0;34m\u001b[0m\u001b[0m\n\u001b[0m\u001b[1;32m   1324\u001b[0m     \u001b[0;32mexcept\u001b[0m \u001b[0merrors\u001b[0m\u001b[0;34m.\u001b[0m\u001b[0mOpError\u001b[0m \u001b[0;32mas\u001b[0m \u001b[0me\u001b[0m\u001b[0;34m:\u001b[0m\u001b[0;34m\u001b[0m\u001b[0m\n\u001b[1;32m   1325\u001b[0m       \u001b[0mmessage\u001b[0m \u001b[0;34m=\u001b[0m \u001b[0mcompat\u001b[0m\u001b[0;34m.\u001b[0m\u001b[0mas_text\u001b[0m\u001b[0;34m(\u001b[0m\u001b[0me\u001b[0m\u001b[0;34m.\u001b[0m\u001b[0mmessage\u001b[0m\u001b[0;34m)\u001b[0m\u001b[0;34m\u001b[0m\u001b[0m\n",
      "\u001b[0;32m/home/fmena/.local/lib/python3.5/site-packages/tensorflow/python/client/session.py\u001b[0m in \u001b[0;36m_run_fn\u001b[0;34m(session, feed_dict, fetch_list, target_list, options, run_metadata)\u001b[0m\n\u001b[1;32m   1300\u001b[0m           return tf_session.TF_Run(session, options,\n\u001b[1;32m   1301\u001b[0m                                    \u001b[0mfeed_dict\u001b[0m\u001b[0;34m,\u001b[0m \u001b[0mfetch_list\u001b[0m\u001b[0;34m,\u001b[0m \u001b[0mtarget_list\u001b[0m\u001b[0;34m,\u001b[0m\u001b[0;34m\u001b[0m\u001b[0m\n\u001b[0;32m-> 1302\u001b[0;31m                                    status, run_metadata)\n\u001b[0m\u001b[1;32m   1303\u001b[0m \u001b[0;34m\u001b[0m\u001b[0m\n\u001b[1;32m   1304\u001b[0m     \u001b[0;32mdef\u001b[0m \u001b[0m_prun_fn\u001b[0m\u001b[0;34m(\u001b[0m\u001b[0msession\u001b[0m\u001b[0;34m,\u001b[0m \u001b[0mhandle\u001b[0m\u001b[0;34m,\u001b[0m \u001b[0mfeed_dict\u001b[0m\u001b[0;34m,\u001b[0m \u001b[0mfetch_list\u001b[0m\u001b[0;34m)\u001b[0m\u001b[0;34m:\u001b[0m\u001b[0;34m\u001b[0m\u001b[0m\n",
      "\u001b[0;31mKeyboardInterrupt\u001b[0m: "
     ]
    }
   ],
   "source": [
    "Nbits = np.asarray([4,8,16,32,64])\n",
    "dataset = name_dat.lower()\n",
    "\n",
    "for Nbit in Nbits:\n",
    "    traditional_vae, encoder_Tvae, generator_Tvae,beta_U = traditional_VAE(X_train.shape[1],Nb=Nbit,units=500,layers_e=2,layers_d=0, beta_ann=True)\n",
    "    traditional_vae.fit(X_train, X_train, epochs=epochs, batch_size=batch_size,verbose=0, \n",
    "                        callbacks=[Beta_Call(beta_U, verbose=0)])\n",
    "    \n",
    "    p_t,r_t = evaluate_hashingB(encoder_Tvae,X_train,X_val,labels_train,labels_val,traditional=True,tipo=\"topK\")\n",
    "    traditional_dat[dataset][\"p\"].append(p_t) \n",
    "    traditional_dat[dataset][\"r\"].append(r_t) \n",
    "    del traditional_vae, encoder_Tvae, generator_Tvae\n",
    "    keras.backend.clear_session()\n",
    "    gc.collect()\n",
    "    \n",
    "    binary_vae, encoder_Bvae, generator_Bvae,beta_U = binary_VAE(X_train.shape[1],Nb=Nbit,units=500,layers_e=2,layers_d=0, beta_ann=True)\n",
    "    binary_vae.fit(X_train, X_train, epochs=epochs, batch_size=batch_size,verbose=0,\n",
    "                   callbacks=[Beta_Call(beta_U, verbose=0)] )\n",
    "    p_b,r_b = evaluate_hashingB(encoder_Bvae,X_train,X_val,labels_train,labels_val,traditional=False,tipo=\"topK\")\n",
    "    binary_dat[dataset][\"p\"].append(p_b) \n",
    "    binary_dat[dataset][\"r\"].append(r_b) \n",
    "    del binary_vae, encoder_Bvae, generator_Bvae\n",
    "    keras.backend.clear_session()\n",
    "    gc.collect()"
   ]
  },
  {
   "cell_type": "code",
   "execution_count": null,
   "metadata": {
    "collapsed": true
   },
   "outputs": [],
   "source": [
    "print(\"Resultados de Precision en validación\")\n",
    "t = Table()\n",
    "t[\"N bits\"] = Nbits\n",
    "t[\"MNIST\"] = traditional_dat[\"mnist\"][\"p\"]\n",
    "t[\"CIFAR-10\"] = traditional_dat[\"cifar-10\"][\"p\"]\n",
    "#t[\"Nus-Wide\"] = traditional_dat[\"nus-wide\"][\"p\"]\n",
    "print(\"\\n*** VAE Traditional***\")\n",
    "print(t)\n",
    "t = Table()\n",
    "t[\"N bits\"] = Nbits\n",
    "t[\"MNIST\"] = binary_dat[\"mnist\"][\"p\"]\n",
    "t[\"CIFAR-10\"] = binary_dat[\"cifar-10\"][\"p\"]\n",
    "#t[\"Nus-Wide\"] = binary_dat[\"nus-wide\"][\"p\"]\n",
    "print(\"\\n*** VAE Binary***\")\n",
    "print(t)\n",
    "\n",
    "print(\"\\nResultados de Recall en validación\")\n",
    "t = Table()\n",
    "t[\"N bits\"] = Nbits\n",
    "t[\"MNIST\"] = traditional_dat[\"mnist\"][\"r\"]\n",
    "t[\"CIFAR-10\"] = traditional_dat[\"cifar-10\"][\"r\"]\n",
    "#t[\"Nus-Wide\"] = traditional_dat[\"nus-wide\"][\"r\"]\n",
    "print(\"\\n*** VAE Traditional***\")\n",
    "print(t)\n",
    "t = Table()\n",
    "t[\"N bits\"] = Nbits\n",
    "t[\"MNIST\"] = binary_dat[\"mnist\"][\"r\"]\n",
    "t[\"CIFAR-10\"] = binary_dat[\"cifar-10\"][\"r\"]\n",
    "#t[\"Nus-Wide\"] = binary_dat[\"nus-wide\"][\"r\"]\n",
    "print(\"\\n*** VAE Binary***\")\n",
    "print(t)"
   ]
  },
  {
   "cell_type": "markdown",
   "metadata": {},
   "source": [
    "## *Best models facing test set*\n",
    "Luego de la selección de la mejor configuración de los modelos se evalua de diferentes formas sobre el conjunto de pruebas de los distintos *datasets*, los cambios realizados son:\n",
    "* Se entrenan sobre todos los datos disponibles (*train+val*)\n",
    "* Se aumentó el número de *epochs* a 50.\n",
    "\n",
    "El mejor modelo:\n",
    "* Simétrica para *Binary VAE* y Base para *Traditional VAE*\n",
    "* 32 Bits en la codificación (número de variables latentes)\n",
    "* Representación sobre las top 10 mil *tokens* más frecuentes y *Term Frequency*"
   ]
  },
  {
   "cell_type": "code",
   "execution_count": 19,
   "metadata": {
    "collapsed": true
   },
   "outputs": [],
   "source": [
    "from utils import calculate_hash\n",
    "def evaluate_hashing_DE(train_hash,test_hash,labels_trainn,labels_testt,tipo=\"topK\",eval_tipo='PRatk',K=100):\n",
    "    \"\"\"\n",
    "        Evaluate Hashing correclty: Query and retrieve on a different set\n",
    "    \"\"\"\n",
    "    test_similares_train =  get_similar(test_hash,train_hash,tipo=tipo,K=K)\n",
    "    if eval_tipo==\"MAP\":\n",
    "        return MAP_atk(test_similares_train,labels_query=labels_testt, labels_source=labels_trainn, K=0) #all ranking\n",
    "    elif eval_tipo == \"PRatk\":\n",
    "        return measure_metrics(labels,test_similares_train,labels_testt,labels_source=labels_trainn)\n",
    "    elif eval_tipo == \"Patk\":\n",
    "        return M_P_atk(test_similares_train, labels_query=labels_testt, labels_source=labels_trainn, K=K)\n",
    "\n",
    "def hash_data(model, x_train, x_test, binary=True):\n",
    "    encode_train = model.predict(x_train)\n",
    "    encode_test = model.predict(x_test)\n",
    "    \n",
    "    train_hash = calculate_hash(encode_train, from_probas=binary )\n",
    "    test_hash = calculate_hash(encode_test, from_probas = binary)\n",
    "    return train_hash, test_hash\n",
    "\n",
    "#to save results\n",
    "results_dat = {\"mnist\":{\"p\":[],\"r\":[],'p5k':[]},\n",
    "               \"cifar-10\":{\"p\":[],\"r\":[], 'p5k':[]},\n",
    "               \"celeba\":{\"p\":[],\"r\":[],'p5k':[]},\n",
    "              \"nus-wide\":{\"p\":[],\"r\":[],'p5k':[]}} \n",
    "\n",
    "BITS_S = 32"
   ]
  },
  {
   "cell_type": "code",
   "execution_count": 37,
   "metadata": {
    "collapsed": false
   },
   "outputs": [
    {
     "data": {
      "text/plain": [
       "0"
      ]
     },
     "execution_count": 37,
     "metadata": {},
     "output_type": "execute_result"
    }
   ],
   "source": [
    "X_total = np.concatenate((X_train,X_val),axis=0)\n",
    "labels_total = np.concatenate((labels_train,labels_val),axis=0)\n",
    "del X_train, X_val, labels_train,labels_val\n",
    "gc.collect()"
   ]
  },
  {
   "cell_type": "code",
   "execution_count": 30,
   "metadata": {
    "collapsed": false,
    "scrolled": true
   },
   "outputs": [
    {
     "name": "stdout",
     "output_type": "stream",
     "text": [
      "pre-encoder network:\n",
      "_________________________________________________________________\n",
      "Layer (type)                 Output Shape              Param #   \n",
      "=================================================================\n",
      "input_13 (InputLayer)        (None, 784)               0         \n",
      "_________________________________________________________________\n",
      "dense_13 (Dense)             (None, 500)               392500    \n",
      "_________________________________________________________________\n",
      "batch_normalization_9 (Batch (None, 500)               2000      \n",
      "_________________________________________________________________\n",
      "dense_14 (Dense)             (None, 500)               250500    \n",
      "_________________________________________________________________\n",
      "batch_normalization_10 (Batc (None, 500)               2000      \n",
      "=================================================================\n",
      "Total params: 647,000\n",
      "Trainable params: 645,000\n",
      "Non-trainable params: 2,000\n",
      "_________________________________________________________________\n",
      "generator network:\n",
      "_________________________________________________________________\n",
      "Layer (type)                 Output Shape              Param #   \n",
      "=================================================================\n",
      "input_14 (InputLayer)        (None, 32)                0         \n",
      "_________________________________________________________________\n",
      "dense_15 (Dense)             (None, 784)               25872     \n",
      "=================================================================\n",
      "Total params: 25,872\n",
      "Trainable params: 25,872\n",
      "Non-trainable params: 0\n",
      "_________________________________________________________________\n",
      "Epoch 1/50\n",
      "67200/69000 [============================>.] - ETA: 0s - loss: 0.7473 - REC_loss: 0.7473 - KL: 138.0844Epoch 0 the KL weight is 2e-05\n",
      "69000/69000 [==============================] - 1s - loss: 0.7447 - REC_loss: 0.7447 - KL: 141.0776     \n",
      "Epoch 2/50\n",
      "66800/69000 [============================>.] - ETA: 0s - loss: 0.5625 - REC_loss: 0.5567 - KL: 287.6674Epoch 1 the KL weight is 6e-05\n",
      "69000/69000 [==============================] - 1s - loss: 0.5637 - REC_loss: 0.5579 - KL: 288.0844     \n",
      "Epoch 3/50\n",
      "67400/69000 [============================>.] - ETA: 0s - loss: 0.5502 - REC_loss: 0.5355 - KL: 245.7030Epoch 2 the KL weight is 0.00012\n",
      "69000/69000 [==============================] - 1s - loss: 0.5485 - REC_loss: 0.5338 - KL: 244.8836     \n",
      "Epoch 4/50\n",
      "67400/69000 [============================>.] - ETA: 0s - loss: 0.5433 - REC_loss: 0.5237 - KL: 162.8914Epoch 3 the KL weight is 0.0002\n",
      "69000/69000 [==============================] - 1s - loss: 0.5422 - REC_loss: 0.5227 - KL: 162.3901     \n",
      "Epoch 5/50\n",
      "67400/69000 [============================>.] - ETA: 0s - loss: 0.5411 - REC_loss: 0.5179 - KL: 116.3043Epoch 4 the KL weight is 0.00029999999\n",
      "69000/69000 [==============================] - 1s - loss: 0.5405 - REC_loss: 0.5173 - KL: 116.0272     \n",
      "Epoch 6/50\n",
      "67400/69000 [============================>.] - ETA: 0s - loss: 0.5424 - REC_loss: 0.5151 - KL: 90.9547Epoch 5 the KL weight is 0.00042\n",
      "69000/69000 [==============================] - 1s - loss: 0.5427 - REC_loss: 0.5155 - KL: 90.8296     \n",
      "Epoch 7/50\n",
      "67400/69000 [============================>.] - ETA: 0s - loss: 0.5484 - REC_loss: 0.5166 - KL: 75.8304Epoch 6 the KL weight is 0.00056\n",
      "69000/69000 [==============================] - 1s - loss: 0.5472 - REC_loss: 0.5154 - KL: 75.7804     \n",
      "Epoch 8/50\n",
      "68800/69000 [============================>.] - ETA: 0s - loss: 0.5503 - REC_loss: 0.5133 - KL: 65.9863Epoch 7 the KL weight is 0.00072\n",
      "69000/69000 [==============================] - 1s - loss: 0.5531 - REC_loss: 0.5161 - KL: 65.9794     \n",
      "Epoch 9/50\n",
      "68200/69000 [============================>.] - ETA: 0s - loss: 0.5604 - REC_loss: 0.5180 - KL: 59.0110Epoch 8 the KL weight is 0.0009\n",
      "69000/69000 [==============================] - 1s - loss: 0.5601 - REC_loss: 0.5176 - KL: 59.0018     \n",
      "Epoch 10/50\n",
      "68800/69000 [============================>.] - ETA: 0s - loss: 0.5681 - REC_loss: 0.5197 - KL: 53.7877Epoch 9 the KL weight is 0.0011\n",
      "69000/69000 [==============================] - 1s - loss: 0.5681 - REC_loss: 0.5197 - KL: 53.7948     \n",
      "Epoch 11/50\n",
      "67400/69000 [============================>.] - ETA: 0s - loss: 0.5789 - REC_loss: 0.5242 - KL: 49.6821Epoch 10 the KL weight is 0.00132\n",
      "69000/69000 [==============================] - 1s - loss: 0.5769 - REC_loss: 0.5223 - KL: 49.6738     \n",
      "Epoch 12/50\n",
      "67400/69000 [============================>.] - ETA: 0s - loss: 0.5825 - REC_loss: 0.5214 - KL: 46.2579Epoch 11 the KL weight is 0.00156\n",
      "69000/69000 [==============================] - 1s - loss: 0.5864 - REC_loss: 0.5254 - KL: 46.2609     \n",
      "Epoch 13/50\n",
      "67400/69000 [============================>.] - ETA: 0s - loss: 0.5981 - REC_loss: 0.5306 - KL: 43.2837Epoch 12 the KL weight is 0.00182\n",
      "69000/69000 [==============================] - 1s - loss: 0.5962 - REC_loss: 0.5287 - KL: 43.2794     \n",
      "Epoch 14/50\n",
      "67400/69000 [============================>.] - ETA: 0s - loss: 0.6035 - REC_loss: 0.5295 - KL: 40.6658Epoch 13 the KL weight is 0.0021\n",
      "69000/69000 [==============================] - 1s - loss: 0.6067 - REC_loss: 0.5327 - KL: 40.6682     \n",
      "Epoch 15/50\n",
      "67400/69000 [============================>.] - ETA: 0s - loss: 0.6159 - REC_loss: 0.5356 - KL: 38.2618Epoch 14 the KL weight is 0.0023999999\n",
      "69000/69000 [==============================] - 1s - loss: 0.6173 - REC_loss: 0.5369 - KL: 38.2609     \n",
      "Epoch 16/50\n",
      "68600/69000 [============================>.] - ETA: 0s - loss: 0.6284 - REC_loss: 0.5418 - KL: 36.0708Epoch 15 the KL weight is 0.00272\n",
      "69000/69000 [==============================] - 1s - loss: 0.6280 - REC_loss: 0.5414 - KL: 36.0688     \n",
      "Epoch 17/50\n",
      "68800/69000 [============================>.] - ETA: 0s - loss: 0.6396 - REC_loss: 0.5471 - KL: 33.9862Epoch 16 the KL weight is 0.00306\n",
      "69000/69000 [==============================] - 1s - loss: 0.6390 - REC_loss: 0.5465 - KL: 33.9824     \n",
      "Epoch 18/50\n",
      "67400/69000 [============================>.] - ETA: 0s - loss: 0.6523 - REC_loss: 0.5541 - KL: 32.0928Epoch 17 the KL weight is 0.00342\n",
      "69000/69000 [==============================] - 1s - loss: 0.6498 - REC_loss: 0.5516 - KL: 32.0742     \n",
      "Epoch 19/50\n",
      "67400/69000 [============================>.] - ETA: 0s - loss: 0.6622 - REC_loss: 0.5589 - KL: 30.2204Epoch 18 the KL weight is 0.0038\n",
      "69000/69000 [==============================] - 1s - loss: 0.6604 - REC_loss: 0.5571 - KL: 30.2064     \n",
      "Epoch 20/50\n",
      "67400/69000 [============================>.] - ETA: 0s - loss: 0.6652 - REC_loss: 0.5572 - KL: 28.4365Epoch 19 the KL weight is 0.0042\n",
      "69000/69000 [==============================] - 1s - loss: 0.6714 - REC_loss: 0.5633 - KL: 28.4365     \n",
      "Epoch 21/50\n",
      "67400/69000 [============================>.] - ETA: 0s - loss: 0.6825 - REC_loss: 0.5699 - KL: 26.8090Epoch 20 the KL weight is 0.00462\n",
      "69000/69000 [==============================] - 1s - loss: 0.6819 - REC_loss: 0.5694 - KL: 26.7939     \n",
      "Epoch 22/50\n",
      "67800/69000 [============================>.] - ETA: 0s - loss: 0.6920 - REC_loss: 0.5756 - KL: 25.1961Epoch 21 the KL weight is 0.00506\n",
      "69000/69000 [==============================] - 1s - loss: 0.6923 - REC_loss: 0.5759 - KL: 25.1973     \n",
      "Epoch 23/50\n",
      "67400/69000 [============================>.] - ETA: 0s - loss: 0.7055 - REC_loss: 0.5855 - KL: 23.7130Epoch 22 the KL weight is 0.0055199997\n",
      "69000/69000 [==============================] - 1s - loss: 0.7027 - REC_loss: 0.5828 - KL: 23.6971     \n",
      "Epoch 24/50\n",
      "67600/69000 [============================>.] - ETA: 0s - loss: 0.7142 - REC_loss: 0.5916 - KL: 22.2070Epoch 23 the KL weight is 0.0059999996\n",
      "69000/69000 [==============================] - 1s - loss: 0.7125 - REC_loss: 0.5899 - KL: 22.2104     \n",
      "Epoch 25/50\n",
      "67400/69000 [============================>.] - ETA: 0s - loss: 0.7239 - REC_loss: 0.5993 - KL: 20.7761Epoch 24 the KL weight is 0.0064999997\n",
      "69000/69000 [==============================] - 1s - loss: 0.7222 - REC_loss: 0.5976 - KL: 20.7700     \n",
      "Epoch 26/50\n",
      "67400/69000 [============================>.] - ETA: 0s - loss: 0.7327 - REC_loss: 0.6062 - KL: 19.4677Epoch 25 the KL weight is 0.0070199994\n",
      "69000/69000 [==============================] - 1s - loss: 0.7318 - REC_loss: 0.6053 - KL: 19.4624     \n",
      "Epoch 27/50\n",
      "67200/69000 [============================>.] - ETA: 0s - loss: 0.7387 - REC_loss: 0.6111 - KL: 18.1751Epoch 26 the KL weight is 0.0075599994\n",
      "69000/69000 [==============================] - 1s - loss: 0.7410 - REC_loss: 0.6134 - KL: 18.1806     \n",
      "Epoch 28/50\n",
      "67400/69000 [============================>.] - ETA: 0s - loss: 0.7470 - REC_loss: 0.6187 - KL: 16.9578Epoch 27 the KL weight is 0.008119999\n",
      "69000/69000 [==============================] - 1s - loss: 0.7495 - REC_loss: 0.6214 - KL: 16.9508     \n",
      "Epoch 29/50\n",
      "67400/69000 [============================>.] - ETA: 0s - loss: 0.7571 - REC_loss: 0.6293 - KL: 15.7452Epoch 28 the KL weight is 0.008699999\n",
      "69000/69000 [==============================] - 1s - loss: 0.7581 - REC_loss: 0.6302 - KL: 15.7416     \n",
      "Epoch 30/50\n",
      "67400/69000 [============================>.] - ETA: 0s - loss: 0.7691 - REC_loss: 0.6415 - KL: 14.6592Epoch 29 the KL weight is 0.009299999\n",
      "69000/69000 [==============================] - 1s - loss: 0.7666 - REC_loss: 0.6391 - KL: 14.6510     \n",
      "Epoch 31/50\n",
      "67200/69000 [============================>.] - ETA: 0s - loss: 0.7727 - REC_loss: 0.6465 - KL: 13.5725Epoch 30 the KL weight is 0.009919999\n",
      "69000/69000 [==============================] - 1s - loss: 0.7742 - REC_loss: 0.6481 - KL: 13.5671     \n",
      "Epoch 32/50\n",
      "68800/69000 [============================>.] - ETA: 0s - loss: 0.7811 - REC_loss: 0.6564 - KL: 12.5664Epoch 31 the KL weight is 0.01\n",
      "69000/69000 [==============================] - 1s - loss: 0.7816 - REC_loss: 0.6569 - KL: 12.5664     \n",
      "Epoch 33/50\n",
      "67400/69000 [============================>.] - ETA: 0s - loss: 0.7819 - REC_loss: 0.6595 - KL: 12.2419Epoch 32 the KL weight is 0.01\n",
      "69000/69000 [==============================] - 1s - loss: 0.7823 - REC_loss: 0.6599 - KL: 12.2352     \n",
      "Epoch 34/50\n",
      "67800/69000 [============================>.] - ETA: 0s - loss: 0.7848 - REC_loss: 0.6630 - KL: 12.1816Epoch 33 the KL weight is 0.01\n",
      "69000/69000 [==============================] - 1s - loss: 0.7821 - REC_loss: 0.6604 - KL: 12.1766     \n",
      "Epoch 35/50\n",
      "68200/69000 [============================>.] - ETA: 0s - loss: 0.7827 - REC_loss: 0.6621 - KL: 12.0639Epoch 34 the KL weight is 0.01\n",
      "69000/69000 [==============================] - 1s - loss: 0.7818 - REC_loss: 0.6611 - KL: 12.0649     \n",
      "Epoch 36/50\n",
      "68800/69000 [============================>.] - ETA: 0s - loss: 0.7817 - REC_loss: 0.6613 - KL: 12.0388Epoch 35 the KL weight is 0.01\n",
      "69000/69000 [==============================] - 1s - loss: 0.7815 - REC_loss: 0.6611 - KL: 12.0389     \n",
      "Epoch 37/50\n",
      "68600/69000 [============================>.] - ETA: 0s - loss: 0.7797 - REC_loss: 0.6596 - KL: 12.0157Epoch 36 the KL weight is 0.01\n",
      "69000/69000 [==============================] - 1s - loss: 0.7812 - REC_loss: 0.6611 - KL: 12.0157     \n",
      "Epoch 38/50\n",
      "68200/69000 [============================>.] - ETA: 0s - loss: 0.7827 - REC_loss: 0.6628 - KL: 11.9924Epoch 37 the KL weight is 0.01\n",
      "69000/69000 [==============================] - 1s - loss: 0.7811 - REC_loss: 0.6612 - KL: 11.9915     \n",
      "Epoch 39/50\n",
      "67800/69000 [============================>.] - ETA: 0s - loss: 0.7783 - REC_loss: 0.6583 - KL: 11.9946Epoch 38 the KL weight is 0.01\n",
      "69000/69000 [==============================] - 1s - loss: 0.7809 - REC_loss: 0.6609 - KL: 11.9947     \n",
      "Epoch 40/50\n",
      "68800/69000 [============================>.] - ETA: 0s - loss: 0.7807 - REC_loss: 0.6613 - KL: 11.9397Epoch 39 the KL weight is 0.01\n",
      "69000/69000 [==============================] - 1s - loss: 0.7805 - REC_loss: 0.6611 - KL: 11.9385     \n",
      "Epoch 41/50\n",
      "66600/69000 [===========================>..] - ETA: 0s - loss: 0.7817 - REC_loss: 0.6621 - KL: 11.9568Epoch 40 the KL weight is 0.01\n",
      "69000/69000 [==============================] - 1s - loss: 0.7805 - REC_loss: 0.6610 - KL: 11.9509     \n",
      "Epoch 42/50\n",
      "67600/69000 [============================>.] - ETA: 0s - loss: 0.7806 - REC_loss: 0.6615 - KL: 11.9070Epoch 41 the KL weight is 0.01\n",
      "69000/69000 [==============================] - 1s - loss: 0.7803 - REC_loss: 0.6612 - KL: 11.9080     \n",
      "Epoch 43/50\n",
      "66800/69000 [============================>.] - ETA: 0s - loss: 0.7822 - REC_loss: 0.6628 - KL: 11.9398Epoch 42 the KL weight is 0.01\n",
      "69000/69000 [==============================] - 1s - loss: 0.7802 - REC_loss: 0.6608 - KL: 11.9341     \n",
      "Epoch 44/50\n",
      "67200/69000 [============================>.] - ETA: 0s - loss: 0.7730 - REC_loss: 0.6542 - KL: 11.8847Epoch 43 the KL weight is 0.01\n",
      "69000/69000 [==============================] - 1s - loss: 0.7802 - REC_loss: 0.6613 - KL: 11.8887     \n",
      "Epoch 45/50\n",
      "68600/69000 [============================>.] - ETA: 0s - loss: 0.7810 - REC_loss: 0.6617 - KL: 11.9335Epoch 44 the KL weight is 0.01\n",
      "69000/69000 [==============================] - 1s - loss: 0.7800 - REC_loss: 0.6607 - KL: 11.9317     \n",
      "Epoch 46/50\n",
      "67400/69000 [============================>.] - ETA: 0s - loss: 0.7792 - REC_loss: 0.6601 - KL: 11.9106Epoch 45 the KL weight is 0.01\n",
      "69000/69000 [==============================] - 1s - loss: 0.7799 - REC_loss: 0.6608 - KL: 11.9104     \n",
      "Epoch 47/50\n",
      "66400/69000 [===========================>..] - ETA: 0s - loss: 0.7800 - REC_loss: 0.6609 - KL: 11.9097Epoch 46 the KL weight is 0.01\n",
      "69000/69000 [==============================] - 1s - loss: 0.7800 - REC_loss: 0.6609 - KL: 11.9044     \n",
      "Epoch 48/50\n",
      "68000/69000 [============================>.] - ETA: 0s - loss: 0.7822 - REC_loss: 0.6631 - KL: 11.9161Epoch 47 the KL weight is 0.01\n",
      "69000/69000 [==============================] - 1s - loss: 0.7798 - REC_loss: 0.6607 - KL: 11.9095     \n",
      "Epoch 49/50\n",
      "66400/69000 [===========================>..] - ETA: 0s - loss: 0.7788 - REC_loss: 0.6601 - KL: 11.8744Epoch 48 the KL weight is 0.01\n",
      "69000/69000 [==============================] - 1s - loss: 0.7799 - REC_loss: 0.6611 - KL: 11.8803     \n",
      "Epoch 50/50\n",
      "68200/69000 [============================>.] - ETA: 0s - loss: 0.7803 - REC_loss: 0.6614 - KL: 11.8907Epoch 49 the KL weight is 0.01\n",
      "69000/69000 [==============================] - 1s - loss: 0.7796 - REC_loss: 0.6607 - KL: 11.8922     \n",
      "pre-encoder network:\n",
      "_________________________________________________________________\n",
      "Layer (type)                 Output Shape              Param #   \n",
      "=================================================================\n",
      "input_16 (InputLayer)        (None, 784)               0         \n",
      "_________________________________________________________________\n",
      "dense_16 (Dense)             (None, 500)               392500    \n",
      "_________________________________________________________________\n",
      "batch_normalization_11 (Batc (None, 500)               2000      \n",
      "_________________________________________________________________\n",
      "dense_17 (Dense)             (None, 500)               250500    \n",
      "_________________________________________________________________\n",
      "batch_normalization_12 (Batc (None, 500)               2000      \n",
      "=================================================================\n",
      "Total params: 647,000\n",
      "Trainable params: 645,000\n",
      "Non-trainable params: 2,000\n",
      "_________________________________________________________________\n",
      "generator network:\n",
      "_________________________________________________________________\n",
      "Layer (type)                 Output Shape              Param #   \n",
      "=================================================================\n",
      "input_17 (InputLayer)        (None, 32)                0         \n",
      "_________________________________________________________________\n",
      "dense_18 (Dense)             (None, 784)               25872     \n",
      "=================================================================\n",
      "Total params: 25,872\n",
      "Trainable params: 25,872\n",
      "Non-trainable params: 0\n",
      "_________________________________________________________________\n",
      "Epoch 1/50\n",
      "67000/69000 [============================>.] - ETA: 0s - loss: 0.7547 - REC_loss: 0.7547 - KL: 17.0095Epoch 0 the KL weight is 2e-05\n",
      "69000/69000 [==============================] - 1s - loss: 0.7518 - REC_loss: 0.7518 - KL: 17.0481     \n",
      "Epoch 2/50\n",
      "68200/69000 [============================>.] - ETA: 0s - loss: 0.6531 - REC_loss: 0.6527 - KL: 18.4331Epoch 1 the KL weight is 6e-05\n",
      "69000/69000 [==============================] - 1s - loss: 0.6538 - REC_loss: 0.6534 - KL: 18.4330     \n",
      "Epoch 3/50\n",
      "68800/69000 [============================>.] - ETA: 0s - loss: 0.6324 - REC_loss: 0.6313 - KL: 18.4892Epoch 2 the KL weight is 0.00012\n",
      "69000/69000 [==============================] - 1s - loss: 0.6319 - REC_loss: 0.6308 - KL: 18.4895     \n",
      "Epoch 4/50\n",
      "67000/69000 [============================>.] - ETA: 0s - loss: 0.6287 - REC_loss: 0.6264 - KL: 18.4869Epoch 3 the KL weight is 0.0002\n",
      "69000/69000 [==============================] - 1s - loss: 0.6246 - REC_loss: 0.6224 - KL: 18.4858     \n",
      "Epoch 5/50\n",
      "67200/69000 [============================>.] - ETA: 0s - loss: 0.6241 - REC_loss: 0.6204 - KL: 18.4684Epoch 4 the KL weight is 0.00029999999\n",
      "69000/69000 [==============================] - 1s - loss: 0.6217 - REC_loss: 0.6180 - KL: 18.4672     \n",
      "Epoch 6/50\n",
      "68000/69000 [============================>.] - ETA: 0s - loss: 0.6189 - REC_loss: 0.6134 - KL: 18.4527Epoch 5 the KL weight is 0.00042\n",
      "69000/69000 [==============================] - 1s - loss: 0.6210 - REC_loss: 0.6155 - KL: 18.4519     \n",
      "Epoch 7/50\n",
      "66200/69000 [===========================>..] - ETA: 0s - loss: 0.6224 - REC_loss: 0.6147 - KL: 18.4077Epoch 6 the KL weight is 0.00056\n",
      "69000/69000 [==============================] - 1s - loss: 0.6215 - REC_loss: 0.6138 - KL: 18.4046     \n",
      "Epoch 8/50\n",
      "68400/69000 [============================>.] - ETA: 0s - loss: 0.6203 - REC_loss: 0.6101 - KL: 18.3480Epoch 7 the KL weight is 0.00072\n",
      "69000/69000 [==============================] - 1s - loss: 0.6229 - REC_loss: 0.6126 - KL: 18.3476     \n",
      "Epoch 9/50\n",
      "67800/69000 [============================>.] - ETA: 0s - loss: 0.6264 - REC_loss: 0.6132 - KL: 18.2727Epoch 8 the KL weight is 0.0009\n",
      "69000/69000 [==============================] - 1s - loss: 0.6249 - REC_loss: 0.6117 - KL: 18.2725     \n",
      "Epoch 10/50\n",
      "66200/69000 [===========================>..] - ETA: 0s - loss: 0.6296 - REC_loss: 0.6133 - KL: 18.1854Epoch 9 the KL weight is 0.0011\n",
      "69000/69000 [==============================] - 1s - loss: 0.6274 - REC_loss: 0.6110 - KL: 18.1812     \n",
      "Epoch 11/50\n",
      "68000/69000 [============================>.] - ETA: 0s - loss: 0.6290 - REC_loss: 0.6091 - KL: 18.0818Epoch 10 the KL weight is 0.00132\n",
      "69000/69000 [==============================] - 1s - loss: 0.6303 - REC_loss: 0.6105 - KL: 18.0811     \n",
      "Epoch 12/50\n",
      "68000/69000 [============================>.] - ETA: 0s - loss: 0.6336 - REC_loss: 0.6099 - KL: 17.9578Epoch 11 the KL weight is 0.00156\n",
      "69000/69000 [==============================] - 1s - loss: 0.6337 - REC_loss: 0.6100 - KL: 17.9583     \n",
      "Epoch 13/50\n",
      "68800/69000 [============================>.] - ETA: 0s - loss: 0.6377 - REC_loss: 0.6099 - KL: 17.8372Epoch 12 the KL weight is 0.00182\n",
      "69000/69000 [==============================] - 1s - loss: 0.6375 - REC_loss: 0.6096 - KL: 17.8369     \n",
      "Epoch 14/50\n",
      "68000/69000 [============================>.] - ETA: 0s - loss: 0.6415 - REC_loss: 0.6093 - KL: 17.7040Epoch 13 the KL weight is 0.0021\n",
      "69000/69000 [==============================] - 1s - loss: 0.6417 - REC_loss: 0.6095 - KL: 17.7020     \n",
      "Epoch 15/50\n",
      "68000/69000 [============================>.] - ETA: 0s - loss: 0.6446 - REC_loss: 0.6077 - KL: 17.5609Epoch 14 the KL weight is 0.0023999999\n",
      "69000/69000 [==============================] - 1s - loss: 0.6462 - REC_loss: 0.6093 - KL: 17.5596     \n",
      "Epoch 16/50\n",
      "67800/69000 [============================>.] - ETA: 0s - loss: 0.6533 - REC_loss: 0.6116 - KL: 17.3851Epoch 15 the KL weight is 0.00272\n",
      "69000/69000 [==============================] - 1s - loss: 0.6510 - REC_loss: 0.6093 - KL: 17.3844     \n",
      "Epoch 17/50\n",
      "68200/69000 [============================>.] - ETA: 0s - loss: 0.6539 - REC_loss: 0.6071 - KL: 17.2040Epoch 16 the KL weight is 0.00306\n",
      "69000/69000 [==============================] - 1s - loss: 0.6561 - REC_loss: 0.6093 - KL: 17.2037     \n",
      "Epoch 18/50\n",
      "68000/69000 [============================>.] - ETA: 0s - loss: 0.6605 - REC_loss: 0.6085 - KL: 16.9894Epoch 17 the KL weight is 0.00342\n",
      "69000/69000 [==============================] - 1s - loss: 0.6615 - REC_loss: 0.6096 - KL: 16.9869     \n",
      "Epoch 19/50\n",
      "68800/69000 [============================>.] - ETA: 0s - loss: 0.6679 - REC_loss: 0.6106 - KL: 16.7587Epoch 18 the KL weight is 0.0038\n",
      "69000/69000 [==============================] - 1s - loss: 0.6673 - REC_loss: 0.6100 - KL: 16.7585     \n",
      "Epoch 20/50\n",
      "68400/69000 [============================>.] - ETA: 0s - loss: 0.6740 - REC_loss: 0.6112 - KL: 16.5137Epoch 19 the KL weight is 0.0042\n",
      "69000/69000 [==============================] - 1s - loss: 0.6732 - REC_loss: 0.6104 - KL: 16.5138     \n",
      "Epoch 21/50\n",
      "68000/69000 [============================>.] - ETA: 0s - loss: 0.6774 - REC_loss: 0.6092 - KL: 16.2354Epoch 20 the KL weight is 0.00462\n",
      "69000/69000 [==============================] - 1s - loss: 0.6794 - REC_loss: 0.6112 - KL: 16.2342     \n",
      "Epoch 22/50\n",
      "68400/69000 [============================>.] - ETA: 0s - loss: 0.6873 - REC_loss: 0.6136 - KL: 15.9398Epoch 21 the KL weight is 0.00506\n",
      "69000/69000 [==============================] - 1s - loss: 0.6857 - REC_loss: 0.6120 - KL: 15.9396     \n",
      "Epoch 23/50\n",
      "68400/69000 [============================>.] - ETA: 0s - loss: 0.6935 - REC_loss: 0.6145 - KL: 15.6248Epoch 22 the KL weight is 0.0055199997\n",
      "69000/69000 [==============================] - 1s - loss: 0.6923 - REC_loss: 0.6132 - KL: 15.6241     \n",
      "Epoch 24/50\n",
      "67800/69000 [============================>.] - ETA: 0s - loss: 0.6995 - REC_loss: 0.6151 - KL: 15.2835Epoch 23 the KL weight is 0.0059999996\n",
      "69000/69000 [==============================] - 1s - loss: 0.6992 - REC_loss: 0.6148 - KL: 15.2819     \n",
      "Epoch 25/50\n",
      "68400/69000 [============================>.] - ETA: 0s - loss: 0.7044 - REC_loss: 0.6150 - KL: 14.9041Epoch 24 the KL weight is 0.0064999997\n",
      "69000/69000 [==============================] - 1s - loss: 0.7058 - REC_loss: 0.6164 - KL: 14.9035     \n",
      "Epoch 26/50\n",
      "68000/69000 [============================>.] - ETA: 0s - loss: 0.7126 - REC_loss: 0.6184 - KL: 14.4912Epoch 25 the KL weight is 0.0070199994\n",
      "69000/69000 [==============================] - 1s - loss: 0.7129 - REC_loss: 0.6187 - KL: 14.4900     \n",
      "Epoch 27/50\n",
      "68600/69000 [============================>.] - ETA: 0s - loss: 0.7200 - REC_loss: 0.6213 - KL: 14.0664Epoch 26 the KL weight is 0.0075599994\n",
      "69000/69000 [==============================] - 1s - loss: 0.7199 - REC_loss: 0.6211 - KL: 14.0668     \n",
      "Epoch 28/50\n",
      "68400/69000 [============================>.] - ETA: 0s - loss: 0.7260 - REC_loss: 0.6232 - KL: 13.6048Epoch 27 the KL weight is 0.008119999\n",
      "69000/69000 [==============================] - 1s - loss: 0.7267 - REC_loss: 0.6239 - KL: 13.6032     \n",
      "Epoch 29/50\n",
      "68800/69000 [============================>.] - ETA: 0s - loss: 0.7302 - REC_loss: 0.6240 - KL: 13.0893Epoch 28 the KL weight is 0.008699999\n",
      "69000/69000 [==============================] - 1s - loss: 0.7338 - REC_loss: 0.6275 - KL: 13.0889     \n",
      "Epoch 30/50\n",
      "67600/69000 [============================>.] - ETA: 0s - loss: 0.7355 - REC_loss: 0.6257 - KL: 12.6128Epoch 29 the KL weight is 0.009299999\n",
      "69000/69000 [==============================] - 1s - loss: 0.7409 - REC_loss: 0.6312 - KL: 12.6101     \n",
      "Epoch 31/50\n",
      "66400/69000 [===========================>..] - ETA: 0s - loss: 0.7443 - REC_loss: 0.6319 - KL: 12.0916Epoch 30 the KL weight is 0.009919999\n",
      "69000/69000 [==============================] - 1s - loss: 0.7478 - REC_loss: 0.6353 - KL: 12.0892     \n",
      "Epoch 32/50\n",
      "67400/69000 [============================>.] - ETA: 0s - loss: 0.7577 - REC_loss: 0.6423 - KL: 11.6362Epoch 31 the KL weight is 0.01\n",
      "69000/69000 [==============================] - 1s - loss: 0.7548 - REC_loss: 0.6394 - KL: 11.6334     \n",
      "Epoch 33/50\n",
      "67000/69000 [============================>.] - ETA: 0s - loss: 0.7531 - REC_loss: 0.6391 - KL: 11.4018Epoch 32 the KL weight is 0.01\n",
      "69000/69000 [==============================] - 1s - loss: 0.7551 - REC_loss: 0.6411 - KL: 11.4012     \n",
      "Epoch 34/50\n",
      "67400/69000 [============================>.] - ETA: 0s - loss: 0.7560 - REC_loss: 0.6426 - KL: 11.3381Epoch 33 the KL weight is 0.01\n",
      "69000/69000 [==============================] - 1s - loss: 0.7551 - REC_loss: 0.6418 - KL: 11.3361     \n",
      "Epoch 35/50\n",
      "67000/69000 [============================>.] - ETA: 0s - loss: 0.7560 - REC_loss: 0.6433 - KL: 11.2716Epoch 34 the KL weight is 0.01\n",
      "69000/69000 [==============================] - 1s - loss: 0.7546 - REC_loss: 0.6419 - KL: 11.2714     \n",
      "Epoch 36/50\n",
      "67200/69000 [============================>.] - ETA: 0s - loss: 0.7544 - REC_loss: 0.6421 - KL: 11.2336Epoch 35 the KL weight is 0.01\n",
      "69000/69000 [==============================] - 1s - loss: 0.7543 - REC_loss: 0.6420 - KL: 11.2313     \n",
      "Epoch 37/50\n",
      "67200/69000 [============================>.] - ETA: 0s - loss: 0.7548 - REC_loss: 0.6428 - KL: 11.2027Epoch 36 the KL weight is 0.01\n",
      "69000/69000 [==============================] - 1s - loss: 0.7540 - REC_loss: 0.6420 - KL: 11.2010     \n",
      "Epoch 38/50\n",
      "67400/69000 [============================>.] - ETA: 0s - loss: 0.7512 - REC_loss: 0.6396 - KL: 11.1678Epoch 37 the KL weight is 0.01\n",
      "69000/69000 [==============================] - 1s - loss: 0.7540 - REC_loss: 0.6423 - KL: 11.1677     \n",
      "Epoch 39/50\n",
      "67200/69000 [============================>.] - ETA: 0s - loss: 0.7523 - REC_loss: 0.6411 - KL: 11.1193Epoch 38 the KL weight is 0.01\n",
      "69000/69000 [==============================] - 1s - loss: 0.7536 - REC_loss: 0.6424 - KL: 11.1181     \n",
      "Epoch 40/50\n",
      "67400/69000 [============================>.] - ETA: 0s - loss: 0.7535 - REC_loss: 0.6427 - KL: 11.0849Epoch 39 the KL weight is 0.01\n",
      "69000/69000 [==============================] - 1s - loss: 0.7534 - REC_loss: 0.6425 - KL: 11.0835     \n",
      "Epoch 41/50\n",
      "67200/69000 [============================>.] - ETA: 0s - loss: 0.7555 - REC_loss: 0.6449 - KL: 11.0661Epoch 40 the KL weight is 0.01\n",
      "69000/69000 [==============================] - 1s - loss: 0.7530 - REC_loss: 0.6423 - KL: 11.0665     \n",
      "Epoch 42/50\n",
      "68000/69000 [============================>.] - ETA: 0s - loss: 0.7443 - REC_loss: 0.6338 - KL: 11.0560Epoch 41 the KL weight is 0.01\n",
      "69000/69000 [==============================] - 1s - loss: 0.7528 - REC_loss: 0.6423 - KL: 11.0557     \n",
      "Epoch 43/50\n",
      "68200/69000 [============================>.] - ETA: 0s - loss: 0.7536 - REC_loss: 0.6432 - KL: 11.0353Epoch 42 the KL weight is 0.01\n",
      "69000/69000 [==============================] - 1s - loss: 0.7528 - REC_loss: 0.6425 - KL: 11.0347     \n",
      "Epoch 44/50\n",
      "67600/69000 [============================>.] - ETA: 0s - loss: 0.7521 - REC_loss: 0.6420 - KL: 11.0068Epoch 43 the KL weight is 0.01\n",
      "69000/69000 [==============================] - 1s - loss: 0.7527 - REC_loss: 0.6426 - KL: 11.0065     \n",
      "Epoch 45/50\n",
      "68400/69000 [============================>.] - ETA: 0s - loss: 0.7529 - REC_loss: 0.6429 - KL: 10.9977Epoch 44 the KL weight is 0.01\n",
      "69000/69000 [==============================] - 1s - loss: 0.7525 - REC_loss: 0.6425 - KL: 10.9968     \n",
      "Epoch 46/50\n",
      "67800/69000 [============================>.] - ETA: 0s - loss: 0.7539 - REC_loss: 0.6441 - KL: 10.9754Epoch 45 the KL weight is 0.01\n",
      "69000/69000 [==============================] - 1s - loss: 0.7524 - REC_loss: 0.6426 - KL: 10.9757     \n",
      "Epoch 47/50\n",
      "67600/69000 [============================>.] - ETA: 0s - loss: 0.7520 - REC_loss: 0.6423 - KL: 10.9703Epoch 46 the KL weight is 0.01\n",
      "69000/69000 [==============================] - 1s - loss: 0.7523 - REC_loss: 0.6426 - KL: 10.9690     \n",
      "Epoch 48/50\n",
      "68600/69000 [============================>.] - ETA: 0s - loss: 0.7515 - REC_loss: 0.6421 - KL: 10.9371Epoch 47 the KL weight is 0.01\n",
      "69000/69000 [==============================] - 1s - loss: 0.7518 - REC_loss: 0.6425 - KL: 10.9368     \n",
      "Epoch 49/50\n",
      "67800/69000 [============================>.] - ETA: 0s - loss: 0.7518 - REC_loss: 0.6424 - KL: 10.9401Epoch 48 the KL weight is 0.01\n",
      "69000/69000 [==============================] - 1s - loss: 0.7519 - REC_loss: 0.6425 - KL: 10.9379     \n",
      "Epoch 50/50\n",
      "68400/69000 [============================>.] - ETA: 0s - loss: 0.7531 - REC_loss: 0.6437 - KL: 10.9374Epoch 49 the KL weight is 0.01\n",
      "69000/69000 [==============================] - 1s - loss: 0.7520 - REC_loss: 0.6426 - KL: 10.9373     \n"
     ]
    },
    {
     "data": {
      "text/plain": [
       "<keras.callbacks.History at 0x7f53afc75f60>"
      ]
     },
     "execution_count": 30,
     "metadata": {},
     "output_type": "execute_result"
    }
   ],
   "source": [
    "traditional_vae, encoder_Tvae, generator_Tvae,beta_T = traditional_VAE(X_total.shape[1],Nb=BITS_S,units=500,layers_e=2,layers_d=0,beta_ann=True)\n",
    "traditional_vae.fit(X_total, X_total, epochs=50, batch_size=batch_size,verbose=1, \n",
    "                        callbacks=[Beta_Call(beta_T, kl_inc = (1./50000), max_KL=0.01, verbose=1)])\n",
    "#save model\n",
    "#encoder_Tvae.save(\"saved_models/\"+name_dat+\"_VAE_\"+str(BITS_S)+\"b_E_defaultCNN.h5\")\n",
    "###generator_Tvae.save(\"saved_models/\"+name_dat+\"_VAE_\"+str(BITS_S)+\"b_D_defaultCNN.h5\") #it is not used\n",
    "\n",
    "\n",
    "binary_vae, encoder_Bvae, generator_Bvae,beta_B = binary_VAE(X_total.shape[1],Nb=BITS_S,units=500,layers_e=2,layers_d=0,beta_ann=True )\n",
    "binary_vae.fit(X_total, X_total, epochs=50, batch_size=batch_size,verbose=1,\n",
    "                   callbacks=[Beta_Call(beta_B, kl_inc = (1./50000), max_KL=0.01, verbose=1)] )\n",
    "#save model\n",
    "#encoder_Bvae.save(\"saved_models/\"+name_dat+\"_BVAE_\"+str(BITS_S)+\"b_E_defaultCNN.h5\")\n",
    "#generator_Bvae.save_weights(\"saved_models/\"+name_dat+\"_BVAE_\"+str(BITS_S)+\"b_D_defaultCNN_w.h5\")\n",
    "\n",
    "#keras.backend.clear_session()\n",
    "#gc.collect()"
   ]
  },
  {
   "cell_type": "code",
   "execution_count": 38,
   "metadata": {
    "collapsed": false,
    "scrolled": true
   },
   "outputs": [
    {
     "name": "stdout",
     "output_type": "stream",
     "text": [
      "pre-encoder network:\n",
      "_________________________________________________________________\n",
      "Layer (type)                 Output Shape              Param #   \n",
      "=================================================================\n",
      "input_19 (InputLayer)        (None, 512)               0         \n",
      "_________________________________________________________________\n",
      "dense_19 (Dense)             (None, 500)               256500    \n",
      "_________________________________________________________________\n",
      "batch_normalization_13 (Batc (None, 500)               2000      \n",
      "_________________________________________________________________\n",
      "dense_20 (Dense)             (None, 500)               250500    \n",
      "_________________________________________________________________\n",
      "batch_normalization_14 (Batc (None, 500)               2000      \n",
      "=================================================================\n",
      "Total params: 511,000\n",
      "Trainable params: 509,000\n",
      "Non-trainable params: 2,000\n",
      "_________________________________________________________________\n",
      "generator network:\n",
      "_________________________________________________________________\n",
      "Layer (type)                 Output Shape              Param #   \n",
      "=================================================================\n",
      "input_20 (InputLayer)        (None, 32)                0         \n",
      "_________________________________________________________________\n",
      "dense_21 (Dense)             (None, 512)               16896     \n",
      "=================================================================\n",
      "Total params: 16,896\n",
      "Trainable params: 16,896\n",
      "Non-trainable params: 0\n",
      "_________________________________________________________________\n",
      "Epoch 1/50\n",
      "68200/69000 [============================>.] - ETA: 0s - loss: 0.9717 - REC_loss: 0.9717 - KL: 83.6496Epoch 0 the KL weight is 2e-05\n",
      "69000/69000 [==============================] - 1s - loss: 0.9690 - REC_loss: 0.9690 - KL: 84.2043     \n",
      "Epoch 2/50\n",
      "68200/69000 [============================>.] - ETA: 0s - loss: 0.7542 - REC_loss: 0.7509 - KL: 163.9817Epoch 1 the KL weight is 6e-05\n",
      "69000/69000 [==============================] - 1s - loss: 0.7528 - REC_loss: 0.7495 - KL: 164.3720     \n",
      "Epoch 3/50\n",
      "68200/69000 [============================>.] - ETA: 0s - loss: 0.7318 - REC_loss: 0.7209 - KL: 182.0802Epoch 2 the KL weight is 0.00012\n",
      "69000/69000 [==============================] - 1s - loss: 0.7292 - REC_loss: 0.7183 - KL: 182.1224     \n",
      "Epoch 4/50\n",
      "68200/69000 [============================>.] - ETA: 0s - loss: 0.7212 - REC_loss: 0.7036 - KL: 146.6669Epoch 3 the KL weight is 0.0002\n",
      "69000/69000 [==============================] - 1s - loss: 0.7205 - REC_loss: 0.7029 - KL: 146.4963     \n",
      "Epoch 5/50\n",
      "68200/69000 [============================>.] - ETA: 0s - loss: 0.7142 - REC_loss: 0.6926 - KL: 108.0065Epoch 4 the KL weight is 0.00029999999\n",
      "69000/69000 [==============================] - 1s - loss: 0.7140 - REC_loss: 0.6924 - KL: 107.9018     \n",
      "Epoch 6/50\n",
      "68200/69000 [============================>.] - ETA: 0s - loss: 0.7094 - REC_loss: 0.6841 - KL: 84.2531Epoch 5 the KL weight is 0.00042\n",
      "69000/69000 [==============================] - 1s - loss: 0.7109 - REC_loss: 0.6856 - KL: 84.1593     \n",
      "Epoch 7/50\n",
      "68400/69000 [============================>.] - ETA: 0s - loss: 0.7122 - REC_loss: 0.6829 - KL: 69.6728Epoch 6 the KL weight is 0.00056\n",
      "69000/69000 [==============================] - 1s - loss: 0.7110 - REC_loss: 0.6818 - KL: 69.6365     \n",
      "Epoch 8/50\n",
      "68200/69000 [============================>.] - ETA: 0s - loss: 0.7155 - REC_loss: 0.6819 - KL: 59.9154Epoch 7 the KL weight is 0.00072\n",
      "69000/69000 [==============================] - 1s - loss: 0.7141 - REC_loss: 0.6805 - KL: 59.8699     \n",
      "Epoch 9/50\n",
      "68000/69000 [============================>.] - ETA: 0s - loss: 0.7198 - REC_loss: 0.6813 - KL: 53.4902Epoch 8 the KL weight is 0.0009\n",
      "69000/69000 [==============================] - 1s - loss: 0.7195 - REC_loss: 0.6810 - KL: 53.4574     \n",
      "Epoch 10/50\n",
      "68200/69000 [============================>.] - ETA: 0s - loss: 0.7270 - REC_loss: 0.6837 - KL: 48.1815Epoch 9 the KL weight is 0.0011\n",
      "69000/69000 [==============================] - 1s - loss: 0.7247 - REC_loss: 0.6814 - KL: 48.1631     \n",
      "Epoch 11/50\n",
      "68200/69000 [============================>.] - ETA: 0s - loss: 0.7302 - REC_loss: 0.6816 - KL: 44.1589Epoch 10 the KL weight is 0.00132\n",
      "69000/69000 [==============================] - 1s - loss: 0.7312 - REC_loss: 0.6827 - KL: 44.1540     \n",
      "Epoch 12/50\n",
      "68200/69000 [============================>.] - ETA: 0s - loss: 0.7365 - REC_loss: 0.6829 - KL: 40.6314Epoch 11 the KL weight is 0.00156\n",
      "69000/69000 [==============================] - 1s - loss: 0.7382 - REC_loss: 0.6845 - KL: 40.6247     \n",
      "Epoch 13/50\n",
      "68200/69000 [============================>.] - ETA: 0s - loss: 0.7458 - REC_loss: 0.6870 - KL: 37.6986Epoch 12 the KL weight is 0.00182\n",
      "69000/69000 [==============================] - 1s - loss: 0.7459 - REC_loss: 0.6871 - KL: 37.6857     \n",
      "Epoch 14/50\n",
      "68200/69000 [============================>.] - ETA: 0s - loss: 0.7532 - REC_loss: 0.6894 - KL: 35.0291Epoch 13 the KL weight is 0.0021\n",
      "69000/69000 [==============================] - 1s - loss: 0.7541 - REC_loss: 0.6904 - KL: 35.0309     \n",
      "Epoch 15/50\n",
      "68200/69000 [============================>.] - ETA: 0s - loss: 0.7619 - REC_loss: 0.6933 - KL: 32.6715Epoch 14 the KL weight is 0.0023999999\n",
      "69000/69000 [==============================] - 1s - loss: 0.7624 - REC_loss: 0.6938 - KL: 32.6746     \n",
      "Epoch 16/50\n",
      "68200/69000 [============================>.] - ETA: 0s - loss: 0.7707 - REC_loss: 0.6976 - KL: 30.4730Epoch 15 the KL weight is 0.00272\n",
      "69000/69000 [==============================] - 1s - loss: 0.7710 - REC_loss: 0.6979 - KL: 30.4709     \n",
      "Epoch 17/50\n",
      "68200/69000 [============================>.] - ETA: 0s - loss: 0.7783 - REC_loss: 0.7010 - KL: 28.4185Epoch 16 the KL weight is 0.00306\n",
      "69000/69000 [==============================] - 1s - loss: 0.7796 - REC_loss: 0.7023 - KL: 28.4120     \n",
      "Epoch 18/50\n",
      "68400/69000 [============================>.] - ETA: 0s - loss: 0.7860 - REC_loss: 0.7049 - KL: 26.4820Epoch 17 the KL weight is 0.00342\n",
      "69000/69000 [==============================] - 1s - loss: 0.7882 - REC_loss: 0.7072 - KL: 26.4753     \n",
      "Epoch 19/50\n",
      "68200/69000 [============================>.] - ETA: 0s - loss: 0.7949 - REC_loss: 0.7107 - KL: 24.6336Epoch 18 the KL weight is 0.0038\n",
      "69000/69000 [==============================] - 1s - loss: 0.7967 - REC_loss: 0.7124 - KL: 24.6492     \n",
      "Epoch 20/50\n",
      "68200/69000 [============================>.] - ETA: 0s - loss: 0.8042 - REC_loss: 0.7172 - KL: 22.8871Epoch 19 the KL weight is 0.0042\n",
      "69000/69000 [==============================] - 1s - loss: 0.8051 - REC_loss: 0.7181 - KL: 22.8956     \n",
      "Epoch 21/50\n",
      "68200/69000 [============================>.] - ETA: 0s - loss: 0.8132 - REC_loss: 0.7238 - KL: 21.2698Epoch 20 the KL weight is 0.00462\n",
      "69000/69000 [==============================] - 1s - loss: 0.8131 - REC_loss: 0.7238 - KL: 21.2694     \n",
      "Epoch 22/50\n",
      "68200/69000 [============================>.] - ETA: 0s - loss: 0.8202 - REC_loss: 0.7293 - KL: 19.6855Epoch 21 the KL weight is 0.00506\n",
      "69000/69000 [==============================] - 1s - loss: 0.8210 - REC_loss: 0.7301 - KL: 19.6796     \n",
      "Epoch 23/50\n",
      "68200/69000 [============================>.] - ETA: 0s - loss: 0.8292 - REC_loss: 0.7372 - KL: 18.1976Epoch 22 the KL weight is 0.0055199997\n",
      "69000/69000 [==============================] - 1s - loss: 0.8289 - REC_loss: 0.7368 - KL: 18.2011     \n",
      "Epoch 24/50\n",
      "68400/69000 [============================>.] - ETA: 0s - loss: 0.8359 - REC_loss: 0.7436 - KL: 16.7338Epoch 23 the KL weight is 0.0059999996\n",
      "69000/69000 [==============================] - 1s - loss: 0.8357 - REC_loss: 0.7433 - KL: 16.7300     \n",
      "Epoch 25/50\n",
      "68200/69000 [============================>.] - ETA: 0s - loss: 0.8409 - REC_loss: 0.7485 - KL: 15.4052Epoch 24 the KL weight is 0.0064999997\n",
      "69000/69000 [==============================] - 1s - loss: 0.8429 - REC_loss: 0.7505 - KL: 15.4027     \n",
      "Epoch 26/50\n",
      "68000/69000 [============================>.] - ETA: 0s - loss: 0.8509 - REC_loss: 0.7590 - KL: 14.1453Epoch 25 the KL weight is 0.0070199994\n",
      "69000/69000 [==============================] - 1s - loss: 0.8510 - REC_loss: 0.7591 - KL: 14.1454     \n",
      "Epoch 27/50\n",
      "68200/69000 [============================>.] - ETA: 0s - loss: 0.8558 - REC_loss: 0.7659 - KL: 12.8066Epoch 26 the KL weight is 0.0075599994\n",
      "69000/69000 [==============================] - 1s - loss: 0.8563 - REC_loss: 0.7664 - KL: 12.8058     \n",
      "Epoch 28/50\n",
      "68200/69000 [============================>.] - ETA: 0s - loss: 0.8586 - REC_loss: 0.7705 - KL: 11.6609Epoch 27 the KL weight is 0.008119999\n",
      "69000/69000 [==============================] - 1s - loss: 0.8613 - REC_loss: 0.7732 - KL: 11.6538     \n",
      "Epoch 29/50\n",
      "68400/69000 [============================>.] - ETA: 0s - loss: 0.8678 - REC_loss: 0.7819 - KL: 10.5785Epoch 28 the KL weight is 0.008699999\n",
      "69000/69000 [==============================] - 1s - loss: 0.8665 - REC_loss: 0.7806 - KL: 10.5775     \n",
      "Epoch 30/50\n",
      "68200/69000 [============================>.] - ETA: 0s - loss: 0.8725 - REC_loss: 0.7888 - KL: 9.6227Epoch 29 the KL weight is 0.009299999\n",
      "69000/69000 [==============================] - 1s - loss: 0.8716 - REC_loss: 0.7879 - KL: 9.6157     \n",
      "Epoch 31/50\n",
      "68000/69000 [============================>.] - ETA: 0s - loss: 0.8773 - REC_loss: 0.7961 - KL: 8.7308Epoch 30 the KL weight is 0.009919999\n",
      "69000/69000 [==============================] - 1s - loss: 0.8771 - REC_loss: 0.7960 - KL: 8.7230     \n",
      "Epoch 32/50\n",
      "68200/69000 [============================>.] - ETA: 0s - loss: 0.8813 - REC_loss: 0.8027 - KL: 7.9239Epoch 31 the KL weight is 0.01\n",
      "69000/69000 [==============================] - 1s - loss: 0.8806 - REC_loss: 0.8021 - KL: 7.9213     \n",
      "Epoch 33/50\n",
      "68000/69000 [============================>.] - ETA: 0s - loss: 0.8780 - REC_loss: 0.8016 - KL: 7.6390Epoch 32 the KL weight is 0.01\n",
      "69000/69000 [==============================] - 1s - loss: 0.8808 - REC_loss: 0.8044 - KL: 7.6422     \n",
      "Epoch 34/50\n",
      "68200/69000 [============================>.] - ETA: 0s - loss: 0.8785 - REC_loss: 0.8031 - KL: 7.5330Epoch 33 the KL weight is 0.01\n",
      "69000/69000 [==============================] - 1s - loss: 0.8804 - REC_loss: 0.8051 - KL: 7.5310     \n",
      "Epoch 35/50\n",
      "68000/69000 [============================>.] - ETA: 0s - loss: 0.8851 - REC_loss: 0.8098 - KL: 7.5298Epoch 34 the KL weight is 0.01\n",
      "69000/69000 [==============================] - 1s - loss: 0.8823 - REC_loss: 0.8071 - KL: 7.5277     \n",
      "Epoch 36/50\n",
      "68200/69000 [============================>.] - ETA: 0s - loss: 0.8810 - REC_loss: 0.8071 - KL: 7.3929Epoch 35 the KL weight is 0.01\n",
      "69000/69000 [==============================] - 1s - loss: 0.8804 - REC_loss: 0.8065 - KL: 7.3912     \n",
      "Epoch 37/50\n",
      "68200/69000 [============================>.] - ETA: 0s - loss: 0.8799 - REC_loss: 0.8060 - KL: 7.3909Epoch 36 the KL weight is 0.01\n",
      "69000/69000 [==============================] - 1s - loss: 0.8804 - REC_loss: 0.8065 - KL: 7.3895     \n",
      "Epoch 38/50\n",
      "68200/69000 [============================>.] - ETA: 0s - loss: 0.8814 - REC_loss: 0.8077 - KL: 7.3686Epoch 37 the KL weight is 0.01\n",
      "69000/69000 [==============================] - 1s - loss: 0.8800 - REC_loss: 0.8063 - KL: 7.3669     \n",
      "Epoch 39/50\n",
      "68200/69000 [============================>.] - ETA: 0s - loss: 0.8812 - REC_loss: 0.8077 - KL: 7.3555Epoch 38 the KL weight is 0.01\n",
      "69000/69000 [==============================] - 1s - loss: 0.8798 - REC_loss: 0.8062 - KL: 7.3554     \n",
      "Epoch 40/50\n",
      "68200/69000 [============================>.] - ETA: 0s - loss: 0.8787 - REC_loss: 0.8049 - KL: 7.3760Epoch 39 the KL weight is 0.01\n",
      "69000/69000 [==============================] - 1s - loss: 0.8796 - REC_loss: 0.8059 - KL: 7.3746     \n",
      "Epoch 41/50\n",
      "68200/69000 [============================>.] - ETA: 0s - loss: 0.8807 - REC_loss: 0.8071 - KL: 7.3660Epoch 40 the KL weight is 0.01\n",
      "69000/69000 [==============================] - 1s - loss: 0.8794 - REC_loss: 0.8057 - KL: 7.3666     \n",
      "Epoch 42/50\n",
      "68200/69000 [============================>.] - ETA: 0s - loss: 0.8802 - REC_loss: 0.8065 - KL: 7.3686Epoch 41 the KL weight is 0.01\n",
      "69000/69000 [==============================] - 1s - loss: 0.8795 - REC_loss: 0.8058 - KL: 7.3678     \n",
      "Epoch 43/50\n",
      "68200/69000 [============================>.] - ETA: 0s - loss: 0.8797 - REC_loss: 0.8062 - KL: 7.3506Epoch 42 the KL weight is 0.01\n",
      "69000/69000 [==============================] - 1s - loss: 0.8796 - REC_loss: 0.8060 - KL: 7.3509     \n",
      "Epoch 44/50\n",
      "68200/69000 [============================>.] - ETA: 0s - loss: 0.8798 - REC_loss: 0.8062 - KL: 7.3618Epoch 43 the KL weight is 0.01\n",
      "69000/69000 [==============================] - 1s - loss: 0.8793 - REC_loss: 0.8057 - KL: 7.3604     \n",
      "Epoch 45/50\n",
      "68200/69000 [============================>.] - ETA: 0s - loss: 0.8808 - REC_loss: 0.8073 - KL: 7.3450Epoch 44 the KL weight is 0.01\n",
      "69000/69000 [==============================] - 1s - loss: 0.8791 - REC_loss: 0.8057 - KL: 7.3412     \n",
      "Epoch 46/50\n",
      "68200/69000 [============================>.] - ETA: 0s - loss: 0.8773 - REC_loss: 0.8038 - KL: 7.3509Epoch 45 the KL weight is 0.01\n",
      "69000/69000 [==============================] - 1s - loss: 0.8791 - REC_loss: 0.8056 - KL: 7.3517     \n",
      "Epoch 47/50\n",
      "68200/69000 [============================>.] - ETA: 0s - loss: 0.8763 - REC_loss: 0.8029 - KL: 7.3426Epoch 46 the KL weight is 0.01\n",
      "69000/69000 [==============================] - 1s - loss: 0.8792 - REC_loss: 0.8057 - KL: 7.3455     \n",
      "Epoch 48/50\n",
      "68200/69000 [============================>.] - ETA: 0s - loss: 0.8809 - REC_loss: 0.8066 - KL: 7.4275Epoch 47 the KL weight is 0.01\n",
      "69000/69000 [==============================] - 1s - loss: 0.8807 - REC_loss: 0.8065 - KL: 7.4284     \n",
      "Epoch 49/50\n",
      "68200/69000 [============================>.] - ETA: 0s - loss: 0.8798 - REC_loss: 0.8066 - KL: 7.3194Epoch 48 the KL weight is 0.01\n",
      "69000/69000 [==============================] - 1s - loss: 0.8791 - REC_loss: 0.8059 - KL: 7.3175     \n",
      "Epoch 50/50\n",
      "67800/69000 [============================>.] - ETA: 0s - loss: 0.8799 - REC_loss: 0.8067 - KL: 7.3160Epoch 49 the KL weight is 0.01\n",
      "69000/69000 [==============================] - 1s - loss: 0.8789 - REC_loss: 0.8058 - KL: 7.3166     \n",
      "pre-encoder network:\n",
      "_________________________________________________________________\n",
      "Layer (type)                 Output Shape              Param #   \n",
      "=================================================================\n",
      "input_22 (InputLayer)        (None, 512)               0         \n",
      "_________________________________________________________________\n",
      "dense_22 (Dense)             (None, 500)               256500    \n",
      "_________________________________________________________________\n",
      "batch_normalization_15 (Batc (None, 500)               2000      \n",
      "_________________________________________________________________\n",
      "dense_23 (Dense)             (None, 500)               250500    \n",
      "_________________________________________________________________\n",
      "batch_normalization_16 (Batc (None, 500)               2000      \n",
      "=================================================================\n",
      "Total params: 511,000\n",
      "Trainable params: 509,000\n",
      "Non-trainable params: 2,000\n",
      "_________________________________________________________________\n",
      "generator network:\n",
      "_________________________________________________________________\n",
      "Layer (type)                 Output Shape              Param #   \n",
      "=================================================================\n",
      "input_23 (InputLayer)        (None, 32)                0         \n",
      "_________________________________________________________________\n",
      "dense_24 (Dense)             (None, 512)               16896     \n",
      "=================================================================\n",
      "Total params: 16,896\n",
      "Trainable params: 16,896\n",
      "Non-trainable params: 0\n",
      "_________________________________________________________________\n",
      "Epoch 1/50\n",
      "68000/69000 [============================>.] - ETA: 0s - loss: 0.8423 - REC_loss: 0.8423 - KL: 15.7219Epoch 0 the KL weight is 2e-05\n",
      "69000/69000 [==============================] - 1s - loss: 0.8425 - REC_loss: 0.8425 - KL: 15.7483     \n",
      "Epoch 2/50\n",
      "67200/69000 [============================>.] - ETA: 0s - loss: 0.7781 - REC_loss: 0.7777 - KL: 17.8267Epoch 1 the KL weight is 6e-05\n",
      "69000/69000 [==============================] - 1s - loss: 0.7756 - REC_loss: 0.7752 - KL: 17.8306     \n",
      "Epoch 3/50\n",
      "68400/69000 [============================>.] - ETA: 0s - loss: 0.7633 - REC_loss: 0.7622 - KL: 18.1140Epoch 2 the KL weight is 0.00012\n",
      "69000/69000 [==============================] - 0s - loss: 0.7622 - REC_loss: 0.7611 - KL: 18.1145     \n",
      "Epoch 4/50\n",
      "67800/69000 [============================>.] - ETA: 0s - loss: 0.7579 - REC_loss: 0.7557 - KL: 18.2479Epoch 3 the KL weight is 0.0002\n",
      "69000/69000 [==============================] - 1s - loss: 0.7576 - REC_loss: 0.7554 - KL: 18.2496     \n",
      "Epoch 5/50\n",
      "68400/69000 [============================>.] - ETA: 0s - loss: 0.7528 - REC_loss: 0.7491 - KL: 18.2939Epoch 4 the KL weight is 0.00029999999\n",
      "69000/69000 [==============================] - 1s - loss: 0.7562 - REC_loss: 0.7525 - KL: 18.2934     \n",
      "Epoch 6/50\n",
      "68000/69000 [============================>.] - ETA: 0s - loss: 0.7588 - REC_loss: 0.7534 - KL: 18.2902Epoch 5 the KL weight is 0.00042\n",
      "69000/69000 [==============================] - 1s - loss: 0.7563 - REC_loss: 0.7508 - KL: 18.2910     \n",
      "Epoch 7/50\n",
      "68600/69000 [============================>.] - ETA: 0s - loss: 0.7567 - REC_loss: 0.7491 - KL: 18.2605Epoch 6 the KL weight is 0.00056\n",
      "69000/69000 [==============================] - 1s - loss: 0.7573 - REC_loss: 0.7496 - KL: 18.2608     \n",
      "Epoch 8/50\n",
      "68200/69000 [============================>.] - ETA: 0s - loss: 0.7585 - REC_loss: 0.7483 - KL: 18.2048Epoch 7 the KL weight is 0.00072\n",
      "69000/69000 [==============================] - 0s - loss: 0.7588 - REC_loss: 0.7486 - KL: 18.2036     \n",
      "Epoch 9/50\n",
      "68200/69000 [============================>.] - ETA: 0s - loss: 0.7593 - REC_loss: 0.7463 - KL: 18.1132Epoch 8 the KL weight is 0.0009\n",
      "69000/69000 [==============================] - 0s - loss: 0.7610 - REC_loss: 0.7480 - KL: 18.1121     \n",
      "Epoch 10/50\n",
      "68200/69000 [============================>.] - ETA: 0s - loss: 0.7637 - REC_loss: 0.7475 - KL: 17.9821Epoch 9 the KL weight is 0.0011\n",
      "69000/69000 [==============================] - 1s - loss: 0.7636 - REC_loss: 0.7475 - KL: 17.9817     \n",
      "Epoch 11/50\n",
      "67400/69000 [============================>.] - ETA: 0s - loss: 0.7694 - REC_loss: 0.7497 - KL: 17.8672Epoch 10 the KL weight is 0.00132\n",
      "69000/69000 [==============================] - 1s - loss: 0.7667 - REC_loss: 0.7470 - KL: 17.8658     \n",
      "Epoch 12/50\n",
      "67800/69000 [============================>.] - ETA: 0s - loss: 0.7728 - REC_loss: 0.7494 - KL: 17.6900Epoch 11 the KL weight is 0.00156\n",
      "69000/69000 [==============================] - 1s - loss: 0.7701 - REC_loss: 0.7468 - KL: 17.6896     \n",
      "Epoch 13/50\n",
      "67800/69000 [============================>.] - ETA: 0s - loss: 0.7755 - REC_loss: 0.7482 - KL: 17.4873Epoch 12 the KL weight is 0.00182\n",
      "69000/69000 [==============================] - 1s - loss: 0.7740 - REC_loss: 0.7467 - KL: 17.4864     \n",
      "Epoch 14/50\n",
      "67200/69000 [============================>.] - ETA: 0s - loss: 0.7771 - REC_loss: 0.7456 - KL: 17.2777Epoch 13 the KL weight is 0.0021\n",
      "69000/69000 [==============================] - 1s - loss: 0.7781 - REC_loss: 0.7467 - KL: 17.2737     \n",
      "Epoch 15/50\n",
      "68200/69000 [============================>.] - ETA: 0s - loss: 0.7815 - REC_loss: 0.7457 - KL: 17.0186Epoch 14 the KL weight is 0.0023999999\n",
      "69000/69000 [==============================] - 1s - loss: 0.7826 - REC_loss: 0.7469 - KL: 17.0168     \n",
      "Epoch 16/50\n",
      "68000/69000 [============================>.] - ETA: 0s - loss: 0.7851 - REC_loss: 0.7450 - KL: 16.7244Epoch 15 the KL weight is 0.00272\n",
      "69000/69000 [==============================] - 1s - loss: 0.7873 - REC_loss: 0.7472 - KL: 16.7225     \n",
      "Epoch 17/50\n",
      "67600/69000 [============================>.] - ETA: 0s - loss: 0.7935 - REC_loss: 0.7489 - KL: 16.3747Epoch 16 the KL weight is 0.00306\n",
      "69000/69000 [==============================] - 1s - loss: 0.7922 - REC_loss: 0.7477 - KL: 16.3724     \n",
      "Epoch 18/50\n",
      "68000/69000 [============================>.] - ETA: 0s - loss: 0.7986 - REC_loss: 0.7496 - KL: 15.9912Epoch 17 the KL weight is 0.00342\n",
      "69000/69000 [==============================] - 0s - loss: 0.7973 - REC_loss: 0.7483 - KL: 15.9899     \n",
      "Epoch 19/50\n",
      "67600/69000 [============================>.] - ETA: 0s - loss: 0.8036 - REC_loss: 0.7503 - KL: 15.5646Epoch 18 the KL weight is 0.0038\n",
      "69000/69000 [==============================] - 1s - loss: 0.8027 - REC_loss: 0.7495 - KL: 15.5628     \n",
      "Epoch 20/50\n",
      "68000/69000 [============================>.] - ETA: 0s - loss: 0.8098 - REC_loss: 0.7526 - KL: 15.0703Epoch 19 the KL weight is 0.0042\n",
      "69000/69000 [==============================] - 1s - loss: 0.8080 - REC_loss: 0.7507 - KL: 15.0692     \n",
      "Epoch 21/50\n",
      "67800/69000 [============================>.] - ETA: 0s - loss: 0.8146 - REC_loss: 0.7534 - KL: 14.5546Epoch 20 the KL weight is 0.00462\n",
      "69000/69000 [==============================] - 1s - loss: 0.8135 - REC_loss: 0.7524 - KL: 14.5529     \n",
      "Epoch 22/50\n",
      "68000/69000 [============================>.] - ETA: 0s - loss: 0.8172 - REC_loss: 0.7525 - KL: 13.9990Epoch 21 the KL weight is 0.00506\n",
      "69000/69000 [==============================] - 1s - loss: 0.8190 - REC_loss: 0.7543 - KL: 13.9981     \n",
      "Epoch 23/50\n",
      "68200/69000 [============================>.] - ETA: 0s - loss: 0.8255 - REC_loss: 0.7578 - KL: 13.3784Epoch 22 the KL weight is 0.0055199997\n",
      "69000/69000 [==============================] - 1s - loss: 0.8246 - REC_loss: 0.7569 - KL: 13.3766     \n",
      "Epoch 24/50\n",
      "67600/69000 [============================>.] - ETA: 0s - loss: 0.8291 - REC_loss: 0.7587 - KL: 12.7547Epoch 23 the KL weight is 0.0059999996\n",
      "69000/69000 [==============================] - 1s - loss: 0.8303 - REC_loss: 0.7599 - KL: 12.7500     \n",
      "Epoch 25/50\n",
      "67600/69000 [============================>.] - ETA: 0s - loss: 0.8362 - REC_loss: 0.7637 - KL: 12.0856Epoch 24 the KL weight is 0.0064999997\n",
      "69000/69000 [==============================] - 1s - loss: 0.8356 - REC_loss: 0.7631 - KL: 12.0806     \n",
      "Epoch 26/50\n",
      "67200/69000 [============================>.] - ETA: 0s - loss: 0.8400 - REC_loss: 0.7655 - KL: 11.4548Epoch 25 the KL weight is 0.0070199994\n",
      "69000/69000 [==============================] - 1s - loss: 0.8409 - REC_loss: 0.7665 - KL: 11.4521     \n",
      "Epoch 27/50\n",
      "67400/69000 [============================>.] - ETA: 0s - loss: 0.8440 - REC_loss: 0.7683 - KL: 10.7826Epoch 26 the KL weight is 0.0075599994\n",
      "69000/69000 [==============================] - 1s - loss: 0.8460 - REC_loss: 0.7704 - KL: 10.7780     \n",
      "Epoch 28/50\n",
      "68000/69000 [============================>.] - ETA: 0s - loss: 0.8499 - REC_loss: 0.7729 - KL: 10.1858Epoch 27 the KL weight is 0.008119999\n",
      "69000/69000 [==============================] - 1s - loss: 0.8514 - REC_loss: 0.7744 - KL: 10.1836     \n",
      "Epoch 29/50\n",
      "67600/69000 [============================>.] - ETA: 0s - loss: 0.8525 - REC_loss: 0.7748 - KL: 9.5640Epoch 28 the KL weight is 0.008699999\n",
      "69000/69000 [==============================] - 1s - loss: 0.8562 - REC_loss: 0.7785 - KL: 9.5599     \n",
      "Epoch 30/50\n",
      "68200/69000 [============================>.] - ETA: 0s - loss: 0.8621 - REC_loss: 0.7842 - KL: 8.9565Epoch 29 the KL weight is 0.009299999\n",
      "69000/69000 [==============================] - 0s - loss: 0.8610 - REC_loss: 0.7831 - KL: 8.9528     \n",
      "Epoch 31/50\n",
      "68200/69000 [============================>.] - ETA: 0s - loss: 0.8665 - REC_loss: 0.7885 - KL: 8.3863Epoch 30 the KL weight is 0.009919999\n",
      "69000/69000 [==============================] - 1s - loss: 0.8655 - REC_loss: 0.7875 - KL: 8.3845     \n",
      "Epoch 32/50\n",
      "67600/69000 [============================>.] - ETA: 0s - loss: 0.8678 - REC_loss: 0.7899 - KL: 7.8527Epoch 31 the KL weight is 0.01\n",
      "69000/69000 [==============================] - 1s - loss: 0.8698 - REC_loss: 0.7919 - KL: 7.8504     \n",
      "Epoch 33/50\n",
      "68600/69000 [============================>.] - ETA: 0s - loss: 0.8688 - REC_loss: 0.7925 - KL: 7.6259Epoch 32 the KL weight is 0.01\n",
      "69000/69000 [==============================] - 1s - loss: 0.8699 - REC_loss: 0.7937 - KL: 7.6247     \n",
      "Epoch 34/50\n",
      "68400/69000 [============================>.] - ETA: 0s - loss: 0.8698 - REC_loss: 0.7949 - KL: 7.4863Epoch 33 the KL weight is 0.01\n",
      "69000/69000 [==============================] - 0s - loss: 0.8693 - REC_loss: 0.7944 - KL: 7.4852     \n",
      "Epoch 35/50\n",
      "67800/69000 [============================>.] - ETA: 0s - loss: 0.8648 - REC_loss: 0.7908 - KL: 7.3972Epoch 34 the KL weight is 0.01\n",
      "69000/69000 [==============================] - 1s - loss: 0.8688 - REC_loss: 0.7949 - KL: 7.3955     \n",
      "Epoch 36/50\n",
      "67600/69000 [============================>.] - ETA: 0s - loss: 0.8710 - REC_loss: 0.7974 - KL: 7.3613Epoch 35 the KL weight is 0.01\n",
      "69000/69000 [==============================] - 1s - loss: 0.8688 - REC_loss: 0.7952 - KL: 7.3624     \n",
      "Epoch 37/50\n",
      "68000/69000 [============================>.] - ETA: 0s - loss: 0.8700 - REC_loss: 0.7971 - KL: 7.2882Epoch 36 the KL weight is 0.01\n",
      "69000/69000 [==============================] - 1s - loss: 0.8683 - REC_loss: 0.7955 - KL: 7.2852     \n",
      "Epoch 38/50\n",
      "68000/69000 [============================>.] - ETA: 0s - loss: 0.8693 - REC_loss: 0.7969 - KL: 7.2415Epoch 37 the KL weight is 0.01\n",
      "69000/69000 [==============================] - 1s - loss: 0.8680 - REC_loss: 0.7956 - KL: 7.2414     \n",
      "Epoch 39/50\n",
      "67200/69000 [============================>.] - ETA: 0s - loss: 0.8646 - REC_loss: 0.7926 - KL: 7.1933Epoch 38 the KL weight is 0.01\n",
      "69000/69000 [==============================] - 1s - loss: 0.8678 - REC_loss: 0.7958 - KL: 7.1951     \n",
      "Epoch 40/50\n",
      "68200/69000 [============================>.] - ETA: 0s - loss: 0.8671 - REC_loss: 0.7955 - KL: 7.1582Epoch 39 the KL weight is 0.01\n",
      "69000/69000 [==============================] - 1s - loss: 0.8676 - REC_loss: 0.7960 - KL: 7.1581     \n",
      "Epoch 41/50\n",
      "67600/69000 [============================>.] - ETA: 0s - loss: 0.8628 - REC_loss: 0.7915 - KL: 7.1359Epoch 40 the KL weight is 0.01\n",
      "69000/69000 [==============================] - 1s - loss: 0.8673 - REC_loss: 0.7959 - KL: 7.1355     \n",
      "Epoch 42/50\n",
      "68000/69000 [============================>.] - ETA: 0s - loss: 0.8674 - REC_loss: 0.7963 - KL: 7.1073Epoch 41 the KL weight is 0.01\n",
      "69000/69000 [==============================] - 1s - loss: 0.8673 - REC_loss: 0.7962 - KL: 7.1072     \n",
      "Epoch 43/50\n",
      "67200/69000 [============================>.] - ETA: 0s - loss: 0.8665 - REC_loss: 0.7955 - KL: 7.1001Epoch 42 the KL weight is 0.01\n",
      "69000/69000 [==============================] - 1s - loss: 0.8670 - REC_loss: 0.7961 - KL: 7.0976     \n",
      "Epoch 44/50\n",
      "68000/69000 [============================>.] - ETA: 0s - loss: 0.8694 - REC_loss: 0.7988 - KL: 7.0543Epoch 43 the KL weight is 0.01\n",
      "69000/69000 [==============================] - 1s - loss: 0.8669 - REC_loss: 0.7963 - KL: 7.0535     \n",
      "Epoch 45/50\n",
      "67400/69000 [============================>.] - ETA: 0s - loss: 0.8665 - REC_loss: 0.7961 - KL: 7.0465Epoch 44 the KL weight is 0.01\n",
      "69000/69000 [==============================] - 1s - loss: 0.8666 - REC_loss: 0.7962 - KL: 7.0466     \n",
      "Epoch 46/50\n",
      "68600/69000 [============================>.] - ETA: 0s - loss: 0.8659 - REC_loss: 0.7956 - KL: 7.0272Epoch 45 the KL weight is 0.01\n",
      "69000/69000 [==============================] - 0s - loss: 0.8664 - REC_loss: 0.7962 - KL: 7.0259     \n",
      "Epoch 47/50\n",
      "67600/69000 [============================>.] - ETA: 0s - loss: 0.8671 - REC_loss: 0.7970 - KL: 7.0145Epoch 46 the KL weight is 0.01\n",
      "69000/69000 [==============================] - 1s - loss: 0.8663 - REC_loss: 0.7962 - KL: 7.0140     \n",
      "Epoch 48/50\n",
      "67400/69000 [============================>.] - ETA: 0s - loss: 0.8629 - REC_loss: 0.7930 - KL: 6.9902Epoch 47 the KL weight is 0.01\n",
      "69000/69000 [==============================] - 1s - loss: 0.8662 - REC_loss: 0.7963 - KL: 6.9895     \n",
      "Epoch 49/50\n",
      "68400/69000 [============================>.] - ETA: 0s - loss: 0.8634 - REC_loss: 0.7936 - KL: 6.9773Epoch 48 the KL weight is 0.01\n",
      "69000/69000 [==============================] - 0s - loss: 0.8659 - REC_loss: 0.7961 - KL: 6.9767     \n",
      "Epoch 50/50\n",
      "68000/69000 [============================>.] - ETA: 0s - loss: 0.8658 - REC_loss: 0.7962 - KL: 6.9640Epoch 49 the KL weight is 0.01\n",
      "69000/69000 [==============================] - 1s - loss: 0.8657 - REC_loss: 0.7961 - KL: 6.9645     \n"
     ]
    },
    {
     "data": {
      "text/plain": [
       "<keras.callbacks.History at 0x7f53b29567b8>"
      ]
     },
     "execution_count": 38,
     "metadata": {},
     "output_type": "execute_result"
    }
   ],
   "source": [
    "traditional_vae, encoder_Tvae, generator_Tvae,beta_T = traditional_VAE(X_total.shape[1],Nb=BITS_S,units=500,layers_e=2,layers_d=0,beta_ann=True)\n",
    "traditional_vae.fit(X_total, X_total, epochs=50, batch_size=batch_size,verbose=1, \n",
    "                        callbacks=[Beta_Call(beta_T, kl_inc = (1./50000), max_KL=0.01, verbose=1)])\n",
    "#save model\n",
    "#encoder_Tvae.save(\"saved_models/\"+name_dat+\"_VAE_\"+str(BITS_S)+\"b_E_defaultCNN.h5\")\n",
    "###generator_Tvae.save(\"saved_models/\"+name_dat+\"_VAE_\"+str(BITS_S)+\"b_D_defaultCNN.h5\") #it is not used\n",
    "\n",
    "\n",
    "binary_vae, encoder_Bvae, generator_Bvae,beta_B = binary_VAE(X_total.shape[1],Nb=BITS_S,units=500,layers_e=2,layers_d=0,beta_ann=True )\n",
    "binary_vae.fit(X_total, X_total, epochs=50, batch_size=batch_size,verbose=1,\n",
    "                   callbacks=[Beta_Call(beta_B, kl_inc = (1./50000), max_KL=0.01, verbose=1)] )\n",
    "#save model\n",
    "#encoder_Bvae.save(\"saved_models/\"+name_dat+\"_BVAE_\"+str(BITS_S)+\"b_E_defaultCNN.h5\")\n",
    "#generator_Bvae.save_weights(\"saved_models/\"+name_dat+\"_BVAE_\"+str(BITS_S)+\"b_D_defaultCNN_w.h5\")\n",
    "\n",
    "#keras.backend.clear_session()\n",
    "#gc.collect()"
   ]
  },
  {
   "cell_type": "markdown",
   "metadata": {
    "collapsed": false,
    "scrolled": false
   },
   "source": [
    "##load model\n",
    "encoder_Tvae = keras.models.load_model(\"saved_models/\"+name_dat+\"_VAE_\"+str(BITS_S)+\"b_E_defaultCNN.h5\")\n",
    "encoder_Bvae = keras.models.load_model(\"saved_models/\"+name_dat+\"_BVAE_\"+str(BITS_S)+\"b_E_defaultCNN.h5\")\n",
    "#generator_Bvae = keras.models.load_model(\"saved_models/\"+name_dat+\"_BVAE_\"+str(BITS_S)+\"b_D_defaultCNN.h5\")\n",
    "encoder_Bvae.summary()"
   ]
  },
  {
   "cell_type": "code",
   "execution_count": 39,
   "metadata": {
    "collapsed": false,
    "scrolled": false
   },
   "outputs": [
    {
     "data": {
      "text/plain": [
       "0"
      ]
     },
     "execution_count": 39,
     "metadata": {},
     "output_type": "execute_result"
    }
   ],
   "source": [
    "total_hash_VAE, test_hash_VAE = hash_data(encoder_Tvae,X_total,X_test, binary=False)\n",
    "total_hash_BVAE, test_hash_BVAE = hash_data(encoder_Bvae,X_total,X_test)\n",
    "\n",
    "del X_total, X_test\n",
    "gc.collect()"
   ]
  },
  {
   "cell_type": "code",
   "execution_count": 118,
   "metadata": {
    "collapsed": false,
    "scrolled": true
   },
   "outputs": [
    {
     "name": "stdout",
     "output_type": "stream",
     "text": [
      "Realizado.\n"
     ]
    }
   ],
   "source": [
    "dataset = name_dat.lower()\n",
    "\n",
    "p_t,r_t = evaluate_hashing_DE(total_hash_VAE,test_hash_VAE,labels_total,labels_test,tipo=\"topK\")\n",
    "results_dat[dataset][\"p\"].append(p_t)\n",
    "results_dat[dataset][\"r\"].append(r_t)\n",
    "p5k_t = evaluate_hashing_DE(total_hash_VAE,test_hash_VAE,labels_total,labels_test,eval_tipo=\"Patk\",K=5000)\n",
    "results_dat[dataset][\"p5k\"].append(p5k_t)\n",
    "\n",
    "p_b,r_b = evaluate_hashing_DE(total_hash_BVAE, test_hash_BVAE,labels_total,labels_test,tipo=\"topK\")\n",
    "results_dat[dataset][\"p\"].append(p_b)\n",
    "results_dat[dataset][\"r\"].append(r_b)\n",
    "p5k_b = evaluate_hashing_DE(total_hash_BVAE, test_hash_BVAE,labels_total,labels_test,eval_tipo=\"Patk\",K=5000)\n",
    "results_dat[dataset][\"p5k\"].append(p5k_b)\n",
    "\n",
    "print(\"Realizado.\")"
   ]
  },
  {
   "cell_type": "code",
   "execution_count": 57,
   "metadata": {
    "collapsed": false
   },
   "outputs": [
    {
     "name": "stdout",
     "output_type": "stream",
     "text": [
      "*************Top 100 most similar retrieve*************\n",
      "\n",
      "Resultados de Precision en pruebas\n",
      "   Modelo         MNIST              CIFAR-10     \n",
      "----------- ------------------ -------------------\n",
      "Tradicional 0.7117100000000018 0.47951000000000027\n",
      "    Binario 0.7836600000000014  0.5288500000000002\n",
      "\n",
      "\n",
      "Resultados de Recall en pruebas\n",
      "   Modelo          MNIST               CIFAR-10      \n",
      "----------- -------------------- --------------------\n",
      "Tradicional 0.010282257145833943  0.00812728813559322\n",
      "    Binario 0.011342659622682084 0.008963559322033908\n",
      "\n",
      "\n",
      "Resultados de Precision en pruebas (top-5k)\n",
      "   Modelo     MNIST    CIFAR-10\n",
      "----------- --------- ---------\n",
      "Tradicional 0.3658078 0.2501662\n",
      "    Binario 0.4544488  0.300173\n"
     ]
    }
   ],
   "source": [
    "print(\"*************Top 100 most similar retrieve*************\")\n",
    "\n",
    "print(\"\\nResultados de Precision en pruebas\")\n",
    "t = Table()\n",
    "t[\"Modelo\"] = [\"Tradicional\",\"Binario\"]\n",
    "t[\"MNIST\"] = results_dat[\"mnist\"][\"p\"]\n",
    "t[\"CIFAR-10\"] = results_dat[\"cifar-10\"][\"p\"]\n",
    "print(t)\n",
    "\n",
    "print(\"\\n\\nResultados de Recall en pruebas\")\n",
    "t = Table()\n",
    "t[\"Modelo\"] = [\"Tradicional\",\"Binario\"]\n",
    "t[\"MNIST\"] = results_dat[\"mnist\"][\"r\"]\n",
    "t[\"CIFAR-10\"] = results_dat[\"cifar-10\"][\"r\"]\n",
    "print(t)\n",
    "\n",
    "print(\"\\n\\nResultados de Precision en pruebas (top-5k)\")\n",
    "t = Table()\n",
    "t[\"Modelo\"] = [\"Tradicional\",\"Binario\"]\n",
    "t[\"MNIST\"] = results_dat[\"mnist\"][\"p5k\"]\n",
    "t[\"CIFAR-10\"] = results_dat[\"cifar-10\"][\"p5k\"]\n",
    "print(t)"
   ]
  },
  {
   "cell_type": "code",
   "execution_count": 86,
   "metadata": {
    "collapsed": false
   },
   "outputs": [
    {
     "name": "stdout",
     "output_type": "stream",
     "text": [
      "*************Top 100 most similar retrieve*************\n",
      "\n",
      "Resultados de Precision en pruebas\n",
      "   Modelo         MNIST              CIFAR-10           Nus-Wide    \n",
      "----------- ------------------ ------------------- -----------------\n",
      "Tradicional 0.7117100000000018 0.47951000000000027 0.713633333333338\n",
      "    Binario 0.7836600000000014  0.5288500000000002 0.741280952380956\n",
      "\n",
      "\n",
      "Resultados de Recall en pruebas\n",
      "   Modelo          MNIST               CIFAR-10              Nus-Wide      \n",
      "----------- -------------------- -------------------- ---------------------\n",
      "Tradicional 0.010282257145833943  0.00812728813559322 0.0014290347807719974\n",
      "    Binario 0.011342659622682084 0.008963559322033908 0.0015296523027093648\n",
      "\n",
      "\n",
      "Resultados de Precision en pruebas (top-5k)\n",
      "   Modelo     MNIST    CIFAR-10      Nus-Wide     \n",
      "----------- --------- --------- ------------------\n",
      "Tradicional 0.3658078 0.2501662 0.5872056190476191\n",
      "    Binario 0.4544488  0.300173 0.6324138095238095\n"
     ]
    }
   ],
   "source": [
    "print(\"*************Top 100 most similar retrieve*************\")\n",
    "\n",
    "print(\"\\nResultados de Precision en pruebas\")\n",
    "t = Table()\n",
    "t[\"Modelo\"] = [\"Tradicional\",\"Binario\"]\n",
    "t[\"MNIST\"] = results_dat[\"mnist\"][\"p\"]\n",
    "t[\"CIFAR-10\"] = results_dat[\"cifar-10\"][\"p\"]\n",
    "#t[\"CelebA\"] = results_dat[\"celeba\"][\"p\"]\n",
    "t[\"Nus-Wide\"] = results_dat[\"nus-wide\"][\"p\"]\n",
    "print(t)\n",
    "\n",
    "print(\"\\n\\nResultados de Recall en pruebas\")\n",
    "t = Table()\n",
    "t[\"Modelo\"] = [\"Tradicional\",\"Binario\"]\n",
    "t[\"MNIST\"] = results_dat[\"mnist\"][\"r\"]\n",
    "t[\"CIFAR-10\"] = results_dat[\"cifar-10\"][\"r\"]\n",
    "#t[\"CelebA\"] = results_dat[\"celeba\"][\"r\"]\n",
    "t[\"Nus-Wide\"] = results_dat[\"nus-wide\"][\"r\"]\n",
    "print(t)\n",
    "\n",
    "print(\"\\n\\nResultados de Precision en pruebas (top-5k)\")\n",
    "t = Table()\n",
    "t[\"Modelo\"] = [\"Tradicional\",\"Binario\"]\n",
    "t[\"MNIST\"] = results_dat[\"mnist\"][\"p5k\"]\n",
    "t[\"CIFAR-10\"] = results_dat[\"cifar-10\"][\"p5k\"]\n",
    "#t[\"CelebA\"] = results_dat[\"celeba\"][\"p5k\"]\n",
    "t[\"Nus-Wide\"] = results_dat[\"nus-wide\"][\"p5k\"]\n",
    "print(t)"
   ]
  },
  {
   "cell_type": "code",
   "execution_count": 119,
   "metadata": {
    "collapsed": false
   },
   "outputs": [
    {
     "name": "stdout",
     "output_type": "stream",
     "text": [
      "*************Top 100 most similar retrieve*************\n",
      "\n",
      "Resultados de Precision en pruebas\n",
      "   Modelo         MNIST        ...       CelebA            Nus-Wide    \n",
      "----------- ------------------ ... ------------------ -----------------\n",
      "Tradicional 0.7117100000000018 ... 0.9804549999999843 0.713633333333338\n",
      "    Binario 0.7836600000000014 ... 0.9811424999999844 0.741280952380956\n",
      "\n",
      "\n",
      "Resultados de Recall en pruebas\n",
      "   Modelo          MNIST         ...        Nus-Wide      \n",
      "----------- -------------------- ... ---------------------\n",
      "Tradicional 0.010282257145833943 ... 0.0014290347807719974\n",
      "    Binario 0.011342659622682084 ... 0.0015296523027093648\n",
      "\n",
      "\n",
      "Resultados de Precision en pruebas (top-5k)\n",
      "   Modelo     MNIST    CIFAR-10   CelebA        Nus-Wide     \n",
      "----------- --------- --------- ---------- ------------------\n",
      "Tradicional 0.3658078 0.2501662 0.97505365 0.5872056190476191\n",
      "    Binario 0.4544488  0.300173 0.97504945 0.6324138095238095\n"
     ]
    }
   ],
   "source": [
    "print(\"*************Top 100 most similar retrieve*************\")\n",
    "\n",
    "print(\"\\nResultados de Precision en pruebas\")\n",
    "t = Table()\n",
    "t[\"Modelo\"] = [\"Tradicional\",\"Binario\"]\n",
    "t[\"MNIST\"] = results_dat[\"mnist\"][\"p\"]\n",
    "t[\"CIFAR-10\"] = results_dat[\"cifar-10\"][\"p\"]\n",
    "t[\"CelebA\"] = results_dat[\"celeba\"][\"p\"]\n",
    "t[\"Nus-Wide\"] = results_dat[\"nus-wide\"][\"p\"]\n",
    "print(t)\n",
    "\n",
    "print(\"\\n\\nResultados de Recall en pruebas\")\n",
    "t = Table()\n",
    "t[\"Modelo\"] = [\"Tradicional\",\"Binario\"]\n",
    "t[\"MNIST\"] = results_dat[\"mnist\"][\"r\"]\n",
    "t[\"CIFAR-10\"] = results_dat[\"cifar-10\"][\"r\"]\n",
    "t[\"CelebA\"] = results_dat[\"celeba\"][\"r\"]\n",
    "t[\"Nus-Wide\"] = results_dat[\"nus-wide\"][\"r\"]\n",
    "print(t)\n",
    "\n",
    "print(\"\\n\\nResultados de Precision en pruebas (top-5k)\")\n",
    "t = Table()\n",
    "t[\"Modelo\"] = [\"Tradicional\",\"Binario\"]\n",
    "t[\"MNIST\"] = results_dat[\"mnist\"][\"p5k\"]\n",
    "t[\"CIFAR-10\"] = results_dat[\"cifar-10\"][\"p5k\"]\n",
    "t[\"CelebA\"] = results_dat[\"celeba\"][\"p5k\"]\n",
    "t[\"Nus-Wide\"] = results_dat[\"nus-wide\"][\"p5k\"]\n",
    "print(t)"
   ]
  },
  {
   "cell_type": "code",
   "execution_count": 30,
   "metadata": {
    "collapsed": false
   },
   "outputs": [
    {
     "name": "stdout",
     "output_type": "stream",
     "text": [
      "MAP on MNIST dataset\n",
      "Traditional VAE =  0.30342899259508194\n",
      "Binary VAE =  0.39094186690859906\n"
     ]
    }
   ],
   "source": [
    "print(\"MAP on %s dataset\"%name_dat)\n",
    "map_t= evaluate_hashing_DE(total_hash_VAE,test_hash_VAE,labels_total,labels_test,eval_tipo=\"MAP\",K=9999999)\n",
    "print(\"Traditional VAE = \",map_t)\n",
    "\n",
    "map_b= evaluate_hashing_DE(total_hash_BVAE, test_hash_BVAE,labels_total,labels_test,eval_tipo=\"MAP\",K=9999999)\n",
    "print(\"Binary VAE = \",map_b)"
   ]
  },
  {
   "cell_type": "code",
   "execution_count": 58,
   "metadata": {
    "collapsed": false
   },
   "outputs": [
    {
     "name": "stdout",
     "output_type": "stream",
     "text": [
      "MAP on CIFAR-10 dataset\n",
      "Traditional VAE =  0.21211730868653633\n",
      "Binary VAE =  0.26200877782820375\n"
     ]
    }
   ],
   "source": [
    "print(\"MAP on %s dataset\"%name_dat)\n",
    "map_t= evaluate_hashing_DE(total_hash_VAE,test_hash_VAE,labels_total,labels_test,eval_tipo=\"MAP\",K=9999999)\n",
    "print(\"Traditional VAE = \",map_t)\n",
    "\n",
    "map_b= evaluate_hashing_DE(total_hash_BVAE, test_hash_BVAE,labels_total,labels_test,eval_tipo=\"MAP\",K=9999999)\n",
    "print(\"Binary VAE = \",map_b)"
   ]
  },
  {
   "cell_type": "code",
   "execution_count": 87,
   "metadata": {
    "collapsed": false
   },
   "outputs": [
    {
     "name": "stdout",
     "output_type": "stream",
     "text": [
      "MAP on Nus-Wide dataset\n",
      "Traditional VAE =  0.6368336738750052\n",
      "Binary VAE =  0.6787343204390293\n"
     ]
    }
   ],
   "source": [
    "print(\"MAP on %s dataset\"%name_dat)\n",
    "map_t= evaluate_hashing_DE(total_hash_VAE,test_hash_VAE,labels_total,labels_test,eval_tipo=\"MAP\",K=5000)\n",
    "print(\"Traditional VAE = \",map_t)\n",
    "\n",
    "map_b= evaluate_hashing_DE(total_hash_BVAE, test_hash_BVAE,labels_total,labels_test,eval_tipo=\"MAP\",K=5000)\n",
    "print(\"Binary VAE = \",map_b)"
   ]
  },
  {
   "cell_type": "code",
   "execution_count": 88,
   "metadata": {
    "collapsed": false
   },
   "outputs": [
    {
     "name": "stdout",
     "output_type": "stream",
     "text": [
      "MAP on Nus-Wide dataset\n",
      "Traditional VAE =  0.4519945440628363\n",
      "Binary VAE =  0.4835491970827503\n"
     ]
    }
   ],
   "source": [
    "print(\"MAP on %s dataset\"%name_dat)\n",
    "map_t= evaluate_hashing_DE(total_hash_VAE,test_hash_VAE,labels_total,labels_test,eval_tipo=\"MAP\",K=9999999)\n",
    "print(\"Traditional VAE = \",map_t)\n",
    "\n",
    "map_b= evaluate_hashing_DE(total_hash_BVAE, test_hash_BVAE,labels_total,labels_test,eval_tipo=\"MAP\",K=9999999)\n",
    "print(\"Binary VAE = \",map_b)"
   ]
  },
  {
   "cell_type": "code",
   "execution_count": null,
   "metadata": {
    "collapsed": false
   },
   "outputs": [
    {
     "name": "stdout",
     "output_type": "stream",
     "text": [
      "MAP on CelebA dataset\n",
      "Traditional VAE =  0.9768167223363855\n",
      "Binary VAE =  0.9769244467596196\n"
     ]
    }
   ],
   "source": [
    "print(\"MAP on %s dataset\"%name_dat)\n",
    "map_t= evaluate_hashing_DE(total_hash_VAE,test_hash_VAE,labels_total,labels_test,eval_tipo=\"MAP\",K=5000)\n",
    "print(\"Traditional VAE = \",map_t)\n",
    "\n",
    "map_b= evaluate_hashing_DE(total_hash_BVAE, test_hash_BVAE,labels_total,labels_test,eval_tipo=\"MAP\",K=5000)\n",
    "print(\"Binary VAE = \",map_b)"
   ]
  },
  {
   "cell_type": "code",
   "execution_count": null,
   "metadata": {
    "collapsed": false
   },
   "outputs": [
    {
     "name": "stdout",
     "output_type": "stream",
     "text": [
      "MAP on CelebA dataset\n"
     ]
    }
   ],
   "source": [
    "print(\"MAP on %s dataset\"%name_dat)\n",
    "map_t= evaluate_hashing_DE(total_hash_VAE,test_hash_VAE,labels_total,labels_test,eval_tipo=\"MAP\",K=9999999)\n",
    "print(\"Traditional VAE = \",map_t)\n",
    "\n",
    "map_b= evaluate_hashing_DE(total_hash_BVAE, test_hash_BVAE,labels_total,labels_test,eval_tipo=\"MAP\",K=9999999)\n",
    "print(\"Binary VAE = \",map_b)"
   ]
  },
  {
   "cell_type": "markdown",
   "metadata": {},
   "source": [
    "La propuesta presentada de *VAE* binario sobrepasa al *VAE* tradicional en todos los resultados presentados.\n",
    "### Experimentos con el *ball search*\n",
    "A continuación se muestra una leve experimentación cuando se trabaja con la búsqueda a través de un radio en el espacio de *Haming*."
   ]
  },
  {
   "cell_type": "code",
   "execution_count": 31,
   "metadata": {
    "collapsed": true
   },
   "outputs": [],
   "source": [
    "traditional_dat_BS = {\"mnist\":{},\"cifar-10\":{},\"celeba\":{},'nus-wide':{}}\n",
    "binary_dat_BS = {\"mnist\":{},\"cifar-10\":{},\"celeba\":{},'nus-wide':{}}"
   ]
  },
  {
   "cell_type": "code",
   "execution_count": 1,
   "metadata": {
    "collapsed": false
   },
   "outputs": [],
   "source": [
    "import pickle\n",
    "def load_object(filename):\n",
    "    with open(filename, 'rb') as output:  # Overwrites any existing file.\n",
    "        return pickle.load(output)\n",
    "\n",
    "traditional_dat_BS = load_object(\"saved_models/ball_VAE_img_VGG.pkl\")\n",
    "binary_dat_BS = load_object(\"saved_models/ball_BVAE_img_VGG.pkl\")"
   ]
  },
  {
   "cell_type": "code",
   "execution_count": 3,
   "metadata": {
    "collapsed": false
   },
   "outputs": [
    {
     "name": "stdout",
     "output_type": "stream",
     "text": [
      "DAtaset  MNIST\n",
      "VAE P@ball=2 equals= 0.6317624960861773\n",
      "B-VAE P@ball=2 equals= 0.6105603448345995\n"
     ]
    }
   ],
   "source": [
    "dat_show = \"MNIST\"\n",
    "print(\"DAtaset \",dat_show)\n",
    "print(\"VAE P@ball=2 equals=\",traditional_dat_BS[dat_show.lower()][\"p\"][2])\n",
    "print(\"B-VAE P@ball=2 equals=\",binary_dat_BS[dat_show.lower()][\"p\"][2])"
   ]
  },
  {
   "cell_type": "code",
   "execution_count": 2,
   "metadata": {
    "collapsed": false
   },
   "outputs": [
    {
     "name": "stdout",
     "output_type": "stream",
     "text": [
      "DAtaset  CIFAR-10\n",
      "VAE P@ball=2 equals= 0.19775786435786435\n",
      "B-VAE P@ball=2 equals= 0.2840063221272392\n"
     ]
    }
   ],
   "source": [
    "dat_show = \"CIFAR-10\"\n",
    "print(\"DAtaset \",dat_show)\n",
    "print(\"VAE P@ball=2 equals=\",traditional_dat_BS[dat_show.lower()][\"p\"][2])\n",
    "print(\"B-VAE P@ball=2 equals=\",binary_dat_BS[dat_show.lower()][\"p\"][2])"
   ]
  },
  {
   "cell_type": "code",
   "execution_count": 4,
   "metadata": {
    "collapsed": false
   },
   "outputs": [
    {
     "name": "stdout",
     "output_type": "stream",
     "text": [
      "DAtaset  NUS-WIDE\n",
      "VAE P@ball=2 equals= 0.37028026648542384\n",
      "B-VAE P@ball=2 equals= 0.509754605415332\n"
     ]
    }
   ],
   "source": [
    "dat_show = \"NUS-WIDE\"\n",
    "print(\"DAtaset \",dat_show)\n",
    "print(\"VAE P@ball=2 equals=\",traditional_dat_BS[dat_show.lower()][\"p\"][2])\n",
    "print(\"B-VAE P@ball=2 equals=\",binary_dat_BS[dat_show.lower()][\"p\"][2])"
   ]
  },
  {
   "cell_type": "code",
   "execution_count": 5,
   "metadata": {
    "collapsed": false
   },
   "outputs": [
    {
     "name": "stdout",
     "output_type": "stream",
     "text": [
      "DAtaset  CelebA\n"
     ]
    },
    {
     "ename": "KeyError",
     "evalue": "'p'",
     "output_type": "error",
     "traceback": [
      "\u001b[0;31m---------------------------------------------------------------------------\u001b[0m",
      "\u001b[0;31mKeyError\u001b[0m                                  Traceback (most recent call last)",
      "\u001b[0;32m<ipython-input-5-1b196e481bec>\u001b[0m in \u001b[0;36m<module>\u001b[0;34m()\u001b[0m\n\u001b[1;32m      1\u001b[0m \u001b[0mdat_show\u001b[0m \u001b[0;34m=\u001b[0m \u001b[0;34m\"CelebA\"\u001b[0m\u001b[0;34m\u001b[0m\u001b[0m\n\u001b[1;32m      2\u001b[0m \u001b[0mprint\u001b[0m\u001b[0;34m(\u001b[0m\u001b[0;34m\"DAtaset \"\u001b[0m\u001b[0;34m,\u001b[0m\u001b[0mdat_show\u001b[0m\u001b[0;34m)\u001b[0m\u001b[0;34m\u001b[0m\u001b[0m\n\u001b[0;32m----> 3\u001b[0;31m \u001b[0mprint\u001b[0m\u001b[0;34m(\u001b[0m\u001b[0;34m\"VAE P@ball=2 equals=\"\u001b[0m\u001b[0;34m,\u001b[0m\u001b[0mtraditional_dat_BS\u001b[0m\u001b[0;34m[\u001b[0m\u001b[0mdat_show\u001b[0m\u001b[0;34m.\u001b[0m\u001b[0mlower\u001b[0m\u001b[0;34m(\u001b[0m\u001b[0;34m)\u001b[0m\u001b[0;34m]\u001b[0m\u001b[0;34m[\u001b[0m\u001b[0;34m\"p\"\u001b[0m\u001b[0;34m]\u001b[0m\u001b[0;34m[\u001b[0m\u001b[0;36m2\u001b[0m\u001b[0;34m]\u001b[0m\u001b[0;34m)\u001b[0m\u001b[0;34m\u001b[0m\u001b[0m\n\u001b[0m\u001b[1;32m      4\u001b[0m \u001b[0mprint\u001b[0m\u001b[0;34m(\u001b[0m\u001b[0;34m\"B-VAE P@ball=2 equals=\"\u001b[0m\u001b[0;34m,\u001b[0m\u001b[0mbinary_dat_BS\u001b[0m\u001b[0;34m[\u001b[0m\u001b[0mdat_show\u001b[0m\u001b[0;34m.\u001b[0m\u001b[0mlower\u001b[0m\u001b[0;34m(\u001b[0m\u001b[0;34m)\u001b[0m\u001b[0;34m]\u001b[0m\u001b[0;34m[\u001b[0m\u001b[0;34m\"p\"\u001b[0m\u001b[0;34m]\u001b[0m\u001b[0;34m[\u001b[0m\u001b[0;36m2\u001b[0m\u001b[0;34m]\u001b[0m\u001b[0;34m)\u001b[0m\u001b[0;34m\u001b[0m\u001b[0m\n",
      "\u001b[0;31mKeyError\u001b[0m: 'p'"
     ]
    }
   ],
   "source": [
    "dat_show = \"CelebA\"\n",
    "print(\"DAtaset \",dat_show)\n",
    "print(\"VAE P@ball=2 equals=\",traditional_dat_BS[dat_show.lower()][\"p\"][2])\n",
    "print(\"B-VAE P@ball=2 equals=\",binary_dat_BS[dat_show.lower()][\"p\"][2])"
   ]
  },
  {
   "cell_type": "code",
   "execution_count": 8,
   "metadata": {
    "collapsed": false,
    "scrolled": true
   },
   "outputs": [],
   "source": [
    "from utils import get_similar_hammD_based,get_hammD\n",
    "ball_radius = np.arange(0,25) #ball of radius graphic"
   ]
  },
  {
   "cell_type": "code",
   "execution_count": null,
   "metadata": {
    "collapsed": false,
    "scrolled": true
   },
   "outputs": [],
   "source": [
    "%%time\n",
    "dataset = name_dat.lower()\n",
    "\n",
    "binary_dat_BS[dataset][\"p\"] = []\n",
    "binary_dat_BS[dataset][\"r\"] = []\n",
    "\n",
    "hammD_scores = get_hammD(test_hash_BVAE,total_hash_BVAE) #all hamming ranking\n",
    "for ball_r in ball_radius:\n",
    "    test_similares_train = get_similar_hammD_based(hammD_scores,tipo=\"ball\", ball=ball_r)\n",
    "\n",
    "    p_b,r_b  = measure_metrics(labels,test_similares_train,labels_query=labels_test,labels_source=labels_total)\n",
    "    binary_dat_BS[dataset][\"p\"].append(p_b)\n",
    "    binary_dat_BS[dataset][\"r\"].append(r_b)\n",
    "\n",
    "    \n",
    "traditional_dat_BS[dataset][\"p\"] = []\n",
    "traditional_dat_BS[dataset][\"r\"] = []\n",
    "\n",
    "hammD_scores = get_hammD(test_hash_VAE,total_hash_VAE) #all hamming ranking\n",
    "for ball_r in ball_radius:\n",
    "    test_similares_train = get_similar_hammD_based(hammD_scores,tipo=\"ball\", ball=ball_r)\n",
    "\n",
    "    p_t,r_t  = measure_metrics(labels,test_similares_train,labels_query=labels_test,labels_source=labels_total)\n",
    "    traditional_dat_BS[dataset][\"p\"].append(p_t)\n",
    "    traditional_dat_BS[dataset][\"r\"].append(r_t)\n",
    "    \n",
    "del hammD_scores, test_similares_train\n",
    "gc.collect()\n",
    "    \n",
    "print(\"Termino\")"
   ]
  },
  {
   "cell_type": "code",
   "execution_count": null,
   "metadata": {
    "collapsed": false,
    "scrolled": true
   },
   "outputs": [],
   "source": [
    "import pickle\n",
    "def save_object(obj, filename):\n",
    "    with open(filename, 'wb') as output:  # Overwrites any existing file.\n",
    "        pickle.dump(obj, output, pickle.HIGHEST_PROTOCOL)\n",
    "\n",
    "save_object(traditional_dat_BS, 'saved_models/ball_VAE_img_VGG.pkl')\n",
    "save_object(binary_dat_BS, 'saved_models/ball_BVAE_img_VGG.pkl')"
   ]
  },
  {
   "cell_type": "code",
   "execution_count": 9,
   "metadata": {
    "collapsed": false
   },
   "outputs": [
    {
     "data": {
      "image/png": "[encoded data removed]",
      "text/plain": [
       "<matplotlib.figure.Figure at 0x7f53dc1e1400>"
      ]
     },
     "metadata": {},
     "output_type": "display_data"
    }
   ],
   "source": [
    "choosed_data = [ \"MNIST\", \"CIFAR-10\", \"NUS-WIDE\"]\n",
    "f, axx = plt.subplots(1, len(choosed_data), figsize=(16,5), sharey=False)\n",
    "\n",
    "b_aux = 16\n",
    "for z in range(len(choosed_data)):\n",
    "    dat = choosed_data[z].lower()\n",
    "\n",
    "    axx[z].plot(ball_radius[:b_aux],binary_dat_BS[dat][\"p\"][:b_aux],'go-',label=\"precision (Binary VAE)\")\n",
    "    axx[z].plot(ball_radius[:b_aux],binary_dat_BS[dat][\"r\"][:b_aux],'gv-', label='recall' ) \n",
    "    axx[z].plot(ball_radius[:b_aux],traditional_dat_BS[dat][\"p\"][:b_aux],'bo-',label=\"precision (Traditional VAE)\")\n",
    "    axx[z].plot(ball_radius[:b_aux],traditional_dat_BS[dat][\"r\"][:b_aux],'bv-', label='recall' ) \n",
    "    axx[z].set_title(choosed_data[z])\n",
    "    axx[z].set_xticks(ball_radius)\n",
    "    axx[z].set_xlabel(\"Ball radius\")\n",
    "    axx[z].set_xlim(-0.5, len(ball_radius[:b_aux])-.5)\n",
    "    #axx[z].set_ylim(-0.05)\n",
    "    \n",
    "    if z == 0:\n",
    "        axx[z].set_ylabel(\"Score\")\n",
    "        axx[z].legend(bbox_to_anchor=(2, -0.1))\n",
    "        \n",
    "f.suptitle(\"Comparison of ball search\")\n",
    "plt.show()"
   ]
  },
  {
   "cell_type": "code",
   "execution_count": null,
   "metadata": {
    "collapsed": true
   },
   "outputs": [],
   "source": []
  }
 ],
 "metadata": {
  "anaconda-cloud": {},
  "kernelspec": {
   "display_name": "Python [conda env:tesis]",
   "language": "python",
   "name": "conda-env-tesis-py"
  },
  "language_info": {
   "codemirror_mode": {
    "name": "ipython",
    "version": 3
   },
   "file_extension": ".py",
   "mimetype": "text/x-python",
   "name": "python",
   "nbconvert_exporter": "python",
   "pygments_lexer": "ipython3",
   "version": "3.5.3"
  }
 },
 "nbformat": 4,
 "nbformat_minor": 2
}
