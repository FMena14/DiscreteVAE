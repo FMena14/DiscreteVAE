{
 "cells": [
  {
   "cell_type": "markdown",
   "metadata": {},
   "source": [
    "# Binary VAE para Hash\n",
    "### Francisco Mena\n",
    "Basado en:\n",
    "* https://github.com/EderSantana/gumbel/\n",
    "* https://github.com/EmilienDupont/vae-concrete\n",
    "---\n",
    "\n",
    "> ## Binary Variational Semantic Hashing\n",
    "\n",
    "---\n",
    "\n",
    "Load libraries to use"
   ]
  },
  {
   "cell_type": "code",
   "execution_count": 9,
   "metadata": {
    "collapsed": false
   },
   "outputs": [
    {
     "name": "stdout",
     "output_type": "stream",
     "text": [
      "[nltk_data] Downloading package reuters to /home/fmena/nltk_data...\n",
      "[nltk_data]   Package reuters is already up-to-date!\n",
      "[nltk_data] Downloading package wordnet to /home/fmena/nltk_data...\n",
      "[nltk_data]   Package wordnet is already up-to-date!\n"
     ]
    }
   ],
   "source": [
    "import numpy as np\n",
    "import keras\n",
    "from keras.layers import *\n",
    "from keras.models import Sequential,Model\n",
    "from keras import backend as K\n",
    "from astropy.table import Table\n",
    "import matplotlib.pyplot as plt\n",
    "import seaborn as sns\n",
    "import nltk\n",
    "nltk.download('reuters')\n",
    "nltk.download('wordnet')\n",
    "%matplotlib inline\n",
    "\n",
    "from base_networks import *"
   ]
  },
  {
   "cell_type": "markdown",
   "metadata": {},
   "source": [
    "## Load Data"
   ]
  },
  {
   "cell_type": "markdown",
   "metadata": {},
   "source": [
    "### 20 Newsgroup\n",
    "---\n",
    "\n",
    "Citado por Semantic Hashing (http://people.csail.mit.edu/jrennie/20Newsgroups), también disponible en **sklearn**. El dataset contiene textos de noticias etiquetados como pertenenciente a uno de 20 grupos de noticias, el detalle de los conjuntos se detalla a continuación:\n",
    "\n",
    "|Tipo set|Datos|\n",
    "|---|---|\n",
    "|Entrenamiento|11.314|\n",
    "|Pruebas|7.532|\n",
    "\n",
    "\n",
    "\n",
    "Hinton cita: *The data was split by date into 11,314 training and 7,531 test articles, so the training and test sets were separated in time.The training set was further randomly split into 8,314 training and 3,000 validation document*"
   ]
  },
  {
   "cell_type": "code",
   "execution_count": 2,
   "metadata": {
    "collapsed": false
   },
   "outputs": [
    {
     "name": "stdout",
     "output_type": "stream",
     "text": [
      "Datos de entrenamiento:  (11314,)\n",
      "Datos de prueba:  (7532,)\n"
     ]
    }
   ],
   "source": [
    "from sklearn.datasets import fetch_20newsgroups\n",
    "newsgroups_t = fetch_20newsgroups(subset='train')\n",
    "newsgroups_test = fetch_20newsgroups(subset='test')\n",
    "labels = newsgroups_t.target_names\n",
    "\n",
    "texts_t = newsgroups_t.data\n",
    "y_t = newsgroups_t.target\n",
    "labels_t = [labels[valor] for valor in y_t]\n",
    "\n",
    "texts_test = newsgroups_test.data\n",
    "y_test = newsgroups_test.target\n",
    "labels_test = [labels[valor] for valor in y_test]\n",
    "\n",
    "print(\"Datos de entrenamiento: \",y_t.shape)\n",
    "print(\"Datos de prueba: \",y_test.shape)"
   ]
  },
  {
   "cell_type": "code",
   "execution_count": 6,
   "metadata": {
    "collapsed": false
   },
   "outputs": [
    {
     "data": {
      "text/plain": [
       "['alt.atheism',\n",
       " 'comp.graphics',\n",
       " 'comp.os.ms-windows.misc',\n",
       " 'comp.sys.ibm.pc.hardware',\n",
       " 'comp.sys.mac.hardware',\n",
       " 'comp.windows.x',\n",
       " 'misc.forsale',\n",
       " 'rec.autos',\n",
       " 'rec.motorcycles',\n",
       " 'rec.sport.baseball',\n",
       " 'rec.sport.hockey',\n",
       " 'sci.crypt',\n",
       " 'sci.electronics',\n",
       " 'sci.med',\n",
       " 'sci.space',\n",
       " 'soc.religion.christian',\n",
       " 'talk.politics.guns',\n",
       " 'talk.politics.mideast',\n",
       " 'talk.politics.misc',\n",
       " 'talk.religion.misc']"
      ]
     },
     "execution_count": 6,
     "metadata": {},
     "output_type": "execute_result"
    }
   ],
   "source": [
    "labels"
   ]
  },
  {
   "cell_type": "markdown",
   "metadata": {},
   "source": [
    "Anteriormente se presentan los 20 posibles grupos de las noticias, algunos ejemplos de texto se muestran a continuacion:"
   ]
  },
  {
   "cell_type": "code",
   "execution_count": 18,
   "metadata": {
    "collapsed": false
   },
   "outputs": [
    {
     "name": "stdout",
     "output_type": "stream",
     "text": [
      "From: Mamatha Devineni Ratnam <mr47+@andrew.cmu.edu>\n",
      "Subject: Pens fans reactions\n",
      "Organization: Post Office, Carnegie Mellon, Pittsburgh, PA\n",
      "Lines: 12\n",
      "NNTP-Posting-Host: po4.andrew.cmu.edu\n",
      "\n",
      "\n",
      "\n",
      "I am sure some bashers of Pens fans are pretty confused about the lack\n",
      "of any kind of posts about the recent Pens massacre of the Devils. Actually,\n",
      "I am  bit puzzled too and a bit relieved. However, I am going to put an end\n",
      "to non-PIttsburghers' relief with a bit of praise for the Pens. Man, they\n",
      "are killing those Devils worse than I thought. Jagr just showed you why\n",
      "he is much better than his regular season stats. He is also a lot\n",
      "fo fun to watch in the playoffs. Bowman should let JAgr have a lot of\n",
      "fun in the next couple of games since the Pens are going to beat the pulp out of Jersey anyway. I was very disappointed not to see the Islanders lose the final\n",
      "regular season game.          PENS RULE!!!\n",
      "\n",
      "\n"
     ]
    }
   ],
   "source": [
    "print(aux.data[0])"
   ]
  },
  {
   "cell_type": "markdown",
   "metadata": {},
   "source": [
    "### Reuters21578\n",
    "---\n",
    "Similar a 20NewsGroup es un datataset de textos de noticias del periodico de Reuters en 1987, citado en papers (https://www.nltk.org/book/ch02.html) y disponible en la librería **nltk**. El detalle de los conjuntos se muestra a continuación:\n",
    "\n",
    "|Tipo set|Datos|\n",
    "|---|---|\n",
    "|Entrenamiento|7.769|\n",
    "|Pruebas|3.019|\n",
    "\n",
    "Los documentos pueden pertenecer a **múltiples tópicos** dentro de 90 disponibles en el dataset manualmente etiquetadas, ésto es porque una noticia puede hablar de varios tópicos a la vez. "
   ]
  },
  {
   "cell_type": "code",
   "execution_count": 4,
   "metadata": {
    "collapsed": false
   },
   "outputs": [
    {
     "name": "stdout",
     "output_type": "stream",
     "text": [
      "10788 documents\n",
      "7769 total training documents\n",
      "3019 total test documents\n"
     ]
    }
   ],
   "source": [
    "from nltk.corpus import reuters\n",
    "documents_stat = reuters.fileids()\n",
    "print(str(len(documents_stat)) + \" documents\")\n",
    "\n",
    "train_docs_stat = list(filter(lambda doc: doc.startswith(\"train\"), documents_stat))\n",
    "print(str(len(train_docs_stat)) + \" total training documents\")\n",
    "test_docs_stat = list(filter(lambda doc: doc.startswith(\"test\"), documents_stat))\n",
    "print(str(len(test_docs_stat)) + \" total test documents\")\n",
    "\n",
    "texts_t = [reuters.raw(archivo) for archivo in train_docs_stat]\n",
    "labels_t = [reuters.categories(archivo) for archivo in train_docs_stat]\n",
    "\n",
    "texts_test = [reuters.raw(archivo) for archivo in test_docs_stat]\n",
    "labels_test = [reuters.categories(archivo) for archivo in test_docs_stat]"
   ]
  },
  {
   "cell_type": "code",
   "execution_count": 3,
   "metadata": {
    "collapsed": false,
    "scrolled": true
   },
   "outputs": [
    {
     "data": {
      "text/plain": [
       "['acq',\n",
       " 'alum',\n",
       " 'barley',\n",
       " 'bop',\n",
       " 'carcass',\n",
       " 'castor-oil',\n",
       " 'cocoa',\n",
       " 'coconut',\n",
       " 'coconut-oil',\n",
       " 'coffee',\n",
       " 'copper',\n",
       " 'copra-cake',\n",
       " 'corn',\n",
       " 'cotton',\n",
       " 'cotton-oil',\n",
       " 'cpi',\n",
       " 'cpu',\n",
       " 'crude',\n",
       " 'dfl',\n",
       " 'dlr',\n",
       " 'dmk',\n",
       " 'earn',\n",
       " 'fuel',\n",
       " 'gas',\n",
       " 'gnp',\n",
       " 'gold',\n",
       " 'grain',\n",
       " 'groundnut',\n",
       " 'groundnut-oil',\n",
       " 'heat',\n",
       " 'hog',\n",
       " 'housing',\n",
       " 'income',\n",
       " 'instal-debt',\n",
       " 'interest',\n",
       " 'ipi',\n",
       " 'iron-steel',\n",
       " 'jet',\n",
       " 'jobs',\n",
       " 'l-cattle',\n",
       " 'lead',\n",
       " 'lei',\n",
       " 'lin-oil',\n",
       " 'livestock',\n",
       " 'lumber',\n",
       " 'meal-feed',\n",
       " 'money-fx',\n",
       " 'money-supply',\n",
       " 'naphtha',\n",
       " 'nat-gas',\n",
       " 'nickel',\n",
       " 'nkr',\n",
       " 'nzdlr',\n",
       " 'oat',\n",
       " 'oilseed',\n",
       " 'orange',\n",
       " 'palladium',\n",
       " 'palm-oil',\n",
       " 'palmkernel',\n",
       " 'pet-chem',\n",
       " 'platinum',\n",
       " 'potato',\n",
       " 'propane',\n",
       " 'rand',\n",
       " 'rape-oil',\n",
       " 'rapeseed',\n",
       " 'reserves',\n",
       " 'retail',\n",
       " 'rice',\n",
       " 'rubber',\n",
       " 'rye',\n",
       " 'ship',\n",
       " 'silver',\n",
       " 'sorghum',\n",
       " 'soy-meal',\n",
       " 'soy-oil',\n",
       " 'soybean',\n",
       " 'strategic-metal',\n",
       " 'sugar',\n",
       " 'sun-meal',\n",
       " 'sun-oil',\n",
       " 'sunseed',\n",
       " 'tea',\n",
       " 'tin',\n",
       " 'trade',\n",
       " 'veg-oil',\n",
       " 'wheat',\n",
       " 'wpi',\n",
       " 'yen',\n",
       " 'zinc']"
      ]
     },
     "execution_count": 3,
     "metadata": {},
     "output_type": "execute_result"
    }
   ],
   "source": [
    "labels = reuters.categories()\n",
    "labels"
   ]
  },
  {
   "cell_type": "code",
   "execution_count": 20,
   "metadata": {
    "collapsed": false,
    "scrolled": true
   },
   "outputs": [
    {
     "name": "stdout",
     "output_type": "stream",
     "text": [
      "From: jerryb@eskimo.com (Jerry Kaufman)\n",
      "Subject: Re: prayers and advice requested on family problem\n",
      "Organization: -> ESKIMO NORTH (206) For-Ever <-\n",
      "Lines: 11\n",
      "\n",
      "Cloak yourself in God's sustaining and abiding love. Pray, pray, pray.\n",
      "Pray for your brother, that he will assume the Godly role that is his.\n",
      "Pray for your sister-in-law, the what ever is driving her to separate\n",
      "your brother and herself from the the rest of the family will be healed.\n",
      "Pray for God to give you the peace in the knowledge that you may not be\n",
      "able to 'fix' it. From your description it would appear that it will\n",
      "require devine intervention, and the realization by your brother as to\n",
      "what his responsibilities are. Seek Godly counsel from your pastor, or\n",
      "other spiritually mature believer. Know always that He is akways there\n",
      "as a conforter, and will give you wisdon and direction as you call on\n",
      "Him.\n",
      "\n"
     ]
    }
   ],
   "source": [
    "print(texts_train[0])"
   ]
  },
  {
   "cell_type": "code",
   "execution_count": 47,
   "metadata": {
    "collapsed": false
   },
   "outputs": [
    {
     "data": {
      "text/plain": [
       "[['cocoa'],\n",
       " ['acq'],\n",
       " ['money-supply'],\n",
       " ['acq'],\n",
       " ['earn'],\n",
       " ['earn'],\n",
       " ['acq', 'trade'],\n",
       " ['earn'],\n",
       " ['crude', 'nat-gas'],\n",
       " ['cocoa', 'coffee', 'sugar']]"
      ]
     },
     "execution_count": 47,
     "metadata": {},
     "output_type": "execute_result"
    }
   ],
   "source": [
    "#borrar para presentacion\n",
    "labels_t[:10]"
   ]
  },
  {
   "cell_type": "code",
   "execution_count": 77,
   "metadata": {
    "collapsed": false
   },
   "outputs": [
    {
     "data": {
      "image/png": "[encoded data removed]",
      "text/plain": [
       "<matplotlib.figure.Figure at 0x7fefdf374f28>"
      ]
     },
     "metadata": {},
     "output_type": "display_data"
    }
   ],
   "source": [
    "plt.boxplot(list(map(len,labels_t)))\n",
    "plt.show()"
   ]
  },
  {
   "cell_type": "markdown",
   "metadata": {},
   "source": [
    "### TMC\n",
    "---\n",
    "https://c3.nasa.gov/dashlink/resources/138/, \n",
    "https://catalog.data.gov/dataset/siam-2007-text-mining-competition-dataset\n",
    "\n",
    "Revisar: https://github.com/Buzz-Beater/SIAM-2007-Text-Mining"
   ]
  },
  {
   "cell_type": "code",
   "execution_count": null,
   "metadata": {
    "collapsed": true
   },
   "outputs": [],
   "source": []
  },
  {
   "cell_type": "markdown",
   "metadata": {},
   "source": [
    "### SearchSnipet\n",
    "---\n",
    "Dataset de Google search *snippets*-- pequeñas porciones de texto que le dan a usuarios una idea de lo que hay en el sitio web. Pertenecientes a 8 clases únicas (dominio).\n",
    "\n",
    "\n",
    "2,280\n",
    "\n",
    "http://jwebpro.sourceforge.net/data-web-snippets.tar.gz\n"
   ]
  },
  {
   "cell_type": "code",
   "execution_count": null,
   "metadata": {
    "collapsed": true
   },
   "outputs": [],
   "source": []
  },
  {
   "cell_type": "markdown",
   "metadata": {},
   "source": [
    "### Reuters Corpus Volume 1\n",
    "---\n",
    "Corpus de Reuters extendido, con los 103 tópicos originales. Disponible en trabajos previos (https://www.csie.ntu.edu.tw/~cjlin/libsvmtools/datasets/multilabel.html) y a través de **sklearn** (#https://scikit-learn.org/0.17/datasets/rcv1.html).\n",
    "\n",
    "\n",
    "La representación son las *features* ya extraídas.\n",
    "\n",
    "Probar este una vez ya experimentado con los pequeños anteriores\n"
   ]
  },
  {
   "cell_type": "code",
   "execution_count": null,
   "metadata": {
    "collapsed": false
   },
   "outputs": [
    {
     "name": "stderr",
     "output_type": "stream",
     "text": [
      "Downloading http://jmlr.csail.mit.edu/papers/volume5/lewis04a/a13-vector-files/lyrl2004_vectors_test_pt0.dat.gz\n"
     ]
    }
   ],
   "source": [
    "from sklearn.datasets import fetch_rcv1\n",
    "rcv1_train = fetch_rcv1(subset='train')\n",
    "rcv1_test = fetch_rcv1(subset='test')\n",
    "X_train = rcv1_train.data\n",
    "y_train = rcv1_train.target\n",
    "X_test = rcv1_test.data\n",
    "y_test = rcv1_test.target\n",
    "\n",
    "X_train"
   ]
  },
  {
   "cell_type": "code",
   "execution_count": 11,
   "metadata": {
    "collapsed": false
   },
   "outputs": [
    {
     "data": {
      "text/plain": [
       "(23149, 47236)"
      ]
     },
     "execution_count": 11,
     "metadata": {},
     "output_type": "execute_result"
    }
   ],
   "source": [
    "X_train.shape"
   ]
  },
  {
   "cell_type": "code",
   "execution_count": 13,
   "metadata": {
    "collapsed": false
   },
   "outputs": [
    {
     "data": {
      "text/plain": [
       "(781265, 103)"
      ]
     },
     "execution_count": 13,
     "metadata": {},
     "output_type": "execute_result"
    }
   ],
   "source": [
    "y_test.shape"
   ]
  },
  {
   "cell_type": "code",
   "execution_count": 15,
   "metadata": {
    "collapsed": false
   },
   "outputs": [
    {
     "data": {
      "text/plain": [
       "array(['C11', 'C12', 'C13', 'C14', 'C15', 'C151', 'C1511', 'C152', 'C16',\n",
       "       'C17', 'C171', 'C172', 'C173', 'C174', 'C18', 'C181', 'C182',\n",
       "       'C183', 'C21', 'C22', 'C23', 'C24', 'C31', 'C311', 'C312', 'C313',\n",
       "       'C32', 'C33', 'C331', 'C34', 'C41', 'C411', 'C42', 'CCAT', 'E11',\n",
       "       'E12', 'E121', 'E13', 'E131', 'E132', 'E14', 'E141', 'E142',\n",
       "       'E143', 'E21', 'E211', 'E212', 'E31', 'E311', 'E312', 'E313',\n",
       "       'E41', 'E411', 'E51', 'E511', 'E512', 'E513', 'E61', 'E71', 'ECAT',\n",
       "       'G15', 'G151', 'G152', 'G153', 'G154', 'G155', 'G156', 'G157',\n",
       "       'G158', 'G159', 'GCAT', 'GCRIM', 'GDEF', 'GDIP', 'GDIS', 'GENT',\n",
       "       'GENV', 'GFAS', 'GHEA', 'GJOB', 'GMIL', 'GOBIT', 'GODD', 'GPOL',\n",
       "       'GPRO', 'GREL', 'GSCI', 'GSPO', 'GTOUR', 'GVIO', 'GVOTE', 'GWEA',\n",
       "       'GWELF', 'M11', 'M12', 'M13', 'M131', 'M132', 'M14', 'M141',\n",
       "       'M142', 'M143', 'MCAT'], dtype=object)"
      ]
     },
     "execution_count": 15,
     "metadata": {},
     "output_type": "execute_result"
    }
   ],
   "source": [
    "rcv1_train.target_names"
   ]
  },
  {
   "cell_type": "markdown",
   "metadata": {},
   "source": [
    "### Validation creation"
   ]
  },
  {
   "cell_type": "code",
   "execution_count": 3,
   "metadata": {
    "collapsed": false
   },
   "outputs": [
    {
     "name": "stdout",
     "output_type": "stream",
     "text": [
      "Cantidad de datos Entrenamiento:  8485\n",
      "Cantidad de datos Validación:  2829\n",
      "Cantidad de datos Pruebas:  7532\n"
     ]
    }
   ],
   "source": [
    "from sklearn.model_selection import train_test_split\n",
    "labels_t = np.asarray(labels_t)\n",
    "labels_test = np.asarray(labels_test)\n",
    "texts_train,texts_val,labels_train,labels_val  = train_test_split(texts_t,labels_t,random_state=20,test_size=0.25)\n",
    "print(\"Cantidad de datos Entrenamiento: \",len(texts_train))\n",
    "print(\"Cantidad de datos Validación: \",len(texts_val))\n",
    "print(\"Cantidad de datos Pruebas: \",len(texts_test))"
   ]
  },
  {
   "cell_type": "markdown",
   "metadata": {},
   "source": [
    "## Pre-process\n",
    "---\n",
    "Obtain the data representation\n",
    "\n",
    "\n",
    "paper Variational Deep Semantic Hashing:\n",
    "> \"*Each dataset was split into three subsets with roughly 80% for training, 10% for validation, and 10% for test. The training data is used to learn the mapping from document to hash code. Each document in the test set is used to retrieve similar documents based on the mapping, and the results are evaluated. The validation set is used to choose the hyperparameters. We removed the stopwords using SMART’s list of 571 stopwords 5 . No stemming was performed. We use TFIDF [23] as the default term weighting scheme for the raw document representation (i.e., d). We experiment with other term weighting schemes in Section 5.4.*\"\n",
    "\n",
    "REvisar si este paper hace algo con la cantidad de features\n",
    "\n",
    "Hinton: \n",
    "> \"*We further preprocessed the data by removing common stopwords, stemming, and then only considering the 2000 most frequent words in the training dataset. As a result, each posting was represented as a vector containing 2000 word counts. No other preprocessing was done.*\"\n",
    "\n",
    "\n",
    "\n",
    "* Stemmed version (citado en 2 trabajos) -> http://web.ist.utl.pt/acardoso/datasets/  \n",
    "\n",
    "\n",
    "Se experimenta con dos tipos de pre-procesamiento:\n",
    "\n",
    "1. El primero es el siguiente: \n",
    "    * Pasar letras a minúsculas\n",
    "    * Eliminar extra espacios (saltos de línea por ejemplo)\n",
    "    * Remover stop words\n",
    "    * Borrar todo lo que no sea letras (eliminar números y puntuaciones)\n",
    "    * Conservar las top $k$ palabras/*tokens* más frecuentes\n",
    "2. El segundo añade lo siguiente:\n",
    "    * Se realiza un *stemming* (Snowball) -- Lemmatization\n",
    "    * Remover palabras de menos de 3 largo\n",
    "\n",
    "\n",
    "\n",
    "Para la representación se utiliza lo siguiente:\n",
    "* TF-IDF: \n",
    "$$ w_f(d) \\cdot \\left(1 + log\\left( \\frac{1+n_d}{1+df_w} \\right) \\right)$$\n",
    "* **TF (*term frecuency*)**: $$ w_f(d) $$\n",
    "* Binary: $$I(w_f(d) \\neq 0)$$"
   ]
  },
  {
   "cell_type": "code",
   "execution_count": 284,
   "metadata": {
    "collapsed": false
   },
   "outputs": [
    {
     "name": "stdout",
     "output_type": "stream",
     "text": [
      "CPU times: user 9.89 s, sys: 0 ns, total: 9.89 s\n",
      "Wall time: 9.84 s\n"
     ]
    },
    {
     "data": {
      "text/plain": [
       "(8485, 10133)"
      ]
     },
     "execution_count": 284,
     "metadata": {},
     "output_type": "execute_result"
    }
   ],
   "source": [
    "from sklearn.feature_extraction.text import TfidfVectorizer\n",
    "from nltk.stem.snowball import SnowballStemmer\n",
    "from nltk.stem import WordNetLemmatizer \n",
    "analyzer = TfidfVectorizer().build_analyzer()\n",
    "stemmer = SnowballStemmer(\"english\") \n",
    "lemmatizer = WordNetLemmatizer()\n",
    "\n",
    "\"\"\"Extract features from raw input\"\"\"\n",
    "def preProcess(s): #String processor\n",
    "    return s.lower().strip().strip('-').strip('_')\n",
    "def number_normalize(doc):\n",
    "    results = []\n",
    "    for token in analyzer(doc):\n",
    "        token_pro = preProcess(token)\n",
    "        if len(token_pro) != 0 and not token_pro[0].isdigit():\n",
    "            results.append(token_pro)\n",
    "    return results\n",
    "def stemmed_words(doc):\n",
    "    results = []\n",
    "    for token in analyzer(doc):\n",
    "        pre_pro = preProcess(token)\n",
    "        #token_pro = stemmer.stem(pre_pro) #aumenta x10 el tiempo de procesamiento\n",
    "        token_pro = lemmatizer.lemmatize(pre_pro) #so can explain/interpretae -- aumenta x5 el tiempo de proce\n",
    "        if len(token_pro) > 2 and not token_pro[0].isdigit(): #elimina palabra largo menor a 2\n",
    "            results.append(token_pro)\n",
    "    return results\n",
    "        \n",
    "mode = \"default\" #defaul is tf\n",
    "\n",
    "smooth_idf_b = False\n",
    "use_idf_b = False\n",
    "binary_b = False\n",
    "sublinear_tf_b = False\n",
    "\n",
    "if mode == 'binary':\n",
    "    binary_b = True\n",
    "elif mode == 'tf':\n",
    "    pass\n",
    "elif mode == 'tf-idf':\n",
    "    use_idf_b = True\n",
    "    smooth_idf_b = True #inventa 1 conteo imaginario (como priors)--laplace smoothing\n",
    "    #sublinear_tf_b = True #reemplaza tf por 1 + log(tf)\n",
    "    \n",
    "min_count = 1 #default = 1\n",
    "max_feat = 10000 #Best: 10000 -- Hinton (2000)\n",
    "vectorizer = TfidfVectorizer(stop_words='english',analyzer=stemmed_words,min_df=min_count, max_features=max_feat\n",
    "                            ,binary=binary_b, use_idf=use_idf_b, smooth_idf=smooth_idf_b,sublinear_tf=sublinear_tf_b,norm=False) \n",
    "%time vectorizer.fit(texts_train)\n",
    "\n",
    "vectors_train = vectorizer.transform(texts_train)\n",
    "vectors_val = vectorizer.transform(texts_val)\n",
    "vectors_test = vectorizer.transform(texts_train)\n",
    "vectors_train.shape"
   ]
  },
  {
   "cell_type": "markdown",
   "metadata": {},
   "source": [
    "vocabulario de 7mil en reuters,  10mil en newsgroup"
   ]
  },
  {
   "cell_type": "code",
   "execution_count": 286,
   "metadata": {
    "collapsed": false,
    "scrolled": true
   },
   "outputs": [
    {
     "data": {
      "text/plain": [
       "{0: 'a2i',\n",
       " 1: 'aaa',\n",
       " 2: 'aardvark',\n",
       " 3: 'aaron',\n",
       " 4: 'aau',\n",
       " 5: 'ab4z',\n",
       " 6: 'abandon',\n",
       " 7: 'abandoned',\n",
       " 8: 'abbreviation',\n",
       " 9: 'abc',\n",
       " 10: 'aber',\n",
       " 11: 'aberystwyth',\n",
       " 12: 'abiding',\n",
       " 13: 'ability',\n",
       " 14: 'able',\n",
       " 15: 'abo',\n",
       " 16: 'aboard',\n",
       " 17: 'abolish',\n",
       " 18: 'abolished',\n",
       " 19: 'abomination',\n",
       " 20: 'abort',\n",
       " 21: 'abortion',\n",
       " 22: 'about',\n",
       " 23: 'above',\n",
       " 24: 'abpsoft',\n",
       " 25: 'abraham',\n",
       " 26: 'abroad',\n",
       " 27: 'absence',\n",
       " 28: 'absent',\n",
       " 29: 'absolute',\n",
       " 30: 'absolutely',\n",
       " 31: 'abstract',\n",
       " 32: 'absurd',\n",
       " 33: 'absurdity',\n",
       " 34: 'abu',\n",
       " 35: 'abuse',\n",
       " 36: 'abused',\n",
       " 37: 'abuser',\n",
       " 38: 'abusive',\n",
       " 39: 'abyss',\n",
       " 40: 'acad',\n",
       " 41: 'acad3',\n",
       " 42: 'academia',\n",
       " 43: 'academic',\n",
       " 44: 'academy',\n",
       " 45: 'acc',\n",
       " 46: 'accelerate',\n",
       " 47: 'accelerated',\n",
       " 48: 'acceleration',\n",
       " 49: 'accelerator',\n",
       " 50: 'accept',\n",
       " 51: 'acceptable',\n",
       " 52: 'acceptance',\n",
       " 53: 'accepted',\n",
       " 54: 'accepting',\n",
       " 55: 'accepts',\n",
       " 56: 'access',\n",
       " 57: 'accessed',\n",
       " 58: 'accessible',\n",
       " 59: 'accessing',\n",
       " 60: 'accessory',\n",
       " 61: 'accident',\n",
       " 62: 'accidental',\n",
       " 63: 'accidentally',\n",
       " 64: 'accommodate',\n",
       " 65: 'accomodate',\n",
       " 66: 'accompanied',\n",
       " 67: 'accompanying',\n",
       " 68: 'accomplish',\n",
       " 69: 'accomplished',\n",
       " 70: 'accord',\n",
       " 71: 'accordance',\n",
       " 72: 'according',\n",
       " 73: 'account',\n",
       " 74: 'accountable',\n",
       " 75: 'accounting',\n",
       " 76: 'accuracy',\n",
       " 77: 'accurate',\n",
       " 78: 'accurately',\n",
       " 79: 'accusation',\n",
       " 80: 'accuse',\n",
       " 81: 'accused',\n",
       " 82: 'accusing',\n",
       " 83: 'ace',\n",
       " 84: 'achieve',\n",
       " 85: 'achieved',\n",
       " 86: 'achievement',\n",
       " 87: 'achkar',\n",
       " 88: 'acid',\n",
       " 89: 'ack',\n",
       " 90: 'acker',\n",
       " 91: 'acknowledge',\n",
       " 92: 'acknowledged',\n",
       " 93: 'aclu',\n",
       " 94: 'acm',\n",
       " 95: 'acme',\n",
       " 96: 'acns',\n",
       " 97: 'acpub',\n",
       " 98: 'acquire',\n",
       " 99: 'acquired',\n",
       " 100: 'acquiring',\n",
       " 101: 'acquisition',\n",
       " 102: 'acronym',\n",
       " 103: 'across',\n",
       " 104: 'acsu',\n",
       " 105: 'act',\n",
       " 106: 'acted',\n",
       " 107: 'acting',\n",
       " 108: 'action',\n",
       " 109: 'activated',\n",
       " 110: 'active',\n",
       " 111: 'actively',\n",
       " 112: 'activist',\n",
       " 113: 'activity',\n",
       " 114: 'actual',\n",
       " 115: 'actually',\n",
       " 116: 'acute',\n",
       " 117: 'adam',\n",
       " 118: 'adaptec',\n",
       " 119: 'adapted',\n",
       " 120: 'adapter',\n",
       " 121: 'adaptor',\n",
       " 122: 'adb',\n",
       " 123: 'adc',\n",
       " 124: 'add',\n",
       " 125: 'added',\n",
       " 126: 'addict',\n",
       " 127: 'adding',\n",
       " 128: 'addition',\n",
       " 129: 'additional',\n",
       " 130: 'additionally',\n",
       " 131: 'additive',\n",
       " 132: 'address',\n",
       " 133: 'addressed',\n",
       " 134: 'addressing',\n",
       " 135: 'adelaide',\n",
       " 136: 'adequate',\n",
       " 137: 'adequately',\n",
       " 138: 'adjective',\n",
       " 139: 'adjust',\n",
       " 140: 'adjustable',\n",
       " 141: 'adjusted',\n",
       " 142: 'adjusting',\n",
       " 143: 'adjustment',\n",
       " 144: 'adl',\n",
       " 145: 'admin',\n",
       " 146: 'administration',\n",
       " 147: 'administrative',\n",
       " 148: 'administrator',\n",
       " 149: 'admiral',\n",
       " 150: 'admission',\n",
       " 151: 'admit',\n",
       " 152: 'admits',\n",
       " 153: 'admitted',\n",
       " 154: 'admittedly',\n",
       " 155: 'admitting',\n",
       " 156: 'adobe',\n",
       " 157: 'adolescent',\n",
       " 158: 'adopt',\n",
       " 159: 'adopted',\n",
       " 160: 'adress',\n",
       " 161: 'adrian',\n",
       " 162: 'adult',\n",
       " 163: 'advance',\n",
       " 164: 'advanced',\n",
       " 165: 'advancement',\n",
       " 166: 'advantage',\n",
       " 167: 'adventure',\n",
       " 168: 'advertise',\n",
       " 169: 'advertised',\n",
       " 170: 'advertisement',\n",
       " 171: 'advertising',\n",
       " 172: 'advice',\n",
       " 173: 'advise',\n",
       " 174: 'advised',\n",
       " 175: 'advisor',\n",
       " 176: 'advisory',\n",
       " 177: 'advocacy',\n",
       " 178: 'advocate',\n",
       " 179: 'advocating',\n",
       " 180: 'aero',\n",
       " 181: 'aerospace',\n",
       " 182: 'affair',\n",
       " 183: 'affect',\n",
       " 184: 'affected',\n",
       " 185: 'affecting',\n",
       " 186: 'affiliated',\n",
       " 187: 'affiliation',\n",
       " 188: 'afford',\n",
       " 189: 'affordable',\n",
       " 190: 'afifi',\n",
       " 191: 'aforementioned',\n",
       " 192: 'afraid',\n",
       " 193: 'africa',\n",
       " 194: 'african',\n",
       " 195: 'after',\n",
       " 196: 'afterlife',\n",
       " 197: 'aftermarket',\n",
       " 198: 'afternoon',\n",
       " 199: 'afterward',\n",
       " 200: 'afterwards',\n",
       " 201: 'again',\n",
       " 202: 'against',\n",
       " 203: 'agate',\n",
       " 204: 'age',\n",
       " 205: 'aged',\n",
       " 206: 'agency',\n",
       " 207: 'agenda',\n",
       " 208: 'agent',\n",
       " 209: 'aggression',\n",
       " 210: 'aggressive',\n",
       " 211: 'agn',\n",
       " 212: 'agnostic',\n",
       " 213: 'ago',\n",
       " 214: 'agree',\n",
       " 215: 'agreed',\n",
       " 216: 'agreeing',\n",
       " 217: 'agreement',\n",
       " 218: 'agrees',\n",
       " 219: 'agricultural',\n",
       " 220: 'agriculture',\n",
       " 221: 'ahead',\n",
       " 222: 'ahem',\n",
       " 223: 'ahh',\n",
       " 224: 'ahl',\n",
       " 225: 'ahmed',\n",
       " 226: 'aiaa',\n",
       " 227: 'aid',\n",
       " 228: 'aided',\n",
       " 229: 'aiken',\n",
       " 230: 'aim',\n",
       " 231: 'aimed',\n",
       " 232: 'aiming',\n",
       " 233: 'ain',\n",
       " 234: 'aio',\n",
       " 235: 'air',\n",
       " 236: 'aircraft',\n",
       " 237: 'airplane',\n",
       " 238: 'airport',\n",
       " 239: 'aisun3',\n",
       " 240: 'aix',\n",
       " 241: 'ak296',\n",
       " 242: 'aka',\n",
       " 243: 'aktis',\n",
       " 244: 'ala',\n",
       " 245: 'alabama',\n",
       " 246: 'alan',\n",
       " 247: 'alarm',\n",
       " 248: 'alaska',\n",
       " 249: 'albany',\n",
       " 250: 'albeit',\n",
       " 251: 'albert',\n",
       " 252: 'alberta',\n",
       " 253: 'albicans',\n",
       " 254: 'albnyvms',\n",
       " 255: 'album',\n",
       " 256: 'albuquerque',\n",
       " 257: 'alchemy',\n",
       " 258: 'alcohol',\n",
       " 259: 'alcoholic',\n",
       " 260: 'alee',\n",
       " 261: 'alert',\n",
       " 262: 'alex',\n",
       " 263: 'alexander',\n",
       " 264: 'alexia',\n",
       " 265: 'alfalfa',\n",
       " 266: 'alfred',\n",
       " 267: 'algorithm',\n",
       " 268: 'algorythm',\n",
       " 269: 'ali',\n",
       " 270: 'alias',\n",
       " 271: 'alice',\n",
       " 272: 'alicea',\n",
       " 273: 'alien',\n",
       " 274: 'alignment',\n",
       " 275: 'alike',\n",
       " 276: 'alink',\n",
       " 277: 'alive',\n",
       " 278: 'all',\n",
       " 279: 'allah',\n",
       " 280: 'allan',\n",
       " 281: 'alleg',\n",
       " 282: 'allegation',\n",
       " 283: 'alleged',\n",
       " 284: 'allegedly',\n",
       " 285: 'allegheny',\n",
       " 286: 'allen',\n",
       " 287: 'allergic',\n",
       " 288: 'allergy',\n",
       " 289: 'alley',\n",
       " 290: 'alliance',\n",
       " 291: 'allied',\n",
       " 292: 'allocate',\n",
       " 293: 'allocated',\n",
       " 294: 'allocation',\n",
       " 295: 'allow',\n",
       " 296: 'allowed',\n",
       " 297: 'allowing',\n",
       " 298: 'allows',\n",
       " 299: 'ally',\n",
       " 300: 'almaden',\n",
       " 301: 'almanac',\n",
       " 302: 'almighty',\n",
       " 303: 'almost',\n",
       " 304: 'alomar',\n",
       " 305: 'alone',\n",
       " 306: 'along',\n",
       " 307: 'alot',\n",
       " 308: 'alpha',\n",
       " 309: 'already',\n",
       " 310: 'alright',\n",
       " 311: 'also',\n",
       " 312: 'alt',\n",
       " 313: 'altcit',\n",
       " 314: 'alter',\n",
       " 315: 'altered',\n",
       " 316: 'altering',\n",
       " 317: 'alternate',\n",
       " 318: 'alternative',\n",
       " 319: 'alternatively',\n",
       " 320: 'although',\n",
       " 321: 'altitude',\n",
       " 322: 'alto',\n",
       " 323: 'altogether',\n",
       " 324: 'aludra',\n",
       " 325: 'aluminum',\n",
       " 326: 'alumnus',\n",
       " 327: 'alung',\n",
       " 328: 'alvin',\n",
       " 329: 'always',\n",
       " 330: 'ama',\n",
       " 331: 'amanda',\n",
       " 332: 'amateur',\n",
       " 333: 'amazed',\n",
       " 334: 'amazing',\n",
       " 335: 'ambassador',\n",
       " 336: 'amber',\n",
       " 337: 'ambiguous',\n",
       " 338: 'ambition',\n",
       " 339: 'amd',\n",
       " 340: 'amdahl',\n",
       " 341: 'amend',\n",
       " 342: 'amendment',\n",
       " 343: 'america',\n",
       " 344: 'american',\n",
       " 345: 'ames',\n",
       " 346: 'amherst',\n",
       " 347: 'ami',\n",
       " 348: 'amiga',\n",
       " 349: 'amin',\n",
       " 350: 'amino',\n",
       " 351: 'ammo',\n",
       " 352: 'ammunition',\n",
       " 353: 'amolitor',\n",
       " 354: 'among',\n",
       " 355: 'amongst',\n",
       " 356: 'amount',\n",
       " 357: 'amour',\n",
       " 358: 'amp',\n",
       " 359: 'ample',\n",
       " 360: 'amplifier',\n",
       " 361: 'amsterdam',\n",
       " 362: 'amusing',\n",
       " 363: 'ana',\n",
       " 364: 'analog',\n",
       " 365: 'analogous',\n",
       " 366: 'analogy',\n",
       " 367: 'analysis',\n",
       " 368: 'analyst',\n",
       " 369: 'analyze',\n",
       " 370: 'anarchy',\n",
       " 371: 'anatolia',\n",
       " 372: 'ancestor',\n",
       " 373: 'anchor',\n",
       " 374: 'ancient',\n",
       " 375: 'and',\n",
       " 376: 'anderson',\n",
       " 377: 'andi',\n",
       " 378: 'andre',\n",
       " 379: 'andre_beck',\n",
       " 380: 'andreas',\n",
       " 381: 'andrew',\n",
       " 382: 'andy',\n",
       " 383: 'anecdotal',\n",
       " 384: 'anecdote',\n",
       " 385: 'angel',\n",
       " 386: 'angeles',\n",
       " 387: 'angelo',\n",
       " 388: 'anger',\n",
       " 389: 'angle',\n",
       " 390: 'angmar',\n",
       " 391: 'angry',\n",
       " 392: 'animal',\n",
       " 393: 'animated',\n",
       " 394: 'animation',\n",
       " 395: 'ankara',\n",
       " 396: 'ann',\n",
       " 397: 'anna',\n",
       " 398: 'annals',\n",
       " 399: 'anne',\n",
       " 400: 'anniversary',\n",
       " 401: 'announce',\n",
       " 402: 'announced',\n",
       " 403: 'announcement',\n",
       " 404: 'announcer',\n",
       " 405: 'announcing',\n",
       " 406: 'annoy',\n",
       " 407: 'annoyed',\n",
       " 408: 'annoying',\n",
       " 409: 'annual',\n",
       " 410: 'anon',\n",
       " 411: 'anonymous',\n",
       " 412: 'another',\n",
       " 413: 'ansi',\n",
       " 414: 'answer',\n",
       " 415: 'answered',\n",
       " 416: 'answering',\n",
       " 417: 'ant',\n",
       " 418: 'antenna',\n",
       " 419: 'anthony',\n",
       " 420: 'anti',\n",
       " 421: 'antibiotic',\n",
       " 422: 'antonio',\n",
       " 423: 'anu',\n",
       " 424: 'any',\n",
       " 425: 'anybody',\n",
       " 426: 'anyhow',\n",
       " 427: 'anymore',\n",
       " 428: 'anyone',\n",
       " 429: 'anything',\n",
       " 430: 'anytime',\n",
       " 431: 'anyway',\n",
       " 432: 'anyways',\n",
       " 433: 'anywhere',\n",
       " 434: 'aol',\n",
       " 435: 'apana',\n",
       " 436: 'apart',\n",
       " 437: 'apartment',\n",
       " 438: 'apc',\n",
       " 439: 'api',\n",
       " 440: 'apollo',\n",
       " 441: 'apologist',\n",
       " 442: 'apologize',\n",
       " 443: 'apology',\n",
       " 444: 'apostle',\n",
       " 445: 'app',\n",
       " 446: 'apparent',\n",
       " 447: 'apparently',\n",
       " 448: 'appeal',\n",
       " 449: 'appear',\n",
       " 450: 'appearance',\n",
       " 451: 'appeared',\n",
       " 452: 'appearing',\n",
       " 453: 'appears',\n",
       " 454: 'appended',\n",
       " 455: 'appendix',\n",
       " 456: 'applause',\n",
       " 457: 'apple',\n",
       " 458: 'applelink',\n",
       " 459: 'appletalk',\n",
       " 460: 'applicable',\n",
       " 461: 'application',\n",
       " 462: 'applied',\n",
       " 463: 'applies',\n",
       " 464: 'apply',\n",
       " 465: 'applying',\n",
       " 466: 'appointed',\n",
       " 467: 'appointment',\n",
       " 468: 'appreciate',\n",
       " 469: 'appreciated',\n",
       " 470: 'appressian',\n",
       " 471: 'approach',\n",
       " 472: 'approached',\n",
       " 473: 'approaching',\n",
       " 474: 'appropriate',\n",
       " 475: 'appropriately',\n",
       " 476: 'approval',\n",
       " 477: 'approve',\n",
       " 478: 'approved',\n",
       " 479: 'approx',\n",
       " 480: 'approximate',\n",
       " 481: 'approximately',\n",
       " 482: 'apps',\n",
       " 483: 'apr',\n",
       " 484: 'april',\n",
       " 485: 'apt',\n",
       " 486: 'arab',\n",
       " 487: 'arabia',\n",
       " 488: 'arabic',\n",
       " 489: 'arbitrarily',\n",
       " 490: 'arbitrary',\n",
       " 491: 'arbor',\n",
       " 492: 'arc',\n",
       " 493: 'arcade',\n",
       " 494: 'arch',\n",
       " 495: 'archer',\n",
       " 496: 'archie',\n",
       " 497: 'architect',\n",
       " 498: 'architecture',\n",
       " 499: 'archive',\n",
       " 500: 'archived',\n",
       " 501: 'archiving',\n",
       " 502: 'are',\n",
       " 503: 'area',\n",
       " 504: 'aren',\n",
       " 505: 'arena',\n",
       " 506: 'arens',\n",
       " 507: 'arf',\n",
       " 508: 'argic',\n",
       " 509: 'arguably',\n",
       " 510: 'argue',\n",
       " 511: 'argued',\n",
       " 512: 'arguing',\n",
       " 513: 'argument',\n",
       " 514: 'ariel',\n",
       " 515: 'arise',\n",
       " 516: 'arises',\n",
       " 517: 'arithmetic',\n",
       " 518: 'arizona',\n",
       " 519: 'arkansas',\n",
       " 520: 'arlington',\n",
       " 521: 'arm',\n",
       " 522: 'armed',\n",
       " 523: 'armenia',\n",
       " 524: 'armenian',\n",
       " 525: 'armor',\n",
       " 526: 'armored',\n",
       " 527: 'armory',\n",
       " 528: 'army',\n",
       " 529: 'arnold',\n",
       " 530: 'arose',\n",
       " 531: 'around',\n",
       " 532: 'arpa',\n",
       " 533: 'arrange',\n",
       " 534: 'arranged',\n",
       " 535: 'arrangement',\n",
       " 536: 'arras',\n",
       " 537: 'array',\n",
       " 538: 'arrest',\n",
       " 539: 'arrested',\n",
       " 540: 'arrival',\n",
       " 541: 'arrive',\n",
       " 542: 'arrived',\n",
       " 543: 'arriving',\n",
       " 544: 'arrogance',\n",
       " 545: 'arrogant',\n",
       " 546: 'arromdee',\n",
       " 547: 'arrow',\n",
       " 548: 'art',\n",
       " 549: 'arthur',\n",
       " 550: 'article',\n",
       " 551: 'artificial',\n",
       " 552: 'artillery',\n",
       " 553: 'artist',\n",
       " 554: 'aryan',\n",
       " 555: 'asala',\n",
       " 556: 'asbestos',\n",
       " 557: 'ascii',\n",
       " 558: 'asd',\n",
       " 559: 'ash',\n",
       " 560: 'ashamed',\n",
       " 561: 'ashley',\n",
       " 562: 'asia',\n",
       " 563: 'asian',\n",
       " 564: 'aside',\n",
       " 565: 'ask',\n",
       " 566: 'asked',\n",
       " 567: 'asking',\n",
       " 568: 'asks',\n",
       " 569: 'asleep',\n",
       " 570: 'asp',\n",
       " 571: 'aspect',\n",
       " 572: 'ass',\n",
       " 573: 'assault',\n",
       " 574: 'assemble',\n",
       " 575: 'assembled',\n",
       " 576: 'assembler',\n",
       " 577: 'assembly',\n",
       " 578: 'assert',\n",
       " 579: 'asserted',\n",
       " 580: 'asserting',\n",
       " 581: 'assertion',\n",
       " 582: 'assessment',\n",
       " 583: 'asset',\n",
       " 584: 'asshole',\n",
       " 585: 'assign',\n",
       " 586: 'assigned',\n",
       " 587: 'assignment',\n",
       " 588: 'assist',\n",
       " 589: 'assistance',\n",
       " 590: 'assistant',\n",
       " 591: 'assisted',\n",
       " 592: 'associate',\n",
       " 593: 'associated',\n",
       " 594: 'association',\n",
       " 595: 'assume',\n",
       " 596: 'assumed',\n",
       " 597: 'assumes',\n",
       " 598: 'assuming',\n",
       " 599: 'assumption',\n",
       " 600: 'assurance',\n",
       " 601: 'assure',\n",
       " 602: 'assured',\n",
       " 603: 'ast',\n",
       " 604: 'astein',\n",
       " 605: 'asteroid',\n",
       " 606: 'astro',\n",
       " 607: 'astronaut',\n",
       " 608: 'astronautics',\n",
       " 609: 'astronomer',\n",
       " 610: 'astronomical',\n",
       " 611: 'astronomy',\n",
       " 612: 'astrophysics',\n",
       " 613: 'astros',\n",
       " 614: 'asu',\n",
       " 615: 'asynchronous',\n",
       " 616: 'atari',\n",
       " 617: 'atc',\n",
       " 618: 'ate',\n",
       " 619: 'atf',\n",
       " 620: 'atheism',\n",
       " 621: 'atheist',\n",
       " 622: 'athena',\n",
       " 623: 'athens',\n",
       " 624: 'athlete',\n",
       " 625: 'athos',\n",
       " 626: 'ati',\n",
       " 627: 'atlanta',\n",
       " 628: 'atlantaga',\n",
       " 629: 'atlantic',\n",
       " 630: 'atlas',\n",
       " 631: 'atlastele',\n",
       " 632: 'atm',\n",
       " 633: 'atmosphere',\n",
       " 634: 'atmospheric',\n",
       " 635: 'atom',\n",
       " 636: 'atomic',\n",
       " 637: 'atrocity',\n",
       " 638: 'att',\n",
       " 639: 'attach',\n",
       " 640: 'attached',\n",
       " 641: 'attack',\n",
       " 642: 'attacked',\n",
       " 643: 'attacker',\n",
       " 644: 'attacking',\n",
       " 645: 'attempt',\n",
       " 646: 'attempted',\n",
       " 647: 'attempting',\n",
       " 648: 'attend',\n",
       " 649: 'attendance',\n",
       " 650: 'attended',\n",
       " 651: 'attendee',\n",
       " 652: 'attending',\n",
       " 653: 'attention',\n",
       " 654: 'atterlep',\n",
       " 655: 'attitude',\n",
       " 656: 'attorney',\n",
       " 657: 'attraction',\n",
       " 658: 'attractive',\n",
       " 659: 'attribute',\n",
       " 660: 'attributed',\n",
       " 661: 'auburn',\n",
       " 662: 'audi',\n",
       " 663: 'audience',\n",
       " 664: 'audio',\n",
       " 665: 'aug',\n",
       " 666: 'august',\n",
       " 667: 'aura',\n",
       " 668: 'aurora',\n",
       " 669: 'austin',\n",
       " 670: 'australia',\n",
       " 671: 'australian',\n",
       " 672: 'austria',\n",
       " 673: 'authentic',\n",
       " 674: 'authentication',\n",
       " 675: 'author',\n",
       " 676: 'authored',\n",
       " 677: 'authoritative',\n",
       " 678: 'authority',\n",
       " 679: 'authorization',\n",
       " 680: 'authorized',\n",
       " 681: 'auto',\n",
       " 682: 'autocad',\n",
       " 683: 'autoexec',\n",
       " 684: 'automated',\n",
       " 685: 'automatic',\n",
       " 686: 'automatically',\n",
       " 687: 'automation',\n",
       " 688: 'automobile',\n",
       " 689: 'automotive',\n",
       " 690: 'autumn',\n",
       " 691: 'auvm',\n",
       " 692: 'avail',\n",
       " 693: 'availability',\n",
       " 694: 'available',\n",
       " 695: 'ave',\n",
       " 696: 'avenue',\n",
       " 697: 'average',\n",
       " 698: 'aviation',\n",
       " 699: 'aviv',\n",
       " 700: 'avoid',\n",
       " 701: 'avoided',\n",
       " 702: 'avoiding',\n",
       " 703: 'avoids',\n",
       " 704: 'awaiting',\n",
       " 705: 'award',\n",
       " 706: 'awarded',\n",
       " 707: 'aware',\n",
       " 708: 'awareness',\n",
       " 709: 'away',\n",
       " 710: 'awd',\n",
       " 711: 'awesome',\n",
       " 712: 'aweto',\n",
       " 713: 'awful',\n",
       " 714: 'awfully',\n",
       " 715: 'awhile',\n",
       " 716: 'aws',\n",
       " 717: 'axe',\n",
       " 718: 'axelsson',\n",
       " 719: 'axis',\n",
       " 720: 'azerbaijan',\n",
       " 721: 'azerbaijani',\n",
       " 722: 'azeri',\n",
       " 723: 'azw',\n",
       " 724: 'b30',\n",
       " 725: 'b645zaw',\n",
       " 726: 'b64635',\n",
       " 727: 'b8f',\n",
       " 728: 'b8ha',\n",
       " 729: 'baalke',\n",
       " 730: 'babb',\n",
       " 731: 'babe',\n",
       " 732: 'baby',\n",
       " 733: 'babylon',\n",
       " 734: 'bach',\n",
       " 735: 'back',\n",
       " 736: 'backdoor',\n",
       " 737: 'backed',\n",
       " 738: 'background',\n",
       " 739: 'backing',\n",
       " 740: 'backup',\n",
       " 741: 'backward',\n",
       " 742: 'backwards',\n",
       " 743: 'bacteria',\n",
       " 744: 'bad',\n",
       " 745: 'badge',\n",
       " 746: 'badly',\n",
       " 747: 'baerga',\n",
       " 748: 'baffled',\n",
       " 749: 'bag',\n",
       " 750: 'bailey',\n",
       " 751: 'bait',\n",
       " 752: 'bake',\n",
       " 753: 'baker',\n",
       " 754: 'baku',\n",
       " 755: 'balance',\n",
       " 756: 'balanced',\n",
       " 757: 'baldwin',\n",
       " 758: 'ball',\n",
       " 759: 'ballentine',\n",
       " 760: 'ballistic',\n",
       " 761: 'balloon',\n",
       " 762: 'baltimore',\n",
       " 763: 'ban',\n",
       " 764: 'band',\n",
       " 765: 'bandwidth',\n",
       " 766: 'bang',\n",
       " 767: 'bank',\n",
       " 768: 'banned',\n",
       " 769: 'banner',\n",
       " 770: 'banning',\n",
       " 771: 'baptism',\n",
       " 772: 'baptist',\n",
       " 773: 'bar',\n",
       " 774: 'barbara',\n",
       " 775: 'barbarism',\n",
       " 776: 'barbecued',\n",
       " 777: 'barber',\n",
       " 778: 'bare',\n",
       " 779: 'barely',\n",
       " 780: 'bargain',\n",
       " 781: 'barlow',\n",
       " 782: 'barn',\n",
       " 783: 'barnes',\n",
       " 784: 'barrel',\n",
       " 785: 'barrett',\n",
       " 786: 'barrier',\n",
       " 787: 'barring',\n",
       " 788: 'barry',\n",
       " 789: 'baru',\n",
       " 790: 'base',\n",
       " 791: 'baseball',\n",
       " 792: 'based',\n",
       " 793: 'baseman',\n",
       " 794: 'basement',\n",
       " 795: 'bashing',\n",
       " 796: 'basic',\n",
       " 797: 'basically',\n",
       " 798: 'basil',\n",
       " 799: 'basing',\n",
       " 800: 'basis',\n",
       " 801: 'basketball',\n",
       " 802: 'bass',\n",
       " 803: 'bastard',\n",
       " 804: 'bat',\n",
       " 805: 'batch',\n",
       " 806: 'batf',\n",
       " 807: 'bath',\n",
       " 808: 'bathroom',\n",
       " 809: 'batman',\n",
       " 810: 'battalion',\n",
       " 811: 'batter',\n",
       " 812: 'battery',\n",
       " 813: 'batting',\n",
       " 814: 'battle',\n",
       " 815: 'battlefield',\n",
       " 816: 'battling',\n",
       " 817: 'baud',\n",
       " 818: 'bay',\n",
       " 819: 'bayonet',\n",
       " 820: 'bbn',\n",
       " 821: 'bc744',\n",
       " 822: 'bcstec',\n",
       " 823: 'bdi',\n",
       " 824: 'beach',\n",
       " 825: 'beacon',\n",
       " 826: 'beam',\n",
       " 827: 'bean',\n",
       " 828: 'bear',\n",
       " 829: 'bearing',\n",
       " 830: 'beast',\n",
       " 831: 'beat',\n",
       " 832: 'beaten',\n",
       " 833: 'beating',\n",
       " 834: 'beauchaine',\n",
       " 835: 'beautiful',\n",
       " 836: 'beauty',\n",
       " 837: 'beaver',\n",
       " 838: 'beaverton',\n",
       " 839: 'became',\n",
       " 840: 'because',\n",
       " 841: 'beck',\n",
       " 842: 'beckman',\n",
       " 843: 'become',\n",
       " 844: 'becomes',\n",
       " 845: 'becoming',\n",
       " 846: 'becuase',\n",
       " 847: 'bed',\n",
       " 848: 'bedfellow',\n",
       " 849: 'bedford',\n",
       " 850: 'bedroom',\n",
       " 851: 'bee',\n",
       " 852: 'beef',\n",
       " 853: 'been',\n",
       " 854: 'beep',\n",
       " 855: 'beer',\n",
       " 856: 'beethoven',\n",
       " 857: 'before',\n",
       " 858: 'beforehand',\n",
       " 859: 'beg',\n",
       " 860: 'began',\n",
       " 861: 'begin',\n",
       " 862: 'beginner',\n",
       " 863: 'beginning',\n",
       " 864: 'begun',\n",
       " 865: 'behalf',\n",
       " 866: 'behanna',\n",
       " 867: 'behave',\n",
       " 868: 'behavior',\n",
       " 869: 'behaviour',\n",
       " 870: 'behind',\n",
       " 871: 'behold',\n",
       " 872: 'bei',\n",
       " 873: 'being',\n",
       " 874: 'beirut',\n",
       " 875: 'beleive',\n",
       " 876: 'belfour',\n",
       " 877: 'belgium',\n",
       " 878: 'belief',\n",
       " 879: 'believe',\n",
       " 880: 'believed',\n",
       " 881: 'believer',\n",
       " 882: 'believing',\n",
       " 883: 'bell',\n",
       " 884: 'bellcore',\n",
       " 885: 'bellovin',\n",
       " 886: 'bellow',\n",
       " 887: 'belong',\n",
       " 888: 'belonging',\n",
       " 889: 'belongs',\n",
       " 890: 'beloved',\n",
       " 891: 'below',\n",
       " 892: 'belt',\n",
       " 893: 'beltway',\n",
       " 894: 'ben',\n",
       " 895: 'bench',\n",
       " 896: 'benchmark',\n",
       " 897: 'bend',\n",
       " 898: 'benedikt',\n",
       " 899: 'beneficial',\n",
       " 900: 'benefit',\n",
       " 901: 'benevolent',\n",
       " 902: 'benjamin',\n",
       " 903: 'bennett',\n",
       " 904: 'benson',\n",
       " 905: 'bent',\n",
       " 906: 'beretta',\n",
       " 907: 'berkeley',\n",
       " 908: 'berlin',\n",
       " 909: 'bernard',\n",
       " 910: 'bernina',\n",
       " 911: 'bernoulli',\n",
       " 912: 'bernstein',\n",
       " 913: 'berry',\n",
       " 914: 'beside',\n",
       " 915: 'besides',\n",
       " 916: 'best',\n",
       " 917: 'bet',\n",
       " 918: 'beta',\n",
       " 919: 'beth',\n",
       " 920: 'bethesda',\n",
       " 921: 'better',\n",
       " 922: 'between',\n",
       " 923: 'betz',\n",
       " 924: 'beware',\n",
       " 925: 'beyer',\n",
       " 926: 'beyond',\n",
       " 927: 'bgrubb',\n",
       " 928: 'bgsu',\n",
       " 929: 'bgu',\n",
       " 930: 'bh437292',\n",
       " 931: 'bhj',\n",
       " 932: 'bias',\n",
       " 933: 'biased',\n",
       " 934: 'bible',\n",
       " 935: 'biblical',\n",
       " 936: 'bibliography',\n",
       " 937: 'bicycle',\n",
       " 938: 'bid',\n",
       " 939: 'big',\n",
       " 940: 'bigboote',\n",
       " 941: 'bigger',\n",
       " 942: 'biggest',\n",
       " 943: 'bigot',\n",
       " 944: 'bigotry',\n",
       " 945: 'bih',\n",
       " 946: 'bike',\n",
       " 947: 'biker',\n",
       " 948: 'bikers',\n",
       " 949: 'bil',\n",
       " 950: 'bill',\n",
       " 951: 'billboard',\n",
       " 952: 'billing',\n",
       " 953: 'billion',\n",
       " 954: 'billy',\n",
       " 955: 'bin',\n",
       " 956: 'binah',\n",
       " 957: 'binary',\n",
       " 958: 'bind',\n",
       " 959: 'binding',\n",
       " 960: 'bingo',\n",
       " 961: 'bio',\n",
       " 962: 'biochemistry',\n",
       " 963: 'biological',\n",
       " 964: 'biology',\n",
       " 965: 'bios',\n",
       " 966: 'bird',\n",
       " 967: 'birmingham',\n",
       " 968: 'birth',\n",
       " 969: 'birthday',\n",
       " 970: 'bishop',\n",
       " 971: 'bison',\n",
       " 972: 'bissda',\n",
       " 973: 'bissell',\n",
       " 974: 'bit',\n",
       " 975: 'bitch',\n",
       " 976: 'bite',\n",
       " 977: 'bitmap',\n",
       " 978: 'bitnet',\n",
       " 979: 'biz',\n",
       " 980: 'bizarre',\n",
       " 981: 'bj200',\n",
       " 982: 'black',\n",
       " 983: 'blackhawks',\n",
       " 984: 'blacksburg',\n",
       " 985: 'blackshaw',\n",
       " 986: 'blade',\n",
       " 987: 'blah',\n",
       " 988: 'blame',\n",
       " 989: 'blamed',\n",
       " 990: 'blaming',\n",
       " 991: 'blank',\n",
       " 992: 'blanket',\n",
       " 993: 'blast',\n",
       " 994: 'blaster',\n",
       " 995: 'blasting',\n",
       " 996: 'blatant',\n",
       " 997: 'blatantly',\n",
       " 998: 'blaze',\n",
       " 999: 'bldg',\n",
       " ...}"
      ]
     },
     "execution_count": 286,
     "metadata": {},
     "output_type": "execute_result"
    }
   ],
   "source": [
    "token2idx = vectorizer.vocabulary_\n",
    "idx2token = {idx:token for token,idx in token2idx.items()}\n",
    "idx2token"
   ]
  },
  {
   "cell_type": "code",
   "execution_count": 290,
   "metadata": {
    "collapsed": false
   },
   "outputs": [
    {
     "data": {
      "text/plain": [
       "array([0., 0., 0., ..., 0., 0., 0.])"
      ]
     },
     "execution_count": 290,
     "metadata": {},
     "output_type": "execute_result"
    }
   ],
   "source": [
    "#todense --get representation\n",
    "X_train = np.asarray(vectors_train.todense())\n",
    "X_val = np.asarray(vectors_val.todense())\n",
    "X_test = np.asarray(vectors_test.todense())\n",
    "X_train[0]"
   ]
  },
  {
   "cell_type": "code",
   "execution_count": 291,
   "metadata": {
    "collapsed": false
   },
   "outputs": [
    {
     "data": {
      "image/png": "[encoded data removed]",
      "text/plain": [
       "<matplotlib.figure.Figure at 0x7f5518d946a0>"
      ]
     },
     "metadata": {},
     "output_type": "display_data"
    }
   ],
   "source": [
    "plt.plot(X_train[0])\n",
    "plt.show()"
   ]
  },
  {
   "cell_type": "markdown",
   "metadata": {},
   "source": [
    "### Model Architecture\n",
    "---\n",
    "Basado en Variational Deep Semantic Hashing, una arquitectura de autoencoder no simétrico:\n",
    "\n",
    "> Input(|V|) -> Relu(500) -> Relu (500) -> Laten variable(32) (8-128)*2 -> Sampling -> Softmax(|V|)\n",
    "\n",
    "Dos capas escondidas en el *encoder* y sin capas escondidas en el *decoder*. Añadiendo una capa de *BatchNormalization* entre capas continuas.  \n",
    "\n",
    "Tamién se experimenta con una arquitectura simétrica como se realiza en el trabajo de *Semantic Hashing*.\n"
   ]
  },
  {
   "cell_type": "code",
   "execution_count": 293,
   "metadata": {
    "collapsed": false,
    "scrolled": true
   },
   "outputs": [
    {
     "name": "stdout",
     "output_type": "stream",
     "text": [
      "pre-encoder network:\n",
      "_________________________________________________________________\n",
      "Layer (type)                 Output Shape              Param #   \n",
      "=================================================================\n",
      "input_145 (InputLayer)       (None, 10133)             0         \n",
      "_________________________________________________________________\n",
      "dense_149 (Dense)            (None, 500)               5067000   \n",
      "_________________________________________________________________\n",
      "batch_normalization_93 (Batc (None, 500)               2000      \n",
      "_________________________________________________________________\n",
      "dense_150 (Dense)            (None, 500)               250500    \n",
      "_________________________________________________________________\n",
      "batch_normalization_94 (Batc (None, 500)               2000      \n",
      "=================================================================\n",
      "Total params: 5,321,500\n",
      "Trainable params: 5,319,500\n",
      "Non-trainable params: 2,000\n",
      "_________________________________________________________________\n",
      "generator network:\n",
      "_________________________________________________________________\n",
      "Layer (type)                 Output Shape              Param #   \n",
      "=================================================================\n",
      "input_146 (InputLayer)       (None, 32)                0         \n",
      "_________________________________________________________________\n",
      "dense_151 (Dense)            (None, 10133)             334389    \n",
      "=================================================================\n",
      "Total params: 334,389\n",
      "Trainable params: 334,389\n",
      "Non-trainable params: 0\n",
      "_________________________________________________________________\n",
      "____________________________________________________________________________________________________\n",
      "Layer (type)                     Output Shape          Param #     Connected to                     \n",
      "====================================================================================================\n",
      "input_147 (InputLayer)           (None, 10133)         0                                            \n",
      "____________________________________________________________________________________________________\n",
      "pre-encoder (Sequential)         (None, 500)           5321500     input_147[0][0]                  \n",
      "____________________________________________________________________________________________________\n",
      "z-mean (Dense)                   (None, 32)            16032       pre-encoder[1][0]                \n",
      "____________________________________________________________________________________________________\n",
      "z-log_var (Dense)                (None, 32)            16032       pre-encoder[1][0]                \n",
      "____________________________________________________________________________________________________\n",
      "sampled (Lambda)                 (None, 32)            0           z-mean[0][0]                     \n",
      "                                                                   z-log_var[0][0]                  \n",
      "____________________________________________________________________________________________________\n",
      "generator/decoder (Sequential)   (None, 10133)         334389      sampled[0][0]                    \n",
      "====================================================================================================\n",
      "Total params: 5,687,953\n",
      "Trainable params: 5,685,953\n",
      "Non-trainable params: 2,000\n",
      "____________________________________________________________________________________________________\n"
     ]
    }
   ],
   "source": [
    "def traditional_VAE(data_dim,Nb,units,layers_e,layers_d,opt='adam',BN=True):\n",
    "    pre_encoder = define_pre_encoder(data_dim, layers=layers_e,units=units,BN=BN)\n",
    "    print(\"pre-encoder network:\")\n",
    "    pre_encoder.summary()\n",
    "    generator = define_generator(Nb,data_dim,layers=layers_d,units=units,BN=BN)\n",
    "    print(\"generator network:\")\n",
    "    generator.summary()\n",
    "    \n",
    "    ## Encoder\n",
    "    x = Input(shape=(data_dim,))\n",
    "    hidden = pre_encoder(x)\n",
    "    z_mean = Dense(Nb,activation='linear', name='z-mean')(hidden)\n",
    "    z_log_var = Dense(Nb,activation='linear',name = 'z-log_var')(hidden)\n",
    "    encoder = Model(x, z_mean) # build a model to project inputs on the latent space\n",
    "\n",
    "    def sampling(args):\n",
    "        epsilon_std = 1.0\n",
    "        z_mean, z_log_var = args\n",
    "        epsilon = K.random_normal(shape=(K.shape(z_mean)[0], Nb),mean=0., stddev=epsilon_std)\n",
    "        return z_mean + K.exp(0.5*z_log_var) * epsilon #+sigma (desvest)\n",
    "    \n",
    "    ## Decoder\n",
    "    z_sampled = Lambda(sampling, output_shape=(Nb,), name='sampled')([z_mean, z_log_var])\n",
    "    output = generator(z_sampled)\n",
    "\n",
    "    def vae_loss(x, x_hat):\n",
    "        reconstruction_loss = keras.losses.categorical_crossentropy(x, x_hat)*data_dim \n",
    "        #reconstruction_loss = keras.losses.binary_crossentropy(x, x_hat)*data_dim \n",
    "\n",
    "        kl_loss = - 0.5 * K.sum(1 + z_log_var - K.square(z_mean) - K.exp(z_log_var), axis=-1) #con varianza\n",
    "        return K.mean(reconstruction_loss  + kl_loss)\n",
    "\n",
    "    traditional_vae = Model(x, output)\n",
    "    traditional_vae.compile(optimizer=opt,loss=vae_loss)\n",
    "    return traditional_vae,encoder,generator\n",
    "\n",
    "traditional_vae,encoder_Tvae,generator_Tvae = traditional_VAE(X_train.shape[1],Nb=32,units=500,layers_e=2,layers_d=0)\n",
    "traditional_vae.summary()"
   ]
  },
  {
   "cell_type": "code",
   "execution_count": 294,
   "metadata": {
    "collapsed": false,
    "scrolled": true
   },
   "outputs": [
    {
     "name": "stdout",
     "output_type": "stream",
     "text": [
      "pre-encoder network:\n",
      "_________________________________________________________________\n",
      "Layer (type)                 Output Shape              Param #   \n",
      "=================================================================\n",
      "input_148 (InputLayer)       (None, 10133)             0         \n",
      "_________________________________________________________________\n",
      "dense_152 (Dense)            (None, 500)               5067000   \n",
      "_________________________________________________________________\n",
      "batch_normalization_95 (Batc (None, 500)               2000      \n",
      "_________________________________________________________________\n",
      "dense_153 (Dense)            (None, 500)               250500    \n",
      "_________________________________________________________________\n",
      "batch_normalization_96 (Batc (None, 500)               2000      \n",
      "=================================================================\n",
      "Total params: 5,321,500\n",
      "Trainable params: 5,319,500\n",
      "Non-trainable params: 2,000\n",
      "_________________________________________________________________\n",
      "generator network:\n",
      "_________________________________________________________________\n",
      "Layer (type)                 Output Shape              Param #   \n",
      "=================================================================\n",
      "input_149 (InputLayer)       (None, 32)                0         \n",
      "_________________________________________________________________\n",
      "dense_154 (Dense)            (None, 10133)             334389    \n",
      "=================================================================\n",
      "Total params: 334,389\n",
      "Trainable params: 334,389\n",
      "Non-trainable params: 0\n",
      "_________________________________________________________________\n",
      "_________________________________________________________________\n",
      "Layer (type)                 Output Shape              Param #   \n",
      "=================================================================\n",
      "input_150 (InputLayer)       (None, 10133)             0         \n",
      "_________________________________________________________________\n",
      "pre-encoder (Sequential)     (None, 500)               5321500   \n",
      "_________________________________________________________________\n",
      "logits-b (Dense)             (None, 32)                16032     \n",
      "_________________________________________________________________\n",
      "sampled (Lambda)             (None, 32)                0         \n",
      "_________________________________________________________________\n",
      "generator/decoder (Sequentia (None, 10133)             334389    \n",
      "=================================================================\n",
      "Total params: 5,671,921\n",
      "Trainable params: 5,669,921\n",
      "Non-trainable params: 2,000\n",
      "_________________________________________________________________\n"
     ]
    }
   ],
   "source": [
    "tau = K.variable(0.67, name=\"temperature\") #o tau fijo en 0.67\n",
    "\n",
    "anneal_rate = 0.003\n",
    "min_temperature = 0.5\n",
    "tau_ann = K.variable(5.0, name=\"temperature\") #o tau fijo en 0.67\n",
    "\n",
    "def sample_gumbel(shape,eps=K.epsilon()):\n",
    "    \"\"\"Inverse Sample function from Gumbel(0, 1)\"\"\"\n",
    "    U = K.random_uniform(shape, 0, 1)\n",
    "    return K.log(U + eps)- K.log(1-U + eps)\n",
    "\n",
    "class My_Callback(keras.callbacks.Callback):    \n",
    "    def on_epoch_end(self, epoch, logs={}):\n",
    "        K.set_value(tau_ann, np.max([K.get_value(tau_ann) * np.exp(- anneal_rate * epoch), min_temperature])) \n",
    "        print(tau_ann.value().eval(session=keras.backend.get_session()))\n",
    "        return\n",
    "\n",
    "def binary_VAE(data_dim,Nb,units,layers_e,layers_d,opt='adam',BN=True):\n",
    "    pre_encoder = define_pre_encoder(data_dim, layers=layers_e,units=units,BN=BN)\n",
    "    print(\"pre-encoder network:\")\n",
    "    pre_encoder.summary()\n",
    "    generator = define_generator(Nb,data_dim,layers=layers_d,units=units,BN=BN)\n",
    "    print(\"generator network:\")\n",
    "    generator.summary()\n",
    "\n",
    "    x = Input(shape=(data_dim,))\n",
    "    hidden = pre_encoder(x)\n",
    "    logits_b  = Dense(Nb, activation='linear', name='logits-b')(hidden) #log(p(b)/1-p(b))\n",
    "    #proba = np.exp(logits_b)/(1+np.exp(logits_b)) = sigmoidal(logits_b) <<<<<<<<<< recuepra probabilidad\n",
    "    #dist = Dense(Nb, activation='sigmoid')(hidden) #p(b) #otra forma de modelarlo\n",
    "    encoder = Model(x, logits_b)\n",
    "\n",
    "    def sampling(logits_b):\n",
    "        #logits_b = K.log(aux/(1-aux) + K.epsilon() )\n",
    "        b = logits_b + sample_gumbel(K.shape(logits_b)) # logits + gumbel noise\n",
    "        return keras.activations.sigmoid( b/tau )\n",
    "\n",
    "    b_sampled = Lambda(sampling, output_shape=(Nb,), name='sampled')(logits_b)\n",
    "    output = generator(b_sampled)\n",
    "\n",
    "    def gumbel_loss(x, x_hat):\n",
    "        reconstruction_loss = keras.losses.categorical_crossentropy(x, x_hat)*data_dim\n",
    "\n",
    "        dist = keras.activations.sigmoid(logits_b) #q(b)\n",
    "        kl_disc_loss = Nb*np.log(2) + K.sum( dist*K.log(dist + K.epsilon()) + (1-dist)* K.log(1-dist + K.epsilon()),axis=1)\n",
    "        return K.mean(reconstruction_loss  + kl_disc_loss)\n",
    "    \n",
    "    binary_vae = Model(x, output)\n",
    "    binary_vae.compile(optimizer=opt, loss=gumbel_loss)\n",
    "    return binary_vae, encoder,generator\n",
    "\n",
    "binary_vae,encoder_Bvae,generator_Bvae = binary_VAE(X_train.shape[1],Nb=32,units=500,layers_e=2,layers_d=0)\n",
    "binary_vae.summary()"
   ]
  },
  {
   "cell_type": "markdown",
   "metadata": {},
   "source": [
    "Primeras experimentaciones leves:\n",
    "* Batch Normalization ayuda a estabilizar el entrenamiento\n",
    "* Max *features* (*top k tokens*)  en características/representación fuciona mucho mejor que *min count*. Reduce el número de parámetros del modelo y también el *overfitting*\n",
    "* Para representación de *Term Frecuency* es necesario normalizar: $\\log{(tf+1)}$, mucho más estable el entrenamiento\n",
    "\n",
    "\n",
    "### Train details\n",
    "---\n",
    "\n",
    "Deep Semantic Variational Hashing:\n",
    "* Glorot initializer (Weights)\n",
    "* Adam Optimizer (step size 0.001)\n",
    "* Dropout (80%)-- overfitting\n",
    "* 25-30 epochs\n",
    "* batch size = 1 o 100\n",
    "\n",
    "Semantic Hashing:\n",
    "* Manual initializer (Weights) -- similar to as glorot\n",
    "* Optimizer SGD (lr = 0.1, momentum 0.9, weight decay 0.0002)\n",
    "* 50 epochs\n",
    "* batch size de 100\n",
    "\n",
    "MIO\n",
    "* epochs aún no\n",
    "* *batch size* de 100\n",
    "* optimizador Adam\n",
    "* Inicializador de Glorot (para los pesos)"
   ]
  },
  {
   "cell_type": "code",
   "execution_count": 269,
   "metadata": {
    "collapsed": false
   },
   "outputs": [],
   "source": [
    "batch_size = 100\n",
    "epochs = 30"
   ]
  },
  {
   "cell_type": "code",
   "execution_count": 295,
   "metadata": {
    "collapsed": false
   },
   "outputs": [
    {
     "data": {
      "text/plain": [
       "[<matplotlib.lines.Line2D at 0x7f5518ae9358>]"
      ]
     },
     "execution_count": 295,
     "metadata": {},
     "output_type": "execute_result"
    },
    {
     "data": {
      "image/png": "[encoded data removed]",
      "text/plain": [
       "<matplotlib.figure.Figure at 0x7f5518c0d0b8>"
      ]
     },
     "metadata": {},
     "output_type": "display_data"
    }
   ],
   "source": [
    "##representacion soft ---mucho mejor!\n",
    "X_train_input = np.log(X_train+1) \n",
    "X_val_input = np.log(X_val+1) \n",
    "plt.plot(X_train_input[0])"
   ]
  },
  {
   "cell_type": "code",
   "execution_count": 296,
   "metadata": {
    "collapsed": false,
    "scrolled": true
   },
   "outputs": [
    {
     "name": "stdout",
     "output_type": "stream",
     "text": [
      "Train on 8485 samples, validate on 2829 samples\n",
      "Epoch 1/30\n",
      "8485/8485 [==============================] - 2s - loss: 17036073.7490 - val_loss: 15040088.3390\n",
      "Epoch 2/30\n",
      "8485/8485 [==============================] - 1s - loss: 15265311.7672 - val_loss: 14674093.2283\n",
      "Epoch 3/30\n",
      "8485/8485 [==============================] - 1s - loss: 14788990.0972 - val_loss: 14145648.5910\n",
      "Epoch 4/30\n",
      "8485/8485 [==============================] - 1s - loss: 14571772.7678 - val_loss: 14273833.8865\n",
      "Epoch 5/30\n",
      "8485/8485 [==============================] - 1s - loss: 14368130.8521 - val_loss: 13908800.1803\n",
      "Epoch 6/30\n",
      "8485/8485 [==============================] - 1s - loss: 14242791.6612 - val_loss: 13867724.8204\n",
      "Epoch 7/30\n",
      "8485/8485 [==============================] - 1s - loss: 14132364.5280 - val_loss: 13725714.1227\n",
      "Epoch 8/30\n",
      "8485/8485 [==============================] - 1s - loss: 14013750.9800 - val_loss: 13724686.6886\n",
      "Epoch 9/30\n",
      "8485/8485 [==============================] - 1s - loss: 13898594.6282 - val_loss: 13602446.3319\n",
      "Epoch 10/30\n",
      "8485/8485 [==============================] - 1s - loss: 13789482.8863 - val_loss: 13525616.4931\n",
      "Epoch 11/30\n",
      "8485/8485 [==============================] - 1s - loss: 13664359.0513 - val_loss: 13454534.9982\n",
      "Epoch 12/30\n",
      "8485/8485 [==============================] - 1s - loss: 13573245.9976 - val_loss: 13400577.3461\n",
      "Epoch 13/30\n",
      "8485/8485 [==============================] - 1s - loss: 13530391.4938 - val_loss: 13408750.2542\n",
      "Epoch 14/30\n",
      "8485/8485 [==============================] - 1s - loss: 13458801.2127 - val_loss: 13333618.6377\n",
      "Epoch 15/30\n",
      "8485/8485 [==============================] - 1s - loss: 13438792.6246 - val_loss: 13360763.6720\n",
      "Epoch 16/30\n",
      "8485/8485 [==============================] - 1s - loss: 13369796.5457 - val_loss: 13242780.1852\n",
      "Epoch 17/30\n",
      "8485/8485 [==============================] - 1s - loss: 13289149.0760 - val_loss: 13208424.5921\n",
      "Epoch 18/30\n",
      "8485/8485 [==============================] - 1s - loss: 13223460.2823 - val_loss: 13160443.2976\n",
      "Epoch 19/30\n",
      "8485/8485 [==============================] - 1s - loss: 13164387.4856 - val_loss: 13165108.9084\n",
      "Epoch 20/30\n",
      "8485/8485 [==============================] - 1s - loss: 13208760.1267 - val_loss: 13167435.4320\n",
      "Epoch 21/30\n",
      "8485/8485 [==============================] - 1s - loss: 13137449.5115 - val_loss: 13133391.5525\n",
      "Epoch 22/30\n",
      "8485/8485 [==============================] - 1s - loss: 13102189.2770 - val_loss: 13121352.0555\n",
      "Epoch 23/30\n",
      "8485/8485 [==============================] - 1s - loss: 13090689.7814 - val_loss: 13111311.4825\n",
      "Epoch 24/30\n",
      "8485/8485 [==============================] - 1s - loss: 13066292.2357 - val_loss: 13118548.5825\n",
      "Epoch 25/30\n",
      "8485/8485 [==============================] - 1s - loss: 13044171.7949 - val_loss: 13074900.1516\n",
      "Epoch 26/30\n",
      "8485/8485 [==============================] - 1s - loss: 13007009.9417 - val_loss: 13067941.1856\n",
      "Epoch 27/30\n",
      "8485/8485 [==============================] - 1s - loss: 12976705.8038 - val_loss: 13067259.1304\n",
      "Epoch 28/30\n",
      "8485/8485 [==============================] - 1s - loss: 12972694.2923 - val_loss: 13041602.7381\n",
      "Epoch 29/30\n",
      "8485/8485 [==============================] - 1s - loss: 12943547.5846 - val_loss: 13048540.2043\n",
      "Epoch 30/30\n",
      "8485/8485 [==============================] - 1s - loss: 12928523.6936 - val_loss: 13037123.1672\n"
     ]
    }
   ],
   "source": [
    "hist1 = traditional_vae.fit(X_train_input, X_train, epochs=epochs, batch_size=batch_size\n",
    "                           ,validation_data=(X_val_input,X_val))"
   ]
  },
  {
   "cell_type": "code",
   "execution_count": 174,
   "metadata": {
    "collapsed": false
   },
   "outputs": [
    {
     "data": {
      "image/png": "[encoded data removed]",
      "text/plain": [
       "<matplotlib.figure.Figure at 0x7f54a66420b8>"
      ]
     },
     "metadata": {},
     "output_type": "display_data"
    },
    {
     "data": {
      "text/plain": [
       "[<matplotlib.lines.Line2D at 0x7f54a4bfee48>]"
      ]
     },
     "execution_count": 174,
     "metadata": {},
     "output_type": "execute_result"
    },
    {
     "data": {
      "image/png": "[encoded data removed]",
      "text/plain": [
       "<matplotlib.figure.Figure at 0x7f54a4cacda0>"
      ]
     },
     "metadata": {},
     "output_type": "display_data"
    }
   ],
   "source": [
    "#borrar\n",
    "plt.plot(traditional_vae.predict(X_train_input)[0])\n",
    "plt.show()\n",
    "plt.plot(X_train[0])"
   ]
  },
  {
   "cell_type": "code",
   "execution_count": 297,
   "metadata": {
    "collapsed": false,
    "scrolled": true
   },
   "outputs": [
    {
     "name": "stdout",
     "output_type": "stream",
     "text": [
      "Train on 8485 samples, validate on 2829 samples\n",
      "Epoch 1/30\n",
      "8485/8485 [==============================] - 2s - loss: 17030774.4585 - val_loss: 15071640.3719\n",
      "Epoch 2/30\n",
      "8485/8485 [==============================] - 1s - loss: 15271536.2852 - val_loss: 14597319.7183\n",
      "Epoch 3/30\n",
      "8485/8485 [==============================] - 1s - loss: 15093200.9493 - val_loss: 14584963.0580\n",
      "Epoch 4/30\n",
      "8485/8485 [==============================] - 1s - loss: 15070806.9311 - val_loss: 14581642.3563\n",
      "Epoch 5/30\n",
      "8485/8485 [==============================] - 1s - loss: 15054903.4832 - val_loss: 14608499.9668\n",
      "Epoch 6/30\n",
      "8485/8485 [==============================] - 1s - loss: 15046266.9776 - val_loss: 14571314.1382\n",
      "Epoch 7/30\n",
      "8485/8485 [==============================] - 1s - loss: 15030970.1414 - val_loss: 14563160.6826\n",
      "Epoch 8/30\n",
      "8485/8485 [==============================] - 1s - loss: 15011618.2616 - val_loss: 14549029.9590\n",
      "Epoch 9/30\n",
      "8485/8485 [==============================] - 1s - loss: 14992880.8232 - val_loss: 14531989.3393\n",
      "Epoch 10/30\n",
      "8485/8485 [==============================] - 1s - loss: 14974404.6800 - val_loss: 14500816.4083\n",
      "Epoch 11/30\n",
      "8485/8485 [==============================] - 1s - loss: 14943662.2027 - val_loss: 14470061.5285\n",
      "Epoch 12/30\n",
      "8485/8485 [==============================] - 1s - loss: 14906918.4384 - val_loss: 14435705.1223\n",
      "Epoch 13/30\n",
      "8485/8485 [==============================] - 1s - loss: 14867863.5321 - val_loss: 14400959.7618\n",
      "Epoch 14/30\n",
      "8485/8485 [==============================] - 1s - loss: 14836756.7932 - val_loss: 14371933.8402\n",
      "Epoch 15/30\n",
      "8485/8485 [==============================] - 1s - loss: 14802260.7030 - val_loss: 14345890.9936\n",
      "Epoch 16/30\n",
      "8485/8485 [==============================] - 1s - loss: 14768848.8256 - val_loss: 14312936.5730\n",
      "Epoch 17/30\n",
      "8485/8485 [==============================] - 1s - loss: 14733699.6081 - val_loss: 14280312.5005\n",
      "Epoch 18/30\n",
      "8485/8485 [==============================] - 1s - loss: 14700859.1267 - val_loss: 14255730.9770\n",
      "Epoch 19/30\n",
      "8485/8485 [==============================] - 1s - loss: 14669470.6836 - val_loss: 14232315.2810\n",
      "Epoch 20/30\n",
      "8485/8485 [==============================] - 1s - loss: 14635377.2357 - val_loss: 14190352.0085\n",
      "Epoch 21/30\n",
      "8485/8485 [==============================] - 1s - loss: 14603058.1190 - val_loss: 14161292.6769\n",
      "Epoch 22/30\n",
      "8485/8485 [==============================] - 1s - loss: 14572782.5928 - val_loss: 14134729.0495\n",
      "Epoch 23/30\n",
      "8485/8485 [==============================] - 1s - loss: 14543745.0866 - val_loss: 14112715.6900\n",
      "Epoch 24/30\n",
      "8485/8485 [==============================] - 1s - loss: 14515771.0312 - val_loss: 14089320.6472\n",
      "Epoch 25/30\n",
      "8485/8485 [==============================] - 1s - loss: 14489184.2440 - val_loss: 14068192.3104\n",
      "Epoch 26/30\n",
      "8485/8485 [==============================] - 1s - loss: 14461250.7454 - val_loss: 14037406.6737\n",
      "Epoch 27/30\n",
      "8485/8485 [==============================] - 1s - loss: 14433366.8262 - val_loss: 14019976.5992\n",
      "Epoch 28/30\n",
      "8485/8485 [==============================] - 1s - loss: 14408501.0407 - val_loss: 14005178.8286\n",
      "Epoch 29/30\n",
      "8485/8485 [==============================] - 1s - loss: 14384470.0295 - val_loss: 13975334.0513\n",
      "Epoch 30/30\n",
      "8485/8485 [==============================] - 1s - loss: 14359251.4532 - val_loss: 13958086.5246\n"
     ]
    }
   ],
   "source": [
    "hist2 = binary_vae.fit(X_train_input, X_train, epochs=epochs, batch_size=batch_size\n",
    "                           ,validation_data=(X_val_input,X_val))"
   ]
  },
  {
   "cell_type": "code",
   "execution_count": 196,
   "metadata": {
    "collapsed": false
   },
   "outputs": [
    {
     "data": {
      "image/png": "[encoded data removed]",
      "text/plain": [
       "<matplotlib.figure.Figure at 0x7f5531ccd748>"
      ]
     },
     "metadata": {},
     "output_type": "display_data"
    }
   ],
   "source": [
    "### binary vs traditional??\n",
    "history_dict1 = hist1.history\n",
    "history_dict2 = hist2.history\n",
    "loss_values1 = history_dict1['loss']\n",
    "val_loss_values1 = history_dict1['val_loss']\n",
    "loss_values2 = history_dict2['loss']\n",
    "val_loss_values2 = history_dict2['val_loss']\n",
    "epochs_l = range(1, len(loss_values1) + 1)\n",
    "\n",
    "plt.figure(figsize=(14,6))\n",
    "plt.plot(epochs_l, loss_values1, 'bo-', label = \"Train set traditional\")\n",
    "plt.plot(epochs_l, val_loss_values1, 'b*-', label = \"Val set traditional\")\n",
    "plt.plot(epochs_l, loss_values2, 'go-', label = \"Train set binary\")\n",
    "plt.plot(epochs_l, val_loss_values2, 'g*-', label = \"Val set binary\")\n",
    "plt.xlabel('Epochs')\n",
    "plt.ylabel('Loss')\n",
    "plt.legend(loc=\"upper right\", fancybox= True)\n",
    "plt.title(\"VAE loss\")\n",
    "plt.show()"
   ]
  },
  {
   "cell_type": "markdown",
   "metadata": {},
   "source": [
    "A través de las curvas de entrenamiento se puede ver que el vae tradicional le gana al binario en reconstrucción, lo cual resulta bastante lógico ya que tiene valores más libres en donde pueden vivir las variables (los reales) vs el binario que está mucho más restringido (entre 0 y 1).\n",
    "\n",
    "### Results\n",
    "---\n",
    "Para evaluar los resultados y poder comparar es necesario realizar el proceso de evaluación que se detalla a continuación.\n",
    "\n",
    "#### Proceso de evaluación\n",
    "1. Calcular código hashing/binario de cada dato/documento\n",
    "2. Recuperar documentos basado en *match* perfecto o *top K* de distancia *hamming*\n",
    "3. Medir *precision* y *recall* en base a algún criterio de relevancia."
   ]
  },
  {
   "cell_type": "code",
   "execution_count": 238,
   "metadata": {
    "collapsed": true
   },
   "outputs": [],
   "source": [
    "class MedianHashing(object):\n",
    "    def __init__(self):\n",
    "        self.threshold = None\n",
    "        self.latent_dim = None\n",
    "    def fit(self, X):\n",
    "        self.threshold = np.median(X, axis=0)\n",
    "        self.latent_dim = X.shape[1]\n",
    "    def transform(self, X):\n",
    "        assert(X.shape[1] == self.latent_dim)\n",
    "        binary_code = np.zeros(X.shape)\n",
    "        for i in range(self.latent_dim):\n",
    "            binary_code[np.nonzero(X[:,i] < self.threshold[i]),i] = 0\n",
    "            binary_code[np.nonzero(X[:,i] >= self.threshold[i]),i] = 1\n",
    "        return binary_code.astype(int)\n",
    "    def fit_transform(self, X):\n",
    "        self.fit(X)\n",
    "        return self.transform(X)\n",
    "    \n",
    "def get_similar(origen,destination,tipo=\"EM\",K=100,ball=2):\n",
    "    \"\"\"\n",
    "        Retrieve similar documents to the origen document inside the destination corpus (source)\n",
    "    \"\"\"\n",
    "    origen_similares = [] #indices\n",
    "    for number,dato_hash in enumerate(origen):\n",
    "        hamming_distance = np.sum(dato_hash != destination,axis=1) #distancia de hamming (# bits distintos)\n",
    "        if tipo==\"EM\": #match exacto\n",
    "            origen_similares.append( np.where(hamming_distance==0)[0] )\n",
    "            origen_similares[-1] = np.setdiff1d(origen_similares[-1] , np.asarray(number))\n",
    "            continue\n",
    "        \n",
    "        elif tipo==\"ball\":\n",
    "            K = np.sum(np.sort(hamming_distance)<=ball)\n",
    "        #get topK\n",
    "        ordenados = np.argsort(hamming_distance) #indices\n",
    "        origen_similares.append(ordenados[:K]) \n",
    "        \n",
    "        origen_similares[-1] = np.setdiff1d(origen_similares[-1] , np.asarray(number))\n",
    "    return origen_similares\n",
    "\n",
    "#build similar or compared in labels\n",
    "def measure_metrics(data_similars,labels_data,labels_destination=[]):\n",
    "    #for now compare labels\n",
    "    count_labels = {label:np.sum([label in aux for aux in labels_data]) for label in labels}\n",
    "    precision = 0.\n",
    "    recall =0.\n",
    "    for similars, label in zip(data_similars,labels_data): #source de donde se extrajo info\n",
    "        if len(similars) == 0: #no encontro similares:\n",
    "            continue\n",
    "            \n",
    "        if len(labels_destination) == 0: #extrajo del mismo conjunto\n",
    "            labels_retrieve = labels_data[similars] \n",
    "        else:\n",
    "            labels_retrieve = labels_destination[similars] \n",
    "        \n",
    "        if type(labels_retrieve[0]) == list: #multiple classes\n",
    "            tp = np.sum([len(set(label)& set(aux))>=1 for aux in labels_retrieve]) #al menos 1 clase en comun --quizas variar\n",
    "            recall += tp/np.sum([count_labels[aux] for aux in label ]) #cuenta todos los label del dato\n",
    "        else: #only one class\n",
    "            tp = np.sum(labels_retrieve == label) #true positive\n",
    "            recall += tp/count_labels[label]\n",
    "        precision += tp/len(similars)\n",
    "    \n",
    "    return precision/len(labels_data), recall/len(labels_data)"
   ]
  },
  {
   "cell_type": "code",
   "execution_count": 305,
   "metadata": {
    "collapsed": false,
    "scrolled": true
   },
   "outputs": [
    {
     "data": {
      "text/plain": [
       "array([[1, 0, 0, ..., 1, 1, 0],\n",
       "       [0, 0, 0, ..., 0, 0, 1],\n",
       "       [1, 0, 0, ..., 1, 1, 1],\n",
       "       ...,\n",
       "       [1, 1, 1, ..., 1, 0, 1],\n",
       "       [1, 1, 0, ..., 0, 0, 0],\n",
       "       [1, 1, 1, ..., 0, 1, 1]])"
      ]
     },
     "execution_count": 305,
     "metadata": {},
     "output_type": "execute_result"
    }
   ],
   "source": [
    "#load vae, encoder and generator\n",
    "encode_train = encoder_Tvae.predict(X_train_input)\n",
    "encode_val = encoder_Tvae.predict(X_val_input)\n",
    "\n",
    "#para VAE tradicional\n",
    "median= MedianHashing()\n",
    "median.fit(encode_train)\n",
    "\n",
    "train_hash = median.transform(encode_train)\n",
    "val_hash = median.transform(encode_val)\n",
    "train_hash"
   ]
  },
  {
   "cell_type": "code",
   "execution_count": 301,
   "metadata": {
    "collapsed": false
   },
   "outputs": [
    {
     "data": {
      "text/plain": [
       "array([[1, 1, 1, ..., 0, 1, 1],\n",
       "       [1, 1, 1, ..., 1, 1, 1],\n",
       "       [0, 1, 1, ..., 1, 1, 1],\n",
       "       ...,\n",
       "       [1, 1, 1, ..., 0, 1, 1],\n",
       "       [1, 1, 1, ..., 1, 1, 1],\n",
       "       [0, 1, 1, ..., 0, 1, 1]])"
      ]
     },
     "execution_count": 301,
     "metadata": {},
     "output_type": "execute_result"
    }
   ],
   "source": [
    "encode_train = encoder_Bvae.predict(X_train_input) #logits\n",
    "encode_val = encoder_Bvae.predict(X_val_input)\n",
    "\n",
    "#para Binary VAE\n",
    "probas_train = keras.activations.sigmoid(encode_train).eval(session=K.get_session())\n",
    "probas_val = keras.activations.sigmoid(encode_val).eval(session=K.get_session())\n",
    "\n",
    "train_hash = (probas_train > 0.5)*1\n",
    "val_hash = (probas_val > 0.5)*1\n",
    "train_hash"
   ]
  },
  {
   "cell_type": "code",
   "execution_count": 256,
   "metadata": {
    "collapsed": false
   },
   "outputs": [
    {
     "data": {
      "text/plain": [
       "[array([], dtype=int64), array([], dtype=int64)]"
      ]
     },
     "execution_count": 256,
     "metadata": {},
     "output_type": "execute_result"
    }
   ],
   "source": [
    "val_similares_val =  get_similar(val_hash,val_hash,tipo=\"EM\")\n",
    "val_similares_val[:2]"
   ]
  },
  {
   "cell_type": "markdown",
   "metadata": {},
   "source": [
    "En algunos casos cuando se busca con un *match* exacto no se encuentra ningún otro dato que se le asigne la misma dirección, es por ésto que se acude a otras técnicas para buscar objetos similares."
   ]
  },
  {
   "cell_type": "code",
   "execution_count": 306,
   "metadata": {
    "collapsed": false
   },
   "outputs": [
    {
     "data": {
      "text/plain": [
       "[array([  20,   29,  161,  170,  190,  209,  212,  348,  369,  439,  470,\n",
       "         517,  518,  523,  582,  597,  632,  634,  655,  670,  671,  724,\n",
       "         765,  798,  815,  834,  844,  852,  866,  871,  874,  909,  916,\n",
       "         925,  967,  971,  981,  994, 1041, 1063, 1096, 1103, 1178, 1181,\n",
       "        1188, 1200, 1221, 1224, 1237, 1284, 1367, 1435, 1459, 1465, 1506,\n",
       "        1566, 1603, 1628, 1662, 1684, 1705, 1781, 1822, 1824, 1851, 1885,\n",
       "        1916, 1933, 1980, 1991, 2014, 2015, 2024, 2048, 2069, 2073, 2083,\n",
       "        2087, 2093, 2100, 2118, 2141, 2150, 2182, 2200, 2221, 2237, 2358,\n",
       "        2385, 2489, 2563, 2567, 2603, 2685, 2688, 2712, 2714, 2817, 2821]),\n",
       " array([   8,   24,   38,   42,   51,   61,   64,  116,  141,  184,  186,\n",
       "         213,  229,  233,  320,  353,  365,  394,  408,  426,  427,  503,\n",
       "         601,  604,  681,  687,  835,  955, 1057, 1099, 1175, 1214, 1222,\n",
       "        1238, 1248, 1251, 1305, 1327, 1364, 1376, 1403, 1463, 1467, 1471,\n",
       "        1479, 1485, 1518, 1545, 1554, 1555, 1587, 1658, 1717, 1746, 1755,\n",
       "        1767, 1773, 1778, 1780, 1815, 1901, 1948, 1950, 1981, 1984, 1986,\n",
       "        2002, 2006, 2017, 2019, 2079, 2082, 2098, 2249, 2281, 2285, 2355,\n",
       "        2382, 2401, 2413, 2431, 2442, 2446, 2479, 2500, 2518, 2557, 2580,\n",
       "        2596, 2603, 2623, 2632, 2699, 2711, 2747, 2765, 2770, 2798, 2799])]"
      ]
     },
     "execution_count": 306,
     "metadata": {},
     "output_type": "execute_result"
    }
   ],
   "source": [
    "val_similares_val =  get_similar(val_hash,val_hash,tipo=\"topK\",K=100)\n",
    "val_similares_val[:2]"
   ]
  },
  {
   "cell_type": "code",
   "execution_count": 307,
   "metadata": {
    "collapsed": false,
    "scrolled": true
   },
   "outputs": [
    {
     "name": "stdout",
     "output_type": "stream",
     "text": [
      "Precision (query: validation, source: validation)  0.2662360615700983\n",
      "Recall    (query: validation, source: validation)  0.18205694187054045\n"
     ]
    }
   ],
   "source": [
    "precision,recall = measure_metrics(val_similares_val,labels_val)\n",
    "print(\"Precision (query: validation, source: validation) \",precision)\n",
    "print(\"Recall    (query: validation, source: validation) \",recall)"
   ]
  },
  {
   "cell_type": "markdown",
   "metadata": {
    "collapsed": true
   },
   "source": [
    "val_similares_train =  get_similar(val_hash,train_hash,tipo=\"topK\",K=100)\n",
    "#train_similares_train =  get_similar(train_hash,train_hash,tipo=\"ball\",ball=2)\n",
    "precision,recall = measure_metrics(val_similares_train,labels_val,labels_destination=labels_train)\n",
    "print(\"Precision (query: val, source: train) \",precision)\n",
    "print(\"Recall    (query: val, source: train) \",recall)"
   ]
  },
  {
   "cell_type": "markdown",
   "metadata": {},
   "source": [
    "### Experimentación\n",
    "---\n",
    "A continación se realizan las experimentaciones correspondientes"
   ]
  },
  {
   "cell_type": "code",
   "execution_count": 230,
   "metadata": {
    "collapsed": true
   },
   "outputs": [],
   "source": [
    "def evaluate_hashing(encoder,train,val,labels_set,traditional=True):\n",
    "    encode_train = encoder.predict(train)\n",
    "    encode_val = encoder.predict(val)\n",
    "    if traditional:\n",
    "        median= MedianHashing()\n",
    "        median.fit(encode_train)\n",
    "\n",
    "        #train_hash = median.transform(encode_train)\n",
    "        val_hash = median.transform(encode_val)\n",
    "    else: #para Binary VAE\n",
    "        #probas_train = keras.activations.sigmoid(encode_train).eval(session=K.get_session())\n",
    "        probas_val = keras.activations.sigmoid(encode_val).eval(session=K.get_session())\n",
    "\n",
    "        #train_hash = (probas_train > 0.5)*1\n",
    "        val_hash = (probas_val > 0.5)*1\n",
    "        \n",
    "    val_similares_val =  get_similar(val_hash,val_hash,tipo=\"topK\",K=100) #or topK\n",
    "    return measure_metrics(val_similares_val,labels_set)"
   ]
  },
  {
   "cell_type": "code",
   "execution_count": 67,
   "metadata": {
    "collapsed": false,
    "scrolled": true
   },
   "outputs": [
    {
     "name": "stdout",
     "output_type": "stream",
     "text": [
      "pre-encoder network:\n",
      "_________________________________________________________________\n",
      "Layer (type)                 Output Shape              Param #   \n",
      "=================================================================\n",
      "dense_34 (Dense)             (None, 500)               5000500   \n",
      "_________________________________________________________________\n",
      "batch_normalization_23 (Batc (None, 500)               2000      \n",
      "_________________________________________________________________\n",
      "dense_35 (Dense)             (None, 500)               250500    \n",
      "_________________________________________________________________\n",
      "batch_normalization_24 (Batc (None, 500)               2000      \n",
      "=================================================================\n",
      "Total params: 5,255,000\n",
      "Trainable params: 5,253,000\n",
      "Non-trainable params: 2,000\n",
      "_________________________________________________________________\n",
      "generator network:\n",
      "_________________________________________________________________\n",
      "Layer (type)                 Output Shape              Param #   \n",
      "=================================================================\n",
      "dense_36 (Dense)             (None, 10000)             330000    \n",
      "=================================================================\n",
      "Total params: 330,000\n",
      "Trainable params: 330,000\n",
      "Non-trainable params: 0\n",
      "_________________________________________________________________\n",
      "pre-encoder network:\n",
      "_________________________________________________________________\n",
      "Layer (type)                 Output Shape              Param #   \n",
      "=================================================================\n",
      "dense_37 (Dense)             (None, 500)               5000500   \n",
      "_________________________________________________________________\n",
      "batch_normalization_25 (Batc (None, 500)               2000      \n",
      "_________________________________________________________________\n",
      "dense_38 (Dense)             (None, 500)               250500    \n",
      "_________________________________________________________________\n",
      "batch_normalization_26 (Batc (None, 500)               2000      \n",
      "=================================================================\n",
      "Total params: 5,255,000\n",
      "Trainable params: 5,253,000\n",
      "Non-trainable params: 2,000\n",
      "_________________________________________________________________\n",
      "generator network:\n",
      "_________________________________________________________________\n",
      "Layer (type)                 Output Shape              Param #   \n",
      "=================================================================\n",
      "dense_39 (Dense)             (None, 500)               16500     \n",
      "_________________________________________________________________\n",
      "batch_normalization_27 (Batc (None, 500)               2000      \n",
      "_________________________________________________________________\n",
      "dense_40 (Dense)             (None, 500)               250500    \n",
      "_________________________________________________________________\n",
      "batch_normalization_28 (Batc (None, 500)               2000      \n",
      "_________________________________________________________________\n",
      "dense_41 (Dense)             (None, 10000)             5010000   \n",
      "=================================================================\n",
      "Total params: 5,281,000\n",
      "Trainable params: 5,279,000\n",
      "Non-trainable params: 2,000\n",
      "_________________________________________________________________\n",
      "pre-encoder network:\n",
      "_________________________________________________________________\n",
      "Layer (type)                 Output Shape              Param #   \n",
      "=================================================================\n",
      "dense_42 (Dense)             (None, 500)               5000500   \n",
      "_________________________________________________________________\n",
      "batch_normalization_29 (Batc (None, 500)               2000      \n",
      "_________________________________________________________________\n",
      "dense_43 (Dense)             (None, 500)               250500    \n",
      "_________________________________________________________________\n",
      "batch_normalization_30 (Batc (None, 500)               2000      \n",
      "=================================================================\n",
      "Total params: 5,255,000\n",
      "Trainable params: 5,253,000\n",
      "Non-trainable params: 2,000\n",
      "_________________________________________________________________\n",
      "generator network:\n",
      "_________________________________________________________________\n",
      "Layer (type)                 Output Shape              Param #   \n",
      "=================================================================\n",
      "dense_44 (Dense)             (None, 10000)             330000    \n",
      "=================================================================\n",
      "Total params: 330,000\n",
      "Trainable params: 330,000\n",
      "Non-trainable params: 0\n",
      "_________________________________________________________________\n",
      "pre-encoder network:\n",
      "_________________________________________________________________\n",
      "Layer (type)                 Output Shape              Param #   \n",
      "=================================================================\n",
      "dense_45 (Dense)             (None, 500)               5000500   \n",
      "_________________________________________________________________\n",
      "batch_normalization_31 (Batc (None, 500)               2000      \n",
      "_________________________________________________________________\n",
      "dense_46 (Dense)             (None, 500)               250500    \n",
      "_________________________________________________________________\n",
      "batch_normalization_32 (Batc (None, 500)               2000      \n",
      "=================================================================\n",
      "Total params: 5,255,000\n",
      "Trainable params: 5,253,000\n",
      "Non-trainable params: 2,000\n",
      "_________________________________________________________________\n",
      "generator network:\n",
      "_________________________________________________________________\n",
      "Layer (type)                 Output Shape              Param #   \n",
      "=================================================================\n",
      "dense_47 (Dense)             (None, 500)               16500     \n",
      "_________________________________________________________________\n",
      "batch_normalization_33 (Batc (None, 500)               2000      \n",
      "_________________________________________________________________\n",
      "dense_48 (Dense)             (None, 500)               250500    \n",
      "_________________________________________________________________\n",
      "batch_normalization_34 (Batc (None, 500)               2000      \n",
      "_________________________________________________________________\n",
      "dense_49 (Dense)             (None, 10000)             5010000   \n",
      "=================================================================\n",
      "Total params: 5,281,000\n",
      "Trainable params: 5,279,000\n",
      "Non-trainable params: 2,000\n",
      "_________________________________________________________________\n",
      "Terminó\n"
     ]
    }
   ],
   "source": [
    "sin_lemma_traditional = {}\n",
    "sin_lemma_binary = {}\n",
    "    \n",
    "traditional_vae,encoder_Tvae,generator_Tvae = traditional_VAE(X_train.shape[1],Nb=32,units=500,layers_e=2,layers_d=0)\n",
    "traditional_vae.fit(X_train_input, X_train, epochs=epochs, batch_size=batch_size,verbose=0)\n",
    "p1,r1 = evaluate_hashing(encoder_Tvae,X_train_input,X_val_input,labels_val,traditional=True)\n",
    "\n",
    "traditional_vae,encoder_Tvae,generator_Tvae = traditional_VAE(X_train.shape[1],Nb=32,units=500,layers_e=2,layers_d=2)\n",
    "traditional_vae.fit(X_train_input, X_train, epochs=epochs, batch_size=batch_size,verbose=0)\n",
    "p2,r2 = evaluate_hashing(encoder_Tvae,X_train_input,X_val_input,labels_val,traditional=True)\n",
    "\n",
    "sin_lemma_traditional[\"precision\"] = [p1, p2] \n",
    "sin_lemma_traditional[\"recall\"] = [r1, r2]\n",
    "\n",
    "                    \n",
    "binary_vae,encoder_Bvae,generator_Bvae = binary_VAE(X_train.shape[1],Nb=32,units=500,layers_e=2,layers_d=0)\n",
    "binary_vae.fit(X_train_input, X_train, epochs=epochs, batch_size=batch_size,verbose=0)\n",
    "p1,r1 = evaluate_hashing(encoder_Bvae,X_train_input,X_val_input,labels_val,traditional=False)\n",
    "\n",
    "binary_vae,encoder_Bvae,generator_Bvae = binary_VAE(X_train.shape[1],Nb=32,units=500,layers_e=2,layers_d=2)\n",
    "binary_vae.fit(X_train_input, X_train, epochs=epochs, batch_size=batch_size,verbose=0)\n",
    "p2,r2 = evaluate_hashing(encoder_Bvae,X_train_input,X_val_input,labels_val,traditional=False)\n",
    "\n",
    "sin_lemma_binary[\"precision\"] = [p1, p2] \n",
    "sin_lemma_binary[\"recall\"] = [r1, r2]\n",
    "print(\"Terminó\")"
   ]
  },
  {
   "cell_type": "code",
   "execution_count": 231,
   "metadata": {
    "collapsed": false,
    "scrolled": true
   },
   "outputs": [
    {
     "name": "stdout",
     "output_type": "stream",
     "text": [
      "pre-encoder network:\n",
      "_________________________________________________________________\n",
      "Layer (type)                 Output Shape              Param #   \n",
      "=================================================================\n",
      "input_121 (InputLayer)       (None, 10000)             0         \n",
      "_________________________________________________________________\n",
      "dense_121 (Dense)            (None, 500)               5000500   \n",
      "_________________________________________________________________\n",
      "batch_normalization_73 (Batc (None, 500)               2000      \n",
      "_________________________________________________________________\n",
      "dense_122 (Dense)            (None, 500)               250500    \n",
      "_________________________________________________________________\n",
      "batch_normalization_74 (Batc (None, 500)               2000      \n",
      "=================================================================\n",
      "Total params: 5,255,000\n",
      "Trainable params: 5,253,000\n",
      "Non-trainable params: 2,000\n",
      "_________________________________________________________________\n",
      "generator network:\n",
      "_________________________________________________________________\n",
      "Layer (type)                 Output Shape              Param #   \n",
      "=================================================================\n",
      "input_122 (InputLayer)       (None, 32)                0         \n",
      "_________________________________________________________________\n",
      "dense_123 (Dense)            (None, 10000)             330000    \n",
      "=================================================================\n",
      "Total params: 330,000\n",
      "Trainable params: 330,000\n",
      "Non-trainable params: 0\n",
      "_________________________________________________________________\n",
      "pre-encoder network:\n",
      "_________________________________________________________________\n",
      "Layer (type)                 Output Shape              Param #   \n",
      "=================================================================\n",
      "input_124 (InputLayer)       (None, 10000)             0         \n",
      "_________________________________________________________________\n",
      "dense_124 (Dense)            (None, 500)               5000500   \n",
      "_________________________________________________________________\n",
      "batch_normalization_75 (Batc (None, 500)               2000      \n",
      "_________________________________________________________________\n",
      "dense_125 (Dense)            (None, 500)               250500    \n",
      "_________________________________________________________________\n",
      "batch_normalization_76 (Batc (None, 500)               2000      \n",
      "=================================================================\n",
      "Total params: 5,255,000\n",
      "Trainable params: 5,253,000\n",
      "Non-trainable params: 2,000\n",
      "_________________________________________________________________\n",
      "generator network:\n",
      "_________________________________________________________________\n",
      "Layer (type)                 Output Shape              Param #   \n",
      "=================================================================\n",
      "input_125 (InputLayer)       (None, 32)                0         \n",
      "_________________________________________________________________\n",
      "dense_126 (Dense)            (None, 500)               16500     \n",
      "_________________________________________________________________\n",
      "batch_normalization_77 (Batc (None, 500)               2000      \n",
      "_________________________________________________________________\n",
      "dense_127 (Dense)            (None, 500)               250500    \n",
      "_________________________________________________________________\n",
      "batch_normalization_78 (Batc (None, 500)               2000      \n",
      "_________________________________________________________________\n",
      "dense_128 (Dense)            (None, 10000)             5010000   \n",
      "=================================================================\n",
      "Total params: 5,281,000\n",
      "Trainable params: 5,279,000\n",
      "Non-trainable params: 2,000\n",
      "_________________________________________________________________\n",
      "pre-encoder network:\n",
      "_________________________________________________________________\n",
      "Layer (type)                 Output Shape              Param #   \n",
      "=================================================================\n",
      "input_127 (InputLayer)       (None, 10000)             0         \n",
      "_________________________________________________________________\n",
      "dense_129 (Dense)            (None, 500)               5000500   \n",
      "_________________________________________________________________\n",
      "batch_normalization_79 (Batc (None, 500)               2000      \n",
      "_________________________________________________________________\n",
      "dense_130 (Dense)            (None, 500)               250500    \n",
      "_________________________________________________________________\n",
      "batch_normalization_80 (Batc (None, 500)               2000      \n",
      "=================================================================\n",
      "Total params: 5,255,000\n",
      "Trainable params: 5,253,000\n",
      "Non-trainable params: 2,000\n",
      "_________________________________________________________________\n",
      "generator network:\n",
      "_________________________________________________________________\n",
      "Layer (type)                 Output Shape              Param #   \n",
      "=================================================================\n",
      "input_128 (InputLayer)       (None, 32)                0         \n",
      "_________________________________________________________________\n",
      "dense_131 (Dense)            (None, 10000)             330000    \n",
      "=================================================================\n",
      "Total params: 330,000\n",
      "Trainable params: 330,000\n",
      "Non-trainable params: 0\n",
      "_________________________________________________________________\n",
      "pre-encoder network:\n",
      "_________________________________________________________________\n",
      "Layer (type)                 Output Shape              Param #   \n",
      "=================================================================\n",
      "input_130 (InputLayer)       (None, 10000)             0         \n",
      "_________________________________________________________________\n",
      "dense_132 (Dense)            (None, 500)               5000500   \n",
      "_________________________________________________________________\n",
      "batch_normalization_81 (Batc (None, 500)               2000      \n",
      "_________________________________________________________________\n",
      "dense_133 (Dense)            (None, 500)               250500    \n",
      "_________________________________________________________________\n",
      "batch_normalization_82 (Batc (None, 500)               2000      \n",
      "=================================================================\n",
      "Total params: 5,255,000\n",
      "Trainable params: 5,253,000\n",
      "Non-trainable params: 2,000\n",
      "_________________________________________________________________\n",
      "generator network:\n",
      "_________________________________________________________________\n",
      "Layer (type)                 Output Shape              Param #   \n",
      "=================================================================\n",
      "input_131 (InputLayer)       (None, 32)                0         \n",
      "_________________________________________________________________\n",
      "dense_134 (Dense)            (None, 500)               16500     \n",
      "_________________________________________________________________\n",
      "batch_normalization_83 (Batc (None, 500)               2000      \n",
      "_________________________________________________________________\n",
      "dense_135 (Dense)            (None, 500)               250500    \n",
      "_________________________________________________________________\n",
      "batch_normalization_84 (Batc (None, 500)               2000      \n",
      "_________________________________________________________________\n",
      "dense_136 (Dense)            (None, 10000)             5010000   \n",
      "=================================================================\n",
      "Total params: 5,281,000\n",
      "Trainable params: 5,279,000\n",
      "Non-trainable params: 2,000\n",
      "_________________________________________________________________\n",
      "Terminó\n"
     ]
    }
   ],
   "source": [
    "con_lemma_traditional = {}\n",
    "con_lemma_binary = {}\n",
    "    \n",
    "traditional_vae,encoder_Tvae,generator_Tvae = traditional_VAE(X_train.shape[1],Nb=32,units=500,layers_e=2,layers_d=0)\n",
    "traditional_vae.fit(X_train_input, X_train, epochs=epochs, batch_size=batch_size,verbose=0)\n",
    "p1,r1 = evaluate_hashing(encoder_Tvae,X_train_input,X_val_input,labels_val,traditional=True)\n",
    "\n",
    "traditional_vae,encoder_Tvae,generator_Tvae = traditional_VAE(X_train.shape[1],Nb=32,units=500,layers_e=2,layers_d=2)\n",
    "traditional_vae.fit(X_train_input, X_train, epochs=epochs, batch_size=batch_size,verbose=0)\n",
    "p2,r2 = evaluate_hashing(encoder_Tvae,X_train_input,X_val_input,labels_val,traditional=True)\n",
    "\n",
    "con_lemma_traditional[\"precision\"] = [p1, p2] \n",
    "con_lemma_traditional[\"recall\"] = [r1, r2]\n",
    "\n",
    "binary_vae,encoder_Bvae,generator_Bvae = binary_VAE(X_train.shape[1],Nb=32,units=500,layers_e=2,layers_d=0)\n",
    "binary_vae.fit(X_train_input, X_train, epochs=epochs, batch_size=batch_size,verbose=0)\n",
    "p1,r1 = evaluate_hashing(encoder_Bvae,X_train_input,X_val_input,labels_val,traditional=False)\n",
    "\n",
    "binary_vae,encoder_Bvae,generator_Bvae = binary_VAE(X_train.shape[1],Nb=32,units=500,layers_e=2,layers_d=2)\n",
    "binary_vae.fit(X_train_input, X_train, epochs=epochs, batch_size=batch_size,verbose=0)\n",
    "p2,r2 = evaluate_hashing(encoder_Bvae,X_train_input,X_val_input,labels_val,traditional=False)\n",
    "\n",
    "con_lemma_binary[\"precision\"] = [p1, p2] \n",
    "con_lemma_binary[\"recall\"] = [r1, r2]\n",
    "print(\"Terminó\")"
   ]
  },
  {
   "cell_type": "code",
   "execution_count": null,
   "metadata": {
    "collapsed": true
   },
   "outputs": [],
   "source": []
  },
  {
   "cell_type": "code",
   "execution_count": 106,
   "metadata": {
    "collapsed": false
   },
   "outputs": [
    {
     "name": "stdout",
     "output_type": "stream",
     "text": [
      "Resultados de Precision en validación\n",
      "\n",
      "*** VAE Traditional***\n",
      "               Sin Lemma           Con Lemma     \n",
      "--------- ------------------- -------------------\n",
      "     Base  0.2798540370120401  0.2841565174544985\n",
      "Simetrico 0.22855275983589507 0.27704046473929445\n",
      "\n",
      "*** VAE Binary***\n",
      "               Sin Lemma           Con Lemma     \n",
      "--------- ------------------- -------------------\n",
      "     Base 0.27538017145651994 0.31629122615336525\n",
      "Simetrico   0.339728140364405   0.352853383606297\n"
     ]
    }
   ],
   "source": [
    "print(\"Resultados de Precision en validación\")\n",
    "\n",
    "t = Table()\n",
    "t[\"\"] = [\"Base\", \"Simetrico\"]\n",
    "t[\"Sin Lemma\"] = sin_lemma_traditional[\"precision\"]\n",
    "t[\"Con Lemma\"] = con_lemma_traditional[\"precision\"]\n",
    "print(\"\\n*** VAE Traditional***\")\n",
    "print(t)\n",
    "\n",
    "t = Table()\n",
    "t[\"\"] = [\"Base\", \"Simetrico\"]\n",
    "t[\"Sin Lemma\"] = sin_lemma_binary[\"precision\"]\n",
    "t[\"Con Lemma\"] = con_lemma_binary[\"precision\"]\n",
    "print(\"\\n*** VAE Binary***\")\n",
    "print(t)"
   ]
  },
  {
   "cell_type": "code",
   "execution_count": 107,
   "metadata": {
    "collapsed": false,
    "scrolled": true
   },
   "outputs": [
    {
     "name": "stdout",
     "output_type": "stream",
     "text": [
      "Resultados de Recall en validación\n",
      "\n",
      "*** VAE Traditional***\n",
      "               Sin Lemma          Con Lemma     \n",
      "--------- ------------------- ------------------\n",
      "     Base 0.19157503942601106 0.1935634800277119\n",
      "Simetrico  0.1567055109236688 0.1890441069169437\n",
      "\n",
      "*** VAE Binary***\n",
      "               Sin Lemma           Con Lemma     \n",
      "--------- ------------------- -------------------\n",
      "     Base  0.1867768042416021 0.21653550976898298\n",
      "Simetrico 0.23209726149925983 0.24124950620939722\n"
     ]
    }
   ],
   "source": [
    "print(\"Resultados de Recall en validación\")\n",
    "\n",
    "t = Table()\n",
    "t[\"\"] = [\"Base\", \"Simetrico\"]\n",
    "t[\"Sin Lemma\"] = sin_lemma_traditional[\"recall\"]\n",
    "t[\"Con Lemma\"] = con_lemma_traditional[\"recall\"]\n",
    "print(\"\\n*** VAE Traditional***\")\n",
    "print(t)\n",
    "\n",
    "t = Table()\n",
    "t[\"\"] = [\"Base\", \"Simetrico\"]\n",
    "t[\"Sin Lemma\"] = sin_lemma_binary[\"recall\"]\n",
    "t[\"Con Lemma\"] = con_lemma_binary[\"recall\"]\n",
    "print(\"\\n*** VAE Binary***\")\n",
    "print(t)"
   ]
  },
  {
   "cell_type": "markdown",
   "metadata": {},
   "source": [
    "En base a la experimentación anterior se encuentra con que aplicar *Lemmatization* a los *tokens* conlleva una mejora en ambas métricas (*precision* y *recall*), además de que utilizar una arquitectura simétrica (a pesar del incremento considerable de parámetros) conlleva una gran mejora en el *VAE* Binario."
   ]
  },
  {
   "cell_type": "code",
   "execution_count": 23,
   "metadata": {
    "collapsed": false,
    "scrolled": true
   },
   "outputs": [
    {
     "name": "stdout",
     "output_type": "stream",
     "text": [
      "pre-encoder network:\n",
      "_________________________________________________________________\n",
      "Layer (type)                 Output Shape              Param #   \n",
      "=================================================================\n",
      "dense_15 (Dense)             (None, 500)               5000500   \n",
      "_________________________________________________________________\n",
      "batch_normalization_11 (Batc (None, 500)               2000      \n",
      "_________________________________________________________________\n",
      "dense_16 (Dense)             (None, 500)               250500    \n",
      "_________________________________________________________________\n",
      "batch_normalization_12 (Batc (None, 500)               2000      \n",
      "=================================================================\n",
      "Total params: 5,255,000\n",
      "Trainable params: 5,253,000\n",
      "Non-trainable params: 2,000\n",
      "_________________________________________________________________\n",
      "generator network:\n",
      "_________________________________________________________________\n",
      "Layer (type)                 Output Shape              Param #   \n",
      "=================================================================\n",
      "dense_17 (Dense)             (None, 500)               16500     \n",
      "_________________________________________________________________\n",
      "batch_normalization_13 (Batc (None, 500)               2000      \n",
      "_________________________________________________________________\n",
      "dense_18 (Dense)             (None, 500)               250500    \n",
      "_________________________________________________________________\n",
      "batch_normalization_14 (Batc (None, 500)               2000      \n",
      "_________________________________________________________________\n",
      "dense_19 (Dense)             (None, 10000)             5010000   \n",
      "=================================================================\n",
      "Total params: 5,281,000\n",
      "Trainable params: 5,279,000\n",
      "Non-trainable params: 2,000\n",
      "_________________________________________________________________\n",
      "pre-encoder network:\n",
      "_________________________________________________________________\n",
      "Layer (type)                 Output Shape              Param #   \n",
      "=================================================================\n",
      "dense_20 (Dense)             (None, 500)               5000500   \n",
      "_________________________________________________________________\n",
      "batch_normalization_15 (Batc (None, 500)               2000      \n",
      "_________________________________________________________________\n",
      "dense_21 (Dense)             (None, 500)               250500    \n",
      "_________________________________________________________________\n",
      "batch_normalization_16 (Batc (None, 500)               2000      \n",
      "=================================================================\n",
      "Total params: 5,255,000\n",
      "Trainable params: 5,253,000\n",
      "Non-trainable params: 2,000\n",
      "_________________________________________________________________\n",
      "generator network:\n",
      "_________________________________________________________________\n",
      "Layer (type)                 Output Shape              Param #   \n",
      "=================================================================\n",
      "dense_22 (Dense)             (None, 500)               16500     \n",
      "_________________________________________________________________\n",
      "batch_normalization_17 (Batc (None, 500)               2000      \n",
      "_________________________________________________________________\n",
      "dense_23 (Dense)             (None, 500)               250500    \n",
      "_________________________________________________________________\n",
      "batch_normalization_18 (Batc (None, 500)               2000      \n",
      "_________________________________________________________________\n",
      "dense_24 (Dense)             (None, 10000)             5010000   \n",
      "=================================================================\n",
      "Total params: 5,281,000\n",
      "Trainable params: 5,279,000\n",
      "Non-trainable params: 2,000\n",
      "_________________________________________________________________\n",
      "Terminó\n",
      "\n",
      "VAE tradicional ---\n",
      "Precision 0.266307 -- Recall 0.182356 \n",
      "\n",
      "VAE binario ---\n",
      "Precision 0.351868 -- Recall 0.241310 \n"
     ]
    }
   ],
   "source": [
    "#and what about stemming?\n",
    "traditional_vae,encoder_Tvae,generator_Tvae = traditional_VAE(X_train.shape[1],Nb=32,units=500,layers_e=2,layers_d=0)\n",
    "traditional_vae.fit(X_train_input, X_train, epochs=epochs, batch_size=batch_size,verbose=0)\n",
    "p_t,r_t = evaluate_hashing(encoder_Tvae,X_train_input,X_val_input,labels_val,traditional=True)\n",
    "\n",
    "binary_vae,encoder_Bvae,generator_Bvae = binary_VAE(X_train.shape[1],Nb=32,units=500,layers_e=2,layers_d=2)\n",
    "binary_vae.fit(X_train_input, X_train, epochs=epochs, batch_size=batch_size,verbose=0)\n",
    "p_b,r_b = evaluate_hashing(encoder_Bvae,X_train_input,X_val_input,labels_val,traditional=False)\n",
    "\n",
    "print(\"Terminó\")\n",
    "\n",
    "print(\"\\nVAE tradicional ---\\nPrecision %f -- Recall %f \"%(p_t,r_t))\n",
    "print(\"\\nVAE binario ---\\nPrecision %f -- Recall %f \"%(p_b,r_b))"
   ]
  },
  {
   "cell_type": "code",
   "execution_count": null,
   "metadata": {
    "collapsed": true
   },
   "outputs": [],
   "source": []
  },
  {
   "cell_type": "code",
   "execution_count": null,
   "metadata": {
    "collapsed": true
   },
   "outputs": [],
   "source": [
    "## measure test!\n",
    "\n",
    "#para traditional vae\n",
    "encode_test = encoder_Tvae.predict(X_test_input)\n",
    "test_hash = median.transform(encode_test)"
   ]
  },
  {
   "cell_type": "code",
   "execution_count": null,
   "metadata": {
    "collapsed": true
   },
   "outputs": [],
   "source": [
    "\n",
    "if traditional:\n",
    "    median= MedianHashing()\n",
    "    median.fit(encode_train)\n",
    "\n",
    "    train_hash = median.transform(encode_train)\n",
    "    val_hash = median.transform(encode_val)\n",
    "else: #para Binary VAE\n",
    "    probas_train = keras.activations.sigmoid(encode_train).eval(session=K.get_session())\n",
    "    probas_val = keras.activations.sigmoid(encode_val).eval(session=K.get_session())\n",
    "\n",
    "    train_hash = (probas_train > 0.5)*1\n",
    "    val_hash = (probas_val > 0.5)*1\n"
   ]
  },
  {
   "cell_type": "code",
   "execution_count": null,
   "metadata": {
    "collapsed": true
   },
   "outputs": [],
   "source": [
    "test_similares_test =  get_similar(test_hash,test_hash,tipo=\"EM\") #or topK\n",
    "precision,recall = measure_metrics(test_similares_test,labels_test)\n",
    "print(\"Precision (query: test, source: test) \",precision)\n",
    "print(\"Recall    (query: test, source: test) \",recall)"
   ]
  },
  {
   "cell_type": "markdown",
   "metadata": {},
   "source": [
    "### Analysis\n",
    "---\n",
    "Intepretar los códigos binarios en cada dataset"
   ]
  },
  {
   "cell_type": "code",
   "execution_count": 27,
   "metadata": {
    "collapsed": false,
    "scrolled": true
   },
   "outputs": [
    {
     "name": "stdout",
     "output_type": "stream",
     "text": [
      "pre-encoder network:\n",
      "_________________________________________________________________\n",
      "Layer (type)                 Output Shape              Param #   \n",
      "=================================================================\n",
      "dense_25 (Dense)             (None, 500)               5000500   \n",
      "_________________________________________________________________\n",
      "batch_normalization_19 (Batc (None, 500)               2000      \n",
      "_________________________________________________________________\n",
      "dense_26 (Dense)             (None, 500)               250500    \n",
      "_________________________________________________________________\n",
      "batch_normalization_20 (Batc (None, 500)               2000      \n",
      "=================================================================\n",
      "Total params: 5,255,000\n",
      "Trainable params: 5,253,000\n",
      "Non-trainable params: 2,000\n",
      "_________________________________________________________________\n",
      "generator network:\n",
      "_________________________________________________________________\n",
      "Layer (type)                 Output Shape              Param #   \n",
      "=================================================================\n",
      "dense_27 (Dense)             (None, 500)               16500     \n",
      "_________________________________________________________________\n",
      "batch_normalization_21 (Batc (None, 500)               2000      \n",
      "_________________________________________________________________\n",
      "dense_28 (Dense)             (None, 500)               250500    \n",
      "_________________________________________________________________\n",
      "batch_normalization_22 (Batc (None, 500)               2000      \n",
      "_________________________________________________________________\n",
      "dense_29 (Dense)             (None, 10000)             5010000   \n",
      "=================================================================\n",
      "Total params: 5,281,000\n",
      "Trainable params: 5,279,000\n",
      "Non-trainable params: 2,000\n",
      "_________________________________________________________________\n"
     ]
    },
    {
     "data": {
      "text/plain": [
       "array([[0, 1, 0, ..., 1, 1, 0],\n",
       "       [1, 1, 1, ..., 1, 0, 1],\n",
       "       [1, 1, 1, ..., 1, 1, 1],\n",
       "       ...,\n",
       "       [1, 1, 1, ..., 1, 0, 1],\n",
       "       [1, 1, 1, ..., 0, 0, 1],\n",
       "       [1, 1, 1, ..., 1, 0, 1]])"
      ]
     },
     "execution_count": 27,
     "metadata": {},
     "output_type": "execute_result"
    }
   ],
   "source": [
    "### best model.. train on train and val..\n",
    "binary_vae,encoder_Bvae,generator_Bvae = binary_VAE(X_train.shape[1],Nb=32,units=500,layers_e=2,layers_d=2)\n",
    "binary_vae.fit(X_train_input, X_train, epochs=epochs, batch_size=batch_size,verbose=0)\n",
    "\n",
    "encode_train = encoder_Bvae.predict(X_train_input) #logits\n",
    "encode_val = encoder_Bvae.predict(X_val_input)\n",
    "\n",
    "#para Binary VAE\n",
    "probas_train = keras.activations.sigmoid(encode_train).eval(session=K.get_session())\n",
    "probas_val = keras.activations.sigmoid(encode_val).eval(session=K.get_session())\n",
    "\n",
    "train_hash = (probas_train > 0.5)*1\n",
    "val_hash = (probas_val > 0.5)*1\n",
    "train_hash"
   ]
  },
  {
   "cell_type": "code",
   "execution_count": 19,
   "metadata": {
    "collapsed": false
   },
   "outputs": [
    {
     "name": "stdout",
     "output_type": "stream",
     "text": [
      "Realizado\n"
     ]
    }
   ],
   "source": [
    "##valores unicos de hash? distribucion de casillas\n",
    "def hash_analysis(hash_data):\n",
    "    hash_string = []\n",
    "    for valor in hash_data:\n",
    "        hash_string.append(str(valor)[1:-1].replace(' ',''))\n",
    "    valores_unicos = set(hash_string)\n",
    "    count_hash = {valor: hash_string.count(valor) for valor in valores_unicos}\n",
    "    return valores_unicos, count_hash\n",
    "valores_unicos, count_hash =  hash_analysis(train_hash)\n",
    "print(\"Realizado\")"
   ]
  },
  {
   "cell_type": "code",
   "execution_count": 20,
   "metadata": {
    "collapsed": false
   },
   "outputs": [
    {
     "name": "stdout",
     "output_type": "stream",
     "text": [
      "Cantidad de memorias en tabla hash:  4294967296\n",
      "Entrenamiento----\n",
      "Cantidad de datos a llenar la tabla hash:  8485\n"
     ]
    },
    {
     "data": {
      "image/png": "[encoded data removed]",
      "text/plain": [
       "<Figure size 1008x432 with 1 Axes>"
      ]
     },
     "metadata": {},
     "output_type": "display_data"
    },
    {
     "name": "stdout",
     "output_type": "stream",
     "text": [
      "Cantidad de memorias ocupadas:  8108\n",
      "Validación-----\n",
      "Cantidad de datos a llenar la tabla hash:  2829\n"
     ]
    },
    {
     "data": {
      "image/png": "[encoded data removed]",
      "text/plain": [
       "<Figure size 1008x432 with 1 Axes>"
      ]
     },
     "metadata": {},
     "output_type": "display_data"
    },
    {
     "name": "stdout",
     "output_type": "stream",
     "text": [
      "Cantidad de memorias ocupadas:  2756\n"
     ]
    }
   ],
   "source": [
    "print(\"Cantidad de memorias en tabla hash: \",2**train_hash.shape[1])\n",
    "\n",
    "valores_unicos, count_hash =  hash_analysis(train_hash)\n",
    "print(\"Entrenamiento----\")\n",
    "print(\"Cantidad de datos a llenar la tabla hash: \",train_hash.shape[0])\n",
    "plt.figure(figsize=(14,6))\n",
    "plt.plot(sorted(list(count_hash.values()))[::-1],'bo-')\n",
    "plt.title(\"Cantidad de datos por celda/memoria en tabla hash\")\n",
    "#plt.xlim(-1)\n",
    "plt.show()\n",
    "print(\"Cantidad de memorias ocupadas: \",len(valores_unicos))\n",
    "\n",
    "valores_unicos, count_hash =  hash_analysis(val_hash)\n",
    "print(\"Validación-----\")\n",
    "print(\"Cantidad de datos a llenar la tabla hash: \",val_hash.shape[0])\n",
    "plt.figure(figsize=(14,6))\n",
    "plt.plot(sorted(list(count_hash.values()))[::-1],'bo-')\n",
    "plt.title(\"Cantidad de datos por celda/memoria en tabla hash\")\n",
    "#plt.xlim(-1)\n",
    "plt.show()\n",
    "print(\"Cantidad de memorias ocupadas: \",len(valores_unicos))"
   ]
  },
  {
   "cell_type": "markdown",
   "metadata": {},
   "source": [
    "se ocupan varias celdas de memorias gracias a la restricción de las variables latentes en el VAE"
   ]
  },
  {
   "cell_type": "code",
   "execution_count": null,
   "metadata": {
    "collapsed": true
   },
   "outputs": [],
   "source": []
  },
  {
   "cell_type": "code",
   "execution_count": 31,
   "metadata": {
    "collapsed": false,
    "scrolled": true
   },
   "outputs": [
    {
     "data": {
      "text/plain": [
       "array([[2.6172131e-06, 2.8746104e-05, 3.2126914e-06, ..., 1.0260586e-06,\n",
       "        4.4227154e-06, 1.9489189e-06],\n",
       "       [1.4434522e-05, 1.5676030e-04, 2.0504638e-05, ..., 2.2553264e-05,\n",
       "        7.7611148e-06, 9.9000654e-06]], dtype=float32)"
      ]
     },
     "execution_count": 31,
     "metadata": {},
     "output_type": "execute_result"
    }
   ],
   "source": [
    "#generar un dato\n",
    "\n",
    "#----- dada una probabilidad sobre el codigo\n",
    "def sampling(aux):\n",
    "    logits_b = K.log(aux/(1-aux) + K.epsilon() )\n",
    "    b = logits_b + sample_gumbel(K.shape(logits_b)) # logits + gumbel noise\n",
    "    return keras.activations.sigmoid( b/1 )\n",
    "\n",
    "proba_b = np.random.rand(2,Nb).astype('float32')\n",
    "b = sampling(proba_b).eval(session=K.get_session())\n",
    "\n",
    "#----- dado un codigo binario\n",
    "#b = np.ones((2,Nb))\n",
    "\n",
    "reconstruct_data = generator_Bvae.predict(b)\n",
    "reconstruct_data"
   ]
  },
  {
   "cell_type": "code",
   "execution_count": 32,
   "metadata": {
    "collapsed": false
   },
   "outputs": [
    {
     "data": {
      "text/plain": [
       "['glare', 'greec', 'grip', 'narrow', 'lmsc']"
      ]
     },
     "execution_count": 32,
     "metadata": {},
     "output_type": "execute_result"
    }
   ],
   "source": [
    "def get_topk_probably_words(probabilities,K):\n",
    "    order_vocabulary =  np.argsort(probabilities) \n",
    "    tokens_probables = order_vocabulary[:K]  #token mas probables\n",
    "    return list(map(lambda x:idx2token[x] ,tokens_probables))\n",
    "Nb = generator_Bvae.input_shape[1]\n",
    "\n",
    "get_topk_probably_words(reconstruct_data[0],5)"
   ]
  },
  {
   "cell_type": "code",
   "execution_count": 36,
   "metadata": {
    "collapsed": false
   },
   "outputs": [
    {
     "data": {
      "text/plain": [
       "['minist',\n",
       " 'canal',\n",
       " 'clas',\n",
       " 'src',\n",
       " 'hut',\n",
       " 'etc',\n",
       " 'hb9nbi',\n",
       " 'steroid',\n",
       " 'yell',\n",
       " 'healthi',\n",
       " 'kurd',\n",
       " 'appropri',\n",
       " 'telephon',\n",
       " 'prayer',\n",
       " 'sbc']"
      ]
     },
     "execution_count": 36,
     "metadata": {},
     "output_type": "execute_result"
    }
   ],
   "source": [
    "#----- dado un codigo binario\n",
    "b = np.zeros((1,Nb))\n",
    "b[0,0] = 1 #el primer bit\n",
    "\n",
    "reconstruct_data = generator_Bvae.predict(b)\n",
    "get_topk_probably_words(reconstruct_data[0],K=15)"
   ]
  },
  {
   "cell_type": "code",
   "execution_count": null,
   "metadata": {
    "collapsed": true
   },
   "outputs": [],
   "source": [
    "#iterar sobre el resto de los bits y ver sus palabras mas frecuentes"
   ]
  },
  {
   "cell_type": "code",
   "execution_count": null,
   "metadata": {
    "collapsed": true
   },
   "outputs": [],
   "source": [
    "#combinar algunos para ver que pasa (los que se vean prometedores)"
   ]
  },
  {
   "cell_type": "code",
   "execution_count": null,
   "metadata": {
    "collapsed": true
   },
   "outputs": [],
   "source": []
  },
  {
   "cell_type": "markdown",
   "metadata": {},
   "source": [
    "### Referencias\n",
    "---\n",
    "[1] Salakhutdinov, R., & Hinton, G. (2009). *Semantic hashing*. International Journal of Approximate Reasoning, 50(7), 969-978.  \n",
    "[2] Chaidaroon, S., & Fang, Y. (2017, August). *Variational deep semantic hashing for text documents*. In Proceedings of the 40th International ACM SIGIR Conference on Research and Development in Information Retrieval (pp. 75-84). ACM.  \n",
    "[3] Chaidaroon, S., Ebesu, T., & Fang, Y. (2018). *Deep Semantic Text Hashing with Weak Supervision*. SIGIR.  \n",
    "[4] Maddison, C. J., Mnih, A., & Teh, Y. W. (2016). The concrete distribution: A continuous relaxation of discrete random variables. arXiv preprint arXiv:1611.00712.  \n",
    "[5] Jang, E., Gu, S., & Poole, B. (2016). *Categorical reparameterization with gumbel-softmax*. arXiv preprint arXiv:1611.01144."
   ]
  }
 ],
 "metadata": {
  "anaconda-cloud": {},
  "kernelspec": {
   "display_name": "Python [default]",
   "language": "python",
   "name": "python3"
  },
  "language_info": {
   "codemirror_mode": {
    "name": "ipython",
    "version": 3
   },
   "file_extension": ".py",
   "mimetype": "text/x-python",
   "name": "python",
   "nbconvert_exporter": "python",
   "pygments_lexer": "ipython3",
   "version": "3.5.2"
  }
 },
 "nbformat": 4,
 "nbformat_minor": 2
}
