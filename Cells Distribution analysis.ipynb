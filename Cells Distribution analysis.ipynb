{
 "cells": [
  {
   "cell_type": "markdown",
   "metadata": {},
   "source": [
    "### Choose load data"
   ]
  },
  {
   "cell_type": "code",
   "execution_count": null,
   "metadata": {
    "collapsed": true
   },
   "outputs": [],
   "source": []
  },
  {
   "cell_type": "code",
   "execution_count": null,
   "metadata": {
    "collapsed": true
   },
   "outputs": [],
   "source": []
  },
  {
   "cell_type": "code",
   "execution_count": null,
   "metadata": {
    "collapsed": true
   },
   "outputs": [],
   "source": []
  },
  {
   "cell_type": "markdown",
   "metadata": {},
   "source": [
    "### load model"
   ]
  },
  {
   "cell_type": "code",
   "execution_count": null,
   "metadata": {
    "collapsed": true
   },
   "outputs": [],
   "source": [
    "if iamges in name_dat:\n",
    "    type_n = \"VGG\"\n",
    "else:\n",
    "    type_n = \"TFIDF\"\n",
    "\n",
    "BITS_S = 32\n",
    "\n",
    "##load model\n",
    "encoder_Tvae = keras.models.load_model(\"saved_models/\"+name_dat+\"_VAE_\"+str(BITS_S)+\"b_E_\"+type_n+\"_B?.h5\")\n",
    "encoder_Bvae = keras.models.load_model(\"saved_models/\"+name_dat+\"_BVAE_\"+str(BITS_S)+\"b_E_\"+type_n+\"_B?.h5\")\n",
    "encoder_Bvae.summary()"
   ]
  },
  {
   "cell_type": "code",
   "execution_count": null,
   "metadata": {
    "collapsed": true
   },
   "outputs": [],
   "source": []
  },
  {
   "cell_type": "code",
   "execution_count": null,
   "metadata": {
    "collapsed": true
   },
   "outputs": [],
   "source": []
  },
  {
   "cell_type": "code",
   "execution_count": null,
   "metadata": {
    "collapsed": true
   },
   "outputs": [],
   "source": [
    "def plot_cells_distribution(Nb,train_hash,test_hash=[]):\n",
    "    print(\"Cantidad de memorias en tabla hash: \",2**Nb)\n",
    "\n",
    "    valores_unicos, count_hash =  hash_analysis(train_hash)\n",
    "    print(\"Entrenamiento----\")\n",
    "    print(\"Cantidad de datos a llenar la tabla hash: \",train_hash.shape[0])\n",
    "    plt.figure(figsize=(14,4))\n",
    "    plt.plot(sorted(list(count_hash.values()))[::-1],'bo-')\n",
    "    plt.title(\"Cantidad de datos por celda/memoria en tabla hash\")\n",
    "    plt.show()\n",
    "    print(\"Cantidad de memorias ocupadas: \",len(valores_unicos))\n",
    "    if len(test_hash) != 0:\n",
    "        valores_unicos, count_hash =  hash_analysis(test_hash)\n",
    "        print(\"Pruebas-----\")\n",
    "        print(\"Cantidad de datos a llenar la tabla hash: \",test_hash.shape[0])\n",
    "        plt.figure(figsize=(14,4))\n",
    "        plt.plot(sorted(list(count_hash.values()))[::-1],'bo-')\n",
    "        plt.title(\"Cantidad de datos por celda/memoria en tabla hash\")\n",
    "        plt.show()\n",
    "        print(\"Cantidad de memorias ocupadas: \",len(valores_unicos))"
   ]
  },
  {
   "cell_type": "code",
   "execution_count": null,
   "metadata": {
    "collapsed": true
   },
   "outputs": [],
   "source": []
  },
  {
   "cell_type": "code",
   "execution_count": null,
   "metadata": {
    "collapsed": true
   },
   "outputs": [],
   "source": [
    "from utils import calculate_hash, compare_cells_plot"
   ]
  },
  {
   "cell_type": "code",
   "execution_count": null,
   "metadata": {
    "collapsed": true
   },
   "outputs": [],
   "source": [
    "#plot together--16 bits\n",
    "\n",
    "train_hash2 = calculate_hash(encoder_Tvae.predict(X_total_input), from_probas=False)\n",
    "test_hash2 = calculate_hash(encoder_Tvae.predict(X_test_input),  from_probas=False)\n",
    "\n",
    "compare_cells_plot(Nb,train_hash,train_hash2,test_hash,test_hash2)"
   ]
  }
 ],
 "metadata": {
  "anaconda-cloud": {},
  "kernelspec": {
   "display_name": "Python [conda env:tesis]",
   "language": "python",
   "name": "conda-env-tesis-py"
  },
  "language_info": {
   "codemirror_mode": {
    "name": "ipython",
    "version": 3
   },
   "file_extension": ".py",
   "mimetype": "text/x-python",
   "name": "python",
   "nbconvert_exporter": "python",
   "pygments_lexer": "ipython3",
   "version": "3.5.3"
  }
 },
 "nbformat": 4,
 "nbformat_minor": 1
}
