{
 "cells": [
  {
   "cell_type": "markdown",
   "metadata": {},
   "source": [
    "<img src=\"http://www.exalumnos.usm.cl/wp-content/uploads/2015/06/Isotipo-Negro.gif\" title=\"Title text\" width=\"20%\" height=\"20%\" />\n",
    "\n",
    "\n",
    "<hr style=\"height:2px;border:none\"/>\n",
    "<h1 align='center'> Binary Variational Semantic Hashing </h1>\n",
    "\n",
    "<H3 align='center'> Extensión trabajo CIARP </H3>\n",
    "<hr style=\"height:2px;border:none\"/>"
   ]
  },
  {
   "cell_type": "code",
   "execution_count": 1,
   "metadata": {
    "collapsed": false,
    "scrolled": false
   },
   "outputs": [
    {
     "name": "stderr",
     "output_type": "stream",
     "text": [
      "/home/fmena/anaconda3/envs/tesis/lib/python3.5/site-packages/h5py/__init__.py:34: FutureWarning: Conversion of the second argument of issubdtype from `float` to `np.floating` is deprecated. In future, it will be treated as `np.float64 == np.dtype(float).type`.\n",
      "  from ._conv import register_converters as _register_converters\n",
      "Using TensorFlow backend.\n",
      "/home/fmena/.local/lib/python3.5/site-packages/tensorflow/python/framework/dtypes.py:469: FutureWarning: Passing (type, 1) or '1type' as a synonym of type is deprecated; in a future version of numpy, it will be understood as (type, (1,)) / '(1,)type'.\n",
      "  _np_qint8 = np.dtype([(\"qint8\", np.int8, 1)])\n",
      "/home/fmena/.local/lib/python3.5/site-packages/tensorflow/python/framework/dtypes.py:470: FutureWarning: Passing (type, 1) or '1type' as a synonym of type is deprecated; in a future version of numpy, it will be understood as (type, (1,)) / '(1,)type'.\n",
      "  _np_quint8 = np.dtype([(\"quint8\", np.uint8, 1)])\n",
      "/home/fmena/.local/lib/python3.5/site-packages/tensorflow/python/framework/dtypes.py:471: FutureWarning: Passing (type, 1) or '1type' as a synonym of type is deprecated; in a future version of numpy, it will be understood as (type, (1,)) / '(1,)type'.\n",
      "  _np_qint16 = np.dtype([(\"qint16\", np.int16, 1)])\n",
      "/home/fmena/.local/lib/python3.5/site-packages/tensorflow/python/framework/dtypes.py:472: FutureWarning: Passing (type, 1) or '1type' as a synonym of type is deprecated; in a future version of numpy, it will be understood as (type, (1,)) / '(1,)type'.\n",
      "  _np_quint16 = np.dtype([(\"quint16\", np.uint16, 1)])\n",
      "/home/fmena/.local/lib/python3.5/site-packages/tensorflow/python/framework/dtypes.py:473: FutureWarning: Passing (type, 1) or '1type' as a synonym of type is deprecated; in a future version of numpy, it will be understood as (type, (1,)) / '(1,)type'.\n",
      "  _np_qint32 = np.dtype([(\"qint32\", np.int32, 1)])\n",
      "/home/fmena/.local/lib/python3.5/site-packages/tensorflow/python/framework/dtypes.py:476: FutureWarning: Passing (type, 1) or '1type' as a synonym of type is deprecated; in a future version of numpy, it will be understood as (type, (1,)) / '(1,)type'.\n",
      "  np_resource = np.dtype([(\"resource\", np.ubyte, 1)])\n"
     ]
    }
   ],
   "source": [
    "import numpy as np\n",
    "import keras,gc, os, time, sys\n",
    "from keras.layers import *\n",
    "from keras.models import Sequential,Model\n",
    "from keras import backend as K\n",
    "from astropy.table import Table\n",
    "import matplotlib.pyplot as plt\n",
    "import seaborn as sns\n",
    "import pandas as pd\n",
    "from PIL import Image\n",
    "from scipy.special import expit\n",
    "\n",
    "from base_networks import *\n",
    "from utils import check_availability, load_imgs_mask\n",
    "\n",
    "from utils import get_topK_labels,set_newlabel_list, enmask_data\n",
    "\n",
    "np.random.seed(20)"
   ]
  },
  {
   "cell_type": "markdown",
   "metadata": {},
   "source": [
    "## Load Data\n",
    "\n",
    "### MNIST\n",
    "---\n",
    "\n",
    "Imágenes en blanco y negro de 28x28 píxeles, de números del 0 al 9, que dan orígen a las 10 clases del problema.\n",
    "\n",
    "|Tipo set|Datos|Label|\n",
    "|---|---|---|\n",
    "|Entrenamiento|60000|10|\n",
    "|Pruebas|10000|10|"
   ]
  },
  {
   "cell_type": "code",
   "execution_count": 2,
   "metadata": {
    "collapsed": false
   },
   "outputs": [
    {
     "data": {
      "text/plain": [
       "(70000, 512)"
      ]
     },
     "execution_count": 2,
     "metadata": {},
     "output_type": "execute_result"
    }
   ],
   "source": [
    "name_dat = \"MNIST\"\n",
    "\n",
    "(_, aux_t), (_, aux_test) = keras.datasets.mnist.load_data()\n",
    "labels = [\"0\", \"1\", \"2\", \"3\", \"4\", \"5\", \"6\", \"7\", \"8\", \"9\"]\n",
    "labels_t = np.asarray([labels[value] for value in aux_t])\n",
    "labels_test = np.asarray([labels[value] for value in aux_test])\n",
    "labels_t = np.concatenate((labels_t,labels_test),axis=0)\n",
    "\n",
    "X_t = np.load(\"./Data/VGG_CNN/mnist_VGG_avg.npy\")\n",
    "\n",
    "X_t.shape"
   ]
  },
  {
   "cell_type": "code",
   "execution_count": 3,
   "metadata": {
    "collapsed": false
   },
   "outputs": [
    {
     "name": "stdout",
     "output_type": "stream",
     "text": [
      "Cantidad de datos Entrenamiento:  69000\n",
      "Cantidad de datos Pruebas:  1000\n"
     ]
    }
   ],
   "source": [
    "##### 1000 imagenes de prueba... \n",
    "from utils import sample_test_mask\n",
    "mask_train = sample_test_mask(labels_t, N=100, multi_label=False)\n",
    "\n",
    "## creat test como dicen...\n",
    "X_test = X_t[~mask_train]\n",
    "X_t = X_t[mask_train]\n",
    "labels_test = enmask_data(labels_t, ~mask_train)\n",
    "labels_t = enmask_data(labels_t, mask_train)\n",
    "\n",
    "gc.collect()\n",
    "print(\"Cantidad de datos Entrenamiento: \",len(X_t))\n",
    "print(\"Cantidad de datos Pruebas: \",len(X_test))"
   ]
  },
  {
   "cell_type": "markdown",
   "metadata": {
    "collapsed": true
   },
   "source": [
    "### CIFAR-10\n",
    "---\n",
    "Imágenes RGB pequeñas de  32x32 píxeles, de fotos naturales de distintos objetos.\n",
    "\n",
    "|Tipo set|Datos|Label|\n",
    "|---|---|---|\n",
    "|Entrenamiento|50000|10|\n",
    "|Pruebas|10000|10|"
   ]
  },
  {
   "cell_type": "code",
   "execution_count": 35,
   "metadata": {
    "collapsed": false,
    "scrolled": false
   },
   "outputs": [
    {
     "data": {
      "text/plain": [
       "(60000, 512)"
      ]
     },
     "execution_count": 35,
     "metadata": {},
     "output_type": "execute_result"
    }
   ],
   "source": [
    "name_dat = \"CIFAR-10\"\n",
    "\n",
    "(_, aux_t), (_, aux_test) = keras.datasets.cifar10.load_data()\n",
    "\n",
    "labels = [\"airplane\", \"automobile\",\"bird\", \"cat\",\"deer\",\"dog\",\"frog\",\"horse\",\"ship\",\"truck\"]\n",
    "labels_t = np.asarray([labels[value[0]] for value in aux_t])\n",
    "labels_test = np.asarray([labels[value[0]] for value in aux_test])\n",
    "labels_t = np.concatenate((labels_t,labels_test),axis=0)\n",
    "\n",
    "X_t = np.load(\"./Data/VGG_CNN/cifar10_VGG_avg.npy\")\n",
    "X_t.shape"
   ]
  },
  {
   "cell_type": "code",
   "execution_count": 36,
   "metadata": {
    "collapsed": false
   },
   "outputs": [
    {
     "name": "stdout",
     "output_type": "stream",
     "text": [
      "Cantidad de datos Entrenamiento:  59000\n",
      "Cantidad de datos Pruebas:  1000\n"
     ]
    }
   ],
   "source": [
    "##### 1000 imagenes de prueba... \n",
    "from utils import sample_test_mask\n",
    "mask_train = sample_test_mask(labels_t, N=100, multi_label=False)\n",
    "\n",
    "## creat test como dicen...\n",
    "X_test = X_t[~mask_train]\n",
    "X_t = X_t[mask_train]\n",
    "labels_test = enmask_data(labels_t, ~mask_train)\n",
    "labels_t = enmask_data(labels_t, mask_train)\n",
    "\n",
    "gc.collect()\n",
    "print(\"Cantidad de datos Entrenamiento: \",len(X_t))\n",
    "print(\"Cantidad de datos Pruebas: \",len(X_test))"
   ]
  },
  {
   "cell_type": "markdown",
   "metadata": {},
   "source": [
    "### NUSWIDE\n",
    "---\n",
    "* Cantidad de datos totales: 269648\n",
    "* Datos utlizados (con imagenes disponibles a descargar): 169500\n",
    "* Datos top-21 clases: 158383\n",
    "\n",
    "Imágenes de eventos con 81 tópicos asociados, re-dimensionadas a 64x64.\n",
    "\n",
    "|Tipo set|Datos|Label|\n",
    "|---|---|---|\n",
    "|Entrenamiento|xxx|81|\n",
    "|Validación|xxx|81|\n",
    "|Pruebas|xxx|81|"
   ]
  },
  {
   "cell_type": "code",
   "execution_count": 64,
   "metadata": {
    "collapsed": false,
    "scrolled": true
   },
   "outputs": [
    {
     "name": "stdout",
     "output_type": "stream",
     "text": [
      "Cantidad de labels:  81\n",
      "Cantidad de objetos:  169500\n"
     ]
    },
    {
     "data": {
      "text/plain": [
       "[['person'], ['person'], ['person'], ['person'], ['person']]"
      ]
     },
     "execution_count": 64,
     "metadata": {},
     "output_type": "execute_result"
    }
   ],
   "source": [
    "name_dat = \"Nus-Wide\"\n",
    "\n",
    "folder = \"../Dataset_NUSWIDE/\"\n",
    "folder_imgs_name = folder+\"small_images/\"\n",
    "\n",
    "mask_av = np.loadtxt(\"./Data/\"+name_dat+\"_mask_avail.txt\").astype(bool)\n",
    "\n",
    "labels = pd.read_csv(folder+'Concepts81.txt',header=None).values.reshape(1,-1)[0]\n",
    "print(\"Cantidad de labels: \",len(labels) )\n",
    "\n",
    "labels_t = [[] for _ in range(269648)]\n",
    "for concept in labels:\n",
    "    aux = pd.read_csv(folder+\"Groundtruth/AllLabels/Labels_\"+concept+\".txt\",header=None)\n",
    "    indexs_true = aux.loc[(aux==1).values[:,0]].index\n",
    "    \n",
    "    for value in indexs_true:\n",
    "        labels_t[value].append(concept)\n",
    "        \n",
    "labels_t = enmask_data(labels_t, mask_av)\n",
    "N_total = len(labels_t)\n",
    "print(\"Cantidad de objetos: \",N_total )\n",
    "\n",
    "labels_t[:5]"
   ]
  },
  {
   "cell_type": "markdown",
   "metadata": {},
   "source": [
    "#### get top-K labels data"
   ]
  },
  {
   "cell_type": "code",
   "execution_count": 65,
   "metadata": {
    "collapsed": false
   },
   "outputs": [
    {
     "name": "stdout",
     "output_type": "stream",
     "text": [
      "category with most data (sky) has = 61066, the top-K category (mountain) has = 4232\n",
      "Cantidad de objetos:  158383\n"
     ]
    }
   ],
   "source": [
    "new_labels = get_topK_labels(labels_t, labels, K=21)\n",
    "\n",
    "labels_t = set_newlabel_list(new_labels, labels_t)\n",
    "labels = new_labels\n",
    "# y si quedan datos sin clase?\n",
    "mask_used_t = np.asarray(list(map(len,labels_t))) != 0\n",
    "\n",
    "labels_t = enmask_data(labels_t, mask_used_t)\n",
    "print(\"Cantidad de objetos: \", len(labels_t) )"
   ]
  },
  {
   "cell_type": "markdown",
   "metadata": {},
   "source": [
    "N_used = 80*1000 #o 150k??\n",
    "idx_all = np.arange(0, N_total)\n",
    "mask_used = np.zeros(N_total, dtype=bool)\n",
    "mask_used[np.random.choice(np.arange(0, N_total), size=N_used, replace=False)] = 1\n",
    "mask_used"
   ]
  },
  {
   "cell_type": "code",
   "execution_count": 66,
   "metadata": {
    "collapsed": false,
    "scrolled": true
   },
   "outputs": [
    {
     "data": {
      "text/plain": [
       "(158383, 512)"
      ]
     },
     "execution_count": 66,
     "metadata": {},
     "output_type": "execute_result"
    }
   ],
   "source": [
    "#X_t = np.load(\"./Data/VGG_CNN/nuswide_VGG.npy\")\n",
    "X_t = np.load(\"./Data/VGG_CNN/nuswide_VGG_avg.npy\")\n",
    "X_t.shape"
   ]
  },
  {
   "cell_type": "code",
   "execution_count": 67,
   "metadata": {
    "collapsed": false
   },
   "outputs": [
    {
     "name": "stdout",
     "output_type": "stream",
     "text": [
      "Cantidad de datos Entrenamiento:  156283\n",
      "Cantidad de datos Pruebas:  2100\n"
     ]
    }
   ],
   "source": [
    "from utils import sample_test_mask\n",
    "mask_train = sample_test_mask(labels_t, N=100)\n",
    "\n",
    "## creat test como dicen...\n",
    "X_test = X_t[~mask_train]\n",
    "X_t = X_t[mask_train]\n",
    "labels_test = enmask_data(labels_t, ~mask_train)\n",
    "labels_t = enmask_data(labels_t, mask_train)\n",
    "\n",
    "gc.collect()\n",
    "print(\"Cantidad de datos Entrenamiento: \",len(X_t))\n",
    "print(\"Cantidad de datos Pruebas: \",len(X_test))"
   ]
  },
  {
   "cell_type": "markdown",
   "metadata": {
    "collapsed": true
   },
   "source": [
    "### CelebA\n",
    "---\n",
    "* Cantidad de datos totales: 202599\n",
    "* Datos en plataforma Kaggle:https://www.kaggle.com/jessicali9530/celeba-dataset \n",
    "\n",
    "Imágenes RGB re-dimensionadas a 64x64 píxeles, de fotos naturales de rostros de celebridades. Una muestra es utilizada\n",
    "\n",
    "|Tipo set|Datos|Label|\n",
    "|---|---|---|\n",
    "|Entrenamiento|xxx|40|\n",
    "|Validación|xxx|40|\n",
    "|Pruebas|xxx|40|"
   ]
  },
  {
   "cell_type": "markdown",
   "metadata": {},
   "source": [
    "mask_av = check_availability(folder+\"small_images/\", labels_t)\n",
    "np.savetxt(\"./Data/+\"name_dat+\"_mask_avail.txt\", mask_av, fmt=\"%1i\")"
   ]
  },
  {
   "cell_type": "code",
   "execution_count": 3,
   "metadata": {
    "collapsed": false
   },
   "outputs": [
    {
     "data": {
      "image/png": "[encoded data removed]",
      "text/plain": [
       "<matplotlib.figure.Figure at 0x7f3c7d4d74a8>"
      ]
     },
     "metadata": {},
     "output_type": "display_data"
    }
   ],
   "source": [
    "sns.boxplot(list(map(len,labels_t)))\n",
    "plt.title(\"Boxplot de cantidad de topics por imagen\")\n",
    "plt.show()"
   ]
  },
  {
   "cell_type": "code",
   "execution_count": 33,
   "metadata": {
    "collapsed": false,
    "scrolled": true
   },
   "outputs": [
    {
     "name": "stdout",
     "output_type": "stream",
     "text": [
      "Cantidad de labels:  40\n",
      "Cantidad de objetos:  202599\n"
     ]
    },
    {
     "data": {
      "text/plain": [
       "['5_o_Clock_Shadow',\n",
       " 'Arched_Eyebrows',\n",
       " 'Attractive',\n",
       " 'Bags_Under_Eyes',\n",
       " 'Bald']"
      ]
     },
     "execution_count": 33,
     "metadata": {},
     "output_type": "execute_result"
    }
   ],
   "source": [
    "name_dat = \"CelebA\"\n",
    "mask_av = np.loadtxt(\"./Data/\"+name_dat+\"_mask_avail.txt\").astype(bool)\n",
    "\n",
    "folder = \"../CelebA/\"\n",
    "\n",
    "part = pd.read_csv(folder+\"list_eval_partition.csv\")\n",
    "mask_train = (part[\"partition\"].values == 0)[mask_av]\n",
    "mask_val = (part[\"partition\"].values == 1)[mask_av]\n",
    "mask_test = (part[\"partition\"].values == 2)[mask_av]\n",
    "\n",
    "df_atrr = pd.read_csv(folder+\"list_attr_celeba.csv\")[mask_av]\n",
    "img_names = df_atrr[\"image_id\"].values\n",
    "labels = list(df_atrr.columns[1:])\n",
    "print(\"Cantidad de labels: \",len(labels) )\n",
    "\n",
    "N_total = len(df_atrr)\n",
    "print(\"Cantidad de objetos: \",N_total )\n",
    "aux = (df_atrr == 1).values\n",
    "labels_t = np.asarray([list(df_atrr.columns[aux[value]]) for value in range(N_total)])\n",
    "labels[:5]"
   ]
  },
  {
   "cell_type": "code",
   "execution_count": 34,
   "metadata": {
    "collapsed": true
   },
   "outputs": [],
   "source": [
    "mask_used= np.ones(N_total, dtype=bool)"
   ]
  },
  {
   "cell_type": "markdown",
   "metadata": {
    "collapsed": false
   },
   "source": [
    "N_used = 80*1000 #o 150k??\n",
    "idx_all = np.arange(0, N_total)\n",
    "mask_used = np.zeros(N_total, dtype=bool)\n",
    "mask_used[np.random.choice(np.arange(0, N_total), size=N_used, replace=False)] = 1\n",
    "mask_used"
   ]
  },
  {
   "cell_type": "markdown",
   "metadata": {
    "collapsed": true
   },
   "source": [
    "#### get top-K labels data\n",
    "* Elije 6, para realizar un enfoque mas centrado: http://openaccess.thecvf.com/content_cvpr_2017/papers/Shen_Learning_Residual_Images_CVPR_2017_paper.pdf:\n",
    "* Elije 7: https://arxiv.org/pdf/1804.08882.pdf"
   ]
  },
  {
   "cell_type": "code",
   "execution_count": 4,
   "metadata": {
    "collapsed": false,
    "scrolled": false
   },
   "outputs": [
    {
     "name": "stdout",
     "output_type": "stream",
     "text": [
      "category with most data (No_Beard) has = 169158, the top-K category (Bangs) has = 30709\n",
      "Cantidad de objetos:  202586\n"
     ]
    },
    {
     "data": {
      "image/png": "[encoded data removed]",
      "text/plain": [
       "<matplotlib.figure.Figure at 0x7f6fd87436a0>"
      ]
     },
     "metadata": {},
     "output_type": "display_data"
    }
   ],
   "source": [
    "new_labels = get_topK_labels(labels_t, labels, K=??)\n",
    "\n",
    "labels_t = set_newlabel_list(new_labels, labels_t)\n",
    "labels = new_labels\n",
    "# y si quedan datos sin clase?\n",
    "mask_used_t = np.asarray(list(map(len,labels_t))) != 0\n",
    "print(\"Cantidad de objetos: \", np.sum(mask_used_t) )\n",
    "\n",
    "sns.boxplot(list(map(len,labels_t)))\n",
    "plt.title(\"Boxplot de cantidad de topics por imagen\")\n",
    "plt.show()\n",
    "\n",
    "mask_used = mask_used_t"
   ]
  },
  {
   "cell_type": "code",
   "execution_count": null,
   "metadata": {
    "collapsed": true
   },
   "outputs": [],
   "source": []
  },
  {
   "cell_type": "code",
   "execution_count": 35,
   "metadata": {
    "collapsed": false,
    "scrolled": true
   },
   "outputs": [
    {
     "name": "stdout",
     "output_type": "stream",
     "text": [
      "El contador de lectura va en:  0\n",
      "El contador de lectura va en:  10000\n",
      "El contador de lectura va en:  20000\n",
      "El contador de lectura va en:  30000\n",
      "El contador de lectura va en:  40000\n",
      "El contador de lectura va en:  50000\n",
      "El contador de lectura va en:  60000\n",
      "El contador de lectura va en:  70000\n",
      "El contador de lectura va en:  80000\n",
      "El contador de lectura va en:  90000\n",
      "El contador de lectura va en:  100000\n",
      "El contador de lectura va en:  110000\n",
      "El contador de lectura va en:  120000\n",
      "El contador de lectura va en:  130000\n",
      "El contador de lectura va en:  140000\n",
      "El contador de lectura va en:  150000\n",
      "El contador de lectura va en:  160000\n",
      "El contador de lectura va en:  170000\n",
      "El contador de lectura va en:  180000\n",
      "El contador de lectura va en:  190000\n",
      "El contador de lectura va en:  200000\n"
     ]
    },
    {
     "data": {
      "text/plain": [
       "(202599, 64, 64, 3)"
      ]
     },
     "execution_count": 35,
     "metadata": {},
     "output_type": "execute_result"
    }
   ],
   "source": [
    "imgs_files = [folder+ \"imgs_celebA/\"+ name for name in img_names]\n",
    "\n",
    "X_t = load_imgs_mask(imgs_files, mask_used, size=64) #images names to load\n",
    "X_t.shape"
   ]
  },
  {
   "cell_type": "code",
   "execution_count": 36,
   "metadata": {
    "collapsed": false
   },
   "outputs": [
    {
     "name": "stdout",
     "output_type": "stream",
     "text": [
      "Cantidad de datos Entrenamiento:  162770\n",
      "Cantidad de datos Validación:  19867\n",
      "Cantidad de datos Pruebas:  19962\n"
     ]
    }
   ],
   "source": [
    "#create sets \n",
    "X_t = X_t.astype('float32')/255.\n",
    "X_train = X_t[mask_train[mask_used]]\n",
    "X_val = X_t[mask_val[mask_used]]\n",
    "X_test = X_t[mask_test[mask_used]]\n",
    "\n",
    "labels_train = enmask_data(labels_t, mask_train & mask_used)\n",
    "labels_val = enmask_data(labels_t, mask_val & mask_used)\n",
    "labels_test = enmask_data(labels_t, mask_test & mask_used)\n",
    "\n",
    "del X_t,mask_train,mask_val,mask_test,mask_used\n",
    "gc.collect()\n",
    "print(\"Cantidad de datos Entrenamiento: \",len(X_train))\n",
    "print(\"Cantidad de datos Validación: \",len(X_val))\n",
    "print(\"Cantidad de datos Pruebas: \",len(X_test))"
   ]
  },
  {
   "cell_type": "markdown",
   "metadata": {},
   "source": [
    "### Validation creation\n",
    "\n",
    "Pre-process: División por 255"
   ]
  },
  {
   "cell_type": "code",
   "execution_count": 68,
   "metadata": {
    "collapsed": false,
    "scrolled": false
   },
   "outputs": [
    {
     "data": {
      "text/plain": [
       "array([[ 1.0543548 , -0.2899526 , -0.30450055, ...,  1.2545158 ,\n",
       "         0.01070761,  0.26156828],\n",
       "       [-0.35999978, -0.2899526 , -0.30450055, ..., -0.25361902,\n",
       "        -0.5854287 ,  3.2367811 ],\n",
       "       [-0.35999978, -0.2899526 , -0.30450055, ...,  2.5878298 ,\n",
       "        -0.5854287 , -0.5024205 ],\n",
       "       ...,\n",
       "       [-0.35999978, -0.2899526 , -0.30450055, ..., -0.25361902,\n",
       "        -0.5854287 ,  0.03787274],\n",
       "       [ 0.2232532 , -0.2899526 ,  3.9922724 , ..., -0.25361902,\n",
       "        -0.2967869 , -0.2227482 ],\n",
       "       [-0.23848386,  1.7243105 , -0.30450055, ...,  0.4786196 ,\n",
       "         0.48314062, -0.08191983]], dtype=float32)"
      ]
     },
     "execution_count": 68,
     "metadata": {},
     "output_type": "execute_result"
    }
   ],
   "source": [
    "from sklearn.preprocessing import StandardScaler\n",
    "std = StandardScaler(with_mean=True, with_std=True)\n",
    "std.fit(X_t)\n",
    "\n",
    "X_t = std.transform(X_t)\n",
    "X_test = std.transform(X_test)\n",
    "X_t"
   ]
  },
  {
   "cell_type": "code",
   "execution_count": 69,
   "metadata": {
    "collapsed": false,
    "scrolled": true
   },
   "outputs": [
    {
     "name": "stdout",
     "output_type": "stream",
     "text": [
      "Cantidad de datos Entrenamiento:  154183\n",
      "Cantidad de datos Validación:  2100\n",
      "Cantidad de datos Pruebas:  2100\n"
     ]
    },
    {
     "data": {
      "text/plain": [
       "10"
      ]
     },
     "execution_count": 69,
     "metadata": {},
     "output_type": "execute_result"
    }
   ],
   "source": [
    "from sklearn.model_selection import train_test_split\n",
    "X_train, X_val, labels_train, labels_val  = train_test_split(X_t, labels_t, random_state=20,test_size=len(X_test))\n",
    "\n",
    "print(\"Cantidad de datos Entrenamiento: \",len(X_train))\n",
    "print(\"Cantidad de datos Validación: \",len(X_val))\n",
    "print(\"Cantidad de datos Pruebas: \",len(X_test))\n",
    "del X_t, labels_t\n",
    "gc.collect()"
   ]
  },
  {
   "cell_type": "markdown",
   "metadata": {},
   "source": [
    "### Model Architecture\n",
    "---\n",
    "CNN\n",
    "https://github.com/rtflynn/Cifar-Autoencoder"
   ]
  },
  {
   "cell_type": "code",
   "execution_count": 70,
   "metadata": {
    "collapsed": false
   },
   "outputs": [
    {
     "data": {
      "text/plain": [
       "0.001953125"
      ]
     },
     "execution_count": 70,
     "metadata": {},
     "output_type": "execute_result"
    }
   ],
   "source": [
    "def REC_loss(x_true, x_pred):\n",
    "    return keras.losses.mean_squared_error(x_true, x_pred)\n",
    "\n",
    "beta = 1/np.prod(X_train.shape[1:]) #solo porque Recloss tiene un mean\n",
    "beta"
   ]
  },
  {
   "cell_type": "code",
   "execution_count": 71,
   "metadata": {
    "collapsed": false,
    "scrolled": true
   },
   "outputs": [
    {
     "name": "stdout",
     "output_type": "stream",
     "text": [
      "pre-encoder network:\n",
      "_________________________________________________________________\n",
      "Layer (type)                 Output Shape              Param #   \n",
      "=================================================================\n",
      "input_7 (InputLayer)         (None, 512)               0         \n",
      "_________________________________________________________________\n",
      "dense_9 (Dense)              (None, 500)               256500    \n",
      "_________________________________________________________________\n",
      "batch_normalization_7 (Batch (None, 500)               2000      \n",
      "_________________________________________________________________\n",
      "dense_10 (Dense)             (None, 500)               250500    \n",
      "_________________________________________________________________\n",
      "batch_normalization_8 (Batch (None, 500)               2000      \n",
      "=================================================================\n",
      "Total params: 511,000\n",
      "Trainable params: 509,000\n",
      "Non-trainable params: 2,000\n",
      "_________________________________________________________________\n",
      "generator network:\n",
      "_________________________________________________________________\n",
      "Layer (type)                 Output Shape              Param #   \n",
      "=================================================================\n",
      "input_8 (InputLayer)         (None, 32)                0         \n",
      "_________________________________________________________________\n",
      "dense_11 (Dense)             (None, 512)               16896     \n",
      "=================================================================\n",
      "Total params: 16,896\n",
      "Trainable params: 16,896\n",
      "Non-trainable params: 0\n",
      "_________________________________________________________________\n",
      "____________________________________________________________________________________________________\n",
      "Layer (type)                     Output Shape          Param #     Connected to                     \n",
      "====================================================================================================\n",
      "input_9 (InputLayer)             (None, 512)           0                                            \n",
      "____________________________________________________________________________________________________\n",
      "pre-encoder (Sequential)         (None, 500)           511000      input_9[0][0]                    \n",
      "____________________________________________________________________________________________________\n",
      "z-mean (Dense)                   (None, 32)            16032       pre-encoder[1][0]                \n",
      "____________________________________________________________________________________________________\n",
      "z-log_var (Dense)                (None, 32)            16032       pre-encoder[1][0]                \n",
      "____________________________________________________________________________________________________\n",
      "sampled (Lambda)                 (None, 32)            0           z-mean[0][0]                     \n",
      "                                                                   z-log_var[0][0]                  \n",
      "____________________________________________________________________________________________________\n",
      "generator/decoder (Sequential)   (None, 512)           16896       sampled[0][0]                    \n",
      "====================================================================================================\n",
      "Total params: 559,960\n",
      "Trainable params: 557,960\n",
      "Non-trainable params: 2,000\n",
      "____________________________________________________________________________________________________\n"
     ]
    }
   ],
   "source": [
    "def traditional_VAE(data_dim,Nb,units,layers_e,layers_d,opt='adam',BN=True):\n",
    "    pre_encoder = define_pre_encoder(data_dim, layers=layers_e,units=units,BN=BN)\n",
    "    print(\"pre-encoder network:\")\n",
    "    pre_encoder.summary()\n",
    "    generator = define_generator(Nb,data_dim,layers=layers_d,units=units,BN=BN, out_type='linear')\n",
    "    print(\"generator network:\")\n",
    "    generator.summary()\n",
    "    \n",
    "    ## Encoder\n",
    "    x = Input(shape=(data_dim,))\n",
    "    hidden = pre_encoder(x)\n",
    "    z_mean = Dense(Nb,activation='linear', name='z-mean')(hidden)\n",
    "    z_log_var = Dense(Nb,activation='linear',name = 'z-log_var')(hidden)\n",
    "    encoder = Model(x, z_mean) # build a model to project inputs on the latent space\n",
    "\n",
    "    def sampling(args):\n",
    "        epsilon_std = 1.0\n",
    "        z_mean, z_log_var = args\n",
    "        epsilon = K.random_normal(shape=(K.shape(z_mean)[0], Nb),mean=0., stddev=epsilon_std)\n",
    "        return z_mean + K.exp(0.5*z_log_var) * epsilon #+sigma (desvest)\n",
    "    \n",
    "    ## Decoder\n",
    "    z_sampled = Lambda(sampling, output_shape=(Nb,), name='sampled')([z_mean, z_log_var])\n",
    "    output = generator(z_sampled)\n",
    "    \n",
    "    Recon_loss = REC_loss\n",
    "    kl_loss = KL_loss(z_mean,z_log_var)\n",
    "    def VAE_loss(y_true, y_pred): \n",
    "        return Recon_loss(y_true, y_pred) + beta*kl_loss(y_true, y_pred)\n",
    "\n",
    "    traditional_vae = Model(x, output)\n",
    "    traditional_vae.compile(optimizer=opt, loss=VAE_loss, metrics = [Recon_loss,kl_loss])\n",
    "    return traditional_vae,encoder,generator\n",
    "\n",
    "traditional_vae,encoder_Tvae,generator_Tvae = traditional_VAE(X_train.shape[1],Nb=32,units=500,layers_e=2,layers_d=0)\n",
    "traditional_vae.summary()"
   ]
  },
  {
   "cell_type": "code",
   "execution_count": 72,
   "metadata": {
    "collapsed": false,
    "scrolled": true
   },
   "outputs": [
    {
     "name": "stdout",
     "output_type": "stream",
     "text": [
      "pre-encoder network:\n",
      "_________________________________________________________________\n",
      "Layer (type)                 Output Shape              Param #   \n",
      "=================================================================\n",
      "input_10 (InputLayer)        (None, 512)               0         \n",
      "_________________________________________________________________\n",
      "dense_12 (Dense)             (None, 500)               256500    \n",
      "_________________________________________________________________\n",
      "batch_normalization_9 (Batch (None, 500)               2000      \n",
      "_________________________________________________________________\n",
      "dense_13 (Dense)             (None, 500)               250500    \n",
      "_________________________________________________________________\n",
      "batch_normalization_10 (Batc (None, 500)               2000      \n",
      "=================================================================\n",
      "Total params: 511,000\n",
      "Trainable params: 509,000\n",
      "Non-trainable params: 2,000\n",
      "_________________________________________________________________\n",
      "generator network:\n",
      "_________________________________________________________________\n",
      "Layer (type)                 Output Shape              Param #   \n",
      "=================================================================\n",
      "input_11 (InputLayer)        (None, 32)                0         \n",
      "_________________________________________________________________\n",
      "dense_14 (Dense)             (None, 500)               16500     \n",
      "_________________________________________________________________\n",
      "batch_normalization_11 (Batc (None, 500)               2000      \n",
      "_________________________________________________________________\n",
      "dense_15 (Dense)             (None, 500)               250500    \n",
      "_________________________________________________________________\n",
      "batch_normalization_12 (Batc (None, 500)               2000      \n",
      "_________________________________________________________________\n",
      "dense_16 (Dense)             (None, 512)               256512    \n",
      "=================================================================\n",
      "Total params: 527,512\n",
      "Trainable params: 525,512\n",
      "Non-trainable params: 2,000\n",
      "_________________________________________________________________\n",
      "_________________________________________________________________\n",
      "Layer (type)                 Output Shape              Param #   \n",
      "=================================================================\n",
      "input_12 (InputLayer)        (None, 512)               0         \n",
      "_________________________________________________________________\n",
      "pre-encoder (Sequential)     (None, 500)               511000    \n",
      "_________________________________________________________________\n",
      "logits-b (Dense)             (None, 32)                16032     \n",
      "_________________________________________________________________\n",
      "sampled (Lambda)             (None, 32)                0         \n",
      "_________________________________________________________________\n",
      "generator/decoder (Sequentia (None, 512)               527512    \n",
      "=================================================================\n",
      "Total params: 1,054,544\n",
      "Trainable params: 1,050,544\n",
      "Non-trainable params: 4,000\n",
      "_________________________________________________________________\n"
     ]
    }
   ],
   "source": [
    "def sample_gumbel(shape,eps=K.epsilon()):\n",
    "    \"\"\"Inverse Sample function from Gumbel(0, 1)\"\"\"\n",
    "    U = K.random_uniform(shape, 0, 1)\n",
    "    return K.log(U + eps) - K.log(1-U + eps)\n",
    "\n",
    "def binary_VAE(data_dim,Nb,units,layers_e,layers_d,opt='adam',BN=True):\n",
    "    tau = keras.backend.variable(0.67, name=\"temperature\") #o tau fijo en 0.67=2/3\n",
    "    \n",
    "    pre_encoder = define_pre_encoder(data_dim, layers=layers_e,units=units,BN=BN)\n",
    "    print(\"pre-encoder network:\")\n",
    "    pre_encoder.summary()\n",
    "    generator = define_generator(Nb,data_dim,layers=layers_d,units=units,BN=BN, out_type='linear')\n",
    "    print(\"generator network:\")\n",
    "    generator.summary()\n",
    "\n",
    "    x = Input(shape=(data_dim,))\n",
    "    hidden = pre_encoder(x)\n",
    "    logits_b  = Dense(Nb, activation='linear', name='logits-b')(hidden) #log(B_j/1-B_j)\n",
    "    #proba = np.exp(logits_b)/(1+np.exp(logits_b)) = sigmoidal(logits_b) <<<<<<<<<< recupera probabilidad\n",
    "    #dist = Dense(Nb, activation='sigmoid')(hidden) #p(b) #otra forma de modelarlo\n",
    "    encoder = Model(x, logits_b)\n",
    "\n",
    "    def sampling(logits_b):\n",
    "        #logits_b = K.log(aux/(1-aux) + K.epsilon() )\n",
    "        b = logits_b + sample_gumbel(K.shape(logits_b)) # logits + gumbel noise\n",
    "        return keras.activations.sigmoid( b/tau )\n",
    "\n",
    "    b_sampled = Lambda(sampling, output_shape=(Nb,), name='sampled')(logits_b)\n",
    "    output = generator(b_sampled)\n",
    "\n",
    "    Recon_loss = REC_loss\n",
    "    kl_loss = BKL_loss(logits_b)\n",
    "    def BVAE_loss(y_true, y_pred): \n",
    "        return Recon_loss(y_true, y_pred) + beta*kl_loss(y_true, y_pred)\n",
    "\n",
    "    binary_vae = Model(x, output)\n",
    "    binary_vae.compile(optimizer=opt, loss=BVAE_loss, metrics = [Recon_loss,kl_loss])\n",
    "    return binary_vae, encoder,generator\n",
    "    \n",
    "binary_vae,encoder_Bvae,generator_Bvae = binary_VAE(X_train.shape[1],Nb=32,units=500,layers_e=2,layers_d=2)\n",
    "binary_vae.summary()"
   ]
  },
  {
   "cell_type": "markdown",
   "metadata": {},
   "source": [
    "### Train details\n",
    "---\n",
    "\n",
    "* 30* epochs* \n",
    "* *batch size* de 200\n",
    "* optimizador Adam\n",
    "* Inicializador de Glorot (para los pesos)"
   ]
  },
  {
   "cell_type": "code",
   "execution_count": 73,
   "metadata": {
    "collapsed": true
   },
   "outputs": [],
   "source": [
    "from utils import  compare_hist_train\n",
    "\n",
    "batch_size = 100*2 #ya que son datasets mas grandes\n",
    "epochs = 30 "
   ]
  },
  {
   "cell_type": "code",
   "execution_count": 74,
   "metadata": {
    "collapsed": false,
    "scrolled": true
   },
   "outputs": [
    {
     "name": "stdout",
     "output_type": "stream",
     "text": [
      "Train on 154183 samples, validate on 2100 samples\n",
      "Epoch 1/30\n",
      "154183/154183 [==============================] - 2s - loss: 0.8481 - REC_loss: 0.7826 - KL: 33.5097 - val_loss: 0.7620 - val_REC_loss: 0.6816 - val_KL: 41.1662\n",
      "Epoch 2/30\n",
      "154183/154183 [==============================] - 2s - loss: 0.7608 - REC_loss: 0.6872 - KL: 37.6712 - val_loss: 0.7466 - val_REC_loss: 0.6712 - val_KL: 38.5908\n",
      "Epoch 3/30\n",
      "154183/154183 [==============================] - 2s - loss: 0.7541 - REC_loss: 0.6808 - KL: 37.5373 - val_loss: 0.7454 - val_REC_loss: 0.6699 - val_KL: 38.6954\n",
      "Epoch 4/30\n",
      "154183/154183 [==============================] - 2s - loss: 0.7518 - REC_loss: 0.6784 - KL: 37.5762 - val_loss: 0.7428 - val_REC_loss: 0.6676 - val_KL: 38.4957\n",
      "Epoch 5/30\n",
      "154183/154183 [==============================] - 2s - loss: 0.7502 - REC_loss: 0.6768 - KL: 37.5576 - val_loss: 0.7414 - val_REC_loss: 0.6659 - val_KL: 38.6515\n",
      "Epoch 6/30\n",
      "154183/154183 [==============================] - 2s - loss: 0.7494 - REC_loss: 0.6761 - KL: 37.5478 - val_loss: 0.7411 - val_REC_loss: 0.6672 - val_KL: 37.8865\n",
      "Epoch 7/30\n",
      "154183/154183 [==============================] - 2s - loss: 0.7489 - REC_loss: 0.6756 - KL: 37.5475 - val_loss: 0.7404 - val_REC_loss: 0.6657 - val_KL: 38.2617\n",
      "Epoch 8/30\n",
      "154183/154183 [==============================] - 2s - loss: 0.7484 - REC_loss: 0.6752 - KL: 37.4909 - val_loss: 0.7403 - val_REC_loss: 0.6665 - val_KL: 37.8154\n",
      "Epoch 9/30\n",
      "154183/154183 [==============================] - 2s - loss: 0.7481 - REC_loss: 0.6749 - KL: 37.4563 - val_loss: 0.7406 - val_REC_loss: 0.6654 - val_KL: 38.5117\n",
      "Epoch 10/30\n",
      "154183/154183 [==============================] - 2s - loss: 0.7477 - REC_loss: 0.6748 - KL: 37.3719 - val_loss: 0.7392 - val_REC_loss: 0.6652 - val_KL: 37.8947\n",
      "Epoch 11/30\n",
      "154183/154183 [==============================] - 2s - loss: 0.7473 - REC_loss: 0.6744 - KL: 37.3501 - val_loss: 0.7390 - val_REC_loss: 0.6651 - val_KL: 37.8412\n",
      "Epoch 12/30\n",
      "154183/154183 [==============================] - 2s - loss: 0.7470 - REC_loss: 0.6741 - KL: 37.3045 - val_loss: 0.7391 - val_REC_loss: 0.6643 - val_KL: 38.2614\n",
      "Epoch 13/30\n",
      "154183/154183 [==============================] - 2s - loss: 0.7468 - REC_loss: 0.6740 - KL: 37.2556 - val_loss: 0.7387 - val_REC_loss: 0.6647 - val_KL: 37.8833\n",
      "Epoch 14/30\n",
      "154183/154183 [==============================] - 2s - loss: 0.7466 - REC_loss: 0.6739 - KL: 37.2245 - val_loss: 0.7382 - val_REC_loss: 0.6651 - val_KL: 37.3862\n",
      "Epoch 15/30\n",
      "154183/154183 [==============================] - 2s - loss: 0.7463 - REC_loss: 0.6737 - KL: 37.1638 - val_loss: 0.7382 - val_REC_loss: 0.6641 - val_KL: 37.9228\n",
      "Epoch 16/30\n",
      "154183/154183 [==============================] - 2s - loss: 0.7461 - REC_loss: 0.6735 - KL: 37.1471 - val_loss: 0.7384 - val_REC_loss: 0.6657 - val_KL: 37.1909\n",
      "Epoch 17/30\n",
      "154183/154183 [==============================] - 2s - loss: 0.7459 - REC_loss: 0.6735 - KL: 37.1081 - val_loss: 0.7382 - val_REC_loss: 0.6646 - val_KL: 37.6561\n",
      "Epoch 18/30\n",
      "154183/154183 [==============================] - 2s - loss: 0.7457 - REC_loss: 0.6734 - KL: 37.0539 - val_loss: 0.7378 - val_REC_loss: 0.6648 - val_KL: 37.3567\n",
      "Epoch 19/30\n",
      "154183/154183 [==============================] - 2s - loss: 0.7455 - REC_loss: 0.6731 - KL: 37.0677 - val_loss: 0.7373 - val_REC_loss: 0.6635 - val_KL: 37.7953\n",
      "Epoch 20/30\n",
      "154183/154183 [==============================] - 2s - loss: 0.7455 - REC_loss: 0.6732 - KL: 37.0241 - val_loss: 0.7375 - val_REC_loss: 0.6635 - val_KL: 37.8965\n",
      "Epoch 21/30\n",
      "154183/154183 [==============================] - 2s - loss: 0.7453 - REC_loss: 0.6731 - KL: 36.9824 - val_loss: 0.7371 - val_REC_loss: 0.6648 - val_KL: 37.0359\n",
      "Epoch 22/30\n",
      "154183/154183 [==============================] - 2s - loss: 0.7452 - REC_loss: 0.6730 - KL: 36.9806 - val_loss: 0.7373 - val_REC_loss: 0.6645 - val_KL: 37.2651\n",
      "Epoch 23/30\n",
      "154183/154183 [==============================] - 2s - loss: 0.7451 - REC_loss: 0.6730 - KL: 36.9495 - val_loss: 0.7369 - val_REC_loss: 0.6644 - val_KL: 37.1176\n",
      "Epoch 24/30\n",
      "154183/154183 [==============================] - 2s - loss: 0.7450 - REC_loss: 0.6729 - KL: 36.9243 - val_loss: 0.7376 - val_REC_loss: 0.6637 - val_KL: 37.8385\n",
      "Epoch 25/30\n",
      "154183/154183 [==============================] - 2s - loss: 0.7449 - REC_loss: 0.6728 - KL: 36.9038 - val_loss: 0.7366 - val_REC_loss: 0.6655 - val_KL: 36.4184\n",
      "Epoch 26/30\n",
      "154183/154183 [==============================] - 2s - loss: 0.7448 - REC_loss: 0.6728 - KL: 36.8703 - val_loss: 0.7371 - val_REC_loss: 0.6627 - val_KL: 38.1306\n",
      "Epoch 27/30\n",
      "154183/154183 [==============================] - 2s - loss: 0.7447 - REC_loss: 0.6727 - KL: 36.8786 - val_loss: 0.7364 - val_REC_loss: 0.6632 - val_KL: 37.4745\n",
      "Epoch 28/30\n",
      "154183/154183 [==============================] - 2s - loss: 0.7448 - REC_loss: 0.6727 - KL: 36.8724 - val_loss: 0.7365 - val_REC_loss: 0.6635 - val_KL: 37.3695\n",
      "Epoch 29/30\n",
      "154183/154183 [==============================] - 2s - loss: 0.7447 - REC_loss: 0.6727 - KL: 36.8470 - val_loss: 0.7364 - val_REC_loss: 0.6627 - val_KL: 37.7465\n",
      "Epoch 30/30\n",
      "154183/154183 [==============================] - 2s - loss: 0.7446 - REC_loss: 0.6726 - KL: 36.8440 - val_loss: 0.7369 - val_REC_loss: 0.6644 - val_KL: 37.1083\n"
     ]
    }
   ],
   "source": [
    "hist1 = traditional_vae.fit(X_train, X_train, epochs=epochs, batch_size=batch_size\n",
    "                           ,validation_data=(X_val,X_val))"
   ]
  },
  {
   "cell_type": "code",
   "execution_count": 75,
   "metadata": {
    "collapsed": false,
    "scrolled": true
   },
   "outputs": [
    {
     "name": "stdout",
     "output_type": "stream",
     "text": [
      "Train on 154183 samples, validate on 2100 samples\n",
      "Epoch 1/30\n",
      "154183/154183 [==============================] - 3s - loss: 0.7946 - REC_loss: 0.7676 - KL: 13.8020 - val_loss: 0.7083 - val_REC_loss: 0.6777 - val_KL: 15.6567\n",
      "Epoch 2/30\n",
      "154183/154183 [==============================] - 3s - loss: 0.6958 - REC_loss: 0.6651 - KL: 15.7150 - val_loss: 0.6663 - val_REC_loss: 0.6351 - val_KL: 16.0242\n",
      "Epoch 3/30\n",
      "154183/154183 [==============================] - 3s - loss: 0.6668 - REC_loss: 0.6354 - KL: 16.0807 - val_loss: 0.6445 - val_REC_loss: 0.6128 - val_KL: 16.2327\n",
      "Epoch 4/30\n",
      "154183/154183 [==============================] - 3s - loss: 0.6497 - REC_loss: 0.6180 - KL: 16.2216 - val_loss: 0.6359 - val_REC_loss: 0.6041 - val_KL: 16.2812\n",
      "Epoch 5/30\n",
      "154183/154183 [==============================] - 3s - loss: 0.6389 - REC_loss: 0.6071 - KL: 16.2955 - val_loss: 0.6279 - val_REC_loss: 0.5961 - val_KL: 16.3057\n",
      "Epoch 6/30\n",
      "154183/154183 [==============================] - 3s - loss: 0.6313 - REC_loss: 0.5994 - KL: 16.3611 - val_loss: 0.6184 - val_REC_loss: 0.5866 - val_KL: 16.3094\n",
      "Epoch 7/30\n",
      "154183/154183 [==============================] - 3s - loss: 0.6253 - REC_loss: 0.5933 - KL: 16.4021 - val_loss: 0.6138 - val_REC_loss: 0.5818 - val_KL: 16.3989\n",
      "Epoch 8/30\n",
      "154183/154183 [==============================] - 3s - loss: 0.6204 - REC_loss: 0.5884 - KL: 16.4173 - val_loss: 0.6124 - val_REC_loss: 0.5804 - val_KL: 16.3960\n",
      "Epoch 9/30\n",
      "154183/154183 [==============================] - 3s - loss: 0.6169 - REC_loss: 0.5848 - KL: 16.4384 - val_loss: 0.6068 - val_REC_loss: 0.5749 - val_KL: 16.3643\n",
      "Epoch 10/30\n",
      "154183/154183 [==============================] - 3s - loss: 0.6134 - REC_loss: 0.5812 - KL: 16.4521 - val_loss: 0.6026 - val_REC_loss: 0.5706 - val_KL: 16.4046\n",
      "Epoch 11/30\n",
      "154183/154183 [==============================] - 3s - loss: 0.6104 - REC_loss: 0.5782 - KL: 16.4721 - val_loss: 0.6018 - val_REC_loss: 0.5698 - val_KL: 16.3973\n",
      "Epoch 12/30\n",
      "154183/154183 [==============================] - 3s - loss: 0.6077 - REC_loss: 0.5755 - KL: 16.4761 - val_loss: 0.6007 - val_REC_loss: 0.5687 - val_KL: 16.3941\n",
      "Epoch 13/30\n",
      "154183/154183 [==============================] - 3s - loss: 0.6048 - REC_loss: 0.5726 - KL: 16.4695 - val_loss: 0.5948 - val_REC_loss: 0.5628 - val_KL: 16.3748\n",
      "Epoch 14/30\n",
      "154183/154183 [==============================] - 3s - loss: 0.6026 - REC_loss: 0.5704 - KL: 16.4678 - val_loss: 0.5965 - val_REC_loss: 0.5645 - val_KL: 16.3905\n",
      "Epoch 15/30\n",
      "154183/154183 [==============================] - 3s - loss: 0.6002 - REC_loss: 0.5681 - KL: 16.4828 - val_loss: 0.5915 - val_REC_loss: 0.5595 - val_KL: 16.3899\n",
      "Epoch 16/30\n",
      "154183/154183 [==============================] - 3s - loss: 0.5982 - REC_loss: 0.5661 - KL: 16.4716 - val_loss: 0.5940 - val_REC_loss: 0.5621 - val_KL: 16.3642\n",
      "Epoch 17/30\n",
      "154183/154183 [==============================] - 3s - loss: 0.5963 - REC_loss: 0.5642 - KL: 16.4620 - val_loss: 0.5902 - val_REC_loss: 0.5583 - val_KL: 16.3378\n",
      "Epoch 18/30\n",
      "154183/154183 [==============================] - 3s - loss: 0.5945 - REC_loss: 0.5624 - KL: 16.4636 - val_loss: 0.5875 - val_REC_loss: 0.5556 - val_KL: 16.3370\n",
      "Epoch 19/30\n",
      "154183/154183 [==============================] - 3s - loss: 0.5928 - REC_loss: 0.5607 - KL: 16.4447 - val_loss: 0.5853 - val_REC_loss: 0.5534 - val_KL: 16.3333\n",
      "Epoch 20/30\n",
      "154183/154183 [==============================] - 3s - loss: 0.5913 - REC_loss: 0.5592 - KL: 16.4632 - val_loss: 0.5874 - val_REC_loss: 0.5554 - val_KL: 16.3534\n",
      "Epoch 21/30\n",
      "154183/154183 [==============================] - 3s - loss: 0.5900 - REC_loss: 0.5579 - KL: 16.4628 - val_loss: 0.5842 - val_REC_loss: 0.5523 - val_KL: 16.3554\n",
      "Epoch 22/30\n",
      "154183/154183 [==============================] - 3s - loss: 0.5883 - REC_loss: 0.5562 - KL: 16.4534 - val_loss: 0.5852 - val_REC_loss: 0.5532 - val_KL: 16.3583\n",
      "Epoch 23/30\n",
      "154183/154183 [==============================] - 3s - loss: 0.5871 - REC_loss: 0.5550 - KL: 16.4473 - val_loss: 0.5824 - val_REC_loss: 0.5505 - val_KL: 16.3305\n",
      "Epoch 24/30\n",
      "154183/154183 [==============================] - 3s - loss: 0.5853 - REC_loss: 0.5532 - KL: 16.4297 - val_loss: 0.5817 - val_REC_loss: 0.5498 - val_KL: 16.3099\n",
      "Epoch 25/30\n",
      "154183/154183 [==============================] - 3s - loss: 0.5840 - REC_loss: 0.5519 - KL: 16.4120 - val_loss: 0.5798 - val_REC_loss: 0.5480 - val_KL: 16.3010\n",
      "Epoch 26/30\n",
      "154183/154183 [==============================] - 3s - loss: 0.5826 - REC_loss: 0.5505 - KL: 16.4062 - val_loss: 0.5788 - val_REC_loss: 0.5470 - val_KL: 16.2842\n",
      "Epoch 27/30\n",
      "154183/154183 [==============================] - 3s - loss: 0.5812 - REC_loss: 0.5492 - KL: 16.3928 - val_loss: 0.5784 - val_REC_loss: 0.5467 - val_KL: 16.2730\n",
      "Epoch 28/30\n",
      "154183/154183 [==============================] - 3s - loss: 0.5798 - REC_loss: 0.5478 - KL: 16.3757 - val_loss: 0.5782 - val_REC_loss: 0.5464 - val_KL: 16.2890\n",
      "Epoch 29/30\n",
      "154183/154183 [==============================] - 3s - loss: 0.5787 - REC_loss: 0.5468 - KL: 16.3631 - val_loss: 0.5754 - val_REC_loss: 0.5437 - val_KL: 16.2393\n",
      "Epoch 30/30\n",
      "154183/154183 [==============================] - 3s - loss: 0.5773 - REC_loss: 0.5453 - KL: 16.3611 - val_loss: 0.5731 - val_REC_loss: 0.5413 - val_KL: 16.2762\n"
     ]
    }
   ],
   "source": [
    "hist2 = binary_vae.fit(X_train, X_train, epochs=epochs, batch_size=batch_size\n",
    "                           ,validation_data=(X_val,X_val))"
   ]
  },
  {
   "cell_type": "code",
   "execution_count": 12,
   "metadata": {
    "collapsed": false,
    "scrolled": true
   },
   "outputs": [
    {
     "data": {
      "image/png": "[encoded data removed]",
      "text/plain": [
       "<matplotlib.figure.Figure at 0x7fc004ed6550>"
      ]
     },
     "metadata": {},
     "output_type": "display_data"
    }
   ],
   "source": [
    "compare_hist_train(hist1,hist2, name_dat)"
   ]
  },
  {
   "cell_type": "code",
   "execution_count": 51,
   "metadata": {
    "collapsed": false
   },
   "outputs": [
    {
     "data": {
      "image/png": "[encoded data removed]",
      "text/plain": [
       "<matplotlib.figure.Figure at 0x7fc000183dd8>"
      ]
     },
     "metadata": {},
     "output_type": "display_data"
    }
   ],
   "source": [
    "compare_hist_train(hist1,hist2, name_dat)"
   ]
  },
  {
   "cell_type": "code",
   "execution_count": 76,
   "metadata": {
    "collapsed": false
   },
   "outputs": [
    {
     "data": {
      "image/png": "[encoded data removed]",
      "text/plain": [
       "<matplotlib.figure.Figure at 0x7fc53c5829e8>"
      ]
     },
     "metadata": {},
     "output_type": "display_data"
    }
   ],
   "source": [
    "compare_hist_train(hist1,hist2, name_dat) #--64 dim"
   ]
  },
  {
   "cell_type": "code",
   "execution_count": 6,
   "metadata": {
    "collapsed": false
   },
   "outputs": [
    {
     "ename": "NameError",
     "evalue": "name 'compare_hist_train' is not defined",
     "output_type": "error",
     "traceback": [
      "\u001b[0;31m---------------------------------------------------------------------------\u001b[0m",
      "\u001b[0;31mNameError\u001b[0m                                 Traceback (most recent call last)",
      "\u001b[0;32m<ipython-input-6-f594ad055d96>\u001b[0m in \u001b[0;36m<module>\u001b[0;34m()\u001b[0m\n\u001b[0;32m----> 1\u001b[0;31m \u001b[0mcompare_hist_train\u001b[0m\u001b[0;34m(\u001b[0m\u001b[0mhist1\u001b[0m\u001b[0;34m,\u001b[0m\u001b[0mhist2\u001b[0m\u001b[0;34m,\u001b[0m \u001b[0mname_dat\u001b[0m\u001b[0;34m)\u001b[0m \u001b[0;31m#--64 dim\u001b[0m\u001b[0;34m\u001b[0m\u001b[0m\n\u001b[0m",
      "\u001b[0;31mNameError\u001b[0m: name 'compare_hist_train' is not defined"
     ]
    }
   ],
   "source": [
    "compare_hist_train(hist1,hist2, name_dat) #--64 dim"
   ]
  },
  {
   "cell_type": "markdown",
   "metadata": {},
   "source": [
    "### Another intrinsic measure: *Classification*\n"
   ]
  },
  {
   "cell_type": "code",
   "execution_count": 12,
   "metadata": {
    "collapsed": true,
    "scrolled": true
   },
   "outputs": [],
   "source": [
    "from utils import define_fit\n",
    "\n",
    "from sklearn.metrics import jaccard_score\n",
    "\n",
    "results = []\n",
    "results_B = []"
   ]
  },
  {
   "cell_type": "code",
   "execution_count": 77,
   "metadata": {
    "collapsed": false,
    "scrolled": true
   },
   "outputs": [
    {
     "data": {
      "text/plain": [
       "array([[0., 1., 0., ..., 0., 0., 0.],\n",
       "       [0., 0., 1., ..., 0., 0., 0.],\n",
       "       [0., 0., 1., ..., 0., 0., 0.],\n",
       "       ...,\n",
       "       [0., 0., 1., ..., 0., 0., 0.],\n",
       "       [0., 0., 0., ..., 0., 0., 0.],\n",
       "       [0., 0., 1., ..., 0., 0., 0.]])"
      ]
     },
     "execution_count": 77,
     "metadata": {},
     "output_type": "execute_result"
    }
   ],
   "source": [
    "#codify input data (binarize -- or aprox)\n",
    "X_train_Bcode = expit(encoder_Bvae.predict(X_train))\n",
    "#X_val_Bcode = expit(encoder_Bvae.predict(X_val))\n",
    "X_val_Bcode = expit(encoder_Bvae.predict(X_test))\n",
    "\n",
    "X_train_Tcode = encoder_Tvae.predict(X_train)\n",
    "#X_val_Tcode = encoder_Tvae.predict(X_val)\n",
    "X_val_Tcode = encoder_Tvae.predict(X_test)\n",
    "\n",
    "##codify labels\n",
    "labels_aux = np.asarray(labels)\n",
    "def codify_labels(inputs):\n",
    "    inputs = np.asarray(inputs)\n",
    "    matrix_labels = np.zeros((inputs.shape[0],labels_aux.shape[0]))\n",
    "    for i,aux_labels in enumerate(inputs):\n",
    "        if type(aux_labels) == list or type(aux_labels) == np.ndarray :\n",
    "            for aux_label in aux_labels:\n",
    "                idx = np.where(aux_label==labels_aux)[0]\n",
    "                matrix_labels[i,idx] = 1 #various-multiple\n",
    "        else:\n",
    "            idx = np.where(aux_labels==labels_aux)[0]\n",
    "            matrix_labels[i,idx] = 1 #only one\n",
    "    return matrix_labels\n",
    "\n",
    "C_train = codify_labels(labels_train)\n",
    "#C_val = codify_labels(labels_val)\n",
    "C_val = codify_labels(labels_test)\n",
    "C_train"
   ]
  },
  {
   "cell_type": "code",
   "execution_count": 78,
   "metadata": {
    "collapsed": false,
    "scrolled": true
   },
   "outputs": [
    {
     "data": {
      "image/png": "[encoded data removed]",
      "text/plain": [
       "<matplotlib.figure.Figure at 0x7fc4fed72eb8>"
      ]
     },
     "metadata": {},
     "output_type": "display_data"
    },
    {
     "data": {
      "image/png": "[encoded data removed]",
      "text/plain": [
       "<matplotlib.figure.Figure at 0x7fc53c75b630>"
      ]
     },
     "metadata": {},
     "output_type": "display_data"
    }
   ],
   "source": [
    "plt.hist(X_train_Bcode.flatten())\n",
    "plt.show()\n",
    "\n",
    "plt.hist(X_train_Tcode.flatten())\n",
    "plt.show()"
   ]
  },
  {
   "cell_type": "code",
   "execution_count": 79,
   "metadata": {
    "collapsed": false,
    "scrolled": true
   },
   "outputs": [
    {
     "name": "stdout",
     "output_type": "stream",
     "text": [
      "Done\n"
     ]
    }
   ],
   "source": [
    "aux = [name_dat.lower()]\n",
    "multi_label = \"celeba\" in aux or \"nus-wide\" in aux\n",
    "\n",
    "model1 = define_fit(multi_label,X_train_Bcode,C_train)\n",
    "model2 = define_fit(multi_label,X_train_Tcode,C_train)\n",
    "\n",
    "if not multi_label:\n",
    "    aux.append(model2.evaluate(X_train_Tcode,C_train,verbose=0)[1])\n",
    "    aux.append(model2.evaluate(X_val_Tcode,C_val,verbose=0)[1])\n",
    "\n",
    "    aux.append(model1.evaluate(X_train_Bcode,C_train,verbose=0)[1])\n",
    "    aux.append(model1.evaluate(X_val_Bcode,C_val,verbose=0)[1])\n",
    "else:\n",
    "    aux.append(jaccard_score(C_train, (model2.predict(X_train_Tcode)>=0.5)*1, average='micro'))\n",
    "    aux.append(jaccard_score(C_val, (model2.predict(X_val_Tcode)>=0.5)*1, average='micro'))\n",
    "\n",
    "    aux.append(jaccard_score(C_train, (model1.predict(X_train_Bcode)>=0.5)*1, average='micro'))\n",
    "    aux.append(jaccard_score(C_val, (model1.predict(X_val_Bcode)>=0.5)*1, average='micro'))\n",
    "    \n",
    "results.append(aux)\n",
    "print(\"Done\")"
   ]
  },
  {
   "cell_type": "code",
   "execution_count": 48,
   "metadata": {
    "collapsed": false
   },
   "outputs": [
    {
     "name": "stdout",
     "output_type": "stream",
     "text": [
      "\n",
      "Accuracy on dataset:  mnist\n",
      "Traditional VAE (train-val): 0.926824 - 0.920000\n",
      "Binary VAE (train-val): 0.881574 - 0.867000\n",
      "\n",
      "Accuracy on dataset:  cifar-10\n",
      "Traditional VAE (train-val): 0.681621 - 0.617000\n",
      "Binary VAE (train-val): 0.606759 - 0.543000\n"
     ]
    }
   ],
   "source": [
    "for valores in results:\n",
    "    print(\"\\nAccuracy on dataset: \",valores[0])\n",
    "    print(\"Traditional VAE (train-val): %f - %f\"%(valores[1],valores[2]))\n",
    "    print(\"Binary VAE (train-val): %f - %f\"%(valores[3],valores[4]))"
   ]
  },
  {
   "cell_type": "code",
   "execution_count": 80,
   "metadata": {
    "collapsed": false
   },
   "outputs": [
    {
     "name": "stdout",
     "output_type": "stream",
     "text": [
      "\n",
      "Accuracy on dataset:  mnist\n",
      "Traditional VAE (train-val): 0.926824 - 0.920000\n",
      "Binary VAE (train-val): 0.881574 - 0.867000\n",
      "\n",
      "Accuracy on dataset:  cifar-10\n",
      "Traditional VAE (train-val): 0.681621 - 0.617000\n",
      "Binary VAE (train-val): 0.606759 - 0.543000\n",
      "\n",
      "Accuracy on dataset:  nus-wide\n",
      "Traditional VAE (train-val): 0.429958 - 0.374462\n",
      "Binary VAE (train-val): 0.397131 - 0.350691\n"
     ]
    }
   ],
   "source": [
    "for valores in results:\n",
    "    print(\"\\nAccuracy on dataset: \",valores[0])\n",
    "    print(\"Traditional VAE (train-val): %f - %f\"%(valores[1],valores[2]))\n",
    "    print(\"Binary VAE (train-val): %f - %f\"%(valores[3],valores[4]))"
   ]
  },
  {
   "cell_type": "code",
   "execution_count": 81,
   "metadata": {
    "collapsed": false,
    "scrolled": true
   },
   "outputs": [
    {
     "data": {
      "text/plain": [
       "array([[0, 0, 0, ..., 0, 0, 0],\n",
       "       [0, 0, 1, ..., 1, 1, 1],\n",
       "       [1, 1, 1, ..., 0, 1, 1],\n",
       "       ...,\n",
       "       [1, 1, 0, ..., 1, 0, 0],\n",
       "       [0, 0, 1, ..., 1, 1, 0],\n",
       "       [1, 0, 0, ..., 0, 1, 1]], dtype=int32)"
      ]
     },
     "execution_count": 81,
     "metadata": {},
     "output_type": "execute_result"
    }
   ],
   "source": [
    "#Transform to binary\n",
    "from utils import MedianHashing\n",
    "\n",
    "median= MedianHashing()\n",
    "median.fit(X_train_Tcode)\n",
    "\n",
    "X_train_Tcode_B = median.transform(X_train_Tcode)\n",
    "X_val_Tcode_B = median.transform(X_val_Tcode)\n",
    "\n",
    "X_train_Bcode_B = (X_train_Bcode>0.5)*1\n",
    "X_val_Bcode_B = (X_val_Bcode>0.5)*1\n",
    "\n",
    "X_train_Tcode_B"
   ]
  },
  {
   "cell_type": "code",
   "execution_count": 82,
   "metadata": {
    "collapsed": false
   },
   "outputs": [
    {
     "name": "stdout",
     "output_type": "stream",
     "text": [
      "Done\n"
     ]
    }
   ],
   "source": [
    "aux = [name_dat.lower()]\n",
    "multi_label = \"celeba\" in aux or \"nus-wide\" in aux\n",
    "\n",
    "model1 = define_fit(multi_label,X_train_Bcode_B,C_train)\n",
    "model2 = define_fit(multi_label,X_train_Tcode_B,C_train)\n",
    "\n",
    "if not multi_label:\n",
    "    aux.append(model2.evaluate(X_train_Tcode_B,C_train,verbose=0)[1])\n",
    "    aux.append(model2.evaluate(X_val_Tcode_B,C_val,verbose=0)[1])\n",
    "\n",
    "    aux.append(model1.evaluate(X_train_Bcode_B,C_train,verbose=0)[1])\n",
    "    aux.append(model1.evaluate(X_val_Bcode_B,C_val,verbose=0)[1])\n",
    "else:\n",
    "    aux.append(jaccard_score(C_train, (model2.predict(X_train_Tcode_B)>=0.5)*1, average='micro')) \n",
    "    aux.append(jaccard_score(C_val, (model2.predict(X_val_Tcode_B)>=0.5)*1, average='micro'))\n",
    "\n",
    "    aux.append(jaccard_score(C_train, (model1.predict(X_train_Bcode_B)>=0.5)*1, average='micro'))\n",
    "    aux.append(jaccard_score(C_val, (model1.predict(X_val_Bcode_B)>=0.5)*1, average='micro'))\n",
    "    \n",
    "results_B.append(aux)\n",
    "print(\"Done\")"
   ]
  },
  {
   "cell_type": "code",
   "execution_count": 51,
   "metadata": {
    "collapsed": false
   },
   "outputs": [
    {
     "name": "stdout",
     "output_type": "stream",
     "text": [
      "Classification on Binary representation\n",
      "\n",
      "Accuracy on dataset:  mnist\n",
      "Traditional VAE (train-val): 0.831662 - 0.801000\n",
      "Binary VAE (train-val): 0.839456 - 0.823000\n",
      "\n",
      "Accuracy on dataset:  cifar-10\n",
      "Traditional VAE (train-val): 0.561603 - 0.491000\n",
      "Binary VAE (train-val): 0.566517 - 0.508000\n"
     ]
    }
   ],
   "source": [
    "print(\"Classification on Binary representation\")\n",
    "for valores in results_B:\n",
    "    print(\"\\nAccuracy on dataset: \",valores[0])\n",
    "    print(\"Traditional VAE (train-val): %f - %f\"%(valores[1],valores[2]))\n",
    "    print(\"Binary VAE (train-val): %f - %f\"%(valores[3],valores[4]))"
   ]
  },
  {
   "cell_type": "code",
   "execution_count": 83,
   "metadata": {
    "collapsed": false
   },
   "outputs": [
    {
     "name": "stdout",
     "output_type": "stream",
     "text": [
      "Classification on Binary representation\n",
      "\n",
      "Accuracy on dataset:  mnist\n",
      "Traditional VAE (train-val): 0.831662 - 0.801000\n",
      "Binary VAE (train-val): 0.839456 - 0.823000\n",
      "\n",
      "Accuracy on dataset:  cifar-10\n",
      "Traditional VAE (train-val): 0.561603 - 0.491000\n",
      "Binary VAE (train-val): 0.566517 - 0.508000\n",
      "\n",
      "Accuracy on dataset:  nus-wide\n",
      "Traditional VAE (train-val): 0.354078 - 0.305031\n",
      "Binary VAE (train-val): 0.366856 - 0.319546\n"
     ]
    }
   ],
   "source": [
    "print(\"Classification on Binary representation\")\n",
    "for valores in results_B:\n",
    "    print(\"\\nAccuracy on dataset: \",valores[0])\n",
    "    print(\"Traditional VAE (train-val): %f - %f\"%(valores[1],valores[2]))\n",
    "    print(\"Binary VAE (train-val): %f - %f\"%(valores[3],valores[4]))"
   ]
  },
  {
   "cell_type": "markdown",
   "metadata": {},
   "source": [
    "A través de las curvas de entrenamiento se puede ver que el VAE tradicional obtiene mejores resultados que el binario respecto a la reconstrucción de los datos, lo cual resulta bastante lógico ya que tiene valores más libres en donde pueden vivir las variables (dominio de variable latente: los reales) *vs* el binario que está mucho más restringido (dominio de variable latente: entre 0 y 1). Otra cosa a nombrar es que el modelo con variables latentes binarias reduce el *overfitting* drásticamente, disminuyendo ambas curvas en la misma proporción.\n",
    "\n",
    "### Results\n",
    "---\n",
    "Para evaluar los resultados y poder comparar es necesario realizar el proceso de evaluación en un sistema de recuperación de información. Ésto es recuperar objetos similares a los objetos de una consulta/*query*. Como *baseline* para comparar se utiliza el modelo presentado en *Variational Deep Semantic Hashing* (VDSH).\n",
    "\n",
    "#### Proceso de evaluación (*content-based retrieval*)\n",
    "> *Query*: **Documento**\n",
    "\n",
    "1. Calcular código hashing/binario de cada dato/documento\n",
    "    * Para *VAE* tradicional se utiliza la mediana de cada componente como *treshold*\n",
    "    * Para *VAE* binario se utiliza el *treshold* de 0.5 en la probabilidad\n",
    "2. Recuperar documentos basado en *match* perfecto, *top K* o *ball search* de distancia *hamming* de un documento consulta.\n",
    "    * En el mismo conjunto/*set*\n",
    "    * Con *query* recupero sobre *database*\n",
    "3. Medir *precision* y *recall* en base a algún criterio de relevancia.\n",
    "    * Documento relevante a otro o no -> Si comparten al menos una clase.\n",
    "    \n",
    "|$b_1$|$b_2$|$b_3$|$b_4$|\n",
    "|---|---|---|---|\n",
    "||..|..||\n",
    "|1|0|1|0| \n",
    "|1|0|1|1| \n",
    "|1|0|0|0| \n",
    "|1|0|0|1|\n",
    "||..|..||"
   ]
  },
  {
   "cell_type": "code",
   "execution_count": 20,
   "metadata": {
    "collapsed": false,
    "scrolled": true
   },
   "outputs": [],
   "source": [
    "from utils import MedianHashing, get_similar, measure_metrics\n",
    "from utils import MAP_atk, M_P_atk"
   ]
  },
  {
   "cell_type": "markdown",
   "metadata": {},
   "source": [
    "### Experimentación\n",
    "---\n",
    "A continación se realizan las experimentaciones correspondientes para encontrar la mejor arquitectura y mejor configuración del modelo propuesto en base a las métricas *precision* y *recall* del conjunto de validación en el **top 100** de elementos recuperados."
   ]
  },
  {
   "cell_type": "code",
   "execution_count": 21,
   "metadata": {
    "collapsed": true
   },
   "outputs": [],
   "source": [
    "def evaluate_hashingB(encoder,train,val,labels_train,labels_val,traditional=True,tipo=\"topK\", MAP=False,K=100):\n",
    "    encode_train = encoder.predict(train)\n",
    "    encode_val = encoder.predict(val)\n",
    "    if traditional:\n",
    "        median= MedianHashing()\n",
    "        median.fit(encode_train)\n",
    "        val_train = median.transform(encode_train)\n",
    "        val_hash = median.transform(encode_val)\n",
    "        del encode_train, encode_val\n",
    "        gc.collect()\n",
    "    else: #para Binary VAE\n",
    "        probas_train = expit(encode_train)\n",
    "        probas_val = expit(encode_val)\n",
    "        del encode_train, encode_val\n",
    "        gc.collect()\n",
    "        val_train = (probas_train > 0.5)*1\n",
    "        val_hash = (probas_val > 0.5)*1\n",
    "\n",
    "    val_similares_train =  get_similar(val_hash, val_train, tipo=tipo,K=K) \n",
    "    \n",
    "    if MAP:\n",
    "        return MAP_atk(val_similares_train,labels_query=labels_val,labels_source=labels_train, K=0) #all ranking\n",
    "    else:\n",
    "        return measure_metrics(labels,val_similares_train,labels_query=labels_val,labels_source=labels_train)"
   ]
  },
  {
   "cell_type": "markdown",
   "metadata": {},
   "source": [
    "\n",
    "### Experimentando variando el #Bits"
   ]
  },
  {
   "cell_type": "code",
   "execution_count": 22,
   "metadata": {
    "collapsed": false
   },
   "outputs": [],
   "source": [
    "traditional_dat = {\"mnist\":{\"p\":[],\"r\":[]},\"cifar-10\":{\"p\":[],\"r\":[]},\"celeba\":{\"p\":[],\"r\":[]},'nus-wide':{\"p\":[],\"r\":[]}}\n",
    "binary_dat = {\"mnist\":{\"p\":[],\"r\":[]},\"cifar-10\":{\"p\":[],\"r\":[]},\"celeba\":{\"p\":[],\"r\":[]},'nus-wide':{\"p\":[],\"r\":[]}}"
   ]
  },
  {
   "cell_type": "code",
   "execution_count": 84,
   "metadata": {
    "collapsed": false,
    "scrolled": true
   },
   "outputs": [
    {
     "name": "stdout",
     "output_type": "stream",
     "text": [
      "pre-encoder network:\n",
      "_________________________________________________________________\n",
      "Layer (type)                 Output Shape              Param #   \n",
      "=================================================================\n",
      "input_13 (InputLayer)        (None, 512)               0         \n",
      "_________________________________________________________________\n",
      "dense_25 (Dense)             (None, 500)               256500    \n",
      "_________________________________________________________________\n",
      "batch_normalization_13 (Batc (None, 500)               2000      \n",
      "_________________________________________________________________\n",
      "dense_26 (Dense)             (None, 500)               250500    \n",
      "_________________________________________________________________\n",
      "batch_normalization_14 (Batc (None, 500)               2000      \n",
      "=================================================================\n",
      "Total params: 511,000\n",
      "Trainable params: 509,000\n",
      "Non-trainable params: 2,000\n",
      "_________________________________________________________________\n",
      "generator network:\n",
      "_________________________________________________________________\n",
      "Layer (type)                 Output Shape              Param #   \n",
      "=================================================================\n",
      "input_14 (InputLayer)        (None, 4)                 0         \n",
      "_________________________________________________________________\n",
      "dense_27 (Dense)             (None, 512)               2560      \n",
      "=================================================================\n",
      "Total params: 2,560\n",
      "Trainable params: 2,560\n",
      "Non-trainable params: 0\n",
      "_________________________________________________________________\n",
      "pre-encoder network:\n",
      "_________________________________________________________________\n",
      "Layer (type)                 Output Shape              Param #   \n",
      "=================================================================\n",
      "input_1 (InputLayer)         (None, 512)               0         \n",
      "_________________________________________________________________\n",
      "dense_1 (Dense)              (None, 500)               256500    \n",
      "_________________________________________________________________\n",
      "batch_normalization_1 (Batch (None, 500)               2000      \n",
      "_________________________________________________________________\n",
      "dense_2 (Dense)              (None, 500)               250500    \n",
      "_________________________________________________________________\n",
      "batch_normalization_2 (Batch (None, 500)               2000      \n",
      "=================================================================\n",
      "Total params: 511,000\n",
      "Trainable params: 509,000\n",
      "Non-trainable params: 2,000\n",
      "_________________________________________________________________\n",
      "generator network:\n",
      "_________________________________________________________________\n",
      "Layer (type)                 Output Shape              Param #   \n",
      "=================================================================\n",
      "input_2 (InputLayer)         (None, 4)                 0         \n",
      "_________________________________________________________________\n",
      "dense_3 (Dense)              (None, 500)               2500      \n",
      "_________________________________________________________________\n",
      "batch_normalization_3 (Batch (None, 500)               2000      \n",
      "_________________________________________________________________\n",
      "dense_4 (Dense)              (None, 500)               250500    \n",
      "_________________________________________________________________\n",
      "batch_normalization_4 (Batch (None, 500)               2000      \n",
      "_________________________________________________________________\n",
      "dense_5 (Dense)              (None, 512)               256512    \n",
      "=================================================================\n",
      "Total params: 513,512\n",
      "Trainable params: 511,512\n",
      "Non-trainable params: 2,000\n",
      "_________________________________________________________________\n",
      "pre-encoder network:\n",
      "_________________________________________________________________\n",
      "Layer (type)                 Output Shape              Param #   \n",
      "=================================================================\n",
      "input_1 (InputLayer)         (None, 512)               0         \n",
      "_________________________________________________________________\n",
      "dense_1 (Dense)              (None, 500)               256500    \n",
      "_________________________________________________________________\n",
      "batch_normalization_1 (Batch (None, 500)               2000      \n",
      "_________________________________________________________________\n",
      "dense_2 (Dense)              (None, 500)               250500    \n",
      "_________________________________________________________________\n",
      "batch_normalization_2 (Batch (None, 500)               2000      \n",
      "=================================================================\n",
      "Total params: 511,000\n",
      "Trainable params: 509,000\n",
      "Non-trainable params: 2,000\n",
      "_________________________________________________________________\n",
      "generator network:\n",
      "_________________________________________________________________\n",
      "Layer (type)                 Output Shape              Param #   \n",
      "=================================================================\n",
      "input_2 (InputLayer)         (None, 8)                 0         \n",
      "_________________________________________________________________\n",
      "dense_3 (Dense)              (None, 512)               4608      \n",
      "=================================================================\n",
      "Total params: 4,608\n",
      "Trainable params: 4,608\n",
      "Non-trainable params: 0\n",
      "_________________________________________________________________\n",
      "pre-encoder network:\n",
      "_________________________________________________________________\n",
      "Layer (type)                 Output Shape              Param #   \n",
      "=================================================================\n",
      "input_1 (InputLayer)         (None, 512)               0         \n",
      "_________________________________________________________________\n",
      "dense_1 (Dense)              (None, 500)               256500    \n",
      "_________________________________________________________________\n",
      "batch_normalization_1 (Batch (None, 500)               2000      \n",
      "_________________________________________________________________\n",
      "dense_2 (Dense)              (None, 500)               250500    \n",
      "_________________________________________________________________\n",
      "batch_normalization_2 (Batch (None, 500)               2000      \n",
      "=================================================================\n",
      "Total params: 511,000\n",
      "Trainable params: 509,000\n",
      "Non-trainable params: 2,000\n",
      "_________________________________________________________________\n",
      "generator network:\n",
      "_________________________________________________________________\n",
      "Layer (type)                 Output Shape              Param #   \n",
      "=================================================================\n",
      "input_2 (InputLayer)         (None, 8)                 0         \n",
      "_________________________________________________________________\n",
      "dense_3 (Dense)              (None, 500)               4500      \n",
      "_________________________________________________________________\n",
      "batch_normalization_3 (Batch (None, 500)               2000      \n",
      "_________________________________________________________________\n",
      "dense_4 (Dense)              (None, 500)               250500    \n",
      "_________________________________________________________________\n",
      "batch_normalization_4 (Batch (None, 500)               2000      \n",
      "_________________________________________________________________\n",
      "dense_5 (Dense)              (None, 512)               256512    \n",
      "=================================================================\n",
      "Total params: 515,512\n",
      "Trainable params: 513,512\n",
      "Non-trainable params: 2,000\n",
      "_________________________________________________________________\n",
      "pre-encoder network:\n",
      "_________________________________________________________________\n",
      "Layer (type)                 Output Shape              Param #   \n",
      "=================================================================\n",
      "input_1 (InputLayer)         (None, 512)               0         \n",
      "_________________________________________________________________\n",
      "dense_1 (Dense)              (None, 500)               256500    \n",
      "_________________________________________________________________\n",
      "batch_normalization_1 (Batch (None, 500)               2000      \n",
      "_________________________________________________________________\n",
      "dense_2 (Dense)              (None, 500)               250500    \n",
      "_________________________________________________________________\n",
      "batch_normalization_2 (Batch (None, 500)               2000      \n",
      "=================================================================\n",
      "Total params: 511,000\n",
      "Trainable params: 509,000\n",
      "Non-trainable params: 2,000\n",
      "_________________________________________________________________\n",
      "generator network:\n",
      "_________________________________________________________________\n",
      "Layer (type)                 Output Shape              Param #   \n",
      "=================================================================\n",
      "input_2 (InputLayer)         (None, 16)                0         \n",
      "_________________________________________________________________\n",
      "dense_3 (Dense)              (None, 512)               8704      \n",
      "=================================================================\n",
      "Total params: 8,704\n",
      "Trainable params: 8,704\n",
      "Non-trainable params: 0\n",
      "_________________________________________________________________\n",
      "pre-encoder network:\n",
      "_________________________________________________________________\n",
      "Layer (type)                 Output Shape              Param #   \n",
      "=================================================================\n",
      "input_1 (InputLayer)         (None, 512)               0         \n",
      "_________________________________________________________________\n",
      "dense_1 (Dense)              (None, 500)               256500    \n",
      "_________________________________________________________________\n",
      "batch_normalization_1 (Batch (None, 500)               2000      \n",
      "_________________________________________________________________\n",
      "dense_2 (Dense)              (None, 500)               250500    \n",
      "_________________________________________________________________\n",
      "batch_normalization_2 (Batch (None, 500)               2000      \n",
      "=================================================================\n",
      "Total params: 511,000\n",
      "Trainable params: 509,000\n",
      "Non-trainable params: 2,000\n",
      "_________________________________________________________________\n",
      "generator network:\n",
      "_________________________________________________________________\n",
      "Layer (type)                 Output Shape              Param #   \n",
      "=================================================================\n",
      "input_2 (InputLayer)         (None, 16)                0         \n",
      "_________________________________________________________________\n",
      "dense_3 (Dense)              (None, 500)               8500      \n",
      "_________________________________________________________________\n",
      "batch_normalization_3 (Batch (None, 500)               2000      \n",
      "_________________________________________________________________\n",
      "dense_4 (Dense)              (None, 500)               250500    \n",
      "_________________________________________________________________\n",
      "batch_normalization_4 (Batch (None, 500)               2000      \n",
      "_________________________________________________________________\n",
      "dense_5 (Dense)              (None, 512)               256512    \n",
      "=================================================================\n",
      "Total params: 519,512\n",
      "Trainable params: 517,512\n",
      "Non-trainable params: 2,000\n",
      "_________________________________________________________________\n",
      "pre-encoder network:\n",
      "_________________________________________________________________\n",
      "Layer (type)                 Output Shape              Param #   \n",
      "=================================================================\n",
      "input_1 (InputLayer)         (None, 512)               0         \n",
      "_________________________________________________________________\n",
      "dense_1 (Dense)              (None, 500)               256500    \n",
      "_________________________________________________________________\n",
      "batch_normalization_1 (Batch (None, 500)               2000      \n",
      "_________________________________________________________________\n",
      "dense_2 (Dense)              (None, 500)               250500    \n",
      "_________________________________________________________________\n",
      "batch_normalization_2 (Batch (None, 500)               2000      \n",
      "=================================================================\n",
      "Total params: 511,000\n",
      "Trainable params: 509,000\n",
      "Non-trainable params: 2,000\n",
      "_________________________________________________________________\n",
      "generator network:\n",
      "_________________________________________________________________\n",
      "Layer (type)                 Output Shape              Param #   \n",
      "=================================================================\n",
      "input_2 (InputLayer)         (None, 32)                0         \n",
      "_________________________________________________________________\n",
      "dense_3 (Dense)              (None, 512)               16896     \n",
      "=================================================================\n",
      "Total params: 16,896\n",
      "Trainable params: 16,896\n",
      "Non-trainable params: 0\n",
      "_________________________________________________________________\n",
      "pre-encoder network:\n",
      "_________________________________________________________________\n",
      "Layer (type)                 Output Shape              Param #   \n",
      "=================================================================\n",
      "input_1 (InputLayer)         (None, 512)               0         \n",
      "_________________________________________________________________\n",
      "dense_1 (Dense)              (None, 500)               256500    \n",
      "_________________________________________________________________\n",
      "batch_normalization_1 (Batch (None, 500)               2000      \n",
      "_________________________________________________________________\n",
      "dense_2 (Dense)              (None, 500)               250500    \n",
      "_________________________________________________________________\n",
      "batch_normalization_2 (Batch (None, 500)               2000      \n",
      "=================================================================\n",
      "Total params: 511,000\n",
      "Trainable params: 509,000\n",
      "Non-trainable params: 2,000\n",
      "_________________________________________________________________\n",
      "generator network:\n",
      "_________________________________________________________________\n",
      "Layer (type)                 Output Shape              Param #   \n",
      "=================================================================\n",
      "input_2 (InputLayer)         (None, 32)                0         \n",
      "_________________________________________________________________\n",
      "dense_3 (Dense)              (None, 500)               16500     \n",
      "_________________________________________________________________\n",
      "batch_normalization_3 (Batch (None, 500)               2000      \n",
      "_________________________________________________________________\n",
      "dense_4 (Dense)              (None, 500)               250500    \n",
      "_________________________________________________________________\n",
      "batch_normalization_4 (Batch (None, 500)               2000      \n",
      "_________________________________________________________________\n",
      "dense_5 (Dense)              (None, 512)               256512    \n",
      "=================================================================\n",
      "Total params: 527,512\n",
      "Trainable params: 525,512\n",
      "Non-trainable params: 2,000\n",
      "_________________________________________________________________\n",
      "pre-encoder network:\n",
      "_________________________________________________________________\n",
      "Layer (type)                 Output Shape              Param #   \n",
      "=================================================================\n",
      "input_1 (InputLayer)         (None, 512)               0         \n",
      "_________________________________________________________________\n",
      "dense_1 (Dense)              (None, 500)               256500    \n",
      "_________________________________________________________________\n",
      "batch_normalization_1 (Batch (None, 500)               2000      \n",
      "_________________________________________________________________\n",
      "dense_2 (Dense)              (None, 500)               250500    \n",
      "_________________________________________________________________\n",
      "batch_normalization_2 (Batch (None, 500)               2000      \n",
      "=================================================================\n",
      "Total params: 511,000\n",
      "Trainable params: 509,000\n",
      "Non-trainable params: 2,000\n",
      "_________________________________________________________________\n",
      "generator network:\n",
      "_________________________________________________________________\n",
      "Layer (type)                 Output Shape              Param #   \n",
      "=================================================================\n",
      "input_2 (InputLayer)         (None, 64)                0         \n",
      "_________________________________________________________________\n",
      "dense_3 (Dense)              (None, 512)               33280     \n",
      "=================================================================\n",
      "Total params: 33,280\n",
      "Trainable params: 33,280\n",
      "Non-trainable params: 0\n",
      "_________________________________________________________________\n",
      "pre-encoder network:\n",
      "_________________________________________________________________\n",
      "Layer (type)                 Output Shape              Param #   \n",
      "=================================================================\n",
      "input_1 (InputLayer)         (None, 512)               0         \n",
      "_________________________________________________________________\n",
      "dense_1 (Dense)              (None, 500)               256500    \n",
      "_________________________________________________________________\n",
      "batch_normalization_1 (Batch (None, 500)               2000      \n",
      "_________________________________________________________________\n",
      "dense_2 (Dense)              (None, 500)               250500    \n",
      "_________________________________________________________________\n",
      "batch_normalization_2 (Batch (None, 500)               2000      \n",
      "=================================================================\n",
      "Total params: 511,000\n",
      "Trainable params: 509,000\n",
      "Non-trainable params: 2,000\n",
      "_________________________________________________________________\n",
      "generator network:\n",
      "_________________________________________________________________\n",
      "Layer (type)                 Output Shape              Param #   \n",
      "=================================================================\n",
      "input_2 (InputLayer)         (None, 64)                0         \n",
      "_________________________________________________________________\n",
      "dense_3 (Dense)              (None, 500)               32500     \n",
      "_________________________________________________________________\n",
      "batch_normalization_3 (Batch (None, 500)               2000      \n",
      "_________________________________________________________________\n",
      "dense_4 (Dense)              (None, 500)               250500    \n",
      "_________________________________________________________________\n",
      "batch_normalization_4 (Batch (None, 500)               2000      \n",
      "_________________________________________________________________\n",
      "dense_5 (Dense)              (None, 512)               256512    \n",
      "=================================================================\n",
      "Total params: 543,512\n",
      "Trainable params: 541,512\n",
      "Non-trainable params: 2,000\n",
      "_________________________________________________________________\n"
     ]
    }
   ],
   "source": [
    "Nbits = np.asarray([4,8,16,32,64])\n",
    "dataset = name_dat.lower()\n",
    "\n",
    "for Nbit in Nbits:\n",
    "    traditional_vae, encoder_Tvae, generator_Tvae = traditional_VAE(X_train.shape[1],Nb=Nbit,units=500,layers_e=2,layers_d=0)\n",
    "    traditional_vae.fit(X_train, X_train, epochs=epochs, batch_size=batch_size,verbose=0)\n",
    "    p_t,r_t = evaluate_hashingB(encoder_Tvae,X_train,X_val,labels_train,labels_val,traditional=True,tipo=\"topK\")\n",
    "    traditional_dat[dataset][\"p\"].append(p_t) \n",
    "    traditional_dat[dataset][\"r\"].append(r_t) \n",
    "    del traditional_vae, encoder_Tvae, generator_Tvae\n",
    "    keras.backend.clear_session()\n",
    "    gc.collect()\n",
    "    \n",
    "    binary_vae, encoder_Bvae, generator_Bvae = binary_VAE(X_train.shape[1],Nb=Nbit,units=500,layers_e=2,layers_d=2)\n",
    "    binary_vae.fit(X_train, X_train, epochs=epochs, batch_size=batch_size,verbose=0)\n",
    "    p_b,r_b = evaluate_hashingB(encoder_Bvae,X_train,X_val,labels_train,labels_val,traditional=False,tipo=\"topK\")\n",
    "    binary_dat[dataset][\"p\"].append(p_b) \n",
    "    binary_dat[dataset][\"r\"].append(r_b) \n",
    "    del binary_vae, encoder_Bvae, generator_Bvae\n",
    "    keras.backend.clear_session()\n",
    "    gc.collect()"
   ]
  },
  {
   "cell_type": "code",
   "execution_count": 53,
   "metadata": {
    "collapsed": false,
    "scrolled": true
   },
   "outputs": [
    {
     "name": "stdout",
     "output_type": "stream",
     "text": [
      "Resultados de Precision en validación\n",
      "\n",
      "*** VAE Traditional***\n",
      "N bits        MNIST              CIFAR-10     \n",
      "------ ------------------- -------------------\n",
      "     4 0.31999000000000005 0.20054000000000083\n",
      "     8 0.45359999999999984 0.25612000000000046\n",
      "    16  0.6192800000000007 0.28673000000000026\n",
      "    32  0.6682400000000003  0.3287199999999997\n",
      "    64  0.7168100000000022  0.3474299999999994\n",
      "\n",
      "*** VAE Binary***\n",
      "N bits        MNIST              CIFAR-10     \n",
      "------ ------------------- -------------------\n",
      "     4 0.35913000000000017 0.20622000000000068\n",
      "     8  0.5121900000000005 0.27107000000000003\n",
      "    16  0.6306700000000004  0.3046100000000001\n",
      "    32  0.6928300000000007 0.32680000000000026\n",
      "    64  0.7048900000000019  0.3524300000000006\n",
      "\n",
      "Resultados de Recall en validación\n",
      "\n",
      "*** VAE Traditional***\n",
      "N bits        MNIST                CIFAR-10      \n",
      "------ -------------------- ---------------------\n",
      "     4 0.004609452357484124 0.0034582718872774357\n",
      "     8 0.006582693119640589 0.0044170077061974995\n",
      "    16  0.00901336102526256  0.004945130948858245\n",
      "    32  0.00975215478784026  0.005669346151291066\n",
      "    64 0.010472688172746061   0.00599159483314616\n",
      "\n",
      "*** VAE Binary***\n",
      "N bits        MNIST                CIFAR-10      \n",
      "------ -------------------- ---------------------\n",
      "     4  0.00518643996400413  0.003556722642989071\n",
      "     8 0.007419275371355405  0.004674706038083881\n",
      "    16 0.009186190886287575  0.005253382387564146\n",
      "    32  0.01011948346836297 0.0056359680321819644\n",
      "    64 0.010296452488096916  0.006078103599775382\n"
     ]
    }
   ],
   "source": [
    "print(\"Resultados de Precision en validación\")\n",
    "t = Table()\n",
    "t[\"N bits\"] = Nbits\n",
    "t[\"MNIST\"] = traditional_dat[\"mnist\"][\"p\"]\n",
    "t[\"CIFAR-10\"] = traditional_dat[\"cifar-10\"][\"p\"]\n",
    "print(\"\\n*** VAE Traditional***\")\n",
    "print(t)\n",
    "t = Table()\n",
    "t[\"N bits\"] = Nbits\n",
    "t[\"MNIST\"] = binary_dat[\"mnist\"][\"p\"]\n",
    "t[\"CIFAR-10\"] = binary_dat[\"cifar-10\"][\"p\"]\n",
    "print(\"\\n*** VAE Binary***\")\n",
    "print(t)\n",
    "\n",
    "print(\"\\nResultados de Recall en validación\")\n",
    "t = Table()\n",
    "t[\"N bits\"] = Nbits\n",
    "t[\"MNIST\"] = traditional_dat[\"mnist\"][\"r\"]\n",
    "t[\"CIFAR-10\"] = traditional_dat[\"cifar-10\"][\"r\"]\n",
    "print(\"\\n*** VAE Traditional***\")\n",
    "print(t)\n",
    "t = Table()\n",
    "t[\"N bits\"] = Nbits\n",
    "t[\"MNIST\"] = binary_dat[\"mnist\"][\"r\"]\n",
    "t[\"CIFAR-10\"] = binary_dat[\"cifar-10\"][\"r\"]\n",
    "print(\"\\n*** VAE Binary***\")\n",
    "print(t)"
   ]
  },
  {
   "cell_type": "code",
   "execution_count": 85,
   "metadata": {
    "collapsed": false,
    "scrolled": true
   },
   "outputs": [
    {
     "name": "stdout",
     "output_type": "stream",
     "text": [
      "Resultados de Precision en validación\n",
      "\n",
      "*** VAE Traditional***\n",
      "N bits        MNIST              CIFAR-10            Nus-Wide     \n",
      "------ ------------------- ------------------- -------------------\n",
      "     4 0.31999000000000005 0.20054000000000083 0.49072380952380834\n",
      "     8 0.45359999999999984 0.25612000000000046  0.5382904761904773\n",
      "    16  0.6192800000000007 0.28673000000000026  0.5665285714285718\n",
      "    32  0.6682400000000003  0.3287199999999997  0.5822380952380951\n",
      "    64  0.7168100000000022  0.3474299999999994  0.6055238095238084\n",
      "\n",
      "*** VAE Binary***\n",
      "N bits        MNIST              CIFAR-10           Nus-Wide     \n",
      "------ ------------------- ------------------- ------------------\n",
      "     4 0.35913000000000017 0.20622000000000068 0.4865999999999989\n",
      "     8  0.5121900000000005 0.27107000000000003  0.557642857142858\n",
      "    16  0.6306700000000004  0.3046100000000001 0.5811000000000005\n",
      "    32  0.6928300000000007 0.32680000000000026 0.5911666666666673\n",
      "    64  0.7048900000000019  0.3524300000000006 0.6041142857142863\n",
      "\n",
      "Resultados de Recall en validación\n",
      "\n",
      "*** VAE Traditional***\n",
      "N bits        MNIST                CIFAR-10              Nus-Wide      \n",
      "------ -------------------- --------------------- ---------------------\n",
      "     4 0.004609452357484124 0.0034582718872774357 0.0010154764335391195\n",
      "     8 0.006582693119640589 0.0044170077061974995 0.0011957267730937902\n",
      "    16  0.00901336102526256  0.004945130948858245 0.0012917177801507176\n",
      "    32  0.00975215478784026  0.005669346151291066 0.0013637058781588189\n",
      "    64 0.010472688172746061   0.00599159483314616  0.001429048994805153\n",
      "\n",
      "*** VAE Binary***\n",
      "N bits        MNIST                CIFAR-10              Nus-Wide      \n",
      "------ -------------------- --------------------- ---------------------\n",
      "     4  0.00518643996400413  0.003556722642989071 0.0010101212642881937\n",
      "     8 0.007419275371355405  0.004674706038083881 0.0012552093486624676\n",
      "    16 0.009186190886287575  0.005253382387564146 0.0013310912996568353\n",
      "    32  0.01011948346836297 0.0056359680321819644 0.0013807906143535184\n",
      "    64 0.010296452488096916  0.006078103599775382  0.001431197667914547\n"
     ]
    }
   ],
   "source": [
    "print(\"Resultados de Precision en validación\")\n",
    "t = Table()\n",
    "t[\"N bits\"] = Nbits\n",
    "t[\"MNIST\"] = traditional_dat[\"mnist\"][\"p\"]\n",
    "t[\"CIFAR-10\"] = traditional_dat[\"cifar-10\"][\"p\"]\n",
    "t[\"Nus-Wide\"] = traditional_dat[\"nus-wide\"][\"p\"]\n",
    "\n",
    "print(\"\\n*** VAE Traditional***\")\n",
    "print(t)\n",
    "t = Table()\n",
    "t[\"N bits\"] = Nbits\n",
    "t[\"MNIST\"] = binary_dat[\"mnist\"][\"p\"]\n",
    "t[\"CIFAR-10\"] = binary_dat[\"cifar-10\"][\"p\"]\n",
    "t[\"Nus-Wide\"] = binary_dat[\"nus-wide\"][\"p\"]\n",
    "\n",
    "print(\"\\n*** VAE Binary***\")\n",
    "print(t)\n",
    "\n",
    "print(\"\\nResultados de Recall en validación\")\n",
    "t = Table()\n",
    "t[\"N bits\"] = Nbits\n",
    "t[\"MNIST\"] = traditional_dat[\"mnist\"][\"r\"]\n",
    "t[\"CIFAR-10\"] = traditional_dat[\"cifar-10\"][\"r\"]\n",
    "t[\"Nus-Wide\"] = traditional_dat[\"nus-wide\"][\"r\"]\n",
    "\n",
    "print(\"\\n*** VAE Traditional***\")\n",
    "print(t)\n",
    "t = Table()\n",
    "t[\"N bits\"] = Nbits\n",
    "t[\"MNIST\"] = binary_dat[\"mnist\"][\"r\"]\n",
    "t[\"CIFAR-10\"] = binary_dat[\"cifar-10\"][\"r\"]\n",
    "t[\"Nus-Wide\"] = binary_dat[\"nus-wide\"][\"r\"]\n",
    "\n",
    "print(\"\\n*** VAE Binary***\")\n",
    "print(t)"
   ]
  },
  {
   "cell_type": "markdown",
   "metadata": {},
   "source": [
    "## *Best models facing test set*\n",
    "Luego de la selección de la mejor configuración de los modelos se evalua de diferentes formas sobre el conjunto de pruebas de los distintos *datasets*, los cambios realizados son:\n",
    "* Se entrenan sobre todos los datos disponibles (*train+val*)\n",
    "* Se aumentó el número de *epochs* a 50.\n",
    "\n",
    "El mejor modelo:\n",
    "* Simétrica para *Binary VAE* y Base para *Traditional VAE*\n",
    "* 32 Bits en la codificación (número de variables latentes)\n",
    "* Representación sobre las top 10 mil *tokens* más frecuentes y *Term Frequency*"
   ]
  },
  {
   "cell_type": "code",
   "execution_count": 24,
   "metadata": {
    "collapsed": true
   },
   "outputs": [],
   "source": [
    "def evaluate_hashing(train_hash,test_hash,labels_trainn,labels_testt,tipo=\"topK\",eval_tipo='PRatk',K=100):\n",
    "    \"\"\"\n",
    "        Evaluate Hashing correclty: Query and retrieve on a different set\n",
    "    \"\"\"\n",
    "    test_similares_train =  get_similar(test_hash,train_hash,tipo=tipo,K=K)\n",
    "    if eval_tipo==\"MAP\":\n",
    "        return MAP_atk(test_similares_train,labels_query=labels_testt, labels_source=labels_trainn, K=0) #all ranking\n",
    "    elif eval_tipo == \"PRatk\":\n",
    "        return measure_metrics(labels,test_similares_train,labels_testt,labels_source=labels_trainn)\n",
    "    elif eval_tipo == \"Patk\":\n",
    "        return M_P_atk(test_similares_train, labels_query=labels_testt, labels_source=labels_trainn, K=K)\n",
    "\n",
    "def hash_data(model, x_train, x_test, binary=True):\n",
    "    encode_train = model.predict(x_train)\n",
    "    encode_test = model.predict(x_test)\n",
    "    if binary: #para Binary VAE\n",
    "        probas_train = expit(encode_train)\n",
    "        probas_test = expit(encode_test)\n",
    "        train_hash = (probas_train > 0.5)*1\n",
    "        test_hash = (probas_test > 0.5)*1\n",
    "    else:\n",
    "        median= MedianHashing()\n",
    "        median.fit(encode_train)\n",
    "        train_hash = median.transform(encode_train)\n",
    "        test_hash = median.transform(encode_test)\n",
    "    return train_hash, test_hash\n",
    "BITS_S = 32"
   ]
  },
  {
   "cell_type": "code",
   "execution_count": 86,
   "metadata": {
    "collapsed": false
   },
   "outputs": [
    {
     "data": {
      "text/plain": [
       "44"
      ]
     },
     "execution_count": 86,
     "metadata": {},
     "output_type": "execute_result"
    }
   ],
   "source": [
    "X_total = np.concatenate((X_train,X_val),axis=0)\n",
    "labels_total = np.concatenate((labels_train,labels_val),axis=0)\n",
    "del X_train, X_val, labels_train,labels_val\n",
    "gc.collect()"
   ]
  },
  {
   "cell_type": "code",
   "execution_count": 87,
   "metadata": {
    "collapsed": false,
    "scrolled": true
   },
   "outputs": [
    {
     "name": "stdout",
     "output_type": "stream",
     "text": [
      "pre-encoder network:\n",
      "_________________________________________________________________\n",
      "Layer (type)                 Output Shape              Param #   \n",
      "=================================================================\n",
      "input_1 (InputLayer)         (None, 512)               0         \n",
      "_________________________________________________________________\n",
      "dense_1 (Dense)              (None, 500)               256500    \n",
      "_________________________________________________________________\n",
      "batch_normalization_1 (Batch (None, 500)               2000      \n",
      "_________________________________________________________________\n",
      "dense_2 (Dense)              (None, 500)               250500    \n",
      "_________________________________________________________________\n",
      "batch_normalization_2 (Batch (None, 500)               2000      \n",
      "=================================================================\n",
      "Total params: 511,000\n",
      "Trainable params: 509,000\n",
      "Non-trainable params: 2,000\n",
      "_________________________________________________________________\n",
      "generator network:\n",
      "_________________________________________________________________\n",
      "Layer (type)                 Output Shape              Param #   \n",
      "=================================================================\n",
      "input_2 (InputLayer)         (None, 32)                0         \n",
      "_________________________________________________________________\n",
      "dense_3 (Dense)              (None, 512)               16896     \n",
      "=================================================================\n",
      "Total params: 16,896\n",
      "Trainable params: 16,896\n",
      "Non-trainable params: 0\n",
      "_________________________________________________________________\n",
      "pre-encoder network:\n",
      "_________________________________________________________________\n",
      "Layer (type)                 Output Shape              Param #   \n",
      "=================================================================\n",
      "input_4 (InputLayer)         (None, 512)               0         \n",
      "_________________________________________________________________\n",
      "dense_4 (Dense)              (None, 500)               256500    \n",
      "_________________________________________________________________\n",
      "batch_normalization_3 (Batch (None, 500)               2000      \n",
      "_________________________________________________________________\n",
      "dense_5 (Dense)              (None, 500)               250500    \n",
      "_________________________________________________________________\n",
      "batch_normalization_4 (Batch (None, 500)               2000      \n",
      "=================================================================\n",
      "Total params: 511,000\n",
      "Trainable params: 509,000\n",
      "Non-trainable params: 2,000\n",
      "_________________________________________________________________\n",
      "generator network:\n",
      "_________________________________________________________________\n",
      "Layer (type)                 Output Shape              Param #   \n",
      "=================================================================\n",
      "input_5 (InputLayer)         (None, 32)                0         \n",
      "_________________________________________________________________\n",
      "dense_6 (Dense)              (None, 500)               16500     \n",
      "_________________________________________________________________\n",
      "batch_normalization_5 (Batch (None, 500)               2000      \n",
      "_________________________________________________________________\n",
      "dense_7 (Dense)              (None, 500)               250500    \n",
      "_________________________________________________________________\n",
      "batch_normalization_6 (Batch (None, 500)               2000      \n",
      "_________________________________________________________________\n",
      "dense_8 (Dense)              (None, 512)               256512    \n",
      "=================================================================\n",
      "Total params: 527,512\n",
      "Trainable params: 525,512\n",
      "Non-trainable params: 2,000\n",
      "_________________________________________________________________\n"
     ]
    },
    {
     "data": {
      "text/plain": [
       "<keras.callbacks.History at 0x7fc4f91dff98>"
      ]
     },
     "execution_count": 87,
     "metadata": {},
     "output_type": "execute_result"
    }
   ],
   "source": [
    "traditional_vae, encoder_Tvae, generator_Tvae = traditional_VAE(X_total.shape[1],Nb=BITS_S,units=500,layers_e=2,layers_d=0)\n",
    "traditional_vae.fit(X_total, X_total, epochs=50, batch_size=batch_size,verbose=0)\n",
    "#save model\n",
    "#encoder_Tvae.save(\"saved_models/\"+name_dat+\"_VAE_\"+str(BITS_S)+\"b_E_defaultCNN.h5\")\n",
    "###generator_Tvae.save(\"saved_models/\"+name_dat+\"_VAE_\"+str(BITS_S)+\"b_D_defaultCNN.h5\") #it is not used\n",
    "\n",
    "\n",
    "binary_vae, encoder_Bvae, generator_Bvae = binary_VAE(X_total.shape[1],Nb=BITS_S,units=500,layers_e=2,layers_d=2)\n",
    "binary_vae.fit(X_total, X_total, epochs=50, batch_size=batch_size,verbose=0)\n",
    "#save model\n",
    "#encoder_Bvae.save(\"saved_models/\"+name_dat+\"_BVAE_\"+str(BITS_S)+\"b_E_defaultCNN.h5\")\n",
    "#generator_Bvae.save_weights(\"saved_models/\"+name_dat+\"_BVAE_\"+str(BITS_S)+\"b_D_defaultCNN_w.h5\")\n",
    "\n",
    "#keras.backend.clear_session()\n",
    "#gc.collect()"
   ]
  },
  {
   "cell_type": "code",
   "execution_count": 27,
   "metadata": {
    "collapsed": true
   },
   "outputs": [],
   "source": [
    "#to save results\n",
    "results_dat = {\"mnist\":{\"p\":[],\"r\":[],'p5k':[]},\n",
    "               \"cifar-10\":{\"p\":[],\"r\":[], 'p5k':[]},\n",
    "               \"celeba\":{\"p\":[],\"r\":[],'p5k':[]},\n",
    "              \"nus-wide\":{\"p\":[],\"r\":[],'p5k':[]}} \n",
    "\n",
    "BITS = 32"
   ]
  },
  {
   "cell_type": "markdown",
   "metadata": {
    "collapsed": false,
    "scrolled": false
   },
   "source": [
    "##load model\n",
    "encoder_Tvae = keras.models.load_model(\"saved_models/\"+name_dat+\"_VAE_\"+str(BITS_S)+\"b_E_defaultCNN.h5\")\n",
    "encoder_Bvae = keras.models.load_model(\"saved_models/\"+name_dat+\"_BVAE_\"+str(BITS_S)+\"b_E_defaultCNN.h5\")\n",
    "#generator_Bvae = keras.models.load_model(\"saved_models/\"+name_dat+\"_BVAE_\"+str(BITS_S)+\"b_D_defaultCNN.h5\")\n",
    "encoder_Bvae.summary()"
   ]
  },
  {
   "cell_type": "code",
   "execution_count": 88,
   "metadata": {
    "collapsed": false,
    "scrolled": false
   },
   "outputs": [
    {
     "data": {
      "text/plain": [
       "0"
      ]
     },
     "execution_count": 88,
     "metadata": {},
     "output_type": "execute_result"
    }
   ],
   "source": [
    "total_hash_VAE, test_hash_VAE = hash_data(encoder_Tvae,X_total,X_test, binary=False)\n",
    "total_hash_BVAE, test_hash_BVAE = hash_data(encoder_Bvae,X_total,X_test)\n",
    "\n",
    "del X_total, X_test\n",
    "gc.collect()"
   ]
  },
  {
   "cell_type": "code",
   "execution_count": 89,
   "metadata": {
    "collapsed": false,
    "scrolled": true
   },
   "outputs": [
    {
     "name": "stdout",
     "output_type": "stream",
     "text": [
      "Realizado.\n"
     ]
    }
   ],
   "source": [
    "dataset = name_dat.lower()\n",
    "\n",
    "p_t,r_t = evaluate_hashing(total_hash_VAE,test_hash_VAE,labels_total,labels_test,tipo=\"topK\")\n",
    "results_dat[dataset][\"p\"].append(p_t)\n",
    "results_dat[dataset][\"r\"].append(r_t)\n",
    "p5k_t = evaluate_hashing(total_hash_VAE,test_hash_VAE,labels_total,labels_test,eval_tipo=\"Patk\",K=5000)\n",
    "results_dat[dataset][\"p5k\"].append(p5k_t)\n",
    "\n",
    "p_b,r_b = evaluate_hashing(total_hash_BVAE, test_hash_BVAE,labels_total,labels_test,tipo=\"topK\")\n",
    "results_dat[dataset][\"p\"].append(p_b)\n",
    "results_dat[dataset][\"r\"].append(r_b)\n",
    "p5k_b = evaluate_hashing(total_hash_BVAE, test_hash_BVAE,labels_total,labels_test,eval_tipo=\"Patk\",K=5000)\n",
    "results_dat[dataset][\"p5k\"].append(p5k_b)\n",
    "\n",
    "print(\"Realizado.\")"
   ]
  },
  {
   "cell_type": "code",
   "execution_count": 59,
   "metadata": {
    "collapsed": false,
    "scrolled": false
   },
   "outputs": [
    {
     "name": "stdout",
     "output_type": "stream",
     "text": [
      "*************Top 100 most similar retrieve*************\n",
      "\n",
      "Resultados de Precision en pruebas\n",
      "   Modelo         MNIST              CIFAR-10     \n",
      "----------- ------------------ -------------------\n",
      "Tradicional 0.6640700000000004  0.3156500000000001\n",
      "    Binario  0.692630000000001 0.31519999999999976\n",
      "\n",
      "\n",
      "Resultados de Recall en pruebas\n",
      "   Modelo          MNIST                CIFAR-10      \n",
      "----------- -------------------- ---------------------\n",
      "Tradicional  0.00958005560580477 0.0053499999999999945\n",
      "    Binario 0.010000300110018694 0.0053423728813559255\n",
      "\n",
      "\n",
      "Resultados de Precision en pruebas (top-5k)\n",
      "   Modelo          MNIST         CIFAR-10\n",
      "----------- ------------------- ---------\n",
      "Tradicional            0.382034  0.189065\n",
      "    Binario 0.40876640000000003 0.1952492\n"
     ]
    }
   ],
   "source": [
    "print(\"*************Top 100 most similar retrieve*************\")\n",
    "\n",
    "print(\"\\nResultados de Precision en pruebas\")\n",
    "t = Table()\n",
    "t[\"Modelo\"] = [\"Tradicional\",\"Binario\"]\n",
    "t[\"MNIST\"] = results_dat[\"mnist\"][\"p\"]\n",
    "t[\"CIFAR-10\"] = results_dat[\"cifar-10\"][\"p\"]\n",
    "print(t)\n",
    "\n",
    "print(\"\\n\\nResultados de Recall en pruebas\")\n",
    "t = Table()\n",
    "t[\"Modelo\"] = [\"Tradicional\",\"Binario\"]\n",
    "t[\"MNIST\"] = results_dat[\"mnist\"][\"r\"]\n",
    "t[\"CIFAR-10\"] = results_dat[\"cifar-10\"][\"r\"]\n",
    "print(t)\n",
    "\n",
    "print(\"\\n\\nResultados de Precision en pruebas (top-5k)\")\n",
    "t = Table()\n",
    "t[\"Modelo\"] = [\"Tradicional\",\"Binario\"]\n",
    "t[\"MNIST\"] = results_dat[\"mnist\"][\"p5k\"]\n",
    "t[\"CIFAR-10\"] = results_dat[\"cifar-10\"][\"p5k\"]\n",
    "print(t)"
   ]
  },
  {
   "cell_type": "code",
   "execution_count": 90,
   "metadata": {
    "collapsed": false
   },
   "outputs": [
    {
     "name": "stdout",
     "output_type": "stream",
     "text": [
      "*************Top 100 most similar retrieve*************\n",
      "\n",
      "Resultados de Precision en pruebas\n",
      "   Modelo         MNIST              CIFAR-10           Nus-Wide     \n",
      "----------- ------------------ ------------------- ------------------\n",
      "Tradicional 0.6640700000000004  0.3156500000000001 0.6388428571428587\n",
      "    Binario  0.692630000000001 0.31519999999999976 0.6474714285714297\n",
      "\n",
      "\n",
      "Resultados de Recall en pruebas\n",
      "   Modelo          MNIST                CIFAR-10              Nus-Wide      \n",
      "----------- -------------------- --------------------- ---------------------\n",
      "Tradicional  0.00958005560580477 0.0053499999999999945 0.0011322123203152414\n",
      "    Binario 0.010000300110018694 0.0053423728813559255 0.0011448018261671841\n",
      "\n",
      "\n",
      "Resultados de Precision en pruebas (top-5k)\n",
      "   Modelo          MNIST         CIFAR-10      Nus-Wide     \n",
      "----------- ------------------- --------- ------------------\n",
      "Tradicional            0.382034  0.189065 0.5328659047619048\n",
      "    Binario 0.40876640000000003 0.1952492           0.542368\n"
     ]
    }
   ],
   "source": [
    "print(\"*************Top 100 most similar retrieve*************\")\n",
    "\n",
    "print(\"\\nResultados de Precision en pruebas\")\n",
    "t = Table()\n",
    "t[\"Modelo\"] = [\"Tradicional\",\"Binario\"]\n",
    "t[\"MNIST\"] = results_dat[\"mnist\"][\"p\"]\n",
    "t[\"CIFAR-10\"] = results_dat[\"cifar-10\"][\"p\"]\n",
    "#t[\"CelebA\"] = results_dat[\"celeba\"][\"p\"]\n",
    "t[\"Nus-Wide\"] = results_dat[\"nus-wide\"][\"p\"]\n",
    "print(t)\n",
    "\n",
    "print(\"\\n\\nResultados de Recall en pruebas\")\n",
    "t = Table()\n",
    "t[\"Modelo\"] = [\"Tradicional\",\"Binario\"]\n",
    "t[\"MNIST\"] = results_dat[\"mnist\"][\"r\"]\n",
    "t[\"CIFAR-10\"] = results_dat[\"cifar-10\"][\"r\"]\n",
    "#t[\"CelebA\"] = results_dat[\"celeba\"][\"r\"]\n",
    "t[\"Nus-Wide\"] = results_dat[\"nus-wide\"][\"r\"]\n",
    "print(t)\n",
    "\n",
    "print(\"\\n\\nResultados de Precision en pruebas (top-5k)\")\n",
    "t = Table()\n",
    "t[\"Modelo\"] = [\"Tradicional\",\"Binario\"]\n",
    "t[\"MNIST\"] = results_dat[\"mnist\"][\"p5k\"]\n",
    "t[\"CIFAR-10\"] = results_dat[\"cifar-10\"][\"p5k\"]\n",
    "#t[\"CelebA\"] = results_dat[\"celeba\"][\"p5k\"]\n",
    "t[\"Nus-Wide\"] = results_dat[\"nus-wide\"][\"p5k\"]\n",
    "print(t)"
   ]
  },
  {
   "cell_type": "code",
   "execution_count": 30,
   "metadata": {
    "collapsed": false
   },
   "outputs": [
    {
     "name": "stdout",
     "output_type": "stream",
     "text": [
      "MAP on MNIST dataset\n",
      "Traditional VAE =  0.32121135357033676\n",
      "Binary VAE =  0.3558392854983188\n"
     ]
    }
   ],
   "source": [
    "print(\"MAP on %s dataset\"%name_dat)\n",
    "map_t= evaluate_hashing(total_hash_VAE,test_hash_VAE,labels_total,labels_test,eval_tipo=\"MAP\",K=9999999)\n",
    "print(\"Traditional VAE = \",map_t)\n",
    "\n",
    "map_b= evaluate_hashing(total_hash_BVAE, test_hash_BVAE,labels_total,labels_test,eval_tipo=\"MAP\",K=9999999)\n",
    "print(\"Binary VAE = \",map_b)"
   ]
  },
  {
   "cell_type": "code",
   "execution_count": 60,
   "metadata": {
    "collapsed": false
   },
   "outputs": [
    {
     "name": "stdout",
     "output_type": "stream",
     "text": [
      "MAP on CIFAR-10 dataset\n",
      "Traditional VAE =  0.15638120051854965\n",
      "Binary VAE =  0.1646058046215281\n"
     ]
    }
   ],
   "source": [
    "print(\"MAP on %s dataset\"%name_dat)\n",
    "map_t= evaluate_hashing(total_hash_VAE,test_hash_VAE,labels_total,labels_test,eval_tipo=\"MAP\",K=9999999)\n",
    "print(\"Traditional VAE = \",map_t)\n",
    "\n",
    "map_b= evaluate_hashing(total_hash_BVAE, test_hash_BVAE,labels_total,labels_test,eval_tipo=\"MAP\",K=9999999)\n",
    "print(\"Binary VAE = \",map_b)"
   ]
  },
  {
   "cell_type": "code",
   "execution_count": 91,
   "metadata": {
    "collapsed": false
   },
   "outputs": [
    {
     "name": "stdout",
     "output_type": "stream",
     "text": [
      "MAP on Nus-Wide dataset\n",
      "Traditional VAE =  0.42927246805792646\n",
      "Binary VAE =  0.4435320582162009\n"
     ]
    }
   ],
   "source": [
    "print(\"MAP on %s dataset\"%name_dat)\n",
    "map_t= evaluate_hashing(total_hash_VAE,test_hash_VAE,labels_total,labels_test,eval_tipo=\"MAP\",K=9999999)\n",
    "print(\"Traditional VAE = \",map_t)\n",
    "\n",
    "map_b= evaluate_hashing(total_hash_BVAE, test_hash_BVAE,labels_total,labels_test,eval_tipo=\"MAP\",K=9999999)\n",
    "print(\"Binary VAE = \",map_b)"
   ]
  },
  {
   "cell_type": "markdown",
   "metadata": {},
   "source": [
    "La propuesta presentada de *VAE* binario sobrepasa al *VAE* tradicional en todos los resultados presentados.\n",
    "### Experimentos con el *ball search*\n",
    "A continuación se muestra una leve experimentación cuando se trabaja con la búsqueda a través de un radio en el espacio de *Haming*."
   ]
  },
  {
   "cell_type": "code",
   "execution_count": 31,
   "metadata": {
    "collapsed": true
   },
   "outputs": [],
   "source": [
    "traditional_dat_BS = {\"mnist\":{\"p\":[],\"r\":[]},\"cifar-10\":{\"p\":[],\"r\":[]},\"celeba\":{\"p\":[],\"r\":[]},'nus-wide':{\"p\":[],\"r\":[]}}\n",
    "binary_dat_BS = {\"mnist\":{\"p\":[],\"r\":[]},\"cifar-10\":{\"p\":[],\"r\":[]},\"celeba\":{\"p\":[],\"r\":[]},'nus-wide':{\"p\":[],\"r\":[]}}"
   ]
  },
  {
   "cell_type": "code",
   "execution_count": 92,
   "metadata": {
    "collapsed": false
   },
   "outputs": [],
   "source": [
    "import pickle\n",
    "def load_object(filename):\n",
    "    with open(filename, 'rb') as output:  # Overwrites any existing file.\n",
    "        return pickle.load(output)\n",
    "\n",
    "traditional_dat_BS = load_object(\"saved_models/ball_VAE_img_VGG.pkl\")\n",
    "binary_dat_BS = load_object(\"saved_models/ball_BVAE_img_VGG.pkl\")"
   ]
  },
  {
   "cell_type": "code",
   "execution_count": null,
   "metadata": {
    "collapsed": true
   },
   "outputs": [],
   "source": []
  },
  {
   "cell_type": "code",
   "execution_count": 32,
   "metadata": {
    "collapsed": true
   },
   "outputs": [],
   "source": [
    "from utils import get_similar_hammD_based,get_hammD"
   ]
  },
  {
   "cell_type": "code",
   "execution_count": 93,
   "metadata": {
    "collapsed": false,
    "scrolled": true
   },
   "outputs": [
    {
     "name": "stdout",
     "output_type": "stream",
     "text": [
      "Termino\n",
      "CPU times: user 2h 10min 55s, sys: 1min 11s, total: 2h 12min 7s\n",
      "Wall time: 2h 11min 31s\n"
     ]
    }
   ],
   "source": [
    "%%time\n",
    "#Optimizar en base a hamming ranking..\n",
    "\n",
    "dataset = name_dat.lower()\n",
    "ball_radius = np.arange(0,32) #ball of radius graphic\n",
    "\n",
    "\n",
    "hammD_scores = get_hammD(test_hash_BVAE,total_hash_BVAE) #all hamming ranking\n",
    "for ball_r in ball_radius:\n",
    "    test_similares_train = get_similar_hammD_based(hammD_scores,tipo=\"ball\", ball=ball_r)\n",
    "\n",
    "    p_b,r_b  = measure_metrics(labels,test_similares_train,labels_query=labels_test,labels_source=labels_total)\n",
    "    binary_dat_BS[dataset][\"p\"].append(p_b)\n",
    "    binary_dat_BS[dataset][\"r\"].append(r_b)\n",
    "    \n",
    "hammD_scores = get_hammD(test_hash_VAE,total_hash_VAE) #all hamming ranking\n",
    "for ball_r in ball_radius:\n",
    "    test_similares_train = get_similar_hammD_based(hammD_scores,tipo=\"ball\", ball=ball_r)\n",
    "\n",
    "    p_t,r_t  = measure_metrics(labels,test_similares_train,labels_query=labels_test,labels_source=labels_total)\n",
    "    traditional_dat_BS[dataset][\"p\"].append(p_t)\n",
    "    traditional_dat_BS[dataset][\"r\"].append(r_t)\n",
    "    \n",
    "del hammD_scores, test_similares_train\n",
    "gc.collect()\n",
    "    \n",
    "print(\"Termino\")"
   ]
  },
  {
   "cell_type": "code",
   "execution_count": 94,
   "metadata": {
    "collapsed": false,
    "scrolled": true
   },
   "outputs": [],
   "source": [
    "import pickle\n",
    "def save_object(obj, filename):\n",
    "    with open(filename, 'wb') as output:  # Overwrites any existing file.\n",
    "        pickle.dump(obj, output, pickle.HIGHEST_PROTOCOL)\n",
    "\n",
    "save_object(traditional_dat_BS, 'saved_models/ball_VAE_img_VGG.pkl')\n",
    "save_object(binary_dat_BS, 'saved_models/ball_BVAE_img_VGG.pkl')"
   ]
  },
  {
   "cell_type": "code",
   "execution_count": 101,
   "metadata": {
    "collapsed": false,
    "scrolled": false
   },
   "outputs": [
    {
     "data": {
      "image/png": "[encoded data removed]",
      "text/plain": [
       "<matplotlib.figure.Figure at 0x7fc4f29d5b70>"
      ]
     },
     "metadata": {},
     "output_type": "display_data"
    }
   ],
   "source": [
    "choosed_data = [\"mnist\", \"CIFAR-10\", \"Nus-Wide\"]\n",
    "f, axx = plt.subplots(1, len(choosed_data), figsize=(16,5), sharey=True)\n",
    "\n",
    "b_aux = 10\n",
    "for z in range(len(choosed_data)):\n",
    "    dat = choosed_data[z].lower()\n",
    "    \n",
    "    axx[z].plot(ball_radius[:b_aux],binary_dat_BS[dat][\"p\"][:b_aux],'go-',label=\"precision (Binary VAE)\")\n",
    "    axx[z].plot(ball_radius[:b_aux],binary_dat_BS[dat][\"r\"][:b_aux],'gv-', label='recall' ) \n",
    "    axx[z].plot(ball_radius[:b_aux],traditional_dat_BS[dat][\"p\"][:b_aux],'bo-',label=\"precision (Traditional VAE)\")\n",
    "    axx[z].plot(ball_radius[:b_aux],traditional_dat_BS[dat][\"r\"][:b_aux],'bv-', label='recall' ) \n",
    "    axx[z].set_title(choosed_data[z])\n",
    "    axx[z].set_xticks(ball_radius)\n",
    "    axx[z].set_xlabel(\"Ball radius\")\n",
    "    axx[z].set_xlim(-0.5, len(ball_radius[:b_aux])-.5)\n",
    "    #axx[z].set_ylim(-0.05)\n",
    "    \n",
    "    if z == 0:\n",
    "        axx[z].set_ylabel(\"Score\")\n",
    "        axx[z].legend(bbox_to_anchor=(2, -0.1))\n",
    "        \n",
    "f.suptitle(\"Comparison of ball search\")\n",
    "plt.show()"
   ]
  },
  {
   "cell_type": "markdown",
   "metadata": {},
   "source": [
    "en los primeros valores es cercano a 0 ya que defino que si no encuentra datos en la recuperación asigna precisión 0, es decir debe ampliar harto la búsqueda en el espacio de hash/hamming, para encontrar valores. la técnica de Top-K no ve este efecto. Por ejemplo, el espacio de hash en Snippets es mas alejado y disperso entre sí, mienetras que el de Reuters pareciera ser el más compacto (con ball 4 llega al máximo valor)."
   ]
  }
 ],
 "metadata": {
  "anaconda-cloud": {},
  "kernelspec": {
   "display_name": "Python [conda env:tesis]",
   "language": "python",
   "name": "conda-env-tesis-py"
  },
  "language_info": {
   "codemirror_mode": {
    "name": "ipython",
    "version": 3
   },
   "file_extension": ".py",
   "mimetype": "text/x-python",
   "name": "python",
   "nbconvert_exporter": "python",
   "pygments_lexer": "ipython3",
   "version": "3.5.3"
  }
 },
 "nbformat": 4,
 "nbformat_minor": 2
}
