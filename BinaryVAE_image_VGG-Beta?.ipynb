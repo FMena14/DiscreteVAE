{
 "cells": [
  {
   "cell_type": "markdown",
   "metadata": {},
   "source": [
    "<img src=\"http://www.exalumnos.usm.cl/wp-content/uploads/2015/06/Isotipo-Negro.gif\" title=\"Title text\" width=\"20%\" height=\"20%\" />\n",
    "\n",
    "\n",
    "<hr style=\"height:2px;border:none\"/>\n",
    "<h1 align='center'> Binary Variational Semantic Hashing </h1>\n",
    "\n",
    "<H3 align='center'> Extensión trabajo CIARP </H3>\n",
    "<hr style=\"height:2px;border:none\"/>"
   ]
  },
  {
   "cell_type": "code",
   "execution_count": 2,
   "metadata": {
    "collapsed": false,
    "scrolled": true
   },
   "outputs": [
    {
     "name": "stderr",
     "output_type": "stream",
     "text": [
      "/home/fmena/anaconda3/envs/tesis/lib/python3.5/site-packages/h5py/__init__.py:34: FutureWarning: Conversion of the second argument of issubdtype from `float` to `np.floating` is deprecated. In future, it will be treated as `np.float64 == np.dtype(float).type`.\n",
      "  from ._conv import register_converters as _register_converters\n",
      "Using TensorFlow backend.\n",
      "/home/fmena/.local/lib/python3.5/site-packages/tensorflow/python/framework/dtypes.py:469: FutureWarning: Passing (type, 1) or '1type' as a synonym of type is deprecated; in a future version of numpy, it will be understood as (type, (1,)) / '(1,)type'.\n",
      "  _np_qint8 = np.dtype([(\"qint8\", np.int8, 1)])\n",
      "/home/fmena/.local/lib/python3.5/site-packages/tensorflow/python/framework/dtypes.py:470: FutureWarning: Passing (type, 1) or '1type' as a synonym of type is deprecated; in a future version of numpy, it will be understood as (type, (1,)) / '(1,)type'.\n",
      "  _np_quint8 = np.dtype([(\"quint8\", np.uint8, 1)])\n",
      "/home/fmena/.local/lib/python3.5/site-packages/tensorflow/python/framework/dtypes.py:471: FutureWarning: Passing (type, 1) or '1type' as a synonym of type is deprecated; in a future version of numpy, it will be understood as (type, (1,)) / '(1,)type'.\n",
      "  _np_qint16 = np.dtype([(\"qint16\", np.int16, 1)])\n",
      "/home/fmena/.local/lib/python3.5/site-packages/tensorflow/python/framework/dtypes.py:472: FutureWarning: Passing (type, 1) or '1type' as a synonym of type is deprecated; in a future version of numpy, it will be understood as (type, (1,)) / '(1,)type'.\n",
      "  _np_quint16 = np.dtype([(\"quint16\", np.uint16, 1)])\n",
      "/home/fmena/.local/lib/python3.5/site-packages/tensorflow/python/framework/dtypes.py:473: FutureWarning: Passing (type, 1) or '1type' as a synonym of type is deprecated; in a future version of numpy, it will be understood as (type, (1,)) / '(1,)type'.\n",
      "  _np_qint32 = np.dtype([(\"qint32\", np.int32, 1)])\n",
      "/home/fmena/.local/lib/python3.5/site-packages/tensorflow/python/framework/dtypes.py:476: FutureWarning: Passing (type, 1) or '1type' as a synonym of type is deprecated; in a future version of numpy, it will be understood as (type, (1,)) / '(1,)type'.\n",
      "  np_resource = np.dtype([(\"resource\", np.ubyte, 1)])\n"
     ]
    }
   ],
   "source": [
    "import numpy as np\n",
    "import keras,gc, os, time, sys\n",
    "from keras.layers import *\n",
    "from keras.models import Sequential,Model\n",
    "from keras import backend as K\n",
    "from astropy.table import Table\n",
    "import matplotlib.pyplot as plt\n",
    "import seaborn as sns\n",
    "import pandas as pd\n",
    "from PIL import Image\n",
    "from scipy.special import expit\n",
    "\n",
    "from base_networks import *\n",
    "from utils import check_availability, load_imgs_mask\n",
    "\n",
    "from utils import get_topK_labels,set_newlabel_list, enmask_data\n",
    "\n",
    "np.random.seed(20)"
   ]
  },
  {
   "cell_type": "code",
   "execution_count": 1,
   "metadata": {
    "collapsed": false
   },
   "outputs": [
    {
     "name": "stdout",
     "output_type": "stream",
     "text": [
      "celeba_VGG_avg.npy  cifar10_VGG_avg.npy  mnist_VGG_avg.npy  nuswide_VGG_avg.npy\r\n",
      "celeba_VGG.npy\t    cifar10_VGG.npy\t mnist_VGG.npy\t    nuswide_VGG.npy\r\n"
     ]
    }
   ],
   "source": [
    "!ls Data/VGG_128"
   ]
  },
  {
   "cell_type": "markdown",
   "metadata": {},
   "source": [
    "## Load Data\n",
    "\n",
    "### MNIST\n",
    "---\n",
    "\n",
    "Imágenes en blanco y negro de 28x28 píxeles, de números del 0 al 9, que dan orígen a las 10 clases del problema.\n",
    "\n",
    "|Tipo set|Datos|Label|\n",
    "|---|---|---|\n",
    "|Entrenamiento|60000|10|\n",
    "|Pruebas|10000|10|"
   ]
  },
  {
   "cell_type": "code",
   "execution_count": 21,
   "metadata": {
    "collapsed": false
   },
   "outputs": [
    {
     "data": {
      "text/plain": [
       "(70000, 512)"
      ]
     },
     "execution_count": 21,
     "metadata": {},
     "output_type": "execute_result"
    }
   ],
   "source": [
    "name_dat = \"MNIST\"\n",
    "\n",
    "(_, aux_t), (_, aux_test) = keras.datasets.mnist.load_data()\n",
    "labels = [\"0\", \"1\", \"2\", \"3\", \"4\", \"5\", \"6\", \"7\", \"8\", \"9\"]\n",
    "labels_t = np.asarray([labels[value] for value in aux_t])\n",
    "labels_test = np.asarray([labels[value] for value in aux_test])\n",
    "labels_t = np.concatenate((labels_t,labels_test),axis=0)\n",
    "\n",
    "#X_t = np.load(\"./Data/VGG_CNN/mnist_VGG_avg.npy\")\n",
    "X_t = np.load(\"./Data/VGG_128/mnist_VGG_avg.npy\")\n",
    "\n",
    "X_t.shape"
   ]
  },
  {
   "cell_type": "code",
   "execution_count": 54,
   "metadata": {
    "collapsed": false
   },
   "outputs": [
    {
     "data": {
      "text/plain": [
       "(70000, 784)"
      ]
     },
     "execution_count": 54,
     "metadata": {},
     "output_type": "execute_result"
    }
   ],
   "source": [
    "name_dat = \"MNIST-raw\"\n",
    "\n",
    "(X_t, aux_t), (X_test, aux_test) = keras.datasets.mnist.load_data()\n",
    "labels = [\"0\", \"1\", \"2\", \"3\", \"4\", \"5\", \"6\", \"7\", \"8\", \"9\"]\n",
    "labels_t = np.asarray([labels[value] for value in aux_t])\n",
    "labels_test = np.asarray([labels[value] for value in aux_test])\n",
    "labels_t = np.concatenate((labels_t,labels_test),axis=0)\n",
    "\n",
    "X_t = np.concatenate([X_t, X_test], axis=0).reshape(len(labels_t),28*28)\n",
    "X_t.shape"
   ]
  },
  {
   "cell_type": "code",
   "execution_count": 55,
   "metadata": {
    "collapsed": false
   },
   "outputs": [
    {
     "name": "stdout",
     "output_type": "stream",
     "text": [
      "Cantidad de datos Entrenamiento:  69000\n",
      "Cantidad de datos Pruebas:  1000\n"
     ]
    }
   ],
   "source": [
    "##### 1000 imagenes de prueba... \n",
    "from utils import sample_test_mask\n",
    "mask_train = sample_test_mask(labels_t, N=100, multi_label=False)\n",
    "\n",
    "## creat test como dicen...\n",
    "X_test = X_t[~mask_train]\n",
    "X_t = X_t[mask_train]\n",
    "labels_test = enmask_data(labels_t, ~mask_train)\n",
    "labels_t = enmask_data(labels_t, mask_train)\n",
    "\n",
    "gc.collect()\n",
    "print(\"Cantidad de datos Entrenamiento: \",len(X_t))\n",
    "print(\"Cantidad de datos Pruebas: \",len(X_test))"
   ]
  },
  {
   "cell_type": "markdown",
   "metadata": {
    "collapsed": true
   },
   "source": [
    "### CIFAR-10\n",
    "---\n",
    "Imágenes RGB pequeñas de  32x32 píxeles, de fotos naturales de distintos objetos.\n",
    "\n",
    "|Tipo set|Datos|Label|\n",
    "|---|---|---|\n",
    "|Entrenamiento|50000|10|\n",
    "|Pruebas|10000|10|"
   ]
  },
  {
   "cell_type": "code",
   "execution_count": 38,
   "metadata": {
    "collapsed": false,
    "scrolled": false
   },
   "outputs": [
    {
     "data": {
      "text/plain": [
       "(60000, 512)"
      ]
     },
     "execution_count": 38,
     "metadata": {},
     "output_type": "execute_result"
    }
   ],
   "source": [
    "name_dat = \"CIFAR-10_224\"\n",
    "\n",
    "(_, aux_t), (_, aux_test) = keras.datasets.cifar10.load_data()\n",
    "\n",
    "labels = [\"airplane\", \"automobile\",\"bird\", \"cat\",\"deer\",\"dog\",\"frog\",\"horse\",\"ship\",\"truck\"]\n",
    "labels_t = np.asarray([labels[value[0]] for value in aux_t])\n",
    "labels_test = np.asarray([labels[value[0]] for value in aux_test])\n",
    "labels_t = np.concatenate((labels_t,labels_test),axis=0)\n",
    "\n",
    "#X_t = np.load(\"./Data/VGG_CNN/cifar10_VGG_avg.npy\")\n",
    "#X_t = np.load(\"./Data/VGG_64/cifar10_VGG_avg.npy\") #mejora\n",
    "\n",
    "#X_t = np.load(\"./Data/VGG_128/cifar10_VGG_avg.npy\") #mejora\n",
    "X_t = np.load(\"./Data/VGG_224/cifar10_VGG_avg.npy\") #mejora\n",
    "\n",
    "X_t.shape"
   ]
  },
  {
   "cell_type": "code",
   "execution_count": 39,
   "metadata": {
    "collapsed": false
   },
   "outputs": [
    {
     "name": "stdout",
     "output_type": "stream",
     "text": [
      "Cantidad de datos Entrenamiento:  59000\n",
      "Cantidad de datos Pruebas:  1000\n"
     ]
    }
   ],
   "source": [
    "##### 1000 imagenes de prueba... \n",
    "from utils import sample_test_mask\n",
    "mask_train = sample_test_mask(labels_t, N=100, multi_label=False)\n",
    "\n",
    "## creat test como dicen...\n",
    "X_test = X_t[~mask_train]\n",
    "X_t = X_t[mask_train]\n",
    "labels_test = enmask_data(labels_t, ~mask_train)\n",
    "labels_t = enmask_data(labels_t, mask_train)\n",
    "\n",
    "gc.collect()\n",
    "print(\"Cantidad de datos Entrenamiento: \",len(X_t))\n",
    "print(\"Cantidad de datos Pruebas: \",len(X_test))"
   ]
  },
  {
   "cell_type": "markdown",
   "metadata": {},
   "source": [
    "### NUSWIDE\n",
    "---\n",
    "* Cantidad de datos totales: 269648\n",
    "* Datos utlizados (con imagenes disponibles a descargar): 169500\n",
    "* Datos top-21 clases: 158383\n",
    "\n",
    "Imágenes de eventos con 81 tópicos asociados, re-dimensionadas a 64x64.\n",
    "\n",
    "|Tipo set|Datos|Label|\n",
    "|---|---|---|\n",
    "|Entrenamiento|xxx|81|\n",
    "|Validación|xxx|81|\n",
    "|Pruebas|xxx|81|"
   ]
  },
  {
   "cell_type": "code",
   "execution_count": 45,
   "metadata": {
    "collapsed": false,
    "scrolled": true
   },
   "outputs": [
    {
     "name": "stdout",
     "output_type": "stream",
     "text": [
      "Cantidad de labels:  81\n",
      "Cantidad de objetos:  169500\n"
     ]
    },
    {
     "data": {
      "text/plain": [
       "[['person'], ['person'], ['person'], ['person'], ['person']]"
      ]
     },
     "execution_count": 45,
     "metadata": {},
     "output_type": "execute_result"
    }
   ],
   "source": [
    "name_dat = \"Nus-Wide\"\n",
    "\n",
    "folder = \"../Dataset_NUSWIDE/\"\n",
    "\n",
    "mask_av = np.loadtxt(\"./Data/\"+name_dat+\"_mask_avail.txt\").astype(bool)\n",
    "\n",
    "labels = pd.read_csv(folder+'Concepts81.txt',header=None).values.reshape(1,-1)[0]\n",
    "print(\"Cantidad de labels: \",len(labels) )\n",
    "\n",
    "labels_t = [[] for _ in range(269648)]\n",
    "for concept in labels:\n",
    "    aux = pd.read_csv(folder+\"Groundtruth/AllLabels/Labels_\"+concept+\".txt\",header=None)\n",
    "    indexs_true = aux.loc[(aux==1).values[:,0]].index\n",
    "    \n",
    "    for value in indexs_true:\n",
    "        labels_t[value].append(concept)\n",
    "        \n",
    "labels_t = enmask_data(labels_t, mask_av)\n",
    "N_total = len(labels_t)\n",
    "print(\"Cantidad de objetos: \",N_total )\n",
    "\n",
    "labels_t[:5]"
   ]
  },
  {
   "cell_type": "markdown",
   "metadata": {},
   "source": [
    "#### get top-K labels data"
   ]
  },
  {
   "cell_type": "code",
   "execution_count": 46,
   "metadata": {
    "collapsed": false
   },
   "outputs": [
    {
     "name": "stdout",
     "output_type": "stream",
     "text": [
      "category with most data (sky) has = 61066, the top-K category (mountain) has = 4232\n",
      "Cantidad de objetos:  158383\n"
     ]
    }
   ],
   "source": [
    "new_labels = get_topK_labels(labels_t, labels, K=21)\n",
    "\n",
    "labels_t = set_newlabel_list(new_labels, labels_t)\n",
    "labels = new_labels\n",
    "# y si quedan datos sin clase?\n",
    "mask_used_t = np.asarray(list(map(len,labels_t))) != 0\n",
    "\n",
    "labels_t = enmask_data(labels_t, mask_used_t)\n",
    "print(\"Cantidad de objetos: \", len(labels_t) )"
   ]
  },
  {
   "cell_type": "markdown",
   "metadata": {},
   "source": [
    "N_used = 80*1000 #o 150k??\n",
    "idx_all = np.arange(0, N_total)\n",
    "mask_used = np.zeros(N_total, dtype=bool)\n",
    "mask_used[np.random.choice(np.arange(0, N_total), size=N_used, replace=False)] = 1\n",
    "mask_used"
   ]
  },
  {
   "cell_type": "code",
   "execution_count": 47,
   "metadata": {
    "collapsed": false,
    "scrolled": true
   },
   "outputs": [
    {
     "data": {
      "text/plain": [
       "(158383, 512)"
      ]
     },
     "execution_count": 47,
     "metadata": {},
     "output_type": "execute_result"
    }
   ],
   "source": [
    "X_t = np.load(\"./Data/VGG_224/nuswide_VGG_avg.npy\")\n",
    "X_t.shape"
   ]
  },
  {
   "cell_type": "code",
   "execution_count": 48,
   "metadata": {
    "collapsed": false
   },
   "outputs": [
    {
     "name": "stdout",
     "output_type": "stream",
     "text": [
      "Cantidad de datos Entrenamiento:  156283\n",
      "Cantidad de datos Pruebas:  2100\n"
     ]
    }
   ],
   "source": [
    "from utils import sample_test_mask\n",
    "mask_train = sample_test_mask(labels_t, N=100)\n",
    "\n",
    "## creat test como dicen...\n",
    "X_test = X_t[~mask_train]\n",
    "X_t = X_t[mask_train]\n",
    "labels_test = enmask_data(labels_t, ~mask_train)\n",
    "labels_t = enmask_data(labels_t, mask_train)\n",
    "\n",
    "gc.collect()\n",
    "print(\"Cantidad de datos Entrenamiento: \",len(X_t))\n",
    "print(\"Cantidad de datos Pruebas: \",len(X_test))"
   ]
  },
  {
   "cell_type": "markdown",
   "metadata": {
    "collapsed": true
   },
   "source": [
    "### CelebA\n",
    "---\n",
    "* Cantidad de datos totales: 202599\n",
    "* Datos en plataforma Kaggle:https://www.kaggle.com/jessicali9530/celeba-dataset \n",
    "\n",
    "Imágenes RGB re-dimensionadas a 64x64 píxeles, de fotos naturales de rostros de celebridades. Una muestra es utilizada\n",
    "\n",
    "|Tipo set|Datos|Label|\n",
    "|---|---|---|\n",
    "|Entrenamiento|xxx|40|\n",
    "|Validación|xxx|40|\n",
    "|Pruebas|xxx|40|"
   ]
  },
  {
   "cell_type": "markdown",
   "metadata": {},
   "source": [
    "mask_av = check_availability(folder+\"small_images/\", labels_t)\n",
    "np.savetxt(\"./Data/+\"name_dat+\"_mask_avail.txt\", mask_av, fmt=\"%1i\")"
   ]
  },
  {
   "cell_type": "code",
   "execution_count": 92,
   "metadata": {
    "collapsed": false,
    "scrolled": true
   },
   "outputs": [
    {
     "name": "stdout",
     "output_type": "stream",
     "text": [
      "Cantidad de labels:  40\n",
      "Cantidad de objetos:  202599\n"
     ]
    },
    {
     "data": {
      "text/plain": [
       "['5_o_Clock_Shadow',\n",
       " 'Arched_Eyebrows',\n",
       " 'Attractive',\n",
       " 'Bags_Under_Eyes',\n",
       " 'Bald']"
      ]
     },
     "execution_count": 92,
     "metadata": {},
     "output_type": "execute_result"
    }
   ],
   "source": [
    "name_dat = \"CelebA\"\n",
    "mask_av = np.loadtxt(\"./Data/\"+name_dat+\"_mask_avail.txt\").astype(bool)\n",
    "\n",
    "folder = \"../CelebA/\"\n",
    "\n",
    "part = pd.read_csv(folder+\"list_eval_partition.csv\")\n",
    "mask_train = (part[\"partition\"].values == 0)[mask_av]\n",
    "mask_val = (part[\"partition\"].values == 1)[mask_av]\n",
    "mask_test = (part[\"partition\"].values == 2)[mask_av]\n",
    "\n",
    "df_atrr = pd.read_csv(folder+\"list_attr_celeba.csv\")[mask_av]\n",
    "img_names = df_atrr[\"image_id\"].values\n",
    "labels = list(df_atrr.columns[1:])\n",
    "print(\"Cantidad de labels: \",len(labels) )\n",
    "\n",
    "N_total = len(df_atrr)\n",
    "print(\"Cantidad de objetos: \",N_total )\n",
    "aux = (df_atrr == 1).values\n",
    "labels_t = np.asarray([list(df_atrr.columns[aux[value]]) for value in range(N_total)])\n",
    "labels[:5]"
   ]
  },
  {
   "cell_type": "code",
   "execution_count": 93,
   "metadata": {
    "collapsed": false
   },
   "outputs": [
    {
     "data": {
      "text/plain": [
       "(202599, 512)"
      ]
     },
     "execution_count": 93,
     "metadata": {},
     "output_type": "execute_result"
    }
   ],
   "source": [
    "X_t = np.load(\"./Data/VGG_128/celeba_VGG_avg.npy\")\n",
    "X_t.shape"
   ]
  },
  {
   "cell_type": "code",
   "execution_count": 94,
   "metadata": {
    "collapsed": false
   },
   "outputs": [
    {
     "name": "stdout",
     "output_type": "stream",
     "text": [
      "Cantidad de datos Entrenamiento:  198599\n",
      "Cantidad de datos Pruebas:  4000\n"
     ]
    }
   ],
   "source": [
    "from utils import sample_test_mask\n",
    "mask_train = sample_test_mask(labels_t, N=100)\n",
    "\n",
    "## creat test como dicen...\n",
    "X_test = X_t[~mask_train]\n",
    "X_t = X_t[mask_train]\n",
    "labels_test = enmask_data(labels_t, ~mask_train)\n",
    "labels_t = enmask_data(labels_t, mask_train)\n",
    "\n",
    "gc.collect()\n",
    "print(\"Cantidad de datos Entrenamiento: \",len(X_t))\n",
    "print(\"Cantidad de datos Pruebas: \",len(X_test))"
   ]
  },
  {
   "cell_type": "markdown",
   "metadata": {},
   "source": [
    "### Validation creation\n",
    "\n",
    "Pre-process: División por 255"
   ]
  },
  {
   "cell_type": "code",
   "execution_count": 56,
   "metadata": {
    "collapsed": false
   },
   "outputs": [
    {
     "data": {
      "text/plain": [
       "array([[0., 0., 0., ..., 0., 0., 0.],\n",
       "       [0., 0., 0., ..., 0., 0., 0.],\n",
       "       [0., 0., 0., ..., 0., 0., 0.],\n",
       "       ...,\n",
       "       [0., 0., 0., ..., 0., 0., 0.],\n",
       "       [0., 0., 0., ..., 0., 0., 0.],\n",
       "       [0., 0., 0., ..., 0., 0., 0.]], dtype=float32)"
      ]
     },
     "execution_count": 56,
     "metadata": {},
     "output_type": "execute_result"
    }
   ],
   "source": [
    "X_t = X_t.astype(\"float32\")/255\n",
    "X_test = X_test.astype(\"float32\")/255\n",
    "X_test"
   ]
  },
  {
   "cell_type": "code",
   "execution_count": 49,
   "metadata": {
    "collapsed": false,
    "scrolled": false
   },
   "outputs": [
    {
     "data": {
      "text/plain": [
       "array([[-0.2391867 , -0.0800656 , -0.5255603 , ...,  2.0267978 ,\n",
       "        -0.7926268 , -0.28253224],\n",
       "       [-0.46949136, -0.4248265 , -0.5255603 , ..., -0.36183134,\n",
       "        -0.7724172 ,  0.654276  ],\n",
       "       [-0.46949136,  0.70152617, -0.09021315, ...,  1.803149  ,\n",
       "        -0.87249523, -0.3998157 ],\n",
       "       ...,\n",
       "       [-0.19952746, -0.06683692, -0.47545913, ..., -0.16212985,\n",
       "        -0.8411775 , -0.3715279 ],\n",
       "       [ 0.6056057 , -0.4240198 ,  1.9254937 , ...,  0.31761703,\n",
       "        -0.44627804, -0.39876404],\n",
       "       [ 6.8777714 , -0.08288602, -0.26329815, ..., -0.42994145,\n",
       "        -0.24538775, -0.03930518]], dtype=float32)"
      ]
     },
     "execution_count": 49,
     "metadata": {},
     "output_type": "execute_result"
    }
   ],
   "source": [
    "from sklearn.preprocessing import StandardScaler\n",
    "std = StandardScaler(with_mean=True, with_std=True)\n",
    "std.fit(X_t)\n",
    "\n",
    "X_t = std.transform(X_t)\n",
    "X_test = std.transform(X_test)\n",
    "X_t"
   ]
  },
  {
   "cell_type": "code",
   "execution_count": 57,
   "metadata": {
    "collapsed": false,
    "scrolled": true
   },
   "outputs": [
    {
     "name": "stdout",
     "output_type": "stream",
     "text": [
      "Cantidad de datos Entrenamiento:  68000\n",
      "Cantidad de datos Validación:  1000\n",
      "Cantidad de datos Pruebas:  1000\n"
     ]
    },
    {
     "data": {
      "text/plain": [
       "10"
      ]
     },
     "execution_count": 57,
     "metadata": {},
     "output_type": "execute_result"
    }
   ],
   "source": [
    "from sklearn.model_selection import train_test_split\n",
    "X_train, X_val, labels_train, labels_val  = train_test_split(X_t, labels_t, random_state=20,test_size=len(X_test))\n",
    "\n",
    "print(\"Cantidad de datos Entrenamiento: \",len(X_train))\n",
    "print(\"Cantidad de datos Validación: \",len(X_val))\n",
    "print(\"Cantidad de datos Pruebas: \",len(X_test))\n",
    "del X_t, labels_t\n",
    "gc.collect()"
   ]
  },
  {
   "cell_type": "code",
   "execution_count": 58,
   "metadata": {
    "collapsed": true
   },
   "outputs": [],
   "source": [
    "X_train_input = X_train\n",
    "X_val_input = X_val\n",
    "X_test_input = X_test"
   ]
  },
  {
   "cell_type": "markdown",
   "metadata": {},
   "source": [
    "### Model Architecture\n",
    "---\n",
    "CNN\n",
    "https://github.com/rtflynn/Cifar-Autoencoder"
   ]
  },
  {
   "cell_type": "code",
   "execution_count": 59,
   "metadata": {
    "collapsed": true
   },
   "outputs": [],
   "source": [
    "raw = True"
   ]
  },
  {
   "cell_type": "code",
   "execution_count": 60,
   "metadata": {
    "collapsed": false
   },
   "outputs": [],
   "source": [
    "def REC_loss(x_true, x_pred):\n",
    "    if raw:\n",
    "        return K.mean( K.binary_crossentropy(x_true, x_pred), axis=-1)\n",
    "    else:\n",
    "        return K.mean( (x_true- x_pred)**2 ,axis=-1)  #it should be VGG"
   ]
  },
  {
   "cell_type": "code",
   "execution_count": 61,
   "metadata": {
    "collapsed": false,
    "scrolled": true
   },
   "outputs": [],
   "source": [
    "def traditional_VAE(data_dim,Nb,units,layers_e,layers_d,opt='adam',BN=True, beta=0, summ=True):\n",
    "    pre_encoder = define_pre_encoder(data_dim, layers=layers_e,units=units,BN=BN)\n",
    "    if raw:\n",
    "        generator = define_generator(Nb,data_dim,layers=layers_d,units=units,BN=BN, out_type='sigmoid')\n",
    "    else:\n",
    "        generator = define_generator(Nb,data_dim,layers=layers_d,units=units,BN=BN, out_type='linear')    \n",
    "    if summ:\n",
    "        print(\"pre-encoder network:\")\n",
    "        pre_encoder.summary()\n",
    "        print(\"generator network:\")\n",
    "        generator.summary()\n",
    "    ## Encoder\n",
    "    x = Input(shape=(data_dim,))\n",
    "    hidden = pre_encoder(x)\n",
    "    z_mean = Dense(Nb,activation='linear', name='z-mean')(hidden)\n",
    "    z_log_var = Dense(Nb,activation='linear',name = 'z-log_var')(hidden)\n",
    "    encoder = Model(x, z_mean) # build a model to project inputs on the latent space\n",
    "\n",
    "    def sampling(args):\n",
    "        epsilon_std = 1.0\n",
    "        z_mean, z_log_var = args\n",
    "        epsilon = K.random_normal(shape=(K.shape(z_mean)[0], Nb),mean=0., stddev=epsilon_std)\n",
    "        return z_mean + K.exp(0.5*z_log_var) * epsilon #+sigma (desvest)\n",
    "    \n",
    "    ## Decoder\n",
    "    z_sampled = Lambda(sampling, output_shape=(Nb,), name='sampled')([z_mean, z_log_var])\n",
    "    output = generator(z_sampled)\n",
    "    \n",
    "    Recon_loss = REC_loss\n",
    "    kl_loss = KL_loss(z_mean,z_log_var)\n",
    "    def VAE_loss(y_true, y_pred): \n",
    "        return Recon_loss(y_true, y_pred) + beta*kl_loss(y_true, y_pred)\n",
    "\n",
    "    traditional_vae = Model(x, output)\n",
    "    traditional_vae.compile(optimizer=opt, loss=VAE_loss, metrics = [Recon_loss,kl_loss])\n",
    "    \n",
    "    return traditional_vae, encoder,generator"
   ]
  },
  {
   "cell_type": "code",
   "execution_count": 62,
   "metadata": {
    "collapsed": false,
    "scrolled": true
   },
   "outputs": [],
   "source": [
    "import keras.backend as K\n",
    "def sample_gumbel(shape,eps=K.epsilon()):\n",
    "    \"\"\"Inverse Sample function from Gumbel(0, 1)\"\"\"\n",
    "    U = K.random_uniform(shape, 0, 1)\n",
    "    return K.log(U + eps)- K.log(1-U + eps)\n",
    "\n",
    "def binary_VAE(data_dim,Nb,units,layers_e,layers_d,opt='adam',BN=True,beta=0., summ=True):\n",
    "    tau = K.variable(0.67, name=\"temperature\") #o tau fijo en 0.67=2/3\n",
    "    \n",
    "    pre_encoder = define_pre_encoder(data_dim, layers=layers_e,units=units,BN=BN)\n",
    "    if raw:\n",
    "        generator = define_generator(Nb,data_dim,layers=layers_d,units=units,BN=BN, out_type='sigmoid')\n",
    "    else:\n",
    "        generator = define_generator(Nb,data_dim,layers=layers_d,units=units,BN=BN, out_type='linear')\n",
    "    if summ:\n",
    "        print(\"pre-encoder network:\")\n",
    "        pre_encoder.summary()\n",
    "        print(\"generator network:\")\n",
    "        generator.summary()\n",
    "\n",
    "    x = Input(shape=(data_dim,))\n",
    "    hidden = pre_encoder(x)\n",
    "    logits_b  = Dense(Nb, activation='linear', name='logits-b')(hidden) #log(B_j/1-B_j)\n",
    "    #proba = np.exp(logits_b)/(1+np.exp(logits_b)) = sigmoidal(logits_b) <<<<<<<<<< recupera probabilidad\n",
    "    #dist = Dense(Nb, activation='sigmoid')(hidden) #p(b) #otra forma de modelarlo\n",
    "    encoder = Model(x, logits_b)\n",
    "\n",
    "    def sampling(logits_b):\n",
    "        #logits_b = K.log(aux/(1-aux) + K.epsilon() )\n",
    "        b = logits_b + sample_gumbel(K.shape(logits_b)) # logits + gumbel noise\n",
    "        return keras.activations.sigmoid( b/tau )\n",
    "\n",
    "    b_sampled = Lambda(sampling, output_shape=(Nb,), name='sampled')(logits_b)\n",
    "    output = generator(b_sampled)\n",
    "        \n",
    "    Recon_loss = REC_loss\n",
    "    kl_loss = BKL_loss(logits_b)\n",
    "    def BVAE_loss(y_true, y_pred): \n",
    "        return Recon_loss(y_true, y_pred) + beta*kl_loss(y_true, y_pred)\n",
    "\n",
    "    binary_vae = Model(x, output)\n",
    "    binary_vae.compile(optimizer=opt, loss=BVAE_loss, metrics = [Recon_loss,kl_loss])\n",
    "    return binary_vae, encoder,generator\n"
   ]
  },
  {
   "cell_type": "markdown",
   "metadata": {},
   "source": [
    "### Train details\n",
    "---\n",
    "\n",
    "* 30* epochs* \n",
    "* *batch size* de 200\n",
    "* optimizador Adam\n",
    "* Inicializador de Glorot (para los pesos)"
   ]
  },
  {
   "cell_type": "code",
   "execution_count": 13,
   "metadata": {
    "collapsed": true
   },
   "outputs": [],
   "source": [
    "from utils import  compare_hist_train, add_hist_plot\n",
    "\n",
    "batch_size = 100*2 #ya que son datasets mas grandes\n",
    "epochs = 30 "
   ]
  },
  {
   "cell_type": "code",
   "execution_count": null,
   "metadata": {
    "collapsed": true
   },
   "outputs": [],
   "source": []
  },
  {
   "cell_type": "code",
   "execution_count": null,
   "metadata": {
    "collapsed": true
   },
   "outputs": [],
   "source": [
    "from utils import find_beta\n",
    "\n",
    "def create_model_T(beta_V):\n",
    "    return traditional_VAE(X_train_input.shape[1],Nb=32,units=500,layers_e=2,layers_d=0\n",
    "                                                                  ,beta=beta_V, summ=False)\n",
    "def create_model_B(beta_V):\n",
    "    return binary_VAE(X_train_input.shape[1],Nb=32,units=500,layers_e=2,layers_d=0\n",
    "                                                                  ,beta=beta_V, summ=False)"
   ]
  },
  {
   "cell_type": "code",
   "execution_count": null,
   "metadata": {
    "collapsed": true
   },
   "outputs": [],
   "source": [
    "beta_T = find_beta(create_model_T, X_train_input, X_train, X_val_input,labels_train,labels_val,\n",
    "                   binary=False, BS=batch_size)\n",
    "beta_B = find_beta(create_model_B, X_train_input, X_train, X_val_input,labels_train,labels_val,\n",
    "                   binary=True, BS=batch_size)"
   ]
  },
  {
   "cell_type": "code",
   "execution_count": null,
   "metadata": {
    "collapsed": true
   },
   "outputs": [],
   "source": [
    "print(\"Valores de beta en VAE para dataset %s es %f\"%(name_dat, beta_T))\n",
    "print(\"Valores de beta en B-VAE para dataset %s es %f\"%(name_dat, beta_B))"
   ]
  },
  {
   "cell_type": "code",
   "execution_count": null,
   "metadata": {
    "collapsed": true
   },
   "outputs": [],
   "source": [
    "beta_T = find_beta(create_model_T, X_train_input, X_train, X_val_input,labels_train,labels_val,\n",
    "                   binary=False, BS=batch_size)\n",
    "beta_B = find_beta(create_model_B, X_train_input, X_train, X_val_input,labels_train,labels_val,\n",
    "                   binary=True, BS=batch_size)"
   ]
  },
  {
   "cell_type": "code",
   "execution_count": null,
   "metadata": {
    "collapsed": true
   },
   "outputs": [],
   "source": [
    "print(\"Valores de beta en VAE para dataset %s es %f\"%(name_dat, beta_T))\n",
    "print(\"Valores de beta en B-VAE para dataset %s es %f\"%(name_dat, beta_B))"
   ]
  },
  {
   "cell_type": "code",
   "execution_count": 36,
   "metadata": {
    "collapsed": false,
    "scrolled": true
   },
   "outputs": [
    {
     "name": "stdout",
     "output_type": "stream",
     "text": [
      "***************************************\n",
      "*********** SUMMARY RESULTS ***********\n",
      "***************************************\n"
     ]
    },
    {
     "data": {
      "text/html": [
       "<div>\n",
       "<style scoped>\n",
       "    .dataframe tbody tr th:only-of-type {\n",
       "        vertical-align: middle;\n",
       "    }\n",
       "\n",
       "    .dataframe tbody tr th {\n",
       "        vertical-align: top;\n",
       "    }\n",
       "\n",
       "    .dataframe thead th {\n",
       "        text-align: right;\n",
       "    }\n",
       "</style>\n",
       "<table border=\"1\" class=\"dataframe\">\n",
       "  <thead>\n",
       "    <tr style=\"text-align: right;\">\n",
       "      <th></th>\n",
       "      <th>beta</th>\n",
       "      <th>score</th>\n",
       "    </tr>\n",
       "  </thead>\n",
       "  <tbody>\n",
       "    <tr>\n",
       "      <th>0</th>\n",
       "      <td>1.000000</td>\n",
       "      <td>0.2747</td>\n",
       "    </tr>\n",
       "    <tr>\n",
       "      <th>1</th>\n",
       "      <td>0.500000</td>\n",
       "      <td>0.3294</td>\n",
       "    </tr>\n",
       "    <tr>\n",
       "      <th>2</th>\n",
       "      <td>0.250000</td>\n",
       "      <td>0.3735</td>\n",
       "    </tr>\n",
       "    <tr>\n",
       "      <th>3</th>\n",
       "      <td>0.125000</td>\n",
       "      <td>0.3749</td>\n",
       "    </tr>\n",
       "    <tr>\n",
       "      <th>4</th>\n",
       "      <td>0.062500</td>\n",
       "      <td>0.4559</td>\n",
       "    </tr>\n",
       "    <tr>\n",
       "      <th>5</th>\n",
       "      <td>0.031250</td>\n",
       "      <td>0.4893</td>\n",
       "    </tr>\n",
       "    <tr>\n",
       "      <th>6</th>\n",
       "      <td>0.015625</td>\n",
       "      <td>0.4679</td>\n",
       "    </tr>\n",
       "    <tr>\n",
       "      <th>7</th>\n",
       "      <td>0.007812</td>\n",
       "      <td>0.4959</td>\n",
       "    </tr>\n",
       "    <tr>\n",
       "      <th>8</th>\n",
       "      <td>0.003906</td>\n",
       "      <td>0.4902</td>\n",
       "    </tr>\n",
       "    <tr>\n",
       "      <th>9</th>\n",
       "      <td>0.001953</td>\n",
       "      <td>0.5025</td>\n",
       "    </tr>\n",
       "    <tr>\n",
       "      <th>10</th>\n",
       "      <td>0.000977</td>\n",
       "      <td>0.5080</td>\n",
       "    </tr>\n",
       "    <tr>\n",
       "      <th>11</th>\n",
       "      <td>0.000488</td>\n",
       "      <td>0.5107</td>\n",
       "    </tr>\n",
       "    <tr>\n",
       "      <th>12</th>\n",
       "      <td>0.000244</td>\n",
       "      <td>0.5217</td>\n",
       "    </tr>\n",
       "    <tr>\n",
       "      <th>13</th>\n",
       "      <td>0.000122</td>\n",
       "      <td>0.5247</td>\n",
       "    </tr>\n",
       "    <tr>\n",
       "      <th>14</th>\n",
       "      <td>0.000061</td>\n",
       "      <td>0.5199</td>\n",
       "    </tr>\n",
       "    <tr>\n",
       "      <th>15</th>\n",
       "      <td>0.000031</td>\n",
       "      <td>0.5191</td>\n",
       "    </tr>\n",
       "    <tr>\n",
       "      <th>16</th>\n",
       "      <td>0.000015</td>\n",
       "      <td>0.5158</td>\n",
       "    </tr>\n",
       "    <tr>\n",
       "      <th>17</th>\n",
       "      <td>0.000008</td>\n",
       "      <td>0.5231</td>\n",
       "    </tr>\n",
       "    <tr>\n",
       "      <th>18</th>\n",
       "      <td>0.000004</td>\n",
       "      <td>0.5186</td>\n",
       "    </tr>\n",
       "    <tr>\n",
       "      <th>19</th>\n",
       "      <td>0.000002</td>\n",
       "      <td>0.5197</td>\n",
       "    </tr>\n",
       "  </tbody>\n",
       "</table>\n",
       "</div>"
      ],
      "text/plain": [
       "        beta   score\n",
       "0   1.000000  0.2747\n",
       "1   0.500000  0.3294\n",
       "2   0.250000  0.3735\n",
       "3   0.125000  0.3749\n",
       "4   0.062500  0.4559\n",
       "5   0.031250  0.4893\n",
       "6   0.015625  0.4679\n",
       "7   0.007812  0.4959\n",
       "8   0.003906  0.4902\n",
       "9   0.001953  0.5025\n",
       "10  0.000977  0.5080\n",
       "11  0.000488  0.5107\n",
       "12  0.000244  0.5217\n",
       "13  0.000122  0.5247\n",
       "14  0.000061  0.5199\n",
       "15  0.000031  0.5191\n",
       "16  0.000015  0.5158\n",
       "17  0.000008  0.5231\n",
       "18  0.000004  0.5186\n",
       "19  0.000002  0.5197"
      ]
     },
     "metadata": {},
     "output_type": "display_data"
    },
    {
     "name": "stdout",
     "output_type": "stream",
     "text": [
      "Best value is 0.5247 with beta 0.000122\n",
      "Worst value is 0.2747 with beta 1.000000\n",
      "***************************************\n",
      "***************************************\n",
      "*********** SUMMARY RESULTS ***********\n",
      "***************************************\n"
     ]
    },
    {
     "data": {
      "text/html": [
       "<div>\n",
       "<style scoped>\n",
       "    .dataframe tbody tr th:only-of-type {\n",
       "        vertical-align: middle;\n",
       "    }\n",
       "\n",
       "    .dataframe tbody tr th {\n",
       "        vertical-align: top;\n",
       "    }\n",
       "\n",
       "    .dataframe thead th {\n",
       "        text-align: right;\n",
       "    }\n",
       "</style>\n",
       "<table border=\"1\" class=\"dataframe\">\n",
       "  <thead>\n",
       "    <tr style=\"text-align: right;\">\n",
       "      <th></th>\n",
       "      <th>beta</th>\n",
       "      <th>score</th>\n",
       "    </tr>\n",
       "  </thead>\n",
       "  <tbody>\n",
       "    <tr>\n",
       "      <th>0</th>\n",
       "      <td>1.000000</td>\n",
       "      <td>0.2731</td>\n",
       "    </tr>\n",
       "    <tr>\n",
       "      <th>1</th>\n",
       "      <td>0.500000</td>\n",
       "      <td>0.3059</td>\n",
       "    </tr>\n",
       "    <tr>\n",
       "      <th>2</th>\n",
       "      <td>0.250000</td>\n",
       "      <td>0.3799</td>\n",
       "    </tr>\n",
       "    <tr>\n",
       "      <th>3</th>\n",
       "      <td>0.125000</td>\n",
       "      <td>0.3589</td>\n",
       "    </tr>\n",
       "    <tr>\n",
       "      <th>4</th>\n",
       "      <td>0.062500</td>\n",
       "      <td>0.4076</td>\n",
       "    </tr>\n",
       "    <tr>\n",
       "      <th>5</th>\n",
       "      <td>0.031250</td>\n",
       "      <td>0.4386</td>\n",
       "    </tr>\n",
       "    <tr>\n",
       "      <th>6</th>\n",
       "      <td>0.015625</td>\n",
       "      <td>0.4971</td>\n",
       "    </tr>\n",
       "    <tr>\n",
       "      <th>7</th>\n",
       "      <td>0.007812</td>\n",
       "      <td>0.5433</td>\n",
       "    </tr>\n",
       "    <tr>\n",
       "      <th>8</th>\n",
       "      <td>0.003906</td>\n",
       "      <td>0.5501</td>\n",
       "    </tr>\n",
       "    <tr>\n",
       "      <th>9</th>\n",
       "      <td>0.001953</td>\n",
       "      <td>0.5457</td>\n",
       "    </tr>\n",
       "    <tr>\n",
       "      <th>10</th>\n",
       "      <td>0.000977</td>\n",
       "      <td>0.5454</td>\n",
       "    </tr>\n",
       "    <tr>\n",
       "      <th>11</th>\n",
       "      <td>0.000488</td>\n",
       "      <td>0.5495</td>\n",
       "    </tr>\n",
       "    <tr>\n",
       "      <th>12</th>\n",
       "      <td>0.000244</td>\n",
       "      <td>0.5526</td>\n",
       "    </tr>\n",
       "    <tr>\n",
       "      <th>13</th>\n",
       "      <td>0.000122</td>\n",
       "      <td>0.5537</td>\n",
       "    </tr>\n",
       "    <tr>\n",
       "      <th>14</th>\n",
       "      <td>0.000061</td>\n",
       "      <td>0.5501</td>\n",
       "    </tr>\n",
       "    <tr>\n",
       "      <th>15</th>\n",
       "      <td>0.000031</td>\n",
       "      <td>0.5484</td>\n",
       "    </tr>\n",
       "    <tr>\n",
       "      <th>16</th>\n",
       "      <td>0.000015</td>\n",
       "      <td>0.5519</td>\n",
       "    </tr>\n",
       "    <tr>\n",
       "      <th>17</th>\n",
       "      <td>0.000008</td>\n",
       "      <td>0.5430</td>\n",
       "    </tr>\n",
       "    <tr>\n",
       "      <th>18</th>\n",
       "      <td>0.000004</td>\n",
       "      <td>0.5491</td>\n",
       "    </tr>\n",
       "    <tr>\n",
       "      <th>19</th>\n",
       "      <td>0.000002</td>\n",
       "      <td>0.5513</td>\n",
       "    </tr>\n",
       "  </tbody>\n",
       "</table>\n",
       "</div>"
      ],
      "text/plain": [
       "        beta   score\n",
       "0   1.000000  0.2731\n",
       "1   0.500000  0.3059\n",
       "2   0.250000  0.3799\n",
       "3   0.125000  0.3589\n",
       "4   0.062500  0.4076\n",
       "5   0.031250  0.4386\n",
       "6   0.015625  0.4971\n",
       "7   0.007812  0.5433\n",
       "8   0.003906  0.5501\n",
       "9   0.001953  0.5457\n",
       "10  0.000977  0.5454\n",
       "11  0.000488  0.5495\n",
       "12  0.000244  0.5526\n",
       "13  0.000122  0.5537\n",
       "14  0.000061  0.5501\n",
       "15  0.000031  0.5484\n",
       "16  0.000015  0.5519\n",
       "17  0.000008  0.5430\n",
       "18  0.000004  0.5491\n",
       "19  0.000002  0.5513"
      ]
     },
     "metadata": {},
     "output_type": "display_data"
    },
    {
     "name": "stdout",
     "output_type": "stream",
     "text": [
      "Best value is 0.5537 with beta 0.000122\n",
      "Worst value is 0.2731 with beta 1.000000\n",
      "***************************************\n"
     ]
    }
   ],
   "source": [
    "beta_T = find_beta(create_model_T, X_train, X_train, X_val,labels_train,labels_val,\n",
    "                   binary=False, BS=batch_size)\n",
    "beta_B = find_beta(create_model_B, X_train, X_train, X_val,labels_train,labels_val,\n",
    "                   binary=True, BS=batch_size)"
   ]
  },
  {
   "cell_type": "code",
   "execution_count": 37,
   "metadata": {
    "collapsed": false
   },
   "outputs": [
    {
     "name": "stdout",
     "output_type": "stream",
     "text": [
      "Valores de beta en VAE para dataset CIFAR-10_128 es 0.000122\n",
      "Valores de beta en B-VAE para dataset CIFAR-10_128 es 0.000122\n"
     ]
    }
   ],
   "source": [
    "print(\"Valores de beta en VAE para dataset %s es %f\"%(name_dat, beta_T))\n",
    "print(\"Valores de beta en B-VAE para dataset %s es %f\"%(name_dat, beta_B))"
   ]
  },
  {
   "cell_type": "code",
   "execution_count": 43,
   "metadata": {
    "collapsed": false,
    "scrolled": true
   },
   "outputs": [
    {
     "name": "stdout",
     "output_type": "stream",
     "text": [
      "***************************************\n",
      "*********** SUMMARY RESULTS ***********\n",
      "***************************************\n"
     ]
    },
    {
     "data": {
      "text/html": [
       "<div>\n",
       "<style scoped>\n",
       "    .dataframe tbody tr th:only-of-type {\n",
       "        vertical-align: middle;\n",
       "    }\n",
       "\n",
       "    .dataframe tbody tr th {\n",
       "        vertical-align: top;\n",
       "    }\n",
       "\n",
       "    .dataframe thead th {\n",
       "        text-align: right;\n",
       "    }\n",
       "</style>\n",
       "<table border=\"1\" class=\"dataframe\">\n",
       "  <thead>\n",
       "    <tr style=\"text-align: right;\">\n",
       "      <th></th>\n",
       "      <th>beta</th>\n",
       "      <th>score</th>\n",
       "    </tr>\n",
       "  </thead>\n",
       "  <tbody>\n",
       "    <tr>\n",
       "      <th>0</th>\n",
       "      <td>1.000000</td>\n",
       "      <td>0.2747</td>\n",
       "    </tr>\n",
       "    <tr>\n",
       "      <th>1</th>\n",
       "      <td>0.500000</td>\n",
       "      <td>0.3232</td>\n",
       "    </tr>\n",
       "    <tr>\n",
       "      <th>2</th>\n",
       "      <td>0.250000</td>\n",
       "      <td>0.3639</td>\n",
       "    </tr>\n",
       "    <tr>\n",
       "      <th>3</th>\n",
       "      <td>0.125000</td>\n",
       "      <td>0.3846</td>\n",
       "    </tr>\n",
       "    <tr>\n",
       "      <th>4</th>\n",
       "      <td>0.062500</td>\n",
       "      <td>0.4538</td>\n",
       "    </tr>\n",
       "    <tr>\n",
       "      <th>5</th>\n",
       "      <td>0.031250</td>\n",
       "      <td>0.4581</td>\n",
       "    </tr>\n",
       "    <tr>\n",
       "      <th>6</th>\n",
       "      <td>0.015625</td>\n",
       "      <td>0.4433</td>\n",
       "    </tr>\n",
       "    <tr>\n",
       "      <th>7</th>\n",
       "      <td>0.007812</td>\n",
       "      <td>0.4685</td>\n",
       "    </tr>\n",
       "    <tr>\n",
       "      <th>8</th>\n",
       "      <td>0.003906</td>\n",
       "      <td>0.4730</td>\n",
       "    </tr>\n",
       "    <tr>\n",
       "      <th>9</th>\n",
       "      <td>0.001953</td>\n",
       "      <td>0.4815</td>\n",
       "    </tr>\n",
       "    <tr>\n",
       "      <th>10</th>\n",
       "      <td>0.000977</td>\n",
       "      <td>0.4954</td>\n",
       "    </tr>\n",
       "    <tr>\n",
       "      <th>11</th>\n",
       "      <td>0.000488</td>\n",
       "      <td>0.5032</td>\n",
       "    </tr>\n",
       "    <tr>\n",
       "      <th>12</th>\n",
       "      <td>0.000244</td>\n",
       "      <td>0.5000</td>\n",
       "    </tr>\n",
       "    <tr>\n",
       "      <th>13</th>\n",
       "      <td>0.000122</td>\n",
       "      <td>0.5044</td>\n",
       "    </tr>\n",
       "    <tr>\n",
       "      <th>14</th>\n",
       "      <td>0.000061</td>\n",
       "      <td>0.5026</td>\n",
       "    </tr>\n",
       "    <tr>\n",
       "      <th>15</th>\n",
       "      <td>0.000031</td>\n",
       "      <td>0.5020</td>\n",
       "    </tr>\n",
       "    <tr>\n",
       "      <th>16</th>\n",
       "      <td>0.000015</td>\n",
       "      <td>0.5053</td>\n",
       "    </tr>\n",
       "    <tr>\n",
       "      <th>17</th>\n",
       "      <td>0.000008</td>\n",
       "      <td>0.5056</td>\n",
       "    </tr>\n",
       "    <tr>\n",
       "      <th>18</th>\n",
       "      <td>0.000004</td>\n",
       "      <td>0.5018</td>\n",
       "    </tr>\n",
       "    <tr>\n",
       "      <th>19</th>\n",
       "      <td>0.000002</td>\n",
       "      <td>0.5034</td>\n",
       "    </tr>\n",
       "  </tbody>\n",
       "</table>\n",
       "</div>"
      ],
      "text/plain": [
       "        beta   score\n",
       "0   1.000000  0.2747\n",
       "1   0.500000  0.3232\n",
       "2   0.250000  0.3639\n",
       "3   0.125000  0.3846\n",
       "4   0.062500  0.4538\n",
       "5   0.031250  0.4581\n",
       "6   0.015625  0.4433\n",
       "7   0.007812  0.4685\n",
       "8   0.003906  0.4730\n",
       "9   0.001953  0.4815\n",
       "10  0.000977  0.4954\n",
       "11  0.000488  0.5032\n",
       "12  0.000244  0.5000\n",
       "13  0.000122  0.5044\n",
       "14  0.000061  0.5026\n",
       "15  0.000031  0.5020\n",
       "16  0.000015  0.5053\n",
       "17  0.000008  0.5056\n",
       "18  0.000004  0.5018\n",
       "19  0.000002  0.5034"
      ]
     },
     "metadata": {},
     "output_type": "display_data"
    },
    {
     "name": "stdout",
     "output_type": "stream",
     "text": [
      "Best value is 0.5056 with beta 0.000008\n",
      "Worst value is 0.2747 with beta 1.000000\n",
      "***************************************\n",
      "***************************************\n",
      "*********** SUMMARY RESULTS ***********\n",
      "***************************************\n"
     ]
    },
    {
     "data": {
      "text/html": [
       "<div>\n",
       "<style scoped>\n",
       "    .dataframe tbody tr th:only-of-type {\n",
       "        vertical-align: middle;\n",
       "    }\n",
       "\n",
       "    .dataframe tbody tr th {\n",
       "        vertical-align: top;\n",
       "    }\n",
       "\n",
       "    .dataframe thead th {\n",
       "        text-align: right;\n",
       "    }\n",
       "</style>\n",
       "<table border=\"1\" class=\"dataframe\">\n",
       "  <thead>\n",
       "    <tr style=\"text-align: right;\">\n",
       "      <th></th>\n",
       "      <th>beta</th>\n",
       "      <th>score</th>\n",
       "    </tr>\n",
       "  </thead>\n",
       "  <tbody>\n",
       "    <tr>\n",
       "      <th>0</th>\n",
       "      <td>1.000000</td>\n",
       "      <td>0.3014</td>\n",
       "    </tr>\n",
       "    <tr>\n",
       "      <th>1</th>\n",
       "      <td>0.500000</td>\n",
       "      <td>0.3417</td>\n",
       "    </tr>\n",
       "    <tr>\n",
       "      <th>2</th>\n",
       "      <td>0.250000</td>\n",
       "      <td>0.3780</td>\n",
       "    </tr>\n",
       "    <tr>\n",
       "      <th>3</th>\n",
       "      <td>0.125000</td>\n",
       "      <td>0.3193</td>\n",
       "    </tr>\n",
       "    <tr>\n",
       "      <th>4</th>\n",
       "      <td>0.062500</td>\n",
       "      <td>0.4311</td>\n",
       "    </tr>\n",
       "    <tr>\n",
       "      <th>5</th>\n",
       "      <td>0.031250</td>\n",
       "      <td>0.4364</td>\n",
       "    </tr>\n",
       "    <tr>\n",
       "      <th>6</th>\n",
       "      <td>0.015625</td>\n",
       "      <td>0.4913</td>\n",
       "    </tr>\n",
       "    <tr>\n",
       "      <th>7</th>\n",
       "      <td>0.007812</td>\n",
       "      <td>0.5370</td>\n",
       "    </tr>\n",
       "    <tr>\n",
       "      <th>8</th>\n",
       "      <td>0.003906</td>\n",
       "      <td>0.5444</td>\n",
       "    </tr>\n",
       "    <tr>\n",
       "      <th>9</th>\n",
       "      <td>0.001953</td>\n",
       "      <td>0.5394</td>\n",
       "    </tr>\n",
       "    <tr>\n",
       "      <th>10</th>\n",
       "      <td>0.000977</td>\n",
       "      <td>0.5378</td>\n",
       "    </tr>\n",
       "    <tr>\n",
       "      <th>11</th>\n",
       "      <td>0.000488</td>\n",
       "      <td>0.5411</td>\n",
       "    </tr>\n",
       "    <tr>\n",
       "      <th>12</th>\n",
       "      <td>0.000244</td>\n",
       "      <td>0.5372</td>\n",
       "    </tr>\n",
       "    <tr>\n",
       "      <th>13</th>\n",
       "      <td>0.000122</td>\n",
       "      <td>0.5432</td>\n",
       "    </tr>\n",
       "    <tr>\n",
       "      <th>14</th>\n",
       "      <td>0.000061</td>\n",
       "      <td>0.5379</td>\n",
       "    </tr>\n",
       "    <tr>\n",
       "      <th>15</th>\n",
       "      <td>0.000031</td>\n",
       "      <td>0.5435</td>\n",
       "    </tr>\n",
       "    <tr>\n",
       "      <th>16</th>\n",
       "      <td>0.000015</td>\n",
       "      <td>0.5436</td>\n",
       "    </tr>\n",
       "    <tr>\n",
       "      <th>17</th>\n",
       "      <td>0.000008</td>\n",
       "      <td>0.5400</td>\n",
       "    </tr>\n",
       "    <tr>\n",
       "      <th>18</th>\n",
       "      <td>0.000004</td>\n",
       "      <td>0.5411</td>\n",
       "    </tr>\n",
       "    <tr>\n",
       "      <th>19</th>\n",
       "      <td>0.000002</td>\n",
       "      <td>0.5384</td>\n",
       "    </tr>\n",
       "  </tbody>\n",
       "</table>\n",
       "</div>"
      ],
      "text/plain": [
       "        beta   score\n",
       "0   1.000000  0.3014\n",
       "1   0.500000  0.3417\n",
       "2   0.250000  0.3780\n",
       "3   0.125000  0.3193\n",
       "4   0.062500  0.4311\n",
       "5   0.031250  0.4364\n",
       "6   0.015625  0.4913\n",
       "7   0.007812  0.5370\n",
       "8   0.003906  0.5444\n",
       "9   0.001953  0.5394\n",
       "10  0.000977  0.5378\n",
       "11  0.000488  0.5411\n",
       "12  0.000244  0.5372\n",
       "13  0.000122  0.5432\n",
       "14  0.000061  0.5379\n",
       "15  0.000031  0.5435\n",
       "16  0.000015  0.5436\n",
       "17  0.000008  0.5400\n",
       "18  0.000004  0.5411\n",
       "19  0.000002  0.5384"
      ]
     },
     "metadata": {},
     "output_type": "display_data"
    },
    {
     "name": "stdout",
     "output_type": "stream",
     "text": [
      "Best value is 0.5444 with beta 0.003906\n",
      "Worst value is 0.3014 with beta 1.000000\n",
      "***************************************\n"
     ]
    }
   ],
   "source": [
    "beta_T = find_beta(create_model_T, X_train, X_train, X_val,labels_train,labels_val,\n",
    "                   binary=False, BS=batch_size)\n",
    "beta_B = find_beta(create_model_B, X_train, X_train, X_val,labels_train,labels_val,\n",
    "                   binary=True, BS=batch_size)"
   ]
  },
  {
   "cell_type": "code",
   "execution_count": 44,
   "metadata": {
    "collapsed": false
   },
   "outputs": [
    {
     "name": "stdout",
     "output_type": "stream",
     "text": [
      "Valores de beta en VAE para dataset CIFAR-10_224 es 0.000008\n",
      "Valores de beta en B-VAE para dataset CIFAR-10_224 es 0.003906\n"
     ]
    }
   ],
   "source": [
    "print(\"Valores de beta en VAE para dataset %s es %f\"%(name_dat, beta_T))\n",
    "print(\"Valores de beta en B-VAE para dataset %s es %f\"%(name_dat, beta_B))"
   ]
  },
  {
   "cell_type": "code",
   "execution_count": 52,
   "metadata": {
    "collapsed": false,
    "scrolled": true
   },
   "outputs": [
    {
     "name": "stdout",
     "output_type": "stream",
     "text": [
      "***************************************\n",
      "*********** SUMMARY RESULTS ***********\n",
      "***************************************\n"
     ]
    },
    {
     "data": {
      "text/html": [
       "<div>\n",
       "<style scoped>\n",
       "    .dataframe tbody tr th:only-of-type {\n",
       "        vertical-align: middle;\n",
       "    }\n",
       "\n",
       "    .dataframe tbody tr th {\n",
       "        vertical-align: top;\n",
       "    }\n",
       "\n",
       "    .dataframe thead th {\n",
       "        text-align: right;\n",
       "    }\n",
       "</style>\n",
       "<table border=\"1\" class=\"dataframe\">\n",
       "  <thead>\n",
       "    <tr style=\"text-align: right;\">\n",
       "      <th></th>\n",
       "      <th>beta</th>\n",
       "      <th>score</th>\n",
       "    </tr>\n",
       "  </thead>\n",
       "  <tbody>\n",
       "    <tr>\n",
       "      <th>0</th>\n",
       "      <td>1.000000</td>\n",
       "      <td>0.5376</td>\n",
       "    </tr>\n",
       "    <tr>\n",
       "      <th>1</th>\n",
       "      <td>0.500000</td>\n",
       "      <td>0.5939</td>\n",
       "    </tr>\n",
       "    <tr>\n",
       "      <th>2</th>\n",
       "      <td>0.250000</td>\n",
       "      <td>0.6333</td>\n",
       "    </tr>\n",
       "    <tr>\n",
       "      <th>3</th>\n",
       "      <td>0.125000</td>\n",
       "      <td>0.6383</td>\n",
       "    </tr>\n",
       "    <tr>\n",
       "      <th>4</th>\n",
       "      <td>0.062500</td>\n",
       "      <td>0.6852</td>\n",
       "    </tr>\n",
       "    <tr>\n",
       "      <th>5</th>\n",
       "      <td>0.031250</td>\n",
       "      <td>0.7009</td>\n",
       "    </tr>\n",
       "    <tr>\n",
       "      <th>6</th>\n",
       "      <td>0.015625</td>\n",
       "      <td>0.7029</td>\n",
       "    </tr>\n",
       "    <tr>\n",
       "      <th>7</th>\n",
       "      <td>0.007812</td>\n",
       "      <td>0.7004</td>\n",
       "    </tr>\n",
       "    <tr>\n",
       "      <th>8</th>\n",
       "      <td>0.003906</td>\n",
       "      <td>0.6957</td>\n",
       "    </tr>\n",
       "    <tr>\n",
       "      <th>9</th>\n",
       "      <td>0.001953</td>\n",
       "      <td>0.7028</td>\n",
       "    </tr>\n",
       "    <tr>\n",
       "      <th>10</th>\n",
       "      <td>0.000977</td>\n",
       "      <td>0.7044</td>\n",
       "    </tr>\n",
       "    <tr>\n",
       "      <th>11</th>\n",
       "      <td>0.000488</td>\n",
       "      <td>0.7203</td>\n",
       "    </tr>\n",
       "    <tr>\n",
       "      <th>12</th>\n",
       "      <td>0.000244</td>\n",
       "      <td>0.7249</td>\n",
       "    </tr>\n",
       "    <tr>\n",
       "      <th>13</th>\n",
       "      <td>0.000122</td>\n",
       "      <td>0.7270</td>\n",
       "    </tr>\n",
       "    <tr>\n",
       "      <th>14</th>\n",
       "      <td>0.000061</td>\n",
       "      <td>0.7278</td>\n",
       "    </tr>\n",
       "    <tr>\n",
       "      <th>15</th>\n",
       "      <td>0.000031</td>\n",
       "      <td>0.7301</td>\n",
       "    </tr>\n",
       "    <tr>\n",
       "      <th>16</th>\n",
       "      <td>0.000015</td>\n",
       "      <td>0.7260</td>\n",
       "    </tr>\n",
       "    <tr>\n",
       "      <th>17</th>\n",
       "      <td>0.000008</td>\n",
       "      <td>0.7313</td>\n",
       "    </tr>\n",
       "    <tr>\n",
       "      <th>18</th>\n",
       "      <td>0.000004</td>\n",
       "      <td>0.7258</td>\n",
       "    </tr>\n",
       "    <tr>\n",
       "      <th>19</th>\n",
       "      <td>0.000002</td>\n",
       "      <td>0.7283</td>\n",
       "    </tr>\n",
       "  </tbody>\n",
       "</table>\n",
       "</div>"
      ],
      "text/plain": [
       "        beta   score\n",
       "0   1.000000  0.5376\n",
       "1   0.500000  0.5939\n",
       "2   0.250000  0.6333\n",
       "3   0.125000  0.6383\n",
       "4   0.062500  0.6852\n",
       "5   0.031250  0.7009\n",
       "6   0.015625  0.7029\n",
       "7   0.007812  0.7004\n",
       "8   0.003906  0.6957\n",
       "9   0.001953  0.7028\n",
       "10  0.000977  0.7044\n",
       "11  0.000488  0.7203\n",
       "12  0.000244  0.7249\n",
       "13  0.000122  0.7270\n",
       "14  0.000061  0.7278\n",
       "15  0.000031  0.7301\n",
       "16  0.000015  0.7260\n",
       "17  0.000008  0.7313\n",
       "18  0.000004  0.7258\n",
       "19  0.000002  0.7283"
      ]
     },
     "metadata": {},
     "output_type": "display_data"
    },
    {
     "name": "stdout",
     "output_type": "stream",
     "text": [
      "Best value is 0.7313 with beta 0.000008\n",
      "Worst value is 0.5376 with beta 1.000000\n",
      "***************************************\n",
      "***************************************\n",
      "*********** SUMMARY RESULTS ***********\n",
      "***************************************\n"
     ]
    },
    {
     "data": {
      "text/html": [
       "<div>\n",
       "<style scoped>\n",
       "    .dataframe tbody tr th:only-of-type {\n",
       "        vertical-align: middle;\n",
       "    }\n",
       "\n",
       "    .dataframe tbody tr th {\n",
       "        vertical-align: top;\n",
       "    }\n",
       "\n",
       "    .dataframe thead th {\n",
       "        text-align: right;\n",
       "    }\n",
       "</style>\n",
       "<table border=\"1\" class=\"dataframe\">\n",
       "  <thead>\n",
       "    <tr style=\"text-align: right;\">\n",
       "      <th></th>\n",
       "      <th>beta</th>\n",
       "      <th>score</th>\n",
       "    </tr>\n",
       "  </thead>\n",
       "  <tbody>\n",
       "    <tr>\n",
       "      <th>0</th>\n",
       "      <td>1.000000</td>\n",
       "      <td>0.4860</td>\n",
       "    </tr>\n",
       "    <tr>\n",
       "      <th>1</th>\n",
       "      <td>0.500000</td>\n",
       "      <td>0.6043</td>\n",
       "    </tr>\n",
       "    <tr>\n",
       "      <th>2</th>\n",
       "      <td>0.250000</td>\n",
       "      <td>0.6337</td>\n",
       "    </tr>\n",
       "    <tr>\n",
       "      <th>3</th>\n",
       "      <td>0.125000</td>\n",
       "      <td>0.5984</td>\n",
       "    </tr>\n",
       "    <tr>\n",
       "      <th>4</th>\n",
       "      <td>0.062500</td>\n",
       "      <td>0.6817</td>\n",
       "    </tr>\n",
       "    <tr>\n",
       "      <th>5</th>\n",
       "      <td>0.031250</td>\n",
       "      <td>0.6746</td>\n",
       "    </tr>\n",
       "    <tr>\n",
       "      <th>6</th>\n",
       "      <td>0.015625</td>\n",
       "      <td>0.7045</td>\n",
       "    </tr>\n",
       "    <tr>\n",
       "      <th>7</th>\n",
       "      <td>0.007812</td>\n",
       "      <td>0.7346</td>\n",
       "    </tr>\n",
       "    <tr>\n",
       "      <th>8</th>\n",
       "      <td>0.003906</td>\n",
       "      <td>0.7357</td>\n",
       "    </tr>\n",
       "    <tr>\n",
       "      <th>9</th>\n",
       "      <td>0.001953</td>\n",
       "      <td>0.7364</td>\n",
       "    </tr>\n",
       "    <tr>\n",
       "      <th>10</th>\n",
       "      <td>0.000977</td>\n",
       "      <td>0.7308</td>\n",
       "    </tr>\n",
       "    <tr>\n",
       "      <th>11</th>\n",
       "      <td>0.000488</td>\n",
       "      <td>0.7319</td>\n",
       "    </tr>\n",
       "    <tr>\n",
       "      <th>12</th>\n",
       "      <td>0.000244</td>\n",
       "      <td>0.7334</td>\n",
       "    </tr>\n",
       "    <tr>\n",
       "      <th>13</th>\n",
       "      <td>0.000122</td>\n",
       "      <td>0.7358</td>\n",
       "    </tr>\n",
       "    <tr>\n",
       "      <th>14</th>\n",
       "      <td>0.000061</td>\n",
       "      <td>0.7354</td>\n",
       "    </tr>\n",
       "    <tr>\n",
       "      <th>15</th>\n",
       "      <td>0.000031</td>\n",
       "      <td>0.7343</td>\n",
       "    </tr>\n",
       "    <tr>\n",
       "      <th>16</th>\n",
       "      <td>0.000015</td>\n",
       "      <td>0.7362</td>\n",
       "    </tr>\n",
       "    <tr>\n",
       "      <th>17</th>\n",
       "      <td>0.000008</td>\n",
       "      <td>0.7318</td>\n",
       "    </tr>\n",
       "    <tr>\n",
       "      <th>18</th>\n",
       "      <td>0.000004</td>\n",
       "      <td>0.7347</td>\n",
       "    </tr>\n",
       "    <tr>\n",
       "      <th>19</th>\n",
       "      <td>0.000002</td>\n",
       "      <td>0.7351</td>\n",
       "    </tr>\n",
       "  </tbody>\n",
       "</table>\n",
       "</div>"
      ],
      "text/plain": [
       "        beta   score\n",
       "0   1.000000  0.4860\n",
       "1   0.500000  0.6043\n",
       "2   0.250000  0.6337\n",
       "3   0.125000  0.5984\n",
       "4   0.062500  0.6817\n",
       "5   0.031250  0.6746\n",
       "6   0.015625  0.7045\n",
       "7   0.007812  0.7346\n",
       "8   0.003906  0.7357\n",
       "9   0.001953  0.7364\n",
       "10  0.000977  0.7308\n",
       "11  0.000488  0.7319\n",
       "12  0.000244  0.7334\n",
       "13  0.000122  0.7358\n",
       "14  0.000061  0.7354\n",
       "15  0.000031  0.7343\n",
       "16  0.000015  0.7362\n",
       "17  0.000008  0.7318\n",
       "18  0.000004  0.7347\n",
       "19  0.000002  0.7351"
      ]
     },
     "metadata": {},
     "output_type": "display_data"
    },
    {
     "name": "stdout",
     "output_type": "stream",
     "text": [
      "Best value is 0.7364 with beta 0.001953\n",
      "Worst value is 0.4860 with beta 1.000000\n",
      "***************************************\n"
     ]
    }
   ],
   "source": [
    "beta_T = find_beta(create_model_T, X_train, X_train, X_val,labels_train,labels_val,\n",
    "                   binary=False, BS=batch_size)\n",
    "beta_B = find_beta(create_model_B, X_train, X_train, X_val,labels_train,labels_val,\n",
    "                   binary=True, BS=batch_size)"
   ]
  },
  {
   "cell_type": "code",
   "execution_count": 53,
   "metadata": {
    "collapsed": false
   },
   "outputs": [
    {
     "name": "stdout",
     "output_type": "stream",
     "text": [
      "Valores de beta en VAE para dataset Nus-Wide es 0.000008\n",
      "Valores de beta en B-VAE para dataset Nus-Wide es 0.001953\n"
     ]
    }
   ],
   "source": [
    "print(\"Valores de beta en VAE para dataset %s es %f\"%(name_dat, beta_T))\n",
    "print(\"Valores de beta en B-VAE para dataset %s es %f\"%(name_dat, beta_B))"
   ]
  },
  {
   "cell_type": "code",
   "execution_count": null,
   "metadata": {
    "collapsed": true
   },
   "outputs": [],
   "source": [
    "### falta celebA"
   ]
  },
  {
   "cell_type": "code",
   "execution_count": 102,
   "metadata": {
    "collapsed": false,
    "scrolled": true
   },
   "outputs": [
    {
     "name": "stdout",
     "output_type": "stream",
     "text": [
      "Train on 194599 samples, validate on 4000 samples\n",
      "Epoch 1/30\n",
      "191600/194599 [============================>.] - ETA: 0s - loss: 0.7055 - REC_loss: 0.7055 - KL: 186.3958Epoch 0 the KL weight is 2e-05\n",
      "194599/194599 [==============================] - 3s - loss: 0.7046 - REC_loss: 0.7046 - KL: 187.3230 - val_loss: 0.6189 - val_REC_loss: 0.6189 - val_KL: 268.1130\n",
      "Epoch 2/30\n",
      "193400/194599 [============================>.] - ETA: 0s - loss: 0.6260 - REC_loss: 0.6220 - KL: 199.9371Epoch 1 the KL weight is 6e-05\n",
      "194599/194599 [==============================] - 2s - loss: 0.6261 - REC_loss: 0.6221 - KL: 199.7685 - val_loss: 0.6130 - val_REC_loss: 0.6094 - val_KL: 181.9387\n",
      "Epoch 3/30\n",
      "193200/194599 [============================>.] - ETA: 0s - loss: 0.6261 - REC_loss: 0.6179 - KL: 136.4710Epoch 2 the KL weight is 0.00012\n",
      "194599/194599 [==============================] - 2s - loss: 0.6260 - REC_loss: 0.6178 - KL: 136.3596 - val_loss: 0.6144 - val_REC_loss: 0.6069 - val_KL: 126.1433\n",
      "Epoch 4/30\n",
      "191400/194599 [============================>.] - ETA: 0s - loss: 0.6287 - REC_loss: 0.6166 - KL: 100.8667Epoch 3 the KL weight is 0.0002\n",
      "194599/194599 [==============================] - 2s - loss: 0.6288 - REC_loss: 0.6167 - KL: 100.7695 - val_loss: 0.6180 - val_REC_loss: 0.6062 - val_KL: 97.9266\n",
      "Epoch 5/30\n",
      "192400/194599 [============================>.] - ETA: 0s - loss: 0.6340 - REC_loss: 0.6175 - KL: 82.4583Epoch 4 the KL weight is 0.00029999999\n",
      "194599/194599 [==============================] - 2s - loss: 0.6336 - REC_loss: 0.6171 - KL: 82.4103 - val_loss: 0.6235 - val_REC_loss: 0.6072 - val_KL: 81.4676\n",
      "Epoch 6/30\n",
      "192200/194599 [============================>.] - ETA: 0s - loss: 0.6394 - REC_loss: 0.6180 - KL: 71.4644Epoch 5 the KL weight is 0.00042\n",
      "194599/194599 [==============================] - 2s - loss: 0.6394 - REC_loss: 0.6180 - KL: 71.4347 - val_loss: 0.6309 - val_REC_loss: 0.6094 - val_KL: 71.6132\n",
      "Epoch 7/30\n",
      "191400/194599 [============================>.] - ETA: 0s - loss: 0.6463 - REC_loss: 0.6194 - KL: 64.1846Epoch 6 the KL weight is 0.00056\n",
      "194599/194599 [==============================] - 2s - loss: 0.6466 - REC_loss: 0.6196 - KL: 64.1761 - val_loss: 0.6372 - val_REC_loss: 0.6103 - val_KL: 64.0784\n",
      "Epoch 8/30\n",
      "192400/194599 [============================>.] - ETA: 0s - loss: 0.6545 - REC_loss: 0.6216 - KL: 58.8480Epoch 7 the KL weight is 0.00072\n",
      "194599/194599 [==============================] - 3s - loss: 0.6545 - REC_loss: 0.6216 - KL: 58.8387 - val_loss: 0.6455 - val_REC_loss: 0.6121 - val_KL: 59.6669\n",
      "Epoch 9/30\n",
      "191800/194599 [============================>.] - ETA: 0s - loss: 0.6632 - REC_loss: 0.6239 - KL: 54.4929Epoch 8 the KL weight is 0.0009\n",
      "194599/194599 [==============================] - 3s - loss: 0.6631 - REC_loss: 0.6238 - KL: 54.4908 - val_loss: 0.6540 - val_REC_loss: 0.6146 - val_KL: 54.6759\n",
      "Epoch 10/30\n",
      "194200/194599 [============================>.] - ETA: 0s - loss: 0.6724 - REC_loss: 0.6267 - KL: 50.8321Epoch 9 the KL weight is 0.0011\n",
      "194599/194599 [==============================] - 3s - loss: 0.6724 - REC_loss: 0.6266 - KL: 50.8317 - val_loss: 0.6641 - val_REC_loss: 0.6182 - val_KL: 50.9736\n",
      "Epoch 11/30\n",
      "192000/194599 [============================>.] - ETA: 0s - loss: 0.6817 - REC_loss: 0.6293 - KL: 47.5855Epoch 10 the KL weight is 0.00132\n",
      "194599/194599 [==============================] - 3s - loss: 0.6820 - REC_loss: 0.6297 - KL: 47.5914 - val_loss: 0.6739 - val_REC_loss: 0.6205 - val_KL: 48.5392\n",
      "Epoch 12/30\n",
      "191800/194599 [============================>.] - ETA: 0s - loss: 0.6920 - REC_loss: 0.6331 - KL: 44.6331Epoch 11 the KL weight is 0.00156\n",
      "194599/194599 [==============================] - 3s - loss: 0.6919 - REC_loss: 0.6330 - KL: 44.6289 - val_loss: 0.6833 - val_REC_loss: 0.6233 - val_KL: 45.4401\n",
      "Epoch 13/30\n",
      "193000/194599 [============================>.] - ETA: 0s - loss: 0.7022 - REC_loss: 0.6369 - KL: 41.8974Epoch 12 the KL weight is 0.00182\n",
      "194599/194599 [==============================] - 2s - loss: 0.7022 - REC_loss: 0.6369 - KL: 41.8957 - val_loss: 0.6934 - val_REC_loss: 0.6266 - val_KL: 42.8579\n",
      "Epoch 14/30\n",
      "192400/194599 [============================>.] - ETA: 0s - loss: 0.7128 - REC_loss: 0.6411 - KL: 39.3855Epoch 13 the KL weight is 0.0021\n",
      "194599/194599 [==============================] - 2s - loss: 0.7126 - REC_loss: 0.6409 - KL: 39.3797 - val_loss: 0.7039 - val_REC_loss: 0.6319 - val_KL: 39.5495\n",
      "Epoch 15/30\n",
      "192000/194599 [============================>.] - ETA: 0s - loss: 0.7229 - REC_loss: 0.6451 - KL: 37.0113Epoch 14 the KL weight is 0.0023999999\n",
      "194599/194599 [==============================] - 2s - loss: 0.7230 - REC_loss: 0.6453 - KL: 37.0115 - val_loss: 0.7142 - val_REC_loss: 0.6357 - val_KL: 37.3691\n",
      "Epoch 16/30\n",
      "194200/194599 [============================>.] - ETA: 0s - loss: 0.7333 - REC_loss: 0.6499 - KL: 34.7776Epoch 15 the KL weight is 0.00272\n",
      "194599/194599 [==============================] - 2s - loss: 0.7334 - REC_loss: 0.6499 - KL: 34.7771 - val_loss: 0.7244 - val_REC_loss: 0.6399 - val_KL: 35.1832\n",
      "Epoch 17/30\n",
      "191600/194599 [============================>.] - ETA: 0s - loss: 0.7434 - REC_loss: 0.6546 - KL: 32.6493Epoch 16 the KL weight is 0.00306\n",
      "194599/194599 [==============================] - 2s - loss: 0.7437 - REC_loss: 0.6549 - KL: 32.6506 - val_loss: 0.7352 - val_REC_loss: 0.6462 - val_KL: 32.6996\n",
      "Epoch 18/30\n",
      "194400/194599 [============================>.] - ETA: 0s - loss: 0.7541 - REC_loss: 0.6603 - KL: 30.6658Epoch 17 the KL weight is 0.00342\n",
      "194599/194599 [==============================] - 2s - loss: 0.7541 - REC_loss: 0.6603 - KL: 30.6648 - val_loss: 0.7447 - val_REC_loss: 0.6511 - val_KL: 30.5852\n",
      "Epoch 19/30\n",
      "193200/194599 [============================>.] - ETA: 0s - loss: 0.7644 - REC_loss: 0.6661 - KL: 28.7541Epoch 18 the KL weight is 0.0038\n",
      "194599/194599 [==============================] - 2s - loss: 0.7644 - REC_loss: 0.6661 - KL: 28.7557 - val_loss: 0.7559 - val_REC_loss: 0.6560 - val_KL: 29.2168\n",
      "Epoch 20/30\n",
      "192200/194599 [============================>.] - ETA: 0s - loss: 0.7744 - REC_loss: 0.6719 - KL: 26.9764Epoch 19 the KL weight is 0.0042\n",
      "194599/194599 [==============================] - 2s - loss: 0.7745 - REC_loss: 0.6720 - KL: 26.9771 - val_loss: 0.7654 - val_REC_loss: 0.6620 - val_KL: 27.2142\n",
      "Epoch 21/30\n",
      "193400/194599 [============================>.] - ETA: 0s - loss: 0.7846 - REC_loss: 0.6786 - KL: 25.2504Epoch 20 the KL weight is 0.00462\n",
      "194599/194599 [==============================] - 3s - loss: 0.7845 - REC_loss: 0.6784 - KL: 25.2483 - val_loss: 0.7760 - val_REC_loss: 0.6699 - val_KL: 25.2686\n",
      "Epoch 22/30\n",
      "193400/194599 [============================>.] - ETA: 0s - loss: 0.7941 - REC_loss: 0.6849 - KL: 23.6502Epoch 21 the KL weight is 0.00506\n",
      "194599/194599 [==============================] - 3s - loss: 0.7943 - REC_loss: 0.6851 - KL: 23.6507 - val_loss: 0.7856 - val_REC_loss: 0.6748 - val_KL: 23.9822\n",
      "Epoch 23/30\n",
      "193400/194599 [============================>.] - ETA: 0s - loss: 0.8038 - REC_loss: 0.6918 - KL: 22.1288Epoch 22 the KL weight is 0.0055199997\n",
      "194599/194599 [==============================] - 3s - loss: 0.8039 - REC_loss: 0.6919 - KL: 22.1314 - val_loss: 0.7951 - val_REC_loss: 0.6824 - val_KL: 22.2736\n",
      "Epoch 24/30\n",
      "193200/194599 [============================>.] - ETA: 0s - loss: 0.8134 - REC_loss: 0.6995 - KL: 20.6450Epoch 23 the KL weight is 0.0059999996\n",
      "194599/194599 [==============================] - 3s - loss: 0.8134 - REC_loss: 0.6994 - KL: 20.6441 - val_loss: 0.8047 - val_REC_loss: 0.6907 - val_KL: 20.6437\n",
      "Epoch 25/30\n",
      "193400/194599 [============================>.] - ETA: 0s - loss: 0.8222 - REC_loss: 0.7068 - KL: 19.2375Epoch 24 the KL weight is 0.0064999997\n",
      "194599/194599 [==============================] - 3s - loss: 0.8223 - REC_loss: 0.7069 - KL: 19.2390 - val_loss: 0.8135 - val_REC_loss: 0.6977 - val_KL: 19.2918\n",
      "Epoch 26/30\n",
      "193400/194599 [============================>.] - ETA: 0s - loss: 0.8313 - REC_loss: 0.7146 - KL: 17.9467Epoch 25 the KL weight is 0.0070199994\n",
      "194599/194599 [==============================] - 3s - loss: 0.8313 - REC_loss: 0.7147 - KL: 17.9474 - val_loss: 0.8227 - val_REC_loss: 0.7046 - val_KL: 18.1609\n",
      "Epoch 27/30\n",
      "193600/194599 [============================>.] - ETA: 0s - loss: 0.8402 - REC_loss: 0.7231 - KL: 16.6786Epoch 26 the KL weight is 0.0075599994\n",
      "194599/194599 [==============================] - 3s - loss: 0.8401 - REC_loss: 0.7231 - KL: 16.6777 - val_loss: 0.8312 - val_REC_loss: 0.7148 - val_KL: 16.5779\n",
      "Epoch 28/30\n",
      "192600/194599 [============================>.] - ETA: 0s - loss: 0.8484 - REC_loss: 0.7314 - KL: 15.4833Epoch 27 the KL weight is 0.008119999\n",
      "194599/194599 [==============================] - 3s - loss: 0.8485 - REC_loss: 0.7315 - KL: 15.4787 - val_loss: 0.8390 - val_REC_loss: 0.7226 - val_KL: 15.3913\n",
      "Epoch 29/30\n",
      "192600/194599 [============================>.] - ETA: 0s - loss: 0.8565 - REC_loss: 0.7403 - KL: 14.3006Epoch 28 the KL weight is 0.008699999\n",
      "194599/194599 [==============================] - 3s - loss: 0.8565 - REC_loss: 0.7404 - KL: 14.2994 - val_loss: 0.8486 - val_REC_loss: 0.7323 - val_KL: 14.3313\n",
      "Epoch 30/30\n",
      "193800/194599 [============================>.] - ETA: 0s - loss: 0.8641 - REC_loss: 0.7494 - KL: 13.1841Epoch 29 the KL weight is 0.009299999\n",
      "194599/194599 [==============================] - 3s - loss: 0.8643 - REC_loss: 0.7496 - KL: 13.1845 - val_loss: 0.8556 - val_REC_loss: 0.7415 - val_KL: 13.1232\n"
     ]
    }
   ],
   "source": [
    "traditional_vae,encoder_Tvae,generator_Tvae = traditional_VAE(X_train.shape[1],Nb=32,units=500,layers_e=2,layers_d=0,beta=beta_T)\n",
    "\n",
    "hist1 = traditional_vae.fit(X_train_input, X_train, epochs=epochs, batch_size=batch_size\n",
    "                           ,validation_data=(X_val_input,X_val))"
   ]
  },
  {
   "cell_type": "code",
   "execution_count": 103,
   "metadata": {
    "collapsed": false,
    "scrolled": true
   },
   "outputs": [
    {
     "name": "stdout",
     "output_type": "stream",
     "text": [
      "Train on 194599 samples, validate on 4000 samples\n",
      "Epoch 1/30\n",
      "191000/194599 [============================>.] - ETA: 0s - loss: 0.8067 - REC_loss: 0.8067 - KL: 16.8119Epoch 0 the KL weight is 2e-05\n",
      "194599/194599 [==============================] - 2s - loss: 0.8063 - REC_loss: 0.8063 - KL: 16.8315 - val_loss: 0.7512 - val_REC_loss: 0.7512 - val_KL: 18.0863\n",
      "Epoch 2/30\n",
      "194200/194599 [============================>.] - ETA: 0s - loss: 0.7552 - REC_loss: 0.7548 - KL: 17.9973Epoch 1 the KL weight is 6e-05\n",
      "194599/194599 [==============================] - 2s - loss: 0.7551 - REC_loss: 0.7547 - KL: 17.9975 - val_loss: 0.7401 - val_REC_loss: 0.7397 - val_KL: 18.1589\n",
      "Epoch 3/30\n",
      "194200/194599 [============================>.] - ETA: 0s - loss: 0.7492 - REC_loss: 0.7481 - KL: 18.1253Epoch 2 the KL weight is 0.00012\n",
      "194599/194599 [==============================] - 2s - loss: 0.7493 - REC_loss: 0.7482 - KL: 18.1252 - val_loss: 0.7372 - val_REC_loss: 0.7361 - val_KL: 18.1804\n",
      "Epoch 4/30\n",
      "191000/194599 [============================>.] - ETA: 0s - loss: 0.7470 - REC_loss: 0.7449 - KL: 18.1601Epoch 3 the KL weight is 0.0002\n",
      "194599/194599 [==============================] - 2s - loss: 0.7473 - REC_loss: 0.7451 - KL: 18.1605 - val_loss: 0.7357 - val_REC_loss: 0.7336 - val_KL: 18.1863\n",
      "Epoch 5/30\n",
      "194000/194599 [============================>.] - ETA: 0s - loss: 0.7467 - REC_loss: 0.7431 - KL: 18.1662Epoch 4 the KL weight is 0.00029999999\n",
      "194599/194599 [==============================] - 2s - loss: 0.7468 - REC_loss: 0.7431 - KL: 18.1663 - val_loss: 0.7358 - val_REC_loss: 0.7321 - val_KL: 18.1626\n",
      "Epoch 6/30\n",
      "194200/194599 [============================>.] - ETA: 0s - loss: 0.7469 - REC_loss: 0.7414 - KL: 18.1449Epoch 5 the KL weight is 0.00042\n",
      "194599/194599 [==============================] - 2s - loss: 0.7468 - REC_loss: 0.7414 - KL: 18.1448 - val_loss: 0.7367 - val_REC_loss: 0.7312 - val_KL: 18.0965\n",
      "Epoch 7/30\n",
      "194400/194599 [============================>.] - ETA: 0s - loss: 0.7477 - REC_loss: 0.7401 - KL: 18.1293Epoch 6 the KL weight is 0.00056\n",
      "194599/194599 [==============================] - 2s - loss: 0.7476 - REC_loss: 0.7400 - KL: 18.1293 - val_loss: 0.7376 - val_REC_loss: 0.7300 - val_KL: 18.1044\n",
      "Epoch 8/30\n",
      "192400/194599 [============================>.] - ETA: 0s - loss: 0.7489 - REC_loss: 0.7388 - KL: 18.0851Epoch 7 the KL weight is 0.00072\n",
      "194599/194599 [==============================] - 2s - loss: 0.7489 - REC_loss: 0.7388 - KL: 18.0852 - val_loss: 0.7389 - val_REC_loss: 0.7288 - val_KL: 18.0516\n",
      "Epoch 9/30\n",
      "194400/194599 [============================>.] - ETA: 0s - loss: 0.7507 - REC_loss: 0.7377 - KL: 18.0221Epoch 8 the KL weight is 0.0009\n",
      "194599/194599 [==============================] - 2s - loss: 0.7507 - REC_loss: 0.7377 - KL: 18.0220 - val_loss: 0.7407 - val_REC_loss: 0.7277 - val_KL: 17.9671\n",
      "Epoch 10/30\n",
      "194400/194599 [============================>.] - ETA: 0s - loss: 0.7532 - REC_loss: 0.7370 - KL: 17.9484Epoch 9 the KL weight is 0.0011\n",
      "194599/194599 [==============================] - 2s - loss: 0.7530 - REC_loss: 0.7369 - KL: 17.9485 - val_loss: 0.7429 - val_REC_loss: 0.7268 - val_KL: 17.9312\n",
      "Epoch 11/30\n",
      "194200/194599 [============================>.] - ETA: 0s - loss: 0.7557 - REC_loss: 0.7360 - KL: 17.8829Epoch 10 the KL weight is 0.00132\n",
      "194599/194599 [==============================] - 2s - loss: 0.7557 - REC_loss: 0.7361 - KL: 17.8829 - val_loss: 0.7461 - val_REC_loss: 0.7264 - val_KL: 17.8492\n",
      "Epoch 12/30\n",
      "194200/194599 [============================>.] - ETA: 0s - loss: 0.7589 - REC_loss: 0.7355 - KL: 17.7729Epoch 11 the KL weight is 0.00156\n",
      "194599/194599 [==============================] - 2s - loss: 0.7589 - REC_loss: 0.7354 - KL: 17.7730 - val_loss: 0.7496 - val_REC_loss: 0.7261 - val_KL: 17.7699\n",
      "Epoch 13/30\n",
      "194400/194599 [============================>.] - ETA: 0s - loss: 0.7625 - REC_loss: 0.7349 - KL: 17.6689Epoch 12 the KL weight is 0.00182\n",
      "194599/194599 [==============================] - 2s - loss: 0.7624 - REC_loss: 0.7348 - KL: 17.6688 - val_loss: 0.7529 - val_REC_loss: 0.7256 - val_KL: 17.5533\n",
      "Epoch 14/30\n",
      "193800/194599 [============================>.] - ETA: 0s - loss: 0.7664 - REC_loss: 0.7345 - KL: 17.5101Epoch 13 the KL weight is 0.0021\n",
      "194599/194599 [==============================] - 2s - loss: 0.7664 - REC_loss: 0.7346 - KL: 17.5100 - val_loss: 0.7576 - val_REC_loss: 0.7259 - val_KL: 17.4162\n",
      "Epoch 15/30\n",
      "193800/194599 [============================>.] - ETA: 0s - loss: 0.7707 - REC_loss: 0.7342 - KL: 17.3515Epoch 14 the KL weight is 0.0023999999\n",
      "194599/194599 [==============================] - 2s - loss: 0.7708 - REC_loss: 0.7343 - KL: 17.3516 - val_loss: 0.7612 - val_REC_loss: 0.7249 - val_KL: 17.2950\n",
      "Epoch 16/30\n",
      "194400/194599 [============================>.] - ETA: 0s - loss: 0.7757 - REC_loss: 0.7345 - KL: 17.1505Epoch 15 the KL weight is 0.00272\n",
      "194599/194599 [==============================] - 2s - loss: 0.7756 - REC_loss: 0.7344 - KL: 17.1506 - val_loss: 0.7660 - val_REC_loss: 0.7250 - val_KL: 17.1014\n",
      "Epoch 17/30\n",
      "194200/194599 [============================>.] - ETA: 0s - loss: 0.7804 - REC_loss: 0.7343 - KL: 16.9569Epoch 16 the KL weight is 0.00306\n",
      "194599/194599 [==============================] - 2s - loss: 0.7805 - REC_loss: 0.7344 - KL: 16.9570 - val_loss: 0.7707 - val_REC_loss: 0.7248 - val_KL: 16.8663\n",
      "Epoch 18/30\n",
      "194200/194599 [============================>.] - ETA: 0s - loss: 0.7859 - REC_loss: 0.7348 - KL: 16.6904Epoch 17 the KL weight is 0.00342\n",
      "194599/194599 [==============================] - 2s - loss: 0.7859 - REC_loss: 0.7349 - KL: 16.6904 - val_loss: 0.7765 - val_REC_loss: 0.7259 - val_KL: 16.5502\n",
      "Epoch 19/30\n",
      "194000/194599 [============================>.] - ETA: 0s - loss: 0.7914 - REC_loss: 0.7353 - KL: 16.3817Epoch 18 the KL weight is 0.0038\n",
      "194599/194599 [==============================] - 2s - loss: 0.7915 - REC_loss: 0.7355 - KL: 16.3811 - val_loss: 0.7820 - val_REC_loss: 0.7264 - val_KL: 16.2644\n",
      "Epoch 20/30\n",
      "194400/194599 [============================>.] - ETA: 0s - loss: 0.7973 - REC_loss: 0.7364 - KL: 16.0340Epoch 19 the KL weight is 0.0042\n",
      "194599/194599 [==============================] - 2s - loss: 0.7974 - REC_loss: 0.7364 - KL: 16.0338 - val_loss: 0.7878 - val_REC_loss: 0.7273 - val_KL: 15.9214\n",
      "Epoch 21/30\n",
      "193800/194599 [============================>.] - ETA: 0s - loss: 0.8033 - REC_loss: 0.7375 - KL: 15.6576Epoch 20 the KL weight is 0.00462\n",
      "194599/194599 [==============================] - 2s - loss: 0.8034 - REC_loss: 0.7376 - KL: 15.6570 - val_loss: 0.7937 - val_REC_loss: 0.7286 - val_KL: 15.4944\n",
      "Epoch 22/30\n",
      "194000/194599 [============================>.] - ETA: 0s - loss: 0.8093 - REC_loss: 0.7389 - KL: 15.2380Epoch 21 the KL weight is 0.00506\n",
      "194599/194599 [==============================] - 2s - loss: 0.8095 - REC_loss: 0.7391 - KL: 15.2373 - val_loss: 0.8003 - val_REC_loss: 0.7311 - val_KL: 14.9828\n",
      "Epoch 23/30\n",
      "193800/194599 [============================>.] - ETA: 0s - loss: 0.8158 - REC_loss: 0.7412 - KL: 14.7456Epoch 22 the KL weight is 0.0055199997\n",
      "194599/194599 [==============================] - 2s - loss: 0.8158 - REC_loss: 0.7412 - KL: 14.7451 - val_loss: 0.8054 - val_REC_loss: 0.7320 - val_KL: 14.5122\n",
      "Epoch 24/30\n",
      "194400/194599 [============================>.] - ETA: 0s - loss: 0.8219 - REC_loss: 0.7435 - KL: 14.1969Epoch 23 the KL weight is 0.0059999996\n",
      "194599/194599 [==============================] - 2s - loss: 0.8219 - REC_loss: 0.7435 - KL: 14.1969 - val_loss: 0.8121 - val_REC_loss: 0.7347 - val_KL: 14.0336\n",
      "Epoch 25/30\n",
      "193600/194599 [============================>.] - ETA: 0s - loss: 0.8282 - REC_loss: 0.7464 - KL: 13.6308Epoch 24 the KL weight is 0.0064999997\n",
      "194599/194599 [==============================] - 2s - loss: 0.8281 - REC_loss: 0.7463 - KL: 13.6297 - val_loss: 0.8185 - val_REC_loss: 0.7382 - val_KL: 13.3860\n",
      "Epoch 26/30\n",
      "194000/194599 [============================>.] - ETA: 0s - loss: 0.8342 - REC_loss: 0.7495 - KL: 13.0354Epoch 25 the KL weight is 0.0070199994\n",
      "194599/194599 [==============================] - 2s - loss: 0.8342 - REC_loss: 0.7495 - KL: 13.0351 - val_loss: 0.8247 - val_REC_loss: 0.7416 - val_KL: 12.7867\n",
      "Epoch 27/30\n",
      "193800/194599 [============================>.] - ETA: 0s - loss: 0.8406 - REC_loss: 0.7532 - KL: 12.4599Epoch 26 the KL weight is 0.0075599994\n",
      "194599/194599 [==============================] - 2s - loss: 0.8403 - REC_loss: 0.7529 - KL: 12.4598 - val_loss: 0.8305 - val_REC_loss: 0.7443 - val_KL: 12.2768\n",
      "Epoch 28/30\n",
      "191000/194599 [============================>.] - ETA: 0s - loss: 0.8469 - REC_loss: 0.7569 - KL: 11.9080Epoch 27 the KL weight is 0.008119999\n",
      "194599/194599 [==============================] - 2s - loss: 0.8464 - REC_loss: 0.7564 - KL: 11.9062 - val_loss: 0.8357 - val_REC_loss: 0.7475 - val_KL: 11.6607\n",
      "Epoch 29/30\n",
      "194200/194599 [============================>.] - ETA: 0s - loss: 0.8524 - REC_loss: 0.7605 - KL: 11.3219Epoch 28 the KL weight is 0.008699999\n",
      "194599/194599 [==============================] - 2s - loss: 0.8523 - REC_loss: 0.7603 - KL: 11.3215 - val_loss: 0.8416 - val_REC_loss: 0.7515 - val_KL: 11.0957\n",
      "Epoch 30/30\n",
      "194000/194599 [============================>.] - ETA: 0s - loss: 0.8585 - REC_loss: 0.7648 - KL: 10.7784Epoch 29 the KL weight is 0.009299999\n",
      "194599/194599 [==============================] - 2s - loss: 0.8583 - REC_loss: 0.7645 - KL: 10.7782 - val_loss: 0.8482 - val_REC_loss: 0.7566 - val_KL: 10.5368\n"
     ]
    }
   ],
   "source": [
    "binary_vae,encoder_Bvae,generator_Bvae= binary_VAE(X_train.shape[1],Nb=32,units=500,layers_e=2,layers_d=0,beta=beta_B)\n",
    "\n",
    "hist2 = binary_vae.fit(X_train_input, X_train, epochs=epochs, batch_size=batch_size\n",
    "                           ,validation_data=(X_val_input,X_val) )\n",
    "                       #,callbacks=[Tau_Call(tau)] )"
   ]
  },
  {
   "cell_type": "code",
   "execution_count": null,
   "metadata": {
    "collapsed": true
   },
   "outputs": [],
   "source": []
  },
  {
   "cell_type": "code",
   "execution_count": 16,
   "metadata": {
    "collapsed": false,
    "scrolled": true
   },
   "outputs": [
    {
     "data": {
      "text/plain": [
       "<matplotlib.figure.Figure at 0x7f3c2eab2780>"
      ]
     },
     "metadata": {},
     "output_type": "display_data"
    },
    {
     "data": {
      "image/png": "[encoded data removed]",
      "text/plain": [
       "<matplotlib.figure.Figure at 0x7f3c2706d400>"
      ]
     },
     "metadata": {},
     "output_type": "display_data"
    }
   ],
   "source": [
    "plt.figure(figsize=(15,6))\n",
    "add_hist_plot(hist2, c='g', model_n = \"B-VAE\")\n",
    "plt.xlabel('Epochs')\n",
    "plt.ylabel('Value')\n",
    "plt.legend(loc=\"upper right\", fancybox= True)\n",
    "plt.title(\"VAE loss \"+name_dat)\n",
    "plt.show()"
   ]
  },
  {
   "cell_type": "code",
   "execution_count": 43,
   "metadata": {
    "collapsed": false
   },
   "outputs": [
    {
     "data": {
      "text/plain": [
       "<matplotlib.figure.Figure at 0x7eff188aadd8>"
      ]
     },
     "metadata": {},
     "output_type": "display_data"
    },
    {
     "data": {
      "image/png": "[encoded data removed]",
      "text/plain": [
       "<matplotlib.figure.Figure at 0x7eff179a8a20>"
      ]
     },
     "metadata": {},
     "output_type": "display_data"
    }
   ],
   "source": [
    "compare_hist_train(hist1,hist2, name_dat)"
   ]
  },
  {
   "cell_type": "code",
   "execution_count": 72,
   "metadata": {
    "collapsed": false
   },
   "outputs": [
    {
     "data": {
      "text/plain": [
       "<matplotlib.figure.Figure at 0x7efe4ebe4080>"
      ]
     },
     "metadata": {},
     "output_type": "display_data"
    },
    {
     "data": {
      "image/png": "[encoded data removed]",
      "text/plain": [
       "<matplotlib.figure.Figure at 0x7efe4421d240>"
      ]
     },
     "metadata": {},
     "output_type": "display_data"
    }
   ],
   "source": [
    "compare_hist_train(hist1,hist2, name_dat) #--64 dim"
   ]
  },
  {
   "cell_type": "code",
   "execution_count": 104,
   "metadata": {
    "collapsed": false
   },
   "outputs": [
    {
     "data": {
      "text/plain": [
       "<matplotlib.figure.Figure at 0x7efe43938160>"
      ]
     },
     "metadata": {},
     "output_type": "display_data"
    },
    {
     "data": {
      "image/png": "[encoded data removed]",
      "text/plain": [
       "<matplotlib.figure.Figure at 0x7efe3da439b0>"
      ]
     },
     "metadata": {},
     "output_type": "display_data"
    }
   ],
   "source": [
    "compare_hist_train(hist1,hist2, name_dat) #--64 dim"
   ]
  },
  {
   "cell_type": "markdown",
   "metadata": {},
   "source": [
    "### Another intrinsic measure: *Classification*\n"
   ]
  },
  {
   "cell_type": "code",
   "execution_count": 13,
   "metadata": {
    "collapsed": true,
    "scrolled": true
   },
   "outputs": [],
   "source": [
    "#function to define and train model\n",
    "from sklearn.metrics import jaccard_score\n",
    "from utils import define_fit, MedianHashing, visualize_probas, visualize_mean, calculate_hash\n",
    "\n",
    "results = []\n",
    "results_S = []\n",
    "results_B = []\n",
    "results_O_B = [] #original testing on tresholded"
   ]
  },
  {
   "cell_type": "code",
   "execution_count": 105,
   "metadata": {
    "collapsed": false,
    "scrolled": true
   },
   "outputs": [
    {
     "data": {
      "text/plain": [
       "array([[1., 0., 1., ..., 0., 1., 1.],\n",
       "       [0., 0., 1., ..., 0., 0., 1.],\n",
       "       [0., 0., 1., ..., 0., 0., 1.],\n",
       "       ...,\n",
       "       [0., 1., 1., ..., 1., 0., 1.],\n",
       "       [0., 0., 1., ..., 0., 0., 1.],\n",
       "       [0., 1., 1., ..., 0., 0., 1.]])"
      ]
     },
     "execution_count": 105,
     "metadata": {},
     "output_type": "execute_result"
    }
   ],
   "source": [
    "#codify input data (binarize -- or aprox)\n",
    "X_train_logits = encoder_Bvae.predict(X_train)\n",
    "X_val_logits = encoder_Bvae.predict(X_test)\n",
    "\n",
    "#probabilities\n",
    "X_train_Bcode = expit(X_train_logits)\n",
    "X_val_Bcode = expit(X_val_logits)\n",
    "\n",
    "#Z-mean\n",
    "X_train_Tcode = encoder_Tvae.predict(X_train)\n",
    "X_val_Tcode = encoder_Tvae.predict(X_test)\n",
    "\n",
    "##codify labels\n",
    "labels_aux = np.asarray(labels)\n",
    "def codify_labels(inputs):\n",
    "    inputs = np.asarray(inputs)\n",
    "    matrix_labels = np.zeros((inputs.shape[0],labels_aux.shape[0]))\n",
    "    for i,aux_labels in enumerate(inputs):\n",
    "        if type(aux_labels) == list or type(aux_labels) == np.ndarray :\n",
    "            for aux_label in aux_labels:\n",
    "                idx = np.where(aux_label==labels_aux)[0]\n",
    "                matrix_labels[i,idx] = 1 #various-multiple\n",
    "        else:\n",
    "            idx = np.where(aux_labels==labels_aux)[0]\n",
    "            matrix_labels[i,idx] = 1 #only one\n",
    "    return matrix_labels\n",
    "\n",
    "C_train = codify_labels(labels_train)\n",
    "#C_val = codify_labels(labels_val)\n",
    "C_val = codify_labels(labels_test)\n",
    "C_train"
   ]
  },
  {
   "cell_type": "code",
   "execution_count": 15,
   "metadata": {
    "collapsed": false,
    "scrolled": true
   },
   "outputs": [
    {
     "name": "stdout",
     "output_type": "stream",
     "text": [
      "MNIST\n"
     ]
    },
    {
     "data": {
      "image/png": "[encoded data removed]",
      "text/plain": [
       "<matplotlib.figure.Figure at 0x7eff142a0f28>"
      ]
     },
     "metadata": {},
     "output_type": "display_data"
    },
    {
     "data": {
      "image/png": "[encoded data removed]",
      "text/plain": [
       "<matplotlib.figure.Figure at 0x7efe944fcda0>"
      ]
     },
     "metadata": {},
     "output_type": "display_data"
    },
    {
     "data": {
      "image/png": "[encoded data removed]",
      "text/plain": [
       "<matplotlib.figure.Figure at 0x7efec85689e8>"
      ]
     },
     "metadata": {},
     "output_type": "display_data"
    }
   ],
   "source": [
    "print(dat_n)\n",
    "visualize_probas(X_train_logits, X_train_Bcode)\n",
    "\n",
    "visualize_probas_byB(X_train_Bcode)\n",
    "\n",
    "visualize_mean(X_train_Tcode)"
   ]
  },
  {
   "cell_type": "code",
   "execution_count": 107,
   "metadata": {
    "collapsed": false,
    "scrolled": true
   },
   "outputs": [
    {
     "name": "stdout",
     "output_type": "stream",
     "text": [
      "Done\n"
     ]
    }
   ],
   "source": [
    "aux = [name_dat.lower()]\n",
    "multi_label = \"celeba\" in aux or \"nus-wide\" in aux\n",
    "\n",
    "model1_O = define_fit(multi_label,X_train_Bcode,C_train)\n",
    "model2_O = define_fit(multi_label,X_train_Tcode,C_train)\n",
    "\n",
    "if not multi_label:\n",
    "    aux.append(model2_O.evaluate(X_train_Tcode,C_train,verbose=0)[1])\n",
    "    aux.append(model2_O.evaluate(X_val_Tcode,C_val,verbose=0)[1])\n",
    "\n",
    "    aux.append(model1_O.evaluate(X_train_Bcode,C_train,verbose=0)[1])\n",
    "    aux.append(model1_O.evaluate(X_val_Bcode,C_val,verbose=0)[1])\n",
    "else:\n",
    "    aux.append(jaccard_score(C_train, (model2_O.predict(X_train_Tcode)>=0.5)*1, average='micro'))\n",
    "    aux.append(jaccard_score(C_val, (model2_O.predict(X_val_Tcode)>=0.5)*1, average='micro'))\n",
    "\n",
    "    aux.append(jaccard_score(C_train, (model1_O.predict(X_train_Bcode)>=0.5)*1, average='micro'))\n",
    "    aux.append(jaccard_score(C_val, (model1_O.predict(X_val_Bcode)>=0.5)*1, average='micro'))\n",
    "    \n",
    "results.append(aux)\n",
    "print(\"Done\")"
   ]
  },
  {
   "cell_type": "code",
   "execution_count": 108,
   "metadata": {
    "collapsed": false
   },
   "outputs": [
    {
     "name": "stdout",
     "output_type": "stream",
     "text": [
      "\n",
      "Accuracy on dataset:  mnist\n",
      "Traditional VAE (train-val): 0.966882 - 0.956000\n",
      "Binary VAE (train-val): 0.954941 - 0.943000\n",
      "\n",
      "Accuracy on dataset:  cifar-10\n",
      "Traditional VAE (train-val): 0.871724 - 0.843000\n",
      "Binary VAE (train-val): 0.824190 - 0.815000\n",
      "\n",
      "Accuracy on dataset:  nus-wide\n",
      "Traditional VAE (train-val): 0.505285 - 0.447885\n",
      "Binary VAE (train-val): 0.493766 - 0.445415\n",
      "\n",
      "Accuracy on dataset:  celeba\n",
      "Traditional VAE (train-val): 0.452790 - 0.424564\n",
      "Binary VAE (train-val): 0.436319 - 0.407941\n"
     ]
    }
   ],
   "source": [
    "for valores in results:\n",
    "    print(\"\\nAccuracy on dataset: \",valores[0])\n",
    "    print(\"Traditional VAE (train-val): %f - %f\"%(valores[1],valores[2]))\n",
    "    print(\"Binary VAE (train-val): %f - %f\"%(valores[3],valores[4]))"
   ]
  },
  {
   "cell_type": "code",
   "execution_count": 109,
   "metadata": {
    "collapsed": false
   },
   "outputs": [
    {
     "data": {
      "text/plain": [
       "array([[0, 1, 1, ..., 0, 1, 0],\n",
       "       [0, 1, 1, ..., 0, 1, 1],\n",
       "       [0, 1, 1, ..., 1, 1, 1],\n",
       "       ...,\n",
       "       [1, 1, 1, ..., 1, 1, 0],\n",
       "       [1, 0, 1, ..., 0, 1, 1],\n",
       "       [1, 1, 0, ..., 0, 0, 1]], dtype=int32)"
      ]
     },
     "execution_count": 109,
     "metadata": {},
     "output_type": "execute_result"
    }
   ],
   "source": [
    "## binary // treshold it\n",
    "\n",
    "X_train_Tcode_B = calculate_hash(X_train_Tcode, from_probas=False)\n",
    "X_val_Tcode_B = calculate_hash(X_val_Tcode, from_probas=False)\n",
    "\n",
    "X_train_Bcode_B = calculate_hash(X_train_Bcode, from_probas=True, from_logits=False)\n",
    "X_val_Bcode_B = calculate_hash(X_val_Bcode, from_probas=True, from_logits=False)\n",
    "\n",
    "X_train_Tcode_B"
   ]
  },
  {
   "cell_type": "code",
   "execution_count": 110,
   "metadata": {
    "collapsed": false
   },
   "outputs": [
    {
     "name": "stdout",
     "output_type": "stream",
     "text": [
      "Done\n"
     ]
    }
   ],
   "source": [
    "### trained models over encoder representation testing on tresholded representation (see how decrease)\n",
    "aux = [name_dat.lower()]\n",
    "multi_label = \"celeba\" in aux or \"nus-wide\" in aux\n",
    "\n",
    "if not multi_label:\n",
    "    aux.append(model2_O.evaluate(X_train_Tcode_B,C_train,verbose=0)[1])\n",
    "    aux.append(model2_O.evaluate(X_val_Tcode_B,C_val,verbose=0)[1])\n",
    "\n",
    "    aux.append(model1_O.evaluate(X_train_Bcode_B,C_train,verbose=0)[1])\n",
    "    aux.append(model1_O.evaluate(X_val_Bcode_B,C_val,verbose=0)[1])\n",
    "else:\n",
    "    aux.append(jaccard_score(C_train, (model2_O.predict(X_train_Tcode_B)>=0.5)*1, average='micro'))\n",
    "    aux.append(jaccard_score(C_val, (model2_O.predict(X_val_Tcode_B)>=0.5)*1, average='micro'))\n",
    "\n",
    "    aux.append(jaccard_score(C_train, (model1_O.predict(X_train_Bcode_B)>=0.5)*1, average='micro'))\n",
    "    aux.append(jaccard_score(C_val, (model1_O.predict(X_val_Bcode_B)>=0.5)*1, average='micro'))\n",
    "    \n",
    "results_O_B.append(aux)\n",
    "print(\"Done\")"
   ]
  },
  {
   "cell_type": "code",
   "execution_count": 111,
   "metadata": {
    "collapsed": false
   },
   "outputs": [
    {
     "name": "stdout",
     "output_type": "stream",
     "text": [
      "Classification on Binary (thresholded) representation\n",
      "\n",
      "Accuracy on dataset:  mnist\n",
      "Traditional VAE (train-val): 0.288765 - 0.272000\n",
      "Binary VAE (train-val): 0.891941 - 0.886000\n",
      "\n",
      "Accuracy on dataset:  cifar-10\n",
      "Traditional VAE (train-val): 0.448000 - 0.419000\n",
      "Binary VAE (train-val): 0.723845 - 0.709000\n",
      "\n",
      "Accuracy on dataset:  nus-wide\n",
      "Traditional VAE (train-val): 0.314612 - 0.263097\n",
      "Binary VAE (train-val): 0.402046 - 0.365614\n",
      "\n",
      "Accuracy on dataset:  celeba\n",
      "Traditional VAE (train-val): 0.352294 - 0.345801\n",
      "Binary VAE (train-val): 0.406070 - 0.389705\n"
     ]
    }
   ],
   "source": [
    "print(\"Classification on Binary (thresholded) representation\")\n",
    "for valores in results_O_B:\n",
    "    print(\"\\nAccuracy on dataset: \",valores[0])\n",
    "    print(\"Traditional VAE (train-val): %f - %f\"%(valores[1],valores[2]))\n",
    "    print(\"Binary VAE (train-val): %f - %f\"%(valores[3],valores[4]))"
   ]
  },
  {
   "cell_type": "code",
   "execution_count": 112,
   "metadata": {
    "collapsed": false
   },
   "outputs": [
    {
     "name": "stdout",
     "output_type": "stream",
     "text": [
      "Done\n"
     ]
    }
   ],
   "source": [
    "aux = [name_dat.lower()]\n",
    "multi_label = \"celeba\" in aux or \"nus-wide\" in aux\n",
    "\n",
    "model1 = define_fit(multi_label,X_train_Bcode_B,C_train)\n",
    "model2 = define_fit(multi_label,X_train_Tcode_B,C_train)\n",
    "\n",
    "if not multi_label:\n",
    "    aux.append(model2.evaluate(X_train_Tcode_B,C_train,verbose=0)[1])\n",
    "    aux.append(model2.evaluate(X_val_Tcode_B,C_val,verbose=0)[1])\n",
    "\n",
    "    aux.append(model1.evaluate(X_train_Bcode_B,C_train,verbose=0)[1])\n",
    "    aux.append(model1.evaluate(X_val_Bcode_B,C_val,verbose=0)[1])\n",
    "else:\n",
    "    aux.append(jaccard_score(C_train, (model2.predict(X_train_Tcode_B)>=0.5)*1, average='micro')) \n",
    "    aux.append(jaccard_score(C_val, (model2.predict(X_val_Tcode_B)>=0.5)*1, average='micro'))\n",
    "\n",
    "    aux.append(jaccard_score(C_train, (model1.predict(X_train_Bcode_B)>=0.5)*1, average='micro'))\n",
    "    aux.append(jaccard_score(C_val, (model1.predict(X_val_Bcode_B)>=0.5)*1, average='micro'))\n",
    "    \n",
    "results_B.append(aux)\n",
    "print(\"Done\")"
   ]
  },
  {
   "cell_type": "code",
   "execution_count": 113,
   "metadata": {
    "collapsed": false
   },
   "outputs": [
    {
     "name": "stdout",
     "output_type": "stream",
     "text": [
      "Classification on Binary representation\n",
      "\n",
      "Accuracy on dataset:  mnist\n",
      "Traditional VAE (train-val): 0.896515 - 0.878000\n",
      "Binary VAE (train-val): 0.920147 - 0.908000\n",
      "\n",
      "Accuracy on dataset:  cifar-10\n",
      "Traditional VAE (train-val): 0.745224 - 0.708000\n",
      "Binary VAE (train-val): 0.756259 - 0.721000\n",
      "\n",
      "Accuracy on dataset:  nus-wide\n",
      "Traditional VAE (train-val): 0.424745 - 0.366612\n",
      "Binary VAE (train-val): 0.431372 - 0.376573\n",
      "\n",
      "Accuracy on dataset:  celeba\n",
      "Traditional VAE (train-val): 0.408293 - 0.373377\n",
      "Binary VAE (train-val): 0.407063 - 0.373759\n"
     ]
    }
   ],
   "source": [
    "print(\"Classification on Binary representation\")\n",
    "for valores in results_B:\n",
    "    print(\"\\nAccuracy on dataset: \",valores[0])\n",
    "    print(\"Traditional VAE (train-val): %f - %f\"%(valores[1],valores[2]))\n",
    "    print(\"Binary VAE (train-val): %f - %f\"%(valores[3],valores[4]))"
   ]
  },
  {
   "cell_type": "markdown",
   "metadata": {},
   "source": [
    "\n",
    "\n",
    "### Results\n",
    "---"
   ]
  },
  {
   "cell_type": "code",
   "execution_count": 18,
   "metadata": {
    "collapsed": false,
    "scrolled": true
   },
   "outputs": [],
   "source": [
    "from utils import MedianHashing, get_similar, measure_metrics, calculate_hash\n",
    "from utils import MAP_atk, M_P_atk, AP_atk"
   ]
  },
  {
   "cell_type": "markdown",
   "metadata": {},
   "source": [
    "### Experimentación\n",
    "---\n",
    "A continación se realizan las experimentaciones correspondientes para encontrar la mejor arquitectura y mejor configuración del modelo propuesto en base a las métricas *precision* y *recall* del conjunto de validación en el **top 100** de elementos recuperados."
   ]
  },
  {
   "cell_type": "code",
   "execution_count": 24,
   "metadata": {
    "collapsed": true
   },
   "outputs": [],
   "source": [
    "def evaluate_hashingB(encoder,train,val,labels_train,labels_val,traditional=True,tipo=\"topK\",K=100):\n",
    "    encode_train = encoder.predict(train)\n",
    "    encode_val = encoder.predict(val)\n",
    "    \n",
    "    train_hash = calculate_hash(encode_train, from_probas=~traditional )\n",
    "    val_hash = calculate_hash(encode_val, from_probas=~traditional)\n",
    "\n",
    "    val_similares_train =  get_similar(val_hash, train_hash, tipo=tipo,K=K) \n",
    "\n",
    "    return measure_metrics(labels,val_similares_train,labels_query=labels_val,labels_source=labels_train)"
   ]
  },
  {
   "cell_type": "markdown",
   "metadata": {},
   "source": [
    "\n",
    "### Experimentando variando el #Bits"
   ]
  },
  {
   "cell_type": "code",
   "execution_count": 29,
   "metadata": {
    "collapsed": false
   },
   "outputs": [],
   "source": [
    "traditional_dat = {\"mnist\":{\"p\":[],\"r\":[]},\"cifar-10\":{\"p\":[],\"r\":[]},\"celeba\":{\"p\":[],\"r\":[]},'nus-wide':{\"p\":[],\"r\":[]}}\n",
    "binary_dat = {\"mnist\":{\"p\":[],\"r\":[]},\"cifar-10\":{\"p\":[],\"r\":[]},\"celeba\":{\"p\":[],\"r\":[]},'nus-wide':{\"p\":[],\"r\":[]}}"
   ]
  },
  {
   "cell_type": "code",
   "execution_count": null,
   "metadata": {
    "collapsed": true
   },
   "outputs": [],
   "source": [
    "Nbits = np.asarray([4,8,16,32,64])\n",
    "dataset = name_dat.lower()\n",
    "\n",
    "for Nbit in Nbits:\n",
    "    traditional_vae,encoder_Tvae,generator_Tvae,beta_U = traditional_VAE(X_train.shape[1],Nb=Nbit,units=500,layers_e=2,layers_d=0,beta_ann=True)\n",
    "    traditional_vae.fit(X_train_input, X_train, epochs=epochs, batch_size=batch_size,verbose=0, callbacks=[Beta_Call(beta_U,verbose=0)])\n",
    "    p_t,r_t = evaluate_hashingB(encoder_Tvae,X_train,X_val,labels_train,labels_val,traditional=True,tipo=\"topK\")\n",
    "    traditional_dat[dataset][\"p\"].append(p_t) \n",
    "    traditional_dat[dataset][\"r\"].append(r_t) \n",
    "    del traditional_vae, encoder_Tvae, generator_Tvae\n",
    "    keras.backend.clear_session()\n",
    "    gc.collect()\n",
    "    \n",
    "    binary_vae,encoder_Bvae,generator_Bvae,beta_U = binary_VAE(X_train.shape[1],Nb=Nbit,units=500,layers_e=2,layers_d=0,beta_ann=True)\n",
    "    binary_vae.fit(X_train_input, X_train, epochs=epochs, batch_size=batch_size,verbose=0,callbacks=[Beta_Call(beta_U,verbose=0)] )\n",
    "    p_b,r_b = evaluate_hashingB(encoder_Bvae,X_train,X_val,labels_train,labels_val,traditional=False,tipo=\"topK\")\n",
    "    binary_dat[dataset][\"p\"].append(p_b) \n",
    "    binary_dat[dataset][\"r\"].append(r_b) \n",
    "    del binary_vae, encoder_Bvae, generator_Bvae\n",
    "    keras.backend.clear_session()\n",
    "    gc.collect()"
   ]
  },
  {
   "cell_type": "code",
   "execution_count": null,
   "metadata": {
    "collapsed": true
   },
   "outputs": [],
   "source": [
    "print(\"Resultados de Precision en validación\")\n",
    "t = Table()\n",
    "t[\"N bits\"] = Nbits\n",
    "t[\"MNIST\"] = traditional_dat[\"mnist\"][\"p\"]\n",
    "t[\"CIFAR-10\"] = traditional_dat[\"cifar-10\"][\"p\"]\n",
    "#t[\"Nus-Wide\"] = traditional_dat[\"nus-wide\"][\"p\"]\n",
    "print(\"\\n*** VAE Traditional***\")\n",
    "print(t)\n",
    "t = Table()\n",
    "t[\"N bits\"] = Nbits\n",
    "t[\"MNIST\"] = binary_dat[\"mnist\"][\"p\"]\n",
    "t[\"CIFAR-10\"] = binary_dat[\"cifar-10\"][\"p\"]\n",
    "#t[\"Nus-Wide\"] = binary_dat[\"nus-wide\"][\"p\"]\n",
    "print(\"\\n*** VAE Binary***\")\n",
    "print(t)\n",
    "\n",
    "print(\"\\nResultados de Recall en validación\")\n",
    "t = Table()\n",
    "t[\"N bits\"] = Nbits\n",
    "t[\"MNIST\"] = traditional_dat[\"mnist\"][\"r\"]\n",
    "t[\"CIFAR-10\"] = traditional_dat[\"cifar-10\"][\"r\"]\n",
    "#t[\"Nus-Wide\"] = traditional_dat[\"nus-wide\"][\"r\"]\n",
    "print(\"\\n*** VAE Traditional***\")\n",
    "print(t)\n",
    "t = Table()\n",
    "t[\"N bits\"] = Nbits\n",
    "t[\"MNIST\"] = binary_dat[\"mnist\"][\"r\"]\n",
    "t[\"CIFAR-10\"] = binary_dat[\"cifar-10\"][\"r\"]\n",
    "#t[\"Nus-Wide\"] = binary_dat[\"nus-wide\"][\"r\"]\n",
    "print(\"\\n*** VAE Binary***\")\n",
    "print(t)"
   ]
  },
  {
   "cell_type": "markdown",
   "metadata": {},
   "source": [
    "## *Best models facing test set*\n",
    "Luego de la selección de la mejor configuración de los modelos se evalua de diferentes formas sobre el conjunto de pruebas de los distintos *datasets*, los cambios realizados son:\n",
    "* Se entrenan sobre todos los datos disponibles (*train+val*)\n",
    "* Se aumentó el número de *epochs* a 50.\n",
    "\n",
    "El mejor modelo:\n",
    "* Simétrica para *Binary VAE* y Base para *Traditional VAE*\n",
    "* 32 Bits en la codificación (número de variables latentes)\n",
    "* Representación sobre las top 10 mil *tokens* más frecuentes y *Term Frequency*"
   ]
  },
  {
   "cell_type": "code",
   "execution_count": 19,
   "metadata": {
    "collapsed": true
   },
   "outputs": [],
   "source": [
    "from utils import calculate_hash\n",
    "def evaluate_hashing_DE(train_hash,test_hash,labels_trainn,labels_testt,tipo=\"topK\",eval_tipo='PRatk',K=100):\n",
    "    \"\"\"\n",
    "        Evaluate Hashing correclty: Query and retrieve on a different set\n",
    "    \"\"\"\n",
    "    test_similares_train =  get_similar(test_hash,train_hash,tipo=tipo,K=K)\n",
    "    if eval_tipo==\"MAP\":\n",
    "        return MAP_atk(test_similares_train,labels_query=labels_testt, labels_source=labels_trainn, K=0) #all ranking\n",
    "    elif eval_tipo == \"PRatk\":\n",
    "        return measure_metrics(labels,test_similares_train,labels_testt,labels_source=labels_trainn)\n",
    "    elif eval_tipo == \"Patk\":\n",
    "        return M_P_atk(test_similares_train, labels_query=labels_testt, labels_source=labels_trainn, K=K)\n",
    "\n",
    "def hash_data(model, x_train, x_test, binary=True):\n",
    "    encode_train = model.predict(x_train)\n",
    "    encode_test = model.predict(x_test)\n",
    "    \n",
    "    train_hash = calculate_hash(encode_train, from_probas=binary )\n",
    "    test_hash = calculate_hash(encode_test, from_probas = binary)\n",
    "    return train_hash, test_hash\n",
    "\n",
    "#to save results\n",
    "results_dat = {\"mnist\":{\"p\":[],\"r\":[],'p5k':[]},\n",
    "               \"cifar-10\":{\"p\":[],\"r\":[], 'p5k':[]},\n",
    "               \"celeba\":{\"p\":[],\"r\":[],'p5k':[]},\n",
    "              \"nus-wide\":{\"p\":[],\"r\":[],'p5k':[]}} \n",
    "\n",
    "BITS_S = 32"
   ]
  },
  {
   "cell_type": "code",
   "execution_count": 37,
   "metadata": {
    "collapsed": false
   },
   "outputs": [
    {
     "data": {
      "text/plain": [
       "0"
      ]
     },
     "execution_count": 37,
     "metadata": {},
     "output_type": "execute_result"
    }
   ],
   "source": [
    "X_total = np.concatenate((X_train,X_val),axis=0)\n",
    "labels_total = np.concatenate((labels_train,labels_val),axis=0)\n",
    "del X_train, X_val, labels_train,labels_val\n",
    "gc.collect()"
   ]
  },
  {
   "cell_type": "code",
   "execution_count": 30,
   "metadata": {
    "collapsed": false,
    "scrolled": true
   },
   "outputs": [
    {
     "name": "stdout",
     "output_type": "stream",
     "text": [
      "pre-encoder network:\n",
      "_________________________________________________________________\n",
      "Layer (type)                 Output Shape              Param #   \n",
      "=================================================================\n",
      "input_13 (InputLayer)        (None, 784)               0         \n",
      "_________________________________________________________________\n",
      "dense_13 (Dense)             (None, 500)               392500    \n",
      "_________________________________________________________________\n",
      "batch_normalization_9 (Batch (None, 500)               2000      \n",
      "_________________________________________________________________\n",
      "dense_14 (Dense)             (None, 500)               250500    \n",
      "_________________________________________________________________\n",
      "batch_normalization_10 (Batc (None, 500)               2000      \n",
      "=================================================================\n",
      "Total params: 647,000\n",
      "Trainable params: 645,000\n",
      "Non-trainable params: 2,000\n",
      "_________________________________________________________________\n",
      "generator network:\n",
      "_________________________________________________________________\n",
      "Layer (type)                 Output Shape              Param #   \n",
      "=================================================================\n",
      "input_14 (InputLayer)        (None, 32)                0         \n",
      "_________________________________________________________________\n",
      "dense_15 (Dense)             (None, 784)               25872     \n",
      "=================================================================\n",
      "Total params: 25,872\n",
      "Trainable params: 25,872\n",
      "Non-trainable params: 0\n",
      "_________________________________________________________________\n",
      "Epoch 1/50\n",
      "67200/69000 [============================>.] - ETA: 0s - loss: 0.7473 - REC_loss: 0.7473 - KL: 138.0844Epoch 0 the KL weight is 2e-05\n",
      "69000/69000 [==============================] - 1s - loss: 0.7447 - REC_loss: 0.7447 - KL: 141.0776     \n",
      "Epoch 2/50\n",
      "66800/69000 [============================>.] - ETA: 0s - loss: 0.5625 - REC_loss: 0.5567 - KL: 287.6674Epoch 1 the KL weight is 6e-05\n",
      "69000/69000 [==============================] - 1s - loss: 0.5637 - REC_loss: 0.5579 - KL: 288.0844     \n",
      "Epoch 3/50\n",
      "67400/69000 [============================>.] - ETA: 0s - loss: 0.5502 - REC_loss: 0.5355 - KL: 245.7030Epoch 2 the KL weight is 0.00012\n",
      "69000/69000 [==============================] - 1s - loss: 0.5485 - REC_loss: 0.5338 - KL: 244.8836     \n",
      "Epoch 4/50\n",
      "67400/69000 [============================>.] - ETA: 0s - loss: 0.5433 - REC_loss: 0.5237 - KL: 162.8914Epoch 3 the KL weight is 0.0002\n",
      "69000/69000 [==============================] - 1s - loss: 0.5422 - REC_loss: 0.5227 - KL: 162.3901     \n",
      "Epoch 5/50\n",
      "67400/69000 [============================>.] - ETA: 0s - loss: 0.5411 - REC_loss: 0.5179 - KL: 116.3043Epoch 4 the KL weight is 0.00029999999\n",
      "69000/69000 [==============================] - 1s - loss: 0.5405 - REC_loss: 0.5173 - KL: 116.0272     \n",
      "Epoch 6/50\n",
      "67400/69000 [============================>.] - ETA: 0s - loss: 0.5424 - REC_loss: 0.5151 - KL: 90.9547Epoch 5 the KL weight is 0.00042\n",
      "69000/69000 [==============================] - 1s - loss: 0.5427 - REC_loss: 0.5155 - KL: 90.8296     \n",
      "Epoch 7/50\n",
      "67400/69000 [============================>.] - ETA: 0s - loss: 0.5484 - REC_loss: 0.5166 - KL: 75.8304Epoch 6 the KL weight is 0.00056\n",
      "69000/69000 [==============================] - 1s - loss: 0.5472 - REC_loss: 0.5154 - KL: 75.7804     \n",
      "Epoch 8/50\n",
      "68800/69000 [============================>.] - ETA: 0s - loss: 0.5503 - REC_loss: 0.5133 - KL: 65.9863Epoch 7 the KL weight is 0.00072\n",
      "69000/69000 [==============================] - 1s - loss: 0.5531 - REC_loss: 0.5161 - KL: 65.9794     \n",
      "Epoch 9/50\n",
      "68200/69000 [============================>.] - ETA: 0s - loss: 0.5604 - REC_loss: 0.5180 - KL: 59.0110Epoch 8 the KL weight is 0.0009\n",
      "69000/69000 [==============================] - 1s - loss: 0.5601 - REC_loss: 0.5176 - KL: 59.0018     \n",
      "Epoch 10/50\n",
      "68800/69000 [============================>.] - ETA: 0s - loss: 0.5681 - REC_loss: 0.5197 - KL: 53.7877Epoch 9 the KL weight is 0.0011\n",
      "69000/69000 [==============================] - 1s - loss: 0.5681 - REC_loss: 0.5197 - KL: 53.7948     \n",
      "Epoch 11/50\n",
      "67400/69000 [============================>.] - ETA: 0s - loss: 0.5789 - REC_loss: 0.5242 - KL: 49.6821Epoch 10 the KL weight is 0.00132\n",
      "69000/69000 [==============================] - 1s - loss: 0.5769 - REC_loss: 0.5223 - KL: 49.6738     \n",
      "Epoch 12/50\n",
      "67400/69000 [============================>.] - ETA: 0s - loss: 0.5825 - REC_loss: 0.5214 - KL: 46.2579Epoch 11 the KL weight is 0.00156\n",
      "69000/69000 [==============================] - 1s - loss: 0.5864 - REC_loss: 0.5254 - KL: 46.2609     \n",
      "Epoch 13/50\n",
      "67400/69000 [============================>.] - ETA: 0s - loss: 0.5981 - REC_loss: 0.5306 - KL: 43.2837Epoch 12 the KL weight is 0.00182\n",
      "69000/69000 [==============================] - 1s - loss: 0.5962 - REC_loss: 0.5287 - KL: 43.2794     \n",
      "Epoch 14/50\n",
      "67400/69000 [============================>.] - ETA: 0s - loss: 0.6035 - REC_loss: 0.5295 - KL: 40.6658Epoch 13 the KL weight is 0.0021\n",
      "69000/69000 [==============================] - 1s - loss: 0.6067 - REC_loss: 0.5327 - KL: 40.6682     \n",
      "Epoch 15/50\n",
      "67400/69000 [============================>.] - ETA: 0s - loss: 0.6159 - REC_loss: 0.5356 - KL: 38.2618Epoch 14 the KL weight is 0.0023999999\n",
      "69000/69000 [==============================] - 1s - loss: 0.6173 - REC_loss: 0.5369 - KL: 38.2609     \n",
      "Epoch 16/50\n",
      "68600/69000 [============================>.] - ETA: 0s - loss: 0.6284 - REC_loss: 0.5418 - KL: 36.0708Epoch 15 the KL weight is 0.00272\n",
      "69000/69000 [==============================] - 1s - loss: 0.6280 - REC_loss: 0.5414 - KL: 36.0688     \n",
      "Epoch 17/50\n",
      "68800/69000 [============================>.] - ETA: 0s - loss: 0.6396 - REC_loss: 0.5471 - KL: 33.9862Epoch 16 the KL weight is 0.00306\n",
      "69000/69000 [==============================] - 1s - loss: 0.6390 - REC_loss: 0.5465 - KL: 33.9824     \n",
      "Epoch 18/50\n",
      "67400/69000 [============================>.] - ETA: 0s - loss: 0.6523 - REC_loss: 0.5541 - KL: 32.0928Epoch 17 the KL weight is 0.00342\n",
      "69000/69000 [==============================] - 1s - loss: 0.6498 - REC_loss: 0.5516 - KL: 32.0742     \n",
      "Epoch 19/50\n",
      "67400/69000 [============================>.] - ETA: 0s - loss: 0.6622 - REC_loss: 0.5589 - KL: 30.2204Epoch 18 the KL weight is 0.0038\n",
      "69000/69000 [==============================] - 1s - loss: 0.6604 - REC_loss: 0.5571 - KL: 30.2064     \n",
      "Epoch 20/50\n",
      "67400/69000 [============================>.] - ETA: 0s - loss: 0.6652 - REC_loss: 0.5572 - KL: 28.4365Epoch 19 the KL weight is 0.0042\n",
      "69000/69000 [==============================] - 1s - loss: 0.6714 - REC_loss: 0.5633 - KL: 28.4365     \n",
      "Epoch 21/50\n",
      "67400/69000 [============================>.] - ETA: 0s - loss: 0.6825 - REC_loss: 0.5699 - KL: 26.8090Epoch 20 the KL weight is 0.00462\n",
      "69000/69000 [==============================] - 1s - loss: 0.6819 - REC_loss: 0.5694 - KL: 26.7939     \n",
      "Epoch 22/50\n",
      "67800/69000 [============================>.] - ETA: 0s - loss: 0.6920 - REC_loss: 0.5756 - KL: 25.1961Epoch 21 the KL weight is 0.00506\n",
      "69000/69000 [==============================] - 1s - loss: 0.6923 - REC_loss: 0.5759 - KL: 25.1973     \n",
      "Epoch 23/50\n",
      "67400/69000 [============================>.] - ETA: 0s - loss: 0.7055 - REC_loss: 0.5855 - KL: 23.7130Epoch 22 the KL weight is 0.0055199997\n",
      "69000/69000 [==============================] - 1s - loss: 0.7027 - REC_loss: 0.5828 - KL: 23.6971     \n",
      "Epoch 24/50\n",
      "67600/69000 [============================>.] - ETA: 0s - loss: 0.7142 - REC_loss: 0.5916 - KL: 22.2070Epoch 23 the KL weight is 0.0059999996\n",
      "69000/69000 [==============================] - 1s - loss: 0.7125 - REC_loss: 0.5899 - KL: 22.2104     \n",
      "Epoch 25/50\n",
      "67400/69000 [============================>.] - ETA: 0s - loss: 0.7239 - REC_loss: 0.5993 - KL: 20.7761Epoch 24 the KL weight is 0.0064999997\n",
      "69000/69000 [==============================] - 1s - loss: 0.7222 - REC_loss: 0.5976 - KL: 20.7700     \n",
      "Epoch 26/50\n",
      "67400/69000 [============================>.] - ETA: 0s - loss: 0.7327 - REC_loss: 0.6062 - KL: 19.4677Epoch 25 the KL weight is 0.0070199994\n",
      "69000/69000 [==============================] - 1s - loss: 0.7318 - REC_loss: 0.6053 - KL: 19.4624     \n",
      "Epoch 27/50\n",
      "67200/69000 [============================>.] - ETA: 0s - loss: 0.7387 - REC_loss: 0.6111 - KL: 18.1751Epoch 26 the KL weight is 0.0075599994\n",
      "69000/69000 [==============================] - 1s - loss: 0.7410 - REC_loss: 0.6134 - KL: 18.1806     \n",
      "Epoch 28/50\n",
      "67400/69000 [============================>.] - ETA: 0s - loss: 0.7470 - REC_loss: 0.6187 - KL: 16.9578Epoch 27 the KL weight is 0.008119999\n",
      "69000/69000 [==============================] - 1s - loss: 0.7495 - REC_loss: 0.6214 - KL: 16.9508     \n",
      "Epoch 29/50\n",
      "67400/69000 [============================>.] - ETA: 0s - loss: 0.7571 - REC_loss: 0.6293 - KL: 15.7452Epoch 28 the KL weight is 0.008699999\n",
      "69000/69000 [==============================] - 1s - loss: 0.7581 - REC_loss: 0.6302 - KL: 15.7416     \n",
      "Epoch 30/50\n",
      "67400/69000 [============================>.] - ETA: 0s - loss: 0.7691 - REC_loss: 0.6415 - KL: 14.6592Epoch 29 the KL weight is 0.009299999\n",
      "69000/69000 [==============================] - 1s - loss: 0.7666 - REC_loss: 0.6391 - KL: 14.6510     \n",
      "Epoch 31/50\n",
      "67200/69000 [============================>.] - ETA: 0s - loss: 0.7727 - REC_loss: 0.6465 - KL: 13.5725Epoch 30 the KL weight is 0.009919999\n",
      "69000/69000 [==============================] - 1s - loss: 0.7742 - REC_loss: 0.6481 - KL: 13.5671     \n",
      "Epoch 32/50\n",
      "68800/69000 [============================>.] - ETA: 0s - loss: 0.7811 - REC_loss: 0.6564 - KL: 12.5664Epoch 31 the KL weight is 0.01\n",
      "69000/69000 [==============================] - 1s - loss: 0.7816 - REC_loss: 0.6569 - KL: 12.5664     \n",
      "Epoch 33/50\n",
      "67400/69000 [============================>.] - ETA: 0s - loss: 0.7819 - REC_loss: 0.6595 - KL: 12.2419Epoch 32 the KL weight is 0.01\n",
      "69000/69000 [==============================] - 1s - loss: 0.7823 - REC_loss: 0.6599 - KL: 12.2352     \n",
      "Epoch 34/50\n",
      "67800/69000 [============================>.] - ETA: 0s - loss: 0.7848 - REC_loss: 0.6630 - KL: 12.1816Epoch 33 the KL weight is 0.01\n",
      "69000/69000 [==============================] - 1s - loss: 0.7821 - REC_loss: 0.6604 - KL: 12.1766     \n",
      "Epoch 35/50\n",
      "68200/69000 [============================>.] - ETA: 0s - loss: 0.7827 - REC_loss: 0.6621 - KL: 12.0639Epoch 34 the KL weight is 0.01\n",
      "69000/69000 [==============================] - 1s - loss: 0.7818 - REC_loss: 0.6611 - KL: 12.0649     \n",
      "Epoch 36/50\n",
      "68800/69000 [============================>.] - ETA: 0s - loss: 0.7817 - REC_loss: 0.6613 - KL: 12.0388Epoch 35 the KL weight is 0.01\n",
      "69000/69000 [==============================] - 1s - loss: 0.7815 - REC_loss: 0.6611 - KL: 12.0389     \n",
      "Epoch 37/50\n",
      "68600/69000 [============================>.] - ETA: 0s - loss: 0.7797 - REC_loss: 0.6596 - KL: 12.0157Epoch 36 the KL weight is 0.01\n",
      "69000/69000 [==============================] - 1s - loss: 0.7812 - REC_loss: 0.6611 - KL: 12.0157     \n",
      "Epoch 38/50\n",
      "68200/69000 [============================>.] - ETA: 0s - loss: 0.7827 - REC_loss: 0.6628 - KL: 11.9924Epoch 37 the KL weight is 0.01\n",
      "69000/69000 [==============================] - 1s - loss: 0.7811 - REC_loss: 0.6612 - KL: 11.9915     \n",
      "Epoch 39/50\n",
      "67800/69000 [============================>.] - ETA: 0s - loss: 0.7783 - REC_loss: 0.6583 - KL: 11.9946Epoch 38 the KL weight is 0.01\n",
      "69000/69000 [==============================] - 1s - loss: 0.7809 - REC_loss: 0.6609 - KL: 11.9947     \n",
      "Epoch 40/50\n",
      "68800/69000 [============================>.] - ETA: 0s - loss: 0.7807 - REC_loss: 0.6613 - KL: 11.9397Epoch 39 the KL weight is 0.01\n",
      "69000/69000 [==============================] - 1s - loss: 0.7805 - REC_loss: 0.6611 - KL: 11.9385     \n",
      "Epoch 41/50\n",
      "66600/69000 [===========================>..] - ETA: 0s - loss: 0.7817 - REC_loss: 0.6621 - KL: 11.9568Epoch 40 the KL weight is 0.01\n",
      "69000/69000 [==============================] - 1s - loss: 0.7805 - REC_loss: 0.6610 - KL: 11.9509     \n",
      "Epoch 42/50\n",
      "67600/69000 [============================>.] - ETA: 0s - loss: 0.7806 - REC_loss: 0.6615 - KL: 11.9070Epoch 41 the KL weight is 0.01\n",
      "69000/69000 [==============================] - 1s - loss: 0.7803 - REC_loss: 0.6612 - KL: 11.9080     \n",
      "Epoch 43/50\n",
      "66800/69000 [============================>.] - ETA: 0s - loss: 0.7822 - REC_loss: 0.6628 - KL: 11.9398Epoch 42 the KL weight is 0.01\n",
      "69000/69000 [==============================] - 1s - loss: 0.7802 - REC_loss: 0.6608 - KL: 11.9341     \n",
      "Epoch 44/50\n",
      "67200/69000 [============================>.] - ETA: 0s - loss: 0.7730 - REC_loss: 0.6542 - KL: 11.8847Epoch 43 the KL weight is 0.01\n",
      "69000/69000 [==============================] - 1s - loss: 0.7802 - REC_loss: 0.6613 - KL: 11.8887     \n",
      "Epoch 45/50\n",
      "68600/69000 [============================>.] - ETA: 0s - loss: 0.7810 - REC_loss: 0.6617 - KL: 11.9335Epoch 44 the KL weight is 0.01\n",
      "69000/69000 [==============================] - 1s - loss: 0.7800 - REC_loss: 0.6607 - KL: 11.9317     \n",
      "Epoch 46/50\n",
      "67400/69000 [============================>.] - ETA: 0s - loss: 0.7792 - REC_loss: 0.6601 - KL: 11.9106Epoch 45 the KL weight is 0.01\n",
      "69000/69000 [==============================] - 1s - loss: 0.7799 - REC_loss: 0.6608 - KL: 11.9104     \n",
      "Epoch 47/50\n",
      "66400/69000 [===========================>..] - ETA: 0s - loss: 0.7800 - REC_loss: 0.6609 - KL: 11.9097Epoch 46 the KL weight is 0.01\n",
      "69000/69000 [==============================] - 1s - loss: 0.7800 - REC_loss: 0.6609 - KL: 11.9044     \n",
      "Epoch 48/50\n",
      "68000/69000 [============================>.] - ETA: 0s - loss: 0.7822 - REC_loss: 0.6631 - KL: 11.9161Epoch 47 the KL weight is 0.01\n",
      "69000/69000 [==============================] - 1s - loss: 0.7798 - REC_loss: 0.6607 - KL: 11.9095     \n",
      "Epoch 49/50\n",
      "66400/69000 [===========================>..] - ETA: 0s - loss: 0.7788 - REC_loss: 0.6601 - KL: 11.8744Epoch 48 the KL weight is 0.01\n",
      "69000/69000 [==============================] - 1s - loss: 0.7799 - REC_loss: 0.6611 - KL: 11.8803     \n",
      "Epoch 50/50\n",
      "68200/69000 [============================>.] - ETA: 0s - loss: 0.7803 - REC_loss: 0.6614 - KL: 11.8907Epoch 49 the KL weight is 0.01\n",
      "69000/69000 [==============================] - 1s - loss: 0.7796 - REC_loss: 0.6607 - KL: 11.8922     \n",
      "pre-encoder network:\n",
      "_________________________________________________________________\n",
      "Layer (type)                 Output Shape              Param #   \n",
      "=================================================================\n",
      "input_16 (InputLayer)        (None, 784)               0         \n",
      "_________________________________________________________________\n",
      "dense_16 (Dense)             (None, 500)               392500    \n",
      "_________________________________________________________________\n",
      "batch_normalization_11 (Batc (None, 500)               2000      \n",
      "_________________________________________________________________\n",
      "dense_17 (Dense)             (None, 500)               250500    \n",
      "_________________________________________________________________\n",
      "batch_normalization_12 (Batc (None, 500)               2000      \n",
      "=================================================================\n",
      "Total params: 647,000\n",
      "Trainable params: 645,000\n",
      "Non-trainable params: 2,000\n",
      "_________________________________________________________________\n",
      "generator network:\n",
      "_________________________________________________________________\n",
      "Layer (type)                 Output Shape              Param #   \n",
      "=================================================================\n",
      "input_17 (InputLayer)        (None, 32)                0         \n",
      "_________________________________________________________________\n",
      "dense_18 (Dense)             (None, 784)               25872     \n",
      "=================================================================\n",
      "Total params: 25,872\n",
      "Trainable params: 25,872\n",
      "Non-trainable params: 0\n",
      "_________________________________________________________________\n",
      "Epoch 1/50\n",
      "67000/69000 [============================>.] - ETA: 0s - loss: 0.7547 - REC_loss: 0.7547 - KL: 17.0095Epoch 0 the KL weight is 2e-05\n",
      "69000/69000 [==============================] - 1s - loss: 0.7518 - REC_loss: 0.7518 - KL: 17.0481     \n",
      "Epoch 2/50\n",
      "68200/69000 [============================>.] - ETA: 0s - loss: 0.6531 - REC_loss: 0.6527 - KL: 18.4331Epoch 1 the KL weight is 6e-05\n",
      "69000/69000 [==============================] - 1s - loss: 0.6538 - REC_loss: 0.6534 - KL: 18.4330     \n",
      "Epoch 3/50\n",
      "68800/69000 [============================>.] - ETA: 0s - loss: 0.6324 - REC_loss: 0.6313 - KL: 18.4892Epoch 2 the KL weight is 0.00012\n",
      "69000/69000 [==============================] - 1s - loss: 0.6319 - REC_loss: 0.6308 - KL: 18.4895     \n",
      "Epoch 4/50\n",
      "67000/69000 [============================>.] - ETA: 0s - loss: 0.6287 - REC_loss: 0.6264 - KL: 18.4869Epoch 3 the KL weight is 0.0002\n",
      "69000/69000 [==============================] - 1s - loss: 0.6246 - REC_loss: 0.6224 - KL: 18.4858     \n",
      "Epoch 5/50\n",
      "67200/69000 [============================>.] - ETA: 0s - loss: 0.6241 - REC_loss: 0.6204 - KL: 18.4684Epoch 4 the KL weight is 0.00029999999\n",
      "69000/69000 [==============================] - 1s - loss: 0.6217 - REC_loss: 0.6180 - KL: 18.4672     \n",
      "Epoch 6/50\n",
      "68000/69000 [============================>.] - ETA: 0s - loss: 0.6189 - REC_loss: 0.6134 - KL: 18.4527Epoch 5 the KL weight is 0.00042\n",
      "69000/69000 [==============================] - 1s - loss: 0.6210 - REC_loss: 0.6155 - KL: 18.4519     \n",
      "Epoch 7/50\n",
      "66200/69000 [===========================>..] - ETA: 0s - loss: 0.6224 - REC_loss: 0.6147 - KL: 18.4077Epoch 6 the KL weight is 0.00056\n",
      "69000/69000 [==============================] - 1s - loss: 0.6215 - REC_loss: 0.6138 - KL: 18.4046     \n",
      "Epoch 8/50\n",
      "68400/69000 [============================>.] - ETA: 0s - loss: 0.6203 - REC_loss: 0.6101 - KL: 18.3480Epoch 7 the KL weight is 0.00072\n",
      "69000/69000 [==============================] - 1s - loss: 0.6229 - REC_loss: 0.6126 - KL: 18.3476     \n",
      "Epoch 9/50\n",
      "67800/69000 [============================>.] - ETA: 0s - loss: 0.6264 - REC_loss: 0.6132 - KL: 18.2727Epoch 8 the KL weight is 0.0009\n",
      "69000/69000 [==============================] - 1s - loss: 0.6249 - REC_loss: 0.6117 - KL: 18.2725     \n",
      "Epoch 10/50\n",
      "66200/69000 [===========================>..] - ETA: 0s - loss: 0.6296 - REC_loss: 0.6133 - KL: 18.1854Epoch 9 the KL weight is 0.0011\n",
      "69000/69000 [==============================] - 1s - loss: 0.6274 - REC_loss: 0.6110 - KL: 18.1812     \n",
      "Epoch 11/50\n",
      "68000/69000 [============================>.] - ETA: 0s - loss: 0.6290 - REC_loss: 0.6091 - KL: 18.0818Epoch 10 the KL weight is 0.00132\n",
      "69000/69000 [==============================] - 1s - loss: 0.6303 - REC_loss: 0.6105 - KL: 18.0811     \n",
      "Epoch 12/50\n",
      "68000/69000 [============================>.] - ETA: 0s - loss: 0.6336 - REC_loss: 0.6099 - KL: 17.9578Epoch 11 the KL weight is 0.00156\n",
      "69000/69000 [==============================] - 1s - loss: 0.6337 - REC_loss: 0.6100 - KL: 17.9583     \n",
      "Epoch 13/50\n",
      "68800/69000 [============================>.] - ETA: 0s - loss: 0.6377 - REC_loss: 0.6099 - KL: 17.8372Epoch 12 the KL weight is 0.00182\n",
      "69000/69000 [==============================] - 1s - loss: 0.6375 - REC_loss: 0.6096 - KL: 17.8369     \n",
      "Epoch 14/50\n",
      "68000/69000 [============================>.] - ETA: 0s - loss: 0.6415 - REC_loss: 0.6093 - KL: 17.7040Epoch 13 the KL weight is 0.0021\n",
      "69000/69000 [==============================] - 1s - loss: 0.6417 - REC_loss: 0.6095 - KL: 17.7020     \n",
      "Epoch 15/50\n",
      "68000/69000 [============================>.] - ETA: 0s - loss: 0.6446 - REC_loss: 0.6077 - KL: 17.5609Epoch 14 the KL weight is 0.0023999999\n",
      "69000/69000 [==============================] - 1s - loss: 0.6462 - REC_loss: 0.6093 - KL: 17.5596     \n",
      "Epoch 16/50\n",
      "67800/69000 [============================>.] - ETA: 0s - loss: 0.6533 - REC_loss: 0.6116 - KL: 17.3851Epoch 15 the KL weight is 0.00272\n",
      "69000/69000 [==============================] - 1s - loss: 0.6510 - REC_loss: 0.6093 - KL: 17.3844     \n",
      "Epoch 17/50\n",
      "68200/69000 [============================>.] - ETA: 0s - loss: 0.6539 - REC_loss: 0.6071 - KL: 17.2040Epoch 16 the KL weight is 0.00306\n",
      "69000/69000 [==============================] - 1s - loss: 0.6561 - REC_loss: 0.6093 - KL: 17.2037     \n",
      "Epoch 18/50\n",
      "68000/69000 [============================>.] - ETA: 0s - loss: 0.6605 - REC_loss: 0.6085 - KL: 16.9894Epoch 17 the KL weight is 0.00342\n",
      "69000/69000 [==============================] - 1s - loss: 0.6615 - REC_loss: 0.6096 - KL: 16.9869     \n",
      "Epoch 19/50\n",
      "68800/69000 [============================>.] - ETA: 0s - loss: 0.6679 - REC_loss: 0.6106 - KL: 16.7587Epoch 18 the KL weight is 0.0038\n",
      "69000/69000 [==============================] - 1s - loss: 0.6673 - REC_loss: 0.6100 - KL: 16.7585     \n",
      "Epoch 20/50\n",
      "68400/69000 [============================>.] - ETA: 0s - loss: 0.6740 - REC_loss: 0.6112 - KL: 16.5137Epoch 19 the KL weight is 0.0042\n",
      "69000/69000 [==============================] - 1s - loss: 0.6732 - REC_loss: 0.6104 - KL: 16.5138     \n",
      "Epoch 21/50\n",
      "68000/69000 [============================>.] - ETA: 0s - loss: 0.6774 - REC_loss: 0.6092 - KL: 16.2354Epoch 20 the KL weight is 0.00462\n",
      "69000/69000 [==============================] - 1s - loss: 0.6794 - REC_loss: 0.6112 - KL: 16.2342     \n",
      "Epoch 22/50\n",
      "68400/69000 [============================>.] - ETA: 0s - loss: 0.6873 - REC_loss: 0.6136 - KL: 15.9398Epoch 21 the KL weight is 0.00506\n",
      "69000/69000 [==============================] - 1s - loss: 0.6857 - REC_loss: 0.6120 - KL: 15.9396     \n",
      "Epoch 23/50\n",
      "68400/69000 [============================>.] - ETA: 0s - loss: 0.6935 - REC_loss: 0.6145 - KL: 15.6248Epoch 22 the KL weight is 0.0055199997\n",
      "69000/69000 [==============================] - 1s - loss: 0.6923 - REC_loss: 0.6132 - KL: 15.6241     \n",
      "Epoch 24/50\n",
      "67800/69000 [============================>.] - ETA: 0s - loss: 0.6995 - REC_loss: 0.6151 - KL: 15.2835Epoch 23 the KL weight is 0.0059999996\n",
      "69000/69000 [==============================] - 1s - loss: 0.6992 - REC_loss: 0.6148 - KL: 15.2819     \n",
      "Epoch 25/50\n",
      "68400/69000 [============================>.] - ETA: 0s - loss: 0.7044 - REC_loss: 0.6150 - KL: 14.9041Epoch 24 the KL weight is 0.0064999997\n",
      "69000/69000 [==============================] - 1s - loss: 0.7058 - REC_loss: 0.6164 - KL: 14.9035     \n",
      "Epoch 26/50\n",
      "68000/69000 [============================>.] - ETA: 0s - loss: 0.7126 - REC_loss: 0.6184 - KL: 14.4912Epoch 25 the KL weight is 0.0070199994\n",
      "69000/69000 [==============================] - 1s - loss: 0.7129 - REC_loss: 0.6187 - KL: 14.4900     \n",
      "Epoch 27/50\n",
      "68600/69000 [============================>.] - ETA: 0s - loss: 0.7200 - REC_loss: 0.6213 - KL: 14.0664Epoch 26 the KL weight is 0.0075599994\n",
      "69000/69000 [==============================] - 1s - loss: 0.7199 - REC_loss: 0.6211 - KL: 14.0668     \n",
      "Epoch 28/50\n",
      "68400/69000 [============================>.] - ETA: 0s - loss: 0.7260 - REC_loss: 0.6232 - KL: 13.6048Epoch 27 the KL weight is 0.008119999\n",
      "69000/69000 [==============================] - 1s - loss: 0.7267 - REC_loss: 0.6239 - KL: 13.6032     \n",
      "Epoch 29/50\n",
      "68800/69000 [============================>.] - ETA: 0s - loss: 0.7302 - REC_loss: 0.6240 - KL: 13.0893Epoch 28 the KL weight is 0.008699999\n",
      "69000/69000 [==============================] - 1s - loss: 0.7338 - REC_loss: 0.6275 - KL: 13.0889     \n",
      "Epoch 30/50\n",
      "67600/69000 [============================>.] - ETA: 0s - loss: 0.7355 - REC_loss: 0.6257 - KL: 12.6128Epoch 29 the KL weight is 0.009299999\n",
      "69000/69000 [==============================] - 1s - loss: 0.7409 - REC_loss: 0.6312 - KL: 12.6101     \n",
      "Epoch 31/50\n",
      "66400/69000 [===========================>..] - ETA: 0s - loss: 0.7443 - REC_loss: 0.6319 - KL: 12.0916Epoch 30 the KL weight is 0.009919999\n",
      "69000/69000 [==============================] - 1s - loss: 0.7478 - REC_loss: 0.6353 - KL: 12.0892     \n",
      "Epoch 32/50\n",
      "67400/69000 [============================>.] - ETA: 0s - loss: 0.7577 - REC_loss: 0.6423 - KL: 11.6362Epoch 31 the KL weight is 0.01\n",
      "69000/69000 [==============================] - 1s - loss: 0.7548 - REC_loss: 0.6394 - KL: 11.6334     \n",
      "Epoch 33/50\n",
      "67000/69000 [============================>.] - ETA: 0s - loss: 0.7531 - REC_loss: 0.6391 - KL: 11.4018Epoch 32 the KL weight is 0.01\n",
      "69000/69000 [==============================] - 1s - loss: 0.7551 - REC_loss: 0.6411 - KL: 11.4012     \n",
      "Epoch 34/50\n",
      "67400/69000 [============================>.] - ETA: 0s - loss: 0.7560 - REC_loss: 0.6426 - KL: 11.3381Epoch 33 the KL weight is 0.01\n",
      "69000/69000 [==============================] - 1s - loss: 0.7551 - REC_loss: 0.6418 - KL: 11.3361     \n",
      "Epoch 35/50\n",
      "67000/69000 [============================>.] - ETA: 0s - loss: 0.7560 - REC_loss: 0.6433 - KL: 11.2716Epoch 34 the KL weight is 0.01\n",
      "69000/69000 [==============================] - 1s - loss: 0.7546 - REC_loss: 0.6419 - KL: 11.2714     \n",
      "Epoch 36/50\n",
      "67200/69000 [============================>.] - ETA: 0s - loss: 0.7544 - REC_loss: 0.6421 - KL: 11.2336Epoch 35 the KL weight is 0.01\n",
      "69000/69000 [==============================] - 1s - loss: 0.7543 - REC_loss: 0.6420 - KL: 11.2313     \n",
      "Epoch 37/50\n",
      "67200/69000 [============================>.] - ETA: 0s - loss: 0.7548 - REC_loss: 0.6428 - KL: 11.2027Epoch 36 the KL weight is 0.01\n",
      "69000/69000 [==============================] - 1s - loss: 0.7540 - REC_loss: 0.6420 - KL: 11.2010     \n",
      "Epoch 38/50\n",
      "67400/69000 [============================>.] - ETA: 0s - loss: 0.7512 - REC_loss: 0.6396 - KL: 11.1678Epoch 37 the KL weight is 0.01\n",
      "69000/69000 [==============================] - 1s - loss: 0.7540 - REC_loss: 0.6423 - KL: 11.1677     \n",
      "Epoch 39/50\n",
      "67200/69000 [============================>.] - ETA: 0s - loss: 0.7523 - REC_loss: 0.6411 - KL: 11.1193Epoch 38 the KL weight is 0.01\n",
      "69000/69000 [==============================] - 1s - loss: 0.7536 - REC_loss: 0.6424 - KL: 11.1181     \n",
      "Epoch 40/50\n",
      "67400/69000 [============================>.] - ETA: 0s - loss: 0.7535 - REC_loss: 0.6427 - KL: 11.0849Epoch 39 the KL weight is 0.01\n",
      "69000/69000 [==============================] - 1s - loss: 0.7534 - REC_loss: 0.6425 - KL: 11.0835     \n",
      "Epoch 41/50\n",
      "67200/69000 [============================>.] - ETA: 0s - loss: 0.7555 - REC_loss: 0.6449 - KL: 11.0661Epoch 40 the KL weight is 0.01\n",
      "69000/69000 [==============================] - 1s - loss: 0.7530 - REC_loss: 0.6423 - KL: 11.0665     \n",
      "Epoch 42/50\n",
      "68000/69000 [============================>.] - ETA: 0s - loss: 0.7443 - REC_loss: 0.6338 - KL: 11.0560Epoch 41 the KL weight is 0.01\n",
      "69000/69000 [==============================] - 1s - loss: 0.7528 - REC_loss: 0.6423 - KL: 11.0557     \n",
      "Epoch 43/50\n",
      "68200/69000 [============================>.] - ETA: 0s - loss: 0.7536 - REC_loss: 0.6432 - KL: 11.0353Epoch 42 the KL weight is 0.01\n",
      "69000/69000 [==============================] - 1s - loss: 0.7528 - REC_loss: 0.6425 - KL: 11.0347     \n",
      "Epoch 44/50\n",
      "67600/69000 [============================>.] - ETA: 0s - loss: 0.7521 - REC_loss: 0.6420 - KL: 11.0068Epoch 43 the KL weight is 0.01\n",
      "69000/69000 [==============================] - 1s - loss: 0.7527 - REC_loss: 0.6426 - KL: 11.0065     \n",
      "Epoch 45/50\n",
      "68400/69000 [============================>.] - ETA: 0s - loss: 0.7529 - REC_loss: 0.6429 - KL: 10.9977Epoch 44 the KL weight is 0.01\n",
      "69000/69000 [==============================] - 1s - loss: 0.7525 - REC_loss: 0.6425 - KL: 10.9968     \n",
      "Epoch 46/50\n",
      "67800/69000 [============================>.] - ETA: 0s - loss: 0.7539 - REC_loss: 0.6441 - KL: 10.9754Epoch 45 the KL weight is 0.01\n",
      "69000/69000 [==============================] - 1s - loss: 0.7524 - REC_loss: 0.6426 - KL: 10.9757     \n",
      "Epoch 47/50\n",
      "67600/69000 [============================>.] - ETA: 0s - loss: 0.7520 - REC_loss: 0.6423 - KL: 10.9703Epoch 46 the KL weight is 0.01\n",
      "69000/69000 [==============================] - 1s - loss: 0.7523 - REC_loss: 0.6426 - KL: 10.9690     \n",
      "Epoch 48/50\n",
      "68600/69000 [============================>.] - ETA: 0s - loss: 0.7515 - REC_loss: 0.6421 - KL: 10.9371Epoch 47 the KL weight is 0.01\n",
      "69000/69000 [==============================] - 1s - loss: 0.7518 - REC_loss: 0.6425 - KL: 10.9368     \n",
      "Epoch 49/50\n",
      "67800/69000 [============================>.] - ETA: 0s - loss: 0.7518 - REC_loss: 0.6424 - KL: 10.9401Epoch 48 the KL weight is 0.01\n",
      "69000/69000 [==============================] - 1s - loss: 0.7519 - REC_loss: 0.6425 - KL: 10.9379     \n",
      "Epoch 50/50\n",
      "68400/69000 [============================>.] - ETA: 0s - loss: 0.7531 - REC_loss: 0.6437 - KL: 10.9374Epoch 49 the KL weight is 0.01\n",
      "69000/69000 [==============================] - 1s - loss: 0.7520 - REC_loss: 0.6426 - KL: 10.9373     \n"
     ]
    },
    {
     "data": {
      "text/plain": [
       "<keras.callbacks.History at 0x7f53afc75f60>"
      ]
     },
     "execution_count": 30,
     "metadata": {},
     "output_type": "execute_result"
    }
   ],
   "source": [
    "traditional_vae,encoder_Tvae,generator_Tvae = traditional_VAE(X_total.shape[1],Nb=BITS,units=500,layers_e=2,layers_d=0,beta=beta_T)\n",
    "traditional_vae.fit(X_total, X_total, epochs=50, batch_size=batch_size,verbose=0)\n",
    "#save model\n",
    "#encoder_Tvae.save(\"saved_models/\"+name_dat+\"_VAE_\"+str(BITS_S)+\"b_E_defaultCNN.h5\")\n",
    "###generator_Tvae.save(\"saved_models/\"+name_dat+\"_VAE_\"+str(BITS_S)+\"b_D_defaultCNN.h5\") #it is not used\n",
    "\n",
    "\n",
    "binary_vae,encoder_Bvae,generator_Bvae = binary_VAE(X_total.shape[1],Nb=BITS,units=500,layers_e=2,layers_d=0,beta=beta_B)\n",
    "binary_vae.fit(X_total, X_total, epochs=50, batch_size=batch_size,verbose=0)\n",
    "#save model\n",
    "#encoder_Bvae.save(\"saved_models/\"+name_dat+\"_BVAE_\"+str(BITS_S)+\"b_E_defaultCNN.h5\")\n",
    "#generator_Bvae.save_weights(\"saved_models/\"+name_dat+\"_BVAE_\"+str(BITS_S)+\"b_D_defaultCNN_w.h5\")\n",
    "\n",
    "#keras.backend.clear_session()\n",
    "#gc.collect()"
   ]
  },
  {
   "cell_type": "markdown",
   "metadata": {
    "collapsed": false,
    "scrolled": false
   },
   "source": [
    "##load model\n",
    "encoder_Tvae = keras.models.load_model(\"saved_models/\"+name_dat+\"_VAE_\"+str(BITS_S)+\"b_E_defaultCNN.h5\")\n",
    "encoder_Bvae = keras.models.load_model(\"saved_models/\"+name_dat+\"_BVAE_\"+str(BITS_S)+\"b_E_defaultCNN.h5\")\n",
    "#generator_Bvae = keras.models.load_model(\"saved_models/\"+name_dat+\"_BVAE_\"+str(BITS_S)+\"b_D_defaultCNN.h5\")\n",
    "encoder_Bvae.summary()"
   ]
  },
  {
   "cell_type": "code",
   "execution_count": 39,
   "metadata": {
    "collapsed": false,
    "scrolled": false
   },
   "outputs": [
    {
     "data": {
      "text/plain": [
       "0"
      ]
     },
     "execution_count": 39,
     "metadata": {},
     "output_type": "execute_result"
    }
   ],
   "source": [
    "total_hash_VAE, test_hash_VAE = hash_data(encoder_Tvae,X_total,X_test, binary=False)\n",
    "total_hash_BVAE, test_hash_BVAE = hash_data(encoder_Bvae,X_total,X_test)\n",
    "\n",
    "del X_total, X_test\n",
    "gc.collect()"
   ]
  },
  {
   "cell_type": "code",
   "execution_count": 118,
   "metadata": {
    "collapsed": false,
    "scrolled": true
   },
   "outputs": [
    {
     "name": "stdout",
     "output_type": "stream",
     "text": [
      "Realizado.\n"
     ]
    }
   ],
   "source": [
    "dataset = name_dat.lower()\n",
    "\n",
    "p_t,r_t = evaluate_hashing_DE(total_hash_VAE,test_hash_VAE,labels_total,labels_test,tipo=\"topK\")\n",
    "results_dat[dataset][\"p\"].append(p_t)\n",
    "results_dat[dataset][\"r\"].append(r_t)\n",
    "p5k_t = evaluate_hashing_DE(total_hash_VAE,test_hash_VAE,labels_total,labels_test,eval_tipo=\"Patk\",K=5000)\n",
    "results_dat[dataset][\"p5k\"].append(p5k_t)\n",
    "\n",
    "p_b,r_b = evaluate_hashing_DE(total_hash_BVAE, test_hash_BVAE,labels_total,labels_test,tipo=\"topK\")\n",
    "results_dat[dataset][\"p\"].append(p_b)\n",
    "results_dat[dataset][\"r\"].append(r_b)\n",
    "p5k_b = evaluate_hashing_DE(total_hash_BVAE, test_hash_BVAE,labels_total,labels_test,eval_tipo=\"Patk\",K=5000)\n",
    "results_dat[dataset][\"p5k\"].append(p5k_b)\n",
    "\n",
    "print(\"Realizado.\")"
   ]
  },
  {
   "cell_type": "code",
   "execution_count": 86,
   "metadata": {
    "collapsed": false
   },
   "outputs": [
    {
     "name": "stdout",
     "output_type": "stream",
     "text": [
      "*************Top 100 most similar retrieve*************\n",
      "\n",
      "Resultados de Precision en pruebas\n",
      "   Modelo         MNIST              CIFAR-10           Nus-Wide    \n",
      "----------- ------------------ ------------------- -----------------\n",
      "Tradicional 0.7117100000000018 0.47951000000000027 0.713633333333338\n",
      "    Binario 0.7836600000000014  0.5288500000000002 0.741280952380956\n",
      "\n",
      "\n",
      "Resultados de Recall en pruebas\n",
      "   Modelo          MNIST               CIFAR-10              Nus-Wide      \n",
      "----------- -------------------- -------------------- ---------------------\n",
      "Tradicional 0.010282257145833943  0.00812728813559322 0.0014290347807719974\n",
      "    Binario 0.011342659622682084 0.008963559322033908 0.0015296523027093648\n",
      "\n",
      "\n",
      "Resultados de Precision en pruebas (top-5k)\n",
      "   Modelo     MNIST    CIFAR-10      Nus-Wide     \n",
      "----------- --------- --------- ------------------\n",
      "Tradicional 0.3658078 0.2501662 0.5872056190476191\n",
      "    Binario 0.4544488  0.300173 0.6324138095238095\n"
     ]
    }
   ],
   "source": [
    "print(\"*************Top 100 most similar retrieve*************\")\n",
    "\n",
    "print(\"\\nResultados de Precision en pruebas\")\n",
    "t = Table()\n",
    "t[\"Modelo\"] = [\"Tradicional\",\"Binario\"]\n",
    "t[\"MNIST\"] = results_dat[\"mnist\"][\"p\"]\n",
    "t[\"CIFAR-10\"] = results_dat[\"cifar-10\"][\"p\"]\n",
    "#t[\"CelebA\"] = results_dat[\"celeba\"][\"p\"]\n",
    "t[\"Nus-Wide\"] = results_dat[\"nus-wide\"][\"p\"]\n",
    "print(t)\n",
    "\n",
    "print(\"\\n\\nResultados de Recall en pruebas\")\n",
    "t = Table()\n",
    "t[\"Modelo\"] = [\"Tradicional\",\"Binario\"]\n",
    "t[\"MNIST\"] = results_dat[\"mnist\"][\"r\"]\n",
    "t[\"CIFAR-10\"] = results_dat[\"cifar-10\"][\"r\"]\n",
    "#t[\"CelebA\"] = results_dat[\"celeba\"][\"r\"]\n",
    "t[\"Nus-Wide\"] = results_dat[\"nus-wide\"][\"r\"]\n",
    "print(t)\n",
    "\n",
    "print(\"\\n\\nResultados de Precision en pruebas (top-5k)\")\n",
    "t = Table()\n",
    "t[\"Modelo\"] = [\"Tradicional\",\"Binario\"]\n",
    "t[\"MNIST\"] = results_dat[\"mnist\"][\"p5k\"]\n",
    "t[\"CIFAR-10\"] = results_dat[\"cifar-10\"][\"p5k\"]\n",
    "#t[\"CelebA\"] = results_dat[\"celeba\"][\"p5k\"]\n",
    "t[\"Nus-Wide\"] = results_dat[\"nus-wide\"][\"p5k\"]\n",
    "print(t)"
   ]
  },
  {
   "cell_type": "code",
   "execution_count": null,
   "metadata": {
    "collapsed": true
   },
   "outputs": [],
   "source": [
    "print(\"*************Top 100 most similar retrieve*************\")\n",
    "\n",
    "print(\"\\nResultados de Precision en pruebas\")\n",
    "t = Table()\n",
    "t[\"Modelo\"] = [\"Tradicional\",\"Binario\"]\n",
    "t[\"MNIST\"] = results_dat[\"mnist\"][\"p\"]\n",
    "t[\"CIFAR-10\"] = results_dat[\"cifar-10\"][\"p\"]\n",
    "t[\"CelebA\"] = results_dat[\"celeba\"][\"p\"]\n",
    "t[\"Nus-Wide\"] = results_dat[\"nus-wide\"][\"p\"]\n",
    "print(t)\n",
    "\n",
    "print(\"\\n\\nResultados de Recall en pruebas\")\n",
    "t = Table()\n",
    "t[\"Modelo\"] = [\"Tradicional\",\"Binario\"]\n",
    "t[\"MNIST\"] = results_dat[\"mnist\"][\"r\"]\n",
    "t[\"CIFAR-10\"] = results_dat[\"cifar-10\"][\"r\"]\n",
    "t[\"CelebA\"] = results_dat[\"celeba\"][\"r\"]\n",
    "t[\"Nus-Wide\"] = results_dat[\"nus-wide\"][\"r\"]\n",
    "print(t)\n",
    "\n",
    "print(\"\\n\\nResultados de Precision en pruebas (top-5k)\")\n",
    "t = Table()\n",
    "t[\"Modelo\"] = [\"Tradicional\",\"Binario\"]\n",
    "t[\"MNIST\"] = results_dat[\"mnist\"][\"p5k\"]\n",
    "t[\"CIFAR-10\"] = results_dat[\"cifar-10\"][\"p5k\"]\n",
    "t[\"CelebA\"] = results_dat[\"celeba\"][\"p5k\"]\n",
    "t[\"Nus-Wide\"] = results_dat[\"nus-wide\"][\"p5k\"]\n",
    "print(t)"
   ]
  },
  {
   "cell_type": "code",
   "execution_count": 30,
   "metadata": {
    "collapsed": false
   },
   "outputs": [
    {
     "name": "stdout",
     "output_type": "stream",
     "text": [
      "MAP on MNIST dataset\n",
      "Traditional VAE =  0.30342899259508194\n",
      "Binary VAE =  0.39094186690859906\n"
     ]
    }
   ],
   "source": [
    "print(\"MAP on %s dataset\"%name_dat)\n",
    "map_t= evaluate_hashing_DE(total_hash_VAE,test_hash_VAE,labels_total,labels_test,eval_tipo=\"MAP\",K=9999999)\n",
    "print(\"Traditional VAE = \",map_t)\n",
    "\n",
    "map_b= evaluate_hashing_DE(total_hash_BVAE, test_hash_BVAE,labels_total,labels_test,eval_tipo=\"MAP\",K=9999999)\n",
    "print(\"Binary VAE = \",map_b)"
   ]
  },
  {
   "cell_type": "code",
   "execution_count": 58,
   "metadata": {
    "collapsed": false
   },
   "outputs": [
    {
     "name": "stdout",
     "output_type": "stream",
     "text": [
      "MAP on CIFAR-10 dataset\n",
      "Traditional VAE =  0.21211730868653633\n",
      "Binary VAE =  0.26200877782820375\n"
     ]
    }
   ],
   "source": [
    "print(\"MAP on %s dataset\"%name_dat)\n",
    "map_t= evaluate_hashing_DE(total_hash_VAE,test_hash_VAE,labels_total,labels_test,eval_tipo=\"MAP\",K=9999999)\n",
    "print(\"Traditional VAE = \",map_t)\n",
    "\n",
    "map_b= evaluate_hashing_DE(total_hash_BVAE, test_hash_BVAE,labels_total,labels_test,eval_tipo=\"MAP\",K=9999999)\n",
    "print(\"Binary VAE = \",map_b)"
   ]
  },
  {
   "cell_type": "code",
   "execution_count": 87,
   "metadata": {
    "collapsed": false
   },
   "outputs": [
    {
     "name": "stdout",
     "output_type": "stream",
     "text": [
      "MAP on Nus-Wide dataset\n",
      "Traditional VAE =  0.6368336738750052\n",
      "Binary VAE =  0.6787343204390293\n"
     ]
    }
   ],
   "source": [
    "print(\"MAP@5000 on %s dataset\"%name_dat)\n",
    "map_t= evaluate_hashing_DE(total_hash_VAE,test_hash_VAE,labels_total,labels_test,eval_tipo=\"MAP\",K=5000)\n",
    "print(\"Traditional VAE = \",map_t)\n",
    "\n",
    "map_b= evaluate_hashing_DE(total_hash_BVAE, test_hash_BVAE,labels_total,labels_test,eval_tipo=\"MAP\",K=5000)\n",
    "print(\"Binary VAE = \",map_b)"
   ]
  },
  {
   "cell_type": "code",
   "execution_count": 88,
   "metadata": {
    "collapsed": false
   },
   "outputs": [
    {
     "name": "stdout",
     "output_type": "stream",
     "text": [
      "MAP on Nus-Wide dataset\n",
      "Traditional VAE =  0.4519945440628363\n",
      "Binary VAE =  0.4835491970827503\n"
     ]
    }
   ],
   "source": [
    "print(\"MAP on %s dataset\"%name_dat)\n",
    "map_t= evaluate_hashing_DE(total_hash_VAE,test_hash_VAE,labels_total,labels_test,eval_tipo=\"MAP\",K=9999999)\n",
    "print(\"Traditional VAE = \",map_t)\n",
    "\n",
    "map_b= evaluate_hashing_DE(total_hash_BVAE, test_hash_BVAE,labels_total,labels_test,eval_tipo=\"MAP\",K=9999999)\n",
    "print(\"Binary VAE = \",map_b)"
   ]
  },
  {
   "cell_type": "markdown",
   "metadata": {},
   "source": [
    "La propuesta presentada de *VAE* binario sobrepasa al *VAE* tradicional en todos los resultados presentados.\n",
    "### Experimentos con el *ball search*\n",
    "A continuación se muestra una leve experimentación cuando se trabaja con la búsqueda a través de un radio en el espacio de *Haming*."
   ]
  },
  {
   "cell_type": "code",
   "execution_count": 31,
   "metadata": {
    "collapsed": true
   },
   "outputs": [],
   "source": [
    "traditional_dat_BS = {\"mnist\":{},\"cifar-10\":{},\"celeba\":{},'nus-wide':{}}\n",
    "binary_dat_BS = {\"mnist\":{},\"cifar-10\":{},\"celeba\":{},'nus-wide':{}}"
   ]
  },
  {
   "cell_type": "code",
   "execution_count": null,
   "metadata": {
    "collapsed": true
   },
   "outputs": [],
   "source": [
    "dat_show = \"MNIST\"\n",
    "print(\"DAtaset \",dat_show)\n",
    "print(\"VAE P@ball=2 equals=\",traditional_dat_BS[dat_show.lower()][\"p\"][2])\n",
    "print(\"B-VAE P@ball=2 equals=\",binary_dat_BS[dat_show.lower()][\"p\"][2])"
   ]
  },
  {
   "cell_type": "code",
   "execution_count": null,
   "metadata": {
    "collapsed": true
   },
   "outputs": [],
   "source": [
    "dat_show = \"CIFAR-10\"\n",
    "print(\"DAtaset \",dat_show)\n",
    "print(\"VAE P@ball=2 equals=\",traditional_dat_BS[dat_show.lower()][\"p\"][2])\n",
    "print(\"B-VAE P@ball=2 equals=\",binary_dat_BS[dat_show.lower()][\"p\"][2])"
   ]
  },
  {
   "cell_type": "code",
   "execution_count": null,
   "metadata": {
    "collapsed": true
   },
   "outputs": [],
   "source": [
    "dat_show = \"NUS-WIDE\"\n",
    "print(\"DAtaset \",dat_show)\n",
    "print(\"VAE P@ball=2 equals=\",traditional_dat_BS[dat_show.lower()][\"p\"][2])\n",
    "print(\"B-VAE P@ball=2 equals=\",binary_dat_BS[dat_show.lower()][\"p\"][2])"
   ]
  },
  {
   "cell_type": "code",
   "execution_count": 8,
   "metadata": {
    "collapsed": false,
    "scrolled": true
   },
   "outputs": [],
   "source": [
    "from utils import get_similar_hammD_based,get_hammD\n",
    "ball_radius = np.arange(0,25) #ball of radius graphic"
   ]
  },
  {
   "cell_type": "code",
   "execution_count": null,
   "metadata": {
    "collapsed": false,
    "scrolled": true
   },
   "outputs": [],
   "source": [
    "%%time\n",
    "dataset = name_dat.lower()\n",
    "\n",
    "binary_dat_BS[dataset][\"p\"] = []\n",
    "binary_dat_BS[dataset][\"r\"] = []\n",
    "\n",
    "hammD_scores = get_hammD(test_hash_BVAE,total_hash_BVAE) #all hamming ranking\n",
    "for ball_r in ball_radius:\n",
    "    test_similares_train = get_similar_hammD_based(hammD_scores,tipo=\"ball\", ball=ball_r)\n",
    "\n",
    "    p_b,r_b  = measure_metrics(labels,test_similares_train,labels_query=labels_test,labels_source=labels_total)\n",
    "    binary_dat_BS[dataset][\"p\"].append(p_b)\n",
    "    binary_dat_BS[dataset][\"r\"].append(r_b)\n",
    "\n",
    "    \n",
    "traditional_dat_BS[dataset][\"p\"] = []\n",
    "traditional_dat_BS[dataset][\"r\"] = []\n",
    "\n",
    "hammD_scores = get_hammD(test_hash_VAE,total_hash_VAE) #all hamming ranking\n",
    "for ball_r in ball_radius:\n",
    "    test_similares_train = get_similar_hammD_based(hammD_scores,tipo=\"ball\", ball=ball_r)\n",
    "\n",
    "    p_t,r_t  = measure_metrics(labels,test_similares_train,labels_query=labels_test,labels_source=labels_total)\n",
    "    traditional_dat_BS[dataset][\"p\"].append(p_t)\n",
    "    traditional_dat_BS[dataset][\"r\"].append(r_t)\n",
    "    \n",
    "del hammD_scores, test_similares_train\n",
    "gc.collect()\n",
    "    \n",
    "print(\"Termino\")"
   ]
  },
  {
   "cell_type": "code",
   "execution_count": null,
   "metadata": {
    "collapsed": true
   },
   "outputs": [],
   "source": [
    "choosed_data = [ \"MNIST\", \"CIFAR-10\", \"NUS-WIDE\"]\n",
    "f, axx = plt.subplots(1, len(choosed_data), figsize=(16,5), sharey=False)\n",
    "\n",
    "b_aux = 16\n",
    "for z in range(len(choosed_data)):\n",
    "    dat = choosed_data[z].lower()\n",
    "\n",
    "    axx[z].plot(ball_radius[:b_aux],binary_dat_BS[dat][\"p\"][:b_aux],'go-',label=\"precision (Binary VAE)\")\n",
    "    axx[z].plot(ball_radius[:b_aux],binary_dat_BS[dat][\"r\"][:b_aux],'gv-', label='recall' ) \n",
    "    axx[z].plot(ball_radius[:b_aux],traditional_dat_BS[dat][\"p\"][:b_aux],'bo-',label=\"precision (Traditional VAE)\")\n",
    "    axx[z].plot(ball_radius[:b_aux],traditional_dat_BS[dat][\"r\"][:b_aux],'bv-', label='recall' ) \n",
    "    axx[z].set_title(choosed_data[z])\n",
    "    axx[z].set_xticks(ball_radius)\n",
    "    axx[z].set_xlabel(\"Ball radius\")\n",
    "    axx[z].set_xlim(-0.5, len(ball_radius[:b_aux])-.5)\n",
    "    #axx[z].set_ylim(-0.05)\n",
    "    \n",
    "    if z == 0:\n",
    "        axx[z].set_ylabel(\"Score\")\n",
    "        axx[z].legend(bbox_to_anchor=(2, -0.1))\n",
    "        \n",
    "f.suptitle(\"Comparison of ball search\")\n",
    "plt.show()"
   ]
  },
  {
   "cell_type": "code",
   "execution_count": null,
   "metadata": {
    "collapsed": true
   },
   "outputs": [],
   "source": []
  }
 ],
 "metadata": {
  "anaconda-cloud": {},
  "kernelspec": {
   "display_name": "Python [conda env:tesis]",
   "language": "python",
   "name": "conda-env-tesis-py"
  },
  "language_info": {
   "codemirror_mode": {
    "name": "ipython",
    "version": 3
   },
   "file_extension": ".py",
   "mimetype": "text/x-python",
   "name": "python",
   "nbconvert_exporter": "python",
   "pygments_lexer": "ipython3",
   "version": "3.5.3"
  }
 },
 "nbformat": 4,
 "nbformat_minor": 2
}
