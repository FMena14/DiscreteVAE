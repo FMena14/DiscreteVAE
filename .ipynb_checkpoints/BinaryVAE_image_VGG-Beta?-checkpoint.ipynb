{
 "cells": [
  {
   "cell_type": "markdown",
   "metadata": {},
   "source": [
    "<img src=\"http://www.exalumnos.usm.cl/wp-content/uploads/2015/06/Isotipo-Negro.gif\" title=\"Title text\" width=\"20%\" height=\"20%\" />\n",
    "\n",
    "\n",
    "<hr style=\"height:2px;border:none\"/>\n",
    "<h1 align='center'> Binary Variational Semantic Hashing </h1>\n",
    "\n",
    "<H3 align='center'> Extensión trabajo CIARP </H3>\n",
    "<hr style=\"height:2px;border:none\"/>"
   ]
  },
  {
   "cell_type": "code",
   "execution_count": 1,
   "metadata": {
    "collapsed": false,
    "scrolled": true
   },
   "outputs": [
    {
     "name": "stderr",
     "output_type": "stream",
     "text": [
      "/home/fmena/anaconda3/envs/tesis/lib/python3.5/site-packages/h5py/__init__.py:34: FutureWarning: Conversion of the second argument of issubdtype from `float` to `np.floating` is deprecated. In future, it will be treated as `np.float64 == np.dtype(float).type`.\n",
      "  from ._conv import register_converters as _register_converters\n",
      "Using TensorFlow backend.\n",
      "/home/fmena/.local/lib/python3.5/site-packages/tensorflow/python/framework/dtypes.py:469: FutureWarning: Passing (type, 1) or '1type' as a synonym of type is deprecated; in a future version of numpy, it will be understood as (type, (1,)) / '(1,)type'.\n",
      "  _np_qint8 = np.dtype([(\"qint8\", np.int8, 1)])\n",
      "/home/fmena/.local/lib/python3.5/site-packages/tensorflow/python/framework/dtypes.py:470: FutureWarning: Passing (type, 1) or '1type' as a synonym of type is deprecated; in a future version of numpy, it will be understood as (type, (1,)) / '(1,)type'.\n",
      "  _np_quint8 = np.dtype([(\"quint8\", np.uint8, 1)])\n",
      "/home/fmena/.local/lib/python3.5/site-packages/tensorflow/python/framework/dtypes.py:471: FutureWarning: Passing (type, 1) or '1type' as a synonym of type is deprecated; in a future version of numpy, it will be understood as (type, (1,)) / '(1,)type'.\n",
      "  _np_qint16 = np.dtype([(\"qint16\", np.int16, 1)])\n",
      "/home/fmena/.local/lib/python3.5/site-packages/tensorflow/python/framework/dtypes.py:472: FutureWarning: Passing (type, 1) or '1type' as a synonym of type is deprecated; in a future version of numpy, it will be understood as (type, (1,)) / '(1,)type'.\n",
      "  _np_quint16 = np.dtype([(\"quint16\", np.uint16, 1)])\n",
      "/home/fmena/.local/lib/python3.5/site-packages/tensorflow/python/framework/dtypes.py:473: FutureWarning: Passing (type, 1) or '1type' as a synonym of type is deprecated; in a future version of numpy, it will be understood as (type, (1,)) / '(1,)type'.\n",
      "  _np_qint32 = np.dtype([(\"qint32\", np.int32, 1)])\n",
      "/home/fmena/.local/lib/python3.5/site-packages/tensorflow/python/framework/dtypes.py:476: FutureWarning: Passing (type, 1) or '1type' as a synonym of type is deprecated; in a future version of numpy, it will be understood as (type, (1,)) / '(1,)type'.\n",
      "  np_resource = np.dtype([(\"resource\", np.ubyte, 1)])\n"
     ]
    }
   ],
   "source": [
    "import numpy as np\n",
    "import keras,gc, os, time, sys\n",
    "from keras.layers import *\n",
    "from keras.models import Sequential,Model\n",
    "from keras import backend as K\n",
    "from astropy.table import Table\n",
    "import matplotlib.pyplot as plt\n",
    "import seaborn as sns\n",
    "import pandas as pd\n",
    "from PIL import Image\n",
    "from scipy.special import expit\n",
    "\n",
    "from base_networks import *\n",
    "from utils import check_availability, load_imgs_mask\n",
    "\n",
    "from utils import get_topK_labels,set_newlabel_list, enmask_data\n",
    "\n",
    "np.random.seed(20)"
   ]
  },
  {
   "cell_type": "code",
   "execution_count": 1,
   "metadata": {
    "collapsed": false
   },
   "outputs": [
    {
     "name": "stdout",
     "output_type": "stream",
     "text": [
      "celeba_VGG_avg.npy  cifar10_VGG_avg.npy  mnist_VGG_avg.npy  nuswide_VGG_avg.npy\r\n",
      "celeba_VGG.npy\t    cifar10_VGG.npy\t mnist_VGG.npy\t    nuswide_VGG.npy\r\n"
     ]
    }
   ],
   "source": [
    "!ls Data/VGG_128"
   ]
  },
  {
   "cell_type": "markdown",
   "metadata": {},
   "source": [
    "## Load Data\n",
    "\n",
    "### MNIST\n",
    "---\n",
    "\n",
    "Imágenes en blanco y negro de 28x28 píxeles, de números del 0 al 9, que dan orígen a las 10 clases del problema.\n",
    "\n",
    "|Tipo set|Datos|Label|\n",
    "|---|---|---|\n",
    "|Entrenamiento|60000|10|\n",
    "|Pruebas|10000|10|"
   ]
  },
  {
   "cell_type": "code",
   "execution_count": 2,
   "metadata": {
    "collapsed": false
   },
   "outputs": [
    {
     "data": {
      "text/plain": [
       "(70000, 784)"
      ]
     },
     "execution_count": 2,
     "metadata": {},
     "output_type": "execute_result"
    }
   ],
   "source": [
    "name_dat = \"MNIST-raw\"\n",
    "\n",
    "(X_t, aux_t), (X_test, aux_test) = keras.datasets.mnist.load_data()\n",
    "labels = [\"0\", \"1\", \"2\", \"3\", \"4\", \"5\", \"6\", \"7\", \"8\", \"9\"]\n",
    "labels_t = np.asarray([labels[value] for value in aux_t])\n",
    "labels_test = np.asarray([labels[value] for value in aux_test])\n",
    "labels_t = np.concatenate((labels_t,labels_test),axis=0)\n",
    "\n",
    "X_t = np.concatenate([X_t, X_test], axis=0).reshape(len(labels_t),28*28)\n",
    "X_t.shape"
   ]
  },
  {
   "cell_type": "code",
   "execution_count": 49,
   "metadata": {
    "collapsed": false
   },
   "outputs": [
    {
     "data": {
      "text/plain": [
       "(70000, 512)"
      ]
     },
     "execution_count": 49,
     "metadata": {},
     "output_type": "execute_result"
    }
   ],
   "source": [
    "name_dat = \"MNIST\"\n",
    "\n",
    "(_, aux_t), (_, aux_test) = keras.datasets.mnist.load_data()\n",
    "labels = [\"0\", \"1\", \"2\", \"3\", \"4\", \"5\", \"6\", \"7\", \"8\", \"9\"]\n",
    "labels_t = np.asarray([labels[value] for value in aux_t])\n",
    "labels_test = np.asarray([labels[value] for value in aux_test])\n",
    "labels_t = np.concatenate((labels_t,labels_test),axis=0)\n",
    "\n",
    "#X_t = np.load(\"./Data/VGG_CNN/mnist_VGG_avg.npy\")\n",
    "X_t = np.load(\"../AUX/VGG_128/mnist_VGG_avg.npy\")\n",
    "\n",
    "X_t.shape"
   ]
  },
  {
   "cell_type": "code",
   "execution_count": 50,
   "metadata": {
    "collapsed": false
   },
   "outputs": [
    {
     "name": "stdout",
     "output_type": "stream",
     "text": [
      "Cantidad de datos Entrenamiento:  69000\n",
      "Cantidad de datos Pruebas:  1000\n"
     ]
    }
   ],
   "source": [
    "##### 1000 imagenes de prueba... \n",
    "from utils import sample_test_mask\n",
    "mask_train = sample_test_mask(labels_t, N=100, multi_label=False)\n",
    "\n",
    "## creat test como dicen...\n",
    "X_test = X_t[~mask_train]\n",
    "X_t = X_t[mask_train]\n",
    "labels_test = enmask_data(labels_t, ~mask_train)\n",
    "labels_t = enmask_data(labels_t, mask_train)\n",
    "\n",
    "gc.collect()\n",
    "print(\"Cantidad de datos Entrenamiento: \",len(X_t))\n",
    "print(\"Cantidad de datos Pruebas: \",len(X_test))"
   ]
  },
  {
   "cell_type": "markdown",
   "metadata": {
    "collapsed": true
   },
   "source": [
    "### CIFAR-10\n",
    "---\n",
    "Imágenes RGB pequeñas de  32x32 píxeles, de fotos naturales de distintos objetos.\n",
    "\n",
    "|Tipo set|Datos|Label|\n",
    "|---|---|---|\n",
    "|Entrenamiento|50000|10|\n",
    "|Pruebas|10000|10|"
   ]
  },
  {
   "cell_type": "code",
   "execution_count": 139,
   "metadata": {
    "collapsed": false,
    "scrolled": false
   },
   "outputs": [
    {
     "data": {
      "text/plain": [
       "(60000, 512)"
      ]
     },
     "execution_count": 139,
     "metadata": {},
     "output_type": "execute_result"
    }
   ],
   "source": [
    "name_dat = \"CIFAR-10\"\n",
    "\n",
    "(_, aux_t), (_, aux_test) = keras.datasets.cifar10.load_data()\n",
    "\n",
    "labels = [\"airplane\", \"automobile\",\"bird\", \"cat\",\"deer\",\"dog\",\"frog\",\"horse\",\"ship\",\"truck\"]\n",
    "labels_t = np.asarray([labels[value[0]] for value in aux_t])\n",
    "labels_test = np.asarray([labels[value[0]] for value in aux_test])\n",
    "labels_t = np.concatenate((labels_t,labels_test),axis=0)\n",
    "\n",
    "#X_t = np.load(\"./Data/VGG_CNN/cifar10_VGG_avg.npy\")\n",
    "#X_t = np.load(\"./Data/VGG_64/cifar10_VGG_avg.npy\") #mejora\n",
    "\n",
    "#X_t = np.load(\"../AUX/VGG_128/cifar10_VGG_avg.npy\") #mejora\n",
    "X_t = np.load(\"../AUX/VGG_224/cifar10_VGG_avg.npy\") #mejora\n",
    "\n",
    "X_t.shape"
   ]
  },
  {
   "cell_type": "code",
   "execution_count": 140,
   "metadata": {
    "collapsed": false
   },
   "outputs": [
    {
     "name": "stdout",
     "output_type": "stream",
     "text": [
      "Cantidad de datos Entrenamiento:  59000\n",
      "Cantidad de datos Pruebas:  1000\n"
     ]
    }
   ],
   "source": [
    "##### 1000 imagenes de prueba... \n",
    "from utils import sample_test_mask\n",
    "mask_train = sample_test_mask(labels_t, N=100, multi_label=False)\n",
    "\n",
    "## creat test como dicen...\n",
    "X_test = X_t[~mask_train]\n",
    "X_t = X_t[mask_train]\n",
    "labels_test = enmask_data(labels_t, ~mask_train)\n",
    "labels_t = enmask_data(labels_t, mask_train)\n",
    "\n",
    "gc.collect()\n",
    "print(\"Cantidad de datos Entrenamiento: \",len(X_t))\n",
    "print(\"Cantidad de datos Pruebas: \",len(X_test))"
   ]
  },
  {
   "cell_type": "markdown",
   "metadata": {},
   "source": [
    "### NUSWIDE\n",
    "---\n",
    "* Cantidad de datos totales: 269648\n",
    "* Datos utlizados (con imagenes disponibles a descargar): 169500\n",
    "* Datos top-21 clases: 158383\n",
    "\n",
    "Imágenes de eventos con 81 tópicos asociados, re-dimensionadas a 64x64.\n",
    "\n",
    "|Tipo set|Datos|Label|\n",
    "|---|---|---|\n",
    "|Entrenamiento|xxx|81|\n",
    "|Validación|xxx|81|\n",
    "|Pruebas|xxx|81|"
   ]
  },
  {
   "cell_type": "code",
   "execution_count": 104,
   "metadata": {
    "collapsed": false,
    "scrolled": true
   },
   "outputs": [
    {
     "name": "stdout",
     "output_type": "stream",
     "text": [
      "Cantidad de labels:  81\n",
      "Cantidad de objetos:  169500\n"
     ]
    },
    {
     "data": {
      "text/plain": [
       "[['person'], ['person'], ['person'], ['person'], ['person']]"
      ]
     },
     "execution_count": 104,
     "metadata": {},
     "output_type": "execute_result"
    }
   ],
   "source": [
    "name_dat = \"Nus-Wide\"\n",
    "\n",
    "folder = \"../Dataset_NUSWIDE/\"\n",
    "\n",
    "mask_av = np.loadtxt(\"./Data/\"+name_dat+\"_mask_avail.txt\").astype(bool)\n",
    "\n",
    "labels = pd.read_csv(folder+'Concepts81.txt',header=None).values.reshape(1,-1)[0]\n",
    "print(\"Cantidad de labels: \",len(labels) )\n",
    "\n",
    "labels_t = [[] for _ in range(269648)]\n",
    "for concept in labels:\n",
    "    aux = pd.read_csv(folder+\"Groundtruth/AllLabels/Labels_\"+concept+\".txt\",header=None)\n",
    "    indexs_true = aux.loc[(aux==1).values[:,0]].index\n",
    "    \n",
    "    for value in indexs_true:\n",
    "        labels_t[value].append(concept)\n",
    "        \n",
    "labels_t = enmask_data(labels_t, mask_av)\n",
    "N_total = len(labels_t)\n",
    "print(\"Cantidad de objetos: \",N_total )\n",
    "\n",
    "labels_t[:5]"
   ]
  },
  {
   "cell_type": "markdown",
   "metadata": {},
   "source": [
    "#### get top-K labels data"
   ]
  },
  {
   "cell_type": "code",
   "execution_count": 105,
   "metadata": {
    "collapsed": false
   },
   "outputs": [
    {
     "name": "stdout",
     "output_type": "stream",
     "text": [
      "category with most data (sky) has = 61066, the top-K category (mountain) has = 4232\n",
      "Cantidad de objetos:  158383\n"
     ]
    }
   ],
   "source": [
    "new_labels = get_topK_labels(labels_t, labels, K=21)\n",
    "\n",
    "labels_t = set_newlabel_list(new_labels, labels_t)\n",
    "labels = new_labels\n",
    "# y si quedan datos sin clase?\n",
    "mask_used_t = np.asarray(list(map(len,labels_t))) != 0\n",
    "\n",
    "labels_t = enmask_data(labels_t, mask_used_t)\n",
    "print(\"Cantidad de objetos: \", len(labels_t) )"
   ]
  },
  {
   "cell_type": "markdown",
   "metadata": {},
   "source": [
    "N_used = 80*1000 #o 150k??\n",
    "idx_all = np.arange(0, N_total)\n",
    "mask_used = np.zeros(N_total, dtype=bool)\n",
    "mask_used[np.random.choice(np.arange(0, N_total), size=N_used, replace=False)] = 1\n",
    "mask_used"
   ]
  },
  {
   "cell_type": "code",
   "execution_count": 106,
   "metadata": {
    "collapsed": false,
    "scrolled": true
   },
   "outputs": [
    {
     "data": {
      "text/plain": [
       "(158383, 512)"
      ]
     },
     "execution_count": 106,
     "metadata": {},
     "output_type": "execute_result"
    }
   ],
   "source": [
    "X_t = np.load(\"../AUX/VGG_224/nuswide_VGG_avg.npy\")\n",
    "X_t.shape"
   ]
  },
  {
   "cell_type": "code",
   "execution_count": 107,
   "metadata": {
    "collapsed": false
   },
   "outputs": [
    {
     "name": "stdout",
     "output_type": "stream",
     "text": [
      "Cantidad de datos Entrenamiento:  156283\n",
      "Cantidad de datos Pruebas:  2100\n"
     ]
    }
   ],
   "source": [
    "from utils import sample_test_mask\n",
    "mask_train = sample_test_mask(labels_t, N=100)\n",
    "\n",
    "## creat test como dicen...\n",
    "X_test = X_t[~mask_train]\n",
    "X_t = X_t[mask_train]\n",
    "labels_test = enmask_data(labels_t, ~mask_train)\n",
    "labels_t = enmask_data(labels_t, mask_train)\n",
    "\n",
    "gc.collect()\n",
    "print(\"Cantidad de datos Entrenamiento: \",len(X_t))\n",
    "print(\"Cantidad de datos Pruebas: \",len(X_test))"
   ]
  },
  {
   "cell_type": "markdown",
   "metadata": {
    "collapsed": true
   },
   "source": [
    "### CelebA\n",
    "---\n",
    "* Cantidad de datos totales: 202599\n",
    "* Datos en plataforma Kaggle:https://www.kaggle.com/jessicali9530/celeba-dataset \n",
    "\n",
    "Imágenes RGB re-dimensionadas a 64x64 píxeles, de fotos naturales de rostros de celebridades. Una muestra es utilizada\n",
    "\n",
    "|Tipo set|Datos|Label|\n",
    "|---|---|---|\n",
    "|Entrenamiento|xxx|40|\n",
    "|Validación|xxx|40|\n",
    "|Pruebas|xxx|40|"
   ]
  },
  {
   "cell_type": "markdown",
   "metadata": {},
   "source": [
    "mask_av = check_availability(folder+\"small_images/\", labels_t)\n",
    "np.savetxt(\"./Data/+\"name_dat+\"_mask_avail.txt\", mask_av, fmt=\"%1i\")"
   ]
  },
  {
   "cell_type": "code",
   "execution_count": 92,
   "metadata": {
    "collapsed": false,
    "scrolled": true
   },
   "outputs": [
    {
     "name": "stdout",
     "output_type": "stream",
     "text": [
      "Cantidad de labels:  40\n",
      "Cantidad de objetos:  202599\n"
     ]
    },
    {
     "data": {
      "text/plain": [
       "['5_o_Clock_Shadow',\n",
       " 'Arched_Eyebrows',\n",
       " 'Attractive',\n",
       " 'Bags_Under_Eyes',\n",
       " 'Bald']"
      ]
     },
     "execution_count": 92,
     "metadata": {},
     "output_type": "execute_result"
    }
   ],
   "source": [
    "name_dat = \"CelebA\"\n",
    "mask_av = np.loadtxt(\"./Data/\"+name_dat+\"_mask_avail.txt\").astype(bool)\n",
    "\n",
    "folder = \"../CelebA/\"\n",
    "\n",
    "part = pd.read_csv(folder+\"list_eval_partition.csv\")\n",
    "mask_train = (part[\"partition\"].values == 0)[mask_av]\n",
    "mask_val = (part[\"partition\"].values == 1)[mask_av]\n",
    "mask_test = (part[\"partition\"].values == 2)[mask_av]\n",
    "\n",
    "df_atrr = pd.read_csv(folder+\"list_attr_celeba.csv\")[mask_av]\n",
    "img_names = df_atrr[\"image_id\"].values\n",
    "labels = list(df_atrr.columns[1:])\n",
    "print(\"Cantidad de labels: \",len(labels) )\n",
    "\n",
    "N_total = len(df_atrr)\n",
    "print(\"Cantidad de objetos: \",N_total )\n",
    "aux = (df_atrr == 1).values\n",
    "labels_t = np.asarray([list(df_atrr.columns[aux[value]]) for value in range(N_total)])\n",
    "labels[:5]"
   ]
  },
  {
   "cell_type": "code",
   "execution_count": 93,
   "metadata": {
    "collapsed": false
   },
   "outputs": [
    {
     "data": {
      "text/plain": [
       "(202599, 512)"
      ]
     },
     "execution_count": 93,
     "metadata": {},
     "output_type": "execute_result"
    }
   ],
   "source": [
    "X_t = np.load(\"./Data/VGG_128/celeba_VGG_avg.npy\")\n",
    "X_t.shape"
   ]
  },
  {
   "cell_type": "code",
   "execution_count": 94,
   "metadata": {
    "collapsed": false
   },
   "outputs": [
    {
     "name": "stdout",
     "output_type": "stream",
     "text": [
      "Cantidad de datos Entrenamiento:  198599\n",
      "Cantidad de datos Pruebas:  4000\n"
     ]
    }
   ],
   "source": [
    "from utils import sample_test_mask\n",
    "mask_train = sample_test_mask(labels_t, N=100)\n",
    "\n",
    "## creat test como dicen...\n",
    "X_test = X_t[~mask_train]\n",
    "X_t = X_t[mask_train]\n",
    "labels_test = enmask_data(labels_t, ~mask_train)\n",
    "labels_t = enmask_data(labels_t, mask_train)\n",
    "\n",
    "gc.collect()\n",
    "print(\"Cantidad de datos Entrenamiento: \",len(X_t))\n",
    "print(\"Cantidad de datos Pruebas: \",len(X_test))"
   ]
  },
  {
   "cell_type": "markdown",
   "metadata": {},
   "source": [
    "### Validation creation\n",
    "\n",
    "Pre-process: División por 255"
   ]
  },
  {
   "cell_type": "code",
   "execution_count": 4,
   "metadata": {
    "collapsed": false
   },
   "outputs": [
    {
     "data": {
      "text/plain": [
       "array([[0., 0., 0., ..., 0., 0., 0.],\n",
       "       [0., 0., 0., ..., 0., 0., 0.],\n",
       "       [0., 0., 0., ..., 0., 0., 0.],\n",
       "       ...,\n",
       "       [0., 0., 0., ..., 0., 0., 0.],\n",
       "       [0., 0., 0., ..., 0., 0., 0.],\n",
       "       [0., 0., 0., ..., 0., 0., 0.]], dtype=float32)"
      ]
     },
     "execution_count": 4,
     "metadata": {},
     "output_type": "execute_result"
    }
   ],
   "source": [
    "X_t = X_t.astype(\"float32\")/255\n",
    "X_test = X_test.astype(\"float32\")/255\n",
    "X_test"
   ]
  },
  {
   "cell_type": "code",
   "execution_count": 141,
   "metadata": {
    "collapsed": false,
    "scrolled": false
   },
   "outputs": [
    {
     "data": {
      "text/plain": [
       "array([[ 3.3634403 ,  1.6491311 ,  1.7156701 , ..., -0.4954083 ,\n",
       "        -0.10966182,  0.33191326],\n",
       "       [-0.18719149, -0.45493087, -0.5005233 , ..., -0.4954083 ,\n",
       "         1.1623096 , -0.45836106],\n",
       "       [-0.45166254, -0.45493087, -0.5005233 , ...,  0.31817105,\n",
       "        -0.5580158 , -0.24086328],\n",
       "       ...,\n",
       "       [-0.26130196, -0.4091533 ,  1.4187546 , ...,  0.26868737,\n",
       "         0.1864351 ,  0.7117243 ],\n",
       "       [-0.45166254,  0.0612663 , -0.5005233 , ..., -0.38322145,\n",
       "         0.4404042 , -0.2049015 ],\n",
       "       [-0.45166254, -0.45493087, -0.5005233 , ...,  2.9680657 ,\n",
       "        -0.6262276 ,  0.45511922]], dtype=float32)"
      ]
     },
     "execution_count": 141,
     "metadata": {},
     "output_type": "execute_result"
    }
   ],
   "source": [
    "from sklearn.preprocessing import StandardScaler\n",
    "std = StandardScaler(with_mean=True, with_std=True)\n",
    "std.fit(X_t)\n",
    "\n",
    "X_t = std.transform(X_t)\n",
    "X_test = std.transform(X_test)\n",
    "X_t"
   ]
  },
  {
   "cell_type": "code",
   "execution_count": 142,
   "metadata": {
    "collapsed": false,
    "scrolled": true
   },
   "outputs": [
    {
     "name": "stdout",
     "output_type": "stream",
     "text": [
      "Cantidad de datos Entrenamiento:  58000\n",
      "Cantidad de datos Validación:  1000\n",
      "Cantidad de datos Pruebas:  1000\n"
     ]
    },
    {
     "data": {
      "text/plain": [
       "10"
      ]
     },
     "execution_count": 142,
     "metadata": {},
     "output_type": "execute_result"
    }
   ],
   "source": [
    "from sklearn.model_selection import train_test_split\n",
    "X_train, X_val, labels_train, labels_val  = train_test_split(X_t, labels_t, random_state=20,test_size=len(X_test))\n",
    "\n",
    "print(\"Cantidad de datos Entrenamiento: \",len(X_train))\n",
    "print(\"Cantidad de datos Validación: \",len(X_val))\n",
    "print(\"Cantidad de datos Pruebas: \",len(X_test))\n",
    "del X_t, labels_t\n",
    "gc.collect()"
   ]
  },
  {
   "cell_type": "code",
   "execution_count": 143,
   "metadata": {
    "collapsed": true
   },
   "outputs": [],
   "source": [
    "X_train_input = X_train\n",
    "X_val_input = X_val\n",
    "X_test_input = X_test"
   ]
  },
  {
   "cell_type": "markdown",
   "metadata": {},
   "source": [
    "### Model Architecture\n",
    "---\n",
    "CNN\n",
    "https://github.com/rtflynn/Cifar-Autoencoder"
   ]
  },
  {
   "cell_type": "code",
   "execution_count": 54,
   "metadata": {
    "collapsed": true
   },
   "outputs": [],
   "source": [
    "raw = False"
   ]
  },
  {
   "cell_type": "code",
   "execution_count": 55,
   "metadata": {
    "collapsed": false
   },
   "outputs": [],
   "source": [
    "def REC_loss(x_true, x_pred):\n",
    "    if raw:\n",
    "        return K.mean( K.binary_crossentropy(x_true, x_pred), axis=-1)\n",
    "    else:\n",
    "        return K.mean( (x_true- x_pred)**2 ,axis=-1)  #it should be VGG"
   ]
  },
  {
   "cell_type": "code",
   "execution_count": 56,
   "metadata": {
    "collapsed": false,
    "scrolled": true
   },
   "outputs": [],
   "source": [
    "def traditional_VAE(data_dim,Nb,units,layers_e,layers_d,opt='adam',BN=True, beta=0, summ=True):\n",
    "    pre_encoder = define_pre_encoder(data_dim, layers=layers_e,units=units,BN=BN)\n",
    "    if raw:\n",
    "        generator = define_generator(Nb,data_dim,layers=layers_d,units=units,BN=BN, out_type='sigmoid')\n",
    "    else:\n",
    "        generator = define_generator(Nb,data_dim,layers=layers_d,units=units,BN=BN, out_type='linear')    \n",
    "    if summ:\n",
    "        print(\"pre-encoder network:\")\n",
    "        pre_encoder.summary()\n",
    "        print(\"generator network:\")\n",
    "        generator.summary()\n",
    "    ## Encoder\n",
    "    x = Input(shape=(data_dim,))\n",
    "    hidden = pre_encoder(x)\n",
    "    z_mean = Dense(Nb,activation='linear', name='z-mean')(hidden)\n",
    "    z_log_var = Dense(Nb,activation='linear',name = 'z-log_var')(hidden)\n",
    "    encoder = Model(x, z_mean) # build a model to project inputs on the latent space\n",
    "\n",
    "    def sampling(args):\n",
    "        epsilon_std = 1.0\n",
    "        z_mean, z_log_var = args\n",
    "        epsilon = K.random_normal(shape=(K.shape(z_mean)[0], Nb),mean=0., stddev=epsilon_std)\n",
    "        return z_mean + K.exp(0.5*z_log_var) * epsilon #+sigma (desvest)\n",
    "    \n",
    "    ## Decoder\n",
    "    z_sampled = Lambda(sampling, output_shape=(Nb,), name='sampled')([z_mean, z_log_var])\n",
    "    output = generator(z_sampled)\n",
    "    \n",
    "    Recon_loss = REC_loss\n",
    "    kl_loss = KL_loss(z_mean,z_log_var)\n",
    "    def VAE_loss(y_true, y_pred): \n",
    "        return Recon_loss(y_true, y_pred) + beta*kl_loss(y_true, y_pred)\n",
    "\n",
    "    traditional_vae = Model(x, output)\n",
    "    traditional_vae.compile(optimizer=opt, loss=VAE_loss, metrics = [Recon_loss,kl_loss])\n",
    "    \n",
    "    return traditional_vae, encoder,generator"
   ]
  },
  {
   "cell_type": "code",
   "execution_count": 57,
   "metadata": {
    "collapsed": false,
    "scrolled": true
   },
   "outputs": [],
   "source": [
    "import keras.backend as K\n",
    "def sample_gumbel(shape,eps=K.epsilon()):\n",
    "    \"\"\"Inverse Sample function from Gumbel(0, 1)\"\"\"\n",
    "    U = K.random_uniform(shape, 0, 1)\n",
    "    return K.log(U + eps)- K.log(1-U + eps)\n",
    "\n",
    "def binary_VAE(data_dim,Nb,units,layers_e,layers_d,opt='adam',BN=True,beta=0., summ=True):\n",
    "    tau = K.variable(0.67, name=\"temperature\") #o tau fijo en 0.67=2/3\n",
    "    \n",
    "    pre_encoder = define_pre_encoder(data_dim, layers=layers_e,units=units,BN=BN)\n",
    "    if raw:\n",
    "        generator = define_generator(Nb,data_dim,layers=layers_d,units=units,BN=BN, out_type='sigmoid')\n",
    "    else:\n",
    "        generator = define_generator(Nb,data_dim,layers=layers_d,units=units,BN=BN, out_type='linear')\n",
    "    if summ:\n",
    "        print(\"pre-encoder network:\")\n",
    "        pre_encoder.summary()\n",
    "        print(\"generator network:\")\n",
    "        generator.summary()\n",
    "\n",
    "    x = Input(shape=(data_dim,))\n",
    "    hidden = pre_encoder(x)\n",
    "    logits_b  = Dense(Nb, activation='linear', name='logits-b')(hidden) #log(B_j/1-B_j)\n",
    "    #proba = np.exp(logits_b)/(1+np.exp(logits_b)) = sigmoidal(logits_b) <<<<<<<<<< recupera probabilidad\n",
    "    #dist = Dense(Nb, activation='sigmoid')(hidden) #p(b) #otra forma de modelarlo\n",
    "    encoder = Model(x, logits_b)\n",
    "\n",
    "    def sampling(logits_b):\n",
    "        #logits_b = K.log(aux/(1-aux) + K.epsilon() )\n",
    "        b = logits_b + sample_gumbel(K.shape(logits_b)) # logits + gumbel noise\n",
    "        return keras.activations.sigmoid( b/tau )\n",
    "\n",
    "    b_sampled = Lambda(sampling, output_shape=(Nb,), name='sampled')(logits_b)\n",
    "    output = generator(b_sampled)\n",
    "        \n",
    "    Recon_loss = REC_loss\n",
    "    kl_loss = BKL_loss(logits_b)\n",
    "    def BVAE_loss(y_true, y_pred): \n",
    "        return Recon_loss(y_true, y_pred) + beta*kl_loss(y_true, y_pred)\n",
    "\n",
    "    binary_vae = Model(x, output)\n",
    "    binary_vae.compile(optimizer=opt, loss=BVAE_loss, metrics = [Recon_loss,kl_loss])\n",
    "    return binary_vae, encoder,generator\n"
   ]
  },
  {
   "cell_type": "markdown",
   "metadata": {},
   "source": [
    "### Train details\n",
    "---\n",
    "\n",
    "* 30* epochs* \n",
    "* *batch size* de 200\n",
    "* optimizador Adam\n",
    "* Inicializador de Glorot (para los pesos)"
   ]
  },
  {
   "cell_type": "code",
   "execution_count": 58,
   "metadata": {
    "collapsed": true
   },
   "outputs": [],
   "source": [
    "from utils import  compare_hist_train, add_hist_plot\n",
    "\n",
    "batch_size = 100*2 #ya que son datasets mas grandes\n",
    "epochs = 30 "
   ]
  },
  {
   "cell_type": "code",
   "execution_count": null,
   "metadata": {
    "collapsed": true
   },
   "outputs": [],
   "source": []
  },
  {
   "cell_type": "code",
   "execution_count": 36,
   "metadata": {
    "collapsed": true
   },
   "outputs": [],
   "source": [
    "from utils import find_beta\n",
    "\n",
    "def create_model_T(beta_V):\n",
    "    return traditional_VAE(X_train_input.shape[1],Nb=32,units=500,layers_e=2,layers_d=0\n",
    "                                                                  ,beta=beta_V, summ=False)\n",
    "def create_model_B(beta_V):\n",
    "    return binary_VAE(X_train_input.shape[1],Nb=32,units=500,layers_e=2,layers_d=0\n",
    "                                                                  ,beta=beta_V, summ=False)"
   ]
  },
  {
   "cell_type": "code",
   "execution_count": 37,
   "metadata": {
    "collapsed": false,
    "scrolled": true
   },
   "outputs": [
    {
     "name": "stdout",
     "output_type": "stream",
     "text": [
      "***************************************\n",
      "*********** SUMMARY RESULTS ***********\n",
      "***************************************\n"
     ]
    },
    {
     "data": {
      "text/html": [
       "<div>\n",
       "<style scoped>\n",
       "    .dataframe tbody tr th:only-of-type {\n",
       "        vertical-align: middle;\n",
       "    }\n",
       "\n",
       "    .dataframe tbody tr th {\n",
       "        vertical-align: top;\n",
       "    }\n",
       "\n",
       "    .dataframe thead th {\n",
       "        text-align: right;\n",
       "    }\n",
       "</style>\n",
       "<table border=\"1\" class=\"dataframe\">\n",
       "  <thead>\n",
       "    <tr style=\"text-align: right;\">\n",
       "      <th></th>\n",
       "      <th>beta</th>\n",
       "      <th>score</th>\n",
       "    </tr>\n",
       "  </thead>\n",
       "  <tbody>\n",
       "    <tr>\n",
       "      <th>0</th>\n",
       "      <td>1.000000</td>\n",
       "      <td>0.4453</td>\n",
       "    </tr>\n",
       "    <tr>\n",
       "      <th>1</th>\n",
       "      <td>0.500000</td>\n",
       "      <td>0.4477</td>\n",
       "    </tr>\n",
       "    <tr>\n",
       "      <th>2</th>\n",
       "      <td>0.250000</td>\n",
       "      <td>0.4980</td>\n",
       "    </tr>\n",
       "    <tr>\n",
       "      <th>3</th>\n",
       "      <td>0.125000</td>\n",
       "      <td>0.6048</td>\n",
       "    </tr>\n",
       "    <tr>\n",
       "      <th>4</th>\n",
       "      <td>0.062500</td>\n",
       "      <td>0.6385</td>\n",
       "    </tr>\n",
       "    <tr>\n",
       "      <th>5</th>\n",
       "      <td>0.031250</td>\n",
       "      <td>0.6847</td>\n",
       "    </tr>\n",
       "    <tr>\n",
       "      <th>6</th>\n",
       "      <td>0.015625</td>\n",
       "      <td>0.7094</td>\n",
       "    </tr>\n",
       "    <tr>\n",
       "      <th>7</th>\n",
       "      <td>0.007812</td>\n",
       "      <td>0.7439</td>\n",
       "    </tr>\n",
       "    <tr>\n",
       "      <th>8</th>\n",
       "      <td>0.003906</td>\n",
       "      <td>0.7614</td>\n",
       "    </tr>\n",
       "    <tr>\n",
       "      <th>9</th>\n",
       "      <td>0.001953</td>\n",
       "      <td>0.7635</td>\n",
       "    </tr>\n",
       "    <tr>\n",
       "      <th>10</th>\n",
       "      <td>0.000977</td>\n",
       "      <td>0.7643</td>\n",
       "    </tr>\n",
       "    <tr>\n",
       "      <th>11</th>\n",
       "      <td>0.000488</td>\n",
       "      <td>0.7687</td>\n",
       "    </tr>\n",
       "    <tr>\n",
       "      <th>12</th>\n",
       "      <td>0.000244</td>\n",
       "      <td>0.7647</td>\n",
       "    </tr>\n",
       "    <tr>\n",
       "      <th>13</th>\n",
       "      <td>0.000122</td>\n",
       "      <td>0.7697</td>\n",
       "    </tr>\n",
       "    <tr>\n",
       "      <th>14</th>\n",
       "      <td>0.000061</td>\n",
       "      <td>0.7708</td>\n",
       "    </tr>\n",
       "    <tr>\n",
       "      <th>15</th>\n",
       "      <td>0.000031</td>\n",
       "      <td>0.7692</td>\n",
       "    </tr>\n",
       "    <tr>\n",
       "      <th>16</th>\n",
       "      <td>0.000015</td>\n",
       "      <td>0.7728</td>\n",
       "    </tr>\n",
       "    <tr>\n",
       "      <th>17</th>\n",
       "      <td>0.000008</td>\n",
       "      <td>0.7786</td>\n",
       "    </tr>\n",
       "    <tr>\n",
       "      <th>18</th>\n",
       "      <td>0.000004</td>\n",
       "      <td>0.7776</td>\n",
       "    </tr>\n",
       "    <tr>\n",
       "      <th>19</th>\n",
       "      <td>0.000002</td>\n",
       "      <td>0.7689</td>\n",
       "    </tr>\n",
       "  </tbody>\n",
       "</table>\n",
       "</div>"
      ],
      "text/plain": [
       "        beta   score\n",
       "0   1.000000  0.4453\n",
       "1   0.500000  0.4477\n",
       "2   0.250000  0.4980\n",
       "3   0.125000  0.6048\n",
       "4   0.062500  0.6385\n",
       "5   0.031250  0.6847\n",
       "6   0.015625  0.7094\n",
       "7   0.007812  0.7439\n",
       "8   0.003906  0.7614\n",
       "9   0.001953  0.7635\n",
       "10  0.000977  0.7643\n",
       "11  0.000488  0.7687\n",
       "12  0.000244  0.7647\n",
       "13  0.000122  0.7697\n",
       "14  0.000061  0.7708\n",
       "15  0.000031  0.7692\n",
       "16  0.000015  0.7728\n",
       "17  0.000008  0.7786\n",
       "18  0.000004  0.7776\n",
       "19  0.000002  0.7689"
      ]
     },
     "metadata": {},
     "output_type": "display_data"
    },
    {
     "name": "stdout",
     "output_type": "stream",
     "text": [
      "Best value is 0.7786 with beta 0.000008\n",
      "Worst value is 0.4453 with beta 1.000000\n",
      "***************************************\n",
      "***************************************\n",
      "*********** SUMMARY RESULTS ***********\n",
      "***************************************\n"
     ]
    },
    {
     "data": {
      "text/html": [
       "<div>\n",
       "<style scoped>\n",
       "    .dataframe tbody tr th:only-of-type {\n",
       "        vertical-align: middle;\n",
       "    }\n",
       "\n",
       "    .dataframe tbody tr th {\n",
       "        vertical-align: top;\n",
       "    }\n",
       "\n",
       "    .dataframe thead th {\n",
       "        text-align: right;\n",
       "    }\n",
       "</style>\n",
       "<table border=\"1\" class=\"dataframe\">\n",
       "  <thead>\n",
       "    <tr style=\"text-align: right;\">\n",
       "      <th></th>\n",
       "      <th>beta</th>\n",
       "      <th>score</th>\n",
       "    </tr>\n",
       "  </thead>\n",
       "  <tbody>\n",
       "    <tr>\n",
       "      <th>0</th>\n",
       "      <td>1.000000</td>\n",
       "      <td>0.2422</td>\n",
       "    </tr>\n",
       "    <tr>\n",
       "      <th>1</th>\n",
       "      <td>0.500000</td>\n",
       "      <td>0.3660</td>\n",
       "    </tr>\n",
       "    <tr>\n",
       "      <th>2</th>\n",
       "      <td>0.250000</td>\n",
       "      <td>0.4665</td>\n",
       "    </tr>\n",
       "    <tr>\n",
       "      <th>3</th>\n",
       "      <td>0.125000</td>\n",
       "      <td>0.5928</td>\n",
       "    </tr>\n",
       "    <tr>\n",
       "      <th>4</th>\n",
       "      <td>0.062500</td>\n",
       "      <td>0.4887</td>\n",
       "    </tr>\n",
       "    <tr>\n",
       "      <th>5</th>\n",
       "      <td>0.031250</td>\n",
       "      <td>0.6490</td>\n",
       "    </tr>\n",
       "    <tr>\n",
       "      <th>6</th>\n",
       "      <td>0.015625</td>\n",
       "      <td>0.7261</td>\n",
       "    </tr>\n",
       "    <tr>\n",
       "      <th>7</th>\n",
       "      <td>0.007812</td>\n",
       "      <td>0.7920</td>\n",
       "    </tr>\n",
       "    <tr>\n",
       "      <th>8</th>\n",
       "      <td>0.003906</td>\n",
       "      <td>0.8151</td>\n",
       "    </tr>\n",
       "    <tr>\n",
       "      <th>9</th>\n",
       "      <td>0.001953</td>\n",
       "      <td>0.8279</td>\n",
       "    </tr>\n",
       "    <tr>\n",
       "      <th>10</th>\n",
       "      <td>0.000977</td>\n",
       "      <td>0.8284</td>\n",
       "    </tr>\n",
       "    <tr>\n",
       "      <th>11</th>\n",
       "      <td>0.000488</td>\n",
       "      <td>0.8232</td>\n",
       "    </tr>\n",
       "    <tr>\n",
       "      <th>12</th>\n",
       "      <td>0.000244</td>\n",
       "      <td>0.8251</td>\n",
       "    </tr>\n",
       "    <tr>\n",
       "      <th>13</th>\n",
       "      <td>0.000122</td>\n",
       "      <td>0.8285</td>\n",
       "    </tr>\n",
       "    <tr>\n",
       "      <th>14</th>\n",
       "      <td>0.000061</td>\n",
       "      <td>0.8249</td>\n",
       "    </tr>\n",
       "    <tr>\n",
       "      <th>15</th>\n",
       "      <td>0.000031</td>\n",
       "      <td>0.8254</td>\n",
       "    </tr>\n",
       "    <tr>\n",
       "      <th>16</th>\n",
       "      <td>0.000015</td>\n",
       "      <td>0.8310</td>\n",
       "    </tr>\n",
       "    <tr>\n",
       "      <th>17</th>\n",
       "      <td>0.000008</td>\n",
       "      <td>0.8250</td>\n",
       "    </tr>\n",
       "    <tr>\n",
       "      <th>18</th>\n",
       "      <td>0.000004</td>\n",
       "      <td>0.8301</td>\n",
       "    </tr>\n",
       "    <tr>\n",
       "      <th>19</th>\n",
       "      <td>0.000002</td>\n",
       "      <td>0.8258</td>\n",
       "    </tr>\n",
       "  </tbody>\n",
       "</table>\n",
       "</div>"
      ],
      "text/plain": [
       "        beta   score\n",
       "0   1.000000  0.2422\n",
       "1   0.500000  0.3660\n",
       "2   0.250000  0.4665\n",
       "3   0.125000  0.5928\n",
       "4   0.062500  0.4887\n",
       "5   0.031250  0.6490\n",
       "6   0.015625  0.7261\n",
       "7   0.007812  0.7920\n",
       "8   0.003906  0.8151\n",
       "9   0.001953  0.8279\n",
       "10  0.000977  0.8284\n",
       "11  0.000488  0.8232\n",
       "12  0.000244  0.8251\n",
       "13  0.000122  0.8285\n",
       "14  0.000061  0.8249\n",
       "15  0.000031  0.8254\n",
       "16  0.000015  0.8310\n",
       "17  0.000008  0.8250\n",
       "18  0.000004  0.8301\n",
       "19  0.000002  0.8258"
      ]
     },
     "metadata": {},
     "output_type": "display_data"
    },
    {
     "name": "stdout",
     "output_type": "stream",
     "text": [
      "Best value is 0.8309 with beta 0.000015\n",
      "Worst value is 0.2422 with beta 1.000000\n",
      "***************************************\n"
     ]
    }
   ],
   "source": [
    "beta_T = find_beta(create_model_T, X_train_input, X_train, X_val_input,labels_train,labels_val,\n",
    "                   binary=False, BS=batch_size)\n",
    "beta_B = find_beta(create_model_B, X_train_input, X_train, X_val_input,labels_train,labels_val,\n",
    "                   binary=True, BS=batch_size)"
   ]
  },
  {
   "cell_type": "code",
   "execution_count": 14,
   "metadata": {
    "collapsed": true
   },
   "outputs": [],
   "source": [
    "## para mnist raw\n",
    "beta_T = 0.000015\n",
    "beta_B = 0.000122"
   ]
  },
  {
   "cell_type": "code",
   "execution_count": 59,
   "metadata": {
    "collapsed": true
   },
   "outputs": [],
   "source": [
    "### PARA MNIST-vGG!!\n",
    "beta_T = 0.000008\n",
    "beta_B = 0.000015"
   ]
  },
  {
   "cell_type": "code",
   "execution_count": 144,
   "metadata": {
    "collapsed": true
   },
   "outputs": [],
   "source": [
    "### PARA CIFAR VGG128!!\n",
    "beta_T = 0.000122\n",
    "beta_B = 0.000122"
   ]
  },
  {
   "cell_type": "code",
   "execution_count": 84,
   "metadata": {
    "collapsed": true
   },
   "outputs": [],
   "source": [
    "### PARA CIFAR VGG224!!\n",
    "beta_T = 0.000008\n",
    "beta_B = 0.003906"
   ]
  },
  {
   "cell_type": "code",
   "execution_count": 111,
   "metadata": {
    "collapsed": true
   },
   "outputs": [],
   "source": [
    "### PARA NUSWIDE!!\n",
    "beta_T = 0.000008\n",
    "beta_B = 0.001953"
   ]
  },
  {
   "cell_type": "code",
   "execution_count": null,
   "metadata": {
    "collapsed": true
   },
   "outputs": [],
   "source": [
    "### falta celebA"
   ]
  },
  {
   "cell_type": "code",
   "execution_count": 112,
   "metadata": {
    "collapsed": false,
    "scrolled": true
   },
   "outputs": [
    {
     "name": "stdout",
     "output_type": "stream",
     "text": [
      "pre-encoder network:\n",
      "_________________________________________________________________\n",
      "Layer (type)                 Output Shape              Param #   \n",
      "=================================================================\n",
      "input_1 (InputLayer)         (None, 512)               0         \n",
      "_________________________________________________________________\n",
      "dense_1 (Dense)              (None, 500)               256500    \n",
      "_________________________________________________________________\n",
      "batch_normalization_1 (Batch (None, 500)               2000      \n",
      "_________________________________________________________________\n",
      "dense_2 (Dense)              (None, 500)               250500    \n",
      "_________________________________________________________________\n",
      "batch_normalization_2 (Batch (None, 500)               2000      \n",
      "=================================================================\n",
      "Total params: 511,000\n",
      "Trainable params: 509,000\n",
      "Non-trainable params: 2,000\n",
      "_________________________________________________________________\n",
      "generator network:\n",
      "_________________________________________________________________\n",
      "Layer (type)                 Output Shape              Param #   \n",
      "=================================================================\n",
      "input_2 (InputLayer)         (None, 32)                0         \n",
      "_________________________________________________________________\n",
      "dense_3 (Dense)              (None, 512)               16896     \n",
      "=================================================================\n",
      "Total params: 16,896\n",
      "Trainable params: 16,896\n",
      "Non-trainable params: 0\n",
      "_________________________________________________________________\n",
      "Train on 154183 samples, validate on 2100 samples\n",
      "Epoch 1/30\n",
      "154183/154183 [==============================] - 2s - loss: 0.6621 - REC_loss: 0.6606 - KL: 178.0292 - val_loss: 0.5605 - val_REC_loss: 0.5586 - val_KL: 245.6585\n",
      "Epoch 2/30\n",
      "154183/154183 [==============================] - 2s - loss: 0.5709 - REC_loss: 0.5692 - KL: 214.6986 - val_loss: 0.5521 - val_REC_loss: 0.5504 - val_KL: 209.9456\n",
      "Epoch 3/30\n",
      "154183/154183 [==============================] - 2s - loss: 0.5667 - REC_loss: 0.5652 - KL: 192.5029 - val_loss: 0.5503 - val_REC_loss: 0.5488 - val_KL: 190.6409\n",
      "Epoch 4/30\n",
      "154183/154183 [==============================] - 2s - loss: 0.5649 - REC_loss: 0.5634 - KL: 175.8061 - val_loss: 0.5488 - val_REC_loss: 0.5474 - val_KL: 171.3064\n",
      "Epoch 5/30\n",
      "154183/154183 [==============================] - 2s - loss: 0.5639 - REC_loss: 0.5626 - KL: 163.4353 - val_loss: 0.5482 - val_REC_loss: 0.5469 - val_KL: 162.5733\n",
      "Epoch 6/30\n",
      "154183/154183 [==============================] - 2s - loss: 0.5633 - REC_loss: 0.5620 - KL: 155.2275 - val_loss: 0.5472 - val_REC_loss: 0.5460 - val_KL: 154.5977\n",
      "Epoch 7/30\n",
      "154183/154183 [==============================] - 2s - loss: 0.5629 - REC_loss: 0.5618 - KL: 148.7353 - val_loss: 0.5475 - val_REC_loss: 0.5463 - val_KL: 149.6829\n",
      "Epoch 8/30\n",
      "154183/154183 [==============================] - 2s - loss: 0.5625 - REC_loss: 0.5613 - KL: 144.1566 - val_loss: 0.5470 - val_REC_loss: 0.5458 - val_KL: 146.3384\n",
      "Epoch 9/30\n",
      "154183/154183 [==============================] - 2s - loss: 0.5622 - REC_loss: 0.5611 - KL: 140.9299 - val_loss: 0.5467 - val_REC_loss: 0.5456 - val_KL: 140.6259\n",
      "Epoch 10/30\n",
      "154183/154183 [==============================] - 2s - loss: 0.5621 - REC_loss: 0.5610 - KL: 137.7342 - val_loss: 0.5464 - val_REC_loss: 0.5453 - val_KL: 138.6658\n",
      "Epoch 11/30\n",
      "154183/154183 [==============================] - 2s - loss: 0.5617 - REC_loss: 0.5606 - KL: 135.7160 - val_loss: 0.5464 - val_REC_loss: 0.5454 - val_KL: 134.1061\n",
      "Epoch 12/30\n",
      "154183/154183 [==============================] - 2s - loss: 0.5616 - REC_loss: 0.5605 - KL: 134.2791 - val_loss: 0.5461 - val_REC_loss: 0.5451 - val_KL: 132.7971\n",
      "Epoch 13/30\n",
      "154183/154183 [==============================] - 2s - loss: 0.5614 - REC_loss: 0.5603 - KL: 133.0042 - val_loss: 0.5463 - val_REC_loss: 0.5453 - val_KL: 135.0430\n",
      "Epoch 14/30\n",
      "154183/154183 [==============================] - 2s - loss: 0.5613 - REC_loss: 0.5602 - KL: 132.2024 - val_loss: 0.5460 - val_REC_loss: 0.5449 - val_KL: 133.1965\n",
      "Epoch 15/30\n",
      "154183/154183 [==============================] - 2s - loss: 0.5612 - REC_loss: 0.5601 - KL: 131.4516 - val_loss: 0.5455 - val_REC_loss: 0.5445 - val_KL: 129.0191\n",
      "Epoch 16/30\n",
      "154183/154183 [==============================] - 2s - loss: 0.5609 - REC_loss: 0.5599 - KL: 130.7539 - val_loss: 0.5461 - val_REC_loss: 0.5450 - val_KL: 132.0158\n",
      "Epoch 17/30\n",
      "154183/154183 [==============================] - 2s - loss: 0.5609 - REC_loss: 0.5599 - KL: 130.0004 - val_loss: 0.5457 - val_REC_loss: 0.5447 - val_KL: 128.5006\n",
      "Epoch 18/30\n",
      "154183/154183 [==============================] - 2s - loss: 0.5607 - REC_loss: 0.5596 - KL: 129.6519 - val_loss: 0.5453 - val_REC_loss: 0.5442 - val_KL: 130.4364\n",
      "Epoch 19/30\n",
      "154183/154183 [==============================] - 2s - loss: 0.5607 - REC_loss: 0.5597 - KL: 129.0678 - val_loss: 0.5454 - val_REC_loss: 0.5443 - val_KL: 130.5760\n",
      "Epoch 20/30\n",
      "154183/154183 [==============================] - 2s - loss: 0.5605 - REC_loss: 0.5594 - KL: 128.9875 - val_loss: 0.5450 - val_REC_loss: 0.5439 - val_KL: 129.2912\n",
      "Epoch 21/30\n",
      "154183/154183 [==============================] - 2s - loss: 0.5604 - REC_loss: 0.5594 - KL: 128.5700 - val_loss: 0.5452 - val_REC_loss: 0.5442 - val_KL: 128.7201\n",
      "Epoch 22/30\n",
      "154183/154183 [==============================] - 2s - loss: 0.5604 - REC_loss: 0.5594 - KL: 128.2976 - val_loss: 0.5449 - val_REC_loss: 0.5438 - val_KL: 126.5137\n",
      "Epoch 23/30\n",
      "154183/154183 [==============================] - 2s - loss: 0.5603 - REC_loss: 0.5593 - KL: 127.9154 - val_loss: 0.5450 - val_REC_loss: 0.5440 - val_KL: 126.6251\n",
      "Epoch 24/30\n",
      "154183/154183 [==============================] - 2s - loss: 0.5603 - REC_loss: 0.5592 - KL: 128.0056 - val_loss: 0.5448 - val_REC_loss: 0.5437 - val_KL: 129.8391\n",
      "Epoch 25/30\n",
      "154183/154183 [==============================] - 2s - loss: 0.5602 - REC_loss: 0.5592 - KL: 127.7183 - val_loss: 0.5454 - val_REC_loss: 0.5444 - val_KL: 128.2151\n",
      "Epoch 26/30\n",
      "154183/154183 [==============================] - 2s - loss: 0.5601 - REC_loss: 0.5591 - KL: 127.5850 - val_loss: 0.5447 - val_REC_loss: 0.5436 - val_KL: 126.8985\n",
      "Epoch 27/30\n",
      "154183/154183 [==============================] - 2s - loss: 0.5601 - REC_loss: 0.5591 - KL: 127.6014 - val_loss: 0.5450 - val_REC_loss: 0.5440 - val_KL: 127.4533\n",
      "Epoch 28/30\n",
      "154183/154183 [==============================] - 2s - loss: 0.5600 - REC_loss: 0.5590 - KL: 127.5412 - val_loss: 0.5445 - val_REC_loss: 0.5435 - val_KL: 126.4908\n",
      "Epoch 29/30\n",
      "154183/154183 [==============================] - 2s - loss: 0.5601 - REC_loss: 0.5591 - KL: 127.3420 - val_loss: 0.5444 - val_REC_loss: 0.5434 - val_KL: 127.3726\n",
      "Epoch 30/30\n",
      "154183/154183 [==============================] - 2s - loss: 0.5600 - REC_loss: 0.5589 - KL: 127.5312 - val_loss: 0.5448 - val_REC_loss: 0.5438 - val_KL: 129.0677\n"
     ]
    }
   ],
   "source": [
    "traditional_vae,encoder_Tvae,generator_Tvae = traditional_VAE(X_train.shape[1],Nb=32,units=500,layers_e=2,layers_d=0,beta=beta_T)\n",
    "\n",
    "hist1 = traditional_vae.fit(X_train_input, X_train, epochs=epochs, batch_size=batch_size\n",
    "                           ,validation_data=(X_val_input,X_val))"
   ]
  },
  {
   "cell_type": "code",
   "execution_count": 113,
   "metadata": {
    "collapsed": false,
    "scrolled": true
   },
   "outputs": [
    {
     "name": "stdout",
     "output_type": "stream",
     "text": [
      "pre-encoder network:\n",
      "_________________________________________________________________\n",
      "Layer (type)                 Output Shape              Param #   \n",
      "=================================================================\n",
      "input_4 (InputLayer)         (None, 512)               0         \n",
      "_________________________________________________________________\n",
      "dense_4 (Dense)              (None, 500)               256500    \n",
      "_________________________________________________________________\n",
      "batch_normalization_3 (Batch (None, 500)               2000      \n",
      "_________________________________________________________________\n",
      "dense_5 (Dense)              (None, 500)               250500    \n",
      "_________________________________________________________________\n",
      "batch_normalization_4 (Batch (None, 500)               2000      \n",
      "=================================================================\n",
      "Total params: 511,000\n",
      "Trainable params: 509,000\n",
      "Non-trainable params: 2,000\n",
      "_________________________________________________________________\n",
      "generator network:\n",
      "_________________________________________________________________\n",
      "Layer (type)                 Output Shape              Param #   \n",
      "=================================================================\n",
      "input_5 (InputLayer)         (None, 32)                0         \n",
      "_________________________________________________________________\n",
      "dense_6 (Dense)              (None, 512)               16896     \n",
      "=================================================================\n",
      "Total params: 16,896\n",
      "Trainable params: 16,896\n",
      "Non-trainable params: 0\n",
      "_________________________________________________________________\n",
      "Train on 154183 samples, validate on 2100 samples\n",
      "Epoch 1/30\n",
      "154183/154183 [==============================] - 2s - loss: 0.8041 - REC_loss: 0.7757 - KL: 14.5514 - val_loss: 0.7326 - val_REC_loss: 0.7005 - val_KL: 16.4359\n",
      "Epoch 2/30\n",
      "154183/154183 [==============================] - 2s - loss: 0.7379 - REC_loss: 0.7061 - KL: 16.2716 - val_loss: 0.7170 - val_REC_loss: 0.6845 - val_KL: 16.6357\n",
      "Epoch 3/30\n",
      "154183/154183 [==============================] - 2s - loss: 0.7294 - REC_loss: 0.6971 - KL: 16.5739 - val_loss: 0.7134 - val_REC_loss: 0.6808 - val_KL: 16.7246\n",
      "Epoch 4/30\n",
      "154183/154183 [==============================] - 2s - loss: 0.7263 - REC_loss: 0.6937 - KL: 16.7043 - val_loss: 0.7114 - val_REC_loss: 0.6786 - val_KL: 16.7807\n",
      "Epoch 5/30\n",
      "154183/154183 [==============================] - 2s - loss: 0.7246 - REC_loss: 0.6918 - KL: 16.7771 - val_loss: 0.7087 - val_REC_loss: 0.6759 - val_KL: 16.8248\n",
      "Epoch 6/30\n",
      "154183/154183 [==============================] - 2s - loss: 0.7232 - REC_loss: 0.6903 - KL: 16.8489 - val_loss: 0.7088 - val_REC_loss: 0.6759 - val_KL: 16.8770\n",
      "Epoch 7/30\n",
      "154183/154183 [==============================] - 2s - loss: 0.7221 - REC_loss: 0.6891 - KL: 16.8947 - val_loss: 0.7072 - val_REC_loss: 0.6742 - val_KL: 16.8833\n",
      "Epoch 8/30\n",
      "154183/154183 [==============================] - 2s - loss: 0.7211 - REC_loss: 0.6880 - KL: 16.9506 - val_loss: 0.7068 - val_REC_loss: 0.6738 - val_KL: 16.9285\n",
      "Epoch 9/30\n",
      "154183/154183 [==============================] - 2s - loss: 0.7202 - REC_loss: 0.6871 - KL: 16.9817 - val_loss: 0.7053 - val_REC_loss: 0.6722 - val_KL: 16.9468\n",
      "Epoch 10/30\n",
      "154183/154183 [==============================] - 2s - loss: 0.7195 - REC_loss: 0.6863 - KL: 17.0088 - val_loss: 0.7048 - val_REC_loss: 0.6715 - val_KL: 17.0377\n",
      "Epoch 11/30\n",
      "154183/154183 [==============================] - 2s - loss: 0.7187 - REC_loss: 0.6855 - KL: 17.0348 - val_loss: 0.7046 - val_REC_loss: 0.6714 - val_KL: 17.0114\n",
      "Epoch 12/30\n",
      "154183/154183 [==============================] - 2s - loss: 0.7181 - REC_loss: 0.6848 - KL: 17.0592 - val_loss: 0.7032 - val_REC_loss: 0.6698 - val_KL: 17.0588\n",
      "Epoch 13/30\n",
      "154183/154183 [==============================] - 2s - loss: 0.7174 - REC_loss: 0.6840 - KL: 17.0936 - val_loss: 0.7037 - val_REC_loss: 0.6703 - val_KL: 17.0995\n",
      "Epoch 14/30\n",
      "154183/154183 [==============================] - 2s - loss: 0.7171 - REC_loss: 0.6836 - KL: 17.1292 - val_loss: 0.7025 - val_REC_loss: 0.6689 - val_KL: 17.1677\n",
      "Epoch 15/30\n",
      "154183/154183 [==============================] - 2s - loss: 0.7165 - REC_loss: 0.6830 - KL: 17.1608 - val_loss: 0.7027 - val_REC_loss: 0.6692 - val_KL: 17.1597\n",
      "Epoch 16/30\n",
      "154183/154183 [==============================] - 2s - loss: 0.7161 - REC_loss: 0.6825 - KL: 17.1940 - val_loss: 0.7024 - val_REC_loss: 0.6689 - val_KL: 17.1560\n",
      "Epoch 17/30\n",
      "154183/154183 [==============================] - 2s - loss: 0.7157 - REC_loss: 0.6821 - KL: 17.1984 - val_loss: 0.7012 - val_REC_loss: 0.6676 - val_KL: 17.2239\n",
      "Epoch 18/30\n",
      "154183/154183 [==============================] - 2s - loss: 0.7154 - REC_loss: 0.6817 - KL: 17.2334 - val_loss: 0.7011 - val_REC_loss: 0.6674 - val_KL: 17.2295\n",
      "Epoch 19/30\n",
      "154183/154183 [==============================] - 2s - loss: 0.7150 - REC_loss: 0.6813 - KL: 17.2512 - val_loss: 0.7006 - val_REC_loss: 0.6668 - val_KL: 17.2722\n",
      "Epoch 20/30\n",
      "154183/154183 [==============================] - 2s - loss: 0.7148 - REC_loss: 0.6810 - KL: 17.2680 - val_loss: 0.7009 - val_REC_loss: 0.6673 - val_KL: 17.2164\n",
      "Epoch 21/30\n",
      "154183/154183 [==============================] - 2s - loss: 0.7145 - REC_loss: 0.6808 - KL: 17.2735 - val_loss: 0.7009 - val_REC_loss: 0.6672 - val_KL: 17.2799\n",
      "Epoch 22/30\n",
      "154183/154183 [==============================] - 2s - loss: 0.7142 - REC_loss: 0.6804 - KL: 17.3035 - val_loss: 0.7004 - val_REC_loss: 0.6666 - val_KL: 17.2696\n",
      "Epoch 23/30\n",
      "154183/154183 [==============================] - 2s - loss: 0.7139 - REC_loss: 0.6801 - KL: 17.3128 - val_loss: 0.7001 - val_REC_loss: 0.6664 - val_KL: 17.2842\n",
      "Epoch 24/30\n",
      "154183/154183 [==============================] - 2s - loss: 0.7137 - REC_loss: 0.6799 - KL: 17.3291 - val_loss: 0.6995 - val_REC_loss: 0.6658 - val_KL: 17.2926\n",
      "Epoch 25/30\n",
      "154183/154183 [==============================] - 2s - loss: 0.7134 - REC_loss: 0.6795 - KL: 17.3368 - val_loss: 0.7003 - val_REC_loss: 0.6665 - val_KL: 17.3151\n",
      "Epoch 26/30\n",
      "154183/154183 [==============================] - 2s - loss: 0.7133 - REC_loss: 0.6794 - KL: 17.3530 - val_loss: 0.6989 - val_REC_loss: 0.6650 - val_KL: 17.3451\n",
      "Epoch 27/30\n",
      "154183/154183 [==============================] - 2s - loss: 0.7131 - REC_loss: 0.6792 - KL: 17.3544 - val_loss: 0.6991 - val_REC_loss: 0.6653 - val_KL: 17.3320\n",
      "Epoch 28/30\n",
      "154183/154183 [==============================] - 2s - loss: 0.7129 - REC_loss: 0.6790 - KL: 17.3642 - val_loss: 0.6989 - val_REC_loss: 0.6651 - val_KL: 17.3193\n",
      "Epoch 29/30\n",
      "154183/154183 [==============================] - 2s - loss: 0.7128 - REC_loss: 0.6788 - KL: 17.3697 - val_loss: 0.6989 - val_REC_loss: 0.6650 - val_KL: 17.3164\n",
      "Epoch 30/30\n",
      "154183/154183 [==============================] - 2s - loss: 0.7126 - REC_loss: 0.6786 - KL: 17.3830 - val_loss: 0.6987 - val_REC_loss: 0.6648 - val_KL: 17.3443\n"
     ]
    }
   ],
   "source": [
    "binary_vae,encoder_Bvae,generator_Bvae= binary_VAE(X_train.shape[1],Nb=32,units=500,layers_e=2,layers_d=0,beta=beta_B)\n",
    "\n",
    "hist2 = binary_vae.fit(X_train_input, X_train, epochs=epochs, batch_size=batch_size\n",
    "                           ,validation_data=(X_val_input,X_val) )\n",
    "                       #,callbacks=[Tau_Call(tau)] )"
   ]
  },
  {
   "cell_type": "code",
   "execution_count": null,
   "metadata": {
    "collapsed": true
   },
   "outputs": [],
   "source": []
  },
  {
   "cell_type": "code",
   "execution_count": 15,
   "metadata": {
    "collapsed": false,
    "scrolled": true
   },
   "outputs": [
    {
     "data": {
      "image/png": "[encoded data removed]",
      "text/plain": [
       "<matplotlib.figure.Figure at 0x7f6f69fa8eb8>"
      ]
     },
     "metadata": {},
     "output_type": "display_data"
    }
   ],
   "source": [
    "plt.figure(figsize=(15,6))\n",
    "add_hist_plot(hist2, c='g', model_n = \"B-VAE\")\n",
    "plt.xlabel('Epochs')\n",
    "plt.ylabel('Value')\n",
    "plt.legend(loc=\"upper right\", fancybox= True)\n",
    "plt.title(\"VAE loss \"+name_dat)\n",
    "plt.show()"
   ]
  },
  {
   "cell_type": "code",
   "execution_count": 16,
   "metadata": {
    "collapsed": false
   },
   "outputs": [
    {
     "data": {
      "text/plain": [
       "<matplotlib.figure.Figure at 0x7f6f9500b208>"
      ]
     },
     "metadata": {},
     "output_type": "display_data"
    },
    {
     "data": {
      "image/png": "[encoded data removed]",
      "text/plain": [
       "<matplotlib.figure.Figure at 0x7f6f69fa8668>"
      ]
     },
     "metadata": {},
     "output_type": "display_data"
    }
   ],
   "source": [
    "compare_hist_train(hist1,hist2, name_dat)"
   ]
  },
  {
   "cell_type": "code",
   "execution_count": 62,
   "metadata": {
    "collapsed": false
   },
   "outputs": [
    {
     "data": {
      "text/plain": [
       "<matplotlib.figure.Figure at 0x7f298fb73198>"
      ]
     },
     "metadata": {},
     "output_type": "display_data"
    },
    {
     "data": {
      "image/png": "[encoded data removed]",
      "text/plain": [
       "<matplotlib.figure.Figure at 0x7f298e6e2dd8>"
      ]
     },
     "metadata": {},
     "output_type": "display_data"
    }
   ],
   "source": [
    "compare_hist_train(hist1,hist2, name_dat) #--64 dim"
   ]
  },
  {
   "cell_type": "code",
   "execution_count": 87,
   "metadata": {
    "collapsed": false
   },
   "outputs": [
    {
     "data": {
      "text/plain": [
       "<matplotlib.figure.Figure at 0x7f29854db7b8>"
      ]
     },
     "metadata": {},
     "output_type": "display_data"
    },
    {
     "data": {
      "image/png": "[encoded data removed]",
      "text/plain": [
       "<matplotlib.figure.Figure at 0x7f291ceb4c18>"
      ]
     },
     "metadata": {},
     "output_type": "display_data"
    }
   ],
   "source": [
    "compare_hist_train(hist1,hist2, name_dat) #--64 dim"
   ]
  },
  {
   "cell_type": "code",
   "execution_count": 114,
   "metadata": {
    "collapsed": false
   },
   "outputs": [
    {
     "data": {
      "text/plain": [
       "<matplotlib.figure.Figure at 0x7f2988990f60>"
      ]
     },
     "metadata": {},
     "output_type": "display_data"
    },
    {
     "data": {
      "image/png": "[encoded data removed]",
      "text/plain": [
       "<matplotlib.figure.Figure at 0x7f28cc6011d0>"
      ]
     },
     "metadata": {},
     "output_type": "display_data"
    }
   ],
   "source": [
    "compare_hist_train(hist1,hist2, name_dat) #--64 dim"
   ]
  },
  {
   "cell_type": "markdown",
   "metadata": {},
   "source": [
    "### Another intrinsic measure: *Classification*\n"
   ]
  },
  {
   "cell_type": "code",
   "execution_count": 17,
   "metadata": {
    "collapsed": true,
    "scrolled": true
   },
   "outputs": [],
   "source": [
    "#function to define and train model\n",
    "from sklearn.metrics import jaccard_score\n",
    "from utils import define_fit, MedianHashing, visualize_probas, visualize_mean, calculate_hash, visualize_probas_byB\n",
    "\n",
    "results = []\n",
    "results_S = []\n",
    "results_B = []\n",
    "results_O_B = [] #original testing on tresholded"
   ]
  },
  {
   "cell_type": "code",
   "execution_count": 115,
   "metadata": {
    "collapsed": false,
    "scrolled": true
   },
   "outputs": [
    {
     "data": {
      "text/plain": [
       "array([[0., 1., 0., ..., 0., 0., 0.],\n",
       "       [0., 0., 1., ..., 0., 0., 0.],\n",
       "       [0., 0., 1., ..., 0., 0., 0.],\n",
       "       ...,\n",
       "       [0., 0., 0., ..., 0., 1., 0.],\n",
       "       [1., 1., 0., ..., 0., 0., 0.],\n",
       "       [1., 0., 0., ..., 0., 0., 0.]])"
      ]
     },
     "execution_count": 115,
     "metadata": {},
     "output_type": "execute_result"
    }
   ],
   "source": [
    "#codify input data (binarize -- or aprox)\n",
    "X_train_logits = encoder_Bvae.predict(X_train_input)\n",
    "X_val_logits = encoder_Bvae.predict(X_test_input)\n",
    "\n",
    "#probabilities\n",
    "X_train_Bcode = expit(X_train_logits)\n",
    "X_val_Bcode = expit(X_val_logits)\n",
    "\n",
    "#Z-mean\n",
    "X_train_Tcode = encoder_Tvae.predict(X_train_input)\n",
    "X_val_Tcode = encoder_Tvae.predict(X_test_input)\n",
    "\n",
    "##codify labels\n",
    "labels_aux = np.asarray(labels)\n",
    "def codify_labels(inputs):\n",
    "    inputs = np.asarray(inputs)\n",
    "    matrix_labels = np.zeros((inputs.shape[0],labels_aux.shape[0]))\n",
    "    for i,aux_labels in enumerate(inputs):\n",
    "        if type(aux_labels) == list or type(aux_labels) == np.ndarray :\n",
    "            for aux_label in aux_labels:\n",
    "                idx = np.where(aux_label==labels_aux)[0]\n",
    "                matrix_labels[i,idx] = 1 #various-multiple\n",
    "        else:\n",
    "            idx = np.where(aux_labels==labels_aux)[0]\n",
    "            matrix_labels[i,idx] = 1 #only one\n",
    "    return matrix_labels\n",
    "\n",
    "C_train = codify_labels(labels_train)\n",
    "#C_val = codify_labels(labels_val)\n",
    "C_val = codify_labels(labels_test)\n",
    "C_train"
   ]
  },
  {
   "cell_type": "code",
   "execution_count": 22,
   "metadata": {
    "collapsed": false,
    "scrolled": true
   },
   "outputs": [
    {
     "name": "stdout",
     "output_type": "stream",
     "text": [
      "MNIST-raw\n"
     ]
    },
    {
     "data": {
      "image/png": "[encoded data removed]",
      "text/plain": [
       "<matplotlib.figure.Figure at 0x7f6f9501aeb8>"
      ]
     },
     "metadata": {},
     "output_type": "display_data"
    },
    {
     "data": {
      "image/png": "[encoded data removed]",
      "text/plain": [
       "<matplotlib.figure.Figure at 0x7f6f60267e80>"
      ]
     },
     "metadata": {},
     "output_type": "display_data"
    },
    {
     "data": {
      "image/png": "[encoded data removed]",
      "text/plain": [
       "<matplotlib.figure.Figure at 0x7f6f68274198>"
      ]
     },
     "metadata": {},
     "output_type": "display_data"
    },
    {
     "data": {
      "image/png": "[encoded data removed]",
      "text/plain": [
       "<matplotlib.figure.Figure at 0x7f6f6017a668>"
      ]
     },
     "metadata": {},
     "output_type": "display_data"
    }
   ],
   "source": [
    "print(name_dat)\n",
    "visualize_probas(X_train_logits, X_train_Bcode)\n",
    "\n",
    "visualize_probas_byB(X_train_Bcode)\n",
    "\n",
    "visualize_mean(X_train_Tcode)"
   ]
  },
  {
   "cell_type": "code",
   "execution_count": 64,
   "metadata": {
    "collapsed": false,
    "scrolled": true
   },
   "outputs": [
    {
     "name": "stdout",
     "output_type": "stream",
     "text": [
      "MNIST\n"
     ]
    },
    {
     "data": {
      "image/png": "[encoded data removed]",
      "text/plain": [
       "<matplotlib.figure.Figure at 0x7f298fb73160>"
      ]
     },
     "metadata": {},
     "output_type": "display_data"
    },
    {
     "data": {
      "image/png": "[encoded data removed]",
      "text/plain": [
       "<matplotlib.figure.Figure at 0x7f298e61a518>"
      ]
     },
     "metadata": {},
     "output_type": "display_data"
    },
    {
     "data": {
      "image/png": "[encoded data removed]",
      "text/plain": [
       "<matplotlib.figure.Figure at 0x7f2988dd54e0>"
      ]
     },
     "metadata": {},
     "output_type": "display_data"
    },
    {
     "data": {
      "image/png": "[encoded data removed]",
      "text/plain": [
       "<matplotlib.figure.Figure at 0x7f298e6ad860>"
      ]
     },
     "metadata": {},
     "output_type": "display_data"
    }
   ],
   "source": [
    "print(name_dat)\n",
    "visualize_probas(X_train_logits, X_train_Bcode)\n",
    "\n",
    "visualize_probas_byB(X_train_Bcode)\n",
    "\n",
    "visualize_mean(X_train_Tcode)"
   ]
  },
  {
   "cell_type": "code",
   "execution_count": 89,
   "metadata": {
    "collapsed": false,
    "scrolled": true
   },
   "outputs": [
    {
     "name": "stdout",
     "output_type": "stream",
     "text": [
      "CIFAR-10\n"
     ]
    },
    {
     "data": {
      "image/png": "[encoded data removed]",
      "text/plain": [
       "<matplotlib.figure.Figure at 0x7f291cec6320>"
      ]
     },
     "metadata": {},
     "output_type": "display_data"
    },
    {
     "data": {
      "image/png": "[encoded data removed]",
      "text/plain": [
       "<matplotlib.figure.Figure at 0x7f291c9d4198>"
      ]
     },
     "metadata": {},
     "output_type": "display_data"
    },
    {
     "data": {
      "image/png": "[encoded data removed]",
      "text/plain": [
       "<matplotlib.figure.Figure at 0x7f291cd94940>"
      ]
     },
     "metadata": {},
     "output_type": "display_data"
    },
    {
     "data": {
      "image/png": "[encoded data removed]",
      "text/plain": [
       "<matplotlib.figure.Figure at 0x7f291c976710>"
      ]
     },
     "metadata": {},
     "output_type": "display_data"
    }
   ],
   "source": [
    "print(name_dat)\n",
    "visualize_probas(X_train_logits, X_train_Bcode)\n",
    "\n",
    "visualize_probas_byB(X_train_Bcode)\n",
    "\n",
    "visualize_mean(X_train_Tcode)"
   ]
  },
  {
   "cell_type": "code",
   "execution_count": 116,
   "metadata": {
    "collapsed": false,
    "scrolled": true
   },
   "outputs": [
    {
     "name": "stdout",
     "output_type": "stream",
     "text": [
      "Nus-Wide\n"
     ]
    },
    {
     "data": {
      "image/png": "[encoded data removed]",
      "text/plain": [
       "<matplotlib.figure.Figure at 0x7f28cc5ae0b8>"
      ]
     },
     "metadata": {},
     "output_type": "display_data"
    },
    {
     "data": {
      "image/png": "[encoded data removed]",
      "text/plain": [
       "<matplotlib.figure.Figure at 0x7f28cc5aa978>"
      ]
     },
     "metadata": {},
     "output_type": "display_data"
    },
    {
     "data": {
      "image/png": "[encoded data removed]",
      "text/plain": [
       "<matplotlib.figure.Figure at 0x7f28cc5b2e80>"
      ]
     },
     "metadata": {},
     "output_type": "display_data"
    },
    {
     "data": {
      "image/png": "[encoded data removed]",
      "text/plain": [
       "<matplotlib.figure.Figure at 0x7f2916f02940>"
      ]
     },
     "metadata": {},
     "output_type": "display_data"
    }
   ],
   "source": [
    "print(name_dat)\n",
    "visualize_probas(X_train_logits, X_train_Bcode)\n",
    "\n",
    "visualize_probas_byB(X_train_Bcode)\n",
    "\n",
    "visualize_mean(X_train_Tcode)"
   ]
  },
  {
   "cell_type": "code",
   "execution_count": 117,
   "metadata": {
    "collapsed": false,
    "scrolled": true
   },
   "outputs": [
    {
     "name": "stdout",
     "output_type": "stream",
     "text": [
      "Done\n"
     ]
    }
   ],
   "source": [
    "aux = [name_dat.lower()]\n",
    "multi_label = \"celeba\" in aux or \"nus-wide\" in aux\n",
    "\n",
    "model1_O = define_fit(multi_label,X_train_Bcode,C_train)\n",
    "model2_O = define_fit(multi_label,X_train_Tcode,C_train)\n",
    "\n",
    "if not multi_label:\n",
    "    aux.append(model2_O.evaluate(X_train_Tcode,C_train,verbose=0)[1])\n",
    "    aux.append(model2_O.evaluate(X_val_Tcode,C_val,verbose=0)[1])\n",
    "\n",
    "    aux.append(model1_O.evaluate(X_train_Bcode,C_train,verbose=0)[1])\n",
    "    aux.append(model1_O.evaluate(X_val_Bcode,C_val,verbose=0)[1])\n",
    "else:\n",
    "    aux.append(jaccard_score(C_train, (model2_O.predict(X_train_Tcode)>=0.5)*1, average='micro'))\n",
    "    aux.append(jaccard_score(C_val, (model2_O.predict(X_val_Tcode)>=0.5)*1, average='micro'))\n",
    "\n",
    "    aux.append(jaccard_score(C_train, (model1_O.predict(X_train_Bcode)>=0.5)*1, average='micro'))\n",
    "    aux.append(jaccard_score(C_val, (model1_O.predict(X_val_Bcode)>=0.5)*1, average='micro'))\n",
    "    \n",
    "results.append(aux)\n",
    "print(\"Done\")"
   ]
  },
  {
   "cell_type": "code",
   "execution_count": 118,
   "metadata": {
    "collapsed": false
   },
   "outputs": [
    {
     "name": "stdout",
     "output_type": "stream",
     "text": [
      "\n",
      "Accuracy on dataset:  mnist-raw\n",
      "Traditional VAE (train-val): 0.997132 - 0.982000\n",
      "Binary VAE (train-val): 0.969206 - 0.969000\n",
      "\n",
      "Accuracy on dataset:  mnist\n",
      "Traditional VAE (train-val): 0.980500 - 0.956000\n",
      "Binary VAE (train-val): 0.942368 - 0.930000\n",
      "\n",
      "Accuracy on dataset:  cifar-10\n",
      "Traditional VAE (train-val): 0.880069 - 0.821000\n",
      "Binary VAE (train-val): 0.805828 - 0.768000\n",
      "\n",
      "Accuracy on dataset:  nus-wide\n",
      "Traditional VAE (train-val): 0.540700 - 0.495073\n",
      "Binary VAE (train-val): 0.477749 - 0.421275\n"
     ]
    }
   ],
   "source": [
    "for valores in results:\n",
    "    print(\"\\nAccuracy on dataset: \",valores[0])\n",
    "    print(\"Traditional VAE (train-val): %f - %f\"%(valores[1],valores[2]))\n",
    "    print(\"Binary VAE (train-val): %f - %f\"%(valores[3],valores[4]))"
   ]
  },
  {
   "cell_type": "code",
   "execution_count": 119,
   "metadata": {
    "collapsed": false
   },
   "outputs": [
    {
     "data": {
      "text/plain": [
       "array([[1, 1, 1, ..., 1, 1, 0],\n",
       "       [0, 0, 0, ..., 0, 0, 1],\n",
       "       [1, 0, 0, ..., 1, 1, 1],\n",
       "       ...,\n",
       "       [1, 1, 1, ..., 0, 0, 0],\n",
       "       [1, 1, 1, ..., 1, 0, 0],\n",
       "       [0, 1, 1, ..., 0, 1, 1]], dtype=int32)"
      ]
     },
     "execution_count": 119,
     "metadata": {},
     "output_type": "execute_result"
    }
   ],
   "source": [
    "## binary // treshold it\n",
    "\n",
    "X_train_Tcode_B = calculate_hash(X_train_Tcode, from_probas=False)\n",
    "X_val_Tcode_B = calculate_hash(X_val_Tcode, from_probas=False)\n",
    "\n",
    "X_train_Bcode_B = calculate_hash(X_train_Bcode, from_probas=True, from_logits=False)\n",
    "X_val_Bcode_B = calculate_hash(X_val_Bcode, from_probas=True, from_logits=False)\n",
    "\n",
    "X_train_Tcode_B"
   ]
  },
  {
   "cell_type": "code",
   "execution_count": 120,
   "metadata": {
    "collapsed": false
   },
   "outputs": [
    {
     "name": "stdout",
     "output_type": "stream",
     "text": [
      "Done\n"
     ]
    }
   ],
   "source": [
    "### trained models over encoder representation testing on tresholded representation (see how decrease)\n",
    "aux = [name_dat.lower()]\n",
    "multi_label = \"celeba\" in aux or \"nus-wide\" in aux\n",
    "\n",
    "if not multi_label:\n",
    "    aux.append(model2_O.evaluate(X_train_Tcode_B,C_train,verbose=0)[1])\n",
    "    aux.append(model2_O.evaluate(X_val_Tcode_B,C_val,verbose=0)[1])\n",
    "\n",
    "    aux.append(model1_O.evaluate(X_train_Bcode_B,C_train,verbose=0)[1])\n",
    "    aux.append(model1_O.evaluate(X_val_Bcode_B,C_val,verbose=0)[1])\n",
    "else:\n",
    "    aux.append(jaccard_score(C_train, (model2_O.predict(X_train_Tcode_B)>=0.5)*1, average='micro'))\n",
    "    aux.append(jaccard_score(C_val, (model2_O.predict(X_val_Tcode_B)>=0.5)*1, average='micro'))\n",
    "\n",
    "    aux.append(jaccard_score(C_train, (model1_O.predict(X_train_Bcode_B)>=0.5)*1, average='micro'))\n",
    "    aux.append(jaccard_score(C_val, (model1_O.predict(X_val_Bcode_B)>=0.5)*1, average='micro'))\n",
    "    \n",
    "results_O_B.append(aux)\n",
    "print(\"Done\")"
   ]
  },
  {
   "cell_type": "code",
   "execution_count": 121,
   "metadata": {
    "collapsed": false
   },
   "outputs": [
    {
     "name": "stdout",
     "output_type": "stream",
     "text": [
      "Classification on Binary (thresholded) representation\n",
      "\n",
      "Accuracy on dataset:  mnist-raw\n",
      "Traditional VAE (train-val): 0.337574 - 0.352000\n",
      "Binary VAE (train-val): 0.941426 - 0.935000\n",
      "\n",
      "Accuracy on dataset:  mnist\n",
      "Traditional VAE (train-val): 0.435868 - 0.445000\n",
      "Binary VAE (train-val): 0.915544 - 0.895000\n",
      "\n",
      "Accuracy on dataset:  cifar-10\n",
      "Traditional VAE (train-val): 0.419379 - 0.418000\n",
      "Binary VAE (train-val): 0.729190 - 0.698000\n",
      "\n",
      "Accuracy on dataset:  nus-wide\n",
      "Traditional VAE (train-val): 0.336808 - 0.312622\n",
      "Binary VAE (train-val): 0.433175 - 0.378767\n"
     ]
    }
   ],
   "source": [
    "print(\"Classification on Binary (thresholded) representation\")\n",
    "for valores in results_O_B:\n",
    "    print(\"\\nAccuracy on dataset: \",valores[0])\n",
    "    print(\"Traditional VAE (train-val): %f - %f\"%(valores[1],valores[2]))\n",
    "    print(\"Binary VAE (train-val): %f - %f\"%(valores[3],valores[4]))"
   ]
  },
  {
   "cell_type": "code",
   "execution_count": 122,
   "metadata": {
    "collapsed": false
   },
   "outputs": [
    {
     "name": "stdout",
     "output_type": "stream",
     "text": [
      "Done\n"
     ]
    }
   ],
   "source": [
    "aux = [name_dat.lower()]\n",
    "multi_label = \"celeba\" in aux or \"nus-wide\" in aux\n",
    "\n",
    "model1 = define_fit(multi_label,X_train_Bcode_B,C_train)\n",
    "model2 = define_fit(multi_label,X_train_Tcode_B,C_train)\n",
    "\n",
    "if not multi_label:\n",
    "    aux.append(model2.evaluate(X_train_Tcode_B,C_train,verbose=0)[1])\n",
    "    aux.append(model2.evaluate(X_val_Tcode_B,C_val,verbose=0)[1])\n",
    "\n",
    "    aux.append(model1.evaluate(X_train_Bcode_B,C_train,verbose=0)[1])\n",
    "    aux.append(model1.evaluate(X_val_Bcode_B,C_val,verbose=0)[1])\n",
    "else:\n",
    "    aux.append(jaccard_score(C_train, (model2.predict(X_train_Tcode_B)>=0.5)*1, average='micro')) \n",
    "    aux.append(jaccard_score(C_val, (model2.predict(X_val_Tcode_B)>=0.5)*1, average='micro'))\n",
    "\n",
    "    aux.append(jaccard_score(C_train, (model1.predict(X_train_Bcode_B)>=0.5)*1, average='micro'))\n",
    "    aux.append(jaccard_score(C_val, (model1.predict(X_val_Bcode_B)>=0.5)*1, average='micro'))\n",
    "    \n",
    "results_B.append(aux)\n",
    "print(\"Done\")"
   ]
  },
  {
   "cell_type": "code",
   "execution_count": 123,
   "metadata": {
    "collapsed": false
   },
   "outputs": [
    {
     "name": "stdout",
     "output_type": "stream",
     "text": [
      "Classification on Binary representation\n",
      "\n",
      "Accuracy on dataset:  mnist-raw\n",
      "Traditional VAE (train-val): 0.902912 - 0.894000\n",
      "Binary VAE (train-val): 0.945059 - 0.920000\n",
      "\n",
      "Accuracy on dataset:  mnist\n",
      "Traditional VAE (train-val): 0.907647 - 0.881000\n",
      "Binary VAE (train-val): 0.922147 - 0.894000\n",
      "\n",
      "Accuracy on dataset:  cifar-10\n",
      "Traditional VAE (train-val): 0.735362 - 0.707000\n",
      "Binary VAE (train-val): 0.749207 - 0.717000\n",
      "\n",
      "Accuracy on dataset:  nus-wide\n",
      "Traditional VAE (train-val): 0.447790 - 0.392463\n",
      "Binary VAE (train-val): 0.451749 - 0.393618\n"
     ]
    }
   ],
   "source": [
    "print(\"Classification on Binary representation\")\n",
    "for valores in results_B:\n",
    "    print(\"\\nAccuracy on dataset: \",valores[0])\n",
    "    print(\"Traditional VAE (train-val): %f - %f\"%(valores[1],valores[2]))\n",
    "    print(\"Binary VAE (train-val): %f - %f\"%(valores[3],valores[4]))"
   ]
  },
  {
   "cell_type": "markdown",
   "metadata": {},
   "source": [
    "\n",
    "\n",
    "### Results\n",
    "---"
   ]
  },
  {
   "cell_type": "code",
   "execution_count": 26,
   "metadata": {
    "collapsed": false,
    "scrolled": true
   },
   "outputs": [],
   "source": [
    "from utils import MedianHashing, get_similar, measure_metrics, calculate_hash\n",
    "from utils import MAP_atk, M_P_atk, AP_atk"
   ]
  },
  {
   "cell_type": "markdown",
   "metadata": {},
   "source": [
    "### Experimentación\n",
    "---\n",
    "A continación se realizan las experimentaciones correspondientes para encontrar la mejor arquitectura y mejor configuración del modelo propuesto en base a las métricas *precision* y *recall* del conjunto de validación en el **top 100** de elementos recuperados."
   ]
  },
  {
   "cell_type": "code",
   "execution_count": 27,
   "metadata": {
    "collapsed": true
   },
   "outputs": [],
   "source": [
    "def evaluate_hashingB(encoder,train,val,labels_train,labels_val,traditional=True,tipo=\"topK\",K=100):\n",
    "    encode_train = encoder.predict(train)\n",
    "    encode_val = encoder.predict(val)\n",
    "    \n",
    "    train_hash = calculate_hash(encode_train, from_probas=~traditional )\n",
    "    val_hash = calculate_hash(encode_val, from_probas=~traditional)\n",
    "\n",
    "    val_similares_train =  get_similar(val_hash, train_hash, tipo=tipo,K=K) \n",
    "\n",
    "    return measure_metrics(labels,val_similares_train,labels_query=labels_val,labels_source=labels_train)"
   ]
  },
  {
   "cell_type": "markdown",
   "metadata": {},
   "source": [
    "\n",
    "### Experimentando variando el #Bits"
   ]
  },
  {
   "cell_type": "code",
   "execution_count": 28,
   "metadata": {
    "collapsed": false
   },
   "outputs": [],
   "source": [
    "traditional_dat = {\"mnist\":{\"p\":[],\"r\":[]},\"cifar-10\":{\"p\":[],\"r\":[]},\n",
    "                   \"celeba\":{\"p\":[],\"r\":[]},'nus-wide':{\"p\":[],\"r\":[]},\n",
    "                  \"mnist-raw\":{\"p\":[],\"r\":[]}}\n",
    "binary_dat = {\"mnist\":{\"p\":[],\"r\":[]},\"cifar-10\":{\"p\":[],\"r\":[]},\n",
    "              \"celeba\":{\"p\":[],\"r\":[]},'nus-wide':{\"p\":[],\"r\":[]},\n",
    "               \"mnist-raw\":{\"p\":[],\"r\":[]}}"
   ]
  },
  {
   "cell_type": "code",
   "execution_count": 124,
   "metadata": {
    "collapsed": false,
    "scrolled": true
   },
   "outputs": [
    {
     "name": "stdout",
     "output_type": "stream",
     "text": [
      "pre-encoder network:\n",
      "_________________________________________________________________\n",
      "Layer (type)                 Output Shape              Param #   \n",
      "=================================================================\n",
      "input_11 (InputLayer)        (None, 512)               0         \n",
      "_________________________________________________________________\n",
      "dense_15 (Dense)             (None, 500)               256500    \n",
      "_________________________________________________________________\n",
      "batch_normalization_5 (Batch (None, 500)               2000      \n",
      "_________________________________________________________________\n",
      "dense_16 (Dense)             (None, 500)               250500    \n",
      "_________________________________________________________________\n",
      "batch_normalization_6 (Batch (None, 500)               2000      \n",
      "=================================================================\n",
      "Total params: 511,000\n",
      "Trainable params: 509,000\n",
      "Non-trainable params: 2,000\n",
      "_________________________________________________________________\n",
      "generator network:\n",
      "_________________________________________________________________\n",
      "Layer (type)                 Output Shape              Param #   \n",
      "=================================================================\n",
      "input_12 (InputLayer)        (None, 4)                 0         \n",
      "_________________________________________________________________\n",
      "dense_17 (Dense)             (None, 512)               2560      \n",
      "=================================================================\n",
      "Total params: 2,560\n",
      "Trainable params: 2,560\n",
      "Non-trainable params: 0\n",
      "_________________________________________________________________\n",
      "pre-encoder network:\n",
      "_________________________________________________________________\n",
      "Layer (type)                 Output Shape              Param #   \n",
      "=================================================================\n",
      "input_1 (InputLayer)         (None, 512)               0         \n",
      "_________________________________________________________________\n",
      "dense_1 (Dense)              (None, 500)               256500    \n",
      "_________________________________________________________________\n",
      "batch_normalization_1 (Batch (None, 500)               2000      \n",
      "_________________________________________________________________\n",
      "dense_2 (Dense)              (None, 500)               250500    \n",
      "_________________________________________________________________\n",
      "batch_normalization_2 (Batch (None, 500)               2000      \n",
      "=================================================================\n",
      "Total params: 511,000\n",
      "Trainable params: 509,000\n",
      "Non-trainable params: 2,000\n",
      "_________________________________________________________________\n",
      "generator network:\n",
      "_________________________________________________________________\n",
      "Layer (type)                 Output Shape              Param #   \n",
      "=================================================================\n",
      "input_2 (InputLayer)         (None, 4)                 0         \n",
      "_________________________________________________________________\n",
      "dense_3 (Dense)              (None, 512)               2560      \n",
      "=================================================================\n",
      "Total params: 2,560\n",
      "Trainable params: 2,560\n",
      "Non-trainable params: 0\n",
      "_________________________________________________________________\n",
      "pre-encoder network:\n",
      "_________________________________________________________________\n",
      "Layer (type)                 Output Shape              Param #   \n",
      "=================================================================\n",
      "input_1 (InputLayer)         (None, 512)               0         \n",
      "_________________________________________________________________\n",
      "dense_1 (Dense)              (None, 500)               256500    \n",
      "_________________________________________________________________\n",
      "batch_normalization_1 (Batch (None, 500)               2000      \n",
      "_________________________________________________________________\n",
      "dense_2 (Dense)              (None, 500)               250500    \n",
      "_________________________________________________________________\n",
      "batch_normalization_2 (Batch (None, 500)               2000      \n",
      "=================================================================\n",
      "Total params: 511,000\n",
      "Trainable params: 509,000\n",
      "Non-trainable params: 2,000\n",
      "_________________________________________________________________\n",
      "generator network:\n",
      "_________________________________________________________________\n",
      "Layer (type)                 Output Shape              Param #   \n",
      "=================================================================\n",
      "input_2 (InputLayer)         (None, 8)                 0         \n",
      "_________________________________________________________________\n",
      "dense_3 (Dense)              (None, 512)               4608      \n",
      "=================================================================\n",
      "Total params: 4,608\n",
      "Trainable params: 4,608\n",
      "Non-trainable params: 0\n",
      "_________________________________________________________________\n",
      "pre-encoder network:\n",
      "_________________________________________________________________\n",
      "Layer (type)                 Output Shape              Param #   \n",
      "=================================================================\n",
      "input_1 (InputLayer)         (None, 512)               0         \n",
      "_________________________________________________________________\n",
      "dense_1 (Dense)              (None, 500)               256500    \n",
      "_________________________________________________________________\n",
      "batch_normalization_1 (Batch (None, 500)               2000      \n",
      "_________________________________________________________________\n",
      "dense_2 (Dense)              (None, 500)               250500    \n",
      "_________________________________________________________________\n",
      "batch_normalization_2 (Batch (None, 500)               2000      \n",
      "=================================================================\n",
      "Total params: 511,000\n",
      "Trainable params: 509,000\n",
      "Non-trainable params: 2,000\n",
      "_________________________________________________________________\n",
      "generator network:\n",
      "_________________________________________________________________\n",
      "Layer (type)                 Output Shape              Param #   \n",
      "=================================================================\n",
      "input_2 (InputLayer)         (None, 8)                 0         \n",
      "_________________________________________________________________\n",
      "dense_3 (Dense)              (None, 512)               4608      \n",
      "=================================================================\n",
      "Total params: 4,608\n",
      "Trainable params: 4,608\n",
      "Non-trainable params: 0\n",
      "_________________________________________________________________\n",
      "pre-encoder network:\n",
      "_________________________________________________________________\n",
      "Layer (type)                 Output Shape              Param #   \n",
      "=================================================================\n",
      "input_1 (InputLayer)         (None, 512)               0         \n",
      "_________________________________________________________________\n",
      "dense_1 (Dense)              (None, 500)               256500    \n",
      "_________________________________________________________________\n",
      "batch_normalization_1 (Batch (None, 500)               2000      \n",
      "_________________________________________________________________\n",
      "dense_2 (Dense)              (None, 500)               250500    \n",
      "_________________________________________________________________\n",
      "batch_normalization_2 (Batch (None, 500)               2000      \n",
      "=================================================================\n",
      "Total params: 511,000\n",
      "Trainable params: 509,000\n",
      "Non-trainable params: 2,000\n",
      "_________________________________________________________________\n",
      "generator network:\n",
      "_________________________________________________________________\n",
      "Layer (type)                 Output Shape              Param #   \n",
      "=================================================================\n",
      "input_2 (InputLayer)         (None, 16)                0         \n",
      "_________________________________________________________________\n",
      "dense_3 (Dense)              (None, 512)               8704      \n",
      "=================================================================\n",
      "Total params: 8,704\n",
      "Trainable params: 8,704\n",
      "Non-trainable params: 0\n",
      "_________________________________________________________________\n",
      "pre-encoder network:\n",
      "_________________________________________________________________\n",
      "Layer (type)                 Output Shape              Param #   \n",
      "=================================================================\n",
      "input_1 (InputLayer)         (None, 512)               0         \n",
      "_________________________________________________________________\n",
      "dense_1 (Dense)              (None, 500)               256500    \n",
      "_________________________________________________________________\n",
      "batch_normalization_1 (Batch (None, 500)               2000      \n",
      "_________________________________________________________________\n",
      "dense_2 (Dense)              (None, 500)               250500    \n",
      "_________________________________________________________________\n",
      "batch_normalization_2 (Batch (None, 500)               2000      \n",
      "=================================================================\n",
      "Total params: 511,000\n",
      "Trainable params: 509,000\n",
      "Non-trainable params: 2,000\n",
      "_________________________________________________________________\n",
      "generator network:\n",
      "_________________________________________________________________\n",
      "Layer (type)                 Output Shape              Param #   \n",
      "=================================================================\n",
      "input_2 (InputLayer)         (None, 16)                0         \n",
      "_________________________________________________________________\n",
      "dense_3 (Dense)              (None, 512)               8704      \n",
      "=================================================================\n",
      "Total params: 8,704\n",
      "Trainable params: 8,704\n",
      "Non-trainable params: 0\n",
      "_________________________________________________________________\n",
      "pre-encoder network:\n",
      "_________________________________________________________________\n",
      "Layer (type)                 Output Shape              Param #   \n",
      "=================================================================\n",
      "input_1 (InputLayer)         (None, 512)               0         \n",
      "_________________________________________________________________\n",
      "dense_1 (Dense)              (None, 500)               256500    \n",
      "_________________________________________________________________\n",
      "batch_normalization_1 (Batch (None, 500)               2000      \n",
      "_________________________________________________________________\n",
      "dense_2 (Dense)              (None, 500)               250500    \n",
      "_________________________________________________________________\n",
      "batch_normalization_2 (Batch (None, 500)               2000      \n",
      "=================================================================\n",
      "Total params: 511,000\n",
      "Trainable params: 509,000\n",
      "Non-trainable params: 2,000\n",
      "_________________________________________________________________\n",
      "generator network:\n",
      "_________________________________________________________________\n",
      "Layer (type)                 Output Shape              Param #   \n",
      "=================================================================\n",
      "input_2 (InputLayer)         (None, 32)                0         \n",
      "_________________________________________________________________\n",
      "dense_3 (Dense)              (None, 512)               16896     \n",
      "=================================================================\n",
      "Total params: 16,896\n",
      "Trainable params: 16,896\n",
      "Non-trainable params: 0\n",
      "_________________________________________________________________\n",
      "pre-encoder network:\n",
      "_________________________________________________________________\n",
      "Layer (type)                 Output Shape              Param #   \n",
      "=================================================================\n",
      "input_1 (InputLayer)         (None, 512)               0         \n",
      "_________________________________________________________________\n",
      "dense_1 (Dense)              (None, 500)               256500    \n",
      "_________________________________________________________________\n",
      "batch_normalization_1 (Batch (None, 500)               2000      \n",
      "_________________________________________________________________\n",
      "dense_2 (Dense)              (None, 500)               250500    \n",
      "_________________________________________________________________\n",
      "batch_normalization_2 (Batch (None, 500)               2000      \n",
      "=================================================================\n",
      "Total params: 511,000\n",
      "Trainable params: 509,000\n",
      "Non-trainable params: 2,000\n",
      "_________________________________________________________________\n",
      "generator network:\n",
      "_________________________________________________________________\n",
      "Layer (type)                 Output Shape              Param #   \n",
      "=================================================================\n",
      "input_2 (InputLayer)         (None, 32)                0         \n",
      "_________________________________________________________________\n",
      "dense_3 (Dense)              (None, 512)               16896     \n",
      "=================================================================\n",
      "Total params: 16,896\n",
      "Trainable params: 16,896\n",
      "Non-trainable params: 0\n",
      "_________________________________________________________________\n",
      "pre-encoder network:\n",
      "_________________________________________________________________\n",
      "Layer (type)                 Output Shape              Param #   \n",
      "=================================================================\n",
      "input_1 (InputLayer)         (None, 512)               0         \n",
      "_________________________________________________________________\n",
      "dense_1 (Dense)              (None, 500)               256500    \n",
      "_________________________________________________________________\n",
      "batch_normalization_1 (Batch (None, 500)               2000      \n",
      "_________________________________________________________________\n",
      "dense_2 (Dense)              (None, 500)               250500    \n",
      "_________________________________________________________________\n",
      "batch_normalization_2 (Batch (None, 500)               2000      \n",
      "=================================================================\n",
      "Total params: 511,000\n",
      "Trainable params: 509,000\n",
      "Non-trainable params: 2,000\n",
      "_________________________________________________________________\n",
      "generator network:\n",
      "_________________________________________________________________\n",
      "Layer (type)                 Output Shape              Param #   \n",
      "=================================================================\n",
      "input_2 (InputLayer)         (None, 64)                0         \n",
      "_________________________________________________________________\n",
      "dense_3 (Dense)              (None, 512)               33280     \n",
      "=================================================================\n",
      "Total params: 33,280\n",
      "Trainable params: 33,280\n",
      "Non-trainable params: 0\n",
      "_________________________________________________________________\n",
      "pre-encoder network:\n",
      "_________________________________________________________________\n",
      "Layer (type)                 Output Shape              Param #   \n",
      "=================================================================\n",
      "input_1 (InputLayer)         (None, 512)               0         \n",
      "_________________________________________________________________\n",
      "dense_1 (Dense)              (None, 500)               256500    \n",
      "_________________________________________________________________\n",
      "batch_normalization_1 (Batch (None, 500)               2000      \n",
      "_________________________________________________________________\n",
      "dense_2 (Dense)              (None, 500)               250500    \n",
      "_________________________________________________________________\n",
      "batch_normalization_2 (Batch (None, 500)               2000      \n",
      "=================================================================\n",
      "Total params: 511,000\n",
      "Trainable params: 509,000\n",
      "Non-trainable params: 2,000\n",
      "_________________________________________________________________\n",
      "generator network:\n",
      "_________________________________________________________________\n",
      "Layer (type)                 Output Shape              Param #   \n",
      "=================================================================\n",
      "input_2 (InputLayer)         (None, 64)                0         \n",
      "_________________________________________________________________\n",
      "dense_3 (Dense)              (None, 512)               33280     \n",
      "=================================================================\n",
      "Total params: 33,280\n",
      "Trainable params: 33,280\n",
      "Non-trainable params: 0\n",
      "_________________________________________________________________\n"
     ]
    }
   ],
   "source": [
    "Nbits = np.asarray([4,8,16,32,64])\n",
    "dataset = name_dat.lower()\n",
    "\n",
    "for Nbit in Nbits:\n",
    "    traditional_vae,encoder_Tvae,generator_Tvae = traditional_VAE(X_train.shape[1],Nb=Nbit,units=500,layers_e=2,layers_d=0,beta=beta_T)\n",
    "    hist1 = traditional_vae.fit(X_train_input, X_train, epochs=epochs, batch_size=batch_size, verbose=0\n",
    "                           ,validation_data=(X_val_input,X_val))\n",
    "    p_t,r_t = evaluate_hashingB(encoder_Tvae,X_train_input,X_val_input,labels_train,labels_val,traditional=True,tipo=\"topK\")\n",
    "    traditional_dat[dataset][\"p\"].append(p_t) \n",
    "    traditional_dat[dataset][\"r\"].append(r_t) \n",
    "    del traditional_vae, encoder_Tvae, generator_Tvae\n",
    "    keras.backend.clear_session()\n",
    "    gc.collect()\n",
    "    \n",
    "    binary_vae,encoder_Bvae,generator_Bvae= binary_VAE(X_train.shape[1],Nb=Nbit,units=500,layers_e=2,layers_d=0,beta=beta_B)\n",
    "    hist2 = binary_vae.fit(X_train_input, X_train, epochs=epochs, batch_size=batch_size, verbose=0\n",
    "                           ,validation_data=(X_val_input,X_val) )\n",
    "    p_b,r_b = evaluate_hashingB(encoder_Bvae,X_train_input,X_val_input,labels_train,labels_val,traditional=False,tipo=\"topK\")\n",
    "    binary_dat[dataset][\"p\"].append(p_b) \n",
    "    binary_dat[dataset][\"r\"].append(r_b) \n",
    "    del binary_vae, encoder_Bvae, generator_Bvae\n",
    "    keras.backend.clear_session()\n",
    "    gc.collect()"
   ]
  },
  {
   "cell_type": "code",
   "execution_count": 125,
   "metadata": {
    "collapsed": false,
    "scrolled": true
   },
   "outputs": [
    {
     "name": "stdout",
     "output_type": "stream",
     "text": [
      "Resultados de Precision en validación\n",
      "\n",
      "*** VAE Traditional***\n",
      "   N bits  MNIST-R    MNIST  CIFAR-10  Nus-Wide\n",
      "0       4  0.20942  0.30971   0.27799  0.579981\n",
      "1       8  0.48137  0.53648   0.39359  0.657829\n",
      "2      16  0.61374  0.66433   0.44692  0.699519\n",
      "3      32  0.72301  0.76987   0.48751  0.728110\n",
      "4      64  0.78120  0.81210   0.53129  0.752552\n",
      "\n",
      "*** VAE Binary***\n",
      "   N bits  MNIST-R    MNIST  CIFAR-10  Nus-Wide\n",
      "0       4  0.38815  0.38080   0.29913  0.603005\n",
      "1       8  0.57952  0.59213   0.40980  0.658038\n",
      "2      16  0.75372  0.74782   0.48297  0.705157\n",
      "3      32  0.81850  0.82652   0.53529  0.738638\n",
      "4      64  0.85937  0.85364   0.56353  0.752414\n",
      "\n",
      "Resultados de Recall en validación\n",
      "\n",
      "*** VAE Traditional***\n",
      "   N bits   MNIST-R     MNIST  CIFAR-10  Nus-Wide\n",
      "0       4  0.003039  0.004505  0.004794  0.001237\n",
      "1       8  0.006974  0.007833  0.006787  0.001492\n",
      "2      16  0.008945  0.009710  0.007707  0.001643\n",
      "3      32  0.010575  0.011280  0.008406  0.001715\n",
      "4      64  0.011436  0.011914  0.009162  0.001814\n",
      "\n",
      "*** VAE Binary***\n",
      "   N bits   MNIST-R     MNIST  CIFAR-10  Nus-Wide\n",
      "0       4  0.005612  0.005568  0.005158  0.001247\n",
      "1       8  0.008428  0.008638  0.007067  0.001508\n",
      "2      16  0.011023  0.010937  0.008328  0.001663\n",
      "3      32  0.011999  0.012127  0.009230  0.001752\n",
      "4      64  0.012610  0.012541  0.009717  0.001800\n"
     ]
    }
   ],
   "source": [
    "print(\"Resultados de Precision en validación\")\n",
    "t = pd.DataFrame() #Table()\n",
    "t[\"N bits\"] = Nbits\n",
    "t[\"MNIST-R\"] = traditional_dat[\"mnist-raw\"][\"p\"]\n",
    "t[\"MNIST\"] = traditional_dat[\"mnist\"][\"p\"]\n",
    "t[\"CIFAR-10\"] = traditional_dat[\"cifar-10\"][\"p\"]\n",
    "t[\"Nus-Wide\"] = traditional_dat[\"nus-wide\"][\"p\"]\n",
    "print(\"\\n*** VAE Traditional***\")\n",
    "print(t)\n",
    "\n",
    "t = pd.DataFrame() #Table()\n",
    "t[\"N bits\"] = Nbits\n",
    "t[\"MNIST-R\"] = binary_dat[\"mnist-raw\"][\"p\"]\n",
    "t[\"MNIST\"] = binary_dat[\"mnist\"][\"p\"]\n",
    "t[\"CIFAR-10\"] = binary_dat[\"cifar-10\"][\"p\"]\n",
    "t[\"Nus-Wide\"] = binary_dat[\"nus-wide\"][\"p\"]\n",
    "print(\"\\n*** VAE Binary***\")\n",
    "print(t)\n",
    "\n",
    "print(\"\\nResultados de Recall en validación\")\n",
    "t = pd.DataFrame() #Table()\n",
    "t[\"N bits\"] = Nbits\n",
    "t[\"MNIST-R\"] = traditional_dat[\"mnist-raw\"][\"r\"]\n",
    "t[\"MNIST\"] = traditional_dat[\"mnist\"][\"r\"]\n",
    "t[\"CIFAR-10\"] = traditional_dat[\"cifar-10\"][\"r\"]\n",
    "t[\"Nus-Wide\"] = traditional_dat[\"nus-wide\"][\"r\"]\n",
    "print(\"\\n*** VAE Traditional***\")\n",
    "print(t)\n",
    "\n",
    "t = pd.DataFrame() #Table()\n",
    "t[\"N bits\"] = Nbits\n",
    "t[\"MNIST-R\"] = binary_dat[\"mnist-raw\"][\"r\"]\n",
    "t[\"MNIST\"] = binary_dat[\"mnist\"][\"r\"]\n",
    "t[\"CIFAR-10\"] = binary_dat[\"cifar-10\"][\"r\"]\n",
    "t[\"Nus-Wide\"] = binary_dat[\"nus-wide\"][\"r\"]\n",
    "print(\"\\n*** VAE Binary***\")\n",
    "print(t)"
   ]
  },
  {
   "cell_type": "markdown",
   "metadata": {},
   "source": [
    "## *Best models facing test set*\n",
    "Luego de la selección de la mejor configuración de los modelos se evalua de diferentes formas sobre el conjunto de pruebas de los distintos *datasets*, los cambios realizados son:\n",
    "* Se entrenan sobre todos los datos disponibles (*train+val*)\n",
    "* Se aumentó el número de *epochs* a 50.\n",
    "\n",
    "El mejor modelo:\n",
    "* Simétrica para *Binary VAE* y Base para *Traditional VAE*\n",
    "* 32 Bits en la codificación (número de variables latentes)\n",
    "* Representación sobre las top 10 mil *tokens* más frecuentes y *Term Frequency*"
   ]
  },
  {
   "cell_type": "code",
   "execution_count": 30,
   "metadata": {
    "collapsed": true
   },
   "outputs": [],
   "source": [
    "from utils import calculate_hash\n",
    "def evaluate_hashing_DE(train_hash,test_hash,labels_trainn,labels_testt,tipo=\"topK\",eval_tipo='PRatk',K=100):\n",
    "    \"\"\"\n",
    "        Evaluate Hashing correclty: Query and retrieve on a different set\n",
    "    \"\"\"\n",
    "    test_similares_train =  get_similar(test_hash,train_hash,tipo=tipo,K=K)\n",
    "    if eval_tipo==\"MAP\":\n",
    "        return MAP_atk(test_similares_train,labels_query=labels_testt, labels_source=labels_trainn, K=0) #all ranking\n",
    "    elif eval_tipo == \"PRatk\":\n",
    "        return measure_metrics(labels,test_similares_train,labels_testt,labels_source=labels_trainn)\n",
    "    elif eval_tipo == \"Patk\":\n",
    "        return M_P_atk(test_similares_train, labels_query=labels_testt, labels_source=labels_trainn, K=K)\n",
    "\n",
    "def hash_data(model, x_train, x_test, binary=True):\n",
    "    encode_train = model.predict(x_train)\n",
    "    encode_test = model.predict(x_test)\n",
    "    \n",
    "    train_hash = calculate_hash(encode_train, from_probas=binary )\n",
    "    test_hash = calculate_hash(encode_test, from_probas = binary)\n",
    "    return train_hash, test_hash\n",
    "\n",
    "#to save results\n",
    "results_dat = {\"mnist\":{},\"mnist-raw\":{},\"cifar-10\":{},\"celeba\":{}, \"nus-wide\":{}} \n",
    "\n",
    "\n",
    "BITS_S = 32"
   ]
  },
  {
   "cell_type": "code",
   "execution_count": 145,
   "metadata": {
    "collapsed": false
   },
   "outputs": [
    {
     "data": {
      "text/plain": [
       "0"
      ]
     },
     "execution_count": 145,
     "metadata": {},
     "output_type": "execute_result"
    }
   ],
   "source": [
    "X_total = np.concatenate((X_train,X_val),axis=0)\n",
    "X_total_input = X_total\n",
    "labels_total = np.concatenate((labels_train,labels_val),axis=0)\n",
    "del X_train, X_train_input, X_val, X_val_input, labels_train,labels_val\n",
    "gc.collect()"
   ]
  },
  {
   "cell_type": "code",
   "execution_count": 146,
   "metadata": {
    "collapsed": false,
    "scrolled": true
   },
   "outputs": [
    {
     "name": "stdout",
     "output_type": "stream",
     "text": [
      "pre-encoder network:\n",
      "_________________________________________________________________\n",
      "Layer (type)                 Output Shape              Param #   \n",
      "=================================================================\n",
      "input_1 (InputLayer)         (None, 512)               0         \n",
      "_________________________________________________________________\n",
      "dense_1 (Dense)              (None, 500)               256500    \n",
      "_________________________________________________________________\n",
      "batch_normalization_1 (Batch (None, 500)               2000      \n",
      "_________________________________________________________________\n",
      "dense_2 (Dense)              (None, 500)               250500    \n",
      "_________________________________________________________________\n",
      "batch_normalization_2 (Batch (None, 500)               2000      \n",
      "=================================================================\n",
      "Total params: 511,000\n",
      "Trainable params: 509,000\n",
      "Non-trainable params: 2,000\n",
      "_________________________________________________________________\n",
      "generator network:\n",
      "_________________________________________________________________\n",
      "Layer (type)                 Output Shape              Param #   \n",
      "=================================================================\n",
      "input_2 (InputLayer)         (None, 32)                0         \n",
      "_________________________________________________________________\n",
      "dense_3 (Dense)              (None, 512)               16896     \n",
      "=================================================================\n",
      "Total params: 16,896\n",
      "Trainable params: 16,896\n",
      "Non-trainable params: 0\n",
      "_________________________________________________________________\n",
      "pre-encoder network:\n",
      "_________________________________________________________________\n",
      "Layer (type)                 Output Shape              Param #   \n",
      "=================================================================\n",
      "input_4 (InputLayer)         (None, 512)               0         \n",
      "_________________________________________________________________\n",
      "dense_4 (Dense)              (None, 500)               256500    \n",
      "_________________________________________________________________\n",
      "batch_normalization_3 (Batch (None, 500)               2000      \n",
      "_________________________________________________________________\n",
      "dense_5 (Dense)              (None, 500)               250500    \n",
      "_________________________________________________________________\n",
      "batch_normalization_4 (Batch (None, 500)               2000      \n",
      "=================================================================\n",
      "Total params: 511,000\n",
      "Trainable params: 509,000\n",
      "Non-trainable params: 2,000\n",
      "_________________________________________________________________\n",
      "generator network:\n",
      "_________________________________________________________________\n",
      "Layer (type)                 Output Shape              Param #   \n",
      "=================================================================\n",
      "input_5 (InputLayer)         (None, 32)                0         \n",
      "_________________________________________________________________\n",
      "dense_6 (Dense)              (None, 512)               16896     \n",
      "=================================================================\n",
      "Total params: 16,896\n",
      "Trainable params: 16,896\n",
      "Non-trainable params: 0\n",
      "_________________________________________________________________\n"
     ]
    },
    {
     "data": {
      "text/plain": [
       "<keras.callbacks.History at 0x7f2916779f98>"
      ]
     },
     "execution_count": 146,
     "metadata": {},
     "output_type": "execute_result"
    }
   ],
   "source": [
    "traditional_vae,encoder_Tvae,generator_Tvae = traditional_VAE(X_total.shape[1],Nb=BITS_S,units=500,layers_e=2,layers_d=0,beta=beta_T)\n",
    "traditional_vae.fit(X_total_input, X_total, epochs=epochs, batch_size=batch_size,verbose=0)\n",
    "#save model\n",
    "#encoder_Tvae.save(\"saved_models/\"+name_dat+\"_VAE_\"+str(BITS_S)+\"b_E_defaultCNN.h5\")\n",
    "###generator_Tvae.save(\"saved_models/\"+name_dat+\"_VAE_\"+str(BITS_S)+\"b_D_defaultCNN.h5\") #it is not used\n",
    "\n",
    "\n",
    "binary_vae,encoder_Bvae,generator_Bvae = binary_VAE(X_total.shape[1],Nb=BITS_S,units=500,layers_e=2,layers_d=0,beta=beta_B)\n",
    "binary_vae.fit(X_total_input, X_total, epochs=epochs, batch_size=batch_size,verbose=0)\n",
    "#save model\n",
    "#encoder_Bvae.save(\"saved_models/\"+name_dat+\"_BVAE_\"+str(BITS_S)+\"b_E_defaultCNN.h5\")\n",
    "#generator_Bvae.save_weights(\"saved_models/\"+name_dat+\"_BVAE_\"+str(BITS_S)+\"b_D_defaultCNN_w.h5\")\n",
    "\n",
    "#keras.backend.clear_session()\n",
    "#gc.collect()"
   ]
  },
  {
   "cell_type": "markdown",
   "metadata": {
    "collapsed": false,
    "scrolled": false
   },
   "source": [
    "##load model\n",
    "encoder_Tvae = keras.models.load_model(\"saved_models/\"+name_dat+\"_VAE_\"+str(BITS_S)+\"b_E_defaultCNN.h5\")\n",
    "encoder_Bvae = keras.models.load_model(\"saved_models/\"+name_dat+\"_BVAE_\"+str(BITS_S)+\"b_E_defaultCNN.h5\")\n",
    "#generator_Bvae = keras.models.load_model(\"saved_models/\"+name_dat+\"_BVAE_\"+str(BITS_S)+\"b_D_defaultCNN.h5\")\n",
    "encoder_Bvae.summary()"
   ]
  },
  {
   "cell_type": "code",
   "execution_count": 147,
   "metadata": {
    "collapsed": false,
    "scrolled": false
   },
   "outputs": [
    {
     "data": {
      "text/plain": [
       "0"
      ]
     },
     "execution_count": 147,
     "metadata": {},
     "output_type": "execute_result"
    }
   ],
   "source": [
    "total_hash_VAE, test_hash_VAE = hash_data(encoder_Tvae,X_total_input,X_test_input, binary=False)\n",
    "total_hash_BVAE, test_hash_BVAE = hash_data(encoder_Bvae,X_total_input,X_test_input)\n",
    "\n",
    "del X_total_input, X_test_input, X_test, X_total\n",
    "gc.collect()\n",
    "\n",
    "keras.backend.clear_session()\n",
    "gc.collect()"
   ]
  },
  {
   "cell_type": "code",
   "execution_count": 129,
   "metadata": {
    "collapsed": false,
    "scrolled": true
   },
   "outputs": [
    {
     "name": "stdout",
     "output_type": "stream",
     "text": [
      "Realizado.\n"
     ]
    }
   ],
   "source": [
    "dataset = name_dat.lower()\n",
    "\n",
    "p_t,r_t = evaluate_hashing_DE(total_hash_VAE,test_hash_VAE,labels_total,labels_test,tipo=\"topK\")\n",
    "results_dat[dataset][\"p\"] = [p_t]\n",
    "results_dat[dataset][\"r\"] = [r_t]\n",
    "p5k_t = evaluate_hashing_DE(total_hash_VAE,test_hash_VAE,labels_total,labels_test,eval_tipo=\"Patk\",K=5000)\n",
    "results_dat[dataset][\"p5k\"] = [p5k_t]\n",
    "\n",
    "p_b,r_b = evaluate_hashing_DE(total_hash_BVAE, test_hash_BVAE,labels_total,labels_test,tipo=\"topK\")\n",
    "results_dat[dataset][\"p\"].append(p_b)\n",
    "results_dat[dataset][\"r\"].append(r_b)\n",
    "p5k_b = evaluate_hashing_DE(total_hash_BVAE, test_hash_BVAE,labels_total,labels_test,eval_tipo=\"Patk\",K=5000)\n",
    "results_dat[dataset][\"p5k\"].append(p5k_b)\n",
    "\n",
    "print(\"Realizado.\")"
   ]
  },
  {
   "cell_type": "code",
   "execution_count": 130,
   "metadata": {
    "collapsed": false
   },
   "outputs": [
    {
     "name": "stdout",
     "output_type": "stream",
     "text": [
      "*************Top 100 most similar retrieve*************\n",
      "\n",
      "Resultados de Precision en pruebas\n",
      "        Modelo  MNIST-R    MNIST  CIFAR-10  Nus-Wide\n",
      "0  Tradicional  0.72420  0.77669   0.49559  0.761557\n",
      "1      Binario  0.82706  0.82045   0.53305  0.766700\n",
      "\n",
      "\n",
      "Resultados de Recall en pruebas\n",
      "        Modelo   MNIST-R     MNIST  CIFAR-10  Nus-Wide\n",
      "0  Tradicional  0.010465  0.011245  0.008400  0.001522\n",
      "1      Binario  0.011972  0.011893  0.009035  0.001541\n",
      "\n",
      "\n",
      "Resultados de Precision en pruebas (top-5k)\n",
      "        Modelo   MNIST-R     MNIST  CIFAR-10  Nus-Wide\n",
      "0  Tradicional  0.344055  0.476328  0.293654  0.670298\n",
      "1      Binario  0.451737  0.559916  0.311723  0.681324\n"
     ]
    }
   ],
   "source": [
    "print(\"*************Top 100 most similar retrieve*************\")\n",
    "\n",
    "print(\"\\nResultados de Precision en pruebas\")\n",
    "t = pd.DataFrame() #Table()\n",
    "t[\"Modelo\"] = [\"Tradicional\",\"Binario\"]\n",
    "t[\"MNIST-R\"] = results_dat[\"mnist-raw\"][\"p\"]\n",
    "t[\"MNIST\"] = results_dat[\"mnist\"][\"p\"]\n",
    "t[\"CIFAR-10\"] = results_dat[\"cifar-10\"][\"p\"]\n",
    "#t[\"CelebA\"] = results_dat[\"celeba\"][\"p\"]\n",
    "t[\"Nus-Wide\"] = results_dat[\"nus-wide\"][\"p\"]\n",
    "print(t)\n",
    "\n",
    "print(\"\\n\\nResultados de Recall en pruebas\")\n",
    "t = pd.DataFrame() #Table()\n",
    "t[\"Modelo\"] = [\"Tradicional\",\"Binario\"]\n",
    "t[\"MNIST-R\"] = results_dat[\"mnist-raw\"][\"r\"]\n",
    "t[\"MNIST\"] = results_dat[\"mnist\"][\"r\"]\n",
    "t[\"CIFAR-10\"] = results_dat[\"cifar-10\"][\"r\"]\n",
    "#t[\"CelebA\"] = results_dat[\"celeba\"][\"r\"]\n",
    "t[\"Nus-Wide\"] = results_dat[\"nus-wide\"][\"r\"]\n",
    "print(t)\n",
    "\n",
    "print(\"\\n\\nResultados de Precision en pruebas (top-5k)\")\n",
    "t = pd.DataFrame() #Table()\n",
    "t[\"Modelo\"] = [\"Tradicional\",\"Binario\"]\n",
    "t[\"MNIST-R\"] = results_dat[\"mnist-raw\"][\"p5k\"]\n",
    "t[\"MNIST\"] = results_dat[\"mnist\"][\"p5k\"]\n",
    "t[\"CIFAR-10\"] = results_dat[\"cifar-10\"][\"p5k\"]\n",
    "#t[\"CelebA\"] = results_dat[\"celeba\"][\"p5k\"]\n",
    "t[\"Nus-Wide\"] = results_dat[\"nus-wide\"][\"p5k\"]\n",
    "print(t)"
   ]
  },
  {
   "cell_type": "code",
   "execution_count": 35,
   "metadata": {
    "collapsed": false
   },
   "outputs": [
    {
     "name": "stdout",
     "output_type": "stream",
     "text": [
      "MAP on MNIST-raw dataset\n",
      "Traditional VAE =  0.28624200795719834\n",
      "Binary VAE =  0.39133812588027717\n"
     ]
    }
   ],
   "source": [
    "print(\"MAP on %s dataset\"%name_dat)\n",
    "map_t= evaluate_hashing_DE(total_hash_VAE,test_hash_VAE,labels_total,labels_test,eval_tipo=\"MAP\",K=9999999)\n",
    "print(\"Traditional VAE = \",map_t)\n",
    "\n",
    "map_b= evaluate_hashing_DE(total_hash_BVAE, test_hash_BVAE,labels_total,labels_test,eval_tipo=\"MAP\",K=9999999)\n",
    "print(\"Binary VAE = \",map_b)"
   ]
  },
  {
   "cell_type": "code",
   "execution_count": 77,
   "metadata": {
    "collapsed": false
   },
   "outputs": [
    {
     "name": "stdout",
     "output_type": "stream",
     "text": [
      "MAP on MNIST dataset\n",
      "Traditional VAE =  0.41840910705719286\n",
      "Binary VAE =  0.5038414566144952\n"
     ]
    }
   ],
   "source": [
    "print(\"MAP on %s dataset\"%name_dat)\n",
    "map_t= evaluate_hashing_DE(total_hash_VAE,test_hash_VAE,labels_total,labels_test,eval_tipo=\"MAP\",K=9999999)\n",
    "print(\"Traditional VAE = \",map_t)\n",
    "\n",
    "map_b= evaluate_hashing_DE(total_hash_BVAE, test_hash_BVAE,labels_total,labels_test,eval_tipo=\"MAP\",K=9999999)\n",
    "print(\"Binary VAE = \",map_b)"
   ]
  },
  {
   "cell_type": "code",
   "execution_count": 102,
   "metadata": {
    "collapsed": false
   },
   "outputs": [
    {
     "name": "stdout",
     "output_type": "stream",
     "text": [
      "MAP on CIFAR-10 dataset\n",
      "Traditional VAE =  0.2547489501287524\n",
      "Binary VAE =  0.2740976506100716\n"
     ]
    }
   ],
   "source": [
    "print(\"MAP on %s dataset\"%name_dat)\n",
    "map_t= evaluate_hashing_DE(total_hash_VAE,test_hash_VAE,labels_total,labels_test,eval_tipo=\"MAP\",K=9999999)\n",
    "print(\"Traditional VAE = \",map_t)\n",
    "\n",
    "map_b= evaluate_hashing_DE(total_hash_BVAE, test_hash_BVAE,labels_total,labels_test,eval_tipo=\"MAP\",K=9999999)\n",
    "print(\"Binary VAE = \",map_b)"
   ]
  },
  {
   "cell_type": "code",
   "execution_count": 132,
   "metadata": {
    "collapsed": false
   },
   "outputs": [
    {
     "name": "stdout",
     "output_type": "stream",
     "text": [
      "MAP on Nus-Wide dataset\n",
      "Traditional VAE =  0.5231913090275315\n",
      "Binary VAE =  0.5410494456407475\n"
     ]
    }
   ],
   "source": [
    "print(\"MAP on %s dataset\"%name_dat)\n",
    "map_t= evaluate_hashing_DE(total_hash_VAE,test_hash_VAE,labels_total,labels_test,eval_tipo=\"MAP\",K=9999999)\n",
    "print(\"Traditional VAE = \",map_t)\n",
    "\n",
    "map_b= evaluate_hashing_DE(total_hash_BVAE, test_hash_BVAE,labels_total,labels_test,eval_tipo=\"MAP\",K=9999999)\n",
    "print(\"Binary VAE = \",map_b)"
   ]
  },
  {
   "cell_type": "code",
   "execution_count": 131,
   "metadata": {
    "collapsed": false
   },
   "outputs": [
    {
     "name": "stdout",
     "output_type": "stream",
     "text": [
      "MAP@5000 on Nus-Wide dataset\n",
      "Traditional VAE =  0.7070169921145362\n",
      "Binary VAE =  0.7202878737027913\n"
     ]
    }
   ],
   "source": [
    "print(\"MAP@5000 on %s dataset\"%name_dat)\n",
    "map_t= evaluate_hashing_DE(total_hash_VAE,test_hash_VAE,labels_total,labels_test,eval_tipo=\"MAP\",K=5000)\n",
    "print(\"Traditional VAE = \",map_t)\n",
    "\n",
    "map_b= evaluate_hashing_DE(total_hash_BVAE, test_hash_BVAE,labels_total,labels_test,eval_tipo=\"MAP\",K=5000)\n",
    "print(\"Binary VAE = \",map_b)"
   ]
  },
  {
   "cell_type": "markdown",
   "metadata": {},
   "source": [
    "La propuesta presentada de *VAE* binario sobrepasa al *VAE* tradicional en todos los resultados presentados.\n",
    "### Experimentos con el *ball search*\n",
    "A continuación se muestra una leve experimentación cuando se trabaja con la búsqueda a través de un radio en el espacio de *Haming*."
   ]
  },
  {
   "cell_type": "code",
   "execution_count": 36,
   "metadata": {
    "collapsed": true
   },
   "outputs": [],
   "source": [
    "from utils import get_similar_hammD_based,get_hammD\n",
    "ball_radius = np.arange(0,25) #ball of radius graphic\n",
    "\n",
    "traditional_dat_BS = {\"mnist\":{},\"cifar-10\":{},\"celeba\":{},'nus-wide':{},\"mnist-raw\":{}}\n",
    "binary_dat_BS = {\"mnist\":{},\"cifar-10\":{},\"celeba\":{},'nus-wide':{},\"mnist-raw\":{}}"
   ]
  },
  {
   "cell_type": "code",
   "execution_count": 137,
   "metadata": {
    "collapsed": false
   },
   "outputs": [
    {
     "name": "stdout",
     "output_type": "stream",
     "text": [
      "DAtaset  MNIST-RAW\n",
      "VAE P@ball=2 equals= 0.6750273457187907\n",
      "B-VAE P@ball=2 equals= 0.7024217177692629\n"
     ]
    }
   ],
   "source": [
    "dat_show = \"MNIST-RAW\"\n",
    "print(\"DAtaset \",dat_show)\n",
    "print(\"VAE P@ball=2 equals=\",traditional_dat_BS[dat_show.lower()][\"p\"][2])\n",
    "print(\"B-VAE P@ball=2 equals=\",binary_dat_BS[dat_show.lower()][\"p\"][2])"
   ]
  },
  {
   "cell_type": "code",
   "execution_count": 134,
   "metadata": {
    "collapsed": false
   },
   "outputs": [
    {
     "name": "stdout",
     "output_type": "stream",
     "text": [
      "DAtaset  MNIST\n",
      "VAE P@ball=2 equals= 0.6259311290264314\n",
      "B-VAE P@ball=2 equals= 0.7830611828716819\n"
     ]
    }
   ],
   "source": [
    "dat_show = \"MNIST\"\n",
    "print(\"DAtaset \",dat_show)\n",
    "print(\"VAE P@ball=2 equals=\",traditional_dat_BS[dat_show.lower()][\"p\"][2])\n",
    "print(\"B-VAE P@ball=2 equals=\",binary_dat_BS[dat_show.lower()][\"p\"][2])"
   ]
  },
  {
   "cell_type": "code",
   "execution_count": 135,
   "metadata": {
    "collapsed": false
   },
   "outputs": [
    {
     "name": "stdout",
     "output_type": "stream",
     "text": [
      "DAtaset  CIFAR-10\n",
      "VAE P@ball=2 equals= 0.20329582839573185\n",
      "B-VAE P@ball=2 equals= 0.27696697388490493\n"
     ]
    }
   ],
   "source": [
    "dat_show = \"CIFAR-10\"\n",
    "print(\"DAtaset \",dat_show)\n",
    "print(\"VAE P@ball=2 equals=\",traditional_dat_BS[dat_show.lower()][\"p\"][2])\n",
    "print(\"B-VAE P@ball=2 equals=\",binary_dat_BS[dat_show.lower()][\"p\"][2])"
   ]
  },
  {
   "cell_type": "code",
   "execution_count": 136,
   "metadata": {
    "collapsed": false
   },
   "outputs": [
    {
     "name": "stdout",
     "output_type": "stream",
     "text": [
      "DAtaset  NUS-WIDE\n",
      "VAE P@ball=2 equals= 0.5336706674137686\n",
      "B-VAE P@ball=2 equals= 0.6514771895479364\n"
     ]
    }
   ],
   "source": [
    "dat_show = \"NUS-WIDE\"\n",
    "print(\"DAtaset \",dat_show)\n",
    "print(\"VAE P@ball=2 equals=\",traditional_dat_BS[dat_show.lower()][\"p\"][2])\n",
    "print(\"B-VAE P@ball=2 equals=\",binary_dat_BS[dat_show.lower()][\"p\"][2])"
   ]
  },
  {
   "cell_type": "code",
   "execution_count": 133,
   "metadata": {
    "collapsed": false,
    "scrolled": true
   },
   "outputs": [
    {
     "name": "stdout",
     "output_type": "stream",
     "text": [
      "Termino\n",
      "CPU times: user 1h 26min 32s, sys: 44.8 s, total: 1h 27min 16s\n",
      "Wall time: 1h 26min 53s\n"
     ]
    }
   ],
   "source": [
    "%%time\n",
    "dataset = name_dat.lower()\n",
    "\n",
    "binary_dat_BS[dataset][\"p\"] = []\n",
    "binary_dat_BS[dataset][\"r\"] = []\n",
    "\n",
    "hammD_scores = get_hammD(test_hash_BVAE,total_hash_BVAE) #all hamming ranking\n",
    "for ball_r in ball_radius:\n",
    "    test_similares_train = get_similar_hammD_based(hammD_scores,tipo=\"ball\", ball=ball_r)\n",
    "\n",
    "    p_b,r_b  = measure_metrics(labels,test_similares_train,labels_query=labels_test,labels_source=labels_total)\n",
    "    binary_dat_BS[dataset][\"p\"].append(p_b)\n",
    "    binary_dat_BS[dataset][\"r\"].append(r_b)\n",
    "\n",
    "    \n",
    "traditional_dat_BS[dataset][\"p\"] = []\n",
    "traditional_dat_BS[dataset][\"r\"] = []\n",
    "\n",
    "hammD_scores = get_hammD(test_hash_VAE,total_hash_VAE) #all hamming ranking\n",
    "for ball_r in ball_radius:\n",
    "    test_similares_train = get_similar_hammD_based(hammD_scores,tipo=\"ball\", ball=ball_r)\n",
    "\n",
    "    p_t,r_t  = measure_metrics(labels,test_similares_train,labels_query=labels_test,labels_source=labels_total)\n",
    "    traditional_dat_BS[dataset][\"p\"].append(p_t)\n",
    "    traditional_dat_BS[dataset][\"r\"].append(r_t)\n",
    "    \n",
    "del hammD_scores, test_similares_train\n",
    "gc.collect()\n",
    "    \n",
    "print(\"Termino\")"
   ]
  },
  {
   "cell_type": "code",
   "execution_count": 151,
   "metadata": {
    "collapsed": false
   },
   "outputs": [
    {
     "data": {
      "image/png": "[encoded data removed]",
      "text/plain": [
       "<matplotlib.figure.Figure at 0x7f29380462e8>"
      ]
     },
     "metadata": {},
     "output_type": "display_data"
    }
   ],
   "source": [
    "choosed_data = [\"MNIST-RAW\", \"MNIST\", \"CIFAR-10\", \"NUS-WIDE\"]\n",
    "f, axx = plt.subplots(1, len(choosed_data), figsize=(20,5), sharey=False)\n",
    "\n",
    "b_aux = 16\n",
    "for z in range(len(choosed_data)):\n",
    "    dat = choosed_data[z].lower()\n",
    "\n",
    "    axx[z].plot(ball_radius[:b_aux],traditional_dat_BS[dat][\"p\"][:b_aux],'bo-',label=\"precision (Traditional VAE)\")\n",
    "    axx[z].plot(ball_radius[:b_aux],traditional_dat_BS[dat][\"r\"][:b_aux],'bv-', label='recall' ) \n",
    "    axx[z].plot(ball_radius[:b_aux],binary_dat_BS[dat][\"p\"][:b_aux],'go-',label=\"precision (Binary VAE)\")\n",
    "    axx[z].plot(ball_radius[:b_aux],binary_dat_BS[dat][\"r\"][:b_aux],'gv-', label='recall' ) \n",
    "    axx[z].set_title(choosed_data[z])\n",
    "    axx[z].set_xticks(ball_radius)\n",
    "    axx[z].set_xlabel(\"Ball radius\")\n",
    "    axx[z].set_xlim(-0.5, len(ball_radius[:b_aux])-.5)\n",
    "    #axx[z].set_ylim(-0.05)\n",
    "    \n",
    "    if z == 0:\n",
    "        axx[z].set_ylabel(\"Score\")\n",
    "        axx[z].legend(bbox_to_anchor=(2, -0.1))\n",
    "        \n",
    "f.suptitle(\"Comparison of ball search\")\n",
    "plt.show()"
   ]
  },
  {
   "cell_type": "code",
   "execution_count": null,
   "metadata": {
    "collapsed": true
   },
   "outputs": [],
   "source": []
  }
 ],
 "metadata": {
  "anaconda-cloud": {},
  "kernelspec": {
   "display_name": "Python [conda env:tesis]",
   "language": "python",
   "name": "conda-env-tesis-py"
  },
  "language_info": {
   "codemirror_mode": {
    "name": "ipython",
    "version": 3
   },
   "file_extension": ".py",
   "mimetype": "text/x-python",
   "name": "python",
   "nbconvert_exporter": "python",
   "pygments_lexer": "ipython3",
   "version": "3.5.3"
  }
 },
 "nbformat": 4,
 "nbformat_minor": 2
}
