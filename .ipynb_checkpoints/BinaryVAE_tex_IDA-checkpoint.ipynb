{
 "cells": [
  {
   "cell_type": "markdown",
   "metadata": {},
   "source": [
    "<img src=\"http://www.exalumnos.usm.cl/wp-content/uploads/2015/06/Isotipo-Negro.gif\" title=\"Title text\" width=\"20%\" height=\"20%\" />\n",
    "\n",
    "\n",
    "<hr style=\"height:2px;border:none\"/>\n",
    "<h1 align='center'> Binary Variational Semantic Hashing </h1>\n",
    "\n",
    "<H3 align='center'> INF-483 Recuperación de Información/Text Mining 2018-2</H3>\n",
    "<hr style=\"height:2px;border:none\"/>\n",
    "\n",
    "\n",
    "<img src=\"https://i.imgur.com/qhcBPAS.png\" title=\"Title text\"  width=\"50%\" style=\"float: right;\" />\n",
    "\n",
    "\n",
    "> ** Nombre:** Francisco Mena  \n",
    "> ** Rol **: 201373504-5  \n",
    "> **Fecha**: 15/01\n",
    "---\n",
    "\n",
    "Encontrar/Recuperar objetos similares dada un objeto como consulta (*content-based retrieval*) utilizando *hashing* semántico para acelerar la búsqueda. La idea es asignar códigos binarios compactos (de baja dimensionalidad) a cada objeto), la propiedad semántica es para que objetos semánticamente similares generen códigos similares en el espacio de *Hamming*.\n",
    "\n",
    "\n",
    "**Objetivo**: Mejorar el aprendizaje no supervisado de *hashing* semántico a través de un modelo probabilista que se adapte correctamente a la necesidad de generar códigos binarios\n",
    "\n",
    "**Técnica**: *Variational Autoencoder* (VAE)\n",
    "\n",
    "\n",
    "Utilizando el *reparameterization trick*:\n",
    "* https://github.com/EderSantana/gumbel/\n",
    "* https://github.com/EmilienDupont/vae-concrete\n",
    "\n",
    "En primer lugar se cargan las librerías a utilizar."
   ]
  },
  {
   "cell_type": "code",
   "execution_count": 1,
   "metadata": {
    "collapsed": true
   },
   "outputs": [],
   "source": [
    "import os\n",
    "os.environ[\"CUDA_DEVICE_ORDER\"] = \"PCI_BUS_ID\"   # see issue #152\n",
    "os.environ[\"CUDA_VISIBLE_DEVICES\"] = \"\""
   ]
  },
  {
   "cell_type": "code",
   "execution_count": 3,
   "metadata": {
    "scrolled": true
   },
   "outputs": [
    {
     "name": "stderr",
     "output_type": "stream",
     "text": [
      "[nltk_data] Downloading package reuters to /home/fmena/nltk_data...\n",
      "[nltk_data]   Package reuters is already up-to-date!\n",
      "[nltk_data] Downloading package wordnet to /home/fmena/nltk_data...\n",
      "[nltk_data]   Package wordnet is already up-to-date!\n"
     ]
    }
   ],
   "source": [
    "import numpy as np\n",
    "import keras,gc,nltk\n",
    "from keras.layers import *\n",
    "from keras.models import Sequential,Model\n",
    "from keras import backend as K\n",
    "from astropy.table import Table\n",
    "import matplotlib.pyplot as plt\n",
    "from scipy.special import expit\n",
    "import seaborn as sns\n",
    "import pandas as pd\n",
    "from scipy.io import loadmat\n",
    "nltk.download('reuters')\n",
    "nltk.download('wordnet')\n",
    "%matplotlib inline\n",
    "\n",
    "from base_networks import *\n",
    "\n",
    "np.random.seed(20)"
   ]
  },
  {
   "cell_type": "markdown",
   "metadata": {},
   "source": [
    "## Load Data\n",
    "\n",
    "### 20 Newsgroup\n",
    "---\n",
    "\n",
    "Utilizado en trabajos previos de *Hashing* de texto (http://people.csail.mit.edu/jrennie/20Newsgroups), también disponible en **sklearn**. El dataset contiene textos de usuarios asociados a temáticas de noticias etiquetados como pertenenciente a uno de 20 grupos de noticias, el detalle de los conjuntos se detalla a continuación:\n",
    "\n",
    "|Tipo set|Datos|Label|\n",
    "|---|---|---|\n",
    "|Entrenamiento|11.314|20|\n",
    "|Pruebas|7.532|20|"
   ]
  },
  {
   "cell_type": "code",
   "execution_count": 4,
   "metadata": {},
   "outputs": [
    {
     "name": "stdout",
     "output_type": "stream",
     "text": [
      "Datos de entrenamiento:  (11314,)\n",
      "Datos de prueba:  (7532,)\n"
     ]
    }
   ],
   "source": [
    "dat_n = \"20News\"\n",
    "\n",
    "from sklearn.datasets import fetch_20newsgroups\n",
    "newsgroups_t = fetch_20newsgroups(subset='train')\n",
    "newsgroups_test = fetch_20newsgroups(subset='test')\n",
    "labels = newsgroups_t.target_names\n",
    "\n",
    "texts_t = newsgroups_t.data\n",
    "y_t = newsgroups_t.target\n",
    "labels_t = [labels[valor] for valor in y_t]\n",
    "\n",
    "texts_test = newsgroups_test.data\n",
    "y_test = newsgroups_test.target\n",
    "labels_test = [labels[valor] for valor in y_test]\n",
    "\n",
    "print(\"Datos de entrenamiento: \",y_t.shape)\n",
    "print(\"Datos de prueba: \",y_test.shape)"
   ]
  },
  {
   "cell_type": "code",
   "execution_count": 3,
   "metadata": {
    "scrolled": false
   },
   "outputs": [
    {
     "data": {
      "text/plain": [
       "['alt.atheism',\n",
       " 'comp.graphics',\n",
       " 'comp.os.ms-windows.misc',\n",
       " 'comp.sys.ibm.pc.hardware',\n",
       " 'comp.sys.mac.hardware',\n",
       " 'comp.windows.x',\n",
       " 'misc.forsale',\n",
       " 'rec.autos',\n",
       " 'rec.motorcycles',\n",
       " 'rec.sport.baseball',\n",
       " 'rec.sport.hockey',\n",
       " 'sci.crypt',\n",
       " 'sci.electronics',\n",
       " 'sci.med',\n",
       " 'sci.space',\n",
       " 'soc.religion.christian',\n",
       " 'talk.politics.guns',\n",
       " 'talk.politics.mideast',\n",
       " 'talk.politics.misc',\n",
       " 'talk.religion.misc']"
      ]
     },
     "execution_count": 3,
     "metadata": {},
     "output_type": "execute_result"
    }
   ],
   "source": [
    "labels"
   ]
  },
  {
   "cell_type": "markdown",
   "metadata": {},
   "source": [
    "Anteriormente se presentan los 20 posibles grupos de las noticias, algunos ejemplos de texto se muestran a continuacion:"
   ]
  },
  {
   "cell_type": "code",
   "execution_count": 10,
   "metadata": {
    "scrolled": true
   },
   "outputs": [
    {
     "name": "stdout",
     "output_type": "stream",
     "text": [
      "From: lerxst@wam.umd.edu (where's my thing)\n",
      "Subject: WHAT car is this!?\n",
      "Nntp-Posting-Host: rac3.wam.umd.edu\n",
      "Organization: University of Maryland, College Park\n",
      "Lines: 15\n",
      "\n",
      " I was wondering if anyone out there could enlighten me on this car I saw\n",
      "the other day. It was a 2-door sports car, looked to be from the late 60s/\n",
      "early 70s. It was called a Bricklin. The doors were really small. In addition,\n",
      "the front bumper was separate from the rest of the body. This is \n",
      "all I know. If anyone can tellme a model name, engine specs, years\n",
      "of production, where this car is made, history, or whatever info you\n",
      "have on this funky looking car, please e-mail.\n",
      "\n",
      "Thanks,\n",
      "- IL\n",
      "   ---- brought to you by your neighborhood Lerxst ----\n",
      "\n",
      "\n",
      "\n",
      "\n",
      "\n"
     ]
    },
    {
     "data": {
      "image/png": "[encoded data removed]",
      "text/plain": [
       "<matplotlib.figure.Figure at 0x7f3781b25198>"
      ]
     },
     "metadata": {},
     "output_type": "display_data"
    }
   ],
   "source": [
    "print(texts_t[0])\n",
    "sns.boxplot(list(map(len,[texto.split(' ') for texto in texts_t])))\n",
    "plt.title(\"Boxplot de cantidad de palabras por texto\")\n",
    "plt.show()"
   ]
  },
  {
   "cell_type": "code",
   "execution_count": 112,
   "metadata": {},
   "outputs": [
    {
     "name": "stdout",
     "output_type": "stream",
     "text": [
      "Done!\n"
     ]
    }
   ],
   "source": [
    "## specific clean on this dataset:\n",
    "headers_to_save = [\"Subject\",\"Summary\",\"Organization\",\"Keywords\"]\n",
    "\n",
    "def clean_20news(textos):\n",
    "    aux = []\n",
    "    for textito in textos:\n",
    "        header,texto = textito.split(\"\\n\\n\",1)\n",
    "\n",
    "        #dic = {line.split(\": \")[0]:line.split(\": \")[1] for line in header.split(\"\\n\") }\n",
    "        dic = {}\n",
    "        for line in header.split(\"\\n\"):\n",
    "            try:\n",
    "                a,b = line.split(\": \",1)\n",
    "                dic[a] = b\n",
    "            except:\n",
    "                continue\n",
    "        to_add = \"\"\n",
    "        for t in headers_to_save:\n",
    "            try:\n",
    "                to_add += dic[t] +\". \"\n",
    "            except:\n",
    "                continue\n",
    "        aux.append(to_add+texto)\n",
    "    return aux\n",
    "texts_t = clean_20news(texts_t)\n",
    "texts_test = clean_20news(texts_test)\n",
    "print(\"Done!\")"
   ]
  },
  {
   "cell_type": "markdown",
   "metadata": {},
   "source": [
    "Es el dataset con los documentos más extensos en información o textos, lo que podría ser un indicador que es el más difícil ya que se deberá comprimir toda la información presente en estos textos.\n",
    "\n",
    "### Reuters21578\n",
    "---\n",
    "Similar a 20NewsGroup es un datataset de textos de noticias del periodico de Reuters en 1987, citado también en el estado del arte (https://www.nltk.org/book/ch02.html) y disponible en la librería **nltk**. El detalle de los conjuntos se muestra a continuación:\n",
    "\n",
    "|Tipo set|Datos|Label|\n",
    "|---|---|---|\n",
    "|Entrenamiento|7.769|90|\n",
    "|Pruebas|3.019|90|\n",
    "\n",
    "Los documentos pueden pertenecer a **múltiples tópicos** dentro de 90 disponibles en el dataset manualmente etiquetadas, ésto es porque un texto asociado a una noticia puede hablar de varios tópicos a la vez. "
   ]
  },
  {
   "cell_type": "code",
   "execution_count": 3,
   "metadata": {},
   "outputs": [
    {
     "data": {
      "image/png": "[encoded data removed]",
      "text/plain": [
       "<matplotlib.figure.Figure at 0x7f948ed64b38>"
      ]
     },
     "metadata": {},
     "output_type": "display_data"
    }
   ],
   "source": [
    "sns.boxplot(list(map(len,labels_t)))\n",
    "plt.title(\"Boxplot de cantidad de atributos por imagen\")\n",
    "plt.show()"
   ]
  },
  {
   "cell_type": "code",
   "execution_count": 29,
   "metadata": {},
   "outputs": [
    {
     "name": "stdout",
     "output_type": "stream",
     "text": [
      "10788 documents\n",
      "7769 total training documents\n",
      "3019 total test documents\n"
     ]
    }
   ],
   "source": [
    "dat_n = \"Reuters\"\n",
    "\n",
    "from nltk.corpus import reuters\n",
    "documents_stat = reuters.fileids()\n",
    "print(str(len(documents_stat)) + \" documents\")\n",
    "\n",
    "train_docs_stat = list(filter(lambda doc: doc.startswith(\"train\"), documents_stat))\n",
    "print(str(len(train_docs_stat)) + \" total training documents\")\n",
    "test_docs_stat = list(filter(lambda doc: doc.startswith(\"test\"), documents_stat))\n",
    "print(str(len(test_docs_stat)) + \" total test documents\")\n",
    "\n",
    "texts_t = [reuters.raw(archivo) for archivo in train_docs_stat]\n",
    "labels_t = [reuters.categories(archivo) for archivo in train_docs_stat]\n",
    "\n",
    "texts_test = [reuters.raw(archivo) for archivo in test_docs_stat]\n",
    "labels_test = [reuters.categories(archivo) for archivo in test_docs_stat]\n",
    "\n",
    "labels = reuters.categories()"
   ]
  },
  {
   "cell_type": "code",
   "execution_count": 110,
   "metadata": {
    "scrolled": true
   },
   "outputs": [
    {
     "name": "stdout",
     "output_type": "stream",
     "text": [
      "BAHIA COCOA REVIEW\n",
      "  Showers continued throughout the week in\n",
      "  the Bahia cocoa zone, alleviating the drought since early\n",
      "  January and improving prospects for the coming temporao,\n",
      "  although normal humidity levels have not been restored,\n",
      "  Comissaria Smith said in its weekly review.\n",
      "      The dry period means the temporao will be late this year.\n",
      "      Arrivals for the week ended February 22 were 155,221 bags\n",
      "  of 60 kilos making a cumulative total for the season of 5.93\n",
      "  mln against 5.81 at the same stage last year. Again it seems\n",
      "  that cocoa delivered earlier on consignment was included in the\n",
      "  arrivals figures.\n",
      "      Comissaria Smith said there is still some doubt as to how\n",
      "  much old crop cocoa is still available as harvesting has\n",
      "  practically come to an end. With total Bahia crop estimates\n",
      "  around 6.4 mln bags and sales standing at almost 6.2 mln there\n",
      "  are a few hundred thousand bags still in the hands of farmers,\n",
      "  middlemen, exporters and processors.\n",
      "      There are doubts as to how much of this cocoa would be fit\n",
      "  for export as shippers are now experiencing dificulties in\n",
      "  obtaining +Bahia superior+ certificates.\n",
      "      In view of the lower quality over recent weeks farmers have\n",
      "  sold a good part of their cocoa held on consignment.\n",
      "      Comissaria Smith said spot bean prices rose to 340 to 350\n",
      "  cruzados per arroba of 15 kilos.\n",
      "      Bean shippers were reluctant to offer nearby shipment and\n",
      "  only limited sales were booked for March shipment at 1,750 to\n",
      "  1,780 dlrs per tonne to ports to be named.\n",
      "      New crop sales were also light and all to open ports with\n",
      "  June/July going at 1,850 and 1,880 dlrs and at 35 and 45 dlrs\n",
      "  under New York july, Aug/Sept at 1,870, 1,875 and 1,880 dlrs\n",
      "  per tonne FOB.\n",
      "      Routine sales of butter were made. March/April sold at\n",
      "  4,340, 4,345 and 4,350 dlrs.\n",
      "      April/May butter went at 2.27 times New York May, June/July\n",
      "  at 4,400 and 4,415 dlrs, Aug/Sept at 4,351 to 4,450 dlrs and at\n",
      "  2.27 and 2.28 times New York Sept and Oct/Dec at 4,480 dlrs and\n",
      "  2.27 times New York Dec, Comissaria Smith said.\n",
      "      Destinations were the U.S., Covertible currency areas,\n",
      "  Uruguay and open ports.\n",
      "      Cake sales were registered at 785 to 995 dlrs for\n",
      "  March/April, 785 dlrs for May, 753 dlrs for Aug and 0.39 times\n",
      "  New York Dec for Oct/Dec.\n",
      "      Buyers were the U.S., Argentina, Uruguay and convertible\n",
      "  currency areas.\n",
      "      Liquor sales were limited with March/April selling at 2,325\n",
      "  and 2,380 dlrs, June/July at 2,375 dlrs and at 1.25 times New\n",
      "  York July, Aug/Sept at 2,400 dlrs and at 1.25 times New York\n",
      "  Sept and Oct/Dec at 1.25 times New York Dec, Comissaria Smith\n",
      "  said.\n",
      "      Total Bahia sales are currently estimated at 6.13 mln bags\n",
      "  against the 1986/87 crop and 1.06 mln bags against the 1987/88\n",
      "  crop.\n",
      "      Final figures for the period to February 28 are expected to\n",
      "  be published by the Brazilian Cocoa Trade Commission after\n",
      "  carnival which ends midday on February 27.\n",
      "  \n",
      "\n",
      "\n"
     ]
    },
    {
     "data": {
      "image/png": "[encoded data removed]",
      "text/plain": [
       "<matplotlib.figure.Figure at 0x7f8a670f2588>"
      ]
     },
     "metadata": {},
     "output_type": "display_data"
    }
   ],
   "source": [
    "print(texts_t[0])\n",
    "\n",
    "sns.boxplot(list(map(len,[texto.split(' ') for texto in texts_t])))\n",
    "plt.title(\"Boxplot de cantidad de palabras por texto\")\n",
    "plt.show()"
   ]
  },
  {
   "cell_type": "markdown",
   "metadata": {},
   "source": [
    "#### top 20 labels (as VDSH)"
   ]
  },
  {
   "cell_type": "code",
   "execution_count": 30,
   "metadata": {
    "scrolled": false
   },
   "outputs": [
    {
     "name": "stdout",
     "output_type": "stream",
     "text": [
      "category with most data (earn) has = 3964, the top-K category (bop) has = 105\n"
     ]
    },
    {
     "data": {
      "text/plain": [
       "['earn',\n",
       " 'acq',\n",
       " 'money-fx',\n",
       " 'grain',\n",
       " 'crude',\n",
       " 'trade',\n",
       " 'interest',\n",
       " 'ship',\n",
       " 'wheat',\n",
       " 'corn',\n",
       " 'dlr',\n",
       " 'money-supply',\n",
       " 'oilseed',\n",
       " 'sugar',\n",
       " 'coffee',\n",
       " 'gnp',\n",
       " 'gold',\n",
       " 'veg-oil',\n",
       " 'soybean',\n",
       " 'bop']"
      ]
     },
     "execution_count": 30,
     "metadata": {},
     "output_type": "execute_result"
    }
   ],
   "source": [
    "from utils import get_topK_labels,set_newlabel_list,enmask_data\n",
    "new_labels = get_topK_labels(labels_t+labels_test, labels, K=20)\n",
    "labels = new_labels\n",
    "new_labels"
   ]
  },
  {
   "cell_type": "code",
   "execution_count": null,
   "metadata": {
    "collapsed": true,
    "scrolled": true
   },
   "outputs": [],
   "source": [
    "labels_t = mask_label_list(new_labels, labels_t)\n",
    "labels_test = mask_label_list(new_labels, labels_test)\n",
    "# y si quedan datos sin clase?\n",
    "\n",
    "mask_used_t = np.asarray(list(map(len,labels_t))) != 0\n",
    "mask_used_test = np.asarray(list(map(len,labels_test))) != 0\n",
    "labels_t[:10]"
   ]
  },
  {
   "cell_type": "code",
   "execution_count": 66,
   "metadata": {},
   "outputs": [
    {
     "data": {
      "text/plain": [
       "4511"
      ]
     },
     "execution_count": 66,
     "metadata": {},
     "output_type": "execute_result"
    }
   ],
   "source": [
    "#remove data withouts tags/label\n",
    "texts_t = enmask_data(texts_t, mask_used_t)\n",
    "texts_test= enmask_data(texts_test, mask_used_test)\n",
    "\n",
    "labels_t = enmask_data(labels_t, mask_used_t)\n",
    "labels_test = enmask_data(labels_test, mask_used_test)\n",
    "len(labels_t)"
   ]
  },
  {
   "cell_type": "markdown",
   "metadata": {},
   "source": [
    "El dataset anterior también es extenso en sus documentos pero no tan extremo como 20 Newsgroup.\n",
    "\n",
    "### SearchSnipet\n",
    "---\n",
    "Dataset de Google search *snippets*-- pequeñas porciones de texto que le dan a usuarios una idea de lo que hay en el sitio web en el buscador de Google. Pertenecientes a 8 clases únicas (dominio). Disponibles a través de http://jwebpro.sourceforge.net/data-web-snippets.tar.gz.\n",
    "\n",
    "\n",
    "|Tipo set|Datos|Label|\n",
    "|---|---|---|\n",
    "|Entrenamiento|10.060|8|\n",
    "|Pruebas|2.280|8|"
   ]
  },
  {
   "cell_type": "code",
   "execution_count": 86,
   "metadata": {},
   "outputs": [
    {
     "name": "stdout",
     "output_type": "stream",
     "text": [
      "Datos de entrenamiento:  10060\n",
      "Datos de pruebas:  2280\n"
     ]
    }
   ],
   "source": [
    "dat_n = \"Snippets\"\n",
    "\n",
    "def read_file(archivo,symb=' '):\n",
    "    with open(archivo,'r') as f:\n",
    "        lineas = f.readlines()\n",
    "        tokens_f = [linea.strip().split(symb) for linea in lineas]\n",
    "        labels = [tokens[-1] for tokens in tokens_f]\n",
    "        tokens = [' '.join(tokens[:-1]) for tokens in tokens_f]\n",
    "    return labels,tokens\n",
    "labels_t,texts_t = read_file(\"Data/data-web-snippets/train.txt\")\n",
    "labels_test,texts_test = read_file(\"Data/data-web-snippets/test.txt\")\n",
    "print(\"Datos de entrenamiento: \",len(texts_t))\n",
    "print(\"Datos de pruebas: \",len(texts_test))"
   ]
  },
  {
   "cell_type": "code",
   "execution_count": 87,
   "metadata": {
    "scrolled": true
   },
   "outputs": [
    {
     "data": {
      "text/plain": [
       "['business',\n",
       " 'culture-arts-entertainment',\n",
       " 'politics-society',\n",
       " 'health',\n",
       " 'education-science',\n",
       " 'computers',\n",
       " 'sports',\n",
       " 'engineering']"
      ]
     },
     "execution_count": 87,
     "metadata": {},
     "output_type": "execute_result"
    }
   ],
   "source": [
    "labels = list(set(labels_t))\n",
    "labels"
   ]
  },
  {
   "cell_type": "code",
   "execution_count": 112,
   "metadata": {},
   "outputs": [
    {
     "name": "stdout",
     "output_type": "stream",
     "text": [
      "europa enterprise pharmaceuticals eudralex homev eudralex volume medicinal products human veterinary annex manufacture biological medicinal products human annex manufacture products human blood human plasma\n"
     ]
    },
    {
     "data": {
      "image/png": "[encoded data removed]",
      "text/plain": [
       "<matplotlib.figure.Figure at 0x7f8a671b17f0>"
      ]
     },
     "metadata": {},
     "output_type": "display_data"
    }
   ],
   "source": [
    "print(texts_t[10])\n",
    "\n",
    "sns.boxplot(list(map(len,[texto.split(' ') for texto in texts_t])))\n",
    "plt.title(\"Boxplot de cantidad de palabras por texto\")\n",
    "plt.show()"
   ]
  },
  {
   "cell_type": "markdown",
   "metadata": {},
   "source": [
    "### Reuters Corpus Volume 1\n",
    "---\n",
    "Corpus de Reuters extendido, con los 103 tópicos originales. Disponible en trabajos previos (https://www.csie.ntu.edu.tw/~cjlin/libsvmtools/datasets/multilabel.html) y a través de **sklearn** (https://scikit-learn.org/0.17/datasets/rcv1.html). La representación son las *features* ya extraídas.\n",
    "\n",
    "|Tipo set|Datos|Label|\n",
    "|---|---|---|\n",
    "|Entrenamiento|23.149|103|\n",
    "|Pruebas|781.265|103|\n",
    "\n",
    "Representación de **sklearn** viene pre-procesada con la transformación logarítmica de TF-IDF."
   ]
  },
  {
   "cell_type": "code",
   "execution_count": 20,
   "metadata": {
    "scrolled": true
   },
   "outputs": [
    {
     "ename": "KeyboardInterrupt",
     "evalue": "",
     "output_type": "error",
     "traceback": [
      "\u001b[0;31m---------------------------------------------------------------------------\u001b[0m",
      "\u001b[0;31mKeyboardInterrupt\u001b[0m                         Traceback (most recent call last)",
      "\u001b[0;32m<ipython-input-20-e85c480aa03f>\u001b[0m in \u001b[0;36m<module>\u001b[0;34m()\u001b[0m\n\u001b[1;32m      2\u001b[0m \u001b[0;34m\u001b[0m\u001b[0m\n\u001b[1;32m      3\u001b[0m \u001b[0;32mfrom\u001b[0m \u001b[0msklearn\u001b[0m\u001b[0;34m.\u001b[0m\u001b[0mdatasets\u001b[0m \u001b[0;32mimport\u001b[0m \u001b[0mfetch_rcv1\u001b[0m\u001b[0;34m\u001b[0m\u001b[0m\n\u001b[0;32m----> 4\u001b[0;31m \u001b[0mrcv1_train\u001b[0m \u001b[0;34m=\u001b[0m \u001b[0mfetch_rcv1\u001b[0m\u001b[0;34m(\u001b[0m\u001b[0msubset\u001b[0m\u001b[0;34m=\u001b[0m\u001b[0;34m'train'\u001b[0m\u001b[0;34m)\u001b[0m\u001b[0;34m\u001b[0m\u001b[0m\n\u001b[0m\u001b[1;32m      5\u001b[0m \u001b[0mrcv1_test\u001b[0m \u001b[0;34m=\u001b[0m \u001b[0mfetch_rcv1\u001b[0m\u001b[0;34m(\u001b[0m\u001b[0msubset\u001b[0m\u001b[0;34m=\u001b[0m\u001b[0;34m'test'\u001b[0m\u001b[0;34m)\u001b[0m\u001b[0;34m\u001b[0m\u001b[0m\n\u001b[1;32m      6\u001b[0m \u001b[0mX_train\u001b[0m \u001b[0;34m=\u001b[0m \u001b[0mrcv1_train\u001b[0m\u001b[0;34m.\u001b[0m\u001b[0mdata\u001b[0m\u001b[0;34m\u001b[0m\u001b[0m\n",
      "\u001b[0;32m/home/fmena/.local/lib/python3.5/site-packages/sklearn/datasets/_rcv1.py\u001b[0m in \u001b[0;36mfetch_rcv1\u001b[0;34m(data_home, subset, download_if_missing, random_state, shuffle, return_X_y)\u001b[0m\n\u001b[1;32m    191\u001b[0m             \u001b[0mremove\u001b[0m\u001b[0;34m(\u001b[0m\u001b[0mf\u001b[0m\u001b[0;34m.\u001b[0m\u001b[0mname\u001b[0m\u001b[0;34m)\u001b[0m\u001b[0;34m\u001b[0m\u001b[0m\n\u001b[1;32m    192\u001b[0m     \u001b[0;32melse\u001b[0m\u001b[0;34m:\u001b[0m\u001b[0;34m\u001b[0m\u001b[0m\n\u001b[0;32m--> 193\u001b[0;31m         \u001b[0mX\u001b[0m\u001b[0;34m,\u001b[0m \u001b[0msample_id\u001b[0m \u001b[0;34m=\u001b[0m \u001b[0m_refresh_cache\u001b[0m\u001b[0;34m(\u001b[0m\u001b[0;34m[\u001b[0m\u001b[0msamples_path\u001b[0m\u001b[0;34m,\u001b[0m \u001b[0msample_id_path\u001b[0m\u001b[0;34m]\u001b[0m\u001b[0;34m,\u001b[0m \u001b[0;36m9\u001b[0m\u001b[0;34m)\u001b[0m\u001b[0;34m\u001b[0m\u001b[0m\n\u001b[0m\u001b[1;32m    194\u001b[0m         \u001b[0;31m# TODO: Revert to the following two lines in v0.23\u001b[0m\u001b[0;34m\u001b[0m\u001b[0;34m\u001b[0m\u001b[0m\n\u001b[1;32m    195\u001b[0m         \u001b[0;31m# X = joblib.load(samples_path)\u001b[0m\u001b[0;34m\u001b[0m\u001b[0;34m\u001b[0m\u001b[0m\n",
      "\u001b[0;32m/home/fmena/.local/lib/python3.5/site-packages/sklearn/datasets/_base.py\u001b[0m in \u001b[0;36m_refresh_cache\u001b[0;34m(files, compress)\u001b[0m\n\u001b[1;32m    926\u001b[0m         \u001b[0;32mtry\u001b[0m\u001b[0;34m:\u001b[0m\u001b[0;34m\u001b[0m\u001b[0m\n\u001b[1;32m    927\u001b[0m             \u001b[0;32mfor\u001b[0m \u001b[0mvalue\u001b[0m\u001b[0;34m,\u001b[0m \u001b[0mpath\u001b[0m \u001b[0;32min\u001b[0m \u001b[0mzip\u001b[0m\u001b[0;34m(\u001b[0m\u001b[0mdata\u001b[0m\u001b[0;34m,\u001b[0m \u001b[0mfiles\u001b[0m\u001b[0;34m)\u001b[0m\u001b[0;34m:\u001b[0m\u001b[0;34m\u001b[0m\u001b[0m\n\u001b[0;32m--> 928\u001b[0;31m                 \u001b[0mjoblib\u001b[0m\u001b[0;34m.\u001b[0m\u001b[0mdump\u001b[0m\u001b[0;34m(\u001b[0m\u001b[0mvalue\u001b[0m\u001b[0;34m,\u001b[0m \u001b[0mpath\u001b[0m\u001b[0;34m,\u001b[0m \u001b[0mcompress\u001b[0m\u001b[0;34m=\u001b[0m\u001b[0mcompress\u001b[0m\u001b[0;34m)\u001b[0m\u001b[0;34m\u001b[0m\u001b[0m\n\u001b[0m\u001b[1;32m    929\u001b[0m         \u001b[0;32mexcept\u001b[0m \u001b[0mIOError\u001b[0m\u001b[0;34m:\u001b[0m\u001b[0;34m\u001b[0m\u001b[0m\n\u001b[1;32m    930\u001b[0m             message = (\"This dataset will stop being loadable in scikit-learn \"\n",
      "\u001b[0;32m/home/fmena/.local/lib/python3.5/site-packages/joblib/numpy_pickle.py\u001b[0m in \u001b[0;36mdump\u001b[0;34m(value, filename, compress, protocol, cache_size)\u001b[0m\n\u001b[1;32m    500\u001b[0m         with _write_fileobject(filename, compress=(compress_method,\n\u001b[1;32m    501\u001b[0m                                                    compress_level)) as f:\n\u001b[0;32m--> 502\u001b[0;31m             \u001b[0mNumpyPickler\u001b[0m\u001b[0;34m(\u001b[0m\u001b[0mf\u001b[0m\u001b[0;34m,\u001b[0m \u001b[0mprotocol\u001b[0m\u001b[0;34m=\u001b[0m\u001b[0mprotocol\u001b[0m\u001b[0;34m)\u001b[0m\u001b[0;34m.\u001b[0m\u001b[0mdump\u001b[0m\u001b[0;34m(\u001b[0m\u001b[0mvalue\u001b[0m\u001b[0;34m)\u001b[0m\u001b[0;34m\u001b[0m\u001b[0m\n\u001b[0m\u001b[1;32m    503\u001b[0m     \u001b[0;32melif\u001b[0m \u001b[0mis_filename\u001b[0m\u001b[0;34m:\u001b[0m\u001b[0;34m\u001b[0m\u001b[0m\n\u001b[1;32m    504\u001b[0m         \u001b[0;32mwith\u001b[0m \u001b[0mopen\u001b[0m\u001b[0;34m(\u001b[0m\u001b[0mfilename\u001b[0m\u001b[0;34m,\u001b[0m \u001b[0;34m'wb'\u001b[0m\u001b[0;34m)\u001b[0m \u001b[0;32mas\u001b[0m \u001b[0mf\u001b[0m\u001b[0;34m:\u001b[0m\u001b[0;34m\u001b[0m\u001b[0m\n",
      "\u001b[0;32m/home/fmena/anaconda3/envs/tesis/lib/python3.5/pickle.py\u001b[0m in \u001b[0;36mdump\u001b[0;34m(self, obj)\u001b[0m\n\u001b[1;32m    406\u001b[0m         \u001b[0;32mif\u001b[0m \u001b[0mself\u001b[0m\u001b[0;34m.\u001b[0m\u001b[0mproto\u001b[0m \u001b[0;34m>=\u001b[0m \u001b[0;36m4\u001b[0m\u001b[0;34m:\u001b[0m\u001b[0;34m\u001b[0m\u001b[0m\n\u001b[1;32m    407\u001b[0m             \u001b[0mself\u001b[0m\u001b[0;34m.\u001b[0m\u001b[0mframer\u001b[0m\u001b[0;34m.\u001b[0m\u001b[0mstart_framing\u001b[0m\u001b[0;34m(\u001b[0m\u001b[0;34m)\u001b[0m\u001b[0;34m\u001b[0m\u001b[0m\n\u001b[0;32m--> 408\u001b[0;31m         \u001b[0mself\u001b[0m\u001b[0;34m.\u001b[0m\u001b[0msave\u001b[0m\u001b[0;34m(\u001b[0m\u001b[0mobj\u001b[0m\u001b[0;34m)\u001b[0m\u001b[0;34m\u001b[0m\u001b[0m\n\u001b[0m\u001b[1;32m    409\u001b[0m         \u001b[0mself\u001b[0m\u001b[0;34m.\u001b[0m\u001b[0mwrite\u001b[0m\u001b[0;34m(\u001b[0m\u001b[0mSTOP\u001b[0m\u001b[0;34m)\u001b[0m\u001b[0;34m\u001b[0m\u001b[0m\n\u001b[1;32m    410\u001b[0m         \u001b[0mself\u001b[0m\u001b[0;34m.\u001b[0m\u001b[0mframer\u001b[0m\u001b[0;34m.\u001b[0m\u001b[0mend_framing\u001b[0m\u001b[0;34m(\u001b[0m\u001b[0;34m)\u001b[0m\u001b[0;34m\u001b[0m\u001b[0m\n",
      "\u001b[0;32m/home/fmena/.local/lib/python3.5/site-packages/joblib/numpy_pickle.py\u001b[0m in \u001b[0;36msave\u001b[0;34m(self, obj)\u001b[0m\n\u001b[1;32m    293\u001b[0m             \u001b[0;32mreturn\u001b[0m\u001b[0;34m\u001b[0m\u001b[0m\n\u001b[1;32m    294\u001b[0m \u001b[0;34m\u001b[0m\u001b[0m\n\u001b[0;32m--> 295\u001b[0;31m         \u001b[0;32mreturn\u001b[0m \u001b[0mPickler\u001b[0m\u001b[0;34m.\u001b[0m\u001b[0msave\u001b[0m\u001b[0;34m(\u001b[0m\u001b[0mself\u001b[0m\u001b[0;34m,\u001b[0m \u001b[0mobj\u001b[0m\u001b[0;34m)\u001b[0m\u001b[0;34m\u001b[0m\u001b[0m\n\u001b[0m\u001b[1;32m    296\u001b[0m \u001b[0;34m\u001b[0m\u001b[0m\n\u001b[1;32m    297\u001b[0m \u001b[0;34m\u001b[0m\u001b[0m\n",
      "\u001b[0;32m/home/fmena/anaconda3/envs/tesis/lib/python3.5/pickle.py\u001b[0m in \u001b[0;36msave\u001b[0;34m(self, obj, save_persistent_id)\u001b[0m\n\u001b[1;32m    518\u001b[0m \u001b[0;34m\u001b[0m\u001b[0m\n\u001b[1;32m    519\u001b[0m         \u001b[0;31m# Save the reduce() output and finally memoize the object\u001b[0m\u001b[0;34m\u001b[0m\u001b[0;34m\u001b[0m\u001b[0m\n\u001b[0;32m--> 520\u001b[0;31m         \u001b[0mself\u001b[0m\u001b[0;34m.\u001b[0m\u001b[0msave_reduce\u001b[0m\u001b[0;34m(\u001b[0m\u001b[0mobj\u001b[0m\u001b[0;34m=\u001b[0m\u001b[0mobj\u001b[0m\u001b[0;34m,\u001b[0m \u001b[0;34m*\u001b[0m\u001b[0mrv\u001b[0m\u001b[0;34m)\u001b[0m\u001b[0;34m\u001b[0m\u001b[0m\n\u001b[0m\u001b[1;32m    521\u001b[0m \u001b[0;34m\u001b[0m\u001b[0m\n\u001b[1;32m    522\u001b[0m     \u001b[0;32mdef\u001b[0m \u001b[0mpersistent_id\u001b[0m\u001b[0;34m(\u001b[0m\u001b[0mself\u001b[0m\u001b[0;34m,\u001b[0m \u001b[0mobj\u001b[0m\u001b[0;34m)\u001b[0m\u001b[0;34m:\u001b[0m\u001b[0;34m\u001b[0m\u001b[0m\n",
      "\u001b[0;32m/home/fmena/anaconda3/envs/tesis/lib/python3.5/pickle.py\u001b[0m in \u001b[0;36msave_reduce\u001b[0;34m(self, func, args, state, listitems, dictitems, obj)\u001b[0m\n\u001b[1;32m    625\u001b[0m \u001b[0;34m\u001b[0m\u001b[0m\n\u001b[1;32m    626\u001b[0m         \u001b[0;32mif\u001b[0m \u001b[0mstate\u001b[0m \u001b[0;32mis\u001b[0m \u001b[0;32mnot\u001b[0m \u001b[0;32mNone\u001b[0m\u001b[0;34m:\u001b[0m\u001b[0;34m\u001b[0m\u001b[0m\n\u001b[0;32m--> 627\u001b[0;31m             \u001b[0msave\u001b[0m\u001b[0;34m(\u001b[0m\u001b[0mstate\u001b[0m\u001b[0;34m)\u001b[0m\u001b[0;34m\u001b[0m\u001b[0m\n\u001b[0m\u001b[1;32m    628\u001b[0m             \u001b[0mwrite\u001b[0m\u001b[0;34m(\u001b[0m\u001b[0mBUILD\u001b[0m\u001b[0;34m)\u001b[0m\u001b[0;34m\u001b[0m\u001b[0m\n\u001b[1;32m    629\u001b[0m \u001b[0;34m\u001b[0m\u001b[0m\n",
      "\u001b[0;32m/home/fmena/.local/lib/python3.5/site-packages/joblib/numpy_pickle.py\u001b[0m in \u001b[0;36msave\u001b[0;34m(self, obj)\u001b[0m\n\u001b[1;32m    293\u001b[0m             \u001b[0;32mreturn\u001b[0m\u001b[0;34m\u001b[0m\u001b[0m\n\u001b[1;32m    294\u001b[0m \u001b[0;34m\u001b[0m\u001b[0m\n\u001b[0;32m--> 295\u001b[0;31m         \u001b[0;32mreturn\u001b[0m \u001b[0mPickler\u001b[0m\u001b[0;34m.\u001b[0m\u001b[0msave\u001b[0m\u001b[0;34m(\u001b[0m\u001b[0mself\u001b[0m\u001b[0;34m,\u001b[0m \u001b[0mobj\u001b[0m\u001b[0;34m)\u001b[0m\u001b[0;34m\u001b[0m\u001b[0m\n\u001b[0m\u001b[1;32m    296\u001b[0m \u001b[0;34m\u001b[0m\u001b[0m\n\u001b[1;32m    297\u001b[0m \u001b[0;34m\u001b[0m\u001b[0m\n",
      "\u001b[0;32m/home/fmena/anaconda3/envs/tesis/lib/python3.5/pickle.py\u001b[0m in \u001b[0;36msave\u001b[0;34m(self, obj, save_persistent_id)\u001b[0m\n\u001b[1;32m    473\u001b[0m         \u001b[0mf\u001b[0m \u001b[0;34m=\u001b[0m \u001b[0mself\u001b[0m\u001b[0;34m.\u001b[0m\u001b[0mdispatch\u001b[0m\u001b[0;34m.\u001b[0m\u001b[0mget\u001b[0m\u001b[0;34m(\u001b[0m\u001b[0mt\u001b[0m\u001b[0;34m)\u001b[0m\u001b[0;34m\u001b[0m\u001b[0m\n\u001b[1;32m    474\u001b[0m         \u001b[0;32mif\u001b[0m \u001b[0mf\u001b[0m \u001b[0;32mis\u001b[0m \u001b[0;32mnot\u001b[0m \u001b[0;32mNone\u001b[0m\u001b[0;34m:\u001b[0m\u001b[0;34m\u001b[0m\u001b[0m\n\u001b[0;32m--> 475\u001b[0;31m             \u001b[0mf\u001b[0m\u001b[0;34m(\u001b[0m\u001b[0mself\u001b[0m\u001b[0;34m,\u001b[0m \u001b[0mobj\u001b[0m\u001b[0;34m)\u001b[0m \u001b[0;31m# Call unbound method with explicit self\u001b[0m\u001b[0;34m\u001b[0m\u001b[0m\n\u001b[0m\u001b[1;32m    476\u001b[0m             \u001b[0;32mreturn\u001b[0m\u001b[0;34m\u001b[0m\u001b[0m\n\u001b[1;32m    477\u001b[0m \u001b[0;34m\u001b[0m\u001b[0m\n",
      "\u001b[0;32m/home/fmena/anaconda3/envs/tesis/lib/python3.5/pickle.py\u001b[0m in \u001b[0;36msave_dict\u001b[0;34m(self, obj)\u001b[0m\n\u001b[1;32m    812\u001b[0m \u001b[0;34m\u001b[0m\u001b[0m\n\u001b[1;32m    813\u001b[0m         \u001b[0mself\u001b[0m\u001b[0;34m.\u001b[0m\u001b[0mmemoize\u001b[0m\u001b[0;34m(\u001b[0m\u001b[0mobj\u001b[0m\u001b[0;34m)\u001b[0m\u001b[0;34m\u001b[0m\u001b[0m\n\u001b[0;32m--> 814\u001b[0;31m         \u001b[0mself\u001b[0m\u001b[0;34m.\u001b[0m\u001b[0m_batch_setitems\u001b[0m\u001b[0;34m(\u001b[0m\u001b[0mobj\u001b[0m\u001b[0;34m.\u001b[0m\u001b[0mitems\u001b[0m\u001b[0;34m(\u001b[0m\u001b[0;34m)\u001b[0m\u001b[0;34m)\u001b[0m\u001b[0;34m\u001b[0m\u001b[0m\n\u001b[0m\u001b[1;32m    815\u001b[0m \u001b[0;34m\u001b[0m\u001b[0m\n\u001b[1;32m    816\u001b[0m     \u001b[0mdispatch\u001b[0m\u001b[0;34m[\u001b[0m\u001b[0mdict\u001b[0m\u001b[0;34m]\u001b[0m \u001b[0;34m=\u001b[0m \u001b[0msave_dict\u001b[0m\u001b[0;34m\u001b[0m\u001b[0m\n",
      "\u001b[0;32m/home/fmena/anaconda3/envs/tesis/lib/python3.5/pickle.py\u001b[0m in \u001b[0;36m_batch_setitems\u001b[0;34m(self, items)\u001b[0m\n\u001b[1;32m    838\u001b[0m                 \u001b[0;32mfor\u001b[0m \u001b[0mk\u001b[0m\u001b[0;34m,\u001b[0m \u001b[0mv\u001b[0m \u001b[0;32min\u001b[0m \u001b[0mtmp\u001b[0m\u001b[0;34m:\u001b[0m\u001b[0;34m\u001b[0m\u001b[0m\n\u001b[1;32m    839\u001b[0m                     \u001b[0msave\u001b[0m\u001b[0;34m(\u001b[0m\u001b[0mk\u001b[0m\u001b[0;34m)\u001b[0m\u001b[0;34m\u001b[0m\u001b[0m\n\u001b[0;32m--> 840\u001b[0;31m                     \u001b[0msave\u001b[0m\u001b[0;34m(\u001b[0m\u001b[0mv\u001b[0m\u001b[0;34m)\u001b[0m\u001b[0;34m\u001b[0m\u001b[0m\n\u001b[0m\u001b[1;32m    841\u001b[0m                 \u001b[0mwrite\u001b[0m\u001b[0;34m(\u001b[0m\u001b[0mSETITEMS\u001b[0m\u001b[0;34m)\u001b[0m\u001b[0;34m\u001b[0m\u001b[0m\n\u001b[1;32m    842\u001b[0m             \u001b[0;32melif\u001b[0m \u001b[0mn\u001b[0m\u001b[0;34m:\u001b[0m\u001b[0;34m\u001b[0m\u001b[0m\n",
      "\u001b[0;32m/home/fmena/.local/lib/python3.5/site-packages/joblib/numpy_pickle.py\u001b[0m in \u001b[0;36msave\u001b[0;34m(self, obj)\u001b[0m\n\u001b[1;32m    290\u001b[0m \u001b[0;34m\u001b[0m\u001b[0m\n\u001b[1;32m    291\u001b[0m             \u001b[0;31m# And then array bytes are written right after the wrapper.\u001b[0m\u001b[0;34m\u001b[0m\u001b[0;34m\u001b[0m\u001b[0m\n\u001b[0;32m--> 292\u001b[0;31m             \u001b[0mwrapper\u001b[0m\u001b[0;34m.\u001b[0m\u001b[0mwrite_array\u001b[0m\u001b[0;34m(\u001b[0m\u001b[0mobj\u001b[0m\u001b[0;34m,\u001b[0m \u001b[0mself\u001b[0m\u001b[0;34m)\u001b[0m\u001b[0;34m\u001b[0m\u001b[0m\n\u001b[0m\u001b[1;32m    293\u001b[0m             \u001b[0;32mreturn\u001b[0m\u001b[0;34m\u001b[0m\u001b[0m\n\u001b[1;32m    294\u001b[0m \u001b[0;34m\u001b[0m\u001b[0m\n",
      "\u001b[0;32m/home/fmena/.local/lib/python3.5/site-packages/joblib/numpy_pickle.py\u001b[0m in \u001b[0;36mwrite_array\u001b[0;34m(self, array, pickler)\u001b[0m\n\u001b[1;32m    102\u001b[0m                                            \u001b[0mbuffersize\u001b[0m\u001b[0;34m=\u001b[0m\u001b[0mbuffersize\u001b[0m\u001b[0;34m,\u001b[0m\u001b[0;34m\u001b[0m\u001b[0m\n\u001b[1;32m    103\u001b[0m                                            order=self.order):\n\u001b[0;32m--> 104\u001b[0;31m                 \u001b[0mpickler\u001b[0m\u001b[0;34m.\u001b[0m\u001b[0mfile_handle\u001b[0m\u001b[0;34m.\u001b[0m\u001b[0mwrite\u001b[0m\u001b[0;34m(\u001b[0m\u001b[0mchunk\u001b[0m\u001b[0;34m.\u001b[0m\u001b[0mtostring\u001b[0m\u001b[0;34m(\u001b[0m\u001b[0;34m'C'\u001b[0m\u001b[0;34m)\u001b[0m\u001b[0;34m)\u001b[0m\u001b[0;34m\u001b[0m\u001b[0m\n\u001b[0m\u001b[1;32m    105\u001b[0m \u001b[0;34m\u001b[0m\u001b[0m\n\u001b[1;32m    106\u001b[0m     \u001b[0;32mdef\u001b[0m \u001b[0mread_array\u001b[0m\u001b[0;34m(\u001b[0m\u001b[0mself\u001b[0m\u001b[0;34m,\u001b[0m \u001b[0munpickler\u001b[0m\u001b[0;34m)\u001b[0m\u001b[0;34m:\u001b[0m\u001b[0;34m\u001b[0m\u001b[0m\n",
      "\u001b[0;32m/home/fmena/.local/lib/python3.5/site-packages/joblib/compressor.py\u001b[0m in \u001b[0;36mwrite\u001b[0;34m(self, data)\u001b[0m\n\u001b[1;32m    506\u001b[0m                 \u001b[0mdata\u001b[0m \u001b[0;34m=\u001b[0m \u001b[0mdata\u001b[0m\u001b[0;34m.\u001b[0m\u001b[0mtobytes\u001b[0m\u001b[0;34m(\u001b[0m\u001b[0;34m)\u001b[0m\u001b[0;34m\u001b[0m\u001b[0m\n\u001b[1;32m    507\u001b[0m \u001b[0;34m\u001b[0m\u001b[0m\n\u001b[0;32m--> 508\u001b[0;31m             \u001b[0mcompressed\u001b[0m \u001b[0;34m=\u001b[0m \u001b[0mself\u001b[0m\u001b[0;34m.\u001b[0m\u001b[0m_compressor\u001b[0m\u001b[0;34m.\u001b[0m\u001b[0mcompress\u001b[0m\u001b[0;34m(\u001b[0m\u001b[0mdata\u001b[0m\u001b[0;34m)\u001b[0m\u001b[0;34m\u001b[0m\u001b[0m\n\u001b[0m\u001b[1;32m    509\u001b[0m             \u001b[0mself\u001b[0m\u001b[0;34m.\u001b[0m\u001b[0m_fp\u001b[0m\u001b[0;34m.\u001b[0m\u001b[0mwrite\u001b[0m\u001b[0;34m(\u001b[0m\u001b[0mcompressed\u001b[0m\u001b[0;34m)\u001b[0m\u001b[0;34m\u001b[0m\u001b[0m\n\u001b[1;32m    510\u001b[0m             \u001b[0mself\u001b[0m\u001b[0;34m.\u001b[0m\u001b[0m_pos\u001b[0m \u001b[0;34m+=\u001b[0m \u001b[0mlen\u001b[0m\u001b[0;34m(\u001b[0m\u001b[0mdata\u001b[0m\u001b[0;34m)\u001b[0m\u001b[0;34m\u001b[0m\u001b[0m\n",
      "\u001b[0;31mKeyboardInterrupt\u001b[0m: "
     ]
    }
   ],
   "source": [
    "dat_n = \"RCV1\"\n",
    "\n",
    "from sklearn.datasets import fetch_rcv1\n",
    "rcv1_train = fetch_rcv1(subset='train')\n",
    "rcv1_test = fetch_rcv1(subset='test')\n",
    "X_t = rcv1_train.data\n",
    "y_t = rcv1_train.target\n",
    "X_test = rcv1_test.data\n",
    "y_test = rcv1_test.target\n",
    "labels = rcv1_train.target_names\n",
    "\n",
    "del rcv1_train,rcv1_test\n",
    "X_train"
   ]
  },
  {
   "cell_type": "code",
   "execution_count": null,
   "metadata": {
    "collapsed": true
   },
   "outputs": [],
   "source": [
    "X_t = np.concatenate((X_t,X_test),axis=0)\n",
    "labels_t = np.concatenate((X_t,X_test),axis=0) #labels\n"
   ]
  },
  {
   "cell_type": "code",
   "execution_count": null,
   "metadata": {
    "collapsed": true
   },
   "outputs": [],
   "source": [
    "from sklearn.model_selection import train_test_split\n",
    "labels_t = np.asarray(labels_t)\n",
    "X_t,X_test,labels_t,labels_test  = train_test_split(X_t,labels_t,random_state=20,test_size=0.1)\n",
    "\n",
    "X_train,X_val,labels_train,labels_val  = train_test_split(X_t,labels_t,random_state=20,test_size=0.1)\n",
    "\n",
    "del X_t, labels_t\n",
    "gc.collect()\n",
    "\n",
    "print(\"Vocabulario size = \",X_train.shape[1])\n",
    "print(\"Cantidad de datos Entrenamiento: \",len(labels_train))\n",
    "print(\"Cantidad de datos Validación: \",len(labels_val))\n",
    "print(\"Cantidad de datos Pruebas: \",len(labels_test))"
   ]
  },
  {
   "cell_type": "markdown",
   "metadata": {},
   "source": [
    "### TMC\n",
    "---\n",
    "textos relacionados con reportes aeros de tráfico provistos por la NASA y usados en la competencia de text mining SIAM. Cada texto tiene 22 etiquetas no exlucenyetes.\n",
    "\n",
    "\n",
    "|Tipo set|Datos|Label|\n",
    "|---|---|---|\n",
    "|Entrenamiento|21,519|22|\n",
    "|Validación|3,498|22|\n",
    "|Pruebas|3,498|22|"
   ]
  },
  {
   "cell_type": "code",
   "execution_count": 48,
   "metadata": {},
   "outputs": [],
   "source": [
    "dat_n = \"TMC\"\n",
    "\n",
    "labels = ['a','b','c','d','e','f','e','g','h','i','j','k','l','m','n','o','p','q','r','s','t','u']"
   ]
  },
  {
   "cell_type": "markdown",
   "metadata": {},
   "source": [
    "### Validation creation"
   ]
  },
  {
   "cell_type": "code",
   "execution_count": 88,
   "metadata": {},
   "outputs": [
    {
     "name": "stdout",
     "output_type": "stream",
     "text": [
      "Cantidad de datos Entrenamiento:  9054\n",
      "Cantidad de datos Validación:  1006\n",
      "Cantidad de datos Pruebas:  2280\n"
     ]
    }
   ],
   "source": [
    "from sklearn.model_selection import train_test_split\n",
    "labels_t = np.asarray(labels_t)\n",
    "labels_test = np.asarray(labels_test)\n",
    "texts_train,texts_val,labels_train,labels_val  = train_test_split(texts_t,labels_t,random_state=20,test_size=0.1)\n",
    "\n",
    "print(\"Cantidad de datos Entrenamiento: \",len(texts_train))\n",
    "print(\"Cantidad de datos Validación: \",len(texts_val))\n",
    "print(\"Cantidad de datos Pruebas: \",len(texts_test))"
   ]
  },
  {
   "cell_type": "code",
   "execution_count": null,
   "metadata": {
    "collapsed": true
   },
   "outputs": [],
   "source": [
    "X_train_input = X_train\n",
    "X_val_input = X_val\n",
    "X_test_input = X_test"
   ]
  },
  {
   "cell_type": "markdown",
   "metadata": {},
   "source": [
    "## Pre-process\n",
    "---\n",
    "Para obtener la representación de los datos, en primer lugar se normalizan con experimentar dos tipos de pre-procesamiento:\n",
    "\n",
    "1. El primero es el siguiente (Basado en Deep Semantic Hashing)\n",
    "    * Pasar letras a minúsculas\n",
    "    * Eliminar extra espacios (saltos de línea por ejemplo)\n",
    "    * Remover stop words\n",
    "    * Borrar todo lo que no sea letras (eliminar números y puntuaciones)\n",
    "    * Conservar las top $k$ palabras/*tokens* más frecuentes\n",
    "2. El segundo añade lo siguiente (Basado en Semantic Hashing)\n",
    "    * Se realiza un *stemming* (Snowball) -- Lemmatization\n",
    "    * Remover palabras de menos de 3 largo\n",
    "\n",
    "\n",
    "Para la representación vectorial se utiliza lo siguiente:\n",
    "* TF-IDF: \n",
    "$$ w_f(d) \\cdot \\left(1 + log\\left( \\frac{1+n_d}{1+df_w} \\right) \\right)$$\n",
    "* **TF (*term frequency*)**: $$ w_f(d) $$\n",
    "* Binary: $$I(w_f(d) \\neq 0)$$\n",
    "\n",
    "La representación *term frequency* es la que se toma como base, puesto que resulta natural al momento de reconstruir el dato y poder utilizar la función de pérdida *cross entropy*. Ya que para la representación *tf-idf* requeriría una función de pérdida adecuada para variable continua, que podría ser *mse*."
   ]
  },
  {
   "cell_type": "code",
   "execution_count": 89,
   "metadata": {
    "scrolled": true
   },
   "outputs": [
    {
     "name": "stderr",
     "output_type": "stream",
     "text": [
      "/home/casapanshop/anaconda2/envs/newpy3_tf1/lib/python3.6/site-packages/sklearn/feature_extraction/text.py:507: UserWarning: The parameter 'token_pattern' will not be used since 'tokenizer' is not None'\n",
      "  warnings.warn(\"The parameter 'token_pattern' will not be used\"\n"
     ]
    },
    {
     "name": "stdout",
     "output_type": "stream",
     "text": [
      "CPU times: user 1.71 s, sys: 3.49 ms, total: 1.71 s\n",
      "Wall time: 2.34 s\n"
     ]
    },
    {
     "name": "stderr",
     "output_type": "stream",
     "text": [
      "/home/casapanshop/anaconda2/envs/newpy3_tf1/lib/python3.6/site-packages/sklearn/feature_extraction/text.py:507: UserWarning: The parameter 'token_pattern' will not be used since 'tokenizer' is not None'\n",
      "  warnings.warn(\"The parameter 'token_pattern' will not be used\"\n"
     ]
    },
    {
     "name": "stdout",
     "output_type": "stream",
     "text": [
      "CPU times: user 1.61 s, sys: 7.3 ms, total: 1.62 s\n",
      "Wall time: 1.69 s\n"
     ]
    },
    {
     "data": {
      "text/plain": [
       "(9054, 10000)"
      ]
     },
     "execution_count": 89,
     "metadata": {},
     "output_type": "execute_result"
    }
   ],
   "source": [
    "from sklearn.feature_extraction.text import TfidfVectorizer\n",
    "from nltk.stem.snowball import SnowballStemmer\n",
    "from nltk.stem import WordNetLemmatizer \n",
    "#analyzer = TfidfVectorizer(ngram_range=(1, 3)).build_analyzer()\n",
    "tokenizer = TfidfVectorizer().build_tokenizer()\n",
    "stemmer = SnowballStemmer(\"english\") \n",
    "lemmatizer = WordNetLemmatizer()\n",
    "\n",
    "\"\"\"Extract features from raw input\"\"\"\n",
    "def preProcess(s): #String processor\n",
    "    return s.lower().strip().strip('-').strip('_')\n",
    "def number_normalize(doc):\n",
    "    results = []\n",
    "    for token in tokenizer(doc):\n",
    "        token_pro = preProcess(token)\n",
    "        if len(token_pro) != 0 and not token_pro[0].isdigit():\n",
    "            results.append(token_pro)\n",
    "    return results\n",
    "def stemmed_words(doc):\n",
    "    results = []\n",
    "    for token in tokenizer(doc):\n",
    "        pre_pro = preProcess(token)\n",
    "        #token_pro = stemmer.stem(pre_pro) #aumenta x10 el tiempo de procesamiento\n",
    "        token_pro = lemmatizer.lemmatize(pre_pro) #so can explain/interpretae -- aumenta x5 el tiempo de proce\n",
    "        if len(token_pro) > 2 and not token_pro[0].isdigit(): #elimina palabra largo menor a 2\n",
    "            results.append(token_pro)\n",
    "    return results\n",
    "\n",
    "def get_transform_representation(mode, analizer,min_count,max_feat):\n",
    "    smooth_idf_b = False\n",
    "    use_idf_b = False\n",
    "    binary_b = False\n",
    "\n",
    "    if mode == 'binary':\n",
    "        binary_b = True\n",
    "    elif mode == 'tf':     \n",
    "        pass #default is tf\n",
    "    elif mode == 'tf-idf':\n",
    "        use_idf_b = True\n",
    "        smooth_idf_b = True #inventa 1 conteo imaginario (como priors)--laplace smoothing\n",
    "    return TfidfVectorizer(stop_words='english',tokenizer=analizer,min_df=min_count, max_df=0.8, max_features=max_feat\n",
    "                                ,binary=binary_b, use_idf=use_idf_b, smooth_idf=smooth_idf_b,norm=None\n",
    "                                  ,ngram_range=(1, 3)) \n",
    "\n",
    "min_count = 1 #default = 1\n",
    "max_feat = 10000 #Best: 10000 -- Hinton (2000)\n",
    "\n",
    "\n",
    "vectorizer = get_transform_representation(\"tf\", stemmed_words,min_count,max_feat)\n",
    "\n",
    "%time vectorizer.fit(texts_train)\n",
    "vectors_train = vectorizer.transform(texts_train)\n",
    "vectors_val = vectorizer.transform(texts_val)\n",
    "vectors_test = vectorizer.transform(texts_test)\n",
    "\n",
    "#vectorizer2 = get_transform_representation(\"tf-idf\", stemmed_words,min_count,max_feat)\n",
    "\n",
    "#%time vectorizer2.fit(texts_train)\n",
    "#vectors_train2 = vectorizer2.transform(texts_train)\n",
    "#vectors_val2 = vectorizer2.transform(texts_val)\n",
    "#vectors_test2 = vectorizer2.transform(texts_test)\n",
    "vectors_train.shape"
   ]
  },
  {
   "cell_type": "markdown",
   "metadata": {},
   "source": [
    "En la celda anterior se calculan dos representaciones deseables de los datos, *term frequency* y *tf-idf*. A continuación se muestra cómo quedó el vocabulario."
   ]
  },
  {
   "cell_type": "code",
   "execution_count": 90,
   "metadata": {
    "scrolled": true
   },
   "outputs": [
    {
     "data": {
      "text/plain": [
       "{9537: 'vitamin',\n",
       " 6242: 'nutritional',\n",
       " 8693: 'supplement',\n",
       " 4006: 'health',\n",
       " 625: 'authoritative',\n",
       " 4509: 'information',\n",
       " 2138: 'custom',\n",
       " 9540: 'vitamin nutritional',\n",
       " 6244: 'nutritional supplement',\n",
       " 4032: 'health information',\n",
       " 9541: 'vitamin nutritional supplement',\n",
       " 3289: 'film',\n",
       " 79: 'actor',\n",
       " 8924: 'theatre',\n",
       " 5772: 'movie',\n",
       " 8179: 'simon',\n",
       " 3290: 'film actor',\n",
       " 5773: 'movie actor',\n",
       " 3298: 'film movie',\n",
       " 80: 'actor actor',\n",
       " 82: 'actor film',\n",
       " 83: 'actor movie',\n",
       " 5774: 'movie actor actor',\n",
       " 84: 'actor movie actor',\n",
       " 8428: 'sport',\n",
       " 1482: 'clubsport',\n",
       " 7486: 'renaissance',\n",
       " 575: 'athletic',\n",
       " 7577: 'resort',\n",
       " 8558: 'step',\n",
       " 9857: 'world',\n",
       " 1431: 'class',\n",
       " 3371: 'fitness',\n",
       " 9860: 'world class',\n",
       " 6632: 'patent',\n",
       " 7982: 'search',\n",
       " 4147: 'historical',\n",
       " 7526: 'research',\n",
       " 7006: 'pre',\n",
       " 7999: 'searchable',\n",
       " 1444: 'classification',\n",
       " 6635: 'patent search',\n",
       " 2432: 'diesel',\n",
       " 3619: 'gas',\n",
       " 9206: 'turbine',\n",
       " 7281: 'publication',\n",
       " 2969: 'engine',\n",
       " 7120: 'product',\n",
       " 8835: 'technology',\n",
       " 4478: 'industry',\n",
       " 6012: 'news',\n",
       " 5364: 'market',\n",
       " 6997: 'power',\n",
       " 3621: 'gas turbine',\n",
       " 9207: 'turbine engine',\n",
       " 8838: 'technology industry',\n",
       " 4481: 'industry news',\n",
       " 6051: 'news market',\n",
       " 4857: 'jazz',\n",
       " 5858: 'music',\n",
       " 1474: 'club',\n",
       " 2075: 'culture',\n",
       " 5733: 'monthly',\n",
       " 1571: 'column',\n",
       " 1329: 'chat',\n",
       " 3481: 'forum',\n",
       " 948: 'browsable',\n",
       " 437: 'archive',\n",
       " 526: 'artist',\n",
       " 7153: 'profile',\n",
       " 6741: 'photo',\n",
       " 3260: 'festival',\n",
       " 7624: 'review',\n",
       " 4724: 'interview',\n",
       " 4858: 'jazz jazz',\n",
       " 4860: 'jazz music',\n",
       " 528: 'artist profile',\n",
       " 6072: 'news review',\n",
       " 9026: 'timeline',\n",
       " 9632: 'web',\n",
       " 3924: 'guide',\n",
       " 4559: 'informative',\n",
       " 9029: 'timely',\n",
       " 3544: 'fun',\n",
       " 3185: 'fan',\n",
       " 6396: 'opportunity',\n",
       " 3158: 'express',\n",
       " 4859: 'jazz jazz jazz',\n",
       " 7923: 'sciencedaily',\n",
       " 7469: 'release',\n",
       " 8635: 'study',\n",
       " 7093: 'pro',\n",
       " 8258: 'soccer',\n",
       " 6866: 'player',\n",
       " 4574: 'injury',\n",
       " 57: 'account',\n",
       " 5237: 'lost',\n",
       " 6873: 'playing',\n",
       " 5667: 'minute',\n",
       " 7159: 'program',\n",
       " 7927: 'sciencedaily release',\n",
       " 7471: 'release sciencedaily',\n",
       " 8261: 'soccer player',\n",
       " 7928: 'sciencedaily release sciencedaily',\n",
       " 68: 'acm',\n",
       " 4982: 'knowledge',\n",
       " 2533: 'discovery',\n",
       " 2178: 'data',\n",
       " 116: 'advancement',\n",
       " 111: 'adoption',\n",
       " 7864: 'science',\n",
       " 5659: 'mining',\n",
       " 3229: 'feature',\n",
       " 6481: 'overview',\n",
       " 78: 'activity',\n",
       " 5549: 'membership',\n",
       " 4984: 'knowledge discovery',\n",
       " 2536: 'discovery data',\n",
       " 2185: 'data mining',\n",
       " 5550: 'membership information',\n",
       " 4985: 'knowledge discovery data',\n",
       " 2537: 'discovery data mining',\n",
       " 4211: 'homepage',\n",
       " 2813: 'edu',\n",
       " 3142: 'exploratory',\n",
       " 7099: 'procedure',\n",
       " 8902: 'test',\n",
       " 8350: 'sort',\n",
       " 7244: 'proxy',\n",
       " 4321: 'idea',\n",
       " 7639: 'revised',\n",
       " 3143: 'exploratory research',\n",
       " 7535: 'research exploratory',\n",
       " 3144: 'exploratory research exploratory',\n",
       " 7536: 'research exploratory research',\n",
       " 3574: 'game',\n",
       " 6326: 'online',\n",
       " 8214: 'ski',\n",
       " 4932: 'jumping',\n",
       " 1904: 'contact',\n",
       " 9939: 'xml',\n",
       " 3595: 'game online',\n",
       " 8216: 'ski jumping',\n",
       " 4923: 'jstor',\n",
       " 4903: 'journal',\n",
       " 2769: 'ecology',\n",
       " 2009: 'coverage',\n",
       " 7287: 'publisher',\n",
       " 2768: 'ecological',\n",
       " 8289: 'society',\n",
       " 281: 'america',\n",
       " 4924: 'jstor journal',\n",
       " 4910: 'journal jstor',\n",
       " 2771: 'ecology ecology',\n",
       " 4907: 'journal information',\n",
       " 8290: 'society america',\n",
       " 4925: 'jstor journal jstor',\n",
       " 4150: 'history',\n",
       " 282: 'american',\n",
       " 8758: 'table',\n",
       " 2716: 'dvd',\n",
       " 2634: 'documentary',\n",
       " 6630: 'passion',\n",
       " 4151: 'history american',\n",
       " 2718: 'dvd movie',\n",
       " 9703: 'welcome',\n",
       " 1422: 'city',\n",
       " 7510: 'republic',\n",
       " 3824: 'government',\n",
       " 1294: 'chamber',\n",
       " 1679: 'commerce',\n",
       " 1709: 'community',\n",
       " 1295: 'chamber commerce',\n",
       " 9751: 'wikipedia',\n",
       " 9739: 'wiki',\n",
       " 8308: 'software',\n",
       " 1763: 'computer',\n",
       " 2948: 'encyclopedia',\n",
       " 1885: 'consisting',\n",
       " 8786: 'task',\n",
       " 6779: 'physical',\n",
       " 1741: 'component',\n",
       " 3972: 'hardware',\n",
       " 9773: 'wikipedia wiki',\n",
       " 8310: 'software computer',\n",
       " 1812: 'computer software',\n",
       " 9752: 'wikipedia encyclopedia',\n",
       " 2951: 'encyclopedia computer',\n",
       " 7160: 'program computer',\n",
       " 9790: 'wikipedia wiki software',\n",
       " 9755: 'wikipedia encyclopedia computer',\n",
       " 1002: 'business',\n",
       " 2216: 'debt',\n",
       " 1573: 'com',\n",
       " 1015: 'business debt',\n",
       " 2217: 'debt business',\n",
       " 1024: 'business information',\n",
       " 4514: 'information business',\n",
       " 1583: 'com business',\n",
       " 1016: 'business debt business',\n",
       " 765: 'bellaonline',\n",
       " 2746: 'eastern',\n",
       " 4094: 'help',\n",
       " 7655: 'rich',\n",
       " 2745: 'east',\n",
       " 5008: 'language',\n",
       " 7477: 'religion',\n",
       " 2747: 'eastern culture',\n",
       " 5925: 'nationalgeographic',\n",
       " 3871: 'grant',\n",
       " 397: 'application',\n",
       " 5902: 'national',\n",
       " 3673: 'geographic',\n",
       " 406: 'apply',\n",
       " 3139: 'exploration',\n",
       " 3555: 'funding',\n",
       " 3146: 'explorer',\n",
       " 7541: 'research grant',\n",
       " 3872: 'grant application',\n",
       " 5910: 'national geographic',\n",
       " 4535: 'information national',\n",
       " 3557: 'funding research',\n",
       " 6006: 'neuroscience',\n",
       " 945: 'brown',\n",
       " 2330: 'department',\n",
       " 9321: 'university',\n",
       " 9271: 'undergraduate',\n",
       " 6990: 'postgraduate',\n",
       " 5849: 'multidisciplinary',\n",
       " 946: 'brown edu',\n",
       " 2825: 'edu department',\n",
       " 947: 'brown edu department',\n",
       " 5030: 'law',\n",
       " 4190: 'home',\n",
       " 6501: 'page',\n",
       " 5707: 'modern',\n",
       " 9602: 'warfare',\n",
       " 4201: 'home page',\n",
       " 2911: 'electronics',\n",
       " 4252: 'howstuffworks',\n",
       " 1305: 'channel',\n",
       " 3138: 'explanation',\n",
       " 6395: 'opinion',\n",
       " 7057: 'price',\n",
       " 4780: 'ipod',\n",
       " 8921: 'theater',\n",
       " 3570: 'gadget',\n",
       " 4206: 'home theater',\n",
       " 5510: 'mediamond',\n",
       " 2287: 'deluxe',\n",
       " 4929: 'jump',\n",
       " 2394: 'developer',\n",
       " 8215: 'ski jump',\n",
       " 1881: 'conservative',\n",
       " 6607: 'party',\n",
       " 1108: 'canada',\n",
       " 1109: 'canadian',\n",
       " 6912: 'political',\n",
       " 5076: 'led',\n",
       " 8562: 'stephen',\n",
       " 1882: 'conservative party',\n",
       " 6610: 'party canada',\n",
       " 6044: 'news information',\n",
       " 6929: 'political party',\n",
       " 6619: 'party led',\n",
       " 1883: 'conservative party canada',\n",
       " 637: 'automation',\n",
       " 332: 'ancient',\n",
       " 3891: 'greek',\n",
       " 8039: 'self',\n",
       " 4475: 'industrial',\n",
       " 6222: 'numerical',\n",
       " 1925: 'control',\n",
       " 337: 'ancient greek',\n",
       " 1490: 'cmu',\n",
       " 7578: 'resource',\n",
       " 7179: 'programming',\n",
       " 1533: 'collection',\n",
       " 8959: 'theory',\n",
       " 2372: 'design',\n",
       " 4388: 'implementation',\n",
       " 1491: 'cmu edu',\n",
       " 7562: 'research resource',\n",
       " 7185: 'programming language',\n",
       " 1535: 'collection information',\n",
       " 4543: 'information resource',\n",
       " 7594: 'resource research',\n",
       " 2377: 'design implementation',\n",
       " 833: 'blogspot',\n",
       " 7361: 'quarterfinal',\n",
       " 5431: 'match',\n",
       " 2680: 'draw',\n",
       " 7363: 'quarterfinal match',\n",
       " 3600: 'game quarterfinal',\n",
       " 6963: 'popsci',\n",
       " 4748: 'invention',\n",
       " 653: 'award',\n",
       " 917: 'brick',\n",
       " 5542: 'meeting',\n",
       " 3239: 'federal',\n",
       " 7760: 'safety',\n",
       " 8501: 'standard',\n",
       " 5193: 'liu',\n",
       " 3489: 'foundation',\n",
       " 5919: 'national science',\n",
       " 7892: 'science foundation',\n",
       " 5920: 'national science foundation',\n",
       " 4065: 'healthy',\n",
       " 3407: 'food',\n",
       " 1052: 'buy',\n",
       " 2753: 'eat',\n",
       " 3529: 'fresh',\n",
       " 4067: 'healthy food',\n",
       " 3411: 'food healthy',\n",
       " 4068: 'healthy food healthy',\n",
       " 5617: 'microsoft',\n",
       " 3399: 'focus',\n",
       " 8539: 'statistical',\n",
       " 6764: 'physic',\n",
       " 410: 'approach',\n",
       " 7097: 'probability',\n",
       " 8938: 'theoretical',\n",
       " 7552: 'research microsoft',\n",
       " 8969: 'theory theory',\n",
       " 1806: 'computer science',\n",
       " 8481: 'springerlink',\n",
       " 5152: 'link',\n",
       " 1760: 'computational',\n",
       " 5504: 'mechanic',\n",
       " 8483: 'springerlink link',\n",
       " 5631: 'mil',\n",
       " 8592: 'story',\n",
       " 4872: 'jet',\n",
       " 3538: 'fuel',\n",
       " 176: 'air',\n",
       " 3446: 'force',\n",
       " 56: 'accomplished',\n",
       " 648: 'aviation',\n",
       " 8066: 'sept',\n",
       " 3391: 'flight',\n",
       " 7747: 'running',\n",
       " 6088: 'news story',\n",
       " 4875: 'jet engine',\n",
       " 2973: 'engine fuel',\n",
       " 177: 'air force',\n",
       " 4224: 'horror',\n",
       " 1313: 'character',\n",
       " 4225: 'horror movie',\n",
       " 5782: 'movie character',\n",
       " 992: 'bungie',\n",
       " 8634: 'studio',\n",
       " 9448: 'vehicle',\n",
       " 5994: 'net',\n",
       " 4693: 'internet',\n",
       " 3959: 'halo',\n",
       " 5890: 'myth',\n",
       " 5353: 'marathon',\n",
       " 4498: 'info',\n",
       " 8599: 'straight',\n",
       " 4702: 'internet home',\n",
       " 73: 'action',\n",
       " 2621: 'doctor',\n",
       " 2412: 'diagnosis',\n",
       " 4354: 'illness',\n",
       " 4100: 'helpful',\n",
       " 8059: 'senior',\n",
       " 1420: 'citizen',\n",
       " 131: 'advice',\n",
       " 2622: 'doctor diagnosis',\n",
       " 132: 'advice information',\n",
       " 5484: 'maxwell',\n",
       " 6679: 'perfect',\n",
       " 8477: 'spot',\n",
       " 9379: 'urban',\n",
       " 7141: 'professional',\n",
       " 8193: 'single',\n",
       " 1988: 'couple',\n",
       " 3531: 'friend',\n",
       " 556: 'associate',\n",
       " 4996: 'labor',\n",
       " 1162: 'career',\n",
       " 3177: 'fair',\n",
       " 71: 'act',\n",
       " 3353: 'findlaw',\n",
       " 2941: 'employment',\n",
       " 5039: 'lawyer',\n",
       " 557: 'association',\n",
       " 4627: 'insurance',\n",
       " 1509: 'code',\n",
       " 1166: 'career resource',\n",
       " 7589: 'resource link',\n",
       " 8727: 'switch',\n",
       " 8060: 'sensor',\n",
       " 4962: 'keyboard',\n",
       " 640: 'automotive',\n",
       " 5710: 'module',\n",
       " 2904: 'electrical',\n",
       " 6180: 'north',\n",
       " 2906: 'electrical product',\n",
       " 6181: 'north america',\n",
       " 1515: 'cog',\n",
       " 9908: 'writing',\n",
       " 8986: 'thesis',\n",
       " 5654: 'miniature',\n",
       " 3615: 'garden',\n",
       " 5283: 'magic',\n",
       " 27: 'academic',\n",
       " 3174: 'faculty',\n",
       " 6595: 'partial',\n",
       " 7525: 'requirement',\n",
       " 2259: 'degree',\n",
       " 5423: 'master',\n",
       " 2262: 'degree master',\n",
       " 7895: 'science information',\n",
       " 3782: 'gov',\n",
       " 6200: 'nouveau',\n",
       " 8155: 'shtm',\n",
       " 331: 'anatomy',\n",
       " 3126: 'exhibition',\n",
       " 472: 'art',\n",
       " 7805: 'scene',\n",
       " 6844: 'planning',\n",
       " 1895: 'construction',\n",
       " 3572: 'gallery',\n",
       " 3573: 'gallery art',\n",
       " 5444: 'materialism',\n",
       " 2632: 'doctrine',\n",
       " 6727: 'philosophy',\n",
       " 4653: 'intellectual',\n",
       " 8423: 'spiritual',\n",
       " 5445: 'materialism materialism',\n",
       " 5446: 'materialism materialism materialism',\n",
       " 5717: 'money',\n",
       " 1496: 'cnn',\n",
       " 2663: 'dow',\n",
       " 5898: 'nasdaq',\n",
       " 8568: 'stock',\n",
       " 1500: 'cnnmoney',\n",
       " 3339: 'financial',\n",
       " 907: 'breaking',\n",
       " 320: 'analysis',\n",
       " 7377: 'quote',\n",
       " 4244: 'hour',\n",
       " 2732: 'earnings',\n",
       " 5718: 'money cnn',\n",
       " 5899: 'nasdaq stock',\n",
       " 8572: 'stock market',\n",
       " 5367: 'market data',\n",
       " 1598: 'com financial',\n",
       " 3343: 'financial market',\n",
       " 5366: 'market coverage',\n",
       " 910: 'breaking news',\n",
       " 6013: 'news analysis',\n",
       " 8577: 'stock quote',\n",
       " 7378: 'quote hour',\n",
       " 2187: 'data research',\n",
       " 5900: 'nasdaq stock market',\n",
       " 3344: 'financial market coverage',\n",
       " 911: 'breaking news analysis',\n",
       " 1909: 'content',\n",
       " 3902: 'gross',\n",
       " 2651: 'domestic',\n",
       " 3641: 'gdp',\n",
       " 5716: 'monetary',\n",
       " 9433: 'value',\n",
       " 8080: 'service',\n",
       " 1982: 'country',\n",
       " 881: 'border',\n",
       " 6684: 'period',\n",
       " 1081: 'calculated',\n",
       " 3903: 'gross domestic',\n",
       " 2653: 'domestic product',\n",
       " 7123: 'product gdp',\n",
       " 9434: 'value service',\n",
       " 3904: 'gross domestic product',\n",
       " 2654: 'domestic product gdp',\n",
       " 3670: 'geocities',\n",
       " 1866: 'congress',\n",
       " 6582: 'parliament',\n",
       " 2899: 'election',\n",
       " 2990: 'english',\n",
       " 4596: 'instant',\n",
       " 5581: 'messaging',\n",
       " 5583: 'messenger',\n",
       " 5362: 'mark',\n",
       " 150: 'affiliated',\n",
       " 381: 'aol',\n",
       " 9302: 'united',\n",
       " 4598: 'instant messaging',\n",
       " 4599: 'instant messenger',\n",
       " 3983: 'harvard',\n",
       " 2360: 'dept',\n",
       " 5711: 'molecular',\n",
       " 1245: 'cellular',\n",
       " 806: 'biology',\n",
       " 2488: 'directory',\n",
       " 3984: 'harvard edu',\n",
       " 5712: 'molecular cellular',\n",
       " 1246: 'cellular biology',\n",
       " 5154: 'link directory',\n",
       " 3989: 'harvard university',\n",
       " 9330: 'university department',\n",
       " 5713: 'molecular cellular biology',\n",
       " 3990: 'harvard university department',\n",
       " 2016: 'cox',\n",
       " 3000: 'enterprise',\n",
       " 5536: 'medium',\n",
       " 1715: 'company',\n",
       " 2602: 'division',\n",
       " 8856: 'television',\n",
       " 7386: 'radio',\n",
       " 928: 'broadcasting',\n",
       " 6108: 'newspaper',\n",
       " 7290: 'publishing',\n",
       " 1065: 'cable',\n",
       " 1219: 'cbs',\n",
       " 8399: 'special',\n",
       " 9466: 'victoria',\n",
       " 8009: 'secret',\n",
       " 3201: 'fashion',\n",
       " 927: 'broadcast',\n",
       " 5230: 'los',\n",
       " 345: 'angeles',\n",
       " 9815: 'winning',\n",
       " 7433: 'recording',\n",
       " 5233: 'los angeles',\n",
       " 661: 'award winning',\n",
       " 4267: 'http',\n",
       " 9440: 'vanderbilt',\n",
       " 3286: 'file',\n",
       " 2577: 'display',\n",
       " 6829: 'piston',\n",
       " 4118: 'high',\n",
       " 4367: 'imaging',\n",
       " 7234: 'protein',\n",
       " 7460: 'regulation',\n",
       " 781: 'beta',\n",
       " 1242: 'cell',\n",
       " 3757: 'google',\n",
       " 6389: 'operating',\n",
       " 9360: 'unofficial',\n",
       " 9034: 'tip',\n",
       " 831: 'blog',\n",
       " 9616: 'watch',\n",
       " 2397: 'development',\n",
       " 7295: 'pulp',\n",
       " 3265: 'fiction',\n",
       " 1538: 'collector',\n",
       " 2807: 'edition',\n",
       " 7133: 'production',\n",
       " 7296: 'pulp fiction',\n",
       " 3269: 'fiction movie',\n",
       " 5796: 'movie info',\n",
       " 7297: 'pulp fiction movie',\n",
       " 9210: 'turkey',\n",
       " 1890: 'constitution',\n",
       " 6597: 'participate',\n",
       " 9669: 'webmd',\n",
       " 1379: 'cholesterol',\n",
       " 5313: 'management',\n",
       " 9056: 'tool',\n",
       " 2226: 'decision',\n",
       " 4961: 'key',\n",
       " 5511: 'medical',\n",
       " 1157: 'care',\n",
       " 1381: 'cholesterol health',\n",
       " 702: 'banking',\n",
       " 5185: 'listing',\n",
       " 700: 'bank',\n",
       " 4669: 'international',\n",
       " 7458: 'region',\n",
       " 1020: 'business directory',\n",
       " 3346: 'financial service',\n",
       " 703: 'banking banking',\n",
       " 1007: 'business com',\n",
       " 772: 'benefit',\n",
       " 2006: 'cover',\n",
       " 6406: 'optimal',\n",
       " 2320: 'demonstrates',\n",
       " 1465: 'clinical',\n",
       " 2873: 'effect',\n",
       " 67: 'acid',\n",
       " 4008: 'health benefit',\n",
       " 734: 'bbc',\n",
       " 8380: 'space',\n",
       " 4425: 'index',\n",
       " 8156: 'shtml',\n",
       " 5949: 'nature',\n",
       " 3145: 'explore',\n",
       " 9160: 'travel',\n",
       " 739: 'bbc science',\n",
       " 7913: 'science space',\n",
       " 8382: 'space exploration',\n",
       " 4443: 'index shtml',\n",
       " 8157: 'shtml bbc',\n",
       " 7903: 'science nature',\n",
       " 740: 'bbc science nature',\n",
       " 7517: 'republican',\n",
       " 8909: 'texas',\n",
       " 1133: 'candidate',\n",
       " 1085: 'calendar',\n",
       " 6295: 'officer',\n",
       " 2897: 'elected',\n",
       " 6296: 'official',\n",
       " 5116: 'library',\n",
       " 7518: 'republican party',\n",
       " 1905: 'contact information',\n",
       " 4516: 'information candidate',\n",
       " 2898: 'elected official',\n",
       " 3838: 'grad',\n",
       " 3843: 'graduate',\n",
       " 7826: 'school',\n",
       " 8408: 'specification',\n",
       " 7020: 'preparation',\n",
       " 5430: 'master thesis',\n",
       " 4527: 'information graduate',\n",
       " 3847: 'graduate school',\n",
       " 7856: 'school university',\n",
       " 3849: 'graduate school university',\n",
       " 4884: 'job',\n",
       " 9692: 'weekly',\n",
       " 7935: 'scientific',\n",
       " 22: 'abstract',\n",
       " 8658: 'subscription',\n",
       " 5952: 'nature nature',\n",
       " 5954: 'nature publishing',\n",
       " 7898: 'science journal',\n",
       " 4888: 'job information',\n",
       " 4533: 'information international',\n",
       " 4688: 'international weekly',\n",
       " 7943: 'scientific research',\n",
       " 761: 'belief',\n",
       " 8352: 'soul',\n",
       " 4137: 'hinduism',\n",
       " 1833: 'concept',\n",
       " 1262: 'central',\n",
       " 9128: 'tradition',\n",
       " 8475: 'sportsline',\n",
       " 6120: 'nfl',\n",
       " 3419: 'football',\n",
       " 6126: 'nfl player',\n",
       " 6123: 'nfl football',\n",
       " 3435: 'football player',\n",
       " 1220: 'cbs sportsline',\n",
       " 8476: 'sportsline com',\n",
       " 1221: 'cbs sportsline com',\n",
       " 125: 'advertising',\n",
       " 5262: 'lycos',\n",
       " 122: 'advertise',\n",
       " 5997: 'network',\n",
       " 6647: 'pay',\n",
       " 1454: 'click',\n",
       " 9398: 'user',\n",
       " 8426: 'sponsored',\n",
       " 6648: 'pay click',\n",
       " 1455: 'click advertising',\n",
       " 6649: 'pay click advertising',\n",
       " 5412: 'marxist',\n",
       " 4939: 'karl',\n",
       " 5409: 'marx',\n",
       " 5447: 'materialist',\n",
       " 6730: 'philosophy wikipedia',\n",
       " 5416: 'marxist theory',\n",
       " 4940: 'karl marx',\n",
       " 6731: 'philosophy wikipedia encyclopedia',\n",
       " 2522: 'disc',\n",
       " 2523: 'discipline',\n",
       " 8092: 'serving',\n",
       " 613: 'australian',\n",
       " 8407: 'specific',\n",
       " 4933: 'jun',\n",
       " 9382: 'url',\n",
       " 4266: 'html',\n",
       " 7878: 'science discipline',\n",
       " 7915: 'science technology',\n",
       " 9383: 'url http',\n",
       " 88: 'ada',\n",
       " 8143: 'shot',\n",
       " 2209: 'dead',\n",
       " 4420: 'independent',\n",
       " 6586: 'parliamentary',\n",
       " 2900: 'election candidate',\n",
       " 8144: 'shot dead',\n",
       " 4797: 'islam',\n",
       " 6965: 'population',\n",
       " 9385: 'usa',\n",
       " 5885: 'muslim',\n",
       " 8267: 'social',\n",
       " 7946: 'scientist',\n",
       " 7570: 'researcher',\n",
       " 2210: 'deal',\n",
       " 9201: 'trying',\n",
       " 1198: 'category',\n",
       " 503: 'article',\n",
       " 5767: 'moved',\n",
       " 9741: 'wiki category',\n",
       " 1205: 'category political',\n",
       " 6932: 'political philosophy',\n",
       " 2950: 'encyclopedia article',\n",
       " 506: 'article category',\n",
       " 9776: 'wikipedia wiki category',\n",
       " 9754: 'wikipedia encyclopedia article',\n",
       " 8874: 'tennis',\n",
       " 3908: 'growing',\n",
       " 1623: 'com online',\n",
       " 9051: 'tomato',\n",
       " 5901: 'nation',\n",
       " 2042: 'critic',\n",
       " 603: 'audience',\n",
       " 9133: 'trailer',\n",
       " 6985: 'poster',\n",
       " 302: 'american movie',\n",
       " 5777: 'movie american',\n",
       " 5809: 'movie review',\n",
       " 6016: 'news article',\n",
       " 5778: 'movie american movie',\n",
       " 6131: 'nhl',\n",
       " 4169: 'hockey',\n",
       " 5058: 'league',\n",
       " 7723: 'roster',\n",
       " 8534: 'statistic',\n",
       " 7807: 'schedule',\n",
       " 8814: 'team',\n",
       " 5194: 'live',\n",
       " 9468: 'video',\n",
       " 1469: 'clip',\n",
       " 1618: 'com national',\n",
       " 5912: 'national hockey',\n",
       " 4174: 'hockey league',\n",
       " 3235: 'feature news',\n",
       " 6073: 'news roster',\n",
       " 7724: 'roster statistic',\n",
       " 8538: 'statistic schedule',\n",
       " 7810: 'schedule team',\n",
       " 9472: 'video clip',\n",
       " 4175: 'hockey league web',\n",
       " 2468: 'dir',\n",
       " 9940: 'yahoo',\n",
       " 2551: 'disease',\n",
       " 1844: 'condition',\n",
       " 2922: 'email',\n",
       " 2469: 'dir yahoo',\n",
       " 9956: 'yahoo health',\n",
       " 4020: 'health disease',\n",
       " 2552: 'disease condition',\n",
       " 1845: 'condition disease',\n",
       " 9946: 'yahoo directory',\n",
       " 2499: 'directory health',\n",
       " 2475: 'dir yahoo health',\n",
       " 4021: 'health disease condition',\n",
       " 1354: 'child',\n",
       " 860: 'book',\n",
       " 9903: 'writer',\n",
       " 4360: 'illustrator',\n",
       " 925: 'british',\n",
       " 622: 'author',\n",
       " 4358: 'illustrating',\n",
       " 8291: 'society child',\n",
       " 1356: 'child book',\n",
       " 875: 'book writer',\n",
       " 9905: 'writer illustrator',\n",
       " 624: 'author illustrator',\n",
       " 8292: 'society child book',\n",
       " 1358: 'child book writer',\n",
       " 876: 'book writer illustrator',\n",
       " 5024: 'latimes',\n",
       " 6941: 'politics',\n",
       " 8012: 'section',\n",
       " 2233: 'dedicated',\n",
       " 6065: 'news politics',\n",
       " 6945: 'politics political',\n",
       " 6928: 'political news',\n",
       " 584: 'atkins',\n",
       " 5246: 'low',\n",
       " 2754: 'eating',\n",
       " 6839: 'plan',\n",
       " 7425: 'recipe',\n",
       " 8139: 'shopping',\n",
       " 9644: 'web information',\n",
       " 4101: 'helping',\n",
       " 9122: 'trademark',\n",
       " 6485: 'owner',\n",
       " 3280: 'fight',\n",
       " 3912: 'growth',\n",
       " 3362: 'firm',\n",
       " 1897: 'consultant',\n",
       " 211: 'alike',\n",
       " 5031: 'law business',\n",
       " 1029: 'business law',\n",
       " 2980: 'engineering',\n",
       " 1167: 'careerbuilder',\n",
       " 5051: 'leader',\n",
       " 8197: 'site',\n",
       " 42: 'access',\n",
       " 4885: 'job careerbuilder',\n",
       " 1168: 'careerbuilder com',\n",
       " 4889: 'job job',\n",
       " 4893: 'job search',\n",
       " 7985: 'search careerbuilder',\n",
       " 1169: 'careerbuilder leader',\n",
       " 5052: 'leader job',\n",
       " 7995: 'search site',\n",
       " 8198: 'site access',\n",
       " 44: 'access job',\n",
       " 4886: 'job careerbuilder com',\n",
       " 4890: 'job job search',\n",
       " 4894: 'job search careerbuilder',\n",
       " 7986: 'search careerbuilder leader',\n",
       " 1170: 'careerbuilder leader job',\n",
       " 5053: 'leader job search',\n",
       " 4895: 'job search site',\n",
       " 7996: 'search site access',\n",
       " 8199: 'site access job',\n",
       " 7641: 'revolution',\n",
       " 5637: 'military',\n",
       " 146: 'affair',\n",
       " 9589: 'war',\n",
       " 8914: 'text',\n",
       " 1917: 'context',\n",
       " 7643: 'revolution military',\n",
       " 5638: 'military affair',\n",
       " 6360: 'online resource',\n",
       " 7644: 'revolution military affair',\n",
       " 8671: 'sun',\n",
       " 1066: 'cache',\n",
       " 5553: 'memory',\n",
       " 5647: 'million',\n",
       " 2648: 'dollar',\n",
       " 1068: 'cache memory',\n",
       " 8364: 'sourceforge',\n",
       " 2664: 'download',\n",
       " 5171: 'linux',\n",
       " 9355: 'unix',\n",
       " 2743: 'easiest',\n",
       " 4593: 'install',\n",
       " 604: 'audio',\n",
       " 2809: 'editor',\n",
       " 3746: 'gnu',\n",
       " 5144: 'like',\n",
       " 6499: 'package',\n",
       " 5175: 'linux unix',\n",
       " 8281: 'socialist',\n",
       " 3493: 'founded',\n",
       " 7647: 'revolutionary',\n",
       " 7075: 'principle',\n",
       " 2245: 'definition',\n",
       " 8278: 'socialism',\n",
       " 4997: 'labor party',\n",
       " 6608: 'party america',\n",
       " 1343: 'chi',\n",
       " 8540: 'stats',\n",
       " 6857: 'play',\n",
       " 2688: 'drive',\n",
       " 1324: 'chart',\n",
       " 7424: 'recap',\n",
       " 6121: 'nfl com',\n",
       " 3605: 'game stats',\n",
       " 3579: 'game book',\n",
       " 7692: 'rock',\n",
       " 9199: 'truth',\n",
       " 7304: 'purchasing',\n",
       " 4157: 'history rock',\n",
       " 7694: 'rock music',\n",
       " 5868: 'music history',\n",
       " 865: 'book book',\n",
       " 4158: 'history rock music',\n",
       " 9077: 'topix',\n",
       " 9799: 'wimbledon',\n",
       " 1918: 'continually',\n",
       " 9368: 'updated',\n",
       " 9080: 'topix tennis',\n",
       " 8889: 'tennis wimbledon',\n",
       " 9801: 'wimbledon wimbledon',\n",
       " 6089: 'news topix',\n",
       " 9079: 'topix news',\n",
       " 1919: 'continually updated',\n",
       " 9370: 'updated net',\n",
       " 6090: 'news topix news',\n",
       " 1920: 'continually updated net',\n",
       " 9972: 'yale',\n",
       " 9060: 'topic',\n",
       " 7451: 'reform',\n",
       " 7446: 'reference',\n",
       " 7497: 'report',\n",
       " 5441: 'material',\n",
       " 5128: 'library yale',\n",
       " 9973: 'yale edu',\n",
       " 4694: 'internet access',\n",
       " 43: 'access information',\n",
       " 4542: 'information research',\n",
       " 7567: 'research topic',\n",
       " 9067: 'topic research',\n",
       " 7542: 'research guide',\n",
       " 5129: 'library yale edu',\n",
       " 7568: 'research topic research',\n",
       " 8811: 'teaching',\n",
       " 8804: 'teacher',\n",
       " 9136: 'training',\n",
       " 1991: 'course',\n",
       " 1362: 'childhood',\n",
       " 5591: 'method',\n",
       " 8813: 'teaching teacher',\n",
       " 3349: 'findarticles',\n",
       " 7039: 'presidential',\n",
       " 3122: 'executive',\n",
       " 7504: 'representation',\n",
       " 2275: 'deliberative',\n",
       " 2291: 'democracy',\n",
       " 3350: 'findarticles article',\n",
       " 2276: 'deliberative democracy',\n",
       " 2293: 'democracy book',\n",
       " 870: 'book review',\n",
       " 308: 'american political',\n",
       " 6938: 'political science',\n",
       " 6693: 'personal',\n",
       " 3327: 'finance',\n",
       " 7000: 'practical',\n",
       " 1083: 'calculator',\n",
       " 4754: 'investing',\n",
       " 1023: 'business financial',\n",
       " 6695: 'personal finance',\n",
       " 3328: 'finance advice',\n",
       " 4757: 'investing tip',\n",
       " 1033: 'business news',\n",
       " 6086: 'news stock',\n",
       " 6696: 'personal finance advice',\n",
       " 6087: 'news stock quote',\n",
       " 6419: 'org',\n",
       " 1248: 'center',\n",
       " 7013: 'premier',\n",
       " 7459: 'regional',\n",
       " 3964: 'hand',\n",
       " 3132: 'experience',\n",
       " 2446: 'dig',\n",
       " 2466: 'dinosaur',\n",
       " 9088: 'touch',\n",
       " 7880: 'science discovery',\n",
       " 2534: 'discovery center',\n",
       " 3965: 'hand science',\n",
       " 2791: 'economy',\n",
       " 7196: 'project',\n",
       " 8603: 'strategy',\n",
       " 1875: 'connection',\n",
       " 7414: 'reading',\n",
       " 5178: 'list',\n",
       " 5162: 'link resource',\n",
       " 7952: 'score',\n",
       " 3045: 'espn',\n",
       " 5688: 'mlb',\n",
       " 713: 'baseball',\n",
       " 890: 'box',\n",
       " 1187: 'cast',\n",
       " 3050: 'espn mlb',\n",
       " 3405: 'folklore',\n",
       " 4788: 'ireland',\n",
       " 2013: 'covering',\n",
       " 4789: 'irish',\n",
       " 9090: 'tourism',\n",
       " 3649: 'genealogy',\n",
       " 2104: 'culture resource',\n",
       " 3724: 'global',\n",
       " 9103: 'trade',\n",
       " 4327: 'identification',\n",
       " 1147: 'capture',\n",
       " 5344: 'manufacturer',\n",
       " 3731: 'global trade',\n",
       " 9104: 'trade association',\n",
       " 580: 'athlon',\n",
       " 276: 'amd',\n",
       " 3032: 'era',\n",
       " 1821: 'computing',\n",
       " 705: 'bar',\n",
       " 2019: 'cpu',\n",
       " 277: 'amd athlon',\n",
       " 581: 'athlon amd',\n",
       " 278: 'amd athlon amd',\n",
       " 246: 'amazon',\n",
       " 1336: 'checkup',\n",
       " 4841: 'james',\n",
       " 5493: 'mcmanus',\n",
       " 6780: 'physical american',\n",
       " 286: 'american checkup',\n",
       " 5494: 'mcmanus amazon',\n",
       " 247: 'amazon com',\n",
       " 1626: 'com physical',\n",
       " 1337: 'checkup book',\n",
       " 867: 'book mcmanus',\n",
       " 6781: 'physical american checkup',\n",
       " 5495: 'mcmanus amazon com',\n",
       " 260: 'amazon com physical',\n",
       " 1627: 'com physical american',\n",
       " 287: 'american checkup book',\n",
       " 1338: 'checkup book mcmanus',\n",
       " 9078: 'topix business',\n",
       " 6023: 'news continually',\n",
       " 6024: 'news continually updated',\n",
       " 4466: 'indiana',\n",
       " 9680: 'website',\n",
       " 4505: 'informatics',\n",
       " 4467: 'indiana edu',\n",
       " ...}"
      ]
     },
     "execution_count": 90,
     "metadata": {},
     "output_type": "execute_result"
    }
   ],
   "source": [
    "token2idx = vectorizer.vocabulary_\n",
    "idx2token = {idx:token for token,idx in token2idx.items()}\n",
    "idx2token"
   ]
  },
  {
   "cell_type": "code",
   "execution_count": 91,
   "metadata": {},
   "outputs": [
    {
     "data": {
      "text/plain": [
       "array([0., 0., 0., ..., 0., 0., 0.])"
      ]
     },
     "execution_count": 91,
     "metadata": {},
     "output_type": "execute_result"
    }
   ],
   "source": [
    "#todense --get representation\n",
    "X_train = np.asarray(vectors_train.todense())\n",
    "X_val = np.asarray(vectors_val.todense())\n",
    "X_test = np.asarray(vectors_test.todense())\n",
    "\n",
    "#X_train2 = np.asarray(vectors_train2.todense())\n",
    "#X_val2 = np.asarray(vectors_val2.todense())\n",
    "#X_test2 = np.asarray(vectors_test2.todense())\n",
    "\n",
    "del vectors_train,vectors_val,vectors_test#,vectors_train2,vectors_val2,vectors_test2\n",
    "gc.collect()\n",
    "\n",
    "X_train[0]"
   ]
  },
  {
   "cell_type": "code",
   "execution_count": null,
   "metadata": {},
   "outputs": [],
   "source": [
    "##representacion soft para TF ---mucho mejor!\n",
    "X_train_input = np.log(X_train+1) \n",
    "X_val_input = np.log(X_val+1) \n",
    "X_test_input = np.log(X_test+1) \n",
    "plt.plot(X_train_input[0])\n",
    "plt.show()\n",
    "\n",
    "#soft para tf-idf\n",
    "#X_train_input2 = np.log(X_train2+1) \n",
    "#X_val_input2 = np.log(X_val2+1) \n",
    "#X_test_input2 = np.log(X_test2+1) "
   ]
  },
  {
   "cell_type": "code",
   "execution_count": 92,
   "metadata": {
    "scrolled": true
   },
   "outputs": [
    {
     "data": {
      "image/png": "[encoded data removed]",
      "text/plain": [
       "<Figure size 432x288 with 1 Axes>"
      ]
     },
     "metadata": {
      "needs_background": "light"
     },
     "output_type": "display_data"
    },
    {
     "data": {
      "image/png": "[encoded data removed]",
      "text/plain": [
       "<Figure size 432x288 with 1 Axes>"
      ]
     },
     "metadata": {
      "needs_background": "light"
     },
     "output_type": "display_data"
    }
   ],
   "source": [
    "plt.title(\"Term frequency representation (example)\")\n",
    "plt.plot(X_train[0])\n",
    "plt.show()\n",
    "\n",
    "plt.title(\"TF-IDF representation (example)\")\n",
    "plt.plot(X_train2[0])\n",
    "plt.show()"
   ]
  },
  {
   "cell_type": "markdown",
   "metadata": {},
   "source": [
    "### Model Architecture\n",
    "---\n",
    "La arquitectura para afrontar el problema es una red clásica *Feed Forward* basado en el *baseline* de *Variational Deep Semantic Hashing* (VDSH), la cual es una arquitectura de *autoencoder* no simétrico con dos capas escondidas en el *encoder* y sin capas escondidas en el *decoder*.\n",
    "\n",
    "\n",
    "> Input(|V|) -> Relu(500) -> Relu (500) -> Laten variable(32)-> Sampling -> Softmax(|V|)\n",
    "\n",
    "\n",
    "Tamién se experimenta con una arquitectura de autoencoder simétrico, lo cual asimila de mejor manera lo que es una RBM (red bidireccional) como se realiza en el trabajo de *Semantic Hashing*.\n",
    "\n",
    "La primera experimentación se realiza con 32 *bits* en la representación latente, ya que los trabajos previos han mostrado que esta cantidad de *bits* parece ser lo suficiente antes de empezar a realizar *overfitting*."
   ]
  },
  {
   "cell_type": "code",
   "execution_count": 9,
   "metadata": {},
   "outputs": [],
   "source": [
    "def REC_loss(x_true, x_pred):\n",
    "    x_pred = K.clip(x_pred, K.epsilon(), 1)\n",
    "    return - K.sum(x_true*K.log(x_pred), axis=-1) #keras.losses.categorical_crossentropy(x_true, x_pred)\n"
   ]
  },
  {
   "cell_type": "code",
   "execution_count": 10,
   "metadata": {
    "scrolled": true
   },
   "outputs": [
    {
     "name": "stdout",
     "output_type": "stream",
     "text": [
      "WARNING:tensorflow:From /home/casapanshop/anaconda2/envs/newpy3_tf1/lib/python3.6/site-packages/keras/backend/tensorflow_backend.py:66: The name tf.get_default_graph is deprecated. Please use tf.compat.v1.get_default_graph instead.\n",
      "\n",
      "WARNING:tensorflow:From /home/casapanshop/anaconda2/envs/newpy3_tf1/lib/python3.6/site-packages/keras/backend/tensorflow_backend.py:541: The name tf.placeholder is deprecated. Please use tf.compat.v1.placeholder instead.\n",
      "\n",
      "WARNING:tensorflow:From /home/casapanshop/anaconda2/envs/newpy3_tf1/lib/python3.6/site-packages/keras/backend/tensorflow_backend.py:4432: The name tf.random_uniform is deprecated. Please use tf.random.uniform instead.\n",
      "\n",
      "WARNING:tensorflow:From /home/casapanshop/anaconda2/envs/newpy3_tf1/lib/python3.6/site-packages/keras/backend/tensorflow_backend.py:148: The name tf.placeholder_with_default is deprecated. Please use tf.compat.v1.placeholder_with_default instead.\n",
      "\n",
      "pre-encoder network:\n",
      "Model: \"pre-encoder\"\n",
      "_________________________________________________________________\n",
      "Layer (type)                 Output Shape              Param #   \n",
      "=================================================================\n",
      "dense_1 (Dense)              (None, 500)               5000500   \n",
      "_________________________________________________________________\n",
      "batch_normalization_1 (Batch (None, 500)               2000      \n",
      "_________________________________________________________________\n",
      "dense_2 (Dense)              (None, 500)               250500    \n",
      "_________________________________________________________________\n",
      "batch_normalization_2 (Batch (None, 500)               2000      \n",
      "=================================================================\n",
      "Total params: 5,255,000\n",
      "Trainable params: 5,253,000\n",
      "Non-trainable params: 2,000\n",
      "_________________________________________________________________\n",
      "generator network:\n",
      "Model: \"generator/decoder\"\n",
      "_________________________________________________________________\n",
      "Layer (type)                 Output Shape              Param #   \n",
      "=================================================================\n",
      "dense_3 (Dense)              (None, 10000)             330000    \n",
      "=================================================================\n",
      "Total params: 330,000\n",
      "Trainable params: 330,000\n",
      "Non-trainable params: 0\n",
      "_________________________________________________________________\n",
      "WARNING:tensorflow:From /home/casapanshop/anaconda2/envs/newpy3_tf1/lib/python3.6/site-packages/keras/backend/tensorflow_backend.py:4409: The name tf.random_normal is deprecated. Please use tf.random.normal instead.\n",
      "\n",
      "WARNING:tensorflow:From /home/casapanshop/anaconda2/envs/newpy3_tf1/lib/python3.6/site-packages/keras/optimizers.py:793: The name tf.train.Optimizer is deprecated. Please use tf.compat.v1.train.Optimizer instead.\n",
      "\n",
      "Model: \"model_2\"\n",
      "__________________________________________________________________________________________________\n",
      "Layer (type)                    Output Shape         Param #     Connected to                     \n",
      "==================================================================================================\n",
      "input_3 (InputLayer)            (None, 10000)        0                                            \n",
      "__________________________________________________________________________________________________\n",
      "pre-encoder (Sequential)        (None, 500)          5255000     input_3[0][0]                    \n",
      "__________________________________________________________________________________________________\n",
      "z-mean (Dense)                  (None, 32)           16032       pre-encoder[1][0]                \n",
      "__________________________________________________________________________________________________\n",
      "z-log_var (Dense)               (None, 32)           16032       pre-encoder[1][0]                \n",
      "__________________________________________________________________________________________________\n",
      "sampled (Lambda)                (None, 32)           0           z-mean[0][0]                     \n",
      "                                                                 z-log_var[0][0]                  \n",
      "__________________________________________________________________________________________________\n",
      "generator/decoder (Sequential)  (None, 10000)        330000      sampled[0][0]                    \n",
      "==================================================================================================\n",
      "Total params: 5,617,064\n",
      "Trainable params: 5,615,064\n",
      "Non-trainable params: 2,000\n",
      "__________________________________________________________________________________________________\n"
     ]
    }
   ],
   "source": [
    "def traditional_VAE(data_dim,Nb,units,layers_e,layers_d,opt='adam',BN=True, summ=True, beta_ann=False):\n",
    "    pre_encoder = define_pre_encoder(data_dim, layers=layers_e,units=units,BN=BN)\n",
    "    if summ:\n",
    "        print(\"pre-encoder network:\")\n",
    "        pre_encoder.summary()\n",
    "    generator = define_generator(Nb,data_dim,layers=layers_d,units=units,BN=BN)\n",
    "    if summ:\n",
    "        print(\"generator network:\")\n",
    "        generator.summary()\n",
    "\n",
    "    ## Encoder\n",
    "    x = Input(shape=(data_dim,))\n",
    "    hidden = pre_encoder(x)\n",
    "    z_mean = Dense(Nb,activation='linear', name='z-mean')(hidden)\n",
    "    z_log_var = Dense(Nb,activation='linear',name = 'z-log_var')(hidden)\n",
    "    encoder = Model(x, z_mean) # build a model to project inputs on the latent space\n",
    "\n",
    "    def sampling(args):\n",
    "        epsilon_std = 1.0\n",
    "        z_mean, z_log_var = args\n",
    "        epsilon = K.random_normal(shape=(K.shape(z_mean)[0], Nb),mean=0., stddev=epsilon_std)\n",
    "        return z_mean + K.exp(0.5*z_log_var) * epsilon #+sigma (desvest)\n",
    "    \n",
    "    ## Decoder\n",
    "    z_sampled = Lambda(sampling, output_shape=(Nb,), name='sampled')([z_mean, z_log_var])\n",
    "    output = generator(z_sampled)\n",
    "    \n",
    "    if beta_ann:\n",
    "        beta = K.variable(0., name=\"kl_weight\")\n",
    "    else:\n",
    "        beta = 1./10 #good value for hashing (bad for classification)\n",
    "    \n",
    "    Recon_loss = REC_loss\n",
    "    kl_loss = KL_loss(z_mean,z_log_var)\n",
    "    def VAE_loss(y_true, y_pred): \n",
    "        return Recon_loss(y_true, y_pred) + beta*kl_loss(y_true, y_pred)\n",
    "\n",
    "    traditional_vae = Model(x, output)\n",
    "    traditional_vae.compile(optimizer=opt, loss=VAE_loss, metrics = [Recon_loss,kl_loss])\n",
    "    \n",
    "    if beta_ann:\n",
    "        return traditional_vae, encoder,generator ,beta\n",
    "    else:\n",
    "        return traditional_vae, encoder,generator\n",
    "    \n",
    "traditional_vae,encoder_Tvae,generator_Tvae = traditional_VAE(X_train.shape[1],Nb=32,units=500,layers_e=2,layers_d=0)\n",
    "traditional_vae.summary()"
   ]
  },
  {
   "cell_type": "code",
   "execution_count": 11,
   "metadata": {
    "scrolled": true
   },
   "outputs": [
    {
     "name": "stdout",
     "output_type": "stream",
     "text": [
      "pre-encoder network:\n",
      "Model: \"pre-encoder\"\n",
      "_________________________________________________________________\n",
      "Layer (type)                 Output Shape              Param #   \n",
      "=================================================================\n",
      "dense_4 (Dense)              (None, 500)               5000500   \n",
      "_________________________________________________________________\n",
      "batch_normalization_3 (Batch (None, 500)               2000      \n",
      "_________________________________________________________________\n",
      "dense_5 (Dense)              (None, 500)               250500    \n",
      "_________________________________________________________________\n",
      "batch_normalization_4 (Batch (None, 500)               2000      \n",
      "=================================================================\n",
      "Total params: 5,255,000\n",
      "Trainable params: 5,253,000\n",
      "Non-trainable params: 2,000\n",
      "_________________________________________________________________\n",
      "generator network:\n",
      "Model: \"generator/decoder\"\n",
      "_________________________________________________________________\n",
      "Layer (type)                 Output Shape              Param #   \n",
      "=================================================================\n",
      "dense_6 (Dense)              (None, 10000)             330000    \n",
      "=================================================================\n",
      "Total params: 330,000\n",
      "Trainable params: 330,000\n",
      "Non-trainable params: 0\n",
      "_________________________________________________________________\n",
      "Model: \"model_4\"\n",
      "_________________________________________________________________\n",
      "Layer (type)                 Output Shape              Param #   \n",
      "=================================================================\n",
      "input_6 (InputLayer)         (None, 10000)             0         \n",
      "_________________________________________________________________\n",
      "pre-encoder (Sequential)     (None, 500)               5255000   \n",
      "_________________________________________________________________\n",
      "logits-b (Dense)             (None, 32)                16032     \n",
      "_________________________________________________________________\n",
      "sampled (Lambda)             (None, 32)                0         \n",
      "_________________________________________________________________\n",
      "generator/decoder (Sequentia (None, 10000)             330000    \n",
      "=================================================================\n",
      "Total params: 5,601,032\n",
      "Trainable params: 5,599,032\n",
      "Non-trainable params: 2,000\n",
      "_________________________________________________________________\n"
     ]
    }
   ],
   "source": [
    "import keras.backend as K\n",
    "def sample_gumbel(shape,eps=K.epsilon()):\n",
    "    \"\"\"Inverse Sample function from Gumbel(0, 1)\"\"\"\n",
    "    U = K.random_uniform(shape, 0, 1)\n",
    "    return K.log(U + eps)- K.log(1-U + eps)\n",
    "\n",
    "\n",
    "def binary_VAE(data_dim,Nb,units,layers_e,layers_d,opt='adam',BN=True, summ=True,tau_ann=False,beta_ann=False):\n",
    "    if tau_ann:\n",
    "        tau = K.variable(1.0, name=\"temperature\") \n",
    "    else:\n",
    "        tau = K.variable(0.67, name=\"temperature\") #o tau fijo en 0.67=2/3\n",
    "    \n",
    "    pre_encoder = define_pre_encoder(data_dim, layers=layers_e,units=units,BN=BN)\n",
    "    if summ:\n",
    "        print(\"pre-encoder network:\")\n",
    "        pre_encoder.summary()\n",
    "    generator = define_generator(Nb,data_dim,layers=layers_d,units=units,BN=BN)\n",
    "    if summ:\n",
    "        print(\"generator network:\")\n",
    "        generator.summary()\n",
    "\n",
    "    x = Input(shape=(data_dim,))\n",
    "    hidden = pre_encoder(x)\n",
    "    logits_b  = Dense(Nb, activation='linear', name='logits-b')(hidden) #log(B_j/1-B_j)\n",
    "    #proba = np.exp(logits_b)/(1+np.exp(logits_b)) = sigmoidal(logits_b) <<<<<<<<<< recupera probabilidad\n",
    "    #dist = Dense(Nb, activation='sigmoid')(hidden) #p(b) #otra forma de modelarlo\n",
    "    encoder = Model(x, logits_b)\n",
    "\n",
    "    def sampling(logits_b):\n",
    "        #logits_b = K.log(aux/(1-aux) + K.epsilon() )\n",
    "        b = logits_b + sample_gumbel(K.shape(logits_b)) # logits + gumbel noise\n",
    "        return keras.activations.sigmoid( b/tau )\n",
    "\n",
    "    b_sampled = Lambda(sampling, output_shape=(Nb,), name='sampled')(logits_b)\n",
    "    output = generator(b_sampled)\n",
    "\n",
    "    if beta_ann:\n",
    "        beta = K.variable(0., name=\"kl_weight\")\n",
    "    else:\n",
    "        beta = 1./1000 #1./1000\n",
    "        \n",
    "    Recon_loss = REC_loss\n",
    "    kl_loss = BKL_loss(logits_b)\n",
    "    def BVAE_loss(y_true, y_pred): \n",
    "        return Recon_loss(y_true, y_pred) + beta*kl_loss(y_true, y_pred)\n",
    "\n",
    "    binary_vae = Model(x, output)\n",
    "    binary_vae.compile(optimizer=opt, loss=BVAE_loss, metrics = [Recon_loss,kl_loss])\n",
    "    if tau_ann:\n",
    "        return binary_vae, encoder,generator ,tau\n",
    "    elif beta_ann:\n",
    "        return binary_vae, encoder,generator ,beta\n",
    "    else:\n",
    "        return binary_vae, encoder,generator\n",
    "    \n",
    "binary_vae,encoder_Bvae,generator_Bvae = binary_VAE(X_train.shape[1],Nb=32,units=500,layers_e=2,layers_d=0)\n",
    "binary_vae.summary()"
   ]
  },
  {
   "cell_type": "markdown",
   "metadata": {},
   "source": [
    "### Train details\n",
    "---\n",
    "\n",
    "* 30* epochs* \n",
    "* *batch size* de 100\n",
    "* optimizador Adam\n",
    "* Inicializador de Glorot (para los pesos)\n",
    "\n",
    "\n",
    "Desde el clásico variational lower bound of the marginal likelihood de Variational Autoencoder:\n",
    "\n",
    "$$\n",
    "\\ell \\geq \\mathbb{E}_Q\\left[\\log{P(d,b)} -\\log{Q(b|d)}  \\right]\n",
    "$$\n",
    "\n",
    "$$\n",
    "\\ell \\geq \\mathbb{E}_Q\\left[\\log{P(d|b)}\\right] - D_{KL}\\left( Q(b|d) \\mid \\mid P(b)  \\right)\n",
    "$$\n",
    "\n",
    "Con $P(d|b)= \\prod_{w \\in \\vec{d}} P(w|b)^w$ una distribución multinomial, por lo que el valor esperado de la reconstrucción del dato $\\vec{d}$ se puede medir con *cross entropy* y las variables latentes $b$ son binarias independies entre sí, $b_j^{(d)} \\sim Q(b_j \\mid \\vec{d};\\phi) = Bernoulli(B_j^{(d)})$\n",
    "\n",
    " F.O.\n",
    "$$\n",
    "Min \\ \\mathcal{L} = Min \\ \\sum_{\\vec{d} \\in D} \\left( \\sum_j^J D_{KL}\\left( Q(b_j \\mid \\vec{d};\\phi) \\mid \\mid P(b_j)\\right) \\right) - \\left(\\sum_{w \\in \\vec{d}} w \\cdot \\log P(w \\mid \\vec{b}^{(d)};\\theta)\\right)\n",
    "$$\n",
    "\n",
    "> Con $\\vec{b}^{(d)} = (b_1^{(d)},b_2^{(d)},\\ldots,b_K^{(d)} ) $, Las dimensionalidades son: $\\vec{d} \\in \\mathbb{R}^{{V}}$, y representa al vector de representación de un documento, $w$ es la representación de una palabra, por ejemplo la cantidad de repeticiones en el documento, $\\vec{b} \\in \\mathbb{R}^K$, con $|V|$  el tamaño del vocabulario o cantidad de *tokens* a utilizar, $D$ la cantidad de documentos en el dataset, $J$ la cantidad de bits a representar como variable latente.\n",
    "\n",
    "> Utilizando el truco de reparametrización de Gumbel-softmax (caso binario), con $U \\sim$ Uniform$(0,1)$, se tiene:\n",
    "$$b_j^{(d)} = \\sigma \\left(\\left( \\log{ \\frac{B_j^{(d)}}{1-B_j^{(d)}}} + \\log{\\frac{U}{1-U}} \\right)/\\lambda \\right) $$\n",
    "\n",
    ">> En la implementación se aprende $logits_b = \\log{\\frac{B_j^{(d)}}{1-B_j^{(d)}}}$:\n",
    "$$b_j^{(d)} = \\sigma \\left(\\left( logits_b+ \\log{\\frac{U}{1-U}} \\right)/\\lambda \\right) $$\n",
    "\n",
    "> Con el *prior* de $P(b_j)=0.5$ para todo *bit* $j$ la divergencia KL queda con una forma cerrada igual a:\n",
    "\\begin{align}\n",
    "\\sum_j^K D_{KL}\\left( Q(b_j \\mid \\vec{d};\\phi) \\mid \\mid P(b_j)\\right) &= \\sum_j^J \\mathbb{E}_{Q(b_j)}[Q(b_j \\mid \\vec{d};\\phi)] - \\mathbb{E}_{Q(b_j)}[P(b_j)]  \\\\ \n",
    "&= K\\cdot \\log{2} + \\sum_j^J B_j^{(d)} \\cdot \\log{B_j^{(d)}} + (1-B_j^{(d)})\\cdot \\log{(1-B_j^{(d)} )}\n",
    "\\end{align}\n",
    "\n",
    ">> En la implementación se aprende $logits_b = \\log{\\frac{B_j^{(d)}}{1-B_j^{(d)}}}$:\n",
    "$$ = K\\cdot \\log{2} + \\sum_j^J B_j^{(d)} \\cdot logits_b + \\log{(1-B_j^{(d)} )} $$\n",
    "\n",
    "* $Q(b_j \\mid \\vec{d};\\phi)$ asemeja lo que es el encoder, a través de ser una función que obtiene los parámetros de la distribución de la variable latente $b_j$ dependiente del documento, $B_j^{(d)}$\n",
    "* $P(w \\mid \\vec{b}^{(d)};\\theta)$ asemeja lo que es el decoder, a través de ser una función que obtiene la distribución de probabilidad sobre las palabras $w$ dependiendo de la variable latente muestreada $\\vec{b}^{(d)}$.\n",
    "* En base a lo comentado en Concrete distribution y para evitar el tener que experimentar con la tasa/nivel de setear la temperatura $\\lambda$ se setea a  2/3 como se comenta que es una buena forma de inicializar.\n",
    "\n",
    "\n",
    "Primeras experimentaciones leves:\n",
    "* **Añadir** *Batch Normalization* ayuda a estabilizar el entrenamiento\n",
    "* **Max features** (*top k tokens*)  en características/representación fuciona mucho mejor que **min count**. Reduce el número de parámetros del modelo y también el *overfitting*\n",
    "* Para representación *Term Frecuency* como entrada al modelo es necesario normalizar con transformación logarítimica: $\\log{(tf+1)}$, mucho más estable el entrenamiento"
   ]
  },
  {
   "cell_type": "code",
   "execution_count": 5,
   "metadata": {},
   "outputs": [],
   "source": [
    "from utils import  compare_hist_train\n",
    "\n",
    "batch_size = 100\n",
    "epochs = 30"
   ]
  },
  {
   "cell_type": "code",
   "execution_count": 6,
   "metadata": {
    "scrolled": false
   },
   "outputs": [
    {
     "data": {
      "text/plain": [
       "array(['rec.autos', 'rec.autos', 'rec.autos', ...,\n",
       "       'comp.os.ms-windows.misc', 'rec.autos', 'talk.politics.guns'],\n",
       "      dtype='<U24')"
      ]
     },
     "execution_count": 6,
     "metadata": {},
     "output_type": "execute_result"
    }
   ],
   "source": [
    "from utils_VDSH import Load_Dataset\n",
    "#https://github.com/unsuthee/VariationalDeepSemanticHashing\n",
    "## load data used for VDSH - for sake comparison\n",
    "\n",
    "filename = 'Data/ng20.tfidf.mat'\n",
    "#filename = 'Data/reuters.tfidf.mat'\n",
    "#filename = 'Data/tmc.tfidf.mat'\n",
    "data = Load_Dataset(filename)\n",
    "\n",
    "X_train_input = data.train\n",
    "X_train = X_train_input #binary..\n",
    "X_val_input = data.cv\n",
    "X_val = X_val_input #binary..\n",
    "X_test_input = data.test\n",
    "X_test = X_test_input #binary..\n",
    "\n",
    "\n",
    "if \"ng20\" in filename:\n",
    "    labels_train = np.asarray([labels[value.argmax(axis=-1)] for value in data.gnd_train])\n",
    "    labels_val = np.asarray([labels[value.argmax(axis=-1)] for value in data.gnd_cv])\n",
    "    labels_test = np.asarray([labels[value.argmax(axis=-1)] for value in data.gnd_test])\n",
    "elif \"reuters\" in filename or \"tmc\" in filename:\n",
    "    labels = np.asarray(labels)\n",
    "    labels_train = np.asarray([labels[value.astype(bool)] for value in data.gnd_train])\n",
    "    labels_val = np.asarray([labels[value.astype(bool)] for value in data.gnd_cv])\n",
    "    labels_test = np.asarray([labels[value.astype(bool)] for value in data.gnd_test])\n",
    "\n",
    "labels_train"
   ]
  },
  {
   "cell_type": "markdown",
   "metadata": {},
   "source": [
    "# IMPORTANTE EJECUTAR, nueva modificación!"
   ]
  },
  {
   "cell_type": "code",
   "execution_count": 7,
   "metadata": {},
   "outputs": [
    {
     "name": "stdout",
     "output_type": "stream",
     "text": [
      "Output target normalizado en dataset  20News\n"
     ]
    }
   ],
   "source": [
    "#outputs as probabolities -- normalized over datasets..\n",
    "X_train = X_train/X_train.sum(axis=-1,keepdims=True) \n",
    "X_val = X_val/X_val.sum(axis=-1,keepdims=True)\n",
    "X_test = X_test/X_test.sum(axis=-1,keepdims=True)\n",
    "print(\"Output target normalizado en dataset \",dat_n)"
   ]
  },
  {
   "cell_type": "code",
   "execution_count": 8,
   "metadata": {},
   "outputs": [],
   "source": [
    "X_train[np.isnan(X_train)] = 0\n",
    "X_val[np.isnan(X_val)] = 0\n",
    "X_test[np.isnan(X_test)] = 0"
   ]
  },
  {
   "cell_type": "code",
   "execution_count": null,
   "metadata": {},
   "outputs": [],
   "source": []
  },
  {
   "cell_type": "code",
   "execution_count": 38,
   "metadata": {},
   "outputs": [],
   "source": [
    "kl_inc = 0.0002 #1./5000 #sube muy lento quizas\n",
    "max_KL = 0.1\n",
    "\n",
    "anneal_rate = 1.05\n",
    "\n",
    "S = np.geomspace(1e-7, max_KL, epochs)\n",
    "\n",
    "class Beta_Call(keras.callbacks.Callback):   \n",
    "    def __init__(self, beta_ann):\n",
    "        self.beta_ann = beta_ann\n",
    "        super(Beta_Call,self).__init__()\n",
    "        \n",
    "    def on_epoch_end(self, epoch, logs={}):        \n",
    "        #K.set_value(self.beta_ann, np.min([K.get_value(self.beta_ann)+kl_inc*(epoch+1), max_KL])) \n",
    "        if epoch > len(S):\n",
    "            pass\n",
    "        else:\n",
    "            K.set_value(self.beta_ann, S[epoch]) \n",
    "        print(\"on epoch\",epoch,\"beta value is =\",K.get_value(self.beta_ann))"
   ]
  },
  {
   "cell_type": "code",
   "execution_count": null,
   "metadata": {},
   "outputs": [],
   "source": []
  },
  {
   "cell_type": "code",
   "execution_count": 41,
   "metadata": {},
   "outputs": [
    {
     "data": {
      "text/plain": [
       "0.002"
      ]
     },
     "execution_count": 41,
     "metadata": {},
     "output_type": "execute_result"
    }
   ],
   "source": [
    "0.0002/0.1"
   ]
  },
  {
   "cell_type": "code",
   "execution_count": 42,
   "metadata": {},
   "outputs": [
    {
     "data": {
      "text/plain": [
       "0.0033333333333333335"
      ]
     },
     "execution_count": 42,
     "metadata": {},
     "output_type": "execute_result"
    }
   ],
   "source": [
    "0.1/30"
   ]
  },
  {
   "cell_type": "code",
   "execution_count": 44,
   "metadata": {},
   "outputs": [
    {
     "data": {
      "text/plain": [
       "0.0003225806451612904"
      ]
     },
     "execution_count": 44,
     "metadata": {},
     "output_type": "execute_result"
    }
   ],
   "source": [
    "0.1*max_KL/(epochs+1)"
   ]
  },
  {
   "cell_type": "code",
   "execution_count": null,
   "metadata": {},
   "outputs": [],
   "source": []
  },
  {
   "cell_type": "code",
   "execution_count": 37,
   "metadata": {},
   "outputs": [
    {
     "data": {
      "text/plain": [
       "array([1.e-07])"
      ]
     },
     "execution_count": 37,
     "metadata": {},
     "output_type": "execute_result"
    }
   ],
   "source": [
    "np.geomspace(1e-7, 0.1, 30)[0:1]"
   ]
  },
  {
   "cell_type": "code",
   "execution_count": 31,
   "metadata": {},
   "outputs": [
    {
     "data": {
      "text/plain": [
       "array([1.00000000e-07, 1.61026203e-07, 2.59294380e-07, 4.17531894e-07,\n",
       "       6.72335754e-07, 1.08263673e-06, 1.74332882e-06, 2.80721620e-06,\n",
       "       4.52035366e-06, 7.27895384e-06, 1.17210230e-05, 1.88739182e-05,\n",
       "       3.03919538e-05, 4.89390092e-05, 7.88046282e-05, 1.26896100e-04,\n",
       "       2.04335972e-04, 3.29034456e-04, 5.29831691e-04, 8.53167852e-04,\n",
       "       1.37382380e-03, 2.21221629e-03, 3.56224789e-03, 5.73615251e-03,\n",
       "       9.23670857e-03, 1.48735211e-02, 2.39502662e-02, 3.85662042e-02,\n",
       "       6.21016942e-02, 1.00000000e-01])"
      ]
     },
     "execution_count": 31,
     "metadata": {},
     "output_type": "execute_result"
    }
   ],
   "source": [
    "np.geomspace(1e-7, 0.1, 30)"
   ]
  },
  {
   "cell_type": "code",
   "execution_count": 30,
   "metadata": {},
   "outputs": [
    {
     "data": {
      "text/plain": [
       "[<matplotlib.lines.Line2D at 0x7fbf805dec88>]"
      ]
     },
     "execution_count": 30,
     "metadata": {},
     "output_type": "execute_result"
    },
    {
     "data": {
      "image/png": "[encoded data removed]",
      "text/plain": [
       "<Figure size 432x288 with 1 Axes>"
      ]
     },
     "metadata": {
      "needs_background": "light"
     },
     "output_type": "display_data"
    }
   ],
   "source": [
    "plt.plot(np.geomspace(1e-7, 0.1, 30) ,'o-')"
   ]
  },
  {
   "cell_type": "code",
   "execution_count": 39,
   "metadata": {
    "scrolled": true
   },
   "outputs": [
    {
     "name": "stdout",
     "output_type": "stream",
     "text": [
      "pre-encoder network:\n",
      "Model: \"pre-encoder\"\n",
      "_________________________________________________________________\n",
      "Layer (type)                 Output Shape              Param #   \n",
      "=================================================================\n",
      "dense_13 (Dense)             (None, 500)               5000500   \n",
      "_________________________________________________________________\n",
      "batch_normalization_9 (Batch (None, 500)               2000      \n",
      "_________________________________________________________________\n",
      "dense_14 (Dense)             (None, 500)               250500    \n",
      "_________________________________________________________________\n",
      "batch_normalization_10 (Batc (None, 500)               2000      \n",
      "=================================================================\n",
      "Total params: 5,255,000\n",
      "Trainable params: 5,253,000\n",
      "Non-trainable params: 2,000\n",
      "_________________________________________________________________\n",
      "generator network:\n",
      "Model: \"generator/decoder\"\n",
      "_________________________________________________________________\n",
      "Layer (type)                 Output Shape              Param #   \n",
      "=================================================================\n",
      "dense_15 (Dense)             (None, 10000)             330000    \n",
      "=================================================================\n",
      "Total params: 330,000\n",
      "Trainable params: 330,000\n",
      "Non-trainable params: 0\n",
      "_________________________________________________________________\n"
     ]
    }
   ],
   "source": [
    "traditional_vae,encoder_Tvae,generator_Tvae,beta_U = traditional_VAE(X_train.shape[1],Nb=32,units=500,layers_e=2,layers_d=0,beta_ann=True)"
   ]
  },
  {
   "cell_type": "code",
   "execution_count": 40,
   "metadata": {
    "scrolled": true
   },
   "outputs": [
    {
     "name": "stdout",
     "output_type": "stream",
     "text": [
      "Train on 11016 samples, validate on 3667 samples\n",
      "Epoch 1/30\n",
      "11016/11016 [==============================] - 4s 341us/step - loss: 8.5139 - REC_loss: 8.5139 - KL: 520.9705 - val_loss: 7.8282 - val_REC_loss: 7.8282 - val_KL: 812.0287\n",
      "on epoch 0 beta value is = 1e-07\n",
      "Epoch 2/30\n",
      "11016/11016 [==============================] - 3s 229us/step - loss: 7.2822 - REC_loss: 7.2820 - KL: 1231.4378 - val_loss: 7.3772 - val_REC_loss: 7.3770 - val_KL: 1272.4080\n",
      "on epoch 1 beta value is = 1.6102621e-07\n",
      "Epoch 3/30\n",
      "11016/11016 [==============================] - 3s 231us/step - loss: 6.7896 - REC_loss: 6.7893 - KL: 1838.2210 - val_loss: 7.2428 - val_REC_loss: 7.2426 - val_KL: 1510.3989\n",
      "on epoch 2 beta value is = 2.5929438e-07\n",
      "Epoch 4/30\n",
      "11016/11016 [==============================] - 3s 232us/step - loss: 6.5602 - REC_loss: 6.5597 - KL: 2145.0990 - val_loss: 7.1989 - val_REC_loss: 7.1985 - val_KL: 1568.4953\n",
      "on epoch 3 beta value is = 4.175319e-07\n",
      "Epoch 5/30\n",
      "11016/11016 [==============================] - 3s 232us/step - loss: 6.4459 - REC_loss: 6.4449 - KL: 2263.7295 - val_loss: 7.1757 - val_REC_loss: 7.1750 - val_KL: 1586.3258\n",
      "on epoch 4 beta value is = 6.723358e-07\n",
      "Epoch 6/30\n",
      "11016/11016 [==============================] - 3s 230us/step - loss: 6.3697 - REC_loss: 6.3682 - KL: 2300.7281 - val_loss: 7.1657 - val_REC_loss: 7.1647 - val_KL: 1560.7468\n",
      "on epoch 5 beta value is = 1.0826367e-06\n",
      "Epoch 7/30\n",
      "11016/11016 [==============================] - 3s 232us/step - loss: 6.3209 - REC_loss: 6.3184 - KL: 2298.1790 - val_loss: 7.1589 - val_REC_loss: 7.1572 - val_KL: 1540.6856\n",
      "on epoch 6 beta value is = 1.7433288e-06\n",
      "Epoch 8/30\n",
      "11016/11016 [==============================] - 3s 234us/step - loss: 6.2828 - REC_loss: 6.2788 - KL: 2273.3177 - val_loss: 7.1570 - val_REC_loss: 7.1543 - val_KL: 1521.3330\n",
      "on epoch 7 beta value is = 2.807216e-06\n",
      "Epoch 9/30\n",
      "11016/11016 [==============================] - 3s 233us/step - loss: 6.2529 - REC_loss: 6.2466 - KL: 2254.6007 - val_loss: 7.1507 - val_REC_loss: 7.1466 - val_KL: 1474.1673\n",
      "on epoch 8 beta value is = 4.5203537e-06\n",
      "Epoch 10/30\n",
      "11016/11016 [==============================] - 3s 232us/step - loss: 6.2282 - REC_loss: 6.2181 - KL: 2221.2427 - val_loss: 7.1506 - val_REC_loss: 7.1440 - val_KL: 1467.4059\n",
      "on epoch 9 beta value is = 7.278954e-06\n",
      "Epoch 11/30\n",
      "11016/11016 [==============================] - 3s 228us/step - loss: 6.2106 - REC_loss: 6.1947 - KL: 2184.1865 - val_loss: 7.1565 - val_REC_loss: 7.1462 - val_KL: 1418.4202\n",
      "on epoch 10 beta value is = 1.1721023e-05\n",
      "Epoch 12/30\n",
      "11016/11016 [==============================] - 3s 237us/step - loss: 6.2016 - REC_loss: 6.1767 - KL: 2118.9634 - val_loss: 7.1502 - val_REC_loss: 7.1341 - val_KL: 1375.1704\n",
      "on epoch 11 beta value is = 1.8873918e-05\n",
      "Epoch 13/30\n",
      "11016/11016 [==============================] - 3s 230us/step - loss: 6.1941 - REC_loss: 6.1556 - KL: 2042.3290 - val_loss: 7.1598 - val_REC_loss: 7.1347 - val_KL: 1327.8957\n",
      "on epoch 12 beta value is = 3.0391953e-05\n",
      "Epoch 14/30\n",
      "11016/11016 [==============================] - 3s 231us/step - loss: 6.1989 - REC_loss: 6.1401 - KL: 1935.4073 - val_loss: 7.1684 - val_REC_loss: 7.1303 - val_KL: 1252.2735\n",
      "on epoch 13 beta value is = 4.8939008e-05\n",
      "Epoch 15/30\n",
      "11016/11016 [==============================] - 3s 229us/step - loss: 6.2094 - REC_loss: 6.1206 - KL: 1813.7601 - val_loss: 7.1752 - val_REC_loss: 7.1194 - val_KL: 1140.9306\n",
      "on epoch 14 beta value is = 7.880463e-05\n",
      "Epoch 16/30\n",
      "11016/11016 [==============================] - 3s 229us/step - loss: 6.2346 - REC_loss: 6.1056 - KL: 1636.7063 - val_loss: 7.1887 - val_REC_loss: 7.1080 - val_KL: 1024.6769\n",
      "on epoch 15 beta value is = 0.0001268961\n",
      "Epoch 17/30\n",
      "11016/11016 [==============================] - 3s 233us/step - loss: 6.2746 - REC_loss: 6.0919 - KL: 1439.7113 - val_loss: 7.2032 - val_REC_loss: 7.0918 - val_KL: 877.2000\n",
      "on epoch 16 beta value is = 0.00020433597\n",
      "Epoch 18/30\n",
      "11016/11016 [==============================] - 3s 232us/step - loss: 6.3396 - REC_loss: 6.0922 - KL: 1210.6170 - val_loss: 7.2234 - val_REC_loss: 7.0748 - val_KL: 727.2067\n",
      "on epoch 17 beta value is = 0.00032903446\n",
      "Epoch 19/30\n",
      "11016/11016 [==============================] - 3s 230us/step - loss: 6.4253 - REC_loss: 6.1064 - KL: 969.0765 - val_loss: 7.2624 - val_REC_loss: 7.0669 - val_KL: 594.2506\n",
      "on epoch 18 beta value is = 0.0005298317\n",
      "Epoch 20/30\n",
      "11016/11016 [==============================] - 3s 233us/step - loss: 6.5360 - REC_loss: 6.1424 - KL: 742.9322 - val_loss: 7.3088 - val_REC_loss: 7.0702 - val_KL: 450.3788\n",
      "on epoch 19 beta value is = 0.00085316785\n",
      "Epoch 21/30\n",
      "11016/11016 [==============================] - 3s 238us/step - loss: 6.6708 - REC_loss: 6.2045 - KL: 546.5548 - val_loss: 7.3766 - val_REC_loss: 7.0898 - val_KL: 336.1373\n",
      "on epoch 20 beta value is = 0.0013738238\n",
      "Epoch 22/30\n",
      "11016/11016 [==============================] - 3s 235us/step - loss: 6.8279 - REC_loss: 6.2935 - KL: 388.9351 - val_loss: 7.4653 - val_REC_loss: 7.1273 - val_KL: 246.0142\n",
      "on epoch 21 beta value is = 0.0022122164\n",
      "Epoch 23/30\n",
      "11016/11016 [==============================] - 3s 234us/step - loss: 7.0085 - REC_loss: 6.4144 - KL: 268.5374 - val_loss: 7.5679 - val_REC_loss: 7.1868 - val_KL: 172.2721\n",
      "on epoch 22 beta value is = 0.0035622478\n",
      "Epoch 24/30\n",
      "11016/11016 [==============================] - 3s 232us/step - loss: 7.2063 - REC_loss: 6.5623 - KL: 180.7881 - val_loss: 7.6892 - val_REC_loss: 7.2807 - val_KL: 114.6658\n",
      "on epoch 23 beta value is = 0.0057361526\n",
      "Epoch 25/30\n",
      "11016/11016 [==============================] - 3s 229us/step - loss: 7.4201 - REC_loss: 6.7505 - KL: 116.7303 - val_loss: 7.8278 - val_REC_loss: 7.3694 - val_KL: 79.9094\n",
      "on epoch 24 beta value is = 0.009236708\n",
      "Epoch 26/30\n",
      "11016/11016 [==============================] - 3s 233us/step - loss: 7.6485 - REC_loss: 6.9690 - KL: 73.5707 - val_loss: 7.9751 - val_REC_loss: 7.5215 - val_KL: 49.1088\n",
      "on epoch 25 beta value is = 0.014873521\n",
      "Epoch 27/30\n",
      "11016/11016 [==============================] - 3s 232us/step - loss: 7.8772 - REC_loss: 7.2218 - KL: 44.0645 - val_loss: 8.1269 - val_REC_loss: 7.6504 - val_KL: 32.0377\n",
      "on epoch 26 beta value is = 0.023950266\n",
      "Epoch 28/30\n",
      "11016/11016 [==============================] - 3s 233us/step - loss: 8.1009 - REC_loss: 7.4921 - KL: 25.4185 - val_loss: 8.2851 - val_REC_loss: 7.8396 - val_KL: 18.6009\n",
      "on epoch 27 beta value is = 0.038566206\n",
      "Epoch 29/30\n",
      "11016/11016 [==============================] - 3s 232us/step - loss: 8.2984 - REC_loss: 7.7650 - KL: 13.8302 - val_loss: 8.4316 - val_REC_loss: 8.0154 - val_KL: 10.7937\n",
      "on epoch 28 beta value is = 0.062101696\n",
      "Epoch 30/30\n",
      "11016/11016 [==============================] - 3s 229us/step - loss: 8.4735 - REC_loss: 8.0243 - KL: 7.2325 - val_loss: 8.5502 - val_REC_loss: 8.1989 - val_KL: 5.6565\n",
      "on epoch 29 beta value is = 0.1\n"
     ]
    }
   ],
   "source": [
    "hist1 = traditional_vae.fit(X_train_input, X_train, epochs=epochs, batch_size=batch_size\n",
    "                           ,validation_data=(X_val_input,X_val)\n",
    "                           ,callbacks=[Beta_Call(beta_U)] )"
   ]
  },
  {
   "cell_type": "code",
   "execution_count": 146,
   "metadata": {
    "scrolled": true
   },
   "outputs": [
    {
     "name": "stdout",
     "output_type": "stream",
     "text": [
      "pre-encoder network:\n",
      "Model: \"pre-encoder\"\n",
      "_________________________________________________________________\n",
      "Layer (type)                 Output Shape              Param #   \n",
      "=================================================================\n",
      "dense_67 (Dense)             (None, 500)               5000500   \n",
      "_________________________________________________________________\n",
      "batch_normalization_45 (Batc (None, 500)               2000      \n",
      "_________________________________________________________________\n",
      "dense_68 (Dense)             (None, 500)               250500    \n",
      "_________________________________________________________________\n",
      "batch_normalization_46 (Batc (None, 500)               2000      \n",
      "=================================================================\n",
      "Total params: 5,255,000\n",
      "Trainable params: 5,253,000\n",
      "Non-trainable params: 2,000\n",
      "_________________________________________________________________\n",
      "generator network:\n",
      "Model: \"generator/decoder\"\n",
      "_________________________________________________________________\n",
      "Layer (type)                 Output Shape              Param #   \n",
      "=================================================================\n",
      "dense_69 (Dense)             (None, 10000)             330000    \n",
      "=================================================================\n",
      "Total params: 330,000\n",
      "Trainable params: 330,000\n",
      "Non-trainable params: 0\n",
      "_________________________________________________________________\n"
     ]
    }
   ],
   "source": [
    "#binary_vae,encoder_Bvae,generator_Bvae, tau= binary_VAE(X_train.shape[1],Nb=32,units=500,layers_e=2,layers_d=0,tau_ann=True)\n",
    "binary_vae,encoder_Bvae,generator_Bvae, beta_U= binary_VAE(X_train.shape[1],Nb=32,units=500,layers_e=2,layers_d=0,beta_ann=True)"
   ]
  },
  {
   "cell_type": "code",
   "execution_count": 147,
   "metadata": {
    "scrolled": true
   },
   "outputs": [
    {
     "name": "stdout",
     "output_type": "stream",
     "text": [
      "Train on 11016 samples, validate on 3667 samples\n",
      "Epoch 1/30\n",
      "11016/11016 [==============================] - 6s 567us/step - loss: 8.6880 - REC_loss: 8.6880 - KL: 14.0598 - val_loss: 8.3815 - val_REC_loss: 8.3815 - val_KL: 19.7670\n",
      "on epoch 0 beta value is = 0.0003\n",
      "Epoch 2/30\n",
      "11016/11016 [==============================] - 3s 246us/step - loss: 8.3870 - REC_loss: 8.3819 - KL: 16.9998 - val_loss: 8.3283 - val_REC_loss: 8.3229 - val_KL: 17.8946\n",
      "on epoch 1 beta value is = 0.00090000004\n",
      "Epoch 3/30\n",
      "11016/11016 [==============================] - 3s 248us/step - loss: 8.3260 - REC_loss: 8.3106 - KL: 17.1339 - val_loss: 8.2756 - val_REC_loss: 8.2598 - val_KL: 17.5313\n",
      "on epoch 2 beta value is = 0.0018000001\n",
      "Epoch 4/30\n",
      "11016/11016 [==============================] - 3s 246us/step - loss: 8.2623 - REC_loss: 8.2303 - KL: 17.8066 - val_loss: 8.2245 - val_REC_loss: 8.1930 - val_KL: 17.4752\n",
      "on epoch 3 beta value is = 0.003\n",
      "Epoch 5/30\n",
      "11016/11016 [==============================] - 3s 241us/step - loss: 8.2086 - REC_loss: 8.1546 - KL: 17.9826 - val_loss: 8.1855 - val_REC_loss: 8.1340 - val_KL: 17.1924\n",
      "on epoch 4 beta value is = 0.0045\n",
      "Epoch 6/30\n",
      "11016/11016 [==============================] - 3s 246us/step - loss: 8.1691 - REC_loss: 8.0908 - KL: 17.3869 - val_loss: 8.1599 - val_REC_loss: 8.0878 - val_KL: 16.0077\n",
      "on epoch 5 beta value is = 0.0063\n",
      "Epoch 7/30\n",
      "11016/11016 [==============================] - 3s 247us/step - loss: 8.1405 - REC_loss: 8.0380 - KL: 16.2753 - val_loss: 8.1435 - val_REC_loss: 8.0530 - val_KL: 14.3738\n",
      "on epoch 6 beta value is = 0.0084\n",
      "Epoch 8/30\n",
      "11016/11016 [==============================] - 3s 245us/step - loss: 8.1203 - REC_loss: 7.9960 - KL: 14.7979 - val_loss: 8.1340 - val_REC_loss: 8.0259 - val_KL: 12.8664\n",
      "on epoch 7 beta value is = 0.010799999\n",
      "Epoch 9/30\n",
      "11016/11016 [==============================] - 3s 245us/step - loss: 8.1082 - REC_loss: 7.9643 - KL: 13.3265 - val_loss: 8.1299 - val_REC_loss: 8.0052 - val_KL: 11.5448\n",
      "on epoch 8 beta value is = 0.013499999\n",
      "Epoch 10/30\n",
      "11016/11016 [==============================] - 3s 246us/step - loss: 8.1004 - REC_loss: 7.9392 - KL: 11.9415 - val_loss: 8.1291 - val_REC_loss: 7.9909 - val_KL: 10.2316\n",
      "on epoch 9 beta value is = 0.0165\n",
      "Epoch 11/30\n",
      "11016/11016 [==============================] - 3s 245us/step - loss: 8.0981 - REC_loss: 7.9222 - KL: 10.6656 - val_loss: 8.1333 - val_REC_loss: 7.9845 - val_KL: 9.0147\n",
      "on epoch 10 beta value is = 0.0198\n",
      "Epoch 12/30\n",
      "11016/11016 [==============================] - 3s 244us/step - loss: 8.0991 - REC_loss: 7.9089 - KL: 9.6074 - val_loss: 8.1367 - val_REC_loss: 7.9833 - val_KL: 7.7450\n",
      "on epoch 11 beta value is = 0.0234\n",
      "Epoch 13/30\n",
      "11016/11016 [==============================] - 3s 244us/step - loss: 8.1005 - REC_loss: 7.9014 - KL: 8.5073 - val_loss: 8.1441 - val_REC_loss: 7.9820 - val_KL: 6.9261\n",
      "on epoch 12 beta value is = 0.0273\n",
      "Epoch 14/30\n",
      "11016/11016 [==============================] - 3s 243us/step - loss: 8.1067 - REC_loss: 7.9000 - KL: 7.5724 - val_loss: 8.1520 - val_REC_loss: 7.9793 - val_KL: 6.3276\n",
      "on epoch 13 beta value is = 0.0315\n",
      "Epoch 15/30\n",
      "11016/11016 [==============================] - 3s 247us/step - loss: 8.1137 - REC_loss: 7.8985 - KL: 6.8300 - val_loss: 8.1607 - val_REC_loss: 7.9875 - val_KL: 5.4966\n",
      "on epoch 14 beta value is = 0.036000002\n",
      "Epoch 16/30\n",
      "11016/11016 [==============================] - 3s 244us/step - loss: 8.1209 - REC_loss: 7.9003 - KL: 6.1285 - val_loss: 8.1698 - val_REC_loss: 7.9996 - val_KL: 4.7290\n",
      "on epoch 15 beta value is = 0.0408\n",
      "Epoch 17/30\n",
      "11016/11016 [==============================] - 3s 244us/step - loss: 8.1326 - REC_loss: 7.9057 - KL: 5.5619 - val_loss: 8.1814 - val_REC_loss: 8.0037 - val_KL: 4.3557\n",
      "on epoch 16 beta value is = 0.045900002\n",
      "Epoch 18/30\n",
      "11016/11016 [==============================] - 3s 242us/step - loss: 8.1423 - REC_loss: 7.9128 - KL: 5.0014 - val_loss: 8.1883 - val_REC_loss: 8.0087 - val_KL: 3.9139\n",
      "on epoch 17 beta value is = 0.0513\n",
      "Epoch 19/30\n",
      "11016/11016 [==============================] - 3s 243us/step - loss: 8.1537 - REC_loss: 7.9211 - KL: 4.5350 - val_loss: 8.1992 - val_REC_loss: 8.0174 - val_KL: 3.5448\n",
      "on epoch 18 beta value is = 0.057\n",
      "Epoch 20/30\n",
      "11016/11016 [==============================] - 3s 246us/step - loss: 8.1646 - REC_loss: 7.9313 - KL: 4.0940 - val_loss: 8.2090 - val_REC_loss: 8.0292 - val_KL: 3.1558\n",
      "on epoch 19 beta value is = 0.063\n",
      "Epoch 21/30\n",
      "11016/11016 [==============================] - 3s 246us/step - loss: 8.1760 - REC_loss: 7.9415 - KL: 3.7219 - val_loss: 8.2216 - val_REC_loss: 8.0420 - val_KL: 2.8504\n",
      "on epoch 20 beta value is = 0.0693\n",
      "Epoch 22/30\n",
      "11016/11016 [==============================] - 3s 247us/step - loss: 8.1874 - REC_loss: 7.9540 - KL: 3.3681 - val_loss: 8.2317 - val_REC_loss: 8.0549 - val_KL: 2.5517\n",
      "on epoch 21 beta value is = 0.0759\n",
      "Epoch 23/30\n",
      "11016/11016 [==============================] - 3s 253us/step - loss: 8.1996 - REC_loss: 7.9669 - KL: 3.0671 - val_loss: 8.2402 - val_REC_loss: 8.0606 - val_KL: 2.3670\n",
      "on epoch 22 beta value is = 0.0828\n",
      "Epoch 24/30\n",
      "11016/11016 [==============================] - 3s 249us/step - loss: 8.2100 - REC_loss: 7.9788 - KL: 2.7918 - val_loss: 8.2531 - val_REC_loss: 8.0836 - val_KL: 2.0463\n",
      "on epoch 23 beta value is = 0.09\n",
      "Epoch 25/30\n",
      "11016/11016 [==============================] - 3s 251us/step - loss: 8.2213 - REC_loss: 7.9937 - KL: 2.5295 - val_loss: 8.2585 - val_REC_loss: 8.0908 - val_KL: 1.8629\n",
      "on epoch 24 beta value is = 0.097500004\n",
      "Epoch 26/30\n",
      "11016/11016 [==============================] - 3s 247us/step - loss: 8.2345 - REC_loss: 8.0082 - KL: 2.3213 - val_loss: 8.2689 - val_REC_loss: 8.1043 - val_KL: 1.6887\n",
      "on epoch 25 beta value is = 0.1\n",
      "Epoch 27/30\n",
      "11016/11016 [==============================] - 3s 248us/step - loss: 8.2333 - REC_loss: 8.0104 - KL: 2.2296 - val_loss: 8.2741 - val_REC_loss: 8.1100 - val_KL: 1.6412\n",
      "on epoch 26 beta value is = 0.1\n",
      "Epoch 28/30\n",
      "11016/11016 [==============================] - 3s 252us/step - loss: 8.2282 - REC_loss: 8.0048 - KL: 2.2335 - val_loss: 8.2726 - val_REC_loss: 8.1069 - val_KL: 1.6570\n",
      "on epoch 27 beta value is = 0.1\n",
      "Epoch 29/30\n",
      "11016/11016 [==============================] - 3s 240us/step - loss: 8.2239 - REC_loss: 7.9984 - KL: 2.2552 - val_loss: 8.2643 - val_REC_loss: 8.0989 - val_KL: 1.6540\n",
      "on epoch 28 beta value is = 0.1\n",
      "Epoch 30/30\n",
      "11016/11016 [==============================] - 3s 246us/step - loss: 8.2181 - REC_loss: 7.9914 - KL: 2.2666 - val_loss: 8.2684 - val_REC_loss: 8.0974 - val_KL: 1.7098\n",
      "on epoch 29 beta value is = 0.1\n"
     ]
    }
   ],
   "source": [
    "hist2 = binary_vae.fit(X_train_input, X_train, epochs=epochs, batch_size=batch_size\n",
    "                           ,validation_data=(X_val_input,X_val) #)\n",
    "                       #,callbacks=[Tau_Call(tau)] )\n",
    "                       ,callbacks=[Beta_Call(beta_U)] )"
   ]
  },
  {
   "cell_type": "code",
   "execution_count": 148,
   "metadata": {
    "scrolled": true
   },
   "outputs": [
    {
     "data": {
      "image/png": "[encoded data removed]",
      "text/plain": [
       "<Figure size 432x288 with 1 Axes>"
      ]
     },
     "metadata": {
      "needs_background": "light"
     },
     "output_type": "display_data"
    },
    {
     "data": {
      "image/png": "[encoded data removed]",
      "text/plain": [
       "<Figure size 432x288 with 1 Axes>"
      ]
     },
     "metadata": {
      "needs_background": "light"
     },
     "output_type": "display_data"
    },
    {
     "data": {
      "text/plain": [
       "array([[8.03254306e-02, 5.52072346e-01, 9.20233715e-01, ...,\n",
       "        5.49358852e-04, 9.78091206e-01, 9.89026816e-01],\n",
       "       [8.47743109e-01, 4.51313203e-01, 9.96451274e-01, ...,\n",
       "        8.54327193e-01, 5.41966217e-01, 8.35448362e-01],\n",
       "       [4.92832867e-01, 9.75839914e-01, 1.78954709e-01, ...,\n",
       "        6.13572434e-02, 9.30478745e-01, 6.41255283e-01],\n",
       "       ...,\n",
       "       [6.08866872e-01, 7.87405211e-01, 5.17053428e-01, ...,\n",
       "        2.03810812e-02, 8.50483384e-01, 7.35625641e-01],\n",
       "       [9.94633612e-02, 5.75538152e-02, 4.10256916e-05, ...,\n",
       "        2.28450163e-03, 1.27123754e-03, 1.42537548e-02],\n",
       "       [2.78198050e-03, 9.33090008e-01, 9.67082859e-01, ...,\n",
       "        7.59971343e-01, 3.88878822e-01, 7.32981170e-01]])"
      ]
     },
     "execution_count": 148,
     "metadata": {},
     "output_type": "execute_result"
    }
   ],
   "source": [
    "def samp_gumb(logits):\n",
    "    eps = K.epsilon()\n",
    "    U = np.random.uniform(0, 1, logits.shape)\n",
    "    b = logits + np.log(U + eps)- np.log(1-U + eps)\n",
    "    return expit(b/0.5) #maybe lower\n",
    "\n",
    "logits_ = encoder_Bvae.predict(X_train_input)\n",
    "\n",
    "probas_ = expit(logits_)\n",
    "sns.distplot(probas_.flatten())\n",
    "plt.show()\n",
    "\n",
    "\n",
    "X_train_Bcode_samp = samp_gumb(logits_)\n",
    "plt.hist(X_train_Bcode_samp.flatten())\n",
    "plt.show()\n",
    "X_train_Bcode_samp"
   ]
  },
  {
   "cell_type": "code",
   "execution_count": 149,
   "metadata": {},
   "outputs": [
    {
     "data": {
      "text/plain": [
       "array([[0.57, 0.66, 0.45, ..., 0.47, 0.78, 0.68],\n",
       "       [0.32, 0.59, 0.47, ..., 0.52, 0.4 , 0.34],\n",
       "       [0.72, 0.8 , 0.75, ..., 0.06, 0.68, 0.65],\n",
       "       ...,\n",
       "       [0.57, 0.51, 0.39, ..., 0.62, 0.61, 0.54],\n",
       "       [0.38, 0.46, 0.48, ..., 0.18, 0.45, 0.41],\n",
       "       [0.61, 0.08, 0.47, ..., 0.68, 0.59, 0.2 ]], dtype=float32)"
      ]
     },
     "execution_count": 149,
     "metadata": {},
     "output_type": "execute_result"
    }
   ],
   "source": [
    "np.round(probas_, 2)"
   ]
  },
  {
   "cell_type": "code",
   "execution_count": 150,
   "metadata": {},
   "outputs": [
    {
     "data": {
      "text/plain": [
       "array([[0.08, 0.55, 0.92, ..., 0.  , 0.98, 0.99],\n",
       "       [0.85, 0.45, 1.  , ..., 0.85, 0.54, 0.84],\n",
       "       [0.49, 0.98, 0.18, ..., 0.06, 0.93, 0.64],\n",
       "       ...,\n",
       "       [0.61, 0.79, 0.52, ..., 0.02, 0.85, 0.74],\n",
       "       [0.1 , 0.06, 0.  , ..., 0.  , 0.  , 0.01],\n",
       "       [0.  , 0.93, 0.97, ..., 0.76, 0.39, 0.73]])"
      ]
     },
     "execution_count": 150,
     "metadata": {},
     "output_type": "execute_result"
    }
   ],
   "source": [
    "np.round(X_train_Bcode_samp, 2)"
   ]
  },
  {
   "cell_type": "code",
   "execution_count": 151,
   "metadata": {},
   "outputs": [
    {
     "name": "stdout",
     "output_type": "stream",
     "text": [
      "Realizado sobre dataset  20News con precision y recall para B-VAE 0.5370365321701219 0.09562607647773273\n"
     ]
    }
   ],
   "source": [
    "p_b,r_b = evaluate_hashing(encoder_Bvae,X_train_input,X_test_input,labels_train,labels_test,traditional=False,tipo=\"topK\")\n",
    "print(\"Realizado sobre dataset \",dat_n,\"con precision y recall para B-VAE\",p_b,r_b)"
   ]
  },
  {
   "cell_type": "code",
   "execution_count": 57,
   "metadata": {},
   "outputs": [
    {
     "name": "stdout",
     "output_type": "stream",
     "text": [
      "Realizado sobre dataset  20News con precision y recall para B-VAE 0.5534105779716483 0.09860884631568843\n"
     ]
    }
   ],
   "source": [
    "p_b,r_b = evaluate_hashing(encoder_Bvae,X_train_input,X_test_input,labels_train,labels_test,traditional=False,tipo=\"topK\")\n",
    "print(\"Realizado sobre dataset \",dat_n,\"con precision y recall para B-VAE\",p_b,r_b)\n",
    "#kl increase multiplicativo de 1/5000."
   ]
  },
  {
   "cell_type": "code",
   "execution_count": null,
   "metadata": {},
   "outputs": [],
   "source": []
  },
  {
   "cell_type": "code",
   "execution_count": 13,
   "metadata": {},
   "outputs": [],
   "source": [
    "X_total_input = np.concatenate((X_train_input,X_val_input),axis=0)\n",
    "X_total = np.concatenate((X_train,X_val),axis=0)\n",
    "labels_total = np.concatenate((labels_train,labels_val),axis=0)"
   ]
  },
  {
   "cell_type": "code",
   "execution_count": 12,
   "metadata": {},
   "outputs": [],
   "source": [
    "def exp(l=2):\n",
    "    traditional_vae,encoder_Tvae,generator_Tvae,beta_U = traditional_VAE(X_train.shape[1],Nb=32,units=500,layers_e=2,layers_d=l,summ=False,beta_ann=True)\n",
    "    traditional_vae.fit(X_total_input, X_total, epochs=50, batch_size=batch_size,verbose=0,callbacks=[Beta_Call(beta_U)])\n",
    "\n",
    "    #binary_vae,encoder_Bvae,generator_Bvae,tau = binary_VAE(X_train.shape[1],Nb=32,units=500,layers_e=2,layers_d=l,summ=False, tau_ann=True)\n",
    "    #binary_vae.fit(X_total_input, X_total, epochs=50, batch_size=batch_size,verbose=0, callbacks=[Tau_Call(tau)])\n",
    "    binary_vae,encoder_Bvae,generator_Bvae,beta_U = binary_VAE(X_train.shape[1],Nb=32,units=500,layers_e=2,layers_d=l,summ=False, beta_ann=True)\n",
    "    binary_vae.fit(X_total_input, X_total, epochs=50, batch_size=batch_size,verbose=0, callbacks=[Beta_Call(beta_U)])\n",
    "\n",
    "    p_t,r_t = evaluate_hashing(encoder_Tvae,X_total_input,X_test_input,labels_total,labels_test,traditional=True,tipo=\"topK\")\n",
    "    print(\"Realizado sobre dataset \",dat_n,\"con precision y recall para VAE\",p_t,r_t)\n",
    "\n",
    "    p_b,r_b = evaluate_hashing(encoder_Bvae,X_total_input,X_test_input,labels_total,labels_test,traditional=False,tipo=\"topK\")\n",
    "    print(\"Realizado sobre dataset \",dat_n,\"con precision y recall para B-VAE\",p_b,r_b)\n",
    "    \n",
    "    keras.backend.clear_session()\n",
    "    gc.collect()"
   ]
  },
  {
   "cell_type": "code",
   "execution_count": 232,
   "metadata": {
    "scrolled": true
   },
   "outputs": [
    {
     "name": "stdout",
     "output_type": "stream",
     "text": [
      "1.0\n",
      "Realizado sobre dataset  20News con precision y recall para VAE 0.5358860414394787 0.07169621492642118\n",
      "Realizado sobre dataset  20News con precision y recall para B-VAE 0.514792802617231 0.06908351854772711\n",
      "1.0\n",
      "Realizado sobre dataset  20News con precision y recall para VAE 0.5641494002181043 0.07547832503841616\n",
      "Realizado sobre dataset  20News con precision y recall para B-VAE 0.5189912758996736 0.06966971662297866\n",
      "1.0\n",
      "Realizado sobre dataset  20News con precision y recall para VAE 0.5364040348964018 0.07178614620659336\n",
      "Realizado sobre dataset  20News con precision y recall para B-VAE 0.5157633587786271 0.06920664245568905\n",
      "1.0\n",
      "Realizado sobre dataset  20News con precision y recall para VAE 0.5455452562704487 0.07304760049410025\n",
      "Realizado sobre dataset  20News con precision y recall para B-VAE 0.5142557251908405 0.06901806472138432\n"
     ]
    }
   ],
   "source": [
    "# con BN -- BVAE con annealing b=1/100\n",
    "exp(l=0)\n",
    "exp(l=0)\n",
    "exp(l=0)\n",
    "exp(l=0)"
   ]
  },
  {
   "cell_type": "code",
   "execution_count": 234,
   "metadata": {
    "scrolled": true
   },
   "outputs": [
    {
     "name": "stdout",
     "output_type": "stream",
     "text": [
      "1.0\n",
      "Realizado sobre dataset  20News con precision y recall para VAE 0.5418675027262835 0.07269780345505834\n",
      "Realizado sobre dataset  20News con precision y recall para B-VAE 0.5372110141766646 0.0720346349883094\n",
      "1.0\n",
      "Realizado sobre dataset  20News con precision y recall para VAE 0.5418320610687041 0.07249159156955282\n",
      "Realizado sobre dataset  20News con precision y recall para B-VAE 0.5375218102508178 0.0721310589667499\n"
     ]
    },
    {
     "ename": "KeyboardInterrupt",
     "evalue": "",
     "output_type": "error",
     "traceback": [
      "\u001b[0;31m---------------------------------------------------------------------------\u001b[0m",
      "\u001b[0;31mKeyboardInterrupt\u001b[0m                         Traceback (most recent call last)",
      "\u001b[0;32m<ipython-input-234-ac91bdc58ea7>\u001b[0m in \u001b[0;36m<module>\u001b[0;34m\u001b[0m\n\u001b[1;32m      2\u001b[0m \u001b[0mexp\u001b[0m\u001b[0;34m(\u001b[0m\u001b[0ml\u001b[0m\u001b[0;34m=\u001b[0m\u001b[0;36m0\u001b[0m\u001b[0;34m)\u001b[0m\u001b[0;34m\u001b[0m\u001b[0;34m\u001b[0m\u001b[0m\n\u001b[1;32m      3\u001b[0m \u001b[0mexp\u001b[0m\u001b[0;34m(\u001b[0m\u001b[0ml\u001b[0m\u001b[0;34m=\u001b[0m\u001b[0;36m0\u001b[0m\u001b[0;34m)\u001b[0m\u001b[0;34m\u001b[0m\u001b[0;34m\u001b[0m\u001b[0m\n\u001b[0;32m----> 4\u001b[0;31m \u001b[0mexp\u001b[0m\u001b[0;34m(\u001b[0m\u001b[0ml\u001b[0m\u001b[0;34m=\u001b[0m\u001b[0;36m0\u001b[0m\u001b[0;34m)\u001b[0m\u001b[0;34m\u001b[0m\u001b[0;34m\u001b[0m\u001b[0m\n\u001b[0m\u001b[1;32m      5\u001b[0m \u001b[0mexp\u001b[0m\u001b[0;34m(\u001b[0m\u001b[0ml\u001b[0m\u001b[0;34m=\u001b[0m\u001b[0;36m0\u001b[0m\u001b[0;34m)\u001b[0m\u001b[0;34m\u001b[0m\u001b[0;34m\u001b[0m\u001b[0m\n",
      "\u001b[0;32m<ipython-input-231-b59a79aeedb3>\u001b[0m in \u001b[0;36mexp\u001b[0;34m(l)\u001b[0m\n\u001b[1;32m      1\u001b[0m \u001b[0;32mdef\u001b[0m \u001b[0mexp\u001b[0m\u001b[0;34m(\u001b[0m\u001b[0ml\u001b[0m\u001b[0;34m=\u001b[0m\u001b[0;36m2\u001b[0m\u001b[0;34m)\u001b[0m\u001b[0;34m:\u001b[0m\u001b[0;34m\u001b[0m\u001b[0;34m\u001b[0m\u001b[0m\n\u001b[1;32m      2\u001b[0m     \u001b[0mtraditional_vae\u001b[0m\u001b[0;34m,\u001b[0m\u001b[0mencoder_Tvae\u001b[0m\u001b[0;34m,\u001b[0m\u001b[0mgenerator_Tvae\u001b[0m \u001b[0;34m=\u001b[0m \u001b[0mtraditional_VAE\u001b[0m\u001b[0;34m(\u001b[0m\u001b[0mX_train\u001b[0m\u001b[0;34m.\u001b[0m\u001b[0mshape\u001b[0m\u001b[0;34m[\u001b[0m\u001b[0;36m1\u001b[0m\u001b[0;34m]\u001b[0m\u001b[0;34m,\u001b[0m\u001b[0mNb\u001b[0m\u001b[0;34m=\u001b[0m\u001b[0;36m32\u001b[0m\u001b[0;34m,\u001b[0m\u001b[0munits\u001b[0m\u001b[0;34m=\u001b[0m\u001b[0;36m500\u001b[0m\u001b[0;34m,\u001b[0m\u001b[0mlayers_e\u001b[0m\u001b[0;34m=\u001b[0m\u001b[0;36m2\u001b[0m\u001b[0;34m,\u001b[0m\u001b[0mlayers_d\u001b[0m\u001b[0;34m=\u001b[0m\u001b[0ml\u001b[0m\u001b[0;34m,\u001b[0m\u001b[0msumm\u001b[0m\u001b[0;34m=\u001b[0m\u001b[0;32mFalse\u001b[0m\u001b[0;34m)\u001b[0m\u001b[0;34m\u001b[0m\u001b[0;34m\u001b[0m\u001b[0m\n\u001b[0;32m----> 3\u001b[0;31m     \u001b[0mtraditional_vae\u001b[0m\u001b[0;34m.\u001b[0m\u001b[0mfit\u001b[0m\u001b[0;34m(\u001b[0m\u001b[0mX_total_input\u001b[0m\u001b[0;34m,\u001b[0m \u001b[0mX_total\u001b[0m\u001b[0;34m,\u001b[0m \u001b[0mepochs\u001b[0m\u001b[0;34m=\u001b[0m\u001b[0;36m50\u001b[0m\u001b[0;34m,\u001b[0m \u001b[0mbatch_size\u001b[0m\u001b[0;34m=\u001b[0m\u001b[0mbatch_size\u001b[0m\u001b[0;34m,\u001b[0m\u001b[0mverbose\u001b[0m\u001b[0;34m=\u001b[0m\u001b[0;36m0\u001b[0m\u001b[0;34m)\u001b[0m\u001b[0;34m\u001b[0m\u001b[0;34m\u001b[0m\u001b[0m\n\u001b[0m\u001b[1;32m      4\u001b[0m \u001b[0;34m\u001b[0m\u001b[0m\n\u001b[1;32m      5\u001b[0m     \u001b[0mbinary_vae\u001b[0m\u001b[0;34m,\u001b[0m\u001b[0mencoder_Bvae\u001b[0m\u001b[0;34m,\u001b[0m\u001b[0mgenerator_Bvae\u001b[0m\u001b[0;34m,\u001b[0m\u001b[0mtau\u001b[0m \u001b[0;34m=\u001b[0m \u001b[0mbinary_VAE\u001b[0m\u001b[0;34m(\u001b[0m\u001b[0mX_train\u001b[0m\u001b[0;34m.\u001b[0m\u001b[0mshape\u001b[0m\u001b[0;34m[\u001b[0m\u001b[0;36m1\u001b[0m\u001b[0;34m]\u001b[0m\u001b[0;34m,\u001b[0m\u001b[0mNb\u001b[0m\u001b[0;34m=\u001b[0m\u001b[0;36m32\u001b[0m\u001b[0;34m,\u001b[0m\u001b[0munits\u001b[0m\u001b[0;34m=\u001b[0m\u001b[0;36m500\u001b[0m\u001b[0;34m,\u001b[0m\u001b[0mlayers_e\u001b[0m\u001b[0;34m=\u001b[0m\u001b[0;36m2\u001b[0m\u001b[0;34m,\u001b[0m\u001b[0mlayers_d\u001b[0m\u001b[0;34m=\u001b[0m\u001b[0ml\u001b[0m\u001b[0;34m,\u001b[0m\u001b[0msumm\u001b[0m\u001b[0;34m=\u001b[0m\u001b[0;32mFalse\u001b[0m\u001b[0;34m,\u001b[0m \u001b[0mtau_ann\u001b[0m\u001b[0;34m=\u001b[0m\u001b[0;32mTrue\u001b[0m\u001b[0;34m)\u001b[0m\u001b[0;34m\u001b[0m\u001b[0;34m\u001b[0m\u001b[0m\n",
      "\u001b[0;32m/home/casapanshop/anaconda2/envs/newpy3_tf1/lib/python3.6/site-packages/keras/engine/training.py\u001b[0m in \u001b[0;36mfit\u001b[0;34m(self, x, y, batch_size, epochs, verbose, callbacks, validation_split, validation_data, shuffle, class_weight, sample_weight, initial_epoch, steps_per_epoch, validation_steps, validation_freq, max_queue_size, workers, use_multiprocessing, **kwargs)\u001b[0m\n\u001b[1;32m   1176\u001b[0m                                         \u001b[0msteps_per_epoch\u001b[0m\u001b[0;34m=\u001b[0m\u001b[0msteps_per_epoch\u001b[0m\u001b[0;34m,\u001b[0m\u001b[0;34m\u001b[0m\u001b[0;34m\u001b[0m\u001b[0m\n\u001b[1;32m   1177\u001b[0m                                         \u001b[0mvalidation_steps\u001b[0m\u001b[0;34m=\u001b[0m\u001b[0mvalidation_steps\u001b[0m\u001b[0;34m,\u001b[0m\u001b[0;34m\u001b[0m\u001b[0;34m\u001b[0m\u001b[0m\n\u001b[0;32m-> 1178\u001b[0;31m                                         validation_freq=validation_freq)\n\u001b[0m\u001b[1;32m   1179\u001b[0m \u001b[0;34m\u001b[0m\u001b[0m\n\u001b[1;32m   1180\u001b[0m     def evaluate(self,\n",
      "\u001b[0;32m/home/casapanshop/anaconda2/envs/newpy3_tf1/lib/python3.6/site-packages/keras/engine/training_arrays.py\u001b[0m in \u001b[0;36mfit_loop\u001b[0;34m(model, fit_function, fit_inputs, out_labels, batch_size, epochs, verbose, callbacks, val_function, val_inputs, shuffle, callback_metrics, initial_epoch, steps_per_epoch, validation_steps, validation_freq)\u001b[0m\n\u001b[1;32m    202\u001b[0m                     \u001b[0mins_batch\u001b[0m\u001b[0;34m[\u001b[0m\u001b[0mi\u001b[0m\u001b[0;34m]\u001b[0m \u001b[0;34m=\u001b[0m \u001b[0mins_batch\u001b[0m\u001b[0;34m[\u001b[0m\u001b[0mi\u001b[0m\u001b[0;34m]\u001b[0m\u001b[0;34m.\u001b[0m\u001b[0mtoarray\u001b[0m\u001b[0;34m(\u001b[0m\u001b[0;34m)\u001b[0m\u001b[0;34m\u001b[0m\u001b[0;34m\u001b[0m\u001b[0m\n\u001b[1;32m    203\u001b[0m \u001b[0;34m\u001b[0m\u001b[0m\n\u001b[0;32m--> 204\u001b[0;31m                 \u001b[0mouts\u001b[0m \u001b[0;34m=\u001b[0m \u001b[0mfit_function\u001b[0m\u001b[0;34m(\u001b[0m\u001b[0mins_batch\u001b[0m\u001b[0;34m)\u001b[0m\u001b[0;34m\u001b[0m\u001b[0;34m\u001b[0m\u001b[0m\n\u001b[0m\u001b[1;32m    205\u001b[0m                 \u001b[0mouts\u001b[0m \u001b[0;34m=\u001b[0m \u001b[0mto_list\u001b[0m\u001b[0;34m(\u001b[0m\u001b[0mouts\u001b[0m\u001b[0;34m)\u001b[0m\u001b[0;34m\u001b[0m\u001b[0;34m\u001b[0m\u001b[0m\n\u001b[1;32m    206\u001b[0m                 \u001b[0;32mfor\u001b[0m \u001b[0ml\u001b[0m\u001b[0;34m,\u001b[0m \u001b[0mo\u001b[0m \u001b[0;32min\u001b[0m \u001b[0mzip\u001b[0m\u001b[0;34m(\u001b[0m\u001b[0mout_labels\u001b[0m\u001b[0;34m,\u001b[0m \u001b[0mouts\u001b[0m\u001b[0;34m)\u001b[0m\u001b[0;34m:\u001b[0m\u001b[0;34m\u001b[0m\u001b[0;34m\u001b[0m\u001b[0m\n",
      "\u001b[0;32m/home/casapanshop/anaconda2/envs/newpy3_tf1/lib/python3.6/site-packages/keras/backend/tensorflow_backend.py\u001b[0m in \u001b[0;36m__call__\u001b[0;34m(self, inputs)\u001b[0m\n\u001b[1;32m   2977\u001b[0m                     \u001b[0;32mreturn\u001b[0m \u001b[0mself\u001b[0m\u001b[0;34m.\u001b[0m\u001b[0m_legacy_call\u001b[0m\u001b[0;34m(\u001b[0m\u001b[0minputs\u001b[0m\u001b[0;34m)\u001b[0m\u001b[0;34m\u001b[0m\u001b[0;34m\u001b[0m\u001b[0m\n\u001b[1;32m   2978\u001b[0m \u001b[0;34m\u001b[0m\u001b[0m\n\u001b[0;32m-> 2979\u001b[0;31m             \u001b[0;32mreturn\u001b[0m \u001b[0mself\u001b[0m\u001b[0;34m.\u001b[0m\u001b[0m_call\u001b[0m\u001b[0;34m(\u001b[0m\u001b[0minputs\u001b[0m\u001b[0;34m)\u001b[0m\u001b[0;34m\u001b[0m\u001b[0;34m\u001b[0m\u001b[0m\n\u001b[0m\u001b[1;32m   2980\u001b[0m         \u001b[0;32melse\u001b[0m\u001b[0;34m:\u001b[0m\u001b[0;34m\u001b[0m\u001b[0;34m\u001b[0m\u001b[0m\n\u001b[1;32m   2981\u001b[0m             \u001b[0;32mif\u001b[0m \u001b[0mpy_any\u001b[0m\u001b[0;34m(\u001b[0m\u001b[0mis_tensor\u001b[0m\u001b[0;34m(\u001b[0m\u001b[0mx\u001b[0m\u001b[0;34m)\u001b[0m \u001b[0;32mfor\u001b[0m \u001b[0mx\u001b[0m \u001b[0;32min\u001b[0m \u001b[0minputs\u001b[0m\u001b[0;34m)\u001b[0m\u001b[0;34m:\u001b[0m\u001b[0;34m\u001b[0m\u001b[0;34m\u001b[0m\u001b[0m\n",
      "\u001b[0;32m/home/casapanshop/anaconda2/envs/newpy3_tf1/lib/python3.6/site-packages/keras/backend/tensorflow_backend.py\u001b[0m in \u001b[0;36m_call\u001b[0;34m(self, inputs)\u001b[0m\n\u001b[1;32m   2935\u001b[0m             \u001b[0mfetched\u001b[0m \u001b[0;34m=\u001b[0m \u001b[0mself\u001b[0m\u001b[0;34m.\u001b[0m\u001b[0m_callable_fn\u001b[0m\u001b[0;34m(\u001b[0m\u001b[0;34m*\u001b[0m\u001b[0marray_vals\u001b[0m\u001b[0;34m,\u001b[0m \u001b[0mrun_metadata\u001b[0m\u001b[0;34m=\u001b[0m\u001b[0mself\u001b[0m\u001b[0;34m.\u001b[0m\u001b[0mrun_metadata\u001b[0m\u001b[0;34m)\u001b[0m\u001b[0;34m\u001b[0m\u001b[0;34m\u001b[0m\u001b[0m\n\u001b[1;32m   2936\u001b[0m         \u001b[0;32melse\u001b[0m\u001b[0;34m:\u001b[0m\u001b[0;34m\u001b[0m\u001b[0;34m\u001b[0m\u001b[0m\n\u001b[0;32m-> 2937\u001b[0;31m             \u001b[0mfetched\u001b[0m \u001b[0;34m=\u001b[0m \u001b[0mself\u001b[0m\u001b[0;34m.\u001b[0m\u001b[0m_callable_fn\u001b[0m\u001b[0;34m(\u001b[0m\u001b[0;34m*\u001b[0m\u001b[0marray_vals\u001b[0m\u001b[0;34m)\u001b[0m\u001b[0;34m\u001b[0m\u001b[0;34m\u001b[0m\u001b[0m\n\u001b[0m\u001b[1;32m   2938\u001b[0m         \u001b[0;32mreturn\u001b[0m \u001b[0mfetched\u001b[0m\u001b[0;34m[\u001b[0m\u001b[0;34m:\u001b[0m\u001b[0mlen\u001b[0m\u001b[0;34m(\u001b[0m\u001b[0mself\u001b[0m\u001b[0;34m.\u001b[0m\u001b[0moutputs\u001b[0m\u001b[0;34m)\u001b[0m\u001b[0;34m]\u001b[0m\u001b[0;34m\u001b[0m\u001b[0;34m\u001b[0m\u001b[0m\n\u001b[1;32m   2939\u001b[0m \u001b[0;34m\u001b[0m\u001b[0m\n",
      "\u001b[0;32m/home/casapanshop/anaconda2/envs/newpy3_tf1/lib/python3.6/site-packages/tensorflow/python/client/session.py\u001b[0m in \u001b[0;36m__call__\u001b[0;34m(self, *args, **kwargs)\u001b[0m\n\u001b[1;32m   1456\u001b[0m         ret = tf_session.TF_SessionRunCallable(self._session._session,\n\u001b[1;32m   1457\u001b[0m                                                \u001b[0mself\u001b[0m\u001b[0;34m.\u001b[0m\u001b[0m_handle\u001b[0m\u001b[0;34m,\u001b[0m \u001b[0margs\u001b[0m\u001b[0;34m,\u001b[0m\u001b[0;34m\u001b[0m\u001b[0;34m\u001b[0m\u001b[0m\n\u001b[0;32m-> 1458\u001b[0;31m                                                run_metadata_ptr)\n\u001b[0m\u001b[1;32m   1459\u001b[0m         \u001b[0;32mif\u001b[0m \u001b[0mrun_metadata\u001b[0m\u001b[0;34m:\u001b[0m\u001b[0;34m\u001b[0m\u001b[0;34m\u001b[0m\u001b[0m\n\u001b[1;32m   1460\u001b[0m           \u001b[0mproto_data\u001b[0m \u001b[0;34m=\u001b[0m \u001b[0mtf_session\u001b[0m\u001b[0;34m.\u001b[0m\u001b[0mTF_GetBuffer\u001b[0m\u001b[0;34m(\u001b[0m\u001b[0mrun_metadata_ptr\u001b[0m\u001b[0;34m)\u001b[0m\u001b[0;34m\u001b[0m\u001b[0;34m\u001b[0m\u001b[0m\n",
      "\u001b[0;31mKeyboardInterrupt\u001b[0m: "
     ]
    }
   ],
   "source": [
    "# con BN -- BVAE con annealing b=1/1000\n",
    "exp(l=0)\n",
    "exp(l=0)\n",
    "exp(l=0)\n",
    "exp(l=0)"
   ]
  },
  {
   "cell_type": "code",
   "execution_count": 171,
   "metadata": {
    "scrolled": true
   },
   "outputs": [
    {
     "name": "stdout",
     "output_type": "stream",
     "text": [
      "Realizado sobre dataset  20News con precision y recall para VAE 0.5694056706652142 0.07618425243622813\n",
      "Realizado sobre dataset  20News con precision y recall para B-VAE 0.5904143947655411 0.07903802051032062\n",
      "Realizado sobre dataset  20News con precision y recall para VAE 0.5630234460196313 0.07543168567853673\n",
      "Realizado sobre dataset  20News con precision y recall para B-VAE 0.5828462377317352 0.07794720639827256\n"
     ]
    },
    {
     "ename": "KeyboardInterrupt",
     "evalue": "",
     "output_type": "error",
     "traceback": [
      "\u001b[0;31m---------------------------------------------------------------------------\u001b[0m",
      "\u001b[0;31mKeyboardInterrupt\u001b[0m                         Traceback (most recent call last)",
      "\u001b[0;32m<ipython-input-171-0e1b13ac4640>\u001b[0m in \u001b[0;36m<module>\u001b[0;34m\u001b[0m\n\u001b[1;32m      2\u001b[0m \u001b[0mexp\u001b[0m\u001b[0;34m(\u001b[0m\u001b[0ml\u001b[0m\u001b[0;34m=\u001b[0m\u001b[0;36m0\u001b[0m\u001b[0;34m)\u001b[0m\u001b[0;34m\u001b[0m\u001b[0;34m\u001b[0m\u001b[0m\n\u001b[1;32m      3\u001b[0m \u001b[0mexp\u001b[0m\u001b[0;34m(\u001b[0m\u001b[0ml\u001b[0m\u001b[0;34m=\u001b[0m\u001b[0;36m0\u001b[0m\u001b[0;34m)\u001b[0m\u001b[0;34m\u001b[0m\u001b[0;34m\u001b[0m\u001b[0m\n\u001b[0;32m----> 4\u001b[0;31m \u001b[0mexp\u001b[0m\u001b[0;34m(\u001b[0m\u001b[0ml\u001b[0m\u001b[0;34m=\u001b[0m\u001b[0;36m0\u001b[0m\u001b[0;34m)\u001b[0m\u001b[0;34m\u001b[0m\u001b[0;34m\u001b[0m\u001b[0m\n\u001b[0m\u001b[1;32m      5\u001b[0m \u001b[0mexp\u001b[0m\u001b[0;34m(\u001b[0m\u001b[0ml\u001b[0m\u001b[0;34m=\u001b[0m\u001b[0;36m0\u001b[0m\u001b[0;34m)\u001b[0m\u001b[0;34m\u001b[0m\u001b[0;34m\u001b[0m\u001b[0m\n",
      "\u001b[0;32m<ipython-input-170-238d987a6757>\u001b[0m in \u001b[0;36mexp\u001b[0;34m(l)\u001b[0m\n\u001b[1;32m      6\u001b[0m     \u001b[0;31m#binary_vae.fit(X_total_input, X_total, epochs=50, batch_size=batch_size,verbose=0, callbacks=[Tau_Call(tau)])\u001b[0m\u001b[0;34m\u001b[0m\u001b[0;34m\u001b[0m\u001b[0;34m\u001b[0m\u001b[0m\n\u001b[1;32m      7\u001b[0m     \u001b[0mbinary_vae\u001b[0m\u001b[0;34m,\u001b[0m\u001b[0mencoder_Bvae\u001b[0m\u001b[0;34m,\u001b[0m\u001b[0mgenerator_Bvae\u001b[0m\u001b[0;34m,\u001b[0m\u001b[0mbeta_U\u001b[0m \u001b[0;34m=\u001b[0m \u001b[0mbinary_VAE\u001b[0m\u001b[0;34m(\u001b[0m\u001b[0mX_train\u001b[0m\u001b[0;34m.\u001b[0m\u001b[0mshape\u001b[0m\u001b[0;34m[\u001b[0m\u001b[0;36m1\u001b[0m\u001b[0;34m]\u001b[0m\u001b[0;34m,\u001b[0m\u001b[0mNb\u001b[0m\u001b[0;34m=\u001b[0m\u001b[0;36m32\u001b[0m\u001b[0;34m,\u001b[0m\u001b[0munits\u001b[0m\u001b[0;34m=\u001b[0m\u001b[0;36m500\u001b[0m\u001b[0;34m,\u001b[0m\u001b[0mlayers_e\u001b[0m\u001b[0;34m=\u001b[0m\u001b[0;36m2\u001b[0m\u001b[0;34m,\u001b[0m\u001b[0mlayers_d\u001b[0m\u001b[0;34m=\u001b[0m\u001b[0ml\u001b[0m\u001b[0;34m,\u001b[0m\u001b[0msumm\u001b[0m\u001b[0;34m=\u001b[0m\u001b[0;32mFalse\u001b[0m\u001b[0;34m,\u001b[0m \u001b[0mbeta_ann\u001b[0m\u001b[0;34m=\u001b[0m\u001b[0;32mTrue\u001b[0m\u001b[0;34m)\u001b[0m\u001b[0;34m\u001b[0m\u001b[0;34m\u001b[0m\u001b[0m\n\u001b[0;32m----> 8\u001b[0;31m     \u001b[0mbinary_vae\u001b[0m\u001b[0;34m.\u001b[0m\u001b[0mfit\u001b[0m\u001b[0;34m(\u001b[0m\u001b[0mX_total_input\u001b[0m\u001b[0;34m,\u001b[0m \u001b[0mX_total\u001b[0m\u001b[0;34m,\u001b[0m \u001b[0mepochs\u001b[0m\u001b[0;34m=\u001b[0m\u001b[0;36m50\u001b[0m\u001b[0;34m,\u001b[0m \u001b[0mbatch_size\u001b[0m\u001b[0;34m=\u001b[0m\u001b[0mbatch_size\u001b[0m\u001b[0;34m,\u001b[0m\u001b[0mverbose\u001b[0m\u001b[0;34m=\u001b[0m\u001b[0;36m0\u001b[0m\u001b[0;34m,\u001b[0m \u001b[0mcallbacks\u001b[0m\u001b[0;34m=\u001b[0m\u001b[0;34m[\u001b[0m\u001b[0mBeta_Call\u001b[0m\u001b[0;34m(\u001b[0m\u001b[0mbeta_U\u001b[0m\u001b[0;34m)\u001b[0m\u001b[0;34m]\u001b[0m\u001b[0;34m)\u001b[0m\u001b[0;34m\u001b[0m\u001b[0;34m\u001b[0m\u001b[0m\n\u001b[0m\u001b[1;32m      9\u001b[0m \u001b[0;34m\u001b[0m\u001b[0m\n\u001b[1;32m     10\u001b[0m     \u001b[0mp_t\u001b[0m\u001b[0;34m,\u001b[0m\u001b[0mr_t\u001b[0m \u001b[0;34m=\u001b[0m \u001b[0mevaluate_hashing\u001b[0m\u001b[0;34m(\u001b[0m\u001b[0mencoder_Tvae\u001b[0m\u001b[0;34m,\u001b[0m\u001b[0mX_total_input\u001b[0m\u001b[0;34m,\u001b[0m\u001b[0mX_test_input\u001b[0m\u001b[0;34m,\u001b[0m\u001b[0mlabels_total\u001b[0m\u001b[0;34m,\u001b[0m\u001b[0mlabels_test\u001b[0m\u001b[0;34m,\u001b[0m\u001b[0mtraditional\u001b[0m\u001b[0;34m=\u001b[0m\u001b[0;32mTrue\u001b[0m\u001b[0;34m,\u001b[0m\u001b[0mtipo\u001b[0m\u001b[0;34m=\u001b[0m\u001b[0;34m\"topK\"\u001b[0m\u001b[0;34m)\u001b[0m\u001b[0;34m\u001b[0m\u001b[0;34m\u001b[0m\u001b[0m\n",
      "\u001b[0;32m/home/casapanshop/anaconda2/envs/newpy3_tf1/lib/python3.6/site-packages/keras/engine/training.py\u001b[0m in \u001b[0;36mfit\u001b[0;34m(self, x, y, batch_size, epochs, verbose, callbacks, validation_split, validation_data, shuffle, class_weight, sample_weight, initial_epoch, steps_per_epoch, validation_steps, validation_freq, max_queue_size, workers, use_multiprocessing, **kwargs)\u001b[0m\n\u001b[1;32m   1176\u001b[0m                                         \u001b[0msteps_per_epoch\u001b[0m\u001b[0;34m=\u001b[0m\u001b[0msteps_per_epoch\u001b[0m\u001b[0;34m,\u001b[0m\u001b[0;34m\u001b[0m\u001b[0;34m\u001b[0m\u001b[0m\n\u001b[1;32m   1177\u001b[0m                                         \u001b[0mvalidation_steps\u001b[0m\u001b[0;34m=\u001b[0m\u001b[0mvalidation_steps\u001b[0m\u001b[0;34m,\u001b[0m\u001b[0;34m\u001b[0m\u001b[0;34m\u001b[0m\u001b[0m\n\u001b[0;32m-> 1178\u001b[0;31m                                         validation_freq=validation_freq)\n\u001b[0m\u001b[1;32m   1179\u001b[0m \u001b[0;34m\u001b[0m\u001b[0m\n\u001b[1;32m   1180\u001b[0m     def evaluate(self,\n",
      "\u001b[0;32m/home/casapanshop/anaconda2/envs/newpy3_tf1/lib/python3.6/site-packages/keras/engine/training_arrays.py\u001b[0m in \u001b[0;36mfit_loop\u001b[0;34m(model, fit_function, fit_inputs, out_labels, batch_size, epochs, verbose, callbacks, val_function, val_inputs, shuffle, callback_metrics, initial_epoch, steps_per_epoch, validation_steps, validation_freq)\u001b[0m\n\u001b[1;32m    202\u001b[0m                     \u001b[0mins_batch\u001b[0m\u001b[0;34m[\u001b[0m\u001b[0mi\u001b[0m\u001b[0;34m]\u001b[0m \u001b[0;34m=\u001b[0m \u001b[0mins_batch\u001b[0m\u001b[0;34m[\u001b[0m\u001b[0mi\u001b[0m\u001b[0;34m]\u001b[0m\u001b[0;34m.\u001b[0m\u001b[0mtoarray\u001b[0m\u001b[0;34m(\u001b[0m\u001b[0;34m)\u001b[0m\u001b[0;34m\u001b[0m\u001b[0;34m\u001b[0m\u001b[0m\n\u001b[1;32m    203\u001b[0m \u001b[0;34m\u001b[0m\u001b[0m\n\u001b[0;32m--> 204\u001b[0;31m                 \u001b[0mouts\u001b[0m \u001b[0;34m=\u001b[0m \u001b[0mfit_function\u001b[0m\u001b[0;34m(\u001b[0m\u001b[0mins_batch\u001b[0m\u001b[0;34m)\u001b[0m\u001b[0;34m\u001b[0m\u001b[0;34m\u001b[0m\u001b[0m\n\u001b[0m\u001b[1;32m    205\u001b[0m                 \u001b[0mouts\u001b[0m \u001b[0;34m=\u001b[0m \u001b[0mto_list\u001b[0m\u001b[0;34m(\u001b[0m\u001b[0mouts\u001b[0m\u001b[0;34m)\u001b[0m\u001b[0;34m\u001b[0m\u001b[0;34m\u001b[0m\u001b[0m\n\u001b[1;32m    206\u001b[0m                 \u001b[0;32mfor\u001b[0m \u001b[0ml\u001b[0m\u001b[0;34m,\u001b[0m \u001b[0mo\u001b[0m \u001b[0;32min\u001b[0m \u001b[0mzip\u001b[0m\u001b[0;34m(\u001b[0m\u001b[0mout_labels\u001b[0m\u001b[0;34m,\u001b[0m \u001b[0mouts\u001b[0m\u001b[0;34m)\u001b[0m\u001b[0;34m:\u001b[0m\u001b[0;34m\u001b[0m\u001b[0;34m\u001b[0m\u001b[0m\n",
      "\u001b[0;32m/home/casapanshop/anaconda2/envs/newpy3_tf1/lib/python3.6/site-packages/keras/backend/tensorflow_backend.py\u001b[0m in \u001b[0;36m__call__\u001b[0;34m(self, inputs)\u001b[0m\n\u001b[1;32m   2977\u001b[0m                     \u001b[0;32mreturn\u001b[0m \u001b[0mself\u001b[0m\u001b[0;34m.\u001b[0m\u001b[0m_legacy_call\u001b[0m\u001b[0;34m(\u001b[0m\u001b[0minputs\u001b[0m\u001b[0;34m)\u001b[0m\u001b[0;34m\u001b[0m\u001b[0;34m\u001b[0m\u001b[0m\n\u001b[1;32m   2978\u001b[0m \u001b[0;34m\u001b[0m\u001b[0m\n\u001b[0;32m-> 2979\u001b[0;31m             \u001b[0;32mreturn\u001b[0m \u001b[0mself\u001b[0m\u001b[0;34m.\u001b[0m\u001b[0m_call\u001b[0m\u001b[0;34m(\u001b[0m\u001b[0minputs\u001b[0m\u001b[0;34m)\u001b[0m\u001b[0;34m\u001b[0m\u001b[0;34m\u001b[0m\u001b[0m\n\u001b[0m\u001b[1;32m   2980\u001b[0m         \u001b[0;32melse\u001b[0m\u001b[0;34m:\u001b[0m\u001b[0;34m\u001b[0m\u001b[0;34m\u001b[0m\u001b[0m\n\u001b[1;32m   2981\u001b[0m             \u001b[0;32mif\u001b[0m \u001b[0mpy_any\u001b[0m\u001b[0;34m(\u001b[0m\u001b[0mis_tensor\u001b[0m\u001b[0;34m(\u001b[0m\u001b[0mx\u001b[0m\u001b[0;34m)\u001b[0m \u001b[0;32mfor\u001b[0m \u001b[0mx\u001b[0m \u001b[0;32min\u001b[0m \u001b[0minputs\u001b[0m\u001b[0;34m)\u001b[0m\u001b[0;34m:\u001b[0m\u001b[0;34m\u001b[0m\u001b[0;34m\u001b[0m\u001b[0m\n",
      "\u001b[0;32m/home/casapanshop/anaconda2/envs/newpy3_tf1/lib/python3.6/site-packages/keras/backend/tensorflow_backend.py\u001b[0m in \u001b[0;36m_call\u001b[0;34m(self, inputs)\u001b[0m\n\u001b[1;32m   2935\u001b[0m             \u001b[0mfetched\u001b[0m \u001b[0;34m=\u001b[0m \u001b[0mself\u001b[0m\u001b[0;34m.\u001b[0m\u001b[0m_callable_fn\u001b[0m\u001b[0;34m(\u001b[0m\u001b[0;34m*\u001b[0m\u001b[0marray_vals\u001b[0m\u001b[0;34m,\u001b[0m \u001b[0mrun_metadata\u001b[0m\u001b[0;34m=\u001b[0m\u001b[0mself\u001b[0m\u001b[0;34m.\u001b[0m\u001b[0mrun_metadata\u001b[0m\u001b[0;34m)\u001b[0m\u001b[0;34m\u001b[0m\u001b[0;34m\u001b[0m\u001b[0m\n\u001b[1;32m   2936\u001b[0m         \u001b[0;32melse\u001b[0m\u001b[0;34m:\u001b[0m\u001b[0;34m\u001b[0m\u001b[0;34m\u001b[0m\u001b[0m\n\u001b[0;32m-> 2937\u001b[0;31m             \u001b[0mfetched\u001b[0m \u001b[0;34m=\u001b[0m \u001b[0mself\u001b[0m\u001b[0;34m.\u001b[0m\u001b[0m_callable_fn\u001b[0m\u001b[0;34m(\u001b[0m\u001b[0;34m*\u001b[0m\u001b[0marray_vals\u001b[0m\u001b[0;34m)\u001b[0m\u001b[0;34m\u001b[0m\u001b[0;34m\u001b[0m\u001b[0m\n\u001b[0m\u001b[1;32m   2938\u001b[0m         \u001b[0;32mreturn\u001b[0m \u001b[0mfetched\u001b[0m\u001b[0;34m[\u001b[0m\u001b[0;34m:\u001b[0m\u001b[0mlen\u001b[0m\u001b[0;34m(\u001b[0m\u001b[0mself\u001b[0m\u001b[0;34m.\u001b[0m\u001b[0moutputs\u001b[0m\u001b[0;34m)\u001b[0m\u001b[0;34m]\u001b[0m\u001b[0;34m\u001b[0m\u001b[0;34m\u001b[0m\u001b[0m\n\u001b[1;32m   2939\u001b[0m \u001b[0;34m\u001b[0m\u001b[0m\n",
      "\u001b[0;32m/home/casapanshop/anaconda2/envs/newpy3_tf1/lib/python3.6/site-packages/tensorflow/python/client/session.py\u001b[0m in \u001b[0;36m__call__\u001b[0;34m(self, *args, **kwargs)\u001b[0m\n\u001b[1;32m   1456\u001b[0m         ret = tf_session.TF_SessionRunCallable(self._session._session,\n\u001b[1;32m   1457\u001b[0m                                                \u001b[0mself\u001b[0m\u001b[0;34m.\u001b[0m\u001b[0m_handle\u001b[0m\u001b[0;34m,\u001b[0m \u001b[0margs\u001b[0m\u001b[0;34m,\u001b[0m\u001b[0;34m\u001b[0m\u001b[0;34m\u001b[0m\u001b[0m\n\u001b[0;32m-> 1458\u001b[0;31m                                                run_metadata_ptr)\n\u001b[0m\u001b[1;32m   1459\u001b[0m         \u001b[0;32mif\u001b[0m \u001b[0mrun_metadata\u001b[0m\u001b[0;34m:\u001b[0m\u001b[0;34m\u001b[0m\u001b[0;34m\u001b[0m\u001b[0m\n\u001b[1;32m   1460\u001b[0m           \u001b[0mproto_data\u001b[0m \u001b[0;34m=\u001b[0m \u001b[0mtf_session\u001b[0m\u001b[0;34m.\u001b[0m\u001b[0mTF_GetBuffer\u001b[0m\u001b[0;34m(\u001b[0m\u001b[0mrun_metadata_ptr\u001b[0m\u001b[0;34m)\u001b[0m\u001b[0;34m\u001b[0m\u001b[0;34m\u001b[0m\u001b[0m\n",
      "\u001b[0;31mKeyboardInterrupt\u001b[0m: "
     ]
    }
   ],
   "source": [
    "# con BN -- y annealing sobre beta\n",
    "exp(l=0)\n",
    "exp(l=0)\n",
    "exp(l=0)\n",
    "exp(l=0)"
   ]
  },
  {
   "cell_type": "code",
   "execution_count": null,
   "metadata": {
    "scrolled": true
   },
   "outputs": [
    {
     "name": "stdout",
     "output_type": "stream",
     "text": [
      "WARNING:tensorflow:From /home/casapanshop/anaconda2/envs/newpy3_tf1/lib/python3.6/site-packages/tensorflow/python/ops/math_grad.py:1250: add_dispatch_support.<locals>.wrapper (from tensorflow.python.ops.array_ops) is deprecated and will be removed in a future version.\n",
      "Instructions for updating:\n",
      "Use tf.where in 2.0, which has the same broadcast rule as np.where\n"
     ]
    }
   ],
   "source": [
    "# con BN -- y annealing sobre beta\n",
    "exp(l=2)\n",
    "exp(l=2)\n",
    "exp(l=2)\n",
    "exp(l=2)"
   ]
  },
  {
   "cell_type": "code",
   "execution_count": null,
   "metadata": {},
   "outputs": [],
   "source": []
  },
  {
   "cell_type": "code",
   "execution_count": 22,
   "metadata": {},
   "outputs": [
    {
     "name": "stdout",
     "output_type": "stream",
     "text": [
      "Realizado sobre dataset  20News con precision y recall para VAE 0.5736886586695749 0.07666478181735774\n",
      "Realizado sobre dataset  20News con precision y recall para B-VAE 0.5786095965103619 0.07754901476637803\n",
      "Realizado sobre dataset  20News con precision y recall para VAE 0.5852071973827717 0.07846029136353073\n",
      "Realizado sobre dataset  20News con precision y recall para B-VAE 0.561802071973831 0.07529433893046752\n",
      "Realizado sobre dataset  20News con precision y recall para VAE 0.5673473282442766 0.07595978324010795\n",
      "Realizado sobre dataset  20News con precision y recall para B-VAE 0.5683260632497301 0.07605738761879446\n",
      "Realizado sobre dataset  20News con precision y recall para VAE 0.5566166848418781 0.07457883117500129\n",
      "Realizado sobre dataset  20News con precision y recall para B-VAE 0.5742993456924788 0.07679444951991861\n"
     ]
    }
   ],
   "source": [
    "#sin BN\n",
    "exp(l=0)\n",
    "exp(l=0)\n",
    "exp(l=0)\n",
    "exp(l=0)"
   ]
  },
  {
   "cell_type": "code",
   "execution_count": null,
   "metadata": {},
   "outputs": [],
   "source": [
    "## con el callback beta mas alto ??\n",
    "\n",
    "anneal_rate = 0.003 #0.003\n",
    "min_T = 0.5 #0.5"
   ]
  },
  {
   "cell_type": "code",
   "execution_count": 230,
   "metadata": {},
   "outputs": [],
   "source": [
    "#anneal_rate = 0.03 #0.003\n",
    "#min_T = 0.1 #0.5\n",
    "class Tau_Call(keras.callbacks.Callback):   \n",
    "    def __init__(self, tau_ann):\n",
    "        self.tau_ann = tau_ann\n",
    "        super(Tau_Call,self).__init__()\n",
    "        \n",
    "    def on_epoch_end(self, epoch, logs={}):\n",
    "        K.set_value(self.tau_ann, np.max([K.get_value(self.tau_ann) * np.exp(-anneal_rate*(epoch+1)), min_T])) \n",
    "        #print(\"on epoch\",epoch,\"tau value is =\",K.get_value(self.tau_ann))\n",
    "        #al epoch 20 llega al 0.5\n",
    "        return"
   ]
  },
  {
   "cell_type": "code",
   "execution_count": null,
   "metadata": {},
   "outputs": [],
   "source": []
  },
  {
   "cell_type": "code",
   "execution_count": 23,
   "metadata": {},
   "outputs": [
    {
     "name": "stdout",
     "output_type": "stream",
     "text": [
      "Realizado sobre dataset  Reuters con precision y recall para VAE 0.5829576008273012 0.040548900953799115\n",
      "Realizado sobre dataset  Reuters con precision y recall para B-VAE 0.7837642192347481 0.060489447156476764\n",
      "Realizado sobre dataset  Reuters con precision y recall para VAE 0.5868252326783863 0.04128803545791268\n",
      "Realizado sobre dataset  Reuters con precision y recall para B-VAE 0.7833505687693915 0.05815381462403269\n",
      "Realizado sobre dataset  Reuters con precision y recall para VAE 0.5905480868665985 0.04271578253354052\n",
      "Realizado sobre dataset  Reuters con precision y recall para B-VAE 0.7788831437435372 0.05924345041500266\n",
      "Realizado sobre dataset  Reuters con precision y recall para VAE 0.5835367114788 0.04080780934618735\n",
      "Realizado sobre dataset  Reuters con precision y recall para B-VAE 0.7750258531540861 0.057776184817946705\n",
      "Realizado sobre dataset  Reuters con precision y recall para VAE 0.5810341261633923 0.0407545846637332\n",
      "Realizado sobre dataset  Reuters con precision y recall para B-VAE 0.7798965873836625 0.05816665071753734\n"
     ]
    }
   ],
   "source": [
    "exp(l=0)\n",
    "exp(l=0)\n",
    "exp(l=0)\n",
    "exp(l=0)\n",
    "exp(l=0)"
   ]
  },
  {
   "cell_type": "code",
   "execution_count": 37,
   "metadata": {},
   "outputs": [
    {
     "name": "stdout",
     "output_type": "stream",
     "text": [
      "Realizado sobre dataset  Reuters con precision y recall para VAE 0.5876525336091005 0.04280227866825709\n",
      "Realizado sobre dataset  Reuters con precision y recall para B-VAE 0.7764632885212016 0.0591624838479039\n",
      "Realizado sobre dataset  Reuters con precision y recall para VAE 0.5817373319544986 0.041986127163735065\n",
      "Realizado sobre dataset  Reuters con precision y recall para B-VAE 0.7798759048603944 0.05741611175502294\n",
      "Realizado sobre dataset  Reuters con precision y recall para VAE 0.5877869700103414 0.042395159587935466\n",
      "Realizado sobre dataset  Reuters con precision y recall para B-VAE 0.7780455015511913 0.05875259850213982\n",
      "Realizado sobre dataset  Reuters con precision y recall para VAE 0.5936091003102384 0.041617160099338545\n",
      "Realizado sobre dataset  Reuters con precision y recall para B-VAE 0.7805997931747695 0.05824703758779466\n",
      "Realizado sobre dataset  Reuters con precision y recall para VAE 0.5952947259565673 0.04138609818461053\n",
      "Realizado sobre dataset  Reuters con precision y recall para B-VAE 0.7812512926577049 0.05908513670885194\n"
     ]
    }
   ],
   "source": [
    "beta = 1./1000\n",
    "\n",
    "exp(l=0)\n",
    "exp(l=0)\n",
    "exp(l=0)\n",
    "exp(l=0)\n",
    "exp(l=0)"
   ]
  },
  {
   "cell_type": "code",
   "execution_count": null,
   "metadata": {},
   "outputs": [],
   "source": []
  },
  {
   "cell_type": "code",
   "execution_count": 43,
   "metadata": {},
   "outputs": [
    {
     "name": "stdout",
     "output_type": "stream",
     "text": [
      "Realizado sobre dataset  20News con precision y recall para VAE 0.3368347873500545 0.045265598186862384\n",
      "Realizado sobre dataset  20News con precision y recall para B-VAE 0.5236941112322804 0.07020274033572098\n",
      "Realizado sobre dataset  20News con precision y recall para VAE 0.33652126499454676 0.04515391543976638\n",
      "Realizado sobre dataset  20News con precision y recall para B-VAE 0.5224672846237747 0.06989639250790446\n",
      "Realizado sobre dataset  20News con precision y recall para VAE 0.3380207197382765 0.0453579809584699\n",
      "Realizado sobre dataset  20News con precision y recall para B-VAE 0.529152126499454 0.07088110487055124\n",
      "Realizado sobre dataset  20News con precision y recall para VAE 0.33692748091603 0.04531212686859827\n",
      "Realizado sobre dataset  20News con precision y recall para B-VAE 0.5128544165757916 0.0686954904895205\n",
      "Realizado sobre dataset  20News con precision y recall para VAE 0.3342639040348958 0.04484369736562081\n",
      "Realizado sobre dataset  20News con precision y recall para B-VAE 0.5265921483097071 0.07061271528971433\n"
     ]
    }
   ],
   "source": [
    "beta = 1./5000\n",
    "\n",
    "exp(l=0)\n",
    "exp(l=0)\n",
    "exp(l=0)\n",
    "exp(l=0)\n",
    "exp(l=0)"
   ]
  },
  {
   "cell_type": "code",
   "execution_count": 44,
   "metadata": {},
   "outputs": [
    {
     "name": "stdout",
     "output_type": "stream",
     "text": [
      "Realizado sobre dataset  20News con precision y recall para VAE 0.3247164667393669 0.04359071929826668\n",
      "Realizado sobre dataset  20News con precision y recall para B-VAE 0.5278598691384949 0.07073382405205639\n",
      "Realizado sobre dataset  20News con precision y recall para VAE 0.34230370774263846 0.045910739486363414\n",
      "Realizado sobre dataset  20News con precision y recall para B-VAE 0.5185114503816816 0.06938484257697893\n",
      "Realizado sobre dataset  20News con precision y recall para VAE 0.3234078516902944 0.04341432257975948\n",
      "Realizado sobre dataset  20News con precision y recall para B-VAE 0.5180779716466741 0.06945483547067649\n",
      "Realizado sobre dataset  20News con precision y recall para VAE 0.32746728462377256 0.04402052844602247\n",
      "Realizado sobre dataset  20News con precision y recall para B-VAE 0.5247846237731751 0.07035240871062907\n",
      "Realizado sobre dataset  20News con precision y recall para VAE 0.33376772082878964 0.04480712985405816\n",
      "Realizado sobre dataset  20News con precision y recall para B-VAE 0.5245828789531098 0.07027685121200278\n"
     ]
    }
   ],
   "source": [
    "beta = 1./1000\n",
    "\n",
    "exp(l=0)\n",
    "exp(l=0)\n",
    "exp(l=0)\n",
    "exp(l=0)\n",
    "exp(l=0)"
   ]
  },
  {
   "cell_type": "code",
   "execution_count": 45,
   "metadata": {},
   "outputs": [
    {
     "name": "stdout",
     "output_type": "stream",
     "text": [
      "Realizado sobre dataset  20News con precision y recall para VAE 0.34857415485278004 0.046801376414327515\n",
      "Realizado sobre dataset  20News con precision y recall para B-VAE 0.4858042529989091 0.06518945968815215\n",
      "Realizado sobre dataset  20News con precision y recall para VAE 0.3552998909487459 0.0477257156322952\n",
      "Realizado sobre dataset  20News con precision y recall para B-VAE 0.5021619411123228 0.06743581481837309\n",
      "Realizado sobre dataset  20News con precision y recall para VAE 0.3627699018538712 0.04868891584900315\n",
      "Realizado sobre dataset  20News con precision y recall para B-VAE 0.49829334787350127 0.06683169925433645\n",
      "Realizado sobre dataset  20News con precision y recall para VAE 0.3420937840785161 0.04599242651027539\n",
      "Realizado sobre dataset  20News con precision y recall para B-VAE 0.4930616139585616 0.06611562054238158\n",
      "Realizado sobre dataset  20News con precision y recall para VAE 0.3459023991275894 0.04650006915423393\n",
      "Realizado sobre dataset  20News con precision y recall para B-VAE 0.48815976008724027 0.06551884130853318\n"
     ]
    }
   ],
   "source": [
    "beta = 1./100\n",
    "\n",
    "exp(l=0)\n",
    "exp(l=0)\n",
    "exp(l=0)\n",
    "exp(l=0)\n",
    "exp(l=0)"
   ]
  },
  {
   "cell_type": "code",
   "execution_count": 46,
   "metadata": {},
   "outputs": [
    {
     "name": "stdout",
     "output_type": "stream",
     "text": [
      "Realizado sobre dataset  20News con precision y recall para VAE 0.4159460196292243 0.05553579844770456\n",
      "Realizado sobre dataset  20News con precision y recall para B-VAE 0.1897464558342414 0.025614624249386847\n",
      "Realizado sobre dataset  20News con precision y recall para VAE 0.42983097055616004 0.05765632444414935\n",
      "Realizado sobre dataset  20News con precision y recall para B-VAE 0.1951008724100325 0.02634153925883803\n",
      "Realizado sobre dataset  20News con precision y recall para VAE 0.4019383860414389 0.05367480830394878\n",
      "Realizado sobre dataset  20News con precision y recall para B-VAE 0.19415757906215836 0.02621087765915571\n",
      "Realizado sobre dataset  20News con precision y recall para VAE 0.4002235550708826 0.05367666975750892\n",
      "Realizado sobre dataset  20News con precision y recall para B-VAE 0.20248909487459046 0.02731529668561834\n",
      "Realizado sobre dataset  20News con precision y recall para VAE 0.4124127589967276 0.05532486542259736\n",
      "Realizado sobre dataset  20News con precision y recall para B-VAE 0.2009841875681572 0.02719231058166982\n"
     ]
    }
   ],
   "source": [
    "beta = 1./10\n",
    "\n",
    "exp(l=0)\n",
    "exp(l=0)\n",
    "exp(l=0)\n",
    "exp(l=0)\n",
    "exp(l=0)"
   ]
  },
  {
   "cell_type": "code",
   "execution_count": null,
   "metadata": {},
   "outputs": [],
   "source": []
  },
  {
   "cell_type": "code",
   "execution_count": 51,
   "metadata": {
    "scrolled": true
   },
   "outputs": [
    {
     "data": {
      "image/png": "[encoded data removed]",
      "text/plain": [
       "<Figure size 432x288 with 1 Axes>"
      ]
     },
     "metadata": {
      "needs_background": "light"
     },
     "output_type": "display_data"
    },
    {
     "data": {
      "text/plain": [
       "array([[1.35169688e-10, 1.64648706e-16, 9.99864794e-01, ...,\n",
       "        9.99341077e-01, 1.00000000e+00, 1.00000000e+00],\n",
       "       [6.06462437e-07, 9.98380680e-01, 9.99981521e-01, ...,\n",
       "        9.98399335e-01, 9.99999999e-01, 3.74290346e-12],\n",
       "       [9.99999339e-01, 9.99938393e-01, 9.99976238e-01, ...,\n",
       "        9.99999840e-01, 1.73710420e-11, 1.00000000e+00],\n",
       "       ...,\n",
       "       [3.15540606e-03, 4.36160879e-15, 8.87055345e-16, ...,\n",
       "        1.76487642e-06, 1.00000000e+00, 9.99529002e-01],\n",
       "       [1.32722381e-11, 7.47039518e-14, 4.56753071e-20, ...,\n",
       "        2.05768078e-11, 9.33721534e-01, 9.07766865e-01],\n",
       "       [5.73275256e-06, 1.54660338e-06, 9.99991873e-01, ...,\n",
       "        3.88299323e-23, 1.00000000e+00, 2.83781994e-06]])"
      ]
     },
     "execution_count": 51,
     "metadata": {},
     "output_type": "execute_result"
    }
   ],
   "source": [
    "def samp_gumb(logits):\n",
    "    eps = K.epsilon()\n",
    "    U = np.random.uniform(0, 1, logits.shape)\n",
    "    b = logits + np.log(U + eps)- np.log(1-U + eps)\n",
    "    return expit(b/0.67) #maybe lower\n",
    "\n",
    "X_train_Bcode_samp = samp_gumb(encoder_Bvae.predict(X_train_input))\n",
    "\n",
    "plt.hist(X_train_Bcode_samp.flatten())\n",
    "plt.show()\n",
    "X_train_Bcode_samp"
   ]
  },
  {
   "cell_type": "code",
   "execution_count": 13,
   "metadata": {},
   "outputs": [
    {
     "data": {
      "image/png": "[encoded data removed]",
      "text/plain": [
       "<Figure size 1080x432 with 1 Axes>"
      ]
     },
     "metadata": {
      "needs_background": "light"
     },
     "output_type": "display_data"
    }
   ],
   "source": [
    "compare_hist_train(hist1,hist2, dat_n)"
   ]
  },
  {
   "cell_type": "code",
   "execution_count": 37,
   "metadata": {},
   "outputs": [
    {
     "data": {
      "image/png": "[encoded data removed]",
      "text/plain": [
       "<Figure size 1080x432 with 1 Axes>"
      ]
     },
     "metadata": {
      "needs_background": "light"
     },
     "output_type": "display_data"
    }
   ],
   "source": [
    "compare_hist_train(hist1,hist2, dat_n)"
   ]
  },
  {
   "cell_type": "code",
   "execution_count": 109,
   "metadata": {},
   "outputs": [
    {
     "data": {
      "image/png": "[encoded data removed]",
      "text/plain": [
       "<Figure size 1080x432 with 1 Axes>"
      ]
     },
     "metadata": {
      "needs_background": "light"
     },
     "output_type": "display_data"
    }
   ],
   "source": [
    "compare_hist_train(hist1,hist2, dat_n)"
   ]
  },
  {
   "cell_type": "code",
   "execution_count": 55,
   "metadata": {},
   "outputs": [
    {
     "data": {
      "image/png": "[encoded data removed]",
      "text/plain": [
       "<Figure size 1080x432 with 1 Axes>"
      ]
     },
     "metadata": {
      "needs_background": "light"
     },
     "output_type": "display_data"
    }
   ],
   "source": [
    "compare_hist_train(hist1,hist2, dat_n)"
   ]
  },
  {
   "cell_type": "markdown",
   "metadata": {},
   "source": [
    "### Another intrinsic measure: *Classification*\n"
   ]
  },
  {
   "cell_type": "code",
   "execution_count": 212,
   "metadata": {
    "scrolled": true
   },
   "outputs": [],
   "source": [
    "#function to define and train model\n",
    "from sklearn.metrics import jaccard_score\n",
    "from utils import define_fit, MedianHashing\n",
    "\n",
    "results = []\n",
    "results_B = []"
   ]
  },
  {
   "cell_type": "code",
   "execution_count": 213,
   "metadata": {},
   "outputs": [
    {
     "data": {
      "text/plain": [
       "array([[0., 0., 0., ..., 0., 0., 0.],\n",
       "       [0., 0., 0., ..., 0., 0., 0.],\n",
       "       [0., 0., 0., ..., 0., 0., 0.],\n",
       "       ...,\n",
       "       [0., 0., 1., ..., 0., 0., 0.],\n",
       "       [0., 0., 0., ..., 0., 0., 0.],\n",
       "       [0., 0., 0., ..., 0., 0., 0.]])"
      ]
     },
     "execution_count": 213,
     "metadata": {},
     "output_type": "execute_result"
    }
   ],
   "source": [
    "#codify input data (binarize -- or aprox)\n",
    "X_train_Bcode = expit(encoder_Bvae.predict(X_train_input))\n",
    "X_val_Bcode = expit(encoder_Bvae.predict(X_val_input))\n",
    "#X_train_Bcode = encoder_Bvae.predict(X_train_input)\n",
    "#X_val_Bcode = encoder_Bvae.predict(X_val_input)\n",
    "\n",
    "X_train_Tcode = encoder_Tvae.predict(X_train_input)\n",
    "X_val_Tcode = encoder_Tvae.predict(X_val_input)\n",
    "\n",
    "##codify labels\n",
    "labels_aux = np.asarray(labels)\n",
    "def codify_labels(inputs):\n",
    "    matrix_labels = np.zeros((inputs.shape[0],labels_aux.shape[0]))\n",
    "    for i,aux_labels in enumerate(inputs):\n",
    "        if type(aux_labels) == list or type(aux_labels) == np.ndarray :\n",
    "            for aux_label in aux_labels:\n",
    "                idx = np.where(aux_label==labels_aux)[0]\n",
    "                matrix_labels[i,idx] = 1 #various-multiple\n",
    "        else:\n",
    "            idx = np.where(aux_labels==labels_aux)[0]\n",
    "            matrix_labels[i,idx] = 1 #only one\n",
    "    return matrix_labels\n",
    "\n",
    "C_train = codify_labels(labels_train)\n",
    "C_val = codify_labels(labels_val)\n",
    "C_train"
   ]
  },
  {
   "cell_type": "code",
   "execution_count": null,
   "metadata": {},
   "outputs": [],
   "source": [
    "def visualize_probas(encoder, data):\n",
    "    logits_ = encoder.predict(data)\n",
    "    \n",
    "    probas_ = expit(logits_)\n",
    "    sns.distplot(probas_)\n",
    "    plt.title(\"Bits probability distribution p(b|x)\")\n",
    "    plt.show()\n",
    "    \n",
    "    def samp_gumb(logits):\n",
    "        eps = K.epsilon()\n",
    "        U = np.random.uniform(0, 1, logits.shape)\n",
    "        b = logits + np.log(U + eps)- np.log(1-U + eps)\n",
    "        return expit(b/0.67) #maybe lower\n",
    "\n",
    "    samp_probas = samp_gumb(logits_)\n",
    "    \n",
    "    plt.hist(samp_probas.flatten())\n",
    "    plt.title(\"Gumbel-Softmax sample \\hat{b}\")\n",
    "    plt.show()\n",
    "    \n",
    "def visualize_mean(data):\n",
    "    sns.distplot(data)\n",
    "    plt.title(\"Continous Bits distribution (standar VAE)\")\n",
    "    plt.show()\n",
    "    \n"
   ]
  },
  {
   "cell_type": "code",
   "execution_count": null,
   "metadata": {},
   "outputs": [],
   "source": [
    "print(dataset)\n",
    "visualize_probas(encoder_Bvae, X_train_input)\n",
    "visualize_mean(X_train_Tcode)"
   ]
  },
  {
   "cell_type": "code",
   "execution_count": null,
   "metadata": {},
   "outputs": [],
   "source": []
  },
  {
   "cell_type": "code",
   "execution_count": 215,
   "metadata": {},
   "outputs": [
    {
     "name": "stdout",
     "output_type": "stream",
     "text": [
      "Done\n"
     ]
    }
   ],
   "source": [
    "aux = [dat_n]\n",
    "multi_label = \"Reuters\" in aux or \"TMC\" in aux\n",
    "\n",
    "model1 = define_fit(multi_label,X_train_Bcode,C_train)\n",
    "model2 = define_fit(multi_label,X_train_Tcode,C_train)\n",
    "model3 = define_fit(multi_label,X_train_input,C_train)\n",
    "\n",
    "if not multi_label:\n",
    "    aux.append(model3.evaluate(X_train_input,C_train,verbose=0)[1])\n",
    "    aux.append(model3.evaluate(X_val_input,C_val,verbose=0)[1])\n",
    "\n",
    "    aux.append(model2.evaluate(X_train_Tcode,C_train,verbose=0)[1])\n",
    "    aux.append(model2.evaluate(X_val_Tcode,C_val,verbose=0)[1])\n",
    "\n",
    "    aux.append(model1.evaluate(X_train_Bcode,C_train,verbose=0)[1])\n",
    "    aux.append(model1.evaluate(X_val_Bcode,C_val,verbose=0)[1])\n",
    "else:\n",
    "    aux.append(jaccard_score(C_train, (model3.predict(X_train_input)>=0.5)*1, average='micro'))\n",
    "    aux.append(jaccard_score(C_val, (model3.predict(X_val_input)>=0.5)*1, average='micro'))\n",
    "\n",
    "    aux.append(jaccard_score(C_train, (model2.predict(X_train_Tcode)>=0.5)*1, average='micro'))\n",
    "    aux.append(jaccard_score(C_val, (model2.predict(X_val_Tcode)>=0.5)*1, average='micro'))\n",
    "\n",
    "    aux.append(jaccard_score(C_train, (model1.predict(X_train_Bcode)>=0.5)*1, average='micro'))\n",
    "    aux.append(jaccard_score(C_val, (model1.predict(X_val_Bcode)>=0.5)*1, average='micro'))\n",
    "    \n",
    "results.append(aux)\n",
    "print(\"Done\")"
   ]
  },
  {
   "cell_type": "code",
   "execution_count": 113,
   "metadata": {},
   "outputs": [
    {
     "name": "stdout",
     "output_type": "stream",
     "text": [
      "\n",
      "Accuracy on dataset:  20News\n",
      "Raw Input (train-val): 0.999546 - 0.844014\n",
      "Traditional VAE (train-val): 0.753359 - 0.672757\n",
      "Binary VAE (train-val): 0.809096 - 0.704663\n",
      "\n",
      "Accuracy on dataset:  Reuters\n",
      "Raw Input (train-val): 0.991054 - 0.835060\n",
      "Traditional VAE (train-val): 0.750121 - 0.716040\n",
      "Binary VAE (train-val): 0.753598 - 0.713333\n",
      "\n",
      "Accuracy on dataset:  TMC\n",
      "Raw Input (train-val): 0.987646 - 0.441806\n",
      "Traditional VAE (train-val): 0.496750 - 0.422387\n",
      "Binary VAE (train-val): 0.542046 - 0.454952\n",
      "\n",
      "Accuracy on dataset:  Snippets\n",
      "Raw Input (train-val): 0.999006 - 0.962227\n",
      "Traditional VAE (train-val): 0.916943 - 0.891650\n",
      "Binary VAE (train-val): 0.873978 - 0.859841\n"
     ]
    }
   ],
   "source": [
    "for valores in results:\n",
    "    print(\"\\nAccuracy on dataset: \",valores[0])\n",
    "    print(\"Raw Input (train-val): %f - %f\"%(valores[1],valores[2]))\n",
    "    print(\"Traditional VAE (train-val): %f - %f\"%(valores[3],valores[4]))\n",
    "    print(\"Binary VAE (train-val): %f - %f\"%(valores[5],valores[6]))"
   ]
  },
  {
   "cell_type": "code",
   "execution_count": 217,
   "metadata": {},
   "outputs": [
    {
     "data": {
      "text/plain": [
       "array([[0, 0, 0, ..., 1, 0, 0],\n",
       "       [1, 1, 0, ..., 1, 1, 0],\n",
       "       [1, 0, 1, ..., 1, 0, 0],\n",
       "       ...,\n",
       "       [0, 0, 0, ..., 0, 0, 1],\n",
       "       [1, 0, 0, ..., 1, 0, 0],\n",
       "       [1, 1, 1, ..., 0, 0, 0]], dtype=int32)"
      ]
     },
     "execution_count": 217,
     "metadata": {},
     "output_type": "execute_result"
    }
   ],
   "source": [
    "#Transform to binary\n",
    "median= MedianHashing()\n",
    "median.fit(X_train_Tcode)\n",
    "\n",
    "X_train_Tcode_B = median.transform(X_train_Tcode)\n",
    "X_val_Tcode_B = median.transform(X_val_Tcode)\n",
    "\n",
    "X_train_Bcode_B = (X_train_Bcode>0.5)*1\n",
    "X_val_Bcode_B = (X_val_Bcode>0.5)*1\n",
    "\n",
    "X_train_Tcode_B"
   ]
  },
  {
   "cell_type": "code",
   "execution_count": 218,
   "metadata": {},
   "outputs": [
    {
     "name": "stdout",
     "output_type": "stream",
     "text": [
      "Done\n"
     ]
    }
   ],
   "source": [
    "aux = [dat_n]\n",
    "multi_label = \"Reuters\" in aux or \"TMC\" in aux\n",
    "\n",
    "model1 = define_fit(multi_label,X_train_Bcode_B,C_train)\n",
    "model2 = define_fit(multi_label,X_train_Tcode_B,C_train)\n",
    "\n",
    "if not multi_label:\n",
    "    aux.append(model2.evaluate(X_train_Tcode_B,C_train,verbose=0)[1])\n",
    "    aux.append(model2.evaluate(X_val_Tcode_B,C_val,verbose=0)[1])\n",
    "\n",
    "    aux.append(model1.evaluate(X_train_Bcode_B,C_train,verbose=0)[1])\n",
    "    aux.append(model1.evaluate(X_val_Bcode_B,C_val,verbose=0)[1])\n",
    "else:\n",
    "    aux.append(jaccard_score(C_train, (model2.predict(X_train_Tcode_B)>=0.5)*1, average='micro'))\n",
    "    aux.append(jaccard_score(C_val, (model2.predict(X_val_Tcode_B)>=0.5)*1, average='micro'))\n",
    "\n",
    "    aux.append(jaccard_score(C_train, (model1.predict(X_train_Bcode_B)>=0.5)*1, average='micro'))\n",
    "    aux.append(jaccard_score(C_val, (model1.predict(X_val_Bcode_B)>=0.5)*1, average='micro'))\n",
    "    \n",
    "results_B.append(aux)\n",
    "print(\"Done\")"
   ]
  },
  {
   "cell_type": "code",
   "execution_count": 116,
   "metadata": {},
   "outputs": [
    {
     "name": "stdout",
     "output_type": "stream",
     "text": [
      "Classification on Binary representation\n",
      "\n",
      "Accuracy on dataset:  20News\n",
      "Traditional VAE (train-val): 0.650508 - 0.558767\n",
      "Binary VAE (train-val): 0.800109 - 0.685574\n",
      "\n",
      "Accuracy on dataset:  Reuters\n",
      "Traditional VAE (train-val): 0.677961 - 0.635886\n",
      "Binary VAE (train-val): 0.747839 - 0.701242\n",
      "\n",
      "Accuracy on dataset:  TMC\n",
      "Traditional VAE (train-val): 0.478284 - 0.403972\n",
      "Binary VAE (train-val): 0.541907 - 0.449245\n",
      "\n",
      "Accuracy on dataset:  Snippets\n",
      "Traditional VAE (train-val): 0.845814 - 0.821074\n",
      "Binary VAE (train-val): 0.869781 - 0.858847\n"
     ]
    }
   ],
   "source": [
    "print(\"Classification on Binary representation\")\n",
    "for valores in results_B:\n",
    "    print(\"\\nAccuracy on dataset: \",valores[0])\n",
    "    print(\"Traditional VAE (train-val): %f - %f\"%(valores[1],valores[2]))\n",
    "    print(\"Binary VAE (train-val): %f - %f\"%(valores[3],valores[4]))"
   ]
  },
  {
   "cell_type": "markdown",
   "metadata": {},
   "source": [
    "A través de las curvas de entrenamiento se puede ver que el VAE tradicional obtiene mejores resultados que el binario respecto a la reconstrucción de los datos, lo cual resulta bastante lógico ya que tiene valores más libres en donde pueden vivir las variables (dominio de variable latente: los reales) *vs* el binario que está mucho más restringido (dominio de variable latente: entre 0 y 1). Otra cosa a nombrar es que el modelo con variables latentes binarias reduce el *overfitting* drásticamente, disminuyendo ambas curvas en la misma proporción.\n",
    "\n",
    "### Results\n",
    "---\n",
    "Para evaluar los resultados y poder comparar es necesario realizar el proceso de evaluación en un sistema de recuperación de información. Ésto es recuperar objetos similares a los objetos de una consulta/*query*. Como *baseline* para comparar se utiliza el modelo presentado en *Variational Deep Semantic Hashing* (VDSH).\n",
    "\n",
    "#### Proceso de evaluación (*content-based retrieval*)\n",
    "> *Query*: **Documento**\n",
    "\n",
    "1. Calcular código hashing/binario de cada dato/documento\n",
    "    * Para *VAE* tradicional se utiliza la mediana de cada componente como *treshold*\n",
    "    * Para *VAE* binario se utiliza el *treshold* de 0.5 en la probabilidad\n",
    "2. Recuperar documentos basado en *match* perfecto, *top K* o *ball search* de distancia *hamming* de un documento consulta.\n",
    "    * En el mismo conjunto/*set*\n",
    "    * Con *query* recupero sobre *database*\n",
    "3. Medir *precision* y *recall* en base a algún criterio de relevancia.\n",
    "    * Documento relevante a otro o no -> Si comparten al menos una clase.\n",
    "    \n",
    "|$b_1$|$b_2$|$b_3$|$b_4$|\n",
    "|---|---|---|---|\n",
    "||..|..||\n",
    "|1|0|1|0| \n",
    "|1|0|1|1| \n",
    "|1|0|0|0| \n",
    "|1|0|0|1|\n",
    "||..|..||"
   ]
  },
  {
   "cell_type": "code",
   "execution_count": 1,
   "metadata": {},
   "outputs": [
    {
     "name": "stderr",
     "output_type": "stream",
     "text": [
      "Using TensorFlow backend.\n",
      "/home/casapanshop/anaconda2/envs/newpy3_tf1/lib/python3.6/site-packages/tensorflow/python/framework/dtypes.py:516: FutureWarning: Passing (type, 1) or '1type' as a synonym of type is deprecated; in a future version of numpy, it will be understood as (type, (1,)) / '(1,)type'.\n",
      "  _np_qint8 = np.dtype([(\"qint8\", np.int8, 1)])\n",
      "/home/casapanshop/anaconda2/envs/newpy3_tf1/lib/python3.6/site-packages/tensorflow/python/framework/dtypes.py:517: FutureWarning: Passing (type, 1) or '1type' as a synonym of type is deprecated; in a future version of numpy, it will be understood as (type, (1,)) / '(1,)type'.\n",
      "  _np_quint8 = np.dtype([(\"quint8\", np.uint8, 1)])\n",
      "/home/casapanshop/anaconda2/envs/newpy3_tf1/lib/python3.6/site-packages/tensorflow/python/framework/dtypes.py:518: FutureWarning: Passing (type, 1) or '1type' as a synonym of type is deprecated; in a future version of numpy, it will be understood as (type, (1,)) / '(1,)type'.\n",
      "  _np_qint16 = np.dtype([(\"qint16\", np.int16, 1)])\n",
      "/home/casapanshop/anaconda2/envs/newpy3_tf1/lib/python3.6/site-packages/tensorflow/python/framework/dtypes.py:519: FutureWarning: Passing (type, 1) or '1type' as a synonym of type is deprecated; in a future version of numpy, it will be understood as (type, (1,)) / '(1,)type'.\n",
      "  _np_quint16 = np.dtype([(\"quint16\", np.uint16, 1)])\n",
      "/home/casapanshop/anaconda2/envs/newpy3_tf1/lib/python3.6/site-packages/tensorflow/python/framework/dtypes.py:520: FutureWarning: Passing (type, 1) or '1type' as a synonym of type is deprecated; in a future version of numpy, it will be understood as (type, (1,)) / '(1,)type'.\n",
      "  _np_qint32 = np.dtype([(\"qint32\", np.int32, 1)])\n",
      "/home/casapanshop/anaconda2/envs/newpy3_tf1/lib/python3.6/site-packages/tensorflow/python/framework/dtypes.py:525: FutureWarning: Passing (type, 1) or '1type' as a synonym of type is deprecated; in a future version of numpy, it will be understood as (type, (1,)) / '(1,)type'.\n",
      "  np_resource = np.dtype([(\"resource\", np.ubyte, 1)])\n",
      "/home/casapanshop/anaconda2/envs/newpy3_tf1/lib/python3.6/site-packages/tensorboard/compat/tensorflow_stub/dtypes.py:541: FutureWarning: Passing (type, 1) or '1type' as a synonym of type is deprecated; in a future version of numpy, it will be understood as (type, (1,)) / '(1,)type'.\n",
      "  _np_qint8 = np.dtype([(\"qint8\", np.int8, 1)])\n",
      "/home/casapanshop/anaconda2/envs/newpy3_tf1/lib/python3.6/site-packages/tensorboard/compat/tensorflow_stub/dtypes.py:542: FutureWarning: Passing (type, 1) or '1type' as a synonym of type is deprecated; in a future version of numpy, it will be understood as (type, (1,)) / '(1,)type'.\n",
      "  _np_quint8 = np.dtype([(\"quint8\", np.uint8, 1)])\n",
      "/home/casapanshop/anaconda2/envs/newpy3_tf1/lib/python3.6/site-packages/tensorboard/compat/tensorflow_stub/dtypes.py:543: FutureWarning: Passing (type, 1) or '1type' as a synonym of type is deprecated; in a future version of numpy, it will be understood as (type, (1,)) / '(1,)type'.\n",
      "  _np_qint16 = np.dtype([(\"qint16\", np.int16, 1)])\n",
      "/home/casapanshop/anaconda2/envs/newpy3_tf1/lib/python3.6/site-packages/tensorboard/compat/tensorflow_stub/dtypes.py:544: FutureWarning: Passing (type, 1) or '1type' as a synonym of type is deprecated; in a future version of numpy, it will be understood as (type, (1,)) / '(1,)type'.\n",
      "  _np_quint16 = np.dtype([(\"quint16\", np.uint16, 1)])\n",
      "/home/casapanshop/anaconda2/envs/newpy3_tf1/lib/python3.6/site-packages/tensorboard/compat/tensorflow_stub/dtypes.py:545: FutureWarning: Passing (type, 1) or '1type' as a synonym of type is deprecated; in a future version of numpy, it will be understood as (type, (1,)) / '(1,)type'.\n",
      "  _np_qint32 = np.dtype([(\"qint32\", np.int32, 1)])\n",
      "/home/casapanshop/anaconda2/envs/newpy3_tf1/lib/python3.6/site-packages/tensorboard/compat/tensorflow_stub/dtypes.py:550: FutureWarning: Passing (type, 1) or '1type' as a synonym of type is deprecated; in a future version of numpy, it will be understood as (type, (1,)) / '(1,)type'.\n",
      "  np_resource = np.dtype([(\"resource\", np.ubyte, 1)])\n"
     ]
    }
   ],
   "source": [
    "from utils import MedianHashing, get_similar, measure_metrics"
   ]
  },
  {
   "cell_type": "markdown",
   "metadata": {},
   "source": [
    "### Experimentando variando el #Bits\n",
    "---\n",
    "A continación se realizan las experimentaciones correspondientes para encontrar la mejor arquitectura y mejor configuración del modelo propuesto en base a las métricas *precision* y *recall* del conjunto de validación en el **top 100** de elementos recuperados."
   ]
  },
  {
   "cell_type": "code",
   "execution_count": 2,
   "metadata": {},
   "outputs": [],
   "source": [
    "def evaluate_hashing(encoder,train,val,labels_train, labels_val, traditional=True,tipo=\"topK\"):\n",
    "    encode_train = encoder.predict(train)\n",
    "    encode_val = encoder.predict(val)\n",
    "    if traditional:\n",
    "        median= MedianHashing()\n",
    "        median.fit(encode_train)\n",
    "        val_train = median.transform(encode_train)\n",
    "        val_hash = median.transform(encode_val)\n",
    "    else: #para Binary VAE\n",
    "        probas_train = expit(encode_train)\n",
    "        probas_val = expit(encode_val)\n",
    "        val_train = (probas_train > 0.5)*1\n",
    "        val_hash = (probas_val > 0.5)*1\n",
    "\n",
    "    val_similares_train =  get_similar(val_hash, val_train, tipo=tipo,K=100) \n",
    "    return measure_metrics(labels,val_similares_train,labels_query=labels_val,labels_source=labels_train)"
   ]
  },
  {
   "cell_type": "code",
   "execution_count": 24,
   "metadata": {},
   "outputs": [],
   "source": [
    "traditional_dat = {\"20news\":{\"p\":[],\"r\":[]},\n",
    "                   \"snippets\":{\"p\":[],\"r\":[]},\n",
    "                   \"reuters\":{\"p\":[],\"r\":[]},\n",
    "                  \"tmc\":{\"p\":[],\"r\":[]}}\n",
    "binary_dat = {\"20news\":{\"p\":[],\"r\":[]},\n",
    "              \"snippets\":{\"p\":[],\"r\":[]},\n",
    "              \"reuters\":{\"p\":[],\"r\":[]},\n",
    "             \"tmc\":{\"p\":[],\"r\":[]}}"
   ]
  },
  {
   "cell_type": "code",
   "execution_count": 122,
   "metadata": {
    "scrolled": true
   },
   "outputs": [
    {
     "name": "stdout",
     "output_type": "stream",
     "text": [
      "snippets\n",
      "pre-encoder network:\n",
      "Model: \"pre-encoder\"\n",
      "_________________________________________________________________\n",
      "Layer (type)                 Output Shape              Param #   \n",
      "=================================================================\n",
      "dense_1 (Dense)              (None, 500)               5000500   \n",
      "_________________________________________________________________\n",
      "batch_normalization_1 (Batch (None, 500)               2000      \n",
      "_________________________________________________________________\n",
      "dense_2 (Dense)              (None, 500)               250500    \n",
      "_________________________________________________________________\n",
      "batch_normalization_2 (Batch (None, 500)               2000      \n",
      "=================================================================\n",
      "Total params: 5,255,000\n",
      "Trainable params: 5,253,000\n",
      "Non-trainable params: 2,000\n",
      "_________________________________________________________________\n",
      "generator network:\n",
      "Model: \"generator/decoder\"\n",
      "_________________________________________________________________\n",
      "Layer (type)                 Output Shape              Param #   \n",
      "=================================================================\n",
      "dense_3 (Dense)              (None, 10000)             50000     \n",
      "=================================================================\n",
      "Total params: 50,000\n",
      "Trainable params: 50,000\n",
      "Non-trainable params: 0\n",
      "_________________________________________________________________\n"
     ]
    },
    {
     "ename": "ResourceExhaustedError",
     "evalue": "OOM when allocating tensor with shape[10000] and type float on /job:localhost/replica:0/task:0/device:GPU:0 by allocator GPU_0_bfc\n\t [[node dense_3/bias/Assign (defined at /home/casapanshop/anaconda2/envs/newpy3_tf1/lib/python3.6/site-packages/keras/backend/tensorflow_backend.py:422) ]]\nHint: If you want to see a list of allocated tensors when OOM happens, add report_tensor_allocations_upon_oom to RunOptions for current allocation info.\n\n\nErrors may have originated from an input operation.\nInput Source operations connected to node dense_3/bias/Assign:\n dense_3/Const (defined at /home/casapanshop/anaconda2/envs/newpy3_tf1/lib/python3.6/site-packages/keras/backend/tensorflow_backend.py:450)\n\nOriginal stack trace for 'dense_3/bias/Assign':\n  File \"/home/casapanshop/anaconda2/envs/newpy3_tf1/lib/python3.6/runpy.py\", line 193, in _run_module_as_main\n    \"__main__\", mod_spec)\n  File \"/home/casapanshop/anaconda2/envs/newpy3_tf1/lib/python3.6/runpy.py\", line 85, in _run_code\n    exec(code, run_globals)\n  File \"/home/casapanshop/anaconda2/envs/newpy3_tf1/lib/python3.6/site-packages/ipykernel_launcher.py\", line 16, in <module>\n    app.launch_new_instance()\n  File \"/home/casapanshop/anaconda2/envs/newpy3_tf1/lib/python3.6/site-packages/traitlets/config/application.py\", line 664, in launch_instance\n    app.start()\n  File \"/home/casapanshop/anaconda2/envs/newpy3_tf1/lib/python3.6/site-packages/ipykernel/kernelapp.py\", line 583, in start\n    self.io_loop.start()\n  File \"/home/casapanshop/anaconda2/envs/newpy3_tf1/lib/python3.6/site-packages/tornado/platform/asyncio.py\", line 153, in start\n    self.asyncio_loop.run_forever()\n  File \"/home/casapanshop/anaconda2/envs/newpy3_tf1/lib/python3.6/asyncio/base_events.py\", line 442, in run_forever\n    self._run_once()\n  File \"/home/casapanshop/anaconda2/envs/newpy3_tf1/lib/python3.6/asyncio/base_events.py\", line 1462, in _run_once\n    handle._run()\n  File \"/home/casapanshop/anaconda2/envs/newpy3_tf1/lib/python3.6/asyncio/events.py\", line 145, in _run\n    self._callback(*self._args)\n  File \"/home/casapanshop/anaconda2/envs/newpy3_tf1/lib/python3.6/site-packages/tornado/ioloop.py\", line 690, in <lambda>\n    lambda f: self._run_callback(functools.partial(callback, future))\n  File \"/home/casapanshop/anaconda2/envs/newpy3_tf1/lib/python3.6/site-packages/tornado/ioloop.py\", line 743, in _run_callback\n    ret = callback()\n  File \"/home/casapanshop/anaconda2/envs/newpy3_tf1/lib/python3.6/site-packages/tornado/gen.py\", line 787, in inner\n    self.run()\n  File \"/home/casapanshop/anaconda2/envs/newpy3_tf1/lib/python3.6/site-packages/tornado/gen.py\", line 748, in run\n    yielded = self.gen.send(value)\n  File \"/home/casapanshop/anaconda2/envs/newpy3_tf1/lib/python3.6/site-packages/ipykernel/kernelbase.py\", line 361, in process_one\n    yield gen.maybe_future(dispatch(*args))\n  File \"/home/casapanshop/anaconda2/envs/newpy3_tf1/lib/python3.6/site-packages/tornado/gen.py\", line 209, in wrapper\n    yielded = next(result)\n  File \"/home/casapanshop/anaconda2/envs/newpy3_tf1/lib/python3.6/site-packages/ipykernel/kernelbase.py\", line 268, in dispatch_shell\n    yield gen.maybe_future(handler(stream, idents, msg))\n  File \"/home/casapanshop/anaconda2/envs/newpy3_tf1/lib/python3.6/site-packages/tornado/gen.py\", line 209, in wrapper\n    yielded = next(result)\n  File \"/home/casapanshop/anaconda2/envs/newpy3_tf1/lib/python3.6/site-packages/ipykernel/kernelbase.py\", line 541, in execute_request\n    user_expressions, allow_stdin,\n  File \"/home/casapanshop/anaconda2/envs/newpy3_tf1/lib/python3.6/site-packages/tornado/gen.py\", line 209, in wrapper\n    yielded = next(result)\n  File \"/home/casapanshop/anaconda2/envs/newpy3_tf1/lib/python3.6/site-packages/ipykernel/ipkernel.py\", line 300, in do_execute\n    res = shell.run_cell(code, store_history=store_history, silent=silent)\n  File \"/home/casapanshop/anaconda2/envs/newpy3_tf1/lib/python3.6/site-packages/ipykernel/zmqshell.py\", line 536, in run_cell\n    return super(ZMQInteractiveShell, self).run_cell(*args, **kwargs)\n  File \"/home/casapanshop/anaconda2/envs/newpy3_tf1/lib/python3.6/site-packages/IPython/core/interactiveshell.py\", line 2858, in run_cell\n    raw_cell, store_history, silent, shell_futures)\n  File \"/home/casapanshop/anaconda2/envs/newpy3_tf1/lib/python3.6/site-packages/IPython/core/interactiveshell.py\", line 2886, in _run_cell\n    return runner(coro)\n  File \"/home/casapanshop/anaconda2/envs/newpy3_tf1/lib/python3.6/site-packages/IPython/core/async_helpers.py\", line 68, in _pseudo_sync_runner\n    coro.send(None)\n  File \"/home/casapanshop/anaconda2/envs/newpy3_tf1/lib/python3.6/site-packages/IPython/core/interactiveshell.py\", line 3063, in run_cell_async\n    interactivity=interactivity, compiler=compiler, result=result)\n  File \"/home/casapanshop/anaconda2/envs/newpy3_tf1/lib/python3.6/site-packages/IPython/core/interactiveshell.py\", line 3254, in run_ast_nodes\n    if (await self.run_code(code, result,  async_=asy)):\n  File \"/home/casapanshop/anaconda2/envs/newpy3_tf1/lib/python3.6/site-packages/IPython/core/interactiveshell.py\", line 3331, in run_code\n    exec(code_obj, self.user_global_ns, self.user_ns)\n  File \"<ipython-input-122-88cf63582a16>\", line 6, in <module>\n    traditional_vae,encoder_Tvae,generator_Tvae = traditional_VAE(X_train.shape[1],Nb=Nbit,units=500,layers_e=2,layers_d=0)\n  File \"<ipython-input-95-765fe2ac31dc>\", line 6, in traditional_VAE\n    generator = define_generator(Nb,data_dim,layers=layers_d,units=units,BN=BN)\n  File \"/home/fmena/Desktop/DiscreteVAE/base_networks.py\", line 44, in define_generator\n    model.add(Dense(data_dim, activation=out_type)) #softmax generator\n  File \"/home/casapanshop/anaconda2/envs/newpy3_tf1/lib/python3.6/site-packages/keras/engine/sequential.py\", line 182, in add\n    output_tensor = layer(self.outputs[0])\n  File \"/home/casapanshop/anaconda2/envs/newpy3_tf1/lib/python3.6/site-packages/keras/engine/base_layer.py\", line 425, in __call__\n    self.build(unpack_singleton(input_shapes))\n  File \"/home/casapanshop/anaconda2/envs/newpy3_tf1/lib/python3.6/site-packages/keras/layers/core.py\", line 901, in build\n    constraint=self.bias_constraint)\n  File \"/home/casapanshop/anaconda2/envs/newpy3_tf1/lib/python3.6/site-packages/keras/legacy/interfaces.py\", line 91, in wrapper\n    return func(*args, **kwargs)\n  File \"/home/casapanshop/anaconda2/envs/newpy3_tf1/lib/python3.6/site-packages/keras/engine/base_layer.py\", line 246, in add_weight\n    constraint=constraint)\n  File \"/home/casapanshop/anaconda2/envs/newpy3_tf1/lib/python3.6/site-packages/keras/backend/tensorflow_backend.py\", line 422, in variable\n    v = tf.Variable(value, dtype=tf.as_dtype(dtype), name=name)\n  File \"/home/casapanshop/anaconda2/envs/newpy3_tf1/lib/python3.6/site-packages/tensorflow/python/ops/variables.py\", line 259, in __call__\n    return cls._variable_v1_call(*args, **kwargs)\n  File \"/home/casapanshop/anaconda2/envs/newpy3_tf1/lib/python3.6/site-packages/tensorflow/python/ops/variables.py\", line 220, in _variable_v1_call\n    shape=shape)\n  File \"/home/casapanshop/anaconda2/envs/newpy3_tf1/lib/python3.6/site-packages/tensorflow/python/ops/variables.py\", line 198, in <lambda>\n    previous_getter = lambda **kwargs: default_variable_creator(None, **kwargs)\n  File \"/home/casapanshop/anaconda2/envs/newpy3_tf1/lib/python3.6/site-packages/tensorflow/python/ops/variable_scope.py\", line 2511, in default_variable_creator\n    shape=shape)\n  File \"/home/casapanshop/anaconda2/envs/newpy3_tf1/lib/python3.6/site-packages/tensorflow/python/ops/variables.py\", line 263, in __call__\n    return super(VariableMetaclass, cls).__call__(*args, **kwargs)\n  File \"/home/casapanshop/anaconda2/envs/newpy3_tf1/lib/python3.6/site-packages/tensorflow/python/ops/variables.py\", line 1568, in __init__\n    shape=shape)\n  File \"/home/casapanshop/anaconda2/envs/newpy3_tf1/lib/python3.6/site-packages/tensorflow/python/ops/variables.py\", line 1745, in _init_from_args\n    validate_shape=validate_shape).op\n  File \"/home/casapanshop/anaconda2/envs/newpy3_tf1/lib/python3.6/site-packages/tensorflow/python/ops/state_ops.py\", line 227, in assign\n    validate_shape=validate_shape)\n  File \"/home/casapanshop/anaconda2/envs/newpy3_tf1/lib/python3.6/site-packages/tensorflow/python/ops/gen_state_ops.py\", line 66, in assign\n    use_locking=use_locking, name=name)\n  File \"/home/casapanshop/anaconda2/envs/newpy3_tf1/lib/python3.6/site-packages/tensorflow/python/framework/op_def_library.py\", line 788, in _apply_op_helper\n    op_def=op_def)\n  File \"/home/casapanshop/anaconda2/envs/newpy3_tf1/lib/python3.6/site-packages/tensorflow/python/util/deprecation.py\", line 507, in new_func\n    return func(*args, **kwargs)\n  File \"/home/casapanshop/anaconda2/envs/newpy3_tf1/lib/python3.6/site-packages/tensorflow/python/framework/ops.py\", line 3616, in create_op\n    op_def=op_def)\n  File \"/home/casapanshop/anaconda2/envs/newpy3_tf1/lib/python3.6/site-packages/tensorflow/python/framework/ops.py\", line 2005, in __init__\n    self._traceback = tf_stack.extract_stack()\n",
     "output_type": "error",
     "traceback": [
      "\u001b[0;31m---------------------------------------------------------------------------\u001b[0m",
      "\u001b[0;31mResourceExhaustedError\u001b[0m                    Traceback (most recent call last)",
      "\u001b[0;32m/home/casapanshop/anaconda2/envs/newpy3_tf1/lib/python3.6/site-packages/tensorflow/python/client/session.py\u001b[0m in \u001b[0;36m_do_call\u001b[0;34m(self, fn, *args)\u001b[0m\n\u001b[1;32m   1355\u001b[0m     \u001b[0;32mtry\u001b[0m\u001b[0;34m:\u001b[0m\u001b[0;34m\u001b[0m\u001b[0;34m\u001b[0m\u001b[0m\n\u001b[0;32m-> 1356\u001b[0;31m       \u001b[0;32mreturn\u001b[0m \u001b[0mfn\u001b[0m\u001b[0;34m(\u001b[0m\u001b[0;34m*\u001b[0m\u001b[0margs\u001b[0m\u001b[0;34m)\u001b[0m\u001b[0;34m\u001b[0m\u001b[0;34m\u001b[0m\u001b[0m\n\u001b[0m\u001b[1;32m   1357\u001b[0m     \u001b[0;32mexcept\u001b[0m \u001b[0merrors\u001b[0m\u001b[0;34m.\u001b[0m\u001b[0mOpError\u001b[0m \u001b[0;32mas\u001b[0m \u001b[0me\u001b[0m\u001b[0;34m:\u001b[0m\u001b[0;34m\u001b[0m\u001b[0;34m\u001b[0m\u001b[0m\n",
      "\u001b[0;32m/home/casapanshop/anaconda2/envs/newpy3_tf1/lib/python3.6/site-packages/tensorflow/python/client/session.py\u001b[0m in \u001b[0;36m_run_fn\u001b[0;34m(feed_dict, fetch_list, target_list, options, run_metadata)\u001b[0m\n\u001b[1;32m   1340\u001b[0m       return self._call_tf_sessionrun(\n\u001b[0;32m-> 1341\u001b[0;31m           options, feed_dict, fetch_list, target_list, run_metadata)\n\u001b[0m\u001b[1;32m   1342\u001b[0m \u001b[0;34m\u001b[0m\u001b[0m\n",
      "\u001b[0;32m/home/casapanshop/anaconda2/envs/newpy3_tf1/lib/python3.6/site-packages/tensorflow/python/client/session.py\u001b[0m in \u001b[0;36m_call_tf_sessionrun\u001b[0;34m(self, options, feed_dict, fetch_list, target_list, run_metadata)\u001b[0m\n\u001b[1;32m   1428\u001b[0m         \u001b[0mself\u001b[0m\u001b[0;34m.\u001b[0m\u001b[0m_session\u001b[0m\u001b[0;34m,\u001b[0m \u001b[0moptions\u001b[0m\u001b[0;34m,\u001b[0m \u001b[0mfeed_dict\u001b[0m\u001b[0;34m,\u001b[0m \u001b[0mfetch_list\u001b[0m\u001b[0;34m,\u001b[0m \u001b[0mtarget_list\u001b[0m\u001b[0;34m,\u001b[0m\u001b[0;34m\u001b[0m\u001b[0;34m\u001b[0m\u001b[0m\n\u001b[0;32m-> 1429\u001b[0;31m         run_metadata)\n\u001b[0m\u001b[1;32m   1430\u001b[0m \u001b[0;34m\u001b[0m\u001b[0m\n",
      "\u001b[0;31mResourceExhaustedError\u001b[0m: OOM when allocating tensor with shape[10000] and type float on /job:localhost/replica:0/task:0/device:GPU:0 by allocator GPU_0_bfc\n\t [[{{node dense_3/bias/Assign}}]]\nHint: If you want to see a list of allocated tensors when OOM happens, add report_tensor_allocations_upon_oom to RunOptions for current allocation info.\n",
      "\nDuring handling of the above exception, another exception occurred:\n",
      "\u001b[0;31mResourceExhaustedError\u001b[0m                    Traceback (most recent call last)",
      "\u001b[0;32m<ipython-input-122-88cf63582a16>\u001b[0m in \u001b[0;36m<module>\u001b[0;34m\u001b[0m\n\u001b[1;32m      5\u001b[0m \u001b[0;32mfor\u001b[0m \u001b[0mNbit\u001b[0m \u001b[0;32min\u001b[0m \u001b[0mNbits\u001b[0m\u001b[0;34m:\u001b[0m\u001b[0;34m\u001b[0m\u001b[0;34m\u001b[0m\u001b[0m\n\u001b[1;32m      6\u001b[0m     \u001b[0mtraditional_vae\u001b[0m\u001b[0;34m,\u001b[0m\u001b[0mencoder_Tvae\u001b[0m\u001b[0;34m,\u001b[0m\u001b[0mgenerator_Tvae\u001b[0m \u001b[0;34m=\u001b[0m \u001b[0mtraditional_VAE\u001b[0m\u001b[0;34m(\u001b[0m\u001b[0mX_train\u001b[0m\u001b[0;34m.\u001b[0m\u001b[0mshape\u001b[0m\u001b[0;34m[\u001b[0m\u001b[0;36m1\u001b[0m\u001b[0;34m]\u001b[0m\u001b[0;34m,\u001b[0m\u001b[0mNb\u001b[0m\u001b[0;34m=\u001b[0m\u001b[0mNbit\u001b[0m\u001b[0;34m,\u001b[0m\u001b[0munits\u001b[0m\u001b[0;34m=\u001b[0m\u001b[0;36m500\u001b[0m\u001b[0;34m,\u001b[0m\u001b[0mlayers_e\u001b[0m\u001b[0;34m=\u001b[0m\u001b[0;36m2\u001b[0m\u001b[0;34m,\u001b[0m\u001b[0mlayers_d\u001b[0m\u001b[0;34m=\u001b[0m\u001b[0;36m0\u001b[0m\u001b[0;34m)\u001b[0m\u001b[0;34m\u001b[0m\u001b[0;34m\u001b[0m\u001b[0m\n\u001b[0;32m----> 7\u001b[0;31m     \u001b[0mtraditional_vae\u001b[0m\u001b[0;34m.\u001b[0m\u001b[0mfit\u001b[0m\u001b[0;34m(\u001b[0m\u001b[0mX_train_input\u001b[0m\u001b[0;34m,\u001b[0m \u001b[0mX_train\u001b[0m\u001b[0;34m,\u001b[0m \u001b[0mepochs\u001b[0m\u001b[0;34m=\u001b[0m\u001b[0mepochs\u001b[0m\u001b[0;34m,\u001b[0m \u001b[0mbatch_size\u001b[0m\u001b[0;34m=\u001b[0m\u001b[0mbatch_size\u001b[0m\u001b[0;34m,\u001b[0m\u001b[0mverbose\u001b[0m\u001b[0;34m=\u001b[0m\u001b[0;36m0\u001b[0m\u001b[0;34m)\u001b[0m\u001b[0;34m\u001b[0m\u001b[0;34m\u001b[0m\u001b[0m\n\u001b[0m\u001b[1;32m      8\u001b[0m     \u001b[0mp_t\u001b[0m\u001b[0;34m,\u001b[0m\u001b[0mr_t\u001b[0m \u001b[0;34m=\u001b[0m \u001b[0mevaluate_hashing\u001b[0m\u001b[0;34m(\u001b[0m\u001b[0mencoder_Tvae\u001b[0m\u001b[0;34m,\u001b[0m\u001b[0mX_train_input\u001b[0m\u001b[0;34m,\u001b[0m\u001b[0mX_val_input\u001b[0m\u001b[0;34m,\u001b[0m\u001b[0mlabels_train\u001b[0m\u001b[0;34m,\u001b[0m\u001b[0mlabels_val\u001b[0m\u001b[0;34m,\u001b[0m\u001b[0mtraditional\u001b[0m\u001b[0;34m=\u001b[0m\u001b[0;32mTrue\u001b[0m\u001b[0;34m,\u001b[0m\u001b[0mtipo\u001b[0m\u001b[0;34m=\u001b[0m\u001b[0;34m\"topK\"\u001b[0m\u001b[0;34m)\u001b[0m\u001b[0;34m\u001b[0m\u001b[0;34m\u001b[0m\u001b[0m\n\u001b[1;32m      9\u001b[0m     \u001b[0mtraditional_dat\u001b[0m\u001b[0;34m[\u001b[0m\u001b[0mdataset\u001b[0m\u001b[0;34m]\u001b[0m\u001b[0;34m[\u001b[0m\u001b[0;34m\"p\"\u001b[0m\u001b[0;34m]\u001b[0m\u001b[0;34m.\u001b[0m\u001b[0mappend\u001b[0m\u001b[0;34m(\u001b[0m\u001b[0mp_t\u001b[0m\u001b[0;34m)\u001b[0m\u001b[0;34m\u001b[0m\u001b[0;34m\u001b[0m\u001b[0m\n",
      "\u001b[0;32m/home/casapanshop/anaconda2/envs/newpy3_tf1/lib/python3.6/site-packages/keras/engine/training.py\u001b[0m in \u001b[0;36mfit\u001b[0;34m(self, x, y, batch_size, epochs, verbose, callbacks, validation_split, validation_data, shuffle, class_weight, sample_weight, initial_epoch, steps_per_epoch, validation_steps, validation_freq, max_queue_size, workers, use_multiprocessing, **kwargs)\u001b[0m\n\u001b[1;32m   1176\u001b[0m                                         \u001b[0msteps_per_epoch\u001b[0m\u001b[0;34m=\u001b[0m\u001b[0msteps_per_epoch\u001b[0m\u001b[0;34m,\u001b[0m\u001b[0;34m\u001b[0m\u001b[0;34m\u001b[0m\u001b[0m\n\u001b[1;32m   1177\u001b[0m                                         \u001b[0mvalidation_steps\u001b[0m\u001b[0;34m=\u001b[0m\u001b[0mvalidation_steps\u001b[0m\u001b[0;34m,\u001b[0m\u001b[0;34m\u001b[0m\u001b[0;34m\u001b[0m\u001b[0m\n\u001b[0;32m-> 1178\u001b[0;31m                                         validation_freq=validation_freq)\n\u001b[0m\u001b[1;32m   1179\u001b[0m \u001b[0;34m\u001b[0m\u001b[0m\n\u001b[1;32m   1180\u001b[0m     def evaluate(self,\n",
      "\u001b[0;32m/home/casapanshop/anaconda2/envs/newpy3_tf1/lib/python3.6/site-packages/keras/engine/training_arrays.py\u001b[0m in \u001b[0;36mfit_loop\u001b[0;34m(model, fit_function, fit_inputs, out_labels, batch_size, epochs, verbose, callbacks, val_function, val_inputs, shuffle, callback_metrics, initial_epoch, steps_per_epoch, validation_steps, validation_freq)\u001b[0m\n\u001b[1;32m    202\u001b[0m                     \u001b[0mins_batch\u001b[0m\u001b[0;34m[\u001b[0m\u001b[0mi\u001b[0m\u001b[0;34m]\u001b[0m \u001b[0;34m=\u001b[0m \u001b[0mins_batch\u001b[0m\u001b[0;34m[\u001b[0m\u001b[0mi\u001b[0m\u001b[0;34m]\u001b[0m\u001b[0;34m.\u001b[0m\u001b[0mtoarray\u001b[0m\u001b[0;34m(\u001b[0m\u001b[0;34m)\u001b[0m\u001b[0;34m\u001b[0m\u001b[0;34m\u001b[0m\u001b[0m\n\u001b[1;32m    203\u001b[0m \u001b[0;34m\u001b[0m\u001b[0m\n\u001b[0;32m--> 204\u001b[0;31m                 \u001b[0mouts\u001b[0m \u001b[0;34m=\u001b[0m \u001b[0mfit_function\u001b[0m\u001b[0;34m(\u001b[0m\u001b[0mins_batch\u001b[0m\u001b[0;34m)\u001b[0m\u001b[0;34m\u001b[0m\u001b[0;34m\u001b[0m\u001b[0m\n\u001b[0m\u001b[1;32m    205\u001b[0m                 \u001b[0mouts\u001b[0m \u001b[0;34m=\u001b[0m \u001b[0mto_list\u001b[0m\u001b[0;34m(\u001b[0m\u001b[0mouts\u001b[0m\u001b[0;34m)\u001b[0m\u001b[0;34m\u001b[0m\u001b[0;34m\u001b[0m\u001b[0m\n\u001b[1;32m    206\u001b[0m                 \u001b[0;32mfor\u001b[0m \u001b[0ml\u001b[0m\u001b[0;34m,\u001b[0m \u001b[0mo\u001b[0m \u001b[0;32min\u001b[0m \u001b[0mzip\u001b[0m\u001b[0;34m(\u001b[0m\u001b[0mout_labels\u001b[0m\u001b[0;34m,\u001b[0m \u001b[0mouts\u001b[0m\u001b[0;34m)\u001b[0m\u001b[0;34m:\u001b[0m\u001b[0;34m\u001b[0m\u001b[0;34m\u001b[0m\u001b[0m\n",
      "\u001b[0;32m/home/casapanshop/anaconda2/envs/newpy3_tf1/lib/python3.6/site-packages/keras/backend/tensorflow_backend.py\u001b[0m in \u001b[0;36m__call__\u001b[0;34m(self, inputs)\u001b[0m\n\u001b[1;32m   2957\u001b[0m \u001b[0;34m\u001b[0m\u001b[0m\n\u001b[1;32m   2958\u001b[0m     \u001b[0;32mdef\u001b[0m \u001b[0m__call__\u001b[0m\u001b[0;34m(\u001b[0m\u001b[0mself\u001b[0m\u001b[0;34m,\u001b[0m \u001b[0minputs\u001b[0m\u001b[0;34m)\u001b[0m\u001b[0;34m:\u001b[0m\u001b[0;34m\u001b[0m\u001b[0;34m\u001b[0m\u001b[0m\n\u001b[0;32m-> 2959\u001b[0;31m         \u001b[0;32mif\u001b[0m \u001b[0mhasattr\u001b[0m\u001b[0;34m(\u001b[0m\u001b[0mget_session\u001b[0m\u001b[0;34m(\u001b[0m\u001b[0;34m)\u001b[0m\u001b[0;34m,\u001b[0m \u001b[0;34m'_make_callable_from_options'\u001b[0m\u001b[0;34m)\u001b[0m\u001b[0;34m:\u001b[0m\u001b[0;34m\u001b[0m\u001b[0;34m\u001b[0m\u001b[0m\n\u001b[0m\u001b[1;32m   2960\u001b[0m             \u001b[0;32mif\u001b[0m \u001b[0mpy_any\u001b[0m\u001b[0;34m(\u001b[0m\u001b[0mis_sparse\u001b[0m\u001b[0;34m(\u001b[0m\u001b[0mx\u001b[0m\u001b[0;34m)\u001b[0m \u001b[0;32mfor\u001b[0m \u001b[0mx\u001b[0m \u001b[0;32min\u001b[0m \u001b[0mself\u001b[0m\u001b[0;34m.\u001b[0m\u001b[0minputs\u001b[0m\u001b[0;34m)\u001b[0m\u001b[0;34m:\u001b[0m\u001b[0;34m\u001b[0m\u001b[0;34m\u001b[0m\u001b[0m\n\u001b[1;32m   2961\u001b[0m                 \u001b[0;32mif\u001b[0m \u001b[0mpy_any\u001b[0m\u001b[0;34m(\u001b[0m\u001b[0mis_tensor\u001b[0m\u001b[0;34m(\u001b[0m\u001b[0mx\u001b[0m\u001b[0;34m)\u001b[0m \u001b[0;32mfor\u001b[0m \u001b[0mx\u001b[0m \u001b[0;32min\u001b[0m \u001b[0minputs\u001b[0m\u001b[0;34m)\u001b[0m\u001b[0;34m:\u001b[0m\u001b[0;34m\u001b[0m\u001b[0;34m\u001b[0m\u001b[0m\n",
      "\u001b[0;32m/home/casapanshop/anaconda2/envs/newpy3_tf1/lib/python3.6/site-packages/keras/backend/tensorflow_backend.py\u001b[0m in \u001b[0;36mget_session\u001b[0;34m()\u001b[0m\n\u001b[1;32m    221\u001b[0m                     \u001b[0mv\u001b[0m\u001b[0;34m.\u001b[0m\u001b[0m_keras_initialized\u001b[0m \u001b[0;34m=\u001b[0m \u001b[0;32mTrue\u001b[0m\u001b[0;34m\u001b[0m\u001b[0;34m\u001b[0m\u001b[0m\n\u001b[1;32m    222\u001b[0m                 \u001b[0;32mif\u001b[0m \u001b[0muninitialized_vars\u001b[0m\u001b[0;34m:\u001b[0m\u001b[0;34m\u001b[0m\u001b[0;34m\u001b[0m\u001b[0m\n\u001b[0;32m--> 223\u001b[0;31m                     \u001b[0msession\u001b[0m\u001b[0;34m.\u001b[0m\u001b[0mrun\u001b[0m\u001b[0;34m(\u001b[0m\u001b[0mtf\u001b[0m\u001b[0;34m.\u001b[0m\u001b[0mvariables_initializer\u001b[0m\u001b[0;34m(\u001b[0m\u001b[0muninitialized_vars\u001b[0m\u001b[0;34m)\u001b[0m\u001b[0;34m)\u001b[0m\u001b[0;34m\u001b[0m\u001b[0;34m\u001b[0m\u001b[0m\n\u001b[0m\u001b[1;32m    224\u001b[0m     \u001b[0;31m# hack for list_devices() function.\u001b[0m\u001b[0;34m\u001b[0m\u001b[0;34m\u001b[0m\u001b[0;34m\u001b[0m\u001b[0m\n\u001b[1;32m    225\u001b[0m     \u001b[0;31m# list_devices() function is not available under tensorflow r1.3.\u001b[0m\u001b[0;34m\u001b[0m\u001b[0;34m\u001b[0m\u001b[0;34m\u001b[0m\u001b[0m\n",
      "\u001b[0;32m/home/casapanshop/anaconda2/envs/newpy3_tf1/lib/python3.6/site-packages/tensorflow/python/client/session.py\u001b[0m in \u001b[0;36mrun\u001b[0;34m(self, fetches, feed_dict, options, run_metadata)\u001b[0m\n\u001b[1;32m    948\u001b[0m     \u001b[0;32mtry\u001b[0m\u001b[0;34m:\u001b[0m\u001b[0;34m\u001b[0m\u001b[0;34m\u001b[0m\u001b[0m\n\u001b[1;32m    949\u001b[0m       result = self._run(None, fetches, feed_dict, options_ptr,\n\u001b[0;32m--> 950\u001b[0;31m                          run_metadata_ptr)\n\u001b[0m\u001b[1;32m    951\u001b[0m       \u001b[0;32mif\u001b[0m \u001b[0mrun_metadata\u001b[0m\u001b[0;34m:\u001b[0m\u001b[0;34m\u001b[0m\u001b[0;34m\u001b[0m\u001b[0m\n\u001b[1;32m    952\u001b[0m         \u001b[0mproto_data\u001b[0m \u001b[0;34m=\u001b[0m \u001b[0mtf_session\u001b[0m\u001b[0;34m.\u001b[0m\u001b[0mTF_GetBuffer\u001b[0m\u001b[0;34m(\u001b[0m\u001b[0mrun_metadata_ptr\u001b[0m\u001b[0;34m)\u001b[0m\u001b[0;34m\u001b[0m\u001b[0;34m\u001b[0m\u001b[0m\n",
      "\u001b[0;32m/home/casapanshop/anaconda2/envs/newpy3_tf1/lib/python3.6/site-packages/tensorflow/python/client/session.py\u001b[0m in \u001b[0;36m_run\u001b[0;34m(self, handle, fetches, feed_dict, options, run_metadata)\u001b[0m\n\u001b[1;32m   1171\u001b[0m     \u001b[0;32mif\u001b[0m \u001b[0mfinal_fetches\u001b[0m \u001b[0;32mor\u001b[0m \u001b[0mfinal_targets\u001b[0m \u001b[0;32mor\u001b[0m \u001b[0;34m(\u001b[0m\u001b[0mhandle\u001b[0m \u001b[0;32mand\u001b[0m \u001b[0mfeed_dict_tensor\u001b[0m\u001b[0;34m)\u001b[0m\u001b[0;34m:\u001b[0m\u001b[0;34m\u001b[0m\u001b[0;34m\u001b[0m\u001b[0m\n\u001b[1;32m   1172\u001b[0m       results = self._do_run(handle, final_targets, final_fetches,\n\u001b[0;32m-> 1173\u001b[0;31m                              feed_dict_tensor, options, run_metadata)\n\u001b[0m\u001b[1;32m   1174\u001b[0m     \u001b[0;32melse\u001b[0m\u001b[0;34m:\u001b[0m\u001b[0;34m\u001b[0m\u001b[0;34m\u001b[0m\u001b[0m\n\u001b[1;32m   1175\u001b[0m       \u001b[0mresults\u001b[0m \u001b[0;34m=\u001b[0m \u001b[0;34m[\u001b[0m\u001b[0;34m]\u001b[0m\u001b[0;34m\u001b[0m\u001b[0;34m\u001b[0m\u001b[0m\n",
      "\u001b[0;32m/home/casapanshop/anaconda2/envs/newpy3_tf1/lib/python3.6/site-packages/tensorflow/python/client/session.py\u001b[0m in \u001b[0;36m_do_run\u001b[0;34m(self, handle, target_list, fetch_list, feed_dict, options, run_metadata)\u001b[0m\n\u001b[1;32m   1348\u001b[0m     \u001b[0;32mif\u001b[0m \u001b[0mhandle\u001b[0m \u001b[0;32mis\u001b[0m \u001b[0;32mNone\u001b[0m\u001b[0;34m:\u001b[0m\u001b[0;34m\u001b[0m\u001b[0;34m\u001b[0m\u001b[0m\n\u001b[1;32m   1349\u001b[0m       return self._do_call(_run_fn, feeds, fetches, targets, options,\n\u001b[0;32m-> 1350\u001b[0;31m                            run_metadata)\n\u001b[0m\u001b[1;32m   1351\u001b[0m     \u001b[0;32melse\u001b[0m\u001b[0;34m:\u001b[0m\u001b[0;34m\u001b[0m\u001b[0;34m\u001b[0m\u001b[0m\n\u001b[1;32m   1352\u001b[0m       \u001b[0;32mreturn\u001b[0m \u001b[0mself\u001b[0m\u001b[0;34m.\u001b[0m\u001b[0m_do_call\u001b[0m\u001b[0;34m(\u001b[0m\u001b[0m_prun_fn\u001b[0m\u001b[0;34m,\u001b[0m \u001b[0mhandle\u001b[0m\u001b[0;34m,\u001b[0m \u001b[0mfeeds\u001b[0m\u001b[0;34m,\u001b[0m \u001b[0mfetches\u001b[0m\u001b[0;34m)\u001b[0m\u001b[0;34m\u001b[0m\u001b[0;34m\u001b[0m\u001b[0m\n",
      "\u001b[0;32m/home/casapanshop/anaconda2/envs/newpy3_tf1/lib/python3.6/site-packages/tensorflow/python/client/session.py\u001b[0m in \u001b[0;36m_do_call\u001b[0;34m(self, fn, *args)\u001b[0m\n\u001b[1;32m   1368\u001b[0m           \u001b[0;32mpass\u001b[0m\u001b[0;34m\u001b[0m\u001b[0;34m\u001b[0m\u001b[0m\n\u001b[1;32m   1369\u001b[0m       \u001b[0mmessage\u001b[0m \u001b[0;34m=\u001b[0m \u001b[0merror_interpolation\u001b[0m\u001b[0;34m.\u001b[0m\u001b[0minterpolate\u001b[0m\u001b[0;34m(\u001b[0m\u001b[0mmessage\u001b[0m\u001b[0;34m,\u001b[0m \u001b[0mself\u001b[0m\u001b[0;34m.\u001b[0m\u001b[0m_graph\u001b[0m\u001b[0;34m)\u001b[0m\u001b[0;34m\u001b[0m\u001b[0;34m\u001b[0m\u001b[0m\n\u001b[0;32m-> 1370\u001b[0;31m       \u001b[0;32mraise\u001b[0m \u001b[0mtype\u001b[0m\u001b[0;34m(\u001b[0m\u001b[0me\u001b[0m\u001b[0;34m)\u001b[0m\u001b[0;34m(\u001b[0m\u001b[0mnode_def\u001b[0m\u001b[0;34m,\u001b[0m \u001b[0mop\u001b[0m\u001b[0;34m,\u001b[0m \u001b[0mmessage\u001b[0m\u001b[0;34m)\u001b[0m\u001b[0;34m\u001b[0m\u001b[0;34m\u001b[0m\u001b[0m\n\u001b[0m\u001b[1;32m   1371\u001b[0m \u001b[0;34m\u001b[0m\u001b[0m\n\u001b[1;32m   1372\u001b[0m   \u001b[0;32mdef\u001b[0m \u001b[0m_extend_graph\u001b[0m\u001b[0;34m(\u001b[0m\u001b[0mself\u001b[0m\u001b[0;34m)\u001b[0m\u001b[0;34m:\u001b[0m\u001b[0;34m\u001b[0m\u001b[0;34m\u001b[0m\u001b[0m\n",
      "\u001b[0;31mResourceExhaustedError\u001b[0m: OOM when allocating tensor with shape[10000] and type float on /job:localhost/replica:0/task:0/device:GPU:0 by allocator GPU_0_bfc\n\t [[node dense_3/bias/Assign (defined at /home/casapanshop/anaconda2/envs/newpy3_tf1/lib/python3.6/site-packages/keras/backend/tensorflow_backend.py:422) ]]\nHint: If you want to see a list of allocated tensors when OOM happens, add report_tensor_allocations_upon_oom to RunOptions for current allocation info.\n\n\nErrors may have originated from an input operation.\nInput Source operations connected to node dense_3/bias/Assign:\n dense_3/Const (defined at /home/casapanshop/anaconda2/envs/newpy3_tf1/lib/python3.6/site-packages/keras/backend/tensorflow_backend.py:450)\n\nOriginal stack trace for 'dense_3/bias/Assign':\n  File \"/home/casapanshop/anaconda2/envs/newpy3_tf1/lib/python3.6/runpy.py\", line 193, in _run_module_as_main\n    \"__main__\", mod_spec)\n  File \"/home/casapanshop/anaconda2/envs/newpy3_tf1/lib/python3.6/runpy.py\", line 85, in _run_code\n    exec(code, run_globals)\n  File \"/home/casapanshop/anaconda2/envs/newpy3_tf1/lib/python3.6/site-packages/ipykernel_launcher.py\", line 16, in <module>\n    app.launch_new_instance()\n  File \"/home/casapanshop/anaconda2/envs/newpy3_tf1/lib/python3.6/site-packages/traitlets/config/application.py\", line 664, in launch_instance\n    app.start()\n  File \"/home/casapanshop/anaconda2/envs/newpy3_tf1/lib/python3.6/site-packages/ipykernel/kernelapp.py\", line 583, in start\n    self.io_loop.start()\n  File \"/home/casapanshop/anaconda2/envs/newpy3_tf1/lib/python3.6/site-packages/tornado/platform/asyncio.py\", line 153, in start\n    self.asyncio_loop.run_forever()\n  File \"/home/casapanshop/anaconda2/envs/newpy3_tf1/lib/python3.6/asyncio/base_events.py\", line 442, in run_forever\n    self._run_once()\n  File \"/home/casapanshop/anaconda2/envs/newpy3_tf1/lib/python3.6/asyncio/base_events.py\", line 1462, in _run_once\n    handle._run()\n  File \"/home/casapanshop/anaconda2/envs/newpy3_tf1/lib/python3.6/asyncio/events.py\", line 145, in _run\n    self._callback(*self._args)\n  File \"/home/casapanshop/anaconda2/envs/newpy3_tf1/lib/python3.6/site-packages/tornado/ioloop.py\", line 690, in <lambda>\n    lambda f: self._run_callback(functools.partial(callback, future))\n  File \"/home/casapanshop/anaconda2/envs/newpy3_tf1/lib/python3.6/site-packages/tornado/ioloop.py\", line 743, in _run_callback\n    ret = callback()\n  File \"/home/casapanshop/anaconda2/envs/newpy3_tf1/lib/python3.6/site-packages/tornado/gen.py\", line 787, in inner\n    self.run()\n  File \"/home/casapanshop/anaconda2/envs/newpy3_tf1/lib/python3.6/site-packages/tornado/gen.py\", line 748, in run\n    yielded = self.gen.send(value)\n  File \"/home/casapanshop/anaconda2/envs/newpy3_tf1/lib/python3.6/site-packages/ipykernel/kernelbase.py\", line 361, in process_one\n    yield gen.maybe_future(dispatch(*args))\n  File \"/home/casapanshop/anaconda2/envs/newpy3_tf1/lib/python3.6/site-packages/tornado/gen.py\", line 209, in wrapper\n    yielded = next(result)\n  File \"/home/casapanshop/anaconda2/envs/newpy3_tf1/lib/python3.6/site-packages/ipykernel/kernelbase.py\", line 268, in dispatch_shell\n    yield gen.maybe_future(handler(stream, idents, msg))\n  File \"/home/casapanshop/anaconda2/envs/newpy3_tf1/lib/python3.6/site-packages/tornado/gen.py\", line 209, in wrapper\n    yielded = next(result)\n  File \"/home/casapanshop/anaconda2/envs/newpy3_tf1/lib/python3.6/site-packages/ipykernel/kernelbase.py\", line 541, in execute_request\n    user_expressions, allow_stdin,\n  File \"/home/casapanshop/anaconda2/envs/newpy3_tf1/lib/python3.6/site-packages/tornado/gen.py\", line 209, in wrapper\n    yielded = next(result)\n  File \"/home/casapanshop/anaconda2/envs/newpy3_tf1/lib/python3.6/site-packages/ipykernel/ipkernel.py\", line 300, in do_execute\n    res = shell.run_cell(code, store_history=store_history, silent=silent)\n  File \"/home/casapanshop/anaconda2/envs/newpy3_tf1/lib/python3.6/site-packages/ipykernel/zmqshell.py\", line 536, in run_cell\n    return super(ZMQInteractiveShell, self).run_cell(*args, **kwargs)\n  File \"/home/casapanshop/anaconda2/envs/newpy3_tf1/lib/python3.6/site-packages/IPython/core/interactiveshell.py\", line 2858, in run_cell\n    raw_cell, store_history, silent, shell_futures)\n  File \"/home/casapanshop/anaconda2/envs/newpy3_tf1/lib/python3.6/site-packages/IPython/core/interactiveshell.py\", line 2886, in _run_cell\n    return runner(coro)\n  File \"/home/casapanshop/anaconda2/envs/newpy3_tf1/lib/python3.6/site-packages/IPython/core/async_helpers.py\", line 68, in _pseudo_sync_runner\n    coro.send(None)\n  File \"/home/casapanshop/anaconda2/envs/newpy3_tf1/lib/python3.6/site-packages/IPython/core/interactiveshell.py\", line 3063, in run_cell_async\n    interactivity=interactivity, compiler=compiler, result=result)\n  File \"/home/casapanshop/anaconda2/envs/newpy3_tf1/lib/python3.6/site-packages/IPython/core/interactiveshell.py\", line 3254, in run_ast_nodes\n    if (await self.run_code(code, result,  async_=asy)):\n  File \"/home/casapanshop/anaconda2/envs/newpy3_tf1/lib/python3.6/site-packages/IPython/core/interactiveshell.py\", line 3331, in run_code\n    exec(code_obj, self.user_global_ns, self.user_ns)\n  File \"<ipython-input-122-88cf63582a16>\", line 6, in <module>\n    traditional_vae,encoder_Tvae,generator_Tvae = traditional_VAE(X_train.shape[1],Nb=Nbit,units=500,layers_e=2,layers_d=0)\n  File \"<ipython-input-95-765fe2ac31dc>\", line 6, in traditional_VAE\n    generator = define_generator(Nb,data_dim,layers=layers_d,units=units,BN=BN)\n  File \"/home/fmena/Desktop/DiscreteVAE/base_networks.py\", line 44, in define_generator\n    model.add(Dense(data_dim, activation=out_type)) #softmax generator\n  File \"/home/casapanshop/anaconda2/envs/newpy3_tf1/lib/python3.6/site-packages/keras/engine/sequential.py\", line 182, in add\n    output_tensor = layer(self.outputs[0])\n  File \"/home/casapanshop/anaconda2/envs/newpy3_tf1/lib/python3.6/site-packages/keras/engine/base_layer.py\", line 425, in __call__\n    self.build(unpack_singleton(input_shapes))\n  File \"/home/casapanshop/anaconda2/envs/newpy3_tf1/lib/python3.6/site-packages/keras/layers/core.py\", line 901, in build\n    constraint=self.bias_constraint)\n  File \"/home/casapanshop/anaconda2/envs/newpy3_tf1/lib/python3.6/site-packages/keras/legacy/interfaces.py\", line 91, in wrapper\n    return func(*args, **kwargs)\n  File \"/home/casapanshop/anaconda2/envs/newpy3_tf1/lib/python3.6/site-packages/keras/engine/base_layer.py\", line 246, in add_weight\n    constraint=constraint)\n  File \"/home/casapanshop/anaconda2/envs/newpy3_tf1/lib/python3.6/site-packages/keras/backend/tensorflow_backend.py\", line 422, in variable\n    v = tf.Variable(value, dtype=tf.as_dtype(dtype), name=name)\n  File \"/home/casapanshop/anaconda2/envs/newpy3_tf1/lib/python3.6/site-packages/tensorflow/python/ops/variables.py\", line 259, in __call__\n    return cls._variable_v1_call(*args, **kwargs)\n  File \"/home/casapanshop/anaconda2/envs/newpy3_tf1/lib/python3.6/site-packages/tensorflow/python/ops/variables.py\", line 220, in _variable_v1_call\n    shape=shape)\n  File \"/home/casapanshop/anaconda2/envs/newpy3_tf1/lib/python3.6/site-packages/tensorflow/python/ops/variables.py\", line 198, in <lambda>\n    previous_getter = lambda **kwargs: default_variable_creator(None, **kwargs)\n  File \"/home/casapanshop/anaconda2/envs/newpy3_tf1/lib/python3.6/site-packages/tensorflow/python/ops/variable_scope.py\", line 2511, in default_variable_creator\n    shape=shape)\n  File \"/home/casapanshop/anaconda2/envs/newpy3_tf1/lib/python3.6/site-packages/tensorflow/python/ops/variables.py\", line 263, in __call__\n    return super(VariableMetaclass, cls).__call__(*args, **kwargs)\n  File \"/home/casapanshop/anaconda2/envs/newpy3_tf1/lib/python3.6/site-packages/tensorflow/python/ops/variables.py\", line 1568, in __init__\n    shape=shape)\n  File \"/home/casapanshop/anaconda2/envs/newpy3_tf1/lib/python3.6/site-packages/tensorflow/python/ops/variables.py\", line 1745, in _init_from_args\n    validate_shape=validate_shape).op\n  File \"/home/casapanshop/anaconda2/envs/newpy3_tf1/lib/python3.6/site-packages/tensorflow/python/ops/state_ops.py\", line 227, in assign\n    validate_shape=validate_shape)\n  File \"/home/casapanshop/anaconda2/envs/newpy3_tf1/lib/python3.6/site-packages/tensorflow/python/ops/gen_state_ops.py\", line 66, in assign\n    use_locking=use_locking, name=name)\n  File \"/home/casapanshop/anaconda2/envs/newpy3_tf1/lib/python3.6/site-packages/tensorflow/python/framework/op_def_library.py\", line 788, in _apply_op_helper\n    op_def=op_def)\n  File \"/home/casapanshop/anaconda2/envs/newpy3_tf1/lib/python3.6/site-packages/tensorflow/python/util/deprecation.py\", line 507, in new_func\n    return func(*args, **kwargs)\n  File \"/home/casapanshop/anaconda2/envs/newpy3_tf1/lib/python3.6/site-packages/tensorflow/python/framework/ops.py\", line 3616, in create_op\n    op_def=op_def)\n  File \"/home/casapanshop/anaconda2/envs/newpy3_tf1/lib/python3.6/site-packages/tensorflow/python/framework/ops.py\", line 2005, in __init__\n    self._traceback = tf_stack.extract_stack()\n"
     ]
    }
   ],
   "source": [
    "Nbits = np.asarray([4,8,16,32,64])\n",
    "dataset = dat_n.lower()\n",
    "print(dataset)\n",
    "\n",
    "for Nbit in Nbits:\n",
    "    traditional_vae,encoder_Tvae,generator_Tvae = traditional_VAE(X_train.shape[1],Nb=Nbit,units=500,layers_e=2,layers_d=0)\n",
    "    traditional_vae.fit(X_train_input, X_train, epochs=epochs, batch_size=batch_size,verbose=0)\n",
    "    p_t,r_t = evaluate_hashing(encoder_Tvae,X_train_input,X_val_input,labels_train,labels_val,traditional=True,tipo=\"topK\")\n",
    "    traditional_dat[dataset][\"p\"].append(p_t) \n",
    "    traditional_dat[dataset][\"r\"].append(r_t) \n",
    "    \n",
    "    binary_vae,encoder_Bvae,generator_Bvae = binary_VAE(X_train.shape[1],Nb=Nbit,units=500,layers_e=2,layers_d=0)\n",
    "    binary_vae.fit(X_train_input, X_train, epochs=epochs, batch_size=batch_size,verbose=0)\n",
    "    p_b,r_b = evaluate_hashing(encoder_Bvae,X_train_input,X_val_input,labels_train,labels_val,traditional=False,tipo=\"topK\")\n",
    "    binary_dat[dataset][\"p\"].append(p_b) \n",
    "    binary_dat[dataset][\"r\"].append(r_b) \n",
    "    keras.backend.clear_session()\n",
    "    gc.collect()"
   ]
  },
  {
   "cell_type": "code",
   "execution_count": 126,
   "metadata": {
    "scrolled": true
   },
   "outputs": [
    {
     "name": "stdout",
     "output_type": "stream",
     "text": [
      "Resultados de Precision en validación\n",
      "\n",
      "*** VAE Traditional***\n",
      "N bits        20News            Reuters              TMC        \n",
      "------ ------------------- ------------------ ------------------\n",
      "     4 0.15598854649577407 0.5242738589211624 0.5872098341909625\n",
      "     8 0.23600763566948313 0.6321784232365155 0.6346112064036621\n",
      "    16  0.3153204254158709 0.6995331950207474  0.668253287592913\n",
      "    32  0.3692555222252511  0.756929460580914 0.6806575185820494\n",
      "    64  0.3978129260976265 0.7771161825726164 0.6949771297884519\n",
      "\n",
      "*** VAE Binary***\n",
      "N bits        20News             Reuters              TMC        \n",
      "------ ------------------- ------------------- ------------------\n",
      "     4  0.1278674665939465 0.43102697095435555 0.5614465408805045\n",
      "     8 0.23539950913553426  0.6251348547717858 0.6231217838765026\n",
      "    16 0.47649577311153735   0.750217842323654 0.7103887935963423\n",
      "    32    0.53827379329152  0.8024377593361021  0.731529445397371\n",
      "    64  0.5054131442596123  0.7617116182572622 0.7083990851915403\n",
      "\n",
      "Resultados de Recall en validación\n",
      "\n",
      "*** VAE Traditional***\n",
      "N bits        20News              Reuters                TMC         \n",
      "------ -------------------- -------------------- --------------------\n",
      "     4  0.02810392471667819 0.030790149485752552 0.007238883205337872\n",
      "     8  0.04207514768340972  0.04297737364377341  0.00958917608768492\n",
      "    16 0.056203723282786805  0.05228341334136909 0.011472234911939359\n",
      "    32   0.0658673454397006  0.05858079274925029 0.012071850011964048\n",
      "    64  0.07100291630174596  0.06482170604509443 0.012938570811970286\n",
      "\n",
      "*** VAE Binary***\n",
      "N bits        20News              Reuters                TMC         \n",
      "------ -------------------- -------------------- --------------------\n",
      "     4 0.022799563797383324 0.021270737302171997 0.006345934451525283\n",
      "     8  0.04199337960939747   0.0361209182685537 0.009248180456786959\n",
      "    16  0.08484870179065677 0.052852885429012855 0.013904225097963883\n",
      "    32  0.09581975416041394  0.07012968836592821  0.01592947323870731\n",
      "    64  0.09016693781257791  0.07082906308717948 0.015460315020846391\n"
     ]
    }
   ],
   "source": [
    "print(\"Resultados de Precision en validación\")\n",
    "t = Table()\n",
    "t[\"N bits\"] = Nbits\n",
    "t[\"20News\"] = traditional_dat[\"20news\"][\"p\"]\n",
    "t[\"Reuters\"] = traditional_dat[\"reuters\"][\"p\"]\n",
    "#t[\"Snippets\"] = traditional_dat[\"snippets\"][\"p\"]\n",
    "t[\"TMC\"] = traditional_dat[\"tmc\"][\"p\"]\n",
    "\n",
    "print(\"\\n*** VAE Traditional***\")\n",
    "print(t)\n",
    "t = Table()\n",
    "t[\"N bits\"] = Nbits\n",
    "t[\"20News\"] = binary_dat[\"20news\"][\"p\"]\n",
    "t[\"Reuters\"] = binary_dat[\"reuters\"][\"p\"]\n",
    "#t[\"Snippets\"] = binary_dat[\"snippets\"][\"p\"]\n",
    "t[\"TMC\"] = binary_dat[\"tmc\"][\"p\"]\n",
    "print(\"\\n*** VAE Binary***\")\n",
    "print(t)\n",
    "\n",
    "print(\"\\nResultados de Recall en validación\")\n",
    "t = Table()\n",
    "t[\"N bits\"] = Nbits\n",
    "t[\"20News\"] = traditional_dat[\"20news\"][\"r\"]\n",
    "t[\"Reuters\"] = traditional_dat[\"reuters\"][\"r\"]\n",
    "#t[\"Snippets\"] = traditional_dat[\"snippets\"][\"r\"]\n",
    "t[\"TMC\"] = traditional_dat[\"tmc\"][\"r\"]\n",
    "print(\"\\n*** VAE Traditional***\")\n",
    "print(t)\n",
    "t = Table()\n",
    "t[\"N bits\"] = Nbits\n",
    "t[\"20News\"] = binary_dat[\"20news\"][\"r\"]\n",
    "t[\"Reuters\"] = binary_dat[\"reuters\"][\"r\"]\n",
    "#t[\"Snippets\"] = binary_dat[\"snippets\"][\"r\"]\n",
    "t[\"TMC\"] = binary_dat[\"tmc\"][\"r\"]\n",
    "print(\"\\n*** VAE Binary***\")\n",
    "print(t)"
   ]
  },
  {
   "cell_type": "markdown",
   "metadata": {},
   "source": [
    "## *Best models facing test set*\n",
    "Luego de la selección de la mejor configuración de los modelos se evalua de diferentes formas sobre el conjunto de pruebas de los distintos *datasets*, los cambios realizados son:\n",
    "* Se entrenan sobre todos los datos disponibles (*train+val*)\n",
    "* Se aumentó el número de *epochs* a 50.\n",
    "\n",
    "El mejor modelo:\n",
    "* Simétrica para *Binary VAE* y Base para *Traditional VAE*\n",
    "* 32 Bits en la codificación (número de variables latentes)\n",
    "* Representación sobre las top 10 mil *tokens* más frecuentes y *Term Frequency*"
   ]
  },
  {
   "cell_type": "code",
   "execution_count": 26,
   "metadata": {},
   "outputs": [],
   "source": [
    "def evaluate_hashing(encoder,train,test,labels_trainn,labels_testt,traditional=True,tipo=\"topK\"):\n",
    "    \"\"\"\n",
    "        Evaluate Hashing correclty: Query and retrieve on a different set\n",
    "    \"\"\"\n",
    "    encode_train = encoder.predict(train)\n",
    "    encode_test = encoder.predict(test)\n",
    "    if traditional:\n",
    "        median= MedianHashing()\n",
    "        median.fit(encode_train)\n",
    "        \n",
    "        train_hash = median.transform(encode_train)\n",
    "        test_hash = median.transform(encode_test)\n",
    "    else: #para Binary VAE\n",
    "        probas_train = expit(encode_train)\n",
    "        probas_test = expit(encode_test)\n",
    "        \n",
    "        train_hash = (probas_train > 0.5)*1\n",
    "        test_hash = (probas_test > 0.5)*1\n",
    "\n",
    "    test_similares_train =  get_similar(test_hash,train_hash,tipo=\"topK\",K=100)\n",
    "    return measure_metrics(labels,test_similares_train,labels_query=labels_testt,labels_source=labels_trainn)\n",
    "\n",
    "#to save results\n",
    "results_dat = {\"20news\":{\"p\":[],\"r\":[]},\n",
    "               \"snippets\":{\"p\":[],\"r\":[]},\n",
    "               \"reuters\":{\"p\":[],\"r\":[]},\n",
    "              \"tmc\":{\"p\":[],\"r\":[]},\n",
    "              } #for topk\n",
    "BITS = 32"
   ]
  },
  {
   "cell_type": "code",
   "execution_count": 131,
   "metadata": {
    "scrolled": true
   },
   "outputs": [
    {
     "name": "stdout",
     "output_type": "stream",
     "text": [
      "pre-encoder network:\n",
      "Model: \"pre-encoder\"\n",
      "_________________________________________________________________\n",
      "Layer (type)                 Output Shape              Param #   \n",
      "=================================================================\n",
      "dense_1 (Dense)              (None, 500)               5000500   \n",
      "_________________________________________________________________\n",
      "batch_normalization_1 (Batch (None, 500)               2000      \n",
      "_________________________________________________________________\n",
      "dense_2 (Dense)              (None, 500)               250500    \n",
      "_________________________________________________________________\n",
      "batch_normalization_2 (Batch (None, 500)               2000      \n",
      "=================================================================\n",
      "Total params: 5,255,000\n",
      "Trainable params: 5,253,000\n",
      "Non-trainable params: 2,000\n",
      "_________________________________________________________________\n",
      "generator network:\n",
      "Model: \"generator/decoder\"\n",
      "_________________________________________________________________\n",
      "Layer (type)                 Output Shape              Param #   \n",
      "=================================================================\n",
      "dense_3 (Dense)              (None, 10000)             330000    \n",
      "=================================================================\n",
      "Total params: 330,000\n",
      "Trainable params: 330,000\n",
      "Non-trainable params: 0\n",
      "_________________________________________________________________\n"
     ]
    },
    {
     "ename": "ResourceExhaustedError",
     "evalue": "OOM when allocating tensor with shape[500,32] and type float on /job:localhost/replica:0/task:0/device:GPU:0 by allocator GPU_0_bfc\n\t [[node z-mean/random_uniform/RandomUniform (defined at /home/casapanshop/anaconda2/envs/newpy3_tf1/lib/python3.6/site-packages/keras/backend/tensorflow_backend.py:4433) ]]\nHint: If you want to see a list of allocated tensors when OOM happens, add report_tensor_allocations_upon_oom to RunOptions for current allocation info.\n\n\nOriginal stack trace for 'z-mean/random_uniform/RandomUniform':\n  File \"/home/casapanshop/anaconda2/envs/newpy3_tf1/lib/python3.6/runpy.py\", line 193, in _run_module_as_main\n    \"__main__\", mod_spec)\n  File \"/home/casapanshop/anaconda2/envs/newpy3_tf1/lib/python3.6/runpy.py\", line 85, in _run_code\n    exec(code, run_globals)\n  File \"/home/casapanshop/anaconda2/envs/newpy3_tf1/lib/python3.6/site-packages/ipykernel_launcher.py\", line 16, in <module>\n    app.launch_new_instance()\n  File \"/home/casapanshop/anaconda2/envs/newpy3_tf1/lib/python3.6/site-packages/traitlets/config/application.py\", line 664, in launch_instance\n    app.start()\n  File \"/home/casapanshop/anaconda2/envs/newpy3_tf1/lib/python3.6/site-packages/ipykernel/kernelapp.py\", line 583, in start\n    self.io_loop.start()\n  File \"/home/casapanshop/anaconda2/envs/newpy3_tf1/lib/python3.6/site-packages/tornado/platform/asyncio.py\", line 153, in start\n    self.asyncio_loop.run_forever()\n  File \"/home/casapanshop/anaconda2/envs/newpy3_tf1/lib/python3.6/asyncio/base_events.py\", line 442, in run_forever\n    self._run_once()\n  File \"/home/casapanshop/anaconda2/envs/newpy3_tf1/lib/python3.6/asyncio/base_events.py\", line 1462, in _run_once\n    handle._run()\n  File \"/home/casapanshop/anaconda2/envs/newpy3_tf1/lib/python3.6/asyncio/events.py\", line 145, in _run\n    self._callback(*self._args)\n  File \"/home/casapanshop/anaconda2/envs/newpy3_tf1/lib/python3.6/site-packages/tornado/ioloop.py\", line 690, in <lambda>\n    lambda f: self._run_callback(functools.partial(callback, future))\n  File \"/home/casapanshop/anaconda2/envs/newpy3_tf1/lib/python3.6/site-packages/tornado/ioloop.py\", line 743, in _run_callback\n    ret = callback()\n  File \"/home/casapanshop/anaconda2/envs/newpy3_tf1/lib/python3.6/site-packages/tornado/gen.py\", line 787, in inner\n    self.run()\n  File \"/home/casapanshop/anaconda2/envs/newpy3_tf1/lib/python3.6/site-packages/tornado/gen.py\", line 748, in run\n    yielded = self.gen.send(value)\n  File \"/home/casapanshop/anaconda2/envs/newpy3_tf1/lib/python3.6/site-packages/ipykernel/kernelbase.py\", line 361, in process_one\n    yield gen.maybe_future(dispatch(*args))\n  File \"/home/casapanshop/anaconda2/envs/newpy3_tf1/lib/python3.6/site-packages/tornado/gen.py\", line 209, in wrapper\n    yielded = next(result)\n  File \"/home/casapanshop/anaconda2/envs/newpy3_tf1/lib/python3.6/site-packages/ipykernel/kernelbase.py\", line 268, in dispatch_shell\n    yield gen.maybe_future(handler(stream, idents, msg))\n  File \"/home/casapanshop/anaconda2/envs/newpy3_tf1/lib/python3.6/site-packages/tornado/gen.py\", line 209, in wrapper\n    yielded = next(result)\n  File \"/home/casapanshop/anaconda2/envs/newpy3_tf1/lib/python3.6/site-packages/ipykernel/kernelbase.py\", line 541, in execute_request\n    user_expressions, allow_stdin,\n  File \"/home/casapanshop/anaconda2/envs/newpy3_tf1/lib/python3.6/site-packages/tornado/gen.py\", line 209, in wrapper\n    yielded = next(result)\n  File \"/home/casapanshop/anaconda2/envs/newpy3_tf1/lib/python3.6/site-packages/ipykernel/ipkernel.py\", line 300, in do_execute\n    res = shell.run_cell(code, store_history=store_history, silent=silent)\n  File \"/home/casapanshop/anaconda2/envs/newpy3_tf1/lib/python3.6/site-packages/ipykernel/zmqshell.py\", line 536, in run_cell\n    return super(ZMQInteractiveShell, self).run_cell(*args, **kwargs)\n  File \"/home/casapanshop/anaconda2/envs/newpy3_tf1/lib/python3.6/site-packages/IPython/core/interactiveshell.py\", line 2858, in run_cell\n    raw_cell, store_history, silent, shell_futures)\n  File \"/home/casapanshop/anaconda2/envs/newpy3_tf1/lib/python3.6/site-packages/IPython/core/interactiveshell.py\", line 2886, in _run_cell\n    return runner(coro)\n  File \"/home/casapanshop/anaconda2/envs/newpy3_tf1/lib/python3.6/site-packages/IPython/core/async_helpers.py\", line 68, in _pseudo_sync_runner\n    coro.send(None)\n  File \"/home/casapanshop/anaconda2/envs/newpy3_tf1/lib/python3.6/site-packages/IPython/core/interactiveshell.py\", line 3063, in run_cell_async\n    interactivity=interactivity, compiler=compiler, result=result)\n  File \"/home/casapanshop/anaconda2/envs/newpy3_tf1/lib/python3.6/site-packages/IPython/core/interactiveshell.py\", line 3254, in run_ast_nodes\n    if (await self.run_code(code, result,  async_=asy)):\n  File \"/home/casapanshop/anaconda2/envs/newpy3_tf1/lib/python3.6/site-packages/IPython/core/interactiveshell.py\", line 3331, in run_code\n    exec(code_obj, self.user_global_ns, self.user_ns)\n  File \"<ipython-input-131-1244a8356251>\", line 5, in <module>\n    traditional_vae,encoder_Tvae,generator_Tvae = traditional_VAE(X_train.shape[1],Nb=BITS,units=500,layers_e=2,layers_d=0)\n  File \"<ipython-input-95-765fe2ac31dc>\", line 14, in traditional_VAE\n    z_mean = Dense(Nb,activation='linear', name='z-mean')(hidden)\n  File \"/home/casapanshop/anaconda2/envs/newpy3_tf1/lib/python3.6/site-packages/keras/engine/base_layer.py\", line 425, in __call__\n    self.build(unpack_singleton(input_shapes))\n  File \"/home/casapanshop/anaconda2/envs/newpy3_tf1/lib/python3.6/site-packages/keras/layers/core.py\", line 895, in build\n    constraint=self.kernel_constraint)\n  File \"/home/casapanshop/anaconda2/envs/newpy3_tf1/lib/python3.6/site-packages/keras/legacy/interfaces.py\", line 91, in wrapper\n    return func(*args, **kwargs)\n  File \"/home/casapanshop/anaconda2/envs/newpy3_tf1/lib/python3.6/site-packages/keras/engine/base_layer.py\", line 243, in add_weight\n    weight = K.variable(initializer(shape, dtype=dtype),\n  File \"/home/casapanshop/anaconda2/envs/newpy3_tf1/lib/python3.6/site-packages/keras/initializers.py\", line 218, in __call__\n    dtype=dtype, seed=self.seed)\n  File \"/home/casapanshop/anaconda2/envs/newpy3_tf1/lib/python3.6/site-packages/keras/backend/tensorflow_backend.py\", line 4433, in random_uniform\n    dtype=dtype, seed=seed)\n  File \"/home/casapanshop/anaconda2/envs/newpy3_tf1/lib/python3.6/site-packages/tensorflow/python/ops/random_ops.py\", line 247, in random_uniform\n    rnd = gen_random_ops.random_uniform(shape, dtype, seed=seed1, seed2=seed2)\n  File \"/home/casapanshop/anaconda2/envs/newpy3_tf1/lib/python3.6/site-packages/tensorflow/python/ops/gen_random_ops.py\", line 820, in random_uniform\n    name=name)\n  File \"/home/casapanshop/anaconda2/envs/newpy3_tf1/lib/python3.6/site-packages/tensorflow/python/framework/op_def_library.py\", line 788, in _apply_op_helper\n    op_def=op_def)\n  File \"/home/casapanshop/anaconda2/envs/newpy3_tf1/lib/python3.6/site-packages/tensorflow/python/util/deprecation.py\", line 507, in new_func\n    return func(*args, **kwargs)\n  File \"/home/casapanshop/anaconda2/envs/newpy3_tf1/lib/python3.6/site-packages/tensorflow/python/framework/ops.py\", line 3616, in create_op\n    op_def=op_def)\n  File \"/home/casapanshop/anaconda2/envs/newpy3_tf1/lib/python3.6/site-packages/tensorflow/python/framework/ops.py\", line 2005, in __init__\n    self._traceback = tf_stack.extract_stack()\n",
     "output_type": "error",
     "traceback": [
      "\u001b[0;31m---------------------------------------------------------------------------\u001b[0m",
      "\u001b[0;31mResourceExhaustedError\u001b[0m                    Traceback (most recent call last)",
      "\u001b[0;32m/home/casapanshop/anaconda2/envs/newpy3_tf1/lib/python3.6/site-packages/tensorflow/python/client/session.py\u001b[0m in \u001b[0;36m_do_call\u001b[0;34m(self, fn, *args)\u001b[0m\n\u001b[1;32m   1355\u001b[0m     \u001b[0;32mtry\u001b[0m\u001b[0;34m:\u001b[0m\u001b[0;34m\u001b[0m\u001b[0;34m\u001b[0m\u001b[0m\n\u001b[0;32m-> 1356\u001b[0;31m       \u001b[0;32mreturn\u001b[0m \u001b[0mfn\u001b[0m\u001b[0;34m(\u001b[0m\u001b[0;34m*\u001b[0m\u001b[0margs\u001b[0m\u001b[0;34m)\u001b[0m\u001b[0;34m\u001b[0m\u001b[0;34m\u001b[0m\u001b[0m\n\u001b[0m\u001b[1;32m   1357\u001b[0m     \u001b[0;32mexcept\u001b[0m \u001b[0merrors\u001b[0m\u001b[0;34m.\u001b[0m\u001b[0mOpError\u001b[0m \u001b[0;32mas\u001b[0m \u001b[0me\u001b[0m\u001b[0;34m:\u001b[0m\u001b[0;34m\u001b[0m\u001b[0;34m\u001b[0m\u001b[0m\n",
      "\u001b[0;32m/home/casapanshop/anaconda2/envs/newpy3_tf1/lib/python3.6/site-packages/tensorflow/python/client/session.py\u001b[0m in \u001b[0;36m_run_fn\u001b[0;34m(feed_dict, fetch_list, target_list, options, run_metadata)\u001b[0m\n\u001b[1;32m   1340\u001b[0m       return self._call_tf_sessionrun(\n\u001b[0;32m-> 1341\u001b[0;31m           options, feed_dict, fetch_list, target_list, run_metadata)\n\u001b[0m\u001b[1;32m   1342\u001b[0m \u001b[0;34m\u001b[0m\u001b[0m\n",
      "\u001b[0;32m/home/casapanshop/anaconda2/envs/newpy3_tf1/lib/python3.6/site-packages/tensorflow/python/client/session.py\u001b[0m in \u001b[0;36m_call_tf_sessionrun\u001b[0;34m(self, options, feed_dict, fetch_list, target_list, run_metadata)\u001b[0m\n\u001b[1;32m   1428\u001b[0m         \u001b[0mself\u001b[0m\u001b[0;34m.\u001b[0m\u001b[0m_session\u001b[0m\u001b[0;34m,\u001b[0m \u001b[0moptions\u001b[0m\u001b[0;34m,\u001b[0m \u001b[0mfeed_dict\u001b[0m\u001b[0;34m,\u001b[0m \u001b[0mfetch_list\u001b[0m\u001b[0;34m,\u001b[0m \u001b[0mtarget_list\u001b[0m\u001b[0;34m,\u001b[0m\u001b[0;34m\u001b[0m\u001b[0;34m\u001b[0m\u001b[0m\n\u001b[0;32m-> 1429\u001b[0;31m         run_metadata)\n\u001b[0m\u001b[1;32m   1430\u001b[0m \u001b[0;34m\u001b[0m\u001b[0m\n",
      "\u001b[0;31mResourceExhaustedError\u001b[0m: OOM when allocating tensor with shape[500,32] and type float on /job:localhost/replica:0/task:0/device:GPU:0 by allocator GPU_0_bfc\n\t [[{{node z-mean/random_uniform/RandomUniform}}]]\nHint: If you want to see a list of allocated tensors when OOM happens, add report_tensor_allocations_upon_oom to RunOptions for current allocation info.\n",
      "\nDuring handling of the above exception, another exception occurred:\n",
      "\u001b[0;31mResourceExhaustedError\u001b[0m                    Traceback (most recent call last)",
      "\u001b[0;32m<ipython-input-131-1244a8356251>\u001b[0m in \u001b[0;36m<module>\u001b[0;34m\u001b[0m\n\u001b[1;32m      4\u001b[0m \u001b[0;34m\u001b[0m\u001b[0m\n\u001b[1;32m      5\u001b[0m \u001b[0mtraditional_vae\u001b[0m\u001b[0;34m,\u001b[0m\u001b[0mencoder_Tvae\u001b[0m\u001b[0;34m,\u001b[0m\u001b[0mgenerator_Tvae\u001b[0m \u001b[0;34m=\u001b[0m \u001b[0mtraditional_VAE\u001b[0m\u001b[0;34m(\u001b[0m\u001b[0mX_train\u001b[0m\u001b[0;34m.\u001b[0m\u001b[0mshape\u001b[0m\u001b[0;34m[\u001b[0m\u001b[0;36m1\u001b[0m\u001b[0;34m]\u001b[0m\u001b[0;34m,\u001b[0m\u001b[0mNb\u001b[0m\u001b[0;34m=\u001b[0m\u001b[0mBITS\u001b[0m\u001b[0;34m,\u001b[0m\u001b[0munits\u001b[0m\u001b[0;34m=\u001b[0m\u001b[0;36m500\u001b[0m\u001b[0;34m,\u001b[0m\u001b[0mlayers_e\u001b[0m\u001b[0;34m=\u001b[0m\u001b[0;36m2\u001b[0m\u001b[0;34m,\u001b[0m\u001b[0mlayers_d\u001b[0m\u001b[0;34m=\u001b[0m\u001b[0;36m0\u001b[0m\u001b[0;34m)\u001b[0m\u001b[0;34m\u001b[0m\u001b[0;34m\u001b[0m\u001b[0m\n\u001b[0;32m----> 6\u001b[0;31m \u001b[0mtraditional_vae\u001b[0m\u001b[0;34m.\u001b[0m\u001b[0mfit\u001b[0m\u001b[0;34m(\u001b[0m\u001b[0mX_total_input\u001b[0m\u001b[0;34m,\u001b[0m \u001b[0mX_total\u001b[0m\u001b[0;34m,\u001b[0m \u001b[0mepochs\u001b[0m\u001b[0;34m=\u001b[0m\u001b[0;36m50\u001b[0m\u001b[0;34m,\u001b[0m \u001b[0mbatch_size\u001b[0m\u001b[0;34m=\u001b[0m\u001b[0mbatch_size\u001b[0m\u001b[0;34m,\u001b[0m\u001b[0mverbose\u001b[0m\u001b[0;34m=\u001b[0m\u001b[0;36m0\u001b[0m\u001b[0;34m)\u001b[0m\u001b[0;34m\u001b[0m\u001b[0;34m\u001b[0m\u001b[0m\n\u001b[0m\u001b[1;32m      7\u001b[0m \u001b[0;34m\u001b[0m\u001b[0m\n\u001b[1;32m      8\u001b[0m \u001b[0mbinary_vae\u001b[0m\u001b[0;34m,\u001b[0m\u001b[0mencoder_Bvae\u001b[0m\u001b[0;34m,\u001b[0m\u001b[0mgenerator_Bvae\u001b[0m \u001b[0;34m=\u001b[0m \u001b[0mbinary_VAE\u001b[0m\u001b[0;34m(\u001b[0m\u001b[0mX_train\u001b[0m\u001b[0;34m.\u001b[0m\u001b[0mshape\u001b[0m\u001b[0;34m[\u001b[0m\u001b[0;36m1\u001b[0m\u001b[0;34m]\u001b[0m\u001b[0;34m,\u001b[0m\u001b[0mNb\u001b[0m\u001b[0;34m=\u001b[0m\u001b[0mBITS\u001b[0m\u001b[0;34m,\u001b[0m\u001b[0munits\u001b[0m\u001b[0;34m=\u001b[0m\u001b[0;36m500\u001b[0m\u001b[0;34m,\u001b[0m\u001b[0mlayers_e\u001b[0m\u001b[0;34m=\u001b[0m\u001b[0;36m2\u001b[0m\u001b[0;34m,\u001b[0m\u001b[0mlayers_d\u001b[0m\u001b[0;34m=\u001b[0m\u001b[0;36m0\u001b[0m\u001b[0;34m)\u001b[0m\u001b[0;34m\u001b[0m\u001b[0;34m\u001b[0m\u001b[0m\n",
      "\u001b[0;32m/home/casapanshop/anaconda2/envs/newpy3_tf1/lib/python3.6/site-packages/keras/engine/training.py\u001b[0m in \u001b[0;36mfit\u001b[0;34m(self, x, y, batch_size, epochs, verbose, callbacks, validation_split, validation_data, shuffle, class_weight, sample_weight, initial_epoch, steps_per_epoch, validation_steps, validation_freq, max_queue_size, workers, use_multiprocessing, **kwargs)\u001b[0m\n\u001b[1;32m   1176\u001b[0m                                         \u001b[0msteps_per_epoch\u001b[0m\u001b[0;34m=\u001b[0m\u001b[0msteps_per_epoch\u001b[0m\u001b[0;34m,\u001b[0m\u001b[0;34m\u001b[0m\u001b[0;34m\u001b[0m\u001b[0m\n\u001b[1;32m   1177\u001b[0m                                         \u001b[0mvalidation_steps\u001b[0m\u001b[0;34m=\u001b[0m\u001b[0mvalidation_steps\u001b[0m\u001b[0;34m,\u001b[0m\u001b[0;34m\u001b[0m\u001b[0;34m\u001b[0m\u001b[0m\n\u001b[0;32m-> 1178\u001b[0;31m                                         validation_freq=validation_freq)\n\u001b[0m\u001b[1;32m   1179\u001b[0m \u001b[0;34m\u001b[0m\u001b[0m\n\u001b[1;32m   1180\u001b[0m     def evaluate(self,\n",
      "\u001b[0;32m/home/casapanshop/anaconda2/envs/newpy3_tf1/lib/python3.6/site-packages/keras/engine/training_arrays.py\u001b[0m in \u001b[0;36mfit_loop\u001b[0;34m(model, fit_function, fit_inputs, out_labels, batch_size, epochs, verbose, callbacks, val_function, val_inputs, shuffle, callback_metrics, initial_epoch, steps_per_epoch, validation_steps, validation_freq)\u001b[0m\n\u001b[1;32m    202\u001b[0m                     \u001b[0mins_batch\u001b[0m\u001b[0;34m[\u001b[0m\u001b[0mi\u001b[0m\u001b[0;34m]\u001b[0m \u001b[0;34m=\u001b[0m \u001b[0mins_batch\u001b[0m\u001b[0;34m[\u001b[0m\u001b[0mi\u001b[0m\u001b[0;34m]\u001b[0m\u001b[0;34m.\u001b[0m\u001b[0mtoarray\u001b[0m\u001b[0;34m(\u001b[0m\u001b[0;34m)\u001b[0m\u001b[0;34m\u001b[0m\u001b[0;34m\u001b[0m\u001b[0m\n\u001b[1;32m    203\u001b[0m \u001b[0;34m\u001b[0m\u001b[0m\n\u001b[0;32m--> 204\u001b[0;31m                 \u001b[0mouts\u001b[0m \u001b[0;34m=\u001b[0m \u001b[0mfit_function\u001b[0m\u001b[0;34m(\u001b[0m\u001b[0mins_batch\u001b[0m\u001b[0;34m)\u001b[0m\u001b[0;34m\u001b[0m\u001b[0;34m\u001b[0m\u001b[0m\n\u001b[0m\u001b[1;32m    205\u001b[0m                 \u001b[0mouts\u001b[0m \u001b[0;34m=\u001b[0m \u001b[0mto_list\u001b[0m\u001b[0;34m(\u001b[0m\u001b[0mouts\u001b[0m\u001b[0;34m)\u001b[0m\u001b[0;34m\u001b[0m\u001b[0;34m\u001b[0m\u001b[0m\n\u001b[1;32m    206\u001b[0m                 \u001b[0;32mfor\u001b[0m \u001b[0ml\u001b[0m\u001b[0;34m,\u001b[0m \u001b[0mo\u001b[0m \u001b[0;32min\u001b[0m \u001b[0mzip\u001b[0m\u001b[0;34m(\u001b[0m\u001b[0mout_labels\u001b[0m\u001b[0;34m,\u001b[0m \u001b[0mouts\u001b[0m\u001b[0;34m)\u001b[0m\u001b[0;34m:\u001b[0m\u001b[0;34m\u001b[0m\u001b[0;34m\u001b[0m\u001b[0m\n",
      "\u001b[0;32m/home/casapanshop/anaconda2/envs/newpy3_tf1/lib/python3.6/site-packages/keras/backend/tensorflow_backend.py\u001b[0m in \u001b[0;36m__call__\u001b[0;34m(self, inputs)\u001b[0m\n\u001b[1;32m   2957\u001b[0m \u001b[0;34m\u001b[0m\u001b[0m\n\u001b[1;32m   2958\u001b[0m     \u001b[0;32mdef\u001b[0m \u001b[0m__call__\u001b[0m\u001b[0;34m(\u001b[0m\u001b[0mself\u001b[0m\u001b[0;34m,\u001b[0m \u001b[0minputs\u001b[0m\u001b[0;34m)\u001b[0m\u001b[0;34m:\u001b[0m\u001b[0;34m\u001b[0m\u001b[0;34m\u001b[0m\u001b[0m\n\u001b[0;32m-> 2959\u001b[0;31m         \u001b[0;32mif\u001b[0m \u001b[0mhasattr\u001b[0m\u001b[0;34m(\u001b[0m\u001b[0mget_session\u001b[0m\u001b[0;34m(\u001b[0m\u001b[0;34m)\u001b[0m\u001b[0;34m,\u001b[0m \u001b[0;34m'_make_callable_from_options'\u001b[0m\u001b[0;34m)\u001b[0m\u001b[0;34m:\u001b[0m\u001b[0;34m\u001b[0m\u001b[0;34m\u001b[0m\u001b[0m\n\u001b[0m\u001b[1;32m   2960\u001b[0m             \u001b[0;32mif\u001b[0m \u001b[0mpy_any\u001b[0m\u001b[0;34m(\u001b[0m\u001b[0mis_sparse\u001b[0m\u001b[0;34m(\u001b[0m\u001b[0mx\u001b[0m\u001b[0;34m)\u001b[0m \u001b[0;32mfor\u001b[0m \u001b[0mx\u001b[0m \u001b[0;32min\u001b[0m \u001b[0mself\u001b[0m\u001b[0;34m.\u001b[0m\u001b[0minputs\u001b[0m\u001b[0;34m)\u001b[0m\u001b[0;34m:\u001b[0m\u001b[0;34m\u001b[0m\u001b[0;34m\u001b[0m\u001b[0m\n\u001b[1;32m   2961\u001b[0m                 \u001b[0;32mif\u001b[0m \u001b[0mpy_any\u001b[0m\u001b[0;34m(\u001b[0m\u001b[0mis_tensor\u001b[0m\u001b[0;34m(\u001b[0m\u001b[0mx\u001b[0m\u001b[0;34m)\u001b[0m \u001b[0;32mfor\u001b[0m \u001b[0mx\u001b[0m \u001b[0;32min\u001b[0m \u001b[0minputs\u001b[0m\u001b[0;34m)\u001b[0m\u001b[0;34m:\u001b[0m\u001b[0;34m\u001b[0m\u001b[0;34m\u001b[0m\u001b[0m\n",
      "\u001b[0;32m/home/casapanshop/anaconda2/envs/newpy3_tf1/lib/python3.6/site-packages/keras/backend/tensorflow_backend.py\u001b[0m in \u001b[0;36mget_session\u001b[0;34m()\u001b[0m\n\u001b[1;32m    221\u001b[0m                     \u001b[0mv\u001b[0m\u001b[0;34m.\u001b[0m\u001b[0m_keras_initialized\u001b[0m \u001b[0;34m=\u001b[0m \u001b[0;32mTrue\u001b[0m\u001b[0;34m\u001b[0m\u001b[0;34m\u001b[0m\u001b[0m\n\u001b[1;32m    222\u001b[0m                 \u001b[0;32mif\u001b[0m \u001b[0muninitialized_vars\u001b[0m\u001b[0;34m:\u001b[0m\u001b[0;34m\u001b[0m\u001b[0;34m\u001b[0m\u001b[0m\n\u001b[0;32m--> 223\u001b[0;31m                     \u001b[0msession\u001b[0m\u001b[0;34m.\u001b[0m\u001b[0mrun\u001b[0m\u001b[0;34m(\u001b[0m\u001b[0mtf\u001b[0m\u001b[0;34m.\u001b[0m\u001b[0mvariables_initializer\u001b[0m\u001b[0;34m(\u001b[0m\u001b[0muninitialized_vars\u001b[0m\u001b[0;34m)\u001b[0m\u001b[0;34m)\u001b[0m\u001b[0;34m\u001b[0m\u001b[0;34m\u001b[0m\u001b[0m\n\u001b[0m\u001b[1;32m    224\u001b[0m     \u001b[0;31m# hack for list_devices() function.\u001b[0m\u001b[0;34m\u001b[0m\u001b[0;34m\u001b[0m\u001b[0;34m\u001b[0m\u001b[0m\n\u001b[1;32m    225\u001b[0m     \u001b[0;31m# list_devices() function is not available under tensorflow r1.3.\u001b[0m\u001b[0;34m\u001b[0m\u001b[0;34m\u001b[0m\u001b[0;34m\u001b[0m\u001b[0m\n",
      "\u001b[0;32m/home/casapanshop/anaconda2/envs/newpy3_tf1/lib/python3.6/site-packages/tensorflow/python/client/session.py\u001b[0m in \u001b[0;36mrun\u001b[0;34m(self, fetches, feed_dict, options, run_metadata)\u001b[0m\n\u001b[1;32m    948\u001b[0m     \u001b[0;32mtry\u001b[0m\u001b[0;34m:\u001b[0m\u001b[0;34m\u001b[0m\u001b[0;34m\u001b[0m\u001b[0m\n\u001b[1;32m    949\u001b[0m       result = self._run(None, fetches, feed_dict, options_ptr,\n\u001b[0;32m--> 950\u001b[0;31m                          run_metadata_ptr)\n\u001b[0m\u001b[1;32m    951\u001b[0m       \u001b[0;32mif\u001b[0m \u001b[0mrun_metadata\u001b[0m\u001b[0;34m:\u001b[0m\u001b[0;34m\u001b[0m\u001b[0;34m\u001b[0m\u001b[0m\n\u001b[1;32m    952\u001b[0m         \u001b[0mproto_data\u001b[0m \u001b[0;34m=\u001b[0m \u001b[0mtf_session\u001b[0m\u001b[0;34m.\u001b[0m\u001b[0mTF_GetBuffer\u001b[0m\u001b[0;34m(\u001b[0m\u001b[0mrun_metadata_ptr\u001b[0m\u001b[0;34m)\u001b[0m\u001b[0;34m\u001b[0m\u001b[0;34m\u001b[0m\u001b[0m\n",
      "\u001b[0;32m/home/casapanshop/anaconda2/envs/newpy3_tf1/lib/python3.6/site-packages/tensorflow/python/client/session.py\u001b[0m in \u001b[0;36m_run\u001b[0;34m(self, handle, fetches, feed_dict, options, run_metadata)\u001b[0m\n\u001b[1;32m   1171\u001b[0m     \u001b[0;32mif\u001b[0m \u001b[0mfinal_fetches\u001b[0m \u001b[0;32mor\u001b[0m \u001b[0mfinal_targets\u001b[0m \u001b[0;32mor\u001b[0m \u001b[0;34m(\u001b[0m\u001b[0mhandle\u001b[0m \u001b[0;32mand\u001b[0m \u001b[0mfeed_dict_tensor\u001b[0m\u001b[0;34m)\u001b[0m\u001b[0;34m:\u001b[0m\u001b[0;34m\u001b[0m\u001b[0;34m\u001b[0m\u001b[0m\n\u001b[1;32m   1172\u001b[0m       results = self._do_run(handle, final_targets, final_fetches,\n\u001b[0;32m-> 1173\u001b[0;31m                              feed_dict_tensor, options, run_metadata)\n\u001b[0m\u001b[1;32m   1174\u001b[0m     \u001b[0;32melse\u001b[0m\u001b[0;34m:\u001b[0m\u001b[0;34m\u001b[0m\u001b[0;34m\u001b[0m\u001b[0m\n\u001b[1;32m   1175\u001b[0m       \u001b[0mresults\u001b[0m \u001b[0;34m=\u001b[0m \u001b[0;34m[\u001b[0m\u001b[0;34m]\u001b[0m\u001b[0;34m\u001b[0m\u001b[0;34m\u001b[0m\u001b[0m\n",
      "\u001b[0;32m/home/casapanshop/anaconda2/envs/newpy3_tf1/lib/python3.6/site-packages/tensorflow/python/client/session.py\u001b[0m in \u001b[0;36m_do_run\u001b[0;34m(self, handle, target_list, fetch_list, feed_dict, options, run_metadata)\u001b[0m\n\u001b[1;32m   1348\u001b[0m     \u001b[0;32mif\u001b[0m \u001b[0mhandle\u001b[0m \u001b[0;32mis\u001b[0m \u001b[0;32mNone\u001b[0m\u001b[0;34m:\u001b[0m\u001b[0;34m\u001b[0m\u001b[0;34m\u001b[0m\u001b[0m\n\u001b[1;32m   1349\u001b[0m       return self._do_call(_run_fn, feeds, fetches, targets, options,\n\u001b[0;32m-> 1350\u001b[0;31m                            run_metadata)\n\u001b[0m\u001b[1;32m   1351\u001b[0m     \u001b[0;32melse\u001b[0m\u001b[0;34m:\u001b[0m\u001b[0;34m\u001b[0m\u001b[0;34m\u001b[0m\u001b[0m\n\u001b[1;32m   1352\u001b[0m       \u001b[0;32mreturn\u001b[0m \u001b[0mself\u001b[0m\u001b[0;34m.\u001b[0m\u001b[0m_do_call\u001b[0m\u001b[0;34m(\u001b[0m\u001b[0m_prun_fn\u001b[0m\u001b[0;34m,\u001b[0m \u001b[0mhandle\u001b[0m\u001b[0;34m,\u001b[0m \u001b[0mfeeds\u001b[0m\u001b[0;34m,\u001b[0m \u001b[0mfetches\u001b[0m\u001b[0;34m)\u001b[0m\u001b[0;34m\u001b[0m\u001b[0;34m\u001b[0m\u001b[0m\n",
      "\u001b[0;32m/home/casapanshop/anaconda2/envs/newpy3_tf1/lib/python3.6/site-packages/tensorflow/python/client/session.py\u001b[0m in \u001b[0;36m_do_call\u001b[0;34m(self, fn, *args)\u001b[0m\n\u001b[1;32m   1368\u001b[0m           \u001b[0;32mpass\u001b[0m\u001b[0;34m\u001b[0m\u001b[0;34m\u001b[0m\u001b[0m\n\u001b[1;32m   1369\u001b[0m       \u001b[0mmessage\u001b[0m \u001b[0;34m=\u001b[0m \u001b[0merror_interpolation\u001b[0m\u001b[0;34m.\u001b[0m\u001b[0minterpolate\u001b[0m\u001b[0;34m(\u001b[0m\u001b[0mmessage\u001b[0m\u001b[0;34m,\u001b[0m \u001b[0mself\u001b[0m\u001b[0;34m.\u001b[0m\u001b[0m_graph\u001b[0m\u001b[0;34m)\u001b[0m\u001b[0;34m\u001b[0m\u001b[0;34m\u001b[0m\u001b[0m\n\u001b[0;32m-> 1370\u001b[0;31m       \u001b[0;32mraise\u001b[0m \u001b[0mtype\u001b[0m\u001b[0;34m(\u001b[0m\u001b[0me\u001b[0m\u001b[0;34m)\u001b[0m\u001b[0;34m(\u001b[0m\u001b[0mnode_def\u001b[0m\u001b[0;34m,\u001b[0m \u001b[0mop\u001b[0m\u001b[0;34m,\u001b[0m \u001b[0mmessage\u001b[0m\u001b[0;34m)\u001b[0m\u001b[0;34m\u001b[0m\u001b[0;34m\u001b[0m\u001b[0m\n\u001b[0m\u001b[1;32m   1371\u001b[0m \u001b[0;34m\u001b[0m\u001b[0m\n\u001b[1;32m   1372\u001b[0m   \u001b[0;32mdef\u001b[0m \u001b[0m_extend_graph\u001b[0m\u001b[0;34m(\u001b[0m\u001b[0mself\u001b[0m\u001b[0;34m)\u001b[0m\u001b[0;34m:\u001b[0m\u001b[0;34m\u001b[0m\u001b[0;34m\u001b[0m\u001b[0m\n",
      "\u001b[0;31mResourceExhaustedError\u001b[0m: OOM when allocating tensor with shape[500,32] and type float on /job:localhost/replica:0/task:0/device:GPU:0 by allocator GPU_0_bfc\n\t [[node z-mean/random_uniform/RandomUniform (defined at /home/casapanshop/anaconda2/envs/newpy3_tf1/lib/python3.6/site-packages/keras/backend/tensorflow_backend.py:4433) ]]\nHint: If you want to see a list of allocated tensors when OOM happens, add report_tensor_allocations_upon_oom to RunOptions for current allocation info.\n\n\nOriginal stack trace for 'z-mean/random_uniform/RandomUniform':\n  File \"/home/casapanshop/anaconda2/envs/newpy3_tf1/lib/python3.6/runpy.py\", line 193, in _run_module_as_main\n    \"__main__\", mod_spec)\n  File \"/home/casapanshop/anaconda2/envs/newpy3_tf1/lib/python3.6/runpy.py\", line 85, in _run_code\n    exec(code, run_globals)\n  File \"/home/casapanshop/anaconda2/envs/newpy3_tf1/lib/python3.6/site-packages/ipykernel_launcher.py\", line 16, in <module>\n    app.launch_new_instance()\n  File \"/home/casapanshop/anaconda2/envs/newpy3_tf1/lib/python3.6/site-packages/traitlets/config/application.py\", line 664, in launch_instance\n    app.start()\n  File \"/home/casapanshop/anaconda2/envs/newpy3_tf1/lib/python3.6/site-packages/ipykernel/kernelapp.py\", line 583, in start\n    self.io_loop.start()\n  File \"/home/casapanshop/anaconda2/envs/newpy3_tf1/lib/python3.6/site-packages/tornado/platform/asyncio.py\", line 153, in start\n    self.asyncio_loop.run_forever()\n  File \"/home/casapanshop/anaconda2/envs/newpy3_tf1/lib/python3.6/asyncio/base_events.py\", line 442, in run_forever\n    self._run_once()\n  File \"/home/casapanshop/anaconda2/envs/newpy3_tf1/lib/python3.6/asyncio/base_events.py\", line 1462, in _run_once\n    handle._run()\n  File \"/home/casapanshop/anaconda2/envs/newpy3_tf1/lib/python3.6/asyncio/events.py\", line 145, in _run\n    self._callback(*self._args)\n  File \"/home/casapanshop/anaconda2/envs/newpy3_tf1/lib/python3.6/site-packages/tornado/ioloop.py\", line 690, in <lambda>\n    lambda f: self._run_callback(functools.partial(callback, future))\n  File \"/home/casapanshop/anaconda2/envs/newpy3_tf1/lib/python3.6/site-packages/tornado/ioloop.py\", line 743, in _run_callback\n    ret = callback()\n  File \"/home/casapanshop/anaconda2/envs/newpy3_tf1/lib/python3.6/site-packages/tornado/gen.py\", line 787, in inner\n    self.run()\n  File \"/home/casapanshop/anaconda2/envs/newpy3_tf1/lib/python3.6/site-packages/tornado/gen.py\", line 748, in run\n    yielded = self.gen.send(value)\n  File \"/home/casapanshop/anaconda2/envs/newpy3_tf1/lib/python3.6/site-packages/ipykernel/kernelbase.py\", line 361, in process_one\n    yield gen.maybe_future(dispatch(*args))\n  File \"/home/casapanshop/anaconda2/envs/newpy3_tf1/lib/python3.6/site-packages/tornado/gen.py\", line 209, in wrapper\n    yielded = next(result)\n  File \"/home/casapanshop/anaconda2/envs/newpy3_tf1/lib/python3.6/site-packages/ipykernel/kernelbase.py\", line 268, in dispatch_shell\n    yield gen.maybe_future(handler(stream, idents, msg))\n  File \"/home/casapanshop/anaconda2/envs/newpy3_tf1/lib/python3.6/site-packages/tornado/gen.py\", line 209, in wrapper\n    yielded = next(result)\n  File \"/home/casapanshop/anaconda2/envs/newpy3_tf1/lib/python3.6/site-packages/ipykernel/kernelbase.py\", line 541, in execute_request\n    user_expressions, allow_stdin,\n  File \"/home/casapanshop/anaconda2/envs/newpy3_tf1/lib/python3.6/site-packages/tornado/gen.py\", line 209, in wrapper\n    yielded = next(result)\n  File \"/home/casapanshop/anaconda2/envs/newpy3_tf1/lib/python3.6/site-packages/ipykernel/ipkernel.py\", line 300, in do_execute\n    res = shell.run_cell(code, store_history=store_history, silent=silent)\n  File \"/home/casapanshop/anaconda2/envs/newpy3_tf1/lib/python3.6/site-packages/ipykernel/zmqshell.py\", line 536, in run_cell\n    return super(ZMQInteractiveShell, self).run_cell(*args, **kwargs)\n  File \"/home/casapanshop/anaconda2/envs/newpy3_tf1/lib/python3.6/site-packages/IPython/core/interactiveshell.py\", line 2858, in run_cell\n    raw_cell, store_history, silent, shell_futures)\n  File \"/home/casapanshop/anaconda2/envs/newpy3_tf1/lib/python3.6/site-packages/IPython/core/interactiveshell.py\", line 2886, in _run_cell\n    return runner(coro)\n  File \"/home/casapanshop/anaconda2/envs/newpy3_tf1/lib/python3.6/site-packages/IPython/core/async_helpers.py\", line 68, in _pseudo_sync_runner\n    coro.send(None)\n  File \"/home/casapanshop/anaconda2/envs/newpy3_tf1/lib/python3.6/site-packages/IPython/core/interactiveshell.py\", line 3063, in run_cell_async\n    interactivity=interactivity, compiler=compiler, result=result)\n  File \"/home/casapanshop/anaconda2/envs/newpy3_tf1/lib/python3.6/site-packages/IPython/core/interactiveshell.py\", line 3254, in run_ast_nodes\n    if (await self.run_code(code, result,  async_=asy)):\n  File \"/home/casapanshop/anaconda2/envs/newpy3_tf1/lib/python3.6/site-packages/IPython/core/interactiveshell.py\", line 3331, in run_code\n    exec(code_obj, self.user_global_ns, self.user_ns)\n  File \"<ipython-input-131-1244a8356251>\", line 5, in <module>\n    traditional_vae,encoder_Tvae,generator_Tvae = traditional_VAE(X_train.shape[1],Nb=BITS,units=500,layers_e=2,layers_d=0)\n  File \"<ipython-input-95-765fe2ac31dc>\", line 14, in traditional_VAE\n    z_mean = Dense(Nb,activation='linear', name='z-mean')(hidden)\n  File \"/home/casapanshop/anaconda2/envs/newpy3_tf1/lib/python3.6/site-packages/keras/engine/base_layer.py\", line 425, in __call__\n    self.build(unpack_singleton(input_shapes))\n  File \"/home/casapanshop/anaconda2/envs/newpy3_tf1/lib/python3.6/site-packages/keras/layers/core.py\", line 895, in build\n    constraint=self.kernel_constraint)\n  File \"/home/casapanshop/anaconda2/envs/newpy3_tf1/lib/python3.6/site-packages/keras/legacy/interfaces.py\", line 91, in wrapper\n    return func(*args, **kwargs)\n  File \"/home/casapanshop/anaconda2/envs/newpy3_tf1/lib/python3.6/site-packages/keras/engine/base_layer.py\", line 243, in add_weight\n    weight = K.variable(initializer(shape, dtype=dtype),\n  File \"/home/casapanshop/anaconda2/envs/newpy3_tf1/lib/python3.6/site-packages/keras/initializers.py\", line 218, in __call__\n    dtype=dtype, seed=self.seed)\n  File \"/home/casapanshop/anaconda2/envs/newpy3_tf1/lib/python3.6/site-packages/keras/backend/tensorflow_backend.py\", line 4433, in random_uniform\n    dtype=dtype, seed=seed)\n  File \"/home/casapanshop/anaconda2/envs/newpy3_tf1/lib/python3.6/site-packages/tensorflow/python/ops/random_ops.py\", line 247, in random_uniform\n    rnd = gen_random_ops.random_uniform(shape, dtype, seed=seed1, seed2=seed2)\n  File \"/home/casapanshop/anaconda2/envs/newpy3_tf1/lib/python3.6/site-packages/tensorflow/python/ops/gen_random_ops.py\", line 820, in random_uniform\n    name=name)\n  File \"/home/casapanshop/anaconda2/envs/newpy3_tf1/lib/python3.6/site-packages/tensorflow/python/framework/op_def_library.py\", line 788, in _apply_op_helper\n    op_def=op_def)\n  File \"/home/casapanshop/anaconda2/envs/newpy3_tf1/lib/python3.6/site-packages/tensorflow/python/util/deprecation.py\", line 507, in new_func\n    return func(*args, **kwargs)\n  File \"/home/casapanshop/anaconda2/envs/newpy3_tf1/lib/python3.6/site-packages/tensorflow/python/framework/ops.py\", line 3616, in create_op\n    op_def=op_def)\n  File \"/home/casapanshop/anaconda2/envs/newpy3_tf1/lib/python3.6/site-packages/tensorflow/python/framework/ops.py\", line 2005, in __init__\n    self._traceback = tf_stack.extract_stack()\n"
     ]
    }
   ],
   "source": [
    "X_total_input = np.concatenate((X_train_input,X_val_input),axis=0)\n",
    "X_total = np.concatenate((X_train,X_val),axis=0)\n",
    "labels_total = np.concatenate((labels_train,labels_val),axis=0)\n",
    "\n",
    "traditional_vae,encoder_Tvae,generator_Tvae = traditional_VAE(X_train.shape[1],Nb=BITS,units=500,layers_e=2,layers_d=0)\n",
    "traditional_vae.fit(X_total_input, X_total, epochs=50, batch_size=batch_size,verbose=0)\n",
    "\n",
    "binary_vae,encoder_Bvae,generator_Bvae = binary_VAE(X_train.shape[1],Nb=BITS,units=500,layers_e=2,layers_d=0)\n",
    "binary_vae.fit(X_total_input, X_total, epochs=50, batch_size=batch_size,verbose=0)"
   ]
  },
  {
   "cell_type": "code",
   "execution_count": 28,
   "metadata": {},
   "outputs": [
    {
     "name": "stdout",
     "output_type": "stream",
     "text": [
      "Realizado sobre dataset  20news con precision y recall para VAE 0.5300109051254104 0.07084906412435019\n",
      "Realizado sobre dataset  20news con precision y recall para B-VAE 0.5292639040348966 0.07099525246875411\n"
     ]
    }
   ],
   "source": [
    "dataset = dat_n.lower()\n",
    "\n",
    "p_t,r_t = evaluate_hashing(encoder_Tvae,X_total_input,X_test_input,labels_total,labels_test,traditional=True,tipo=\"topK\")\n",
    "results_dat[dataset][\"p\"].append(p_t)\n",
    "results_dat[dataset][\"r\"].append(r_t)\n",
    "print(\"Realizado sobre dataset \",dataset,\"con precision y recall para VAE\",p_t,r_t)\n",
    "\n",
    "p_b,r_b = evaluate_hashing(encoder_Bvae,X_total_input,X_test_input,labels_total,labels_test,traditional=False,tipo=\"topK\")\n",
    "results_dat[dataset][\"p\"].append(p_b)\n",
    "results_dat[dataset][\"r\"].append(r_b)\n",
    "print(\"Realizado sobre dataset \",dataset,\"con precision y recall para B-VAE\",p_b,r_b)"
   ]
  },
  {
   "cell_type": "code",
   "execution_count": 47,
   "metadata": {},
   "outputs": [
    {
     "name": "stdout",
     "output_type": "stream",
     "text": [
      "Realizado sobre dataset  reuters con precision y recall para VAE 0.7803412616339213 0.06093750661172762\n",
      "Realizado sobre dataset  reuters con precision y recall para B-VAE 0.7812409513960722 0.06238758879834337\n"
     ]
    }
   ],
   "source": [
    "dataset = dat_n.lower()\n",
    "\n",
    "p_t,r_t = evaluate_hashing(encoder_Tvae,X_total_input,X_test_input,labels_total,labels_test,traditional=True,tipo=\"topK\")\n",
    "results_dat[dataset][\"p\"].append(p_t)\n",
    "results_dat[dataset][\"r\"].append(r_t)\n",
    "print(\"Realizado sobre dataset \",dataset,\"con precision y recall para VAE\",p_t,r_t)\n",
    "\n",
    "p_b,r_b = evaluate_hashing(encoder_Bvae,X_total_input,X_test_input,labels_total,labels_test,traditional=False,tipo=\"topK\")\n",
    "results_dat[dataset][\"p\"].append(p_b)\n",
    "results_dat[dataset][\"r\"].append(r_b)\n",
    "print(\"Realizado sobre dataset \",dataset,\"con precision y recall para B-VAE\",p_b,r_b)"
   ]
  },
  {
   "cell_type": "code",
   "execution_count": 65,
   "metadata": {},
   "outputs": [
    {
     "name": "stdout",
     "output_type": "stream",
     "text": [
      "Realizado sobre dataset  tmc con precision y recall para VAE 0.6940222984562623 0.012766656682632353\n",
      "Realizado sobre dataset  tmc con precision y recall para B-VAE 0.7083419096626657 0.01351950982872286\n"
     ]
    }
   ],
   "source": [
    "dataset = dat_n.lower()\n",
    "\n",
    "p_t,r_t = evaluate_hashing(encoder_Tvae,X_total_input,X_test_input,labels_total,labels_test,traditional=True,tipo=\"topK\")\n",
    "results_dat[dataset][\"p\"].append(p_t)\n",
    "results_dat[dataset][\"r\"].append(r_t)\n",
    "print(\"Realizado sobre dataset \",dataset,\"con precision y recall para VAE\",p_t,r_t)\n",
    "\n",
    "p_b,r_b = evaluate_hashing(encoder_Bvae,X_total_input,X_test_input,labels_total,labels_test,traditional=False,tipo=\"topK\")\n",
    "results_dat[dataset][\"p\"].append(p_b)\n",
    "results_dat[dataset][\"r\"].append(r_b)\n",
    "print(\"Realizado sobre dataset \",dataset,\"con precision y recall para B-VAE\",p_b,r_b)"
   ]
  },
  {
   "cell_type": "code",
   "execution_count": null,
   "metadata": {},
   "outputs": [],
   "source": [
    "dataset = dat_n.lower()\n",
    "\n",
    "p_t,r_t = evaluate_hashing(encoder_Tvae,X_total_input,X_test_input,labels_total,labels_test,traditional=True,tipo=\"topK\")\n",
    "results_dat[dataset][\"p\"].append(p_t)\n",
    "results_dat[dataset][\"r\"].append(r_t)\n",
    "print(\"Realizado sobre dataset \",dataset,\"con precision y recall para VAE\",p_t,r_t)\n",
    "\n",
    "p_b,r_b = evaluate_hashing(encoder_Bvae,X_total_input,X_test_input,labels_total,labels_test,traditional=False,tipo=\"topK\")\n",
    "results_dat[dataset][\"p\"].append(p_b)\n",
    "results_dat[dataset][\"r\"].append(r_b)\n",
    "print(\"Realizado sobre dataset \",dataset,\"con precision y recall para B-VAE\",p_b,r_b)"
   ]
  },
  {
   "cell_type": "code",
   "execution_count": 132,
   "metadata": {},
   "outputs": [
    {
     "name": "stdout",
     "output_type": "stream",
     "text": [
      "*************Top 100 most similar retrieve*************\n",
      "\n",
      "Resultados de Precision en pruebas\n",
      "   Modelo         20News            Reuters              TMC        \n",
      "----------- ------------------ ------------------ ------------------\n",
      "Tradicional 0.5300109051254104 0.7803412616339213 0.6940222984562623\n",
      "    Binario 0.5292639040348966 0.7812409513960722 0.7083419096626657\n",
      "\n",
      "\n",
      "Resultados de Recall en pruebas\n",
      "   Modelo          20News             Reuters               TMC         \n",
      "----------- ------------------- ------------------- --------------------\n",
      "Tradicional 0.07084906412435019 0.06093750661172762 0.012766656682632353\n",
      "    Binario 0.07099525246875411 0.06238758879834337  0.01351950982872286\n"
     ]
    }
   ],
   "source": [
    "print(\"*************Top 100 most similar retrieve*************\")\n",
    "\n",
    "print(\"\\nResultados de Precision en pruebas\")\n",
    "t = Table()\n",
    "t[\"Modelo\"] = [\"Tradicional\",\"Binario\"]\n",
    "t[\"20News\"] = results_dat[\"20news\"][\"p\"]\n",
    "t[\"Reuters\"] = results_dat[\"reuters\"][\"p\"]\n",
    "#t[\"Snippets\"] = results_dat[\"snippets\"][\"p\"]\n",
    "t[\"TMC\"] = results_dat[\"tmc\"][\"p\"]\n",
    "print(t)\n",
    "\n",
    "print(\"\\n\\nResultados de Recall en pruebas\")\n",
    "t = Table()\n",
    "t[\"Modelo\"] = [\"Tradicional\",\"Binario\"]\n",
    "t[\"20News\"] = results_dat[\"20news\"][\"r\"]\n",
    "t[\"Reuters\"] = results_dat[\"reuters\"][\"r\"]\n",
    "#t[\"Snippets\"] = results_dat[\"snippets\"][\"r\"]\n",
    "t[\"TMC\"] = results_dat[\"tmc\"][\"r\"]\n",
    "print(t)"
   ]
  },
  {
   "cell_type": "code",
   "execution_count": null,
   "metadata": {},
   "outputs": [],
   "source": [
    "keras.backend.clear_session()\n",
    "gc.collect()"
   ]
  },
  {
   "cell_type": "markdown",
   "metadata": {},
   "source": [
    "La propuesta presentada de *VAE* binario sobrepasa al *VAE* tradicional en todos los resultados presentados.\n",
    "### Experimentos con el *ball search*\n",
    "A continuación se muestra una leve experimentación cuando se trabaja con la búsqueda a través de un radio en el espacio de *Haming*."
   ]
  },
  {
   "cell_type": "code",
   "execution_count": null,
   "metadata": {},
   "outputs": [],
   "source": [
    "traditional_dat_BS = {\"20news\":{\"p\":[],\"r\":[]},\n",
    "                      \"snippets\":{\"p\":[],\"r\":[]},\n",
    "                      \"reuters\":{\"p\":[],\"r\":[]},\n",
    "                      \"tmc\":{\"p\":[],\"r\":[]},\n",
    "                     } #for ball radius\n",
    "binary_dat_BS = {\"20news\":{\"p\":[],\"r\":[]},\n",
    "                 \"snippets\":{\"p\":[],\"r\":[]},\n",
    "                 \"reuters\":{\"p\":[],\"r\":[]},\n",
    "                 \"tmc\":{\"p\":[],\"r\":[]},\n",
    "                } #for ball radius"
   ]
  },
  {
   "cell_type": "code",
   "execution_count": null,
   "metadata": {
    "scrolled": false
   },
   "outputs": [],
   "source": [
    "%%time\n",
    "dataset = dat_n.lower()\n",
    "ball_radius = np.arange(0,BITS) #ball of radius graphic\n",
    "\n",
    "binary_p = []\n",
    "binary_r = []\n",
    "encode_total = encoder_Bvae.predict(X_total_input)\n",
    "encode_test = encoder_Bvae.predict(X_test_input)\n",
    "probas_total= expit(encode_total)\n",
    "probas_test= expit(encode_test)\n",
    "total_hash_b = (probas_total > 0.5)*1\n",
    "test_hash_b = (probas_test > 0.5)*1\n",
    "    \n",
    "traditional_p = []\n",
    "traditional_r = []\n",
    "encode_total = encoder_Tvae.predict(X_total_input)\n",
    "encode_test = encoder_Tvae.predict(X_test_input)\n",
    "median= MedianHashing()\n",
    "median.fit(encode_total)\n",
    "total_hash_t = median.transform(encode_total)\n",
    "test_hash_t = median.transform(encode_test)\n",
    "\n",
    "\n",
    "for ball_r in ball_radius:\n",
    "    test_similares_train =  get_similar(test_hash_b,total_hash_b,tipo='ball',ball=ball_r) \n",
    "    p_b,r_b  = measure_metrics(labels,test_similares_train,labels_query=labels_test,labels_source=labels_total)\n",
    "    binary_dat_BS[dataset][\"p\"].append(p_b)\n",
    "    binary_dat_BS[dataset][\"r\"].append(r_b)\n",
    "    \n",
    "    test_similares_train =  get_similar(test_hash_t,total_hash_t,tipo='ball',ball=ball_r) \n",
    "    p_t,r_t  = measure_metrics(labels,test_similares_train,labels_query=labels_test,labels_source=labels_total)\n",
    "    traditional_dat_BS[dataset][\"p\"].append(p_t)\n",
    "    traditional_dat_BS[dataset][\"r\"].append(r_t)\n",
    "\n",
    "print(\"Termino\")"
   ]
  },
  {
   "cell_type": "code",
   "execution_count": null,
   "metadata": {
    "collapsed": true
   },
   "outputs": [],
   "source": []
  },
  {
   "cell_type": "code",
   "execution_count": 84,
   "metadata": {
    "scrolled": true
   },
   "outputs": [
    {
     "data": {
      "image/png": "[encoded data removed]",
      "text/plain": [
       "<Figure size 1152x360 with 3 Axes>"
      ]
     },
     "metadata": {
      "needs_background": "light"
     },
     "output_type": "display_data"
    }
   ],
   "source": [
    "choosed_data = [\"20News\", \"Reuters\", \"Snippets\"]\n",
    "f, axx = plt.subplots(1, len(choosed_data), figsize=(16,5), sharey=False)\n",
    "\n",
    "b_aux = 10\n",
    "for z in range(len(choosed_data)):\n",
    "    dat = choosed_data[z].lower()\n",
    "\n",
    "    axx[z].plot(ball_radius[:b_aux],binary_dat_BS[dat][\"p\"][:b_aux],'go-',label=\"precision (Binary VAE)\")\n",
    "    axx[z].plot(ball_radius[:b_aux],binary_dat_BS[dat][\"r\"][:b_aux],'gv-', label='recall' ) \n",
    "    axx[z].plot(ball_radius[:b_aux],traditional_dat_BS[dat][\"p\"][:b_aux],'bo-',label=\"precision (Traditional VAE)\")\n",
    "    axx[z].plot(ball_radius[:b_aux],traditional_dat_BS[dat][\"r\"][:b_aux],'bv-', label='recall' ) \n",
    "    axx[z].set_title(choosed_data[z])\n",
    "    axx[z].set_xticks(ball_radius)\n",
    "    axx[z].set_xlabel(\"Ball radius\")\n",
    "    axx[z].set_xlim(-0.5, len(ball_radius[:b_aux])-.5)\n",
    "    #axx[z].set_ylim(-0.05)\n",
    "    \n",
    "    if z == 0:\n",
    "        axx[z].set_ylabel(\"Score\")\n",
    "        axx[z].legend(bbox_to_anchor=(2, -0.1))\n",
    "        \n",
    "f.suptitle(\"Comparison of ball search\")\n",
    "plt.show()"
   ]
  },
  {
   "cell_type": "code",
   "execution_count": null,
   "metadata": {
    "collapsed": true
   },
   "outputs": [],
   "source": []
  },
  {
   "cell_type": "markdown",
   "metadata": {},
   "source": [
    "Se puede ver que la experimentación con el radio de búsqueda refleja que mejores resultados se pueden alcanzar, por ejemplo en Reuters llegar a 0.8 de *precision* y en 20 News a 0.5. Al aumentar el radio de búsqueda ambas métricas aumentan hasta un cierto punto (3-5) en donde se comienza a observar el típico *trade-off* entre *precision* y *recall*, a un mayor *precision* un menor *recall*.\n",
    "\n",
    "### Analysis\n",
    "---\n",
    "A continuación se realiza el análisis final del modelo binario de *VAE*, gracias a que modela las probabilidades de los códigos binarios directamente es posible interpretarlos a través de las palabras más probables que representan cada *bit* en cada dataset.\n",
    "\n",
    "1. \"Encender\" solo un *bit* como *input* al *decoder*/*generator*\n",
    "2. Realizar un *forward pass* para obtener la distribución de probabilidad de las palabras\n",
    "3. Obtener las top $M$ palabras más probables."
   ]
  },
  {
   "cell_type": "code",
   "execution_count": 55,
   "metadata": {
    "collapsed": true
   },
   "outputs": [],
   "source": [
    "def get_topk_probably_words(probabilities,K):\n",
    "    order_vocabulary =  np.argsort(probabilities) \n",
    "    tokens_probables = order_vocabulary[:K]  #token mas probables\n",
    "    return list(map(lambda x:idx2token[x] ,tokens_probables))\n",
    "\n",
    "def calculate_hash(data,model):\n",
    "    encode_data = model.predict(data) #logits\n",
    "    #para Binary VAE\n",
    "    probas_data = expit(encode_data)\n",
    "    data_hash = (probas_data > 0.5)*1\n",
    "    return data_hash\n",
    "\n",
    "def plot_cells_distribution(Nb,train_hash,test_hash=[]):\n",
    "    print(\"Cantidad de memorias en tabla hash: \",2**Nb)\n",
    "\n",
    "    valores_unicos, count_hash =  hash_analysis(train_hash)\n",
    "    print(\"Entrenamiento----\")\n",
    "    print(\"Cantidad de datos a llenar la tabla hash: \",train_hash.shape[0])\n",
    "    plt.figure(figsize=(14,4))\n",
    "    plt.plot(sorted(list(count_hash.values()))[::-1],'bo-')\n",
    "    plt.title(\"Cantidad de datos por celda/memoria en tabla hash\")\n",
    "    plt.show()\n",
    "    print(\"Cantidad de memorias ocupadas: \",len(valores_unicos))\n",
    "    if len(test_hash) != 0:\n",
    "        valores_unicos, count_hash =  hash_analysis(test_hash)\n",
    "        print(\"Pruebas-----\")\n",
    "        print(\"Cantidad de datos a llenar la tabla hash: \",test_hash.shape[0])\n",
    "        plt.figure(figsize=(14,4))\n",
    "        plt.plot(sorted(list(count_hash.values()))[::-1],'bo-')\n",
    "        plt.title(\"Cantidad de datos por celda/memoria en tabla hash\")\n",
    "        plt.show()\n",
    "        print(\"Cantidad de memorias ocupadas: \",len(valores_unicos))\n",
    "        \n",
    "from utils import  compare_cells_plot"
   ]
  },
  {
   "cell_type": "code",
   "execution_count": 121,
   "metadata": {
    "collapsed": true
   },
   "outputs": [],
   "source": [
    "Nb = encoder_Bvae.output_shape[1]\n",
    "\n",
    "train_hash = calculate_hash(X_total_input,encoder_Bvae)\n",
    "test_hash = calculate_hash(X_test_input,encoder_Bvae)"
   ]
  },
  {
   "cell_type": "code",
   "execution_count": null,
   "metadata": {
    "collapsed": true
   },
   "outputs": [],
   "source": [
    "from sklearn.manifold import TSNE\n",
    "n = 3000 #data to train\n",
    "model = TSNE(n_components=2, metric='hamming', init= \"random\") #init could be pca, hamming\n",
    "train_plot =  model.fit_transform(train_hash[:n])"
   ]
  },
  {
   "cell_type": "code",
   "execution_count": null,
   "metadata": {
    "collapsed": true
   },
   "outputs": [],
   "source": [
    "print(\"20 Newsgroup\")\n",
    "colors_plot = np.asarray([plt.cm.gnuplot2(i/C_train.shape[1],1) for i in range(C_train.shape[1])]) #labels??\n",
    "plt.figure(figsize=(10,7))\n",
    "plt.scatter(train_plot[:,0],train_plot[:,1],c=colors_plot[C_train[:n].argmax(axis=1)],marker=\"*\",s=20) \n",
    "plt.show()"
   ]
  },
  {
   "cell_type": "code",
   "execution_count": null,
   "metadata": {
    "collapsed": true
   },
   "outputs": [],
   "source": [
    "print(\"Reuters\")\n"
   ]
  },
  {
   "cell_type": "code",
   "execution_count": null,
   "metadata": {
    "collapsed": true
   },
   "outputs": [],
   "source": [
    "print(\"Snippets\")\n",
    "\n"
   ]
  },
  {
   "cell_type": "code",
   "execution_count": 20,
   "metadata": {},
   "outputs": [
    {
     "name": "stdout",
     "output_type": "stream",
     "text": [
      "Cantidad de memorias en tabla hash:  4294967296\n",
      "Entrenamiento----\n",
      "Cantidad de datos a llenar la tabla hash:  8485\n"
     ]
    },
    {
     "data": {
      "image/png": "[encoded data removed]",
      "text/plain": [
       "<Figure size 1008x432 with 1 Axes>"
      ]
     },
     "metadata": {},
     "output_type": "display_data"
    },
    {
     "name": "stdout",
     "output_type": "stream",
     "text": [
      "Cantidad de memorias ocupadas:  8108\n",
      "Validación-----\n",
      "Cantidad de datos a llenar la tabla hash:  2829\n"
     ]
    },
    {
     "data": {
      "image/png": "[encoded data removed]",
      "text/plain": [
       "<Figure size 1008x432 with 1 Axes>"
      ]
     },
     "metadata": {},
     "output_type": "display_data"
    },
    {
     "name": "stdout",
     "output_type": "stream",
     "text": [
      "Cantidad de memorias ocupadas:  2756\n"
     ]
    }
   ],
   "source": [
    "print(\"Cantidad de memorias en tabla hash: \",2**Nb)\n",
    "\n",
    "valores_unicos, count_hash =  hash_analysis(train_hash)\n",
    "print(\"Entrenamiento----\")\n",
    "print(\"Cantidad de datos a llenar la tabla hash: \",train_hash.shape[0])\n",
    "plt.figure(figsize=(14,6))\n",
    "plt.plot(sorted(list(count_hash.values()))[::-1],'bo-')\n",
    "plt.title(\"Cantidad de datos por celda/memoria en tabla hash\")\n",
    "plt.show()\n",
    "print(\"Cantidad de memorias ocupadas: \",len(valores_unicos))\n",
    "\n",
    "valores_unicos, count_hash =  hash_analysis(val_hash)\n",
    "print(\"Validación-----\")\n",
    "print(\"Cantidad de datos a llenar la tabla hash: \",val_hash.shape[0])\n",
    "plt.figure(figsize=(14,6))\n",
    "plt.plot(sorted(list(count_hash.values()))[::-1],'bo-')\n",
    "plt.title(\"Cantidad de datos por celda/memoria en tabla hash\")\n",
    "plt.show()\n",
    "print(\"Cantidad de memorias ocupadas: \",len(valores_unicos))"
   ]
  },
  {
   "cell_type": "markdown",
   "metadata": {},
   "source": [
    "Se puede ver que se ocupan varias celdas de memorias gracias a la restricción de las variables latentes en el VAE, donde en la mayoría de los casos se asigna una única dirección de memoria para un objeto, obteniendo una tabla *hashing* distribuidamente poblada.  \n",
    "\n",
    "> Y si se varía el número de bits?"
   ]
  },
  {
   "cell_type": "code",
   "execution_count": 91,
   "metadata": {
    "scrolled": true
   },
   "outputs": [
    {
     "name": "stdout",
     "output_type": "stream",
     "text": [
      "Cantidad de memorias en tabla hash:  256\n",
      "Entrenamiento----\n",
      "Cantidad de datos a llenar la tabla hash:  10060\n",
      "Cantidad de memorias ocupadas hash1:  256\n",
      "Cantidad de memorias ocupadas hash2:  252\n"
     ]
    },
    {
     "data": {
      "image/png": "[encoded data removed]",
      "text/plain": [
       "<matplotlib.figure.Figure at 0x7f2aba11ebe0>"
      ]
     },
     "metadata": {},
     "output_type": "display_data"
    },
    {
     "name": "stdout",
     "output_type": "stream",
     "text": [
      "Pruebas-----\n",
      "Cantidad de datos a llenar la tabla hash:  2280\n",
      "Cantidad de memorias ocupadas hash1:  252\n",
      "Cantidad de memorias ocupadas hash2:  234\n"
     ]
    },
    {
     "data": {
      "image/png": "[encoded data removed]",
      "text/plain": [
       "<matplotlib.figure.Figure at 0x7f2aba08a748>"
      ]
     },
     "metadata": {},
     "output_type": "display_data"
    }
   ],
   "source": [
    "#plot together--8 bits\n",
    "encode_total = encoder_Tvae.predict(X_total_input)\n",
    "encode_test = encoder_Tvae.predict(X_test_input)\n",
    "median= MedianHashing()\n",
    "median.fit(encode_total)\n",
    "train_hash2 = median.transform(encode_total)\n",
    "test_hash2 = median.transform(encode_test)\n",
    "\n",
    "compare_cells_plot(Nb,train_hash,train_hash2,test_hash,test_hash2)"
   ]
  },
  {
   "cell_type": "code",
   "execution_count": 94,
   "metadata": {
    "scrolled": true
   },
   "outputs": [
    {
     "name": "stdout",
     "output_type": "stream",
     "text": [
      "Cantidad de memorias en tabla hash:  16\n",
      "Entrenamiento----\n",
      "Cantidad de datos a llenar la tabla hash:  10060\n",
      "Cantidad de memorias ocupadas hash1:  16\n",
      "Cantidad de memorias ocupadas hash2:  16\n"
     ]
    },
    {
     "data": {
      "image/png": "[encoded data removed]",
      "text/plain": [
       "<matplotlib.figure.Figure at 0x7f2ab9fe0550>"
      ]
     },
     "metadata": {},
     "output_type": "display_data"
    },
    {
     "name": "stdout",
     "output_type": "stream",
     "text": [
      "Pruebas-----\n",
      "Cantidad de datos a llenar la tabla hash:  2280\n",
      "Cantidad de memorias ocupadas hash1:  16\n",
      "Cantidad de memorias ocupadas hash2:  16\n"
     ]
    },
    {
     "data": {
      "image/png": "[encoded data removed]",
      "text/plain": [
       "<matplotlib.figure.Figure at 0x7f2ab37bc0b8>"
      ]
     },
     "metadata": {},
     "output_type": "display_data"
    }
   ],
   "source": [
    "#plot together--- 4 bits\n",
    "encode_total = encoder_Tvae.predict(X_total_input)\n",
    "encode_test = encoder_Tvae.predict(X_test_input)\n",
    "median= MedianHashing()\n",
    "median.fit(encode_total)\n",
    "train_hash2 = median.transform(encode_total)\n",
    "test_hash2 = median.transform(encode_test)\n",
    "\n",
    "compare_cells_plot(Nb,train_hash,train_hash2,test_hash,test_hash2)"
   ]
  },
  {
   "cell_type": "code",
   "execution_count": 19,
   "metadata": {
    "scrolled": false
   },
   "outputs": [
    {
     "name": "stdout",
     "output_type": "stream",
     "text": [
      "_________________________________________________________________\n",
      "Layer (type)                 Output Shape              Param #   \n",
      "=================================================================\n",
      "input_21 (InputLayer)        (None, 10000)             0         \n",
      "_________________________________________________________________\n",
      "pre-encoder (Sequential)     (None, 500)               5255000   \n",
      "_________________________________________________________________\n",
      "dense_28 (Dense)             (None, 8)                 4008      \n",
      "_________________________________________________________________\n",
      "generator/decoder (Sequentia (None, 10000)             5269000   \n",
      "=================================================================\n",
      "Total params: 10,528,008\n",
      "Trainable params: 10,524,008\n",
      "Non-trainable params: 4,000\n",
      "_________________________________________________________________\n"
     ]
    },
    {
     "data": {
      "text/plain": [
       "<keras.callbacks.History at 0x7f74b086bac8>"
      ]
     },
     "execution_count": 19,
     "metadata": {},
     "output_type": "execute_result"
    }
   ],
   "source": [
    "#Normal AE\n",
    "Nb = 8\n",
    "pre_encoder = define_pre_encoder(X_total_input.shape[1], layers=2,units=500,BN=True)\n",
    "decoder = define_generator(Nb,X_total_input.shape[1],layers=2,units=500,BN=True) #2 layers?\n",
    "## Encoder\n",
    "x = Input(shape=(X_total_input.shape[1],))\n",
    "hidden = pre_encoder(x)\n",
    "code = Dense(Nb,activation='sigmoid')(hidden) #sigmoid?\n",
    "encoder = Model(x, code) # build a model to project inputs on the latent space\n",
    "## Decoder\n",
    "output = decoder(code)\n",
    "normal_AE = Model(x, output)\n",
    "normal_AE.summary()\n",
    "\n",
    "normal_AE.compile(optimizer='adam',loss='categorical_crossentropy')\n",
    "normal_AE.fit(X_total_input,X_total,epochs=50,batch_size=100,verbose=0)"
   ]
  },
  {
   "cell_type": "code",
   "execution_count": 20,
   "metadata": {
    "scrolled": true
   },
   "outputs": [
    {
     "name": "stdout",
     "output_type": "stream",
     "text": [
      "Cantidad de memorias en tabla hash:  256\n",
      "Entrenamiento----\n",
      "Cantidad de datos a llenar la tabla hash:  11314\n"
     ]
    },
    {
     "data": {
      "image/png": "[encoded data removed]",
      "text/plain": [
       "<matplotlib.figure.Figure at 0x7f75a439a0f0>"
      ]
     },
     "metadata": {},
     "output_type": "display_data"
    },
    {
     "name": "stdout",
     "output_type": "stream",
     "text": [
      "Cantidad de memorias ocupadas:  256\n",
      "Pruebas-----\n",
      "Cantidad de datos a llenar la tabla hash:  7532\n"
     ]
    },
    {
     "data": {
      "image/png": "[encoded data removed]",
      "text/plain": [
       "<matplotlib.figure.Figure at 0x7f74ad5cdf28>"
      ]
     },
     "metadata": {},
     "output_type": "display_data"
    },
    {
     "name": "stdout",
     "output_type": "stream",
     "text": [
      "Cantidad de memorias ocupadas:  250\n"
     ]
    }
   ],
   "source": [
    "#Normal AE -- binary\n",
    "probas_total = encoder.predict(X_total_input)\n",
    "probas_test = encoder.predict(X_test_input)\n",
    "train_hash = (probas_total > 0.5)*1\n",
    "test_hash = (probas_test > 0.5)*1\n",
    "plot_cells_distribution(Nb,train_hash,test_hash)"
   ]
  },
  {
   "cell_type": "markdown",
   "metadata": {},
   "source": [
    "Los resultados se mantienen al variar los datasets, así que se muestra unicamente uno. El autoencoder clásico, muestra comportamiento similar, exceptuando quizás por una leve falta de generalización en el conjunto objetivo (de pruebas), ésto quiere decir que la hipótesis de que la distribución repartida de las celdas era debido al autoencoder variacional **estaba erronea**, ya que el autoencoder clásico lo logra. Respecto a quién logra una mejor distribución uniforme de las casillas depende, ya que por ejemplo en reuters lo logra el VAE tradicional, mientras que en snippets lo logra el VAE binario.  \n",
    "**Resultado esperado**: se mantiene la idea de que se distribuyen los datos a través de todas las casillas disponibles, mientras que si se tiene las casillas suficientes va haber un dato por cada casilla."
   ]
  },
  {
   "cell_type": "code",
   "execution_count": 54,
   "metadata": {
    "collapsed": true
   },
   "outputs": [],
   "source": [
    "#iterar sobre el resto de los bits y ver sus palabras mas frecuentes\n",
    "def show_probable_words(topKwords,samplebits):\n",
    "    probable_words = []\n",
    "    for i in range(Nb):\n",
    "        b = np.zeros((1,Nb))\n",
    "        b[0,i] = 1 #solo un bit con uno\n",
    "\n",
    "        reconstruct_data = generator_Bvae.predict(b)\n",
    "        probable_words.append(get_topk_probably_words(reconstruct_data[0],K=topKwords))\n",
    "    \n",
    "    bits = np.random.choice(np.arange(Nb),samplebits,replace=False)\n",
    "    t = Table()\n",
    "    for b in bits:\n",
    "        t[\"bit \"+ str(b)] = probable_words[b]\n",
    "    return t"
   ]
  },
  {
   "cell_type": "markdown",
   "metadata": {},
   "source": [
    "A continuación se muestrean las 12 palabras más frecuentes de 8 *bits*  aleatorios distintos en el modelo."
   ]
  },
  {
   "cell_type": "code",
   "execution_count": 26,
   "metadata": {
    "scrolled": true
   },
   "outputs": [
    {
     "name": "stdout",
     "output_type": "stream",
     "text": [
      "20 Newsgroup\n"
     ]
    },
    {
     "data": {
      "text/html": [
       "&lt;Table length=12&gt;\n",
       "<table id=\"table140619583773272\" class=\"table-striped table-bordered table-condensed\">\n",
       "<thead><tr><th>bit 22</th><th>bit 13</th><th>bit 5</th><th>bit 14</th><th>bit 29</th><th>bit 9</th><th>bit 30</th><th>bit 18</th></tr></thead>\n",
       "<thead><tr><th>str12</th><th>str7</th><th>str12</th><th>str12</th><th>str13</th><th>str13</th><th>str13</th><th>str13</th></tr></thead>\n",
       "<tr><td>mimsy</td><td>megatek</td><td>rigorous</td><td>invitation</td><td>rigorous</td><td>complexity</td><td>heterosexual</td><td>newman</td></tr>\n",
       "<tr><td>hopper</td><td>lbl</td><td>complexity</td><td>inconsistent</td><td>governing</td><td>heterosexual</td><td>invitation</td><td>likelihood</td></tr>\n",
       "<tr><td>newman</td><td>newman</td><td>hubble</td><td>ehrlich</td><td>p00261</td><td>likelihood</td><td>pythagorean</td><td>slac</td></tr>\n",
       "<tr><td>complexity</td><td>acme</td><td>mimsy</td><td>lbl</td><td>ebay</td><td>inconsistent</td><td>preservation</td><td>bernard</td></tr>\n",
       "<tr><td>heterosexual</td><td>grief</td><td>likelihood</td><td>asia</td><td>eager</td><td>lbl</td><td>dani</td><td>rigorous</td></tr>\n",
       "<tr><td>slac</td><td>ccc</td><td>inconsistent</td><td>kou</td><td>bernard</td><td>skeptic</td><td>harassment</td><td>sax</td></tr>\n",
       "<tr><td>lbl</td><td>amdahl</td><td>finite</td><td>newman</td><td>inaccurate</td><td>presidential</td><td>homosexuality</td><td>dsi</td></tr>\n",
       "<tr><td>dani</td><td>fuer</td><td>sl2</td><td>guidance</td><td>misunderstand</td><td>prohibits</td><td>lbl</td><td>introductory</td></tr>\n",
       "<tr><td>hubble</td><td>rusnews</td><td>refutation</td><td>jhuapl</td><td>dishonest</td><td>homosexuality</td><td>asia</td><td>ranting</td></tr>\n",
       "<tr><td>vic</td><td>ebay</td><td>defendant</td><td>rental</td><td>bezier</td><td>acad3</td><td>bernard</td><td>sl2</td></tr>\n",
       "<tr><td>bernard</td><td>starr</td><td>ebay</td><td>koutd</td><td>prohibits</td><td>eternity</td><td>shoei</td><td>homosexuality</td></tr>\n",
       "<tr><td>ehrlich</td><td>hubble</td><td>skeptic</td><td>hubble</td><td>knowles</td><td>reconcile</td><td>rigorous</td><td>dani</td></tr>\n",
       "</table>"
      ],
      "text/plain": [
       "<Table length=12>\n",
       "   bit 22     bit 13    bit 5     ...     bit 9         bit 30        bit 18   \n",
       "   str12       str7     str12     ...     str13         str13         str13    \n",
       "------------ ------- ------------ ... ------------- ------------- -------------\n",
       "       mimsy megatek     rigorous ...    complexity  heterosexual        newman\n",
       "      hopper     lbl   complexity ...  heterosexual    invitation    likelihood\n",
       "      newman  newman       hubble ...    likelihood   pythagorean          slac\n",
       "  complexity    acme        mimsy ...  inconsistent  preservation       bernard\n",
       "heterosexual   grief   likelihood ...           lbl          dani      rigorous\n",
       "        slac     ccc inconsistent ...       skeptic    harassment           sax\n",
       "         lbl  amdahl       finite ...  presidential homosexuality           dsi\n",
       "        dani    fuer          sl2 ...     prohibits           lbl  introductory\n",
       "      hubble rusnews   refutation ... homosexuality          asia       ranting\n",
       "         vic    ebay    defendant ...         acad3       bernard           sl2\n",
       "     bernard   starr         ebay ...      eternity         shoei homosexuality\n",
       "     ehrlich  hubble      skeptic ...     reconcile      rigorous          dani"
      ]
     },
     "execution_count": 26,
     "metadata": {},
     "output_type": "execute_result"
    }
   ],
   "source": [
    "print(\"20 Newsgroup\")\n",
    "show_probable_words(12,8)"
   ]
  },
  {
   "cell_type": "code",
   "execution_count": 112,
   "metadata": {},
   "outputs": [
    {
     "name": "stdout",
     "output_type": "stream",
     "text": [
      "20 Newsgroup--collocations\n"
     ]
    },
    {
     "data": {
      "text/html": [
       "&lt;Table length=12&gt;\n",
       "<table id=\"table46914509214888\" class=\"table-striped table-bordered table-condensed\">\n",
       "<thead><tr><th>bit 8</th><th>bit 4</th><th>bit 26</th><th>bit 5</th><th>bit 15</th><th>bit 27</th><th>bit 3</th><th>bit 7</th></tr></thead>\n",
       "<thead><tr><th>str30</th><th>str24</th><th>str30</th><th>str27</th><th>str30</th><th>str30</th><th>str30</th><th>str30</th></tr></thead>\n",
       "<tr><td>communication greenbelt usa</td><td>article pitt</td><td>communication greenbelt usa</td><td>berkeley line</td><td>distribution sci line</td><td>organization express access</td><td>posting host access</td><td>organization express access</td></tr>\n",
       "<tr><td>california berkeley line</td><td>organization sgi</td><td>communication greenbelt</td><td>ibm austin</td><td>article blue</td><td>posting host access</td><td>host access digex</td><td>express access</td></tr>\n",
       "<tr><td>communication greenbelt</td><td>berkeley line</td><td>online communication greenbelt</td><td>organization express access</td><td>drive scsi</td><td>host access digex</td><td>communication greenbelt usa</td><td>organization express</td></tr>\n",
       "<tr><td>online communication greenbelt</td><td>ibm austin</td><td>organization express access</td><td>california berkeley line</td><td>chapel hill</td><td>distribution sci line</td><td>organization express access</td><td>posting host access</td></tr>\n",
       "<tr><td>berkeley line</td><td>gordon bank writes</td><td>organization express</td><td>posting host access</td><td>berkeley line</td><td>express access</td><td>online communication greenbelt</td><td>host access digex</td></tr>\n",
       "<tr><td>mild</td><td>bbn</td><td>express access</td><td>express access</td><td>communication greenbelt</td><td>organization express</td><td>express access</td><td>express access online</td></tr>\n",
       "<tr><td>distribution sci line</td><td>university western</td><td>express access online</td><td>host access digex</td><td>communication greenbelt usa</td><td>communication greenbelt usa</td><td>organization express</td><td>access online</td></tr>\n",
       "<tr><td>frontier</td><td>california berkeley line</td><td>chapel hill</td><td>organization express</td><td>online communication greenbelt</td><td>express access online</td><td>communication greenbelt</td><td>access online communication</td></tr>\n",
       "<tr><td>ulysses</td><td>wpd sgi</td><td>access online</td><td>express access online</td><td>california berkeley line</td><td>communication greenbelt</td><td>express access online</td><td>communication greenbelt usa</td></tr>\n",
       "<tr><td>chapel hill</td><td>bank writes</td><td>access online communication</td><td>communication greenbelt</td><td>university north carolina</td><td>online communication greenbelt</td><td>access online</td><td>communication greenbelt</td></tr>\n",
       "<tr><td>organization texas</td><td>bbn com</td><td>host access digex</td><td>access online</td><td>subject ide scsi</td><td>access online</td><td>access online communication</td><td>online communication greenbelt</td></tr>\n",
       "<tr><td>express access online</td><td>wpd sgi com</td><td>posting host access</td><td>distribution sci line</td><td>megabyte</td><td>access online communication</td><td>host access</td><td>access digex net</td></tr>\n",
       "</table>"
      ],
      "text/plain": [
       "<Table length=12>\n",
       "            bit 8              ...             bit 7             \n",
       "            str30              ...             str30             \n",
       "------------------------------ ... ------------------------------\n",
       "   communication greenbelt usa ...    organization express access\n",
       "      california berkeley line ...                 express access\n",
       "       communication greenbelt ...           organization express\n",
       "online communication greenbelt ...            posting host access\n",
       "                 berkeley line ...              host access digex\n",
       "                          mild ...          express access online\n",
       "         distribution sci line ...                  access online\n",
       "                      frontier ...    access online communication\n",
       "                       ulysses ...    communication greenbelt usa\n",
       "                   chapel hill ...        communication greenbelt\n",
       "            organization texas ... online communication greenbelt\n",
       "         express access online ...               access digex net"
      ]
     },
     "execution_count": 112,
     "metadata": {},
     "output_type": "execute_result"
    }
   ],
   "source": [
    "print(\"20 Newsgroup--collocations\")\n",
    "show_probable_words(12,8)"
   ]
  },
  {
   "cell_type": "markdown",
   "metadata": {
    "collapsed": true
   },
   "source": [
    "En el dataset de *20 Newsgroup* se puede ver por ejemplo que el *bit* 9 contiene palabras como *heterosexual*, *presidential*, *prohibits*, *eternity* y *homosexuality*, pudiendo ser asociados a textos que contengan una discusión política de la sexualidad o palabras con connotación negativa. El *bit* 13 podría estar asociado a empresas u organizaciones/entidades conocidas, al contener *newman*, *ebay*, *hubble* y *acme*."
   ]
  },
  {
   "cell_type": "code",
   "execution_count": 46,
   "metadata": {
    "scrolled": true
   },
   "outputs": [
    {
     "name": "stdout",
     "output_type": "stream",
     "text": [
      "Reuters\n"
     ]
    },
    {
     "data": {
      "text/html": [
       "&lt;Table length=12&gt;\n",
       "<table id=\"table140625237032184\" class=\"table-striped table-bordered table-condensed\">\n",
       "<thead><tr><th>bit 9</th><th>bit 31</th><th>bit 21</th><th>bit 7</th><th>bit 14</th><th>bit 29</th><th>bit 5</th><th>bit 17</th></tr></thead>\n",
       "<thead><tr><th>str11</th><th>str14</th><th>str12</th><th>str12</th><th>str12</th><th>str10</th><th>str14</th><th>str11</th></tr></thead>\n",
       "<tr><td>danger</td><td>device</td><td>eed</td><td>printing</td><td>murray</td><td>toronto</td><td>responsibility</td><td>printing</td></tr>\n",
       "<tr><td>object</td><td>recognize</td><td>consummated</td><td>ica</td><td>hindered</td><td>receivable</td><td>weakening</td><td>analyze</td></tr>\n",
       "<tr><td>consummated</td><td>responsibility</td><td>analyze</td><td>elmd</td><td>baby</td><td>catalyst</td><td>recognize</td><td>device</td></tr>\n",
       "<tr><td>relate</td><td>analyze</td><td>recognize</td><td>projecting</td><td>accurate</td><td>murray</td><td>analyze</td><td>dallas</td></tr>\n",
       "<tr><td>hostile</td><td>printing</td><td>moines</td><td>analyze</td><td>proceeding</td><td>stretch</td><td>edition</td><td>catalyst</td></tr>\n",
       "<tr><td>weakening</td><td>undoubtedly</td><td>cancellation</td><td>baby</td><td>justify</td><td>printing</td><td>colo</td><td>exploring</td></tr>\n",
       "<tr><td>cellular</td><td>describing</td><td>severance</td><td>kpk</td><td>master</td><td>analyze</td><td>sierra</td><td>proof</td></tr>\n",
       "<tr><td>printing</td><td>existence</td><td>colo</td><td>device</td><td>uneconomic</td><td>projecting</td><td>eighth</td><td>elmd</td></tr>\n",
       "<tr><td>uneconomic</td><td>projecting</td><td>defensive</td><td>undoubtedly</td><td>jacksonville</td><td>edmonton</td><td>mature</td><td>object</td></tr>\n",
       "<tr><td>edmonton</td><td>exploring</td><td>flo</td><td>divested</td><td>minor</td><td>cntrs</td><td>incurred</td><td>divestiture</td></tr>\n",
       "<tr><td>catalyst</td><td>object</td><td>elmd</td><td>radical</td><td>projecting</td><td>essex</td><td>sustained</td><td>recognize</td></tr>\n",
       "<tr><td>murray</td><td>weakening</td><td>projecting</td><td>jacksonville</td><td>nevertheless</td><td>justify</td><td>orleans</td><td>edmonton</td></tr>\n",
       "</table>"
      ],
      "text/plain": [
       "<Table length=12>\n",
       "   bit 9        bit 31        bit 21    ...     bit 5         bit 17  \n",
       "   str11        str14         str12     ...     str14         str11   \n",
       "----------- -------------- ------------ ... -------------- -----------\n",
       "     danger         device          eed ... responsibility    printing\n",
       "     object      recognize  consummated ...      weakening     analyze\n",
       "consummated responsibility      analyze ...      recognize      device\n",
       "     relate        analyze    recognize ...        analyze      dallas\n",
       "    hostile       printing       moines ...        edition    catalyst\n",
       "  weakening    undoubtedly cancellation ...           colo   exploring\n",
       "   cellular     describing    severance ...         sierra       proof\n",
       "   printing      existence         colo ...         eighth        elmd\n",
       " uneconomic     projecting    defensive ...         mature      object\n",
       "   edmonton      exploring          flo ...       incurred divestiture\n",
       "   catalyst         object         elmd ...      sustained   recognize\n",
       "     murray      weakening   projecting ...        orleans    edmonton"
      ]
     },
     "execution_count": 46,
     "metadata": {},
     "output_type": "execute_result"
    }
   ],
   "source": [
    "print(\"Reuters\")\n",
    "show_probable_words(12,8)"
   ]
  },
  {
   "cell_type": "code",
   "execution_count": 103,
   "metadata": {},
   "outputs": [
    {
     "name": "stdout",
     "output_type": "stream",
     "text": [
      "Reuters--collocations\n"
     ]
    },
    {
     "data": {
      "text/html": [
       "&lt;Table length=12&gt;\n",
       "<table id=\"table46914209142656\" class=\"table-striped table-bordered table-condensed\">\n",
       "<thead><tr><th>bit 10</th><th>bit 17</th><th>bit 30</th><th>bit 0</th><th>bit 2</th><th>bit 20</th><th>bit 23</th><th>bit 21</th></tr></thead>\n",
       "<thead><tr><th>str19</th><th>str22</th><th>str19</th><th>str19</th><th>str19</th><th>str19</th><th>str19</th><th>str19</th></tr></thead>\n",
       "<tr><td>company share</td><td>dlrs unit</td><td>fit</td><td>corp said board</td><td>corp said board</td><td>company share</td><td>corp said board</td><td>said pay</td></tr>\n",
       "<tr><td>corp said board</td><td>second largest</td><td>second largest</td><td>receive mln dlrs</td><td>dlrs unit</td><td>receive mln dlrs</td><td>dlrs unit</td><td>said planned</td></tr>\n",
       "<tr><td>manufacture</td><td>said pay</td><td>said pay</td><td>sustained</td><td>said pay</td><td>expected close</td><td>said pay</td><td>participate</td></tr>\n",
       "<tr><td>dlrs unit</td><td>dlrs worth</td><td>company share</td><td>dlrs unit</td><td>form new</td><td>said board approved</td><td>receive mln dlrs</td><td>shareholder company</td></tr>\n",
       "<tr><td>sale billion dlrs</td><td>receive mln dlrs</td><td>financially</td><td>expected close</td><td>said board approved</td><td>dlrs unit</td><td>salomon brother</td><td>stake company</td></tr>\n",
       "<tr><td>said pay</td><td>said make</td><td>stake company</td><td>fit</td><td>said considering</td><td>fit</td><td>said board approved</td><td>receive mln dlrs</td></tr>\n",
       "<tr><td>recommend</td><td>said considering</td><td>advise</td><td>shareholder company</td><td>dividend share</td><td>cheap</td><td>company share</td><td>company share</td></tr>\n",
       "<tr><td>shareholder company</td><td>told reuters interview</td><td>sale billion dlrs</td><td>close april</td><td>expected close</td><td>said pay</td><td>sale billion dlrs</td><td>corp said board</td></tr>\n",
       "<tr><td>announce</td><td>mln dlrs worth</td><td>expected result</td><td>payment said</td><td>rise dollar</td><td>corp said board</td><td>mob</td><td>holder record</td></tr>\n",
       "<tr><td>close april</td><td>participate</td><td>said board approved</td><td>mob</td><td>stake company</td><td>stake company</td><td>stake company</td><td>mln dlrs worth</td></tr>\n",
       "<tr><td>second largest</td><td>reuters interview</td><td>hostile</td><td>financially</td><td>second largest</td><td>foreseeable</td><td>production cost</td><td>receive mln</td></tr>\n",
       "<tr><td>limited partnership</td><td>said board approved</td><td>shareholder company</td><td>said make</td><td>data corp</td><td>foreseeable future</td><td>fit</td><td>said make</td></tr>\n",
       "</table>"
      ],
      "text/plain": [
       "<Table length=12>\n",
       "       bit 10               bit 17         ...        bit 21      \n",
       "       str19                str22          ...        str19       \n",
       "------------------- ---------------------- ... -------------------\n",
       "      company share              dlrs unit ...            said pay\n",
       "    corp said board         second largest ...        said planned\n",
       "        manufacture               said pay ...         participate\n",
       "          dlrs unit             dlrs worth ... shareholder company\n",
       "  sale billion dlrs       receive mln dlrs ...       stake company\n",
       "           said pay              said make ...    receive mln dlrs\n",
       "          recommend       said considering ...       company share\n",
       "shareholder company told reuters interview ...     corp said board\n",
       "           announce         mln dlrs worth ...       holder record\n",
       "        close april            participate ...      mln dlrs worth\n",
       "     second largest      reuters interview ...         receive mln\n",
       "limited partnership    said board approved ...           said make"
      ]
     },
     "execution_count": 103,
     "metadata": {},
     "output_type": "execute_result"
    }
   ],
   "source": [
    "print(\"Reuters--collocations\")\n",
    "show_probable_words(12,8)"
   ]
  },
  {
   "cell_type": "markdown",
   "metadata": {
    "collapsed": true
   },
   "source": [
    "En el dataset de *Reuters* el *bit* 31 alberga conceptos asociados a computadores, como lo son *device*, *analyze*, *printing*, *projecting*, *exploring* y *object*. "
   ]
  },
  {
   "cell_type": "code",
   "execution_count": 61,
   "metadata": {
    "scrolled": true
   },
   "outputs": [
    {
     "name": "stdout",
     "output_type": "stream",
     "text": [
      "Snippets\n"
     ]
    },
    {
     "data": {
      "text/html": [
       "&lt;Table length=12&gt;\n",
       "<table id=\"table140625236093024\" class=\"table-striped table-bordered table-condensed\">\n",
       "<thead><tr><th>bit 29</th><th>bit 25</th><th>bit 0</th><th>bit 30</th><th>bit 15</th><th>bit 24</th><th>bit 19</th><th>bit 4</th></tr></thead>\n",
       "<thead><tr><th>str12</th><th>str14</th><th>str12</th><th>str12</th><th>str12</th><th>str13</th><th>str12</th><th>str12</th></tr></thead>\n",
       "<tr><td>interaction</td><td>interaction</td><td>biogeography</td><td>emc</td><td>chamber</td><td>managing</td><td>gymnastics</td><td>biogeography</td></tr>\n",
       "<tr><td>biogeography</td><td>biogeography</td><td>interactive</td><td>investor</td><td>agency</td><td>biogeography</td><td>chamber</td><td>emc</td></tr>\n",
       "<tr><td>gymnastics</td><td>composer</td><td>composer</td><td>biogeography</td><td>patient</td><td>emc</td><td>biogeography</td><td>gymnastics</td></tr>\n",
       "<tr><td>requirement</td><td>radiology</td><td>gymnastics</td><td>requirement</td><td>biogeography</td><td>ecology</td><td>cam</td><td>interaction</td></tr>\n",
       "<tr><td>specializes</td><td>gymnastics</td><td>chamber</td><td>unl</td><td>emc</td><td>visualization</td><td>healthcare</td><td>beginner</td></tr>\n",
       "<tr><td>logo</td><td>patient</td><td>campus</td><td>chamber</td><td>cdc</td><td>lighting</td><td>focusing</td><td>consisting</td></tr>\n",
       "<tr><td>consisting</td><td>seattle</td><td>ballet</td><td>ecology</td><td>specializes</td><td>cable</td><td>cdc</td><td>newsday</td></tr>\n",
       "<tr><td>butler</td><td>creative</td><td>lesson</td><td>interaction</td><td>composer</td><td>credible</td><td>flat</td><td>unl</td></tr>\n",
       "<tr><td>emc</td><td>ballet</td><td>requirement</td><td>beginner</td><td>drama</td><td>interaction</td><td>interactive</td><td>historic</td></tr>\n",
       "<tr><td>beginner</td><td>strength</td><td>maa</td><td>wildlife</td><td>medicinenet</td><td>illustrated</td><td>ecology</td><td>composer</td></tr>\n",
       "<tr><td>ecology</td><td>cdc</td><td>emc</td><td>geographical</td><td>unl</td><td>reliable</td><td>coastal</td><td>instrument</td></tr>\n",
       "<tr><td>mile</td><td>recommendation</td><td>priority</td><td>tool</td><td>arizona</td><td>santa</td><td>ballet</td><td>maa</td></tr>\n",
       "</table>"
      ],
      "text/plain": [
       "<Table length=12>\n",
       "   bit 29        bit 25        bit 0     ...    bit 19       bit 4    \n",
       "   str12         str14         str12     ...    str12        str12    \n",
       "------------ -------------- ------------ ... ------------ ------------\n",
       " interaction    interaction biogeography ...   gymnastics biogeography\n",
       "biogeography   biogeography  interactive ...      chamber          emc\n",
       "  gymnastics       composer     composer ... biogeography   gymnastics\n",
       " requirement      radiology   gymnastics ...          cam  interaction\n",
       " specializes     gymnastics      chamber ...   healthcare     beginner\n",
       "        logo        patient       campus ...     focusing   consisting\n",
       "  consisting        seattle       ballet ...          cdc      newsday\n",
       "      butler       creative       lesson ...         flat          unl\n",
       "         emc         ballet  requirement ...  interactive     historic\n",
       "    beginner       strength          maa ...      ecology     composer\n",
       "     ecology            cdc          emc ...      coastal   instrument\n",
       "        mile recommendation     priority ...       ballet          maa"
      ]
     },
     "execution_count": 61,
     "metadata": {},
     "output_type": "execute_result"
    }
   ],
   "source": [
    "print(\"Snippets\")\n",
    "show_probable_words(12,8)"
   ]
  },
  {
   "cell_type": "code",
   "execution_count": 122,
   "metadata": {},
   "outputs": [
    {
     "name": "stdout",
     "output_type": "stream",
     "text": [
      "Snippets--collocations\n"
     ]
    },
    {
     "data": {
      "text/html": [
       "&lt;Table length=12&gt;\n",
       "<table id=\"table46913979862936\" class=\"table-striped table-bordered table-condensed\">\n",
       "<thead><tr><th>bit 17</th><th>bit 30</th><th>bit 9</th><th>bit 4</th><th>bit 15</th><th>bit 7</th><th>bit 18</th><th>bit 0</th></tr></thead>\n",
       "<thead><tr><th>str20</th><th>str9</th><th>str20</th><th>str10</th><th>str20</th><th>str20</th><th>str18</th><th>str20</th></tr></thead>\n",
       "<tr><td>indexed</td><td>flight</td><td>flight</td><td>abroad</td><td>nato</td><td>indexed</td><td>firm</td><td>unlimited</td></tr>\n",
       "<tr><td>treaty</td><td>real</td><td>search web</td><td>sql</td><td>indexed</td><td>jesus</td><td>indexed</td><td>firm</td></tr>\n",
       "<tr><td>firm</td><td>steam</td><td>treaty</td><td>real</td><td>search web</td><td>sql</td><td>unlimited</td><td>web browser</td></tr>\n",
       "<tr><td>accessibility</td><td>editing</td><td>web search</td><td>indexed</td><td>web search</td><td>columbia edu</td><td>web search</td><td>research development</td></tr>\n",
       "<tr><td>scholarly</td><td>firm</td><td>nato</td><td>issued</td><td>research development</td><td>manhattan</td><td>ticket information</td><td>academic research</td></tr>\n",
       "<tr><td>nato</td><td>chronicle</td><td>research development</td><td>applicant</td><td>research research</td><td>real</td><td>search web</td><td>flight</td></tr>\n",
       "<tr><td>counselor</td><td>scholarly</td><td>firm</td><td>firm</td><td>treaty</td><td>monthly magazine</td><td>btinternet</td><td>applicant</td></tr>\n",
       "<tr><td>link resource</td><td>issued</td><td>editing</td><td>unlimited</td><td>soldier</td><td>research development</td><td>wideless</td><td>conversion</td></tr>\n",
       "<tr><td>resource english</td><td>sql</td><td>sql</td><td>web search</td><td>tree</td><td>flight</td><td>manhattan</td><td>treaty</td></tr>\n",
       "<tr><td>web search</td><td>indexed</td><td>soldier</td><td>flight</td><td>btinternet</td><td>search web</td><td>federation</td><td>scholarly</td></tr>\n",
       "<tr><td>research development</td><td>paramount</td><td>indexed</td><td>nato int</td><td>ticket information</td><td>attraction</td><td>applicant</td><td>latin</td></tr>\n",
       "<tr><td>unlimited</td><td>fed</td><td>real</td><td>btinternet</td><td>paramount</td><td>wideless</td><td>counselor</td><td>wideless</td></tr>\n",
       "</table>"
      ],
      "text/plain": [
       "<Table length=12>\n",
       "       bit 17          bit 30  ...       bit 18              bit 0        \n",
       "       str20            str9   ...       str18               str20        \n",
       "-------------------- --------- ... ------------------ --------------------\n",
       "             indexed    flight ...               firm            unlimited\n",
       "              treaty      real ...            indexed                 firm\n",
       "                firm     steam ...          unlimited          web browser\n",
       "       accessibility   editing ...         web search research development\n",
       "           scholarly      firm ... ticket information    academic research\n",
       "                nato chronicle ...         search web               flight\n",
       "           counselor scholarly ...         btinternet            applicant\n",
       "       link resource    issued ...           wideless           conversion\n",
       "    resource english       sql ...          manhattan               treaty\n",
       "          web search   indexed ...         federation            scholarly\n",
       "research development paramount ...          applicant                latin\n",
       "           unlimited       fed ...          counselor             wideless"
      ]
     },
     "execution_count": 122,
     "metadata": {},
     "output_type": "execute_result"
    }
   ],
   "source": [
    "print(\"Snippets--collocations\")\n",
    "show_probable_words(12,8)"
   ]
  },
  {
   "cell_type": "markdown",
   "metadata": {
    "collapsed": true
   },
   "source": [
    "En el dataset de *Snippets* se puede ver por ejemplo que el *bit* 30 almacena conceptos como *ecology*, *geographical* y *wildlife*, pudiendo ser asociado a textos que hablen de la temática de fauna. El bit *25* contiene términos asociados a salud o deporte, como *radiology*, *gymnastics*, *patient* y *strength*."
   ]
  },
  {
   "cell_type": "markdown",
   "metadata": {},
   "source": [
    "## Trabajo Futuro\n",
    "Experimentar con redes recurrentes como el modelo de *encoder* y otra para el modelo de *decoder*/*generator*.\n",
    "\n",
    "### Referencias\n",
    "---\n",
    "[1] Salakhutdinov, R., & Hinton, G. (2009). *Semantic hashing*. International Journal of Approximate Reasoning, 50(7), 969-978.  \n",
    "[2] Chaidaroon, S., & Fang, Y. (2017, August). *Variational deep semantic hashing for text documents*. In Proceedings of the 40th International ACM SIGIR Conference on Research and Development in Information Retrieval (pp. 75-84). ACM.  \n",
    "[3] Chaidaroon, S., Ebesu, T., & Fang, Y. (2018). *Deep Semantic Text Hashing with Weak Supervision*. SIGIR.  \n",
    "[4] Maddison, C. J., Mnih, A., & Teh, Y. W. (2016). The concrete distribution: A continuous relaxation of discrete random variables. arXiv preprint arXiv:1611.00712.  \n",
    "[5] Jang, E., Gu, S., & Poole, B. (2016). *Categorical reparameterization with gumbel-softmax*. arXiv preprint arXiv:1611.01144."
   ]
  }
 ],
 "metadata": {
  "anaconda-cloud": {},
  "kernelspec": {
   "display_name": "Python [conda env:newpy3_tf1]",
   "language": "python",
   "name": "conda-env-newpy3_tf1-py"
  },
  "language_info": {
   "codemirror_mode": {
    "name": "ipython",
    "version": 3
   },
   "file_extension": ".py",
   "mimetype": "text/x-python",
   "name": "python",
   "nbconvert_exporter": "python",
   "pygments_lexer": "ipython3",
   "version": "3.6.10"
  }
 },
 "nbformat": 4,
 "nbformat_minor": 2
}
