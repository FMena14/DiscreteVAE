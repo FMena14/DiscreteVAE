{
 "cells": [
  {
   "cell_type": "markdown",
   "metadata": {},
   "source": [
    "<img src=\"http://www.exalumnos.usm.cl/wp-content/uploads/2015/06/Isotipo-Negro.gif\" title=\"Title text\" width=\"20%\" height=\"20%\" />\n",
    "\n",
    "\n",
    "<hr style=\"height:2px;border:none\"/>\n",
    "<h1 align='center'> Binary Variational Semantic Hashing </h1>\n",
    "\n",
    "<H3 align='center'> INF-483 Recuperación de Información/Text Mining 2018-2</H3>\n",
    "<hr style=\"height:2px;border:none\"/>\n",
    "\n",
    "\n",
    "<img src=\"https://i.imgur.com/qhcBPAS.png\" title=\"Title text\"  width=\"50%\" style=\"float: right;\" />\n",
    "\n",
    "\n",
    "> ** Nombre:** Francisco Mena  \n",
    "> ** Rol **: 201373504-5  \n",
    "> **Fecha**: 15/01\n",
    "---\n",
    "\n",
    "Encontrar/Recuperar objetos similares dada un objeto como consulta (*content-based retrieval*) utilizando *hashing* semántico para acelerar la búsqueda. La idea es asignar códigos binarios compactos (de baja dimensionalidad) a cada objeto), la propiedad semántica es para que objetos semánticamente similares generen códigos similares en el espacio de *Hamming*.\n",
    "\n",
    "\n",
    "**Objetivo**: Mejorar el aprendizaje no supervisado de *hashing* semántico a través de un modelo probabilista que se adapte correctamente a la necesidad de generar códigos binarios\n",
    "\n",
    "**Técnica**: *Variational Autoencoder* (VAE)\n",
    "\n",
    "\n",
    "Utilizando el *reparameterization trick*:\n",
    "* https://github.com/EderSantana/gumbel/\n",
    "* https://github.com/EmilienDupont/vae-concrete\n",
    "\n",
    "En primer lugar se cargan las librerías a utilizar."
   ]
  },
  {
   "cell_type": "code",
   "execution_count": 1,
   "metadata": {
    "collapsed": false
   },
   "outputs": [
    {
     "name": "stderr",
     "output_type": "stream",
     "text": [
      "Using TensorFlow backend.\n"
     ]
    },
    {
     "name": "stdout",
     "output_type": "stream",
     "text": [
      "[nltk_data] Downloading package reuters to /users/fmena/nltk_data...\n",
      "[nltk_data]   Package reuters is already up-to-date!\n",
      "[nltk_data] Downloading package wordnet to /users/fmena/nltk_data...\n",
      "[nltk_data]   Unzipping corpora/wordnet.zip.\n"
     ]
    }
   ],
   "source": [
    "import numpy as np\n",
    "import keras,gc,nltk\n",
    "from keras.layers import *\n",
    "from keras.models import Sequential,Model\n",
    "from keras import backend as K\n",
    "from astropy.table import Table\n",
    "import matplotlib.pyplot as plt\n",
    "import seaborn as sns\n",
    "import pandas as pd\n",
    "nltk.download('reuters')\n",
    "nltk.download('wordnet')\n",
    "%matplotlib inline\n",
    "\n",
    "from base_networks import *"
   ]
  },
  {
   "cell_type": "markdown",
   "metadata": {},
   "source": [
    "## Load Data\n",
    "\n",
    "### 20 Newsgroup\n",
    "---\n",
    "\n",
    "Utilizado en trabajos previos de *Hashing* de texto (http://people.csail.mit.edu/jrennie/20Newsgroups), también disponible en **sklearn**. El dataset contiene textos de usuarios asociados a temáticas de noticias etiquetados como pertenenciente a uno de 20 grupos de noticias, el detalle de los conjuntos se detalla a continuación:\n",
    "\n",
    "|Tipo set|Datos|Label|\n",
    "|---|---|---|\n",
    "|Entrenamiento|11.314|20|\n",
    "|Pruebas|7.532|20|"
   ]
  },
  {
   "cell_type": "code",
   "execution_count": 104,
   "metadata": {
    "collapsed": false
   },
   "outputs": [
    {
     "name": "stdout",
     "output_type": "stream",
     "text": [
      "Datos de entrenamiento:  (11314,)\n",
      "Datos de prueba:  (7532,)\n"
     ]
    }
   ],
   "source": [
    "from sklearn.datasets import fetch_20newsgroups\n",
    "newsgroups_t = fetch_20newsgroups(subset='train')\n",
    "newsgroups_test = fetch_20newsgroups(subset='test')\n",
    "labels = newsgroups_t.target_names\n",
    "\n",
    "texts_t = newsgroups_t.data\n",
    "y_t = newsgroups_t.target\n",
    "labels_t = [labels[valor] for valor in y_t]\n",
    "\n",
    "texts_test = newsgroups_test.data\n",
    "y_test = newsgroups_test.target\n",
    "labels_test = [labels[valor] for valor in y_test]\n",
    "\n",
    "print(\"Datos de entrenamiento: \",y_t.shape)\n",
    "print(\"Datos de prueba: \",y_test.shape)"
   ]
  },
  {
   "cell_type": "code",
   "execution_count": 6,
   "metadata": {
    "collapsed": false
   },
   "outputs": [
    {
     "data": {
      "text/plain": [
       "['alt.atheism',\n",
       " 'comp.graphics',\n",
       " 'comp.os.ms-windows.misc',\n",
       " 'comp.sys.ibm.pc.hardware',\n",
       " 'comp.sys.mac.hardware',\n",
       " 'comp.windows.x',\n",
       " 'misc.forsale',\n",
       " 'rec.autos',\n",
       " 'rec.motorcycles',\n",
       " 'rec.sport.baseball',\n",
       " 'rec.sport.hockey',\n",
       " 'sci.crypt',\n",
       " 'sci.electronics',\n",
       " 'sci.med',\n",
       " 'sci.space',\n",
       " 'soc.religion.christian',\n",
       " 'talk.politics.guns',\n",
       " 'talk.politics.mideast',\n",
       " 'talk.politics.misc',\n",
       " 'talk.religion.misc']"
      ]
     },
     "execution_count": 6,
     "metadata": {},
     "output_type": "execute_result"
    }
   ],
   "source": [
    "labels"
   ]
  },
  {
   "cell_type": "markdown",
   "metadata": {},
   "source": [
    "Anteriormente se presentan los 20 posibles grupos de las noticias, algunos ejemplos de texto se muestran a continuacion:"
   ]
  },
  {
   "cell_type": "code",
   "execution_count": 108,
   "metadata": {
    "collapsed": false,
    "scrolled": true
   },
   "outputs": [
    {
     "name": "stdout",
     "output_type": "stream",
     "text": [
      "From: lerxst@wam.umd.edu (where's my thing)\n",
      "Subject: WHAT car is this!?\n",
      "Nntp-Posting-Host: rac3.wam.umd.edu\n",
      "Organization: University of Maryland, College Park\n",
      "Lines: 15\n",
      "\n",
      " I was wondering if anyone out there could enlighten me on this car I saw\n",
      "the other day. It was a 2-door sports car, looked to be from the late 60s/\n",
      "early 70s. It was called a Bricklin. The doors were really small. In addition,\n",
      "the front bumper was separate from the rest of the body. This is \n",
      "all I know. If anyone can tellme a model name, engine specs, years\n",
      "of production, where this car is made, history, or whatever info you\n",
      "have on this funky looking car, please e-mail.\n",
      "\n",
      "Thanks,\n",
      "- IL\n",
      "   ---- brought to you by your neighborhood Lerxst ----\n",
      "\n",
      "\n",
      "\n",
      "\n",
      "\n"
     ]
    },
    {
     "data": {
      "image/png": "[encoded data removed]",
      "text/plain": [
       "<matplotlib.figure.Figure at 0x7f8a670e45f8>"
      ]
     },
     "metadata": {},
     "output_type": "display_data"
    }
   ],
   "source": [
    "print(texts_t[0])\n",
    "sns.boxplot(list(map(len,[texto.split(' ') for texto in texts_t])))\n",
    "plt.title(\"Boxplot de cantidad de palabras por texto\")\n",
    "plt.show()"
   ]
  },
  {
   "cell_type": "code",
   "execution_count": 112,
   "metadata": {
    "collapsed": false
   },
   "outputs": [
    {
     "name": "stdout",
     "output_type": "stream",
     "text": [
      "Done!\n"
     ]
    }
   ],
   "source": [
    "## specific clean on this dataset:\n",
    "headers_to_save = [\"Subject\",\"Summary\",\"Organization\",\"Keywords\"]\n",
    "\n",
    "def clean_20news(textos):\n",
    "    aux = []\n",
    "    for textito in textos:\n",
    "        header,texto = textito.split(\"\\n\\n\",1)\n",
    "\n",
    "        #dic = {line.split(\": \")[0]:line.split(\": \")[1] for line in header.split(\"\\n\") }\n",
    "        dic = {}\n",
    "        for line in header.split(\"\\n\"):\n",
    "            try:\n",
    "                a,b = line.split(\": \",1)\n",
    "                dic[a] = b\n",
    "            except:\n",
    "                continue\n",
    "        to_add = \"\"\n",
    "        for t in headers_to_save:\n",
    "            try:\n",
    "                to_add += dic[t] +\". \"\n",
    "            except:\n",
    "                continue\n",
    "        aux.append(to_add+texto)\n",
    "    return aux\n",
    "texts_t = clean_20news(texts_t)\n",
    "texts_test = clean_20news(texts_test)\n",
    "print(\"Done!\")"
   ]
  },
  {
   "cell_type": "markdown",
   "metadata": {},
   "source": [
    "Es el dataset con los documentos más extensos en información o textos, lo que podría ser un indicador que es el más difícil ya que se deberá comprimir toda la información presente en estos textos.\n",
    "\n",
    "### Reuters21578\n",
    "---\n",
    "Similar a 20NewsGroup es un datataset de textos de noticias del periodico de Reuters en 1987, citado también en el estado del arte (https://www.nltk.org/book/ch02.html) y disponible en la librería **nltk**. El detalle de los conjuntos se muestra a continuación:\n",
    "\n",
    "|Tipo set|Datos|Label|\n",
    "|---|---|---|\n",
    "|Entrenamiento|7.769|90|\n",
    "|Pruebas|3.019|90|\n",
    "\n",
    "Los documentos pueden pertenecer a **múltiples tópicos** dentro de 90 disponibles en el dataset manualmente etiquetadas, ésto es porque un texto asociado a una noticia puede hablar de varios tópicos a la vez. "
   ]
  },
  {
   "cell_type": "code",
   "execution_count": 89,
   "metadata": {
    "collapsed": false
   },
   "outputs": [
    {
     "name": "stdout",
     "output_type": "stream",
     "text": [
      "10788 documents\n",
      "7769 total training documents\n",
      "3019 total test documents\n"
     ]
    }
   ],
   "source": [
    "from nltk.corpus import reuters\n",
    "documents_stat = reuters.fileids()\n",
    "print(str(len(documents_stat)) + \" documents\")\n",
    "\n",
    "train_docs_stat = list(filter(lambda doc: doc.startswith(\"train\"), documents_stat))\n",
    "print(str(len(train_docs_stat)) + \" total training documents\")\n",
    "test_docs_stat = list(filter(lambda doc: doc.startswith(\"test\"), documents_stat))\n",
    "print(str(len(test_docs_stat)) + \" total test documents\")\n",
    "\n",
    "texts_t = [reuters.raw(archivo) for archivo in train_docs_stat]\n",
    "labels_t = [reuters.categories(archivo) for archivo in train_docs_stat]\n",
    "\n",
    "texts_test = [reuters.raw(archivo) for archivo in test_docs_stat]\n",
    "labels_test = [reuters.categories(archivo) for archivo in test_docs_stat]"
   ]
  },
  {
   "cell_type": "code",
   "execution_count": 90,
   "metadata": {
    "collapsed": false,
    "scrolled": true
   },
   "outputs": [
    {
     "data": {
      "text/plain": [
       "['acq',\n",
       " 'alum',\n",
       " 'barley',\n",
       " 'bop',\n",
       " 'carcass',\n",
       " 'castor-oil',\n",
       " 'cocoa',\n",
       " 'coconut',\n",
       " 'coconut-oil',\n",
       " 'coffee',\n",
       " 'copper',\n",
       " 'copra-cake',\n",
       " 'corn',\n",
       " 'cotton',\n",
       " 'cotton-oil',\n",
       " 'cpi',\n",
       " 'cpu',\n",
       " 'crude',\n",
       " 'dfl',\n",
       " 'dlr',\n",
       " 'dmk',\n",
       " 'earn',\n",
       " 'fuel',\n",
       " 'gas',\n",
       " 'gnp',\n",
       " 'gold',\n",
       " 'grain',\n",
       " 'groundnut',\n",
       " 'groundnut-oil',\n",
       " 'heat',\n",
       " 'hog',\n",
       " 'housing',\n",
       " 'income',\n",
       " 'instal-debt',\n",
       " 'interest',\n",
       " 'ipi',\n",
       " 'iron-steel',\n",
       " 'jet',\n",
       " 'jobs',\n",
       " 'l-cattle',\n",
       " 'lead',\n",
       " 'lei',\n",
       " 'lin-oil',\n",
       " 'livestock',\n",
       " 'lumber',\n",
       " 'meal-feed',\n",
       " 'money-fx',\n",
       " 'money-supply',\n",
       " 'naphtha',\n",
       " 'nat-gas',\n",
       " 'nickel',\n",
       " 'nkr',\n",
       " 'nzdlr',\n",
       " 'oat',\n",
       " 'oilseed',\n",
       " 'orange',\n",
       " 'palladium',\n",
       " 'palm-oil',\n",
       " 'palmkernel',\n",
       " 'pet-chem',\n",
       " 'platinum',\n",
       " 'potato',\n",
       " 'propane',\n",
       " 'rand',\n",
       " 'rape-oil',\n",
       " 'rapeseed',\n",
       " 'reserves',\n",
       " 'retail',\n",
       " 'rice',\n",
       " 'rubber',\n",
       " 'rye',\n",
       " 'ship',\n",
       " 'silver',\n",
       " 'sorghum',\n",
       " 'soy-meal',\n",
       " 'soy-oil',\n",
       " 'soybean',\n",
       " 'strategic-metal',\n",
       " 'sugar',\n",
       " 'sun-meal',\n",
       " 'sun-oil',\n",
       " 'sunseed',\n",
       " 'tea',\n",
       " 'tin',\n",
       " 'trade',\n",
       " 'veg-oil',\n",
       " 'wheat',\n",
       " 'wpi',\n",
       " 'yen',\n",
       " 'zinc']"
      ]
     },
     "execution_count": 90,
     "metadata": {},
     "output_type": "execute_result"
    }
   ],
   "source": [
    "labels = reuters.categories()\n",
    "labels"
   ]
  },
  {
   "cell_type": "code",
   "execution_count": 110,
   "metadata": {
    "collapsed": false,
    "scrolled": true
   },
   "outputs": [
    {
     "name": "stdout",
     "output_type": "stream",
     "text": [
      "BAHIA COCOA REVIEW\n",
      "  Showers continued throughout the week in\n",
      "  the Bahia cocoa zone, alleviating the drought since early\n",
      "  January and improving prospects for the coming temporao,\n",
      "  although normal humidity levels have not been restored,\n",
      "  Comissaria Smith said in its weekly review.\n",
      "      The dry period means the temporao will be late this year.\n",
      "      Arrivals for the week ended February 22 were 155,221 bags\n",
      "  of 60 kilos making a cumulative total for the season of 5.93\n",
      "  mln against 5.81 at the same stage last year. Again it seems\n",
      "  that cocoa delivered earlier on consignment was included in the\n",
      "  arrivals figures.\n",
      "      Comissaria Smith said there is still some doubt as to how\n",
      "  much old crop cocoa is still available as harvesting has\n",
      "  practically come to an end. With total Bahia crop estimates\n",
      "  around 6.4 mln bags and sales standing at almost 6.2 mln there\n",
      "  are a few hundred thousand bags still in the hands of farmers,\n",
      "  middlemen, exporters and processors.\n",
      "      There are doubts as to how much of this cocoa would be fit\n",
      "  for export as shippers are now experiencing dificulties in\n",
      "  obtaining +Bahia superior+ certificates.\n",
      "      In view of the lower quality over recent weeks farmers have\n",
      "  sold a good part of their cocoa held on consignment.\n",
      "      Comissaria Smith said spot bean prices rose to 340 to 350\n",
      "  cruzados per arroba of 15 kilos.\n",
      "      Bean shippers were reluctant to offer nearby shipment and\n",
      "  only limited sales were booked for March shipment at 1,750 to\n",
      "  1,780 dlrs per tonne to ports to be named.\n",
      "      New crop sales were also light and all to open ports with\n",
      "  June/July going at 1,850 and 1,880 dlrs and at 35 and 45 dlrs\n",
      "  under New York july, Aug/Sept at 1,870, 1,875 and 1,880 dlrs\n",
      "  per tonne FOB.\n",
      "      Routine sales of butter were made. March/April sold at\n",
      "  4,340, 4,345 and 4,350 dlrs.\n",
      "      April/May butter went at 2.27 times New York May, June/July\n",
      "  at 4,400 and 4,415 dlrs, Aug/Sept at 4,351 to 4,450 dlrs and at\n",
      "  2.27 and 2.28 times New York Sept and Oct/Dec at 4,480 dlrs and\n",
      "  2.27 times New York Dec, Comissaria Smith said.\n",
      "      Destinations were the U.S., Covertible currency areas,\n",
      "  Uruguay and open ports.\n",
      "      Cake sales were registered at 785 to 995 dlrs for\n",
      "  March/April, 785 dlrs for May, 753 dlrs for Aug and 0.39 times\n",
      "  New York Dec for Oct/Dec.\n",
      "      Buyers were the U.S., Argentina, Uruguay and convertible\n",
      "  currency areas.\n",
      "      Liquor sales were limited with March/April selling at 2,325\n",
      "  and 2,380 dlrs, June/July at 2,375 dlrs and at 1.25 times New\n",
      "  York July, Aug/Sept at 2,400 dlrs and at 1.25 times New York\n",
      "  Sept and Oct/Dec at 1.25 times New York Dec, Comissaria Smith\n",
      "  said.\n",
      "      Total Bahia sales are currently estimated at 6.13 mln bags\n",
      "  against the 1986/87 crop and 1.06 mln bags against the 1987/88\n",
      "  crop.\n",
      "      Final figures for the period to February 28 are expected to\n",
      "  be published by the Brazilian Cocoa Trade Commission after\n",
      "  carnival which ends midday on February 27.\n",
      "  \n",
      "\n",
      "\n"
     ]
    },
    {
     "data": {
      "image/png": "[encoded data removed]",
      "text/plain": [
       "<matplotlib.figure.Figure at 0x7f8a670f2588>"
      ]
     },
     "metadata": {},
     "output_type": "display_data"
    }
   ],
   "source": [
    "print(texts_t[0])\n",
    "\n",
    "sns.boxplot(list(map(len,[texto.split(' ') for texto in texts_t])))\n",
    "plt.title(\"Boxplot de cantidad de palabras por texto\")\n",
    "plt.show()"
   ]
  },
  {
   "cell_type": "code",
   "execution_count": 47,
   "metadata": {
    "collapsed": false
   },
   "outputs": [
    {
     "data": {
      "text/plain": [
       "[['cocoa'],\n",
       " ['acq'],\n",
       " ['money-supply'],\n",
       " ['acq'],\n",
       " ['earn'],\n",
       " ['earn'],\n",
       " ['acq', 'trade'],\n",
       " ['earn'],\n",
       " ['crude', 'nat-gas'],\n",
       " ['cocoa', 'coffee', 'sugar']]"
      ]
     },
     "execution_count": 47,
     "metadata": {},
     "output_type": "execute_result"
    }
   ],
   "source": [
    "labels_t[:10]"
   ]
  },
  {
   "cell_type": "markdown",
   "metadata": {},
   "source": [
    "El dataset anterior también es extenso en sus documentos pero no tan extremo como 20 Newsgroup.\n",
    "\n",
    "### SearchSnipet\n",
    "---\n",
    "Dataset de Google search *snippets*-- pequeñas porciones de texto que le dan a usuarios una idea de lo que hay en el sitio web en el buscador de Google. Pertenecientes a 8 clases únicas (dominio). Disponibles a través de http://jwebpro.sourceforge.net/data-web-snippets.tar.gz.\n",
    "\n",
    "\n",
    "|Tipo set|Datos|Label|\n",
    "|---|---|---|\n",
    "|Entrenamiento|10.060|8|\n",
    "|Pruebas|2.280|8|"
   ]
  },
  {
   "cell_type": "code",
   "execution_count": 113,
   "metadata": {
    "collapsed": false
   },
   "outputs": [
    {
     "name": "stdout",
     "output_type": "stream",
     "text": [
      "Datos de entrenamiento:  10060\n",
      "Datos de pruebas:  2280\n"
     ]
    }
   ],
   "source": [
    "def read_file(archivo,symb=' '):\n",
    "    with open(archivo,'r') as f:\n",
    "        lineas = f.readlines()\n",
    "        tokens_f = [linea.strip().split(symb) for linea in lineas]\n",
    "        labels = [tokens[-1] for tokens in tokens_f]\n",
    "        tokens = [' '.join(tokens[:-1]) for tokens in tokens_f]\n",
    "    return labels,tokens\n",
    "labels_t,texts_t = read_file(\"Data/data-web-snippets/train.txt\")\n",
    "labels_test,texts_test = read_file(\"Data/data-web-snippets/test.txt\")\n",
    "print(\"Datos de entrenamiento: \",len(texts_t))\n",
    "print(\"Datos de pruebas: \",len(texts_test))"
   ]
  },
  {
   "cell_type": "code",
   "execution_count": 114,
   "metadata": {
    "collapsed": false,
    "scrolled": true
   },
   "outputs": [
    {
     "data": {
      "text/plain": [
       "['business',\n",
       " 'engineering',\n",
       " 'education-science',\n",
       " 'culture-arts-entertainment',\n",
       " 'sports',\n",
       " 'health',\n",
       " 'politics-society',\n",
       " 'computers']"
      ]
     },
     "execution_count": 114,
     "metadata": {},
     "output_type": "execute_result"
    }
   ],
   "source": [
    "labels = list(set(labels_t))\n",
    "labels"
   ]
  },
  {
   "cell_type": "code",
   "execution_count": 112,
   "metadata": {
    "collapsed": false
   },
   "outputs": [
    {
     "name": "stdout",
     "output_type": "stream",
     "text": [
      "europa enterprise pharmaceuticals eudralex homev eudralex volume medicinal products human veterinary annex manufacture biological medicinal products human annex manufacture products human blood human plasma\n"
     ]
    },
    {
     "data": {
      "image/png": "[encoded data removed]",
      "text/plain": [
       "<matplotlib.figure.Figure at 0x7f8a671b17f0>"
      ]
     },
     "metadata": {},
     "output_type": "display_data"
    }
   ],
   "source": [
    "print(texts_t[10])\n",
    "\n",
    "sns.boxplot(list(map(len,[texto.split(' ') for texto in texts_t])))\n",
    "plt.title(\"Boxplot de cantidad de palabras por texto\")\n",
    "plt.show()"
   ]
  },
  {
   "cell_type": "markdown",
   "metadata": {},
   "source": [
    "### Reuters Corpus Volume 1\n",
    "---\n",
    "Corpus de Reuters extendido, con los 103 tópicos originales. Disponible en trabajos previos (https://www.csie.ntu.edu.tw/~cjlin/libsvmtools/datasets/multilabel.html) y a través de **sklearn** (https://scikit-learn.org/0.17/datasets/rcv1.html). La representación son las *features* ya extraídas.\n",
    "\n",
    "|Tipo set|Datos|Label|\n",
    "|---|---|---|\n",
    "|Entrenamiento|23.149|103|\n",
    "|Pruebas|781.265|103|\n",
    "\n",
    "Representación de **sklearn** viene pre-procesada con la transformación logarítmica de TF-IDF."
   ]
  },
  {
   "cell_type": "code",
   "execution_count": 2,
   "metadata": {
    "collapsed": false
   },
   "outputs": [
    {
     "data": {
      "text/plain": [
       "<23149x47236 sparse matrix of type '<class 'numpy.float64'>'\n",
       "\twith 1757801 stored elements in Compressed Sparse Row format>"
      ]
     },
     "execution_count": 2,
     "metadata": {},
     "output_type": "execute_result"
    }
   ],
   "source": [
    "from sklearn.datasets import fetch_rcv1\n",
    "rcv1_train = fetch_rcv1(subset='train')\n",
    "rcv1_test = fetch_rcv1(subset='test')\n",
    "X_train = rcv1_train.data\n",
    "y_train = rcv1_train.target\n",
    "X_test = rcv1_test.data\n",
    "y_test = rcv1_test.target\n",
    "labels = rcv1_train.target_names\n",
    "\n",
    "X_train"
   ]
  },
  {
   "cell_type": "code",
   "execution_count": 3,
   "metadata": {
    "collapsed": false
   },
   "outputs": [
    {
     "data": {
      "text/plain": [
       "(781265, 103)"
      ]
     },
     "execution_count": 3,
     "metadata": {},
     "output_type": "execute_result"
    }
   ],
   "source": [
    "y_test.shape"
   ]
  },
  {
   "cell_type": "markdown",
   "metadata": {},
   "source": [
    "### Validation creation"
   ]
  },
  {
   "cell_type": "code",
   "execution_count": 115,
   "metadata": {
    "collapsed": false
   },
   "outputs": [
    {
     "name": "stdout",
     "output_type": "stream",
     "text": [
      "Cantidad de datos Entrenamiento:  7545\n",
      "Cantidad de datos Validación:  2515\n",
      "Cantidad de datos Pruebas:  2280\n"
     ]
    }
   ],
   "source": [
    "from sklearn.model_selection import train_test_split\n",
    "labels_t = np.asarray(labels_t)\n",
    "labels_test = np.asarray(labels_test)\n",
    "texts_train,texts_val,labels_train,labels_val  = train_test_split(texts_t,labels_t,random_state=20,test_size=0.25)\n",
    "print(\"Cantidad de datos Entrenamiento: \",len(texts_train))\n",
    "print(\"Cantidad de datos Validación: \",len(texts_val))\n",
    "print(\"Cantidad de datos Pruebas: \",len(texts_test))"
   ]
  },
  {
   "cell_type": "markdown",
   "metadata": {},
   "source": [
    "## Pre-process\n",
    "---\n",
    "Para obtener la representación de los datos, en primer lugar se normalizan con experimentar dos tipos de pre-procesamiento:\n",
    "\n",
    "1. El primero es el siguiente (Basado en Deep Semantic Hashing)\n",
    "    * Pasar letras a minúsculas\n",
    "    * Eliminar extra espacios (saltos de línea por ejemplo)\n",
    "    * Remover stop words\n",
    "    * Borrar todo lo que no sea letras (eliminar números y puntuaciones)\n",
    "    * Conservar las top $k$ palabras/*tokens* más frecuentes\n",
    "2. El segundo añade lo siguiente (Basado en Semantic Hashing)\n",
    "    * Se realiza un *stemming* (Snowball) -- Lemmatization\n",
    "    * Remover palabras de menos de 3 largo\n",
    "\n",
    "\n",
    "Para la representación vectorial se utiliza lo siguiente:\n",
    "* TF-IDF: \n",
    "$$ w_f(d) \\cdot \\left(1 + log\\left( \\frac{1+n_d}{1+df_w} \\right) \\right)$$\n",
    "* **TF (*term frequency*)**: $$ w_f(d) $$\n",
    "* Binary: $$I(w_f(d) \\neq 0)$$\n",
    "\n",
    "La representación *term frequency* es la que se toma como base, puesto que resulta natural al momento de reconstruir el dato y poder utilizar la función de pérdida *cross entropy*. Ya que para la representación *tf-idf* requeriría una función de pérdida adecuada para variable continua, que podría ser *mse*."
   ]
  },
  {
   "cell_type": "code",
   "execution_count": 116,
   "metadata": {
    "collapsed": false,
    "scrolled": true
   },
   "outputs": [
    {
     "name": "stdout",
     "output_type": "stream",
     "text": [
      "CPU times: user 2.22 s, sys: 832 µs, total: 2.22 s\n",
      "Wall time: 2.22 s\n",
      "CPU times: user 2.25 s, sys: 4.71 ms, total: 2.26 s\n",
      "Wall time: 2.26 s\n"
     ]
    },
    {
     "data": {
      "text/plain": [
       "(7545, 10000)"
      ]
     },
     "execution_count": 116,
     "metadata": {},
     "output_type": "execute_result"
    }
   ],
   "source": [
    "from sklearn.feature_extraction.text import TfidfVectorizer\n",
    "from nltk.stem.snowball import SnowballStemmer\n",
    "from nltk.stem import WordNetLemmatizer \n",
    "#analyzer = TfidfVectorizer(ngram_range=(1, 3)).build_analyzer()\n",
    "tokenizer = TfidfVectorizer().build_tokenizer()\n",
    "stemmer = SnowballStemmer(\"english\") \n",
    "lemmatizer = WordNetLemmatizer()\n",
    "\n",
    "\"\"\"Extract features from raw input\"\"\"\n",
    "def preProcess(s): #String processor\n",
    "    return s.lower().strip().strip('-').strip('_')\n",
    "def number_normalize(doc):\n",
    "    results = []\n",
    "    for token in tokenizer(doc):\n",
    "        token_pro = preProcess(token)\n",
    "        if len(token_pro) != 0 and not token_pro[0].isdigit():\n",
    "            results.append(token_pro)\n",
    "    return results\n",
    "def stemmed_words(doc):\n",
    "    results = []\n",
    "    for token in tokenizer(doc):\n",
    "        pre_pro = preProcess(token)\n",
    "        #token_pro = stemmer.stem(pre_pro) #aumenta x10 el tiempo de procesamiento\n",
    "        token_pro = lemmatizer.lemmatize(pre_pro) #so can explain/interpretae -- aumenta x5 el tiempo de proce\n",
    "        if len(token_pro) > 2 and not token_pro[0].isdigit(): #elimina palabra largo menor a 2\n",
    "            results.append(token_pro)\n",
    "    return results\n",
    "\n",
    "def get_transform_representation(mode, analizer,min_count,max_feat):\n",
    "    smooth_idf_b = False\n",
    "    use_idf_b = False\n",
    "    binary_b = False\n",
    "\n",
    "    if mode == 'binary':\n",
    "        binary_b = True\n",
    "    elif mode == 'tf':     \n",
    "        pass #default is tf\n",
    "    elif mode == 'tf-idf':\n",
    "        use_idf_b = True\n",
    "        smooth_idf_b = True #inventa 1 conteo imaginario (como priors)--laplace smoothing\n",
    "    return TfidfVectorizer(stop_words='english',tokenizer=analizer,min_df=min_count, max_df=0.8, max_features=max_feat\n",
    "                                ,binary=binary_b, use_idf=use_idf_b, smooth_idf=smooth_idf_b,norm=None\n",
    "                                  ,ngram_range=(1, 3)) \n",
    "\n",
    "min_count = 1 #default = 1\n",
    "max_feat = 10000 #Best: 10000 -- Hinton (2000)\n",
    "\n",
    "\n",
    "vectorizer = get_transform_representation(\"tf\", stemmed_words,min_count,max_feat)\n",
    "\n",
    "%time vectorizer.fit(texts_train)\n",
    "vectors_train = vectorizer.transform(texts_train)\n",
    "vectors_val = vectorizer.transform(texts_val)\n",
    "vectors_test = vectorizer.transform(texts_test)\n",
    "\n",
    "vectorizer2 = get_transform_representation(\"tf-idf\", stemmed_words,min_count,max_feat)\n",
    "\n",
    "%time vectorizer2.fit(texts_train)\n",
    "vectors_train2 = vectorizer2.transform(texts_train)\n",
    "vectors_val2 = vectorizer2.transform(texts_val)\n",
    "vectors_test2 = vectorizer2.transform(texts_test)\n",
    "vectors_train.shape"
   ]
  },
  {
   "cell_type": "markdown",
   "metadata": {},
   "source": [
    "En la celda anterior se calculan dos representaciones deseables de los datos, *term frequency* y *tf-idf*. A continuación se muestra cómo quedó el vocabulario."
   ]
  },
  {
   "cell_type": "code",
   "execution_count": 117,
   "metadata": {
    "collapsed": false,
    "scrolled": true
   },
   "outputs": [
    {
     "data": {
      "text/plain": [
       "{9521: 'virginia',\n",
       " 2766: 'edu',\n",
       " 1937: 'culture',\n",
       " 2894: 'electronic',\n",
       " 4906: 'journal',\n",
       " 4687: 'interdisciplinary',\n",
       " 1782: 'contemporary',\n",
       " 7216: 'published',\n",
       " 4896: 'john',\n",
       " 4314: 'hopkins',\n",
       " 9360: 'university',\n",
       " 8720: 'subscription',\n",
       " 9522: 'virginia edu',\n",
       " 1954: 'culture electronic',\n",
       " 2899: 'electronic journal',\n",
       " 4897: 'john hopkins',\n",
       " 4315: 'hopkins university',\n",
       " 4898: 'john hopkins university',\n",
       " 6475: 'paint',\n",
       " 4551: 'information',\n",
       " 9188: 'trend',\n",
       " 1202: 'cause',\n",
       " 8444: 'solution',\n",
       " 7412: 'recommendation',\n",
       " 6478: 'painting',\n",
       " 8759: 'surface',\n",
       " 2128: 'decorative',\n",
       " 8871: 'technique',\n",
       " 3278: 'faq',\n",
       " 3842: 'glossary',\n",
       " 2259: 'description',\n",
       " 4774: 'ipl',\n",
       " 2477: 'div',\n",
       " 8712: 'subject',\n",
       " 933: 'browse',\n",
       " 4361: 'hum',\n",
       " 4712: 'internet',\n",
       " 7202: 'public',\n",
       " 5127: 'library',\n",
       " 5207: 'literature',\n",
       " 2253: 'depth',\n",
       " 2137: 'definition',\n",
       " 7225: 'pulp',\n",
       " 3342: 'fiction',\n",
       " 1283: 'character',\n",
       " 9485: 'version',\n",
       " 4775: 'ipl div',\n",
       " 2478: 'div subject',\n",
       " 8713: 'subject browse',\n",
       " 4723: 'internet public',\n",
       " 7206: 'public library',\n",
       " 7226: 'pulp fiction',\n",
       " 4776: 'ipl div subject',\n",
       " 2479: 'div subject browse',\n",
       " 4724: 'internet public library',\n",
       " 1429: 'cmu',\n",
       " 803: 'body',\n",
       " 1403: 'client',\n",
       " 8172: 'server',\n",
       " 8424: 'software',\n",
       " 382: 'architecture',\n",
       " 6440: 'overview',\n",
       " 7432: 'reference',\n",
       " 6613: 'personal',\n",
       " 1653: 'computer',\n",
       " 6021: 'network',\n",
       " 5736: 'model',\n",
       " 1430: 'cmu edu',\n",
       " 1404: 'client server',\n",
       " 6614: 'personal computer',\n",
       " 1676: 'computer network',\n",
       " 8998: 'thinkquest',\n",
       " 9515: 'violin',\n",
       " 4424: 'illustrates',\n",
       " 4256: 'history',\n",
       " 1638: 'composer',\n",
       " 6779: 'playing',\n",
       " 3261: 'family',\n",
       " 7970: 'science',\n",
       " 5138: 'library thinkquest',\n",
       " 9760: 'wikipedia',\n",
       " 9743: 'wiki',\n",
       " 4691: 'international',\n",
       " 9113: 'trade',\n",
       " 2978: 'encyclopedia',\n",
       " 3166: 'exchange',\n",
       " 8175: 'service',\n",
       " 863: 'boundary',\n",
       " 8920: 'territory',\n",
       " 1849: 'country',\n",
       " 9776: 'wikipedia wiki',\n",
       " 4706: 'international trade',\n",
       " 9133: 'trade wikipedia',\n",
       " 9761: 'wikipedia encyclopedia',\n",
       " 3170: 'exchange service',\n",
       " 8180: 'service international',\n",
       " 9134: 'trade wikipedia encyclopedia',\n",
       " 6249: 'object',\n",
       " 6400: 'oriented',\n",
       " 3579: 'fortran',\n",
       " 7129: 'programming',\n",
       " 6457: 'page',\n",
       " 9842: 'workstation',\n",
       " 2471: 'distributed',\n",
       " 5578: 'memory',\n",
       " 8746: 'supercomputer',\n",
       " 6250: 'object oriented',\n",
       " 7139: 'programming page',\n",
       " 6401: 'oriented programming',\n",
       " 6251: 'object oriented programming',\n",
       " 6297: 'olympics',\n",
       " 445: 'article',\n",
       " 9402: 'update',\n",
       " 3661: 'game',\n",
       " 7145: 'progress',\n",
       " 6299: 'olympics olympics',\n",
       " 6300: 'olympics wikipedia',\n",
       " 2991: 'encyclopedia encyclopedia',\n",
       " 2981: 'encyclopedia article',\n",
       " 9765: 'wikipedia encyclopedia encyclopedia',\n",
       " 2992: 'encyclopedia encyclopedia article',\n",
       " 9496: 'video',\n",
       " 7067: 'production',\n",
       " 2378: 'director',\n",
       " 3363: 'film',\n",
       " 2760: 'editor',\n",
       " 5453: 'master',\n",
       " 2151: 'degree',\n",
       " 598: 'award',\n",
       " 9807: 'winning',\n",
       " 9541: 'visit',\n",
       " 5161: 'link',\n",
       " 5977: 'navigation',\n",
       " 2380: 'director film',\n",
       " 5456: 'master degree',\n",
       " 3373: 'film production',\n",
       " 605: 'award winning',\n",
       " 8516: 'spielberg',\n",
       " 852: 'born',\n",
       " 246: 'american',\n",
       " 7051: 'producer',\n",
       " 9020: 'time',\n",
       " 31: 'academy',\n",
       " 9805: 'winner',\n",
       " 8519: 'spielberg spielberg',\n",
       " 254: 'american film',\n",
       " 3366: 'film director',\n",
       " 32: 'academy award',\n",
       " 604: 'award winner',\n",
       " 36: 'academy award winner',\n",
       " 6340: 'oop',\n",
       " 9223: 'tutorial',\n",
       " 8853: 'teaching',\n",
       " 667: 'basic',\n",
       " 5020: 'language',\n",
       " 4841: 'java',\n",
       " 6341: 'oop object',\n",
       " 6342: 'oop object oriented',\n",
       " 3034: 'engineering',\n",
       " 7591: 'resource',\n",
       " 493: 'associate',\n",
       " 1463: 'collection',\n",
       " 6302: 'online',\n",
       " 8429: 'software engineering',\n",
       " 7631: 'resource software',\n",
       " 8030: 'scientific',\n",
       " 3415: 'finding',\n",
       " 7038: 'proceeding',\n",
       " 9841: 'workshop',\n",
       " 6358: 'opinion',\n",
       " 1588: 'committee',\n",
       " 6741: 'plant',\n",
       " 6583: 'pdf',\n",
       " 3360: 'file',\n",
       " 8035: 'scientific finding',\n",
       " 4804: 'issue',\n",
       " 5346: 'male',\n",
       " 5744: 'modern',\n",
       " 4835: 'japan',\n",
       " 3712: 'gender',\n",
       " 472: 'asian',\n",
       " 1788: 'context',\n",
       " 1974: 'culture modern',\n",
       " 4259: 'history culture',\n",
       " 1945: 'culture asian',\n",
       " 220: 'amazon',\n",
       " 463: 'artificial',\n",
       " 4677: 'intelligence',\n",
       " 9808: 'winston',\n",
       " 1497: 'com',\n",
       " 2756: 'edition',\n",
       " 819: 'book',\n",
       " 464: 'artificial intelligence',\n",
       " 221: 'amazon com',\n",
       " 2757: 'edition book',\n",
       " 2868: 'einstein',\n",
       " 4428: 'image',\n",
       " 4449: 'impact',\n",
       " 1231: 'center',\n",
       " 3176: 'exhibit',\n",
       " 178: 'albert',\n",
       " 8972: 'theory',\n",
       " 2425: 'discovery',\n",
       " 7278: 'quantum',\n",
       " 6640: 'philosophy',\n",
       " 2872: 'einstein einstein',\n",
       " 179: 'albert einstein',\n",
       " 9469: 'vancouver',\n",
       " 6973: 'preparing',\n",
       " 6203: 'npr',\n",
       " 8893: 'template',\n",
       " 9065: 'topic',\n",
       " 9083: 'topicid',\n",
       " 6892: 'pop',\n",
       " 5870: 'music',\n",
       " 9475: 'vega',\n",
       " 1159: 'career',\n",
       " 8491: 'span',\n",
       " 2122: 'decade',\n",
       " 182: 'album',\n",
       " 691: 'beauty',\n",
       " 1898: 'crime',\n",
       " 70: 'acoustic',\n",
       " 8457: 'sound',\n",
       " 6204: 'npr template',\n",
       " 8896: 'template topic',\n",
       " 9077: 'topic topic',\n",
       " 9079: 'topic topicid',\n",
       " 9084: 'topicid npr',\n",
       " 6896: 'pop music',\n",
       " 6206: 'npr template topic',\n",
       " 8897: 'template topic topic',\n",
       " 9078: 'topic topic topicid',\n",
       " 9080: 'topic topicid npr',\n",
       " 6218: 'nurse',\n",
       " 6399: 'orgs',\n",
       " 8252: 'shtml',\n",
       " 6382: 'org',\n",
       " 6220: 'nursing',\n",
       " 6392: 'organization',\n",
       " 6955: 'practitioner',\n",
       " 494: 'association',\n",
       " 7747: 'rochester',\n",
       " 1155: 'care',\n",
       " 6120: 'newsletter',\n",
       " 679: 'bbc',\n",
       " 148: 'age',\n",
       " 7748: 'rock',\n",
       " 758: 'birth',\n",
       " 7751: 'rock music',\n",
       " 3462: 'flickr',\n",
       " 6650: 'photo',\n",
       " 8811: 'tag',\n",
       " 3337: 'festival',\n",
       " 8814: 'tagged',\n",
       " 3210: 'explore',\n",
       " 886: 'brand',\n",
       " 8525: 'sponsored',\n",
       " 1884: 'craft',\n",
       " 1618: 'compare',\n",
       " 7003: 'price',\n",
       " 8341: 'smarter',\n",
       " 3463: 'flickr photo',\n",
       " 1619: 'compare price',\n",
       " 3436: 'fitness',\n",
       " 1752: 'connection',\n",
       " 5148: 'lifestyle',\n",
       " 6542: 'partner',\n",
       " 6949: 'powerhouse',\n",
       " 4140: 'health',\n",
       " 6223: 'nutrition',\n",
       " 1192: 'category',\n",
       " 3438: 'fitness fitness',\n",
       " 3439: 'fitness health',\n",
       " 4166: 'health nutrition',\n",
       " 6227: 'nutrition information',\n",
       " 9321: 'unicode',\n",
       " 2279: 'developer',\n",
       " 8192: 'set',\n",
       " 7039: 'process',\n",
       " 8426: 'software developer',\n",
       " 8473: 'southwest',\n",
       " 985: 'business',\n",
       " 1834: 'corporation',\n",
       " 7862: 'san',\n",
       " 338: 'antonio',\n",
       " 4651: 'insurance',\n",
       " 2957: 'employee',\n",
       " 715: 'benefit',\n",
       " 5768: 'mortgage',\n",
       " 3402: 'financial',\n",
       " 7654: 'retirement',\n",
       " 6740: 'planning',\n",
       " 1000: 'business corporation',\n",
       " 3409: 'financial service',\n",
       " 2486: 'dlib',\n",
       " 4517: 'indiana',\n",
       " 385: 'archive',\n",
       " 2344: 'digital',\n",
       " 1595: 'common',\n",
       " 2512: 'document',\n",
       " 1732: 'conference',\n",
       " 6490: 'paper',\n",
       " 4968: 'keywords',\n",
       " 6890: 'pool',\n",
       " 5352: 'management',\n",
       " 4642: 'institutional',\n",
       " 276: 'analysis',\n",
       " 6538: 'participation',\n",
       " 4518: 'indiana edu',\n",
       " 2770: 'edu archive',\n",
       " 2352: 'digital library',\n",
       " 1736: 'conference paper',\n",
       " 7622: 'resource management',\n",
       " 1092: 'campaign',\n",
       " 3813: 'global',\n",
       " 2736: 'economy',\n",
       " 617: 'background',\n",
       " 7146: 'progressive',\n",
       " 6619: 'perspective',\n",
       " 1903: 'critical',\n",
       " 6572: 'pattern',\n",
       " 6820: 'policy',\n",
       " 3832: 'globalization',\n",
       " 3818: 'global economy',\n",
       " 4570: 'information link',\n",
       " 9406: 'upenn',\n",
       " 4630: 'institute',\n",
       " 7511: 'research',\n",
       " 1452: 'cognitive',\n",
       " 3474: 'focus',\n",
       " 8687: 'structure',\n",
       " 7042: 'processing',\n",
       " 5239: 'logic',\n",
       " 1650: 'computation',\n",
       " 9407: 'upenn edu',\n",
       " 4636: 'institute research',\n",
       " 1454: 'cognitive science',\n",
       " 3636: 'funbrain',\n",
       " 3499: 'football',\n",
       " 6944: 'power',\n",
       " 6789: 'plus',\n",
       " 879: 'brain',\n",
       " 5472: 'math',\n",
       " 8315: 'skill',\n",
       " 3634: 'fun',\n",
       " 3511: 'football football',\n",
       " 3635: 'fun game',\n",
       " 1578: 'commentary',\n",
       " 1601: 'communist',\n",
       " 6544: 'party',\n",
       " 4060: 'grow',\n",
       " 1322: 'china',\n",
       " 1327: 'chinese',\n",
       " 6594: 'people',\n",
       " 1603: 'communist party',\n",
       " 6549: 'party communist',\n",
       " 1323: 'china chinese',\n",
       " 1605: 'communist party communist',\n",
       " 6550: 'party communist party',\n",
       " 2515: 'documentary',\n",
       " 6017: 'net',\n",
       " 3581: 'forum',\n",
       " 3380: 'filmmaker',\n",
       " 3239: 'eye',\n",
       " 5794: 'movie',\n",
       " 2947: 'emotional',\n",
       " 2517: 'documentary film',\n",
       " 8442: 'solid',\n",
       " 6669: 'physic',\n",
       " 9650: 'web',\n",
       " 4637: 'institute solid',\n",
       " 8443: 'solid physic',\n",
       " 4638: 'institute solid physic',\n",
       " 354: 'application',\n",
       " 3849: 'goal',\n",
       " 4208: 'help',\n",
       " 8692: 'student',\n",
       " 1625: 'compete',\n",
       " 9844: 'world',\n",
       " 8873: 'technology',\n",
       " 7450: 'related',\n",
       " 6258: 'occupation',\n",
       " 1655: 'computer application',\n",
       " 4211: 'help student',\n",
       " 8874: 'technology computer',\n",
       " 7663: 'reuters',\n",
       " 4754: 'investing',\n",
       " 6040: 'news',\n",
       " 3392: 'finance',\n",
       " 8646: 'stock',\n",
       " 5403: 'market',\n",
       " 5900: 'mutual',\n",
       " 3639: 'fund',\n",
       " 8459: 'source',\n",
       " 4757: 'investment',\n",
       " 5077: 'leading',\n",
       " 7179: 'provider',\n",
       " 7666: 'reuters investing',\n",
       " 6615: 'personal finance',\n",
       " 3398: 'finance stock',\n",
       " 8650: 'stock market',\n",
       " 5901: 'mutual fund',\n",
       " 7664: 'reuters com',\n",
       " 1553: 'com source',\n",
       " 7667: 'reuters leading',\n",
       " 3824: 'global provider',\n",
       " 7665: 'reuters com source',\n",
       " 7668: 'reuters leading global',\n",
       " 3825: 'global provider news',\n",
       " 1135: 'capital',\n",
       " 1612: 'company',\n",
       " 4071: 'guardian',\n",
       " 3642: 'fundamental',\n",
       " 8639: 'step',\n",
       " 6565: 'path',\n",
       " 6683: 'physical',\n",
       " 6688: 'physical fitness',\n",
       " 3894: 'gov',\n",
       " 7414: 'record',\n",
       " 5924: 'national',\n",
       " 386: 'archive gov',\n",
       " 7576: 'research topic',\n",
       " 9075: 'topic research',\n",
       " 7566: 'research research',\n",
       " 5926: 'national archive',\n",
       " 7578: 'research topic research',\n",
       " 8400: 'society',\n",
       " 131: 'aesthetic',\n",
       " 6744: 'plastic',\n",
       " 8761: 'surgery',\n",
       " 8760: 'surgeon',\n",
       " 7433: 'referral',\n",
       " 1839: 'cosmetic',\n",
       " 8401: 'society aesthetic',\n",
       " 132: 'aesthetic plastic',\n",
       " 6746: 'plastic surgery',\n",
       " 8762: 'surgery plastic',\n",
       " 6745: 'plastic surgeon',\n",
       " 1840: 'cosmetic surgery',\n",
       " 133: 'aesthetic plastic surgery',\n",
       " 5521: 'mechanic',\n",
       " 4044: 'greek',\n",
       " 883: 'branch',\n",
       " 697: 'behaviour',\n",
       " 3537: 'force',\n",
       " 5522: 'mechanic mechanic',\n",
       " 1446: 'code',\n",
       " 5637: 'mgm',\n",
       " 7460: 'released',\n",
       " 4624: 'instance',\n",
       " 2993: 'encyclopedia film',\n",
       " 4653: 'int',\n",
       " 2598: 'drug',\n",
       " 6907: 'portable',\n",
       " 3569: 'format',\n",
       " 7397: 'reader',\n",
       " 2601: 'drug information',\n",
       " 5317: 'magazine',\n",
       " 4319: 'hospital',\n",
       " 2499: 'doctor',\n",
       " 5557: 'medium',\n",
       " 100: 'address',\n",
       " 1779: 'contact',\n",
       " 4320: 'hospital doctor',\n",
       " 2501: 'doctor hospital',\n",
       " 4567: 'information hospital',\n",
       " 4321: 'hospital doctor hospital',\n",
       " 2502: 'doctor hospital doctor',\n",
       " 2307: 'dictionary',\n",
       " 5516: 'mean',\n",
       " 8801: 'synonym',\n",
       " 4764: 'investment investment',\n",
       " 4763: 'investment definition',\n",
       " 2140: 'definition investment',\n",
       " 6309: 'online dictionary',\n",
       " 5619: 'metacafe',\n",
       " 1567: 'comedy',\n",
       " 3650: 'funny',\n",
       " 219: 'amazing',\n",
       " 1414: 'clip',\n",
       " 1568: 'comedy comedy',\n",
       " 4730: 'internet video',\n",
       " 9499: 'video funny',\n",
       " 3651: 'funny video',\n",
       " 1415: 'clip movie',\n",
       " 1582: 'commercial',\n",
       " 5043: 'law',\n",
       " 3969: 'governs',\n",
       " 1579: 'commerce',\n",
       " 1375: 'civil',\n",
       " 1583: 'commercial law',\n",
       " 5045: 'law commercial',\n",
       " 5056: 'law wikipedia',\n",
       " 5044: 'law business',\n",
       " 1015: 'business law',\n",
       " 3970: 'governs business',\n",
       " 996: 'business commerce',\n",
       " 1584: 'commercial law commercial',\n",
       " 5046: 'law commercial law',\n",
       " 5057: 'law wikipedia encyclopedia',\n",
       " 3971: 'governs business commerce',\n",
       " 357: 'applied',\n",
       " 9431: 'user',\n",
       " 4289: 'home',\n",
       " 7022: 'print',\n",
       " 7993: 'science gov',\n",
       " 359: 'applied science',\n",
       " 8010: 'science technology',\n",
       " 937: 'browse topic',\n",
       " 3910: 'gov home',\n",
       " 8002: 'science physic',\n",
       " 8794: 'symptom',\n",
       " 215: 'alzheimer',\n",
       " 2440: 'disease',\n",
       " 2295: 'diagnosis',\n",
       " 4104: 'hand',\n",
       " 8898: 'temple',\n",
       " 1401: 'click',\n",
       " 3050: 'enlarge',\n",
       " 216: 'alzheimer disease',\n",
       " 2447: 'disease symptom',\n",
       " 8796: 'symptom diagnosis',\n",
       " 2297: 'diagnosis symptom',\n",
       " 4245: 'hindu',\n",
       " 9358: 'universe',\n",
       " 8286: 'site',\n",
       " 2930: 'email',\n",
       " 9665: 'web page',\n",
       " 9677: 'web web',\n",
       " 9672: 'web site',\n",
       " 9864: 'world web',\n",
       " 4686: 'interactive',\n",
       " 9392: 'unlimited',\n",
       " 41: 'access',\n",
       " 1292: 'chart',\n",
       " 7482: 'report',\n",
       " 4522: 'indicator',\n",
       " 7312: 'quote',\n",
       " 7322: 'quote stock',\n",
       " 1214: 'cdc',\n",
       " 6005: 'ncidod',\n",
       " 5199: 'listing',\n",
       " 3493: 'foodborne',\n",
       " 4422: 'illness',\n",
       " 2437: 'discussing',\n",
       " 7000: 'prevention',\n",
       " 1215: 'cdc gov',\n",
       " 3920: 'gov ncidod',\n",
       " 3494: 'foodborne illness',\n",
       " 8689: 'structured',\n",
       " 296: 'andrew',\n",
       " 8826: 'tanenbaum',\n",
       " 1856: 'course',\n",
       " 297: 'andrew tanenbaum',\n",
       " 828: 'book computer',\n",
       " 1656: 'computer architecture',\n",
       " 1919: 'cstv',\n",
       " 8527: 'sport',\n",
       " 9565: 'volley',\n",
       " 9291: 'unc',\n",
       " 6182: 'north',\n",
       " 1170: 'carolina',\n",
       " 519: 'athletic',\n",
       " 4134: 'head',\n",
       " 9567: 'volleyball',\n",
       " 1438: 'coach',\n",
       " 5098: 'led',\n",
       " 8856: 'team',\n",
       " 1920: 'cstv sport',\n",
       " 8557: 'sport volley',\n",
       " 9566: 'volley body',\n",
       " 810: 'body university',\n",
       " 9376: 'university north',\n",
       " 6187: 'north carolina',\n",
       " 9568: 'volleyball team',\n",
       " 1922: 'cstv sport volley',\n",
       " 9377: 'university north carolina',\n",
       " 1351: 'chronicle',\n",
       " 523: 'athletics',\n",
       " 2831: 'education',\n",
       " 2850: 'effect',\n",
       " 9032: 'title',\n",
       " 2113: 'debate',\n",
       " 1468: 'college',\n",
       " 6359: 'opportunity',\n",
       " 9822: 'woman',\n",
       " 1352: 'chronicle education',\n",
       " 1470: 'college athletics',\n",
       " 4866: 'jewish',\n",
       " 1816: 'copyright',\n",
       " 7720: 'right',\n",
       " 7585: 'reserved',\n",
       " 4203: 'hebrew',\n",
       " 4858: 'jerusalem',\n",
       " 8517: 'spielberg jewish',\n",
       " 4867: 'jewish film',\n",
       " 3364: 'film archive',\n",
       " 7721: 'right reserved',\n",
       " 8518: 'spielberg jewish film',\n",
       " 4868: 'jewish film archive',\n",
       " 9800: 'window',\n",
       " 416: 'art',\n",
       " 6806: 'poetry',\n",
       " 5550: 'medicine',\n",
       " 7464: 'religion',\n",
       " 1324: 'china culture',\n",
       " 1947: 'culture china',\n",
       " 1980: 'culture resource',\n",
       " 1328: 'chinese culture',\n",
       " 1948: 'culture chinese',\n",
       " 1329: 'chinese culture chinese',\n",
       " 5983: 'nba',\n",
       " 670: 'basketball',\n",
       " 7819: 'rumor',\n",
       " 7033: 'pro',\n",
       " 6766: 'player',\n",
       " 2574: 'draft',\n",
       " 7370: 'ranking',\n",
       " 7385: 'rating',\n",
       " 5989: 'ncaa',\n",
       " 4311: 'hoop',\n",
       " 7926: 'school',\n",
       " 1535: 'com nba',\n",
       " 5984: 'nba basketball',\n",
       " 674: 'basketball news',\n",
       " 6092: 'news rumor',\n",
       " 6777: 'player team',\n",
       " 5992: 'ncaa college',\n",
       " 6644: 'phoenix',\n",
       " 8458: 'soundtrack',\n",
       " 4074: 'guide',\n",
       " 4362: 'human',\n",
       " 3230: 'expression',\n",
       " 52: 'accident',\n",
       " 8617: 'statistic',\n",
       " 8078: 'search',\n",
       " 5233: 'locator',\n",
       " 2225: 'department',\n",
       " 5932: 'national center',\n",
       " 7953: 'school locator',\n",
       " 2837: 'education science',\n",
       " 7983: 'science department',\n",
       " 2236: 'department education',\n",
       " 8888: 'television',\n",
       " 340: 'aol',\n",
       " 7677: 'review',\n",
       " 6091: 'news review',\n",
       " 4176: 'healthcare',\n",
       " 5529: 'medical',\n",
       " 9693: 'website',\n",
       " 4179: 'healthcare healthcare',\n",
       " 4177: 'healthcare com',\n",
       " 1529: 'com medical',\n",
       " 9695: 'website information',\n",
       " 4180: 'healthcare healthcare com',\n",
       " 2925: 'elsevier',\n",
       " 5229: 'locate',\n",
       " 7213: 'publication',\n",
       " 9476: 'vehicle',\n",
       " 1872: 'coverage',\n",
       " 2926: 'elsevier locate',\n",
       " 6025: 'network international',\n",
       " 4484: 'index',\n",
       " 6213: 'nuclear',\n",
       " 9644: 'weapon',\n",
       " 3160: 'examine',\n",
       " 8991: 'thermal',\n",
       " 770: 'blast',\n",
       " 3215: 'explosion',\n",
       " 2162: 'delayed',\n",
       " 2274: 'destructive',\n",
       " 4495: 'index shtml',\n",
       " 2851: 'effect nuclear',\n",
       " 6214: 'nuclear weapon',\n",
       " 9645: 'weapon nuclear',\n",
       " 2852: 'effect nuclear weapon',\n",
       " 6215: 'nuclear weapon nuclear',\n",
       " 4876: 'job',\n",
       " 1145: 'car',\n",
       " 9794: 'wimbledon',\n",
       " 8467: 'south',\n",
       " 5242: 'london',\n",
       " 6098: 'news sport',\n",
       " 6638: 'philosopher',\n",
       " 6639: 'philosophical',\n",
       " 4615: 'inquiry',\n",
       " 2129: 'dedicated',\n",
       " 23: 'academia',\n",
       " 7335: 'radical',\n",
       " 9721: 'western',\n",
       " 9723: 'western culture',\n",
       " 6304: 'online book',\n",
       " 8112: 'seat',\n",
       " 9103: 'town',\n",
       " 8054: 'screen',\n",
       " 245: 'america',\n",
       " 6183: 'north america',\n",
       " 8040: 'scientist',\n",
       " 286: 'ancient',\n",
       " 6830: 'political',\n",
       " 2754: 'edited',\n",
       " 3690: 'gary',\n",
       " 9444: 'utah',\n",
       " 6994: 'press',\n",
       " 6840: 'political economy',\n",
       " 776: 'blogspot',\n",
       " 637: 'band',\n",
       " 3801: 'girl',\n",
       " 7470: 'remember',\n",
       " 773: 'blog',\n",
       " 900: 'brett',\n",
       " 8668: 'story',\n",
       " 643: 'band girl',\n",
       " 8264: 'silent',\n",
       " 5013: 'lady',\n",
       " 3659: 'gallery',\n",
       " 8600: 'star',\n",
       " 7093: 'profile',\n",
       " 5597: 'menu',\n",
       " 6652: 'photo gallery',\n",
       " 5827: 'movie star',\n",
       " 876: 'bracks',\n",
       " 3572: 'formidable',\n",
       " 5071: 'leader',\n",
       " 890: 'breaking',\n",
       " 9493: 'vic',\n",
       " 6963: 'premier',\n",
       " 5105: 'legend',\n",
       " 8235: 'shock',\n",
       " 3573: 'formidable political',\n",
       " 6850: 'political leader',\n",
       " 893: 'breaking news',\n",
       " 3574: 'formidable political leader',\n",
       " 1435: 'cnn',\n",
       " 6874: 'politics',\n",
       " 2879: 'election',\n",
       " 4780: 'iraq',\n",
       " 4996: 'korea',\n",
       " 9732: 'white',\n",
       " 4332: 'house',\n",
       " 6880: 'politics politics',\n",
       " 6877: 'politics news',\n",
       " 6082: 'news opinion',\n",
       " 1436: 'cnn com',\n",
       " 277: 'analysis american',\n",
       " 6109: 'news video',\n",
       " 9733: 'white house',\n",
       " 4353: 'http',\n",
       " 7101: 'program',\n",
       " 6353: 'operates',\n",
       " 7508: 'request',\n",
       " 9670: 'web server',\n",
       " 8174: 'server web',\n",
       " 5090: 'learning',\n",
       " 5651: 'middle',\n",
       " 8848: 'teacher',\n",
       " 8847: 'teach',\n",
       " 1645: 'comprehensive',\n",
       " 5092: 'learning learning',\n",
       " 8434: 'software software',\n",
       " 1276: 'channel',\n",
       " 8822: 'tamil',\n",
       " 887: 'brazil',\n",
       " 304: 'animation',\n",
       " 9144: 'trailer',\n",
       " 7725: 'ringtones',\n",
       " 8449: 'song',\n",
       " 9603: 'wallpaper',\n",
       " 7001: 'preview',\n",
       " 305: 'animation movie',\n",
       " 8823: 'tamil movie',\n",
       " 5814: 'movie news',\n",
       " 7002: 'preview review',\n",
       " 7454: 'release',\n",
       " 466: 'artist',\n",
       " 747: 'biography',\n",
       " 5880: 'music guide',\n",
       " 2539: 'don',\n",
       " 6428: 'outbreak',\n",
       " 8105: 'searchable',\n",
       " 6606: 'period',\n",
       " 8766: 'surveillance',\n",
       " 6070: 'news information',\n",
       " 8359: 'soccer',\n",
       " 9795: 'win',\n",
       " 7290: 'quarterfinal',\n",
       " 5461: 'match',\n",
       " 8123: 'sectional',\n",
       " 1268: 'champ',\n",
       " 867: 'boy',\n",
       " 8904: 'tennis',\n",
       " 8675: 'straight',\n",
       " 5081: 'league',\n",
       " 8367: 'soccer win',\n",
       " 7292: 'quarterfinal match',\n",
       " 3804: 'girl soccer',\n",
       " 6901: 'popsci',\n",
       " 4749: 'invention',\n",
       " 8227: 'shield',\n",
       " 7767: 'rolling',\n",
       " 4611: 'innovation',\n",
       " 3085: 'ergonomics',\n",
       " 5960: 'natural',\n",
       " 4545: 'info',\n",
       " 4605: 'injury',\n",
       " 7879: 'saying',\n",
       " 9900: 'wrong',\n",
       " 5968: 'natural law',\n",
       " 4929: 'jstor',\n",
       " 8254: 'sici',\n",
       " 5076: 'leadership',\n",
       " 8143: 'semi',\n",
       " 6986: 'presidential',\n",
       " 6527: 'parliamentary',\n",
       " 2877: 'elected',\n",
       " 6980: 'president',\n",
       " 6952: 'practice',\n",
       " 5168: 'link jstor',\n",
       " 4932: 'jstor sici',\n",
       " 8255: 'sici sici',\n",
       " 8147: 'semi presidential',\n",
       " 5169: 'link jstor sici',\n",
       " 4933: 'jstor sici sici',\n",
       " 2886: 'electrical',\n",
       " 7075: 'professional',\n",
       " 2415: 'discipline',\n",
       " 2889: 'electrical engineering',\n",
       " 3040: 'engineering wikipedia',\n",
       " 3041: 'engineering wikipedia encyclopedia',\n",
       " 3704: 'gatorzone',\n",
       " 4095: 'gymnastics',\n",
       " 3703: 'gator',\n",
       " 8569: 'spotlight',\n",
       " 8731: 'sun',\n",
       " 772: 'block',\n",
       " 3466: 'florida',\n",
       " 1796: 'control',\n",
       " 6209: 'nsf',\n",
       " 9141: 'tradition',\n",
       " 957: 'build',\n",
       " 5220: 'living',\n",
       " 8682: 'strength',\n",
       " 9142: 'tradition culture',\n",
       " 1979: 'culture research',\n",
       " 7518: 'research education',\n",
       " 6287: 'old',\n",
       " 8258: 'siggraph',\n",
       " 3284: 'fashion',\n",
       " 2269: 'designer',\n",
       " 1096: 'canada',\n",
       " 3127: 'europe',\n",
       " 470: 'asia',\n",
       " 4612: 'innovative',\n",
       " 3196: 'experimental',\n",
       " 3286: 'fashion designer',\n",
       " 4372: 'hunt',\n",
       " 5425: 'marketing',\n",
       " 7853: 'sale',\n",
       " 5230: 'location',\n",
       " 120: 'advertising',\n",
       " 7646: 'retail',\n",
       " 1382: 'class',\n",
       " 1792: 'contract',\n",
       " 5432: 'marketing sale',\n",
       " 7854: 'sale job',\n",
       " 4885: 'job job',\n",
       " 4892: 'job search',\n",
       " 4891: 'job sale',\n",
       " 8092: 'search job',\n",
       " 123: 'advertising marketing',\n",
       " 4886: 'job job search',\n",
       " 5225: 'loc',\n",
       " 5089: 'learn',\n",
       " 1607: 'community',\n",
       " 5583: 'memory loc',\n",
       " 5226: 'loc gov',\n",
       " 7996: 'science invention',\n",
       " 7630: 'resource science',\n",
       " 5584: 'memory loc gov',\n",
       " 1379: 'civilwar',\n",
       " 4252: 'historic',\n",
       " 6978: 'preservation',\n",
       " 9612: 'war',\n",
       " 6174: 'non',\n",
       " 7098: 'profit',\n",
       " 5574: 'membership',\n",
       " 250: 'american civil',\n",
       " 1376: 'civil war',\n",
       " 6177: 'non profit',\n",
       " 251: 'american civil war',\n",
       " 4339: 'howstuffworks',\n",
       " 2317: 'diesel',\n",
       " 3022: 'engine',\n",
       " 3693: 'gasoline',\n",
       " 3630: 'fuel',\n",
       " 4604: 'injection',\n",
       " 2320: 'diesel engine',\n",
       " 2321: 'diesel fuel',\n",
       " 3633: 'fuel injection',\n",
       " 3015: 'endocrine',\n",
       " 6144: 'niddk',\n",
       " 6148: 'nih',\n",
       " 7201: 'pub',\n",
       " 99: 'addison',\n",
       " 2459: 'disorder',\n",
       " 1288: 'characterized',\n",
       " 6145: 'niddk nih',\n",
       " 6149: 'nih gov',\n",
       " 3929: 'gov pub',\n",
       " 6146: 'niddk nih gov',\n",
       " 325: 'answer',\n",
       " 2900: 'electronics',\n",
       " 8278: 'sing',\n",
       " 6634: 'phenomenon',\n",
       " 328: 'answer topic',\n",
       " 2902: 'electronics electronics',\n",
       " 2138: 'definition answer',\n",
       " 326: 'answer com',\n",
       " 2139: 'definition answer com',\n",
       " 7147: 'project',\n",
       " 2969: 'encompasses',\n",
       " 6396: 'organize',\n",
       " 1768: 'constructed',\n",
       " 9862: 'world war',\n",
       " 9621: 'war world',\n",
       " 9863: 'world war world',\n",
       " 9623: 'war world war',\n",
       " 8111: 'season',\n",
       " 144: 'afl',\n",
       " 1418: 'club',\n",
       " 5859: 'multimedia',\n",
       " 3447: 'fixture',\n",
       " 3505: 'football club',\n",
       " 1422: 'club website',\n",
       " 6100: 'news statistic',\n",
       " 8620: 'statistic player',\n",
       " 6771: 'player profile',\n",
       " 5575: 'membership information',\n",
       " 3508: 'football club website',\n",
       " 7009: 'princeton',\n",
       " 2199: 'democratic',\n",
       " 5791: 'movement',\n",
       " 6363: 'opposition',\n",
       " 7010: 'princeton edu',\n",
       " 2203: 'democratic political',\n",
       " 3668: 'game game',\n",
       " 5261: 'louisiana',\n",
       " 8608: 'start',\n",
       " 8119: 'secretary',\n",
       " 1121: 'candidate',\n",
       " 2094: 'database',\n",
       " 2881: 'election candidate',\n",
       " 5006: 'labor',\n",
       " 888: 'break',\n",
       " 9328: 'union',\n",
       " 9827: 'won',\n",
       " 142: 'affiliation',\n",
       " 5228: 'local',\n",
       " 5009: 'labor party',\n",
       " 9131: 'trade union',\n",
       " 2201: 'democratic party',\n",
       " 8077: 'sea',\n",
       " 2819: 'edu school',\n",
       " 7938: 'school engineering',\n",
       " 3035: 'engineering applied',\n",
       " 8013: 'science university',\n",
       " 9387: 'university virginia',\n",
       " 7994: 'science home',\n",
       " 4296: 'home page',\n",
       " 2820: 'edu school engineering',\n",
       " 7939: 'school engineering applied',\n",
       " 3036: 'engineering applied science',\n",
       " 6790: 'pocket',\n",
       " 8059: 'screensavers',\n",
       " 2565: 'downloads',\n",
       " 3664: 'game computer',\n",
       " 1663: 'computer game',\n",
       " 3665: 'game computer game',\n",
       " 5395: 'map',\n",
       " 850: 'border',\n",
       " 4945: 'kansa',\n",
       " 9619: 'war wikipedia',\n",
       " 9620: 'war wikipedia encyclopedia',\n",
       " 3148: 'evolution',\n",
       " 3150: 'evolutionary',\n",
       " 8805: 'synthesis',\n",
       " 1243: 'central',\n",
       " 1713: 'concept',\n",
       " 8137: 'selection',\n",
       " 3149: 'evolution evolution',\n",
       " 9159: 'transformer',\n",
       " 2376: 'directed',\n",
       " 678: 'bay',\n",
       " 7327: 'race',\n",
       " 9163: 'transformer transformer',\n",
       " 9160: 'transformer movie',\n",
       " 5831: 'movie transformer',\n",
       " 9162: 'transformer movie transformer',\n",
       " 8071: 'sculpture',\n",
       " ...}"
      ]
     },
     "execution_count": 117,
     "metadata": {},
     "output_type": "execute_result"
    }
   ],
   "source": [
    "token2idx = vectorizer.vocabulary_\n",
    "idx2token = {idx:token for token,idx in token2idx.items()}\n",
    "idx2token"
   ]
  },
  {
   "cell_type": "code",
   "execution_count": 118,
   "metadata": {
    "collapsed": false
   },
   "outputs": [
    {
     "data": {
      "text/plain": [
       "array([ 0.,  0.,  0., ...,  0.,  0.,  0.])"
      ]
     },
     "execution_count": 118,
     "metadata": {},
     "output_type": "execute_result"
    }
   ],
   "source": [
    "#todense --get representation\n",
    "X_train = np.asarray(vectors_train.todense())\n",
    "X_val = np.asarray(vectors_val.todense())\n",
    "X_test = np.asarray(vectors_test.todense())\n",
    "\n",
    "X_train2 = np.asarray(vectors_train2.todense())\n",
    "X_val2 = np.asarray(vectors_val2.todense())\n",
    "X_test2 = np.asarray(vectors_test2.todense())\n",
    "\n",
    "del vectors_train,vectors_val,vectors_test,vectors_train2,vectors_val2,vectors_test2\n",
    "gc.collect()\n",
    "\n",
    "X_train[0]"
   ]
  },
  {
   "cell_type": "code",
   "execution_count": 6,
   "metadata": {
    "collapsed": false
   },
   "outputs": [
    {
     "data": {
      "image/png": "[encoded data removed]",
      "text/plain": [
       "<matplotlib.figure.Figure at 0x7f8af96fff98>"
      ]
     },
     "metadata": {},
     "output_type": "display_data"
    },
    {
     "data": {
      "image/png": "[encoded data removed]",
      "text/plain": [
       "<matplotlib.figure.Figure at 0x7f8af63429b0>"
      ]
     },
     "metadata": {},
     "output_type": "display_data"
    }
   ],
   "source": [
    "plt.title(\"Term frequency representation (example)\")\n",
    "plt.plot(X_train[0])\n",
    "plt.show()\n",
    "\n",
    "plt.title(\"TF-IDF representation (example)\")\n",
    "plt.plot(X_train2[0])\n",
    "plt.show()"
   ]
  },
  {
   "cell_type": "markdown",
   "metadata": {},
   "source": [
    "### Model Architecture\n",
    "---\n",
    "La arquitectura para afrontar el problema es una red clásica *Feed Forward* basado en el *baseline* de *Variational Deep Semantic Hashing* (VDSH), la cual es una arquitectura de *autoencoder* no simétrico con dos capas escondidas en el *encoder* y sin capas escondidas en el *decoder*.\n",
    "\n",
    "\n",
    "> Input(|V|) -> Relu(500) -> Relu (500) -> Laten variable(32)-> Sampling -> Softmax(|V|)\n",
    "\n",
    "\n",
    "Tamién se experimenta con una arquitectura de autoencoder simétrico, lo cual asimila de mejor manera lo que es una RBM (red bidireccional) como se realiza en el trabajo de *Semantic Hashing*.\n",
    "\n",
    "La primera experimentación se realiza con 32 *bits* en la representación latente, ya que los trabajos previos han mostrado que esta cantidad de *bits* parece ser lo suficiente antes de empezar a realizar *overfitting*."
   ]
  },
  {
   "cell_type": "code",
   "execution_count": 40,
   "metadata": {
    "collapsed": false,
    "scrolled": true
   },
   "outputs": [
    {
     "name": "stdout",
     "output_type": "stream",
     "text": [
      "pre-encoder network:\n",
      "_________________________________________________________________\n",
      "Layer (type)                 Output Shape              Param #   \n",
      "=================================================================\n",
      "input_1 (InputLayer)         (None, 3473)              0         \n",
      "_________________________________________________________________\n",
      "dense_1 (Dense)              (None, 500)               1737000   \n",
      "_________________________________________________________________\n",
      "batch_normalization_1 (Batch (None, 500)               2000      \n",
      "_________________________________________________________________\n",
      "dense_2 (Dense)              (None, 500)               250500    \n",
      "_________________________________________________________________\n",
      "batch_normalization_2 (Batch (None, 500)               2000      \n",
      "=================================================================\n",
      "Total params: 1,991,500\n",
      "Trainable params: 1,989,500\n",
      "Non-trainable params: 2,000\n",
      "_________________________________________________________________\n",
      "generator network:\n",
      "_________________________________________________________________\n",
      "Layer (type)                 Output Shape              Param #   \n",
      "=================================================================\n",
      "input_2 (InputLayer)         (None, 32)                0         \n",
      "_________________________________________________________________\n",
      "dense_3 (Dense)              (None, 3473)              114609    \n",
      "=================================================================\n",
      "Total params: 114,609\n",
      "Trainable params: 114,609\n",
      "Non-trainable params: 0\n",
      "_________________________________________________________________\n",
      "____________________________________________________________________________________________________\n",
      "Layer (type)                     Output Shape          Param #     Connected to                     \n",
      "====================================================================================================\n",
      "input_3 (InputLayer)             (None, 3473)          0                                            \n",
      "____________________________________________________________________________________________________\n",
      "pre-encoder (Sequential)         (None, 500)           1991500     input_3[0][0]                    \n",
      "____________________________________________________________________________________________________\n",
      "z-mean (Dense)                   (None, 32)            16032       pre-encoder[1][0]                \n",
      "____________________________________________________________________________________________________\n",
      "z-log_var (Dense)                (None, 32)            16032       pre-encoder[1][0]                \n",
      "____________________________________________________________________________________________________\n",
      "sampled (Lambda)                 (None, 32)            0           z-mean[0][0]                     \n",
      "                                                                   z-log_var[0][0]                  \n",
      "____________________________________________________________________________________________________\n",
      "generator/decoder (Sequential)   (None, 3473)          114609      sampled[0][0]                    \n",
      "====================================================================================================\n",
      "Total params: 2,138,173\n",
      "Trainable params: 2,136,173\n",
      "Non-trainable params: 2,000\n",
      "____________________________________________________________________________________________________\n"
     ]
    }
   ],
   "source": [
    "def traditional_VAE(data_dim,Nb,units,layers_e,layers_d,opt='adam',BN=True):\n",
    "    pre_encoder = define_pre_encoder(data_dim, layers=layers_e,units=units,BN=BN)\n",
    "    print(\"pre-encoder network:\")\n",
    "    pre_encoder.summary()\n",
    "    generator = define_generator(Nb,data_dim,layers=layers_d,units=units,BN=BN)\n",
    "    print(\"generator network:\")\n",
    "    generator.summary()\n",
    "    \n",
    "    ## Encoder\n",
    "    x = Input(shape=(data_dim,))\n",
    "    hidden = pre_encoder(x)\n",
    "    z_mean = Dense(Nb,activation='linear', name='z-mean')(hidden)\n",
    "    z_log_var = Dense(Nb,activation='linear',name = 'z-log_var')(hidden)\n",
    "    encoder = Model(x, z_mean) # build a model to project inputs on the latent space\n",
    "\n",
    "    def sampling(args):\n",
    "        epsilon_std = 1.0\n",
    "        z_mean, z_log_var = args\n",
    "        epsilon = K.random_normal(shape=(K.shape(z_mean)[0], Nb),mean=0., stddev=epsilon_std)\n",
    "        return z_mean + K.exp(0.5*z_log_var) * epsilon #+sigma (desvest)\n",
    "    \n",
    "    ## Decoder\n",
    "    z_sampled = Lambda(sampling, output_shape=(Nb,), name='sampled')([z_mean, z_log_var])\n",
    "    output = generator(z_sampled)\n",
    "\n",
    "    def vae_loss(x, x_hat):\n",
    "        reconstruction_loss = keras.losses.categorical_crossentropy(x, x_hat)*data_dim \n",
    "        #reconstruction_loss = keras.losses.binary_crossentropy(x, x_hat)*data_dim \n",
    "\n",
    "        kl_loss = - 0.5 * K.sum(1 + z_log_var - K.square(z_mean) - K.exp(z_log_var), axis=-1) #con varianza\n",
    "        return K.mean(reconstruction_loss  + kl_loss)\n",
    "\n",
    "    traditional_vae = Model(x, output)\n",
    "    traditional_vae.compile(optimizer=opt,loss=vae_loss)\n",
    "    return traditional_vae,encoder,generator\n",
    "\n",
    "traditional_vae,encoder_Tvae,generator_Tvae = traditional_VAE(X_train.shape[1],Nb=32,units=500,layers_e=2,layers_d=0)\n",
    "traditional_vae.summary()"
   ]
  },
  {
   "cell_type": "code",
   "execution_count": 41,
   "metadata": {
    "collapsed": false,
    "scrolled": true
   },
   "outputs": [
    {
     "name": "stdout",
     "output_type": "stream",
     "text": [
      "pre-encoder network:\n",
      "_________________________________________________________________\n",
      "Layer (type)                 Output Shape              Param #   \n",
      "=================================================================\n",
      "input_4 (InputLayer)         (None, 3473)              0         \n",
      "_________________________________________________________________\n",
      "dense_4 (Dense)              (None, 500)               1737000   \n",
      "_________________________________________________________________\n",
      "batch_normalization_3 (Batch (None, 500)               2000      \n",
      "_________________________________________________________________\n",
      "dense_5 (Dense)              (None, 500)               250500    \n",
      "_________________________________________________________________\n",
      "batch_normalization_4 (Batch (None, 500)               2000      \n",
      "=================================================================\n",
      "Total params: 1,991,500\n",
      "Trainable params: 1,989,500\n",
      "Non-trainable params: 2,000\n",
      "_________________________________________________________________\n",
      "generator network:\n",
      "_________________________________________________________________\n",
      "Layer (type)                 Output Shape              Param #   \n",
      "=================================================================\n",
      "input_5 (InputLayer)         (None, 32)                0         \n",
      "_________________________________________________________________\n",
      "dense_6 (Dense)              (None, 3473)              114609    \n",
      "=================================================================\n",
      "Total params: 114,609\n",
      "Trainable params: 114,609\n",
      "Non-trainable params: 0\n",
      "_________________________________________________________________\n",
      "_________________________________________________________________\n",
      "Layer (type)                 Output Shape              Param #   \n",
      "=================================================================\n",
      "input_6 (InputLayer)         (None, 3473)              0         \n",
      "_________________________________________________________________\n",
      "pre-encoder (Sequential)     (None, 500)               1991500   \n",
      "_________________________________________________________________\n",
      "logits-b (Dense)             (None, 32)                16032     \n",
      "_________________________________________________________________\n",
      "sampled (Lambda)             (None, 32)                0         \n",
      "_________________________________________________________________\n",
      "generator/decoder (Sequentia (None, 3473)              114609    \n",
      "=================================================================\n",
      "Total params: 2,122,141\n",
      "Trainable params: 2,120,141\n",
      "Non-trainable params: 2,000\n",
      "_________________________________________________________________\n"
     ]
    }
   ],
   "source": [
    "tau = K.variable(0.67, name=\"temperature\") #o tau fijo en 0.67=2/3\n",
    "\n",
    "anneal_rate = 0.003\n",
    "min_temperature = 0.5\n",
    "tau_ann = K.variable(5.0, name=\"temperature\") #o tau fijo en 0.67\n",
    "\n",
    "def sample_gumbel(shape,eps=K.epsilon()):\n",
    "    \"\"\"Inverse Sample function from Gumbel(0, 1)\"\"\"\n",
    "    U = K.random_uniform(shape, 0, 1)\n",
    "    return K.log(U + eps)- K.log(1-U + eps)\n",
    "\n",
    "class My_Callback(keras.callbacks.Callback):    \n",
    "    def on_epoch_end(self, epoch, logs={}):\n",
    "        K.set_value(tau_ann, np.max([K.get_value(tau_ann) * np.exp(- anneal_rate * epoch), min_temperature])) \n",
    "        print(tau_ann.value().eval(session=keras.backend.get_session()))\n",
    "        return\n",
    "\n",
    "def binary_VAE(data_dim,Nb,units,layers_e,layers_d,opt='adam',BN=True):\n",
    "    pre_encoder = define_pre_encoder(data_dim, layers=layers_e,units=units,BN=BN)\n",
    "    print(\"pre-encoder network:\")\n",
    "    pre_encoder.summary()\n",
    "    generator = define_generator(Nb,data_dim,layers=layers_d,units=units,BN=BN)\n",
    "    print(\"generator network:\")\n",
    "    generator.summary()\n",
    "\n",
    "    x = Input(shape=(data_dim,))\n",
    "    hidden = pre_encoder(x)\n",
    "    logits_b  = Dense(Nb, activation='linear', name='logits-b')(hidden) #log(B_j/1-B_j)\n",
    "    #proba = np.exp(logits_b)/(1+np.exp(logits_b)) = sigmoidal(logits_b) <<<<<<<<<< recupera probabilidad\n",
    "    #dist = Dense(Nb, activation='sigmoid')(hidden) #p(b) #otra forma de modelarlo\n",
    "    encoder = Model(x, logits_b)\n",
    "\n",
    "    def sampling(logits_b):\n",
    "        #logits_b = K.log(aux/(1-aux) + K.epsilon() )\n",
    "        b = logits_b + sample_gumbel(K.shape(logits_b)) # logits + gumbel noise\n",
    "        return keras.activations.sigmoid( b/tau )\n",
    "\n",
    "    b_sampled = Lambda(sampling, output_shape=(Nb,), name='sampled')(logits_b)\n",
    "    output = generator(b_sampled)\n",
    "\n",
    "    def gumbel_loss(x, x_hat):\n",
    "        reconstruction_loss = keras.losses.categorical_crossentropy(x, x_hat)*data_dim\n",
    "\n",
    "        dist = keras.activations.sigmoid(logits_b) #B_j = Q(b_j) probability of b_j\n",
    "        kl_disc_loss = Nb*np.log(2) + K.sum( dist*K.log(dist + K.epsilon()) + (1-dist)* K.log(1-dist + K.epsilon()),axis=1)\n",
    "        return K.mean(reconstruction_loss  + kl_disc_loss)\n",
    "    \n",
    "    binary_vae = Model(x, output)\n",
    "    binary_vae.compile(optimizer=opt, loss=gumbel_loss)\n",
    "    return binary_vae, encoder,generator\n",
    "\n",
    "binary_vae,encoder_Bvae,generator_Bvae = binary_VAE(X_train.shape[1],Nb=32,units=500,layers_e=2,layers_d=0)\n",
    "binary_vae.summary()"
   ]
  },
  {
   "cell_type": "markdown",
   "metadata": {},
   "source": [
    "### Train details\n",
    "---\n",
    "\n",
    "* 30* epochs* \n",
    "* *batch size* de 100\n",
    "* optimizador Adam\n",
    "* Inicializador de Glorot (para los pesos)\n",
    "\n",
    "\n",
    "Desde el clásico variational lower bound of the marginal likelihood de Variational Autoencoder:\n",
    "\n",
    "$$\n",
    "\\ell \\geq \\mathbb{E}_Q\\left[\\log{P(d,b)} -\\log{Q(b|d)}  \\right]\n",
    "$$\n",
    "\n",
    "$$\n",
    "\\ell \\geq \\mathbb{E}_Q\\left[\\log{P(d|b)}\\right] - D_{KL}\\left( Q(b|d) \\mid \\mid P(b)  \\right)\n",
    "$$\n",
    "\n",
    "Con $P(d|b)= \\prod_{w \\in \\vec{d}} P(w|b)^w$ una distribución multinomial, por lo que el valor esperado de la reconstrucción del dato $\\vec{d}$ se puede medir con *cross entropy* y las variables latentes $b$ son binarias independies entre sí, $b_j^{(d)} \\sim Q(b_j \\mid \\vec{d};\\phi) = Bernoulli(B_j^{(d)})$\n",
    "\n",
    " F.O.\n",
    "$$\n",
    "Min \\ \\mathcal{L} = Min \\ \\sum_{\\vec{d} \\in D} \\left( \\sum_j^J D_{KL}\\left( Q(b_j \\mid \\vec{d};\\phi) \\mid \\mid P(b_j)\\right) \\right) - \\left(\\sum_{w \\in \\vec{d}} w \\cdot \\log P(w \\mid \\vec{b}^{(d)};\\theta)\\right)\n",
    "$$\n",
    "\n",
    "> Con $\\vec{b}^{(d)} = (b_1^{(d)},b_2^{(d)},\\ldots,b_K^{(d)} ) $, Las dimensionalidades son: $\\vec{d} \\in \\mathbb{R}^{{V}}$, y representa al vector de representación de un documento, $w$ es la representación de una palabra, por ejemplo la cantidad de repeticiones en el documento, $\\vec{b} \\in \\mathbb{R}^K$, con $|V|$  el tamaño del vocabulario o cantidad de *tokens* a utilizar, $D$ la cantidad de documentos en el dataset, $J$ la cantidad de bits a representar como variable latente.\n",
    "\n",
    "> Utilizando el truco de reparametrización de Gumbel-softmax (caso binario), con $U \\sim$ Uniform$(0,1)$, se tiene:\n",
    "$$b_j^{(d)} = \\sigma \\left(\\left( \\log{ \\frac{B_j^{(d)}}{1-B_j^{(d)}}} + \\log{\\frac{U}{1-U}} \\right)/\\lambda \\right) $$\n",
    "\n",
    "> Con el *prior* de $P(b_j)=0.5$ para todo *bit* $j$ la divergencia KL queda con una forma cerrada igual a:\n",
    "\\begin{align}\n",
    "\\sum_j^K D_{KL}\\left( Q(b_j \\mid \\vec{d};\\phi) \\mid \\mid P(b_j)\\right) &= \\sum_j^J \\mathbb{E}_{Q(b_j)}[Q(b_j \\mid \\vec{d};\\phi)] - \\mathbb{E}_{Q(b_j)}[P(b_j)]  \\\\ \n",
    "&= K\\cdot \\log{2} + \\sum_j^J B_j^{(d)} \\cdot \\log{B_j^{(d)}} + (1-B_j^{(d)})\\cdot \\log{(1-B_j^{(d)} )}\n",
    "\\end{align}\n",
    "\n",
    "\n",
    "* $Q(b_j \\mid \\vec{d};\\phi)$ asemeja lo que es el encoder, a través de ser una función que obtiene los parámetros de la distribución de la variable latente $b_j$ dependiente del documento, $B_j^{(d)}$\n",
    "* $P(w \\mid \\vec{b}^{(d)};\\theta)$ asemeja lo que es el decoder, a través de ser una función que obtiene la distribución de probabilidad sobre las palabras $w$ dependiendo de la variable latente muestreada $\\vec{b}^{(d)}$.\n",
    "* En base a lo comentado en Concrete distribution y para evitar el tener que experimentar con la tasa/nivel de setear la temperatura $\\lambda$ se setea a  2/3 como se comenta que es una buena forma de inicializar.\n",
    "\n",
    "\n",
    "Primeras experimentaciones leves:\n",
    "* **Añadir** *Batch Normalization* ayuda a estabilizar el entrenamiento\n",
    "* **Max features** (*top k tokens*)  en características/representación fuciona mucho mejor que **min count**. Reduce el número de parámetros del modelo y también el *overfitting*\n",
    "* Para representación *Term Frecuency* como entrada al modelo es necesario normalizar con transformación logarítimica: $\\log{(tf+1)}$, mucho más estable el entrenamiento"
   ]
  },
  {
   "cell_type": "code",
   "execution_count": 70,
   "metadata": {
    "collapsed": true
   },
   "outputs": [],
   "source": [
    "batch_size = 100\n",
    "epochs = 30"
   ]
  },
  {
   "cell_type": "code",
   "execution_count": 119,
   "metadata": {
    "collapsed": false
   },
   "outputs": [
    {
     "data": {
      "image/png": "[encoded data removed]",
      "text/plain": [
       "<matplotlib.figure.Figure at 0x2aab16ef35c0>"
      ]
     },
     "metadata": {},
     "output_type": "display_data"
    }
   ],
   "source": [
    "##representacion soft para TF ---mucho mejor!\n",
    "X_train_input = np.log(X_train+1) \n",
    "X_val_input = np.log(X_val+1) \n",
    "X_test_input = np.log(X_test+1) \n",
    "plt.plot(X_train_input[0])\n",
    "plt.show()\n",
    "\n",
    "#soft para tf-idf\n",
    "X_train_input2 = np.log(X_train2+1) \n",
    "X_val_input2 = np.log(X_val2+1) \n",
    "X_test_input2 = np.log(X_test2+1) "
   ]
  },
  {
   "cell_type": "code",
   "execution_count": 347,
   "metadata": {
    "collapsed": false,
    "scrolled": true
   },
   "outputs": [
    {
     "name": "stdout",
     "output_type": "stream",
     "text": [
      "Train on 5826 samples, validate on 1943 samples\n",
      "Epoch 1/30\n",
      "5826/5826 [==============================] - 1s - loss: 5752937.5760 - val_loss: 5362028.7259\n",
      "Epoch 2/30\n",
      "5826/5826 [==============================] - 1s - loss: 4895761.1208 - val_loss: 4842385.2705\n",
      "Epoch 3/30\n",
      "5826/5826 [==============================] - 0s - loss: 4656174.8387 - val_loss: 4692816.5201\n",
      "Epoch 4/30\n",
      "5826/5826 [==============================] - 0s - loss: 4494098.5316 - val_loss: 4530468.4982\n",
      "Epoch 5/30\n",
      "5826/5826 [==============================] - 0s - loss: 4360813.8847 - val_loss: 4367079.1245\n",
      "Epoch 6/30\n",
      "5826/5826 [==============================] - 0s - loss: 4255037.5774 - val_loss: 4180469.9534\n",
      "Epoch 7/30\n",
      "5826/5826 [==============================] - 0s - loss: 4161564.7523 - val_loss: 4049514.2630\n",
      "Epoch 8/30\n",
      "5826/5826 [==============================] - 0s - loss: 4080348.2927 - val_loss: 3957522.6343\n",
      "Epoch 9/30\n",
      "5826/5826 [==============================] - 0s - loss: 4018001.0853 - val_loss: 3924057.7805\n",
      "Epoch 10/30\n",
      "5826/5826 [==============================] - 0s - loss: 3971730.0023 - val_loss: 3896101.3582\n",
      "Epoch 11/30\n",
      "5826/5826 [==============================] - 0s - loss: 3921606.3253 - val_loss: 3879412.4964\n",
      "Epoch 12/30\n",
      "5826/5826 [==============================] - 0s - loss: 3896451.7238 - val_loss: 3866956.3747\n",
      "Epoch 13/30\n",
      "5826/5826 [==============================] - 0s - loss: 3863393.3373 - val_loss: 3857137.1212\n",
      "Epoch 14/30\n",
      "5826/5826 [==============================] - 0s - loss: 3835721.0136 - val_loss: 3852364.5376\n",
      "Epoch 15/30\n",
      "5826/5826 [==============================] - 0s - loss: 3815449.9625 - val_loss: 3847638.2324\n",
      "Epoch 16/30\n",
      "5826/5826 [==============================] - 0s - loss: 3796584.4397 - val_loss: 3840044.2120\n",
      "Epoch 17/30\n",
      "5826/5826 [==============================] - 0s - loss: 3780715.3634 - val_loss: 3839800.9532\n",
      "Epoch 18/30\n",
      "5826/5826 [==============================] - 1s - loss: 3766207.3617 - val_loss: 3836084.9905\n",
      "Epoch 19/30\n",
      "5826/5826 [==============================] - 0s - loss: 3754926.5688 - val_loss: 3836762.0700\n",
      "Epoch 20/30\n",
      "5826/5826 [==============================] - 0s - loss: 3745222.0361 - val_loss: 3837711.6547\n",
      "Epoch 21/30\n",
      "5826/5826 [==============================] - 0s - loss: 3738189.1502 - val_loss: 3838094.7808\n",
      "Epoch 22/30\n",
      "5826/5826 [==============================] - 0s - loss: 3731907.0064 - val_loss: 3832987.0587\n",
      "Epoch 23/30\n",
      "5826/5826 [==============================] - 0s - loss: 3719660.5144 - val_loss: 3830165.1951\n",
      "Epoch 24/30\n",
      "5826/5826 [==============================] - 0s - loss: 3712026.1417 - val_loss: 3834695.8860\n",
      "Epoch 25/30\n",
      "5826/5826 [==============================] - 0s - loss: 3704472.0984 - val_loss: 3832508.0301\n",
      "Epoch 26/30\n",
      "5826/5826 [==============================] - 1s - loss: 3704090.8864 - val_loss: 3830839.0157\n",
      "Epoch 27/30\n",
      "5826/5826 [==============================] - 0s - loss: 3698825.9894 - val_loss: 3832202.3212\n",
      "Epoch 28/30\n",
      "5826/5826 [==============================] - 1s - loss: 3691692.2673 - val_loss: 3832336.3919\n",
      "Epoch 29/30\n",
      "5826/5826 [==============================] - 0s - loss: 3685920.3920 - val_loss: 3830519.9135\n",
      "Epoch 30/30\n",
      "5826/5826 [==============================] - 0s - loss: 3681565.0452 - val_loss: 3834446.1366\n"
     ]
    }
   ],
   "source": [
    "hist1 = traditional_vae.fit(X_train_input, X_train, epochs=epochs, batch_size=batch_size\n",
    "                           ,validation_data=(X_val_input,X_val))"
   ]
  },
  {
   "cell_type": "code",
   "execution_count": 348,
   "metadata": {
    "collapsed": false,
    "scrolled": true
   },
   "outputs": [
    {
     "name": "stdout",
     "output_type": "stream",
     "text": [
      "Train on 5826 samples, validate on 1943 samples\n",
      "Epoch 1/30\n",
      "5826/5826 [==============================] - 1s - loss: 6020755.8225 - val_loss: 5121737.8677\n",
      "Epoch 2/30\n",
      "5826/5826 [==============================] - 0s - loss: 5365522.6928 - val_loss: 4827390.6217\n",
      "Epoch 3/30\n",
      "5826/5826 [==============================] - 1s - loss: 5230014.0418 - val_loss: 4792039.8755\n",
      "Epoch 4/30\n",
      "5826/5826 [==============================] - 1s - loss: 5204167.3199 - val_loss: 4779892.1778\n",
      "Epoch 5/30\n",
      "5826/5826 [==============================] - 0s - loss: 5181176.3637 - val_loss: 4762514.1742\n",
      "Epoch 6/30\n",
      "5826/5826 [==============================] - 0s - loss: 5158081.0994 - val_loss: 4732288.9233\n",
      "Epoch 7/30\n",
      "5826/5826 [==============================] - 1s - loss: 5133888.6111 - val_loss: 4705358.3011\n",
      "Epoch 8/30\n",
      "5826/5826 [==============================] - 0s - loss: 5108783.7872 - val_loss: 4679664.1758\n",
      "Epoch 9/30\n",
      "5826/5826 [==============================] - 0s - loss: 5079638.3908 - val_loss: 4651403.8996\n",
      "Epoch 10/30\n",
      "5826/5826 [==============================] - 0s - loss: 5052472.5366 - val_loss: 4625995.2735\n",
      "Epoch 11/30\n",
      "5826/5826 [==============================] - 0s - loss: 5026986.7326 - val_loss: 4603419.4094\n",
      "Epoch 12/30\n",
      "5826/5826 [==============================] - 0s - loss: 5001933.3270 - val_loss: 4580011.3186\n",
      "Epoch 13/30\n",
      "5826/5826 [==============================] - 1s - loss: 4975949.1073 - val_loss: 4556459.9308\n",
      "Epoch 14/30\n",
      "5826/5826 [==============================] - 1s - loss: 4951671.7690 - val_loss: 4534479.2674\n",
      "Epoch 15/30\n",
      "5826/5826 [==============================] - 0s - loss: 4928422.3582 - val_loss: 4514113.5178\n",
      "Epoch 16/30\n",
      "5826/5826 [==============================] - 0s - loss: 4907085.2510 - val_loss: 4495748.4977\n",
      "Epoch 17/30\n",
      "5826/5826 [==============================] - 1s - loss: 4886042.8045 - val_loss: 4478880.6143\n",
      "Epoch 18/30\n",
      "5826/5826 [==============================] - 0s - loss: 4865924.6354 - val_loss: 4461827.1328\n",
      "Epoch 19/30\n",
      "5826/5826 [==============================] - 0s - loss: 4846740.0606 - val_loss: 4446244.4840\n",
      "Epoch 20/30\n",
      "5826/5826 [==============================] - 0s - loss: 4828694.2152 - val_loss: 4432822.6675\n",
      "Epoch 21/30\n",
      "5826/5826 [==============================] - 0s - loss: 4811345.2528 - val_loss: 4418581.9835\n",
      "Epoch 22/30\n",
      "5826/5826 [==============================] - 1s - loss: 4793704.1466 - val_loss: 4404789.7470\n",
      "Epoch 23/30\n",
      "5826/5826 [==============================] - 0s - loss: 4777080.1137 - val_loss: 4392159.7411\n",
      "Epoch 24/30\n",
      "5826/5826 [==============================] - 0s - loss: 4761621.3581 - val_loss: 4380665.6588\n",
      "Epoch 25/30\n",
      "5826/5826 [==============================] - 0s - loss: 4746826.9598 - val_loss: 4369355.2885\n",
      "Epoch 26/30\n",
      "5826/5826 [==============================] - 0s - loss: 4731659.3034 - val_loss: 4359061.5782\n",
      "Epoch 27/30\n",
      "5826/5826 [==============================] - 1s - loss: 4717984.2104 - val_loss: 4348853.9439\n",
      "Epoch 28/30\n",
      "5826/5826 [==============================] - 1s - loss: 4703824.2548 - val_loss: 4337724.7347\n",
      "Epoch 29/30\n",
      "5826/5826 [==============================] - 0s - loss: 4690532.2479 - val_loss: 4328786.5847\n",
      "Epoch 30/30\n",
      "5826/5826 [==============================] - 0s - loss: 4677232.6871 - val_loss: 4319739.1897\n"
     ]
    }
   ],
   "source": [
    "hist2 = binary_vae.fit(X_train_input, X_train, epochs=epochs, batch_size=batch_size\n",
    "                           ,validation_data=(X_val_input,X_val))"
   ]
  },
  {
   "cell_type": "code",
   "execution_count": 196,
   "metadata": {
    "collapsed": false
   },
   "outputs": [
    {
     "data": {
      "image/png": "[encoded data removed]",
      "text/plain": [
       "<matplotlib.figure.Figure at 0x7f5531ccd748>"
      ]
     },
     "metadata": {},
     "output_type": "display_data"
    }
   ],
   "source": [
    "### binary vs traditional\n",
    "history_dict1 = hist1.history\n",
    "history_dict2 = hist2.history\n",
    "loss_values1 = history_dict1['loss']\n",
    "val_loss_values1 = history_dict1['val_loss']\n",
    "loss_values2 = history_dict2['loss']\n",
    "val_loss_values2 = history_dict2['val_loss']\n",
    "epochs_l = range(1, len(loss_values1) + 1)\n",
    "\n",
    "plt.figure(figsize=(14,6))\n",
    "plt.plot(epochs_l, loss_values1, 'bo-', label = \"Train set traditional\")\n",
    "plt.plot(epochs_l, val_loss_values1, 'b*-', label = \"Val set traditional\")\n",
    "plt.plot(epochs_l, loss_values2, 'go-', label = \"Train set binary\")\n",
    "plt.plot(epochs_l, val_loss_values2, 'g*-', label = \"Val set binary\")\n",
    "plt.xlabel('Epochs')\n",
    "plt.ylabel('Loss')\n",
    "plt.legend(loc=\"upper right\", fancybox= True)\n",
    "plt.title(\"VAE loss\")\n",
    "plt.show()"
   ]
  },
  {
   "cell_type": "code",
   "execution_count": 350,
   "metadata": {
    "collapsed": false
   },
   "outputs": [
    {
     "data": {
      "image/png": "[encoded data removed]",
      "text/plain": [
       "<matplotlib.figure.Figure at 0x7f0bafc764e0>"
      ]
     },
     "metadata": {},
     "output_type": "display_data"
    }
   ],
   "source": [
    "### binary vs traditional\n",
    "history_dict1 = hist1.history\n",
    "history_dict2 = hist2.history\n",
    "loss_values1 = history_dict1['loss']\n",
    "val_loss_values1 = history_dict1['val_loss']\n",
    "loss_values2 = history_dict2['loss']\n",
    "val_loss_values2 = history_dict2['val_loss']\n",
    "epochs_l = range(1, len(loss_values1) + 1)\n",
    "\n",
    "plt.figure(figsize=(14,6))\n",
    "plt.plot(epochs_l, loss_values1, 'bo-', label = \"Train set traditional\")\n",
    "plt.plot(epochs_l, val_loss_values1, 'b*-', label = \"Val set traditional\")\n",
    "plt.plot(epochs_l, loss_values2, 'go-', label = \"Train set binary\")\n",
    "plt.plot(epochs_l, val_loss_values2, 'g*-', label = \"Val set binary\")\n",
    "plt.xlabel('Epochs')\n",
    "plt.ylabel('Loss')\n",
    "plt.legend(loc=\"upper right\", fancybox= True)\n",
    "plt.title(\"VAE loss Reuters\")\n",
    "plt.show()"
   ]
  },
  {
   "cell_type": "markdown",
   "metadata": {},
   "source": [
    "### Another intrinsic measure: *Classification*\n"
   ]
  },
  {
   "cell_type": "code",
   "execution_count": 254,
   "metadata": {
    "collapsed": true,
    "scrolled": true
   },
   "outputs": [],
   "source": [
    "#function to define and train model\n",
    "from sklearn.metrics import jaccard_similarity_score\n",
    "\n",
    "def define_fit(a_model,X,Y):\n",
    "    #define model\n",
    "    model_FF = Sequential()\n",
    "    model_FF.add(Dense(256, input_dim=X.shape[1], activation=\"relu\"))\n",
    "    #model_FF.add(Dense(128, activation=\"relu\"))\n",
    "    if a_model == 'multi-class':\n",
    "        model_FF.add(Dense(Y.shape[1], activation=\"sigmoid\"))\n",
    "        model_FF.compile(optimizer='adam', loss=\"binary_crossentropy\")\n",
    "    else:\n",
    "        model_FF.add(Dense(Y.shape[1], activation=\"softmax\"))\n",
    "        model_FF.compile(optimizer='adam', loss=\"categorical_crossentropy\",metrics=[\"accuracy\"])\n",
    "    model_FF.fit(X, Y, epochs=20, batch_size=100, verbose=0)\n",
    "    return model_FF\n",
    "results = []"
   ]
  },
  {
   "cell_type": "code",
   "execution_count": 334,
   "metadata": {
    "collapsed": false
   },
   "outputs": [
    {
     "data": {
      "text/plain": [
       "array([[0., 0., 1., ..., 0., 0., 0.],\n",
       "       [0., 0., 1., ..., 0., 0., 0.],\n",
       "       [0., 0., 1., ..., 0., 0., 0.],\n",
       "       ...,\n",
       "       [0., 1., 0., ..., 0., 0., 0.],\n",
       "       [0., 1., 0., ..., 0., 0., 0.],\n",
       "       [0., 0., 0., ..., 0., 0., 0.]])"
      ]
     },
     "execution_count": 334,
     "metadata": {},
     "output_type": "execute_result"
    }
   ],
   "source": [
    "#codify input data (binarize -- or aprox)\n",
    "X_train_Bcode = keras.activations.sigmoid(encoder_Bvae.predict(X_train_input)).eval(session=K.get_session())\n",
    "X_val_Bcode = keras.activations.sigmoid(encoder_Bvae.predict(X_val_input)).eval(session=K.get_session())\n",
    "#X_train_Bcode = encoder_Bvae.predict(X_train_input)\n",
    "#X_val_Bcode = encoder_Bvae.predict(X_val_input)\n",
    "\n",
    "X_train_Tcode = encoder_Tvae.predict(X_train_input)\n",
    "X_val_Tcode = encoder_Tvae.predict(X_val_input)\n",
    "\n",
    "##codify labels\n",
    "labels_aux = np.asarray(labels)\n",
    "def codify_labels(inputs):\n",
    "    matrix_labels = np.zeros((inputs.shape[0],labels_aux.shape[0]))\n",
    "    for i,aux_labels in enumerate(inputs):\n",
    "        if type(aux_labels) == list:\n",
    "            for aux_label in aux_labels:\n",
    "                idx = np.where(aux_label==labels_aux)[0]\n",
    "                matrix_labels[i,idx] = 1 #various-multiple\n",
    "        else:\n",
    "            idx = np.where(aux_labels==labels_aux)[0]\n",
    "            matrix_labels[i,idx] = 1 #only one\n",
    "    return matrix_labels\n",
    "\n",
    "C_train = codify_labels(labels_train)\n",
    "C_val = codify_labels(labels_val)\n",
    "C_train"
   ]
  },
  {
   "cell_type": "code",
   "execution_count": 335,
   "metadata": {
    "collapsed": false,
    "scrolled": true
   },
   "outputs": [
    {
     "name": "stdout",
     "output_type": "stream",
     "text": [
      "Done\n"
     ]
    }
   ],
   "source": [
    "aux = [\"Snippets\"]\n",
    "a_tipe = \"normal\"\n",
    "\n",
    "model1 = define_fit(a_tipe,X_train_Bcode,C_train)\n",
    "model2 = define_fit(a_tipe,X_train_Tcode,C_train)\n",
    "model3 = define_fit(a_tipe,X_train_input,C_train)\n",
    "\n",
    "if a_tipe == \"normal\":\n",
    "    aux.append(model3.evaluate(X_train_input,C_train,verbose=0)[1])\n",
    "    aux.append(model3.evaluate(X_val_input,C_val,verbose=0)[1])\n",
    "\n",
    "    aux.append(model2.evaluate(X_train_Tcode,C_train,verbose=0)[1])\n",
    "    aux.append(model2.evaluate(X_val_Tcode,C_val,verbose=0)[1])\n",
    "\n",
    "    aux.append(model1.evaluate(X_train_Bcode,C_train,verbose=0)[1])\n",
    "    aux.append(model1.evaluate(X_val_Bcode,C_val,verbose=0)[1])\n",
    "elif a_tipe == \"multi-class\":\n",
    "    aux.append(jaccard_similarity_score(C_train, (model3.predict(X_train_input)>=0.5)*1))\n",
    "    aux.append(jaccard_similarity_score(C_val, (model3.predict(X_val_input)>=0.5)*1))\n",
    "\n",
    "    aux.append(jaccard_similarity_score(C_train, (model2.predict(X_train_Tcode)>=0.5)*1))\n",
    "    aux.append(jaccard_similarity_score(C_val, (model2.predict(X_val_Tcode)>=0.5)*1))\n",
    "\n",
    "    aux.append(jaccard_similarity_score(C_train, (model1.predict(X_train_Bcode)>=0.5)*1))\n",
    "    aux.append(jaccard_similarity_score(C_val, (model1.predict(X_val_Bcode)>=0.5)*1))\n",
    "    \n",
    "results.append(aux)\n",
    "print(\"Done\")"
   ]
  },
  {
   "cell_type": "code",
   "execution_count": 336,
   "metadata": {
    "collapsed": false
   },
   "outputs": [
    {
     "name": "stdout",
     "output_type": "stream",
     "text": [
      "\n",
      "Accuracy on dataset:  20 Newsgroup\n",
      "Raw Input (train-val): 0.999293 - 0.903499\n",
      "Traditional VAE (train-val): 0.934590 - 0.781548\n",
      "Binary VAE (train-val): 0.696052 - 0.678685\n",
      "\n",
      "Accuracy on dataset:  Reuters\n",
      "Raw Input (train-val): 0.988471 - 0.834670\n",
      "Traditional VAE (train-val): 0.926265 - 0.825087\n",
      "Binary VAE (train-val): 0.695084 - 0.694799\n",
      "\n",
      "Accuracy on dataset:  Snippets\n",
      "Raw Input (train-val): 0.999602 - 0.943936\n",
      "Traditional VAE (train-val): 0.967926 - 0.807157\n",
      "Binary VAE (train-val): 0.859775 - 0.834592\n"
     ]
    }
   ],
   "source": [
    "for valores in results:\n",
    "    print(\"\\nAccuracy on dataset: \",valores[0])\n",
    "    print(\"Raw Input (train-val): %f - %f\"%(valores[1],valores[2]))\n",
    "    print(\"Traditional VAE (train-val): %f - %f\"%(valores[3],valores[4]))\n",
    "    print(\"Binary VAE (train-val): %f - %f\"%(valores[5],valores[6]))"
   ]
  },
  {
   "cell_type": "markdown",
   "metadata": {},
   "source": [
    "A través de las curvas de entrenamiento se puede ver que el VAE tradicional obtiene mejores resultados que el binario respecto a la reconstrucción de los datos, lo cual resulta bastante lógico ya que tiene valores más libres en donde pueden vivir las variables (dominio de variable latente: los reales) *vs* el binario que está mucho más restringido (dominio de variable latente: entre 0 y 1). Otra cosa a nombrar es que el modelo con variables latentes binarias reduce el *overfitting* drásticamente, disminuyendo ambas curvas en la misma proporción.\n",
    "\n",
    "### Results\n",
    "---\n",
    "Para evaluar los resultados y poder comparar es necesario realizar el proceso de evaluación en un sistema de recuperación de información. Ésto es recuperar objetos similares a los objetos de una consulta/*query*. Como *baseline* para comparar se utiliza el modelo presentado en *Variational Deep Semantic Hashing* (VDSH).\n",
    "\n",
    "#### Proceso de evaluación (*content-based retrieval*)\n",
    "> *Query*: **Documento**\n",
    "\n",
    "1. Calcular código hashing/binario de cada dato/documento\n",
    "    * Para *VAE* tradicional se utiliza la mediana de cada componente como *treshold*\n",
    "    * Para *VAE* binario se utiliza el *treshold* de 0.5 en la probabilidad\n",
    "2. Recuperar documentos basado en *match* perfecto, *top K* o *ball search* de distancia *hamming* de un documento consulta.\n",
    "    * En el mismo conjunto/*set*\n",
    "    * Con *query* recupero sobre *database*\n",
    "3. Medir *precision* y *recall* en base a algún criterio de relevancia.\n",
    "    * Documento relevante a otro o no -> Si comparten al menos una clase.\n",
    "    \n",
    "|$b_1$|$b_2$|$b_3$|$b_4$|\n",
    "|---|---|---|---|\n",
    "||..|..||\n",
    "|1|0|1|0| \n",
    "|1|0|1|1| \n",
    "|1|0|0|0| \n",
    "|1|0|0|1|\n",
    "||..|..||"
   ]
  },
  {
   "cell_type": "code",
   "execution_count": 44,
   "metadata": {
    "collapsed": true
   },
   "outputs": [],
   "source": [
    "class MedianHashing(object):\n",
    "    def __init__(self):\n",
    "        self.threshold = None\n",
    "        self.latent_dim = None\n",
    "    def fit(self, X):\n",
    "        self.threshold = np.median(X, axis=0)\n",
    "        self.latent_dim = X.shape[1]\n",
    "    def transform(self, X):\n",
    "        assert(X.shape[1] == self.latent_dim)\n",
    "        binary_code = np.zeros(X.shape)\n",
    "        for i in range(self.latent_dim):\n",
    "            binary_code[np.nonzero(X[:,i] < self.threshold[i]),i] = 0\n",
    "            binary_code[np.nonzero(X[:,i] >= self.threshold[i]),i] = 1\n",
    "        return binary_code.astype(int)\n",
    "    def fit_transform(self, X):\n",
    "        self.fit(X)\n",
    "        return self.transform(X)\n",
    "    \n",
    "def get_similar(origen,destination,tipo=\"topK\",K=100,ball=2):\n",
    "    \"\"\"\n",
    "        Retrieve similar documents to the origen document inside the destination corpus (source)\n",
    "    \"\"\"\n",
    "    origen_similares = [] #indices\n",
    "    for number,dato_hash in enumerate(origen):\n",
    "        hamming_distance = np.sum(dato_hash != destination,axis=1) #distancia de hamming (# bits distintos)\n",
    "        if tipo==\"EM\": #match exacto\n",
    "            ball= 0\n",
    "        \n",
    "        if tipo==\"ball\" or tipo==\"EM\":\n",
    "            K = np.sum(np.sort(hamming_distance)<=ball)\n",
    "            \n",
    "        #get topK\n",
    "        ordenados = np.argsort(hamming_distance) #indices\n",
    "        origen_similares.append(ordenados[:K]) \n",
    "        \n",
    "        origen_similares[-1] = np.setdiff1d(origen_similares[-1] , np.asarray(number))\n",
    "    return origen_similares\n",
    "\n",
    "#build similar or compared in labels\n",
    "def measure_metrics(data_similars,labels_data,labels_destination=[]):\n",
    "    #for now compare labels\n",
    "    count_labels = {label:np.sum([label in aux for aux in labels_data]) for label in labels}\n",
    "    precision = 0.\n",
    "    recall =0.\n",
    "    for similars, label in zip(data_similars,labels_data): #source de donde se extrajo info\n",
    "        if len(similars) == 0: #no encontro similares:\n",
    "            continue\n",
    "            \n",
    "        if len(labels_destination) == 0: #extrajo del mismo conjunto\n",
    "            labels_retrieve = labels_data[similars] \n",
    "        else:\n",
    "            labels_retrieve = labels_destination[similars] \n",
    "        \n",
    "        if type(labels_retrieve[0]) == list: #multiple classes\n",
    "            tp = np.sum([len(set(label)& set(aux))>=1 for aux in labels_retrieve]) #al menos 1 clase en comun --quizas variar\n",
    "            recall += tp/np.sum([count_labels[aux] for aux in label ]) #cuenta todos los label del dato\n",
    "        else: #only one class\n",
    "            tp = np.sum(labels_retrieve == label) #true positive\n",
    "            recall += tp/count_labels[label]\n",
    "        precision += tp/len(similars)\n",
    "    \n",
    "    return precision/len(labels_data), recall/len(labels_data)"
   ]
  },
  {
   "cell_type": "code",
   "execution_count": 129,
   "metadata": {
    "collapsed": false,
    "scrolled": true
   },
   "outputs": [
    {
     "data": {
      "text/plain": [
       "array([[1, 1, 1, ..., 0, 0, 1],\n",
       "       [0, 0, 0, ..., 1, 1, 1],\n",
       "       [0, 1, 1, ..., 1, 0, 0],\n",
       "       ...,\n",
       "       [0, 0, 0, ..., 1, 0, 1],\n",
       "       [0, 1, 0, ..., 0, 0, 1],\n",
       "       [1, 1, 1, ..., 1, 0, 0]])"
      ]
     },
     "execution_count": 129,
     "metadata": {},
     "output_type": "execute_result"
    }
   ],
   "source": [
    "#load vae, encoder and generator\n",
    "encode_train = encoder_Tvae.predict(X_train_input)\n",
    "encode_val = encoder_Tvae.predict(X_val_input)\n",
    "\n",
    "#para VAE tradicional\n",
    "median= MedianHashing()\n",
    "median.fit(encode_train)\n",
    "\n",
    "train_hash = median.transform(encode_train)\n",
    "val_hash = median.transform(encode_val)\n",
    "train_hash"
   ]
  },
  {
   "cell_type": "code",
   "execution_count": 119,
   "metadata": {
    "collapsed": false
   },
   "outputs": [
    {
     "data": {
      "text/plain": [
       "array([[1, 1, 0, ..., 0, 1, 1],\n",
       "       [0, 0, 1, ..., 1, 1, 0],\n",
       "       [1, 1, 1, ..., 0, 1, 0],\n",
       "       ...,\n",
       "       [0, 1, 0, ..., 0, 1, 1],\n",
       "       [0, 1, 1, ..., 1, 1, 0],\n",
       "       [1, 1, 1, ..., 0, 1, 1]])"
      ]
     },
     "execution_count": 119,
     "metadata": {},
     "output_type": "execute_result"
    }
   ],
   "source": [
    "encode_train = encoder_Bvae.predict(X_train_input) #logits\n",
    "encode_val = encoder_Bvae.predict(X_val_input)\n",
    "\n",
    "#para Binary VAE\n",
    "probas_train = keras.activations.sigmoid(encode_train).eval(session=K.get_session())\n",
    "probas_val = keras.activations.sigmoid(encode_val).eval(session=K.get_session())\n",
    "\n",
    "train_hash = (probas_train > 0.5)*1\n",
    "val_hash = (probas_val > 0.5)*1\n",
    "train_hash"
   ]
  },
  {
   "cell_type": "code",
   "execution_count": 79,
   "metadata": {
    "collapsed": false
   },
   "outputs": [
    {
     "data": {
      "text/plain": [
       "[array([], dtype=int64), array([], dtype=int64)]"
      ]
     },
     "execution_count": 79,
     "metadata": {},
     "output_type": "execute_result"
    }
   ],
   "source": [
    "val_similares_val =  get_similar(val_hash,val_hash,tipo=\"EM\")\n",
    "val_similares_val[:2]"
   ]
  },
  {
   "cell_type": "markdown",
   "metadata": {},
   "source": [
    "En algunos casos cuando se busca con un *match* exacto no se encuentra ningún otro dato que se le asigne la misma dirección, es por ésto que se acude a otras técnicas para buscar objetos similares."
   ]
  },
  {
   "cell_type": "code",
   "execution_count": 137,
   "metadata": {
    "collapsed": false
   },
   "outputs": [
    {
     "data": {
      "text/plain": [
       "[array([  18,   64,  124,  170,  185,  209,  212,  272,  277,  339,  352,\n",
       "         399,  415,  425,  454,  459,  463,  467,  492,  498,  512,  517,\n",
       "         518,  524,  603,  634,  648,  674,  744,  819,  832,  852,  865,\n",
       "         869,  870,  972,  992, 1015, 1056, 1103, 1168, 1174, 1186, 1194,\n",
       "        1200, 1237, 1247, 1277, 1323, 1339, 1367, 1402, 1411, 1463, 1473,\n",
       "        1477, 1555, 1557, 1643, 1670, 1698, 1757, 1760, 1769, 1808, 1834,\n",
       "        1835, 1849, 1856, 1968, 1991, 2033, 2074, 2078, 2095, 2116, 2129,\n",
       "        2172, 2191, 2194, 2343, 2350, 2377, 2432, 2434, 2448, 2490, 2513,\n",
       "        2538, 2563, 2564, 2625, 2661, 2740, 2774, 2776, 2794, 2795, 2822]),\n",
       " array([  45,   50,  103,  110,  147,  161,  169,  179,  187,  226,  274,\n",
       "         287,  405,  426,  443,  535,  548,  597,  616,  641,  655,  776,\n",
       "         785,  792,  835,  846,  873,  876,  890,  921,  973,  980, 1084,\n",
       "        1136, 1155, 1219, 1222, 1315, 1322, 1337, 1340, 1346, 1354, 1357,\n",
       "        1378, 1383, 1397, 1435, 1447, 1471, 1509, 1519, 1521, 1526, 1582,\n",
       "        1587, 1603, 1662, 1751, 1755, 1881, 1895, 1898, 1901, 1912, 1936,\n",
       "        1937, 1969, 1973, 1974, 1984, 1986, 2001, 2045, 2139, 2200, 2211,\n",
       "        2216, 2303, 2315, 2337, 2344, 2348, 2362, 2368, 2413, 2439, 2475,\n",
       "        2498, 2556, 2571, 2645, 2737, 2741, 2745, 2747, 2757, 2798, 2827])]"
      ]
     },
     "execution_count": 137,
     "metadata": {},
     "output_type": "execute_result"
    }
   ],
   "source": [
    "val_similares_val =  get_similar(val_hash,val_hash,tipo=\"topK\",K=100)\n",
    "val_similares_val[:2]"
   ]
  },
  {
   "cell_type": "code",
   "execution_count": 138,
   "metadata": {
    "collapsed": false,
    "scrolled": true
   },
   "outputs": [
    {
     "name": "stdout",
     "output_type": "stream",
     "text": [
      "Precision (query: validation, source: validation)  0.2675107383484876\n",
      "Recall    (query: validation, source: validation)  0.18291936961539612\n"
     ]
    }
   ],
   "source": [
    "precision,recall = measure_metrics(val_similares_val,labels_val)\n",
    "print(\"Precision (query: validation, source: validation) \",precision)\n",
    "print(\"Recall    (query: validation, source: validation) \",recall)"
   ]
  },
  {
   "cell_type": "markdown",
   "metadata": {},
   "source": [
    "### Experimentación\n",
    "---\n",
    "A continación se realizan las experimentaciones correspondientes para encontrar la mejor arquitectura y mejor configuración del modelo propuesto en base a las métricas *precision* y *recall* del conjunto de validación en el **top 100** de elementos recuperados."
   ]
  },
  {
   "cell_type": "code",
   "execution_count": 45,
   "metadata": {
    "collapsed": true
   },
   "outputs": [],
   "source": [
    "def evaluate_hashing(encoder,train,val,labels_set,traditional=True,tipo=\"topK\"):\n",
    "    encode_train = encoder.predict(train)\n",
    "    encode_val = encoder.predict(val)\n",
    "    if traditional:\n",
    "        median= MedianHashing()\n",
    "        median.fit(encode_train)\n",
    "        val_hash = median.transform(encode_val)\n",
    "    else: #para Binary VAE\n",
    "        probas_val = keras.activations.sigmoid(encode_val).eval(session=K.get_session())\n",
    "        val_hash = (probas_val > 0.5)*1\n",
    "\n",
    "    val_similares_val =  get_similar(val_hash,val_hash,tipo=tipo,K=100) \n",
    "    return measure_metrics(val_similares_val,labels_set)"
   ]
  },
  {
   "cell_type": "code",
   "execution_count": 67,
   "metadata": {
    "collapsed": false,
    "scrolled": true
   },
   "outputs": [
    {
     "name": "stdout",
     "output_type": "stream",
     "text": [
      "pre-encoder network:\n",
      "_________________________________________________________________\n",
      "Layer (type)                 Output Shape              Param #   \n",
      "=================================================================\n",
      "dense_34 (Dense)             (None, 500)               5000500   \n",
      "_________________________________________________________________\n",
      "batch_normalization_23 (Batc (None, 500)               2000      \n",
      "_________________________________________________________________\n",
      "dense_35 (Dense)             (None, 500)               250500    \n",
      "_________________________________________________________________\n",
      "batch_normalization_24 (Batc (None, 500)               2000      \n",
      "=================================================================\n",
      "Total params: 5,255,000\n",
      "Trainable params: 5,253,000\n",
      "Non-trainable params: 2,000\n",
      "_________________________________________________________________\n",
      "generator network:\n",
      "_________________________________________________________________\n",
      "Layer (type)                 Output Shape              Param #   \n",
      "=================================================================\n",
      "dense_36 (Dense)             (None, 10000)             330000    \n",
      "=================================================================\n",
      "Total params: 330,000\n",
      "Trainable params: 330,000\n",
      "Non-trainable params: 0\n",
      "_________________________________________________________________\n",
      "pre-encoder network:\n",
      "_________________________________________________________________\n",
      "Layer (type)                 Output Shape              Param #   \n",
      "=================================================================\n",
      "dense_37 (Dense)             (None, 500)               5000500   \n",
      "_________________________________________________________________\n",
      "batch_normalization_25 (Batc (None, 500)               2000      \n",
      "_________________________________________________________________\n",
      "dense_38 (Dense)             (None, 500)               250500    \n",
      "_________________________________________________________________\n",
      "batch_normalization_26 (Batc (None, 500)               2000      \n",
      "=================================================================\n",
      "Total params: 5,255,000\n",
      "Trainable params: 5,253,000\n",
      "Non-trainable params: 2,000\n",
      "_________________________________________________________________\n",
      "generator network:\n",
      "_________________________________________________________________\n",
      "Layer (type)                 Output Shape              Param #   \n",
      "=================================================================\n",
      "dense_39 (Dense)             (None, 500)               16500     \n",
      "_________________________________________________________________\n",
      "batch_normalization_27 (Batc (None, 500)               2000      \n",
      "_________________________________________________________________\n",
      "dense_40 (Dense)             (None, 500)               250500    \n",
      "_________________________________________________________________\n",
      "batch_normalization_28 (Batc (None, 500)               2000      \n",
      "_________________________________________________________________\n",
      "dense_41 (Dense)             (None, 10000)             5010000   \n",
      "=================================================================\n",
      "Total params: 5,281,000\n",
      "Trainable params: 5,279,000\n",
      "Non-trainable params: 2,000\n",
      "_________________________________________________________________\n",
      "pre-encoder network:\n",
      "_________________________________________________________________\n",
      "Layer (type)                 Output Shape              Param #   \n",
      "=================================================================\n",
      "dense_42 (Dense)             (None, 500)               5000500   \n",
      "_________________________________________________________________\n",
      "batch_normalization_29 (Batc (None, 500)               2000      \n",
      "_________________________________________________________________\n",
      "dense_43 (Dense)             (None, 500)               250500    \n",
      "_________________________________________________________________\n",
      "batch_normalization_30 (Batc (None, 500)               2000      \n",
      "=================================================================\n",
      "Total params: 5,255,000\n",
      "Trainable params: 5,253,000\n",
      "Non-trainable params: 2,000\n",
      "_________________________________________________________________\n",
      "generator network:\n",
      "_________________________________________________________________\n",
      "Layer (type)                 Output Shape              Param #   \n",
      "=================================================================\n",
      "dense_44 (Dense)             (None, 10000)             330000    \n",
      "=================================================================\n",
      "Total params: 330,000\n",
      "Trainable params: 330,000\n",
      "Non-trainable params: 0\n",
      "_________________________________________________________________\n",
      "pre-encoder network:\n",
      "_________________________________________________________________\n",
      "Layer (type)                 Output Shape              Param #   \n",
      "=================================================================\n",
      "dense_45 (Dense)             (None, 500)               5000500   \n",
      "_________________________________________________________________\n",
      "batch_normalization_31 (Batc (None, 500)               2000      \n",
      "_________________________________________________________________\n",
      "dense_46 (Dense)             (None, 500)               250500    \n",
      "_________________________________________________________________\n",
      "batch_normalization_32 (Batc (None, 500)               2000      \n",
      "=================================================================\n",
      "Total params: 5,255,000\n",
      "Trainable params: 5,253,000\n",
      "Non-trainable params: 2,000\n",
      "_________________________________________________________________\n",
      "generator network:\n",
      "_________________________________________________________________\n",
      "Layer (type)                 Output Shape              Param #   \n",
      "=================================================================\n",
      "dense_47 (Dense)             (None, 500)               16500     \n",
      "_________________________________________________________________\n",
      "batch_normalization_33 (Batc (None, 500)               2000      \n",
      "_________________________________________________________________\n",
      "dense_48 (Dense)             (None, 500)               250500    \n",
      "_________________________________________________________________\n",
      "batch_normalization_34 (Batc (None, 500)               2000      \n",
      "_________________________________________________________________\n",
      "dense_49 (Dense)             (None, 10000)             5010000   \n",
      "=================================================================\n",
      "Total params: 5,281,000\n",
      "Trainable params: 5,279,000\n",
      "Non-trainable params: 2,000\n",
      "_________________________________________________________________\n",
      "Terminó\n"
     ]
    }
   ],
   "source": [
    "sin_lemma_traditional = {}\n",
    "sin_lemma_binary = {}\n",
    "    \n",
    "traditional_vae,encoder_Tvae,generator_Tvae = traditional_VAE(X_train.shape[1],Nb=32,units=500,layers_e=2,layers_d=0)\n",
    "traditional_vae.fit(X_train_input, X_train, epochs=epochs, batch_size=batch_size,verbose=0)\n",
    "p1,r1 = evaluate_hashing(encoder_Tvae,X_train_input,X_val_input,labels_val,traditional=True)\n",
    "\n",
    "traditional_vae,encoder_Tvae,generator_Tvae = traditional_VAE(X_train.shape[1],Nb=32,units=500,layers_e=2,layers_d=2)\n",
    "traditional_vae.fit(X_train_input, X_train, epochs=epochs, batch_size=batch_size,verbose=0)\n",
    "p2,r2 = evaluate_hashing(encoder_Tvae,X_train_input,X_val_input,labels_val,traditional=True)\n",
    "\n",
    "sin_lemma_traditional[\"precision\"] = [p1, p2] \n",
    "sin_lemma_traditional[\"recall\"] = [r1, r2]\n",
    "\n",
    "                    \n",
    "binary_vae,encoder_Bvae,generator_Bvae = binary_VAE(X_train.shape[1],Nb=32,units=500,layers_e=2,layers_d=0)\n",
    "binary_vae.fit(X_train_input, X_train, epochs=epochs, batch_size=batch_size,verbose=0)\n",
    "p1,r1 = evaluate_hashing(encoder_Bvae,X_train_input,X_val_input,labels_val,traditional=False)\n",
    "\n",
    "binary_vae,encoder_Bvae,generator_Bvae = binary_VAE(X_train.shape[1],Nb=32,units=500,layers_e=2,layers_d=2)\n",
    "binary_vae.fit(X_train_input, X_train, epochs=epochs, batch_size=batch_size,verbose=0)\n",
    "p2,r2 = evaluate_hashing(encoder_Bvae,X_train_input,X_val_input,labels_val,traditional=False)\n",
    "\n",
    "sin_lemma_binary[\"precision\"] = [p1, p2] \n",
    "sin_lemma_binary[\"recall\"] = [r1, r2]\n",
    "print(\"Terminó\")"
   ]
  },
  {
   "cell_type": "code",
   "execution_count": 231,
   "metadata": {
    "collapsed": true
   },
   "outputs": [
    {
     "name": "stdout",
     "output_type": "stream",
     "text": [
      "pre-encoder network:\n",
      "_________________________________________________________________\n",
      "Layer (type)                 Output Shape              Param #   \n",
      "=================================================================\n",
      "input_121 (InputLayer)       (None, 10000)             0         \n",
      "_________________________________________________________________\n",
      "dense_121 (Dense)            (None, 500)               5000500   \n",
      "_________________________________________________________________\n",
      "batch_normalization_73 (Batc (None, 500)               2000      \n",
      "_________________________________________________________________\n",
      "dense_122 (Dense)            (None, 500)               250500    \n",
      "_________________________________________________________________\n",
      "batch_normalization_74 (Batc (None, 500)               2000      \n",
      "=================================================================\n",
      "Total params: 5,255,000\n",
      "Trainable params: 5,253,000\n",
      "Non-trainable params: 2,000\n",
      "_________________________________________________________________\n",
      "generator network:\n",
      "_________________________________________________________________\n",
      "Layer (type)                 Output Shape              Param #   \n",
      "=================================================================\n",
      "input_122 (InputLayer)       (None, 32)                0         \n",
      "_________________________________________________________________\n",
      "dense_123 (Dense)            (None, 10000)             330000    \n",
      "=================================================================\n",
      "Total params: 330,000\n",
      "Trainable params: 330,000\n",
      "Non-trainable params: 0\n",
      "_________________________________________________________________\n",
      "pre-encoder network:\n",
      "_________________________________________________________________\n",
      "Layer (type)                 Output Shape              Param #   \n",
      "=================================================================\n",
      "input_124 (InputLayer)       (None, 10000)             0         \n",
      "_________________________________________________________________\n",
      "dense_124 (Dense)            (None, 500)               5000500   \n",
      "_________________________________________________________________\n",
      "batch_normalization_75 (Batc (None, 500)               2000      \n",
      "_________________________________________________________________\n",
      "dense_125 (Dense)            (None, 500)               250500    \n",
      "_________________________________________________________________\n",
      "batch_normalization_76 (Batc (None, 500)               2000      \n",
      "=================================================================\n",
      "Total params: 5,255,000\n",
      "Trainable params: 5,253,000\n",
      "Non-trainable params: 2,000\n",
      "_________________________________________________________________\n",
      "generator network:\n",
      "_________________________________________________________________\n",
      "Layer (type)                 Output Shape              Param #   \n",
      "=================================================================\n",
      "input_125 (InputLayer)       (None, 32)                0         \n",
      "_________________________________________________________________\n",
      "dense_126 (Dense)            (None, 500)               16500     \n",
      "_________________________________________________________________\n",
      "batch_normalization_77 (Batc (None, 500)               2000      \n",
      "_________________________________________________________________\n",
      "dense_127 (Dense)            (None, 500)               250500    \n",
      "_________________________________________________________________\n",
      "batch_normalization_78 (Batc (None, 500)               2000      \n",
      "_________________________________________________________________\n",
      "dense_128 (Dense)            (None, 10000)             5010000   \n",
      "=================================================================\n",
      "Total params: 5,281,000\n",
      "Trainable params: 5,279,000\n",
      "Non-trainable params: 2,000\n",
      "_________________________________________________________________\n",
      "pre-encoder network:\n",
      "_________________________________________________________________\n",
      "Layer (type)                 Output Shape              Param #   \n",
      "=================================================================\n",
      "input_127 (InputLayer)       (None, 10000)             0         \n",
      "_________________________________________________________________\n",
      "dense_129 (Dense)            (None, 500)               5000500   \n",
      "_________________________________________________________________\n",
      "batch_normalization_79 (Batc (None, 500)               2000      \n",
      "_________________________________________________________________\n",
      "dense_130 (Dense)            (None, 500)               250500    \n",
      "_________________________________________________________________\n",
      "batch_normalization_80 (Batc (None, 500)               2000      \n",
      "=================================================================\n",
      "Total params: 5,255,000\n",
      "Trainable params: 5,253,000\n",
      "Non-trainable params: 2,000\n",
      "_________________________________________________________________\n",
      "generator network:\n",
      "_________________________________________________________________\n",
      "Layer (type)                 Output Shape              Param #   \n",
      "=================================================================\n",
      "input_128 (InputLayer)       (None, 32)                0         \n",
      "_________________________________________________________________\n",
      "dense_131 (Dense)            (None, 10000)             330000    \n",
      "=================================================================\n",
      "Total params: 330,000\n",
      "Trainable params: 330,000\n",
      "Non-trainable params: 0\n",
      "_________________________________________________________________\n",
      "pre-encoder network:\n",
      "_________________________________________________________________\n",
      "Layer (type)                 Output Shape              Param #   \n",
      "=================================================================\n",
      "input_130 (InputLayer)       (None, 10000)             0         \n",
      "_________________________________________________________________\n",
      "dense_132 (Dense)            (None, 500)               5000500   \n",
      "_________________________________________________________________\n",
      "batch_normalization_81 (Batc (None, 500)               2000      \n",
      "_________________________________________________________________\n",
      "dense_133 (Dense)            (None, 500)               250500    \n",
      "_________________________________________________________________\n",
      "batch_normalization_82 (Batc (None, 500)               2000      \n",
      "=================================================================\n",
      "Total params: 5,255,000\n",
      "Trainable params: 5,253,000\n",
      "Non-trainable params: 2,000\n",
      "_________________________________________________________________\n",
      "generator network:\n",
      "_________________________________________________________________\n",
      "Layer (type)                 Output Shape              Param #   \n",
      "=================================================================\n",
      "input_131 (InputLayer)       (None, 32)                0         \n",
      "_________________________________________________________________\n",
      "dense_134 (Dense)            (None, 500)               16500     \n",
      "_________________________________________________________________\n",
      "batch_normalization_83 (Batc (None, 500)               2000      \n",
      "_________________________________________________________________\n",
      "dense_135 (Dense)            (None, 500)               250500    \n",
      "_________________________________________________________________\n",
      "batch_normalization_84 (Batc (None, 500)               2000      \n",
      "_________________________________________________________________\n",
      "dense_136 (Dense)            (None, 10000)             5010000   \n",
      "=================================================================\n",
      "Total params: 5,281,000\n",
      "Trainable params: 5,279,000\n",
      "Non-trainable params: 2,000\n",
      "_________________________________________________________________\n",
      "Terminó\n"
     ]
    }
   ],
   "source": [
    "con_lemma_traditional = {}\n",
    "con_lemma_binary = {}\n",
    "    \n",
    "traditional_vae,encoder_Tvae,generator_Tvae = traditional_VAE(X_train.shape[1],Nb=32,units=500,layers_e=2,layers_d=0)\n",
    "traditional_vae.fit(X_train_input, X_train, epochs=epochs, batch_size=batch_size,verbose=0)\n",
    "p1,r1 = evaluate_hashing(encoder_Tvae,X_train_input,X_val_input,labels_val,traditional=True)\n",
    "\n",
    "traditional_vae,encoder_Tvae,generator_Tvae = traditional_VAE(X_train.shape[1],Nb=32,units=500,layers_e=2,layers_d=2)\n",
    "traditional_vae.fit(X_train_input, X_train, epochs=epochs, batch_size=batch_size,verbose=0)\n",
    "p2,r2 = evaluate_hashing(encoder_Tvae,X_train_input,X_val_input,labels_val,traditional=True)\n",
    "\n",
    "con_lemma_traditional[\"precision\"] = [p1, p2] \n",
    "con_lemma_traditional[\"recall\"] = [r1, r2]\n",
    "\n",
    "binary_vae,encoder_Bvae,generator_Bvae = binary_VAE(X_train.shape[1],Nb=32,units=500,layers_e=2,layers_d=0)\n",
    "binary_vae.fit(X_train_input, X_train, epochs=epochs, batch_size=batch_size,verbose=0)\n",
    "p1,r1 = evaluate_hashing(encoder_Bvae,X_train_input,X_val_input,labels_val,traditional=False)\n",
    "\n",
    "binary_vae,encoder_Bvae,generator_Bvae = binary_VAE(X_train.shape[1],Nb=32,units=500,layers_e=2,layers_d=2)\n",
    "binary_vae.fit(X_train_input, X_train, epochs=epochs, batch_size=batch_size,verbose=0)\n",
    "p2,r2 = evaluate_hashing(encoder_Bvae,X_train_input,X_val_input,labels_val,traditional=False)\n",
    "\n",
    "con_lemma_binary[\"precision\"] = [p1, p2] \n",
    "con_lemma_binary[\"recall\"] = [r1, r2]\n",
    "print(\"Terminó\")"
   ]
  },
  {
   "cell_type": "markdown",
   "metadata": {},
   "source": [
    "### Resultados en 20newsgroup\n",
    "Experimentación variando el tipo de pre-procesamiento y la arquitectura de la red."
   ]
  },
  {
   "cell_type": "code",
   "execution_count": 106,
   "metadata": {
    "collapsed": false
   },
   "outputs": [
    {
     "name": "stdout",
     "output_type": "stream",
     "text": [
      "Resultados de Precision en validación\n",
      "\n",
      "*** VAE Traditional***\n",
      "               Sin Lemma           Con Lemma     \n",
      "--------- ------------------- -------------------\n",
      "     Base  0.2798540370120401  0.2841565174544985\n",
      "Simetrico 0.22855275983589507 0.27704046473929445\n",
      "\n",
      "*** VAE Binary***\n",
      "               Sin Lemma           Con Lemma     \n",
      "--------- ------------------- -------------------\n",
      "     Base 0.27538017145651994 0.31629122615336525\n",
      "Simetrico   0.339728140364405   0.352853383606297\n"
     ]
    }
   ],
   "source": [
    "print(\"Resultados de Precision en validación\")\n",
    "\n",
    "t = Table()\n",
    "t[\"\"] = [\"Base\", \"Simetrico\"]\n",
    "t[\"Sin Lemma\"] = sin_lemma_traditional[\"precision\"]\n",
    "t[\"Con Lemma\"] = con_lemma_traditional[\"precision\"]\n",
    "print(\"\\n*** VAE Traditional***\")\n",
    "print(t)\n",
    "\n",
    "t = Table()\n",
    "t[\"\"] = [\"Base\", \"Simetrico\"]\n",
    "t[\"Sin Lemma\"] = sin_lemma_binary[\"precision\"]\n",
    "t[\"Con Lemma\"] = con_lemma_binary[\"precision\"]\n",
    "print(\"\\n*** VAE Binary***\")\n",
    "print(t)"
   ]
  },
  {
   "cell_type": "code",
   "execution_count": 107,
   "metadata": {
    "collapsed": false,
    "scrolled": true
   },
   "outputs": [
    {
     "name": "stdout",
     "output_type": "stream",
     "text": [
      "Resultados de Recall en validación\n",
      "\n",
      "*** VAE Traditional***\n",
      "               Sin Lemma          Con Lemma     \n",
      "--------- ------------------- ------------------\n",
      "     Base 0.19157503942601106 0.1935634800277119\n",
      "Simetrico  0.1567055109236688 0.1890441069169437\n",
      "\n",
      "*** VAE Binary***\n",
      "               Sin Lemma           Con Lemma     \n",
      "--------- ------------------- -------------------\n",
      "     Base  0.1867768042416021 0.21653550976898298\n",
      "Simetrico 0.23209726149925983 0.24124950620939722\n"
     ]
    }
   ],
   "source": [
    "print(\"Resultados de Recall en validación\")\n",
    "\n",
    "t = Table()\n",
    "t[\"\"] = [\"Base\", \"Simetrico\"]\n",
    "t[\"Sin Lemma\"] = sin_lemma_traditional[\"recall\"]\n",
    "t[\"Con Lemma\"] = con_lemma_traditional[\"recall\"]\n",
    "print(\"\\n*** VAE Traditional***\")\n",
    "print(t)\n",
    "\n",
    "t = Table()\n",
    "t[\"\"] = [\"Base\", \"Simetrico\"]\n",
    "t[\"Sin Lemma\"] = sin_lemma_binary[\"recall\"]\n",
    "t[\"Con Lemma\"] = con_lemma_binary[\"recall\"]\n",
    "print(\"\\n*** VAE Binary***\")\n",
    "print(t)"
   ]
  },
  {
   "cell_type": "markdown",
   "metadata": {},
   "source": [
    "En base a la experimentación anterior se encuentra con que aplicar *Lemmatization* a los *tokens* conlleva una mejora en ambas métricas (*precision* y *recall*), además de que utilizar una arquitectura simétrica (a pesar del incremento considerable de parámetros) conlleva una gran mejora en el *VAE* Binario, mientras que la arquitectura base (no simétrica) es mejor para el *VAE* tradicional.\n",
    "\n",
    "### Experimentando con *TF* vs *TF-IDF*"
   ]
  },
  {
   "cell_type": "code",
   "execution_count": 13,
   "metadata": {
    "collapsed": true
   },
   "outputs": [],
   "source": [
    "traditional_dat = {\"20news\":{\"p\":[],\"r\":[]},\"snippets\":{\"p\":[],\"r\":[]},\"reuters\":{\"p\":[],\"r\":[]}}\n",
    "binary_dat = {\"20news\":{\"p\":[],\"r\":[]},\"snippets\":{\"p\":[],\"r\":[]},\"reuters\":{\"p\":[],\"r\":[]}}"
   ]
  },
  {
   "cell_type": "code",
   "execution_count": 43,
   "metadata": {
    "collapsed": false,
    "scrolled": true
   },
   "outputs": [
    {
     "name": "stdout",
     "output_type": "stream",
     "text": [
      "pre-encoder network:\n",
      "_________________________________________________________________\n",
      "Layer (type)                 Output Shape              Param #   \n",
      "=================================================================\n",
      "input_43 (InputLayer)        (None, 10000)             0         \n",
      "_________________________________________________________________\n",
      "dense_51 (Dense)             (None, 500)               5000500   \n",
      "_________________________________________________________________\n",
      "batch_normalization_37 (Batc (None, 500)               2000      \n",
      "_________________________________________________________________\n",
      "dense_52 (Dense)             (None, 500)               250500    \n",
      "_________________________________________________________________\n",
      "batch_normalization_38 (Batc (None, 500)               2000      \n",
      "=================================================================\n",
      "Total params: 5,255,000\n",
      "Trainable params: 5,253,000\n",
      "Non-trainable params: 2,000\n",
      "_________________________________________________________________\n",
      "generator network:\n",
      "_________________________________________________________________\n",
      "Layer (type)                 Output Shape              Param #   \n",
      "=================================================================\n",
      "input_44 (InputLayer)        (None, 32)                0         \n",
      "_________________________________________________________________\n",
      "dense_53 (Dense)             (None, 10000)             330000    \n",
      "=================================================================\n",
      "Total params: 330,000\n",
      "Trainable params: 330,000\n",
      "Non-trainable params: 0\n",
      "_________________________________________________________________\n",
      "pre-encoder network:\n",
      "_________________________________________________________________\n",
      "Layer (type)                 Output Shape              Param #   \n",
      "=================================================================\n",
      "input_46 (InputLayer)        (None, 10000)             0         \n",
      "_________________________________________________________________\n",
      "dense_54 (Dense)             (None, 500)               5000500   \n",
      "_________________________________________________________________\n",
      "batch_normalization_39 (Batc (None, 500)               2000      \n",
      "_________________________________________________________________\n",
      "dense_55 (Dense)             (None, 500)               250500    \n",
      "_________________________________________________________________\n",
      "batch_normalization_40 (Batc (None, 500)               2000      \n",
      "=================================================================\n",
      "Total params: 5,255,000\n",
      "Trainable params: 5,253,000\n",
      "Non-trainable params: 2,000\n",
      "_________________________________________________________________\n",
      "generator network:\n",
      "_________________________________________________________________\n",
      "Layer (type)                 Output Shape              Param #   \n",
      "=================================================================\n",
      "input_47 (InputLayer)        (None, 32)                0         \n",
      "_________________________________________________________________\n",
      "dense_56 (Dense)             (None, 10000)             330000    \n",
      "=================================================================\n",
      "Total params: 330,000\n",
      "Trainable params: 330,000\n",
      "Non-trainable params: 0\n",
      "_________________________________________________________________\n",
      "pre-encoder network:\n",
      "_________________________________________________________________\n",
      "Layer (type)                 Output Shape              Param #   \n",
      "=================================================================\n",
      "input_49 (InputLayer)        (None, 10000)             0         \n",
      "_________________________________________________________________\n",
      "dense_57 (Dense)             (None, 500)               5000500   \n",
      "_________________________________________________________________\n",
      "batch_normalization_41 (Batc (None, 500)               2000      \n",
      "_________________________________________________________________\n",
      "dense_58 (Dense)             (None, 500)               250500    \n",
      "_________________________________________________________________\n",
      "batch_normalization_42 (Batc (None, 500)               2000      \n",
      "=================================================================\n",
      "Total params: 5,255,000\n",
      "Trainable params: 5,253,000\n",
      "Non-trainable params: 2,000\n",
      "_________________________________________________________________\n",
      "generator network:\n",
      "_________________________________________________________________\n",
      "Layer (type)                 Output Shape              Param #   \n",
      "=================================================================\n",
      "input_50 (InputLayer)        (None, 32)                0         \n",
      "_________________________________________________________________\n",
      "dense_59 (Dense)             (None, 500)               16500     \n",
      "_________________________________________________________________\n",
      "batch_normalization_43 (Batc (None, 500)               2000      \n",
      "_________________________________________________________________\n",
      "dense_60 (Dense)             (None, 500)               250500    \n",
      "_________________________________________________________________\n",
      "batch_normalization_44 (Batc (None, 500)               2000      \n",
      "_________________________________________________________________\n",
      "dense_61 (Dense)             (None, 10000)             5010000   \n",
      "=================================================================\n",
      "Total params: 5,281,000\n",
      "Trainable params: 5,279,000\n",
      "Non-trainable params: 2,000\n",
      "_________________________________________________________________\n",
      "pre-encoder network:\n",
      "_________________________________________________________________\n",
      "Layer (type)                 Output Shape              Param #   \n",
      "=================================================================\n",
      "input_52 (InputLayer)        (None, 10000)             0         \n",
      "_________________________________________________________________\n",
      "dense_62 (Dense)             (None, 500)               5000500   \n",
      "_________________________________________________________________\n",
      "batch_normalization_45 (Batc (None, 500)               2000      \n",
      "_________________________________________________________________\n",
      "dense_63 (Dense)             (None, 500)               250500    \n",
      "_________________________________________________________________\n",
      "batch_normalization_46 (Batc (None, 500)               2000      \n",
      "=================================================================\n",
      "Total params: 5,255,000\n",
      "Trainable params: 5,253,000\n",
      "Non-trainable params: 2,000\n",
      "_________________________________________________________________\n",
      "generator network:\n",
      "_________________________________________________________________\n",
      "Layer (type)                 Output Shape              Param #   \n",
      "=================================================================\n",
      "input_53 (InputLayer)        (None, 32)                0         \n",
      "_________________________________________________________________\n",
      "dense_64 (Dense)             (None, 500)               16500     \n",
      "_________________________________________________________________\n",
      "batch_normalization_47 (Batc (None, 500)               2000      \n",
      "_________________________________________________________________\n",
      "dense_65 (Dense)             (None, 500)               250500    \n",
      "_________________________________________________________________\n",
      "batch_normalization_48 (Batc (None, 500)               2000      \n",
      "_________________________________________________________________\n",
      "dense_66 (Dense)             (None, 10000)             5010000   \n",
      "=================================================================\n",
      "Total params: 5,281,000\n",
      "Trainable params: 5,279,000\n",
      "Non-trainable params: 2,000\n",
      "_________________________________________________________________\n",
      "Terminó\n"
     ]
    }
   ],
   "source": [
    "dataset = \"snippets\"\n",
    "#TF\n",
    "traditional_vae,encoder_Tvae,generator_Tvae = traditional_VAE(X_train.shape[1],Nb=32,units=500,layers_e=2,layers_d=0)\n",
    "traditional_vae.fit(X_train_input, X_train, epochs=epochs, batch_size=batch_size,verbose=0)\n",
    "p_t,r_t = evaluate_hashing(encoder_Tvae,X_train_input,X_val_input,labels_val,traditional=True)\n",
    "traditional_dat[dataset][\"p\"].append(p_t) \n",
    "traditional_dat[dataset][\"r\"].append(r_t) \n",
    "\n",
    "#IDF\n",
    "traditional_vae,encoder_Tvae,generator_Tvae = traditional_VAE(X_train.shape[1],Nb=32,units=500,layers_e=2,layers_d=0)\n",
    "traditional_vae.fit(X_train_input2, X_train, epochs=epochs, batch_size=batch_size,verbose=0)\n",
    "p_t,r_t = evaluate_hashing(encoder_Tvae,X_train_input2,X_val_input2,labels_val,traditional=True)\n",
    "traditional_dat[dataset][\"p\"].append(p_t) \n",
    "traditional_dat[dataset][\"r\"].append(r_t) \n",
    "\n",
    "#TF\n",
    "binary_vae,encoder_Bvae,generator_Bvae = binary_VAE(X_train.shape[1],Nb=32,units=500,layers_e=2,layers_d=2)\n",
    "binary_vae.fit(X_train_input, X_train, epochs=epochs, batch_size=batch_size,verbose=0)\n",
    "p_b,r_b = evaluate_hashing(encoder_Bvae,X_train_input,X_val_input,labels_val,traditional=False)\n",
    "binary_dat[dataset][\"p\"].append(p_b) \n",
    "binary_dat[dataset][\"r\"].append(r_b) \n",
    "\n",
    "#IDF\n",
    "binary_vae,encoder_Bvae,generator_Bvae = binary_VAE(X_train.shape[1],Nb=32,units=500,layers_e=2,layers_d=2)\n",
    "binary_vae.fit(X_train_input2, X_train, epochs=epochs, batch_size=batch_size,verbose=0)\n",
    "p_b,r_b = evaluate_hashing(encoder_Bvae,X_train_input2,X_val_input2,labels_val,traditional=False)\n",
    "binary_dat[dataset][\"p\"].append(p_b) \n",
    "binary_dat[dataset][\"r\"].append(r_b)\n",
    "\n",
    "print(\"Terminó\")"
   ]
  },
  {
   "cell_type": "code",
   "execution_count": 44,
   "metadata": {
    "collapsed": false
   },
   "outputs": [
    {
     "name": "stdout",
     "output_type": "stream",
     "text": [
      "Resultados de Precision en validación\n",
      "\n",
      "*** VAE Traditional***\n",
      "             20News            Reuters            Snippets     \n",
      "------ ------------------ ------------------ ------------------\n",
      "    TF 0.2688639666370281 0.4987653165728302 0.3486394762736693\n",
      "TF-IDF 0.2852241038879395 0.5083412613006016 0.3340843825933263\n",
      "\n",
      "*** VAE Binary***\n",
      "              20News            Reuters             Snippets     \n",
      "------ ------------------- ------------------ -------------------\n",
      "    TF 0.35401737416583284 0.5997962122511791  0.4200052211980623\n",
      "TF-IDF  0.3618618136115463  0.599744225580561 0.41140630961704383\n"
     ]
    }
   ],
   "source": [
    "print(\"Resultados de Precision en validación\")\n",
    "t = Table()\n",
    "t[\"\"] = [\"TF\", \"TF-IDF\"]\n",
    "t[\"20News\"] = traditional_dat[\"20news\"][\"p\"]\n",
    "t[\"Reuters\"] = traditional_dat[\"reuters\"][\"p\"]\n",
    "t[\"Snippets\"] = traditional_dat[\"snippets\"][\"p\"]\n",
    "print(\"\\n*** VAE Traditional***\")\n",
    "print(t)\n",
    "t = Table()\n",
    "t[\"\"] = [\"TF\", \"TF-IDF\"]\n",
    "t[\"20News\"] = binary_dat[\"20news\"][\"p\"]\n",
    "t[\"Reuters\"] = binary_dat[\"reuters\"][\"p\"]\n",
    "t[\"Snippets\"] = binary_dat[\"snippets\"][\"p\"]\n",
    "print(\"\\n*** VAE Binary***\")\n",
    "print(t)"
   ]
  },
  {
   "cell_type": "code",
   "execution_count": 45,
   "metadata": {
    "collapsed": false
   },
   "outputs": [
    {
     "name": "stdout",
     "output_type": "stream",
     "text": [
      "Resultados de Recall en validación\n",
      "\n",
      "*** VAE Traditional***\n",
      "              20News             Reuters             Snippets     \n",
      "------ ------------------- ------------------- -------------------\n",
      "    TF 0.18454084740966342 0.18395508938895405 0.09803543536505138\n",
      "TF-IDF 0.19430150271819863 0.18221513247670762 0.09385609805437488\n",
      "\n",
      "*** VAE Binary***\n",
      "              20News             Reuters             Snippets     \n",
      "------ ------------------- ------------------- -------------------\n",
      "    TF   0.241946459609219 0.23288717284653163 0.11986004136790665\n",
      "TF-IDF 0.24730287141004545 0.22389574207186788 0.11696040080518362\n"
     ]
    }
   ],
   "source": [
    "print(\"Resultados de Recall en validación\")\n",
    "t = Table()\n",
    "t[\"\"] = [\"TF\", \"TF-IDF\"]\n",
    "t[\"20News\"] = traditional_dat[\"20news\"][\"r\"]\n",
    "t[\"Reuters\"] = traditional_dat[\"reuters\"][\"r\"]\n",
    "t[\"Snippets\"] = traditional_dat[\"snippets\"][\"r\"]\n",
    "print(\"\\n*** VAE Traditional***\")\n",
    "print(t)\n",
    "t = Table()\n",
    "t[\"\"] = [\"TF\", \"TF-IDF\"]\n",
    "t[\"20News\"] = binary_dat[\"20news\"][\"r\"]\n",
    "t[\"Reuters\"] = binary_dat[\"reuters\"][\"r\"]\n",
    "t[\"Snippets\"] = binary_dat[\"snippets\"][\"r\"]\n",
    "print(\"\\n*** VAE Binary***\")\n",
    "print(t)"
   ]
  },
  {
   "cell_type": "markdown",
   "metadata": {},
   "source": [
    "Se puede observar que las variaciones respecto a la representación resultan en cambios bastante leves, donde en algunos casos es mejor *TF* mientras que en otros es mejor *TF-IDF*. Respecto a los datasets se puede ver que los mejores resultados se encuentran en el dataset de **Reuters**, posiblemente gracias a que su estructura de que un texto puede hablar de varios temas a la vez y no de uno solo, mientras que el peor en *precision* se encuentra en **20Newsgroup**, debido a que los textos, a pesar de pertenecer a diferentes clases, al parecer hablan de temas similares entre sí lo cual resulta que el modelo le cueste proyectar los documentos a una única región de direcciones de memorias que correspondan a una clase, ya que posiblemente los patrones entre algunas clases resultan similares entre sí. Mientras que el peor en *recall* se obtiene en el dataset de **Snippets**, posiblemente por falta de generalización en ese conjunto y que los textos de una cierta clase/dominio sea muy general por lo que los textos dentro de cada dominio podrían tener características muy distintas entre sí, lo cual hace difícil encontrar patrones similares que hagan proyectarlos a todos los de una misma clase en regiones cercanas.\n",
    "### Experimentando variando el #Bits"
   ]
  },
  {
   "cell_type": "code",
   "execution_count": 12,
   "metadata": {
    "collapsed": true
   },
   "outputs": [],
   "source": [
    "traditional_dat = {\"20news\":{\"p\":[],\"r\":[]},\"snippets\":{\"p\":[],\"r\":[]},\"reuters\":{\"p\":[],\"r\":[]}}\n",
    "binary_dat = {\"20news\":{\"p\":[],\"r\":[]},\"snippets\":{\"p\":[],\"r\":[]},\"reuters\":{\"p\":[],\"r\":[]}}"
   ]
  },
  {
   "cell_type": "code",
   "execution_count": 30,
   "metadata": {
    "collapsed": false,
    "scrolled": true
   },
   "outputs": [
    {
     "name": "stdout",
     "output_type": "stream",
     "text": [
      "pre-encoder network:\n",
      "_________________________________________________________________\n",
      "Layer (type)                 Output Shape              Param #   \n",
      "=================================================================\n",
      "input_58 (InputLayer)        (None, 10000)             0         \n",
      "_________________________________________________________________\n",
      "dense_74 (Dense)             (None, 500)               5000500   \n",
      "_________________________________________________________________\n",
      "batch_normalization_55 (Batc (None, 500)               2000      \n",
      "_________________________________________________________________\n",
      "dense_75 (Dense)             (None, 500)               250500    \n",
      "_________________________________________________________________\n",
      "batch_normalization_56 (Batc (None, 500)               2000      \n",
      "=================================================================\n",
      "Total params: 5,255,000\n",
      "Trainable params: 5,253,000\n",
      "Non-trainable params: 2,000\n",
      "_________________________________________________________________\n",
      "generator network:\n",
      "_________________________________________________________________\n",
      "Layer (type)                 Output Shape              Param #   \n",
      "=================================================================\n",
      "input_59 (InputLayer)        (None, 4)                 0         \n",
      "_________________________________________________________________\n",
      "dense_76 (Dense)             (None, 10000)             50000     \n",
      "=================================================================\n",
      "Total params: 50,000\n",
      "Trainable params: 50,000\n",
      "Non-trainable params: 0\n",
      "_________________________________________________________________\n",
      "pre-encoder network:\n",
      "_________________________________________________________________\n",
      "Layer (type)                 Output Shape              Param #   \n",
      "=================================================================\n",
      "input_61 (InputLayer)        (None, 10000)             0         \n",
      "_________________________________________________________________\n",
      "dense_77 (Dense)             (None, 500)               5000500   \n",
      "_________________________________________________________________\n",
      "batch_normalization_57 (Batc (None, 500)               2000      \n",
      "_________________________________________________________________\n",
      "dense_78 (Dense)             (None, 500)               250500    \n",
      "_________________________________________________________________\n",
      "batch_normalization_58 (Batc (None, 500)               2000      \n",
      "=================================================================\n",
      "Total params: 5,255,000\n",
      "Trainable params: 5,253,000\n",
      "Non-trainable params: 2,000\n",
      "_________________________________________________________________\n",
      "generator network:\n",
      "_________________________________________________________________\n",
      "Layer (type)                 Output Shape              Param #   \n",
      "=================================================================\n",
      "input_62 (InputLayer)        (None, 4)                 0         \n",
      "_________________________________________________________________\n",
      "dense_79 (Dense)             (None, 500)               2500      \n",
      "_________________________________________________________________\n",
      "batch_normalization_59 (Batc (None, 500)               2000      \n",
      "_________________________________________________________________\n",
      "dense_80 (Dense)             (None, 500)               250500    \n",
      "_________________________________________________________________\n",
      "batch_normalization_60 (Batc (None, 500)               2000      \n",
      "_________________________________________________________________\n",
      "dense_81 (Dense)             (None, 10000)             5010000   \n",
      "=================================================================\n",
      "Total params: 5,267,000\n",
      "Trainable params: 5,265,000\n",
      "Non-trainable params: 2,000\n",
      "_________________________________________________________________\n",
      "pre-encoder network:\n",
      "_________________________________________________________________\n",
      "Layer (type)                 Output Shape              Param #   \n",
      "=================================================================\n",
      "input_64 (InputLayer)        (None, 10000)             0         \n",
      "_________________________________________________________________\n",
      "dense_82 (Dense)             (None, 500)               5000500   \n",
      "_________________________________________________________________\n",
      "batch_normalization_61 (Batc (None, 500)               2000      \n",
      "_________________________________________________________________\n",
      "dense_83 (Dense)             (None, 500)               250500    \n",
      "_________________________________________________________________\n",
      "batch_normalization_62 (Batc (None, 500)               2000      \n",
      "=================================================================\n",
      "Total params: 5,255,000\n",
      "Trainable params: 5,253,000\n",
      "Non-trainable params: 2,000\n",
      "_________________________________________________________________\n",
      "generator network:\n",
      "_________________________________________________________________\n",
      "Layer (type)                 Output Shape              Param #   \n",
      "=================================================================\n",
      "input_65 (InputLayer)        (None, 8)                 0         \n",
      "_________________________________________________________________\n",
      "dense_84 (Dense)             (None, 10000)             90000     \n",
      "=================================================================\n",
      "Total params: 90,000\n",
      "Trainable params: 90,000\n",
      "Non-trainable params: 0\n",
      "_________________________________________________________________\n",
      "pre-encoder network:\n",
      "_________________________________________________________________\n",
      "Layer (type)                 Output Shape              Param #   \n",
      "=================================================================\n",
      "input_67 (InputLayer)        (None, 10000)             0         \n",
      "_________________________________________________________________\n",
      "dense_85 (Dense)             (None, 500)               5000500   \n",
      "_________________________________________________________________\n",
      "batch_normalization_63 (Batc (None, 500)               2000      \n",
      "_________________________________________________________________\n",
      "dense_86 (Dense)             (None, 500)               250500    \n",
      "_________________________________________________________________\n",
      "batch_normalization_64 (Batc (None, 500)               2000      \n",
      "=================================================================\n",
      "Total params: 5,255,000\n",
      "Trainable params: 5,253,000\n",
      "Non-trainable params: 2,000\n",
      "_________________________________________________________________\n",
      "generator network:\n",
      "_________________________________________________________________\n",
      "Layer (type)                 Output Shape              Param #   \n",
      "=================================================================\n",
      "input_68 (InputLayer)        (None, 8)                 0         \n",
      "_________________________________________________________________\n",
      "dense_87 (Dense)             (None, 500)               4500      \n",
      "_________________________________________________________________\n",
      "batch_normalization_65 (Batc (None, 500)               2000      \n",
      "_________________________________________________________________\n",
      "dense_88 (Dense)             (None, 500)               250500    \n",
      "_________________________________________________________________\n",
      "batch_normalization_66 (Batc (None, 500)               2000      \n",
      "_________________________________________________________________\n",
      "dense_89 (Dense)             (None, 10000)             5010000   \n",
      "=================================================================\n",
      "Total params: 5,269,000\n",
      "Trainable params: 5,267,000\n",
      "Non-trainable params: 2,000\n",
      "_________________________________________________________________\n",
      "pre-encoder network:\n",
      "_________________________________________________________________\n",
      "Layer (type)                 Output Shape              Param #   \n",
      "=================================================================\n",
      "input_70 (InputLayer)        (None, 10000)             0         \n",
      "_________________________________________________________________\n",
      "dense_90 (Dense)             (None, 500)               5000500   \n",
      "_________________________________________________________________\n",
      "batch_normalization_67 (Batc (None, 500)               2000      \n",
      "_________________________________________________________________\n",
      "dense_91 (Dense)             (None, 500)               250500    \n",
      "_________________________________________________________________\n",
      "batch_normalization_68 (Batc (None, 500)               2000      \n",
      "=================================================================\n",
      "Total params: 5,255,000\n",
      "Trainable params: 5,253,000\n",
      "Non-trainable params: 2,000\n",
      "_________________________________________________________________\n",
      "generator network:\n",
      "_________________________________________________________________\n",
      "Layer (type)                 Output Shape              Param #   \n",
      "=================================================================\n",
      "input_71 (InputLayer)        (None, 16)                0         \n",
      "_________________________________________________________________\n",
      "dense_92 (Dense)             (None, 10000)             170000    \n",
      "=================================================================\n",
      "Total params: 170,000\n",
      "Trainable params: 170,000\n",
      "Non-trainable params: 0\n",
      "_________________________________________________________________\n",
      "pre-encoder network:\n",
      "_________________________________________________________________\n",
      "Layer (type)                 Output Shape              Param #   \n",
      "=================================================================\n",
      "input_73 (InputLayer)        (None, 10000)             0         \n",
      "_________________________________________________________________\n",
      "dense_93 (Dense)             (None, 500)               5000500   \n",
      "_________________________________________________________________\n",
      "batch_normalization_69 (Batc (None, 500)               2000      \n",
      "_________________________________________________________________\n",
      "dense_94 (Dense)             (None, 500)               250500    \n",
      "_________________________________________________________________\n",
      "batch_normalization_70 (Batc (None, 500)               2000      \n",
      "=================================================================\n",
      "Total params: 5,255,000\n",
      "Trainable params: 5,253,000\n",
      "Non-trainable params: 2,000\n",
      "_________________________________________________________________\n",
      "generator network:\n",
      "_________________________________________________________________\n",
      "Layer (type)                 Output Shape              Param #   \n",
      "=================================================================\n",
      "input_74 (InputLayer)        (None, 16)                0         \n",
      "_________________________________________________________________\n",
      "dense_95 (Dense)             (None, 500)               8500      \n",
      "_________________________________________________________________\n",
      "batch_normalization_71 (Batc (None, 500)               2000      \n",
      "_________________________________________________________________\n",
      "dense_96 (Dense)             (None, 500)               250500    \n",
      "_________________________________________________________________\n",
      "batch_normalization_72 (Batc (None, 500)               2000      \n",
      "_________________________________________________________________\n",
      "dense_97 (Dense)             (None, 10000)             5010000   \n",
      "=================================================================\n",
      "Total params: 5,273,000\n",
      "Trainable params: 5,271,000\n",
      "Non-trainable params: 2,000\n",
      "_________________________________________________________________\n",
      "pre-encoder network:\n",
      "_________________________________________________________________\n",
      "Layer (type)                 Output Shape              Param #   \n",
      "=================================================================\n",
      "input_76 (InputLayer)        (None, 10000)             0         \n",
      "_________________________________________________________________\n",
      "dense_98 (Dense)             (None, 500)               5000500   \n",
      "_________________________________________________________________\n",
      "batch_normalization_73 (Batc (None, 500)               2000      \n",
      "_________________________________________________________________\n",
      "dense_99 (Dense)             (None, 500)               250500    \n",
      "_________________________________________________________________\n",
      "batch_normalization_74 (Batc (None, 500)               2000      \n",
      "=================================================================\n",
      "Total params: 5,255,000\n",
      "Trainable params: 5,253,000\n",
      "Non-trainable params: 2,000\n",
      "_________________________________________________________________\n",
      "generator network:\n",
      "_________________________________________________________________\n",
      "Layer (type)                 Output Shape              Param #   \n",
      "=================================================================\n",
      "input_77 (InputLayer)        (None, 32)                0         \n",
      "_________________________________________________________________\n",
      "dense_100 (Dense)            (None, 10000)             330000    \n",
      "=================================================================\n",
      "Total params: 330,000\n",
      "Trainable params: 330,000\n",
      "Non-trainable params: 0\n",
      "_________________________________________________________________\n",
      "pre-encoder network:\n",
      "_________________________________________________________________\n",
      "Layer (type)                 Output Shape              Param #   \n",
      "=================================================================\n",
      "input_79 (InputLayer)        (None, 10000)             0         \n",
      "_________________________________________________________________\n",
      "dense_101 (Dense)            (None, 500)               5000500   \n",
      "_________________________________________________________________\n",
      "batch_normalization_75 (Batc (None, 500)               2000      \n",
      "_________________________________________________________________\n",
      "dense_102 (Dense)            (None, 500)               250500    \n",
      "_________________________________________________________________\n",
      "batch_normalization_76 (Batc (None, 500)               2000      \n",
      "=================================================================\n",
      "Total params: 5,255,000\n",
      "Trainable params: 5,253,000\n",
      "Non-trainable params: 2,000\n",
      "_________________________________________________________________\n",
      "generator network:\n",
      "_________________________________________________________________\n",
      "Layer (type)                 Output Shape              Param #   \n",
      "=================================================================\n",
      "input_80 (InputLayer)        (None, 32)                0         \n",
      "_________________________________________________________________\n",
      "dense_103 (Dense)            (None, 500)               16500     \n",
      "_________________________________________________________________\n",
      "batch_normalization_77 (Batc (None, 500)               2000      \n",
      "_________________________________________________________________\n",
      "dense_104 (Dense)            (None, 500)               250500    \n",
      "_________________________________________________________________\n",
      "batch_normalization_78 (Batc (None, 500)               2000      \n",
      "_________________________________________________________________\n",
      "dense_105 (Dense)            (None, 10000)             5010000   \n",
      "=================================================================\n",
      "Total params: 5,281,000\n",
      "Trainable params: 5,279,000\n",
      "Non-trainable params: 2,000\n",
      "_________________________________________________________________\n"
     ]
    }
   ],
   "source": [
    "Nbits = np.asarray([4,8,16,32])\n",
    "dataset = \"snippets\"\n",
    "\n",
    "X_total_input = np.concatenate((X_train_input,X_val_input),axis=0)\n",
    "X_total = np.concatenate((X_train,X_val),axis=0)\n",
    "labels_total = np.concatenate((labels_train,labels_val),axis=0)\n",
    "\n",
    "for Nbit in Nbits:\n",
    "    traditional_vae,encoder_Tvae,generator_Tvae = traditional_VAE(X_train.shape[1],Nb=Nbit,units=500,layers_e=2,layers_d=0)\n",
    "    traditional_vae.fit(X_train_input, X_train, epochs=epochs, batch_size=batch_size,verbose=0)\n",
    "    p_t,r_t = evaluate_hashing(encoder_Tvae,X_train_input,X_val_input,labels_val,traditional=True,tipo=\"topK\")\n",
    "    traditional_dat[dataset][\"p\"].append(p_t) \n",
    "    traditional_dat[dataset][\"r\"].append(r_t) \n",
    "    \n",
    "    binary_vae,encoder_Bvae,generator_Bvae = binary_VAE(X_train.shape[1],Nb=Nbit,units=500,layers_e=2,layers_d=2)\n",
    "    binary_vae.fit(X_train_input, X_train, epochs=epochs, batch_size=batch_size,verbose=0)\n",
    "    p_b,r_b = evaluate_hashing(encoder_Bvae,X_train_input,X_val_input,labels_val,traditional=False,tipo=\"topK\")\n",
    "    binary_dat[dataset][\"p\"].append(p_b) \n",
    "    binary_dat[dataset][\"r\"].append(r_b) "
   ]
  },
  {
   "cell_type": "code",
   "execution_count": 33,
   "metadata": {
    "collapsed": false,
    "scrolled": true
   },
   "outputs": [
    {
     "name": "stdout",
     "output_type": "stream",
     "text": [
      "Resultados de Precision en validación\n",
      "\n",
      "*** VAE Traditional***\n",
      "N bits        20News            Reuters             Snippets     \n",
      "------ ------------------- ------------------ -------------------\n",
      "     4  0.2129712465767595 0.4516841601813261 0.38949627487599564\n",
      "     8  0.2505828879105617 0.5163160165733508 0.42545534871578594\n",
      "    16 0.28508485348357854 0.4963375390549863 0.35212161375182965\n",
      "    32 0.29895276554873246 0.4946115815904796  0.3408839889953184\n",
      "\n",
      "*** VAE Binary***\n",
      "N bits        20News            Reuters             Snippets     \n",
      "------ ------------------- ------------------ -------------------\n",
      "     4 0.32460276144263234  0.587223963775688 0.47457384983030604\n",
      "     8 0.33815353963816014 0.5687237792230084  0.4356045544912327\n",
      "    16  0.3403886871543253 0.5992035642061371  0.4009960439383874\n",
      "    32  0.3591839212199742 0.6015845537204267 0.40375524629997595\n",
      "\n",
      "Resultados de Recall en validación\n",
      "\n",
      "*** VAE Traditional***\n",
      "N bits        20News             Reuters             Snippets     \n",
      "------ ------------------- ------------------- -------------------\n",
      "     4 0.14693732654703828 0.14177577196989183 0.10909370948921333\n",
      "     8 0.17179805233103712 0.18805217930542015 0.11851747134610983\n",
      "    16  0.1954028766913508 0.17780926123705193 0.09974794328579213\n",
      "    32    0.20491843481309 0.18265112397572755 0.09604887937064421\n",
      "\n",
      "*** VAE Binary***\n",
      "N bits        20News             Reuters             Snippets     \n",
      "------ ------------------- ------------------- -------------------\n",
      "     4 0.22522971032092146 0.19304755569522944   0.137693928611214\n",
      "     8 0.23162088428281719 0.19831304582748632 0.12295492334597026\n",
      "    16  0.2323879057410678 0.22376371774897524 0.11304261275945345\n",
      "    32 0.24599189962877904  0.2332815725873926 0.11379897761974907\n"
     ]
    }
   ],
   "source": [
    "print(\"Resultados de Precision en validación\")\n",
    "t = Table()\n",
    "t[\"N bits\"] = Nbits\n",
    "t[\"20News\"] = traditional_dat[\"20news\"][\"p\"]\n",
    "t[\"Reuters\"] = traditional_dat[\"reuters\"][\"p\"]\n",
    "t[\"Snippets\"] = traditional_dat[\"snippets\"][\"p\"]\n",
    "print(\"\\n*** VAE Traditional***\")\n",
    "print(t)\n",
    "t = Table()\n",
    "t[\"N bits\"] = Nbits\n",
    "t[\"20News\"] = binary_dat[\"20news\"][\"p\"]\n",
    "t[\"Reuters\"] = binary_dat[\"reuters\"][\"p\"]\n",
    "t[\"Snippets\"] = binary_dat[\"snippets\"][\"p\"]\n",
    "print(\"\\n*** VAE Binary***\")\n",
    "print(t)\n",
    "\n",
    "print(\"\\nResultados de Recall en validación\")\n",
    "t = Table()\n",
    "t[\"N bits\"] = Nbits\n",
    "t[\"20News\"] = traditional_dat[\"20news\"][\"r\"]\n",
    "t[\"Reuters\"] = traditional_dat[\"reuters\"][\"r\"]\n",
    "t[\"Snippets\"] = traditional_dat[\"snippets\"][\"r\"]\n",
    "print(\"\\n*** VAE Traditional***\")\n",
    "print(t)\n",
    "t = Table()\n",
    "t[\"N bits\"] = Nbits\n",
    "t[\"20News\"] = binary_dat[\"20news\"][\"r\"]\n",
    "t[\"Reuters\"] = binary_dat[\"reuters\"][\"r\"]\n",
    "t[\"Snippets\"] = binary_dat[\"snippets\"][\"r\"]\n",
    "print(\"\\n*** VAE Binary***\")\n",
    "print(t)"
   ]
  },
  {
   "cell_type": "markdown",
   "metadata": {},
   "source": [
    "Los resultados muestran que, para el modelo binario, al disminuir el número de bits no disminuye tanto las métricas de desempeño como es el caso del VAE tradicional, el cual disminuye considerable su desempeño en los distintos datasets. Pasa algo novedoso con el dataset de *snippets*, en donde al disminuir el número de bits los resultados mejoran.\n",
    "> Podría enfrentarlos a ambos en *test* con **4 bits** y ver que el VAE binario lo sobrepasa contundentemente... pero no! hay que ser justos"
   ]
  },
  {
   "cell_type": "code",
   "execution_count": 126,
   "metadata": {
    "collapsed": false,
    "scrolled": false
   },
   "outputs": [
    {
     "data": {
      "image/png": "[encoded data removed]",
      "text/plain": [
       "<matplotlib.figure.Figure at 0x7f8aa39a8320>"
      ]
     },
     "metadata": {},
     "output_type": "display_data"
    },
    {
     "name": "stdout",
     "output_type": "stream",
     "text": [
      "Valor anterior de precision:  0.35\n",
      "Precision con epoch= 100 0.37125228959799317\n"
     ]
    }
   ],
   "source": [
    "##aumentar los epochs mejora?? --> si!\n",
    "history_dict2 = hist2.history\n",
    "loss_values2 = history_dict2['loss']\n",
    "val_loss_values2 = history_dict2['val_loss']\n",
    "epochs_l = range(1, len(loss_values2) + 1)\n",
    "\n",
    "plt.figure(figsize=(14,6))\n",
    "plt.plot(epochs_l, loss_values2, 'bo-', label = \"Train set binary\")\n",
    "plt.plot(epochs_l, val_loss_values2, 'g*-', label = \"Val set binary\")\n",
    "plt.xlabel('Epochs')\n",
    "plt.ylabel('Loss')\n",
    "plt.legend(loc=\"upper right\", fancybox= True)\n",
    "plt.title(\"VAE binary loss\")\n",
    "plt.show()\n",
    "\n",
    "print(\"Valor anterior de precision: \",0.35)\n",
    "print(\"Precision con epoch= 100\",precision)"
   ]
  },
  {
   "cell_type": "markdown",
   "metadata": {},
   "source": [
    "## *Best models facing test set*\n",
    "Luego de la selección de la mejor configuración de los modelos se evalua de diferentes formas sobre el conjunto de pruebas de los distintos *datasets*, los cambios realizados son:\n",
    "* Se entrenan sobre todos los datos disponibles (*train+val*)\n",
    "* Se aumentó el número de *epochs* a 50.\n",
    "\n",
    "El mejor modelo:\n",
    "* Simétrica para *Binary VAE* y Base para *Traditional VAE*\n",
    "* 32 Bits en la codificación (número de variables latentes)\n",
    "* Representación sobre las top 10 mil *tokens* más frecuentes y *Term Frequency*"
   ]
  },
  {
   "cell_type": "code",
   "execution_count": 46,
   "metadata": {
    "collapsed": true
   },
   "outputs": [],
   "source": [
    "def evaluate_hashing(encoder,train,test,labels_trainn,labels_testt,traditional=True,tipo=\"topK\"):\n",
    "    \"\"\"\n",
    "        Evaluate Hashing correclty: Query and retrieve on a different set\n",
    "    \"\"\"\n",
    "    encode_train = encoder.predict(train)\n",
    "    encode_test = encoder.predict(test)\n",
    "    if traditional:\n",
    "        median= MedianHashing()\n",
    "        median.fit(encode_train)\n",
    "        \n",
    "        train_hash = median.transform(encode_train)\n",
    "        test_hash = median.transform(encode_test)\n",
    "    else: #para Binary VAE\n",
    "        probas_train = keras.activations.sigmoid(encode_train).eval(session=K.get_session())\n",
    "        probas_test = keras.activations.sigmoid(encode_test).eval(session=K.get_session())\n",
    "        \n",
    "        train_hash = (probas_train > 0.5)*1\n",
    "        test_hash = (probas_test > 0.5)*1\n",
    "\n",
    "    test_similares_train =  get_similar(test_hash,train_hash,tipo=\"topK\",K=100)\n",
    "    return measure_metrics(test_similares_train,labels_testt,labels_destination=labels_trainn)\n",
    "\n",
    "#to save results\n",
    "results_dat = {\"20news\":{\"p\":[],\"r\":[]},\"snippets\":{\"p\":[],\"r\":[]},\"reuters\":{\"p\":[],\"r\":[]}} #for topk\n",
    "traditional_dat = {\"20news\":{\"p\":[],\"r\":[]},\"snippets\":{\"p\":[],\"r\":[]},\"reuters\":{\"p\":[],\"r\":[]}} #for ball radius\n",
    "binary_dat = {\"20news\":{\"p\":[],\"r\":[]},\"snippets\":{\"p\":[],\"r\":[]},\"reuters\":{\"p\":[],\"r\":[]}} #for ball radius"
   ]
  },
  {
   "cell_type": "code",
   "execution_count": 120,
   "metadata": {
    "collapsed": false,
    "scrolled": true
   },
   "outputs": [
    {
     "name": "stdout",
     "output_type": "stream",
     "text": [
      "pre-encoder network:\n",
      "_________________________________________________________________\n",
      "Layer (type)                 Output Shape              Param #   \n",
      "=================================================================\n",
      "input_40 (InputLayer)        (None, 10000)             0         \n",
      "_________________________________________________________________\n",
      "dense_56 (Dense)             (None, 500)               5000500   \n",
      "_________________________________________________________________\n",
      "batch_normalization_43 (Batc (None, 500)               2000      \n",
      "_________________________________________________________________\n",
      "dense_57 (Dense)             (None, 500)               250500    \n",
      "_________________________________________________________________\n",
      "batch_normalization_44 (Batc (None, 500)               2000      \n",
      "=================================================================\n",
      "Total params: 5,255,000\n",
      "Trainable params: 5,253,000\n",
      "Non-trainable params: 2,000\n",
      "_________________________________________________________________\n",
      "generator network:\n",
      "_________________________________________________________________\n",
      "Layer (type)                 Output Shape              Param #   \n",
      "=================================================================\n",
      "input_41 (InputLayer)        (None, 32)                0         \n",
      "_________________________________________________________________\n",
      "dense_58 (Dense)             (None, 500)               16500     \n",
      "_________________________________________________________________\n",
      "batch_normalization_45 (Batc (None, 500)               2000      \n",
      "_________________________________________________________________\n",
      "dense_59 (Dense)             (None, 500)               250500    \n",
      "_________________________________________________________________\n",
      "batch_normalization_46 (Batc (None, 500)               2000      \n",
      "_________________________________________________________________\n",
      "dense_60 (Dense)             (None, 10000)             5010000   \n",
      "=================================================================\n",
      "Total params: 5,281,000\n",
      "Trainable params: 5,279,000\n",
      "Non-trainable params: 2,000\n",
      "_________________________________________________________________\n"
     ]
    },
    {
     "data": {
      "text/plain": [
       "<keras.callbacks.History at 0x2aab4568eef0>"
      ]
     },
     "execution_count": 120,
     "metadata": {},
     "output_type": "execute_result"
    }
   ],
   "source": [
    "X_total_input = np.concatenate((X_train_input,X_val_input),axis=0)\n",
    "X_total = np.concatenate((X_train,X_val),axis=0)\n",
    "labels_total = np.concatenate((labels_train,labels_val),axis=0)\n",
    "\n",
    "traditional_vae,encoder_Tvae,generator_Tvae = traditional_VAE(X_train.shape[1],Nb=32,units=500,layers_e=2,layers_d=0)\n",
    "traditional_vae.fit(X_total_input, X_total, epochs=50, batch_size=batch_size,verbose=0)\n",
    "\n",
    "binary_vae,encoder_Bvae,generator_Bvae = binary_VAE(X_train.shape[1],Nb=32,units=500,layers_e=2,layers_d=2)\n",
    "binary_vae.fit(X_total_input, X_total, epochs=50, batch_size=batch_size,verbose=0)"
   ]
  },
  {
   "cell_type": "code",
   "execution_count": 357,
   "metadata": {
    "collapsed": false
   },
   "outputs": [
    {
     "name": "stdout",
     "output_type": "stream",
     "text": [
      "Realizado.\n"
     ]
    }
   ],
   "source": [
    "dataset = \"20news\"\n",
    "\n",
    "p_t,r_t = evaluate_hashing(encoder_Tvae,X_total_input,X_test_input,labels_total,labels_test,traditional=True,tipo=\"topK\")\n",
    "results_dat[dataset][\"p\"].append(p_t)\n",
    "results_dat[dataset][\"r\"].append(r_t)\n",
    "\n",
    "p_b,r_b = evaluate_hashing(encoder_Bvae,X_total_input,X_test_input,labels_total,labels_test,traditional=False,tipo=\"topK\")\n",
    "results_dat[dataset][\"p\"].append(p_b)\n",
    "results_dat[dataset][\"r\"].append(r_b)\n",
    "print(\"Realizado.\")"
   ]
  },
  {
   "cell_type": "code",
   "execution_count": 57,
   "metadata": {
    "collapsed": false
   },
   "outputs": [
    {
     "name": "stdout",
     "output_type": "stream",
     "text": [
      "Termino\n",
      "CPU times: user 40.5 s, sys: 318 ms, total: 40.9 s\n",
      "Wall time: 39.4 s\n"
     ]
    }
   ],
   "source": [
    "%%time\n",
    "ball_radius = np.arange(0,10) #ball of radius graphic\n",
    "\n",
    "binary_p = []\n",
    "binary_r = []\n",
    "encode_total = encoder_Bvae.predict(X_total_input)\n",
    "encode_test = encoder_Bvae.predict(X_test_input)\n",
    "probas_total= keras.activations.sigmoid(encode_total).eval(session=K.get_session())\n",
    "probas_test= keras.activations.sigmoid(encode_test).eval(session=K.get_session())\n",
    "total_hash_b = (probas_total > 0.5)*1\n",
    "test_hash_b = (probas_test > 0.5)*1\n",
    "    \n",
    "traditional_p = []\n",
    "traditional_r = []\n",
    "encode_total = encoder_Tvae.predict(X_total_input)\n",
    "encode_test = encoder_Tvae.predict(X_test_input)\n",
    "median= MedianHashing()\n",
    "median.fit(encode_total)\n",
    "total_hash_t = median.transform(encode_total)\n",
    "test_hash_t = median.transform(encode_test)\n",
    "\n",
    "\n",
    "for ball_r in ball_radius:\n",
    "    test_similares_train =  get_similar(test_hash_b,total_hash_b,tipo='ball',ball=ball_r) \n",
    "    p_b,r_b  = measure_metrics(test_similares_train,labels_test,labels_destination=labels_total)\n",
    "    binary_dat[dataset][\"p\"].append(p_b)\n",
    "    binary_dat[dataset][\"r\"].append(r_b)\n",
    "    \n",
    "    test_similares_train =  get_similar(test_hash_t,total_hash_t,tipo='ball',ball=ball_r) \n",
    "    p_t,r_t  = measure_metrics(test_similares_train,labels_test,labels_destination=labels_total)\n",
    "    traditional_dat[dataset][\"p\"].append(p_t)\n",
    "    traditional_dat[dataset][\"r\"].append(r_t)\n",
    "\n",
    "print(\"Termino\")"
   ]
  },
  {
   "cell_type": "code",
   "execution_count": 62,
   "metadata": {
    "collapsed": false
   },
   "outputs": [
    {
     "name": "stdout",
     "output_type": "stream",
     "text": [
      "*************Top 100 most similar retrieve*************\n",
      "\n",
      "Resultados de Precision en pruebas\n",
      "   Modelo         20News            Reuters             Snippets     \n",
      "----------- ------------------ ------------------ -------------------\n",
      "Tradicional 0.3198431607632358 0.5555632174678232 0.29661540847067136\n",
      "    Binario 0.4412580934142276 0.6978235150444521  0.3812511961722483\n",
      "\n",
      "\n",
      "Resultados de Recall en pruebas\n",
      "   Modelo          20News             Reuters             Snippets     \n",
      "----------- ------------------- ------------------- -------------------\n",
      "Tradicional 0.08368164628228804 0.17358614696801034  0.0989468367889419\n",
      "    Binario 0.11571856965491284 0.24586105087136056 0.12721012759170613\n"
     ]
    }
   ],
   "source": [
    "print(\"*************Top 100 most similar retrieve*************\")\n",
    "\n",
    "print(\"\\nResultados de Precision en pruebas\")\n",
    "t = Table()\n",
    "t[\"Modelo\"] = [\"Tradicional\",\"Binario\"]\n",
    "t[\"20News\"] = results_dat[\"20news\"][\"p\"]\n",
    "t[\"Reuters\"] = results_dat[\"reuters\"][\"p\"]\n",
    "t[\"Snippets\"] = results_dat[\"snippets\"][\"p\"]\n",
    "print(t)\n",
    "\n",
    "print(\"\\n\\nResultados de Recall en pruebas\")\n",
    "t = Table()\n",
    "t[\"Modelo\"] = [\"Tradicional\",\"Binario\"]\n",
    "t[\"20News\"] = results_dat[\"20news\"][\"r\"]\n",
    "t[\"Reuters\"] = results_dat[\"reuters\"][\"r\"]\n",
    "t[\"Snippets\"] = results_dat[\"snippets\"][\"r\"]\n",
    "print(t)"
   ]
  },
  {
   "cell_type": "code",
   "execution_count": null,
   "metadata": {
    "collapsed": true
   },
   "outputs": [],
   "source": [
    "### con collocations:\n",
    "print(\"*************Top 100 most similar retrieve*************\")\n",
    "\n",
    "print(\"\\nResultados de Precision en pruebas\")\n",
    "t = Table()\n",
    "t[\"Modelo\"] = [\"Tradicional\",\"Binario\"]\n",
    "t[\"20News\"] = results_dat[\"20news\"][\"p\"]\n",
    "t[\"Reuters\"] = results_dat[\"reuters\"][\"p\"]\n",
    "t[\"Snippets\"] = results_dat[\"snippets\"][\"p\"]\n",
    "print(t)\n",
    "\n",
    "print(\"\\n\\nResultados de Recall en pruebas\")\n",
    "t = Table()\n",
    "t[\"Modelo\"] = [\"Tradicional\",\"Binario\"]\n",
    "t[\"20News\"] = results_dat[\"20news\"][\"r\"]\n",
    "t[\"Reuters\"] = results_dat[\"reuters\"][\"r\"]\n",
    "t[\"Snippets\"] = results_dat[\"snippets\"][\"r\"]\n",
    "print(t)"
   ]
  },
  {
   "cell_type": "code",
   "execution_count": 19,
   "metadata": {
    "collapsed": false,
    "scrolled": true
   },
   "outputs": [
    {
     "name": "stdout",
     "output_type": "stream",
     "text": [
      "pre-encoder network:\n",
      "_________________________________________________________________\n",
      "Layer (type)                 Output Shape              Param #   \n",
      "=================================================================\n",
      "dense_10 (Dense)             (None, 500)               23618500  \n",
      "_________________________________________________________________\n",
      "batch_normalization_7 (Batch (None, 500)               2000      \n",
      "_________________________________________________________________\n",
      "dense_11 (Dense)             (None, 500)               250500    \n",
      "_________________________________________________________________\n",
      "batch_normalization_8 (Batch (None, 500)               2000      \n",
      "=================================================================\n",
      "Total params: 23,873,000\n",
      "Trainable params: 23,871,000\n",
      "Non-trainable params: 2,000\n",
      "_________________________________________________________________\n",
      "generator network:\n",
      "_________________________________________________________________\n",
      "Layer (type)                 Output Shape              Param #   \n",
      "=================================================================\n",
      "dense_12 (Dense)             (None, 47236)             1558788   \n",
      "=================================================================\n",
      "Total params: 1,558,788\n",
      "Trainable params: 1,558,788\n",
      "Non-trainable params: 0\n",
      "_________________________________________________________________\n",
      "pre-encoder network:\n",
      "_________________________________________________________________\n",
      "Layer (type)                 Output Shape              Param #   \n",
      "=================================================================\n",
      "dense_13 (Dense)             (None, 500)               23618500  \n",
      "_________________________________________________________________\n",
      "batch_normalization_9 (Batch (None, 500)               2000      \n",
      "_________________________________________________________________\n",
      "dense_14 (Dense)             (None, 500)               250500    \n",
      "_________________________________________________________________\n",
      "batch_normalization_10 (Batc (None, 500)               2000      \n",
      "=================================================================\n",
      "Total params: 23,873,000\n",
      "Trainable params: 23,871,000\n",
      "Non-trainable params: 2,000\n",
      "_________________________________________________________________\n",
      "generator network:\n",
      "_________________________________________________________________\n",
      "Layer (type)                 Output Shape              Param #   \n",
      "=================================================================\n",
      "dense_15 (Dense)             (None, 500)               16500     \n",
      "_________________________________________________________________\n",
      "batch_normalization_11 (Batc (None, 500)               2000      \n",
      "_________________________________________________________________\n",
      "dense_16 (Dense)             (None, 500)               250500    \n",
      "_________________________________________________________________\n",
      "batch_normalization_12 (Batc (None, 500)               2000      \n",
      "_________________________________________________________________\n",
      "dense_17 (Dense)             (None, 47236)             23665236  \n",
      "=================================================================\n",
      "Total params: 23,936,236\n",
      "Trainable params: 23,934,236\n",
      "Non-trainable params: 2,000\n",
      "_________________________________________________________________\n"
     ]
    },
    {
     "ename": "KeyboardInterrupt",
     "evalue": "",
     "output_type": "error",
     "traceback": [
      "\u001b[0;31m---------------------------------------------------------------------------\u001b[0m",
      "\u001b[0;31mKeyboardInterrupt\u001b[0m                         Traceback (most recent call last)",
      "\u001b[0;32m<ipython-input-19-16b896376d25>\u001b[0m in \u001b[0;36m<module>\u001b[0;34m()\u001b[0m\n\u001b[1;32m      3\u001b[0m \u001b[0;34m\u001b[0m\u001b[0m\n\u001b[1;32m      4\u001b[0m \u001b[0mbinary_vae\u001b[0m\u001b[0;34m,\u001b[0m\u001b[0mencoder_Bvae\u001b[0m\u001b[0;34m,\u001b[0m\u001b[0mgenerator_Bvae\u001b[0m \u001b[0;34m=\u001b[0m \u001b[0mbinary_VAE\u001b[0m\u001b[0;34m(\u001b[0m\u001b[0mX_train\u001b[0m\u001b[0;34m.\u001b[0m\u001b[0mshape\u001b[0m\u001b[0;34m[\u001b[0m\u001b[0;36m1\u001b[0m\u001b[0;34m]\u001b[0m\u001b[0;34m,\u001b[0m\u001b[0mNb\u001b[0m\u001b[0;34m=\u001b[0m\u001b[0;36m32\u001b[0m\u001b[0;34m,\u001b[0m\u001b[0munits\u001b[0m\u001b[0;34m=\u001b[0m\u001b[0;36m500\u001b[0m\u001b[0;34m,\u001b[0m\u001b[0mlayers_e\u001b[0m\u001b[0;34m=\u001b[0m\u001b[0;36m2\u001b[0m\u001b[0;34m,\u001b[0m\u001b[0mlayers_d\u001b[0m\u001b[0;34m=\u001b[0m\u001b[0;36m2\u001b[0m\u001b[0;34m)\u001b[0m\u001b[0;34m\u001b[0m\u001b[0m\n\u001b[0;32m----> 5\u001b[0;31m \u001b[0mbinary_vae\u001b[0m\u001b[0;34m.\u001b[0m\u001b[0mfit\u001b[0m\u001b[0;34m(\u001b[0m\u001b[0mX_train\u001b[0m\u001b[0;34m,\u001b[0m \u001b[0mX_train\u001b[0m\u001b[0;34m,\u001b[0m \u001b[0mepochs\u001b[0m\u001b[0;34m=\u001b[0m\u001b[0;36m50\u001b[0m\u001b[0;34m,\u001b[0m \u001b[0mbatch_size\u001b[0m\u001b[0;34m=\u001b[0m\u001b[0mbatch_size\u001b[0m\u001b[0;34m,\u001b[0m\u001b[0mverbose\u001b[0m\u001b[0;34m=\u001b[0m\u001b[0;36m0\u001b[0m\u001b[0;34m)\u001b[0m\u001b[0;34m\u001b[0m\u001b[0m\n\u001b[0m",
      "\u001b[0;32m/home/casapanshop/anaconda2/envs/py3/lib/python3.5/site-packages/keras/engine/training.py\u001b[0m in \u001b[0;36mfit\u001b[0;34m(self, x, y, batch_size, epochs, verbose, callbacks, validation_split, validation_data, shuffle, class_weight, sample_weight, initial_epoch, steps_per_epoch, validation_steps, **kwargs)\u001b[0m\n\u001b[1;32m   1040\u001b[0m                                         \u001b[0minitial_epoch\u001b[0m\u001b[0;34m=\u001b[0m\u001b[0minitial_epoch\u001b[0m\u001b[0;34m,\u001b[0m\u001b[0;34m\u001b[0m\u001b[0m\n\u001b[1;32m   1041\u001b[0m                                         \u001b[0msteps_per_epoch\u001b[0m\u001b[0;34m=\u001b[0m\u001b[0msteps_per_epoch\u001b[0m\u001b[0;34m,\u001b[0m\u001b[0;34m\u001b[0m\u001b[0m\n\u001b[0;32m-> 1042\u001b[0;31m                                         validation_steps=validation_steps)\n\u001b[0m\u001b[1;32m   1043\u001b[0m \u001b[0;34m\u001b[0m\u001b[0m\n\u001b[1;32m   1044\u001b[0m     def evaluate(self, x=None, y=None,\n",
      "\u001b[0;32m/home/casapanshop/anaconda2/envs/py3/lib/python3.5/site-packages/keras/engine/training_arrays.py\u001b[0m in \u001b[0;36mfit_loop\u001b[0;34m(model, f, ins, out_labels, batch_size, epochs, verbose, callbacks, val_f, val_ins, shuffle, callback_metrics, initial_epoch, steps_per_epoch, validation_steps)\u001b[0m\n\u001b[1;32m    197\u001b[0m                     \u001b[0mins_batch\u001b[0m\u001b[0;34m[\u001b[0m\u001b[0mi\u001b[0m\u001b[0;34m]\u001b[0m \u001b[0;34m=\u001b[0m \u001b[0mins_batch\u001b[0m\u001b[0;34m[\u001b[0m\u001b[0mi\u001b[0m\u001b[0;34m]\u001b[0m\u001b[0;34m.\u001b[0m\u001b[0mtoarray\u001b[0m\u001b[0;34m(\u001b[0m\u001b[0;34m)\u001b[0m\u001b[0;34m\u001b[0m\u001b[0m\n\u001b[1;32m    198\u001b[0m \u001b[0;34m\u001b[0m\u001b[0m\n\u001b[0;32m--> 199\u001b[0;31m                 \u001b[0mouts\u001b[0m \u001b[0;34m=\u001b[0m \u001b[0mf\u001b[0m\u001b[0;34m(\u001b[0m\u001b[0mins_batch\u001b[0m\u001b[0;34m)\u001b[0m\u001b[0;34m\u001b[0m\u001b[0m\n\u001b[0m\u001b[1;32m    200\u001b[0m                 \u001b[0;32mif\u001b[0m \u001b[0;32mnot\u001b[0m \u001b[0misinstance\u001b[0m\u001b[0;34m(\u001b[0m\u001b[0mouts\u001b[0m\u001b[0;34m,\u001b[0m \u001b[0mlist\u001b[0m\u001b[0;34m)\u001b[0m\u001b[0;34m:\u001b[0m\u001b[0;34m\u001b[0m\u001b[0m\n\u001b[1;32m    201\u001b[0m                     \u001b[0mouts\u001b[0m \u001b[0;34m=\u001b[0m \u001b[0;34m[\u001b[0m\u001b[0mouts\u001b[0m\u001b[0;34m]\u001b[0m\u001b[0;34m\u001b[0m\u001b[0m\n",
      "\u001b[0;32m/home/casapanshop/anaconda2/envs/py3/lib/python3.5/site-packages/keras/backend/tensorflow_backend.py\u001b[0m in \u001b[0;36m__call__\u001b[0;34m(self, inputs)\u001b[0m\n\u001b[1;32m   2659\u001b[0m                 \u001b[0;32mreturn\u001b[0m \u001b[0mself\u001b[0m\u001b[0;34m.\u001b[0m\u001b[0m_legacy_call\u001b[0m\u001b[0;34m(\u001b[0m\u001b[0minputs\u001b[0m\u001b[0;34m)\u001b[0m\u001b[0;34m\u001b[0m\u001b[0m\n\u001b[1;32m   2660\u001b[0m \u001b[0;34m\u001b[0m\u001b[0m\n\u001b[0;32m-> 2661\u001b[0;31m             \u001b[0;32mreturn\u001b[0m \u001b[0mself\u001b[0m\u001b[0;34m.\u001b[0m\u001b[0m_call\u001b[0m\u001b[0;34m(\u001b[0m\u001b[0minputs\u001b[0m\u001b[0;34m)\u001b[0m\u001b[0;34m\u001b[0m\u001b[0m\n\u001b[0m\u001b[1;32m   2662\u001b[0m         \u001b[0;32melse\u001b[0m\u001b[0;34m:\u001b[0m\u001b[0;34m\u001b[0m\u001b[0m\n\u001b[1;32m   2663\u001b[0m             \u001b[0;32mif\u001b[0m \u001b[0mpy_any\u001b[0m\u001b[0;34m(\u001b[0m\u001b[0mis_tensor\u001b[0m\u001b[0;34m(\u001b[0m\u001b[0mx\u001b[0m\u001b[0;34m)\u001b[0m \u001b[0;32mfor\u001b[0m \u001b[0mx\u001b[0m \u001b[0;32min\u001b[0m \u001b[0minputs\u001b[0m\u001b[0;34m)\u001b[0m\u001b[0;34m:\u001b[0m\u001b[0;34m\u001b[0m\u001b[0m\n",
      "\u001b[0;32m/home/casapanshop/anaconda2/envs/py3/lib/python3.5/site-packages/keras/backend/tensorflow_backend.py\u001b[0m in \u001b[0;36m_call\u001b[0;34m(self, inputs)\u001b[0m\n\u001b[1;32m   2629\u001b[0m                                 \u001b[0msymbol_vals\u001b[0m\u001b[0;34m,\u001b[0m\u001b[0;34m\u001b[0m\u001b[0m\n\u001b[1;32m   2630\u001b[0m                                 session)\n\u001b[0;32m-> 2631\u001b[0;31m         \u001b[0mfetched\u001b[0m \u001b[0;34m=\u001b[0m \u001b[0mself\u001b[0m\u001b[0;34m.\u001b[0m\u001b[0m_callable_fn\u001b[0m\u001b[0;34m(\u001b[0m\u001b[0;34m*\u001b[0m\u001b[0marray_vals\u001b[0m\u001b[0;34m)\u001b[0m\u001b[0;34m\u001b[0m\u001b[0m\n\u001b[0m\u001b[1;32m   2632\u001b[0m         \u001b[0;32mreturn\u001b[0m \u001b[0mfetched\u001b[0m\u001b[0;34m[\u001b[0m\u001b[0;34m:\u001b[0m\u001b[0mlen\u001b[0m\u001b[0;34m(\u001b[0m\u001b[0mself\u001b[0m\u001b[0;34m.\u001b[0m\u001b[0moutputs\u001b[0m\u001b[0;34m)\u001b[0m\u001b[0;34m]\u001b[0m\u001b[0;34m\u001b[0m\u001b[0m\n\u001b[1;32m   2633\u001b[0m \u001b[0;34m\u001b[0m\u001b[0m\n",
      "\u001b[0;32m/home/casapanshop/anaconda2/envs/py3/lib/python3.5/site-packages/tensorflow/python/client/session.py\u001b[0m in \u001b[0;36m__call__\u001b[0;34m(self, *args)\u001b[0m\n\u001b[1;32m   1449\u001b[0m         \u001b[0;32mif\u001b[0m \u001b[0mself\u001b[0m\u001b[0;34m.\u001b[0m\u001b[0m_session\u001b[0m\u001b[0;34m.\u001b[0m\u001b[0m_created_with_new_api\u001b[0m\u001b[0;34m:\u001b[0m\u001b[0;34m\u001b[0m\u001b[0m\n\u001b[1;32m   1450\u001b[0m           return tf_session.TF_SessionRunCallable(\n\u001b[0;32m-> 1451\u001b[0;31m               self._session._session, self._handle, args, status, None)\n\u001b[0m\u001b[1;32m   1452\u001b[0m         \u001b[0;32melse\u001b[0m\u001b[0;34m:\u001b[0m\u001b[0;34m\u001b[0m\u001b[0m\n\u001b[1;32m   1453\u001b[0m           return tf_session.TF_DeprecatedSessionRunCallable(\n",
      "\u001b[0;31mKeyboardInterrupt\u001b[0m: "
     ]
    }
   ],
   "source": [
    "#RCV1 dataset\n",
    "traditional_vae,encoder_Tvae,generator_Tvae = traditional_VAE(X_train.shape[1],Nb=32,units=500,layers_e=2,layers_d=0)\n",
    "traditional_vae.fit(X_train, X_train, epochs=50, batch_size=batch_size,verbose=0)\n",
    "\n",
    "binary_vae,encoder_Bvae,generator_Bvae = binary_VAE(X_train.shape[1],Nb=32,units=500,layers_e=2,layers_d=2)\n",
    "binary_vae.fit(X_train, X_train, epochs=50, batch_size=batch_size,verbose=0)"
   ]
  },
  {
   "cell_type": "code",
   "execution_count": null,
   "metadata": {
    "collapsed": true
   },
   "outputs": [],
   "source": [
    "p_t,r_t = evaluate_hashing(encoder_Tvae,X_total_input,X_test_input,labels_total,labels_test,traditional=True,tipo=\"topK\")\n",
    "\n",
    "p_b,r_b = evaluate_hashing(encoder_Bvae,X_total_input,X_test_input,labels_total,labels_test,traditional=False,tipo=\"topK\")\n"
   ]
  },
  {
   "cell_type": "markdown",
   "metadata": {},
   "source": [
    "La propuesta presentada de *VAE* binario sobrepasa al *VAE* tradicional en todos los resultados presentados.\n",
    "### Experimentos con el *ball search*\n",
    "A continuación se muestra una leve experimentación cuando se trabaja con la búsqueda a través de un radio en el espacio de *Haming*."
   ]
  },
  {
   "cell_type": "code",
   "execution_count": 79,
   "metadata": {
    "collapsed": false
   },
   "outputs": [
    {
     "data": {
      "image/png": "[encoded data removed]",
      "text/plain": [
       "<matplotlib.figure.Figure at 0x7fe5940cf860>"
      ]
     },
     "metadata": {},
     "output_type": "display_data"
    }
   ],
   "source": [
    "f, axx = plt.subplots(1,3, figsize=(14,5))\n",
    "\n",
    "axx[0].plot(ball_radius,binary_dat[\"20news\"][\"p\"],'go-',label=\"precision (Binary VAE)\")\n",
    "axx[0].plot(ball_radius,binary_dat[\"20news\"][\"r\"],'gv-', label='recall' ) \n",
    "axx[0].plot(ball_radius,traditional_dat[\"20news\"][\"p\"],'bo-',label=\"precision (Traditional VAE)\")\n",
    "axx[0].plot(ball_radius,traditional_dat[\"20news\"][\"r\"],'bv-', label='recall' ) \n",
    "axx[0].set_ylabel(\"Score\")\n",
    "axx[0].set_title(\"20 Newsgroup\")\n",
    "axx[0].legend(bbox_to_anchor=(2, -0.1))\n",
    "\n",
    "axx[1].plot(ball_radius,binary_dat[\"reuters\"][\"p\"],'go-')\n",
    "axx[1].plot(ball_radius,binary_dat[\"reuters\"][\"r\"],'gv-' ) \n",
    "axx[1].plot(ball_radius,traditional_dat[\"reuters\"][\"p\"],'bo-')\n",
    "axx[1].plot(ball_radius,traditional_dat[\"reuters\"][\"r\"],'bv-' ) \n",
    "axx[1].set_title(\"Reuters\")\n",
    "\n",
    "axx[2].plot(ball_radius,binary_dat[\"snippets\"][\"p\"],'go-')\n",
    "axx[2].plot(ball_radius,binary_dat[\"snippets\"][\"r\"],'gv-') \n",
    "axx[2].plot(ball_radius,traditional_dat[\"snippets\"][\"p\"],'bo-')\n",
    "axx[2].plot(ball_radius,traditional_dat[\"snippets\"][\"r\"],'bv-') \n",
    "axx[2].set_title(\"Snippets\")\n",
    "\n",
    "for i in range(3):\n",
    "    axx[i].set_xticks(ball_radius)\n",
    "    axx[i].set_xlabel(\"Ball radius\")\n",
    "    axx[i].set_xlim(-0.5,9.5)\n",
    "    axx[i].set_ylim(-0.05)\n",
    "    \n",
    "f.suptitle(\"Comparison of ball search\")\n",
    "plt.show()"
   ]
  },
  {
   "cell_type": "markdown",
   "metadata": {},
   "source": [
    "Se puede ver que la experimentación con el radio de búsqueda refleja que mejores resultados se pueden alcanzar, por ejemplo en Reuters llegar a 0.8 de *precision* y en 20 News a 0.5. Al aumentar el radio de búsqueda ambas métricas aumentan hasta un cierto punto (3-5) en donde se comienza a observar el típico *trade-off* entre *precision* y *recall*, a un mayor *precision* un menor *recall*.\n",
    "\n",
    "### Analysis\n",
    "---\n",
    "A continuación se realiza el análisis final del modelo binario de *VAE*, gracias a que modela las probabilidades de los códigos binarios directamente es posible interpretarlos a través de las palabras más probables que representan cada *bit* en cada dataset.\n",
    "\n",
    "1. \"Encender\" solo un *bit* como *input* al *decoder*/*generator*\n",
    "2. Realizar un *forward pass* para obtener la distribución de probabilidad de las palabras\n",
    "3. Obtener las top $M$ palabras más probables."
   ]
  },
  {
   "cell_type": "code",
   "execution_count": 55,
   "metadata": {
    "collapsed": true
   },
   "outputs": [],
   "source": [
    "def get_topk_probably_words(probabilities,K):\n",
    "    order_vocabulary =  np.argsort(probabilities) \n",
    "    tokens_probables = order_vocabulary[:K]  #token mas probables\n",
    "    return list(map(lambda x:idx2token[x] ,tokens_probables))\n",
    "\n",
    "##valores unicos de hash? distribucion de casillas\n",
    "def hash_analysis(hash_data):\n",
    "    hash_string = []\n",
    "    for valor in hash_data:\n",
    "        hash_string.append(str(valor)[1:-1].replace(' ',''))\n",
    "    valores_unicos = set(hash_string)\n",
    "    count_hash = {valor: hash_string.count(valor) for valor in valores_unicos}\n",
    "    return valores_unicos, count_hash\n",
    "\n",
    "def calculate_hash(data,model):\n",
    "    encode_data = model.predict(data) #logits\n",
    "    #para Binary VAE\n",
    "    probas_data = keras.activations.sigmoid(encode_data).eval(session=K.get_session())\n",
    "    data_hash = (probas_data > 0.5)*1\n",
    "    return data_hash\n",
    "\n",
    "def plot_cells_distribution(Nb,train_hash,test_hash=[]):\n",
    "    print(\"Cantidad de memorias en tabla hash: \",2**Nb)\n",
    "\n",
    "    valores_unicos, count_hash =  hash_analysis(train_hash)\n",
    "    print(\"Entrenamiento----\")\n",
    "    print(\"Cantidad de datos a llenar la tabla hash: \",train_hash.shape[0])\n",
    "    plt.figure(figsize=(14,4))\n",
    "    plt.plot(sorted(list(count_hash.values()))[::-1],'bo-')\n",
    "    plt.title(\"Cantidad de datos por celda/memoria en tabla hash\")\n",
    "    plt.show()\n",
    "    print(\"Cantidad de memorias ocupadas: \",len(valores_unicos))\n",
    "    if len(test_hash) != 0:\n",
    "        valores_unicos, count_hash =  hash_analysis(test_hash)\n",
    "        print(\"Pruebas-----\")\n",
    "        print(\"Cantidad de datos a llenar la tabla hash: \",test_hash.shape[0])\n",
    "        plt.figure(figsize=(14,4))\n",
    "        plt.plot(sorted(list(count_hash.values()))[::-1],'bo-')\n",
    "        plt.title(\"Cantidad de datos por celda/memoria en tabla hash\")\n",
    "        plt.show()\n",
    "        print(\"Cantidad de memorias ocupadas: \",len(valores_unicos))\n",
    "        \n",
    "def compare_cells_plot(nb,train_hash1,train_hash2,test_hash1=[],test_hash2=[]):\n",
    "    print(\"Cantidad de memorias en tabla hash: \",2**Nb)\n",
    "    \n",
    "    print(\"Entrenamiento----\")\n",
    "    print(\"Cantidad de datos a llenar la tabla hash: \",train_hash1.shape[0])\n",
    "\n",
    "    valores_unicos, count_hash =  hash_analysis(train_hash1)\n",
    "    print(\"Cantidad de memorias ocupadas hash1: \",len(valores_unicos))\n",
    "    plt.figure(figsize=(14,4))\n",
    "    plt.plot(sorted(list(count_hash.values()))[::-1],'bo-',label=\"Binary\")\n",
    "    \n",
    "    valores_unicos, count_hash =  hash_analysis(train_hash2)\n",
    "    print(\"Cantidad de memorias ocupadas hash2: \",len(valores_unicos))\n",
    "    plt.plot(sorted(list(count_hash.values()))[::-1],'go-',label=\"Traditional\")\n",
    "    plt.legend()\n",
    "    plt.show()\n",
    "    \n",
    "    if len(test_hash1) != 0:\n",
    "        print(\"Pruebas-----\")\n",
    "        print(\"Cantidad de datos a llenar la tabla hash: \",test_hash1.shape[0])\n",
    "        \n",
    "        valores_unicos, count_hash =  hash_analysis(test_hash1)\n",
    "        print(\"Cantidad de memorias ocupadas hash1: \",len(valores_unicos))\n",
    "        plt.figure(figsize=(14,4))\n",
    "        plt.plot(sorted(list(count_hash.values()))[::-1],'bo-',label=\"Binary\")\n",
    "        \n",
    "        valores_unicos, count_hash =  hash_analysis(test_hash2)\n",
    "        print(\"Cantidad de memorias ocupadas hash2: \",len(valores_unicos))\n",
    "        plt.plot(sorted(list(count_hash.values()))[::-1],'go-',label=\"Traditional\")\n",
    "        plt.legend()\n",
    "        plt.show()"
   ]
  },
  {
   "cell_type": "code",
   "execution_count": 121,
   "metadata": {
    "collapsed": true
   },
   "outputs": [],
   "source": [
    "Nb = encoder_Bvae.output_shape[1]\n",
    "\n",
    "train_hash = calculate_hash(X_total_input,encoder_Bvae)\n",
    "test_hash = calculate_hash(X_test_input,encoder_Bvae)"
   ]
  },
  {
   "cell_type": "code",
   "execution_count": 20,
   "metadata": {
    "collapsed": false
   },
   "outputs": [
    {
     "name": "stdout",
     "output_type": "stream",
     "text": [
      "Cantidad de memorias en tabla hash:  4294967296\n",
      "Entrenamiento----\n",
      "Cantidad de datos a llenar la tabla hash:  8485\n"
     ]
    },
    {
     "data": {
      "image/png": "[encoded data removed]",
      "text/plain": [
       "<Figure size 1008x432 with 1 Axes>"
      ]
     },
     "metadata": {},
     "output_type": "display_data"
    },
    {
     "name": "stdout",
     "output_type": "stream",
     "text": [
      "Cantidad de memorias ocupadas:  8108\n",
      "Validación-----\n",
      "Cantidad de datos a llenar la tabla hash:  2829\n"
     ]
    },
    {
     "data": {
      "image/png": "[encoded data removed]",
      "text/plain": [
       "<Figure size 1008x432 with 1 Axes>"
      ]
     },
     "metadata": {},
     "output_type": "display_data"
    },
    {
     "name": "stdout",
     "output_type": "stream",
     "text": [
      "Cantidad de memorias ocupadas:  2756\n"
     ]
    }
   ],
   "source": [
    "print(\"Cantidad de memorias en tabla hash: \",2**Nb)\n",
    "\n",
    "valores_unicos, count_hash =  hash_analysis(train_hash)\n",
    "print(\"Entrenamiento----\")\n",
    "print(\"Cantidad de datos a llenar la tabla hash: \",train_hash.shape[0])\n",
    "plt.figure(figsize=(14,6))\n",
    "plt.plot(sorted(list(count_hash.values()))[::-1],'bo-')\n",
    "plt.title(\"Cantidad de datos por celda/memoria en tabla hash\")\n",
    "plt.show()\n",
    "print(\"Cantidad de memorias ocupadas: \",len(valores_unicos))\n",
    "\n",
    "valores_unicos, count_hash =  hash_analysis(val_hash)\n",
    "print(\"Validación-----\")\n",
    "print(\"Cantidad de datos a llenar la tabla hash: \",val_hash.shape[0])\n",
    "plt.figure(figsize=(14,6))\n",
    "plt.plot(sorted(list(count_hash.values()))[::-1],'bo-')\n",
    "plt.title(\"Cantidad de datos por celda/memoria en tabla hash\")\n",
    "plt.show()\n",
    "print(\"Cantidad de memorias ocupadas: \",len(valores_unicos))"
   ]
  },
  {
   "cell_type": "markdown",
   "metadata": {},
   "source": [
    "Se puede ver que se ocupan varias celdas de memorias gracias a la restricción de las variables latentes en el VAE, donde en la mayoría de los casos se asigna una única dirección de memoria para un objeto, obteniendo una tabla *hashing* distribuidamente poblada.  \n",
    "\n",
    "> Y si se varía el número de bits?"
   ]
  },
  {
   "cell_type": "code",
   "execution_count": 91,
   "metadata": {
    "collapsed": false,
    "scrolled": true
   },
   "outputs": [
    {
     "name": "stdout",
     "output_type": "stream",
     "text": [
      "Cantidad de memorias en tabla hash:  256\n",
      "Entrenamiento----\n",
      "Cantidad de datos a llenar la tabla hash:  10060\n",
      "Cantidad de memorias ocupadas hash1:  256\n",
      "Cantidad de memorias ocupadas hash2:  252\n"
     ]
    },
    {
     "data": {
      "image/png": "[encoded data removed]",
      "text/plain": [
       "<matplotlib.figure.Figure at 0x7f2aba11ebe0>"
      ]
     },
     "metadata": {},
     "output_type": "display_data"
    },
    {
     "name": "stdout",
     "output_type": "stream",
     "text": [
      "Pruebas-----\n",
      "Cantidad de datos a llenar la tabla hash:  2280\n",
      "Cantidad de memorias ocupadas hash1:  252\n",
      "Cantidad de memorias ocupadas hash2:  234\n"
     ]
    },
    {
     "data": {
      "image/png": "[encoded data removed]",
      "text/plain": [
       "<matplotlib.figure.Figure at 0x7f2aba08a748>"
      ]
     },
     "metadata": {},
     "output_type": "display_data"
    }
   ],
   "source": [
    "#plot together--8 bits\n",
    "encode_total = encoder_Tvae.predict(X_total_input)\n",
    "encode_test = encoder_Tvae.predict(X_test_input)\n",
    "median= MedianHashing()\n",
    "median.fit(encode_total)\n",
    "train_hash2 = median.transform(encode_total)\n",
    "test_hash2 = median.transform(encode_test)\n",
    "\n",
    "compare_cells_plot(Nb,train_hash,train_hash2,test_hash,test_hash2)"
   ]
  },
  {
   "cell_type": "code",
   "execution_count": 94,
   "metadata": {
    "collapsed": false,
    "scrolled": true
   },
   "outputs": [
    {
     "name": "stdout",
     "output_type": "stream",
     "text": [
      "Cantidad de memorias en tabla hash:  16\n",
      "Entrenamiento----\n",
      "Cantidad de datos a llenar la tabla hash:  10060\n",
      "Cantidad de memorias ocupadas hash1:  16\n",
      "Cantidad de memorias ocupadas hash2:  16\n"
     ]
    },
    {
     "data": {
      "image/png": "[encoded data removed]",
      "text/plain": [
       "<matplotlib.figure.Figure at 0x7f2ab9fe0550>"
      ]
     },
     "metadata": {},
     "output_type": "display_data"
    },
    {
     "name": "stdout",
     "output_type": "stream",
     "text": [
      "Pruebas-----\n",
      "Cantidad de datos a llenar la tabla hash:  2280\n",
      "Cantidad de memorias ocupadas hash1:  16\n",
      "Cantidad de memorias ocupadas hash2:  16\n"
     ]
    },
    {
     "data": {
      "image/png": "[encoded data removed]",
      "text/plain": [
       "<matplotlib.figure.Figure at 0x7f2ab37bc0b8>"
      ]
     },
     "metadata": {},
     "output_type": "display_data"
    }
   ],
   "source": [
    "#plot together--- 4 bits\n",
    "encode_total = encoder_Tvae.predict(X_total_input)\n",
    "encode_test = encoder_Tvae.predict(X_test_input)\n",
    "median= MedianHashing()\n",
    "median.fit(encode_total)\n",
    "train_hash2 = median.transform(encode_total)\n",
    "test_hash2 = median.transform(encode_test)\n",
    "\n",
    "compare_cells_plot(Nb,train_hash,train_hash2,test_hash,test_hash2)"
   ]
  },
  {
   "cell_type": "code",
   "execution_count": 19,
   "metadata": {
    "collapsed": false,
    "scrolled": false
   },
   "outputs": [
    {
     "name": "stdout",
     "output_type": "stream",
     "text": [
      "_________________________________________________________________\n",
      "Layer (type)                 Output Shape              Param #   \n",
      "=================================================================\n",
      "input_21 (InputLayer)        (None, 10000)             0         \n",
      "_________________________________________________________________\n",
      "pre-encoder (Sequential)     (None, 500)               5255000   \n",
      "_________________________________________________________________\n",
      "dense_28 (Dense)             (None, 8)                 4008      \n",
      "_________________________________________________________________\n",
      "generator/decoder (Sequentia (None, 10000)             5269000   \n",
      "=================================================================\n",
      "Total params: 10,528,008\n",
      "Trainable params: 10,524,008\n",
      "Non-trainable params: 4,000\n",
      "_________________________________________________________________\n"
     ]
    },
    {
     "data": {
      "text/plain": [
       "<keras.callbacks.History at 0x7f74b086bac8>"
      ]
     },
     "execution_count": 19,
     "metadata": {},
     "output_type": "execute_result"
    }
   ],
   "source": [
    "#Normal AE\n",
    "Nb = 8\n",
    "pre_encoder = define_pre_encoder(X_total_input.shape[1], layers=2,units=500,BN=True)\n",
    "decoder = define_generator(Nb,X_total_input.shape[1],layers=2,units=500,BN=True) #2 layers?\n",
    "## Encoder\n",
    "x = Input(shape=(X_total_input.shape[1],))\n",
    "hidden = pre_encoder(x)\n",
    "code = Dense(Nb,activation='sigmoid')(hidden) #sigmoid?\n",
    "encoder = Model(x, code) # build a model to project inputs on the latent space\n",
    "## Decoder\n",
    "output = decoder(code)\n",
    "normal_AE = Model(x, output)\n",
    "normal_AE.summary()\n",
    "\n",
    "normal_AE.compile(optimizer='adam',loss='categorical_crossentropy')\n",
    "normal_AE.fit(X_total_input,X_total,epochs=50,batch_size=100,verbose=0)"
   ]
  },
  {
   "cell_type": "code",
   "execution_count": 20,
   "metadata": {
    "collapsed": false,
    "scrolled": true
   },
   "outputs": [
    {
     "name": "stdout",
     "output_type": "stream",
     "text": [
      "Cantidad de memorias en tabla hash:  256\n",
      "Entrenamiento----\n",
      "Cantidad de datos a llenar la tabla hash:  11314\n"
     ]
    },
    {
     "data": {
      "image/png": "[encoded data removed]",
      "text/plain": [
       "<matplotlib.figure.Figure at 0x7f75a439a0f0>"
      ]
     },
     "metadata": {},
     "output_type": "display_data"
    },
    {
     "name": "stdout",
     "output_type": "stream",
     "text": [
      "Cantidad de memorias ocupadas:  256\n",
      "Pruebas-----\n",
      "Cantidad de datos a llenar la tabla hash:  7532\n"
     ]
    },
    {
     "data": {
      "image/png": "[encoded data removed]",
      "text/plain": [
       "<matplotlib.figure.Figure at 0x7f74ad5cdf28>"
      ]
     },
     "metadata": {},
     "output_type": "display_data"
    },
    {
     "name": "stdout",
     "output_type": "stream",
     "text": [
      "Cantidad de memorias ocupadas:  250\n"
     ]
    }
   ],
   "source": [
    "#Normal AE -- binary\n",
    "probas_total = encoder.predict(X_total_input)\n",
    "probas_test = encoder.predict(X_test_input)\n",
    "train_hash = (probas_total > 0.5)*1\n",
    "test_hash = (probas_test > 0.5)*1\n",
    "plot_cells_distribution(Nb,train_hash,test_hash)"
   ]
  },
  {
   "cell_type": "markdown",
   "metadata": {},
   "source": [
    "Los resultados se mantienen al variar los datasets, así que se muestra unicamente uno. El autoencoder clásico, muestra comportamiento similar, exceptuando quizás por una leve falta de generalización en el conjunto objetivo (de pruebas), ésto quiere decir que la hipótesis de que la distribución repartida de las celdas era debido al autoencoder variacional **estaba erronea**, ya que el autoencoder clásico lo logra. Respecto a quién logra una mejor distribución uniforme de las casillas depende, ya que por ejemplo en reuters lo logra el VAE tradicional, mientras que en snippets lo logra el VAE binario.  \n",
    "**Resultado esperado**: se mantiene la idea de que se distribuyen los datos a través de todas las casillas disponibles, mientras que si se tiene las casillas suficientes va haber un dato por cada casilla."
   ]
  },
  {
   "cell_type": "code",
   "execution_count": 54,
   "metadata": {
    "collapsed": true
   },
   "outputs": [],
   "source": [
    "#iterar sobre el resto de los bits y ver sus palabras mas frecuentes\n",
    "def show_probable_words(topKwords,samplebits):\n",
    "    probable_words = []\n",
    "    for i in range(Nb):\n",
    "        b = np.zeros((1,Nb))\n",
    "        b[0,i] = 1 #solo un bit con uno\n",
    "\n",
    "        reconstruct_data = generator_Bvae.predict(b)\n",
    "        probable_words.append(get_topk_probably_words(reconstruct_data[0],K=topKwords))\n",
    "    \n",
    "    bits = np.random.choice(np.arange(Nb),samplebits,replace=False)\n",
    "    t = Table()\n",
    "    for b in bits:\n",
    "        t[\"bit \"+ str(b)] = probable_words[b]\n",
    "    return t"
   ]
  },
  {
   "cell_type": "markdown",
   "metadata": {},
   "source": [
    "A continuación se muestrean las 12 palabras más frecuentes de 8 *bits*  aleatorios distintos en el modelo."
   ]
  },
  {
   "cell_type": "code",
   "execution_count": 26,
   "metadata": {
    "collapsed": false,
    "scrolled": true
   },
   "outputs": [
    {
     "name": "stdout",
     "output_type": "stream",
     "text": [
      "20 Newsgroup\n"
     ]
    },
    {
     "data": {
      "text/html": [
       "&lt;Table length=12&gt;\n",
       "<table id=\"table140619583773272\" class=\"table-striped table-bordered table-condensed\">\n",
       "<thead><tr><th>bit 22</th><th>bit 13</th><th>bit 5</th><th>bit 14</th><th>bit 29</th><th>bit 9</th><th>bit 30</th><th>bit 18</th></tr></thead>\n",
       "<thead><tr><th>str12</th><th>str7</th><th>str12</th><th>str12</th><th>str13</th><th>str13</th><th>str13</th><th>str13</th></tr></thead>\n",
       "<tr><td>mimsy</td><td>megatek</td><td>rigorous</td><td>invitation</td><td>rigorous</td><td>complexity</td><td>heterosexual</td><td>newman</td></tr>\n",
       "<tr><td>hopper</td><td>lbl</td><td>complexity</td><td>inconsistent</td><td>governing</td><td>heterosexual</td><td>invitation</td><td>likelihood</td></tr>\n",
       "<tr><td>newman</td><td>newman</td><td>hubble</td><td>ehrlich</td><td>p00261</td><td>likelihood</td><td>pythagorean</td><td>slac</td></tr>\n",
       "<tr><td>complexity</td><td>acme</td><td>mimsy</td><td>lbl</td><td>ebay</td><td>inconsistent</td><td>preservation</td><td>bernard</td></tr>\n",
       "<tr><td>heterosexual</td><td>grief</td><td>likelihood</td><td>asia</td><td>eager</td><td>lbl</td><td>dani</td><td>rigorous</td></tr>\n",
       "<tr><td>slac</td><td>ccc</td><td>inconsistent</td><td>kou</td><td>bernard</td><td>skeptic</td><td>harassment</td><td>sax</td></tr>\n",
       "<tr><td>lbl</td><td>amdahl</td><td>finite</td><td>newman</td><td>inaccurate</td><td>presidential</td><td>homosexuality</td><td>dsi</td></tr>\n",
       "<tr><td>dani</td><td>fuer</td><td>sl2</td><td>guidance</td><td>misunderstand</td><td>prohibits</td><td>lbl</td><td>introductory</td></tr>\n",
       "<tr><td>hubble</td><td>rusnews</td><td>refutation</td><td>jhuapl</td><td>dishonest</td><td>homosexuality</td><td>asia</td><td>ranting</td></tr>\n",
       "<tr><td>vic</td><td>ebay</td><td>defendant</td><td>rental</td><td>bezier</td><td>acad3</td><td>bernard</td><td>sl2</td></tr>\n",
       "<tr><td>bernard</td><td>starr</td><td>ebay</td><td>koutd</td><td>prohibits</td><td>eternity</td><td>shoei</td><td>homosexuality</td></tr>\n",
       "<tr><td>ehrlich</td><td>hubble</td><td>skeptic</td><td>hubble</td><td>knowles</td><td>reconcile</td><td>rigorous</td><td>dani</td></tr>\n",
       "</table>"
      ],
      "text/plain": [
       "<Table length=12>\n",
       "   bit 22     bit 13    bit 5     ...     bit 9         bit 30        bit 18   \n",
       "   str12       str7     str12     ...     str13         str13         str13    \n",
       "------------ ------- ------------ ... ------------- ------------- -------------\n",
       "       mimsy megatek     rigorous ...    complexity  heterosexual        newman\n",
       "      hopper     lbl   complexity ...  heterosexual    invitation    likelihood\n",
       "      newman  newman       hubble ...    likelihood   pythagorean          slac\n",
       "  complexity    acme        mimsy ...  inconsistent  preservation       bernard\n",
       "heterosexual   grief   likelihood ...           lbl          dani      rigorous\n",
       "        slac     ccc inconsistent ...       skeptic    harassment           sax\n",
       "         lbl  amdahl       finite ...  presidential homosexuality           dsi\n",
       "        dani    fuer          sl2 ...     prohibits           lbl  introductory\n",
       "      hubble rusnews   refutation ... homosexuality          asia       ranting\n",
       "         vic    ebay    defendant ...         acad3       bernard           sl2\n",
       "     bernard   starr         ebay ...      eternity         shoei homosexuality\n",
       "     ehrlich  hubble      skeptic ...     reconcile      rigorous          dani"
      ]
     },
     "execution_count": 26,
     "metadata": {},
     "output_type": "execute_result"
    }
   ],
   "source": [
    "print(\"20 Newsgroup\")\n",
    "show_probable_words(12,8)"
   ]
  },
  {
   "cell_type": "code",
   "execution_count": 112,
   "metadata": {
    "collapsed": false
   },
   "outputs": [
    {
     "name": "stdout",
     "output_type": "stream",
     "text": [
      "20 Newsgroup--collocations\n"
     ]
    },
    {
     "data": {
      "text/html": [
       "&lt;Table length=12&gt;\n",
       "<table id=\"table46914509214888\" class=\"table-striped table-bordered table-condensed\">\n",
       "<thead><tr><th>bit 8</th><th>bit 4</th><th>bit 26</th><th>bit 5</th><th>bit 15</th><th>bit 27</th><th>bit 3</th><th>bit 7</th></tr></thead>\n",
       "<thead><tr><th>str30</th><th>str24</th><th>str30</th><th>str27</th><th>str30</th><th>str30</th><th>str30</th><th>str30</th></tr></thead>\n",
       "<tr><td>communication greenbelt usa</td><td>article pitt</td><td>communication greenbelt usa</td><td>berkeley line</td><td>distribution sci line</td><td>organization express access</td><td>posting host access</td><td>organization express access</td></tr>\n",
       "<tr><td>california berkeley line</td><td>organization sgi</td><td>communication greenbelt</td><td>ibm austin</td><td>article blue</td><td>posting host access</td><td>host access digex</td><td>express access</td></tr>\n",
       "<tr><td>communication greenbelt</td><td>berkeley line</td><td>online communication greenbelt</td><td>organization express access</td><td>drive scsi</td><td>host access digex</td><td>communication greenbelt usa</td><td>organization express</td></tr>\n",
       "<tr><td>online communication greenbelt</td><td>ibm austin</td><td>organization express access</td><td>california berkeley line</td><td>chapel hill</td><td>distribution sci line</td><td>organization express access</td><td>posting host access</td></tr>\n",
       "<tr><td>berkeley line</td><td>gordon bank writes</td><td>organization express</td><td>posting host access</td><td>berkeley line</td><td>express access</td><td>online communication greenbelt</td><td>host access digex</td></tr>\n",
       "<tr><td>mild</td><td>bbn</td><td>express access</td><td>express access</td><td>communication greenbelt</td><td>organization express</td><td>express access</td><td>express access online</td></tr>\n",
       "<tr><td>distribution sci line</td><td>university western</td><td>express access online</td><td>host access digex</td><td>communication greenbelt usa</td><td>communication greenbelt usa</td><td>organization express</td><td>access online</td></tr>\n",
       "<tr><td>frontier</td><td>california berkeley line</td><td>chapel hill</td><td>organization express</td><td>online communication greenbelt</td><td>express access online</td><td>communication greenbelt</td><td>access online communication</td></tr>\n",
       "<tr><td>ulysses</td><td>wpd sgi</td><td>access online</td><td>express access online</td><td>california berkeley line</td><td>communication greenbelt</td><td>express access online</td><td>communication greenbelt usa</td></tr>\n",
       "<tr><td>chapel hill</td><td>bank writes</td><td>access online communication</td><td>communication greenbelt</td><td>university north carolina</td><td>online communication greenbelt</td><td>access online</td><td>communication greenbelt</td></tr>\n",
       "<tr><td>organization texas</td><td>bbn com</td><td>host access digex</td><td>access online</td><td>subject ide scsi</td><td>access online</td><td>access online communication</td><td>online communication greenbelt</td></tr>\n",
       "<tr><td>express access online</td><td>wpd sgi com</td><td>posting host access</td><td>distribution sci line</td><td>megabyte</td><td>access online communication</td><td>host access</td><td>access digex net</td></tr>\n",
       "</table>"
      ],
      "text/plain": [
       "<Table length=12>\n",
       "            bit 8              ...             bit 7             \n",
       "            str30              ...             str30             \n",
       "------------------------------ ... ------------------------------\n",
       "   communication greenbelt usa ...    organization express access\n",
       "      california berkeley line ...                 express access\n",
       "       communication greenbelt ...           organization express\n",
       "online communication greenbelt ...            posting host access\n",
       "                 berkeley line ...              host access digex\n",
       "                          mild ...          express access online\n",
       "         distribution sci line ...                  access online\n",
       "                      frontier ...    access online communication\n",
       "                       ulysses ...    communication greenbelt usa\n",
       "                   chapel hill ...        communication greenbelt\n",
       "            organization texas ... online communication greenbelt\n",
       "         express access online ...               access digex net"
      ]
     },
     "execution_count": 112,
     "metadata": {},
     "output_type": "execute_result"
    }
   ],
   "source": [
    "print(\"20 Newsgroup--collocations\")\n",
    "show_probable_words(12,8)"
   ]
  },
  {
   "cell_type": "markdown",
   "metadata": {
    "collapsed": true
   },
   "source": [
    "En el dataset de *20 Newsgroup* se puede ver por ejemplo que el *bit* 9 contiene palabras como *heterosexual*, *presidential*, *prohibits*, *eternity* y *homosexuality*, pudiendo ser asociados a textos que contengan una discusión política de la sexualidad o palabras con connotación negativa. El *bit* 13 podría estar asociado a empresas u organizaciones/entidades conocidas, al contener *newman*, *ebay*, *hubble* y *acme*."
   ]
  },
  {
   "cell_type": "code",
   "execution_count": 46,
   "metadata": {
    "collapsed": false,
    "scrolled": true
   },
   "outputs": [
    {
     "name": "stdout",
     "output_type": "stream",
     "text": [
      "Reuters\n"
     ]
    },
    {
     "data": {
      "text/html": [
       "&lt;Table length=12&gt;\n",
       "<table id=\"table140625237032184\" class=\"table-striped table-bordered table-condensed\">\n",
       "<thead><tr><th>bit 9</th><th>bit 31</th><th>bit 21</th><th>bit 7</th><th>bit 14</th><th>bit 29</th><th>bit 5</th><th>bit 17</th></tr></thead>\n",
       "<thead><tr><th>str11</th><th>str14</th><th>str12</th><th>str12</th><th>str12</th><th>str10</th><th>str14</th><th>str11</th></tr></thead>\n",
       "<tr><td>danger</td><td>device</td><td>eed</td><td>printing</td><td>murray</td><td>toronto</td><td>responsibility</td><td>printing</td></tr>\n",
       "<tr><td>object</td><td>recognize</td><td>consummated</td><td>ica</td><td>hindered</td><td>receivable</td><td>weakening</td><td>analyze</td></tr>\n",
       "<tr><td>consummated</td><td>responsibility</td><td>analyze</td><td>elmd</td><td>baby</td><td>catalyst</td><td>recognize</td><td>device</td></tr>\n",
       "<tr><td>relate</td><td>analyze</td><td>recognize</td><td>projecting</td><td>accurate</td><td>murray</td><td>analyze</td><td>dallas</td></tr>\n",
       "<tr><td>hostile</td><td>printing</td><td>moines</td><td>analyze</td><td>proceeding</td><td>stretch</td><td>edition</td><td>catalyst</td></tr>\n",
       "<tr><td>weakening</td><td>undoubtedly</td><td>cancellation</td><td>baby</td><td>justify</td><td>printing</td><td>colo</td><td>exploring</td></tr>\n",
       "<tr><td>cellular</td><td>describing</td><td>severance</td><td>kpk</td><td>master</td><td>analyze</td><td>sierra</td><td>proof</td></tr>\n",
       "<tr><td>printing</td><td>existence</td><td>colo</td><td>device</td><td>uneconomic</td><td>projecting</td><td>eighth</td><td>elmd</td></tr>\n",
       "<tr><td>uneconomic</td><td>projecting</td><td>defensive</td><td>undoubtedly</td><td>jacksonville</td><td>edmonton</td><td>mature</td><td>object</td></tr>\n",
       "<tr><td>edmonton</td><td>exploring</td><td>flo</td><td>divested</td><td>minor</td><td>cntrs</td><td>incurred</td><td>divestiture</td></tr>\n",
       "<tr><td>catalyst</td><td>object</td><td>elmd</td><td>radical</td><td>projecting</td><td>essex</td><td>sustained</td><td>recognize</td></tr>\n",
       "<tr><td>murray</td><td>weakening</td><td>projecting</td><td>jacksonville</td><td>nevertheless</td><td>justify</td><td>orleans</td><td>edmonton</td></tr>\n",
       "</table>"
      ],
      "text/plain": [
       "<Table length=12>\n",
       "   bit 9        bit 31        bit 21    ...     bit 5         bit 17  \n",
       "   str11        str14         str12     ...     str14         str11   \n",
       "----------- -------------- ------------ ... -------------- -----------\n",
       "     danger         device          eed ... responsibility    printing\n",
       "     object      recognize  consummated ...      weakening     analyze\n",
       "consummated responsibility      analyze ...      recognize      device\n",
       "     relate        analyze    recognize ...        analyze      dallas\n",
       "    hostile       printing       moines ...        edition    catalyst\n",
       "  weakening    undoubtedly cancellation ...           colo   exploring\n",
       "   cellular     describing    severance ...         sierra       proof\n",
       "   printing      existence         colo ...         eighth        elmd\n",
       " uneconomic     projecting    defensive ...         mature      object\n",
       "   edmonton      exploring          flo ...       incurred divestiture\n",
       "   catalyst         object         elmd ...      sustained   recognize\n",
       "     murray      weakening   projecting ...        orleans    edmonton"
      ]
     },
     "execution_count": 46,
     "metadata": {},
     "output_type": "execute_result"
    }
   ],
   "source": [
    "print(\"Reuters\")\n",
    "show_probable_words(12,8)"
   ]
  },
  {
   "cell_type": "code",
   "execution_count": 103,
   "metadata": {
    "collapsed": false
   },
   "outputs": [
    {
     "name": "stdout",
     "output_type": "stream",
     "text": [
      "Reuters--collocations\n"
     ]
    },
    {
     "data": {
      "text/html": [
       "&lt;Table length=12&gt;\n",
       "<table id=\"table46914209142656\" class=\"table-striped table-bordered table-condensed\">\n",
       "<thead><tr><th>bit 10</th><th>bit 17</th><th>bit 30</th><th>bit 0</th><th>bit 2</th><th>bit 20</th><th>bit 23</th><th>bit 21</th></tr></thead>\n",
       "<thead><tr><th>str19</th><th>str22</th><th>str19</th><th>str19</th><th>str19</th><th>str19</th><th>str19</th><th>str19</th></tr></thead>\n",
       "<tr><td>company share</td><td>dlrs unit</td><td>fit</td><td>corp said board</td><td>corp said board</td><td>company share</td><td>corp said board</td><td>said pay</td></tr>\n",
       "<tr><td>corp said board</td><td>second largest</td><td>second largest</td><td>receive mln dlrs</td><td>dlrs unit</td><td>receive mln dlrs</td><td>dlrs unit</td><td>said planned</td></tr>\n",
       "<tr><td>manufacture</td><td>said pay</td><td>said pay</td><td>sustained</td><td>said pay</td><td>expected close</td><td>said pay</td><td>participate</td></tr>\n",
       "<tr><td>dlrs unit</td><td>dlrs worth</td><td>company share</td><td>dlrs unit</td><td>form new</td><td>said board approved</td><td>receive mln dlrs</td><td>shareholder company</td></tr>\n",
       "<tr><td>sale billion dlrs</td><td>receive mln dlrs</td><td>financially</td><td>expected close</td><td>said board approved</td><td>dlrs unit</td><td>salomon brother</td><td>stake company</td></tr>\n",
       "<tr><td>said pay</td><td>said make</td><td>stake company</td><td>fit</td><td>said considering</td><td>fit</td><td>said board approved</td><td>receive mln dlrs</td></tr>\n",
       "<tr><td>recommend</td><td>said considering</td><td>advise</td><td>shareholder company</td><td>dividend share</td><td>cheap</td><td>company share</td><td>company share</td></tr>\n",
       "<tr><td>shareholder company</td><td>told reuters interview</td><td>sale billion dlrs</td><td>close april</td><td>expected close</td><td>said pay</td><td>sale billion dlrs</td><td>corp said board</td></tr>\n",
       "<tr><td>announce</td><td>mln dlrs worth</td><td>expected result</td><td>payment said</td><td>rise dollar</td><td>corp said board</td><td>mob</td><td>holder record</td></tr>\n",
       "<tr><td>close april</td><td>participate</td><td>said board approved</td><td>mob</td><td>stake company</td><td>stake company</td><td>stake company</td><td>mln dlrs worth</td></tr>\n",
       "<tr><td>second largest</td><td>reuters interview</td><td>hostile</td><td>financially</td><td>second largest</td><td>foreseeable</td><td>production cost</td><td>receive mln</td></tr>\n",
       "<tr><td>limited partnership</td><td>said board approved</td><td>shareholder company</td><td>said make</td><td>data corp</td><td>foreseeable future</td><td>fit</td><td>said make</td></tr>\n",
       "</table>"
      ],
      "text/plain": [
       "<Table length=12>\n",
       "       bit 10               bit 17         ...        bit 21      \n",
       "       str19                str22          ...        str19       \n",
       "------------------- ---------------------- ... -------------------\n",
       "      company share              dlrs unit ...            said pay\n",
       "    corp said board         second largest ...        said planned\n",
       "        manufacture               said pay ...         participate\n",
       "          dlrs unit             dlrs worth ... shareholder company\n",
       "  sale billion dlrs       receive mln dlrs ...       stake company\n",
       "           said pay              said make ...    receive mln dlrs\n",
       "          recommend       said considering ...       company share\n",
       "shareholder company told reuters interview ...     corp said board\n",
       "           announce         mln dlrs worth ...       holder record\n",
       "        close april            participate ...      mln dlrs worth\n",
       "     second largest      reuters interview ...         receive mln\n",
       "limited partnership    said board approved ...           said make"
      ]
     },
     "execution_count": 103,
     "metadata": {},
     "output_type": "execute_result"
    }
   ],
   "source": [
    "print(\"Reuters--collocations\")\n",
    "show_probable_words(12,8)"
   ]
  },
  {
   "cell_type": "markdown",
   "metadata": {
    "collapsed": true
   },
   "source": [
    "En el dataset de *Reuters* el *bit* 31 alberga conceptos asociados a computadores, como lo son *device*, *analyze*, *printing*, *projecting*, *exploring* y *object*. "
   ]
  },
  {
   "cell_type": "code",
   "execution_count": 61,
   "metadata": {
    "collapsed": false,
    "scrolled": true
   },
   "outputs": [
    {
     "name": "stdout",
     "output_type": "stream",
     "text": [
      "Snippets\n"
     ]
    },
    {
     "data": {
      "text/html": [
       "&lt;Table length=12&gt;\n",
       "<table id=\"table140625236093024\" class=\"table-striped table-bordered table-condensed\">\n",
       "<thead><tr><th>bit 29</th><th>bit 25</th><th>bit 0</th><th>bit 30</th><th>bit 15</th><th>bit 24</th><th>bit 19</th><th>bit 4</th></tr></thead>\n",
       "<thead><tr><th>str12</th><th>str14</th><th>str12</th><th>str12</th><th>str12</th><th>str13</th><th>str12</th><th>str12</th></tr></thead>\n",
       "<tr><td>interaction</td><td>interaction</td><td>biogeography</td><td>emc</td><td>chamber</td><td>managing</td><td>gymnastics</td><td>biogeography</td></tr>\n",
       "<tr><td>biogeography</td><td>biogeography</td><td>interactive</td><td>investor</td><td>agency</td><td>biogeography</td><td>chamber</td><td>emc</td></tr>\n",
       "<tr><td>gymnastics</td><td>composer</td><td>composer</td><td>biogeography</td><td>patient</td><td>emc</td><td>biogeography</td><td>gymnastics</td></tr>\n",
       "<tr><td>requirement</td><td>radiology</td><td>gymnastics</td><td>requirement</td><td>biogeography</td><td>ecology</td><td>cam</td><td>interaction</td></tr>\n",
       "<tr><td>specializes</td><td>gymnastics</td><td>chamber</td><td>unl</td><td>emc</td><td>visualization</td><td>healthcare</td><td>beginner</td></tr>\n",
       "<tr><td>logo</td><td>patient</td><td>campus</td><td>chamber</td><td>cdc</td><td>lighting</td><td>focusing</td><td>consisting</td></tr>\n",
       "<tr><td>consisting</td><td>seattle</td><td>ballet</td><td>ecology</td><td>specializes</td><td>cable</td><td>cdc</td><td>newsday</td></tr>\n",
       "<tr><td>butler</td><td>creative</td><td>lesson</td><td>interaction</td><td>composer</td><td>credible</td><td>flat</td><td>unl</td></tr>\n",
       "<tr><td>emc</td><td>ballet</td><td>requirement</td><td>beginner</td><td>drama</td><td>interaction</td><td>interactive</td><td>historic</td></tr>\n",
       "<tr><td>beginner</td><td>strength</td><td>maa</td><td>wildlife</td><td>medicinenet</td><td>illustrated</td><td>ecology</td><td>composer</td></tr>\n",
       "<tr><td>ecology</td><td>cdc</td><td>emc</td><td>geographical</td><td>unl</td><td>reliable</td><td>coastal</td><td>instrument</td></tr>\n",
       "<tr><td>mile</td><td>recommendation</td><td>priority</td><td>tool</td><td>arizona</td><td>santa</td><td>ballet</td><td>maa</td></tr>\n",
       "</table>"
      ],
      "text/plain": [
       "<Table length=12>\n",
       "   bit 29        bit 25        bit 0     ...    bit 19       bit 4    \n",
       "   str12         str14         str12     ...    str12        str12    \n",
       "------------ -------------- ------------ ... ------------ ------------\n",
       " interaction    interaction biogeography ...   gymnastics biogeography\n",
       "biogeography   biogeography  interactive ...      chamber          emc\n",
       "  gymnastics       composer     composer ... biogeography   gymnastics\n",
       " requirement      radiology   gymnastics ...          cam  interaction\n",
       " specializes     gymnastics      chamber ...   healthcare     beginner\n",
       "        logo        patient       campus ...     focusing   consisting\n",
       "  consisting        seattle       ballet ...          cdc      newsday\n",
       "      butler       creative       lesson ...         flat          unl\n",
       "         emc         ballet  requirement ...  interactive     historic\n",
       "    beginner       strength          maa ...      ecology     composer\n",
       "     ecology            cdc          emc ...      coastal   instrument\n",
       "        mile recommendation     priority ...       ballet          maa"
      ]
     },
     "execution_count": 61,
     "metadata": {},
     "output_type": "execute_result"
    }
   ],
   "source": [
    "print(\"Snippets\")\n",
    "show_probable_words(12,8)"
   ]
  },
  {
   "cell_type": "code",
   "execution_count": 122,
   "metadata": {
    "collapsed": false
   },
   "outputs": [
    {
     "name": "stdout",
     "output_type": "stream",
     "text": [
      "Snippets--collocations\n"
     ]
    },
    {
     "data": {
      "text/html": [
       "&lt;Table length=12&gt;\n",
       "<table id=\"table46913979862936\" class=\"table-striped table-bordered table-condensed\">\n",
       "<thead><tr><th>bit 17</th><th>bit 30</th><th>bit 9</th><th>bit 4</th><th>bit 15</th><th>bit 7</th><th>bit 18</th><th>bit 0</th></tr></thead>\n",
       "<thead><tr><th>str20</th><th>str9</th><th>str20</th><th>str10</th><th>str20</th><th>str20</th><th>str18</th><th>str20</th></tr></thead>\n",
       "<tr><td>indexed</td><td>flight</td><td>flight</td><td>abroad</td><td>nato</td><td>indexed</td><td>firm</td><td>unlimited</td></tr>\n",
       "<tr><td>treaty</td><td>real</td><td>search web</td><td>sql</td><td>indexed</td><td>jesus</td><td>indexed</td><td>firm</td></tr>\n",
       "<tr><td>firm</td><td>steam</td><td>treaty</td><td>real</td><td>search web</td><td>sql</td><td>unlimited</td><td>web browser</td></tr>\n",
       "<tr><td>accessibility</td><td>editing</td><td>web search</td><td>indexed</td><td>web search</td><td>columbia edu</td><td>web search</td><td>research development</td></tr>\n",
       "<tr><td>scholarly</td><td>firm</td><td>nato</td><td>issued</td><td>research development</td><td>manhattan</td><td>ticket information</td><td>academic research</td></tr>\n",
       "<tr><td>nato</td><td>chronicle</td><td>research development</td><td>applicant</td><td>research research</td><td>real</td><td>search web</td><td>flight</td></tr>\n",
       "<tr><td>counselor</td><td>scholarly</td><td>firm</td><td>firm</td><td>treaty</td><td>monthly magazine</td><td>btinternet</td><td>applicant</td></tr>\n",
       "<tr><td>link resource</td><td>issued</td><td>editing</td><td>unlimited</td><td>soldier</td><td>research development</td><td>wideless</td><td>conversion</td></tr>\n",
       "<tr><td>resource english</td><td>sql</td><td>sql</td><td>web search</td><td>tree</td><td>flight</td><td>manhattan</td><td>treaty</td></tr>\n",
       "<tr><td>web search</td><td>indexed</td><td>soldier</td><td>flight</td><td>btinternet</td><td>search web</td><td>federation</td><td>scholarly</td></tr>\n",
       "<tr><td>research development</td><td>paramount</td><td>indexed</td><td>nato int</td><td>ticket information</td><td>attraction</td><td>applicant</td><td>latin</td></tr>\n",
       "<tr><td>unlimited</td><td>fed</td><td>real</td><td>btinternet</td><td>paramount</td><td>wideless</td><td>counselor</td><td>wideless</td></tr>\n",
       "</table>"
      ],
      "text/plain": [
       "<Table length=12>\n",
       "       bit 17          bit 30  ...       bit 18              bit 0        \n",
       "       str20            str9   ...       str18               str20        \n",
       "-------------------- --------- ... ------------------ --------------------\n",
       "             indexed    flight ...               firm            unlimited\n",
       "              treaty      real ...            indexed                 firm\n",
       "                firm     steam ...          unlimited          web browser\n",
       "       accessibility   editing ...         web search research development\n",
       "           scholarly      firm ... ticket information    academic research\n",
       "                nato chronicle ...         search web               flight\n",
       "           counselor scholarly ...         btinternet            applicant\n",
       "       link resource    issued ...           wideless           conversion\n",
       "    resource english       sql ...          manhattan               treaty\n",
       "          web search   indexed ...         federation            scholarly\n",
       "research development paramount ...          applicant                latin\n",
       "           unlimited       fed ...          counselor             wideless"
      ]
     },
     "execution_count": 122,
     "metadata": {},
     "output_type": "execute_result"
    }
   ],
   "source": [
    "print(\"Snippets--collocations\")\n",
    "show_probable_words(12,8)"
   ]
  },
  {
   "cell_type": "markdown",
   "metadata": {
    "collapsed": true
   },
   "source": [
    "En el dataset de *Snippets* se puede ver por ejemplo que el *bit* 30 almacena conceptos como *ecology*, *geographical* y *wildlife*, pudiendo ser asociado a textos que hablen de la temática de fauna. El bit *25* contiene términos asociados a salud o deporte, como *radiology*, *gymnastics*, *patient* y *strength*."
   ]
  },
  {
   "cell_type": "markdown",
   "metadata": {},
   "source": [
    "## Trabajo Futuro\n",
    "Experimentar con redes recurrentes como el modelo de *encoder* y otra para el modelo de *decoder*/*generator*.\n",
    "\n",
    "### Referencias\n",
    "---\n",
    "[1] Salakhutdinov, R., & Hinton, G. (2009). *Semantic hashing*. International Journal of Approximate Reasoning, 50(7), 969-978.  \n",
    "[2] Chaidaroon, S., & Fang, Y. (2017, August). *Variational deep semantic hashing for text documents*. In Proceedings of the 40th International ACM SIGIR Conference on Research and Development in Information Retrieval (pp. 75-84). ACM.  \n",
    "[3] Chaidaroon, S., Ebesu, T., & Fang, Y. (2018). *Deep Semantic Text Hashing with Weak Supervision*. SIGIR.  \n",
    "[4] Maddison, C. J., Mnih, A., & Teh, Y. W. (2016). The concrete distribution: A continuous relaxation of discrete random variables. arXiv preprint arXiv:1611.00712.  \n",
    "[5] Jang, E., Gu, S., & Poole, B. (2016). *Categorical reparameterization with gumbel-softmax*. arXiv preprint arXiv:1611.01144."
   ]
  }
 ],
 "metadata": {
  "anaconda-cloud": {},
  "kernelspec": {
   "display_name": "Python 3",
   "language": "python",
   "name": "python3"
  },
  "language_info": {
   "codemirror_mode": {
    "name": "ipython",
    "version": 3
   },
   "file_extension": ".py",
   "mimetype": "text/x-python",
   "name": "python",
   "nbconvert_exporter": "python",
   "pygments_lexer": "ipython3",
   "version": "3.6.0"
  }
 },
 "nbformat": 4,
 "nbformat_minor": 2
}
