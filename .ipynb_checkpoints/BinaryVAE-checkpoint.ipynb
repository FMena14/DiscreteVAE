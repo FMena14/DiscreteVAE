{
 "cells": [
  {
   "cell_type": "markdown",
   "metadata": {},
   "source": [
    "# Binary VAE para Hash\n",
    "### Francisco Mena\n",
    "Basado en:\n",
    "* https://github.com/EderSantana/gumbel/\n",
    "* https://github.com/EmilienDupont/vae-concrete\n",
    "---\n",
    "\n",
    "> ## Binary Variational Semantic Hashing\n",
    "\n",
    "---\n",
    "\n",
    "Load libraries to use"
   ]
  },
  {
   "cell_type": "code",
   "execution_count": 4,
   "metadata": {},
   "outputs": [
    {
     "name": "stderr",
     "output_type": "stream",
     "text": [
      "Using TensorFlow backend.\n"
     ]
    },
    {
     "name": "stdout",
     "output_type": "stream",
     "text": [
      "[nltk_data] Downloading package reuters to /home/fmena/nltk_data...\n",
      "[nltk_data]   Package reuters is already up-to-date!\n",
      "[nltk_data] Downloading package wordnet to /home/fmena/nltk_data...\n",
      "[nltk_data]   Package wordnet is already up-to-date!\n"
     ]
    }
   ],
   "source": [
    "import numpy as np\n",
    "import keras\n",
    "from keras.layers import *\n",
    "from keras.models import Sequential,Model\n",
    "from keras import backend as K\n",
    "import matplotlib.pyplot as plt\n",
    "import seaborn as sns\n",
    "import nltk\n",
    "nltk.download('reuters')\n",
    "nltk.download('wordnet')\n",
    "\n",
    "from base_networks import *"
   ]
  },
  {
   "cell_type": "markdown",
   "metadata": {},
   "source": [
    "## Load Data"
   ]
  },
  {
   "cell_type": "markdown",
   "metadata": {},
   "source": [
    "### 20 Newsgroup\n",
    "---\n",
    "\n",
    "Citado por Semantic Hashing (http://people.csail.mit.edu/jrennie/20Newsgroups), también disponible en **sklearn**. El dataset contiene textos de noticias etiquetados como pertenenciente a uno de 20 grupos de noticias, el detalle de los conjuntos se detalla a continuación:\n",
    "\n",
    "|Tipo set|Datos|\n",
    "|---|---|\n",
    "|Entrenamiento|11.314|\n",
    "|Pruebas|7.532|\n",
    "\n",
    "\n",
    "\n",
    "Hinton cita: *The data was split by date into 11,314 training and 7,531 test articles, so the training and test sets were separated in time.The training set was further randomly split into 8,314 training and 3,000 validation document*"
   ]
  },
  {
   "cell_type": "code",
   "execution_count": 5,
   "metadata": {},
   "outputs": [
    {
     "name": "stdout",
     "output_type": "stream",
     "text": [
      "Datos de entrenamiento:  (11314,)\n",
      "Datos de prueba:  (7532,)\n"
     ]
    }
   ],
   "source": [
    "from sklearn.datasets import fetch_20newsgroups\n",
    "newsgroups_t = fetch_20newsgroups(subset='train')\n",
    "newsgroups_test = fetch_20newsgroups(subset='test')\n",
    "labels = newsgroups_t.target_names\n",
    "\n",
    "texts_t = newsgroups_t.data\n",
    "y_t = newsgroups_t.target\n",
    "labels_t = [labels[valor] for valor in y_t]\n",
    "\n",
    "texts_test = newsgroups_test.data\n",
    "y_test = newsgroups_test.target\n",
    "labels_test = [labels[valor] for valor in y_test]\n",
    "\n",
    "print(\"Datos de entrenamiento: \",y_t.shape)\n",
    "print(\"Datos de prueba: \",y_test.shape)"
   ]
  },
  {
   "cell_type": "code",
   "execution_count": 6,
   "metadata": {},
   "outputs": [
    {
     "data": {
      "text/plain": [
       "['alt.atheism',\n",
       " 'comp.graphics',\n",
       " 'comp.os.ms-windows.misc',\n",
       " 'comp.sys.ibm.pc.hardware',\n",
       " 'comp.sys.mac.hardware',\n",
       " 'comp.windows.x',\n",
       " 'misc.forsale',\n",
       " 'rec.autos',\n",
       " 'rec.motorcycles',\n",
       " 'rec.sport.baseball',\n",
       " 'rec.sport.hockey',\n",
       " 'sci.crypt',\n",
       " 'sci.electronics',\n",
       " 'sci.med',\n",
       " 'sci.space',\n",
       " 'soc.religion.christian',\n",
       " 'talk.politics.guns',\n",
       " 'talk.politics.mideast',\n",
       " 'talk.politics.misc',\n",
       " 'talk.religion.misc']"
      ]
     },
     "execution_count": 6,
     "metadata": {},
     "output_type": "execute_result"
    }
   ],
   "source": [
    "labels"
   ]
  },
  {
   "cell_type": "markdown",
   "metadata": {},
   "source": [
    "Anteriormente se presentan los 20 posibles grupos de las noticias, algunos ejemplos de texto se muestran a continuacion:"
   ]
  },
  {
   "cell_type": "code",
   "execution_count": 18,
   "metadata": {},
   "outputs": [
    {
     "name": "stdout",
     "output_type": "stream",
     "text": [
      "From: Mamatha Devineni Ratnam <mr47+@andrew.cmu.edu>\n",
      "Subject: Pens fans reactions\n",
      "Organization: Post Office, Carnegie Mellon, Pittsburgh, PA\n",
      "Lines: 12\n",
      "NNTP-Posting-Host: po4.andrew.cmu.edu\n",
      "\n",
      "\n",
      "\n",
      "I am sure some bashers of Pens fans are pretty confused about the lack\n",
      "of any kind of posts about the recent Pens massacre of the Devils. Actually,\n",
      "I am  bit puzzled too and a bit relieved. However, I am going to put an end\n",
      "to non-PIttsburghers' relief with a bit of praise for the Pens. Man, they\n",
      "are killing those Devils worse than I thought. Jagr just showed you why\n",
      "he is much better than his regular season stats. He is also a lot\n",
      "fo fun to watch in the playoffs. Bowman should let JAgr have a lot of\n",
      "fun in the next couple of games since the Pens are going to beat the pulp out of Jersey anyway. I was very disappointed not to see the Islanders lose the final\n",
      "regular season game.          PENS RULE!!!\n",
      "\n",
      "\n"
     ]
    }
   ],
   "source": [
    "print(aux.data[0])"
   ]
  },
  {
   "cell_type": "markdown",
   "metadata": {},
   "source": [
    "### Reuters21578\n",
    "---\n",
    "Similar a 20NewsGroup es un datataset de textos de noticias del periodico de Reuters en 1987 , citado en papers (https://www.nltk.org/book/ch02.html) y disponible en la librería **nltk**. El detalle de los conjuntos se muestra a continuación:\n",
    "\n",
    "|Tipo set|Datos|\n",
    "|---|---|\n",
    "|Entrenamiento|7.769|\n",
    "|Pruebas|3.019|\n",
    "\n",
    "Los documentos pueden pertenecer a **múltiples tópicos** dentro de 90 disponibles en el dataset manualmente etiquetadas, ésto es porque una noticia puede hablar de varios tópicos a la vez. "
   ]
  },
  {
   "cell_type": "code",
   "execution_count": 2,
   "metadata": {},
   "outputs": [
    {
     "name": "stdout",
     "output_type": "stream",
     "text": [
      "10788 documents\n",
      "7769 total training documents\n",
      "3019 total test documents\n"
     ]
    }
   ],
   "source": [
    "from nltk.corpus import reuters\n",
    "documents_stat = reuters.fileids()\n",
    "print(str(len(documents_stat)) + \" documents\")\n",
    "\n",
    "train_docs_stat = list(filter(lambda doc: doc.startswith(\"train\"), documents_stat))\n",
    "print(str(len(train_docs_stat)) + \" total training documents\")\n",
    "test_docs_stat = list(filter(lambda doc: doc.startswith(\"test\"), documents_stat))\n",
    "print(str(len(test_docs_stat)) + \" total test documents\")\n",
    "\n",
    "texts_t = [reuters.raw(archivo) for archivo in train_docs_stat]\n",
    "labels_t = [reuters.categories(archivo) for archivo in train_docs_stat]\n",
    "\n",
    "texts_test = [reuters.raw(archivo) for archivo in test_docs_stat]\n",
    "labels_test = [reuters.categories(archivo) for archivo in test_docs_stat]"
   ]
  },
  {
   "cell_type": "code",
   "execution_count": 3,
   "metadata": {
    "scrolled": true
   },
   "outputs": [
    {
     "data": {
      "text/plain": [
       "['acq',\n",
       " 'alum',\n",
       " 'barley',\n",
       " 'bop',\n",
       " 'carcass',\n",
       " 'castor-oil',\n",
       " 'cocoa',\n",
       " 'coconut',\n",
       " 'coconut-oil',\n",
       " 'coffee',\n",
       " 'copper',\n",
       " 'copra-cake',\n",
       " 'corn',\n",
       " 'cotton',\n",
       " 'cotton-oil',\n",
       " 'cpi',\n",
       " 'cpu',\n",
       " 'crude',\n",
       " 'dfl',\n",
       " 'dlr',\n",
       " 'dmk',\n",
       " 'earn',\n",
       " 'fuel',\n",
       " 'gas',\n",
       " 'gnp',\n",
       " 'gold',\n",
       " 'grain',\n",
       " 'groundnut',\n",
       " 'groundnut-oil',\n",
       " 'heat',\n",
       " 'hog',\n",
       " 'housing',\n",
       " 'income',\n",
       " 'instal-debt',\n",
       " 'interest',\n",
       " 'ipi',\n",
       " 'iron-steel',\n",
       " 'jet',\n",
       " 'jobs',\n",
       " 'l-cattle',\n",
       " 'lead',\n",
       " 'lei',\n",
       " 'lin-oil',\n",
       " 'livestock',\n",
       " 'lumber',\n",
       " 'meal-feed',\n",
       " 'money-fx',\n",
       " 'money-supply',\n",
       " 'naphtha',\n",
       " 'nat-gas',\n",
       " 'nickel',\n",
       " 'nkr',\n",
       " 'nzdlr',\n",
       " 'oat',\n",
       " 'oilseed',\n",
       " 'orange',\n",
       " 'palladium',\n",
       " 'palm-oil',\n",
       " 'palmkernel',\n",
       " 'pet-chem',\n",
       " 'platinum',\n",
       " 'potato',\n",
       " 'propane',\n",
       " 'rand',\n",
       " 'rape-oil',\n",
       " 'rapeseed',\n",
       " 'reserves',\n",
       " 'retail',\n",
       " 'rice',\n",
       " 'rubber',\n",
       " 'rye',\n",
       " 'ship',\n",
       " 'silver',\n",
       " 'sorghum',\n",
       " 'soy-meal',\n",
       " 'soy-oil',\n",
       " 'soybean',\n",
       " 'strategic-metal',\n",
       " 'sugar',\n",
       " 'sun-meal',\n",
       " 'sun-oil',\n",
       " 'sunseed',\n",
       " 'tea',\n",
       " 'tin',\n",
       " 'trade',\n",
       " 'veg-oil',\n",
       " 'wheat',\n",
       " 'wpi',\n",
       " 'yen',\n",
       " 'zinc']"
      ]
     },
     "execution_count": 3,
     "metadata": {},
     "output_type": "execute_result"
    }
   ],
   "source": [
    "labels = reuters.categories()\n",
    "labels"
   ]
  },
  {
   "cell_type": "code",
   "execution_count": 20,
   "metadata": {
    "scrolled": true
   },
   "outputs": [
    {
     "name": "stdout",
     "output_type": "stream",
     "text": [
      "From: jerryb@eskimo.com (Jerry Kaufman)\n",
      "Subject: Re: prayers and advice requested on family problem\n",
      "Organization: -> ESKIMO NORTH (206) For-Ever <-\n",
      "Lines: 11\n",
      "\n",
      "Cloak yourself in God's sustaining and abiding love. Pray, pray, pray.\n",
      "Pray for your brother, that he will assume the Godly role that is his.\n",
      "Pray for your sister-in-law, the what ever is driving her to separate\n",
      "your brother and herself from the the rest of the family will be healed.\n",
      "Pray for God to give you the peace in the knowledge that you may not be\n",
      "able to 'fix' it. From your description it would appear that it will\n",
      "require devine intervention, and the realization by your brother as to\n",
      "what his responsibilities are. Seek Godly counsel from your pastor, or\n",
      "other spiritually mature believer. Know always that He is akways there\n",
      "as a conforter, and will give you wisdon and direction as you call on\n",
      "Him.\n",
      "\n"
     ]
    }
   ],
   "source": [
    "print(texts_train[0])"
   ]
  },
  {
   "cell_type": "code",
   "execution_count": 47,
   "metadata": {},
   "outputs": [
    {
     "data": {
      "text/plain": [
       "[['cocoa'],\n",
       " ['acq'],\n",
       " ['money-supply'],\n",
       " ['acq'],\n",
       " ['earn'],\n",
       " ['earn'],\n",
       " ['acq', 'trade'],\n",
       " ['earn'],\n",
       " ['crude', 'nat-gas'],\n",
       " ['cocoa', 'coffee', 'sugar']]"
      ]
     },
     "execution_count": 47,
     "metadata": {},
     "output_type": "execute_result"
    }
   ],
   "source": [
    "#borrar para presentacion\n",
    "labels_t[:10]"
   ]
  },
  {
   "cell_type": "code",
   "execution_count": 77,
   "metadata": {},
   "outputs": [
    {
     "data": {
      "image/png": "[encoded data removed]",
      "text/plain": [
       "<matplotlib.figure.Figure at 0x7fefdf374f28>"
      ]
     },
     "metadata": {},
     "output_type": "display_data"
    }
   ],
   "source": [
    "plt.boxplot(list(map(len,labels_t)))\n",
    "plt.show()"
   ]
  },
  {
   "cell_type": "markdown",
   "metadata": {},
   "source": [
    "### TMC\n",
    "---\n",
    "https://c3.nasa.gov/dashlink/resources/138/, \n",
    "https://catalog.data.gov/dataset/siam-2007-text-mining-competition-dataset\n",
    "\n",
    "Revisar: https://github.com/Buzz-Beater/SIAM-2007-Text-Mining"
   ]
  },
  {
   "cell_type": "code",
   "execution_count": null,
   "metadata": {},
   "outputs": [],
   "source": []
  },
  {
   "cell_type": "markdown",
   "metadata": {},
   "source": [
    "### SearchSnipet\n",
    "---\n",
    "Dataset de Google search *snippets*-- pequeñas porciones de texto que le dan a usuarios una idea de lo que hay en el sitio web. Pertenecientes a 8 clases únicas (dominio).\n",
    "\n",
    "\n",
    "2,280\n",
    "\n",
    "http://jwebpro.sourceforge.net/data-web-snippets.tar.gz\n"
   ]
  },
  {
   "cell_type": "code",
   "execution_count": null,
   "metadata": {},
   "outputs": [],
   "source": []
  },
  {
   "cell_type": "markdown",
   "metadata": {},
   "source": [
    "### Reuters Corpus Volume 1\n",
    "---\n",
    "Corpus de Reuters extendido, con los 103 tópicos originales. Disponible en trabajos previos (https://www.csie.ntu.edu.tw/~cjlin/libsvmtools/datasets/multilabel.html) y a través de **sklearn**.\n",
    "\n",
    "\n",
    "La representación son las *features* ya extraídas.\n",
    "\n",
    "Probar este una vez ya experimentado con los pequeños anteriores\n"
   ]
  },
  {
   "cell_type": "code",
   "execution_count": 10,
   "metadata": {},
   "outputs": [
    {
     "data": {
      "text/plain": [
       "<23149x47236 sparse matrix of type '<class 'numpy.float64'>'\n",
       "\twith 1757801 stored elements in Compressed Sparse Row format>"
      ]
     },
     "execution_count": 10,
     "metadata": {},
     "output_type": "execute_result"
    }
   ],
   "source": [
    "#https://scikit-learn.org/0.17/datasets/rcv1.html\n",
    "from sklearn.datasets import fetch_rcv1\n",
    "rcv1_train = fetch_rcv1(subset='train')\n",
    "rcv1_test = fetch_rcv1(subset='test')\n",
    "X_train = rcv1_train.data\n",
    "y_train = rcv1_train.target\n",
    "X_test = rcv1_test.data\n",
    "y_test = rcv1_test.target\n",
    "\n",
    "X_train"
   ]
  },
  {
   "cell_type": "code",
   "execution_count": 11,
   "metadata": {},
   "outputs": [
    {
     "data": {
      "text/plain": [
       "(23149, 47236)"
      ]
     },
     "execution_count": 11,
     "metadata": {},
     "output_type": "execute_result"
    }
   ],
   "source": [
    "X_train.shape"
   ]
  },
  {
   "cell_type": "code",
   "execution_count": 13,
   "metadata": {},
   "outputs": [
    {
     "data": {
      "text/plain": [
       "(781265, 103)"
      ]
     },
     "execution_count": 13,
     "metadata": {},
     "output_type": "execute_result"
    }
   ],
   "source": [
    "y_test.shape"
   ]
  },
  {
   "cell_type": "code",
   "execution_count": 15,
   "metadata": {},
   "outputs": [
    {
     "data": {
      "text/plain": [
       "array(['C11', 'C12', 'C13', 'C14', 'C15', 'C151', 'C1511', 'C152', 'C16',\n",
       "       'C17', 'C171', 'C172', 'C173', 'C174', 'C18', 'C181', 'C182',\n",
       "       'C183', 'C21', 'C22', 'C23', 'C24', 'C31', 'C311', 'C312', 'C313',\n",
       "       'C32', 'C33', 'C331', 'C34', 'C41', 'C411', 'C42', 'CCAT', 'E11',\n",
       "       'E12', 'E121', 'E13', 'E131', 'E132', 'E14', 'E141', 'E142',\n",
       "       'E143', 'E21', 'E211', 'E212', 'E31', 'E311', 'E312', 'E313',\n",
       "       'E41', 'E411', 'E51', 'E511', 'E512', 'E513', 'E61', 'E71', 'ECAT',\n",
       "       'G15', 'G151', 'G152', 'G153', 'G154', 'G155', 'G156', 'G157',\n",
       "       'G158', 'G159', 'GCAT', 'GCRIM', 'GDEF', 'GDIP', 'GDIS', 'GENT',\n",
       "       'GENV', 'GFAS', 'GHEA', 'GJOB', 'GMIL', 'GOBIT', 'GODD', 'GPOL',\n",
       "       'GPRO', 'GREL', 'GSCI', 'GSPO', 'GTOUR', 'GVIO', 'GVOTE', 'GWEA',\n",
       "       'GWELF', 'M11', 'M12', 'M13', 'M131', 'M132', 'M14', 'M141',\n",
       "       'M142', 'M143', 'MCAT'], dtype=object)"
      ]
     },
     "execution_count": 15,
     "metadata": {},
     "output_type": "execute_result"
    }
   ],
   "source": [
    "rcv1_train.target_names"
   ]
  },
  {
   "cell_type": "markdown",
   "metadata": {},
   "source": [
    "### Reuters Corpus Volume 2\n",
    "---\n",
    "The Reuter Corpus Volume 2 dataset is available at http://trec.nist.gov/data/reuters/reuters.html\n",
    "\n",
    "or this dataset, we define the relevance of one document to\n",
    "another to be the fraction of the topic labels that agree on the two\n",
    "paths from the root to the two documents.\n",
    "\n",
    "\n",
    "The data was randomly split into 402,207 training and 402,207\n",
    "test articles. The training set was further randomly split into 302,207\n",
    "training and 100,000 validation documents. "
   ]
  },
  {
   "cell_type": "code",
   "execution_count": null,
   "metadata": {},
   "outputs": [],
   "source": [
    "## no utilizar"
   ]
  },
  {
   "cell_type": "markdown",
   "metadata": {},
   "source": [
    "### Validation creation"
   ]
  },
  {
   "cell_type": "code",
   "execution_count": 7,
   "metadata": {},
   "outputs": [
    {
     "name": "stdout",
     "output_type": "stream",
     "text": [
      "Cantidad de datos Entrenamiento:  8485\n",
      "Cantidad de datos Validación:  2829\n",
      "Cantidad de datos Pruebas:  7532\n"
     ]
    }
   ],
   "source": [
    "from sklearn.model_selection import train_test_split\n",
    "labels_t = np.asarray(labels_t)\n",
    "labels_test = np.asarray(labels_test)\n",
    "texts_train,texts_val,labels_train,labels_val  = train_test_split(texts_t,labels_t,random_state=20,test_size=0.25)\n",
    "print(\"Cantidad de datos Entrenamiento: \",len(texts_train))\n",
    "print(\"Cantidad de datos Validación: \",len(texts_val))\n",
    "print(\"Cantidad de datos Pruebas: \",len(texts_test))"
   ]
  },
  {
   "cell_type": "markdown",
   "metadata": {},
   "source": [
    "## Pre-process\n",
    "---\n",
    "Obtain the data representation\n",
    "\n",
    "\n",
    "paper Variational Deep Semantic Hashing:\n",
    "> \"*Each dataset was split into three subsets with roughly 80% for training, 10% for validation, and 10% for test. The training data is used to learn the mapping from document to hash code. Each document in the test set is used to retrieve similar documents based on the mapping, and the results are evaluated. The validation set is used to choose the hyperparameters. We removed the stopwords using SMART’s list of 571 stopwords 5 . No stemming was performed. We use TFIDF [23] as the default term weighting scheme for the raw document representation (i.e., d). We experiment with other term weighting schemes in Section 5.4.*\"\n",
    "\n",
    "REvisar si este paper hace algo con la cantidad de features\n",
    "\n",
    "Hinton: \n",
    "> \"*We further preprocessed the data by removing common stopwords, stemming, and then only considering the 2000 most frequent words in the training dataset. As a result, each posting was represented as a vector containing 2000 word counts. No other preprocessing was done.*\"\n",
    "\n",
    "\n",
    "\n",
    "* Stemmed version (citado en 2 trabajos) -> http://web.ist.utl.pt/acardoso/datasets/  \n",
    "\n",
    "\n",
    "Se experimenta con dos tipos de pre-procesamiento:\n",
    "\n",
    "1. El primero es el siguiente: \n",
    "    * Pasar letras a minúsculas\n",
    "    * Eliminar extra espacios (saltos de línea por ejemplo)\n",
    "    * Remover stop words\n",
    "    * Borrar todo lo que no sea letras (eliminar números y puntuaciones)\n",
    "    * Dejar palabras con una frecuencia mayor a ... o conservar las top $k$ palabras más frecuentes\n",
    "2. El segundo añade lo siguiente:\n",
    "    * Se realiza un *stemming* (Snowball)\n",
    "    * Remover palabras de menos de 3 largo\n",
    "\n",
    "\n",
    "\n",
    "Para la representación se utiliza lo siguiente:\n",
    "* TF-IDF: \n",
    "$$ w_f(d) \\cdot \\left(1 + log\\left( \\frac{1+n_d}{1+df_w} \\right) \\right)$$\n",
    "* **TF (*term frecuency*)**: $$ w_f(d) $$\n",
    "* Binary: $$I(w_f(d) \\neq 0)$$"
   ]
  },
  {
   "cell_type": "markdown",
   "metadata": {},
   "source": [
    "### probar con borrar números"
   ]
  },
  {
   "cell_type": "code",
   "execution_count": 8,
   "metadata": {},
   "outputs": [
    {
     "name": "stdout",
     "output_type": "stream",
     "text": [
      "CPU times: user 29.2 s, sys: 90.5 ms, total: 29.3 s\n",
      "Wall time: 29.3 s\n"
     ]
    },
    {
     "data": {
      "text/plain": [
       "(8485, 2000)"
      ]
     },
     "execution_count": 8,
     "metadata": {},
     "output_type": "execute_result"
    }
   ],
   "source": [
    "from sklearn.feature_extraction.text import TfidfVectorizer\n",
    "from nltk.stem.snowball import SnowballStemmer\n",
    "from nltk.stem import WordNetLemmatizer \n",
    "analyzer = TfidfVectorizer().build_analyzer()\n",
    "stemmer = SnowballStemmer(\"english\") \n",
    "lemmatizer = WordNetLemmatizer()\n",
    "\n",
    "\"\"\"Extract features from raw input\"\"\"\n",
    "def preProcess(s): #String processor\n",
    "    return s.lower().strip().strip('-').strip('_')\n",
    "def number_normalize(doc):\n",
    "    results = []\n",
    "    for token in analyzer(doc):\n",
    "        token_pro = preProcess(token)\n",
    "        if len(token_pro) != 0:\n",
    "            results.append(\"#number\" if token_pro[0].isdigit() else token_pro)\n",
    "    return results\n",
    "def stemmed_words(doc):\n",
    "    results = []\n",
    "    for token in analyzer(doc):\n",
    "        pre_pro = preProcess(token)\n",
    "        #token_pro = stemmer.stem(pre_pro) #aumenta x10 el tiempo de procesamiento\n",
    "        token_pro = lemmatizer.lemmatize(pre_pro) #so can explain/interpretae -- aumenta x5 el tiempo de proce\n",
    "        if len(token_pro) != 0:\n",
    "            token_pro = \"#number\" if token_pro[0].isdigit() else token_pro\n",
    "            if len(token_pro)>2: #elimina palabra largo menor a 2\n",
    "                results.append(token_pro)\n",
    "    return results\n",
    "        \n",
    "\n",
    "mode = \"default\" #defaul is tf\n",
    "\n",
    "smooth_idf_b = False\n",
    "use_idf_b = False\n",
    "binary_b = False\n",
    "sublinear_tf_b = False\n",
    "\n",
    "if mode == 'binary':\n",
    "    binary_b = True\n",
    "elif mode == 'tf':\n",
    "    pass\n",
    "elif mode == 'tf-idf':\n",
    "    use_idf_b = True\n",
    "    smooth_idf_b = True #inventa 1 conteo imaginario (como priors)--laplace smoothing\n",
    "    #sublinear_tf_b = True #verificar: reemplaza tf por 1 + log(tf)\n",
    "    \n",
    "min_count = 1 #default = 1\n",
    "max_feat = 2000 #Hinton (2000)\n",
    "vectorizer = TfidfVectorizer(stop_words='english',analyzer=stemmed_words,min_df=min_count, max_features=max_feat\n",
    "                            ,binary=binary_b, use_idf=use_idf_b, smooth_idf=smooth_idf_b,sublinear_tf=sublinear_tf_b,norm=False) \n",
    "%time vectorizer.fit(texts_train)\n",
    "\n",
    "vectors_train = vectorizer.transform(texts_train)\n",
    "vectors_val = vectorizer.transform(texts_val)\n",
    "vectors_test = vectorizer.transform(texts_train)\n",
    "vectors_train.shape"
   ]
  },
  {
   "cell_type": "markdown",
   "metadata": {},
   "source": [
    "vocabulario de 7mil en reuters,  10mil en newsgroup"
   ]
  },
  {
   "cell_type": "code",
   "execution_count": 9,
   "metadata": {},
   "outputs": [
    {
     "data": {
      "text/plain": [
       "{0: '#number',\n",
       " 1: 'a86',\n",
       " 2: 'ability',\n",
       " 3: 'able',\n",
       " 4: 'about',\n",
       " 5: 'above',\n",
       " 6: 'absolute',\n",
       " 7: 'absolutely',\n",
       " 8: 'abuse',\n",
       " 9: 'academic',\n",
       " 10: 'accept',\n",
       " 11: 'accepted',\n",
       " 12: 'access',\n",
       " 13: 'accident',\n",
       " 14: 'according',\n",
       " 15: 'account',\n",
       " 16: 'across',\n",
       " 17: 'act',\n",
       " 18: 'action',\n",
       " 19: 'activity',\n",
       " 20: 'actual',\n",
       " 21: 'actually',\n",
       " 22: 'adam',\n",
       " 23: 'add',\n",
       " 24: 'added',\n",
       " 25: 'addition',\n",
       " 26: 'additional',\n",
       " 27: 'address',\n",
       " 28: 'administration',\n",
       " 29: 'admit',\n",
       " 30: 'adobe',\n",
       " 31: 'advance',\n",
       " 32: 'advanced',\n",
       " 33: 'advantage',\n",
       " 34: 'advice',\n",
       " 35: 'after',\n",
       " 36: 'again',\n",
       " 37: 'against',\n",
       " 38: 'age',\n",
       " 39: 'agency',\n",
       " 40: 'agent',\n",
       " 41: 'ago',\n",
       " 42: 'agree',\n",
       " 43: 'ahead',\n",
       " 44: 'aid',\n",
       " 45: 'air',\n",
       " 46: 'alan',\n",
       " 47: 'alaska',\n",
       " 48: 'algorithm',\n",
       " 49: 'alive',\n",
       " 50: 'all',\n",
       " 51: 'allow',\n",
       " 52: 'allowed',\n",
       " 53: 'allows',\n",
       " 54: 'almost',\n",
       " 55: 'alone',\n",
       " 56: 'along',\n",
       " 57: 'already',\n",
       " 58: 'also',\n",
       " 59: 'alt',\n",
       " 60: 'alternative',\n",
       " 61: 'although',\n",
       " 62: 'always',\n",
       " 63: 'amendment',\n",
       " 64: 'america',\n",
       " 65: 'american',\n",
       " 66: 'ames',\n",
       " 67: 'amiga',\n",
       " 68: 'among',\n",
       " 69: 'amount',\n",
       " 70: 'amp',\n",
       " 71: 'analysis',\n",
       " 72: 'and',\n",
       " 73: 'andrew',\n",
       " 74: 'andy',\n",
       " 75: 'angeles',\n",
       " 76: 'animal',\n",
       " 77: 'announced',\n",
       " 78: 'announcement',\n",
       " 79: 'anonymous',\n",
       " 80: 'another',\n",
       " 81: 'answer',\n",
       " 82: 'anti',\n",
       " 83: 'any',\n",
       " 84: 'anybody',\n",
       " 85: 'anyone',\n",
       " 86: 'anything',\n",
       " 87: 'anyway',\n",
       " 88: 'anywhere',\n",
       " 89: 'app',\n",
       " 90: 'apparently',\n",
       " 91: 'appear',\n",
       " 92: 'appears',\n",
       " 93: 'apple',\n",
       " 94: 'application',\n",
       " 95: 'applied',\n",
       " 96: 'apply',\n",
       " 97: 'appreciate',\n",
       " 98: 'appreciated',\n",
       " 99: 'approach',\n",
       " 100: 'appropriate',\n",
       " 101: 'apr',\n",
       " 102: 'april',\n",
       " 103: 'arab',\n",
       " 104: 'arc',\n",
       " 105: 'archive',\n",
       " 106: 'are',\n",
       " 107: 'area',\n",
       " 108: 'aren',\n",
       " 109: 'argic',\n",
       " 110: 'argue',\n",
       " 111: 'argument',\n",
       " 112: 'arizona',\n",
       " 113: 'arm',\n",
       " 114: 'armed',\n",
       " 115: 'armenia',\n",
       " 116: 'armenian',\n",
       " 117: 'army',\n",
       " 118: 'around',\n",
       " 119: 'art',\n",
       " 120: 'article',\n",
       " 121: 'ask',\n",
       " 122: 'asked',\n",
       " 123: 'asking',\n",
       " 124: 'aspect',\n",
       " 125: 'assault',\n",
       " 126: 'associated',\n",
       " 127: 'association',\n",
       " 128: 'assume',\n",
       " 129: 'assuming',\n",
       " 130: 'assumption',\n",
       " 131: 'astronomy',\n",
       " 132: 'atheism',\n",
       " 133: 'atheist',\n",
       " 134: 'athena',\n",
       " 135: 'atlanta',\n",
       " 136: 'att',\n",
       " 137: 'attack',\n",
       " 138: 'attempt',\n",
       " 139: 'attention',\n",
       " 140: 'audio',\n",
       " 141: 'austin',\n",
       " 142: 'australia',\n",
       " 143: 'author',\n",
       " 144: 'authority',\n",
       " 145: 'auto',\n",
       " 146: 'automatic',\n",
       " 147: 'available',\n",
       " 148: 'average',\n",
       " 149: 'avoid',\n",
       " 150: 'aware',\n",
       " 151: 'away',\n",
       " 152: 'azerbaijan',\n",
       " 153: 'azerbaijani',\n",
       " 154: 'azeri',\n",
       " 155: 'b8f',\n",
       " 156: 'back',\n",
       " 157: 'background',\n",
       " 158: 'bad',\n",
       " 159: 'ball',\n",
       " 160: 'band',\n",
       " 161: 'bank',\n",
       " 162: 'bar',\n",
       " 163: 'base',\n",
       " 164: 'baseball',\n",
       " 165: 'based',\n",
       " 166: 'basic',\n",
       " 167: 'basically',\n",
       " 168: 'basis',\n",
       " 169: 'bat',\n",
       " 170: 'batf',\n",
       " 171: 'battery',\n",
       " 172: 'bay',\n",
       " 173: 'bear',\n",
       " 174: 'beat',\n",
       " 175: 'became',\n",
       " 176: 'because',\n",
       " 177: 'become',\n",
       " 178: 'becomes',\n",
       " 179: 'been',\n",
       " 180: 'before',\n",
       " 181: 'begin',\n",
       " 182: 'beginning',\n",
       " 183: 'behavior',\n",
       " 184: 'behind',\n",
       " 185: 'being',\n",
       " 186: 'belief',\n",
       " 187: 'believe',\n",
       " 188: 'bell',\n",
       " 189: 'below',\n",
       " 190: 'benefit',\n",
       " 191: 'berkeley',\n",
       " 192: 'besides',\n",
       " 193: 'best',\n",
       " 194: 'bet',\n",
       " 195: 'better',\n",
       " 196: 'between',\n",
       " 197: 'beyond',\n",
       " 198: 'bhj',\n",
       " 199: 'bible',\n",
       " 200: 'biblical',\n",
       " 201: 'big',\n",
       " 202: 'bike',\n",
       " 203: 'bill',\n",
       " 204: 'billion',\n",
       " 205: 'binary',\n",
       " 206: 'bios',\n",
       " 207: 'bit',\n",
       " 208: 'bitnet',\n",
       " 209: 'black',\n",
       " 210: 'blame',\n",
       " 211: 'block',\n",
       " 212: 'blood',\n",
       " 213: 'blue',\n",
       " 214: 'bmw',\n",
       " 215: 'bnr',\n",
       " 216: 'board',\n",
       " 217: 'bob',\n",
       " 218: 'body',\n",
       " 219: 'boeing',\n",
       " 220: 'book',\n",
       " 221: 'boot',\n",
       " 222: 'border',\n",
       " 223: 'born',\n",
       " 224: 'bos',\n",
       " 225: 'boston',\n",
       " 226: 'both',\n",
       " 227: 'bother',\n",
       " 228: 'bottom',\n",
       " 229: 'bought',\n",
       " 230: 'boulder',\n",
       " 231: 'box',\n",
       " 232: 'boy',\n",
       " 233: 'brad',\n",
       " 234: 'brain',\n",
       " 235: 'brand',\n",
       " 236: 'brave',\n",
       " 237: 'break',\n",
       " 238: 'brian',\n",
       " 239: 'bring',\n",
       " 240: 'british',\n",
       " 241: 'brother',\n",
       " 242: 'brought',\n",
       " 243: 'brown',\n",
       " 244: 'bruce',\n",
       " 245: 'btw',\n",
       " 246: 'budget',\n",
       " 247: 'buffalo',\n",
       " 248: 'bug',\n",
       " 249: 'build',\n",
       " 250: 'building',\n",
       " 251: 'built',\n",
       " 252: 'bunch',\n",
       " 253: 'burn',\n",
       " 254: 'bus',\n",
       " 255: 'bush',\n",
       " 256: 'business',\n",
       " 257: 'but',\n",
       " 258: 'button',\n",
       " 259: 'buy',\n",
       " 260: 'buying',\n",
       " 261: 'bxn',\n",
       " 262: 'byte',\n",
       " 263: 'cable',\n",
       " 264: 'cache',\n",
       " 265: 'california',\n",
       " 266: 'call',\n",
       " 267: 'called',\n",
       " 268: 'calling',\n",
       " 269: 'caltech',\n",
       " 270: 'cambridge',\n",
       " 271: 'came',\n",
       " 272: 'can',\n",
       " 273: 'canada',\n",
       " 274: 'canadian',\n",
       " 275: 'cancer',\n",
       " 276: 'cannot',\n",
       " 277: 'cap',\n",
       " 278: 'capability',\n",
       " 279: 'capable',\n",
       " 280: 'capital',\n",
       " 281: 'car',\n",
       " 282: 'card',\n",
       " 283: 'care',\n",
       " 284: 'career',\n",
       " 285: 'carleton',\n",
       " 286: 'carnegie',\n",
       " 287: 'carry',\n",
       " 288: 'case',\n",
       " 289: 'cat',\n",
       " 290: 'catholic',\n",
       " 291: 'cause',\n",
       " 292: 'caused',\n",
       " 293: 'cco',\n",
       " 294: 'center',\n",
       " 295: 'central',\n",
       " 296: 'century',\n",
       " 297: 'certain',\n",
       " 298: 'certainly',\n",
       " 299: 'chance',\n",
       " 300: 'change',\n",
       " 301: 'changed',\n",
       " 302: 'changing',\n",
       " 303: 'channel',\n",
       " 304: 'character',\n",
       " 305: 'charge',\n",
       " 306: 'charles',\n",
       " 307: 'cheap',\n",
       " 308: 'cheaper',\n",
       " 309: 'check',\n",
       " 310: 'chi',\n",
       " 311: 'chicago',\n",
       " 312: 'child',\n",
       " 313: 'chip',\n",
       " 314: 'choice',\n",
       " 315: 'choose',\n",
       " 316: 'chris',\n",
       " 317: 'christ',\n",
       " 318: 'christian',\n",
       " 319: 'christianity',\n",
       " 320: 'church',\n",
       " 321: 'chz',\n",
       " 322: 'cipher',\n",
       " 323: 'circuit',\n",
       " 324: 'citizen',\n",
       " 325: 'city',\n",
       " 326: 'civil',\n",
       " 327: 'civilian',\n",
       " 328: 'claim',\n",
       " 329: 'claimed',\n",
       " 330: 'class',\n",
       " 331: 'clear',\n",
       " 332: 'clearly',\n",
       " 333: 'cleveland',\n",
       " 334: 'client',\n",
       " 335: 'clinton',\n",
       " 336: 'clipper',\n",
       " 337: 'clock',\n",
       " 338: 'close',\n",
       " 339: 'closed',\n",
       " 340: 'club',\n",
       " 341: 'cmu',\n",
       " 342: 'code',\n",
       " 343: 'col',\n",
       " 344: 'cold',\n",
       " 345: 'college',\n",
       " 346: 'color',\n",
       " 347: 'colorado',\n",
       " 348: 'colostate',\n",
       " 349: 'columbia',\n",
       " 350: 'com',\n",
       " 351: 'come',\n",
       " 352: 'coming',\n",
       " 353: 'command',\n",
       " 354: 'comment',\n",
       " 355: 'commercial',\n",
       " 356: 'committed',\n",
       " 357: 'committee',\n",
       " 358: 'common',\n",
       " 359: 'communication',\n",
       " 360: 'community',\n",
       " 361: 'comp',\n",
       " 362: 'company',\n",
       " 363: 'compare',\n",
       " 364: 'compared',\n",
       " 365: 'comparison',\n",
       " 366: 'compatible',\n",
       " 367: 'complete',\n",
       " 368: 'completely',\n",
       " 369: 'complex',\n",
       " 370: 'component',\n",
       " 371: 'compound',\n",
       " 372: 'compression',\n",
       " 373: 'computer',\n",
       " 374: 'computing',\n",
       " 375: 'concept',\n",
       " 376: 'concern',\n",
       " 377: 'concerned',\n",
       " 378: 'conclusion',\n",
       " 379: 'condition',\n",
       " 380: 'conference',\n",
       " 381: 'conflict',\n",
       " 382: 'congress',\n",
       " 383: 'connect',\n",
       " 384: 'connected',\n",
       " 385: 'connection',\n",
       " 386: 'connector',\n",
       " 387: 'consider',\n",
       " 388: 'considered',\n",
       " 389: 'considering',\n",
       " 390: 'constitution',\n",
       " 391: 'contact',\n",
       " 392: 'contains',\n",
       " 393: 'content',\n",
       " 394: 'context',\n",
       " 395: 'continue',\n",
       " 396: 'contrib',\n",
       " 397: 'control',\n",
       " 398: 'controller',\n",
       " 399: 'conversation',\n",
       " 400: 'convert',\n",
       " 401: 'converter',\n",
       " 402: 'cop',\n",
       " 403: 'copy',\n",
       " 404: 'core',\n",
       " 405: 'cornell',\n",
       " 406: 'corp',\n",
       " 407: 'corporation',\n",
       " 408: 'correct',\n",
       " 409: 'cost',\n",
       " 410: 'could',\n",
       " 411: 'couldn',\n",
       " 412: 'count',\n",
       " 413: 'country',\n",
       " 414: 'couple',\n",
       " 415: 'course',\n",
       " 416: 'court',\n",
       " 417: 'cover',\n",
       " 418: 'coverage',\n",
       " 419: 'cpu',\n",
       " 420: 'craig',\n",
       " 421: 'cramer',\n",
       " 422: 'create',\n",
       " 423: 'created',\n",
       " 424: 'creation',\n",
       " 425: 'crime',\n",
       " 426: 'criminal',\n",
       " 427: 'cross',\n",
       " 428: 'crypto',\n",
       " 429: 'cryptography',\n",
       " 430: 'csd',\n",
       " 431: 'cso',\n",
       " 432: 'cub',\n",
       " 433: 'culture',\n",
       " 434: 'cup',\n",
       " 435: 'current',\n",
       " 436: 'currently',\n",
       " 437: 'cut',\n",
       " 438: 'cwru',\n",
       " 439: 'cycle',\n",
       " 440: 'dale',\n",
       " 441: 'damage',\n",
       " 442: 'damn',\n",
       " 443: 'dan',\n",
       " 444: 'dangerous',\n",
       " 445: 'daniel',\n",
       " 446: 'data',\n",
       " 447: 'database',\n",
       " 448: 'date',\n",
       " 449: 'dave',\n",
       " 450: 'david',\n",
       " 451: 'day',\n",
       " 452: 'dead',\n",
       " 453: 'deal',\n",
       " 454: 'dealer',\n",
       " 455: 'death',\n",
       " 456: 'dec',\n",
       " 457: 'decide',\n",
       " 458: 'decided',\n",
       " 459: 'decision',\n",
       " 460: 'deep',\n",
       " 461: 'default',\n",
       " 462: 'defense',\n",
       " 463: 'defensive',\n",
       " 464: 'define',\n",
       " 465: 'defined',\n",
       " 466: 'definitely',\n",
       " 467: 'definition',\n",
       " 468: 'degree',\n",
       " 469: 'deleted',\n",
       " 470: 'demand',\n",
       " 471: 'department',\n",
       " 472: 'depends',\n",
       " 473: 'dept',\n",
       " 474: 'depth',\n",
       " 475: 'described',\n",
       " 476: 'description',\n",
       " 477: 'design',\n",
       " 478: 'designed',\n",
       " 479: 'desire',\n",
       " 480: 'despite',\n",
       " 481: 'detail',\n",
       " 482: 'detector',\n",
       " 483: 'determine',\n",
       " 484: 'detroit',\n",
       " 485: 'developed',\n",
       " 486: 'development',\n",
       " 487: 'device',\n",
       " 488: 'devil',\n",
       " 489: 'diamond',\n",
       " 490: 'did',\n",
       " 491: 'didn',\n",
       " 492: 'die',\n",
       " 493: 'died',\n",
       " 494: 'diego',\n",
       " 495: 'difference',\n",
       " 496: 'different',\n",
       " 497: 'difficult',\n",
       " 498: 'digex',\n",
       " 499: 'digital',\n",
       " 500: 'direct',\n",
       " 501: 'direction',\n",
       " 502: 'directly',\n",
       " 503: 'directory',\n",
       " 504: 'disclaimer',\n",
       " 505: 'discus',\n",
       " 506: 'discussion',\n",
       " 507: 'disease',\n",
       " 508: 'disk',\n",
       " 509: 'display',\n",
       " 510: 'distribution',\n",
       " 511: 'division',\n",
       " 512: 'doc',\n",
       " 513: 'doctor',\n",
       " 514: 'doctrine',\n",
       " 515: 'document',\n",
       " 516: 'documentation',\n",
       " 517: 'dod',\n",
       " 518: 'doe',\n",
       " 519: 'doesn',\n",
       " 520: 'dog',\n",
       " 521: 'doing',\n",
       " 522: 'dollar',\n",
       " 523: 'domain',\n",
       " 524: 'don',\n",
       " 525: 'done',\n",
       " 526: 'door',\n",
       " 527: 'double',\n",
       " 528: 'doubt',\n",
       " 529: 'doug',\n",
       " 530: 'douglas',\n",
       " 531: 'down',\n",
       " 532: 'draft',\n",
       " 533: 'draw',\n",
       " 534: 'drawing',\n",
       " 535: 'drink',\n",
       " 536: 'drive',\n",
       " 537: 'driver',\n",
       " 538: 'driving',\n",
       " 539: 'drop',\n",
       " 540: 'drug',\n",
       " 541: 'due',\n",
       " 542: 'duke',\n",
       " 543: 'during',\n",
       " 544: 'duty',\n",
       " 545: 'each',\n",
       " 546: 'earlier',\n",
       " 547: 'early',\n",
       " 548: 'earth',\n",
       " 549: 'easier',\n",
       " 550: 'easily',\n",
       " 551: 'east',\n",
       " 552: 'easy',\n",
       " 553: 'eat',\n",
       " 554: 'ecn',\n",
       " 555: 'economic',\n",
       " 556: 'edge',\n",
       " 557: 'editor',\n",
       " 558: 'edu',\n",
       " 559: 'education',\n",
       " 560: 'edward',\n",
       " 561: 'eff',\n",
       " 562: 'effect',\n",
       " 563: 'effective',\n",
       " 564: 'effort',\n",
       " 565: 'either',\n",
       " 566: 'electrical',\n",
       " 567: 'electronic',\n",
       " 568: 'electronics',\n",
       " 569: 'element',\n",
       " 570: 'else',\n",
       " 571: 'email',\n",
       " 572: 'employer',\n",
       " 573: 'encrypted',\n",
       " 574: 'encryption',\n",
       " 575: 'end',\n",
       " 576: 'energy',\n",
       " 577: 'enforcement',\n",
       " 578: 'eng',\n",
       " 579: 'engine',\n",
       " 580: 'engineer',\n",
       " 581: 'engineering',\n",
       " 582: 'england',\n",
       " 583: 'english',\n",
       " 584: 'enough',\n",
       " 585: 'entire',\n",
       " 586: 'entirely',\n",
       " 587: 'entry',\n",
       " 588: 'environment',\n",
       " 589: 'equal',\n",
       " 590: 'equipment',\n",
       " 591: 'eric',\n",
       " 592: 'error',\n",
       " 593: 'escape',\n",
       " 594: 'escrow',\n",
       " 595: 'especially',\n",
       " 596: 'established',\n",
       " 597: 'etc',\n",
       " 598: 'eternal',\n",
       " 599: 'europe',\n",
       " 600: 'european',\n",
       " 601: 'even',\n",
       " 602: 'event',\n",
       " 603: 'eventually',\n",
       " 604: 'ever',\n",
       " 605: 'every',\n",
       " 606: 'everybody',\n",
       " 607: 'everyone',\n",
       " 608: 'everything',\n",
       " 609: 'evidence',\n",
       " 610: 'evil',\n",
       " 611: 'exact',\n",
       " 612: 'exactly',\n",
       " 613: 'example',\n",
       " 614: 'excellent',\n",
       " 615: 'except',\n",
       " 616: 'excuse',\n",
       " 617: 'exist',\n",
       " 618: 'existence',\n",
       " 619: 'existing',\n",
       " 620: 'exists',\n",
       " 621: 'expansion',\n",
       " 622: 'expect',\n",
       " 623: 'expected',\n",
       " 624: 'expensive',\n",
       " 625: 'experience',\n",
       " 626: 'experiment',\n",
       " 627: 'expert',\n",
       " 628: 'explain',\n",
       " 629: 'explanation',\n",
       " 630: 'expo',\n",
       " 631: 'export',\n",
       " 632: 'express',\n",
       " 633: 'expressed',\n",
       " 634: 'extension',\n",
       " 635: 'external',\n",
       " 636: 'extra',\n",
       " 637: 'eye',\n",
       " 638: 'face',\n",
       " 639: 'facility',\n",
       " 640: 'fact',\n",
       " 641: 'factor',\n",
       " 642: 'failed',\n",
       " 643: 'fair',\n",
       " 644: 'fairly',\n",
       " 645: 'faith',\n",
       " 646: 'fall',\n",
       " 647: 'false',\n",
       " 648: 'family',\n",
       " 649: 'fan',\n",
       " 650: 'faq',\n",
       " 651: 'far',\n",
       " 652: 'fast',\n",
       " 653: 'faster',\n",
       " 654: 'father',\n",
       " 655: 'fault',\n",
       " 656: 'fax',\n",
       " 657: 'fbi',\n",
       " 658: 'fear',\n",
       " 659: 'feature',\n",
       " 660: 'federal',\n",
       " 661: 'feel',\n",
       " 662: 'feeling',\n",
       " 663: 'few',\n",
       " 664: 'field',\n",
       " 665: 'fight',\n",
       " 666: 'figure',\n",
       " 667: 'file',\n",
       " 668: 'final',\n",
       " 669: 'finally',\n",
       " 670: 'find',\n",
       " 671: 'finding',\n",
       " 672: 'fine',\n",
       " 673: 'finger',\n",
       " 674: 'fire',\n",
       " 675: 'firearm',\n",
       " 676: 'first',\n",
       " 677: 'fit',\n",
       " 678: 'five',\n",
       " 679: 'fix',\n",
       " 680: 'fixed',\n",
       " 681: 'flame',\n",
       " 682: 'flight',\n",
       " 683: 'floppy',\n",
       " 684: 'florida',\n",
       " 685: 'flyer',\n",
       " 686: 'folk',\n",
       " 687: 'follow',\n",
       " 688: 'followed',\n",
       " 689: 'following',\n",
       " 690: 'follows',\n",
       " 691: 'font',\n",
       " 692: 'food',\n",
       " 693: 'foot',\n",
       " 694: 'for',\n",
       " 695: 'force',\n",
       " 696: 'ford',\n",
       " 697: 'foreign',\n",
       " 698: 'forget',\n",
       " 699: 'form',\n",
       " 700: 'format',\n",
       " 701: 'former',\n",
       " 702: 'forward',\n",
       " 703: 'found',\n",
       " 704: 'foundation',\n",
       " 705: 'four',\n",
       " 706: 'frame',\n",
       " 707: 'francisco',\n",
       " 708: 'frank',\n",
       " 709: 'fred',\n",
       " 710: 'free',\n",
       " 711: 'freedom',\n",
       " 712: 'freenet',\n",
       " 713: 'frequency',\n",
       " 714: 'frequently',\n",
       " 715: 'friend',\n",
       " 716: 'from',\n",
       " 717: 'front',\n",
       " 718: 'ftp',\n",
       " 719: 'full',\n",
       " 720: 'fully',\n",
       " 721: 'fun',\n",
       " 722: 'function',\n",
       " 723: 'fund',\n",
       " 724: 'further',\n",
       " 725: 'future',\n",
       " 726: 'g9v',\n",
       " 727: 'gain',\n",
       " 728: 'game',\n",
       " 729: 'gary',\n",
       " 730: 'gas',\n",
       " 731: 'gatech',\n",
       " 732: 'gateway',\n",
       " 733: 'gave',\n",
       " 734: 'gay',\n",
       " 735: 'geb',\n",
       " 736: 'general',\n",
       " 737: 'generally',\n",
       " 738: 'generation',\n",
       " 739: 'genocide',\n",
       " 740: 'george',\n",
       " 741: 'georgia',\n",
       " 742: 'german',\n",
       " 743: 'germany',\n",
       " 744: 'get',\n",
       " 745: 'getting',\n",
       " 746: 'gif',\n",
       " 747: 'give',\n",
       " 748: 'given',\n",
       " 749: 'giving',\n",
       " 750: 'giz',\n",
       " 751: 'gmt',\n",
       " 752: 'goal',\n",
       " 753: 'god',\n",
       " 754: 'going',\n",
       " 755: 'gone',\n",
       " 756: 'good',\n",
       " 757: 'gordon',\n",
       " 758: 'got',\n",
       " 759: 'gotten',\n",
       " 760: 'gov',\n",
       " 761: 'government',\n",
       " 762: 'grant',\n",
       " 763: 'graphic',\n",
       " 764: 'great',\n",
       " 765: 'greater',\n",
       " 766: 'greatly',\n",
       " 767: 'greece',\n",
       " 768: 'greek',\n",
       " 769: 'green',\n",
       " 770: 'greg',\n",
       " 771: 'ground',\n",
       " 772: 'group',\n",
       " 773: 'guess',\n",
       " 774: 'guest',\n",
       " 775: 'guide',\n",
       " 776: 'gun',\n",
       " 777: 'guy',\n",
       " 778: 'had',\n",
       " 779: 'half',\n",
       " 780: 'hall',\n",
       " 781: 'hand',\n",
       " 782: 'handgun',\n",
       " 783: 'handle',\n",
       " 784: 'happen',\n",
       " 785: 'happened',\n",
       " 786: 'happening',\n",
       " 787: 'happens',\n",
       " 788: 'happy',\n",
       " 789: 'hard',\n",
       " 790: 'hardware',\n",
       " 791: 'harvard',\n",
       " 792: 'hate',\n",
       " 793: 'have',\n",
       " 794: 'haven',\n",
       " 795: 'having',\n",
       " 796: 'head',\n",
       " 797: 'health',\n",
       " 798: 'hear',\n",
       " 799: 'heard',\n",
       " 800: 'heart',\n",
       " 801: 'heat',\n",
       " 802: 'heaven',\n",
       " 803: 'heavy',\n",
       " 804: 'held',\n",
       " 805: 'hell',\n",
       " 806: 'hello',\n",
       " 807: 'helmet',\n",
       " 808: 'help',\n",
       " 809: 'henry',\n",
       " 810: 'her',\n",
       " 811: 'here',\n",
       " 812: 'hey',\n",
       " 813: 'high',\n",
       " 814: 'higher',\n",
       " 815: 'highly',\n",
       " 816: 'hill',\n",
       " 817: 'him',\n",
       " 818: 'himself',\n",
       " 819: 'his',\n",
       " 820: 'historical',\n",
       " 821: 'history',\n",
       " 822: 'hit',\n",
       " 823: 'hockey',\n",
       " 824: 'hold',\n",
       " 825: 'hole',\n",
       " 826: 'holy',\n",
       " 827: 'home',\n",
       " 828: 'homosexual',\n",
       " 829: 'honda',\n",
       " 830: 'hope',\n",
       " 831: 'hospital',\n",
       " 832: 'host',\n",
       " 833: 'hot',\n",
       " 834: 'hour',\n",
       " 835: 'house',\n",
       " 836: 'houston',\n",
       " 837: 'how',\n",
       " 838: 'however',\n",
       " 839: 'huge',\n",
       " 840: 'human',\n",
       " 841: 'hundred',\n",
       " 842: 'hurt',\n",
       " 843: 'iastate',\n",
       " 844: 'ibm',\n",
       " 845: 'ice',\n",
       " 846: 'ide',\n",
       " 847: 'idea',\n",
       " 848: 'illegal',\n",
       " 849: 'illinois',\n",
       " 850: 'image',\n",
       " 851: 'imagine',\n",
       " 852: 'implementation',\n",
       " 853: 'important',\n",
       " 854: 'impossible',\n",
       " 855: 'inc',\n",
       " 856: 'include',\n",
       " 857: 'included',\n",
       " 858: 'includes',\n",
       " 859: 'including',\n",
       " 860: 'increase',\n",
       " 861: 'indeed',\n",
       " 862: 'independent',\n",
       " 863: 'index',\n",
       " 864: 'indiana',\n",
       " 865: 'individual',\n",
       " 866: 'industry',\n",
       " 867: 'info',\n",
       " 868: 'informatik',\n",
       " 869: 'information',\n",
       " 870: 'injury',\n",
       " 871: 'innocent',\n",
       " 872: 'input',\n",
       " 873: 'inside',\n",
       " 874: 'install',\n",
       " 875: 'installation',\n",
       " 876: 'installed',\n",
       " 877: 'instance',\n",
       " 878: 'instead',\n",
       " 879: 'institute',\n",
       " 880: 'instruction',\n",
       " 881: 'instrument',\n",
       " 882: 'insurance',\n",
       " 883: 'intel',\n",
       " 884: 'intended',\n",
       " 885: 'interest',\n",
       " 886: 'interested',\n",
       " 887: 'interesting',\n",
       " 888: 'interface',\n",
       " 889: 'internal',\n",
       " 890: 'international',\n",
       " 891: 'internet',\n",
       " 892: 'interpretation',\n",
       " 893: 'into',\n",
       " 894: 'involved',\n",
       " 895: 'isa',\n",
       " 896: 'isc',\n",
       " 897: 'islam',\n",
       " 898: 'islamic',\n",
       " 899: 'island',\n",
       " 900: 'isn',\n",
       " 901: 'israel',\n",
       " 902: 'israeli',\n",
       " 903: 'issue',\n",
       " 904: 'item',\n",
       " 905: 'itself',\n",
       " 906: 'jack',\n",
       " 907: 'james',\n",
       " 908: 'japanese',\n",
       " 909: 'jason',\n",
       " 910: 'jay',\n",
       " 911: 'jeff',\n",
       " 912: 'jesus',\n",
       " 913: 'jet',\n",
       " 914: 'jew',\n",
       " 915: 'jewish',\n",
       " 916: 'jim',\n",
       " 917: 'job',\n",
       " 918: 'joe',\n",
       " 919: 'john',\n",
       " 920: 'johnson',\n",
       " 921: 'jon',\n",
       " 922: 'jose',\n",
       " 923: 'joseph',\n",
       " 924: 'journal',\n",
       " 925: 'jpeg',\n",
       " 926: 'jpl',\n",
       " 927: 'judge',\n",
       " 928: 'june',\n",
       " 929: 'just',\n",
       " 930: 'justice',\n",
       " 931: 'keep',\n",
       " 932: 'keeping',\n",
       " 933: 'keith',\n",
       " 934: 'ken',\n",
       " 935: 'kent',\n",
       " 936: 'kept',\n",
       " 937: 'kevin',\n",
       " 938: 'key',\n",
       " 939: 'keyboard',\n",
       " 940: 'keywords',\n",
       " 941: 'kid',\n",
       " 942: 'kill',\n",
       " 943: 'killed',\n",
       " 944: 'killing',\n",
       " 945: 'kind',\n",
       " 946: 'king',\n",
       " 947: 'knew',\n",
       " 948: 'know',\n",
       " 949: 'knowing',\n",
       " 950: 'knowledge',\n",
       " 951: 'known',\n",
       " 952: 'koresh',\n",
       " 953: 'lab',\n",
       " 954: 'laboratory',\n",
       " 955: 'lack',\n",
       " 956: 'land',\n",
       " 957: 'language',\n",
       " 958: 'large',\n",
       " 959: 'larger',\n",
       " 960: 'larry',\n",
       " 961: 'laser',\n",
       " 962: 'last',\n",
       " 963: 'late',\n",
       " 964: 'later',\n",
       " 965: 'latest',\n",
       " 966: 'launch',\n",
       " 967: 'law',\n",
       " 968: 'lcs',\n",
       " 969: 'lead',\n",
       " 970: 'leader',\n",
       " 971: 'leaf',\n",
       " 972: 'league',\n",
       " 973: 'learn',\n",
       " 974: 'least',\n",
       " 975: 'leave',\n",
       " 976: 'lebanese',\n",
       " 977: 'led',\n",
       " 978: 'lee',\n",
       " 979: 'left',\n",
       " 980: 'legal',\n",
       " 981: 'legitimate',\n",
       " 982: 'let',\n",
       " 983: 'letter',\n",
       " 984: 'level',\n",
       " 985: 'lewis',\n",
       " 986: 'lib',\n",
       " 987: 'libertarian',\n",
       " 988: 'liberty',\n",
       " 989: 'library',\n",
       " 990: 'license',\n",
       " 991: 'lie',\n",
       " 992: 'life',\n",
       " 993: 'light',\n",
       " 994: 'like',\n",
       " 995: 'likely',\n",
       " 996: 'limit',\n",
       " 997: 'limited',\n",
       " 998: 'line',\n",
       " 999: 'link',\n",
       " ...}"
      ]
     },
     "execution_count": 9,
     "metadata": {},
     "output_type": "execute_result"
    }
   ],
   "source": [
    "token2idx = vectorizer.vocabulary_\n",
    "idx2token = {idx:token for token,idx in token2idx.items()}\n",
    "idx2token"
   ]
  },
  {
   "cell_type": "code",
   "execution_count": 10,
   "metadata": {},
   "outputs": [
    {
     "data": {
      "text/plain": [
       "array([2., 0., 0., ..., 1., 0., 0.])"
      ]
     },
     "execution_count": 10,
     "metadata": {},
     "output_type": "execute_result"
    }
   ],
   "source": [
    "#todense --get representation\n",
    "X_train = np.asarray(vectors_train.todense())\n",
    "X_val = np.asarray(vectors_val.todense())\n",
    "X_test = np.asarray(vectors_test.todense())\n",
    "X_train[0]"
   ]
  },
  {
   "cell_type": "code",
   "execution_count": 11,
   "metadata": {},
   "outputs": [
    {
     "data": {
      "image/png": "[encoded data removed]",
      "text/plain": [
       "<Figure size 432x288 with 1 Axes>"
      ]
     },
     "metadata": {},
     "output_type": "display_data"
    }
   ],
   "source": [
    "plt.plot(X_train[0])\n",
    "plt.show()"
   ]
  },
  {
   "cell_type": "code",
   "execution_count": null,
   "metadata": {},
   "outputs": [],
   "source": [
    "results = pd.DataFrame(matrix.toarray(), columns=vec.get_feature_names())\n",
    "results"
   ]
  },
  {
   "cell_type": "markdown",
   "metadata": {},
   "source": [
    "### Model Architecture\n",
    "---\n",
    "Basado en Variational Deep Semantic Hashing, una arquitectura de autoencoder no simétrico:\n",
    "\n",
    "Input(|V|) -> Relu(500 o 1000) -> Relu (500 o 1000) -> Dropout() -> Laten variable(32) (8-128)*2 -> Sampling -> Softmax(|V|)\n",
    "\n",
    "Hinton realiza lo mismo pero en modo espejo (simétrico).\n",
    "\n",
    "* Tensorflow: https://github.com/unsuthee/VariationalDeepSemanticHashing/blob/master/VDSH.py\n",
    "* PyTorch: https://github.com/unsuthee/SemanticHashingWeakSupervision"
   ]
  },
  {
   "cell_type": "code",
   "execution_count": 61,
   "metadata": {
    "scrolled": true
   },
   "outputs": [
    {
     "name": "stdout",
     "output_type": "stream",
     "text": [
      "pre-encoder network:\n",
      "_________________________________________________________________\n",
      "Layer (type)                 Output Shape              Param #   \n",
      "=================================================================\n",
      "dense_34 (Dense)             (None, 500)               1000500   \n",
      "_________________________________________________________________\n",
      "dense_35 (Dense)             (None, 500)               250500    \n",
      "=================================================================\n",
      "Total params: 1,251,000\n",
      "Trainable params: 1,251,000\n",
      "Non-trainable params: 0\n",
      "_________________________________________________________________\n",
      "generator network:\n",
      "_________________________________________________________________\n",
      "Layer (type)                 Output Shape              Param #   \n",
      "=================================================================\n",
      "dense_36 (Dense)             (None, 2000)              66000     \n",
      "=================================================================\n",
      "Total params: 66,000\n",
      "Trainable params: 66,000\n",
      "Non-trainable params: 0\n",
      "_________________________________________________________________\n",
      "__________________________________________________________________________________________________\n",
      "Layer (type)                    Output Shape         Param #     Connected to                     \n",
      "==================================================================================================\n",
      "input_36 (InputLayer)           (None, 2000)         0                                            \n",
      "__________________________________________________________________________________________________\n",
      "pre-encoder (Sequential)        (None, 500)          1251000     input_36[0][0]                   \n",
      "__________________________________________________________________________________________________\n",
      "z-mean (Dense)                  (None, 32)           16032       pre-encoder[1][0]                \n",
      "__________________________________________________________________________________________________\n",
      "z-log_sigma (Dense)             (None, 32)           16032       pre-encoder[1][0]                \n",
      "__________________________________________________________________________________________________\n",
      "sampled (Lambda)                (None, 32)           0           z-mean[0][0]                     \n",
      "                                                                 z-log_sigma[0][0]                \n",
      "__________________________________________________________________________________________________\n",
      "generator/decoder (Sequential)  (None, 2000)         66000       sampled[0][0]                    \n",
      "==================================================================================================\n",
      "Total params: 1,349,064\n",
      "Trainable params: 1,349,064\n",
      "Non-trainable params: 0\n",
      "__________________________________________________________________________________________________\n"
     ]
    }
   ],
   "source": [
    "def traditional_VAE(data_dim,Nb,units,layers_e,layers_d,opt='adam'):\n",
    "    pre_encoder = define_pre_encoder(data_dim, layers=layers_e,units=units)\n",
    "    print(\"pre-encoder network:\")\n",
    "    pre_encoder.summary()\n",
    "    generator = define_generator(Nb,data_dim,layers=layers_d,units=units)\n",
    "    print(\"generator network:\")\n",
    "    generator.summary()\n",
    "    \n",
    "    ## Encoder\n",
    "    x = Input(shape=(data_dim,))\n",
    "    hidden = pre_encoder(x)\n",
    "    z_mean = Dense(Nb,activation='linear', name='z-mean')(hidden)\n",
    "    z_log_sigma = Dense(Nb,activation='linear',name = 'z-log_sigma')(hidden)\n",
    "    encoder = Model(x, z_mean) # build a model to project inputs on the latent space\n",
    "\n",
    "    def sampling(args):\n",
    "        epsilon_std = 1.0\n",
    "        z_mean, z_log_sigma = args\n",
    "        epsilon = K.random_normal(shape=(K.shape(z_mean)[0], Nb),mean=0., stddev=epsilon_std)\n",
    "        return z_mean + K.exp(z_log_sigma) * epsilon #+sigma (desvest)\n",
    "    \n",
    "    ## Decoder\n",
    "    z_sampled = Lambda(sampling, output_shape=(Nb,), name='sampled')([z_mean, z_log_sigma])\n",
    "    output = generator(z_sampled)\n",
    "\n",
    "    def vae_loss(x, x_hat):\n",
    "        reconstruction_loss = keras.losses.categorical_crossentropy(x, x_hat)*data_dim \n",
    "        #reconstruction_loss = keras.losses.binary_crossentropy(x, x_hat)*data_dim \n",
    "\n",
    "        kl_loss = - 0.5 * K.sum(1 + 2*z_log_sigma - K.square(z_mean) - K.exp(2*z_log_sigma), axis=-1) #con varianza\n",
    "        return K.mean(reconstruction_loss  + kl_loss)\n",
    "\n",
    "    traditional_vae = Model(x, output)\n",
    "    traditional_vae.compile(optimizer=opt,loss=vae_loss)\n",
    "    return traditional_vae,encoder,generator\n",
    "\n",
    "traditional_vae,encoder_Tvae,generator_Tvae = traditional_VAE(X_train.shape[1],Nb=32,units=500,layers_e=2,layers_d=0)\n",
    "traditional_vae.summary()"
   ]
  },
  {
   "cell_type": "code",
   "execution_count": null,
   "metadata": {},
   "outputs": [],
   "source": [
    "#falta probar Bath normalization"
   ]
  },
  {
   "cell_type": "markdown",
   "metadata": {},
   "source": [
    "### Train details\n",
    "---\n",
    "\n",
    "Deep Semantic Variational Hashing:\n",
    "* Glorot initializer (Weights)\n",
    "* Adam Optimizer (step size 0.001)\n",
    "* Dropout (80%)-- overfitting\n",
    "* 25-30 epochs\n",
    "* batch size = 1 o 100\n",
    "\n",
    "Semantic Hashing:\n",
    "* Manual initializer (Weights) -- similar to as glorot\n",
    "* Optimizer SGD (lr = 0.1, momentum 0.9, weight decay 0.0002)\n",
    "* 50 epochs\n",
    "* batch size de 100"
   ]
  },
  {
   "cell_type": "code",
   "execution_count": null,
   "metadata": {},
   "outputs": [],
   "source": [
    "### Si representación es TF es necesario normalizar de alguna forma"
   ]
  },
  {
   "cell_type": "code",
   "execution_count": 49,
   "metadata": {},
   "outputs": [
    {
     "data": {
      "text/plain": [
       "[<matplotlib.lines.Line2D at 0x7f0ebd5dcf98>]"
      ]
     },
     "execution_count": 49,
     "metadata": {},
     "output_type": "execute_result"
    },
    {
     "data": {
      "image/png": "[encoded data removed]",
      "text/plain": [
       "<Figure size 432x288 with 1 Axes>"
      ]
     },
     "metadata": {},
     "output_type": "display_data"
    }
   ],
   "source": [
    "## normalize input?-- as images?\n",
    "X_train_input = X_train/np.max(X_train) #o max por fila? (axis=1)--> NO!\n",
    "X_val_input = X_val/np.max(X_train) #o max por fila? (axis=1)--> NO!\n",
    "plt.plot(X_train_input[0])"
   ]
  },
  {
   "cell_type": "code",
   "execution_count": 44,
   "metadata": {},
   "outputs": [
    {
     "data": {
      "text/plain": [
       "[<matplotlib.lines.Line2D at 0x7f0ee0416da0>]"
      ]
     },
     "execution_count": 44,
     "metadata": {},
     "output_type": "execute_result"
    },
    {
     "data": {
      "image/png": "[encoded data removed]",
      "text/plain": [
       "<Figure size 432x288 with 1 Axes>"
      ]
     },
     "metadata": {},
     "output_type": "display_data"
    }
   ],
   "source": [
    "##representacion soft ---mucho mejor!\n",
    "X_train_input = np.log(X_train+1)\n",
    "X_val_input = np.log(X_val+1)\n",
    "plt.plot(X_train_input[0])"
   ]
  },
  {
   "cell_type": "code",
   "execution_count": 63,
   "metadata": {
    "scrolled": true
   },
   "outputs": [
    {
     "name": "stdout",
     "output_type": "stream",
     "text": [
      "Train on 8485 samples, validate on 2829 samples\n",
      "Epoch 1/30\n",
      "8485/8485 [==============================] - 3s 340us/step - loss: 2415887.7223 - val_loss: 2162038.1509\n",
      "Epoch 2/30\n",
      "8485/8485 [==============================] - 1s 124us/step - loss: 2215236.6848 - val_loss: 2154647.2141\n",
      "Epoch 3/30\n",
      "8485/8485 [==============================] - 1s 124us/step - loss: 2211283.1357 - val_loss: 2146597.0214\n",
      "Epoch 4/30\n",
      "8485/8485 [==============================] - 1s 125us/step - loss: 2203000.6123 - val_loss: 2132723.3669\n",
      "Epoch 5/30\n",
      "8485/8485 [==============================] - 1s 123us/step - loss: 2190794.4286 - val_loss: 2119036.5942\n",
      "Epoch 6/30\n",
      "8485/8485 [==============================] - 1s 123us/step - loss: 2181109.0339 - val_loss: 2114574.8608\n",
      "Epoch 7/30\n",
      "8485/8485 [==============================] - 1s 123us/step - loss: 2178307.9462 - val_loss: 2111568.3821\n",
      "Epoch 8/30\n",
      "8485/8485 [==============================] - 1s 124us/step - loss: 2172879.0564 - val_loss: 2107067.5864\n",
      "Epoch 9/30\n",
      "8485/8485 [==============================] - 1s 122us/step - loss: 2169556.9379 - val_loss: 2106895.0837\n",
      "Epoch 10/30\n",
      "8485/8485 [==============================] - 1s 124us/step - loss: 2166985.0200 - val_loss: 2107012.2025\n",
      "Epoch 11/30\n",
      "8485/8485 [==============================] - 1s 123us/step - loss: 2167745.2391 - val_loss: 2107053.3593\n",
      "Epoch 12/30\n",
      "8485/8485 [==============================] - 1s 125us/step - loss: 2164692.6605 - val_loss: 2107914.0307\n",
      "Epoch 13/30\n",
      "8485/8485 [==============================] - 1s 123us/step - loss: 2162640.6889 - val_loss: 2105721.4889\n",
      "Epoch 14/30\n",
      "8485/8485 [==============================] - 1s 123us/step - loss: 2161549.1255 - val_loss: 2102904.6799\n",
      "Epoch 15/30\n",
      "8485/8485 [==============================] - 1s 122us/step - loss: 2155586.5646 - val_loss: 2099659.9724\n",
      "Epoch 16/30\n",
      "8485/8485 [==============================] - 1s 123us/step - loss: 2152706.9604 - val_loss: 2099780.4485\n",
      "Epoch 17/30\n",
      "8485/8485 [==============================] - 1s 124us/step - loss: 2151053.3119 - val_loss: 2096694.0170\n",
      "Epoch 18/30\n",
      "8485/8485 [==============================] - 1s 122us/step - loss: 2149489.5164 - val_loss: 2095024.8273\n",
      "Epoch 19/30\n",
      "8485/8485 [==============================] - 1s 122us/step - loss: 2147745.9919 - val_loss: 2094284.5682\n",
      "Epoch 20/30\n",
      "8485/8485 [==============================] - 1s 124us/step - loss: 2146315.6111 - val_loss: 2093530.2618\n",
      "Epoch 21/30\n",
      "8485/8485 [==============================] - 1s 123us/step - loss: 2145824.5489 - val_loss: 2091821.0447\n",
      "Epoch 22/30\n",
      "8485/8485 [==============================] - 1s 124us/step - loss: 2144743.9622 - val_loss: 2091282.9934\n",
      "Epoch 23/30\n",
      "8485/8485 [==============================] - 1s 124us/step - loss: 2143535.3685 - val_loss: 2089571.6190\n",
      "Epoch 24/30\n",
      "8485/8485 [==============================] - 1s 124us/step - loss: 2143210.4156 - val_loss: 2088124.2620\n",
      "Epoch 25/30\n",
      "8485/8485 [==============================] - 1s 123us/step - loss: 2140533.2856 - val_loss: 2090011.8135\n",
      "Epoch 26/30\n",
      "8485/8485 [==============================] - 1s 123us/step - loss: 2141394.0961 - val_loss: 2086452.9976\n",
      "Epoch 27/30\n",
      "8485/8485 [==============================] - 1s 125us/step - loss: 2139794.4530 - val_loss: 2086412.8697\n",
      "Epoch 28/30\n",
      "8485/8485 [==============================] - 1s 123us/step - loss: 2138294.8412 - val_loss: 2084153.6773\n",
      "Epoch 29/30\n",
      "8485/8485 [==============================] - 1s 123us/step - loss: 2137063.0033 - val_loss: 2084220.6259\n",
      "Epoch 30/30\n",
      "8485/8485 [==============================] - 1s 124us/step - loss: 2136350.1571 - val_loss: 2084923.2475\n"
     ]
    }
   ],
   "source": [
    "batch_size = 100\n",
    "epochs = 30\n",
    "hist = traditional_vae.fit(X_train_input, X_train, epochs=epochs, batch_size=batch_size\n",
    "                           ,validation_data=(X_val_input,X_val))"
   ]
  },
  {
   "cell_type": "code",
   "execution_count": 65,
   "metadata": {},
   "outputs": [
    {
     "data": {
      "image/png": "[encoded data removed]",
      "text/plain": [
       "<Figure size 432x288 with 1 Axes>"
      ]
     },
     "metadata": {},
     "output_type": "display_data"
    },
    {
     "data": {
      "text/plain": [
       "[<matplotlib.lines.Line2D at 0x7f0ecc7370b8>]"
      ]
     },
     "execution_count": 65,
     "metadata": {},
     "output_type": "execute_result"
    },
    {
     "data": {
      "image/png": "[encoded data removed]",
      "text/plain": [
       "<Figure size 432x288 with 1 Axes>"
      ]
     },
     "metadata": {},
     "output_type": "display_data"
    }
   ],
   "source": [
    "plt.plot(traditional_vae.predict(X_train_input)[0])\n",
    "plt.show()\n",
    "plt.plot(X_train[0])"
   ]
  },
  {
   "cell_type": "code",
   "execution_count": 51,
   "metadata": {},
   "outputs": [
    {
     "data": {
      "image/png": "[encoded data removed]",
      "text/plain": [
       "<Figure size 1008x432 with 1 Axes>"
      ]
     },
     "metadata": {},
     "output_type": "display_data"
    }
   ],
   "source": [
    "#curvas de entrenamiento\n",
    "history_dict = hist.history\n",
    "loss_values = history_dict['loss']\n",
    "val_loss_values = history_dict['val_loss']\n",
    "epochs = range(1, len(loss_values) + 1)\n",
    "\n",
    "plt.figure(figsize=(14,6))\n",
    "plt.plot(epochs, loss_values, 'bo-', label = \"Training set\")\n",
    "plt.plot(epochs, val_loss_values, 'g+-', label = \"Validation set\")\n",
    "plt.xlabel('Epochs')\n",
    "plt.ylabel('Loss')\n",
    "plt.legend(loc=\"center right\", fancybox= True)\n",
    "plt.title(\"Traditional VAE loss\")\n",
    "#plt.ylim(0)\n",
    "plt.show()"
   ]
  },
  {
   "cell_type": "code",
   "execution_count": 11,
   "metadata": {
    "scrolled": true
   },
   "outputs": [
    {
     "name": "stdout",
     "output_type": "stream",
     "text": [
      "pre-encoder network:\n",
      "_________________________________________________________________\n",
      "Layer (type)                 Output Shape              Param #   \n",
      "=================================================================\n",
      "dense_1 (Dense)              (None, 500)               1000500   \n",
      "_________________________________________________________________\n",
      "dense_2 (Dense)              (None, 500)               250500    \n",
      "=================================================================\n",
      "Total params: 1,251,000\n",
      "Trainable params: 1,251,000\n",
      "Non-trainable params: 0\n",
      "_________________________________________________________________\n",
      "generator network:\n",
      "_________________________________________________________________\n",
      "Layer (type)                 Output Shape              Param #   \n",
      "=================================================================\n",
      "dense_3 (Dense)              (None, 2000)              66000     \n",
      "=================================================================\n",
      "Total params: 66,000\n",
      "Trainable params: 66,000\n",
      "Non-trainable params: 0\n",
      "_________________________________________________________________\n",
      "_________________________________________________________________\n",
      "Layer (type)                 Output Shape              Param #   \n",
      "=================================================================\n",
      "input_3 (InputLayer)         (None, 2000)              0         \n",
      "_________________________________________________________________\n",
      "pre-encoder (Sequential)     (None, 500)               1251000   \n",
      "_________________________________________________________________\n",
      "logits-b (Dense)             (None, 32)                16032     \n",
      "_________________________________________________________________\n",
      "sampled (Lambda)             (None, 32)                0         \n",
      "_________________________________________________________________\n",
      "generator/decoder (Sequentia (None, 2000)              66000     \n",
      "=================================================================\n",
      "Total params: 1,333,032\n",
      "Trainable params: 1,333,032\n",
      "Non-trainable params: 0\n",
      "_________________________________________________________________\n"
     ]
    }
   ],
   "source": [
    "def sample_gumbel(shape,eps=K.epsilon()):\n",
    "    \"\"\"Inverse Sample function from Gumbel(0, 1)\"\"\"\n",
    "    U = K.random_uniform(shape, 0, 1)\n",
    "    return K.log(U + eps)- K.log(1-U + eps)\n",
    "    \n",
    "def binary_VAE(data_dim,Nb,units,layers_e,layers_d,opt='adam'):\n",
    "    pre_encoder = define_pre_encoder(data_dim, layers=layers_e,units=units)\n",
    "    print(\"pre-encoder network:\")\n",
    "    pre_encoder.summary()\n",
    "    generator = define_generator(Nb,data_dim,layers=layers_d,units=units)\n",
    "    print(\"generator network:\")\n",
    "    generator.summary()\n",
    "\n",
    "\n",
    "    tau = K.variable(5.0, name=\"temperature\") #hay que setearlo..\n",
    "\n",
    "    x = Input(shape=(data_dim,))\n",
    "    hidden = pre_encoder(x)\n",
    "    logits_b  = Dense(Nb, activation='linear', name='logits-b')(hidden) #log(p(b)/1-p(b))\n",
    "    #proba = np.exp(logits_b)/(1+np.exp(logits_b)) = sigmoidal(logits_b) <<<<<<<<<< recuepra probabilidad\n",
    "    #dist = Dense(Nb, activation='sigmoid')(hidden) #p(b) #otra forma de modelarlo\n",
    "    \n",
    "    encoder = Model(x, logits_b)\n",
    "\n",
    "    def sampling(aux):\n",
    "        #logits_b = K.log(aux/(1-aux) + K.epsilon() )\n",
    "        logits_b = aux\n",
    "        b = logits_b + sample_gumbel(K.shape(logits_b)) # logits + gumbel noise\n",
    "        return keras.activations.sigmoid( b/tau )\n",
    "\n",
    "    b_sampled = Lambda(sampling, output_shape=(Nb,), name='sampled')(logits_b)\n",
    "    output = generator(b_sampled)\n",
    "\n",
    "    def gumbel_loss(x, x_hat):\n",
    "        reconstruction_loss = keras.losses.categorical_crossentropy(x, x_hat)*data_dim\n",
    "\n",
    "        dist = keras.activations.sigmoid(logits_b) #q(b)\n",
    "        kl_disc_loss = Nb*np.log(2) + K.sum( dist*K.log(dist + K.epsilon()) + (1-dist)* K.log(1-dist + K.epsilon()),axis=1)\n",
    "        return reconstruction_loss  + kl_disc_loss\n",
    "    \n",
    "    binary_vae = Model(x, output)\n",
    "    binary_vae.compile(optimizer=opt, loss=gumbel_loss)\n",
    "    return binary_vae, encoder,generator\n",
    "\n",
    "binary_vae,encoder_Bvae,generator_Bvae = binary_VAE(X_train.shape[1],Nb=32,units=500,layers_e=2,layers_d=0)\n",
    "binary_vae.summary()"
   ]
  },
  {
   "cell_type": "code",
   "execution_count": 12,
   "metadata": {
    "scrolled": true
   },
   "outputs": [
    {
     "name": "stdout",
     "output_type": "stream",
     "text": [
      "Train on 8485 samples, validate on 2829 samples\n",
      "Epoch 1/30\n",
      "8485/8485 [==============================] - 3s 310us/step - loss: 2458933.5541 - val_loss: 2221927.0411\n",
      "Epoch 2/30\n",
      "8485/8485 [==============================] - 1s 111us/step - loss: 2233508.4748 - val_loss: 2165641.5098\n",
      "Epoch 3/30\n",
      "8485/8485 [==============================] - 1s 112us/step - loss: 2220847.0024 - val_loss: 2164046.4524\n",
      "Epoch 4/30\n",
      "8485/8485 [==============================] - 1s 112us/step - loss: 2220250.8228 - val_loss: 2162859.5604\n",
      "Epoch 5/30\n",
      "8485/8485 [==============================] - 1s 112us/step - loss: 2219321.2339 - val_loss: 2161363.2213\n",
      "Epoch 6/30\n",
      "8485/8485 [==============================] - 1s 113us/step - loss: 2217778.4667 - val_loss: 2160569.1989\n",
      "Epoch 7/30\n",
      "8485/8485 [==============================] - 1s 111us/step - loss: 2214890.1007 - val_loss: 2154160.2885\n",
      "Epoch 8/30\n",
      "8485/8485 [==============================] - 1s 112us/step - loss: 2212004.2908 - val_loss: 2155501.2159\n",
      "Epoch 9/30\n",
      "8485/8485 [==============================] - 1s 111us/step - loss: 2210096.4340 - val_loss: 2148993.9808\n",
      "Epoch 10/30\n",
      "8485/8485 [==============================] - 1s 112us/step - loss: 2202428.6794 - val_loss: 2139529.9496\n",
      "Epoch 11/30\n",
      "8485/8485 [==============================] - 1s 110us/step - loss: 2196903.6542 - val_loss: 2135042.8390\n",
      "Epoch 12/30\n",
      "8485/8485 [==============================] - 1s 111us/step - loss: 2188504.8391 - val_loss: 2123141.4305\n",
      "Epoch 13/30\n",
      "8485/8485 [==============================] - 1s 111us/step - loss: 2178439.1057 - val_loss: 2115275.7671\n",
      "Epoch 14/30\n",
      "8485/8485 [==============================] - 1s 113us/step - loss: 2172817.2320 - val_loss: 2111005.2798\n",
      "Epoch 15/30\n",
      "8485/8485 [==============================] - 1s 110us/step - loss: 2167943.0056 - val_loss: 2108597.3544\n",
      "Epoch 16/30\n",
      "8485/8485 [==============================] - 1s 112us/step - loss: 2163686.5006 - val_loss: 2101677.1323\n",
      "Epoch 17/30\n",
      "8485/8485 [==============================] - 1s 111us/step - loss: 2159053.9045 - val_loss: 2097350.0374\n",
      "Epoch 18/30\n",
      "8485/8485 [==============================] - 1s 112us/step - loss: 2154278.4963 - val_loss: 2093756.8247\n",
      "Epoch 19/30\n",
      "8485/8485 [==============================] - 1s 112us/step - loss: 2152714.5050 - val_loss: 2094077.8063\n",
      "Epoch 20/30\n",
      "8485/8485 [==============================] - 1s 112us/step - loss: 2153496.9850 - val_loss: 2092970.8995\n",
      "Epoch 21/30\n",
      "8485/8485 [==============================] - 1s 111us/step - loss: 2148163.7518 - val_loss: 2087300.3363\n",
      "Epoch 22/30\n",
      "8485/8485 [==============================] - 1s 111us/step - loss: 2144645.6975 - val_loss: 2084950.4133\n",
      "Epoch 23/30\n",
      "8485/8485 [==============================] - 1s 111us/step - loss: 2140036.4207 - val_loss: 2080505.8251\n",
      "Epoch 24/30\n",
      "8485/8485 [==============================] - 1s 110us/step - loss: 2137776.7959 - val_loss: 2079260.4514\n",
      "Epoch 25/30\n",
      "8485/8485 [==============================] - 1s 112us/step - loss: 2134807.0221 - val_loss: 2077059.2756\n",
      "Epoch 26/30\n",
      "8485/8485 [==============================] - 1s 111us/step - loss: 2133859.6957 - val_loss: 2075466.5798\n",
      "Epoch 27/30\n",
      "8485/8485 [==============================] - 1s 112us/step - loss: 2134722.9839 - val_loss: 2075994.7232\n",
      "Epoch 28/30\n",
      "8485/8485 [==============================] - 1s 112us/step - loss: 2129982.3084 - val_loss: 2071925.1319\n",
      "Epoch 29/30\n",
      "8485/8485 [==============================] - 1s 113us/step - loss: 2125626.0331 - val_loss: 2068415.8143\n",
      "Epoch 30/30\n",
      "8485/8485 [==============================] - 1s 111us/step - loss: 2123090.0421 - val_loss: 2065916.6044\n"
     ]
    }
   ],
   "source": [
    "batch_size = 100\n",
    "epochs = 30\n",
    "#le va mejor conel X_train real.. :o\n",
    "hist = binary_vae.fit(X_train, X_train, epochs=epochs, batch_size=batch_size\n",
    "                           ,validation_data=(X_val,X_val))"
   ]
  },
  {
   "cell_type": "code",
   "execution_count": 16,
   "metadata": {},
   "outputs": [
    {
     "data": {
      "image/png": "[encoded data removed]",
      "text/plain": [
       "<Figure size 1008x432 with 1 Axes>"
      ]
     },
     "metadata": {},
     "output_type": "display_data"
    }
   ],
   "source": [
    "#curvas de entrenamiento\n",
    "history_dict = hist.history\n",
    "loss_values = history_dict['loss']\n",
    "val_loss_values = history_dict['val_loss']\n",
    "epochs = range(1, len(loss_values) + 1)\n",
    "\n",
    "plt.figure(figsize=(14,6))\n",
    "plt.plot(epochs, loss_values, 'bo-', label = \"Training set\")\n",
    "plt.plot(epochs, val_loss_values, 'g+-', label = \"Validation set\")\n",
    "plt.xlabel('Epochs')\n",
    "plt.ylabel('Loss')\n",
    "plt.legend(loc=\"center right\", fancybox= True)\n",
    "plt.title(\"Binary VAE loss\")\n",
    "plt.show()"
   ]
  },
  {
   "cell_type": "code",
   "execution_count": null,
   "metadata": {},
   "outputs": [],
   "source": [
    "### binary vs traditional??"
   ]
  },
  {
   "cell_type": "markdown",
   "metadata": {},
   "source": [
    "### Results\n",
    "---\n",
    "Resultados y comparar"
   ]
  },
  {
   "cell_type": "code",
   "execution_count": 72,
   "metadata": {},
   "outputs": [],
   "source": [
    "class MedianHashing(object):\n",
    "    def __init__(self):\n",
    "        self.threshold = None\n",
    "        self.latent_dim = None\n",
    "    def fit(self, X):\n",
    "        self.threshold = np.median(X, axis=0)\n",
    "        self.latent_dim = X.shape[1]\n",
    "    def transform(self, X):\n",
    "        assert(X.shape[1] == self.latent_dim)\n",
    "        binary_code = np.zeros(X.shape)\n",
    "        for i in range(self.latent_dim):\n",
    "            binary_code[np.nonzero(X[:,i] < self.threshold[i]),i] = 0\n",
    "            binary_code[np.nonzero(X[:,i] >= self.threshold[i]),i] = 1\n",
    "        return binary_code.astype(int)\n",
    "    def fit_transform(self, X):\n",
    "        self.fit(X)\n",
    "        return self.transform(X)"
   ]
  },
  {
   "cell_type": "code",
   "execution_count": 66,
   "metadata": {},
   "outputs": [],
   "source": [
    "#load vae, encoder and generator\n",
    "\n",
    "encode_train = encoder_Tvae.predict(X_train_input)\n",
    "encode_val = encoder_Tvae.predict(X_val_input)"
   ]
  },
  {
   "cell_type": "code",
   "execution_count": 17,
   "metadata": {},
   "outputs": [
    {
     "data": {
      "text/plain": [
       "array([[100.81333 , 168.18793 ,  90.57231 , ...,  48.14125 ,  97.14548 ,\n",
       "          8.575363],\n",
       "       [358.82095 , 340.40793 , 308.1551  , ..., 138.39404 , 307.67084 ,\n",
       "         51.40844 ],\n",
       "       [144.347   ,  22.503386,  95.38135 , ...,  28.752346, 116.65926 ,\n",
       "        -10.647622],\n",
       "       ...,\n",
       "       [ 78.484215,  58.674458,  69.509895, ..., -52.031586,  74.122215,\n",
       "        -34.79749 ],\n",
       "       [283.15204 , 354.40414 , 250.60924 , ..., 138.37306 , 252.0063  ,\n",
       "         65.4917  ],\n",
       "       [ 90.861305,  33.298584,  80.75166 , ..., -69.698555,  85.666115,\n",
       "        -68.77654 ]], dtype=float32)"
      ]
     },
     "execution_count": 17,
     "metadata": {},
     "output_type": "execute_result"
    }
   ],
   "source": [
    "encode_train = encoder_Bvae.predict(X_train) #logits\n",
    "encode_val = encoder_Bvae.predict(X_val)\n",
    "encode_train"
   ]
  },
  {
   "cell_type": "markdown",
   "metadata": {},
   "source": [
    "### Proceso de evaluación\n",
    "---\n",
    "1. Calcular código hashing/binario de cada dato/documento\n",
    "2. Recuperar documentos basado en *match* perfecto o *top K* de distancia *hamming*\n",
    "3. Medir *precision* y *recall* en base a algún criterio de relevancia."
   ]
  },
  {
   "cell_type": "code",
   "execution_count": 164,
   "metadata": {},
   "outputs": [
    {
     "data": {
      "text/plain": [
       "array([[0, 0, 0, ..., 0, 0, 1],\n",
       "       [0, 0, 0, ..., 1, 0, 1],\n",
       "       [1, 1, 1, ..., 1, 1, 0],\n",
       "       ...,\n",
       "       [1, 1, 1, ..., 0, 1, 0],\n",
       "       [0, 0, 0, ..., 0, 0, 1],\n",
       "       [1, 1, 1, ..., 1, 1, 0]])"
      ]
     },
     "execution_count": 164,
     "metadata": {},
     "output_type": "execute_result"
    }
   ],
   "source": [
    "#para VAE tradicional\n",
    "median= MedianHashing()\n",
    "median.fit(encode_train)\n",
    "\n",
    "train_hash = median.transform(encode_train)\n",
    "val_hash = median.transform(encode_val)\n",
    "train_hash"
   ]
  },
  {
   "cell_type": "code",
   "execution_count": 18,
   "metadata": {},
   "outputs": [
    {
     "data": {
      "text/plain": [
       "array([[1, 1, 1, ..., 1, 1, 1],\n",
       "       [1, 1, 1, ..., 1, 1, 1],\n",
       "       [1, 1, 1, ..., 1, 1, 0],\n",
       "       ...,\n",
       "       [1, 1, 1, ..., 0, 1, 0],\n",
       "       [1, 1, 1, ..., 1, 1, 1],\n",
       "       [1, 1, 1, ..., 0, 1, 0]])"
      ]
     },
     "execution_count": 18,
     "metadata": {},
     "output_type": "execute_result"
    }
   ],
   "source": [
    "#para Binary VAE\n",
    "probas_train = keras.activations.sigmoid(encode_train).eval(session=K.get_session())\n",
    "probas_val = keras.activations.sigmoid(encode_val).eval(session=K.get_session())\n",
    "\n",
    "train_hash = (probas_train > 0.5)*1\n",
    "val_hash = (probas_val > 0.5)*1\n",
    "train_hash"
   ]
  },
  {
   "cell_type": "code",
   "execution_count": 19,
   "metadata": {
    "scrolled": true
   },
   "outputs": [
    {
     "data": {
      "text/plain": [
       "[array([0]), array([  1, 215])]"
      ]
     },
     "execution_count": 19,
     "metadata": {},
     "output_type": "execute_result"
    }
   ],
   "source": [
    "def get_similar(origen,destination,EM=True,K=100):\n",
    "    \"\"\"\n",
    "        Retrieve similar documents to the origen document inside the destination corpus (source)\n",
    "    \"\"\"\n",
    "    origen_similares = [] #indices\n",
    "    for dato_hash in origen:\n",
    "        hamming_distance = np.sum(dato_hash != destination,axis=1) #distancia de hamming (# bits distintos)\n",
    "        if EM: #match exacto\n",
    "            origen_similares.append( np.where(hamming_distance==0)[0] )\n",
    "        else: #topK\n",
    "            ordenados = np.argsort(hamming_distance) #indices\n",
    "            origen_similares.append(ordenados[:K]) \n",
    "        #ball radius?\n",
    "    return origen_similares\n",
    "       \n",
    "val_similares_val =  get_similar(val_hash,val_hash,EM=True)\n",
    "val_similares_val[:2]"
   ]
  },
  {
   "cell_type": "code",
   "execution_count": 22,
   "metadata": {},
   "outputs": [
    {
     "data": {
      "text/plain": [
       "[array([   0,  688,  247, 1696,  346, 2714,  864, 1848, 1588,  547, 2688,\n",
       "         802,  434,  172,  839,  812, 1074, 1505,  815, 1508, 1284,  474,\n",
       "         316,  212, 1687, 1741, 1064, 1645,   67, 1531,  268, 2733, 1549,\n",
       "        2064,  760,  222, 1876, 1210, 1695, 2198, 1450, 2301,  109, 1766,\n",
       "        2048,   90, 1748, 2044, 1463,  976,  445, 2263, 1670, 1472, 1112,\n",
       "         838,  433, 1796, 1254,  253, 1967,  250,   16, 1303, 1049, 2421,\n",
       "        2214,  743, 1373, 2468, 1311,  359, 1811, 2575, 2414, 1147,  164,\n",
       "        1605, 1652,  565, 1382, 2766, 1387,  546, 1710, 1417,  182, 2107,\n",
       "        2144,  580, 2487, 1442, 2128, 1557,  470, 1684,  842,  437, 2433,\n",
       "         306]),\n",
       " array([   1,  215, 2315,  265,  601, 1830, 2746, 2818,  320, 1454, 1107,\n",
       "        2768,  353, 1238, 2450, 1108,  442,  748, 1519,  751, 2228, 2339,\n",
       "        2418,  776, 1895, 1151,  422, 2358, 1139, 1555, 2169,   76, 1091,\n",
       "        2798, 1170,  286, 2310,  149,  230, 2224, 2086,  233, 2098, 2242,\n",
       "         208,  497,  245, 1471, 1709, 2568,  479, 2071, 2281, 2287, 1642,\n",
       "        1288, 2537, 1713, 2382,  263, 1809,  398, 1879, 1755, 1017,  315,\n",
       "         909,   26,   40, 1608,   21, 1950,  876, 1055,   14,  984, 1667,\n",
       "         880, 2019,  390,   22,  639, 2223,   24, 1496,  650, 1300, 2540,\n",
       "        1292,  364, 2431, 1499, 2671, 2153, 2305,  317, 2202, 1430, 2711,\n",
       "        1432])]"
      ]
     },
     "execution_count": 22,
     "metadata": {},
     "output_type": "execute_result"
    }
   ],
   "source": [
    "val_similares_val =  get_similar(val_hash,val_hash,EM=False,K=100)\n",
    "val_similares_val[:2]"
   ]
  },
  {
   "cell_type": "code",
   "execution_count": null,
   "metadata": {},
   "outputs": [],
   "source": [
    "### verificar eliminarse a si mismo"
   ]
  },
  {
   "cell_type": "code",
   "execution_count": 23,
   "metadata": {
    "scrolled": true
   },
   "outputs": [
    {
     "name": "stdout",
     "output_type": "stream",
     "text": [
      "Precision (query: validation, source: validation)  0.20968540120183787\n",
      "Recall    (query: validation, source: validation)  0.14592857080923233\n"
     ]
    }
   ],
   "source": [
    "#build similar or compared in labels\n",
    "\n",
    "#for now compare labels\n",
    "def measure_metrics(data_similars,labels_data):\n",
    "    if type(labels_train[0]) == list:\n",
    "        count_labels = {label:np.sum([label in aux for aux in labels_data]) for label in labels}\n",
    "    else:\n",
    "        count_labels = {label:np.sum(labels_data == label) for label in labels} #{label: labels_data.count(label) for label in labels}\n",
    "    precision = 0.\n",
    "    recall =0.\n",
    "    for similars, label in zip(data_similars,labels_data): #source de donde se extrajo info\n",
    "        if len(similars) == 0: #no encontro similares:\n",
    "            continue\n",
    "        labels_retrieve = labels_data[similars] \n",
    "        if type(labels_retrieve[0]) == list: #multiple classes\n",
    "            tp = np.sum([len(set(label)& set(aux))>=1 for aux in labels_retrieve]) #al menos 1 clase en comun --quizas variar\n",
    "            recall += tp/np.sum([count_labels[aux] for aux in label ]) #cuenta todos los label del dato\n",
    "        else: #only one class\n",
    "            tp = np.sum(labels_retrieve == label) #true positive\n",
    "            recall += tp/count_labels[label]\n",
    "        precision += tp/len(similars)\n",
    "    \n",
    "    return precision/len(labels_data), recall/len(labels_data)\n",
    "\n",
    "precision,recall = measure_metrics(val_similares_val,labels_val)\n",
    "print(\"Precision (query: validation, source: validation) \",precision)\n",
    "print(\"Recall    (query: validation, source: validation) \",recall)"
   ]
  },
  {
   "cell_type": "code",
   "execution_count": 55,
   "metadata": {},
   "outputs": [
    {
     "name": "stdout",
     "output_type": "stream",
     "text": [
      "Precision (query: validation, source: train)  0.051495713208285984\n",
      "Recall    (query: validation, source: train)  0.0014018853690238682\n"
     ]
    }
   ],
   "source": [
    "val_similares_train =  get_similar(val_hash,train_hash,EM=True)\n",
    "precision,recall = measure_metrics(val_similares_train,labels_train)\n",
    "print(\"Precision (query: validation, source: train) \",precision)\n",
    "print(\"Recall    (query: validation, source: train) \",recall)"
   ]
  },
  {
   "cell_type": "markdown",
   "metadata": {},
   "source": [
    "Le va muy mal extraer similares de otro conjunto---> ### NO SE HACE!!!\n"
   ]
  },
  {
   "cell_type": "code",
   "execution_count": 24,
   "metadata": {},
   "outputs": [
    {
     "name": "stdout",
     "output_type": "stream",
     "text": [
      "Precision (query: train, source: train)  0.36263265728457866\n",
      "Recall    (query: train, source: train)  0.025485836223582338\n"
     ]
    }
   ],
   "source": [
    "train_similares_train =  get_similar(train_hash,train_hash,EM=True)\n",
    "precision,recall = measure_metrics(train_similares_train,labels_train)\n",
    "print(\"Precision (query: train, source: train) \",precision)\n",
    "print(\"Recall    (query: train, source: train) \",recall)"
   ]
  },
  {
   "cell_type": "code",
   "execution_count": null,
   "metadata": {},
   "outputs": [],
   "source": []
  },
  {
   "cell_type": "code",
   "execution_count": null,
   "metadata": {},
   "outputs": [],
   "source": []
  },
  {
   "cell_type": "code",
   "execution_count": null,
   "metadata": {},
   "outputs": [],
   "source": [
    "## measure test!\n",
    "\n",
    "#para traditional vae\n",
    "encode_test = encoder_Tvae.predict(X_test_input)\n",
    "test_hash = median.transform(encode_test)"
   ]
  },
  {
   "cell_type": "code",
   "execution_count": null,
   "metadata": {},
   "outputs": [],
   "source": [
    "test_similares_test =  get_similar(test_hash,test_hash,EM=True)\n",
    "precision,recall = measure_metrics(test_similares_test,labels_test)\n",
    "print(\"Precision (query: test, source: test) \",precision)\n",
    "print(\"Recall    (query: test, source: test) \",recall)"
   ]
  },
  {
   "cell_type": "markdown",
   "metadata": {},
   "source": [
    "### Analysis\n",
    "---\n",
    "Intepretar los códigos binarios en cada dataset"
   ]
  },
  {
   "cell_type": "code",
   "execution_count": 25,
   "metadata": {},
   "outputs": [
    {
     "name": "stdout",
     "output_type": "stream",
     "text": [
      "Realizado\n"
     ]
    }
   ],
   "source": [
    "##valores unicos de hash? distribucion de casillas\n",
    "def hash_analysis(hash_data):\n",
    "    hash_string = []\n",
    "    for valor in hash_data:\n",
    "        hash_string.append(str(valor)[1:-1].replace(' ',''))\n",
    "    valores_unicos = set(hash_string)\n",
    "    count_hash = {valor: hash_string.count(valor) for valor in valores_unicos}\n",
    "    return valores_unicos, count_hash\n",
    "valores_unicos, count_hash =  hash_analysis(train_hash)\n",
    "print(\"Realizado\")"
   ]
  },
  {
   "cell_type": "code",
   "execution_count": 26,
   "metadata": {},
   "outputs": [
    {
     "name": "stdout",
     "output_type": "stream",
     "text": [
      "Cantidad de memorias en tabla hash:  4294967296\n",
      "Entrenamiento----\n"
     ]
    },
    {
     "data": {
      "image/png": "[encoded data removed]",
      "text/plain": [
       "<Figure size 1008x432 with 1 Axes>"
      ]
     },
     "metadata": {},
     "output_type": "display_data"
    },
    {
     "name": "stdout",
     "output_type": "stream",
     "text": [
      "Cantidad de memorias ocupadas:  1079\n",
      "Validación-----\n"
     ]
    },
    {
     "data": {
      "image/png": "[encoded data removed]",
      "text/plain": [
       "<Figure size 1008x432 with 1 Axes>"
      ]
     },
     "metadata": {},
     "output_type": "display_data"
    },
    {
     "name": "stdout",
     "output_type": "stream",
     "text": [
      "Cantidad de memorias ocupadas:  649\n"
     ]
    }
   ],
   "source": [
    "print(\"Cantidad de memorias en tabla hash: \",2**train_hash.shape[1])\n",
    "\n",
    "valores_unicos, count_hash =  hash_analysis(train_hash)\n",
    "print(\"Entrenamiento----\")\n",
    "plt.figure(figsize=(14,6))\n",
    "plt.plot(sorted(list(count_hash.values()))[::-1],'bo-')\n",
    "plt.title(\"Cantidad de datos por celda/memoria en tabla hash\")\n",
    "#plt.xlim(-1)\n",
    "plt.show()\n",
    "print(\"Cantidad de memorias ocupadas: \",len(valores_unicos))\n",
    "\n",
    "valores_unicos, count_hash =  hash_analysis(val_hash)\n",
    "print(\"Validación-----\")\n",
    "plt.figure(figsize=(14,6))\n",
    "plt.plot(sorted(list(count_hash.values()))[::-1],'bo-')\n",
    "plt.title(\"Cantidad de datos por celda/memoria en tabla hash\")\n",
    "#plt.xlim(-1)\n",
    "plt.show()\n",
    "print(\"Cantidad de memorias ocupadas: \",len(valores_unicos))"
   ]
  },
  {
   "cell_type": "code",
   "execution_count": null,
   "metadata": {},
   "outputs": [],
   "source": []
  },
  {
   "cell_type": "code",
   "execution_count": 27,
   "metadata": {
    "scrolled": true
   },
   "outputs": [
    {
     "data": {
      "text/plain": [
       "array([[0.02808813, 0.00137749, 0.00036851, ..., 0.0003828 , 0.00026953,\n",
       "        0.00025382],\n",
       "       [0.03010422, 0.00054505, 0.00028742, ..., 0.00036479, 0.00020167,\n",
       "        0.00023646]], dtype=float32)"
      ]
     },
     "execution_count": 27,
     "metadata": {},
     "output_type": "execute_result"
    }
   ],
   "source": [
    "#generar un dato\n",
    "Nb = generator_Bvae.input_shape[1]\n",
    "\n",
    "#----- dada una probabilidad sobre el codigo\n",
    "def sampling(aux):\n",
    "    logits_b = K.log(aux/(1-aux) + K.epsilon() )\n",
    "    b = logits_b + sample_gumbel(K.shape(logits_b)) # logits + gumbel noise\n",
    "    return keras.activations.sigmoid( b/1 )\n",
    "\n",
    "proba_b = np.random.rand(2,Nb).astype('float32')\n",
    "b = sampling(proba_b).eval(session=K.get_session())\n",
    "\n",
    "#----- dado un codigo binario\n",
    "#b = np.ones((2,Nb))\n",
    "\n",
    "reconstruct_data = generator_Bvae.predict(b)\n",
    "reconstruct_data"
   ]
  },
  {
   "cell_type": "code",
   "execution_count": 28,
   "metadata": {},
   "outputs": [
    {
     "data": {
      "text/plain": [
       "['geb', 'henry', 'pitt', 'gordon', 'riding']"
      ]
     },
     "execution_count": 28,
     "metadata": {},
     "output_type": "execute_result"
    }
   ],
   "source": [
    "def get_topk_probably_words(probabilities,K):\n",
    "    order_vocabulary =  np.argsort(probabilities) \n",
    "    tokens_probables = order_vocabulary[:K]  #token mas probables\n",
    "    return list(map(lambda x:idx2token[x] ,tokens_probables))\n",
    "get_topk_probably_words(reconstruct_data[0],5)"
   ]
  },
  {
   "cell_type": "code",
   "execution_count": 29,
   "metadata": {},
   "outputs": [
    {
     "data": {
      "text/plain": [
       "['brave',\n",
       " 'honda',\n",
       " 'spec',\n",
       " 'diamond',\n",
       " 'sweden',\n",
       " 'jay',\n",
       " 'roman',\n",
       " 'showed',\n",
       " 'cat',\n",
       " 'cache']"
      ]
     },
     "execution_count": 29,
     "metadata": {},
     "output_type": "execute_result"
    }
   ],
   "source": [
    "#----- dado un codigo binario\n",
    "b = np.zeros((1,Nb))\n",
    "b[0,0] = 1 #el primer bit\n",
    "\n",
    "reconstruct_data = generator_Bvae.predict(b)\n",
    "get_topk_probably_words(reconstruct_data[0],K=10)"
   ]
  },
  {
   "cell_type": "code",
   "execution_count": null,
   "metadata": {},
   "outputs": [],
   "source": [
    "#iterar sobre el resto de los bits y ver sus palabras mas frecuentes"
   ]
  },
  {
   "cell_type": "code",
   "execution_count": null,
   "metadata": {},
   "outputs": [],
   "source": [
    "#combinar algunos para ver que pasa (los que se vean prometedores)"
   ]
  },
  {
   "cell_type": "code",
   "execution_count": null,
   "metadata": {},
   "outputs": [],
   "source": []
  }
 ],
 "metadata": {
  "kernelspec": {
   "display_name": "Python [conda env:py3]",
   "language": "python",
   "name": "conda-env-py3-py"
  },
  "language_info": {
   "codemirror_mode": {
    "name": "ipython",
    "version": 3
   },
   "file_extension": ".py",
   "mimetype": "text/x-python",
   "name": "python",
   "nbconvert_exporter": "python",
   "pygments_lexer": "ipython3",
   "version": "3.5.5"
  }
 },
 "nbformat": 4,
 "nbformat_minor": 2
}
