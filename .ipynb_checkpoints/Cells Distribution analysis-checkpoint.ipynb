{
 "cells": [
  {
   "cell_type": "code",
   "execution_count": 1,
   "metadata": {
    "collapsed": false
   },
   "outputs": [
    {
     "name": "stderr",
     "output_type": "stream",
     "text": [
      "/home/fmena/anaconda3/envs/tesis/lib/python3.5/site-packages/h5py/__init__.py:34: FutureWarning: Conversion of the second argument of issubdtype from `float` to `np.floating` is deprecated. In future, it will be treated as `np.float64 == np.dtype(float).type`.\n",
      "  from ._conv import register_converters as _register_converters\n",
      "Using TensorFlow backend.\n",
      "/home/fmena/.local/lib/python3.5/site-packages/tensorflow/python/framework/dtypes.py:469: FutureWarning: Passing (type, 1) or '1type' as a synonym of type is deprecated; in a future version of numpy, it will be understood as (type, (1,)) / '(1,)type'.\n",
      "  _np_qint8 = np.dtype([(\"qint8\", np.int8, 1)])\n",
      "/home/fmena/.local/lib/python3.5/site-packages/tensorflow/python/framework/dtypes.py:470: FutureWarning: Passing (type, 1) or '1type' as a synonym of type is deprecated; in a future version of numpy, it will be understood as (type, (1,)) / '(1,)type'.\n",
      "  _np_quint8 = np.dtype([(\"quint8\", np.uint8, 1)])\n",
      "/home/fmena/.local/lib/python3.5/site-packages/tensorflow/python/framework/dtypes.py:471: FutureWarning: Passing (type, 1) or '1type' as a synonym of type is deprecated; in a future version of numpy, it will be understood as (type, (1,)) / '(1,)type'.\n",
      "  _np_qint16 = np.dtype([(\"qint16\", np.int16, 1)])\n",
      "/home/fmena/.local/lib/python3.5/site-packages/tensorflow/python/framework/dtypes.py:472: FutureWarning: Passing (type, 1) or '1type' as a synonym of type is deprecated; in a future version of numpy, it will be understood as (type, (1,)) / '(1,)type'.\n",
      "  _np_quint16 = np.dtype([(\"quint16\", np.uint16, 1)])\n",
      "/home/fmena/.local/lib/python3.5/site-packages/tensorflow/python/framework/dtypes.py:473: FutureWarning: Passing (type, 1) or '1type' as a synonym of type is deprecated; in a future version of numpy, it will be understood as (type, (1,)) / '(1,)type'.\n",
      "  _np_qint32 = np.dtype([(\"qint32\", np.int32, 1)])\n",
      "/home/fmena/.local/lib/python3.5/site-packages/tensorflow/python/framework/dtypes.py:476: FutureWarning: Passing (type, 1) or '1type' as a synonym of type is deprecated; in a future version of numpy, it will be understood as (type, (1,)) / '(1,)type'.\n",
      "  np_resource = np.dtype([(\"resource\", np.ubyte, 1)])\n"
     ]
    },
    {
     "name": "stdout",
     "output_type": "stream",
     "text": [
      "[nltk_data] Downloading package reuters to /home/fmena/nltk_data...\n",
      "[nltk_data]   Package reuters is already up-to-date!\n",
      "[nltk_data] Downloading package wordnet to /home/fmena/nltk_data...\n",
      "[nltk_data]   Package wordnet is already up-to-date!\n"
     ]
    }
   ],
   "source": [
    "import numpy as np\n",
    "import keras,gc, os, time, sys, nltk\n",
    "from keras.layers import *\n",
    "from keras.models import Sequential,Model\n",
    "from keras import backend as K\n",
    "from astropy.table import Table\n",
    "import matplotlib.pyplot as plt\n",
    "from scipy.special import expit\n",
    "import seaborn as sns\n",
    "import pandas as pd\n",
    "from scipy.io import loadmat\n",
    "nltk.download('reuters')\n",
    "nltk.download('wordnet')\n",
    "%matplotlib inline\n",
    "\n",
    "from base_networks import *\n",
    "from utils import check_availability, load_imgs_mask\n",
    "from utils import get_topK_labels,set_newlabel_list, enmask_data\n",
    "\n",
    "np.random.seed(20)"
   ]
  },
  {
   "cell_type": "code",
   "execution_count": 2,
   "metadata": {
    "collapsed": true
   },
   "outputs": [],
   "source": [
    "def plot_cells_distribution(Nb,train_hash,test_hash=[]):\n",
    "    print(\"Cantidad de memorias en tabla hash: \",2**Nb)\n",
    "\n",
    "    valores_unicos, count_hash =  hash_analysis(train_hash)\n",
    "    print(\"Entrenamiento----\")\n",
    "    print(\"Cantidad de datos a llenar la tabla hash: \",train_hash.shape[0])\n",
    "    plt.figure(figsize=(14,4))\n",
    "    plt.plot(sorted(list(count_hash.values()))[::-1],'bo-')\n",
    "    plt.title(\"Cantidad de datos por celda/memoria en tabla hash\")\n",
    "    plt.show()\n",
    "    print(\"Cantidad de memorias ocupadas: \",len(valores_unicos))\n",
    "    if len(test_hash) != 0:\n",
    "        valores_unicos, count_hash =  hash_analysis(test_hash)\n",
    "        print(\"Pruebas-----\")\n",
    "        print(\"Cantidad de datos a llenar la tabla hash: \",test_hash.shape[0])\n",
    "        plt.figure(figsize=(14,4))\n",
    "        plt.plot(sorted(list(count_hash.values()))[::-1],'bo-')\n",
    "        plt.title(\"Cantidad de datos por celda/memoria en tabla hash\")\n",
    "        plt.show()\n",
    "        print(\"Cantidad de memorias ocupadas: \",len(valores_unicos))\n",
    "        \n",
    "def hash_analysis(hash_data):\n",
    "    hash_string = []\n",
    "    for valor in hash_data:\n",
    "        hash_string.append(str(valor)[1:-1].replace(' ',''))\n",
    "    valores_unicos = set(hash_string)\n",
    "    count_hash = {valor: hash_string.count(valor) for valor in valores_unicos}\n",
    "    return valores_unicos, count_hash\n",
    "\n",
    "\n",
    "def measure_metrics(hash_data):\n",
    "    valores_unicos, count_hash =  hash_analysis(hash_data)\n",
    "    N_data, B_data = hash_data.shape\n",
    "    \n",
    "    N_hash = 2.**B_data\n",
    "    N_hash_used = len(list(valores_unicos))\n",
    "    N_hash_empty = N_hash-N_hash_used\n",
    "\n",
    "    top10_dis = sorted(list(count_hash.values()))[::-1][:10]\n",
    "    mean_N_xcell = np.mean(list(count_hash.values()))\n",
    "    return N_data, N_hash, N_hash_used, N_hash_empty, top10_dis,mean_N_xcell\n",
    "\n",
    "def compare_cells_dist(train_hash_, train_hash_B, test_hash_, test_hash_B):\n",
    "    N_data = []\n",
    "    N_hash = []\n",
    "    N_hash_used = []\n",
    "    Np_hash_used = []\n",
    "    N_hash_empty = []\n",
    "    Np_hash_empty = []\n",
    "    top10_dis = []\n",
    "    mean_N_xcell = []\n",
    "    \n",
    "    n, a, b, c, d,e = measure_metrics(train_hash_)\n",
    "    N_data.append(n)\n",
    "    N_hash.append(a)\n",
    "    N_hash_used.append(b)\n",
    "    Np_hash_used.append(b/n)\n",
    "    N_hash_empty.append(c)\n",
    "    Np_hash_empty.append(c/a)\n",
    "    top10_dis.append(d)\n",
    "    mean_N_xcell.append(e)\n",
    "    \n",
    "    n, a, b, c, d, e = measure_metrics(train_hash_B)\n",
    "    N_data.append(n)\n",
    "    N_hash.append(a)\n",
    "    N_hash_used.append(b)\n",
    "    Np_hash_used.append(b/n)\n",
    "    N_hash_empty.append(c)\n",
    "    Np_hash_empty.append(c/a)\n",
    "    top10_dis.append(d)\n",
    "    mean_N_xcell.append(e)\n",
    "    \n",
    "    n, a, b, c, d, e = measure_metrics(test_hash_)\n",
    "    N_data.append(n)\n",
    "    N_hash.append(a)\n",
    "    N_hash_used.append(b)\n",
    "    Np_hash_used.append(b/n)\n",
    "    N_hash_empty.append(c)\n",
    "    Np_hash_empty.append(c/a)\n",
    "    top10_dis.append(d)\n",
    "    mean_N_xcell.append(e)\n",
    "    \n",
    "    n, a, b, c, d, e = measure_metrics(test_hash_B)\n",
    "    N_data.append(n)\n",
    "    N_hash.append(a)\n",
    "    N_hash_used.append(b)\n",
    "    Np_hash_used.append(b/n)\n",
    "    N_hash_empty.append(c)\n",
    "    Np_hash_empty.append(c/a)\n",
    "    top10_dis.append(d)\n",
    "    mean_N_xcell.append(e)\n",
    "    \n",
    "    df = pd.DataFrame({\"#cells\":N_hash, \"#data\":N_data, \"#empty cells\":N_hash_empty, \n",
    "                      \"#empty cells(%)\":Np_hash_empty, \"#used cells/#data\":Np_hash_used, \n",
    "                      \"top10\":top10_dis, \"mean #data x cell\":mean_N_xcell})\n",
    "    df[\"Type\"] = [\"VDSH train\",\"B-VAE train\", \"VDSH test\",\"B-VAE test\"]\n",
    "\n",
    "    return df\n",
    "\n",
    "from utils import calculate_hash, compare_cells_plot"
   ]
  },
  {
   "cell_type": "markdown",
   "metadata": {},
   "source": [
    "### Choose load data"
   ]
  },
  {
   "cell_type": "code",
   "execution_count": 66,
   "metadata": {
    "collapsed": false
   },
   "outputs": [
    {
     "name": "stdout",
     "output_type": "stream",
     "text": [
      "Cantidad de datos Entrenamiento:  11016\n",
      "Cantidad de datos Validación:  3667\n",
      "Cantidad de datos Pruebas:  3668\n"
     ]
    }
   ],
   "source": [
    "name_dat = \"20News\"\n",
    "\n",
    "from sklearn.datasets import fetch_20newsgroups\n",
    "newsgroups_t = fetch_20newsgroups(subset='train')\n",
    "labels = newsgroups_t.target_names\n",
    "\n",
    "from utils import Load_Dataset\n",
    "\n",
    "filename = 'Data/ng20.tfidf.mat'\n",
    "data = Load_Dataset(filename)\n",
    "\n",
    "X_train_input = data[\"train\"]\n",
    "X_train = X_train_input \n",
    "X_val_input = data[\"cv\"]\n",
    "X_val = X_val_input \n",
    "X_test_input = data[\"test\"]\n",
    "X_test = X_test_input\n",
    "labels_train = np.asarray([labels[value.argmax(axis=-1)] for value in data[\"gnd_train\"]])\n",
    "labels_val = np.asarray([labels[value.argmax(axis=-1)] for value in data[\"gnd_cv\"]])\n",
    "labels_test = np.asarray([labels[value.argmax(axis=-1)] for value in data[\"gnd_test\"]])\n",
    "\n",
    "\n",
    "print(\"Cantidad de datos Entrenamiento: \",len(labels_train))\n",
    "print(\"Cantidad de datos Validación: \",len(labels_val))\n",
    "print(\"Cantidad de datos Pruebas: \",len(labels_test))"
   ]
  },
  {
   "cell_type": "code",
   "execution_count": 73,
   "metadata": {
    "collapsed": false
   },
   "outputs": [
    {
     "name": "stdout",
     "output_type": "stream",
     "text": [
      "Cantidad de datos Entrenamiento:  7752\n",
      "Cantidad de datos Validación:  964\n",
      "Cantidad de datos Pruebas:  967\n"
     ]
    }
   ],
   "source": [
    "name_dat = \"Reuters\"\n",
    "labels = ['a','b','c','d','e','f','e','g','h','i','j','k','l','m','n','o','p','q','r','s']\n",
    "\n",
    "filename = 'Data/reuters.tfidf.mat'\n",
    "data = Load_Dataset(filename)\n",
    "\n",
    "X_train_input = data[\"train\"]\n",
    "X_train = X_train_input \n",
    "X_val_input = data[\"cv\"]\n",
    "X_val = X_val_input \n",
    "X_test_input = data[\"test\"]\n",
    "X_test = X_test_input\n",
    "\n",
    "labels = np.asarray(labels)\n",
    "labels_train = np.asarray([labels[value.astype(bool)] for value in data[\"gnd_train\"]])\n",
    "labels_val = np.asarray([labels[value.astype(bool)] for value in data[\"gnd_cv\"]])\n",
    "labels_test = np.asarray([labels[value.astype(bool)] for value in data[\"gnd_test\"]])\n",
    "\n",
    "print(\"Cantidad de datos Entrenamiento: \",len(labels_train))\n",
    "print(\"Cantidad de datos Validación: \",len(labels_val))\n",
    "print(\"Cantidad de datos Pruebas: \",len(labels_test))"
   ]
  },
  {
   "cell_type": "code",
   "execution_count": 78,
   "metadata": {
    "collapsed": false
   },
   "outputs": [
    {
     "name": "stdout",
     "output_type": "stream",
     "text": [
      "Cantidad de datos Entrenamiento:  21286\n",
      "Cantidad de datos Validación:  3498\n",
      "Cantidad de datos Pruebas:  3498\n"
     ]
    }
   ],
   "source": [
    "name_dat = \"TMC\"\n",
    "\n",
    "labels = ['a','b','c','d','e','f','e','g','h','i','j','k','l','m','n','o','p','q','r','s','t','u']\n",
    "\n",
    "filename = 'Data/tmc.tfidf.mat'\n",
    "data = Load_Dataset(filename)\n",
    "\n",
    "X_train_input = data[\"train\"]\n",
    "X_train = X_train_input \n",
    "X_val_input = data[\"cv\"]\n",
    "X_val = X_val_input \n",
    "X_test_input = data[\"test\"]\n",
    "X_test = X_test_input\n",
    "\n",
    "labels = np.asarray(labels)\n",
    "labels_train = np.asarray([labels[value.astype(bool)] for value in data[\"gnd_train\"]])\n",
    "labels_val = np.asarray([labels[value.astype(bool)] for value in data[\"gnd_cv\"]])\n",
    "labels_test = np.asarray([labels[value.astype(bool)] for value in data[\"gnd_test\"]])\n",
    "\n",
    "print(\"Cantidad de datos Entrenamiento: \",len(labels_train))\n",
    "print(\"Cantidad de datos Validación: \",len(labels_val))\n",
    "print(\"Cantidad de datos Pruebas: \",len(labels_test))"
   ]
  },
  {
   "cell_type": "code",
   "execution_count": 83,
   "metadata": {
    "collapsed": false
   },
   "outputs": [
    {
     "name": "stdout",
     "output_type": "stream",
     "text": [
      "Datos de entrenamiento:  10060\n",
      "Datos de pruebas:  2280\n",
      "Cantidad de datos Entrenamiento:  9054\n",
      "Cantidad de datos Validación:  1006\n",
      "Cantidad de datos Pruebas:  2280\n"
     ]
    },
    {
     "name": "stderr",
     "output_type": "stream",
     "text": [
      "/home/fmena/.local/lib/python3.5/site-packages/sklearn/feature_extraction/text.py:507: UserWarning: The parameter 'token_pattern' will not be used since 'tokenizer' is not None'\n",
      "  warnings.warn(\"The parameter 'token_pattern' will not be used\"\n"
     ]
    },
    {
     "name": "stdout",
     "output_type": "stream",
     "text": [
      "CPU times: user 1.56 s, sys: 0 ns, total: 1.56 s\n",
      "Wall time: 1.55 s\n"
     ]
    },
    {
     "data": {
      "image/png": "[encoded data removed]",
      "text/plain": [
       "<matplotlib.figure.Figure at 0x7f8c0b691748>"
      ]
     },
     "metadata": {},
     "output_type": "display_data"
    }
   ],
   "source": [
    "name_dat = \"Snippets\"\n",
    "\n",
    "def read_file(archivo,symb=' '):\n",
    "    with open(archivo,'r') as f:\n",
    "        lineas = f.readlines()\n",
    "        tokens_f = [linea.strip().split(symb) for linea in lineas]\n",
    "        labels = [tokens[-1] for tokens in tokens_f]\n",
    "        tokens = [' '.join(tokens[:-1]) for tokens in tokens_f]\n",
    "    return labels,tokens\n",
    "labels_t,texts_t = read_file(\"Data/data-web-snippets/train.txt\")\n",
    "labels_test,texts_test = read_file(\"Data/data-web-snippets/test.txt\")\n",
    "print(\"Datos de entrenamiento: \",len(texts_t))\n",
    "print(\"Datos de pruebas: \",len(texts_test))\n",
    "\n",
    "labels = list(set(labels_t))\n",
    "\n",
    "from sklearn.model_selection import train_test_split\n",
    "labels_t = np.asarray(labels_t)\n",
    "labels_test = np.asarray(labels_test)\n",
    "texts_train,texts_val,labels_train,labels_val  = train_test_split(texts_t,labels_t,random_state=20,test_size=0.1)\n",
    "\n",
    "print(\"Cantidad de datos Entrenamiento: \",len(texts_train))\n",
    "print(\"Cantidad de datos Validación: \",len(texts_val))\n",
    "print(\"Cantidad de datos Pruebas: \",len(texts_test))\n",
    "\n",
    "\n",
    "from sklearn.feature_extraction.text import TfidfVectorizer\n",
    "from nltk.stem.snowball import SnowballStemmer\n",
    "from nltk.stem import WordNetLemmatizer \n",
    "tokenizer = TfidfVectorizer().build_tokenizer()\n",
    "stemmer = SnowballStemmer(\"english\") \n",
    "lemmatizer = WordNetLemmatizer()\n",
    "\n",
    "\"\"\"Extract features from raw input\"\"\"\n",
    "def preProcess(s): #String processor\n",
    "    return s.lower().strip().strip('-').strip('_')\n",
    "def number_normalize(doc):\n",
    "    results = []\n",
    "    for token in tokenizer(doc):\n",
    "        token_pro = preProcess(token)\n",
    "        if len(token_pro) != 0 and not token_pro[0].isdigit():\n",
    "            results.append(token_pro)\n",
    "    return results\n",
    "def stemmed_words(doc):\n",
    "    results = []\n",
    "    for token in tokenizer(doc):\n",
    "        pre_pro = preProcess(token)\n",
    "        #token_pro = stemmer.stem(pre_pro) #aumenta x10 el tiempo de procesamiento\n",
    "        token_pro = lemmatizer.lemmatize(pre_pro) #so can explain/interpretae -- aumenta x5 el tiempo de proce\n",
    "        if len(token_pro) > 2 and not token_pro[0].isdigit(): #elimina palabra largo menor a 2\n",
    "            results.append(token_pro)\n",
    "    return results\n",
    "\n",
    "def get_transform_representation(mode, analizer,min_count,max_feat):\n",
    "    smooth_idf_b = False\n",
    "    use_idf_b = False\n",
    "    binary_b = False\n",
    "\n",
    "    if mode == 'binary':\n",
    "        binary_b = True\n",
    "    elif mode == 'tf':     \n",
    "        pass #default is tf\n",
    "    elif mode == 'tf-idf':\n",
    "        use_idf_b = True\n",
    "        smooth_idf_b = True #inventa 1 conteo imaginario (como priors)--laplace smoothing\n",
    "    return TfidfVectorizer(stop_words='english',tokenizer=analizer,min_df=min_count, max_df=0.8, max_features=max_feat\n",
    "                                ,binary=binary_b, use_idf=use_idf_b, smooth_idf=smooth_idf_b,norm=None\n",
    "                                  ,ngram_range=(1, 3)) \n",
    "\n",
    "min_count = 1 #default = 1\n",
    "max_feat = 10000 #Best: 10000 -- Hinton (2000)\n",
    "vectorizer = get_transform_representation(\"tf\", stemmed_words,min_count,max_feat)\n",
    "\n",
    "%time vectorizer.fit(texts_train)\n",
    "vectors_train = vectorizer.transform(texts_train)\n",
    "vectors_val = vectorizer.transform(texts_val)\n",
    "vectors_test = vectorizer.transform(texts_test)\n",
    "\n",
    "token2idx = vectorizer.vocabulary_\n",
    "idx2token = {idx:token for token,idx in token2idx.items()}\n",
    "\n",
    "\n",
    "\n",
    "#todense --get representation\n",
    "X_train = np.asarray(vectors_train.todense())\n",
    "X_val = np.asarray(vectors_val.todense())\n",
    "X_test = np.asarray(vectors_test.todense())\n",
    "del vectors_train,vectors_val,vectors_test#,vectors_train2,vectors_val2,vectors_test2\n",
    "gc.collect()\n",
    "\n",
    "\n",
    "##representacion soft para TF ---mucho mejor!\n",
    "X_train_input = np.log(X_train+1) \n",
    "X_val_input = np.log(X_val+1) \n",
    "X_test_input = np.log(X_test+1) \n",
    "plt.plot(X_train_input[0])\n",
    "plt.show()"
   ]
  },
  {
   "cell_type": "markdown",
   "metadata": {},
   "source": [
    "#### Para texto"
   ]
  },
  {
   "cell_type": "code",
   "execution_count": 84,
   "metadata": {
    "collapsed": false
   },
   "outputs": [
    {
     "name": "stderr",
     "output_type": "stream",
     "text": [
      "/home/fmena/anaconda3/envs/tesis/lib/python3.5/site-packages/ipykernel/__main__.py:2: RuntimeWarning: invalid value encountered in true_divide\n",
      "  from ipykernel import kernelapp as app\n",
      "/home/fmena/anaconda3/envs/tesis/lib/python3.5/site-packages/ipykernel/__main__.py:3: RuntimeWarning: invalid value encountered in true_divide\n",
      "  app.launch_new_instance()\n",
      "/home/fmena/anaconda3/envs/tesis/lib/python3.5/site-packages/ipykernel/__main__.py:4: RuntimeWarning: invalid value encountered in true_divide\n"
     ]
    },
    {
     "name": "stdout",
     "output_type": "stream",
     "text": [
      "Output target normalizado en dataset  Snippets\n"
     ]
    },
    {
     "data": {
      "text/plain": [
       "4935"
      ]
     },
     "execution_count": 84,
     "metadata": {},
     "output_type": "execute_result"
    }
   ],
   "source": [
    "#outputs as probabolities -- normalized over datasets..\n",
    "X_train = X_train/X_train.sum(axis=-1,keepdims=True) \n",
    "X_val = X_val/X_val.sum(axis=-1,keepdims=True)\n",
    "X_test = X_test/X_test.sum(axis=-1,keepdims=True)\n",
    "print(\"Output target normalizado en dataset \",name_dat)\n",
    "\n",
    "X_train[np.isnan(X_train)] = 0\n",
    "X_val[np.isnan(X_val)] = 0\n",
    "X_test[np.isnan(X_test)] = 0\n",
    "\n",
    "X_total_input = np.concatenate((X_train_input,X_val_input),axis=0)\n",
    "X_total = np.concatenate((X_train,X_val),axis=0)\n",
    "labels_total = np.concatenate((labels_train,labels_val),axis=0)\n",
    "del X_train_input, X_train, X_val, X_val_input\n",
    "gc.collect()"
   ]
  },
  {
   "cell_type": "code",
   "execution_count": null,
   "metadata": {
    "collapsed": true
   },
   "outputs": [],
   "source": []
  },
  {
   "cell_type": "code",
   "execution_count": 3,
   "metadata": {
    "collapsed": false
   },
   "outputs": [
    {
     "data": {
      "text/plain": [
       "(70000, 512)"
      ]
     },
     "execution_count": 3,
     "metadata": {},
     "output_type": "execute_result"
    }
   ],
   "source": [
    "name_dat = \"MNIST\"\n",
    "\n",
    "(_, aux_t), (_, aux_test) = keras.datasets.mnist.load_data()\n",
    "labels = [\"0\", \"1\", \"2\", \"3\", \"4\", \"5\", \"6\", \"7\", \"8\", \"9\"]\n",
    "labels_t = np.asarray([labels[value] for value in aux_t])\n",
    "labels_test = np.asarray([labels[value] for value in aux_test])\n",
    "labels_t = np.concatenate((labels_t,labels_test),axis=0)\n",
    "\n",
    "X_t = np.load(\"../AUX/VGG_128/mnist_VGG_avg.npy\")\n",
    "X_t.shape"
   ]
  },
  {
   "cell_type": "code",
   "execution_count": 9,
   "metadata": {
    "collapsed": false
   },
   "outputs": [
    {
     "data": {
      "text/plain": [
       "(60000, 512)"
      ]
     },
     "execution_count": 9,
     "metadata": {},
     "output_type": "execute_result"
    }
   ],
   "source": [
    "name_dat = \"CIFAR-10\"\n",
    "\n",
    "(_, aux_t), (_, aux_test) = keras.datasets.cifar10.load_data()\n",
    "\n",
    "labels = [\"airplane\", \"automobile\",\"bird\", \"cat\",\"deer\",\"dog\",\"frog\",\"horse\",\"ship\",\"truck\"]\n",
    "labels_t = np.asarray([labels[value[0]] for value in aux_t])\n",
    "labels_test = np.asarray([labels[value[0]] for value in aux_test])\n",
    "labels_t = np.concatenate((labels_t,labels_test),axis=0)\n",
    "\n",
    "X_t = np.load(\"../AUX/VGG_224/cifar10_VGG_avg.npy\") #mejora\n",
    "X_t.shape"
   ]
  },
  {
   "cell_type": "code",
   "execution_count": 14,
   "metadata": {
    "collapsed": false
   },
   "outputs": [
    {
     "name": "stdout",
     "output_type": "stream",
     "text": [
      "Cantidad de labels:  81\n",
      "Cantidad de objetos:  169500\n",
      "category with most data (sky) has = 61066, the top-K category (mountain) has = 4232\n",
      "Cantidad de objetos:  158383\n"
     ]
    },
    {
     "data": {
      "text/plain": [
       "(158383, 512)"
      ]
     },
     "execution_count": 14,
     "metadata": {},
     "output_type": "execute_result"
    }
   ],
   "source": [
    "name_dat = \"Nus-Wide\"\n",
    "\n",
    "folder = \"../Dataset_NUSWIDE/\"\n",
    "mask_av = np.loadtxt(\"./Data/\"+name_dat+\"_mask_avail.txt\").astype(bool)\n",
    "\n",
    "labels = pd.read_csv(folder+'Concepts81.txt',header=None).values.reshape(1,-1)[0]\n",
    "print(\"Cantidad de labels: \",len(labels) )\n",
    "\n",
    "labels_t = [[] for _ in range(269648)]\n",
    "for concept in labels:\n",
    "    aux = pd.read_csv(folder+\"Groundtruth/AllLabels/Labels_\"+concept+\".txt\",header=None)\n",
    "    indexs_true = aux.loc[(aux==1).values[:,0]].index\n",
    "    \n",
    "    for value in indexs_true:\n",
    "        labels_t[value].append(concept)\n",
    "        \n",
    "labels_t = enmask_data(labels_t, mask_av)\n",
    "N_total = len(labels_t)\n",
    "print(\"Cantidad de objetos: \",N_total )\n",
    "\n",
    "new_labels = get_topK_labels(labels_t, labels, K=21)\n",
    "\n",
    "labels_t = set_newlabel_list(new_labels, labels_t)\n",
    "labels = new_labels\n",
    "# y si quedan datos sin clase?\n",
    "mask_used_t = np.asarray(list(map(len,labels_t))) != 0\n",
    "\n",
    "labels_t = enmask_data(labels_t, mask_used_t)\n",
    "print(\"Cantidad de objetos: \", len(labels_t) )\n",
    "\n",
    "X_t = np.load(\"../AUX/VGG_224/nuswide_VGG_avg.npy\")\n",
    "X_t.shape"
   ]
  },
  {
   "cell_type": "markdown",
   "metadata": {},
   "source": [
    "#### Para imagenes"
   ]
  },
  {
   "cell_type": "code",
   "execution_count": 15,
   "metadata": {
    "collapsed": false
   },
   "outputs": [
    {
     "name": "stdout",
     "output_type": "stream",
     "text": [
      "Cantidad de datos Entrenamiento:  156283\n",
      "Cantidad de datos Pruebas:  2100\n"
     ]
    }
   ],
   "source": [
    "from utils import sample_test_mask\n",
    "mask_train = sample_test_mask(labels_t, N=100)\n",
    "\n",
    "## creat test como dicen...\n",
    "X_test = X_t[~mask_train]\n",
    "X_t = X_t[mask_train]\n",
    "labels_test = enmask_data(labels_t, ~mask_train)\n",
    "labels_t = enmask_data(labels_t, mask_train)\n",
    "\n",
    "gc.collect()\n",
    "print(\"Cantidad de datos Entrenamiento: \",len(X_t))\n",
    "print(\"Cantidad de datos Pruebas: \",len(X_test))\n",
    "\n",
    "\n",
    "from sklearn.preprocessing import StandardScaler\n",
    "std = StandardScaler(with_mean=True, with_std=True)\n",
    "std.fit(X_t)\n",
    "\n",
    "X_total = std.transform(X_t)\n",
    "X_test = std.transform(X_test)\n",
    "\n",
    "X_total_input = X_total\n",
    "X_test_input = X_test"
   ]
  },
  {
   "cell_type": "markdown",
   "metadata": {},
   "source": [
    "## load model"
   ]
  },
  {
   "cell_type": "code",
   "execution_count": 16,
   "metadata": {
    "collapsed": false,
    "scrolled": true
   },
   "outputs": [
    {
     "name": "stdout",
     "output_type": "stream",
     "text": [
      "VGG\n",
      "_________________________________________________________________\n",
      "Layer (type)                 Output Shape              Param #   \n",
      "=================================================================\n",
      "input_9 (InputLayer)         (None, 512)               0         \n",
      "_________________________________________________________________\n",
      "sequential_6 (Sequential)    (None, 500)               511000    \n",
      "_________________________________________________________________\n",
      "logits-b (Dense)             (None, 32)                16032     \n",
      "=================================================================\n",
      "Total params: 527,032\n",
      "Trainable params: 525,032\n",
      "Non-trainable params: 2,000\n",
      "_________________________________________________________________\n"
     ]
    },
    {
     "name": "stderr",
     "output_type": "stream",
     "text": [
      "/home/fmena/.local/lib/python3.5/site-packages/keras/models.py:251: UserWarning: No training configuration found in save file: the model was *not* compiled. Compile it manually.\n",
      "  warnings.warn('No training configuration found in save file: '\n"
     ]
    }
   ],
   "source": [
    "if \"mnist\" in name_dat.lower() or \"cifar\" in name_dat.lower() or \"nus-wide\" in name_dat.lower():\n",
    "    type_n = \"VGG\"\n",
    "else:\n",
    "    type_n = \"TFIDF\"\n",
    "\n",
    "print(type_n)\n",
    "\n",
    "BITS_S = 32\n",
    "\n",
    "##load model\n",
    "encoder_Tvae = keras.models.load_model(\"saved_models/\"+name_dat+\"_VAE_\"+str(BITS_S)+\"b_E_\"+type_n+\"_B?.h5\")\n",
    "encoder_Bvae = keras.models.load_model(\"saved_models/\"+name_dat+\"_BVAE_\"+str(BITS_S)+\"b_E_\"+type_n+\"_B?.h5\")\n",
    "encoder_Bvae.summary()"
   ]
  },
  {
   "cell_type": "code",
   "execution_count": null,
   "metadata": {
    "collapsed": true
   },
   "outputs": [],
   "source": []
  },
  {
   "cell_type": "code",
   "execution_count": 17,
   "metadata": {
    "collapsed": false
   },
   "outputs": [
    {
     "name": "stdout",
     "output_type": "stream",
     "text": [
      "Numero de Bits=  32\n"
     ]
    }
   ],
   "source": [
    "print(\"Numero de Bits= \",BITS_S)\n",
    "\n",
    "train_hash_ = calculate_hash(encoder_Tvae.predict(X_total_input), from_probas=False)\n",
    "test_hash_ = calculate_hash(encoder_Tvae.predict(X_test_input),  from_probas=False)\n",
    "\n",
    "train_hash_B = calculate_hash(encoder_Bvae.predict(X_total_input), from_probas=True)\n",
    "test_hash_B = calculate_hash(encoder_Bvae.predict(X_test_input),  from_probas=True)"
   ]
  },
  {
   "cell_type": "code",
   "execution_count": null,
   "metadata": {
    "collapsed": true
   },
   "outputs": [],
   "source": []
  },
  {
   "cell_type": "code",
   "execution_count": 72,
   "metadata": {
    "collapsed": false
   },
   "outputs": [
    {
     "name": "stdout",
     "output_type": "stream",
     "text": [
      "20News\n"
     ]
    },
    {
     "data": {
      "text/html": [
       "<div>\n",
       "<style scoped>\n",
       "    .dataframe tbody tr th:only-of-type {\n",
       "        vertical-align: middle;\n",
       "    }\n",
       "\n",
       "    .dataframe tbody tr th {\n",
       "        vertical-align: top;\n",
       "    }\n",
       "\n",
       "    .dataframe thead th {\n",
       "        text-align: right;\n",
       "    }\n",
       "</style>\n",
       "<table border=\"1\" class=\"dataframe\">\n",
       "  <thead>\n",
       "    <tr style=\"text-align: right;\">\n",
       "      <th></th>\n",
       "      <th>#cells</th>\n",
       "      <th>#data</th>\n",
       "      <th>#empty cells</th>\n",
       "      <th>#empty cells(%)</th>\n",
       "      <th>#used cells/#data</th>\n",
       "      <th>mean #data x cell</th>\n",
       "      <th>top10</th>\n",
       "      <th>Type</th>\n",
       "    </tr>\n",
       "  </thead>\n",
       "  <tbody>\n",
       "    <tr>\n",
       "      <th>0</th>\n",
       "      <td>4.294967e+09</td>\n",
       "      <td>14683</td>\n",
       "      <td>4.294954e+09</td>\n",
       "      <td>0.999997</td>\n",
       "      <td>0.885241</td>\n",
       "      <td>1.129635</td>\n",
       "      <td>[72, 30, 19, 17, 16, 15, 15, 15, 15, 14]</td>\n",
       "      <td>VDSH train</td>\n",
       "    </tr>\n",
       "    <tr>\n",
       "      <th>1</th>\n",
       "      <td>4.294967e+09</td>\n",
       "      <td>14683</td>\n",
       "      <td>4.294953e+09</td>\n",
       "      <td>0.999997</td>\n",
       "      <td>0.939862</td>\n",
       "      <td>1.063986</td>\n",
       "      <td>[12, 11, 11, 10, 8, 7, 7, 7, 7, 6]</td>\n",
       "      <td>B-VAE train</td>\n",
       "    </tr>\n",
       "    <tr>\n",
       "      <th>2</th>\n",
       "      <td>4.294967e+09</td>\n",
       "      <td>3668</td>\n",
       "      <td>4.294964e+09</td>\n",
       "      <td>0.999999</td>\n",
       "      <td>0.928571</td>\n",
       "      <td>1.076923</td>\n",
       "      <td>[20, 12, 8, 8, 7, 7, 7, 5, 5, 5]</td>\n",
       "      <td>VDSH test</td>\n",
       "    </tr>\n",
       "    <tr>\n",
       "      <th>3</th>\n",
       "      <td>4.294967e+09</td>\n",
       "      <td>3668</td>\n",
       "      <td>4.294964e+09</td>\n",
       "      <td>0.999999</td>\n",
       "      <td>0.979008</td>\n",
       "      <td>1.021442</td>\n",
       "      <td>[5, 5, 4, 4, 3, 3, 3, 3, 3, 2]</td>\n",
       "      <td>B-VAE test</td>\n",
       "    </tr>\n",
       "  </tbody>\n",
       "</table>\n",
       "</div>"
      ],
      "text/plain": [
       "         #cells  #data  #empty cells  #empty cells(%)  #used cells/#data  \\\n",
       "0  4.294967e+09  14683  4.294954e+09         0.999997           0.885241   \n",
       "1  4.294967e+09  14683  4.294953e+09         0.999997           0.939862   \n",
       "2  4.294967e+09   3668  4.294964e+09         0.999999           0.928571   \n",
       "3  4.294967e+09   3668  4.294964e+09         0.999999           0.979008   \n",
       "\n",
       "   mean #data x cell                                     top10         Type  \n",
       "0           1.129635  [72, 30, 19, 17, 16, 15, 15, 15, 15, 14]   VDSH train  \n",
       "1           1.063986        [12, 11, 11, 10, 8, 7, 7, 7, 7, 6]  B-VAE train  \n",
       "2           1.076923          [20, 12, 8, 8, 7, 7, 7, 5, 5, 5]    VDSH test  \n",
       "3           1.021442            [5, 5, 4, 4, 3, 3, 3, 3, 3, 2]   B-VAE test  "
      ]
     },
     "execution_count": 72,
     "metadata": {},
     "output_type": "execute_result"
    }
   ],
   "source": [
    "#plot together--\n",
    "print(name_dat)\n",
    "compare_cells_dist(train_hash_, train_hash_B, test_hash_, test_hash_B)"
   ]
  },
  {
   "cell_type": "code",
   "execution_count": 77,
   "metadata": {
    "collapsed": false
   },
   "outputs": [
    {
     "name": "stdout",
     "output_type": "stream",
     "text": [
      "Reuters\n"
     ]
    },
    {
     "data": {
      "text/html": [
       "<div>\n",
       "<style scoped>\n",
       "    .dataframe tbody tr th:only-of-type {\n",
       "        vertical-align: middle;\n",
       "    }\n",
       "\n",
       "    .dataframe tbody tr th {\n",
       "        vertical-align: top;\n",
       "    }\n",
       "\n",
       "    .dataframe thead th {\n",
       "        text-align: right;\n",
       "    }\n",
       "</style>\n",
       "<table border=\"1\" class=\"dataframe\">\n",
       "  <thead>\n",
       "    <tr style=\"text-align: right;\">\n",
       "      <th></th>\n",
       "      <th>#cells</th>\n",
       "      <th>#data</th>\n",
       "      <th>#empty cells</th>\n",
       "      <th>#empty cells(%)</th>\n",
       "      <th>#used cells/#data</th>\n",
       "      <th>mean #data x cell</th>\n",
       "      <th>top10</th>\n",
       "      <th>Type</th>\n",
       "    </tr>\n",
       "  </thead>\n",
       "  <tbody>\n",
       "    <tr>\n",
       "      <th>0</th>\n",
       "      <td>4.294967e+09</td>\n",
       "      <td>8716</td>\n",
       "      <td>4.294961e+09</td>\n",
       "      <td>0.999998</td>\n",
       "      <td>0.761817</td>\n",
       "      <td>1.312651</td>\n",
       "      <td>[63, 60, 56, 39, 27, 23, 22, 18, 16, 16]</td>\n",
       "      <td>VDSH train</td>\n",
       "    </tr>\n",
       "    <tr>\n",
       "      <th>1</th>\n",
       "      <td>4.294967e+09</td>\n",
       "      <td>8716</td>\n",
       "      <td>4.294960e+09</td>\n",
       "      <td>0.999998</td>\n",
       "      <td>0.821363</td>\n",
       "      <td>1.217488</td>\n",
       "      <td>[39, 36, 26, 22, 20, 19, 18, 14, 13, 13]</td>\n",
       "      <td>B-VAE train</td>\n",
       "    </tr>\n",
       "    <tr>\n",
       "      <th>2</th>\n",
       "      <td>4.294967e+09</td>\n",
       "      <td>967</td>\n",
       "      <td>4.294966e+09</td>\n",
       "      <td>1.000000</td>\n",
       "      <td>0.880041</td>\n",
       "      <td>1.136310</td>\n",
       "      <td>[15, 12, 8, 6, 5, 5, 4, 4, 4, 3]</td>\n",
       "      <td>VDSH test</td>\n",
       "    </tr>\n",
       "    <tr>\n",
       "      <th>3</th>\n",
       "      <td>4.294967e+09</td>\n",
       "      <td>967</td>\n",
       "      <td>4.294966e+09</td>\n",
       "      <td>1.000000</td>\n",
       "      <td>0.942089</td>\n",
       "      <td>1.061471</td>\n",
       "      <td>[10, 4, 4, 3, 3, 3, 2, 2, 2, 2]</td>\n",
       "      <td>B-VAE test</td>\n",
       "    </tr>\n",
       "  </tbody>\n",
       "</table>\n",
       "</div>"
      ],
      "text/plain": [
       "         #cells  #data  #empty cells  #empty cells(%)  #used cells/#data  \\\n",
       "0  4.294967e+09   8716  4.294961e+09         0.999998           0.761817   \n",
       "1  4.294967e+09   8716  4.294960e+09         0.999998           0.821363   \n",
       "2  4.294967e+09    967  4.294966e+09         1.000000           0.880041   \n",
       "3  4.294967e+09    967  4.294966e+09         1.000000           0.942089   \n",
       "\n",
       "   mean #data x cell                                     top10         Type  \n",
       "0           1.312651  [63, 60, 56, 39, 27, 23, 22, 18, 16, 16]   VDSH train  \n",
       "1           1.217488  [39, 36, 26, 22, 20, 19, 18, 14, 13, 13]  B-VAE train  \n",
       "2           1.136310          [15, 12, 8, 6, 5, 5, 4, 4, 4, 3]    VDSH test  \n",
       "3           1.061471           [10, 4, 4, 3, 3, 3, 2, 2, 2, 2]   B-VAE test  "
      ]
     },
     "execution_count": 77,
     "metadata": {},
     "output_type": "execute_result"
    }
   ],
   "source": [
    "#plot together--\n",
    "print(name_dat)\n",
    "compare_cells_dist(train_hash_, train_hash_B, test_hash_, test_hash_B)"
   ]
  },
  {
   "cell_type": "code",
   "execution_count": 82,
   "metadata": {
    "collapsed": false
   },
   "outputs": [
    {
     "name": "stdout",
     "output_type": "stream",
     "text": [
      "TMC\n"
     ]
    },
    {
     "data": {
      "text/html": [
       "<div>\n",
       "<style scoped>\n",
       "    .dataframe tbody tr th:only-of-type {\n",
       "        vertical-align: middle;\n",
       "    }\n",
       "\n",
       "    .dataframe tbody tr th {\n",
       "        vertical-align: top;\n",
       "    }\n",
       "\n",
       "    .dataframe thead th {\n",
       "        text-align: right;\n",
       "    }\n",
       "</style>\n",
       "<table border=\"1\" class=\"dataframe\">\n",
       "  <thead>\n",
       "    <tr style=\"text-align: right;\">\n",
       "      <th></th>\n",
       "      <th>#cells</th>\n",
       "      <th>#data</th>\n",
       "      <th>#empty cells</th>\n",
       "      <th>#empty cells(%)</th>\n",
       "      <th>#used cells/#data</th>\n",
       "      <th>mean #data x cell</th>\n",
       "      <th>top10</th>\n",
       "      <th>Type</th>\n",
       "    </tr>\n",
       "  </thead>\n",
       "  <tbody>\n",
       "    <tr>\n",
       "      <th>0</th>\n",
       "      <td>4.294967e+09</td>\n",
       "      <td>24784</td>\n",
       "      <td>4.294947e+09</td>\n",
       "      <td>0.999995</td>\n",
       "      <td>0.823031</td>\n",
       "      <td>1.215021</td>\n",
       "      <td>[25, 21, 20, 20, 20, 19, 17, 16, 15, 14]</td>\n",
       "      <td>VDSH train</td>\n",
       "    </tr>\n",
       "    <tr>\n",
       "      <th>1</th>\n",
       "      <td>4.294967e+09</td>\n",
       "      <td>24784</td>\n",
       "      <td>4.294944e+09</td>\n",
       "      <td>0.999995</td>\n",
       "      <td>0.935725</td>\n",
       "      <td>1.068690</td>\n",
       "      <td>[13, 13, 12, 10, 9, 9, 7, 6, 6, 6]</td>\n",
       "      <td>B-VAE train</td>\n",
       "    </tr>\n",
       "    <tr>\n",
       "      <th>2</th>\n",
       "      <td>4.294967e+09</td>\n",
       "      <td>3498</td>\n",
       "      <td>4.294964e+09</td>\n",
       "      <td>0.999999</td>\n",
       "      <td>0.925100</td>\n",
       "      <td>1.080964</td>\n",
       "      <td>[6, 6, 6, 5, 5, 5, 5, 4, 4, 4]</td>\n",
       "      <td>VDSH test</td>\n",
       "    </tr>\n",
       "    <tr>\n",
       "      <th>3</th>\n",
       "      <td>4.294967e+09</td>\n",
       "      <td>3498</td>\n",
       "      <td>4.294964e+09</td>\n",
       "      <td>0.999999</td>\n",
       "      <td>0.978845</td>\n",
       "      <td>1.021612</td>\n",
       "      <td>[6, 4, 3, 2, 2, 2, 2, 2, 2, 2]</td>\n",
       "      <td>B-VAE test</td>\n",
       "    </tr>\n",
       "  </tbody>\n",
       "</table>\n",
       "</div>"
      ],
      "text/plain": [
       "         #cells  #data  #empty cells  #empty cells(%)  #used cells/#data  \\\n",
       "0  4.294967e+09  24784  4.294947e+09         0.999995           0.823031   \n",
       "1  4.294967e+09  24784  4.294944e+09         0.999995           0.935725   \n",
       "2  4.294967e+09   3498  4.294964e+09         0.999999           0.925100   \n",
       "3  4.294967e+09   3498  4.294964e+09         0.999999           0.978845   \n",
       "\n",
       "   mean #data x cell                                     top10         Type  \n",
       "0           1.215021  [25, 21, 20, 20, 20, 19, 17, 16, 15, 14]   VDSH train  \n",
       "1           1.068690        [13, 13, 12, 10, 9, 9, 7, 6, 6, 6]  B-VAE train  \n",
       "2           1.080964            [6, 6, 6, 5, 5, 5, 5, 4, 4, 4]    VDSH test  \n",
       "3           1.021612            [6, 4, 3, 2, 2, 2, 2, 2, 2, 2]   B-VAE test  "
      ]
     },
     "execution_count": 82,
     "metadata": {},
     "output_type": "execute_result"
    }
   ],
   "source": [
    "#plot together--\n",
    "print(name_dat)\n",
    "compare_cells_dist(train_hash_, train_hash_B, test_hash_, test_hash_B)"
   ]
  },
  {
   "cell_type": "code",
   "execution_count": 87,
   "metadata": {
    "collapsed": false
   },
   "outputs": [
    {
     "name": "stdout",
     "output_type": "stream",
     "text": [
      "Snippets\n"
     ]
    },
    {
     "data": {
      "text/html": [
       "<div>\n",
       "<style scoped>\n",
       "    .dataframe tbody tr th:only-of-type {\n",
       "        vertical-align: middle;\n",
       "    }\n",
       "\n",
       "    .dataframe tbody tr th {\n",
       "        vertical-align: top;\n",
       "    }\n",
       "\n",
       "    .dataframe thead th {\n",
       "        text-align: right;\n",
       "    }\n",
       "</style>\n",
       "<table border=\"1\" class=\"dataframe\">\n",
       "  <thead>\n",
       "    <tr style=\"text-align: right;\">\n",
       "      <th></th>\n",
       "      <th>#cells</th>\n",
       "      <th>#data</th>\n",
       "      <th>#empty cells</th>\n",
       "      <th>#empty cells(%)</th>\n",
       "      <th>#used cells/#data</th>\n",
       "      <th>mean #data x cell</th>\n",
       "      <th>top10</th>\n",
       "      <th>Type</th>\n",
       "    </tr>\n",
       "  </thead>\n",
       "  <tbody>\n",
       "    <tr>\n",
       "      <th>0</th>\n",
       "      <td>4.294967e+09</td>\n",
       "      <td>10060</td>\n",
       "      <td>4.294958e+09</td>\n",
       "      <td>0.999998</td>\n",
       "      <td>0.910437</td>\n",
       "      <td>1.098373</td>\n",
       "      <td>[15, 13, 8, 7, 7, 7, 7, 7, 7, 7]</td>\n",
       "      <td>VDSH train</td>\n",
       "    </tr>\n",
       "    <tr>\n",
       "      <th>1</th>\n",
       "      <td>4.294967e+09</td>\n",
       "      <td>10060</td>\n",
       "      <td>4.294958e+09</td>\n",
       "      <td>0.999998</td>\n",
       "      <td>0.905070</td>\n",
       "      <td>1.104887</td>\n",
       "      <td>[18, 15, 10, 10, 9, 9, 8, 7, 7, 7]</td>\n",
       "      <td>B-VAE train</td>\n",
       "    </tr>\n",
       "    <tr>\n",
       "      <th>2</th>\n",
       "      <td>4.294967e+09</td>\n",
       "      <td>2280</td>\n",
       "      <td>4.294965e+09</td>\n",
       "      <td>0.999999</td>\n",
       "      <td>0.966228</td>\n",
       "      <td>1.034952</td>\n",
       "      <td>[6, 5, 4, 3, 3, 3, 3, 3, 2, 2]</td>\n",
       "      <td>VDSH test</td>\n",
       "    </tr>\n",
       "    <tr>\n",
       "      <th>3</th>\n",
       "      <td>4.294967e+09</td>\n",
       "      <td>2280</td>\n",
       "      <td>4.294965e+09</td>\n",
       "      <td>0.999999</td>\n",
       "      <td>0.981579</td>\n",
       "      <td>1.018767</td>\n",
       "      <td>[5, 5, 4, 4, 3, 3, 2, 2, 2, 2]</td>\n",
       "      <td>B-VAE test</td>\n",
       "    </tr>\n",
       "  </tbody>\n",
       "</table>\n",
       "</div>"
      ],
      "text/plain": [
       "         #cells  #data  #empty cells  #empty cells(%)  #used cells/#data  \\\n",
       "0  4.294967e+09  10060  4.294958e+09         0.999998           0.910437   \n",
       "1  4.294967e+09  10060  4.294958e+09         0.999998           0.905070   \n",
       "2  4.294967e+09   2280  4.294965e+09         0.999999           0.966228   \n",
       "3  4.294967e+09   2280  4.294965e+09         0.999999           0.981579   \n",
       "\n",
       "   mean #data x cell                               top10         Type  \n",
       "0           1.098373    [15, 13, 8, 7, 7, 7, 7, 7, 7, 7]   VDSH train  \n",
       "1           1.104887  [18, 15, 10, 10, 9, 9, 8, 7, 7, 7]  B-VAE train  \n",
       "2           1.034952      [6, 5, 4, 3, 3, 3, 3, 3, 2, 2]    VDSH test  \n",
       "3           1.018767      [5, 5, 4, 4, 3, 3, 2, 2, 2, 2]   B-VAE test  "
      ]
     },
     "execution_count": 87,
     "metadata": {},
     "output_type": "execute_result"
    }
   ],
   "source": [
    "#plot together--\n",
    "print(name_dat)\n",
    "compare_cells_dist(train_hash_, train_hash_B, test_hash_, test_hash_B)"
   ]
  },
  {
   "cell_type": "code",
   "execution_count": null,
   "metadata": {
    "collapsed": true
   },
   "outputs": [],
   "source": []
  },
  {
   "cell_type": "code",
   "execution_count": 8,
   "metadata": {
    "collapsed": false
   },
   "outputs": [
    {
     "name": "stdout",
     "output_type": "stream",
     "text": [
      "MNIST\n"
     ]
    },
    {
     "data": {
      "text/html": [
       "<div>\n",
       "<style scoped>\n",
       "    .dataframe tbody tr th:only-of-type {\n",
       "        vertical-align: middle;\n",
       "    }\n",
       "\n",
       "    .dataframe tbody tr th {\n",
       "        vertical-align: top;\n",
       "    }\n",
       "\n",
       "    .dataframe thead th {\n",
       "        text-align: right;\n",
       "    }\n",
       "</style>\n",
       "<table border=\"1\" class=\"dataframe\">\n",
       "  <thead>\n",
       "    <tr style=\"text-align: right;\">\n",
       "      <th></th>\n",
       "      <th>#cells</th>\n",
       "      <th>#data</th>\n",
       "      <th>#empty cells</th>\n",
       "      <th>#empty cells(%)</th>\n",
       "      <th>#used cells/#data</th>\n",
       "      <th>mean #data x cell</th>\n",
       "      <th>top10</th>\n",
       "      <th>Type</th>\n",
       "    </tr>\n",
       "  </thead>\n",
       "  <tbody>\n",
       "    <tr>\n",
       "      <th>0</th>\n",
       "      <td>4.294967e+09</td>\n",
       "      <td>69000</td>\n",
       "      <td>4.294904e+09</td>\n",
       "      <td>0.999985</td>\n",
       "      <td>0.915580</td>\n",
       "      <td>1.092204</td>\n",
       "      <td>[64, 62, 42, 35, 30, 28, 25, 24, 22, 21]</td>\n",
       "      <td>VDSH train</td>\n",
       "    </tr>\n",
       "    <tr>\n",
       "      <th>1</th>\n",
       "      <td>4.294967e+09</td>\n",
       "      <td>69000</td>\n",
       "      <td>4.294921e+09</td>\n",
       "      <td>0.999989</td>\n",
       "      <td>0.671101</td>\n",
       "      <td>1.490088</td>\n",
       "      <td>[245, 236, 230, 202, 157, 149, 129, 128, 122, ...</td>\n",
       "      <td>B-VAE train</td>\n",
       "    </tr>\n",
       "    <tr>\n",
       "      <th>2</th>\n",
       "      <td>4.294967e+09</td>\n",
       "      <td>1000</td>\n",
       "      <td>4.294966e+09</td>\n",
       "      <td>1.000000</td>\n",
       "      <td>0.999000</td>\n",
       "      <td>1.001001</td>\n",
       "      <td>[2, 1, 1, 1, 1, 1, 1, 1, 1, 1]</td>\n",
       "      <td>VDSH test</td>\n",
       "    </tr>\n",
       "    <tr>\n",
       "      <th>3</th>\n",
       "      <td>4.294967e+09</td>\n",
       "      <td>1000</td>\n",
       "      <td>4.294966e+09</td>\n",
       "      <td>1.000000</td>\n",
       "      <td>0.955000</td>\n",
       "      <td>1.047120</td>\n",
       "      <td>[4, 4, 4, 4, 3, 3, 3, 3, 3, 3]</td>\n",
       "      <td>B-VAE test</td>\n",
       "    </tr>\n",
       "  </tbody>\n",
       "</table>\n",
       "</div>"
      ],
      "text/plain": [
       "         #cells  #data  #empty cells  #empty cells(%)  #used cells/#data  \\\n",
       "0  4.294967e+09  69000  4.294904e+09         0.999985           0.915580   \n",
       "1  4.294967e+09  69000  4.294921e+09         0.999989           0.671101   \n",
       "2  4.294967e+09   1000  4.294966e+09         1.000000           0.999000   \n",
       "3  4.294967e+09   1000  4.294966e+09         1.000000           0.955000   \n",
       "\n",
       "   mean #data x cell                                              top10  \\\n",
       "0           1.092204           [64, 62, 42, 35, 30, 28, 25, 24, 22, 21]   \n",
       "1           1.490088  [245, 236, 230, 202, 157, 149, 129, 128, 122, ...   \n",
       "2           1.001001                     [2, 1, 1, 1, 1, 1, 1, 1, 1, 1]   \n",
       "3           1.047120                     [4, 4, 4, 4, 3, 3, 3, 3, 3, 3]   \n",
       "\n",
       "          Type  \n",
       "0   VDSH train  \n",
       "1  B-VAE train  \n",
       "2    VDSH test  \n",
       "3   B-VAE test  "
      ]
     },
     "execution_count": 8,
     "metadata": {},
     "output_type": "execute_result"
    }
   ],
   "source": [
    "#plot together--\n",
    "print(name_dat)\n",
    "compare_cells_dist(train_hash_, train_hash_B, test_hash_, test_hash_B)"
   ]
  },
  {
   "cell_type": "code",
   "execution_count": 13,
   "metadata": {
    "collapsed": false
   },
   "outputs": [
    {
     "name": "stdout",
     "output_type": "stream",
     "text": [
      "CIFAR-10\n"
     ]
    },
    {
     "data": {
      "text/html": [
       "<div>\n",
       "<style scoped>\n",
       "    .dataframe tbody tr th:only-of-type {\n",
       "        vertical-align: middle;\n",
       "    }\n",
       "\n",
       "    .dataframe tbody tr th {\n",
       "        vertical-align: top;\n",
       "    }\n",
       "\n",
       "    .dataframe thead th {\n",
       "        text-align: right;\n",
       "    }\n",
       "</style>\n",
       "<table border=\"1\" class=\"dataframe\">\n",
       "  <thead>\n",
       "    <tr style=\"text-align: right;\">\n",
       "      <th></th>\n",
       "      <th>#cells</th>\n",
       "      <th>#data</th>\n",
       "      <th>#empty cells</th>\n",
       "      <th>#empty cells(%)</th>\n",
       "      <th>#used cells/#data</th>\n",
       "      <th>mean #data x cell</th>\n",
       "      <th>top10</th>\n",
       "      <th>Type</th>\n",
       "    </tr>\n",
       "  </thead>\n",
       "  <tbody>\n",
       "    <tr>\n",
       "      <th>0</th>\n",
       "      <td>4.294967e+09</td>\n",
       "      <td>58100</td>\n",
       "      <td>4.294910e+09</td>\n",
       "      <td>0.999987</td>\n",
       "      <td>0.989845</td>\n",
       "      <td>1.010259</td>\n",
       "      <td>[11, 10, 9, 8, 8, 7, 6, 5, 5, 5]</td>\n",
       "      <td>VDSH train</td>\n",
       "    </tr>\n",
       "    <tr>\n",
       "      <th>1</th>\n",
       "      <td>4.294967e+09</td>\n",
       "      <td>58100</td>\n",
       "      <td>4.294911e+09</td>\n",
       "      <td>0.999987</td>\n",
       "      <td>0.963959</td>\n",
       "      <td>1.037389</td>\n",
       "      <td>[59, 58, 47, 31, 30, 27, 25, 21, 21, 21]</td>\n",
       "      <td>B-VAE train</td>\n",
       "    </tr>\n",
       "    <tr>\n",
       "      <th>2</th>\n",
       "      <td>4.294967e+09</td>\n",
       "      <td>1900</td>\n",
       "      <td>4.294965e+09</td>\n",
       "      <td>1.000000</td>\n",
       "      <td>0.999474</td>\n",
       "      <td>1.000527</td>\n",
       "      <td>[2, 1, 1, 1, 1, 1, 1, 1, 1, 1]</td>\n",
       "      <td>VDSH test</td>\n",
       "    </tr>\n",
       "    <tr>\n",
       "      <th>3</th>\n",
       "      <td>4.294967e+09</td>\n",
       "      <td>1900</td>\n",
       "      <td>4.294965e+09</td>\n",
       "      <td>1.000000</td>\n",
       "      <td>0.991579</td>\n",
       "      <td>1.008493</td>\n",
       "      <td>[6, 5, 2, 2, 2, 2, 2, 2, 2, 1]</td>\n",
       "      <td>B-VAE test</td>\n",
       "    </tr>\n",
       "  </tbody>\n",
       "</table>\n",
       "</div>"
      ],
      "text/plain": [
       "         #cells  #data  #empty cells  #empty cells(%)  #used cells/#data  \\\n",
       "0  4.294967e+09  58100  4.294910e+09         0.999987           0.989845   \n",
       "1  4.294967e+09  58100  4.294911e+09         0.999987           0.963959   \n",
       "2  4.294967e+09   1900  4.294965e+09         1.000000           0.999474   \n",
       "3  4.294967e+09   1900  4.294965e+09         1.000000           0.991579   \n",
       "\n",
       "   mean #data x cell                                     top10         Type  \n",
       "0           1.010259          [11, 10, 9, 8, 8, 7, 6, 5, 5, 5]   VDSH train  \n",
       "1           1.037389  [59, 58, 47, 31, 30, 27, 25, 21, 21, 21]  B-VAE train  \n",
       "2           1.000527            [2, 1, 1, 1, 1, 1, 1, 1, 1, 1]    VDSH test  \n",
       "3           1.008493            [6, 5, 2, 2, 2, 2, 2, 2, 2, 1]   B-VAE test  "
      ]
     },
     "execution_count": 13,
     "metadata": {},
     "output_type": "execute_result"
    }
   ],
   "source": [
    "#plot together--\n",
    "print(name_dat)\n",
    "compare_cells_dist(train_hash_, train_hash_B, test_hash_, test_hash_B)"
   ]
  },
  {
   "cell_type": "code",
   "execution_count": 18,
   "metadata": {
    "collapsed": false
   },
   "outputs": [
    {
     "name": "stdout",
     "output_type": "stream",
     "text": [
      "Nus-Wide\n"
     ]
    },
    {
     "data": {
      "text/html": [
       "<div>\n",
       "<style scoped>\n",
       "    .dataframe tbody tr th:only-of-type {\n",
       "        vertical-align: middle;\n",
       "    }\n",
       "\n",
       "    .dataframe tbody tr th {\n",
       "        vertical-align: top;\n",
       "    }\n",
       "\n",
       "    .dataframe thead th {\n",
       "        text-align: right;\n",
       "    }\n",
       "</style>\n",
       "<table border=\"1\" class=\"dataframe\">\n",
       "  <thead>\n",
       "    <tr style=\"text-align: right;\">\n",
       "      <th></th>\n",
       "      <th>#cells</th>\n",
       "      <th>#data</th>\n",
       "      <th>#empty cells</th>\n",
       "      <th>#empty cells(%)</th>\n",
       "      <th>#used cells/#data</th>\n",
       "      <th>mean #data x cell</th>\n",
       "      <th>top10</th>\n",
       "      <th>Type</th>\n",
       "    </tr>\n",
       "  </thead>\n",
       "  <tbody>\n",
       "    <tr>\n",
       "      <th>0</th>\n",
       "      <td>4.294967e+09</td>\n",
       "      <td>156283</td>\n",
       "      <td>4.294820e+09</td>\n",
       "      <td>0.999966</td>\n",
       "      <td>0.941350</td>\n",
       "      <td>1.062304</td>\n",
       "      <td>[151, 117, 107, 78, 56, 53, 52, 40, 39, 37]</td>\n",
       "      <td>VDSH train</td>\n",
       "    </tr>\n",
       "    <tr>\n",
       "      <th>1</th>\n",
       "      <td>4.294967e+09</td>\n",
       "      <td>156283</td>\n",
       "      <td>4.294849e+09</td>\n",
       "      <td>0.999972</td>\n",
       "      <td>0.759219</td>\n",
       "      <td>1.317143</td>\n",
       "      <td>[3108, 1745, 1460, 1175, 742, 362, 338, 324, 3...</td>\n",
       "      <td>B-VAE train</td>\n",
       "    </tr>\n",
       "    <tr>\n",
       "      <th>2</th>\n",
       "      <td>4.294967e+09</td>\n",
       "      <td>2100</td>\n",
       "      <td>4.294965e+09</td>\n",
       "      <td>1.000000</td>\n",
       "      <td>0.990476</td>\n",
       "      <td>1.009615</td>\n",
       "      <td>[2, 2, 2, 2, 2, 2, 2, 2, 2, 2]</td>\n",
       "      <td>VDSH test</td>\n",
       "    </tr>\n",
       "    <tr>\n",
       "      <th>3</th>\n",
       "      <td>4.294967e+09</td>\n",
       "      <td>2100</td>\n",
       "      <td>4.294966e+09</td>\n",
       "      <td>1.000000</td>\n",
       "      <td>0.801905</td>\n",
       "      <td>1.247031</td>\n",
       "      <td>[58, 39, 33, 23, 23, 19, 16, 15, 10, 10]</td>\n",
       "      <td>B-VAE test</td>\n",
       "    </tr>\n",
       "  </tbody>\n",
       "</table>\n",
       "</div>"
      ],
      "text/plain": [
       "         #cells   #data  #empty cells  #empty cells(%)  #used cells/#data  \\\n",
       "0  4.294967e+09  156283  4.294820e+09         0.999966           0.941350   \n",
       "1  4.294967e+09  156283  4.294849e+09         0.999972           0.759219   \n",
       "2  4.294967e+09    2100  4.294965e+09         1.000000           0.990476   \n",
       "3  4.294967e+09    2100  4.294966e+09         1.000000           0.801905   \n",
       "\n",
       "   mean #data x cell                                              top10  \\\n",
       "0           1.062304        [151, 117, 107, 78, 56, 53, 52, 40, 39, 37]   \n",
       "1           1.317143  [3108, 1745, 1460, 1175, 742, 362, 338, 324, 3...   \n",
       "2           1.009615                     [2, 2, 2, 2, 2, 2, 2, 2, 2, 2]   \n",
       "3           1.247031           [58, 39, 33, 23, 23, 19, 16, 15, 10, 10]   \n",
       "\n",
       "          Type  \n",
       "0   VDSH train  \n",
       "1  B-VAE train  \n",
       "2    VDSH test  \n",
       "3   B-VAE test  "
      ]
     },
     "execution_count": 18,
     "metadata": {},
     "output_type": "execute_result"
    }
   ],
   "source": [
    "#plot together--\n",
    "print(name_dat)\n",
    "compare_cells_dist(train_hash_, train_hash_B, test_hash_, test_hash_B)"
   ]
  },
  {
   "cell_type": "code",
   "execution_count": null,
   "metadata": {
    "collapsed": true
   },
   "outputs": [],
   "source": []
  },
  {
   "cell_type": "code",
   "execution_count": null,
   "metadata": {
    "collapsed": true
   },
   "outputs": [],
   "source": []
  },
  {
   "cell_type": "code",
   "execution_count": null,
   "metadata": {
    "collapsed": true
   },
   "outputs": [],
   "source": []
  },
  {
   "cell_type": "code",
   "execution_count": 34,
   "metadata": {
    "collapsed": false,
    "scrolled": true
   },
   "outputs": [
    {
     "name": "stdout",
     "output_type": "stream",
     "text": [
      "Entrenamiento----\n",
      "Cantidad de datos a llenar la tabla hash:  14683\n",
      "Cantidad de memorias ocupadas hash1:  13800\n",
      "Cantidad de memorias ocupadas hash2:  12998\n"
     ]
    },
    {
     "data": {
      "image/png": "[encoded data removed]",
      "text/plain": [
       "<matplotlib.figure.Figure at 0x7f8ba31d8588>"
      ]
     },
     "metadata": {},
     "output_type": "display_data"
    },
    {
     "name": "stdout",
     "output_type": "stream",
     "text": [
      "Pruebas-----\n",
      "Cantidad de datos a llenar la tabla hash:  3668\n",
      "Cantidad de memorias ocupadas hash1:  3591\n",
      "Cantidad de memorias ocupadas hash2:  3406\n"
     ]
    },
    {
     "data": {
      "image/png": "[encoded data removed]",
      "text/plain": [
       "<matplotlib.figure.Figure at 0x7f8a9c036b70>"
      ]
     },
     "metadata": {},
     "output_type": "display_data"
    }
   ],
   "source": [
    "compare_cells_plot(BITS_S,train_hash_B, train_hash_, test_hash_B, test_hash_)"
   ]
  },
  {
   "cell_type": "code",
   "execution_count": null,
   "metadata": {
    "collapsed": true
   },
   "outputs": [],
   "source": []
  }
 ],
 "metadata": {
  "anaconda-cloud": {},
  "kernelspec": {
   "display_name": "Python [conda env:tesis]",
   "language": "python",
   "name": "conda-env-tesis-py"
  },
  "language_info": {
   "codemirror_mode": {
    "name": "ipython",
    "version": 3
   },
   "file_extension": ".py",
   "mimetype": "text/x-python",
   "name": "python",
   "nbconvert_exporter": "python",
   "pygments_lexer": "ipython3",
   "version": "3.5.3"
  }
 },
 "nbformat": 4,
 "nbformat_minor": 1
}
