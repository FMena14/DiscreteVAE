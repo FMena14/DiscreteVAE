{
 "cells": [
  {
   "cell_type": "code",
   "execution_count": 1,
   "metadata": {
    "collapsed": false
   },
   "outputs": [
    {
     "name": "stderr",
     "output_type": "stream",
     "text": [
      "/home/fmena/anaconda3/envs/tesis/lib/python3.5/site-packages/h5py/__init__.py:34: FutureWarning: Conversion of the second argument of issubdtype from `float` to `np.floating` is deprecated. In future, it will be treated as `np.float64 == np.dtype(float).type`.\n",
      "  from ._conv import register_converters as _register_converters\n",
      "Using TensorFlow backend.\n",
      "/home/fmena/.local/lib/python3.5/site-packages/tensorflow/python/framework/dtypes.py:469: FutureWarning: Passing (type, 1) or '1type' as a synonym of type is deprecated; in a future version of numpy, it will be understood as (type, (1,)) / '(1,)type'.\n",
      "  _np_qint8 = np.dtype([(\"qint8\", np.int8, 1)])\n",
      "/home/fmena/.local/lib/python3.5/site-packages/tensorflow/python/framework/dtypes.py:470: FutureWarning: Passing (type, 1) or '1type' as a synonym of type is deprecated; in a future version of numpy, it will be understood as (type, (1,)) / '(1,)type'.\n",
      "  _np_quint8 = np.dtype([(\"quint8\", np.uint8, 1)])\n",
      "/home/fmena/.local/lib/python3.5/site-packages/tensorflow/python/framework/dtypes.py:471: FutureWarning: Passing (type, 1) or '1type' as a synonym of type is deprecated; in a future version of numpy, it will be understood as (type, (1,)) / '(1,)type'.\n",
      "  _np_qint16 = np.dtype([(\"qint16\", np.int16, 1)])\n",
      "/home/fmena/.local/lib/python3.5/site-packages/tensorflow/python/framework/dtypes.py:472: FutureWarning: Passing (type, 1) or '1type' as a synonym of type is deprecated; in a future version of numpy, it will be understood as (type, (1,)) / '(1,)type'.\n",
      "  _np_quint16 = np.dtype([(\"quint16\", np.uint16, 1)])\n",
      "/home/fmena/.local/lib/python3.5/site-packages/tensorflow/python/framework/dtypes.py:473: FutureWarning: Passing (type, 1) or '1type' as a synonym of type is deprecated; in a future version of numpy, it will be understood as (type, (1,)) / '(1,)type'.\n",
      "  _np_qint32 = np.dtype([(\"qint32\", np.int32, 1)])\n",
      "/home/fmena/.local/lib/python3.5/site-packages/tensorflow/python/framework/dtypes.py:476: FutureWarning: Passing (type, 1) or '1type' as a synonym of type is deprecated; in a future version of numpy, it will be understood as (type, (1,)) / '(1,)type'.\n",
      "  np_resource = np.dtype([(\"resource\", np.ubyte, 1)])\n"
     ]
    },
    {
     "name": "stdout",
     "output_type": "stream",
     "text": [
      "[nltk_data] Downloading package reuters to /home/fmena/nltk_data...\n",
      "[nltk_data]   Package reuters is already up-to-date!\n",
      "[nltk_data] Downloading package wordnet to /home/fmena/nltk_data...\n",
      "[nltk_data]   Package wordnet is already up-to-date!\n"
     ]
    }
   ],
   "source": [
    "import numpy as np\n",
    "import keras,gc, os, time, sys, nltk\n",
    "from keras.layers import *\n",
    "from keras.models import Sequential,Model\n",
    "from keras import backend as K\n",
    "from astropy.table import Table\n",
    "import matplotlib.pyplot as plt\n",
    "from scipy.special import expit\n",
    "import seaborn as sns\n",
    "import pandas as pd\n",
    "from scipy.io import loadmat\n",
    "nltk.download('reuters')\n",
    "nltk.download('wordnet')\n",
    "%matplotlib inline\n",
    "\n",
    "from base_networks import *\n",
    "from utils import check_availability, load_imgs_mask\n",
    "from utils import get_topK_labels,set_newlabel_list, enmask_data\n",
    "\n",
    "np.random.seed(20)"
   ]
  },
  {
   "cell_type": "code",
   "execution_count": 2,
   "metadata": {
    "collapsed": true
   },
   "outputs": [],
   "source": [
    "def plot_cells_distribution(Nb,train_hash,test_hash=[]):\n",
    "    print(\"Cantidad de memorias en tabla hash: \",2**Nb)\n",
    "\n",
    "    valores_unicos, count_hash =  hash_analysis(train_hash)\n",
    "    print(\"Entrenamiento----\")\n",
    "    print(\"Cantidad de datos a llenar la tabla hash: \",train_hash.shape[0])\n",
    "    plt.figure(figsize=(14,4))\n",
    "    plt.plot(sorted(list(count_hash.values()))[::-1],'bo-')\n",
    "    plt.title(\"Cantidad de datos por celda/memoria en tabla hash\")\n",
    "    plt.show()\n",
    "    print(\"Cantidad de memorias ocupadas: \",len(valores_unicos))\n",
    "    if len(test_hash) != 0:\n",
    "        valores_unicos, count_hash =  hash_analysis(test_hash)\n",
    "        print(\"Pruebas-----\")\n",
    "        print(\"Cantidad de datos a llenar la tabla hash: \",test_hash.shape[0])\n",
    "        plt.figure(figsize=(14,4))\n",
    "        plt.plot(sorted(list(count_hash.values()))[::-1],'bo-')\n",
    "        plt.title(\"Cantidad de datos por celda/memoria en tabla hash\")\n",
    "        plt.show()\n",
    "        print(\"Cantidad de memorias ocupadas: \",len(valores_unicos))\n",
    "        \n",
    "def hash_analysis(hash_data):\n",
    "    hash_string = []\n",
    "    for valor in hash_data:\n",
    "        hash_string.append(str(valor)[1:-1].replace(' ',''))\n",
    "    valores_unicos = set(hash_string)\n",
    "    count_hash = {valor: hash_string.count(valor) for valor in valores_unicos}\n",
    "    return valores_unicos, count_hash\n",
    "\n",
    "\n",
    "def measure_metrics(hash_data):\n",
    "    valores_unicos, count_hash =  hash_analysis(hash_data)\n",
    "    dis_cell = np.asarray(list(count_hash.values()))\n",
    "    \n",
    "    N_data, B_data = hash_data.shape\n",
    "    \n",
    "    norm_dis_cell = dis_cell/N_data #np.sum(dis_cell)\n",
    "    \n",
    "    N_hash = 2.**B_data\n",
    "    N_hash_used = len(dis_cell)\n",
    "    N_hash_empty = N_hash-N_hash_used\n",
    "\n",
    "    top10_dis = sorted(dis_cell)[::-1][:10]\n",
    "    mean_N_xcell = np.mean(dis_cell)\n",
    "    std_N_xcell = np.std(dis_cell)\n",
    "    \n",
    "    #calcular varianza y cosas..\n",
    "    \n",
    "    ref_dis = np.tile(1./len(norm_dis_cell), len(norm_dis_cell))\n",
    "    \n",
    "    H_cells = -np.sum(norm_dis_cell* np.log(norm_dis_cell+ 1e-7))\n",
    "    H_balanced = -np.sum(ref_dis* np.log(ref_dis+ 1e-7))\n",
    "    \n",
    "    G_indx = 1 - np.sum(norm_dis_cell**2)\n",
    "    G_indx_balanced = 1 - np.sum(ref_dis**2)    \n",
    "    return N_data, N_hash, N_hash_used, N_hash_empty, top10_dis,mean_N_xcell,   std_N_xcell, H_cells/H_balanced,G_indx/G_indx_balanced\n",
    "\n",
    "def compare_cells_dist(train_hash_, train_hash_B, test_hash_, test_hash_B):\n",
    "    N_data = []\n",
    "    Np_hash_empty = []\n",
    "    top10_dis = []\n",
    "    mean_N_xcell = []\n",
    "    std_N_xcell = []\n",
    "    H_N = []\n",
    "    Gini_N = []\n",
    "    \n",
    "    n, a, b, c, d,e , f, g, h = measure_metrics(train_hash_)\n",
    "    N_data.append(n)\n",
    "    Np_hash_empty.append(c/a)\n",
    "    top10_dis.append(d)\n",
    "    mean_N_xcell.append(e)\n",
    "    std_N_xcell.append(f)\n",
    "    H_N.append(g)   \n",
    "    Gini_N.append(h)\n",
    "    \n",
    "    n, a, b, c, d,e , f, g, h = measure_metrics(train_hash_B)\n",
    "    N_data.append(n)\n",
    "    Np_hash_empty.append(c/a)\n",
    "    top10_dis.append(d)\n",
    "    mean_N_xcell.append(e)\n",
    "    std_N_xcell.append(f)\n",
    "    H_N.append(g)  \n",
    "    Gini_N.append(h)\n",
    "    \n",
    "    n, a, b, c, d,e , f, g, h = measure_metrics(test_hash_)\n",
    "    N_data.append(n)\n",
    "    Np_hash_empty.append(c/a)\n",
    "    top10_dis.append(d)\n",
    "    mean_N_xcell.append(e)\n",
    "    std_N_xcell.append(f)\n",
    "    H_N.append(g)  \n",
    "    Gini_N.append(h)\n",
    "    \n",
    "    n, a, b, c, d,e , f, g, h = measure_metrics(test_hash_B)\n",
    "    N_data.append(n)\n",
    "    Np_hash_empty.append(c/a)\n",
    "    top10_dis.append(d)\n",
    "    mean_N_xcell.append(e)\n",
    "    std_N_xcell.append(f)\n",
    "    H_N.append(g)  \n",
    "    Gini_N.append(h)\n",
    "    \n",
    "    df = pd.DataFrame({\"#data\":N_data, \"#empty cells(%)\":Np_hash_empty, \n",
    "                       \"mean #data x cell\":mean_N_xcell, \"std #data x cell\":std_N_xcell,\n",
    "                       \"H cells dis\":H_N, \"Gini cells dis\": Gini_N,\n",
    "                      \"top10\":top10_dis})\n",
    "    df[\"Type\"] = [\"VDSH train\",\"B-VAE train\", \"VDSH test\",\"B-VAE test\"]\n",
    "\n",
    "    return df\n",
    "\n",
    "#cells \t#data \t#empty cells \t#empty cells(%) \t#used cells/#data \tmean #data x cell \ttop10 \tType\n",
    "\n",
    "from utils import calculate_hash, compare_cells_plot"
   ]
  },
  {
   "cell_type": "markdown",
   "metadata": {},
   "source": [
    "### Choose load data"
   ]
  },
  {
   "cell_type": "code",
   "execution_count": 55,
   "metadata": {
    "collapsed": false
   },
   "outputs": [
    {
     "name": "stdout",
     "output_type": "stream",
     "text": [
      "Cantidad de datos Entrenamiento:  11016\n",
      "Cantidad de datos Validación:  3667\n",
      "Cantidad de datos Pruebas:  3668\n"
     ]
    }
   ],
   "source": [
    "name_dat = \"20News\"\n",
    "\n",
    "from sklearn.datasets import fetch_20newsgroups\n",
    "newsgroups_t = fetch_20newsgroups(subset='train')\n",
    "labels = newsgroups_t.target_names\n",
    "\n",
    "from utils import Load_Dataset\n",
    "\n",
    "filename = 'Data/ng20.tfidf.mat'\n",
    "data = Load_Dataset(filename)\n",
    "\n",
    "X_train_input = data[\"train\"]\n",
    "X_train = X_train_input \n",
    "X_val_input = data[\"cv\"]\n",
    "X_val = X_val_input \n",
    "X_test_input = data[\"test\"]\n",
    "X_test = X_test_input\n",
    "labels_train = np.asarray([labels[value.argmax(axis=-1)] for value in data[\"gnd_train\"]])\n",
    "labels_val = np.asarray([labels[value.argmax(axis=-1)] for value in data[\"gnd_cv\"]])\n",
    "labels_test = np.asarray([labels[value.argmax(axis=-1)] for value in data[\"gnd_test\"]])\n",
    "\n",
    "\n",
    "print(\"Cantidad de datos Entrenamiento: \",len(labels_train))\n",
    "print(\"Cantidad de datos Validación: \",len(labels_val))\n",
    "print(\"Cantidad de datos Pruebas: \",len(labels_test))"
   ]
  },
  {
   "cell_type": "code",
   "execution_count": 62,
   "metadata": {
    "collapsed": false
   },
   "outputs": [
    {
     "name": "stdout",
     "output_type": "stream",
     "text": [
      "Cantidad de datos Entrenamiento:  7752\n",
      "Cantidad de datos Validación:  964\n",
      "Cantidad de datos Pruebas:  967\n"
     ]
    }
   ],
   "source": [
    "name_dat = \"Reuters\"\n",
    "labels = ['a','b','c','d','e','f','e','g','h','i','j','k','l','m','n','o','p','q','r','s']\n",
    "\n",
    "filename = 'Data/reuters.tfidf.mat'\n",
    "data = Load_Dataset(filename)\n",
    "\n",
    "X_train_input = data[\"train\"]\n",
    "X_train = X_train_input \n",
    "X_val_input = data[\"cv\"]\n",
    "X_val = X_val_input \n",
    "X_test_input = data[\"test\"]\n",
    "X_test = X_test_input\n",
    "\n",
    "labels = np.asarray(labels)\n",
    "labels_train = np.asarray([labels[value.astype(bool)] for value in data[\"gnd_train\"]])\n",
    "labels_val = np.asarray([labels[value.astype(bool)] for value in data[\"gnd_cv\"]])\n",
    "labels_test = np.asarray([labels[value.astype(bool)] for value in data[\"gnd_test\"]])\n",
    "\n",
    "print(\"Cantidad de datos Entrenamiento: \",len(labels_train))\n",
    "print(\"Cantidad de datos Validación: \",len(labels_val))\n",
    "print(\"Cantidad de datos Pruebas: \",len(labels_test))"
   ]
  },
  {
   "cell_type": "code",
   "execution_count": 67,
   "metadata": {
    "collapsed": false
   },
   "outputs": [
    {
     "name": "stdout",
     "output_type": "stream",
     "text": [
      "Cantidad de datos Entrenamiento:  21286\n",
      "Cantidad de datos Validación:  3498\n",
      "Cantidad de datos Pruebas:  3498\n"
     ]
    }
   ],
   "source": [
    "name_dat = \"TMC\"\n",
    "\n",
    "labels = ['a','b','c','d','e','f','e','g','h','i','j','k','l','m','n','o','p','q','r','s','t','u']\n",
    "\n",
    "filename = 'Data/tmc.tfidf.mat'\n",
    "data = Load_Dataset(filename)\n",
    "\n",
    "X_train_input = data[\"train\"]\n",
    "X_train = X_train_input \n",
    "X_val_input = data[\"cv\"]\n",
    "X_val = X_val_input \n",
    "X_test_input = data[\"test\"]\n",
    "X_test = X_test_input\n",
    "\n",
    "labels = np.asarray(labels)\n",
    "labels_train = np.asarray([labels[value.astype(bool)] for value in data[\"gnd_train\"]])\n",
    "labels_val = np.asarray([labels[value.astype(bool)] for value in data[\"gnd_cv\"]])\n",
    "labels_test = np.asarray([labels[value.astype(bool)] for value in data[\"gnd_test\"]])\n",
    "\n",
    "print(\"Cantidad de datos Entrenamiento: \",len(labels_train))\n",
    "print(\"Cantidad de datos Validación: \",len(labels_val))\n",
    "print(\"Cantidad de datos Pruebas: \",len(labels_test))"
   ]
  },
  {
   "cell_type": "code",
   "execution_count": 72,
   "metadata": {
    "collapsed": false
   },
   "outputs": [
    {
     "name": "stdout",
     "output_type": "stream",
     "text": [
      "Datos de entrenamiento:  10060\n",
      "Datos de pruebas:  2280\n",
      "Cantidad de datos Entrenamiento:  9054\n",
      "Cantidad de datos Validación:  1006\n",
      "Cantidad de datos Pruebas:  2280\n"
     ]
    },
    {
     "name": "stderr",
     "output_type": "stream",
     "text": [
      "/home/fmena/.local/lib/python3.5/site-packages/sklearn/feature_extraction/text.py:507: UserWarning: The parameter 'token_pattern' will not be used since 'tokenizer' is not None'\n",
      "  warnings.warn(\"The parameter 'token_pattern' will not be used\"\n"
     ]
    },
    {
     "name": "stdout",
     "output_type": "stream",
     "text": [
      "CPU times: user 1.63 s, sys: 5.74 ms, total: 1.63 s\n",
      "Wall time: 1.62 s\n"
     ]
    },
    {
     "data": {
      "image/png": "[encoded data removed]",
      "text/plain": [
       "<matplotlib.figure.Figure at 0x7fd0be02ff60>"
      ]
     },
     "metadata": {},
     "output_type": "display_data"
    }
   ],
   "source": [
    "name_dat = \"Snippets\"\n",
    "\n",
    "def read_file(archivo,symb=' '):\n",
    "    with open(archivo,'r') as f:\n",
    "        lineas = f.readlines()\n",
    "        tokens_f = [linea.strip().split(symb) for linea in lineas]\n",
    "        labels = [tokens[-1] for tokens in tokens_f]\n",
    "        tokens = [' '.join(tokens[:-1]) for tokens in tokens_f]\n",
    "    return labels,tokens\n",
    "labels_t,texts_t = read_file(\"Data/data-web-snippets/train.txt\")\n",
    "labels_test,texts_test = read_file(\"Data/data-web-snippets/test.txt\")\n",
    "print(\"Datos de entrenamiento: \",len(texts_t))\n",
    "print(\"Datos de pruebas: \",len(texts_test))\n",
    "\n",
    "labels = list(set(labels_t))\n",
    "\n",
    "from sklearn.model_selection import train_test_split\n",
    "labels_t = np.asarray(labels_t)\n",
    "labels_test = np.asarray(labels_test)\n",
    "texts_train,texts_val,labels_train,labels_val  = train_test_split(texts_t,labels_t,random_state=20,test_size=0.1)\n",
    "\n",
    "print(\"Cantidad de datos Entrenamiento: \",len(texts_train))\n",
    "print(\"Cantidad de datos Validación: \",len(texts_val))\n",
    "print(\"Cantidad de datos Pruebas: \",len(texts_test))\n",
    "\n",
    "\n",
    "from sklearn.feature_extraction.text import TfidfVectorizer\n",
    "from nltk.stem.snowball import SnowballStemmer\n",
    "from nltk.stem import WordNetLemmatizer \n",
    "tokenizer = TfidfVectorizer().build_tokenizer()\n",
    "stemmer = SnowballStemmer(\"english\") \n",
    "lemmatizer = WordNetLemmatizer()\n",
    "\n",
    "\"\"\"Extract features from raw input\"\"\"\n",
    "def preProcess(s): #String processor\n",
    "    return s.lower().strip().strip('-').strip('_')\n",
    "def number_normalize(doc):\n",
    "    results = []\n",
    "    for token in tokenizer(doc):\n",
    "        token_pro = preProcess(token)\n",
    "        if len(token_pro) != 0 and not token_pro[0].isdigit():\n",
    "            results.append(token_pro)\n",
    "    return results\n",
    "def stemmed_words(doc):\n",
    "    results = []\n",
    "    for token in tokenizer(doc):\n",
    "        pre_pro = preProcess(token)\n",
    "        #token_pro = stemmer.stem(pre_pro) #aumenta x10 el tiempo de procesamiento\n",
    "        token_pro = lemmatizer.lemmatize(pre_pro) #so can explain/interpretae -- aumenta x5 el tiempo de proce\n",
    "        if len(token_pro) > 2 and not token_pro[0].isdigit(): #elimina palabra largo menor a 2\n",
    "            results.append(token_pro)\n",
    "    return results\n",
    "\n",
    "def get_transform_representation(mode, analizer,min_count,max_feat):\n",
    "    smooth_idf_b = False\n",
    "    use_idf_b = False\n",
    "    binary_b = False\n",
    "\n",
    "    if mode == 'binary':\n",
    "        binary_b = True\n",
    "    elif mode == 'tf':     \n",
    "        pass #default is tf\n",
    "    elif mode == 'tf-idf':\n",
    "        use_idf_b = True\n",
    "        smooth_idf_b = True #inventa 1 conteo imaginario (como priors)--laplace smoothing\n",
    "    return TfidfVectorizer(stop_words='english',tokenizer=analizer,min_df=min_count, max_df=0.8, max_features=max_feat\n",
    "                                ,binary=binary_b, use_idf=use_idf_b, smooth_idf=smooth_idf_b,norm=None\n",
    "                                  ,ngram_range=(1, 3)) \n",
    "\n",
    "min_count = 1 #default = 1\n",
    "max_feat = 10000 #Best: 10000 -- Hinton (2000)\n",
    "vectorizer = get_transform_representation(\"tf\", stemmed_words,min_count,max_feat)\n",
    "\n",
    "%time vectorizer.fit(texts_train)\n",
    "vectors_train = vectorizer.transform(texts_train)\n",
    "vectors_val = vectorizer.transform(texts_val)\n",
    "vectors_test = vectorizer.transform(texts_test)\n",
    "\n",
    "token2idx = vectorizer.vocabulary_\n",
    "idx2token = {idx:token for token,idx in token2idx.items()}\n",
    "\n",
    "\n",
    "\n",
    "#todense --get representation\n",
    "X_train = np.asarray(vectors_train.todense())\n",
    "X_val = np.asarray(vectors_val.todense())\n",
    "X_test = np.asarray(vectors_test.todense())\n",
    "del vectors_train,vectors_val,vectors_test#,vectors_train2,vectors_val2,vectors_test2\n",
    "gc.collect()\n",
    "\n",
    "\n",
    "##representacion soft para TF ---mucho mejor!\n",
    "X_train_input = np.log(X_train+1) \n",
    "X_val_input = np.log(X_val+1) \n",
    "X_test_input = np.log(X_test+1) \n",
    "plt.plot(X_train_input[0])\n",
    "plt.show()"
   ]
  },
  {
   "cell_type": "markdown",
   "metadata": {},
   "source": [
    "#### Para texto"
   ]
  },
  {
   "cell_type": "code",
   "execution_count": 73,
   "metadata": {
    "collapsed": false
   },
   "outputs": [
    {
     "name": "stderr",
     "output_type": "stream",
     "text": [
      "/home/fmena/anaconda3/envs/tesis/lib/python3.5/site-packages/ipykernel/__main__.py:2: RuntimeWarning: invalid value encountered in true_divide\n",
      "  from ipykernel import kernelapp as app\n",
      "/home/fmena/anaconda3/envs/tesis/lib/python3.5/site-packages/ipykernel/__main__.py:3: RuntimeWarning: invalid value encountered in true_divide\n",
      "  app.launch_new_instance()\n",
      "/home/fmena/anaconda3/envs/tesis/lib/python3.5/site-packages/ipykernel/__main__.py:4: RuntimeWarning: invalid value encountered in true_divide\n"
     ]
    },
    {
     "name": "stdout",
     "output_type": "stream",
     "text": [
      "Output target normalizado en dataset  Snippets\n"
     ]
    },
    {
     "data": {
      "text/plain": [
       "4935"
      ]
     },
     "execution_count": 73,
     "metadata": {},
     "output_type": "execute_result"
    }
   ],
   "source": [
    "#outputs as probabolities -- normalized over datasets..\n",
    "X_train = X_train/X_train.sum(axis=-1,keepdims=True) \n",
    "X_val = X_val/X_val.sum(axis=-1,keepdims=True)\n",
    "X_test = X_test/X_test.sum(axis=-1,keepdims=True)\n",
    "print(\"Output target normalizado en dataset \",name_dat)\n",
    "\n",
    "X_train[np.isnan(X_train)] = 0\n",
    "X_val[np.isnan(X_val)] = 0\n",
    "X_test[np.isnan(X_test)] = 0\n",
    "\n",
    "X_total_input = np.concatenate((X_train_input,X_val_input),axis=0)\n",
    "X_total = np.concatenate((X_train,X_val),axis=0)\n",
    "labels_total = np.concatenate((labels_train,labels_val),axis=0)\n",
    "del X_train_input, X_train, X_val, X_val_input\n",
    "gc.collect()"
   ]
  },
  {
   "cell_type": "code",
   "execution_count": null,
   "metadata": {
    "collapsed": true
   },
   "outputs": [],
   "source": []
  },
  {
   "cell_type": "code",
   "execution_count": 50,
   "metadata": {
    "collapsed": false
   },
   "outputs": [
    {
     "data": {
      "text/plain": [
       "(70000, 512)"
      ]
     },
     "execution_count": 50,
     "metadata": {},
     "output_type": "execute_result"
    }
   ],
   "source": [
    "name_dat = \"MNIST\"\n",
    "\n",
    "(_, aux_t), (_, aux_test) = keras.datasets.mnist.load_data()\n",
    "labels = [\"0\", \"1\", \"2\", \"3\", \"4\", \"5\", \"6\", \"7\", \"8\", \"9\"]\n",
    "labels_t = np.asarray([labels[value] for value in aux_t])\n",
    "labels_test = np.asarray([labels[value] for value in aux_test])\n",
    "labels_t = np.concatenate((labels_t,labels_test),axis=0)\n",
    "\n",
    "X_t = np.load(\"../AUX/VGG_128/mnist_VGG_avg.npy\")\n",
    "X_t.shape"
   ]
  },
  {
   "cell_type": "code",
   "execution_count": 45,
   "metadata": {
    "collapsed": false
   },
   "outputs": [
    {
     "data": {
      "text/plain": [
       "(60000, 512)"
      ]
     },
     "execution_count": 45,
     "metadata": {},
     "output_type": "execute_result"
    }
   ],
   "source": [
    "name_dat = \"CIFAR-10\"\n",
    "\n",
    "(_, aux_t), (_, aux_test) = keras.datasets.cifar10.load_data()\n",
    "\n",
    "labels = [\"airplane\", \"automobile\",\"bird\", \"cat\",\"deer\",\"dog\",\"frog\",\"horse\",\"ship\",\"truck\"]\n",
    "labels_t = np.asarray([labels[value[0]] for value in aux_t])\n",
    "labels_test = np.asarray([labels[value[0]] for value in aux_test])\n",
    "labels_t = np.concatenate((labels_t,labels_test),axis=0)\n",
    "\n",
    "X_t = np.load(\"../AUX/VGG_224/cifar10_VGG_avg.npy\") #mejora\n",
    "X_t.shape"
   ]
  },
  {
   "cell_type": "code",
   "execution_count": 35,
   "metadata": {
    "collapsed": false
   },
   "outputs": [
    {
     "name": "stdout",
     "output_type": "stream",
     "text": [
      "Cantidad de labels:  81\n",
      "Cantidad de objetos:  169500\n",
      "category with most data (sky) has = 61066, the top-K category (mountain) has = 4232\n",
      "Cantidad de objetos:  158383\n"
     ]
    },
    {
     "data": {
      "text/plain": [
       "(158383, 512)"
      ]
     },
     "execution_count": 35,
     "metadata": {},
     "output_type": "execute_result"
    }
   ],
   "source": [
    "name_dat = \"Nus-Wide\"\n",
    "\n",
    "folder = \"../Dataset_NUSWIDE/\"\n",
    "mask_av = np.loadtxt(\"./Data/\"+name_dat+\"_mask_avail.txt\").astype(bool)\n",
    "\n",
    "labels = pd.read_csv(folder+'Concepts81.txt',header=None).values.reshape(1,-1)[0]\n",
    "print(\"Cantidad de labels: \",len(labels) )\n",
    "\n",
    "labels_t = [[] for _ in range(269648)]\n",
    "for concept in labels:\n",
    "    aux = pd.read_csv(folder+\"Groundtruth/AllLabels/Labels_\"+concept+\".txt\",header=None)\n",
    "    indexs_true = aux.loc[(aux==1).values[:,0]].index\n",
    "    \n",
    "    for value in indexs_true:\n",
    "        labels_t[value].append(concept)\n",
    "        \n",
    "labels_t = enmask_data(labels_t, mask_av)\n",
    "N_total = len(labels_t)\n",
    "print(\"Cantidad de objetos: \",N_total )\n",
    "\n",
    "new_labels = get_topK_labels(labels_t, labels, K=21)\n",
    "\n",
    "labels_t = set_newlabel_list(new_labels, labels_t)\n",
    "labels = new_labels\n",
    "# y si quedan datos sin clase?\n",
    "mask_used_t = np.asarray(list(map(len,labels_t))) != 0\n",
    "\n",
    "labels_t = enmask_data(labels_t, mask_used_t)\n",
    "print(\"Cantidad de objetos: \", len(labels_t) )\n",
    "\n",
    "X_t = np.load(\"../AUX/VGG_224/nuswide_VGG_avg.npy\")\n",
    "X_t.shape"
   ]
  },
  {
   "cell_type": "markdown",
   "metadata": {},
   "source": [
    "#### Para imagenes"
   ]
  },
  {
   "cell_type": "code",
   "execution_count": 51,
   "metadata": {
    "collapsed": false
   },
   "outputs": [
    {
     "name": "stdout",
     "output_type": "stream",
     "text": [
      "Cantidad de datos Entrenamiento:  69000\n",
      "Cantidad de datos Pruebas:  1000\n"
     ]
    }
   ],
   "source": [
    "from utils import sample_test_mask\n",
    "mask_train = sample_test_mask(labels_t, N=100)\n",
    "\n",
    "## creat test como dicen...\n",
    "X_test = X_t[~mask_train]\n",
    "X_t = X_t[mask_train]\n",
    "labels_test = enmask_data(labels_t, ~mask_train)\n",
    "labels_t = enmask_data(labels_t, mask_train)\n",
    "\n",
    "gc.collect()\n",
    "print(\"Cantidad de datos Entrenamiento: \",len(X_t))\n",
    "print(\"Cantidad de datos Pruebas: \",len(X_test))\n",
    "\n",
    "\n",
    "from sklearn.preprocessing import StandardScaler\n",
    "std = StandardScaler(with_mean=True, with_std=True)\n",
    "std.fit(X_t)\n",
    "\n",
    "X_total = std.transform(X_t)\n",
    "X_test = std.transform(X_test)\n",
    "\n",
    "X_total_input = X_total\n",
    "X_test_input = X_test"
   ]
  },
  {
   "cell_type": "markdown",
   "metadata": {},
   "source": [
    "## load model"
   ]
  },
  {
   "cell_type": "code",
   "execution_count": 74,
   "metadata": {
    "collapsed": false,
    "scrolled": true
   },
   "outputs": [
    {
     "name": "stdout",
     "output_type": "stream",
     "text": [
      "TFIDF\n",
      "_________________________________________________________________\n",
      "Layer (type)                 Output Shape              Param #   \n",
      "=================================================================\n",
      "input_6 (InputLayer)         (None, 10000)             0         \n",
      "_________________________________________________________________\n",
      "sequential_28 (Sequential)   (None, 500)               5255000   \n",
      "_________________________________________________________________\n",
      "logits-b (Dense)             (None, 32)                16032     \n",
      "=================================================================\n",
      "Total params: 5,271,032\n",
      "Trainable params: 5,269,032\n",
      "Non-trainable params: 2,000\n",
      "_________________________________________________________________\n"
     ]
    },
    {
     "name": "stderr",
     "output_type": "stream",
     "text": [
      "/home/fmena/.local/lib/python3.5/site-packages/keras/models.py:251: UserWarning: No training configuration found in save file: the model was *not* compiled. Compile it manually.\n",
      "  warnings.warn('No training configuration found in save file: '\n"
     ]
    }
   ],
   "source": [
    "if \"mnist\" in name_dat.lower() or \"cifar\" in name_dat.lower() or \"nus-wide\" in name_dat.lower():\n",
    "    type_n = \"VGG\"\n",
    "else:\n",
    "    type_n = \"TFIDF\"\n",
    "\n",
    "print(type_n)\n",
    "\n",
    "BITS_S = 32\n",
    "\n",
    "##load model\n",
    "encoder_Tvae = keras.models.load_model(\"saved_models/\"+name_dat+\"_VAE_\"+str(BITS_S)+\"b_E_\"+type_n+\"_B?.h5\")\n",
    "encoder_Bvae = keras.models.load_model(\"saved_models/\"+name_dat+\"_BVAE_\"+str(BITS_S)+\"b_E_\"+type_n+\"_B?.h5\")\n",
    "encoder_Bvae.summary()"
   ]
  },
  {
   "cell_type": "code",
   "execution_count": 75,
   "metadata": {
    "collapsed": false
   },
   "outputs": [],
   "source": [
    "train_hash_ = calculate_hash(encoder_Tvae.predict(X_total_input), from_probas=False)\n",
    "test_hash_ = calculate_hash(encoder_Tvae.predict(X_test_input),  from_probas=False)\n",
    "\n",
    "train_hash_B = calculate_hash(encoder_Bvae.predict(X_total_input), from_probas=True)\n",
    "test_hash_B = calculate_hash(encoder_Bvae.predict(X_test_input),  from_probas=True)"
   ]
  },
  {
   "cell_type": "code",
   "execution_count": null,
   "metadata": {
    "collapsed": true
   },
   "outputs": [],
   "source": []
  },
  {
   "cell_type": "code",
   "execution_count": 40,
   "metadata": {
    "collapsed": false
   },
   "outputs": [
    {
     "name": "stdout",
     "output_type": "stream",
     "text": [
      "Numero de Bits=  8\n"
     ]
    }
   ],
   "source": [
    "print(\"Numero de Bits= \",BITS_S)"
   ]
  },
  {
   "cell_type": "code",
   "execution_count": 8,
   "metadata": {
    "collapsed": false
   },
   "outputs": [
    {
     "name": "stdout",
     "output_type": "stream",
     "text": [
      "20News\n"
     ]
    },
    {
     "data": {
      "text/html": [
       "<div>\n",
       "<style scoped>\n",
       "    .dataframe tbody tr th:only-of-type {\n",
       "        vertical-align: middle;\n",
       "    }\n",
       "\n",
       "    .dataframe tbody tr th {\n",
       "        vertical-align: top;\n",
       "    }\n",
       "\n",
       "    .dataframe thead th {\n",
       "        text-align: right;\n",
       "    }\n",
       "</style>\n",
       "<table border=\"1\" class=\"dataframe\">\n",
       "  <thead>\n",
       "    <tr style=\"text-align: right;\">\n",
       "      <th></th>\n",
       "      <th>#data</th>\n",
       "      <th>#empty cells(%)</th>\n",
       "      <th>Gini cells dis</th>\n",
       "      <th>H cells dis</th>\n",
       "      <th>mean #data x cell</th>\n",
       "      <th>std #data x cell</th>\n",
       "      <th>top10</th>\n",
       "      <th>Type</th>\n",
       "    </tr>\n",
       "  </thead>\n",
       "  <tbody>\n",
       "    <tr>\n",
       "      <th>0</th>\n",
       "      <td>14683</td>\n",
       "      <td>0.078125</td>\n",
       "      <td>0.987452</td>\n",
       "      <td>0.839131</td>\n",
       "      <td>62.216102</td>\n",
       "      <td>106.836759</td>\n",
       "      <td>[874, 696, 394, 383, 372, 361, 359, 347, 341, ...</td>\n",
       "      <td>VDSH train</td>\n",
       "    </tr>\n",
       "    <tr>\n",
       "      <th>1</th>\n",
       "      <td>14683</td>\n",
       "      <td>0.148438</td>\n",
       "      <td>0.980620</td>\n",
       "      <td>0.800122</td>\n",
       "      <td>67.353211</td>\n",
       "      <td>138.123097</td>\n",
       "      <td>[1151, 866, 656, 578, 484, 483, 465, 462, 334,...</td>\n",
       "      <td>B-VAE train</td>\n",
       "    </tr>\n",
       "    <tr>\n",
       "      <th>2</th>\n",
       "      <td>3668</td>\n",
       "      <td>0.269531</td>\n",
       "      <td>0.984713</td>\n",
       "      <td>0.836358</td>\n",
       "      <td>19.614973</td>\n",
       "      <td>33.075047</td>\n",
       "      <td>[260, 194, 135, 109, 98, 96, 88, 88, 87, 84]</td>\n",
       "      <td>VDSH test</td>\n",
       "    </tr>\n",
       "    <tr>\n",
       "      <th>3</th>\n",
       "      <td>3668</td>\n",
       "      <td>0.316406</td>\n",
       "      <td>0.976047</td>\n",
       "      <td>0.797487</td>\n",
       "      <td>20.960000</td>\n",
       "      <td>42.790701</td>\n",
       "      <td>[322, 253, 185, 174, 172, 141, 131, 104, 94, 91]</td>\n",
       "      <td>B-VAE test</td>\n",
       "    </tr>\n",
       "  </tbody>\n",
       "</table>\n",
       "</div>"
      ],
      "text/plain": [
       "   #data  #empty cells(%)  Gini cells dis  H cells dis  mean #data x cell  \\\n",
       "0  14683         0.078125        0.987452     0.839131          62.216102   \n",
       "1  14683         0.148438        0.980620     0.800122          67.353211   \n",
       "2   3668         0.269531        0.984713     0.836358          19.614973   \n",
       "3   3668         0.316406        0.976047     0.797487          20.960000   \n",
       "\n",
       "   std #data x cell                                              top10  \\\n",
       "0        106.836759  [874, 696, 394, 383, 372, 361, 359, 347, 341, ...   \n",
       "1        138.123097  [1151, 866, 656, 578, 484, 483, 465, 462, 334,...   \n",
       "2         33.075047       [260, 194, 135, 109, 98, 96, 88, 88, 87, 84]   \n",
       "3         42.790701   [322, 253, 185, 174, 172, 141, 131, 104, 94, 91]   \n",
       "\n",
       "          Type  \n",
       "0   VDSH train  \n",
       "1  B-VAE train  \n",
       "2    VDSH test  \n",
       "3   B-VAE test  "
      ]
     },
     "execution_count": 8,
     "metadata": {},
     "output_type": "execute_result"
    }
   ],
   "source": [
    "#plot together--\n",
    "print(name_dat)\n",
    "compare_cells_dist(train_hash_, train_hash_B, test_hash_, test_hash_B)"
   ]
  },
  {
   "cell_type": "code",
   "execution_count": 14,
   "metadata": {
    "collapsed": false
   },
   "outputs": [
    {
     "name": "stdout",
     "output_type": "stream",
     "text": [
      "Reuters\n"
     ]
    },
    {
     "data": {
      "text/html": [
       "<div>\n",
       "<style scoped>\n",
       "    .dataframe tbody tr th:only-of-type {\n",
       "        vertical-align: middle;\n",
       "    }\n",
       "\n",
       "    .dataframe tbody tr th {\n",
       "        vertical-align: top;\n",
       "    }\n",
       "\n",
       "    .dataframe thead th {\n",
       "        text-align: right;\n",
       "    }\n",
       "</style>\n",
       "<table border=\"1\" class=\"dataframe\">\n",
       "  <thead>\n",
       "    <tr style=\"text-align: right;\">\n",
       "      <th></th>\n",
       "      <th>#data</th>\n",
       "      <th>#empty cells(%)</th>\n",
       "      <th>Gini cells dis</th>\n",
       "      <th>H cells dis</th>\n",
       "      <th>mean #data x cell</th>\n",
       "      <th>std #data x cell</th>\n",
       "      <th>top10</th>\n",
       "      <th>Type</th>\n",
       "    </tr>\n",
       "  </thead>\n",
       "  <tbody>\n",
       "    <tr>\n",
       "      <th>0</th>\n",
       "      <td>8716</td>\n",
       "      <td>0.359375</td>\n",
       "      <td>0.973429</td>\n",
       "      <td>0.791104</td>\n",
       "      <td>53.146341</td>\n",
       "      <td>110.604947</td>\n",
       "      <td>[865, 815, 376, 338, 335, 267, 247, 245, 233, ...</td>\n",
       "      <td>VDSH train</td>\n",
       "    </tr>\n",
       "    <tr>\n",
       "      <th>1</th>\n",
       "      <td>8716</td>\n",
       "      <td>0.757812</td>\n",
       "      <td>0.952928</td>\n",
       "      <td>0.742352</td>\n",
       "      <td>140.580645</td>\n",
       "      <td>238.216325</td>\n",
       "      <td>[1031, 951, 714, 661, 647, 500, 483, 480, 426,...</td>\n",
       "      <td>B-VAE train</td>\n",
       "    </tr>\n",
       "    <tr>\n",
       "      <th>2</th>\n",
       "      <td>967</td>\n",
       "      <td>0.652344</td>\n",
       "      <td>0.973432</td>\n",
       "      <td>0.843104</td>\n",
       "      <td>10.865169</td>\n",
       "      <td>16.613377</td>\n",
       "      <td>[109, 82, 57, 40, 37, 37, 33, 32, 28, 22]</td>\n",
       "      <td>VDSH test</td>\n",
       "    </tr>\n",
       "    <tr>\n",
       "      <th>3</th>\n",
       "      <td>967</td>\n",
       "      <td>0.843750</td>\n",
       "      <td>0.952819</td>\n",
       "      <td>0.795213</td>\n",
       "      <td>24.175000</td>\n",
       "      <td>32.793206</td>\n",
       "      <td>[118, 114, 102, 82, 79, 64, 59, 48, 40, 31]</td>\n",
       "      <td>B-VAE test</td>\n",
       "    </tr>\n",
       "  </tbody>\n",
       "</table>\n",
       "</div>"
      ],
      "text/plain": [
       "   #data  #empty cells(%)  Gini cells dis  H cells dis  mean #data x cell  \\\n",
       "0   8716         0.359375        0.973429     0.791104          53.146341   \n",
       "1   8716         0.757812        0.952928     0.742352         140.580645   \n",
       "2    967         0.652344        0.973432     0.843104          10.865169   \n",
       "3    967         0.843750        0.952819     0.795213          24.175000   \n",
       "\n",
       "   std #data x cell                                              top10  \\\n",
       "0        110.604947  [865, 815, 376, 338, 335, 267, 247, 245, 233, ...   \n",
       "1        238.216325  [1031, 951, 714, 661, 647, 500, 483, 480, 426,...   \n",
       "2         16.613377          [109, 82, 57, 40, 37, 37, 33, 32, 28, 22]   \n",
       "3         32.793206        [118, 114, 102, 82, 79, 64, 59, 48, 40, 31]   \n",
       "\n",
       "          Type  \n",
       "0   VDSH train  \n",
       "1  B-VAE train  \n",
       "2    VDSH test  \n",
       "3   B-VAE test  "
      ]
     },
     "execution_count": 14,
     "metadata": {},
     "output_type": "execute_result"
    }
   ],
   "source": [
    "#plot together--\n",
    "print(name_dat)\n",
    "compare_cells_dist(train_hash_, train_hash_B, test_hash_, test_hash_B)"
   ]
  },
  {
   "cell_type": "code",
   "execution_count": 19,
   "metadata": {
    "collapsed": false
   },
   "outputs": [
    {
     "name": "stdout",
     "output_type": "stream",
     "text": [
      "TMC\n"
     ]
    },
    {
     "data": {
      "text/html": [
       "<div>\n",
       "<style scoped>\n",
       "    .dataframe tbody tr th:only-of-type {\n",
       "        vertical-align: middle;\n",
       "    }\n",
       "\n",
       "    .dataframe tbody tr th {\n",
       "        vertical-align: top;\n",
       "    }\n",
       "\n",
       "    .dataframe thead th {\n",
       "        text-align: right;\n",
       "    }\n",
       "</style>\n",
       "<table border=\"1\" class=\"dataframe\">\n",
       "  <thead>\n",
       "    <tr style=\"text-align: right;\">\n",
       "      <th></th>\n",
       "      <th>#data</th>\n",
       "      <th>#empty cells(%)</th>\n",
       "      <th>Gini cells dis</th>\n",
       "      <th>H cells dis</th>\n",
       "      <th>mean #data x cell</th>\n",
       "      <th>std #data x cell</th>\n",
       "      <th>top10</th>\n",
       "      <th>Type</th>\n",
       "    </tr>\n",
       "  </thead>\n",
       "  <tbody>\n",
       "    <tr>\n",
       "      <th>0</th>\n",
       "      <td>24784</td>\n",
       "      <td>0.207031</td>\n",
       "      <td>0.987905</td>\n",
       "      <td>0.841057</td>\n",
       "      <td>122.088670</td>\n",
       "      <td>190.836974</td>\n",
       "      <td>[1214, 1137, 1080, 680, 644, 611, 590, 570, 51...</td>\n",
       "      <td>VDSH train</td>\n",
       "    </tr>\n",
       "    <tr>\n",
       "      <th>1</th>\n",
       "      <td>24784</td>\n",
       "      <td>0.640625</td>\n",
       "      <td>0.973804</td>\n",
       "      <td>0.786794</td>\n",
       "      <td>269.391304</td>\n",
       "      <td>415.931222</td>\n",
       "      <td>[1796, 1602, 1337, 1266, 1184, 1182, 1157, 110...</td>\n",
       "      <td>B-VAE train</td>\n",
       "    </tr>\n",
       "    <tr>\n",
       "      <th>2</th>\n",
       "      <td>3498</td>\n",
       "      <td>0.410156</td>\n",
       "      <td>0.988030</td>\n",
       "      <td>0.867489</td>\n",
       "      <td>23.165563</td>\n",
       "      <td>31.040762</td>\n",
       "      <td>[186, 172, 151, 96, 93, 92, 88, 87, 82, 76]</td>\n",
       "      <td>VDSH test</td>\n",
       "    </tr>\n",
       "    <tr>\n",
       "      <th>3</th>\n",
       "      <td>3498</td>\n",
       "      <td>0.746094</td>\n",
       "      <td>0.975059</td>\n",
       "      <td>0.826833</td>\n",
       "      <td>53.815385</td>\n",
       "      <td>67.991604</td>\n",
       "      <td>[252, 209, 205, 201, 199, 186, 178, 165, 160, ...</td>\n",
       "      <td>B-VAE test</td>\n",
       "    </tr>\n",
       "  </tbody>\n",
       "</table>\n",
       "</div>"
      ],
      "text/plain": [
       "   #data  #empty cells(%)  Gini cells dis  H cells dis  mean #data x cell  \\\n",
       "0  24784         0.207031        0.987905     0.841057         122.088670   \n",
       "1  24784         0.640625        0.973804     0.786794         269.391304   \n",
       "2   3498         0.410156        0.988030     0.867489          23.165563   \n",
       "3   3498         0.746094        0.975059     0.826833          53.815385   \n",
       "\n",
       "   std #data x cell                                              top10  \\\n",
       "0        190.836974  [1214, 1137, 1080, 680, 644, 611, 590, 570, 51...   \n",
       "1        415.931222  [1796, 1602, 1337, 1266, 1184, 1182, 1157, 110...   \n",
       "2         31.040762        [186, 172, 151, 96, 93, 92, 88, 87, 82, 76]   \n",
       "3         67.991604  [252, 209, 205, 201, 199, 186, 178, 165, 160, ...   \n",
       "\n",
       "          Type  \n",
       "0   VDSH train  \n",
       "1  B-VAE train  \n",
       "2    VDSH test  \n",
       "3   B-VAE test  "
      ]
     },
     "execution_count": 19,
     "metadata": {},
     "output_type": "execute_result"
    }
   ],
   "source": [
    "#plot together--\n",
    "print(name_dat)\n",
    "compare_cells_dist(train_hash_, train_hash_B, test_hash_, test_hash_B)"
   ]
  },
  {
   "cell_type": "code",
   "execution_count": 24,
   "metadata": {
    "collapsed": false
   },
   "outputs": [
    {
     "name": "stdout",
     "output_type": "stream",
     "text": [
      "Snippets\n"
     ]
    },
    {
     "data": {
      "text/html": [
       "<div>\n",
       "<style scoped>\n",
       "    .dataframe tbody tr th:only-of-type {\n",
       "        vertical-align: middle;\n",
       "    }\n",
       "\n",
       "    .dataframe tbody tr th {\n",
       "        vertical-align: top;\n",
       "    }\n",
       "\n",
       "    .dataframe thead th {\n",
       "        text-align: right;\n",
       "    }\n",
       "</style>\n",
       "<table border=\"1\" class=\"dataframe\">\n",
       "  <thead>\n",
       "    <tr style=\"text-align: right;\">\n",
       "      <th></th>\n",
       "      <th>#data</th>\n",
       "      <th>#empty cells(%)</th>\n",
       "      <th>Gini cells dis</th>\n",
       "      <th>H cells dis</th>\n",
       "      <th>mean #data x cell</th>\n",
       "      <th>std #data x cell</th>\n",
       "      <th>top10</th>\n",
       "      <th>Type</th>\n",
       "    </tr>\n",
       "  </thead>\n",
       "  <tbody>\n",
       "    <tr>\n",
       "      <th>0</th>\n",
       "      <td>10060</td>\n",
       "      <td>0.050781</td>\n",
       "      <td>0.992044</td>\n",
       "      <td>0.874373</td>\n",
       "      <td>41.399177</td>\n",
       "      <td>57.445780</td>\n",
       "      <td>[475, 299, 273, 205, 204, 201, 179, 176, 161, ...</td>\n",
       "      <td>VDSH train</td>\n",
       "    </tr>\n",
       "    <tr>\n",
       "      <th>1</th>\n",
       "      <td>10060</td>\n",
       "      <td>0.042969</td>\n",
       "      <td>0.989268</td>\n",
       "      <td>0.859134</td>\n",
       "      <td>41.061224</td>\n",
       "      <td>66.445500</td>\n",
       "      <td>[643, 281, 281, 272, 246, 211, 211, 206, 196, ...</td>\n",
       "      <td>B-VAE train</td>\n",
       "    </tr>\n",
       "    <tr>\n",
       "      <th>2</th>\n",
       "      <td>2280</td>\n",
       "      <td>0.453125</td>\n",
       "      <td>0.980866</td>\n",
       "      <td>0.845335</td>\n",
       "      <td>16.285714</td>\n",
       "      <td>26.559175</td>\n",
       "      <td>[209, 122, 113, 99, 99, 57, 54, 54, 53, 53]</td>\n",
       "      <td>VDSH test</td>\n",
       "    </tr>\n",
       "    <tr>\n",
       "      <th>3</th>\n",
       "      <td>2280</td>\n",
       "      <td>0.273438</td>\n",
       "      <td>0.987749</td>\n",
       "      <td>0.866294</td>\n",
       "      <td>12.258065</td>\n",
       "      <td>18.454188</td>\n",
       "      <td>[131, 104, 104, 76, 67, 61, 52, 52, 49, 48]</td>\n",
       "      <td>B-VAE test</td>\n",
       "    </tr>\n",
       "  </tbody>\n",
       "</table>\n",
       "</div>"
      ],
      "text/plain": [
       "   #data  #empty cells(%)  Gini cells dis  H cells dis  mean #data x cell  \\\n",
       "0  10060         0.050781        0.992044     0.874373          41.399177   \n",
       "1  10060         0.042969        0.989268     0.859134          41.061224   \n",
       "2   2280         0.453125        0.980866     0.845335          16.285714   \n",
       "3   2280         0.273438        0.987749     0.866294          12.258065   \n",
       "\n",
       "   std #data x cell                                              top10  \\\n",
       "0         57.445780  [475, 299, 273, 205, 204, 201, 179, 176, 161, ...   \n",
       "1         66.445500  [643, 281, 281, 272, 246, 211, 211, 206, 196, ...   \n",
       "2         26.559175        [209, 122, 113, 99, 99, 57, 54, 54, 53, 53]   \n",
       "3         18.454188        [131, 104, 104, 76, 67, 61, 52, 52, 49, 48]   \n",
       "\n",
       "          Type  \n",
       "0   VDSH train  \n",
       "1  B-VAE train  \n",
       "2    VDSH test  \n",
       "3   B-VAE test  "
      ]
     },
     "execution_count": 24,
     "metadata": {},
     "output_type": "execute_result"
    }
   ],
   "source": [
    "#plot together--\n",
    "print(name_dat)\n",
    "compare_cells_dist(train_hash_, train_hash_B, test_hash_, test_hash_B)"
   ]
  },
  {
   "cell_type": "code",
   "execution_count": null,
   "metadata": {
    "collapsed": true
   },
   "outputs": [],
   "source": []
  },
  {
   "cell_type": "code",
   "execution_count": 29,
   "metadata": {
    "collapsed": false
   },
   "outputs": [
    {
     "name": "stdout",
     "output_type": "stream",
     "text": [
      "MNIST\n"
     ]
    },
    {
     "data": {
      "text/html": [
       "<div>\n",
       "<style scoped>\n",
       "    .dataframe tbody tr th:only-of-type {\n",
       "        vertical-align: middle;\n",
       "    }\n",
       "\n",
       "    .dataframe tbody tr th {\n",
       "        vertical-align: top;\n",
       "    }\n",
       "\n",
       "    .dataframe thead th {\n",
       "        text-align: right;\n",
       "    }\n",
       "</style>\n",
       "<table border=\"1\" class=\"dataframe\">\n",
       "  <thead>\n",
       "    <tr style=\"text-align: right;\">\n",
       "      <th></th>\n",
       "      <th>#data</th>\n",
       "      <th>#empty cells(%)</th>\n",
       "      <th>Gini cells dis</th>\n",
       "      <th>H cells dis</th>\n",
       "      <th>mean #data x cell</th>\n",
       "      <th>std #data x cell</th>\n",
       "      <th>top10</th>\n",
       "      <th>Type</th>\n",
       "    </tr>\n",
       "  </thead>\n",
       "  <tbody>\n",
       "    <tr>\n",
       "      <th>0</th>\n",
       "      <td>69000</td>\n",
       "      <td>0.000000</td>\n",
       "      <td>0.992141</td>\n",
       "      <td>0.885454</td>\n",
       "      <td>269.531250</td>\n",
       "      <td>381.551631</td>\n",
       "      <td>[2520, 2477, 2011, 1986, 1780, 1575, 1564, 135...</td>\n",
       "      <td>VDSH train</td>\n",
       "    </tr>\n",
       "    <tr>\n",
       "      <th>1</th>\n",
       "      <td>69000</td>\n",
       "      <td>0.046875</td>\n",
       "      <td>0.967473</td>\n",
       "      <td>0.743243</td>\n",
       "      <td>282.786885</td>\n",
       "      <td>795.033124</td>\n",
       "      <td>[8063, 6959, 2396, 2303, 2267, 2132, 2125, 205...</td>\n",
       "      <td>B-VAE train</td>\n",
       "    </tr>\n",
       "    <tr>\n",
       "      <th>2</th>\n",
       "      <td>1000</td>\n",
       "      <td>0.222656</td>\n",
       "      <td>0.992204</td>\n",
       "      <td>0.904266</td>\n",
       "      <td>5.025126</td>\n",
       "      <td>6.243338</td>\n",
       "      <td>[41, 35, 31, 31, 28, 24, 22, 20, 18, 18]</td>\n",
       "      <td>VDSH test</td>\n",
       "    </tr>\n",
       "    <tr>\n",
       "      <th>3</th>\n",
       "      <td>1000</td>\n",
       "      <td>0.515625</td>\n",
       "      <td>0.968277</td>\n",
       "      <td>0.814486</td>\n",
       "      <td>8.064516</td>\n",
       "      <td>15.930161</td>\n",
       "      <td>[125, 101, 39, 37, 37, 34, 31, 29, 28, 26]</td>\n",
       "      <td>B-VAE test</td>\n",
       "    </tr>\n",
       "  </tbody>\n",
       "</table>\n",
       "</div>"
      ],
      "text/plain": [
       "   #data  #empty cells(%)  Gini cells dis  H cells dis  mean #data x cell  \\\n",
       "0  69000         0.000000        0.992141     0.885454         269.531250   \n",
       "1  69000         0.046875        0.967473     0.743243         282.786885   \n",
       "2   1000         0.222656        0.992204     0.904266           5.025126   \n",
       "3   1000         0.515625        0.968277     0.814486           8.064516   \n",
       "\n",
       "   std #data x cell                                              top10  \\\n",
       "0        381.551631  [2520, 2477, 2011, 1986, 1780, 1575, 1564, 135...   \n",
       "1        795.033124  [8063, 6959, 2396, 2303, 2267, 2132, 2125, 205...   \n",
       "2          6.243338           [41, 35, 31, 31, 28, 24, 22, 20, 18, 18]   \n",
       "3         15.930161         [125, 101, 39, 37, 37, 34, 31, 29, 28, 26]   \n",
       "\n",
       "          Type  \n",
       "0   VDSH train  \n",
       "1  B-VAE train  \n",
       "2    VDSH test  \n",
       "3   B-VAE test  "
      ]
     },
     "execution_count": 29,
     "metadata": {},
     "output_type": "execute_result"
    }
   ],
   "source": [
    "#plot together--\n",
    "print(name_dat)\n",
    "compare_cells_dist(train_hash_, train_hash_B, test_hash_, test_hash_B)"
   ]
  },
  {
   "cell_type": "code",
   "execution_count": 34,
   "metadata": {
    "collapsed": false
   },
   "outputs": [
    {
     "name": "stdout",
     "output_type": "stream",
     "text": [
      "CIFAR-10\n"
     ]
    },
    {
     "data": {
      "text/html": [
       "<div>\n",
       "<style scoped>\n",
       "    .dataframe tbody tr th:only-of-type {\n",
       "        vertical-align: middle;\n",
       "    }\n",
       "\n",
       "    .dataframe tbody tr th {\n",
       "        vertical-align: top;\n",
       "    }\n",
       "\n",
       "    .dataframe thead th {\n",
       "        text-align: right;\n",
       "    }\n",
       "</style>\n",
       "<table border=\"1\" class=\"dataframe\">\n",
       "  <thead>\n",
       "    <tr style=\"text-align: right;\">\n",
       "      <th></th>\n",
       "      <th>#data</th>\n",
       "      <th>#empty cells(%)</th>\n",
       "      <th>Gini cells dis</th>\n",
       "      <th>H cells dis</th>\n",
       "      <th>mean #data x cell</th>\n",
       "      <th>std #data x cell</th>\n",
       "      <th>top10</th>\n",
       "      <th>Type</th>\n",
       "    </tr>\n",
       "  </thead>\n",
       "  <tbody>\n",
       "    <tr>\n",
       "      <th>0</th>\n",
       "      <td>58100</td>\n",
       "      <td>0.000000</td>\n",
       "      <td>0.996275</td>\n",
       "      <td>0.937852</td>\n",
       "      <td>226.953125</td>\n",
       "      <td>221.201685</td>\n",
       "      <td>[1444, 1421, 1316, 1210, 1102, 1022, 775, 773,...</td>\n",
       "      <td>VDSH train</td>\n",
       "    </tr>\n",
       "    <tr>\n",
       "      <th>1</th>\n",
       "      <td>58100</td>\n",
       "      <td>0.003906</td>\n",
       "      <td>0.993046</td>\n",
       "      <td>0.898018</td>\n",
       "      <td>227.843137</td>\n",
       "      <td>302.816062</td>\n",
       "      <td>[2195, 1818, 1681, 1403, 1240, 1228, 1179, 111...</td>\n",
       "      <td>B-VAE train</td>\n",
       "    </tr>\n",
       "    <tr>\n",
       "      <th>2</th>\n",
       "      <td>1900</td>\n",
       "      <td>0.050781</td>\n",
       "      <td>0.992874</td>\n",
       "      <td>0.909589</td>\n",
       "      <td>7.818930</td>\n",
       "      <td>10.268020</td>\n",
       "      <td>[90, 74, 65, 49, 35, 35, 29, 25, 25, 24]</td>\n",
       "      <td>VDSH test</td>\n",
       "    </tr>\n",
       "    <tr>\n",
       "      <th>3</th>\n",
       "      <td>1900</td>\n",
       "      <td>0.109375</td>\n",
       "      <td>0.990980</td>\n",
       "      <td>0.885086</td>\n",
       "      <td>8.333333</td>\n",
       "      <td>11.924593</td>\n",
       "      <td>[76, 74, 63, 54, 52, 49, 47, 41, 39, 39]</td>\n",
       "      <td>B-VAE test</td>\n",
       "    </tr>\n",
       "  </tbody>\n",
       "</table>\n",
       "</div>"
      ],
      "text/plain": [
       "   #data  #empty cells(%)  Gini cells dis  H cells dis  mean #data x cell  \\\n",
       "0  58100         0.000000        0.996275     0.937852         226.953125   \n",
       "1  58100         0.003906        0.993046     0.898018         227.843137   \n",
       "2   1900         0.050781        0.992874     0.909589           7.818930   \n",
       "3   1900         0.109375        0.990980     0.885086           8.333333   \n",
       "\n",
       "   std #data x cell                                              top10  \\\n",
       "0        221.201685  [1444, 1421, 1316, 1210, 1102, 1022, 775, 773,...   \n",
       "1        302.816062  [2195, 1818, 1681, 1403, 1240, 1228, 1179, 111...   \n",
       "2         10.268020           [90, 74, 65, 49, 35, 35, 29, 25, 25, 24]   \n",
       "3         11.924593           [76, 74, 63, 54, 52, 49, 47, 41, 39, 39]   \n",
       "\n",
       "          Type  \n",
       "0   VDSH train  \n",
       "1  B-VAE train  \n",
       "2    VDSH test  \n",
       "3   B-VAE test  "
      ]
     },
     "execution_count": 34,
     "metadata": {},
     "output_type": "execute_result"
    }
   ],
   "source": [
    "#plot together--\n",
    "print(name_dat)\n",
    "compare_cells_dist(train_hash_, train_hash_B, test_hash_, test_hash_B)"
   ]
  },
  {
   "cell_type": "code",
   "execution_count": 39,
   "metadata": {
    "collapsed": false
   },
   "outputs": [
    {
     "name": "stdout",
     "output_type": "stream",
     "text": [
      "Nus-Wide\n"
     ]
    },
    {
     "data": {
      "text/html": [
       "<div>\n",
       "<style scoped>\n",
       "    .dataframe tbody tr th:only-of-type {\n",
       "        vertical-align: middle;\n",
       "    }\n",
       "\n",
       "    .dataframe tbody tr th {\n",
       "        vertical-align: top;\n",
       "    }\n",
       "\n",
       "    .dataframe thead th {\n",
       "        text-align: right;\n",
       "    }\n",
       "</style>\n",
       "<table border=\"1\" class=\"dataframe\">\n",
       "  <thead>\n",
       "    <tr style=\"text-align: right;\">\n",
       "      <th></th>\n",
       "      <th>#data</th>\n",
       "      <th>#empty cells(%)</th>\n",
       "      <th>Gini cells dis</th>\n",
       "      <th>H cells dis</th>\n",
       "      <th>mean #data x cell</th>\n",
       "      <th>std #data x cell</th>\n",
       "      <th>top10</th>\n",
       "      <th>Type</th>\n",
       "    </tr>\n",
       "  </thead>\n",
       "  <tbody>\n",
       "    <tr>\n",
       "      <th>0</th>\n",
       "      <td>156283</td>\n",
       "      <td>0.000000</td>\n",
       "      <td>0.993023</td>\n",
       "      <td>0.907571</td>\n",
       "      <td>610.480469</td>\n",
       "      <td>814.272139</td>\n",
       "      <td>[7455, 5927, 4787, 4363, 2891, 2667, 2356, 221...</td>\n",
       "      <td>VDSH train</td>\n",
       "    </tr>\n",
       "    <tr>\n",
       "      <th>1</th>\n",
       "      <td>156283</td>\n",
       "      <td>0.000000</td>\n",
       "      <td>0.955354</td>\n",
       "      <td>0.748948</td>\n",
       "      <td>610.480469</td>\n",
       "      <td>2059.828910</td>\n",
       "      <td>[28525, 9328, 7761, 6489, 6484, 4344, 3823, 37...</td>\n",
       "      <td>B-VAE train</td>\n",
       "    </tr>\n",
       "    <tr>\n",
       "      <th>2</th>\n",
       "      <td>2100</td>\n",
       "      <td>0.140625</td>\n",
       "      <td>0.979651</td>\n",
       "      <td>0.844905</td>\n",
       "      <td>9.545455</td>\n",
       "      <td>20.150631</td>\n",
       "      <td>[220, 125, 107, 88, 56, 49, 41, 36, 33, 33]</td>\n",
       "      <td>VDSH test</td>\n",
       "    </tr>\n",
       "    <tr>\n",
       "      <th>3</th>\n",
       "      <td>2100</td>\n",
       "      <td>0.300781</td>\n",
       "      <td>0.895384</td>\n",
       "      <td>0.663068</td>\n",
       "      <td>11.731844</td>\n",
       "      <td>50.626308</td>\n",
       "      <td>[622, 231, 109, 94, 68, 43, 43, 41, 38, 36]</td>\n",
       "      <td>B-VAE test</td>\n",
       "    </tr>\n",
       "  </tbody>\n",
       "</table>\n",
       "</div>"
      ],
      "text/plain": [
       "    #data  #empty cells(%)  Gini cells dis  H cells dis  mean #data x cell  \\\n",
       "0  156283         0.000000        0.993023     0.907571         610.480469   \n",
       "1  156283         0.000000        0.955354     0.748948         610.480469   \n",
       "2    2100         0.140625        0.979651     0.844905           9.545455   \n",
       "3    2100         0.300781        0.895384     0.663068          11.731844   \n",
       "\n",
       "   std #data x cell                                              top10  \\\n",
       "0        814.272139  [7455, 5927, 4787, 4363, 2891, 2667, 2356, 221...   \n",
       "1       2059.828910  [28525, 9328, 7761, 6489, 6484, 4344, 3823, 37...   \n",
       "2         20.150631        [220, 125, 107, 88, 56, 49, 41, 36, 33, 33]   \n",
       "3         50.626308        [622, 231, 109, 94, 68, 43, 43, 41, 38, 36]   \n",
       "\n",
       "          Type  \n",
       "0   VDSH train  \n",
       "1  B-VAE train  \n",
       "2    VDSH test  \n",
       "3   B-VAE test  "
      ]
     },
     "execution_count": 39,
     "metadata": {},
     "output_type": "execute_result"
    }
   ],
   "source": [
    "#plot together--\n",
    "print(name_dat)\n",
    "compare_cells_dist(train_hash_, train_hash_B, test_hash_, test_hash_B)"
   ]
  },
  {
   "cell_type": "code",
   "execution_count": null,
   "metadata": {
    "collapsed": true
   },
   "outputs": [],
   "source": []
  },
  {
   "cell_type": "code",
   "execution_count": 43,
   "metadata": {
    "collapsed": false
   },
   "outputs": [
    {
     "name": "stdout",
     "output_type": "stream",
     "text": [
      "Numero de Bits=  32\n"
     ]
    }
   ],
   "source": [
    "print(\"Numero de Bits= \",BITS_S)"
   ]
  },
  {
   "cell_type": "code",
   "execution_count": 59,
   "metadata": {
    "collapsed": false
   },
   "outputs": [
    {
     "name": "stdout",
     "output_type": "stream",
     "text": [
      "20News\n"
     ]
    },
    {
     "data": {
      "text/html": [
       "<div>\n",
       "<style scoped>\n",
       "    .dataframe tbody tr th:only-of-type {\n",
       "        vertical-align: middle;\n",
       "    }\n",
       "\n",
       "    .dataframe tbody tr th {\n",
       "        vertical-align: top;\n",
       "    }\n",
       "\n",
       "    .dataframe thead th {\n",
       "        text-align: right;\n",
       "    }\n",
       "</style>\n",
       "<table border=\"1\" class=\"dataframe\">\n",
       "  <thead>\n",
       "    <tr style=\"text-align: right;\">\n",
       "      <th></th>\n",
       "      <th>#data</th>\n",
       "      <th>#empty cells(%)</th>\n",
       "      <th>Gini cells dis</th>\n",
       "      <th>H cells dis</th>\n",
       "      <th>mean #data x cell</th>\n",
       "      <th>std #data x cell</th>\n",
       "      <th>top10</th>\n",
       "      <th>Type</th>\n",
       "    </tr>\n",
       "  </thead>\n",
       "  <tbody>\n",
       "    <tr>\n",
       "      <th>0</th>\n",
       "      <td>14683</td>\n",
       "      <td>0.999997</td>\n",
       "      <td>0.999949</td>\n",
       "      <td>0.989856</td>\n",
       "      <td>1.129635</td>\n",
       "      <td>0.919626</td>\n",
       "      <td>[72, 30, 19, 17, 16, 15, 15, 15, 15, 14]</td>\n",
       "      <td>VDSH train</td>\n",
       "    </tr>\n",
       "    <tr>\n",
       "      <th>1</th>\n",
       "      <td>14683</td>\n",
       "      <td>0.999997</td>\n",
       "      <td>0.999991</td>\n",
       "      <td>0.996095</td>\n",
       "      <td>1.063986</td>\n",
       "      <td>0.383207</td>\n",
       "      <td>[12, 11, 11, 10, 8, 7, 7, 7, 7, 6]</td>\n",
       "      <td>B-VAE train</td>\n",
       "    </tr>\n",
       "    <tr>\n",
       "      <th>2</th>\n",
       "      <td>3668</td>\n",
       "      <td>0.999999</td>\n",
       "      <td>0.999926</td>\n",
       "      <td>0.993338</td>\n",
       "      <td>1.076923</td>\n",
       "      <td>0.539635</td>\n",
       "      <td>[20, 12, 8, 8, 7, 7, 7, 5, 5, 5]</td>\n",
       "      <td>VDSH test</td>\n",
       "    </tr>\n",
       "    <tr>\n",
       "      <th>3</th>\n",
       "      <td>3668</td>\n",
       "      <td>0.999999</td>\n",
       "      <td>0.999991</td>\n",
       "      <td>0.998691</td>\n",
       "      <td>1.021442</td>\n",
       "      <td>0.183827</td>\n",
       "      <td>[5, 5, 4, 4, 3, 3, 3, 3, 3, 2]</td>\n",
       "      <td>B-VAE test</td>\n",
       "    </tr>\n",
       "  </tbody>\n",
       "</table>\n",
       "</div>"
      ],
      "text/plain": [
       "   #data  #empty cells(%)  Gini cells dis  H cells dis  mean #data x cell  \\\n",
       "0  14683         0.999997        0.999949     0.989856           1.129635   \n",
       "1  14683         0.999997        0.999991     0.996095           1.063986   \n",
       "2   3668         0.999999        0.999926     0.993338           1.076923   \n",
       "3   3668         0.999999        0.999991     0.998691           1.021442   \n",
       "\n",
       "   std #data x cell                                     top10         Type  \n",
       "0          0.919626  [72, 30, 19, 17, 16, 15, 15, 15, 15, 14]   VDSH train  \n",
       "1          0.383207        [12, 11, 11, 10, 8, 7, 7, 7, 7, 6]  B-VAE train  \n",
       "2          0.539635          [20, 12, 8, 8, 7, 7, 7, 5, 5, 5]    VDSH test  \n",
       "3          0.183827            [5, 5, 4, 4, 3, 3, 3, 3, 3, 2]   B-VAE test  "
      ]
     },
     "execution_count": 59,
     "metadata": {},
     "output_type": "execute_result"
    }
   ],
   "source": [
    "#plot together--\n",
    "print(name_dat)\n",
    "compare_cells_dist(train_hash_, train_hash_B, test_hash_, test_hash_B)"
   ]
  },
  {
   "cell_type": "code",
   "execution_count": 66,
   "metadata": {
    "collapsed": false
   },
   "outputs": [
    {
     "name": "stdout",
     "output_type": "stream",
     "text": [
      "Reuters\n"
     ]
    },
    {
     "data": {
      "text/html": [
       "<div>\n",
       "<style scoped>\n",
       "    .dataframe tbody tr th:only-of-type {\n",
       "        vertical-align: middle;\n",
       "    }\n",
       "\n",
       "    .dataframe tbody tr th {\n",
       "        vertical-align: top;\n",
       "    }\n",
       "\n",
       "    .dataframe thead th {\n",
       "        text-align: right;\n",
       "    }\n",
       "</style>\n",
       "<table border=\"1\" class=\"dataframe\">\n",
       "  <thead>\n",
       "    <tr style=\"text-align: right;\">\n",
       "      <th></th>\n",
       "      <th>#data</th>\n",
       "      <th>#empty cells(%)</th>\n",
       "      <th>Gini cells dis</th>\n",
       "      <th>H cells dis</th>\n",
       "      <th>mean #data x cell</th>\n",
       "      <th>std #data x cell</th>\n",
       "      <th>top10</th>\n",
       "      <th>Type</th>\n",
       "    </tr>\n",
       "  </thead>\n",
       "  <tbody>\n",
       "    <tr>\n",
       "      <th>0</th>\n",
       "      <td>8716</td>\n",
       "      <td>0.999998</td>\n",
       "      <td>0.999725</td>\n",
       "      <td>0.971207</td>\n",
       "      <td>1.312651</td>\n",
       "      <td>1.775203</td>\n",
       "      <td>[63, 60, 56, 39, 27, 23, 22, 18, 16, 16]</td>\n",
       "      <td>VDSH train</td>\n",
       "    </tr>\n",
       "    <tr>\n",
       "      <th>1</th>\n",
       "      <td>8716</td>\n",
       "      <td>0.999998</td>\n",
       "      <td>0.999878</td>\n",
       "      <td>0.981857</td>\n",
       "      <td>1.217488</td>\n",
       "      <td>1.138561</td>\n",
       "      <td>[39, 36, 26, 22, 20, 19, 18, 14, 13, 13]</td>\n",
       "      <td>B-VAE train</td>\n",
       "    </tr>\n",
       "    <tr>\n",
       "      <th>2</th>\n",
       "      <td>967</td>\n",
       "      <td>1.000000</td>\n",
       "      <td>0.999445</td>\n",
       "      <td>0.984872</td>\n",
       "      <td>1.136310</td>\n",
       "      <td>0.780331</td>\n",
       "      <td>[15, 12, 8, 6, 5, 5, 4, 4, 4, 3]</td>\n",
       "      <td>VDSH test</td>\n",
       "    </tr>\n",
       "    <tr>\n",
       "      <th>3</th>\n",
       "      <td>967</td>\n",
       "      <td>1.000000</td>\n",
       "      <td>0.999847</td>\n",
       "      <td>0.994713</td>\n",
       "      <td>1.061471</td>\n",
       "      <td>0.395582</td>\n",
       "      <td>[10, 4, 4, 3, 3, 3, 2, 2, 2, 2]</td>\n",
       "      <td>B-VAE test</td>\n",
       "    </tr>\n",
       "  </tbody>\n",
       "</table>\n",
       "</div>"
      ],
      "text/plain": [
       "   #data  #empty cells(%)  Gini cells dis  H cells dis  mean #data x cell  \\\n",
       "0   8716         0.999998        0.999725     0.971207           1.312651   \n",
       "1   8716         0.999998        0.999878     0.981857           1.217488   \n",
       "2    967         1.000000        0.999445     0.984872           1.136310   \n",
       "3    967         1.000000        0.999847     0.994713           1.061471   \n",
       "\n",
       "   std #data x cell                                     top10         Type  \n",
       "0          1.775203  [63, 60, 56, 39, 27, 23, 22, 18, 16, 16]   VDSH train  \n",
       "1          1.138561  [39, 36, 26, 22, 20, 19, 18, 14, 13, 13]  B-VAE train  \n",
       "2          0.780331          [15, 12, 8, 6, 5, 5, 4, 4, 4, 3]    VDSH test  \n",
       "3          0.395582           [10, 4, 4, 3, 3, 3, 2, 2, 2, 2]   B-VAE test  "
      ]
     },
     "execution_count": 66,
     "metadata": {},
     "output_type": "execute_result"
    }
   ],
   "source": [
    "#plot together--\n",
    "print(name_dat)\n",
    "compare_cells_dist(train_hash_, train_hash_B, test_hash_, test_hash_B)"
   ]
  },
  {
   "cell_type": "code",
   "execution_count": 71,
   "metadata": {
    "collapsed": false
   },
   "outputs": [
    {
     "name": "stdout",
     "output_type": "stream",
     "text": [
      "TMC\n"
     ]
    },
    {
     "data": {
      "text/html": [
       "<div>\n",
       "<style scoped>\n",
       "    .dataframe tbody tr th:only-of-type {\n",
       "        vertical-align: middle;\n",
       "    }\n",
       "\n",
       "    .dataframe tbody tr th {\n",
       "        vertical-align: top;\n",
       "    }\n",
       "\n",
       "    .dataframe thead th {\n",
       "        text-align: right;\n",
       "    }\n",
       "</style>\n",
       "<table border=\"1\" class=\"dataframe\">\n",
       "  <thead>\n",
       "    <tr style=\"text-align: right;\">\n",
       "      <th></th>\n",
       "      <th>#data</th>\n",
       "      <th>#empty cells(%)</th>\n",
       "      <th>Gini cells dis</th>\n",
       "      <th>H cells dis</th>\n",
       "      <th>mean #data x cell</th>\n",
       "      <th>std #data x cell</th>\n",
       "      <th>top10</th>\n",
       "      <th>Type</th>\n",
       "    </tr>\n",
       "  </thead>\n",
       "  <tbody>\n",
       "    <tr>\n",
       "      <th>0</th>\n",
       "      <td>24784</td>\n",
       "      <td>0.999995</td>\n",
       "      <td>0.999976</td>\n",
       "      <td>0.987607</td>\n",
       "      <td>1.215021</td>\n",
       "      <td>0.852803</td>\n",
       "      <td>[25, 21, 20, 20, 20, 19, 17, 16, 15, 14]</td>\n",
       "      <td>VDSH train</td>\n",
       "    </tr>\n",
       "    <tr>\n",
       "      <th>1</th>\n",
       "      <td>24784</td>\n",
       "      <td>0.999995</td>\n",
       "      <td>0.999996</td>\n",
       "      <td>0.997142</td>\n",
       "      <td>1.068690</td>\n",
       "      <td>0.319516</td>\n",
       "      <td>[13, 13, 12, 10, 9, 9, 7, 6, 6, 6]</td>\n",
       "      <td>B-VAE train</td>\n",
       "    </tr>\n",
       "    <tr>\n",
       "      <th>2</th>\n",
       "      <td>3498</td>\n",
       "      <td>0.999999</td>\n",
       "      <td>0.999962</td>\n",
       "      <td>0.995061</td>\n",
       "      <td>1.080964</td>\n",
       "      <td>0.377351</td>\n",
       "      <td>[6, 6, 6, 5, 5, 5, 5, 4, 4, 4]</td>\n",
       "      <td>VDSH test</td>\n",
       "    </tr>\n",
       "    <tr>\n",
       "      <th>3</th>\n",
       "      <td>3498</td>\n",
       "      <td>0.999999</td>\n",
       "      <td>0.999992</td>\n",
       "      <td>0.998823</td>\n",
       "      <td>1.021612</td>\n",
       "      <td>0.171239</td>\n",
       "      <td>[6, 4, 3, 2, 2, 2, 2, 2, 2, 2]</td>\n",
       "      <td>B-VAE test</td>\n",
       "    </tr>\n",
       "  </tbody>\n",
       "</table>\n",
       "</div>"
      ],
      "text/plain": [
       "   #data  #empty cells(%)  Gini cells dis  H cells dis  mean #data x cell  \\\n",
       "0  24784         0.999995        0.999976     0.987607           1.215021   \n",
       "1  24784         0.999995        0.999996     0.997142           1.068690   \n",
       "2   3498         0.999999        0.999962     0.995061           1.080964   \n",
       "3   3498         0.999999        0.999992     0.998823           1.021612   \n",
       "\n",
       "   std #data x cell                                     top10         Type  \n",
       "0          0.852803  [25, 21, 20, 20, 20, 19, 17, 16, 15, 14]   VDSH train  \n",
       "1          0.319516        [13, 13, 12, 10, 9, 9, 7, 6, 6, 6]  B-VAE train  \n",
       "2          0.377351            [6, 6, 6, 5, 5, 5, 5, 4, 4, 4]    VDSH test  \n",
       "3          0.171239            [6, 4, 3, 2, 2, 2, 2, 2, 2, 2]   B-VAE test  "
      ]
     },
     "execution_count": 71,
     "metadata": {},
     "output_type": "execute_result"
    }
   ],
   "source": [
    "#plot together--\n",
    "print(name_dat)\n",
    "compare_cells_dist(train_hash_, train_hash_B, test_hash_, test_hash_B)"
   ]
  },
  {
   "cell_type": "code",
   "execution_count": 76,
   "metadata": {
    "collapsed": false
   },
   "outputs": [
    {
     "name": "stdout",
     "output_type": "stream",
     "text": [
      "Snippets\n"
     ]
    },
    {
     "data": {
      "text/html": [
       "<div>\n",
       "<style scoped>\n",
       "    .dataframe tbody tr th:only-of-type {\n",
       "        vertical-align: middle;\n",
       "    }\n",
       "\n",
       "    .dataframe tbody tr th {\n",
       "        vertical-align: top;\n",
       "    }\n",
       "\n",
       "    .dataframe thead th {\n",
       "        text-align: right;\n",
       "    }\n",
       "</style>\n",
       "<table border=\"1\" class=\"dataframe\">\n",
       "  <thead>\n",
       "    <tr style=\"text-align: right;\">\n",
       "      <th></th>\n",
       "      <th>#data</th>\n",
       "      <th>#empty cells(%)</th>\n",
       "      <th>Gini cells dis</th>\n",
       "      <th>H cells dis</th>\n",
       "      <th>mean #data x cell</th>\n",
       "      <th>std #data x cell</th>\n",
       "      <th>top10</th>\n",
       "      <th>Type</th>\n",
       "    </tr>\n",
       "  </thead>\n",
       "  <tbody>\n",
       "    <tr>\n",
       "      <th>0</th>\n",
       "      <td>10060</td>\n",
       "      <td>0.999998</td>\n",
       "      <td>0.999980</td>\n",
       "      <td>0.994205</td>\n",
       "      <td>1.098373</td>\n",
       "      <td>0.469900</td>\n",
       "      <td>[15, 13, 8, 7, 7, 7, 7, 7, 7, 7]</td>\n",
       "      <td>VDSH train</td>\n",
       "    </tr>\n",
       "    <tr>\n",
       "      <th>1</th>\n",
       "      <td>10060</td>\n",
       "      <td>0.999998</td>\n",
       "      <td>0.999975</td>\n",
       "      <td>0.993307</td>\n",
       "      <td>1.104887</td>\n",
       "      <td>0.524714</td>\n",
       "      <td>[18, 15, 10, 10, 9, 9, 8, 7, 7, 7]</td>\n",
       "      <td>B-VAE train</td>\n",
       "    </tr>\n",
       "    <tr>\n",
       "      <th>2</th>\n",
       "      <td>2280</td>\n",
       "      <td>0.999999</td>\n",
       "      <td>0.999976</td>\n",
       "      <td>0.997793</td>\n",
       "      <td>1.034952</td>\n",
       "      <td>0.235625</td>\n",
       "      <td>[6, 5, 4, 3, 3, 3, 3, 3, 2, 2]</td>\n",
       "      <td>VDSH test</td>\n",
       "    </tr>\n",
       "    <tr>\n",
       "      <th>3</th>\n",
       "      <td>2280</td>\n",
       "      <td>0.999999</td>\n",
       "      <td>0.999984</td>\n",
       "      <td>0.998598</td>\n",
       "      <td>1.018767</td>\n",
       "      <td>0.190493</td>\n",
       "      <td>[5, 5, 4, 4, 3, 3, 2, 2, 2, 2]</td>\n",
       "      <td>B-VAE test</td>\n",
       "    </tr>\n",
       "  </tbody>\n",
       "</table>\n",
       "</div>"
      ],
      "text/plain": [
       "   #data  #empty cells(%)  Gini cells dis  H cells dis  mean #data x cell  \\\n",
       "0  10060         0.999998        0.999980     0.994205           1.098373   \n",
       "1  10060         0.999998        0.999975     0.993307           1.104887   \n",
       "2   2280         0.999999        0.999976     0.997793           1.034952   \n",
       "3   2280         0.999999        0.999984     0.998598           1.018767   \n",
       "\n",
       "   std #data x cell                               top10         Type  \n",
       "0          0.469900    [15, 13, 8, 7, 7, 7, 7, 7, 7, 7]   VDSH train  \n",
       "1          0.524714  [18, 15, 10, 10, 9, 9, 8, 7, 7, 7]  B-VAE train  \n",
       "2          0.235625      [6, 5, 4, 3, 3, 3, 3, 3, 2, 2]    VDSH test  \n",
       "3          0.190493      [5, 5, 4, 4, 3, 3, 2, 2, 2, 2]   B-VAE test  "
      ]
     },
     "execution_count": 76,
     "metadata": {},
     "output_type": "execute_result"
    }
   ],
   "source": [
    "#plot together--\n",
    "print(name_dat)\n",
    "compare_cells_dist(train_hash_, train_hash_B, test_hash_, test_hash_B)"
   ]
  },
  {
   "cell_type": "code",
   "execution_count": null,
   "metadata": {
    "collapsed": true
   },
   "outputs": [],
   "source": []
  },
  {
   "cell_type": "code",
   "execution_count": 54,
   "metadata": {
    "collapsed": false
   },
   "outputs": [
    {
     "name": "stdout",
     "output_type": "stream",
     "text": [
      "MNIST\n"
     ]
    },
    {
     "data": {
      "text/html": [
       "<div>\n",
       "<style scoped>\n",
       "    .dataframe tbody tr th:only-of-type {\n",
       "        vertical-align: middle;\n",
       "    }\n",
       "\n",
       "    .dataframe tbody tr th {\n",
       "        vertical-align: top;\n",
       "    }\n",
       "\n",
       "    .dataframe thead th {\n",
       "        text-align: right;\n",
       "    }\n",
       "</style>\n",
       "<table border=\"1\" class=\"dataframe\">\n",
       "  <thead>\n",
       "    <tr style=\"text-align: right;\">\n",
       "      <th></th>\n",
       "      <th>#data</th>\n",
       "      <th>#empty cells(%)</th>\n",
       "      <th>Gini cells dis</th>\n",
       "      <th>H cells dis</th>\n",
       "      <th>mean #data x cell</th>\n",
       "      <th>std #data x cell</th>\n",
       "      <th>top10</th>\n",
       "      <th>Type</th>\n",
       "    </tr>\n",
       "  </thead>\n",
       "  <tbody>\n",
       "    <tr>\n",
       "      <th>0</th>\n",
       "      <td>69000</td>\n",
       "      <td>0.999985</td>\n",
       "      <td>0.999993</td>\n",
       "      <td>0.993477</td>\n",
       "      <td>1.092256</td>\n",
       "      <td>0.708676</td>\n",
       "      <td>[63, 61, 42, 35, 30, 28, 25, 24, 22, 21]</td>\n",
       "      <td>VDSH train</td>\n",
       "    </tr>\n",
       "    <tr>\n",
       "      <th>1</th>\n",
       "      <td>69000</td>\n",
       "      <td>0.999989</td>\n",
       "      <td>0.999860</td>\n",
       "      <td>0.952822</td>\n",
       "      <td>1.490442</td>\n",
       "      <td>3.793286</td>\n",
       "      <td>[244, 233, 227, 200, 158, 145, 131, 126, 124, ...</td>\n",
       "      <td>B-VAE train</td>\n",
       "    </tr>\n",
       "    <tr>\n",
       "      <th>2</th>\n",
       "      <td>1000</td>\n",
       "      <td>1.000000</td>\n",
       "      <td>0.999996</td>\n",
       "      <td>0.999777</td>\n",
       "      <td>1.004016</td>\n",
       "      <td>0.063245</td>\n",
       "      <td>[2, 2, 2, 2, 1, 1, 1, 1, 1, 1]</td>\n",
       "      <td>VDSH test</td>\n",
       "    </tr>\n",
       "    <tr>\n",
       "      <th>3</th>\n",
       "      <td>1000</td>\n",
       "      <td>1.000000</td>\n",
       "      <td>0.999888</td>\n",
       "      <td>0.995497</td>\n",
       "      <td>1.050420</td>\n",
       "      <td>0.342353</td>\n",
       "      <td>[7, 5, 4, 4, 4, 3, 3, 3, 2, 2]</td>\n",
       "      <td>B-VAE test</td>\n",
       "    </tr>\n",
       "  </tbody>\n",
       "</table>\n",
       "</div>"
      ],
      "text/plain": [
       "   #data  #empty cells(%)  Gini cells dis  H cells dis  mean #data x cell  \\\n",
       "0  69000         0.999985        0.999993     0.993477           1.092256   \n",
       "1  69000         0.999989        0.999860     0.952822           1.490442   \n",
       "2   1000         1.000000        0.999996     0.999777           1.004016   \n",
       "3   1000         1.000000        0.999888     0.995497           1.050420   \n",
       "\n",
       "   std #data x cell                                              top10  \\\n",
       "0          0.708676           [63, 61, 42, 35, 30, 28, 25, 24, 22, 21]   \n",
       "1          3.793286  [244, 233, 227, 200, 158, 145, 131, 126, 124, ...   \n",
       "2          0.063245                     [2, 2, 2, 2, 1, 1, 1, 1, 1, 1]   \n",
       "3          0.342353                     [7, 5, 4, 4, 4, 3, 3, 3, 2, 2]   \n",
       "\n",
       "          Type  \n",
       "0   VDSH train  \n",
       "1  B-VAE train  \n",
       "2    VDSH test  \n",
       "3   B-VAE test  "
      ]
     },
     "execution_count": 54,
     "metadata": {},
     "output_type": "execute_result"
    }
   ],
   "source": [
    "#plot together--\n",
    "print(name_dat)\n",
    "compare_cells_dist(train_hash_, train_hash_B, test_hash_, test_hash_B)"
   ]
  },
  {
   "cell_type": "code",
   "execution_count": 49,
   "metadata": {
    "collapsed": false
   },
   "outputs": [
    {
     "name": "stdout",
     "output_type": "stream",
     "text": [
      "CIFAR-10\n"
     ]
    },
    {
     "data": {
      "text/html": [
       "<div>\n",
       "<style scoped>\n",
       "    .dataframe tbody tr th:only-of-type {\n",
       "        vertical-align: middle;\n",
       "    }\n",
       "\n",
       "    .dataframe tbody tr th {\n",
       "        vertical-align: top;\n",
       "    }\n",
       "\n",
       "    .dataframe thead th {\n",
       "        text-align: right;\n",
       "    }\n",
       "</style>\n",
       "<table border=\"1\" class=\"dataframe\">\n",
       "  <thead>\n",
       "    <tr style=\"text-align: right;\">\n",
       "      <th></th>\n",
       "      <th>#data</th>\n",
       "      <th>#empty cells(%)</th>\n",
       "      <th>Gini cells dis</th>\n",
       "      <th>H cells dis</th>\n",
       "      <th>mean #data x cell</th>\n",
       "      <th>std #data x cell</th>\n",
       "      <th>top10</th>\n",
       "      <th>Type</th>\n",
       "    </tr>\n",
       "  </thead>\n",
       "  <tbody>\n",
       "    <tr>\n",
       "      <th>0</th>\n",
       "      <td>58101</td>\n",
       "      <td>0.999987</td>\n",
       "      <td>1.000000</td>\n",
       "      <td>0.999457</td>\n",
       "      <td>1.010294</td>\n",
       "      <td>0.145406</td>\n",
       "      <td>[11, 9, 8, 8, 8, 8, 8, 6, 5, 5]</td>\n",
       "      <td>VDSH train</td>\n",
       "    </tr>\n",
       "    <tr>\n",
       "      <th>1</th>\n",
       "      <td>58101</td>\n",
       "      <td>0.999987</td>\n",
       "      <td>0.999994</td>\n",
       "      <td>0.996104</td>\n",
       "      <td>1.037370</td>\n",
       "      <td>0.622376</td>\n",
       "      <td>[63, 63, 46, 30, 29, 28, 26, 22, 21, 21]</td>\n",
       "      <td>B-VAE train</td>\n",
       "    </tr>\n",
       "    <tr>\n",
       "      <th>2</th>\n",
       "      <td>1899</td>\n",
       "      <td>1.000000</td>\n",
       "      <td>0.999999</td>\n",
       "      <td>0.999946</td>\n",
       "      <td>1.001054</td>\n",
       "      <td>0.032453</td>\n",
       "      <td>[2, 2, 1, 1, 1, 1, 1, 1, 1, 1]</td>\n",
       "      <td>VDSH test</td>\n",
       "    </tr>\n",
       "    <tr>\n",
       "      <th>3</th>\n",
       "      <td>1899</td>\n",
       "      <td>1.000000</td>\n",
       "      <td>0.999994</td>\n",
       "      <td>0.999584</td>\n",
       "      <td>1.004762</td>\n",
       "      <td>0.105302</td>\n",
       "      <td>[5, 2, 2, 2, 2, 2, 1, 1, 1, 1]</td>\n",
       "      <td>B-VAE test</td>\n",
       "    </tr>\n",
       "  </tbody>\n",
       "</table>\n",
       "</div>"
      ],
      "text/plain": [
       "   #data  #empty cells(%)  Gini cells dis  H cells dis  mean #data x cell  \\\n",
       "0  58101         0.999987        1.000000     0.999457           1.010294   \n",
       "1  58101         0.999987        0.999994     0.996104           1.037370   \n",
       "2   1899         1.000000        0.999999     0.999946           1.001054   \n",
       "3   1899         1.000000        0.999994     0.999584           1.004762   \n",
       "\n",
       "   std #data x cell                                     top10         Type  \n",
       "0          0.145406           [11, 9, 8, 8, 8, 8, 8, 6, 5, 5]   VDSH train  \n",
       "1          0.622376  [63, 63, 46, 30, 29, 28, 26, 22, 21, 21]  B-VAE train  \n",
       "2          0.032453            [2, 2, 1, 1, 1, 1, 1, 1, 1, 1]    VDSH test  \n",
       "3          0.105302            [5, 2, 2, 2, 2, 2, 1, 1, 1, 1]   B-VAE test  "
      ]
     },
     "execution_count": 49,
     "metadata": {},
     "output_type": "execute_result"
    }
   ],
   "source": [
    "#plot together--\n",
    "print(name_dat)\n",
    "compare_cells_dist(train_hash_, train_hash_B, test_hash_, test_hash_B)"
   ]
  },
  {
   "cell_type": "code",
   "execution_count": 44,
   "metadata": {
    "collapsed": false
   },
   "outputs": [
    {
     "name": "stdout",
     "output_type": "stream",
     "text": [
      "Nus-Wide\n"
     ]
    },
    {
     "data": {
      "text/html": [
       "<div>\n",
       "<style scoped>\n",
       "    .dataframe tbody tr th:only-of-type {\n",
       "        vertical-align: middle;\n",
       "    }\n",
       "\n",
       "    .dataframe tbody tr th {\n",
       "        vertical-align: top;\n",
       "    }\n",
       "\n",
       "    .dataframe thead th {\n",
       "        text-align: right;\n",
       "    }\n",
       "</style>\n",
       "<table border=\"1\" class=\"dataframe\">\n",
       "  <thead>\n",
       "    <tr style=\"text-align: right;\">\n",
       "      <th></th>\n",
       "      <th>#data</th>\n",
       "      <th>#empty cells(%)</th>\n",
       "      <th>Gini cells dis</th>\n",
       "      <th>H cells dis</th>\n",
       "      <th>mean #data x cell</th>\n",
       "      <th>std #data x cell</th>\n",
       "      <th>top10</th>\n",
       "      <th>Type</th>\n",
       "    </tr>\n",
       "  </thead>\n",
       "  <tbody>\n",
       "    <tr>\n",
       "      <th>0</th>\n",
       "      <td>156283</td>\n",
       "      <td>0.999966</td>\n",
       "      <td>0.999996</td>\n",
       "      <td>0.994484</td>\n",
       "      <td>1.062109</td>\n",
       "      <td>0.863122</td>\n",
       "      <td>[152, 116, 104, 76, 56, 52, 51, 40, 38, 37]</td>\n",
       "      <td>VDSH train</td>\n",
       "    </tr>\n",
       "    <tr>\n",
       "      <th>1</th>\n",
       "      <td>156283</td>\n",
       "      <td>0.999972</td>\n",
       "      <td>0.999250</td>\n",
       "      <td>0.939773</td>\n",
       "      <td>1.317321</td>\n",
       "      <td>12.428037</td>\n",
       "      <td>[3079, 1742, 1457, 1180, 737, 362, 340, 328, 3...</td>\n",
       "      <td>B-VAE train</td>\n",
       "    </tr>\n",
       "    <tr>\n",
       "      <th>2</th>\n",
       "      <td>2100</td>\n",
       "      <td>1.000000</td>\n",
       "      <td>0.999990</td>\n",
       "      <td>0.999069</td>\n",
       "      <td>1.015965</td>\n",
       "      <td>0.143346</td>\n",
       "      <td>[4, 3, 3, 2, 2, 2, 2, 2, 2, 2]</td>\n",
       "      <td>VDSH test</td>\n",
       "    </tr>\n",
       "    <tr>\n",
       "      <th>3</th>\n",
       "      <td>2100</td>\n",
       "      <td>1.000000</td>\n",
       "      <td>0.997416</td>\n",
       "      <td>0.952817</td>\n",
       "      <td>1.228789</td>\n",
       "      <td>2.581333</td>\n",
       "      <td>[83, 40, 37, 28, 18, 16, 13, 10, 9, 6]</td>\n",
       "      <td>B-VAE test</td>\n",
       "    </tr>\n",
       "  </tbody>\n",
       "</table>\n",
       "</div>"
      ],
      "text/plain": [
       "    #data  #empty cells(%)  Gini cells dis  H cells dis  mean #data x cell  \\\n",
       "0  156283         0.999966        0.999996     0.994484           1.062109   \n",
       "1  156283         0.999972        0.999250     0.939773           1.317321   \n",
       "2    2100         1.000000        0.999990     0.999069           1.015965   \n",
       "3    2100         1.000000        0.997416     0.952817           1.228789   \n",
       "\n",
       "   std #data x cell                                              top10  \\\n",
       "0          0.863122        [152, 116, 104, 76, 56, 52, 51, 40, 38, 37]   \n",
       "1         12.428037  [3079, 1742, 1457, 1180, 737, 362, 340, 328, 3...   \n",
       "2          0.143346                     [4, 3, 3, 2, 2, 2, 2, 2, 2, 2]   \n",
       "3          2.581333             [83, 40, 37, 28, 18, 16, 13, 10, 9, 6]   \n",
       "\n",
       "          Type  \n",
       "0   VDSH train  \n",
       "1  B-VAE train  \n",
       "2    VDSH test  \n",
       "3   B-VAE test  "
      ]
     },
     "execution_count": 44,
     "metadata": {},
     "output_type": "execute_result"
    }
   ],
   "source": [
    "#plot together--\n",
    "print(name_dat)\n",
    "compare_cells_dist(train_hash_, train_hash_B, test_hash_, test_hash_B)"
   ]
  },
  {
   "cell_type": "code",
   "execution_count": null,
   "metadata": {
    "collapsed": true
   },
   "outputs": [],
   "source": []
  },
  {
   "cell_type": "code",
   "execution_count": null,
   "metadata": {
    "collapsed": true
   },
   "outputs": [],
   "source": []
  },
  {
   "cell_type": "code",
   "execution_count": 34,
   "metadata": {
    "collapsed": false,
    "scrolled": true
   },
   "outputs": [
    {
     "name": "stdout",
     "output_type": "stream",
     "text": [
      "Entrenamiento----\n",
      "Cantidad de datos a llenar la tabla hash:  14683\n",
      "Cantidad de memorias ocupadas hash1:  13800\n",
      "Cantidad de memorias ocupadas hash2:  12998\n"
     ]
    },
    {
     "data": {
      "image/png": "[encoded data removed]",
      "text/plain": [
       "<matplotlib.figure.Figure at 0x7f8ba31d8588>"
      ]
     },
     "metadata": {},
     "output_type": "display_data"
    },
    {
     "name": "stdout",
     "output_type": "stream",
     "text": [
      "Pruebas-----\n",
      "Cantidad de datos a llenar la tabla hash:  3668\n",
      "Cantidad de memorias ocupadas hash1:  3591\n",
      "Cantidad de memorias ocupadas hash2:  3406\n"
     ]
    },
    {
     "data": {
      "image/png": "[encoded data removed]",
      "text/plain": [
       "<matplotlib.figure.Figure at 0x7f8a9c036b70>"
      ]
     },
     "metadata": {},
     "output_type": "display_data"
    }
   ],
   "source": [
    "compare_cells_plot(BITS_S,train_hash_B, train_hash_, test_hash_B, test_hash_)"
   ]
  },
  {
   "cell_type": "code",
   "execution_count": null,
   "metadata": {
    "collapsed": true
   },
   "outputs": [],
   "source": []
  }
 ],
 "metadata": {
  "anaconda-cloud": {},
  "kernelspec": {
   "display_name": "Python [conda env:tesis]",
   "language": "python",
   "name": "conda-env-tesis-py"
  },
  "language_info": {
   "codemirror_mode": {
    "name": "ipython",
    "version": 3
   },
   "file_extension": ".py",
   "mimetype": "text/x-python",
   "name": "python",
   "nbconvert_exporter": "python",
   "pygments_lexer": "ipython3",
   "version": "3.5.3"
  }
 },
 "nbformat": 4,
 "nbformat_minor": 1
}
